{
 "cells": [
  {
   "cell_type": "code",
   "execution_count": 1,
   "outputs": [
    {
     "name": "stdout",
     "output_type": "stream",
     "text": [
      "{'hour_0': range(1, 25), 'action_0': [-0.1, -0.08, -0.06, -0.04, -0.02, 0.0, 0.02, 0.04, 0.06, 0.08]}\n"
     ]
    }
   ],
   "source": [
    "search_space = {\n",
    "    \"hour_0\": range(1, 25),\n",
    "    # \"hour_1\": range(1, 25),\n",
    "    # \"hour_2\": range(1, 25),\n",
    "    # \"hour_3\": range(1, 25),\n",
    "    \"action_0\": [x / 50.0 for x in range(-20, 20, 1)[15:25]],\n",
    "    # \"action_1\": [x / 50.0 for x in range(-20, 20, 1)[15:25]],\n",
    "    # \"action_2\": [x / 50.0 for x in range(-20, 20, 1)[15:25]],\n",
    "    # \"action_3\": [x / 50.0 for x in range(-20, 20, 1)[15:25]],\n",
    "}\n",
    "print(search_space)"
   ],
   "metadata": {
    "collapsed": false,
    "pycharm": {
     "name": "#%%\n"
    }
   }
  },
  {
   "cell_type": "code",
   "execution_count": 2,
   "outputs": [
    {
     "name": "stdout",
     "output_type": "stream",
     "text": [
      "{'hour_0': range(1, 25), 'action_0': [-0.1, -0.08, -0.06, -0.04, -0.02, 0.0, 0.02, 0.04, 0.06, 0.08]}\n"
     ]
    },
    {
     "ename": "ModuleNotFoundError",
     "evalue": "No module named 'hyperopt'",
     "output_type": "error",
     "traceback": [
      "\u001B[1;31m---------------------------------------------------------------------------\u001B[0m",
      "\u001B[1;31mModuleNotFoundError\u001B[0m                       Traceback (most recent call last)",
      "Cell \u001B[1;32mIn [2], line 2\u001B[0m\n\u001B[0;32m      1\u001B[0m \u001B[38;5;28mprint\u001B[39m(search_space)\n\u001B[1;32m----> 2\u001B[0m \u001B[38;5;28;01mfrom\u001B[39;00m \u001B[38;5;21;01mtraineval\u001B[39;00m\u001B[38;5;21;01m.\u001B[39;00m\u001B[38;5;21;01mevaluation\u001B[39;00m\u001B[38;5;21;01m.\u001B[39;00m\u001B[38;5;21;01mtune_evaluation\u001B[39;00m \u001B[38;5;28;01mimport\u001B[39;00m evaluate\n\u001B[0;32m      4\u001B[0m hours \u001B[38;5;241m=\u001B[39m \u001B[38;5;28mrange\u001B[39m(\u001B[38;5;241m1\u001B[39m, \u001B[38;5;241m25\u001B[39m)\n\u001B[0;32m      5\u001B[0m actions \u001B[38;5;241m=\u001B[39m [x \u001B[38;5;241m/\u001B[39m \u001B[38;5;241m50.0\u001B[39m \u001B[38;5;28;01mfor\u001B[39;00m x \u001B[38;5;129;01min\u001B[39;00m \u001B[38;5;28mrange\u001B[39m(\u001B[38;5;241m-\u001B[39m\u001B[38;5;241m20\u001B[39m, \u001B[38;5;241m20\u001B[39m, \u001B[38;5;241m1\u001B[39m)[\u001B[38;5;241m15\u001B[39m:\u001B[38;5;241m25\u001B[39m]]\n",
      "File \u001B[1;32m~\\Storage\\Epoch\\citylearn-2022-starter-kit\\traineval\\evaluation\\tune_evaluation.py:5\u001B[0m\n\u001B[0;32m      2\u001B[0m \u001B[38;5;28;01mimport\u001B[39;00m \u001B[38;5;21;01mtime\u001B[39;00m\n\u001B[0;32m      4\u001B[0m \u001B[38;5;28;01mimport\u001B[39;00m \u001B[38;5;21;01mnumpy\u001B[39;00m \u001B[38;5;28;01mas\u001B[39;00m \u001B[38;5;21;01mnp\u001B[39;00m\n\u001B[1;32m----> 5\u001B[0m \u001B[38;5;28;01mfrom\u001B[39;00m \u001B[38;5;21;01mhyperopt\u001B[39;00m \u001B[38;5;28;01mimport\u001B[39;00m fmin, hp, tpe, SparkTrials, STATUS_OK\n\u001B[0;32m      6\u001B[0m \u001B[38;5;28;01mfrom\u001B[39;00m \u001B[38;5;21;01mtqdm\u001B[39;00m \u001B[38;5;28;01mimport\u001B[39;00m tqdm\n\u001B[0;32m      8\u001B[0m \u001B[38;5;124;03m\"\"\"\u001B[39;00m\n\u001B[0;32m      9\u001B[0m \u001B[38;5;124;03mPlease do not make changes to this file. \u001B[39;00m\n\u001B[0;32m     10\u001B[0m \u001B[38;5;124;03mThis is only a reference script provided to allow you \u001B[39;00m\n\u001B[0;32m     11\u001B[0m \u001B[38;5;124;03mto do local evaluation. The evaluator **DOES NOT** \u001B[39;00m\n\u001B[0;32m     12\u001B[0m \u001B[38;5;124;03muse this script for orchestrating the evaluations. \u001B[39;00m\n\u001B[0;32m     13\u001B[0m \u001B[38;5;124;03m\"\"\"\u001B[39;00m\n",
      "\u001B[1;31mModuleNotFoundError\u001B[0m: No module named 'hyperopt'"
     ]
    }
   ],
   "source": [
    "print(search_space)\n",
    "from traineval.evaluation.tune_evaluation import evaluate\n",
    "\n",
    "hours = range(1, 25)\n",
    "actions = [x / 50.0 for x in range(-20, 20, 1)[15:25]]\n",
    "\n",
    "from multiprocessing import Pool, cpu_count\n",
    "\n",
    "all_scores = {}\n",
    "pool = Pool(processes=(cpu_count() - 6))\n",
    "\n",
    "for i in range(len(hours)):\n",
    "    for j in range(len(actions)):\n",
    "        params = {\"hour_0\": hours[i],\n",
    "                  \"action_0\": actions[j]}\n",
    "        results = pool.apply_async(evaluate, args=(params))\n",
    "        all_scores[str(params)] = results.get()\n",
    "pool.close()\n",
    "pool.join()\n",
    "\n",
    "# for i in range(len(hours)):\n",
    "#     for j in range(len(actions)):\n",
    "#         params = {\"hour_0\": hours[i],\n",
    "#                   \"action_0\": actions[j]}\n",
    "#         loss = evaluate(params)\n",
    "#         all_scores[str(params)] = loss\n",
    "#         print(str(params))\n",
    "#         print(loss)\n",
    "\n",
    "all_scores"
   ],
   "metadata": {
    "collapsed": false,
    "pycharm": {
     "name": "#%%\n"
    }
   }
  },
  {
   "cell_type": "code",
   "execution_count": null,
   "outputs": [],
   "source": [],
   "metadata": {
    "collapsed": false,
    "pycharm": {
     "is_executing": true,
     "name": "#%%\n"
    }
   }
  },
  {
   "cell_type": "code",
   "execution_count": null,
   "outputs": [],
   "source": [],
   "metadata": {
    "collapsed": false,
    "pycharm": {
     "name": "#%%\n"
    }
   }
  }
 ],
 "metadata": {
  "kernelspec": {
   "display_name": "Python 3",
   "language": "python",
   "name": "python3"
  },
  "language_info": {
   "codemirror_mode": {
    "name": "ipython",
    "version": 2
   },
   "file_extension": ".py",
   "mimetype": "text/x-python",
   "name": "python",
   "nbconvert_exporter": "python",
   "pygments_lexer": "ipython2",
   "version": "2.7.6"
  }
 },
 "nbformat": 4,
 "nbformat_minor": 0
}