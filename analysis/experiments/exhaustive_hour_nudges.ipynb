{
 "cells": [
  {
   "cell_type": "code",
   "execution_count": 1,
   "outputs": [
    {
     "name": "stdout",
     "output_type": "stream",
     "text": [
      "{'hour_0': range(1, 25), 'action_0': [-0.1, -0.08, -0.06, -0.04, -0.02, 0.0, 0.02, 0.04, 0.06, 0.08]}\n"
     ]
    }
   ],
   "source": [
    "search_space = {\n",
    "    \"hour_0\": range(1, 25),\n",
    "    # \"hour_1\": range(1, 25),\n",
    "    # \"hour_2\": range(1, 25),\n",
    "    # \"hour_3\": range(1, 25),\n",
    "    \"action_0\": [x / 50.0 for x in range(-20, 20, 1)[15:25]],\n",
    "    # \"action_1\": [x / 50.0 for x in range(-20, 20, 1)[15:25]],\n",
    "    # \"action_2\": [x / 50.0 for x in range(-20, 20, 1)[15:25]],\n",
    "    # \"action_3\": [x / 50.0 for x in range(-20, 20, 1)[15:25]],\n",
    "}\n",
    "print(search_space)"
   ],
   "metadata": {
    "collapsed": false,
    "pycharm": {
     "name": "#%%\n"
    }
   }
  },
  {
   "cell_type": "code",
   "execution_count": 5,
   "outputs": [
    {
     "name": "stdout",
     "output_type": "stream",
     "text": [
      "{'hour_0': range(1, 25), 'action_0': [-0.1, -0.08, -0.06, -0.04, -0.02, 0.0, 0.02, 0.04, 0.06, 0.08]}\n"
     ]
    },
    {
     "ename": "TypeError",
     "evalue": "string indices must be integers",
     "output_type": "error",
     "traceback": [
      "\u001B[1;31m---------------------------------------------------------------------------\u001B[0m",
      "\u001B[1;31mRemoteTraceback\u001B[0m                           Traceback (most recent call last)",
      "\u001B[1;31mRemoteTraceback\u001B[0m: \n\"\"\"\nTraceback (most recent call last):\n  File \"C:\\Program Files\\Python\\lib\\multiprocessing\\pool.py\", line 125, in worker\n    result = (True, func(*args, **kwds))\n  File \"C:\\Users\\philip\\Storage\\Epoch\\citylearn-2022-starter-kit\\traineval\\evaluation\\tune_evaluation.py\", line 108, in evaluate\n    actions = agent.compute_action(observations)\n  File \"C:\\Users\\philip\\Storage\\Epoch\\citylearn-2022-starter-kit\\agents\\tunable_agents\\tuning_wrapper.py\", line 62, in compute_action\n    actions.append(self.agent.compute_action(observation, agent_id))\n  File \"C:\\Users\\philip\\Storage\\Epoch\\citylearn-2022-starter-kit\\agents\\tunable_agents\\tunable_timestep_pred_consumption_agent_peak.py\", line 208, in compute_action\n    self.pred_consumption_policy(observation, building_timestep, agent_id,\n  File \"C:\\Users\\philip\\Storage\\Epoch\\citylearn-2022-starter-kit\\agents\\tunable_agents\\tunable_timestep_pred_consumption_agent_peak.py\", line 265, in pred_consumption_policy\n    action += self.nudge_action(observation[2])\n  File \"C:\\Users\\philip\\Storage\\Epoch\\citylearn-2022-starter-kit\\agents\\tunable_agents\\tunable_timestep_pred_consumption_agent_peak.py\", line 305, in nudge_action\n    if hour == self.params[\"hour_0\"]:\nTypeError: string indices must be integers\n\"\"\"",
      "\nThe above exception was the direct cause of the following exception:\n",
      "\u001B[1;31mTypeError\u001B[0m                                 Traceback (most recent call last)",
      "Cell \u001B[1;32mIn [5], line 17\u001B[0m\n\u001B[0;32m     14\u001B[0m         params \u001B[38;5;241m=\u001B[39m {\u001B[38;5;124m\"\u001B[39m\u001B[38;5;124mhour_0\u001B[39m\u001B[38;5;124m\"\u001B[39m: hours[i],\n\u001B[0;32m     15\u001B[0m                   \u001B[38;5;124m\"\u001B[39m\u001B[38;5;124maction_0\u001B[39m\u001B[38;5;124m\"\u001B[39m: actions[j]}\n\u001B[0;32m     16\u001B[0m         results \u001B[38;5;241m=\u001B[39m pool\u001B[38;5;241m.\u001B[39mapply_async(evaluate, args\u001B[38;5;241m=\u001B[39mparams)\n\u001B[1;32m---> 17\u001B[0m         result \u001B[38;5;241m=\u001B[39m \u001B[43mresults\u001B[49m\u001B[38;5;241;43m.\u001B[39;49m\u001B[43mget\u001B[49m\u001B[43m(\u001B[49m\u001B[43m)\u001B[49m\n\u001B[0;32m     18\u001B[0m         all_scores[\u001B[38;5;28mstr\u001B[39m(params)] \u001B[38;5;241m=\u001B[39m result\n\u001B[0;32m     19\u001B[0m pool\u001B[38;5;241m.\u001B[39mclose()\n",
      "File \u001B[1;32mC:\\Program Files\\Python\\lib\\multiprocessing\\pool.py:771\u001B[0m, in \u001B[0;36mApplyResult.get\u001B[1;34m(self, timeout)\u001B[0m\n\u001B[0;32m    769\u001B[0m     \u001B[38;5;28;01mreturn\u001B[39;00m \u001B[38;5;28mself\u001B[39m\u001B[38;5;241m.\u001B[39m_value\n\u001B[0;32m    770\u001B[0m \u001B[38;5;28;01melse\u001B[39;00m:\n\u001B[1;32m--> 771\u001B[0m     \u001B[38;5;28;01mraise\u001B[39;00m \u001B[38;5;28mself\u001B[39m\u001B[38;5;241m.\u001B[39m_value\n",
      "\u001B[1;31mTypeError\u001B[0m: string indices must be integers"
     ]
    }
   ],
   "source": [
    "print(search_space)\n",
    "from traineval.evaluation.tune_evaluation import evaluate\n",
    "\n",
    "hours = range(1, 25)\n",
    "actions = [x / 50.0 for x in range(-20, 20, 1)[15:25]]\n",
    "\n",
    "from multiprocessing import Pool, cpu_count\n",
    "\n",
    "all_scores = {}\n",
    "with Pool(processes=(cpu_count() - 6)) as pool:\n",
    "    for i in range(len(hours)):\n",
    "        for j in range(len(actions)):\n",
    "            params = {\"hour_0\": hours[i],\n",
    "                      \"action_0\": actions[j]}\n",
    "            async_result = pool.map_async(evaluate, args=params)\n",
    "            results = async_result.get()\n",
    "            all_scores[str(params)] = results\n",
    "\n",
    "# for i in range(len(hours)):\n",
    "#     for j in range(len(actions)):\n",
    "#         params = {\"hour_0\": hours[i],\n",
    "#                   \"action_0\": actions[j]}\n",
    "#         loss = evaluate(params)\n",
    "#         all_scores[str(params)] = loss\n",
    "#         print(str(params))\n",
    "#         print(loss)\n",
    "\n",
    "all_scores"
   ],
   "metadata": {
    "collapsed": false,
    "pycharm": {
     "name": "#%%\n"
    }
   }
  },
  {
   "cell_type": "code",
   "execution_count": null,
   "outputs": [],
   "source": [],
   "metadata": {
    "collapsed": false,
    "pycharm": {
     "name": "#%%\n"
    }
   }
  },
  {
   "cell_type": "code",
   "execution_count": null,
   "outputs": [],
   "source": [],
   "metadata": {
    "collapsed": false,
    "pycharm": {
     "name": "#%%\n"
    }
   }
  }
 ],
 "metadata": {
  "kernelspec": {
   "display_name": "Python 3",
   "language": "python",
   "name": "python3"
  },
  "language_info": {
   "codemirror_mode": {
    "name": "ipython",
    "version": 2
   },
   "file_extension": ".py",
   "mimetype": "text/x-python",
   "name": "python",
   "nbconvert_exporter": "python",
   "pygments_lexer": "ipython2",
   "version": "2.7.6"
  }
 },
 "nbformat": 4,
 "nbformat_minor": 0
}