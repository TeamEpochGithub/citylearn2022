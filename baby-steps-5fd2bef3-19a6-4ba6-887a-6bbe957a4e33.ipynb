{
 "cells": [
  {
   "cell_type": "markdown",
   "metadata": {
    "pycharm": {
     "name": "#%% md\n"
    }
   },
   "source": [
    "# BABY STEPS - Getting Started\n",
    "\n",
    "```\n",
    "Author: Chia E Tungom\n",
    "Email: bamtungom@protonmail.com\n",
    "```\n",
    "\n",
    "This Notebook demonstrates the basic facets of the CityLearn Environment. You can play with it to get familiar with the environment.\n",
    "Important aspects of the environment that covered include include:\n",
    "\n",
    "1. Observation Space (dataset)\n",
    "\n",
    "2. Action Space (discrete or continous)\n",
    "\n",
    "3. Model (Policy)\n",
    "\n",
    "4. Action (steps)\n",
    "\n",
    "5. Evaluation (reward)\n",
    "\n",
    "We use general purpose functions common to most RL environments for illustration.\n",
    "\n",
    "__Note:__ To run this notebook, place it in the root directory of your CityLearn Phase one repository (same directory as requirements.txt)\n",
    "\n",
    "__Lets Goooooo!!!__"
   ]
  },
  {
   "cell_type": "code",
   "execution_count": 10,
   "metadata": {
    "pycharm": {
     "name": "#%%\n"
    }
   },
   "outputs": [],
   "source": [
    "import numpy as np\n",
    "import time\n",
    "\n",
    "\"\"\"\n",
    "Please do not make changes to this file. \n",
    "This is only a reference script provided to allow you \n",
    "to do local evaluation. The evaluator **DOES NOT** \n",
    "use this script for orchestrating the evaluations. \n",
    "\"\"\"\n",
    "\n",
    "# to avoid crashes but might cause results to be different \n",
    "# https://github.com/dmlc/xgboost/issues/1715\n",
    "\n",
    "# import os\n",
    "# os.environ['KMP_DUPLICATE_LIB_OK']='True'\n",
    "\n",
    "\n",
    "from agents.orderenforcingwrapper import OrderEnforcingAgent\n",
    "from citylearn.citylearn import CityLearnEnv"
   ]
  },
  {
   "cell_type": "code",
   "execution_count": 11,
   "metadata": {
    "pycharm": {
     "name": "#%%\n"
    }
   },
   "outputs": [],
   "source": [
    "# Custom configure enviroment \n",
    "class Constants:\n",
    "    episodes = 3\n",
    "    schema_path = './data/citylearn_challenge_2022_phase_1/schema.json'\n",
    "\n",
    "def action_space_to_dict(aspace):\n",
    "    \"\"\" Only for box space \"\"\"\n",
    "    return { \"high\": aspace.high,\n",
    "             \"low\": aspace.low,\n",
    "             \"shape\": aspace.shape,\n",
    "             \"dtype\": str(aspace.dtype)\n",
    "    }\n",
    "\n",
    "def env_reset(env):\n",
    "    observations = env.reset()\n",
    "    action_space = env.action_space\n",
    "    observation_space = env.observation_space\n",
    "    building_info = env.get_building_information()\n",
    "    building_info = list(building_info.values())\n",
    "    action_space_dicts = [action_space_to_dict(asp) for asp in action_space]\n",
    "    observation_space_dicts = [action_space_to_dict(osp) for osp in observation_space]\n",
    "    obs_dict = {\"action_space\": action_space_dicts,\n",
    "                \"observation_space\": observation_space_dicts,\n",
    "                \"building_info\": building_info,\n",
    "                \"observation\": observations }\n",
    "    return obs_dict\n"
   ]
  },
  {
   "cell_type": "markdown",
   "metadata": {
    "pycharm": {
     "name": "#%% md\n"
    }
   },
   "source": [
    "# 1. Define Environment\n",
    "\n",
    "The first thing we need to do is create a CityLearn environment. The environment is defined using a json schema and dataset which can be found in the data directory."
   ]
  },
  {
   "cell_type": "code",
   "execution_count": 12,
   "metadata": {
    "pycharm": {
     "name": "#%%\n"
    }
   },
   "outputs": [],
   "source": [
    "# Understand CityLearn Environment\n",
    "\n",
    "env = CityLearnEnv(schema=Constants.schema_path)\n"
   ]
  },
  {
   "cell_type": "markdown",
   "metadata": {
    "pycharm": {
     "name": "#%% md\n"
    }
   },
   "source": [
    "# 2. OBSERVATION SPACE\n",
    "\n",
    "The observation space is the data of the environment. This is what the agent sees inorder to decide which action to take.\n",
    "\n",
    "Based on our environment the observation space is 5 dimensional corresponding to the number of buildings. Each building has it's own observation which is a 28 dimension 1D array. The 1D array stands for an observation at one point in time. Therefore our environment is a `5x28` array\n",
    "\n",
    "1. Use `env.observation_space` to explore the entire environment\n",
    "2. Use `env.observation_space[index]` to explore the environment of a particular building (index 0 for building 1)"
   ]
  },
  {
   "cell_type": "code",
   "execution_count": 14,
   "metadata": {
    "pycharm": {
     "name": "#%%\n"
    }
   },
   "outputs": [
    {
     "name": "stdout",
     "output_type": "stream",
     "text": [
      " SAMPLE OBSERVATION SPACE for Building ONE >>> (28, array([ 4.5994129e+00,  3.7707541e+00,  9.2616472e+00,  5.5031018e+00,\n",
      "        9.2577763e+00,  1.2224655e+01,  2.2459459e+01,  4.0382206e+01,\n",
      "        2.0660072e+01,  2.4090231e+01,  6.9670822e+01,  2.0151016e+02,\n",
      "        2.8093616e+02,  5.4014777e+02,  9.1809746e+01,  1.6705385e+02,\n",
      "        1.8943866e+02,  1.5835732e+02,  6.4475922e+02, -5.4810065e-01,\n",
      "        6.8742189e+00,  7.3970886e+02,  1.1284140e+00, -6.3201172e+02,\n",
      "        1.5880246e-01,  1.3071014e+00, -2.8782368e-01,  1.1299089e+00],\n",
      "      dtype=float32))\n",
      " SAMPLE OBSERVATION SPACE for Building ONE >>> (28, array([ 1.6356783e+00,  3.8642213e+00,  6.7504554e+00,  2.4789825e+01,\n",
      "        6.9258142e+00,  1.4694134e+01,  8.3297358e+00,  4.8922955e+01,\n",
      "        6.8342560e+01,  1.2960515e+01,  3.8721535e+01,  8.0463885e+02,\n",
      "        9.3382025e+02,  1.7590161e+02,  5.8125128e+02,  4.3268390e+02,\n",
      "        2.6541940e+02,  9.5202417e+02,  5.1068390e+02, -2.9441330e-01,\n",
      "        3.3288636e+00,  7.8207416e+02,  3.1412363e-01, -6.9205109e+02,\n",
      "       -5.1460093e-01, -7.0758098e-01,  5.3627479e-01, -6.8231624e-01],\n",
      "      dtype=float32))\n",
      " SAMPLE OBSERVATION SPACE for Building ONE >>> (28, array([ 9.0062761e+00,  4.4633598e+00,  1.0597886e+01,  2.9990770e+01,\n",
      "        1.8817974e+01,  2.2085613e+01,  1.8180824e+01,  1.9174366e+01,\n",
      "        5.4864002e+01,  9.9839611e+00,  7.2045685e+01,  1.3625229e+02,\n",
      "        4.5050208e+02,  3.7809155e+02,  9.7660229e+02,  8.3442834e+02,\n",
      "        3.8686432e+01,  3.4926254e+02,  2.4477605e+02,  9.3650657e-01,\n",
      "        5.6223369e+00,  2.4434290e+02,  1.5661395e+00, -6.8216705e+02,\n",
      "        1.1855861e+00,  2.8298488e-01,  1.4210451e+00,  2.0953880e-01],\n",
      "      dtype=float32))\n",
      " SAMPLE OBSERVATION SPACE for Building ONE >>> (28, array([ 1.0774387e+01,  5.5461049e+00,  1.0928832e+01,  2.1948505e+01,\n",
      "        1.0629478e+01,  7.4119811e+00,  2.8080744e+01,  2.4584032e+01,\n",
      "        9.0857170e+01,  8.1676880e+01,  7.6767448e+01,  7.6862250e+02,\n",
      "        5.6398053e+02,  9.9897943e+02,  2.4293657e+02,  3.8231583e+02,\n",
      "        8.5163007e+02,  3.9621390e+02,  6.3855798e+02, -3.2845205e-01,\n",
      "        2.5984757e+00,  1.9006229e+02,  1.3927400e+00,  4.6711224e+02,\n",
      "       -2.9269955e-03,  9.5378077e-01,  1.0272386e+00, -3.2522154e-01],\n",
      "      dtype=float32))\n",
      " SAMPLE OBSERVATION SPACE for Building ONE >>> (28, array([ 2.4557796e+00,  2.6242898e+00,  2.8955650e+00,  3.0865183e+01,\n",
      "        3.1743387e+01,  2.1028429e+01,  9.4663048e+00,  1.0255730e+01,\n",
      "        2.1168203e+01,  8.3297142e+01,  9.0178627e+01,  7.3713544e+02,\n",
      "        1.0854077e+02,  8.6538574e+02,  6.0049213e+02,  1.6747830e+02,\n",
      "        2.5875739e+02,  4.8246008e+02,  5.6182135e+02, -6.1161697e-01,\n",
      "       -3.1520033e-01,  1.8385335e+02,  4.2709470e-01,  4.6301901e+02,\n",
      "        6.1119320e-03, -6.7202365e-01,  6.5985119e-01,  1.4388149e+00],\n",
      "      dtype=float32))\n"
     ]
    }
   ],
   "source": [
    "# There is an action space for every building\n",
    "# print(f' OBSERVATION SPACES {env.observation_space}')\n",
    "# print(f' OBSERVATION SPACE for Builiding ONE is {env.observation_space[0]}')\n",
    "\n",
    "# sample some actions\n",
    "for building in range(5):\n",
    "    print(f' SAMPLE OBSERVATION SPACE for Building ONE >>> {len(env.observation_space[building].sample()), env.observation_space[building].sample()}')\n",
    "\n",
    "# we can see the observations are a 28 1D numpy array with every dimension defined by the range given in the spaces BOX "
   ]
  },
  {
   "cell_type": "markdown",
   "metadata": {
    "pycharm": {
     "name": "#%% md\n"
    }
   },
   "source": [
    "# 3. ACTION SPACE\n",
    "\n",
    "This shows us the type of actions we can take along with the dimension and property (discrete of continuous) of each actions. In the citylearn challenge, the actions are continous and one dimensional in the range [-1,1] for each building. 1 means charging and -1 means discharging.\n",
    "\n",
    "- Based on our environment, the action space is a 5 dimensional array with each array corresponding to the action space of a building.\n",
    "- one array is of the form `[(-1,1), (1,), float32]` which correspond to `[(lower bound, upper bound), (dimension,), datatype]`\n",
    "- __lower bound__ is the lowest or smallest value of an action while __upper bound__ is the highest.\n",
    "- Dimension stands for  of our action which here is 1 (use `action_space.sample()` to see an action)\n",
    "- Datatype is the data type of our action which here is float\n",
    "\n",
    "The cell below illustrates the action space(s). Play with it for understanding the actions.\n",
    "\n",
    "`action_space.sample` produces a random actions\n",
    "\n",
    "Note: You must pick an action space of a given building inorder to sample (use index e.g `action_space[0]`)"
   ]
  },
  {
   "cell_type": "code",
   "execution_count": 26,
   "outputs": [],
   "source": [
    "# env.action_space[1].sample()"
   ],
   "metadata": {
    "collapsed": false,
    "pycharm": {
     "name": "#%%\n"
    }
   }
  },
  {
   "cell_type": "code",
   "execution_count": 27,
   "metadata": {
    "pycharm": {
     "name": "#%%\n"
    }
   },
   "outputs": [
    {
     "name": "stdout",
     "output_type": "stream",
     "text": [
      " ACTION SPACES [Box(-1.0, 1.0, (1,), float32), Box(-1.0, 1.0, (1,), float32), Box(-1.0, 1.0, (1,), float32), Box(-1.0, 1.0, (1,), float32), Box(-1.0, 1.0, (1,), float32)]\n",
      " ACTION SPACE for Builiding ONE is Box(-1.0, 1.0, (1,), float32)\n",
      " SAMPLE ACTION SPACE for Builiding ONE >>> [-0.70604396]\n",
      " SAMPLE ACTION SPACE for Builiding ONE >>> [-0.77562183]\n",
      " SAMPLE ACTION SPACE for Builiding ONE >>> [-0.6521643]\n",
      " SAMPLE ACTION SPACE for Builiding ONE >>> [0.05407553]\n",
      " SAMPLE ACTION SPACE for Builiding ONE >>> [-0.02029579]\n"
     ]
    }
   ],
   "source": [
    "# There is an action space for every building\n",
    "print(f' ACTION SPACES {env.action_space}')\n",
    "print(f' ACTION SPACE for Builiding ONE is {env.action_space[0]}')\n",
    "\n",
    "# sample some actions\n",
    "for action in range(5):\n",
    "    print(f' SAMPLE ACTION SPACE for Builiding ONE >>> {env.action_space[1].sample()}')\n",
    "\n",
    "# we can observe the actions are continous in the range [-1,1]"
   ]
  },
  {
   "cell_type": "markdown",
   "metadata": {
    "pycharm": {
     "name": "#%% md\n"
    }
   },
   "source": [
    "# 4. Define A Model or Agent \n",
    "\n",
    "The agent is the Policy which decides what action to take given an observation. We can use Rule based actions(agents). The CityLearn setting is built for multiagent systems but a single agent can also be used.\n",
    "\n",
    "Here we just show how to load an agent "
   ]
  },
  {
   "cell_type": "code",
   "execution_count": 28,
   "metadata": {
    "pycharm": {
     "name": "#%%\n"
    }
   },
   "outputs": [],
   "source": [
    "from citylearn.agents.sac import SAC\n",
    "\n",
    "# SAC??"
   ]
  },
  {
   "cell_type": "markdown",
   "metadata": {
    "pycharm": {
     "name": "#%% md\n"
    }
   },
   "source": [
    "# 5. TAKING AN ACTION\n",
    "\n",
    "As already explained with the action spaces, $n$ buildings will have $n$ actions with each action corresponding to one building. Therefore our actions should appear as follows\n",
    "\n",
    "- Action should be a List containing tuples(number of buildings). Inside the tuple is a list containing the action corresponding to the action to be taken for a given building\n",
    "- Example for a five buildings environment, we could have.\n",
    "\n",
    "``` python\n",
    "\n",
    "Actions = [ ([0.0]), ([0.0]), ([0.0]), ([0.0]), ([0.0]) ]\n",
    "\n",
    "```\n",
    "A list of list is also acceptable\n",
    "\n",
    "``` python\n",
    "\n",
    "Actions = [ [0.0], [0.0], [0.0], [0.0], [0.0] ]\n",
    "\n",
    "```\n",
    "\n",
    "We take an action when we want to move one step ahead. We can do this using `env.step(action)`\n",
    "\n",
    "When we take an action the output contains a tuple with the following:\n",
    "\n",
    "1. Next State\n",
    "2. Reward\n",
    "3. If the state is a Terminal State\n",
    "4. Information about the environment \n"
   ]
  },
  {
   "cell_type": "code",
   "execution_count": 7,
   "metadata": {
    "pycharm": {
     "name": "#%%\n"
    }
   },
   "outputs": [
    {
     "name": "stdout",
     "output_type": "stream",
     "text": [
      " WE are about to take [[0.2562346777804527], [-0.06318111831231477], [0.8458174785046355], [-0.5422101607408161], [0.25202092295158907]] \n",
      "\n",
      " NEXT STATE \n",
      " [[8, 1, 1, 20.1, 19.4, 22.8, 19.4, 79.0, 79.0, 71.0, 87.0, 0.0, 201.0, 966.0, 0.0, 0.0, 444.0, 747.0, 0.0, 0.1573190581037597, 0.8511666666666671, 0.0, 0.23412847854639585, 2.4910686044615646, 0.22, 0.22, 0.22, 0.22], [8, 1, 1, 20.1, 19.4, 22.8, 19.4, 79.0, 79.0, 71.0, 87.0, 0.0, 201.0, 966.0, 0.0, 0.0, 444.0, 747.0, 0.0, 0.1573190581037597, 1.3706666666666665, 0.0, 0.0, 1.3706666666666665, 0.22, 0.22, 0.22, 0.22], [8, 1, 1, 20.1, 19.4, 22.8, 19.4, 79.0, 79.0, 71.0, 87.0, 0.0, 201.0, 966.0, 0.0, 0.0, 444.0, 747.0, 0.0, 0.1573190581037597, 1.0185241699218762e-07, 0.0, 0.7202769107260067, 5.000000101852417, 0.22, 0.22, 0.22, 0.22], [8, 1, 1, 20.1, 19.4, 22.8, 19.4, 79.0, 79.0, 71.0, 87.0, 0.0, 201.0, 966.0, 0.0, 0.0, 444.0, 747.0, 0.0, 0.1573190581037597, 1.9281666666666664, 0.0, 0.0, 1.9281666666666664, 0.22, 0.22, 0.22, 0.22], [8, 1, 1, 20.1, 19.4, 22.8, 19.4, 79.0, 79.0, 71.0, 87.0, 0.0, 201.0, 966.0, 0.0, 0.0, 444.0, 747.0, 0.0, 0.1573190581037597, 0.5158833333333334, 0.0, 0.23014805225059506, 2.1288172402235035, 0.22, 0.22, 0.22, 0.22]] \n",
      "\n",
      " REWARDS [-0.93992766 -0.51717866 -1.88659533 -0.72753403 -0.80324332] \n",
      "\n",
      " TERMINAL OR NOT >> False \n",
      "\n",
      " INFO {}\n"
     ]
    }
   ],
   "source": [
    "# print(env_reset(env)[\"action_space\"])\n",
    "# env_reset(env)[\"observation_space\"]\n",
    "# env.reset()[0]\n",
    "\n",
    "import random\n",
    "Actions = [([random.uniform(-1,1)]) for _ in range(5)]\n",
    "print(f' WE are about to take {Actions} \\n')\n",
    "next_state, reward, terminal, info = env.step(Actions)\n",
    "\n",
    "print(f' NEXT STATE \\n {next_state} \\n')\n",
    "print(f' REWARDS {reward} \\n')\n",
    "print(f' TERMINAL OR NOT >> {terminal} \\n')\n",
    "print(f' INFO {info}')\n",
    "\n",
    "\n",
    "# obs_dict = env_reset(env)\n",
    "# agent = OrderEnforcingAgent()\n",
    "# print(agent.register_reset(obs_dict))\n",
    "# env.step(agent.register_reset(obs_dict))"
   ]
  },
  {
   "cell_type": "markdown",
   "metadata": {
    "pycharm": {
     "name": "#%% md\n"
    }
   },
   "source": [
    "# 6. Evaluating Actions\n",
    "\n",
    "After Taking actions we can evaluate the performance of our agent or agents.\n",
    "\n",
    "Evaluation is done using the final metric which is the energy cost and Emission cost"
   ]
  },
  {
   "cell_type": "code",
   "execution_count": 30,
   "metadata": {
    "pycharm": {
     "name": "#%%\n"
    }
   },
   "outputs": [
    {
     "data": {
      "text/plain": "(1.0, 1.0)"
     },
     "execution_count": 30,
     "metadata": {},
     "output_type": "execute_result"
    }
   ],
   "source": [
    "\n",
    "env.evaluate()"
   ]
  },
  {
   "cell_type": "markdown",
   "metadata": {
    "pycharm": {
     "name": "#%% md\n"
    }
   },
   "source": [
    "# SAMPLE RUN or LOCAL EVALUATION\n",
    "\n",
    "Some modification have been made from the origial code. For isinstance\n",
    "\n",
    "- We can run a test for a month i.e $30*24$ to quickly evaluate our agent \n",
    "\n",
    "we add the following code in the evaluation section \n",
    "\n",
    "``` python \n",
    "\n",
    "    # Skipping to shorten training time\n",
    "    days = 30*5\n",
    "    training_steps = 24*days\n",
    "    skipping = False\n",
    "```"
   ]
  },
  {
   "cell_type": "code",
   "execution_count": 31,
   "metadata": {
    "pycharm": {
     "name": "#%%\n"
    }
   },
   "outputs": [
    {
     "name": "stdout",
     "output_type": "stream",
     "text": [
      "Starting local evaluation\n",
      "Num Steps: 1000, Num episodes: 0\n",
      "Num Steps: 2000, Num episodes: 0\n",
      "Num Steps: 3000, Num episodes: 0\n",
      "Num Steps: 3600, Num episodes: 0\n",
      "ENDING TRAINING AFTER 3600 STEPS\n",
      "Episode complete: 1 | Latest episode metrics: {'price_cost': 1.0381569099513948, 'emmision_cost': 1.049584172090569}\n",
      "Episode complete: 2 | Latest episode metrics: {'price_cost': 1.085527758534618, 'emmision_cost': 1.0811491908158175}\n",
      "Episode complete: 3 | Latest episode metrics: {'price_cost': 1.085527758534618, 'emmision_cost': 1.0811491908158175}\n",
      "Episode complete: 4 | Latest episode metrics: {'price_cost': 1.085527758534618, 'emmision_cost': 1.0811491908158175}\n",
      "Episode complete: 5 | Latest episode metrics: {'price_cost': 1.085527758534618, 'emmision_cost': 1.0811491908158175}\n",
      "=========================Completed=========================\n",
      "Average Price Cost: 1.0760535888179734\n",
      "Average Emmision Cost: 1.0748361870707677\n",
      "Total time taken by agent: 1.1002701999971123s\n"
     ]
    }
   ],
   "source": [
    "import numpy as np\n",
    "import time\n",
    "\n",
    "\"\"\"\n",
    "Please do not make changes to this file. \n",
    "This is only a reference script provided to allow you \n",
    "to do local evaluation. The evaluator **DOES NOT** \n",
    "use this script for orchestrating the evaluations. \n",
    "\"\"\"\n",
    "\n",
    "from agents.orderenforcingwrapper import OrderEnforcingAgent\n",
    "from citylearn.citylearn import CityLearnEnv\n",
    "\n",
    "class Constants:\n",
    "    episodes = 5\n",
    "    schema_path = './data/citylearn_challenge_2022_phase_1/schema.json'\n",
    "\n",
    "def action_space_to_dict(aspace):\n",
    "    \"\"\" Only for box space \"\"\"\n",
    "    return { \"high\": aspace.high,\n",
    "             \"low\": aspace.low,\n",
    "             \"shape\": aspace.shape,\n",
    "             \"dtype\": str(aspace.dtype)\n",
    "    }\n",
    "\n",
    "def env_reset(env):\n",
    "    observations = env.reset()\n",
    "    action_space = env.action_space\n",
    "    observation_space = env.observation_space\n",
    "    building_info = env.get_building_information()\n",
    "    building_info = list(building_info.values())\n",
    "    action_space_dicts = [action_space_to_dict(asp) for asp in action_space]\n",
    "    observation_space_dicts = [action_space_to_dict(osp) for osp in observation_space]\n",
    "    obs_dict = {\"action_space\": action_space_dicts,\n",
    "                \"observation_space\": observation_space_dicts,\n",
    "                \"building_info\": building_info,\n",
    "                \"observation\": observations }\n",
    "    return obs_dict\n",
    "\n",
    "\n",
    "def evaluate():\n",
    "    print(\"Starting local evaluation\")\n",
    "    \n",
    "    env = CityLearnEnv(schema=Constants.schema_path)\n",
    "    agent = OrderEnforcingAgent()\n",
    "\n",
    "    obs_dict = env_reset(env)\n",
    "\n",
    "    agent_time_elapsed = 0\n",
    "\n",
    "    step_start = time.perf_counter()\n",
    "    actions = agent.register_reset(obs_dict)\n",
    "    agent_time_elapsed += time.perf_counter()- step_start\n",
    "\n",
    "    episodes_completed = 0\n",
    "    num_steps = 0\n",
    "    interrupted = False\n",
    "    episode_metrics = []\n",
    "    \n",
    "    # Skipping to shorten training time\n",
    "    days = 30*5\n",
    "    training_steps = 24*days\n",
    "    skipping = False\n",
    "    \n",
    "    try:\n",
    "        while True:\n",
    "            \n",
    "            ### This is only a reference script provided to allow you \n",
    "            ### to do local evaluation. The evaluator **DOES NOT** \n",
    "            ### use this script for orchestrating the evaluations. \n",
    "\n",
    "            observations, _, done, _ = env.step(actions)\n",
    "            if done or skipping:\n",
    "                episodes_completed += 1\n",
    "                metrics_t = env.evaluate()\n",
    "                metrics = {\"price_cost\": metrics_t[0], \"emmision_cost\": metrics_t[1]}\n",
    "                if np.any(np.isnan(metrics_t)):\n",
    "                    raise ValueError(\"Episode metrics are nan, please contant organizers\")\n",
    "                episode_metrics.append(metrics)\n",
    "                print(f\"Episode complete: {episodes_completed} | Latest episode metrics: {metrics}\", )\n",
    "\n",
    "                obs_dict = env_reset(env)\n",
    "\n",
    "                step_start = time.perf_counter()\n",
    "                actions = agent.register_reset(obs_dict)\n",
    "                agent_time_elapsed += time.perf_counter()- step_start\n",
    "            else:\n",
    "                step_start = time.perf_counter()\n",
    "                actions = agent.compute_action(observations)\n",
    "                agent_time_elapsed += time.perf_counter()- step_start\n",
    "            \n",
    "            num_steps += 1\n",
    "            if num_steps % 1000 == 0:\n",
    "                print(f\"Num Steps: {num_steps}, Num episodes: {episodes_completed}\")\n",
    "            \n",
    "            ### End training in set time\n",
    "            if num_steps % training_steps == 0:\n",
    "                print(f\"Num Steps: {num_steps}, Num episodes: {episodes_completed}\")\n",
    "                if num_steps == training_steps:\n",
    "                    print(f'ENDING TRAINING AFTER {training_steps} STEPS')\n",
    "                    skipping = True\n",
    "\n",
    "            if episodes_completed >= Constants.episodes:\n",
    "                break\n",
    "    except KeyboardInterrupt:\n",
    "        print(\"========================= Stopping Evaluation =========================\")\n",
    "        interrupted = True\n",
    "    \n",
    "    if not interrupted:\n",
    "        print(\"=========================Completed=========================\")\n",
    "\n",
    "    if len(episode_metrics) > 0:\n",
    "        print(\"Average Price Cost:\", np.mean([e['price_cost'] for e in episode_metrics]))\n",
    "        print(\"Average Emmision Cost:\", np.mean([e['emmision_cost'] for e in episode_metrics]))\n",
    "    print(f\"Total time taken by agent: {agent_time_elapsed}s\")\n",
    "\n",
    "if __name__ == '__main__':\n",
    "    evaluate()\n"
   ]
  },
  {
   "cell_type": "markdown",
   "metadata": {
    "pycharm": {
     "name": "#%% md\n"
    }
   },
   "source": [
    "# setting Up Environment requiremnents.txt and yml files \n",
    "\n",
    "follow the links https://stackoverflow.com/questions/48787250/set-up-virtualenv-using-a-requirements-txt-generated-by-conda"
   ]
  }
 ],
 "metadata": {
  "interpreter": {
   "hash": "15c682508d24c5a67d5fbbe2fea073172b3a3ca9fabad277d65ba1c57669360a"
  },
  "kernelspec": {
   "display_name": "Python 3.7.13 ('CityLearn2022')",
   "language": "python",
   "name": "python3"
  },
  "language_info": {
   "codemirror_mode": {
    "name": "ipython",
    "version": 3
   },
   "file_extension": ".py",
   "mimetype": "text/x-python",
   "name": "python",
   "nbconvert_exporter": "python",
   "pygments_lexer": "ipython3",
   "version": "3.7.13"
  }
 },
 "nbformat": 4,
 "nbformat_minor": 2
}