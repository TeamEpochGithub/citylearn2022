{
 "cells": [
  {
   "cell_type": "code",
   "execution_count": 13,
   "metadata": {
    "collapsed": true
   },
   "outputs": [],
   "source": [
    "import pandas as pd\n",
    "from analysis import analysis_data\n",
    "import os.path as osp\n",
    "from matplotlib import pyplot as plt\n",
    "import csv\n",
    "\n",
    "known_data_path = osp.join(osp.dirname(analysis_data.__file__), \"known_performance.csv\")\n",
    "df_known = pd.read_csv(known_data_path)\n",
    "\n",
    "pred_data_path = osp.join(osp.dirname(analysis_data.__file__), \"pred_performance.csv\")\n",
    "df_pred = pd.read_csv(pred_data_path)\n",
    "\n",
    "pred_data_path = osp.join(osp.dirname(analysis_data.__file__), \"pred_consumption_predictions.csv\")\n",
    "df_predictions = pd.read_csv(pred_data_path)\n",
    "\n",
    "# historic_consumptions_data_path = osp.join(osp.dirname(data.__file__), \"historic_consumptions.csv\")\n",
    "# df_historic_consumptions = pd.read_csv(historic_consumptions_data_path)\n"
   ]
  },
  {
   "cell_type": "code",
   "execution_count": 16,
   "outputs": [
    {
     "data": {
      "text/plain": "   0  0.2856653339276576  0.24005842590508153  0.4840943629823778  \\\n0  1           -0.031749             0.240058           -0.428789   \n1  2           -0.075234             0.240058           -0.428789   \n2  3           -0.172681             0.240058            1.503286   \n3  4           -0.033845             0.240058           -0.138706   \n4  0            0.118720             0.502107            2.661560   \n5  1           -0.174060             0.205210           -0.203186   \n6  2           -0.077015             0.157479           -0.481484   \n7  3            0.000000             0.050517           -0.675328   \n8  4           -0.000775             0.202909            0.074998   \n9  0            0.000000             0.610266            1.569085   \n\n   0.9128833333333334  0.0  0.1755839986604004  0.22  \n0        9.918213e-08  0.0            0.175584  0.22  \n1        9.918213e-08  0.0            0.175584  0.22  \n2        1.932075e+00  0.0            0.175584  0.22  \n3        2.900833e-01  0.0            0.175584  0.22  \n4        8.333500e-01  0.0            0.170252  0.22  \n5        9.918213e-08  0.0            0.170252  0.22  \n6        9.974158e-08  0.0            0.170252  0.22  \n7        4.298000e-01  0.0            0.170252  0.22  \n8        2.916000e-01  0.0            0.170252  0.22  \n9        8.093000e-01  0.0            0.158084  0.22  ",
      "text/html": "<div>\n<style scoped>\n    .dataframe tbody tr th:only-of-type {\n        vertical-align: middle;\n    }\n\n    .dataframe tbody tr th {\n        vertical-align: top;\n    }\n\n    .dataframe thead th {\n        text-align: right;\n    }\n</style>\n<table border=\"1\" class=\"dataframe\">\n  <thead>\n    <tr style=\"text-align: right;\">\n      <th></th>\n      <th>0</th>\n      <th>0.2856653339276576</th>\n      <th>0.24005842590508153</th>\n      <th>0.4840943629823778</th>\n      <th>0.9128833333333334</th>\n      <th>0.0</th>\n      <th>0.1755839986604004</th>\n      <th>0.22</th>\n    </tr>\n  </thead>\n  <tbody>\n    <tr>\n      <th>0</th>\n      <td>1</td>\n      <td>-0.031749</td>\n      <td>0.240058</td>\n      <td>-0.428789</td>\n      <td>9.918213e-08</td>\n      <td>0.0</td>\n      <td>0.175584</td>\n      <td>0.22</td>\n    </tr>\n    <tr>\n      <th>1</th>\n      <td>2</td>\n      <td>-0.075234</td>\n      <td>0.240058</td>\n      <td>-0.428789</td>\n      <td>9.918213e-08</td>\n      <td>0.0</td>\n      <td>0.175584</td>\n      <td>0.22</td>\n    </tr>\n    <tr>\n      <th>2</th>\n      <td>3</td>\n      <td>-0.172681</td>\n      <td>0.240058</td>\n      <td>1.503286</td>\n      <td>1.932075e+00</td>\n      <td>0.0</td>\n      <td>0.175584</td>\n      <td>0.22</td>\n    </tr>\n    <tr>\n      <th>3</th>\n      <td>4</td>\n      <td>-0.033845</td>\n      <td>0.240058</td>\n      <td>-0.138706</td>\n      <td>2.900833e-01</td>\n      <td>0.0</td>\n      <td>0.175584</td>\n      <td>0.22</td>\n    </tr>\n    <tr>\n      <th>4</th>\n      <td>0</td>\n      <td>0.118720</td>\n      <td>0.502107</td>\n      <td>2.661560</td>\n      <td>8.333500e-01</td>\n      <td>0.0</td>\n      <td>0.170252</td>\n      <td>0.22</td>\n    </tr>\n    <tr>\n      <th>5</th>\n      <td>1</td>\n      <td>-0.174060</td>\n      <td>0.205210</td>\n      <td>-0.203186</td>\n      <td>9.918213e-08</td>\n      <td>0.0</td>\n      <td>0.170252</td>\n      <td>0.22</td>\n    </tr>\n    <tr>\n      <th>6</th>\n      <td>2</td>\n      <td>-0.077015</td>\n      <td>0.157479</td>\n      <td>-0.481484</td>\n      <td>9.974158e-08</td>\n      <td>0.0</td>\n      <td>0.170252</td>\n      <td>0.22</td>\n    </tr>\n    <tr>\n      <th>7</th>\n      <td>3</td>\n      <td>0.000000</td>\n      <td>0.050517</td>\n      <td>-0.675328</td>\n      <td>4.298000e-01</td>\n      <td>0.0</td>\n      <td>0.170252</td>\n      <td>0.22</td>\n    </tr>\n    <tr>\n      <th>8</th>\n      <td>4</td>\n      <td>-0.000775</td>\n      <td>0.202909</td>\n      <td>0.074998</td>\n      <td>2.916000e-01</td>\n      <td>0.0</td>\n      <td>0.170252</td>\n      <td>0.22</td>\n    </tr>\n    <tr>\n      <th>9</th>\n      <td>0</td>\n      <td>0.000000</td>\n      <td>0.610266</td>\n      <td>1.569085</td>\n      <td>8.093000e-01</td>\n      <td>0.0</td>\n      <td>0.158084</td>\n      <td>0.22</td>\n    </tr>\n  </tbody>\n</table>\n</div>"
     },
     "execution_count": 16,
     "metadata": {},
     "output_type": "execute_result"
    }
   ],
   "source": [
    "df_pred.head(10)"
   ],
   "metadata": {
    "collapsed": false
   }
  },
  {
   "cell_type": "code",
   "execution_count": 11,
   "outputs": [
    {
     "data": {
      "text/plain": "   0  72  -1.8324319522090324  -0.004221499770362347\n0  1  72             2.360010              -0.008032\n1  2  72             2.081728              -0.009476\n2  3  72             2.931047              -0.009840\n3  4  72             1.246601              -0.004545\n4  0  73            -0.764007              -0.004221",
      "text/html": "<div>\n<style scoped>\n    .dataframe tbody tr th:only-of-type {\n        vertical-align: middle;\n    }\n\n    .dataframe tbody tr th {\n        vertical-align: top;\n    }\n\n    .dataframe thead th {\n        text-align: right;\n    }\n</style>\n<table border=\"1\" class=\"dataframe\">\n  <thead>\n    <tr style=\"text-align: right;\">\n      <th></th>\n      <th>0</th>\n      <th>72</th>\n      <th>-1.8324319522090324</th>\n      <th>-0.004221499770362347</th>\n    </tr>\n  </thead>\n  <tbody>\n    <tr>\n      <th>0</th>\n      <td>1</td>\n      <td>72</td>\n      <td>2.360010</td>\n      <td>-0.008032</td>\n    </tr>\n    <tr>\n      <th>1</th>\n      <td>2</td>\n      <td>72</td>\n      <td>2.081728</td>\n      <td>-0.009476</td>\n    </tr>\n    <tr>\n      <th>2</th>\n      <td>3</td>\n      <td>72</td>\n      <td>2.931047</td>\n      <td>-0.009840</td>\n    </tr>\n    <tr>\n      <th>3</th>\n      <td>4</td>\n      <td>72</td>\n      <td>1.246601</td>\n      <td>-0.004545</td>\n    </tr>\n    <tr>\n      <th>4</th>\n      <td>0</td>\n      <td>73</td>\n      <td>-0.764007</td>\n      <td>-0.004221</td>\n    </tr>\n  </tbody>\n</table>\n</div>"
     },
     "execution_count": 11,
     "metadata": {},
     "output_type": "execute_result"
    }
   ],
   "source": [
    "df_predictions.head()"
   ],
   "metadata": {
    "collapsed": false
   }
  },
  {
   "cell_type": "code",
   "execution_count": null,
   "outputs": [],
   "source": [
    "df_pred = pd.concat([df_pred, df_predictions], axis=1)\n",
    "df_known.head()"
   ],
   "metadata": {
    "collapsed": false
   }
  },
  {
   "cell_type": "code",
   "execution_count": 9,
   "outputs": [
    {
     "data": {
      "text/plain": "   0  0.2856653339276576  0.24005842590508153  0.4840943629823778  \\\n0  1           -0.031749             0.240058           -0.428789   \n1  2           -0.075234             0.240058           -0.428789   \n2  3           -0.172681             0.240058            1.503286   \n3  4           -0.033845             0.240058           -0.138706   \n4  0            0.118720             0.502107            2.661560   \n\n   0.9128833333333334  0.0  0.1755839986604004  0.22  0  72  \\\n0        9.918213e-08  0.0            0.175584  0.22  1  72   \n1        9.918213e-08  0.0            0.175584  0.22  2  72   \n2        1.932075e+00  0.0            0.175584  0.22  3  72   \n3        2.900833e-01  0.0            0.175584  0.22  4  72   \n4        8.333500e-01  0.0            0.170252  0.22  0  73   \n\n   -1.8324319522090324  -0.004221499770362347  0  72  -1.8324319522090324  \\\n0             2.360010              -0.008032  1  72             2.360010   \n1             2.081728              -0.009476  2  72             2.081728   \n2             2.931047              -0.009840  3  72             2.931047   \n3             1.246601              -0.004545  4  72             1.246601   \n4            -0.764007              -0.004221  0  73            -0.764007   \n\n   -0.004221499770362347  0  72  -1.8324319522090324  -0.004221499770362347  \n0              -0.008032  1  72             2.360010              -0.008032  \n1              -0.009476  2  72             2.081728              -0.009476  \n2              -0.009840  3  72             2.931047              -0.009840  \n3              -0.004545  4  72             1.246601              -0.004545  \n4              -0.004221  0  73            -0.764007              -0.004221  ",
      "text/html": "<div>\n<style scoped>\n    .dataframe tbody tr th:only-of-type {\n        vertical-align: middle;\n    }\n\n    .dataframe tbody tr th {\n        vertical-align: top;\n    }\n\n    .dataframe thead th {\n        text-align: right;\n    }\n</style>\n<table border=\"1\" class=\"dataframe\">\n  <thead>\n    <tr style=\"text-align: right;\">\n      <th></th>\n      <th>0</th>\n      <th>0.2856653339276576</th>\n      <th>0.24005842590508153</th>\n      <th>0.4840943629823778</th>\n      <th>0.9128833333333334</th>\n      <th>0.0</th>\n      <th>0.1755839986604004</th>\n      <th>0.22</th>\n      <th>0</th>\n      <th>72</th>\n      <th>-1.8324319522090324</th>\n      <th>-0.004221499770362347</th>\n      <th>0</th>\n      <th>72</th>\n      <th>-1.8324319522090324</th>\n      <th>-0.004221499770362347</th>\n      <th>0</th>\n      <th>72</th>\n      <th>-1.8324319522090324</th>\n      <th>-0.004221499770362347</th>\n    </tr>\n  </thead>\n  <tbody>\n    <tr>\n      <th>0</th>\n      <td>1</td>\n      <td>-0.031749</td>\n      <td>0.240058</td>\n      <td>-0.428789</td>\n      <td>9.918213e-08</td>\n      <td>0.0</td>\n      <td>0.175584</td>\n      <td>0.22</td>\n      <td>1</td>\n      <td>72</td>\n      <td>2.360010</td>\n      <td>-0.008032</td>\n      <td>1</td>\n      <td>72</td>\n      <td>2.360010</td>\n      <td>-0.008032</td>\n      <td>1</td>\n      <td>72</td>\n      <td>2.360010</td>\n      <td>-0.008032</td>\n    </tr>\n    <tr>\n      <th>1</th>\n      <td>2</td>\n      <td>-0.075234</td>\n      <td>0.240058</td>\n      <td>-0.428789</td>\n      <td>9.918213e-08</td>\n      <td>0.0</td>\n      <td>0.175584</td>\n      <td>0.22</td>\n      <td>2</td>\n      <td>72</td>\n      <td>2.081728</td>\n      <td>-0.009476</td>\n      <td>2</td>\n      <td>72</td>\n      <td>2.081728</td>\n      <td>-0.009476</td>\n      <td>2</td>\n      <td>72</td>\n      <td>2.081728</td>\n      <td>-0.009476</td>\n    </tr>\n    <tr>\n      <th>2</th>\n      <td>3</td>\n      <td>-0.172681</td>\n      <td>0.240058</td>\n      <td>1.503286</td>\n      <td>1.932075e+00</td>\n      <td>0.0</td>\n      <td>0.175584</td>\n      <td>0.22</td>\n      <td>3</td>\n      <td>72</td>\n      <td>2.931047</td>\n      <td>-0.009840</td>\n      <td>3</td>\n      <td>72</td>\n      <td>2.931047</td>\n      <td>-0.009840</td>\n      <td>3</td>\n      <td>72</td>\n      <td>2.931047</td>\n      <td>-0.009840</td>\n    </tr>\n    <tr>\n      <th>3</th>\n      <td>4</td>\n      <td>-0.033845</td>\n      <td>0.240058</td>\n      <td>-0.138706</td>\n      <td>2.900833e-01</td>\n      <td>0.0</td>\n      <td>0.175584</td>\n      <td>0.22</td>\n      <td>4</td>\n      <td>72</td>\n      <td>1.246601</td>\n      <td>-0.004545</td>\n      <td>4</td>\n      <td>72</td>\n      <td>1.246601</td>\n      <td>-0.004545</td>\n      <td>4</td>\n      <td>72</td>\n      <td>1.246601</td>\n      <td>-0.004545</td>\n    </tr>\n    <tr>\n      <th>4</th>\n      <td>0</td>\n      <td>0.118720</td>\n      <td>0.502107</td>\n      <td>2.661560</td>\n      <td>8.333500e-01</td>\n      <td>0.0</td>\n      <td>0.170252</td>\n      <td>0.22</td>\n      <td>0</td>\n      <td>73</td>\n      <td>-0.764007</td>\n      <td>-0.004221</td>\n      <td>0</td>\n      <td>73</td>\n      <td>-0.764007</td>\n      <td>-0.004221</td>\n      <td>0</td>\n      <td>73</td>\n      <td>-0.764007</td>\n      <td>-0.004221</td>\n    </tr>\n  </tbody>\n</table>\n</div>"
     },
     "execution_count": 9,
     "metadata": {},
     "output_type": "execute_result"
    }
   ],
   "source": [
    "df_pred.head()"
   ],
   "metadata": {
    "collapsed": false
   }
  },
  {
   "cell_type": "code",
   "execution_count": 5,
   "outputs": [],
   "source": [
    "# df_known = pd.concat([df_known, df_historic_consumptions], axis=1)"
   ],
   "metadata": {
    "collapsed": false
   }
  },
  {
   "cell_type": "code",
   "execution_count": 6,
   "outputs": [
    {
     "ename": "ValueError",
     "evalue": "Length mismatch: Expected axis has 12 elements, new values have 10 elements",
     "output_type": "error",
     "traceback": [
      "\u001B[1;31m---------------------------------------------------------------------------\u001B[0m",
      "\u001B[1;31mValueError\u001B[0m                                Traceback (most recent call last)",
      "Cell \u001B[1;32mIn [6], line 15\u001B[0m\n\u001B[0;32m     13\u001B[0m df_known\u001B[38;5;241m.\u001B[39mcolumns \u001B[38;5;241m=\u001B[39m col_names \u001B[38;5;66;03m# + historic_col_names\u001B[39;00m\n\u001B[0;32m     14\u001B[0m pred_col_names \u001B[38;5;241m=\u001B[39m col_names \u001B[38;5;241m+\u001B[39m [\u001B[38;5;124m\"\u001B[39m\u001B[38;5;124mpredicted_load\u001B[39m\u001B[38;5;124m\"\u001B[39m, \u001B[38;5;124m\"\u001B[39m\u001B[38;5;124mpredicted_solar\u001B[39m\u001B[38;5;124m\"\u001B[39m]\n\u001B[1;32m---> 15\u001B[0m df_pred\u001B[38;5;241m.\u001B[39mcolumns \u001B[38;5;241m=\u001B[39m pred_col_names\n\u001B[0;32m     16\u001B[0m df_known\u001B[38;5;241m.\u001B[39mhead()\n",
      "File \u001B[1;32m~\\Documents\\Epoch III\\citylearn-2022-starter-kit\\venv\\lib\\site-packages\\pandas\\core\\generic.py:5500\u001B[0m, in \u001B[0;36mNDFrame.__setattr__\u001B[1;34m(self, name, value)\u001B[0m\n\u001B[0;32m   5498\u001B[0m \u001B[38;5;28;01mtry\u001B[39;00m:\n\u001B[0;32m   5499\u001B[0m     \u001B[38;5;28mobject\u001B[39m\u001B[38;5;241m.\u001B[39m\u001B[38;5;21m__getattribute__\u001B[39m(\u001B[38;5;28mself\u001B[39m, name)\n\u001B[1;32m-> 5500\u001B[0m     \u001B[38;5;28;01mreturn\u001B[39;00m \u001B[38;5;28;43mobject\u001B[39;49m\u001B[38;5;241;43m.\u001B[39;49m\u001B[38;5;21;43m__setattr__\u001B[39;49m\u001B[43m(\u001B[49m\u001B[38;5;28;43mself\u001B[39;49m\u001B[43m,\u001B[49m\u001B[43m \u001B[49m\u001B[43mname\u001B[49m\u001B[43m,\u001B[49m\u001B[43m \u001B[49m\u001B[43mvalue\u001B[49m\u001B[43m)\u001B[49m\n\u001B[0;32m   5501\u001B[0m \u001B[38;5;28;01mexcept\u001B[39;00m \u001B[38;5;167;01mAttributeError\u001B[39;00m:\n\u001B[0;32m   5502\u001B[0m     \u001B[38;5;28;01mpass\u001B[39;00m\n",
      "File \u001B[1;32m~\\Documents\\Epoch III\\citylearn-2022-starter-kit\\venv\\lib\\site-packages\\pandas\\_libs\\properties.pyx:70\u001B[0m, in \u001B[0;36mpandas._libs.properties.AxisProperty.__set__\u001B[1;34m()\u001B[0m\n",
      "File \u001B[1;32m~\\Documents\\Epoch III\\citylearn-2022-starter-kit\\venv\\lib\\site-packages\\pandas\\core\\generic.py:766\u001B[0m, in \u001B[0;36mNDFrame._set_axis\u001B[1;34m(self, axis, labels)\u001B[0m\n\u001B[0;32m    764\u001B[0m \u001B[38;5;28;01mdef\u001B[39;00m \u001B[38;5;21m_set_axis\u001B[39m(\u001B[38;5;28mself\u001B[39m, axis: \u001B[38;5;28mint\u001B[39m, labels: Index) \u001B[38;5;241m-\u001B[39m\u001B[38;5;241m>\u001B[39m \u001B[38;5;28;01mNone\u001B[39;00m:\n\u001B[0;32m    765\u001B[0m     labels \u001B[38;5;241m=\u001B[39m ensure_index(labels)\n\u001B[1;32m--> 766\u001B[0m     \u001B[38;5;28;43mself\u001B[39;49m\u001B[38;5;241;43m.\u001B[39;49m\u001B[43m_mgr\u001B[49m\u001B[38;5;241;43m.\u001B[39;49m\u001B[43mset_axis\u001B[49m\u001B[43m(\u001B[49m\u001B[43maxis\u001B[49m\u001B[43m,\u001B[49m\u001B[43m \u001B[49m\u001B[43mlabels\u001B[49m\u001B[43m)\u001B[49m\n\u001B[0;32m    767\u001B[0m     \u001B[38;5;28mself\u001B[39m\u001B[38;5;241m.\u001B[39m_clear_item_cache()\n",
      "File \u001B[1;32m~\\Documents\\Epoch III\\citylearn-2022-starter-kit\\venv\\lib\\site-packages\\pandas\\core\\internals\\managers.py:216\u001B[0m, in \u001B[0;36mBaseBlockManager.set_axis\u001B[1;34m(self, axis, new_labels)\u001B[0m\n\u001B[0;32m    214\u001B[0m \u001B[38;5;28;01mdef\u001B[39;00m \u001B[38;5;21mset_axis\u001B[39m(\u001B[38;5;28mself\u001B[39m, axis: \u001B[38;5;28mint\u001B[39m, new_labels: Index) \u001B[38;5;241m-\u001B[39m\u001B[38;5;241m>\u001B[39m \u001B[38;5;28;01mNone\u001B[39;00m:\n\u001B[0;32m    215\u001B[0m     \u001B[38;5;66;03m# Caller is responsible for ensuring we have an Index object.\u001B[39;00m\n\u001B[1;32m--> 216\u001B[0m     \u001B[38;5;28;43mself\u001B[39;49m\u001B[38;5;241;43m.\u001B[39;49m\u001B[43m_validate_set_axis\u001B[49m\u001B[43m(\u001B[49m\u001B[43maxis\u001B[49m\u001B[43m,\u001B[49m\u001B[43m \u001B[49m\u001B[43mnew_labels\u001B[49m\u001B[43m)\u001B[49m\n\u001B[0;32m    217\u001B[0m     \u001B[38;5;28mself\u001B[39m\u001B[38;5;241m.\u001B[39maxes[axis] \u001B[38;5;241m=\u001B[39m new_labels\n",
      "File \u001B[1;32m~\\Documents\\Epoch III\\citylearn-2022-starter-kit\\venv\\lib\\site-packages\\pandas\\core\\internals\\base.py:57\u001B[0m, in \u001B[0;36mDataManager._validate_set_axis\u001B[1;34m(self, axis, new_labels)\u001B[0m\n\u001B[0;32m     54\u001B[0m     \u001B[38;5;28;01mpass\u001B[39;00m\n\u001B[0;32m     56\u001B[0m \u001B[38;5;28;01melif\u001B[39;00m new_len \u001B[38;5;241m!=\u001B[39m old_len:\n\u001B[1;32m---> 57\u001B[0m     \u001B[38;5;28;01mraise\u001B[39;00m \u001B[38;5;167;01mValueError\u001B[39;00m(\n\u001B[0;32m     58\u001B[0m         \u001B[38;5;124mf\u001B[39m\u001B[38;5;124m\"\u001B[39m\u001B[38;5;124mLength mismatch: Expected axis has \u001B[39m\u001B[38;5;132;01m{\u001B[39;00mold_len\u001B[38;5;132;01m}\u001B[39;00m\u001B[38;5;124m elements, new \u001B[39m\u001B[38;5;124m\"\u001B[39m\n\u001B[0;32m     59\u001B[0m         \u001B[38;5;124mf\u001B[39m\u001B[38;5;124m\"\u001B[39m\u001B[38;5;124mvalues have \u001B[39m\u001B[38;5;132;01m{\u001B[39;00mnew_len\u001B[38;5;132;01m}\u001B[39;00m\u001B[38;5;124m elements\u001B[39m\u001B[38;5;124m\"\u001B[39m\n\u001B[0;32m     60\u001B[0m     )\n",
      "\u001B[1;31mValueError\u001B[0m: Length mismatch: Expected axis has 12 elements, new values have 10 elements"
     ]
    }
   ],
   "source": [
    "col_names = [\"agent_id\",\n",
    "            \"action\",\n",
    "            \"electrical_storage_soc\",\n",
    "            \"net_electricity_consumption\",\n",
    "            \"non_shiftable_load\",\n",
    "            \"solar_generation\",\n",
    "            \"carbon_intensity\",\n",
    "            \"electricity_pricing\"]\n",
    "# historic_col_names = []\n",
    "# for i in range(10):\n",
    "#     historic_col_names.append(f\"consumption_{i}hours_ago\")\n",
    "#\n",
    "df_known.columns = col_names # + historic_col_names\n",
    "pred_col_names = col_names + [\"predicted_load\", \"predicted_solar\"]\n",
    "df_pred.columns = pred_col_names\n",
    "df_known.head()"
   ],
   "metadata": {
    "collapsed": false
   }
  },
  {
   "cell_type": "code",
   "execution_count": null,
   "outputs": [],
   "source": [
    "building_num_known = 0\n",
    "building_num_pred = 0\n",
    "df_known_building = df_known.loc[df_known[\"agent_id\"] == building_num_known]\n",
    "df_pred_building = df_pred.loc[df_pred[\"agent_id\"] == building_num_pred]"
   ],
   "metadata": {
    "collapsed": false
   }
  },
  {
   "cell_type": "code",
   "execution_count": null,
   "outputs": [],
   "source": [
    "exclude_columns = [\"predicted_solar\", \"agent_id\", \"carbon_intensity\", \"electricity_pricing\"]\n",
    "df_known_building = df_known_building[[x for x in col_names if x not in exclude_columns]]\n",
    "df_pred_building = df_pred_building[[x for x in pred_col_names if x not in exclude_columns]]"
   ],
   "metadata": {
    "collapsed": false
   }
  },
  {
   "cell_type": "code",
   "execution_count": null,
   "outputs": [],
   "source": [
    "left_bound = 600\n",
    "window_width = 24\n",
    "right_bound = left_bound + window_width\n",
    "\n",
    "df_known_building[left_bound:right_bound].plot(kind='line')\n",
    "plt.legend(loc='upper left')\n",
    "plt.show()\n",
    "\n",
    "shift = 72\n",
    "df_pred_building[left_bound + shift:right_bound + shift].plot(kind='line')\n",
    "plt.legend(loc='upper left')\n",
    "plt.show()"
   ],
   "metadata": {
    "collapsed": false
   }
  },
  {
   "cell_type": "code",
   "execution_count": null,
   "outputs": [],
   "source": [],
   "metadata": {
    "collapsed": false,
    "pycharm": {
     "is_executing": true
    }
   }
  },
  {
   "cell_type": "code",
   "execution_count": 23,
   "outputs": [],
   "source": [],
   "metadata": {
    "collapsed": false
   }
  }
 ],
 "metadata": {
  "kernelspec": {
   "display_name": "Python 3",
   "language": "python",
   "name": "python3"
  },
  "language_info": {
   "codemirror_mode": {
    "name": "ipython",
    "version": 2
   },
   "file_extension": ".py",
   "mimetype": "text/x-python",
   "name": "python",
   "nbconvert_exporter": "python",
   "pygments_lexer": "ipython2",
   "version": "2.7.6"
  }
 },
 "nbformat": 4,
 "nbformat_minor": 0
}
