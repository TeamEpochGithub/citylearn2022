{
 "cells": [
  {
   "cell_type": "code",
   "execution_count": 109,
   "metadata": {
    "collapsed": true
   },
   "outputs": [],
   "source": [
    "import tensorflow as tf\n",
    "import os.path as osp\n",
    "from analysis import analysis_data\n",
    "import pandas as pd"
   ]
  },
  {
   "cell_type": "code",
   "execution_count": 110,
   "outputs": [],
   "source": [
    "known_data_path = osp.join(osp.dirname(analysis_data.__file__), \"known_consumption_performance.csv\")\n",
    "df_known = pd.read_csv(known_data_path)\n",
    "\n",
    "historic_consumptions_data_path = osp.join(osp.dirname(analysis_data.__file__), \"historic_consumptions.csv\")\n",
    "df_historic_consumptions = pd.read_csv(historic_consumptions_data_path)\n"
   ],
   "metadata": {
    "collapsed": false
   }
  },
  {
   "cell_type": "code",
   "execution_count": 111,
   "outputs": [],
   "source": [
    "df_known = pd.concat([df_known, df_historic_consumptions], axis=1)"
   ],
   "metadata": {
    "collapsed": false
   }
  },
  {
   "cell_type": "code",
   "execution_count": 112,
   "outputs": [
    {
     "data": {
      "text/plain": "    0  -0.13299479166666672  0.0        2.2758      2.2758.1  0.0.1  \\\n0   1         -2.141667e-01  0.0  2.188750e+00  2.188750e+00    0.0   \n1   2         -1.591444e-08  0.0  1.009623e-07  1.009623e-07    0.0   \n2   3         -3.012760e-01  0.0  2.819150e+00  2.819150e+00    0.0   \n3   4         -8.060677e-02  0.0  7.714333e-01  7.714333e-01    0.0   \n4   0         -1.304063e-01  0.0  8.511667e-01  8.511667e-01    0.0   \n5   1         -1.720703e-01  0.0  1.370667e+00  1.370667e+00    0.0   \n6   2         -1.575549e-08  0.0  1.018524e-07  1.018524e-07    0.0   \n7   3         -7.434635e-02  0.0  1.928167e+00  1.928167e+00    0.0   \n8   4         -7.860156e-02  0.0  5.158833e-01  5.158833e-01    0.0   \n9   0         -1.309635e-01  0.0  8.346000e-01  8.346000e-01    0.0   \n10  1         -8.487760e-02  0.0  1.101250e+00  1.101250e+00    0.0   \n11  2         -1.573563e-08  0.0  1.008352e-07  1.008352e-07    0.0   \n12  3         -7.159896e-02  0.0  4.758167e-01  4.758167e-01    0.0   \n13  4         -8.374219e-02  0.0  5.030500e-01  5.030500e-01    0.0   \n14  0         -2.310052e-01  0.0  8.381667e-01  8.381667e-01    0.0   \n15  1         -8.481771e-02  0.0  5.432167e-01  5.432167e-01    0.0   \n16  2         -1.587470e-08  0.0  1.007080e-07  1.007080e-07    0.0   \n17  3         -6.969010e-02  0.0  4.582333e-01  4.582333e-01    0.0   \n18  4         -8.009635e-02  0.0  5.359500e-01  5.359500e-01    0.0   \n19  0         -1.962812e-01  0.0  1.478433e+00  1.478433e+00    0.0   \n\n    0.1707244126403808  0.22             0           0.1       0.2  0.3  0.4  \\\n0             0.170724  0.22  0.000000e+00  0.000000e+00  0.000000  0.0  0.0   \n1             0.170724  0.22  0.000000e+00  0.000000e+00  0.000000  0.0  0.0   \n2             0.170724  0.22  0.000000e+00  0.000000e+00  0.000000  0.0  0.0   \n3             0.170724  0.22  0.000000e+00  0.000000e+00  0.000000  0.0  0.0   \n4             0.157319  0.22  0.000000e+00  0.000000e+00  0.000000  0.0  0.0   \n5             0.157319  0.22  0.000000e+00  0.000000e+00  0.000000  0.0  0.0   \n6             0.157319  0.22  0.000000e+00  0.000000e+00  0.000000  0.0  0.0   \n7             0.157319  0.22  0.000000e+00  0.000000e+00  0.000000  0.0  0.0   \n8             0.157319  0.22  0.000000e+00  0.000000e+00  0.000000  0.0  0.0   \n9             0.154503  0.22  8.511667e-01  0.000000e+00  0.000000  0.0  0.0   \n10            0.154503  0.22  1.370667e+00  0.000000e+00  0.000000  0.0  0.0   \n11            0.154503  0.22  1.018524e-07  0.000000e+00  0.000000  0.0  0.0   \n12            0.154503  0.22  1.928167e+00  0.000000e+00  0.000000  0.0  0.0   \n13            0.154503  0.22  5.158833e-01  0.000000e+00  0.000000  0.0  0.0   \n14            0.150945  0.22  8.346000e-01  8.511667e-01  0.000000  0.0  0.0   \n15            0.150945  0.22  1.101250e+00  1.370667e+00  0.000000  0.0  0.0   \n16            0.150945  0.22  1.008352e-07  1.018524e-07  0.000000  0.0  0.0   \n17            0.150945  0.22  4.758167e-01  1.928167e+00  0.000000  0.0  0.0   \n18            0.150945  0.22  5.030500e-01  5.158833e-01  0.000000  0.0  0.0   \n19            0.151820  0.22  8.381667e-01  8.346000e-01  0.851167  0.0  0.0   \n\n    0.5  0.6  0.7  0.8  0.9  \n0   0.0  0.0  0.0  0.0  0.0  \n1   0.0  0.0  0.0  0.0  0.0  \n2   0.0  0.0  0.0  0.0  0.0  \n3   0.0  0.0  0.0  0.0  0.0  \n4   0.0  0.0  0.0  0.0  0.0  \n5   0.0  0.0  0.0  0.0  0.0  \n6   0.0  0.0  0.0  0.0  0.0  \n7   0.0  0.0  0.0  0.0  0.0  \n8   0.0  0.0  0.0  0.0  0.0  \n9   0.0  0.0  0.0  0.0  0.0  \n10  0.0  0.0  0.0  0.0  0.0  \n11  0.0  0.0  0.0  0.0  0.0  \n12  0.0  0.0  0.0  0.0  0.0  \n13  0.0  0.0  0.0  0.0  0.0  \n14  0.0  0.0  0.0  0.0  0.0  \n15  0.0  0.0  0.0  0.0  0.0  \n16  0.0  0.0  0.0  0.0  0.0  \n17  0.0  0.0  0.0  0.0  0.0  \n18  0.0  0.0  0.0  0.0  0.0  \n19  0.0  0.0  0.0  0.0  0.0  ",
      "text/html": "<div>\n<style scoped>\n    .dataframe tbody tr th:only-of-type {\n        vertical-align: middle;\n    }\n\n    .dataframe tbody tr th {\n        vertical-align: top;\n    }\n\n    .dataframe thead th {\n        text-align: right;\n    }\n</style>\n<table border=\"1\" class=\"dataframe\">\n  <thead>\n    <tr style=\"text-align: right;\">\n      <th></th>\n      <th>0</th>\n      <th>-0.13299479166666672</th>\n      <th>0.0</th>\n      <th>2.2758</th>\n      <th>2.2758.1</th>\n      <th>0.0.1</th>\n      <th>0.1707244126403808</th>\n      <th>0.22</th>\n      <th>0</th>\n      <th>0.1</th>\n      <th>0.2</th>\n      <th>0.3</th>\n      <th>0.4</th>\n      <th>0.5</th>\n      <th>0.6</th>\n      <th>0.7</th>\n      <th>0.8</th>\n      <th>0.9</th>\n    </tr>\n  </thead>\n  <tbody>\n    <tr>\n      <th>0</th>\n      <td>1</td>\n      <td>-2.141667e-01</td>\n      <td>0.0</td>\n      <td>2.188750e+00</td>\n      <td>2.188750e+00</td>\n      <td>0.0</td>\n      <td>0.170724</td>\n      <td>0.22</td>\n      <td>0.000000e+00</td>\n      <td>0.000000e+00</td>\n      <td>0.000000</td>\n      <td>0.0</td>\n      <td>0.0</td>\n      <td>0.0</td>\n      <td>0.0</td>\n      <td>0.0</td>\n      <td>0.0</td>\n      <td>0.0</td>\n    </tr>\n    <tr>\n      <th>1</th>\n      <td>2</td>\n      <td>-1.591444e-08</td>\n      <td>0.0</td>\n      <td>1.009623e-07</td>\n      <td>1.009623e-07</td>\n      <td>0.0</td>\n      <td>0.170724</td>\n      <td>0.22</td>\n      <td>0.000000e+00</td>\n      <td>0.000000e+00</td>\n      <td>0.000000</td>\n      <td>0.0</td>\n      <td>0.0</td>\n      <td>0.0</td>\n      <td>0.0</td>\n      <td>0.0</td>\n      <td>0.0</td>\n      <td>0.0</td>\n    </tr>\n    <tr>\n      <th>2</th>\n      <td>3</td>\n      <td>-3.012760e-01</td>\n      <td>0.0</td>\n      <td>2.819150e+00</td>\n      <td>2.819150e+00</td>\n      <td>0.0</td>\n      <td>0.170724</td>\n      <td>0.22</td>\n      <td>0.000000e+00</td>\n      <td>0.000000e+00</td>\n      <td>0.000000</td>\n      <td>0.0</td>\n      <td>0.0</td>\n      <td>0.0</td>\n      <td>0.0</td>\n      <td>0.0</td>\n      <td>0.0</td>\n      <td>0.0</td>\n    </tr>\n    <tr>\n      <th>3</th>\n      <td>4</td>\n      <td>-8.060677e-02</td>\n      <td>0.0</td>\n      <td>7.714333e-01</td>\n      <td>7.714333e-01</td>\n      <td>0.0</td>\n      <td>0.170724</td>\n      <td>0.22</td>\n      <td>0.000000e+00</td>\n      <td>0.000000e+00</td>\n      <td>0.000000</td>\n      <td>0.0</td>\n      <td>0.0</td>\n      <td>0.0</td>\n      <td>0.0</td>\n      <td>0.0</td>\n      <td>0.0</td>\n      <td>0.0</td>\n    </tr>\n    <tr>\n      <th>4</th>\n      <td>0</td>\n      <td>-1.304063e-01</td>\n      <td>0.0</td>\n      <td>8.511667e-01</td>\n      <td>8.511667e-01</td>\n      <td>0.0</td>\n      <td>0.157319</td>\n      <td>0.22</td>\n      <td>0.000000e+00</td>\n      <td>0.000000e+00</td>\n      <td>0.000000</td>\n      <td>0.0</td>\n      <td>0.0</td>\n      <td>0.0</td>\n      <td>0.0</td>\n      <td>0.0</td>\n      <td>0.0</td>\n      <td>0.0</td>\n    </tr>\n    <tr>\n      <th>5</th>\n      <td>1</td>\n      <td>-1.720703e-01</td>\n      <td>0.0</td>\n      <td>1.370667e+00</td>\n      <td>1.370667e+00</td>\n      <td>0.0</td>\n      <td>0.157319</td>\n      <td>0.22</td>\n      <td>0.000000e+00</td>\n      <td>0.000000e+00</td>\n      <td>0.000000</td>\n      <td>0.0</td>\n      <td>0.0</td>\n      <td>0.0</td>\n      <td>0.0</td>\n      <td>0.0</td>\n      <td>0.0</td>\n      <td>0.0</td>\n    </tr>\n    <tr>\n      <th>6</th>\n      <td>2</td>\n      <td>-1.575549e-08</td>\n      <td>0.0</td>\n      <td>1.018524e-07</td>\n      <td>1.018524e-07</td>\n      <td>0.0</td>\n      <td>0.157319</td>\n      <td>0.22</td>\n      <td>0.000000e+00</td>\n      <td>0.000000e+00</td>\n      <td>0.000000</td>\n      <td>0.0</td>\n      <td>0.0</td>\n      <td>0.0</td>\n      <td>0.0</td>\n      <td>0.0</td>\n      <td>0.0</td>\n      <td>0.0</td>\n    </tr>\n    <tr>\n      <th>7</th>\n      <td>3</td>\n      <td>-7.434635e-02</td>\n      <td>0.0</td>\n      <td>1.928167e+00</td>\n      <td>1.928167e+00</td>\n      <td>0.0</td>\n      <td>0.157319</td>\n      <td>0.22</td>\n      <td>0.000000e+00</td>\n      <td>0.000000e+00</td>\n      <td>0.000000</td>\n      <td>0.0</td>\n      <td>0.0</td>\n      <td>0.0</td>\n      <td>0.0</td>\n      <td>0.0</td>\n      <td>0.0</td>\n      <td>0.0</td>\n    </tr>\n    <tr>\n      <th>8</th>\n      <td>4</td>\n      <td>-7.860156e-02</td>\n      <td>0.0</td>\n      <td>5.158833e-01</td>\n      <td>5.158833e-01</td>\n      <td>0.0</td>\n      <td>0.157319</td>\n      <td>0.22</td>\n      <td>0.000000e+00</td>\n      <td>0.000000e+00</td>\n      <td>0.000000</td>\n      <td>0.0</td>\n      <td>0.0</td>\n      <td>0.0</td>\n      <td>0.0</td>\n      <td>0.0</td>\n      <td>0.0</td>\n      <td>0.0</td>\n    </tr>\n    <tr>\n      <th>9</th>\n      <td>0</td>\n      <td>-1.309635e-01</td>\n      <td>0.0</td>\n      <td>8.346000e-01</td>\n      <td>8.346000e-01</td>\n      <td>0.0</td>\n      <td>0.154503</td>\n      <td>0.22</td>\n      <td>8.511667e-01</td>\n      <td>0.000000e+00</td>\n      <td>0.000000</td>\n      <td>0.0</td>\n      <td>0.0</td>\n      <td>0.0</td>\n      <td>0.0</td>\n      <td>0.0</td>\n      <td>0.0</td>\n      <td>0.0</td>\n    </tr>\n    <tr>\n      <th>10</th>\n      <td>1</td>\n      <td>-8.487760e-02</td>\n      <td>0.0</td>\n      <td>1.101250e+00</td>\n      <td>1.101250e+00</td>\n      <td>0.0</td>\n      <td>0.154503</td>\n      <td>0.22</td>\n      <td>1.370667e+00</td>\n      <td>0.000000e+00</td>\n      <td>0.000000</td>\n      <td>0.0</td>\n      <td>0.0</td>\n      <td>0.0</td>\n      <td>0.0</td>\n      <td>0.0</td>\n      <td>0.0</td>\n      <td>0.0</td>\n    </tr>\n    <tr>\n      <th>11</th>\n      <td>2</td>\n      <td>-1.573563e-08</td>\n      <td>0.0</td>\n      <td>1.008352e-07</td>\n      <td>1.008352e-07</td>\n      <td>0.0</td>\n      <td>0.154503</td>\n      <td>0.22</td>\n      <td>1.018524e-07</td>\n      <td>0.000000e+00</td>\n      <td>0.000000</td>\n      <td>0.0</td>\n      <td>0.0</td>\n      <td>0.0</td>\n      <td>0.0</td>\n      <td>0.0</td>\n      <td>0.0</td>\n      <td>0.0</td>\n    </tr>\n    <tr>\n      <th>12</th>\n      <td>3</td>\n      <td>-7.159896e-02</td>\n      <td>0.0</td>\n      <td>4.758167e-01</td>\n      <td>4.758167e-01</td>\n      <td>0.0</td>\n      <td>0.154503</td>\n      <td>0.22</td>\n      <td>1.928167e+00</td>\n      <td>0.000000e+00</td>\n      <td>0.000000</td>\n      <td>0.0</td>\n      <td>0.0</td>\n      <td>0.0</td>\n      <td>0.0</td>\n      <td>0.0</td>\n      <td>0.0</td>\n      <td>0.0</td>\n    </tr>\n    <tr>\n      <th>13</th>\n      <td>4</td>\n      <td>-8.374219e-02</td>\n      <td>0.0</td>\n      <td>5.030500e-01</td>\n      <td>5.030500e-01</td>\n      <td>0.0</td>\n      <td>0.154503</td>\n      <td>0.22</td>\n      <td>5.158833e-01</td>\n      <td>0.000000e+00</td>\n      <td>0.000000</td>\n      <td>0.0</td>\n      <td>0.0</td>\n      <td>0.0</td>\n      <td>0.0</td>\n      <td>0.0</td>\n      <td>0.0</td>\n      <td>0.0</td>\n    </tr>\n    <tr>\n      <th>14</th>\n      <td>0</td>\n      <td>-2.310052e-01</td>\n      <td>0.0</td>\n      <td>8.381667e-01</td>\n      <td>8.381667e-01</td>\n      <td>0.0</td>\n      <td>0.150945</td>\n      <td>0.22</td>\n      <td>8.346000e-01</td>\n      <td>8.511667e-01</td>\n      <td>0.000000</td>\n      <td>0.0</td>\n      <td>0.0</td>\n      <td>0.0</td>\n      <td>0.0</td>\n      <td>0.0</td>\n      <td>0.0</td>\n      <td>0.0</td>\n    </tr>\n    <tr>\n      <th>15</th>\n      <td>1</td>\n      <td>-8.481771e-02</td>\n      <td>0.0</td>\n      <td>5.432167e-01</td>\n      <td>5.432167e-01</td>\n      <td>0.0</td>\n      <td>0.150945</td>\n      <td>0.22</td>\n      <td>1.101250e+00</td>\n      <td>1.370667e+00</td>\n      <td>0.000000</td>\n      <td>0.0</td>\n      <td>0.0</td>\n      <td>0.0</td>\n      <td>0.0</td>\n      <td>0.0</td>\n      <td>0.0</td>\n      <td>0.0</td>\n    </tr>\n    <tr>\n      <th>16</th>\n      <td>2</td>\n      <td>-1.587470e-08</td>\n      <td>0.0</td>\n      <td>1.007080e-07</td>\n      <td>1.007080e-07</td>\n      <td>0.0</td>\n      <td>0.150945</td>\n      <td>0.22</td>\n      <td>1.008352e-07</td>\n      <td>1.018524e-07</td>\n      <td>0.000000</td>\n      <td>0.0</td>\n      <td>0.0</td>\n      <td>0.0</td>\n      <td>0.0</td>\n      <td>0.0</td>\n      <td>0.0</td>\n      <td>0.0</td>\n    </tr>\n    <tr>\n      <th>17</th>\n      <td>3</td>\n      <td>-6.969010e-02</td>\n      <td>0.0</td>\n      <td>4.582333e-01</td>\n      <td>4.582333e-01</td>\n      <td>0.0</td>\n      <td>0.150945</td>\n      <td>0.22</td>\n      <td>4.758167e-01</td>\n      <td>1.928167e+00</td>\n      <td>0.000000</td>\n      <td>0.0</td>\n      <td>0.0</td>\n      <td>0.0</td>\n      <td>0.0</td>\n      <td>0.0</td>\n      <td>0.0</td>\n      <td>0.0</td>\n    </tr>\n    <tr>\n      <th>18</th>\n      <td>4</td>\n      <td>-8.009635e-02</td>\n      <td>0.0</td>\n      <td>5.359500e-01</td>\n      <td>5.359500e-01</td>\n      <td>0.0</td>\n      <td>0.150945</td>\n      <td>0.22</td>\n      <td>5.030500e-01</td>\n      <td>5.158833e-01</td>\n      <td>0.000000</td>\n      <td>0.0</td>\n      <td>0.0</td>\n      <td>0.0</td>\n      <td>0.0</td>\n      <td>0.0</td>\n      <td>0.0</td>\n      <td>0.0</td>\n    </tr>\n    <tr>\n      <th>19</th>\n      <td>0</td>\n      <td>-1.962812e-01</td>\n      <td>0.0</td>\n      <td>1.478433e+00</td>\n      <td>1.478433e+00</td>\n      <td>0.0</td>\n      <td>0.151820</td>\n      <td>0.22</td>\n      <td>8.381667e-01</td>\n      <td>8.346000e-01</td>\n      <td>0.851167</td>\n      <td>0.0</td>\n      <td>0.0</td>\n      <td>0.0</td>\n      <td>0.0</td>\n      <td>0.0</td>\n      <td>0.0</td>\n      <td>0.0</td>\n    </tr>\n  </tbody>\n</table>\n</div>"
     },
     "execution_count": 112,
     "metadata": {},
     "output_type": "execute_result"
    }
   ],
   "source": [
    "col_names = [\"agent_id\",\n",
    "            \"label\", # action\n",
    "            \"electrical_storage_soc\",\n",
    "            \"net_electricity_consumption\",\n",
    "            \"non_shiftable_load\",\n",
    "            \"solar_generation\",\n",
    "            \"carbon_intensity\",\n",
    "            \"electricity_pricing\"]\n",
    "\n",
    "historic_col_names = []\n",
    "for i in range(10):\n",
    "    historic_col_names.append(f\"consumption_{i + 1}hours_ago\")\n",
    "\n",
    "df_historic_consumptions.columns = historic_col_names\n",
    "df_known[:20]"
   ],
   "metadata": {
    "collapsed": false
   }
  },
  {
   "cell_type": "code",
   "execution_count": 113,
   "outputs": [],
   "source": [
    "df_slopes_09 = (df_historic_consumptions[historic_col_names[0]] - df_historic_consumptions[historic_col_names[9]]) / 10\n",
    "df_slopes_03 = (df_historic_consumptions[historic_col_names[0]] - df_historic_consumptions[historic_col_names[3]]) / 4\n",
    "slope_names = [\"slope_1_10\", \"slope_1_4\"]"
   ],
   "metadata": {
    "collapsed": false
   }
  },
  {
   "cell_type": "code",
   "execution_count": 114,
   "outputs": [
    {
     "data": {
      "text/plain": "   agent_id         label  electrical_storage_soc  \\\n0         1 -2.141667e-01                     0.0   \n1         2 -1.591444e-08                     0.0   \n2         3 -3.012760e-01                     0.0   \n3         4 -8.060677e-02                     0.0   \n4         0 -1.304063e-01                     0.0   \n\n   net_electricity_consumption  non_shiftable_load  solar_generation  \\\n0                 2.188750e+00        2.188750e+00               0.0   \n1                 1.009623e-07        1.009623e-07               0.0   \n2                 2.819150e+00        2.819150e+00               0.0   \n3                 7.714333e-01        7.714333e-01               0.0   \n4                 8.511667e-01        8.511667e-01               0.0   \n\n   carbon_intensity  electricity_pricing  consumption_1hours_ago  \\\n0          0.170724                 0.22                     0.0   \n1          0.170724                 0.22                     0.0   \n2          0.170724                 0.22                     0.0   \n3          0.170724                 0.22                     0.0   \n4          0.157319                 0.22                     0.0   \n\n   consumption_2hours_ago  consumption_3hours_ago  consumption_4hours_ago  \\\n0                     0.0                     0.0                     0.0   \n1                     0.0                     0.0                     0.0   \n2                     0.0                     0.0                     0.0   \n3                     0.0                     0.0                     0.0   \n4                     0.0                     0.0                     0.0   \n\n   consumption_5hours_ago  consumption_6hours_ago  consumption_7hours_ago  \\\n0                     0.0                     0.0                     0.0   \n1                     0.0                     0.0                     0.0   \n2                     0.0                     0.0                     0.0   \n3                     0.0                     0.0                     0.0   \n4                     0.0                     0.0                     0.0   \n\n   consumption_8hours_ago  consumption_9hours_ago  consumption_10hours_ago  \\\n0                     0.0                     0.0                      0.0   \n1                     0.0                     0.0                      0.0   \n2                     0.0                     0.0                      0.0   \n3                     0.0                     0.0                      0.0   \n4                     0.0                     0.0                      0.0   \n\n   slope_1_10  slope_1_4  \n0         0.0        0.0  \n1         0.0        0.0  \n2         0.0        0.0  \n3         0.0        0.0  \n4         0.0        0.0  ",
      "text/html": "<div>\n<style scoped>\n    .dataframe tbody tr th:only-of-type {\n        vertical-align: middle;\n    }\n\n    .dataframe tbody tr th {\n        vertical-align: top;\n    }\n\n    .dataframe thead th {\n        text-align: right;\n    }\n</style>\n<table border=\"1\" class=\"dataframe\">\n  <thead>\n    <tr style=\"text-align: right;\">\n      <th></th>\n      <th>agent_id</th>\n      <th>label</th>\n      <th>electrical_storage_soc</th>\n      <th>net_electricity_consumption</th>\n      <th>non_shiftable_load</th>\n      <th>solar_generation</th>\n      <th>carbon_intensity</th>\n      <th>electricity_pricing</th>\n      <th>consumption_1hours_ago</th>\n      <th>consumption_2hours_ago</th>\n      <th>consumption_3hours_ago</th>\n      <th>consumption_4hours_ago</th>\n      <th>consumption_5hours_ago</th>\n      <th>consumption_6hours_ago</th>\n      <th>consumption_7hours_ago</th>\n      <th>consumption_8hours_ago</th>\n      <th>consumption_9hours_ago</th>\n      <th>consumption_10hours_ago</th>\n      <th>slope_1_10</th>\n      <th>slope_1_4</th>\n    </tr>\n  </thead>\n  <tbody>\n    <tr>\n      <th>0</th>\n      <td>1</td>\n      <td>-2.141667e-01</td>\n      <td>0.0</td>\n      <td>2.188750e+00</td>\n      <td>2.188750e+00</td>\n      <td>0.0</td>\n      <td>0.170724</td>\n      <td>0.22</td>\n      <td>0.0</td>\n      <td>0.0</td>\n      <td>0.0</td>\n      <td>0.0</td>\n      <td>0.0</td>\n      <td>0.0</td>\n      <td>0.0</td>\n      <td>0.0</td>\n      <td>0.0</td>\n      <td>0.0</td>\n      <td>0.0</td>\n      <td>0.0</td>\n    </tr>\n    <tr>\n      <th>1</th>\n      <td>2</td>\n      <td>-1.591444e-08</td>\n      <td>0.0</td>\n      <td>1.009623e-07</td>\n      <td>1.009623e-07</td>\n      <td>0.0</td>\n      <td>0.170724</td>\n      <td>0.22</td>\n      <td>0.0</td>\n      <td>0.0</td>\n      <td>0.0</td>\n      <td>0.0</td>\n      <td>0.0</td>\n      <td>0.0</td>\n      <td>0.0</td>\n      <td>0.0</td>\n      <td>0.0</td>\n      <td>0.0</td>\n      <td>0.0</td>\n      <td>0.0</td>\n    </tr>\n    <tr>\n      <th>2</th>\n      <td>3</td>\n      <td>-3.012760e-01</td>\n      <td>0.0</td>\n      <td>2.819150e+00</td>\n      <td>2.819150e+00</td>\n      <td>0.0</td>\n      <td>0.170724</td>\n      <td>0.22</td>\n      <td>0.0</td>\n      <td>0.0</td>\n      <td>0.0</td>\n      <td>0.0</td>\n      <td>0.0</td>\n      <td>0.0</td>\n      <td>0.0</td>\n      <td>0.0</td>\n      <td>0.0</td>\n      <td>0.0</td>\n      <td>0.0</td>\n      <td>0.0</td>\n    </tr>\n    <tr>\n      <th>3</th>\n      <td>4</td>\n      <td>-8.060677e-02</td>\n      <td>0.0</td>\n      <td>7.714333e-01</td>\n      <td>7.714333e-01</td>\n      <td>0.0</td>\n      <td>0.170724</td>\n      <td>0.22</td>\n      <td>0.0</td>\n      <td>0.0</td>\n      <td>0.0</td>\n      <td>0.0</td>\n      <td>0.0</td>\n      <td>0.0</td>\n      <td>0.0</td>\n      <td>0.0</td>\n      <td>0.0</td>\n      <td>0.0</td>\n      <td>0.0</td>\n      <td>0.0</td>\n    </tr>\n    <tr>\n      <th>4</th>\n      <td>0</td>\n      <td>-1.304063e-01</td>\n      <td>0.0</td>\n      <td>8.511667e-01</td>\n      <td>8.511667e-01</td>\n      <td>0.0</td>\n      <td>0.157319</td>\n      <td>0.22</td>\n      <td>0.0</td>\n      <td>0.0</td>\n      <td>0.0</td>\n      <td>0.0</td>\n      <td>0.0</td>\n      <td>0.0</td>\n      <td>0.0</td>\n      <td>0.0</td>\n      <td>0.0</td>\n      <td>0.0</td>\n      <td>0.0</td>\n      <td>0.0</td>\n    </tr>\n  </tbody>\n</table>\n</div>"
     },
     "execution_count": 114,
     "metadata": {},
     "output_type": "execute_result"
    }
   ],
   "source": [
    "df_known = pd.concat([df_known, df_slopes_09, df_slopes_03], axis=1)\n",
    "df_known.columns = col_names + historic_col_names + slope_names\n",
    "df_known.head()"
   ],
   "metadata": {
    "collapsed": false
   }
  },
  {
   "cell_type": "code",
   "execution_count": 115,
   "outputs": [
    {
     "data": {
      "text/plain": "              label  net_electricity_consumption  slope_1_10  slope_1_4\n0     -2.141667e-01                 2.188750e+00    0.000000   0.000000\n1     -1.591444e-08                 1.009623e-07    0.000000   0.000000\n4     -1.304063e-01                 8.511667e-01    0.000000   0.000000\n5     -1.720703e-01                 1.370667e+00    0.000000   0.000000\n6     -1.575549e-08                 1.018524e-07    0.000000   0.000000\n...             ...                          ...         ...        ...\n43785 -2.281543e-01                 2.169461e+00    0.216825   0.477396\n43786 -1.734865e-01                -3.334302e-08    0.214300   0.197862\n43789 -3.471395e-01                 3.021500e+00    0.547100   0.275369\n43790 -5.187050e-01                 1.456333e+00    0.114963   0.646283\n43791 -1.185302e-01                -4.904763e-09    0.210063   0.108337\n\n[26276 rows x 4 columns]",
      "text/html": "<div>\n<style scoped>\n    .dataframe tbody tr th:only-of-type {\n        vertical-align: middle;\n    }\n\n    .dataframe tbody tr th {\n        vertical-align: top;\n    }\n\n    .dataframe thead th {\n        text-align: right;\n    }\n</style>\n<table border=\"1\" class=\"dataframe\">\n  <thead>\n    <tr style=\"text-align: right;\">\n      <th></th>\n      <th>label</th>\n      <th>net_electricity_consumption</th>\n      <th>slope_1_10</th>\n      <th>slope_1_4</th>\n    </tr>\n  </thead>\n  <tbody>\n    <tr>\n      <th>0</th>\n      <td>-2.141667e-01</td>\n      <td>2.188750e+00</td>\n      <td>0.000000</td>\n      <td>0.000000</td>\n    </tr>\n    <tr>\n      <th>1</th>\n      <td>-1.591444e-08</td>\n      <td>1.009623e-07</td>\n      <td>0.000000</td>\n      <td>0.000000</td>\n    </tr>\n    <tr>\n      <th>4</th>\n      <td>-1.304063e-01</td>\n      <td>8.511667e-01</td>\n      <td>0.000000</td>\n      <td>0.000000</td>\n    </tr>\n    <tr>\n      <th>5</th>\n      <td>-1.720703e-01</td>\n      <td>1.370667e+00</td>\n      <td>0.000000</td>\n      <td>0.000000</td>\n    </tr>\n    <tr>\n      <th>6</th>\n      <td>-1.575549e-08</td>\n      <td>1.018524e-07</td>\n      <td>0.000000</td>\n      <td>0.000000</td>\n    </tr>\n    <tr>\n      <th>...</th>\n      <td>...</td>\n      <td>...</td>\n      <td>...</td>\n      <td>...</td>\n    </tr>\n    <tr>\n      <th>43785</th>\n      <td>-2.281543e-01</td>\n      <td>2.169461e+00</td>\n      <td>0.216825</td>\n      <td>0.477396</td>\n    </tr>\n    <tr>\n      <th>43786</th>\n      <td>-1.734865e-01</td>\n      <td>-3.334302e-08</td>\n      <td>0.214300</td>\n      <td>0.197862</td>\n    </tr>\n    <tr>\n      <th>43789</th>\n      <td>-3.471395e-01</td>\n      <td>3.021500e+00</td>\n      <td>0.547100</td>\n      <td>0.275369</td>\n    </tr>\n    <tr>\n      <th>43790</th>\n      <td>-5.187050e-01</td>\n      <td>1.456333e+00</td>\n      <td>0.114963</td>\n      <td>0.646283</td>\n    </tr>\n    <tr>\n      <th>43791</th>\n      <td>-1.185302e-01</td>\n      <td>-4.904763e-09</td>\n      <td>0.210063</td>\n      <td>0.108337</td>\n    </tr>\n  </tbody>\n</table>\n<p>26276 rows × 4 columns</p>\n</div>"
     },
     "execution_count": 115,
     "metadata": {},
     "output_type": "execute_result"
    }
   ],
   "source": [
    "train_buildings = [0, 1, 2]\n",
    "validation_buildings = [3, 4]\n",
    "\n",
    "df_train_buildings = df_known.loc[df_known[\"agent_id\"].isin(train_buildings)]\n",
    "df_val_buildings = df_known.loc[df_known[\"agent_id\"].isin(validation_buildings)]\n",
    "\n",
    "historic_columns_cap = 2\n",
    "include_columns = [ \"label\", # action\n",
    "                    # \"electrical_storage_soc\",\n",
    "                    \"net_electricity_consumption\"]\n",
    "# include_columns += historic_col_names[:historic_columns_cap]\n",
    "include_columns += slope_names\n",
    "\n",
    "df_train_buildings = df_train_buildings[[x for x in df_train_buildings.columns if x in include_columns]]\n",
    "df_val_buildings = df_val_buildings[[x for x in df_val_buildings.columns if x in include_columns]]\n",
    "df_train_buildings"
   ],
   "metadata": {
    "collapsed": false
   }
  },
  {
   "cell_type": "code",
   "execution_count": 116,
   "outputs": [],
   "source": [
    "model = tf.keras.models.Sequential([\n",
    "  tf.keras.layers.Dense(32, activation='relu'),\n",
    "  # tf.keras.layers.Dropout(0.2),\n",
    "  tf.keras.layers.Dense(32, activation='relu'),\n",
    "  # tf.keras.layers.Dropout(0.2),\n",
    "  # tf.keras.layers.Dense(16, activation='relu'),\n",
    "  # tf.keras.layers.Dropout(0.2),\n",
    "  tf.keras.layers.Dense(1)\n",
    "])"
   ],
   "metadata": {
    "collapsed": false
   }
  },
  {
   "cell_type": "code",
   "execution_count": 1,
   "outputs": [
    {
     "ename": "NameError",
     "evalue": "name 'model' is not defined",
     "output_type": "error",
     "traceback": [
      "\u001B[1;31m---------------------------------------------------------------------------\u001B[0m",
      "\u001B[1;31mNameError\u001B[0m                                 Traceback (most recent call last)",
      "Cell \u001B[1;32mIn [1], line 1\u001B[0m\n\u001B[1;32m----> 1\u001B[0m model\u001B[38;5;241m.\u001B[39mcompile(optimizer\u001B[38;5;241m=\u001B[39m\u001B[38;5;124m'\u001B[39m\u001B[38;5;124madam\u001B[39m\u001B[38;5;124m'\u001B[39m,\n\u001B[0;32m      2\u001B[0m               loss\u001B[38;5;241m=\u001B[39mtf\u001B[38;5;241m.\u001B[39mlosses\u001B[38;5;241m.\u001B[39mMeanSquaredError(),\n\u001B[0;32m      3\u001B[0m               metrics\u001B[38;5;241m=\u001B[39m[\u001B[38;5;124m'\u001B[39m\u001B[38;5;124mmean_absolute_error\u001B[39m\u001B[38;5;124m'\u001B[39m])\n\u001B[0;32m      4\u001B[0m y_train \u001B[38;5;241m=\u001B[39m df_train_buildings[\u001B[38;5;124m\"\u001B[39m\u001B[38;5;124mlabel\u001B[39m\u001B[38;5;124m\"\u001B[39m]\n\u001B[0;32m      5\u001B[0m X_train \u001B[38;5;241m=\u001B[39m df_train_buildings\u001B[38;5;241m.\u001B[39mdrop([\u001B[38;5;124m\"\u001B[39m\u001B[38;5;124mlabel\u001B[39m\u001B[38;5;124m\"\u001B[39m], axis\u001B[38;5;241m=\u001B[39m\u001B[38;5;241m1\u001B[39m)\n",
      "\u001B[1;31mNameError\u001B[0m: name 'model' is not defined"
     ]
    }
   ],
   "source": [
    "model.compile(optimizer='adam',\n",
    "              loss=tf.losses.MeanSquaredError(),\n",
    "              metrics=['mean_absolute_error'])\n",
    "y_train = df_train_buildings[\"label\"]\n",
    "X_train = df_train_buildings.drop([\"label\"], axis=1)\n",
    "\n",
    "y_test = df_val_buildings[\"label\"]\n",
    "X_test = df_val_buildings.drop([\"label\"], axis=1)\n",
    "history = model.fit(x=X_train, y=y_train, batch_size=256, epochs=100000, validation_data=(X_test, y_test))"
   ],
   "metadata": {
    "collapsed": false
   }
  },
  {
   "cell_type": "code",
   "execution_count": 23,
   "outputs": [
    {
     "data": {
      "text/plain": "       electrical_storage_soc  net_electricity_consumption\n0                    0.000000                 2.188750e+00\n1                    0.000000                 1.009623e-07\n4                    0.000000                 8.511667e-01\n5                    0.000000                 1.370667e+00\n6                    0.000000                 1.018524e-07\n...                       ...                          ...\n43785                0.000000                 2.169461e+00\n43786                0.196848                -3.334302e-08\n43789                0.000000                 3.021500e+00\n43790                0.000000                 1.456333e+00\n43791                0.006422                -4.904763e-09\n\n[26276 rows x 2 columns]",
      "text/html": "<div>\n<style scoped>\n    .dataframe tbody tr th:only-of-type {\n        vertical-align: middle;\n    }\n\n    .dataframe tbody tr th {\n        vertical-align: top;\n    }\n\n    .dataframe thead th {\n        text-align: right;\n    }\n</style>\n<table border=\"1\" class=\"dataframe\">\n  <thead>\n    <tr style=\"text-align: right;\">\n      <th></th>\n      <th>electrical_storage_soc</th>\n      <th>net_electricity_consumption</th>\n    </tr>\n  </thead>\n  <tbody>\n    <tr>\n      <th>0</th>\n      <td>0.000000</td>\n      <td>2.188750e+00</td>\n    </tr>\n    <tr>\n      <th>1</th>\n      <td>0.000000</td>\n      <td>1.009623e-07</td>\n    </tr>\n    <tr>\n      <th>4</th>\n      <td>0.000000</td>\n      <td>8.511667e-01</td>\n    </tr>\n    <tr>\n      <th>5</th>\n      <td>0.000000</td>\n      <td>1.370667e+00</td>\n    </tr>\n    <tr>\n      <th>6</th>\n      <td>0.000000</td>\n      <td>1.018524e-07</td>\n    </tr>\n    <tr>\n      <th>...</th>\n      <td>...</td>\n      <td>...</td>\n    </tr>\n    <tr>\n      <th>43785</th>\n      <td>0.000000</td>\n      <td>2.169461e+00</td>\n    </tr>\n    <tr>\n      <th>43786</th>\n      <td>0.196848</td>\n      <td>-3.334302e-08</td>\n    </tr>\n    <tr>\n      <th>43789</th>\n      <td>0.000000</td>\n      <td>3.021500e+00</td>\n    </tr>\n    <tr>\n      <th>43790</th>\n      <td>0.000000</td>\n      <td>1.456333e+00</td>\n    </tr>\n    <tr>\n      <th>43791</th>\n      <td>0.006422</td>\n      <td>-4.904763e-09</td>\n    </tr>\n  </tbody>\n</table>\n<p>26276 rows × 2 columns</p>\n</div>"
     },
     "execution_count": 23,
     "metadata": {},
     "output_type": "execute_result"
    }
   ],
   "source": [],
   "metadata": {
    "collapsed": false
   }
  },
  {
   "cell_type": "code",
   "execution_count": null,
   "outputs": [],
   "source": [],
   "metadata": {
    "collapsed": false
   }
  }
 ],
 "metadata": {
  "kernelspec": {
   "display_name": "Python 3",
   "language": "python",
   "name": "python3"
  },
  "language_info": {
   "codemirror_mode": {
    "name": "ipython",
    "version": 2
   },
   "file_extension": ".py",
   "mimetype": "text/x-python",
   "name": "python",
   "nbconvert_exporter": "python",
   "pygments_lexer": "ipython2",
   "version": "2.7.6"
  }
 },
 "nbformat": 4,
 "nbformat_minor": 0
}
