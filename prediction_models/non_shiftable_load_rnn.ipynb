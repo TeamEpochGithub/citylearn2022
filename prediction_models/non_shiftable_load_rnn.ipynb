{
 "cells": [
  {
   "cell_type": "code",
   "execution_count": 19,
   "metadata": {
    "collapsed": true,
    "pycharm": {
     "name": "#%%\n"
    }
   },
   "outputs": [],
   "source": [
    "from pandas import read_csv\n",
    "import numpy as np\n",
    "from tensorflow import keras\n",
    "from keras.models import Sequential\n",
    "from keras.layers import Dense, SimpleRNN\n",
    "from sklearn.preprocessing import MinMaxScaler\n",
    "from sklearn.metrics import mean_squared_error\n",
    "import math\n",
    "import matplotlib.pyplot as plt\n"
   ]
  },
  {
   "cell_type": "code",
   "execution_count": 20,
   "outputs": [],
   "source": [
    "import pandas as pd\n",
    "from data import citylearn_challenge_2022_phase_1 as competition_data\n",
    "import os.path as osp\n",
    "\n",
    "nsload_data_path = osp.join(osp.dirname(competition_data.__file__), \"load_data.csv\")\n",
    "nsload_data = pd.read_csv(nsload_data_path)\n",
    "\n",
    "# for i in range(5):\n",
    "#     plt.plot(nsload_data[\"non_shiftable_load\"][i*8760 : 8760 + i*8760])\n",
    "#     plt.show()"
   ],
   "metadata": {
    "collapsed": false,
    "pycharm": {
     "name": "#%%\n"
    }
   }
  },
  {
   "cell_type": "code",
   "execution_count": 21,
   "outputs": [],
   "source": [
    "selected_params = [\"outdoor_dry_bulb\", \"non_shiftable_load\", \"non_shiftable_load_future\"] # \"outdoor_dry_bulb\", \"outdoor_relative_humidity\",\n",
    "nsload_data = nsload_data[selected_params]"
   ],
   "metadata": {
    "collapsed": false,
    "pycharm": {
     "name": "#%%\n"
    }
   }
  },
  {
   "cell_type": "code",
   "execution_count": 22,
   "outputs": [
    {
     "data": {
      "text/plain": "       outdoor_dry_bulb  non_shiftable_load  non_shiftable_load_future\n0                  20.1            0.851167                   0.834600\n1                  19.7            0.834600                   0.838167\n2                  19.3            0.838167                   1.478433\n3                  18.9            1.478433                   1.256200\n4                  18.3            1.256200                   1.869517\n...                 ...                 ...                        ...\n43785              21.1            3.964600                   2.730183\n43786              20.6            2.730183                   0.935833\n43787              21.1            0.935833                   2.155017\n43788              21.7            2.155017                   2.316400\n43789              21.3            2.316400                   1.212400\n\n[43790 rows x 3 columns]",
      "text/html": "<div>\n<style scoped>\n    .dataframe tbody tr th:only-of-type {\n        vertical-align: middle;\n    }\n\n    .dataframe tbody tr th {\n        vertical-align: top;\n    }\n\n    .dataframe thead th {\n        text-align: right;\n    }\n</style>\n<table border=\"1\" class=\"dataframe\">\n  <thead>\n    <tr style=\"text-align: right;\">\n      <th></th>\n      <th>outdoor_dry_bulb</th>\n      <th>non_shiftable_load</th>\n      <th>non_shiftable_load_future</th>\n    </tr>\n  </thead>\n  <tbody>\n    <tr>\n      <th>0</th>\n      <td>20.1</td>\n      <td>0.851167</td>\n      <td>0.834600</td>\n    </tr>\n    <tr>\n      <th>1</th>\n      <td>19.7</td>\n      <td>0.834600</td>\n      <td>0.838167</td>\n    </tr>\n    <tr>\n      <th>2</th>\n      <td>19.3</td>\n      <td>0.838167</td>\n      <td>1.478433</td>\n    </tr>\n    <tr>\n      <th>3</th>\n      <td>18.9</td>\n      <td>1.478433</td>\n      <td>1.256200</td>\n    </tr>\n    <tr>\n      <th>4</th>\n      <td>18.3</td>\n      <td>1.256200</td>\n      <td>1.869517</td>\n    </tr>\n    <tr>\n      <th>...</th>\n      <td>...</td>\n      <td>...</td>\n      <td>...</td>\n    </tr>\n    <tr>\n      <th>43785</th>\n      <td>21.1</td>\n      <td>3.964600</td>\n      <td>2.730183</td>\n    </tr>\n    <tr>\n      <th>43786</th>\n      <td>20.6</td>\n      <td>2.730183</td>\n      <td>0.935833</td>\n    </tr>\n    <tr>\n      <th>43787</th>\n      <td>21.1</td>\n      <td>0.935833</td>\n      <td>2.155017</td>\n    </tr>\n    <tr>\n      <th>43788</th>\n      <td>21.7</td>\n      <td>2.155017</td>\n      <td>2.316400</td>\n    </tr>\n    <tr>\n      <th>43789</th>\n      <td>21.3</td>\n      <td>2.316400</td>\n      <td>1.212400</td>\n    </tr>\n  </tbody>\n</table>\n<p>43790 rows × 3 columns</p>\n</div>"
     },
     "execution_count": 22,
     "metadata": {},
     "output_type": "execute_result"
    }
   ],
   "source": [
    "nsload_data"
   ],
   "metadata": {
    "collapsed": false,
    "pycharm": {
     "name": "#%%\n"
    }
   }
  },
  {
   "cell_type": "code",
   "execution_count": 23,
   "outputs": [
    {
     "name": "stdout",
     "output_type": "stream",
     "text": [
      "[[ 0.91549546 -0.24193832]\n",
      " [ 0.80328076 -0.26057443]\n",
      " [ 0.69106605 -0.25656223]\n",
      " ...\n",
      " [ 1.19603224 -0.14669546]\n",
      " [ 1.3643543   1.22478309]\n",
      " [ 1.25213959  1.40632574]]\n",
      "(43790, 2)\n",
      "(43790, 1)\n"
     ]
    }
   ],
   "source": [
    "from sklearn.preprocessing import StandardScaler\n",
    "sc = StandardScaler()\n",
    "# nsload_data = nsload_data[0:8760]\n",
    "df_load_scaled = sc.fit_transform(nsload_data)\n",
    "df_load_scaled = np.delete(df_load_scaled, -1, axis=1)\n",
    "print(df_load_scaled)\n",
    "print(df_load_scaled.shape)\n",
    "\n",
    "sc2 = StandardScaler()\n",
    "df_load_scaled_y = sc2.fit_transform(nsload_data[[\"non_shiftable_load_future\"]])\n",
    "print(df_load_scaled_y.shape)"
   ],
   "metadata": {
    "collapsed": false,
    "pycharm": {
     "name": "#%%\n"
    }
   }
  },
  {
   "cell_type": "code",
   "execution_count": 24,
   "outputs": [
    {
     "name": "stdout",
     "output_type": "stream",
     "text": [
      "(43766, 24, 2)\n",
      "(43766,)\n"
     ]
    }
   ],
   "source": [
    "hops = 24\n",
    "no_records = df_load_scaled_y.shape[0]\n",
    "no_cols = len(selected_params) - 1\n",
    "X_train = []\n",
    "y_train = []\n",
    "for i in range(hops, no_records):\n",
    "    X_train.append(df_load_scaled[i-hops:i])\n",
    "    y_train.append(df_load_scaled_y[i][0])\n",
    "X_train, y_train = np.array(X_train), np.array(y_train)\n",
    "\n",
    "print(X_train.shape)\n",
    "print(y_train.shape)"
   ],
   "metadata": {
    "collapsed": false,
    "pycharm": {
     "name": "#%%\n"
    }
   }
  },
  {
   "cell_type": "code",
   "execution_count": 25,
   "outputs": [],
   "source": [
    "X_train_reshaped = np.reshape(X_train, (X_train.shape[0], X_train.shape[1], X_train.shape[2]))"
   ],
   "metadata": {
    "collapsed": false,
    "pycharm": {
     "name": "#%%\n"
    }
   }
  },
  {
   "cell_type": "code",
   "execution_count": 26,
   "outputs": [
    {
     "data": {
      "text/plain": "(43766, 24, 2)"
     },
     "execution_count": 26,
     "metadata": {},
     "output_type": "execute_result"
    }
   ],
   "source": [
    "X_train_reshaped.shape"
   ],
   "metadata": {
    "collapsed": false,
    "pycharm": {
     "name": "#%%\n"
    }
   }
  },
  {
   "cell_type": "code",
   "execution_count": 27,
   "outputs": [],
   "source": [
    "from keras.models import Sequential\n",
    "from keras.layers import Dense, LSTM, Dropout\n",
    "\n",
    "model=Sequential()\n",
    "model.add(LSTM(units=64, return_sequences=True, input_shape=(hops,no_cols)))\n",
    "model.add(Dropout(0.2))\n",
    "model.add(LSTM(units=64))\n",
    "model.add(Dropout(0.2))\n",
    "model.add(Dense(1))\n",
    "model.compile(optimizer='adam', loss='mean_squared_error')"
   ],
   "metadata": {
    "collapsed": false,
    "pycharm": {
     "name": "#%%\n"
    }
   }
  },
  {
   "cell_type": "code",
   "execution_count": 28,
   "outputs": [
    {
     "name": "stdout",
     "output_type": "stream",
     "text": [
      "Epoch 1/300\n",
      "912/912 [==============================] - 45s 45ms/step - loss: 0.8121 - val_loss: 0.5526\n",
      "Epoch 2/300\n",
      "912/912 [==============================] - 41s 45ms/step - loss: 0.7559 - val_loss: 0.5632\n",
      "Epoch 3/300\n",
      "912/912 [==============================] - 45s 49ms/step - loss: 0.7386 - val_loss: 0.5645\n",
      "Epoch 4/300\n",
      "912/912 [==============================] - 43s 47ms/step - loss: 0.7277 - val_loss: 0.5231\n",
      "Epoch 5/300\n",
      "912/912 [==============================] - 51s 56ms/step - loss: 0.7190 - val_loss: 0.5357\n",
      "Epoch 6/300\n",
      "912/912 [==============================] - 54s 59ms/step - loss: 0.7130 - val_loss: 0.5257\n",
      "Epoch 7/300\n",
      "912/912 [==============================] - 53s 58ms/step - loss: 0.7092 - val_loss: 0.5114\n",
      "Epoch 8/300\n",
      "912/912 [==============================] - 92s 101ms/step - loss: 0.7017 - val_loss: 0.5354\n",
      "Epoch 9/300\n",
      "912/912 [==============================] - 81s 89ms/step - loss: 0.6964 - val_loss: 0.5277\n",
      "Epoch 10/300\n",
      "912/912 [==============================] - 87s 96ms/step - loss: 0.6900 - val_loss: 0.5536\n",
      "Epoch 11/300\n",
      "912/912 [==============================] - 92s 101ms/step - loss: 0.6854 - val_loss: 0.5471\n",
      "Epoch 12/300\n",
      "912/912 [==============================] - 94s 103ms/step - loss: 0.6787 - val_loss: 0.5226\n",
      "Epoch 13/300\n",
      "912/912 [==============================] - 100s 110ms/step - loss: 0.6764 - val_loss: 0.5345\n",
      "Epoch 14/300\n",
      "912/912 [==============================] - 97s 106ms/step - loss: 0.6678 - val_loss: 0.5502\n",
      "Epoch 15/300\n",
      "912/912 [==============================] - 102s 112ms/step - loss: 0.6560 - val_loss: 0.5419\n",
      "Epoch 16/300\n",
      "912/912 [==============================] - 106s 116ms/step - loss: 0.6527 - val_loss: 0.5501\n",
      "Epoch 17/300\n",
      "912/912 [==============================] - 68s 74ms/step - loss: 0.6440 - val_loss: 0.5773\n",
      "Epoch 18/300\n",
      "912/912 [==============================] - 47s 52ms/step - loss: 0.6359 - val_loss: 0.5657\n",
      "Epoch 19/300\n",
      "912/912 [==============================] - 48s 53ms/step - loss: 0.6249 - val_loss: 0.5838\n",
      "Epoch 20/300\n",
      "912/912 [==============================] - 47s 51ms/step - loss: 0.6158 - val_loss: 0.5797\n",
      "Epoch 21/300\n",
      "912/912 [==============================] - 47s 51ms/step - loss: 0.6090 - val_loss: 0.5925\n",
      "Epoch 22/300\n",
      "912/912 [==============================] - 48s 52ms/step - loss: 0.5988 - val_loss: 0.6061\n",
      "Epoch 23/300\n",
      "912/912 [==============================] - 48s 52ms/step - loss: 0.5919 - val_loss: 0.5909\n",
      "Epoch 24/300\n",
      "912/912 [==============================] - 47s 52ms/step - loss: 0.5825 - val_loss: 0.5998\n",
      "Epoch 25/300\n",
      "912/912 [==============================] - 48s 53ms/step - loss: 0.5658 - val_loss: 0.6132\n",
      "Epoch 26/300\n",
      "912/912 [==============================] - 47s 52ms/step - loss: 0.5567 - val_loss: 0.6447\n",
      "Epoch 27/300\n",
      "912/912 [==============================] - 47s 52ms/step - loss: 0.5453 - val_loss: 0.6380\n",
      "Epoch 28/300\n",
      "912/912 [==============================] - 48s 53ms/step - loss: 0.5356 - val_loss: 0.6778\n",
      "Epoch 29/300\n",
      "912/912 [==============================] - 49s 53ms/step - loss: 0.5229 - val_loss: 0.6592\n",
      "Epoch 30/300\n",
      "912/912 [==============================] - 48s 53ms/step - loss: 0.5191 - val_loss: 0.6770\n",
      "Epoch 31/300\n",
      "912/912 [==============================] - 48s 53ms/step - loss: 0.5070 - val_loss: 0.6806\n",
      "Epoch 32/300\n",
      "912/912 [==============================] - 48s 53ms/step - loss: 0.4990 - val_loss: 0.6670\n",
      "Epoch 33/300\n",
      "912/912 [==============================] - 48s 53ms/step - loss: 0.4844 - val_loss: 0.6760\n",
      "Epoch 34/300\n",
      "912/912 [==============================] - 48s 53ms/step - loss: 0.4717 - val_loss: 0.7544\n",
      "Epoch 35/300\n",
      "912/912 [==============================] - 48s 53ms/step - loss: 0.4711 - val_loss: 0.7390\n",
      "Epoch 36/300\n",
      "912/912 [==============================] - 49s 54ms/step - loss: 0.4618 - val_loss: 0.7082\n",
      "Epoch 37/300\n",
      "912/912 [==============================] - 49s 54ms/step - loss: 0.4544 - val_loss: 0.7348\n",
      "Epoch 38/300\n",
      "912/912 [==============================] - 49s 54ms/step - loss: 0.4366 - val_loss: 0.7639\n",
      "Epoch 39/300\n",
      "912/912 [==============================] - 49s 54ms/step - loss: 0.4307 - val_loss: 0.7357\n",
      "Epoch 40/300\n",
      "912/912 [==============================] - 49s 54ms/step - loss: 0.4195 - val_loss: 0.7447\n",
      "Epoch 41/300\n",
      "912/912 [==============================] - 49s 54ms/step - loss: 0.4166 - val_loss: 0.7758\n",
      "Epoch 42/300\n",
      "912/912 [==============================] - 50s 54ms/step - loss: 0.4148 - val_loss: 0.8150\n",
      "Epoch 43/300\n",
      "912/912 [==============================] - 49s 54ms/step - loss: 0.3958 - val_loss: 0.7586\n",
      "Epoch 44/300\n",
      "912/912 [==============================] - 50s 55ms/step - loss: 0.3962 - val_loss: 0.8136\n",
      "Epoch 45/300\n",
      "912/912 [==============================] - 50s 55ms/step - loss: 0.3884 - val_loss: 0.7771\n",
      "Epoch 46/300\n",
      "912/912 [==============================] - 50s 55ms/step - loss: 0.3808 - val_loss: 0.7290\n",
      "Epoch 47/300\n",
      "912/912 [==============================] - 51s 56ms/step - loss: 0.3773 - val_loss: 0.7700\n",
      "Epoch 48/300\n",
      "912/912 [==============================] - 51s 56ms/step - loss: 0.3779 - val_loss: 0.7488\n",
      "Epoch 49/300\n",
      "912/912 [==============================] - 51s 56ms/step - loss: 0.3603 - val_loss: 0.7514\n",
      "Epoch 50/300\n",
      "912/912 [==============================] - 64s 70ms/step - loss: 0.3593 - val_loss: 0.7837\n",
      "Epoch 51/300\n",
      "455/912 [=============>................] - ETA: 34s - loss: 0.3560"
     ]
    },
    {
     "name": "stderr",
     "output_type": "stream",
     "text": [
      "\n",
      "KeyboardInterrupt\n",
      "\n"
     ]
    }
   ],
   "source": [
    "model.fit(X_train_reshaped, y_train, validation_split=0.5, epochs=300, batch_size=24, shuffle=True, workers=24, use_multiprocessing=True)"
   ],
   "metadata": {
    "collapsed": false,
    "pycharm": {
     "name": "#%%\n"
    }
   }
  },
  {
   "cell_type": "code",
   "execution_count": null,
   "outputs": [],
   "source": [
    "from pickle import dump\n",
    "model.save(\"non_shiftable_load_model.h5\")\n",
    "dump(sc, open(\"non_shiftable_load_scaler.pkl\", \"wb\"))"
   ],
   "metadata": {
    "collapsed": false,
    "pycharm": {
     "name": "#%%\n"
    }
   }
  },
  {
   "cell_type": "code",
   "execution_count": 251,
   "outputs": [],
   "source": [],
   "metadata": {
    "collapsed": false,
    "pycharm": {
     "name": "#%%\n"
    }
   }
  },
  {
   "cell_type": "code",
   "execution_count": null,
   "outputs": [],
   "source": [],
   "metadata": {
    "collapsed": false,
    "pycharm": {
     "name": "#%%\n"
    }
   }
  },
  {
   "cell_type": "code",
   "execution_count": null,
   "outputs": [],
   "source": [],
   "metadata": {
    "collapsed": false,
    "pycharm": {
     "name": "#%%\n"
    }
   }
  },
  {
   "cell_type": "code",
   "execution_count": null,
   "outputs": [],
   "source": [],
   "metadata": {
    "collapsed": false,
    "pycharm": {
     "name": "#%%\n"
    }
   }
  },
  {
   "cell_type": "code",
   "execution_count": null,
   "outputs": [],
   "source": [],
   "metadata": {
    "collapsed": false,
    "pycharm": {
     "name": "#%%\n"
    }
   }
  },
  {
   "cell_type": "code",
   "execution_count": null,
   "outputs": [],
   "source": [],
   "metadata": {
    "collapsed": false,
    "pycharm": {
     "name": "#%%\n"
    }
   }
  },
  {
   "cell_type": "code",
   "execution_count": null,
   "outputs": [],
   "source": [],
   "metadata": {
    "collapsed": false,
    "pycharm": {
     "name": "#%%\n"
    }
   }
  },
  {
   "cell_type": "code",
   "execution_count": null,
   "outputs": [],
   "source": [],
   "metadata": {
    "collapsed": false,
    "pycharm": {
     "name": "#%%\n"
    }
   }
  },
  {
   "cell_type": "code",
   "execution_count": null,
   "outputs": [],
   "source": [],
   "metadata": {
    "collapsed": false,
    "pycharm": {
     "name": "#%%\n"
    }
   }
  },
  {
   "cell_type": "code",
   "execution_count": null,
   "outputs": [],
   "source": [],
   "metadata": {
    "collapsed": false,
    "pycharm": {
     "name": "#%%\n"
    }
   }
  },
  {
   "cell_type": "code",
   "execution_count": null,
   "outputs": [],
   "source": [],
   "metadata": {
    "collapsed": false,
    "pycharm": {
     "name": "#%%\n"
    }
   }
  },
  {
   "cell_type": "code",
   "execution_count": null,
   "outputs": [],
   "source": [],
   "metadata": {
    "collapsed": false,
    "pycharm": {
     "name": "#%%\n"
    }
   }
  },
  {
   "cell_type": "code",
   "execution_count": 60,
   "outputs": [],
   "source": [
    "# units = dimensionality of the output space\n",
    "\n",
    "\n",
    "def create_RNN(hidden_units, dense_units, input_shape, activation):\n",
    "    model = Sequential()\n",
    "    model.add(SimpleRNN(hidden_units, input_shape=input_shape,\n",
    "                        activation=activation[0]))\n",
    "    model.add(Dense(units=dense_units, activation=activation[1]))\n",
    "    model.compile(loss='mean_squared_error', optimizer='adam')\n",
    "    return model\n",
    "\n",
    "demo_model = create_RNN(hidden_units=2, dense_units=1, input_shape=(3,1), activation=['relu', 'relu'])"
   ],
   "metadata": {
    "collapsed": false,
    "pycharm": {
     "name": "#%%\n"
    }
   }
  },
  {
   "cell_type": "code",
   "execution_count": null,
   "outputs": [],
   "source": [],
   "metadata": {
    "collapsed": false,
    "pycharm": {
     "name": "#%%\n"
    }
   }
  }
 ],
 "metadata": {
  "kernelspec": {
   "display_name": "Python 3",
   "language": "python",
   "name": "python3"
  },
  "language_info": {
   "codemirror_mode": {
    "name": "ipython",
    "version": 2
   },
   "file_extension": ".py",
   "mimetype": "text/x-python",
   "name": "python",
   "nbconvert_exporter": "python",
   "pygments_lexer": "ipython2",
   "version": "2.7.6"
  }
 },
 "nbformat": 4,
 "nbformat_minor": 0
}