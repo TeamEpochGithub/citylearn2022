{
 "cells": [
  {
   "cell_type": "code",
   "execution_count": 78,
   "metadata": {
    "collapsed": true,
    "pycharm": {
     "name": "#%%\n"
    }
   },
   "outputs": [],
   "source": [
    "import os.path as osp\n",
    "import data.citylearn_challenge_2022_phase_1 as competition_data\n",
    "import pandas as pd"
   ]
  },
  {
   "cell_type": "code",
   "execution_count": 79,
   "outputs": [],
   "source": [
    "import csv\n",
    "action_file_path = osp.join(osp.dirname(competition_data.__file__), 'perfect_actions.csv')\n",
    "\n",
    "col_names = [\"month\",\n",
    "    \"day_type\",\n",
    "    \"hour\",\n",
    "    \"outdoor_dry_bulb_temperature\",\n",
    "    \"outdoor_dry_bulb_temperature_predicted_6h\",\n",
    "    \"outdoor_dry_bulb_temperature_predicted_12h\",\n",
    "    \"outdoor_dry_bulb_temperature_predicted_24h\",\n",
    "    \"outdoor_relative_humidity\",\n",
    "    \"outdoor_relative_humidity_predicted_6h\",\n",
    "    \"outdoor_relative_humidity_predicted_12h\",\n",
    "    \"outdoor_relative_humidity_predicted_24h\",\n",
    "    \"diffuse_solar_irradiance\",\n",
    "    \"diffuse_solar_irradiance_predicted_6h\",\n",
    "    \"diffuse_solar_irradiance_predicted_12h\",\n",
    "    \"diffuse_solar_irradiance_predicted_24h\",\n",
    "    \"direct_solar_irradiance\",\n",
    "    \"direct_solar_irradiance_predicted_6h\",\n",
    "    \"direct_solar_irradiance_predicted_12h\",\n",
    "    \"direct_solar_irradiance_predicted_24h\",\n",
    "    \"carbon_intensity\",\n",
    "    \"non_shiftable_load\",\n",
    "    \"solar_generation\",\n",
    "    \"electrical_storage_soc\",\n",
    "    \"net_electricity_consumption\",\n",
    "    \"electricity_pricing\",\n",
    "    \"electricity_pricing_predicted_6h\",\n",
    "    \"electricity_pricing_predicted_12h\",\n",
    "    \"electricity_pricing_predicted_24h\",\n",
    "    \"action\"]\n",
    "\n",
    "# with open(action_file_path,newline='') as f:\n",
    "#     r = csv.reader(f)\n",
    "#     data = [line for line in r]\n",
    "# with open(action_file_path,'w',newline='') as f:\n",
    "#     w = csv.writer(f)\n",
    "#     w.writerow(col_names)\n",
    "#     w.writerows(data)\n",
    "\n"
   ],
   "metadata": {
    "collapsed": false,
    "pycharm": {
     "name": "#%%\n"
    }
   }
  },
  {
   "cell_type": "code",
   "execution_count": 81,
   "outputs": [
    {
     "data": {
      "text/plain": "   month  day_type  hour  outdoor_dry_bulb_temperature  \\\n0      7         7    24                          20.0   \n1      7         7    24                          20.0   \n2      7         7    24                          20.0   \n3      7         7    24                          20.0   \n4      7         7    24                          20.0   \n\n   outdoor_dry_bulb_temperature_predicted_6h  \\\n0                                       18.3   \n1                                       18.3   \n2                                       18.3   \n3                                       18.3   \n4                                       18.3   \n\n   outdoor_dry_bulb_temperature_predicted_12h  \\\n0                                        22.8   \n1                                        22.8   \n2                                        22.8   \n3                                        22.8   \n4                                        22.8   \n\n   outdoor_dry_bulb_temperature_predicted_24h  outdoor_relative_humidity  \\\n0                                        20.0                       84.0   \n1                                        20.0                       84.0   \n2                                        20.0                       84.0   \n3                                        20.0                       84.0   \n4                                        20.0                       84.0   \n\n   outdoor_relative_humidity_predicted_6h  \\\n0                                    81.0   \n1                                    81.0   \n2                                    81.0   \n3                                    81.0   \n4                                    81.0   \n\n   outdoor_relative_humidity_predicted_12h  ...  carbon_intensity  \\\n0                                     68.0  ...          0.170724   \n1                                     68.0  ...          0.170724   \n2                                     68.0  ...          0.170724   \n3                                     68.0  ...          0.170724   \n4                                     68.0  ...          0.170724   \n\n   non_shiftable_load  solar_generation  electrical_storage_soc  \\\n0        2.275800e+00               0.0                     0.0   \n1        2.188750e+00               0.0                     0.0   \n2        1.009623e-07               0.0                     0.0   \n3        2.819150e+00               0.0                     0.0   \n4        7.714333e-01               0.0                     0.0   \n\n   net_electricity_consumption  electricity_pricing  \\\n0                 2.275800e+00                 0.22   \n1                 2.188750e+00                 0.22   \n2                 1.009623e-07                 0.22   \n3                 2.819150e+00                 0.22   \n4                 7.714333e-01                 0.22   \n\n   electricity_pricing_predicted_6h  electricity_pricing_predicted_12h  \\\n0                              0.22                               0.22   \n1                              0.22                               0.22   \n2                              0.22                               0.22   \n3                              0.22                               0.22   \n4                              0.22                               0.22   \n\n   electricity_pricing_predicted_24h  action  \n0                               0.22     0.0  \n1                               0.22     0.0  \n2                               0.22     0.0  \n3                               0.22     0.0  \n4                               0.22     0.0  \n\n[5 rows x 29 columns]",
      "text/html": "<div>\n<style scoped>\n    .dataframe tbody tr th:only-of-type {\n        vertical-align: middle;\n    }\n\n    .dataframe tbody tr th {\n        vertical-align: top;\n    }\n\n    .dataframe thead th {\n        text-align: right;\n    }\n</style>\n<table border=\"1\" class=\"dataframe\">\n  <thead>\n    <tr style=\"text-align: right;\">\n      <th></th>\n      <th>month</th>\n      <th>day_type</th>\n      <th>hour</th>\n      <th>outdoor_dry_bulb_temperature</th>\n      <th>outdoor_dry_bulb_temperature_predicted_6h</th>\n      <th>outdoor_dry_bulb_temperature_predicted_12h</th>\n      <th>outdoor_dry_bulb_temperature_predicted_24h</th>\n      <th>outdoor_relative_humidity</th>\n      <th>outdoor_relative_humidity_predicted_6h</th>\n      <th>outdoor_relative_humidity_predicted_12h</th>\n      <th>...</th>\n      <th>carbon_intensity</th>\n      <th>non_shiftable_load</th>\n      <th>solar_generation</th>\n      <th>electrical_storage_soc</th>\n      <th>net_electricity_consumption</th>\n      <th>electricity_pricing</th>\n      <th>electricity_pricing_predicted_6h</th>\n      <th>electricity_pricing_predicted_12h</th>\n      <th>electricity_pricing_predicted_24h</th>\n      <th>action</th>\n    </tr>\n  </thead>\n  <tbody>\n    <tr>\n      <th>0</th>\n      <td>7</td>\n      <td>7</td>\n      <td>24</td>\n      <td>20.0</td>\n      <td>18.3</td>\n      <td>22.8</td>\n      <td>20.0</td>\n      <td>84.0</td>\n      <td>81.0</td>\n      <td>68.0</td>\n      <td>...</td>\n      <td>0.170724</td>\n      <td>2.275800e+00</td>\n      <td>0.0</td>\n      <td>0.0</td>\n      <td>2.275800e+00</td>\n      <td>0.22</td>\n      <td>0.22</td>\n      <td>0.22</td>\n      <td>0.22</td>\n      <td>0.0</td>\n    </tr>\n    <tr>\n      <th>1</th>\n      <td>7</td>\n      <td>7</td>\n      <td>24</td>\n      <td>20.0</td>\n      <td>18.3</td>\n      <td>22.8</td>\n      <td>20.0</td>\n      <td>84.0</td>\n      <td>81.0</td>\n      <td>68.0</td>\n      <td>...</td>\n      <td>0.170724</td>\n      <td>2.188750e+00</td>\n      <td>0.0</td>\n      <td>0.0</td>\n      <td>2.188750e+00</td>\n      <td>0.22</td>\n      <td>0.22</td>\n      <td>0.22</td>\n      <td>0.22</td>\n      <td>0.0</td>\n    </tr>\n    <tr>\n      <th>2</th>\n      <td>7</td>\n      <td>7</td>\n      <td>24</td>\n      <td>20.0</td>\n      <td>18.3</td>\n      <td>22.8</td>\n      <td>20.0</td>\n      <td>84.0</td>\n      <td>81.0</td>\n      <td>68.0</td>\n      <td>...</td>\n      <td>0.170724</td>\n      <td>1.009623e-07</td>\n      <td>0.0</td>\n      <td>0.0</td>\n      <td>1.009623e-07</td>\n      <td>0.22</td>\n      <td>0.22</td>\n      <td>0.22</td>\n      <td>0.22</td>\n      <td>0.0</td>\n    </tr>\n    <tr>\n      <th>3</th>\n      <td>7</td>\n      <td>7</td>\n      <td>24</td>\n      <td>20.0</td>\n      <td>18.3</td>\n      <td>22.8</td>\n      <td>20.0</td>\n      <td>84.0</td>\n      <td>81.0</td>\n      <td>68.0</td>\n      <td>...</td>\n      <td>0.170724</td>\n      <td>2.819150e+00</td>\n      <td>0.0</td>\n      <td>0.0</td>\n      <td>2.819150e+00</td>\n      <td>0.22</td>\n      <td>0.22</td>\n      <td>0.22</td>\n      <td>0.22</td>\n      <td>0.0</td>\n    </tr>\n    <tr>\n      <th>4</th>\n      <td>7</td>\n      <td>7</td>\n      <td>24</td>\n      <td>20.0</td>\n      <td>18.3</td>\n      <td>22.8</td>\n      <td>20.0</td>\n      <td>84.0</td>\n      <td>81.0</td>\n      <td>68.0</td>\n      <td>...</td>\n      <td>0.170724</td>\n      <td>7.714333e-01</td>\n      <td>0.0</td>\n      <td>0.0</td>\n      <td>7.714333e-01</td>\n      <td>0.22</td>\n      <td>0.22</td>\n      <td>0.22</td>\n      <td>0.22</td>\n      <td>0.0</td>\n    </tr>\n  </tbody>\n</table>\n<p>5 rows × 29 columns</p>\n</div>"
     },
     "execution_count": 81,
     "metadata": {},
     "output_type": "execute_result"
    }
   ],
   "source": [
    "df = pd.read_csv(action_file_path)\n",
    "df.head()"
   ],
   "metadata": {
    "collapsed": false,
    "pycharm": {
     "name": "#%%\n"
    }
   }
  },
  {
   "cell_type": "code",
   "execution_count": 82,
   "outputs": [
    {
     "data": {
      "text/plain": "   month  day_type  hour  outdoor_dry_bulb_temperature  \\\n0      7         7    24                          20.0   \n1      7         7    24                          20.0   \n2      7         7    24                          20.0   \n3      7         7    24                          20.0   \n4      7         7    24                          20.0   \n\n   outdoor_relative_humidity  diffuse_solar_irradiance  \\\n0                       84.0                       0.0   \n1                       84.0                       0.0   \n2                       84.0                       0.0   \n3                       84.0                       0.0   \n4                       84.0                       0.0   \n\n   direct_solar_irradiance  carbon_intensity  non_shiftable_load  \\\n0                      0.0          0.170724        2.275800e+00   \n1                      0.0          0.170724        2.188750e+00   \n2                      0.0          0.170724        1.009623e-07   \n3                      0.0          0.170724        2.819150e+00   \n4                      0.0          0.170724        7.714333e-01   \n\n   solar_generation  electrical_storage_soc  net_electricity_consumption  \\\n0               0.0                     0.0                 2.275800e+00   \n1               0.0                     0.0                 2.188750e+00   \n2               0.0                     0.0                 1.009623e-07   \n3               0.0                     0.0                 2.819150e+00   \n4               0.0                     0.0                 7.714333e-01   \n\n   electricity_pricing  action  \n0                 0.22     0.0  \n1                 0.22     0.0  \n2                 0.22     0.0  \n3                 0.22     0.0  \n4                 0.22     0.0  ",
      "text/html": "<div>\n<style scoped>\n    .dataframe tbody tr th:only-of-type {\n        vertical-align: middle;\n    }\n\n    .dataframe tbody tr th {\n        vertical-align: top;\n    }\n\n    .dataframe thead th {\n        text-align: right;\n    }\n</style>\n<table border=\"1\" class=\"dataframe\">\n  <thead>\n    <tr style=\"text-align: right;\">\n      <th></th>\n      <th>month</th>\n      <th>day_type</th>\n      <th>hour</th>\n      <th>outdoor_dry_bulb_temperature</th>\n      <th>outdoor_relative_humidity</th>\n      <th>diffuse_solar_irradiance</th>\n      <th>direct_solar_irradiance</th>\n      <th>carbon_intensity</th>\n      <th>non_shiftable_load</th>\n      <th>solar_generation</th>\n      <th>electrical_storage_soc</th>\n      <th>net_electricity_consumption</th>\n      <th>electricity_pricing</th>\n      <th>action</th>\n    </tr>\n  </thead>\n  <tbody>\n    <tr>\n      <th>0</th>\n      <td>7</td>\n      <td>7</td>\n      <td>24</td>\n      <td>20.0</td>\n      <td>84.0</td>\n      <td>0.0</td>\n      <td>0.0</td>\n      <td>0.170724</td>\n      <td>2.275800e+00</td>\n      <td>0.0</td>\n      <td>0.0</td>\n      <td>2.275800e+00</td>\n      <td>0.22</td>\n      <td>0.0</td>\n    </tr>\n    <tr>\n      <th>1</th>\n      <td>7</td>\n      <td>7</td>\n      <td>24</td>\n      <td>20.0</td>\n      <td>84.0</td>\n      <td>0.0</td>\n      <td>0.0</td>\n      <td>0.170724</td>\n      <td>2.188750e+00</td>\n      <td>0.0</td>\n      <td>0.0</td>\n      <td>2.188750e+00</td>\n      <td>0.22</td>\n      <td>0.0</td>\n    </tr>\n    <tr>\n      <th>2</th>\n      <td>7</td>\n      <td>7</td>\n      <td>24</td>\n      <td>20.0</td>\n      <td>84.0</td>\n      <td>0.0</td>\n      <td>0.0</td>\n      <td>0.170724</td>\n      <td>1.009623e-07</td>\n      <td>0.0</td>\n      <td>0.0</td>\n      <td>1.009623e-07</td>\n      <td>0.22</td>\n      <td>0.0</td>\n    </tr>\n    <tr>\n      <th>3</th>\n      <td>7</td>\n      <td>7</td>\n      <td>24</td>\n      <td>20.0</td>\n      <td>84.0</td>\n      <td>0.0</td>\n      <td>0.0</td>\n      <td>0.170724</td>\n      <td>2.819150e+00</td>\n      <td>0.0</td>\n      <td>0.0</td>\n      <td>2.819150e+00</td>\n      <td>0.22</td>\n      <td>0.0</td>\n    </tr>\n    <tr>\n      <th>4</th>\n      <td>7</td>\n      <td>7</td>\n      <td>24</td>\n      <td>20.0</td>\n      <td>84.0</td>\n      <td>0.0</td>\n      <td>0.0</td>\n      <td>0.170724</td>\n      <td>7.714333e-01</td>\n      <td>0.0</td>\n      <td>0.0</td>\n      <td>7.714333e-01</td>\n      <td>0.22</td>\n      <td>0.0</td>\n    </tr>\n  </tbody>\n</table>\n</div>"
     },
     "execution_count": 82,
     "metadata": {},
     "output_type": "execute_result"
    }
   ],
   "source": [
    "df = df[[\"month\",\n",
    "    \"day_type\",\n",
    "    \"hour\",\n",
    "    \"outdoor_dry_bulb_temperature\",\n",
    "    \"outdoor_relative_humidity\",\n",
    "    \"diffuse_solar_irradiance\",\n",
    "    \"direct_solar_irradiance\",\n",
    "    \"carbon_intensity\",\n",
    "    \"non_shiftable_load\",\n",
    "    \"solar_generation\",\n",
    "    \"electrical_storage_soc\",\n",
    "    \"net_electricity_consumption\",\n",
    "    \"electricity_pricing\",\n",
    "    \"action\"]]\n",
    "df.head()"
   ],
   "metadata": {
    "collapsed": false,
    "pycharm": {
     "name": "#%%\n"
    }
   }
  },
  {
   "cell_type": "code",
   "execution_count": 83,
   "outputs": [
    {
     "name": "stdout",
     "output_type": "stream",
     "text": [
      "43795\n",
      "43795\n"
     ]
    }
   ],
   "source": [
    "import numpy as np\n",
    "from sklearn.model_selection import LeaveOneGroupOut\n",
    "groups = np.array([i%5 for i in range(len(df))])\n",
    "logo = LeaveOneGroupOut()\n",
    "y = df[[\"action\"]]\n",
    "X = df.drop([\"action\"], axis=1)\n",
    "cv_iter = list(logo.split(X, y, groups))\n",
    "print(len(X))\n",
    "print(len(groups))"
   ],
   "metadata": {
    "collapsed": false,
    "pycharm": {
     "name": "#%%\n"
    }
   }
  },
  {
   "cell_type": "code",
   "execution_count": 84,
   "outputs": [],
   "source": [
    "# tpot.TPOTRegressor(generations=100, population_size=100,\n",
    "#                      offspring_size=None, mutation_rate=0.9,\n",
    "#                      crossover_rate=0.1,\n",
    "#                      scoring='neg_mean_squared_error', cv=5,\n",
    "#                      subsample=1.0, n_jobs=1,\n",
    "#                      max_time_mins=None, max_eval_time_mins=5,\n",
    "#                      random_state=None, config_dict=None,\n",
    "#                      template=None,\n",
    "#                      warm_start=False,\n",
    "#                      memory=None,\n",
    "#                      use_dask=False,\n",
    "#                      periodic_checkpoint_folder=None,\n",
    "#                      early_stop=None,\n",
    "#                      verbosity=0,\n",
    "#                      disable_update_check=False)"
   ],
   "metadata": {
    "collapsed": false,
    "pycharm": {
     "name": "#%%\n"
    }
   }
  },
  {
   "cell_type": "code",
   "execution_count": 85,
   "outputs": [
    {
     "name": "stderr",
     "output_type": "stream",
     "text": [
      "C:\\Users\\philip\\Storage\\Epoch\\citylearn-2022-starter-kit\\venv\\lib\\site-packages\\sklearn\\utils\\validation.py:993: DataConversionWarning: A column-vector y was passed when a 1d array was expected. Please change the shape of y to (n_samples, ), for example using ravel().\n",
      "  y = column_or_1d(y, warn=True)\n"
     ]
    },
    {
     "data": {
      "text/plain": "Optimization Progress:   0%|          | 0/40 [00:00<?, ?pipeline/s]",
      "application/vnd.jupyter.widget-view+json": {
       "version_major": 2,
       "version_minor": 0,
       "model_id": "982095c3b25b4506a961ab5cfdff8cdb"
      },
      "application/json": {
       "n": 0,
       "total": 40,
       "elapsed": 0.04958510398864746,
       "ncols": null,
       "nrows": null,
       "prefix": "Optimization Progress",
       "ascii": false,
       "unit": "pipeline",
       "unit_scale": false,
       "rate": null,
       "bar_format": null,
       "postfix": null,
       "unit_divisor": 1000,
       "initial": 0,
       "colour": null
      }
     },
     "metadata": {},
     "output_type": "display_data"
    },
    {
     "name": "stdout",
     "output_type": "stream",
     "text": [
      "\n",
      "Generation 1 - Current best internal CV score: -0.003281424893389187\n",
      "\n",
      "Generation 2 - Current best internal CV score: -0.003281424893389187\n",
      "\n",
      "Generation 3 - Current best internal CV score: -0.0032779050501836257\n",
      "\n",
      "Best pipeline: RandomForestRegressor(MaxAbsScaler(input_matrix), bootstrap=True, max_features=0.5, min_samples_leaf=18, min_samples_split=12, n_estimators=100)\n"
     ]
    },
    {
     "name": "stderr",
     "output_type": "stream",
     "text": [
      "C:\\Users\\philip\\Storage\\Epoch\\citylearn-2022-starter-kit\\venv\\lib\\site-packages\\sklearn\\utils\\validation.py:993: DataConversionWarning: A column-vector y was passed when a 1d array was expected. Please change the shape of y to (n_samples, ), for example using ravel().\n",
      "  y = column_or_1d(y, warn=True)\n"
     ]
    },
    {
     "name": "stdout",
     "output_type": "stream",
     "text": [
      "-0.0022657436871757154\n"
     ]
    }
   ],
   "source": [
    "from tpot import TPOTRegressor\n",
    "from sklearn.model_selection import train_test_split\n",
    "\n",
    "# X_train, X_test, y_train, y_test = train_test_split(X, y)\n",
    "\n",
    "tpot_regressor = TPOTRegressor(generations=3, population_size=10, verbosity=2, n_jobs=-1, cv=cv_iter)\n",
    "tpot_regressor.fit(X, y)\n",
    "print(tpot_regressor.score(X, y))"
   ],
   "metadata": {
    "collapsed": false,
    "pycharm": {
     "name": "#%%\n"
    }
   }
  },
  {
   "cell_type": "code",
   "execution_count": 88,
   "outputs": [],
   "source": [
    "tpot_regressor.export('tpot_exported_pipeline.py')"
   ],
   "metadata": {
    "collapsed": false,
    "pycharm": {
     "name": "#%%\n"
    }
   }
  },
  {
   "cell_type": "code",
   "execution_count": null,
   "outputs": [],
   "source": [],
   "metadata": {
    "collapsed": false,
    "pycharm": {
     "name": "#%%\n"
    }
   }
  },
  {
   "cell_type": "code",
   "execution_count": null,
   "outputs": [],
   "source": [],
   "metadata": {
    "collapsed": false,
    "pycharm": {
     "name": "#%%\n"
    }
   }
  }
 ],
 "metadata": {
  "kernelspec": {
   "display_name": "Python 3",
   "language": "python",
   "name": "python3"
  },
  "language_info": {
   "codemirror_mode": {
    "name": "ipython",
    "version": 2
   },
   "file_extension": ".py",
   "mimetype": "text/x-python",
   "name": "python",
   "nbconvert_exporter": "python",
   "pygments_lexer": "ipython2",
   "version": "2.7.6"
  }
 },
 "nbformat": 4,
 "nbformat_minor": 0
}