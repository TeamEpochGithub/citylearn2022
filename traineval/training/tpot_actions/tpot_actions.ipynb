{
 "cells": [
  {
   "cell_type": "code",
   "execution_count": 1,
   "metadata": {
    "collapsed": true
   },
   "outputs": [],
   "source": [
    "import os.path as osp\n",
    "import data.citylearn_challenge_2022_phase_1 as competition_data\n",
    "import pandas as pd"
   ]
  },
  {
   "cell_type": "code",
   "execution_count": 2,
   "outputs": [
    {
     "data": {
      "text/plain": "   7  7.1  24  20.0  18.3  22.8  20.0.1  84.0  81.0  68.0  ...  \\\n0  7    7  24  20.0  18.3  22.8    20.0  84.0  81.0  68.0  ...   \n1  7    7  24  20.0  18.3  22.8    20.0  84.0  81.0  68.0  ...   \n2  7    7  24  20.0  18.3  22.8    20.0  84.0  81.0  68.0  ...   \n3  7    7  24  20.0  18.3  22.8    20.0  84.0  81.0  68.0  ...   \n4  8    1   1  20.1  19.4  22.8    19.4  79.0  79.0  71.0  ...   \n\n   0.1707244126403808        2.2758  0.0.4  0.0.5      2.2758.1  0.22  0.22.1  \\\n0            0.170724  2.188750e+00    0.0    0.0  2.188750e+00  0.22    0.22   \n1            0.170724  1.009623e-07    0.0    0.0  1.009623e-07  0.22    0.22   \n2            0.170724  2.819150e+00    0.0    0.0  2.819150e+00  0.22    0.22   \n3            0.170724  7.714333e-01    0.0    0.0  7.714333e-01  0.22    0.22   \n4            0.157319  8.511667e-01    0.0    0.0  8.511667e-01  0.22    0.22   \n\n   0.22.2  0.22.3  -0.14580885734955468  \n0    0.22    0.22             -0.145809  \n1    0.22    0.22             -0.145809  \n2    0.22    0.22             -0.145809  \n3    0.22    0.22             -0.145809  \n4    0.22    0.22             -0.091085  \n\n[5 rows x 29 columns]",
      "text/html": "<div>\n<style scoped>\n    .dataframe tbody tr th:only-of-type {\n        vertical-align: middle;\n    }\n\n    .dataframe tbody tr th {\n        vertical-align: top;\n    }\n\n    .dataframe thead th {\n        text-align: right;\n    }\n</style>\n<table border=\"1\" class=\"dataframe\">\n  <thead>\n    <tr style=\"text-align: right;\">\n      <th></th>\n      <th>7</th>\n      <th>7.1</th>\n      <th>24</th>\n      <th>20.0</th>\n      <th>18.3</th>\n      <th>22.8</th>\n      <th>20.0.1</th>\n      <th>84.0</th>\n      <th>81.0</th>\n      <th>68.0</th>\n      <th>...</th>\n      <th>0.1707244126403808</th>\n      <th>2.2758</th>\n      <th>0.0.4</th>\n      <th>0.0.5</th>\n      <th>2.2758.1</th>\n      <th>0.22</th>\n      <th>0.22.1</th>\n      <th>0.22.2</th>\n      <th>0.22.3</th>\n      <th>-0.14580885734955468</th>\n    </tr>\n  </thead>\n  <tbody>\n    <tr>\n      <th>0</th>\n      <td>7</td>\n      <td>7</td>\n      <td>24</td>\n      <td>20.0</td>\n      <td>18.3</td>\n      <td>22.8</td>\n      <td>20.0</td>\n      <td>84.0</td>\n      <td>81.0</td>\n      <td>68.0</td>\n      <td>...</td>\n      <td>0.170724</td>\n      <td>2.188750e+00</td>\n      <td>0.0</td>\n      <td>0.0</td>\n      <td>2.188750e+00</td>\n      <td>0.22</td>\n      <td>0.22</td>\n      <td>0.22</td>\n      <td>0.22</td>\n      <td>-0.145809</td>\n    </tr>\n    <tr>\n      <th>1</th>\n      <td>7</td>\n      <td>7</td>\n      <td>24</td>\n      <td>20.0</td>\n      <td>18.3</td>\n      <td>22.8</td>\n      <td>20.0</td>\n      <td>84.0</td>\n      <td>81.0</td>\n      <td>68.0</td>\n      <td>...</td>\n      <td>0.170724</td>\n      <td>1.009623e-07</td>\n      <td>0.0</td>\n      <td>0.0</td>\n      <td>1.009623e-07</td>\n      <td>0.22</td>\n      <td>0.22</td>\n      <td>0.22</td>\n      <td>0.22</td>\n      <td>-0.145809</td>\n    </tr>\n    <tr>\n      <th>2</th>\n      <td>7</td>\n      <td>7</td>\n      <td>24</td>\n      <td>20.0</td>\n      <td>18.3</td>\n      <td>22.8</td>\n      <td>20.0</td>\n      <td>84.0</td>\n      <td>81.0</td>\n      <td>68.0</td>\n      <td>...</td>\n      <td>0.170724</td>\n      <td>2.819150e+00</td>\n      <td>0.0</td>\n      <td>0.0</td>\n      <td>2.819150e+00</td>\n      <td>0.22</td>\n      <td>0.22</td>\n      <td>0.22</td>\n      <td>0.22</td>\n      <td>-0.145809</td>\n    </tr>\n    <tr>\n      <th>3</th>\n      <td>7</td>\n      <td>7</td>\n      <td>24</td>\n      <td>20.0</td>\n      <td>18.3</td>\n      <td>22.8</td>\n      <td>20.0</td>\n      <td>84.0</td>\n      <td>81.0</td>\n      <td>68.0</td>\n      <td>...</td>\n      <td>0.170724</td>\n      <td>7.714333e-01</td>\n      <td>0.0</td>\n      <td>0.0</td>\n      <td>7.714333e-01</td>\n      <td>0.22</td>\n      <td>0.22</td>\n      <td>0.22</td>\n      <td>0.22</td>\n      <td>-0.145809</td>\n    </tr>\n    <tr>\n      <th>4</th>\n      <td>8</td>\n      <td>1</td>\n      <td>1</td>\n      <td>20.1</td>\n      <td>19.4</td>\n      <td>22.8</td>\n      <td>19.4</td>\n      <td>79.0</td>\n      <td>79.0</td>\n      <td>71.0</td>\n      <td>...</td>\n      <td>0.157319</td>\n      <td>8.511667e-01</td>\n      <td>0.0</td>\n      <td>0.0</td>\n      <td>8.511667e-01</td>\n      <td>0.22</td>\n      <td>0.22</td>\n      <td>0.22</td>\n      <td>0.22</td>\n      <td>-0.091085</td>\n    </tr>\n  </tbody>\n</table>\n<p>5 rows × 29 columns</p>\n</div>"
     },
     "execution_count": 2,
     "metadata": {},
     "output_type": "execute_result"
    }
   ],
   "source": [
    "action_file_path = osp.join(osp.dirname(competition_data.__file__), 'perfect_actions.csv')\n",
    "df = pd.read_csv(action_file_path)\n",
    "df.head()"
   ],
   "metadata": {
    "collapsed": false
   }
  },
  {
   "cell_type": "code",
   "execution_count": 3,
   "outputs": [],
   "source": [
    "# tpot.TPOTRegressor(generations=100, population_size=100,\n",
    "#                      offspring_size=None, mutation_rate=0.9,\n",
    "#                      crossover_rate=0.1,\n",
    "#                      scoring='neg_mean_squared_error', cv=5,\n",
    "#                      subsample=1.0, n_jobs=1,\n",
    "#                      max_time_mins=None, max_eval_time_mins=5,\n",
    "#                      random_state=None, config_dict=None,\n",
    "#                      template=None,\n",
    "#                      warm_start=False,\n",
    "#                      memory=None,\n",
    "#                      use_dask=False,\n",
    "#                      periodic_checkpoint_folder=None,\n",
    "#                      early_stop=None,\n",
    "#                      verbosity=0,\n",
    "#                      disable_update_check=False)"
   ],
   "metadata": {
    "collapsed": false
   }
  },
  {
   "cell_type": "code",
   "execution_count": 4,
   "outputs": [
    {
     "data": {
      "text/plain": "Optimization Progress:   0%|          | 0/550 [00:00<?, ?pipeline/s]",
      "application/vnd.jupyter.widget-view+json": {
       "version_major": 2,
       "version_minor": 0,
       "model_id": "eb451e116ffb4379b17d1daf6952e435"
      }
     },
     "metadata": {},
     "output_type": "display_data"
    },
    {
     "name": "stdout",
     "output_type": "stream",
     "text": [
      "\n",
      "Generation 1 - Current best internal CV score: -0.0008231093409649094\n",
      "\n",
      "Generation 2 - Current best internal CV score: -0.0004657711155118947\n",
      "\n",
      "Generation 3 - Current best internal CV score: -0.00026331833497608774\n",
      "\n",
      "Generation 4 - Current best internal CV score: -0.00026331833497608774\n",
      "\n",
      "Generation 5 - Current best internal CV score: -0.00026331833497608774\n",
      "\n",
      "Generation 6 - Current best internal CV score: -0.00026263161840011723\n",
      "\n",
      "Generation 7 - Current best internal CV score: -0.00026146059702614763\n",
      "\n",
      "Generation 8 - Current best internal CV score: -0.00026146059702614763\n",
      "\n",
      "Generation 9 - Current best internal CV score: -0.00026146059702614763\n",
      "\n",
      "Generation 10 - Current best internal CV score: -0.0002613516137840111\n",
      "\n",
      "Best pipeline: KNeighborsRegressor(LassoLarsCV(XGBRegressor(input_matrix, learning_rate=1.0, max_depth=4, min_child_weight=7, n_estimators=100, n_jobs=1, objective=reg:squarederror, subsample=0.5, verbosity=0), normalize=True), n_neighbors=4, p=1, weights=distance)\n"
     ]
    },
    {
     "name": "stderr",
     "output_type": "stream",
     "text": [
      "C:\\Users\\Team Epoch A\\Documents\\Epoch III\\citylearn-2022-starter-kit\\venv\\lib\\site-packages\\sklearn\\metrics\\_scorer.py:765: FutureWarning: sklearn.metrics.SCORERS is deprecated and will be removed in v1.3. Please use sklearn.metrics.get_scorer_names to get a list of available scorers and sklearn.metrics.get_metric to get scorer.\n",
      "  warnings.warn(\n"
     ]
    },
    {
     "name": "stdout",
     "output_type": "stream",
     "text": [
      "-1.8078696590314306e-05\n"
     ]
    }
   ],
   "source": [
    "from tpot import TPOTRegressor\n",
    "from sklearn.model_selection import train_test_split\n",
    "\n",
    "y = df.iloc[: , -1]\n",
    "X = df.iloc[: , :-1]\n",
    "\n",
    "X_train, X_test, y_train, y_test = train_test_split(X, y, train_size=0.75, test_size=0.25)\n",
    "\n",
    "tpot_regressor = TPOTRegressor(generations=10, population_size=50, verbosity=2, n_jobs=-1)\n",
    "tpot_regressor.fit(X_train, y_train)\n",
    "print(tpot_regressor.score(X_test, y_test))"
   ],
   "metadata": {
    "collapsed": false
   }
  },
  {
   "cell_type": "code",
   "execution_count": null,
   "outputs": [],
   "source": [
    "tpot_regressor.export('tpot_exported_pipeline.py')"
   ],
   "metadata": {
    "collapsed": false,
    "pycharm": {
     "name": "#%%\n"
    }
   }
  },
  {
   "cell_type": "code",
   "execution_count": null,
   "outputs": [],
   "source": [],
   "metadata": {
    "collapsed": false,
    "pycharm": {
     "name": "#%%\n"
    }
   }
  },
  {
   "cell_type": "code",
   "execution_count": null,
   "outputs": [],
   "source": [],
   "metadata": {
    "collapsed": false
   }
  }
 ],
 "metadata": {
  "kernelspec": {
   "display_name": "Python 3",
   "language": "python",
   "name": "python3"
  },
  "language_info": {
   "codemirror_mode": {
    "name": "ipython",
    "version": 2
   },
   "file_extension": ".py",
   "mimetype": "text/x-python",
   "name": "python",
   "nbconvert_exporter": "python",
   "pygments_lexer": "ipython2",
   "version": "2.7.6"
  }
 },
 "nbformat": 4,
 "nbformat_minor": 0
}