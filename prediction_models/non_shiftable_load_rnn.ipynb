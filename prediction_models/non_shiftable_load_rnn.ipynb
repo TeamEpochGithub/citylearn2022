{
 "cells": [
  {
   "cell_type": "code",
   "execution_count": 371,
   "metadata": {
    "collapsed": true
   },
   "outputs": [],
   "source": [
    "from pandas import read_csv\n",
    "import numpy as np\n",
    "from tensorflow import keras\n",
    "from keras.models import Sequential\n",
    "from keras.layers import Dense, SimpleRNN\n",
    "from sklearn.preprocessing import MinMaxScaler\n",
    "from sklearn.metrics import mean_squared_error\n",
    "import math\n",
    "import matplotlib.pyplot as plt"
   ]
  },
  {
   "cell_type": "code",
   "execution_count": 372,
   "outputs": [],
   "source": [
    "import pandas as pd\n",
    "from data import citylearn_challenge_2022_phase_1 as competition_data\n",
    "import os.path as osp\n",
    "\n",
    "nsload_data_path = osp.join(osp.dirname(competition_data.__file__), \"load_data.csv\")\n",
    "nsload_data = pd.read_csv(nsload_data_path)\n",
    "\n",
    "# for i in range(5):\n",
    "#     plt.plot(nsload_data[\"non_shiftable_load\"][i*8760 : 8760 + i*8760])\n",
    "#     plt.show()"
   ],
   "metadata": {
    "collapsed": false,
    "pycharm": {
     "name": "#%%\n"
    }
   }
  },
  {
   "cell_type": "code",
   "execution_count": 373,
   "outputs": [],
   "source": [
    "#\"month\", \"hour\", \"outdoor_dry_bulb\", \"outdoor_dry_bulb_temperature_predicted_6h\", \"outdoor_relative_humidity\", \"outdoor_relative_humidity_predicted_6h\", \"diffuse_solar_irradiance\", \"diffuse_solar_irradiance_predicted_6h\", \"diffuse_solar_irradiance_predicted_24h\", \"direct_solar_irradiance\", \"direct_solar_irradiance_predicted_6h\", \"direct_solar_irradiance_predicted_24h\", \"electricity_pricing\", \"electricity_pricing_predicted_6h\", \"electricity_pricing_predicted_24h\"\n",
    "\n",
    "selected_params = [\"outdoor_relative_humidity\", \"outdoor_dry_bulb_temperature_predicted_6h\", \"outdoor_dry_bulb\", \"outdoor_dry_bulb_temperature_predicted_6h\", \"hour\", \"diffuse_solar_irradiance\", \"diffuse_solar_irradiance_predicted_24h\", \"month\", \"diffuse_solar_irradiance_predicted_6h\", \"direct_solar_irradiance_predicted_6h\", \"direct_solar_irradiance_predicted_24h\", \"direct_solar_irradiance\", \"non_shiftable_load_future\", \"non_shiftable_load_future\"]\n",
    "nsload_data = nsload_data[selected_params]"
   ],
   "metadata": {
    "collapsed": false
   }
  },
  {
   "cell_type": "code",
   "execution_count": 374,
   "outputs": [
    {
     "data": {
      "text/plain": "       outdoor_relative_humidity  outdoor_dry_bulb_temperature_predicted_6h  \\\n0                           79.0                                       19.4   \n1                           78.0                                       21.1   \n2                           78.0                                       22.2   \n3                           78.0                                       21.7   \n4                           81.0                                       22.2   \n...                          ...                                        ...   \n43785                       81.0                                       20.0   \n43786                       84.0                                       20.1   \n43787                       81.0                                       19.7   \n43788                       79.0                                       19.3   \n43789                       76.0                                       18.9   \n\n       outdoor_dry_bulb  outdoor_dry_bulb_temperature_predicted_6h  hour  \\\n0                  20.1                                       19.4   1.0   \n1                  19.7                                       21.1   2.0   \n2                  19.3                                       22.2   3.0   \n3                  18.9                                       21.7   4.0   \n4                  18.3                                       22.2   5.0   \n...                 ...                                        ...   ...   \n43785              21.1                                       20.0  18.0   \n43786              20.6                                       20.1  19.0   \n43787              21.1                                       19.7  20.0   \n43788              21.7                                       19.3  21.0   \n43789              21.3                                       18.9  22.0   \n\n       diffuse_solar_irradiance  diffuse_solar_irradiance_predicted_24h  \\\n0                           0.0                                     0.0   \n1                           0.0                                     0.0   \n2                           0.0                                     0.0   \n3                           0.0                                     0.0   \n4                           0.0                                     0.0   \n...                         ...                                     ...   \n43785                     218.0                                   231.0   \n43786                      26.0                                    27.0   \n43787                       0.0                                     0.0   \n43788                       0.0                                     0.0   \n43789                       0.0                                     0.0   \n\n       month  diffuse_solar_irradiance_predicted_6h  \\\n0        8.0                                  201.0   \n1        8.0                                  420.0   \n2        8.0                                  554.0   \n3        8.0                                  778.0   \n4        8.0                                  903.0   \n...      ...                                    ...   \n43785    7.0                                    0.0   \n43786    7.0                                    0.0   \n43787    7.0                                    0.0   \n43788    7.0                                    0.0   \n43789    7.0                                    0.0   \n\n       direct_solar_irradiance_predicted_6h  \\\n0                                     444.0   \n1                                     592.0   \n2                                     491.0   \n3                                     734.0   \n4                                     811.0   \n...                                     ...   \n43785                                   0.0   \n43786                                   0.0   \n43787                                   0.0   \n43788                                   0.0   \n43789                                   0.0   \n\n       direct_solar_irradiance_predicted_24h  direct_solar_irradiance  \\\n0                                        0.0                      0.0   \n1                                        0.0                      0.0   \n2                                        0.0                      0.0   \n3                                        0.0                      0.0   \n4                                        0.0                      0.0   \n...                                      ...                      ...   \n43785                                  320.0                    289.0   \n43786                                  143.0                    130.0   \n43787                                    0.0                      0.0   \n43788                                    0.0                      0.0   \n43789                                    0.0                      0.0   \n\n       non_shiftable_load_future  non_shiftable_load_future  \n0                       0.834600                   0.834600  \n1                       0.838167                   0.838167  \n2                       1.478433                   1.478433  \n3                       1.256200                   1.256200  \n4                       1.869517                   1.869517  \n...                          ...                        ...  \n43785                   2.730183                   2.730183  \n43786                   0.935833                   0.935833  \n43787                   2.155017                   2.155017  \n43788                   2.316400                   2.316400  \n43789                   1.212400                   1.212400  \n\n[43790 rows x 14 columns]",
      "text/html": "<div>\n<style scoped>\n    .dataframe tbody tr th:only-of-type {\n        vertical-align: middle;\n    }\n\n    .dataframe tbody tr th {\n        vertical-align: top;\n    }\n\n    .dataframe thead th {\n        text-align: right;\n    }\n</style>\n<table border=\"1\" class=\"dataframe\">\n  <thead>\n    <tr style=\"text-align: right;\">\n      <th></th>\n      <th>outdoor_relative_humidity</th>\n      <th>outdoor_dry_bulb_temperature_predicted_6h</th>\n      <th>outdoor_dry_bulb</th>\n      <th>outdoor_dry_bulb_temperature_predicted_6h</th>\n      <th>hour</th>\n      <th>diffuse_solar_irradiance</th>\n      <th>diffuse_solar_irradiance_predicted_24h</th>\n      <th>month</th>\n      <th>diffuse_solar_irradiance_predicted_6h</th>\n      <th>direct_solar_irradiance_predicted_6h</th>\n      <th>direct_solar_irradiance_predicted_24h</th>\n      <th>direct_solar_irradiance</th>\n      <th>non_shiftable_load_future</th>\n      <th>non_shiftable_load_future</th>\n    </tr>\n  </thead>\n  <tbody>\n    <tr>\n      <th>0</th>\n      <td>79.0</td>\n      <td>19.4</td>\n      <td>20.1</td>\n      <td>19.4</td>\n      <td>1.0</td>\n      <td>0.0</td>\n      <td>0.0</td>\n      <td>8.0</td>\n      <td>201.0</td>\n      <td>444.0</td>\n      <td>0.0</td>\n      <td>0.0</td>\n      <td>0.834600</td>\n      <td>0.834600</td>\n    </tr>\n    <tr>\n      <th>1</th>\n      <td>78.0</td>\n      <td>21.1</td>\n      <td>19.7</td>\n      <td>21.1</td>\n      <td>2.0</td>\n      <td>0.0</td>\n      <td>0.0</td>\n      <td>8.0</td>\n      <td>420.0</td>\n      <td>592.0</td>\n      <td>0.0</td>\n      <td>0.0</td>\n      <td>0.838167</td>\n      <td>0.838167</td>\n    </tr>\n    <tr>\n      <th>2</th>\n      <td>78.0</td>\n      <td>22.2</td>\n      <td>19.3</td>\n      <td>22.2</td>\n      <td>3.0</td>\n      <td>0.0</td>\n      <td>0.0</td>\n      <td>8.0</td>\n      <td>554.0</td>\n      <td>491.0</td>\n      <td>0.0</td>\n      <td>0.0</td>\n      <td>1.478433</td>\n      <td>1.478433</td>\n    </tr>\n    <tr>\n      <th>3</th>\n      <td>78.0</td>\n      <td>21.7</td>\n      <td>18.9</td>\n      <td>21.7</td>\n      <td>4.0</td>\n      <td>0.0</td>\n      <td>0.0</td>\n      <td>8.0</td>\n      <td>778.0</td>\n      <td>734.0</td>\n      <td>0.0</td>\n      <td>0.0</td>\n      <td>1.256200</td>\n      <td>1.256200</td>\n    </tr>\n    <tr>\n      <th>4</th>\n      <td>81.0</td>\n      <td>22.2</td>\n      <td>18.3</td>\n      <td>22.2</td>\n      <td>5.0</td>\n      <td>0.0</td>\n      <td>0.0</td>\n      <td>8.0</td>\n      <td>903.0</td>\n      <td>811.0</td>\n      <td>0.0</td>\n      <td>0.0</td>\n      <td>1.869517</td>\n      <td>1.869517</td>\n    </tr>\n    <tr>\n      <th>...</th>\n      <td>...</td>\n      <td>...</td>\n      <td>...</td>\n      <td>...</td>\n      <td>...</td>\n      <td>...</td>\n      <td>...</td>\n      <td>...</td>\n      <td>...</td>\n      <td>...</td>\n      <td>...</td>\n      <td>...</td>\n      <td>...</td>\n      <td>...</td>\n    </tr>\n    <tr>\n      <th>43785</th>\n      <td>81.0</td>\n      <td>20.0</td>\n      <td>21.1</td>\n      <td>20.0</td>\n      <td>18.0</td>\n      <td>218.0</td>\n      <td>231.0</td>\n      <td>7.0</td>\n      <td>0.0</td>\n      <td>0.0</td>\n      <td>320.0</td>\n      <td>289.0</td>\n      <td>2.730183</td>\n      <td>2.730183</td>\n    </tr>\n    <tr>\n      <th>43786</th>\n      <td>84.0</td>\n      <td>20.1</td>\n      <td>20.6</td>\n      <td>20.1</td>\n      <td>19.0</td>\n      <td>26.0</td>\n      <td>27.0</td>\n      <td>7.0</td>\n      <td>0.0</td>\n      <td>0.0</td>\n      <td>143.0</td>\n      <td>130.0</td>\n      <td>0.935833</td>\n      <td>0.935833</td>\n    </tr>\n    <tr>\n      <th>43787</th>\n      <td>81.0</td>\n      <td>19.7</td>\n      <td>21.1</td>\n      <td>19.7</td>\n      <td>20.0</td>\n      <td>0.0</td>\n      <td>0.0</td>\n      <td>7.0</td>\n      <td>0.0</td>\n      <td>0.0</td>\n      <td>0.0</td>\n      <td>0.0</td>\n      <td>2.155017</td>\n      <td>2.155017</td>\n    </tr>\n    <tr>\n      <th>43788</th>\n      <td>79.0</td>\n      <td>19.3</td>\n      <td>21.7</td>\n      <td>19.3</td>\n      <td>21.0</td>\n      <td>0.0</td>\n      <td>0.0</td>\n      <td>7.0</td>\n      <td>0.0</td>\n      <td>0.0</td>\n      <td>0.0</td>\n      <td>0.0</td>\n      <td>2.316400</td>\n      <td>2.316400</td>\n    </tr>\n    <tr>\n      <th>43789</th>\n      <td>76.0</td>\n      <td>18.9</td>\n      <td>21.3</td>\n      <td>18.9</td>\n      <td>22.0</td>\n      <td>0.0</td>\n      <td>0.0</td>\n      <td>7.0</td>\n      <td>0.0</td>\n      <td>0.0</td>\n      <td>0.0</td>\n      <td>0.0</td>\n      <td>1.212400</td>\n      <td>1.212400</td>\n    </tr>\n  </tbody>\n</table>\n<p>43790 rows × 14 columns</p>\n</div>"
     },
     "execution_count": 374,
     "metadata": {},
     "output_type": "execute_result"
    }
   ],
   "source": [
    "nsload_data"
   ],
   "metadata": {
    "collapsed": false,
    "pycharm": {
     "name": "#%%\n"
    }
   }
  },
  {
   "cell_type": "code",
   "execution_count": 375,
   "outputs": [
    {
     "name": "stdout",
     "output_type": "stream",
     "text": [
      "       outdoor_relative_humidity  outdoor_dry_bulb_temperature_predicted_6h  \\\n",
      "0                           79.0                                       19.4   \n",
      "1                           78.0                                       21.1   \n",
      "2                           78.0                                       22.2   \n",
      "3                           78.0                                       21.7   \n",
      "4                           81.0                                       22.2   \n",
      "...                          ...                                        ...   \n",
      "43785                       81.0                                       20.0   \n",
      "43786                       84.0                                       20.1   \n",
      "43787                       81.0                                       19.7   \n",
      "43788                       79.0                                       19.3   \n",
      "43789                       76.0                                       18.9   \n",
      "\n",
      "       outdoor_dry_bulb  outdoor_dry_bulb_temperature_predicted_6h  hour  \\\n",
      "0                  20.1                                       19.4   1.0   \n",
      "1                  19.7                                       21.1   2.0   \n",
      "2                  19.3                                       22.2   3.0   \n",
      "3                  18.9                                       21.7   4.0   \n",
      "4                  18.3                                       22.2   5.0   \n",
      "...                 ...                                        ...   ...   \n",
      "43785              21.1                                       20.0  18.0   \n",
      "43786              20.6                                       20.1  19.0   \n",
      "43787              21.1                                       19.7  20.0   \n",
      "43788              21.7                                       19.3  21.0   \n",
      "43789              21.3                                       18.9  22.0   \n",
      "\n",
      "       diffuse_solar_irradiance  diffuse_solar_irradiance_predicted_24h  \\\n",
      "0                           0.0                                     0.0   \n",
      "1                           0.0                                     0.0   \n",
      "2                           0.0                                     0.0   \n",
      "3                           0.0                                     0.0   \n",
      "4                           0.0                                     0.0   \n",
      "...                         ...                                     ...   \n",
      "43785                     218.0                                   231.0   \n",
      "43786                      26.0                                    27.0   \n",
      "43787                       0.0                                     0.0   \n",
      "43788                       0.0                                     0.0   \n",
      "43789                       0.0                                     0.0   \n",
      "\n",
      "       month  diffuse_solar_irradiance_predicted_6h  \\\n",
      "0        8.0                                  201.0   \n",
      "1        8.0                                  420.0   \n",
      "2        8.0                                  554.0   \n",
      "3        8.0                                  778.0   \n",
      "4        8.0                                  903.0   \n",
      "...      ...                                    ...   \n",
      "43785    7.0                                    0.0   \n",
      "43786    7.0                                    0.0   \n",
      "43787    7.0                                    0.0   \n",
      "43788    7.0                                    0.0   \n",
      "43789    7.0                                    0.0   \n",
      "\n",
      "       direct_solar_irradiance_predicted_6h  \\\n",
      "0                                     444.0   \n",
      "1                                     592.0   \n",
      "2                                     491.0   \n",
      "3                                     734.0   \n",
      "4                                     811.0   \n",
      "...                                     ...   \n",
      "43785                                   0.0   \n",
      "43786                                   0.0   \n",
      "43787                                   0.0   \n",
      "43788                                   0.0   \n",
      "43789                                   0.0   \n",
      "\n",
      "       direct_solar_irradiance_predicted_24h  direct_solar_irradiance  \\\n",
      "0                                        0.0                      0.0   \n",
      "1                                        0.0                      0.0   \n",
      "2                                        0.0                      0.0   \n",
      "3                                        0.0                      0.0   \n",
      "4                                        0.0                      0.0   \n",
      "...                                      ...                      ...   \n",
      "43785                                  320.0                    289.0   \n",
      "43786                                  143.0                    130.0   \n",
      "43787                                    0.0                      0.0   \n",
      "43788                                    0.0                      0.0   \n",
      "43789                                    0.0                      0.0   \n",
      "\n",
      "       non_shiftable_load_future  non_shiftable_load_future  \n",
      "0                       0.834600                   0.834600  \n",
      "1                       0.838167                   0.838167  \n",
      "2                       1.478433                   1.478433  \n",
      "3                       1.256200                   1.256200  \n",
      "4                       1.869517                   1.869517  \n",
      "...                          ...                        ...  \n",
      "43785                   2.730183                   2.730183  \n",
      "43786                   0.935833                   0.935833  \n",
      "43787                   2.155017                   2.155017  \n",
      "43788                   2.316400                   2.316400  \n",
      "43789                   1.212400                   1.212400  \n",
      "\n",
      "[43790 rows x 14 columns]\n",
      "[[ 0.36390193  0.71891017  0.91549546 ... -0.67954467 -0.67954467\n",
      "  -0.26068056]\n",
      " [ 0.30322505  1.19577505  0.80328076 ... -0.67954467 -0.67954467\n",
      "  -0.25666866]\n",
      " [ 0.30322505  1.50433468  0.69106605 ... -0.67954467 -0.67954467\n",
      "   0.46352402]\n",
      " ...\n",
      " [ 0.48525569  0.8030628   1.19603224 ... -0.67954467 -0.67954467\n",
      "   1.22456686]\n",
      " [ 0.36390193  0.6908593   1.3643543  ... -0.67954467 -0.67954467\n",
      "   1.40609606]\n",
      " [ 0.18187129  0.5786558   1.25213959 ... -0.67954467 -0.67954467\n",
      "   0.16428111]]\n",
      "(43790, 13)\n",
      "(43790, 2)\n"
     ]
    }
   ],
   "source": [
    "from sklearn.preprocessing import StandardScaler\n",
    "sc = StandardScaler()\n",
    "# nsload_data = nsload_data[0:8760]\n",
    "print(nsload_data)\n",
    "\n",
    "df_load_scaled = nsload_data.iloc[: , :-1]\n",
    "df_load_scaled = sc.fit_transform(df_load_scaled)\n",
    "\n",
    "print(df_load_scaled)\n",
    "print(df_load_scaled.shape)\n",
    "\n",
    "sc2 = StandardScaler()\n",
    "df_load_scaled_y = sc2.fit_transform(nsload_data[[\"non_shiftable_load_future\"]])\n",
    "print(df_load_scaled_y.shape)"
   ],
   "metadata": {
    "collapsed": false
   }
  },
  {
   "cell_type": "code",
   "execution_count": 376,
   "outputs": [
    {
     "name": "stdout",
     "output_type": "stream",
     "text": [
      "(43766, 24, 13)\n",
      "(43766,)\n"
     ]
    }
   ],
   "source": [
    "hops = 24\n",
    "no_records = df_load_scaled_y.shape[0]\n",
    "no_cols = len(selected_params) - 1\n",
    "X_train = []\n",
    "y_train = []\n",
    "for i in range(hops, no_records):\n",
    "    X_train.append(df_load_scaled[i-hops:i])\n",
    "    y_train.append(df_load_scaled_y[i][0])\n",
    "X_train, y_train = np.array(X_train), np.array(y_train)\n",
    "\n",
    "print(X_train.shape)\n",
    "print(y_train.shape)"
   ],
   "metadata": {
    "collapsed": false,
    "pycharm": {
     "name": "#%%\n"
    }
   }
  },
  {
   "cell_type": "code",
   "execution_count": 377,
   "outputs": [],
   "source": [
    "X_train_reshaped = np.reshape(X_train, (X_train.shape[0], X_train.shape[1], X_train.shape[2]))"
   ],
   "metadata": {
    "collapsed": false,
    "pycharm": {
     "name": "#%%\n"
    }
   }
  },
  {
   "cell_type": "code",
   "execution_count": 378,
   "outputs": [
    {
     "data": {
      "text/plain": "(43766, 24, 13)"
     },
     "execution_count": 378,
     "metadata": {},
     "output_type": "execute_result"
    }
   ],
   "source": [
    "X_train_reshaped.shape"
   ],
   "metadata": {
    "collapsed": false,
    "pycharm": {
     "name": "#%%\n"
    }
   }
  },
  {
   "cell_type": "code",
   "execution_count": 379,
   "outputs": [],
   "source": [
    "from keras.models import Sequential\n",
    "from keras.layers import Dense, LSTM, Dropout\n",
    "\n",
    "model=Sequential()\n",
    "model.add(LSTM(units=64, return_sequences=True, input_shape=(hops,no_cols)))\n",
    "model.add(Dropout(0.2))\n",
    "model.add(LSTM(units=64))\n",
    "model.add(Dropout(0.2))\n",
    "model.add(Dense(1))\n",
    "model.compile(optimizer='adam', loss='mean_squared_error')"
   ],
   "metadata": {
    "collapsed": false,
    "pycharm": {
     "name": "#%%\n"
    }
   }
  },
  {
   "cell_type": "code",
   "execution_count": null,
   "outputs": [
    {
     "name": "stdout",
     "output_type": "stream",
     "text": [
      "Epoch 1/100\n",
      "342/342 [==============================] - 102s 292ms/step - loss: 0.6087\n",
      "Epoch 2/100\n",
      "342/342 [==============================] - 100s 292ms/step - loss: 0.4921\n",
      "Epoch 3/100\n",
      "342/342 [==============================] - 115s 335ms/step - loss: 0.4709\n",
      "Epoch 4/100\n",
      "342/342 [==============================] - 132s 386ms/step - loss: 0.4598\n",
      "Epoch 5/100\n",
      "342/342 [==============================] - 132s 386ms/step - loss: 0.4554\n",
      "Epoch 6/100\n",
      "342/342 [==============================] - 132s 385ms/step - loss: 0.4506\n",
      "Epoch 7/100\n",
      "342/342 [==============================] - 132s 386ms/step - loss: 0.4480\n",
      "Epoch 8/100\n",
      "342/342 [==============================] - 133s 390ms/step - loss: 0.4415\n",
      "Epoch 9/100\n",
      "342/342 [==============================] - 132s 386ms/step - loss: 0.4388\n",
      "Epoch 10/100\n",
      "342/342 [==============================] - 132s 386ms/step - loss: 0.4356\n",
      "Epoch 11/100\n",
      "342/342 [==============================] - 132s 386ms/step - loss: 0.4331\n",
      "Epoch 12/100\n",
      "342/342 [==============================] - 132s 386ms/step - loss: 0.4282\n",
      "Epoch 13/100\n",
      "342/342 [==============================] - 132s 385ms/step - loss: 0.4262\n",
      "Epoch 14/100\n",
      "342/342 [==============================] - 130s 382ms/step - loss: 0.4256\n",
      "Epoch 15/100\n",
      "342/342 [==============================] - 131s 383ms/step - loss: 0.4201\n",
      "Epoch 16/100\n",
      "342/342 [==============================] - 130s 381ms/step - loss: 0.4174\n",
      "Epoch 17/100\n",
      " 64/342 [====>.........................] - ETA: 1:45 - loss: 0.4052"
     ]
    }
   ],
   "source": [
    "model.fit(X_train_reshaped, y_train, validation_split=0, epochs=100, batch_size=128, shuffle=True, workers=24, use_multiprocessing=True)"
   ],
   "metadata": {
    "collapsed": false,
    "pycharm": {
     "is_executing": true
    }
   }
  },
  {
   "cell_type": "code",
   "execution_count": null,
   "outputs": [],
   "source": [
    "from pickle import dump\n",
    "model.save(\"non_shiftable_load_model.h5\")\n",
    "dump(sc, open(\"non_shiftable_load_scaler.pkl\", \"wb\"))\n",
    "dump(sc2, open(\"non_shiftable_load_scaler_result.pkl\", \"wb\"))"
   ],
   "metadata": {
    "collapsed": false,
    "pycharm": {
     "is_executing": true
    }
   }
  },
  {
   "cell_type": "code",
   "execution_count": 251,
   "outputs": [],
   "source": [],
   "metadata": {
    "collapsed": false,
    "pycharm": {
     "name": "#%%\n"
    }
   }
  },
  {
   "cell_type": "code",
   "execution_count": null,
   "outputs": [],
   "source": [],
   "metadata": {
    "collapsed": false,
    "pycharm": {
     "name": "#%%\n"
    }
   }
  },
  {
   "cell_type": "code",
   "execution_count": null,
   "outputs": [],
   "source": [],
   "metadata": {
    "collapsed": false,
    "pycharm": {
     "name": "#%%\n"
    }
   }
  },
  {
   "cell_type": "code",
   "execution_count": null,
   "outputs": [],
   "source": [],
   "metadata": {
    "collapsed": false,
    "pycharm": {
     "name": "#%%\n"
    }
   }
  },
  {
   "cell_type": "code",
   "execution_count": null,
   "outputs": [],
   "source": [],
   "metadata": {
    "collapsed": false,
    "pycharm": {
     "name": "#%%\n"
    }
   }
  },
  {
   "cell_type": "code",
   "execution_count": null,
   "outputs": [],
   "source": [],
   "metadata": {
    "collapsed": false,
    "pycharm": {
     "name": "#%%\n"
    }
   }
  },
  {
   "cell_type": "code",
   "execution_count": null,
   "outputs": [],
   "source": [],
   "metadata": {
    "collapsed": false,
    "pycharm": {
     "name": "#%%\n"
    }
   }
  },
  {
   "cell_type": "code",
   "execution_count": null,
   "outputs": [],
   "source": [],
   "metadata": {
    "collapsed": false,
    "pycharm": {
     "name": "#%%\n"
    }
   }
  },
  {
   "cell_type": "code",
   "execution_count": null,
   "outputs": [],
   "source": [],
   "metadata": {
    "collapsed": false,
    "pycharm": {
     "name": "#%%\n"
    }
   }
  },
  {
   "cell_type": "code",
   "execution_count": null,
   "outputs": [],
   "source": [],
   "metadata": {
    "collapsed": false,
    "pycharm": {
     "name": "#%%\n"
    }
   }
  },
  {
   "cell_type": "code",
   "execution_count": null,
   "outputs": [],
   "source": [],
   "metadata": {
    "collapsed": false,
    "pycharm": {
     "name": "#%%\n"
    }
   }
  },
  {
   "cell_type": "code",
   "execution_count": null,
   "outputs": [],
   "source": [],
   "metadata": {
    "collapsed": false,
    "pycharm": {
     "name": "#%%\n"
    }
   }
  },
  {
   "cell_type": "code",
   "execution_count": 60,
   "outputs": [],
   "source": [
    "# units = dimensionality of the output space\n",
    "\n",
    "\n",
    "def create_RNN(hidden_units, dense_units, input_shape, activation):\n",
    "    model = Sequential()\n",
    "    model.add(SimpleRNN(hidden_units, input_shape=input_shape,\n",
    "                        activation=activation[0]))\n",
    "    model.add(Dense(units=dense_units, activation=activation[1]))\n",
    "    model.compile(loss='mean_squared_error', optimizer='adam')\n",
    "    return model\n",
    "\n",
    "demo_model = create_RNN(hidden_units=2, dense_units=1, input_shape=(3,1), activation=['relu', 'relu'])"
   ],
   "metadata": {
    "collapsed": false,
    "pycharm": {
     "name": "#%%\n"
    }
   }
  },
  {
   "cell_type": "code",
   "execution_count": null,
   "outputs": [],
   "source": [],
   "metadata": {
    "collapsed": false,
    "pycharm": {
     "name": "#%%\n"
    }
   }
  }
 ],
 "metadata": {
  "kernelspec": {
   "display_name": "Python 3",
   "language": "python",
   "name": "python3"
  },
  "language_info": {
   "codemirror_mode": {
    "name": "ipython",
    "version": 2
   },
   "file_extension": ".py",
   "mimetype": "text/x-python",
   "name": "python",
   "nbconvert_exporter": "python",
   "pygments_lexer": "ipython2",
   "version": "2.7.6"
  }
 },
 "nbformat": 4,
 "nbformat_minor": 0
}
