{
 "cells": [
  {
   "cell_type": "code",
   "execution_count": 119,
   "metadata": {
    "collapsed": true
   },
   "outputs": [],
   "source": [
    "from pandas import read_csv\n",
    "import numpy as np\n",
    "from tensorflow import keras\n",
    "from keras.models import Sequential\n",
    "from keras.layers import Dense, SimpleRNN\n",
    "from sklearn.preprocessing import MinMaxScaler\n",
    "from sklearn.metrics import mean_squared_error\n",
    "import math\n",
    "import matplotlib.pyplot as plt\n"
   ]
  },
  {
   "cell_type": "code",
   "execution_count": 120,
   "outputs": [
    {
     "data": {
      "text/plain": "       month  day_type  hour  outdoor_dry_bulb  \\\n0        8.0       1.0   1.0              20.1   \n1        8.0       1.0   2.0              19.7   \n2        8.0       1.0   3.0              19.3   \n3        8.0       1.0   4.0              18.9   \n4        8.0       1.0   5.0              18.3   \n...      ...       ...   ...               ...   \n43785    7.0       1.0  18.0              21.1   \n43786    7.0       1.0  19.0              20.6   \n43787    7.0       1.0  20.0              21.1   \n43788    7.0       1.0  21.0              21.7   \n43789    7.0       1.0  22.0              21.3   \n\n       outdoor_dry_bulb_temperature_predicted_6h  \\\n0                                           19.4   \n1                                           21.1   \n2                                           22.2   \n3                                           21.7   \n4                                           22.2   \n...                                          ...   \n43785                                       20.0   \n43786                                       20.1   \n43787                                       19.7   \n43788                                       19.3   \n43789                                       18.9   \n\n       outdoor_dry_bulb_temperature_predicted_12h  \\\n0                                            22.8   \n1                                            22.2   \n2                                            22.8   \n3                                            22.2   \n4                                            21.1   \n...                                           ...   \n43785                                        18.3   \n43786                                        19.4   \n43787                                        21.1   \n43788                                        22.2   \n43789                                        21.7   \n\n       outdoor_dry_bulb_temperature_predicted_24h  outdoor_relative_humidity  \\\n0                                            19.4                       79.0   \n1                                            19.4                       78.0   \n2                                            19.4                       78.0   \n3                                            18.9                       78.0   \n4                                            18.3                       81.0   \n...                                           ...                        ...   \n43785                                        20.6                       81.0   \n43786                                        20.6                       84.0   \n43787                                        20.0                       81.0   \n43788                                        20.6                       79.0   \n43789                                        20.6                       76.0   \n\n       outdoor_relative_humidity_predicted_6h  \\\n0                                        79.0   \n1                                        73.0   \n2                                        71.0   \n3                                        73.0   \n4                                        71.0   \n...                                       ...   \n43785                                    84.0   \n43786                                    79.0   \n43787                                    78.0   \n43788                                    78.0   \n43789                                    78.0   \n\n       outdoor_relative_humidity_predicted_12h  ...  \\\n0                                         71.0  ...   \n1                                         73.0  ...   \n2                                         71.0  ...   \n3                                         71.0  ...   \n4                                         76.0  ...   \n...                                        ...  ...   \n43785                                     81.0  ...   \n43786                                     79.0  ...   \n43787                                     73.0  ...   \n43788                                     71.0  ...   \n43789                                     73.0  ...   \n\n       direct_solar_irradiance_predicted_6h  \\\n0                                     444.0   \n1                                     592.0   \n2                                     491.0   \n3                                     734.0   \n4                                     811.0   \n...                                     ...   \n43785                                   0.0   \n43786                                   0.0   \n43787                                   0.0   \n43788                                   0.0   \n43789                                   0.0   \n\n       direct_solar_irradiance_predicted_12h  \\\n0                                      747.0   \n1                                      291.0   \n2                                      153.0   \n3                                      174.0   \n4                                      396.0   \n...                                      ...   \n43785                                  100.0   \n43786                                  444.0   \n43787                                  592.0   \n43788                                  491.0   \n43789                                  734.0   \n\n       direct_solar_irradiance_predicted_24h  carbon_intensity  \\\n0                                        0.0          0.157319   \n1                                        0.0          0.154503   \n2                                        0.0          0.150945   \n3                                        0.0          0.151820   \n4                                        0.0          0.158088   \n...                                      ...               ...   \n43785                                  320.0          0.225739   \n43786                                  143.0          0.222553   \n43787                                    0.0          0.216094   \n43788                                    0.0          0.215501   \n43789                                    0.0          0.202315   \n\n       solar_generation  electricity_pricing  \\\n0              0.000000                 0.22   \n1              0.000000                 0.22   \n2              0.000000                 0.22   \n3              0.000000                 0.22   \n4              0.000000                 0.22   \n...                 ...                  ...   \n43785          0.124717                 0.54   \n43786          0.016283                 0.54   \n43787          0.000000                 0.54   \n43788          0.000000                 0.22   \n43789          0.000000                 0.22   \n\n       electricity_pricing_predicted_6h  electricity_pricing_predicted_12h  \\\n0                                  0.22                               0.22   \n1                                  0.22                               0.22   \n2                                  0.22                               0.22   \n3                                  0.22                               0.54   \n4                                  0.22                               0.54   \n...                                 ...                                ...   \n43785                              0.22                               0.22   \n43786                              0.22                               0.22   \n43787                              0.22                               0.22   \n43788                              0.22                               0.22   \n43789                              0.22                               0.22   \n\n       electricity_pricing_predicted_24h  solar_generation_future  \n0                                   0.22                 0.000000  \n1                                   0.22                 0.000000  \n2                                   0.22                 0.000000  \n3                                   0.22                 0.000000  \n4                                   0.22                 0.058017  \n...                                  ...                      ...  \n43785                               0.54                 0.016283  \n43786                               0.54                 0.000000  \n43787                               0.54                 0.000000  \n43788                               0.22                 0.000000  \n43789                               0.22                 0.000000  \n\n[43790 rows x 26 columns]",
      "text/html": "<div>\n<style scoped>\n    .dataframe tbody tr th:only-of-type {\n        vertical-align: middle;\n    }\n\n    .dataframe tbody tr th {\n        vertical-align: top;\n    }\n\n    .dataframe thead th {\n        text-align: right;\n    }\n</style>\n<table border=\"1\" class=\"dataframe\">\n  <thead>\n    <tr style=\"text-align: right;\">\n      <th></th>\n      <th>month</th>\n      <th>day_type</th>\n      <th>hour</th>\n      <th>outdoor_dry_bulb</th>\n      <th>outdoor_dry_bulb_temperature_predicted_6h</th>\n      <th>outdoor_dry_bulb_temperature_predicted_12h</th>\n      <th>outdoor_dry_bulb_temperature_predicted_24h</th>\n      <th>outdoor_relative_humidity</th>\n      <th>outdoor_relative_humidity_predicted_6h</th>\n      <th>outdoor_relative_humidity_predicted_12h</th>\n      <th>...</th>\n      <th>direct_solar_irradiance_predicted_6h</th>\n      <th>direct_solar_irradiance_predicted_12h</th>\n      <th>direct_solar_irradiance_predicted_24h</th>\n      <th>carbon_intensity</th>\n      <th>solar_generation</th>\n      <th>electricity_pricing</th>\n      <th>electricity_pricing_predicted_6h</th>\n      <th>electricity_pricing_predicted_12h</th>\n      <th>electricity_pricing_predicted_24h</th>\n      <th>solar_generation_future</th>\n    </tr>\n  </thead>\n  <tbody>\n    <tr>\n      <th>0</th>\n      <td>8.0</td>\n      <td>1.0</td>\n      <td>1.0</td>\n      <td>20.1</td>\n      <td>19.4</td>\n      <td>22.8</td>\n      <td>19.4</td>\n      <td>79.0</td>\n      <td>79.0</td>\n      <td>71.0</td>\n      <td>...</td>\n      <td>444.0</td>\n      <td>747.0</td>\n      <td>0.0</td>\n      <td>0.157319</td>\n      <td>0.000000</td>\n      <td>0.22</td>\n      <td>0.22</td>\n      <td>0.22</td>\n      <td>0.22</td>\n      <td>0.000000</td>\n    </tr>\n    <tr>\n      <th>1</th>\n      <td>8.0</td>\n      <td>1.0</td>\n      <td>2.0</td>\n      <td>19.7</td>\n      <td>21.1</td>\n      <td>22.2</td>\n      <td>19.4</td>\n      <td>78.0</td>\n      <td>73.0</td>\n      <td>73.0</td>\n      <td>...</td>\n      <td>592.0</td>\n      <td>291.0</td>\n      <td>0.0</td>\n      <td>0.154503</td>\n      <td>0.000000</td>\n      <td>0.22</td>\n      <td>0.22</td>\n      <td>0.22</td>\n      <td>0.22</td>\n      <td>0.000000</td>\n    </tr>\n    <tr>\n      <th>2</th>\n      <td>8.0</td>\n      <td>1.0</td>\n      <td>3.0</td>\n      <td>19.3</td>\n      <td>22.2</td>\n      <td>22.8</td>\n      <td>19.4</td>\n      <td>78.0</td>\n      <td>71.0</td>\n      <td>71.0</td>\n      <td>...</td>\n      <td>491.0</td>\n      <td>153.0</td>\n      <td>0.0</td>\n      <td>0.150945</td>\n      <td>0.000000</td>\n      <td>0.22</td>\n      <td>0.22</td>\n      <td>0.22</td>\n      <td>0.22</td>\n      <td>0.000000</td>\n    </tr>\n    <tr>\n      <th>3</th>\n      <td>8.0</td>\n      <td>1.0</td>\n      <td>4.0</td>\n      <td>18.9</td>\n      <td>21.7</td>\n      <td>22.2</td>\n      <td>18.9</td>\n      <td>78.0</td>\n      <td>73.0</td>\n      <td>71.0</td>\n      <td>...</td>\n      <td>734.0</td>\n      <td>174.0</td>\n      <td>0.0</td>\n      <td>0.151820</td>\n      <td>0.000000</td>\n      <td>0.22</td>\n      <td>0.22</td>\n      <td>0.54</td>\n      <td>0.22</td>\n      <td>0.000000</td>\n    </tr>\n    <tr>\n      <th>4</th>\n      <td>8.0</td>\n      <td>1.0</td>\n      <td>5.0</td>\n      <td>18.3</td>\n      <td>22.2</td>\n      <td>21.1</td>\n      <td>18.3</td>\n      <td>81.0</td>\n      <td>71.0</td>\n      <td>76.0</td>\n      <td>...</td>\n      <td>811.0</td>\n      <td>396.0</td>\n      <td>0.0</td>\n      <td>0.158088</td>\n      <td>0.000000</td>\n      <td>0.22</td>\n      <td>0.22</td>\n      <td>0.54</td>\n      <td>0.22</td>\n      <td>0.058017</td>\n    </tr>\n    <tr>\n      <th>...</th>\n      <td>...</td>\n      <td>...</td>\n      <td>...</td>\n      <td>...</td>\n      <td>...</td>\n      <td>...</td>\n      <td>...</td>\n      <td>...</td>\n      <td>...</td>\n      <td>...</td>\n      <td>...</td>\n      <td>...</td>\n      <td>...</td>\n      <td>...</td>\n      <td>...</td>\n      <td>...</td>\n      <td>...</td>\n      <td>...</td>\n      <td>...</td>\n      <td>...</td>\n      <td>...</td>\n    </tr>\n    <tr>\n      <th>43785</th>\n      <td>7.0</td>\n      <td>1.0</td>\n      <td>18.0</td>\n      <td>21.1</td>\n      <td>20.0</td>\n      <td>18.3</td>\n      <td>20.6</td>\n      <td>81.0</td>\n      <td>84.0</td>\n      <td>81.0</td>\n      <td>...</td>\n      <td>0.0</td>\n      <td>100.0</td>\n      <td>320.0</td>\n      <td>0.225739</td>\n      <td>0.124717</td>\n      <td>0.54</td>\n      <td>0.22</td>\n      <td>0.22</td>\n      <td>0.54</td>\n      <td>0.016283</td>\n    </tr>\n    <tr>\n      <th>43786</th>\n      <td>7.0</td>\n      <td>1.0</td>\n      <td>19.0</td>\n      <td>20.6</td>\n      <td>20.1</td>\n      <td>19.4</td>\n      <td>20.6</td>\n      <td>84.0</td>\n      <td>79.0</td>\n      <td>79.0</td>\n      <td>...</td>\n      <td>0.0</td>\n      <td>444.0</td>\n      <td>143.0</td>\n      <td>0.222553</td>\n      <td>0.016283</td>\n      <td>0.54</td>\n      <td>0.22</td>\n      <td>0.22</td>\n      <td>0.54</td>\n      <td>0.000000</td>\n    </tr>\n    <tr>\n      <th>43787</th>\n      <td>7.0</td>\n      <td>1.0</td>\n      <td>20.0</td>\n      <td>21.1</td>\n      <td>19.7</td>\n      <td>21.1</td>\n      <td>20.0</td>\n      <td>81.0</td>\n      <td>78.0</td>\n      <td>73.0</td>\n      <td>...</td>\n      <td>0.0</td>\n      <td>592.0</td>\n      <td>0.0</td>\n      <td>0.216094</td>\n      <td>0.000000</td>\n      <td>0.54</td>\n      <td>0.22</td>\n      <td>0.22</td>\n      <td>0.54</td>\n      <td>0.000000</td>\n    </tr>\n    <tr>\n      <th>43788</th>\n      <td>7.0</td>\n      <td>1.0</td>\n      <td>21.0</td>\n      <td>21.7</td>\n      <td>19.3</td>\n      <td>22.2</td>\n      <td>20.6</td>\n      <td>79.0</td>\n      <td>78.0</td>\n      <td>71.0</td>\n      <td>...</td>\n      <td>0.0</td>\n      <td>491.0</td>\n      <td>0.0</td>\n      <td>0.215501</td>\n      <td>0.000000</td>\n      <td>0.22</td>\n      <td>0.22</td>\n      <td>0.22</td>\n      <td>0.22</td>\n      <td>0.000000</td>\n    </tr>\n    <tr>\n      <th>43789</th>\n      <td>7.0</td>\n      <td>1.0</td>\n      <td>22.0</td>\n      <td>21.3</td>\n      <td>18.9</td>\n      <td>21.7</td>\n      <td>20.6</td>\n      <td>76.0</td>\n      <td>78.0</td>\n      <td>73.0</td>\n      <td>...</td>\n      <td>0.0</td>\n      <td>734.0</td>\n      <td>0.0</td>\n      <td>0.202315</td>\n      <td>0.000000</td>\n      <td>0.22</td>\n      <td>0.22</td>\n      <td>0.22</td>\n      <td>0.22</td>\n      <td>0.000000</td>\n    </tr>\n  </tbody>\n</table>\n<p>43790 rows × 26 columns</p>\n</div>"
     },
     "execution_count": 120,
     "metadata": {},
     "output_type": "execute_result"
    }
   ],
   "source": [
    "import pandas as pd\n",
    "from data import citylearn_challenge_2022_phase_1 as competition_data\n",
    "import os.path as osp\n",
    "\n",
    "solargen_data_path = osp.join(osp.dirname(competition_data.__file__), \"solar_data.csv\")\n",
    "solargen_data = pd.read_csv(solargen_data_path)\n",
    "\n",
    "# for i in range(5):\n",
    "#     plt.plot(solargen_data[\"non_shiftable_load\"][i*8760 : 8760 + i*8760])\n",
    "#     plt.show()\n",
    "solargen_data"
   ],
   "metadata": {
    "collapsed": false
   }
  },
  {
   "cell_type": "code",
   "execution_count": 121,
   "outputs": [],
   "source": [
    "#\"month\", \"hour\", \"outdoor_dry_bulb\", \"outdoor_dry_bulb_temperature_predicted_6h\", \"outdoor_relative_humidity\", \"outdoor_relative_humidity_predicted_6h\", \"diffuse_solar_irradiance\", \"diffuse_solar_irradiance_predicted_6h\", \"diffuse_solar_irradiance_predicted_24h\", \"direct_solar_irradiance\", \"direct_solar_irradiance_predicted_6h\", \"direct_solar_irradiance_predicted_24h\", \"electricity_pricing\", \"electricity_pricing_predicted_6h\", \"electricity_pricing_predicted_24h\"\n",
    "\n",
    "selected_params = [\"solar_generation\", \"direct_solar_irradiance_predicted_24h\", \"diffuse_solar_irradiance\", \"solar_generation\", \"month\", \"outdoor_dry_bulb\", \"outdoor_relative_humidity\", \"outdoor_dry_bulb_temperature_predicted_6h\", \"direct_solar_irradiance_predicted_24h\", \"hour\", \"diffuse_solar_irradiance_predicted_6h\", \"outdoor_relative_humidity_predicted_6h\", \"direct_solar_irradiance\", \"direct_solar_irradiance_predicted_6h\", \"solar_generation_future\"]\n",
    "solargen_data = solargen_data[selected_params]"
   ],
   "metadata": {
    "collapsed": false
   }
  },
  {
   "cell_type": "code",
   "execution_count": 122,
   "outputs": [
    {
     "data": {
      "text/plain": "       solar_generation  direct_solar_irradiance_predicted_24h  \\\n0              0.000000                                    0.0   \n1              0.000000                                    0.0   \n2              0.000000                                    0.0   \n3              0.000000                                    0.0   \n4              0.000000                                    0.0   \n...                 ...                                    ...   \n43785          0.124717                                  320.0   \n43786          0.016283                                  143.0   \n43787          0.000000                                    0.0   \n43788          0.000000                                    0.0   \n43789          0.000000                                    0.0   \n\n       diffuse_solar_irradiance  solar_generation  month  outdoor_dry_bulb  \\\n0                           0.0          0.000000    8.0              20.1   \n1                           0.0          0.000000    8.0              19.7   \n2                           0.0          0.000000    8.0              19.3   \n3                           0.0          0.000000    8.0              18.9   \n4                           0.0          0.000000    8.0              18.3   \n...                         ...               ...    ...               ...   \n43785                     218.0          0.124717    7.0              21.1   \n43786                      26.0          0.016283    7.0              20.6   \n43787                       0.0          0.000000    7.0              21.1   \n43788                       0.0          0.000000    7.0              21.7   \n43789                       0.0          0.000000    7.0              21.3   \n\n       outdoor_relative_humidity  outdoor_dry_bulb_temperature_predicted_6h  \\\n0                           79.0                                       19.4   \n1                           78.0                                       21.1   \n2                           78.0                                       22.2   \n3                           78.0                                       21.7   \n4                           81.0                                       22.2   \n...                          ...                                        ...   \n43785                       81.0                                       20.0   \n43786                       84.0                                       20.1   \n43787                       81.0                                       19.7   \n43788                       79.0                                       19.3   \n43789                       76.0                                       18.9   \n\n       direct_solar_irradiance_predicted_24h  hour  \\\n0                                        0.0   1.0   \n1                                        0.0   2.0   \n2                                        0.0   3.0   \n3                                        0.0   4.0   \n4                                        0.0   5.0   \n...                                      ...   ...   \n43785                                  320.0  18.0   \n43786                                  143.0  19.0   \n43787                                    0.0  20.0   \n43788                                    0.0  21.0   \n43789                                    0.0  22.0   \n\n       diffuse_solar_irradiance_predicted_6h  \\\n0                                      201.0   \n1                                      420.0   \n2                                      554.0   \n3                                      778.0   \n4                                      903.0   \n...                                      ...   \n43785                                    0.0   \n43786                                    0.0   \n43787                                    0.0   \n43788                                    0.0   \n43789                                    0.0   \n\n       outdoor_relative_humidity_predicted_6h  direct_solar_irradiance  \\\n0                                        79.0                      0.0   \n1                                        73.0                      0.0   \n2                                        71.0                      0.0   \n3                                        73.0                      0.0   \n4                                        71.0                      0.0   \n...                                       ...                      ...   \n43785                                    84.0                    289.0   \n43786                                    79.0                    130.0   \n43787                                    78.0                      0.0   \n43788                                    78.0                      0.0   \n43789                                    78.0                      0.0   \n\n       direct_solar_irradiance_predicted_6h  solar_generation_future  \n0                                     444.0                 0.000000  \n1                                     592.0                 0.000000  \n2                                     491.0                 0.000000  \n3                                     734.0                 0.000000  \n4                                     811.0                 0.058017  \n...                                     ...                      ...  \n43785                                   0.0                 0.016283  \n43786                                   0.0                 0.000000  \n43787                                   0.0                 0.000000  \n43788                                   0.0                 0.000000  \n43789                                   0.0                 0.000000  \n\n[43790 rows x 15 columns]",
      "text/html": "<div>\n<style scoped>\n    .dataframe tbody tr th:only-of-type {\n        vertical-align: middle;\n    }\n\n    .dataframe tbody tr th {\n        vertical-align: top;\n    }\n\n    .dataframe thead th {\n        text-align: right;\n    }\n</style>\n<table border=\"1\" class=\"dataframe\">\n  <thead>\n    <tr style=\"text-align: right;\">\n      <th></th>\n      <th>solar_generation</th>\n      <th>direct_solar_irradiance_predicted_24h</th>\n      <th>diffuse_solar_irradiance</th>\n      <th>solar_generation</th>\n      <th>month</th>\n      <th>outdoor_dry_bulb</th>\n      <th>outdoor_relative_humidity</th>\n      <th>outdoor_dry_bulb_temperature_predicted_6h</th>\n      <th>direct_solar_irradiance_predicted_24h</th>\n      <th>hour</th>\n      <th>diffuse_solar_irradiance_predicted_6h</th>\n      <th>outdoor_relative_humidity_predicted_6h</th>\n      <th>direct_solar_irradiance</th>\n      <th>direct_solar_irradiance_predicted_6h</th>\n      <th>solar_generation_future</th>\n    </tr>\n  </thead>\n  <tbody>\n    <tr>\n      <th>0</th>\n      <td>0.000000</td>\n      <td>0.0</td>\n      <td>0.0</td>\n      <td>0.000000</td>\n      <td>8.0</td>\n      <td>20.1</td>\n      <td>79.0</td>\n      <td>19.4</td>\n      <td>0.0</td>\n      <td>1.0</td>\n      <td>201.0</td>\n      <td>79.0</td>\n      <td>0.0</td>\n      <td>444.0</td>\n      <td>0.000000</td>\n    </tr>\n    <tr>\n      <th>1</th>\n      <td>0.000000</td>\n      <td>0.0</td>\n      <td>0.0</td>\n      <td>0.000000</td>\n      <td>8.0</td>\n      <td>19.7</td>\n      <td>78.0</td>\n      <td>21.1</td>\n      <td>0.0</td>\n      <td>2.0</td>\n      <td>420.0</td>\n      <td>73.0</td>\n      <td>0.0</td>\n      <td>592.0</td>\n      <td>0.000000</td>\n    </tr>\n    <tr>\n      <th>2</th>\n      <td>0.000000</td>\n      <td>0.0</td>\n      <td>0.0</td>\n      <td>0.000000</td>\n      <td>8.0</td>\n      <td>19.3</td>\n      <td>78.0</td>\n      <td>22.2</td>\n      <td>0.0</td>\n      <td>3.0</td>\n      <td>554.0</td>\n      <td>71.0</td>\n      <td>0.0</td>\n      <td>491.0</td>\n      <td>0.000000</td>\n    </tr>\n    <tr>\n      <th>3</th>\n      <td>0.000000</td>\n      <td>0.0</td>\n      <td>0.0</td>\n      <td>0.000000</td>\n      <td>8.0</td>\n      <td>18.9</td>\n      <td>78.0</td>\n      <td>21.7</td>\n      <td>0.0</td>\n      <td>4.0</td>\n      <td>778.0</td>\n      <td>73.0</td>\n      <td>0.0</td>\n      <td>734.0</td>\n      <td>0.000000</td>\n    </tr>\n    <tr>\n      <th>4</th>\n      <td>0.000000</td>\n      <td>0.0</td>\n      <td>0.0</td>\n      <td>0.000000</td>\n      <td>8.0</td>\n      <td>18.3</td>\n      <td>81.0</td>\n      <td>22.2</td>\n      <td>0.0</td>\n      <td>5.0</td>\n      <td>903.0</td>\n      <td>71.0</td>\n      <td>0.0</td>\n      <td>811.0</td>\n      <td>0.058017</td>\n    </tr>\n    <tr>\n      <th>...</th>\n      <td>...</td>\n      <td>...</td>\n      <td>...</td>\n      <td>...</td>\n      <td>...</td>\n      <td>...</td>\n      <td>...</td>\n      <td>...</td>\n      <td>...</td>\n      <td>...</td>\n      <td>...</td>\n      <td>...</td>\n      <td>...</td>\n      <td>...</td>\n      <td>...</td>\n    </tr>\n    <tr>\n      <th>43785</th>\n      <td>0.124717</td>\n      <td>320.0</td>\n      <td>218.0</td>\n      <td>0.124717</td>\n      <td>7.0</td>\n      <td>21.1</td>\n      <td>81.0</td>\n      <td>20.0</td>\n      <td>320.0</td>\n      <td>18.0</td>\n      <td>0.0</td>\n      <td>84.0</td>\n      <td>289.0</td>\n      <td>0.0</td>\n      <td>0.016283</td>\n    </tr>\n    <tr>\n      <th>43786</th>\n      <td>0.016283</td>\n      <td>143.0</td>\n      <td>26.0</td>\n      <td>0.016283</td>\n      <td>7.0</td>\n      <td>20.6</td>\n      <td>84.0</td>\n      <td>20.1</td>\n      <td>143.0</td>\n      <td>19.0</td>\n      <td>0.0</td>\n      <td>79.0</td>\n      <td>130.0</td>\n      <td>0.0</td>\n      <td>0.000000</td>\n    </tr>\n    <tr>\n      <th>43787</th>\n      <td>0.000000</td>\n      <td>0.0</td>\n      <td>0.0</td>\n      <td>0.000000</td>\n      <td>7.0</td>\n      <td>21.1</td>\n      <td>81.0</td>\n      <td>19.7</td>\n      <td>0.0</td>\n      <td>20.0</td>\n      <td>0.0</td>\n      <td>78.0</td>\n      <td>0.0</td>\n      <td>0.0</td>\n      <td>0.000000</td>\n    </tr>\n    <tr>\n      <th>43788</th>\n      <td>0.000000</td>\n      <td>0.0</td>\n      <td>0.0</td>\n      <td>0.000000</td>\n      <td>7.0</td>\n      <td>21.7</td>\n      <td>79.0</td>\n      <td>19.3</td>\n      <td>0.0</td>\n      <td>21.0</td>\n      <td>0.0</td>\n      <td>78.0</td>\n      <td>0.0</td>\n      <td>0.0</td>\n      <td>0.000000</td>\n    </tr>\n    <tr>\n      <th>43789</th>\n      <td>0.000000</td>\n      <td>0.0</td>\n      <td>0.0</td>\n      <td>0.000000</td>\n      <td>7.0</td>\n      <td>21.3</td>\n      <td>76.0</td>\n      <td>18.9</td>\n      <td>0.0</td>\n      <td>22.0</td>\n      <td>0.0</td>\n      <td>78.0</td>\n      <td>0.0</td>\n      <td>0.0</td>\n      <td>0.000000</td>\n    </tr>\n  </tbody>\n</table>\n<p>43790 rows × 15 columns</p>\n</div>"
     },
     "execution_count": 122,
     "metadata": {},
     "output_type": "execute_result"
    }
   ],
   "source": [
    "solargen_data"
   ],
   "metadata": {
    "collapsed": false
   }
  },
  {
   "cell_type": "code",
   "execution_count": 123,
   "outputs": [
    {
     "name": "stdout",
     "output_type": "stream",
     "text": [
      "(43790, 14)\n",
      "(43790, 1)\n"
     ]
    }
   ],
   "source": [
    "from sklearn.preprocessing import StandardScaler\n",
    "sc = StandardScaler()\n",
    "# solargen_data = solargen_data[0:8760]\n",
    "df_load_scaled = solargen_data.iloc[: , :-1]\n",
    "df_load_scaled = sc.fit_transform(df_load_scaled)\n",
    "print(df_load_scaled.shape)\n",
    "\n",
    "sc2 = StandardScaler()\n",
    "df_load_scaled_y = sc2.fit_transform(solargen_data[[\"solar_generation_future\"]])\n",
    "print(df_load_scaled_y.shape)"
   ],
   "metadata": {
    "collapsed": false
   }
  },
  {
   "cell_type": "code",
   "execution_count": 124,
   "outputs": [
    {
     "name": "stdout",
     "output_type": "stream",
     "text": [
      "(43766, 24, 14)\n",
      "(43766,)\n"
     ]
    }
   ],
   "source": [
    "hops = 24\n",
    "no_records = df_load_scaled_y.shape[0]\n",
    "no_cols = len(selected_params) - 1\n",
    "X_train = []\n",
    "y_train = []\n",
    "for i in range(hops, no_records):\n",
    "    X_train.append(df_load_scaled[i-hops:i])\n",
    "    y_train.append(df_load_scaled_y[i][0])\n",
    "X_train, y_train = np.array(X_train), np.array(y_train)\n",
    "\n",
    "print(X_train.shape)\n",
    "print(y_train.shape)"
   ],
   "metadata": {
    "collapsed": false,
    "pycharm": {
     "name": "#%%\n"
    }
   }
  },
  {
   "cell_type": "code",
   "execution_count": 125,
   "outputs": [],
   "source": [
    "X_train_reshaped = np.reshape(X_train, (X_train.shape[0], X_train.shape[1], X_train.shape[2]))"
   ],
   "metadata": {
    "collapsed": false
   }
  },
  {
   "cell_type": "code",
   "execution_count": 126,
   "outputs": [
    {
     "data": {
      "text/plain": "(43766, 24, 14)"
     },
     "execution_count": 126,
     "metadata": {},
     "output_type": "execute_result"
    }
   ],
   "source": [
    "X_train_reshaped.shape"
   ],
   "metadata": {
    "collapsed": false
   }
  },
  {
   "cell_type": "code",
   "execution_count": 127,
   "outputs": [],
   "source": [
    "from keras.models import Sequential\n",
    "from keras.layers import Dense, LSTM, Dropout\n",
    "\n",
    "model=Sequential()\n",
    "model.add(LSTM(units=64, return_sequences=True, input_shape=(hops,no_cols)))\n",
    "model.add(Dropout(0.2))\n",
    "model.add(LSTM(units=64))\n",
    "model.add(Dropout(0.2))\n",
    "model.add(Dense(1))\n",
    "model.compile(optimizer='adam', loss='mean_squared_error')"
   ],
   "metadata": {
    "collapsed": false
   }
  },
  {
   "cell_type": "code",
   "execution_count": null,
   "outputs": [
    {
     "name": "stdout",
     "output_type": "stream",
     "text": [
      "Epoch 1/100\n",
      "342/342 [==============================] - 68s 191ms/step - loss: 0.1587\n",
      "Epoch 2/100\n",
      "342/342 [==============================] - 64s 189ms/step - loss: 0.0773\n",
      "Epoch 3/100\n",
      "342/342 [==============================] - 65s 189ms/step - loss: 0.0685\n",
      "Epoch 4/100\n",
      "342/342 [==============================] - 64s 186ms/step - loss: 0.0628\n",
      "Epoch 5/100\n",
      "342/342 [==============================] - 65s 190ms/step - loss: 0.0599\n",
      "Epoch 6/100\n",
      "342/342 [==============================] - 64s 188ms/step - loss: 0.0573\n",
      "Epoch 7/100\n",
      "342/342 [==============================] - 65s 189ms/step - loss: 0.0535\n",
      "Epoch 8/100\n",
      "342/342 [==============================] - 65s 189ms/step - loss: 0.0508\n",
      "Epoch 9/100\n",
      "342/342 [==============================] - 64s 188ms/step - loss: 0.0488\n",
      "Epoch 10/100\n",
      "342/342 [==============================] - 64s 187ms/step - loss: 0.0464\n",
      "Epoch 11/100\n",
      "342/342 [==============================] - 64s 189ms/step - loss: 0.0449\n",
      "Epoch 12/100\n",
      "342/342 [==============================] - 64s 187ms/step - loss: 0.0431\n",
      "Epoch 13/100\n",
      "342/342 [==============================] - 64s 186ms/step - loss: 0.0418\n",
      "Epoch 14/100\n",
      "342/342 [==============================] - 64s 187ms/step - loss: 0.0397\n",
      "Epoch 15/100\n",
      "342/342 [==============================] - 64s 186ms/step - loss: 0.0384\n",
      "Epoch 16/100\n",
      "342/342 [==============================] - 64s 186ms/step - loss: 0.0379\n",
      "Epoch 17/100\n",
      "342/342 [==============================] - 63s 185ms/step - loss: 0.0359\n",
      "Epoch 18/100\n",
      "342/342 [==============================] - 63s 185ms/step - loss: 0.0352\n",
      "Epoch 19/100\n",
      "342/342 [==============================] - 63s 185ms/step - loss: 0.0339\n",
      "Epoch 20/100\n",
      "342/342 [==============================] - 64s 186ms/step - loss: 0.0332\n",
      "Epoch 21/100\n",
      "342/342 [==============================] - 64s 186ms/step - loss: 0.0324\n",
      "Epoch 22/100\n",
      "342/342 [==============================] - 63s 185ms/step - loss: 0.0314\n",
      "Epoch 23/100\n",
      "342/342 [==============================] - 63s 184ms/step - loss: 0.0305\n",
      "Epoch 24/100\n",
      "342/342 [==============================] - 63s 183ms/step - loss: 0.0298\n",
      "Epoch 25/100\n",
      "342/342 [==============================] - 63s 183ms/step - loss: 0.0285\n",
      "Epoch 26/100\n",
      "342/342 [==============================] - 63s 184ms/step - loss: 0.0279\n",
      "Epoch 27/100\n",
      "342/342 [==============================] - 62s 182ms/step - loss: 0.0267\n",
      "Epoch 28/100\n",
      "342/342 [==============================] - 62s 181ms/step - loss: 0.0260\n",
      "Epoch 29/100\n",
      " 56/342 [===>..........................] - ETA: 52s - loss: 0.0270"
     ]
    }
   ],
   "source": [
    "model.fit(X_train_reshaped, y_train, validation_split=0, epochs=100, batch_size=128, shuffle=True, workers=24, use_multiprocessing=True)"
   ],
   "metadata": {
    "collapsed": false,
    "pycharm": {
     "is_executing": true
    }
   }
  },
  {
   "cell_type": "code",
   "execution_count": null,
   "outputs": [],
   "source": [
    "from pickle import dump\n",
    "model.save(\"solar_generation_model.h5\")\n",
    "dump(sc, open(\"solar_generation_scaler.pkl\", \"wb\"))\n",
    "dump(sc2, open(\"solar_generation_scaler_result.pkl\", \"wb\"))"
   ],
   "metadata": {
    "collapsed": false,
    "pycharm": {
     "is_executing": true
    }
   }
  },
  {
   "cell_type": "code",
   "execution_count": null,
   "outputs": [],
   "source": [],
   "metadata": {
    "collapsed": false
   }
  },
  {
   "cell_type": "code",
   "execution_count": null,
   "outputs": [],
   "source": [],
   "metadata": {
    "collapsed": false
   }
  },
  {
   "cell_type": "code",
   "execution_count": null,
   "outputs": [],
   "source": [],
   "metadata": {
    "collapsed": false
   }
  },
  {
   "cell_type": "code",
   "execution_count": null,
   "outputs": [],
   "source": [],
   "metadata": {
    "collapsed": false
   }
  },
  {
   "cell_type": "code",
   "execution_count": null,
   "outputs": [],
   "source": [],
   "metadata": {
    "collapsed": false
   }
  },
  {
   "cell_type": "code",
   "execution_count": null,
   "outputs": [],
   "source": [],
   "metadata": {
    "collapsed": false
   }
  },
  {
   "cell_type": "code",
   "execution_count": null,
   "outputs": [],
   "source": [],
   "metadata": {
    "collapsed": false
   }
  },
  {
   "cell_type": "code",
   "execution_count": null,
   "outputs": [],
   "source": [],
   "metadata": {
    "collapsed": false
   }
  },
  {
   "cell_type": "code",
   "execution_count": null,
   "outputs": [],
   "source": [],
   "metadata": {
    "collapsed": false
   }
  },
  {
   "cell_type": "code",
   "execution_count": null,
   "outputs": [],
   "source": [],
   "metadata": {
    "collapsed": false
   }
  },
  {
   "cell_type": "code",
   "execution_count": null,
   "outputs": [],
   "source": [],
   "metadata": {
    "collapsed": false
   }
  },
  {
   "cell_type": "code",
   "execution_count": null,
   "outputs": [],
   "source": [],
   "metadata": {
    "collapsed": false
   }
  },
  {
   "cell_type": "code",
   "execution_count": 60,
   "outputs": [],
   "source": [
    "# units = dimensionality of the output space\n",
    "\n",
    "\n",
    "def create_RNN(hidden_units, dense_units, input_shape, activation):\n",
    "    model = Sequential()\n",
    "    model.add(SimpleRNN(hidden_units, input_shape=input_shape,\n",
    "                        activation=activation[0]))\n",
    "    model.add(Dense(units=dense_units, activation=activation[1]))\n",
    "    model.compile(loss='mean_squared_error', optimizer='adam')\n",
    "    return model\n",
    "\n",
    "demo_model = create_RNN(hidden_units=2, dense_units=1, input_shape=(3,1), activation=['relu', 'relu'])"
   ],
   "metadata": {
    "collapsed": false
   }
  },
  {
   "cell_type": "code",
   "execution_count": null,
   "outputs": [],
   "source": [],
   "metadata": {
    "collapsed": false
   }
  }
 ],
 "metadata": {
  "kernelspec": {
   "display_name": "Python 3",
   "language": "python",
   "name": "python3"
  },
  "language_info": {
   "codemirror_mode": {
    "name": "ipython",
    "version": 2
   },
   "file_extension": ".py",
   "mimetype": "text/x-python",
   "name": "python",
   "nbconvert_exporter": "python",
   "pygments_lexer": "ipython2",
   "version": "2.7.6"
  }
 },
 "nbformat": 4,
 "nbformat_minor": 0
}
