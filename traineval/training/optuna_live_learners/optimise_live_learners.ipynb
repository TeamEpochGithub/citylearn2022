{
 "cells": [
  {
   "cell_type": "code",
   "execution_count": 1,
   "metadata": {
    "collapsed": true
   },
   "outputs": [],
   "source": [
    "from hyperopt import fmin, hp, tpe, SparkTrials, STATUS_OK\n",
    "from hyperopt.early_stop import no_progress_loss\n",
    "\n",
    "# from hpsklearn import any_regressor, any_preprocessing\n",
    "# import sklearn.preprocessing\n",
    "from sklearn.linear_model import LinearRegression\n",
    "\n",
    "from lightgbm import LGBMRegressor\n",
    "from xgboost.sklearn import XGBRegressor\n",
    "from catboost import CatBoostRegressor\n",
    "from sklearn.linear_model import SGDRegressor\n",
    "from sklearn.kernel_ridge import KernelRidge\n",
    "from sklearn.linear_model import ElasticNet\n",
    "from sklearn.linear_model import BayesianRidge\n",
    "from sklearn.linear_model import Ridge\n",
    "\n",
    "from sklearn.ensemble import GradientBoostingRegressor\n",
    "from sklearn.svm import SVR\n"
   ]
  },
  {
   "cell_type": "code",
   "execution_count": 2,
   "outputs": [],
   "source": [
    "lag_options = [ [1], [1, 2], [1, 2, 3], [1, 2, 3, 4], [1, 2, 3, 4, 5], [1, 2, 3, 4, 5, 6], [1, 2, 3, 4, 5, 6, 7], [1, 2, 3, 4, 5, 6, 7, 8], [1, 2, 3, 4, 5, 6, 7, 8, 9], [1, 25], [1, 2, 25, 26], [1, 2, 3, 25, 26, 27], [1, 2, 3, 4, 25, 26, 27, 28], [1, 2, 3, 4, 5, 25, 26, 27, 28, 29], [1, 2, 3, 4, 5, 6, 25, 26, 27, 28, 29, 30], [1, 2, 3, 4, 5, 6, 7, 25, 26, 27, 28, 29, 30, 31], [1, 2, 3, 4, 5, 6, 7, 8, 25, 26, 27, 28, 29, 30, 31, 32], [1, 2, 3, 4, 5, 6, 7, 8, 9, 25, 26, 27, 28, 29, 30, 31, 32, 33], [1, 25, 49], [1, 2, 25, 26, 49, 50], [1, 2, 3, 25, 26, 27, 49, 50, 51], [1, 2, 3, 4, 25, 26, 27, 28, 49, 50, 51, 52], [1, 2, 3, 4, 5, 25, 26, 27, 28, 29, 49, 50, 51, 52, 53], [1, 2, 3, 4, 5, 6, 25, 26, 27, 28, 29, 30, 49, 50, 51, 52, 53, 54], [1, 2, 3, 4, 5, 6, 7, 25, 26, 27, 28, 29, 30, 31, 49, 50, 51, 52, 53, 54, 55], [1, 2, 3, 4, 5, 6, 7, 8, 25, 26, 27, 28, 29, 30, 31, 32, 49, 50, 51, 52, 53, 54, 55, 56], [1, 2, 3, 4, 5, 6, 7, 8, 9, 25, 26, 27, 28, 29, 30, 31, 32, 33, 49, 50, 51, 52, 53, 54, 55, 56, 57]]"
   ],
   "metadata": {
    "collapsed": false
   }
  },
  {
   "cell_type": "code",
   "execution_count": 3,
   "outputs": [],
   "source": [
    "linreg = LinearRegression()\n",
    "lgbm = LGBMRegressor()\n",
    "# xgb = XGBRegressor()\n",
    "catboost = CatBoostRegressor()\n",
    "sgd = SGDRegressor()\n",
    "kernelridge = KernelRidge()\n",
    "elastic = ElasticNet()\n",
    "bayesianridge = BayesianRidge()\n",
    "# gradientboosting = GradientBoostingRegressor(n_estimators=100)\n",
    "svr = SVR()\n",
    "ridge = Ridge()\n",
    "\n",
    "# all_regressors = [linreg, lgbm, xgb, catboost, sgd, kernelridge, elastic, bayesianridge, gradientboosting, svr]\n",
    "all_regressors = [linreg, lgbm, catboost, sgd, kernelridge, elastic, bayesianridge, svr]\n",
    "\n",
    "def get_params():\n",
    "    search_space = {#\"price_1\": hp.uniform(\"price_1\", -1, 1),\n",
    "                    # \"cap_learning_data\": hp.quniform(\"cap_learning_data\", 300, 800, 100),\n",
    "                    # \"update_learner_interval\": hp.quniform(\"update_learner_interval\", 1, 4, 1),\n",
    "                    \"cap_learning_data\": hp.choice(\"cap_learning_data\", [500]),\n",
    "                    \"update_learner_interval\": hp.choice(\"update_learner_interval\", [4]),\n",
    "                    # \"load_lags\": hp.choice(\"load_lags\", lag_options),\n",
    "                    # \"solar_lags\": hp.choice(\"solar_lags\", lag_options),\n",
    "                    # \"load_regressor\": hp.choice(\"load_regressor\", [ridge]),\n",
    "                    # \"solar_regressor\": hp.choice(\"solar_regressor\", [ridge]),\n",
    "\n",
    "                    # \"load_regressor\": any_regressor(\"my_reg1\"),\n",
    "                    # \"solar_regressor\": any_regressor(\"my_reg2\"),\n",
    "                    # \"load_transformer\": any_preprocessing(\"my_pre1\"),\n",
    "                    # \"solar_transformer\": any_preprocessing(\"my_pre2\")\n",
    "                    }\n",
    "    return search_space"
   ],
   "metadata": {
    "collapsed": false
   }
  },
  {
   "cell_type": "code",
   "execution_count": null,
   "outputs": [
    {
     "name": "stderr",
     "output_type": "stream",
     "text": [
      "Warning: Gym version v0.24.1 has a number of critical issues with `gym.make` such that environment observation and action spaces are incorrectly evaluated, raising incorrect errors and warning . It is recommend to downgrading to v0.23.1 or upgrading to v0.25.1\n"
     ]
    },
    {
     "name": "stdout",
     "output_type": "stream",
     "text": [
      "  0%|          | 0/1000 [00:00<?, ?trial/s, best loss=?]"
     ]
    },
    {
     "name": "stderr",
     "output_type": "stream",
     "text": [
      "hyperopt.tpe INFO  build_posterior_wrapper took 0.000000 seconds\n",
      "hyperopt.tpe INFO  TPE using 0 trials\n",
      "hyperopt.tpe INFO  build_posterior_wrapper took 0.001324 seconds\n",
      "hyperopt.tpe INFO  TPE using 1/1 trials with best loss inf\n",
      "hyperopt.tpe INFO  build_posterior_wrapper took 0.000000 seconds\n",
      "hyperopt.tpe INFO  TPE using 2/2 trials with best loss inf\n",
      "hyperopt.tpe INFO  build_posterior_wrapper took 0.000000 seconds\n",
      "hyperopt.tpe INFO  TPE using 3/3 trials with best loss inf\n",
      "hyperopt.tpe INFO  build_posterior_wrapper took 0.000000 seconds\n",
      "hyperopt.tpe INFO  TPE using 4/4 trials with best loss inf\n",
      "hyperopt.tpe INFO  build_posterior_wrapper took 0.000000 seconds\n",
      "hyperopt.tpe INFO  TPE using 5/5 trials with best loss inf\n",
      "hyperopt.tpe INFO  build_posterior_wrapper took 0.000000 seconds\n",
      "hyperopt.tpe INFO  TPE using 6/6 trials with best loss inf\n",
      "hyperopt.tpe INFO  build_posterior_wrapper took 0.000000 seconds\n",
      "hyperopt.tpe INFO  TPE using 7/7 trials with best loss inf\n",
      "hyperopt.tpe INFO  build_posterior_wrapper took 0.000000 seconds\n",
      "hyperopt.tpe INFO  TPE using 8/8 trials with best loss inf\n",
      "hyperopt.tpe INFO  build_posterior_wrapper took 0.000000 seconds\n",
      "hyperopt.tpe INFO  TPE using 9/9 trials with best loss inf\n",
      "hyperopt.tpe INFO  build_posterior_wrapper took 0.000000 seconds\n",
      "hyperopt.tpe INFO  TPE using 10/10 trials with best loss inf\n",
      "hyperopt.tpe INFO  build_posterior_wrapper took 0.000000 seconds\n",
      "hyperopt.tpe INFO  TPE using 11/11 trials with best loss inf\n",
      "hyperopt.tpe INFO  build_posterior_wrapper took 0.000000 seconds\n",
      "hyperopt.tpe INFO  TPE using 12/12 trials with best loss inf\n",
      "hyperopt.tpe INFO  build_posterior_wrapper took 0.000000 seconds\n",
      "hyperopt.tpe INFO  TPE using 13/13 trials with best loss inf\n",
      "hyperopt.tpe INFO  build_posterior_wrapper took 0.000000 seconds\n",
      "hyperopt.tpe INFO  TPE using 14/14 trials with best loss inf\n",
      "hyperopt.tpe INFO  build_posterior_wrapper took 0.000000 seconds\n",
      "hyperopt.tpe INFO  TPE using 15/15 trials with best loss inf\n",
      "hyperopt.tpe INFO  build_posterior_wrapper took 0.000000 seconds\n",
      "hyperopt.tpe INFO  TPE using 16/16 trials with best loss inf\n",
      "hyperopt.tpe INFO  build_posterior_wrapper took 0.000000 seconds\n",
      "hyperopt.tpe INFO  TPE using 17/17 trials with best loss inf\n",
      "hyperopt.tpe INFO  build_posterior_wrapper took 0.000000 seconds\n",
      "hyperopt.tpe INFO  TPE using 18/18 trials with best loss inf\n",
      "py4j.clientserver INFO  Closing down clientserver connection\n"
     ]
    },
    {
     "name": "stdout",
     "output_type": "stream",
     "text": [
      "  0%|          | 1/1000 [06:30<108:23:22, 390.59s/trial, best loss: 0.9141681796685477]"
     ]
    },
    {
     "name": "stderr",
     "output_type": "stream",
     "text": [
      "hyperopt.tpe INFO  build_posterior_wrapper took 0.000000 seconds\n",
      "hyperopt.tpe INFO  TPE using 19/19 trials with best loss 0.914168\n",
      "py4j.clientserver INFO  Closing down clientserver connection\n",
      "py4j.clientserver INFO  Closing down clientserver connection\n"
     ]
    },
    {
     "name": "stdout",
     "output_type": "stream",
     "text": [
      "  0%|          | 3/1000 [06:33<28:21:16, 102.38s/trial, best loss: 0.9141681796685477] "
     ]
    },
    {
     "name": "stderr",
     "output_type": "stream",
     "text": [
      "hyperopt.tpe INFO  build_posterior_wrapper took 0.000000 seconds\n",
      "hyperopt.tpe INFO  TPE using 20/20 trials with best loss 0.914168\n",
      "hyperopt.tpe INFO  build_posterior_wrapper took 0.000000 seconds\n",
      "hyperopt.tpe INFO  TPE using 21/21 trials with best loss 0.914168\n",
      "py4j.clientserver INFO  Closing down clientserver connection\n"
     ]
    },
    {
     "name": "stdout",
     "output_type": "stream",
     "text": [
      "  0%|          | 4/1000 [06:35<18:43:05, 67.66s/trial, best loss: 0.9141681796685477] "
     ]
    },
    {
     "name": "stderr",
     "output_type": "stream",
     "text": [
      "hyperopt.tpe INFO  build_posterior_wrapper took 0.000000 seconds\n",
      "hyperopt.tpe INFO  TPE using 22/22 trials with best loss 0.914168\n",
      "py4j.clientserver INFO  Closing down clientserver connection\n"
     ]
    },
    {
     "name": "stdout",
     "output_type": "stream",
     "text": [
      "  0%|          | 5/1000 [06:38<12:47:25, 46.28s/trial, best loss: 0.9141681796685477]"
     ]
    },
    {
     "name": "stderr",
     "output_type": "stream",
     "text": [
      "py4j.clientserver INFO  Closing down clientserver connection\n"
     ]
    },
    {
     "name": "stdout",
     "output_type": "stream",
     "text": [
      "  1%|          | 6/1000 [06:39<8:45:59, 31.75s/trial, best loss: 0.9141681796685477] "
     ]
    },
    {
     "name": "stderr",
     "output_type": "stream",
     "text": [
      "hyperopt.tpe INFO  build_posterior_wrapper took 0.000000 seconds\n",
      "hyperopt.tpe INFO  TPE using 23/23 trials with best loss 0.914168\n",
      "py4j.clientserver INFO  Closing down clientserver connection\n",
      "py4j.clientserver INFO  Closing down clientserver connection\n"
     ]
    },
    {
     "name": "stdout",
     "output_type": "stream",
     "text": [
      "  1%|          | 8/1000 [06:40<4:37:50, 16.80s/trial, best loss: 0.9141681796685477]"
     ]
    },
    {
     "name": "stderr",
     "output_type": "stream",
     "text": [
      "hyperopt.tpe INFO  build_posterior_wrapper took 0.000000 seconds\n",
      "hyperopt.tpe INFO  TPE using 24/24 trials with best loss 0.914168\n",
      "hyperopt.tpe INFO  build_posterior_wrapper took 0.000000 seconds\n",
      "hyperopt.tpe INFO  TPE using 25/25 trials with best loss 0.914168\n",
      "py4j.clientserver INFO  Closing down clientserver connection\n",
      "py4j.clientserver INFO  Closing down clientserver connection\n"
     ]
    },
    {
     "name": "stdout",
     "output_type": "stream",
     "text": [
      "  1%|          | 10/1000 [06:42<2:51:27, 10.39s/trial, best loss: 0.9141681796685477]"
     ]
    },
    {
     "name": "stderr",
     "output_type": "stream",
     "text": [
      "hyperopt.tpe INFO  build_posterior_wrapper took 0.000000 seconds\n",
      "hyperopt.tpe INFO  TPE using 26/26 trials with best loss 0.914168\n",
      "hyperopt.tpe INFO  build_posterior_wrapper took 0.000000 seconds\n",
      "hyperopt.tpe INFO  TPE using 27/27 trials with best loss 0.914168\n",
      "hyperopt.tpe INFO  build_posterior_wrapper took 0.000000 seconds\n",
      "hyperopt.tpe INFO  TPE using 28/28 trials with best loss 0.914168\n",
      "py4j.clientserver INFO  Closing down clientserver connection\n"
     ]
    },
    {
     "name": "stdout",
     "output_type": "stream",
     "text": [
      "  1%|          | 11/1000 [06:45<2:24:00,  8.74s/trial, best loss: 0.9141681796685477]"
     ]
    },
    {
     "name": "stderr",
     "output_type": "stream",
     "text": [
      "py4j.clientserver INFO  Closing down clientserver connection\n",
      "py4j.clientserver INFO  Closing down clientserver connection\n"
     ]
    },
    {
     "name": "stdout",
     "output_type": "stream",
     "text": [
      "  1%|▏         | 13/1000 [06:46<1:30:43,  5.52s/trial, best loss: 0.9141681796685477]"
     ]
    },
    {
     "name": "stderr",
     "output_type": "stream",
     "text": [
      "hyperopt.tpe INFO  build_posterior_wrapper took 0.000000 seconds\n",
      "hyperopt.tpe INFO  TPE using 29/29 trials with best loss 0.914168\n",
      "py4j.clientserver INFO  Closing down clientserver connection\n"
     ]
    },
    {
     "name": "stdout",
     "output_type": "stream",
     "text": [
      "  1%|▏         | 14/1000 [06:47<1:14:29,  4.53s/trial, best loss: 0.9141681796685477]"
     ]
    },
    {
     "name": "stderr",
     "output_type": "stream",
     "text": [
      "hyperopt.tpe INFO  build_posterior_wrapper took 0.000000 seconds\n",
      "hyperopt.tpe INFO  TPE using 30/30 trials with best loss 0.914168\n",
      "hyperopt.tpe INFO  build_posterior_wrapper took 0.000000 seconds\n",
      "hyperopt.tpe INFO  TPE using 31/31 trials with best loss 0.914168\n",
      "hyperopt.tpe INFO  build_posterior_wrapper took 0.000000 seconds\n",
      "hyperopt.tpe INFO  TPE using 32/32 trials with best loss 0.914168\n",
      "py4j.clientserver INFO  Closing down clientserver connection\n",
      "py4j.clientserver INFO  Closing down clientserver connection\n"
     ]
    },
    {
     "name": "stdout",
     "output_type": "stream",
     "text": [
      "  2%|▏         | 16/1000 [06:50<55:17,  3.37s/trial, best loss: 0.9141681796685477]  "
     ]
    },
    {
     "name": "stderr",
     "output_type": "stream",
     "text": [
      "hyperopt.tpe INFO  build_posterior_wrapper took 0.000000 seconds\n",
      "hyperopt.tpe INFO  TPE using 33/33 trials with best loss 0.914168\n",
      "hyperopt.tpe INFO  build_posterior_wrapper took 0.000000 seconds\n",
      "hyperopt.tpe INFO  TPE using 34/34 trials with best loss 0.914168\n",
      "py4j.clientserver INFO  Closing down clientserver connection\n"
     ]
    },
    {
     "name": "stdout",
     "output_type": "stream",
     "text": [
      "  2%|▏         | 17/1000 [06:53<54:00,  3.30s/trial, best loss: 0.9141681796685477]"
     ]
    },
    {
     "name": "stderr",
     "output_type": "stream",
     "text": [
      "hyperopt.tpe INFO  build_posterior_wrapper took 0.000000 seconds\n",
      "hyperopt.tpe INFO  TPE using 35/35 trials with best loss 0.914168\n",
      "py4j.clientserver INFO  Closing down clientserver connection\n"
     ]
    },
    {
     "name": "stdout",
     "output_type": "stream",
     "text": [
      "  2%|▏         | 18/1000 [06:56<52:53,  3.23s/trial, best loss: 0.9141681796685477]"
     ]
    },
    {
     "name": "stderr",
     "output_type": "stream",
     "text": [
      "hyperopt.tpe INFO  build_posterior_wrapper took 0.000000 seconds\n",
      "hyperopt.tpe INFO  TPE using 36/36 trials with best loss 0.914168\n",
      "py4j.clientserver INFO  Closing down clientserver connection\n"
     ]
    },
    {
     "name": "stdout",
     "output_type": "stream",
     "text": [
      "  2%|▏         | 19/1000 [13:10<26:16:55, 96.45s/trial, best loss: 0.9141681796685477]"
     ]
    },
    {
     "name": "stderr",
     "output_type": "stream",
     "text": [
      "hyperopt.tpe INFO  build_posterior_wrapper took 0.000000 seconds\n",
      "hyperopt.tpe INFO  TPE using 37/37 trials with best loss 0.914168\n",
      "py4j.clientserver INFO  Closing down clientserver connection\n",
      "py4j.clientserver INFO  Closing down clientserver connection\n"
     ]
    },
    {
     "name": "stdout",
     "output_type": "stream",
     "text": [
      "  2%|▏         | 21/1000 [13:13<15:25:56, 56.75s/trial, best loss: 0.9141681796685477]"
     ]
    },
    {
     "name": "stderr",
     "output_type": "stream",
     "text": [
      "hyperopt.tpe INFO  build_posterior_wrapper took 0.000000 seconds\n",
      "hyperopt.tpe INFO  TPE using 38/38 trials with best loss 0.914168\n",
      "hyperopt.tpe INFO  build_posterior_wrapper took 0.000000 seconds\n",
      "hyperopt.tpe INFO  TPE using 39/39 trials with best loss 0.914168\n",
      "py4j.clientserver INFO  Closing down clientserver connection\n"
     ]
    },
    {
     "name": "stdout",
     "output_type": "stream",
     "text": [
      "  2%|▏         | 22/1000 [13:16<12:03:38, 44.39s/trial, best loss: 0.9141681796685477]"
     ]
    },
    {
     "name": "stderr",
     "output_type": "stream",
     "text": [
      "hyperopt.tpe INFO  build_posterior_wrapper took 0.000000 seconds\n",
      "hyperopt.tpe INFO  TPE using 40/40 trials with best loss 0.914168\n",
      "py4j.clientserver INFO  Closing down clientserver connection\n"
     ]
    },
    {
     "name": "stdout",
     "output_type": "stream",
     "text": [
      "  2%|▏         | 23/1000 [13:18<9:12:13, 33.91s/trial, best loss: 0.9141681796685477] "
     ]
    },
    {
     "name": "stderr",
     "output_type": "stream",
     "text": [
      "hyperopt.tpe INFO  build_posterior_wrapper took 0.000000 seconds\n",
      "hyperopt.tpe INFO  TPE using 41/41 trials with best loss 0.914168\n",
      "py4j.clientserver INFO  Closing down clientserver connection\n"
     ]
    },
    {
     "name": "stdout",
     "output_type": "stream",
     "text": [
      "  2%|▏         | 24/1000 [13:20<6:56:10, 25.58s/trial, best loss: 0.9141681796685477]"
     ]
    },
    {
     "name": "stderr",
     "output_type": "stream",
     "text": [
      "py4j.clientserver INFO  Closing down clientserver connection\n"
     ]
    },
    {
     "name": "stdout",
     "output_type": "stream",
     "text": [
      "  2%|▎         | 25/1000 [13:21<5:07:15, 18.91s/trial, best loss: 0.9141681796685477]"
     ]
    },
    {
     "name": "stderr",
     "output_type": "stream",
     "text": [
      "hyperopt.tpe INFO  build_posterior_wrapper took 0.000000 seconds\n",
      "hyperopt.tpe INFO  TPE using 42/42 trials with best loss 0.914168\n",
      "py4j.clientserver INFO  Closing down clientserver connection\n"
     ]
    },
    {
     "name": "stdout",
     "output_type": "stream",
     "text": [
      "  3%|▎         | 26/1000 [13:22<3:45:44, 13.91s/trial, best loss: 0.9141681796685477]"
     ]
    },
    {
     "name": "stderr",
     "output_type": "stream",
     "text": [
      "hyperopt.tpe INFO  build_posterior_wrapper took 0.000000 seconds\n",
      "hyperopt.tpe INFO  TPE using 43/43 trials with best loss 0.914168\n",
      "hyperopt.tpe INFO  build_posterior_wrapper took 0.001001 seconds\n",
      "hyperopt.tpe INFO  TPE using 44/44 trials with best loss 0.914168\n",
      "py4j.clientserver INFO  Closing down clientserver connection\n"
     ]
    },
    {
     "name": "stdout",
     "output_type": "stream",
     "text": [
      "  3%|▎         | 27/1000 [13:25<2:55:09, 10.80s/trial, best loss: 0.9141681796685477]"
     ]
    },
    {
     "name": "stderr",
     "output_type": "stream",
     "text": [
      "hyperopt.tpe INFO  build_posterior_wrapper took 0.000000 seconds\n",
      "hyperopt.tpe INFO  TPE using 45/45 trials with best loss 0.914168\n",
      "py4j.clientserver INFO  Closing down clientserver connection\n",
      "py4j.clientserver INFO  Closing down clientserver connection\n",
      "py4j.clientserver INFO  Closing down clientserver connection\n",
      "py4j.clientserver INFO  Closing down clientserver connection\n"
     ]
    },
    {
     "name": "stdout",
     "output_type": "stream",
     "text": [
      "  3%|▎         | 31/1000 [13:28<1:13:53,  4.58s/trial, best loss: 0.9141681796685477]"
     ]
    },
    {
     "name": "stderr",
     "output_type": "stream",
     "text": [
      "hyperopt.tpe INFO  build_posterior_wrapper took 0.000000 seconds\n",
      "hyperopt.tpe INFO  TPE using 46/46 trials with best loss 0.914168\n",
      "py4j.clientserver INFO  Closing down clientserver connection\n"
     ]
    },
    {
     "name": "stdout",
     "output_type": "stream",
     "text": [
      "  3%|▎         | 32/1000 [13:29<1:03:23,  3.93s/trial, best loss: 0.9141681796685477]"
     ]
    },
    {
     "name": "stderr",
     "output_type": "stream",
     "text": [
      "hyperopt.tpe INFO  build_posterior_wrapper took 0.000000 seconds\n",
      "hyperopt.tpe INFO  TPE using 47/47 trials with best loss 0.914168\n",
      "hyperopt.tpe INFO  build_posterior_wrapper took 0.000000 seconds\n",
      "hyperopt.tpe INFO  TPE using 48/48 trials with best loss 0.914168\n",
      "py4j.clientserver INFO  Closing down clientserver connection\n"
     ]
    },
    {
     "name": "stdout",
     "output_type": "stream",
     "text": [
      "  3%|▎         | 33/1000 [13:31<57:00,  3.54s/trial, best loss: 0.9141681796685477]  "
     ]
    },
    {
     "name": "stderr",
     "output_type": "stream",
     "text": [
      "hyperopt.tpe INFO  build_posterior_wrapper took 0.000000 seconds\n",
      "hyperopt.tpe INFO  TPE using 49/49 trials with best loss 0.914168\n",
      "hyperopt.tpe INFO  build_posterior_wrapper took 0.000000 seconds\n",
      "hyperopt.tpe INFO  TPE using 50/50 trials with best loss 0.914168\n",
      "hyperopt.tpe INFO  build_posterior_wrapper took 0.000000 seconds\n",
      "hyperopt.tpe INFO  TPE using 51/51 trials with best loss 0.914168\n",
      "py4j.clientserver INFO  Closing down clientserver connection\n"
     ]
    },
    {
     "name": "stdout",
     "output_type": "stream",
     "text": [
      "  3%|▎         | 34/1000 [13:34<55:00,  3.42s/trial, best loss: 0.9141681796685477]"
     ]
    },
    {
     "name": "stderr",
     "output_type": "stream",
     "text": [
      "hyperopt.tpe INFO  build_posterior_wrapper took 0.000000 seconds\n",
      "hyperopt.tpe INFO  TPE using 52/52 trials with best loss 0.914168\n",
      "py4j.clientserver INFO  Closing down clientserver connection\n"
     ]
    },
    {
     "name": "stdout",
     "output_type": "stream",
     "text": [
      "  4%|▎         | 35/1000 [13:36<49:24,  3.07s/trial, best loss: 0.9141681796685477]"
     ]
    },
    {
     "name": "stderr",
     "output_type": "stream",
     "text": [
      "py4j.clientserver INFO  Closing down clientserver connection\n"
     ]
    },
    {
     "name": "stdout",
     "output_type": "stream",
     "text": [
      "  4%|▎         | 36/1000 [13:37<40:46,  2.54s/trial, best loss: 0.9141681796685477]"
     ]
    },
    {
     "name": "stderr",
     "output_type": "stream",
     "text": [
      "hyperopt.tpe INFO  build_posterior_wrapper took 0.000000 seconds\n",
      "hyperopt.tpe INFO  TPE using 53/53 trials with best loss 0.914168\n",
      "hyperopt.tpe INFO  build_posterior_wrapper took 0.000000 seconds\n",
      "hyperopt.tpe INFO  TPE using 54/54 trials with best loss 0.914168\n",
      "py4j.clientserver INFO  Closing down clientserver connection\n"
     ]
    },
    {
     "name": "stdout",
     "output_type": "stream",
     "text": [
      "  4%|▎         | 37/1000 [19:53<27:39:53, 103.42s/trial, best loss: 0.9141681796685477]"
     ]
    },
    {
     "name": "stderr",
     "output_type": "stream",
     "text": [
      "hyperopt.tpe INFO  build_posterior_wrapper took 0.000000 seconds\n",
      "hyperopt.tpe INFO  TPE using 55/55 trials with best loss 0.914168\n",
      "py4j.clientserver INFO  Closing down clientserver connection\n",
      "py4j.clientserver INFO  Closing down clientserver connection\n"
     ]
    },
    {
     "name": "stdout",
     "output_type": "stream",
     "text": [
      "  4%|▍         | 39/1000 [19:55<15:41:45, 58.80s/trial, best loss: 0.9141681796685477] "
     ]
    },
    {
     "name": "stderr",
     "output_type": "stream",
     "text": [
      "hyperopt.tpe INFO  build_posterior_wrapper took 0.000000 seconds\n",
      "hyperopt.tpe INFO  TPE using 56/56 trials with best loss 0.914168\n",
      "py4j.clientserver INFO  Closing down clientserver connection\n",
      "py4j.clientserver INFO  Closing down clientserver connection\n"
     ]
    },
    {
     "name": "stdout",
     "output_type": "stream",
     "text": [
      "  4%|▍         | 41/1000 [19:56<9:42:19, 36.43s/trial, best loss: 0.9141681796685477] "
     ]
    },
    {
     "name": "stderr",
     "output_type": "stream",
     "text": [
      "hyperopt.tpe INFO  build_posterior_wrapper took 0.000000 seconds\n",
      "hyperopt.tpe INFO  TPE using 57/57 trials with best loss 0.914168\n",
      "hyperopt.tpe INFO  build_posterior_wrapper took 0.000000 seconds\n",
      "hyperopt.tpe INFO  TPE using 58/58 trials with best loss 0.914168\n",
      "hyperopt.tpe INFO  build_posterior_wrapper took 0.000000 seconds\n",
      "hyperopt.tpe INFO  TPE using 59/59 trials with best loss 0.914168\n",
      "py4j.clientserver INFO  Closing down clientserver connection\n"
     ]
    },
    {
     "name": "stdout",
     "output_type": "stream",
     "text": [
      "  4%|▍         | 42/1000 [19:59<7:47:00, 29.25s/trial, best loss: 0.9141681796685477]"
     ]
    },
    {
     "name": "stderr",
     "output_type": "stream",
     "text": [
      "hyperopt.tpe INFO  build_posterior_wrapper took 0.000000 seconds\n",
      "hyperopt.tpe INFO  TPE using 60/60 trials with best loss 0.914168\n",
      "py4j.clientserver INFO  Closing down clientserver connection\n"
     ]
    },
    {
     "name": "stdout",
     "output_type": "stream",
     "text": [
      "  4%|▍         | 43/1000 [20:01<6:04:27, 22.85s/trial, best loss: 0.9141681796685477]"
     ]
    },
    {
     "name": "stderr",
     "output_type": "stream",
     "text": [
      "hyperopt.tpe INFO  build_posterior_wrapper took 0.000000 seconds\n",
      "hyperopt.tpe INFO  TPE using 61/61 trials with best loss 0.914168\n",
      "py4j.clientserver INFO  Closing down clientserver connection\n"
     ]
    },
    {
     "name": "stdout",
     "output_type": "stream",
     "text": [
      "  4%|▍         | 44/1000 [20:02<4:36:34, 17.36s/trial, best loss: 0.9141681796685477]"
     ]
    },
    {
     "name": "stderr",
     "output_type": "stream",
     "text": [
      "hyperopt.tpe INFO  build_posterior_wrapper took 0.000000 seconds\n",
      "hyperopt.tpe INFO  TPE using 62/62 trials with best loss 0.914168\n",
      "py4j.clientserver INFO  Closing down clientserver connection\n",
      "py4j.clientserver INFO  Closing down clientserver connection\n",
      "py4j.clientserver INFO  Closing down clientserver connection\n"
     ]
    },
    {
     "name": "stdout",
     "output_type": "stream",
     "text": [
      "  5%|▍         | 47/1000 [20:09<2:32:04,  9.57s/trial, best loss: 0.9141681796685477]"
     ]
    },
    {
     "name": "stderr",
     "output_type": "stream",
     "text": [
      "hyperopt.tpe INFO  build_posterior_wrapper took 0.000000 seconds\n",
      "hyperopt.tpe INFO  TPE using 63/63 trials with best loss 0.914168\n",
      "py4j.clientserver INFO  Closing down clientserver connection\n",
      "py4j.clientserver INFO  Closing down clientserver connection\n"
     ]
    },
    {
     "name": "stdout",
     "output_type": "stream",
     "text": [
      "  5%|▍         | 49/1000 [20:11<1:46:51,  6.74s/trial, best loss: 0.9141681796685477]"
     ]
    },
    {
     "name": "stderr",
     "output_type": "stream",
     "text": [
      "hyperopt.tpe INFO  build_posterior_wrapper took 0.000000 seconds\n",
      "hyperopt.tpe INFO  TPE using 64/64 trials with best loss 0.914168\n",
      "py4j.clientserver INFO  Closing down clientserver connection\n"
     ]
    },
    {
     "name": "stdout",
     "output_type": "stream",
     "text": [
      "  5%|▌         | 50/1000 [20:12<1:29:24,  5.65s/trial, best loss: 0.9141681796685477]"
     ]
    },
    {
     "name": "stderr",
     "output_type": "stream",
     "text": [
      "hyperopt.tpe INFO  build_posterior_wrapper took 0.001003 seconds\n",
      "hyperopt.tpe INFO  TPE using 65/65 trials with best loss 0.914168\n",
      "hyperopt.tpe INFO  build_posterior_wrapper took 0.000999 seconds\n",
      "hyperopt.tpe INFO  TPE using 66/66 trials with best loss 0.914168\n",
      "hyperopt.tpe INFO  build_posterior_wrapper took 0.000000 seconds\n",
      "hyperopt.tpe INFO  TPE using 67/67 trials with best loss 0.914168\n",
      "py4j.clientserver INFO  Closing down clientserver connection\n"
     ]
    },
    {
     "name": "stdout",
     "output_type": "stream",
     "text": [
      "  5%|▌         | 51/1000 [20:15<1:20:28,  5.09s/trial, best loss: 0.9141681796685477]"
     ]
    },
    {
     "name": "stderr",
     "output_type": "stream",
     "text": [
      "hyperopt.tpe INFO  build_posterior_wrapper took 0.000000 seconds\n",
      "hyperopt.tpe INFO  TPE using 68/68 trials with best loss 0.914168\n",
      "py4j.clientserver INFO  Closing down clientserver connection\n"
     ]
    },
    {
     "name": "stdout",
     "output_type": "stream",
     "text": [
      "  5%|▌         | 52/1000 [20:16<1:05:17,  4.13s/trial, best loss: 0.9141681796685477]"
     ]
    },
    {
     "name": "stderr",
     "output_type": "stream",
     "text": [
      "hyperopt.tpe INFO  build_posterior_wrapper took 0.000000 seconds\n",
      "hyperopt.tpe INFO  TPE using 69/69 trials with best loss 0.914168\n",
      "hyperopt.tpe INFO  build_posterior_wrapper took 0.000000 seconds\n",
      "hyperopt.tpe INFO  TPE using 70/70 trials with best loss 0.914168\n",
      "py4j.clientserver INFO  Closing down clientserver connection\n"
     ]
    },
    {
     "name": "stdout",
     "output_type": "stream",
     "text": [
      "  5%|▌         | 53/1000 [20:19<1:00:48,  3.85s/trial, best loss: 0.9141681796685477]"
     ]
    },
    {
     "name": "stderr",
     "output_type": "stream",
     "text": [
      "hyperopt.tpe INFO  build_posterior_wrapper took 0.000000 seconds\n",
      "hyperopt.tpe INFO  TPE using 71/71 trials with best loss 0.914168\n",
      "py4j.clientserver INFO  Closing down clientserver connection\n"
     ]
    },
    {
     "name": "stdout",
     "output_type": "stream",
     "text": [
      "  5%|▌         | 54/1000 [20:20<48:53,  3.10s/trial, best loss: 0.9141681796685477]  "
     ]
    },
    {
     "name": "stderr",
     "output_type": "stream",
     "text": [
      "hyperopt.tpe INFO  build_posterior_wrapper took 0.000000 seconds\n",
      "hyperopt.tpe INFO  TPE using 72/72 trials with best loss 0.914168\n",
      "py4j.clientserver INFO  Closing down clientserver connection\n"
     ]
    },
    {
     "name": "stdout",
     "output_type": "stream",
     "text": [
      "  6%|▌         | 55/1000 [26:39<27:48:09, 105.91s/trial, best loss: 0.9141681796685477]"
     ]
    },
    {
     "name": "stderr",
     "output_type": "stream",
     "text": [
      "hyperopt.tpe INFO  build_posterior_wrapper took 0.001055 seconds\n",
      "hyperopt.tpe INFO  TPE using 73/73 trials with best loss 0.914168\n",
      "py4j.clientserver INFO  Closing down clientserver connection\n"
     ]
    },
    {
     "name": "stdout",
     "output_type": "stream",
     "text": [
      "  6%|▌         | 56/1000 [26:41<20:06:52, 76.71s/trial, best loss: 0.9141681796685477] "
     ]
    },
    {
     "name": "stderr",
     "output_type": "stream",
     "text": [
      "hyperopt.tpe INFO  build_posterior_wrapper took 0.001000 seconds\n",
      "hyperopt.tpe INFO  TPE using 74/74 trials with best loss 0.914168\n",
      "py4j.clientserver INFO  Closing down clientserver connection\n"
     ]
    },
    {
     "name": "stdout",
     "output_type": "stream",
     "text": [
      "  6%|▌         | 57/1000 [26:46<14:42:57, 56.18s/trial, best loss: 0.9141681796685477]"
     ]
    },
    {
     "name": "stderr",
     "output_type": "stream",
     "text": [
      "hyperopt.tpe INFO  build_posterior_wrapper took 0.001070 seconds\n",
      "hyperopt.tpe INFO  TPE using 75/75 trials with best loss 0.914168\n",
      "py4j.clientserver INFO  Closing down clientserver connection\n",
      "py4j.clientserver INFO  Closing down clientserver connection\n"
     ]
    },
    {
     "name": "stdout",
     "output_type": "stream",
     "text": [
      "  6%|▌         | 59/1000 [26:48<8:11:36, 31.35s/trial, best loss: 0.9141681796685477] "
     ]
    },
    {
     "name": "stderr",
     "output_type": "stream",
     "text": [
      "hyperopt.tpe INFO  build_posterior_wrapper took 0.001001 seconds\n",
      "hyperopt.tpe INFO  TPE using 76/76 trials with best loss 0.914168\n",
      "py4j.clientserver INFO  Closing down clientserver connection\n"
     ]
    },
    {
     "name": "stdout",
     "output_type": "stream",
     "text": [
      "  6%|▌         | 60/1000 [26:50<6:19:19, 24.21s/trial, best loss: 0.9141681796685477]"
     ]
    },
    {
     "name": "stderr",
     "output_type": "stream",
     "text": [
      "hyperopt.tpe INFO  build_posterior_wrapper took 0.000000 seconds\n",
      "hyperopt.tpe INFO  TPE using 77/77 trials with best loss 0.914168\n",
      "hyperopt.tpe INFO  build_posterior_wrapper took 0.000000 seconds\n",
      "hyperopt.tpe INFO  TPE using 78/78 trials with best loss 0.914168\n",
      "py4j.clientserver INFO  Closing down clientserver connection\n"
     ]
    },
    {
     "name": "stdout",
     "output_type": "stream",
     "text": [
      "  6%|▌         | 61/1000 [26:52<4:49:22, 18.49s/trial, best loss: 0.9141681796685477]"
     ]
    },
    {
     "name": "stderr",
     "output_type": "stream",
     "text": [
      "hyperopt.tpe INFO  build_posterior_wrapper took 0.001043 seconds\n",
      "hyperopt.tpe INFO  TPE using 79/79 trials with best loss 0.914168\n",
      "py4j.clientserver INFO  Closing down clientserver connection\n"
     ]
    },
    {
     "name": "stdout",
     "output_type": "stream",
     "text": [
      "  6%|▌         | 62/1000 [26:54<3:39:48, 14.06s/trial, best loss: 0.9141681796685477]"
     ]
    },
    {
     "name": "stderr",
     "output_type": "stream",
     "text": [
      "hyperopt.tpe INFO  build_posterior_wrapper took 0.001000 seconds\n",
      "hyperopt.tpe INFO  TPE using 80/80 trials with best loss 0.914168\n",
      "py4j.clientserver INFO  Closing down clientserver connection\n",
      "py4j.clientserver INFO  Closing down clientserver connection\n"
     ]
    },
    {
     "name": "stdout",
     "output_type": "stream",
     "text": [
      "  6%|▋         | 64/1000 [26:56<2:10:49,  8.39s/trial, best loss: 0.9141681796685477]"
     ]
    },
    {
     "name": "stderr",
     "output_type": "stream",
     "text": [
      "hyperopt.tpe INFO  build_posterior_wrapper took 0.000000 seconds\n",
      "hyperopt.tpe INFO  TPE using 81/81 trials with best loss 0.914168\n",
      "hyperopt.tpe INFO  build_posterior_wrapper took 0.001003 seconds\n",
      "hyperopt.tpe INFO  TPE using 82/82 trials with best loss 0.914168\n",
      "py4j.clientserver INFO  Closing down clientserver connection\n"
     ]
    },
    {
     "name": "stdout",
     "output_type": "stream",
     "text": [
      "  6%|▋         | 65/1000 [26:59<1:50:58,  7.12s/trial, best loss: 0.9141681796685477]"
     ]
    },
    {
     "name": "stderr",
     "output_type": "stream",
     "text": [
      "hyperopt.tpe INFO  build_posterior_wrapper took 0.000000 seconds\n",
      "hyperopt.tpe INFO  TPE using 83/83 trials with best loss 0.914168\n",
      "py4j.clientserver INFO  Closing down clientserver connection\n"
     ]
    },
    {
     "name": "stdout",
     "output_type": "stream",
     "text": [
      "  7%|▋         | 66/1000 [27:02<1:34:48,  6.09s/trial, best loss: 0.9141681796685477]"
     ]
    },
    {
     "name": "stderr",
     "output_type": "stream",
     "text": [
      "hyperopt.tpe INFO  build_posterior_wrapper took 0.000998 seconds\n",
      "hyperopt.tpe INFO  TPE using 84/84 trials with best loss 0.914168\n",
      "py4j.clientserver INFO  Closing down clientserver connection\n"
     ]
    },
    {
     "name": "stdout",
     "output_type": "stream",
     "text": [
      "  7%|▋         | 67/1000 [27:05<1:22:04,  5.28s/trial, best loss: 0.9141681796685477]"
     ]
    },
    {
     "name": "stderr",
     "output_type": "stream",
     "text": [
      "py4j.clientserver INFO  Closing down clientserver connection\n"
     ]
    },
    {
     "name": "stdout",
     "output_type": "stream",
     "text": [
      "  7%|▋         | 68/1000 [27:06<1:03:44,  4.10s/trial, best loss: 0.9141681796685477]"
     ]
    },
    {
     "name": "stderr",
     "output_type": "stream",
     "text": [
      "hyperopt.tpe INFO  build_posterior_wrapper took 0.001068 seconds\n",
      "hyperopt.tpe INFO  TPE using 85/85 trials with best loss 0.914168\n",
      "py4j.clientserver INFO  Closing down clientserver connection\n",
      "py4j.clientserver INFO  Closing down clientserver connection\n"
     ]
    },
    {
     "name": "stdout",
     "output_type": "stream",
     "text": [
      "  7%|▋         | 70/1000 [27:07<39:04,  2.52s/trial, best loss: 0.9141681796685477]  "
     ]
    },
    {
     "name": "stderr",
     "output_type": "stream",
     "text": [
      "hyperopt.tpe INFO  build_posterior_wrapper took 0.000000 seconds\n",
      "hyperopt.tpe INFO  TPE using 86/86 trials with best loss 0.914168\n",
      "hyperopt.tpe INFO  build_posterior_wrapper took 0.000000 seconds\n",
      "hyperopt.tpe INFO  TPE using 87/87 trials with best loss 0.914168\n",
      "py4j.clientserver INFO  Closing down clientserver connection\n",
      "py4j.clientserver INFO  Closing down clientserver connection\n"
     ]
    },
    {
     "name": "stdout",
     "output_type": "stream",
     "text": [
      "  7%|▋         | 72/1000 [27:09<29:58,  1.94s/trial, best loss: 0.9141681796685477]"
     ]
    },
    {
     "name": "stderr",
     "output_type": "stream",
     "text": [
      "hyperopt.tpe INFO  build_posterior_wrapper took 0.001046 seconds\n",
      "hyperopt.tpe INFO  TPE using 88/88 trials with best loss 0.914168\n",
      "hyperopt.tpe INFO  build_posterior_wrapper took 0.000000 seconds\n",
      "hyperopt.tpe INFO  TPE using 89/89 trials with best loss 0.914168\n",
      "hyperopt.tpe INFO  build_posterior_wrapper took 0.000000 seconds\n",
      "hyperopt.tpe INFO  TPE using 90/90 trials with best loss 0.914168\n",
      "py4j.clientserver INFO  Closing down clientserver connection\n"
     ]
    },
    {
     "name": "stdout",
     "output_type": "stream",
     "text": [
      "  7%|▋         | 73/1000 [33:29<21:29:30, 83.46s/trial, best loss: 0.9141681796685477]"
     ]
    },
    {
     "name": "stderr",
     "output_type": "stream",
     "text": [
      "hyperopt.tpe INFO  build_posterior_wrapper took 0.000000 seconds\n",
      "hyperopt.tpe INFO  TPE using 91/91 trials with best loss 0.914168\n",
      "py4j.clientserver INFO  Closing down clientserver connection\n"
     ]
    },
    {
     "name": "stdout",
     "output_type": "stream",
     "text": [
      "  7%|▋         | 74/1000 [33:31<16:31:36, 64.25s/trial, best loss: 0.9141681796685477]"
     ]
    },
    {
     "name": "stderr",
     "output_type": "stream",
     "text": [
      "hyperopt.tpe INFO  build_posterior_wrapper took 0.000000 seconds\n",
      "hyperopt.tpe INFO  TPE using 92/92 trials with best loss 0.914168\n",
      "py4j.clientserver INFO  Closing down clientserver connection\n"
     ]
    },
    {
     "name": "stdout",
     "output_type": "stream",
     "text": [
      "  8%|▊         | 75/1000 [33:37<12:44:16, 49.57s/trial, best loss: 0.9141681796685477]"
     ]
    },
    {
     "name": "stderr",
     "output_type": "stream",
     "text": [
      "hyperopt.tpe INFO  build_posterior_wrapper took 0.000000 seconds\n",
      "hyperopt.tpe INFO  TPE using 93/93 trials with best loss 0.914168\n",
      "py4j.clientserver INFO  Closing down clientserver connection\n",
      "py4j.clientserver INFO  Closing down clientserver connection\n"
     ]
    },
    {
     "name": "stdout",
     "output_type": "stream",
     "text": [
      "  8%|▊         | 77/1000 [33:39<7:29:51, 29.24s/trial, best loss: 0.9141681796685477] "
     ]
    },
    {
     "name": "stderr",
     "output_type": "stream",
     "text": [
      "hyperopt.tpe INFO  build_posterior_wrapper took 0.000000 seconds\n",
      "hyperopt.tpe INFO  TPE using 94/94 trials with best loss 0.914168\n",
      "py4j.clientserver INFO  Closing down clientserver connection\n"
     ]
    },
    {
     "name": "stdout",
     "output_type": "stream",
     "text": [
      "  8%|▊         | 78/1000 [33:40<5:49:29, 22.74s/trial, best loss: 0.9141681796685477]"
     ]
    },
    {
     "name": "stderr",
     "output_type": "stream",
     "text": [
      "hyperopt.tpe INFO  build_posterior_wrapper took 0.000000 seconds\n",
      "hyperopt.tpe INFO  TPE using 95/95 trials with best loss 0.914168\n",
      "py4j.clientserver INFO  Closing down clientserver connection\n"
     ]
    },
    {
     "name": "stdout",
     "output_type": "stream",
     "text": [
      "  8%|▊         | 79/1000 [33:41<4:26:34, 17.37s/trial, best loss: 0.9141681796685477]"
     ]
    },
    {
     "name": "stderr",
     "output_type": "stream",
     "text": [
      "hyperopt.tpe INFO  build_posterior_wrapper took 0.000000 seconds\n",
      "hyperopt.tpe INFO  TPE using 96/96 trials with best loss 0.914168\n",
      "hyperopt.tpe INFO  build_posterior_wrapper took 0.000000 seconds\n",
      "hyperopt.tpe INFO  TPE using 97/97 trials with best loss 0.914168\n",
      "py4j.clientserver INFO  Closing down clientserver connection\n"
     ]
    },
    {
     "name": "stdout",
     "output_type": "stream",
     "text": [
      "  8%|▊         | 80/1000 [33:45<3:32:53, 13.88s/trial, best loss: 0.9141681796685477]"
     ]
    },
    {
     "name": "stderr",
     "output_type": "stream",
     "text": [
      "hyperopt.tpe INFO  build_posterior_wrapper took 0.000000 seconds\n",
      "hyperopt.tpe INFO  TPE using 98/98 trials with best loss 0.914168\n",
      "py4j.clientserver INFO  Closing down clientserver connection\n"
     ]
    },
    {
     "name": "stdout",
     "output_type": "stream",
     "text": [
      "  8%|▊         | 81/1000 [33:47<2:43:14, 10.66s/trial, best loss: 0.9141681796685477]"
     ]
    },
    {
     "name": "stderr",
     "output_type": "stream",
     "text": [
      "py4j.clientserver INFO  Closing down clientserver connection\n",
      "py4j.clientserver INFO  Closing down clientserver connection\n"
     ]
    },
    {
     "name": "stdout",
     "output_type": "stream",
     "text": [
      "  8%|▊         | 83/1000 [33:48<1:35:02,  6.22s/trial, best loss: 0.9141681796685477]"
     ]
    },
    {
     "name": "stderr",
     "output_type": "stream",
     "text": [
      "hyperopt.tpe INFO  build_posterior_wrapper took 0.000000 seconds\n",
      "hyperopt.tpe INFO  TPE using 99/99 trials with best loss 0.914168\n",
      "hyperopt.tpe INFO  build_posterior_wrapper took 0.000000 seconds\n",
      "hyperopt.tpe INFO  TPE using 100/100 trials with best loss 0.914168\n",
      "hyperopt.tpe INFO  build_posterior_wrapper took 0.000000 seconds\n",
      "hyperopt.tpe INFO  TPE using 101/101 trials with best loss 0.914168\n",
      "py4j.clientserver INFO  Closing down clientserver connection\n"
     ]
    },
    {
     "name": "stdout",
     "output_type": "stream",
     "text": [
      "  8%|▊         | 84/1000 [33:51<1:23:20,  5.46s/trial, best loss: 0.9141681796685477]"
     ]
    },
    {
     "name": "stderr",
     "output_type": "stream",
     "text": [
      "hyperopt.tpe INFO  build_posterior_wrapper took 0.000000 seconds\n",
      "hyperopt.tpe INFO  TPE using 102/102 trials with best loss 0.914168\n",
      "py4j.clientserver INFO  Closing down clientserver connection\n"
     ]
    },
    {
     "name": "stdout",
     "output_type": "stream",
     "text": [
      "  8%|▊         | 85/1000 [33:53<1:09:57,  4.59s/trial, best loss: 0.9141681796685477]"
     ]
    },
    {
     "name": "stderr",
     "output_type": "stream",
     "text": [
      "py4j.clientserver INFO  Closing down clientserver connection\n"
     ]
    },
    {
     "name": "stdout",
     "output_type": "stream",
     "text": [
      "  9%|▊         | 86/1000 [33:54<55:24,  3.64s/trial, best loss: 0.9141681796685477]  "
     ]
    },
    {
     "name": "stderr",
     "output_type": "stream",
     "text": [
      "hyperopt.tpe INFO  build_posterior_wrapper took 0.000000 seconds\n",
      "hyperopt.tpe INFO  TPE using 103/103 trials with best loss 0.914168\n",
      "py4j.clientserver INFO  Closing down clientserver connection\n",
      "py4j.clientserver INFO  Closing down clientserver connection\n"
     ]
    },
    {
     "name": "stdout",
     "output_type": "stream",
     "text": [
      "  9%|▉         | 88/1000 [33:55<34:42,  2.28s/trial, best loss: 0.9141681796685477]"
     ]
    },
    {
     "name": "stderr",
     "output_type": "stream",
     "text": [
      "hyperopt.tpe INFO  build_posterior_wrapper took 0.000000 seconds\n",
      "hyperopt.tpe INFO  TPE using 104/104 trials with best loss 0.914168\n",
      "hyperopt.tpe INFO  build_posterior_wrapper took 0.000000 seconds\n",
      "hyperopt.tpe INFO  TPE using 105/105 trials with best loss 0.914168\n",
      "hyperopt.tpe INFO  build_posterior_wrapper took 0.000000 seconds\n",
      "hyperopt.tpe INFO  TPE using 106/106 trials with best loss 0.914168\n",
      "py4j.clientserver INFO  Closing down clientserver connection\n"
     ]
    },
    {
     "name": "stdout",
     "output_type": "stream",
     "text": [
      "  9%|▉         | 89/1000 [33:58<37:19,  2.46s/trial, best loss: 0.9141681796685477]"
     ]
    },
    {
     "name": "stderr",
     "output_type": "stream",
     "text": [
      "hyperopt.tpe INFO  build_posterior_wrapper took 0.000000 seconds\n",
      "hyperopt.tpe INFO  TPE using 107/107 trials with best loss 0.914168\n",
      "py4j.clientserver INFO  Closing down clientserver connection\n"
     ]
    },
    {
     "name": "stdout",
     "output_type": "stream",
     "text": [
      "  9%|▉         | 90/1000 [34:00<35:37,  2.35s/trial, best loss: 0.9141681796685477]"
     ]
    },
    {
     "name": "stderr",
     "output_type": "stream",
     "text": [
      "hyperopt.tpe INFO  build_posterior_wrapper took 0.000000 seconds\n",
      "hyperopt.tpe INFO  TPE using 108/108 trials with best loss 0.914168\n",
      "py4j.clientserver INFO  Closing down clientserver connection\n",
      "py4j.clientserver INFO  Closing down clientserver connection\n"
     ]
    },
    {
     "name": "stdout",
     "output_type": "stream",
     "text": [
      "  9%|▉         | 92/1000 [40:17<20:14:57, 80.28s/trial, best loss: 0.9141681796685477]"
     ]
    },
    {
     "name": "stderr",
     "output_type": "stream",
     "text": [
      "hyperopt.tpe INFO  build_posterior_wrapper took 0.000999 seconds\n",
      "hyperopt.tpe INFO  TPE using 109/109 trials with best loss 0.914168\n",
      "hyperopt.tpe INFO  build_posterior_wrapper took 0.000998 seconds\n",
      "hyperopt.tpe INFO  TPE using 110/110 trials with best loss 0.914168\n",
      "py4j.clientserver INFO  Closing down clientserver connection\n"
     ]
    },
    {
     "name": "stdout",
     "output_type": "stream",
     "text": [
      "  9%|▉         | 93/1000 [40:24<15:58:59, 63.44s/trial, best loss: 0.9141681796685477]"
     ]
    },
    {
     "name": "stderr",
     "output_type": "stream",
     "text": [
      "hyperopt.tpe INFO  build_posterior_wrapper took 0.001059 seconds\n",
      "hyperopt.tpe INFO  TPE using 111/111 trials with best loss 0.914168\n",
      "py4j.clientserver INFO  Closing down clientserver connection\n",
      "py4j.clientserver INFO  Closing down clientserver connection\n"
     ]
    },
    {
     "name": "stdout",
     "output_type": "stream",
     "text": [
      " 10%|▉         | 95/1000 [40:26<9:43:20, 38.67s/trial, best loss: 0.9141681796685477] "
     ]
    },
    {
     "name": "stderr",
     "output_type": "stream",
     "text": [
      "hyperopt.tpe INFO  build_posterior_wrapper took 0.001045 seconds\n",
      "hyperopt.tpe INFO  TPE using 112/112 trials with best loss 0.914168\n",
      "py4j.clientserver INFO  Closing down clientserver connection\n"
     ]
    },
    {
     "name": "stdout",
     "output_type": "stream",
     "text": [
      " 10%|▉         | 96/1000 [40:28<7:40:46, 30.58s/trial, best loss: 0.9141681796685477]"
     ]
    },
    {
     "name": "stderr",
     "output_type": "stream",
     "text": [
      "hyperopt.tpe INFO  build_posterior_wrapper took 0.001042 seconds\n",
      "hyperopt.tpe INFO  TPE using 113/113 trials with best loss 0.914168\n",
      "hyperopt.tpe INFO  build_posterior_wrapper took 0.000000 seconds\n",
      "hyperopt.tpe INFO  TPE using 114/114 trials with best loss 0.914168\n",
      "py4j.clientserver INFO  Closing down clientserver connection\n"
     ]
    },
    {
     "name": "stdout",
     "output_type": "stream",
     "text": [
      " 10%|▉         | 97/1000 [40:31<6:00:54, 23.98s/trial, best loss: 0.9141681796685477]"
     ]
    },
    {
     "name": "stderr",
     "output_type": "stream",
     "text": [
      "hyperopt.tpe INFO  build_posterior_wrapper took 0.000000 seconds\n",
      "hyperopt.tpe INFO  TPE using 115/115 trials with best loss 0.914168\n",
      "py4j.clientserver INFO  Closing down clientserver connection\n"
     ]
    },
    {
     "name": "stdout",
     "output_type": "stream",
     "text": [
      " 10%|▉         | 98/1000 [40:33<4:36:16, 18.38s/trial, best loss: 0.9141681796685477]"
     ]
    },
    {
     "name": "stderr",
     "output_type": "stream",
     "text": [
      "hyperopt.tpe INFO  build_posterior_wrapper took 0.000998 seconds\n",
      "hyperopt.tpe INFO  TPE using 116/116 trials with best loss 0.914168\n",
      "py4j.clientserver INFO  Closing down clientserver connection\n"
     ]
    },
    {
     "name": "stdout",
     "output_type": "stream",
     "text": [
      " 10%|▉         | 99/1000 [40:35<3:30:23, 14.01s/trial, best loss: 0.9141681796685477]"
     ]
    },
    {
     "name": "stderr",
     "output_type": "stream",
     "text": [
      "py4j.clientserver INFO  Closing down clientserver connection\n"
     ]
    },
    {
     "name": "stdout",
     "output_type": "stream",
     "text": [
      " 10%|█         | 100/1000 [40:36<2:36:18, 10.42s/trial, best loss: 0.9141681796685477]"
     ]
    },
    {
     "name": "stderr",
     "output_type": "stream",
     "text": [
      "hyperopt.tpe INFO  build_posterior_wrapper took 0.001004 seconds\n",
      "hyperopt.tpe INFO  TPE using 117/117 trials with best loss 0.914168\n",
      "hyperopt.tpe INFO  build_posterior_wrapper took 0.000000 seconds\n",
      "hyperopt.tpe INFO  TPE using 118/118 trials with best loss 0.914168\n",
      "py4j.clientserver INFO  Closing down clientserver connection\n"
     ]
    },
    {
     "name": "stdout",
     "output_type": "stream",
     "text": [
      " 10%|█         | 101/1000 [40:40<2:09:06,  8.62s/trial, best loss: 0.9141681796685477]"
     ]
    },
    {
     "name": "stderr",
     "output_type": "stream",
     "text": [
      "py4j.clientserver INFO  Closing down clientserver connection\n",
      "py4j.clientserver INFO  Closing down clientserver connection\n"
     ]
    },
    {
     "name": "stdout",
     "output_type": "stream",
     "text": [
      " 10%|█         | 103/1000 [40:41<1:14:37,  4.99s/trial, best loss: 0.9141681796685477]"
     ]
    },
    {
     "name": "stderr",
     "output_type": "stream",
     "text": [
      "hyperopt.tpe INFO  build_posterior_wrapper took 0.001001 seconds\n",
      "hyperopt.tpe INFO  TPE using 119/119 trials with best loss 0.914168\n",
      "hyperopt.tpe INFO  build_posterior_wrapper took 0.001058 seconds\n",
      "hyperopt.tpe INFO  TPE using 120/120 trials with best loss 0.914168\n",
      "py4j.clientserver INFO  Closing down clientserver connection\n",
      "py4j.clientserver INFO  Closing down clientserver connection\n"
     ]
    },
    {
     "name": "stdout",
     "output_type": "stream",
     "text": [
      " 10%|█         | 105/1000 [40:43<51:19,  3.44s/trial, best loss: 0.9141681796685477]  "
     ]
    },
    {
     "name": "stderr",
     "output_type": "stream",
     "text": [
      "hyperopt.tpe INFO  build_posterior_wrapper took 0.000000 seconds\n",
      "hyperopt.tpe INFO  TPE using 121/121 trials with best loss 0.914168\n",
      "hyperopt.tpe INFO  build_posterior_wrapper took 0.000000 seconds\n",
      "hyperopt.tpe INFO  TPE using 122/122 trials with best loss 0.914168\n",
      "py4j.clientserver INFO  Closing down clientserver connection\n"
     ]
    },
    {
     "name": "stdout",
     "output_type": "stream",
     "text": [
      " 11%|█         | 106/1000 [40:45<46:40,  3.13s/trial, best loss: 0.9141681796685477]"
     ]
    },
    {
     "name": "stderr",
     "output_type": "stream",
     "text": [
      "hyperopt.tpe INFO  build_posterior_wrapper took 0.001009 seconds\n",
      "hyperopt.tpe INFO  TPE using 123/123 trials with best loss 0.914168\n",
      "py4j.clientserver INFO  Closing down clientserver connection\n"
     ]
    },
    {
     "name": "stdout",
     "output_type": "stream",
     "text": [
      " 11%|█         | 107/1000 [40:46<39:09,  2.63s/trial, best loss: 0.9141681796685477]"
     ]
    },
    {
     "name": "stderr",
     "output_type": "stream",
     "text": [
      "hyperopt.tpe INFO  build_posterior_wrapper took 0.001001 seconds\n",
      "hyperopt.tpe INFO  TPE using 124/124 trials with best loss 0.914168\n",
      "hyperopt.tpe INFO  build_posterior_wrapper took 0.000997 seconds\n",
      "hyperopt.tpe INFO  TPE using 125/125 trials with best loss 0.914168\n",
      "py4j.clientserver INFO  Closing down clientserver connection\n"
     ]
    },
    {
     "name": "stdout",
     "output_type": "stream",
     "text": [
      " 11%|█         | 108/1000 [40:58<1:11:02,  4.78s/trial, best loss: 0.9141681796685477]"
     ]
    },
    {
     "name": "stderr",
     "output_type": "stream",
     "text": [
      "hyperopt.tpe INFO  build_posterior_wrapper took 0.000000 seconds\n",
      "hyperopt.tpe INFO  TPE using 126/126 trials with best loss 0.914168\n",
      "py4j.clientserver INFO  Closing down clientserver connection\n"
     ]
    },
    {
     "name": "stdout",
     "output_type": "stream",
     "text": [
      " 11%|█         | 109/1000 [47:09<25:16:57, 102.15s/trial, best loss: 0.9141681796685477]"
     ]
    },
    {
     "name": "stderr",
     "output_type": "stream",
     "text": [
      "hyperopt.tpe INFO  build_posterior_wrapper took 0.000997 seconds\n",
      "hyperopt.tpe INFO  TPE using 127/127 trials with best loss 0.914168\n",
      "py4j.clientserver INFO  Closing down clientserver connection\n"
     ]
    },
    {
     "name": "stdout",
     "output_type": "stream",
     "text": [
      " 11%|█         | 110/1000 [47:11<18:26:45, 74.61s/trial, best loss: 0.9141681796685477] "
     ]
    },
    {
     "name": "stderr",
     "output_type": "stream",
     "text": [
      "hyperopt.tpe INFO  build_posterior_wrapper took 0.001085 seconds\n",
      "hyperopt.tpe INFO  TPE using 128/128 trials with best loss 0.914168\n",
      "py4j.clientserver INFO  Closing down clientserver connection\n"
     ]
    },
    {
     "name": "stdout",
     "output_type": "stream",
     "text": [
      " 11%|█         | 111/1000 [47:17<13:39:00, 55.28s/trial, best loss: 0.9141681796685477]"
     ]
    },
    {
     "name": "stderr",
     "output_type": "stream",
     "text": [
      "hyperopt.tpe INFO  build_posterior_wrapper took 0.000000 seconds\n",
      "hyperopt.tpe INFO  TPE using 129/129 trials with best loss 0.914168\n",
      "py4j.clientserver INFO  Closing down clientserver connection\n"
     ]
    },
    {
     "name": "stdout",
     "output_type": "stream",
     "text": [
      " 11%|█         | 112/1000 [47:19<9:51:40, 39.98s/trial, best loss: 0.9141681796685477] "
     ]
    },
    {
     "name": "stderr",
     "output_type": "stream",
     "text": [
      "hyperopt.tpe INFO  build_posterior_wrapper took 0.001003 seconds\n",
      "hyperopt.tpe INFO  TPE using 130/130 trials with best loss 0.914168\n",
      "py4j.clientserver INFO  Closing down clientserver connection\n"
     ]
    },
    {
     "name": "stdout",
     "output_type": "stream",
     "text": [
      " 11%|█▏        | 113/1000 [47:20<7:03:25, 28.64s/trial, best loss: 0.9141681796685477]"
     ]
    },
    {
     "name": "stderr",
     "output_type": "stream",
     "text": [
      "hyperopt.tpe INFO  build_posterior_wrapper took 0.001005 seconds\n",
      "hyperopt.tpe INFO  TPE using 131/131 trials with best loss 0.914168\n",
      "py4j.clientserver INFO  Closing down clientserver connection\n"
     ]
    },
    {
     "name": "stdout",
     "output_type": "stream",
     "text": [
      " 11%|█▏        | 114/1000 [47:23<5:11:56, 21.12s/trial, best loss: 0.9141681796685477]"
     ]
    },
    {
     "name": "stderr",
     "output_type": "stream",
     "text": [
      "hyperopt.tpe INFO  build_posterior_wrapper took 0.000000 seconds\n",
      "hyperopt.tpe INFO  TPE using 132/132 trials with best loss 0.914168\n",
      "py4j.clientserver INFO  Closing down clientserver connection\n"
     ]
    },
    {
     "name": "stdout",
     "output_type": "stream",
     "text": [
      " 12%|█▏        | 115/1000 [47:26<3:52:46, 15.78s/trial, best loss: 0.9141681796685477]"
     ]
    },
    {
     "name": "stderr",
     "output_type": "stream",
     "text": [
      "hyperopt.tpe INFO  build_posterior_wrapper took 0.001000 seconds\n",
      "hyperopt.tpe INFO  TPE using 133/133 trials with best loss 0.914168\n",
      "py4j.clientserver INFO  Closing down clientserver connection\n"
     ]
    },
    {
     "name": "stdout",
     "output_type": "stream",
     "text": [
      " 12%|█▏        | 116/1000 [47:27<2:47:55, 11.40s/trial, best loss: 0.9141681796685477]"
     ]
    },
    {
     "name": "stderr",
     "output_type": "stream",
     "text": [
      "hyperopt.tpe INFO  build_posterior_wrapper took 0.001001 seconds\n",
      "hyperopt.tpe INFO  TPE using 134/134 trials with best loss 0.914168\n",
      "py4j.clientserver INFO  Closing down clientserver connection\n",
      "py4j.clientserver INFO  Closing down clientserver connection\n"
     ]
    },
    {
     "name": "stdout",
     "output_type": "stream",
     "text": [
      " 12%|█▏        | 118/1000 [47:33<1:51:07,  7.56s/trial, best loss: 0.9141681796685477]"
     ]
    },
    {
     "name": "stderr",
     "output_type": "stream",
     "text": [
      "hyperopt.tpe INFO  build_posterior_wrapper took 0.001004 seconds\n",
      "hyperopt.tpe INFO  TPE using 135/135 trials with best loss 0.914168\n",
      "hyperopt.tpe INFO  build_posterior_wrapper took 0.000000 seconds\n",
      "hyperopt.tpe INFO  TPE using 136/136 trials with best loss 0.914168\n",
      "py4j.clientserver INFO  Closing down clientserver connection\n"
     ]
    },
    {
     "name": "stdout",
     "output_type": "stream",
     "text": [
      " 12%|█▏        | 119/1000 [47:36<1:34:36,  6.44s/trial, best loss: 0.9141681796685477]"
     ]
    },
    {
     "name": "stderr",
     "output_type": "stream",
     "text": [
      "hyperopt.tpe INFO  build_posterior_wrapper took 0.001081 seconds\n",
      "hyperopt.tpe INFO  TPE using 137/137 trials with best loss 0.914168\n",
      "py4j.clientserver INFO  Closing down clientserver connection\n",
      "py4j.clientserver INFO  Closing down clientserver connection\n",
      "py4j.clientserver INFO  Closing down clientserver connection\n"
     ]
    },
    {
     "name": "stdout",
     "output_type": "stream",
     "text": [
      " 12%|█▏        | 122/1000 [47:37<48:20,  3.30s/trial, best loss: 0.9141681796685477]  "
     ]
    },
    {
     "name": "stderr",
     "output_type": "stream",
     "text": [
      "hyperopt.tpe INFO  build_posterior_wrapper took 0.000097 seconds\n",
      "hyperopt.tpe INFO  TPE using 138/138 trials with best loss 0.914168\n",
      "hyperopt.tpe INFO  build_posterior_wrapper took 0.001051 seconds\n",
      "hyperopt.tpe INFO  TPE using 139/139 trials with best loss 0.914168\n",
      "py4j.clientserver INFO  Closing down clientserver connection\n"
     ]
    },
    {
     "name": "stdout",
     "output_type": "stream",
     "text": [
      " 12%|█▏        | 123/1000 [47:39<44:38,  3.05s/trial, best loss: 0.9141681796685477]"
     ]
    },
    {
     "name": "stderr",
     "output_type": "stream",
     "text": [
      "hyperopt.tpe INFO  build_posterior_wrapper took 0.000000 seconds\n",
      "hyperopt.tpe INFO  TPE using 140/140 trials with best loss 0.914168\n",
      "hyperopt.tpe INFO  build_posterior_wrapper took 0.000998 seconds\n",
      "hyperopt.tpe INFO  TPE using 141/141 trials with best loss 0.914168\n",
      "py4j.clientserver INFO  Closing down clientserver connection\n"
     ]
    },
    {
     "name": "stdout",
     "output_type": "stream",
     "text": [
      " 12%|█▏        | 124/1000 [47:42<44:32,  3.05s/trial, best loss: 0.9141681796685477]"
     ]
    },
    {
     "name": "stderr",
     "output_type": "stream",
     "text": [
      "hyperopt.tpe INFO  build_posterior_wrapper took 0.000999 seconds\n",
      "hyperopt.tpe INFO  TPE using 142/142 trials with best loss 0.914168\n",
      "py4j.clientserver INFO  Closing down clientserver connection\n"
     ]
    },
    {
     "name": "stdout",
     "output_type": "stream",
     "text": [
      " 12%|█▎        | 125/1000 [47:45<44:24,  3.05s/trial, best loss: 0.9141681796685477]"
     ]
    },
    {
     "name": "stderr",
     "output_type": "stream",
     "text": [
      "hyperopt.tpe INFO  build_posterior_wrapper took 0.000999 seconds\n",
      "hyperopt.tpe INFO  TPE using 143/143 trials with best loss 0.914168\n",
      "py4j.clientserver INFO  Closing down clientserver connection\n"
     ]
    },
    {
     "name": "stdout",
     "output_type": "stream",
     "text": [
      " 13%|█▎        | 126/1000 [47:55<1:10:26,  4.84s/trial, best loss: 0.9141681796685477]"
     ]
    },
    {
     "name": "stderr",
     "output_type": "stream",
     "text": [
      "hyperopt.tpe INFO  build_posterior_wrapper took 0.000000 seconds\n",
      "hyperopt.tpe INFO  TPE using 144/144 trials with best loss 0.914168\n",
      "py4j.clientserver INFO  Closing down clientserver connection\n"
     ]
    },
    {
     "name": "stdout",
     "output_type": "stream",
     "text": [
      " 13%|█▎        | 127/1000 [53:55<24:03:39, 99.22s/trial, best loss: 0.9141681796685477]"
     ]
    },
    {
     "name": "stderr",
     "output_type": "stream",
     "text": [
      "hyperopt.tpe INFO  build_posterior_wrapper took 0.002002 seconds\n",
      "hyperopt.tpe INFO  TPE using 145/145 trials with best loss 0.914168\n",
      "py4j.clientserver INFO  Closing down clientserver connection\n"
     ]
    },
    {
     "name": "stdout",
     "output_type": "stream",
     "text": [
      " 13%|█▎        | 128/1000 [53:58<17:36:42, 72.71s/trial, best loss: 0.9141681796685477]"
     ]
    },
    {
     "name": "stderr",
     "output_type": "stream",
     "text": [
      "hyperopt.tpe INFO  build_posterior_wrapper took 0.000000 seconds\n",
      "hyperopt.tpe INFO  TPE using 146/146 trials with best loss 0.914168\n",
      "py4j.clientserver INFO  Closing down clientserver connection\n",
      "py4j.clientserver INFO  Closing down clientserver connection\n"
     ]
    },
    {
     "name": "stdout",
     "output_type": "stream",
     "text": [
      " 13%|█▎        | 130/1000 [54:09<10:25:18, 43.13s/trial, best loss: 0.9141681796685477]"
     ]
    },
    {
     "name": "stderr",
     "output_type": "stream",
     "text": [
      "hyperopt.tpe INFO  build_posterior_wrapper took 0.000998 seconds\n",
      "hyperopt.tpe INFO  TPE using 147/147 trials with best loss 0.914168\n",
      "hyperopt.tpe INFO  build_posterior_wrapper took 0.001001 seconds\n",
      "hyperopt.tpe INFO  TPE using 148/148 trials with best loss 0.914168\n",
      "py4j.clientserver INFO  Closing down clientserver connection\n"
     ]
    },
    {
     "name": "stdout",
     "output_type": "stream",
     "text": [
      " 13%|█▎        | 131/1000 [54:11<8:02:06, 33.29s/trial, best loss: 0.9141681796685477] "
     ]
    },
    {
     "name": "stderr",
     "output_type": "stream",
     "text": [
      "hyperopt.tpe INFO  build_posterior_wrapper took 0.001002 seconds\n",
      "hyperopt.tpe INFO  TPE using 149/149 trials with best loss 0.914168\n",
      "py4j.clientserver INFO  Closing down clientserver connection\n"
     ]
    },
    {
     "name": "stdout",
     "output_type": "stream",
     "text": [
      " 13%|█▎        | 132/1000 [54:16<6:17:30, 26.10s/trial, best loss: 0.9141681796685477]"
     ]
    },
    {
     "name": "stderr",
     "output_type": "stream",
     "text": [
      "hyperopt.tpe INFO  build_posterior_wrapper took 0.000997 seconds\n",
      "hyperopt.tpe INFO  TPE using 150/150 trials with best loss 0.914168\n",
      "py4j.clientserver INFO  Closing down clientserver connection\n"
     ]
    },
    {
     "name": "stdout",
     "output_type": "stream",
     "text": [
      " 13%|█▎        | 133/1000 [54:18<4:44:14, 19.67s/trial, best loss: 0.9141681796685477]"
     ]
    },
    {
     "name": "stderr",
     "output_type": "stream",
     "text": [
      "hyperopt.tpe INFO  build_posterior_wrapper took 0.001000 seconds\n",
      "hyperopt.tpe INFO  TPE using 151/151 trials with best loss 0.914168\n",
      "py4j.clientserver INFO  Closing down clientserver connection\n"
     ]
    },
    {
     "name": "stdout",
     "output_type": "stream",
     "text": [
      " 13%|█▎        | 134/1000 [54:24<3:49:46, 15.92s/trial, best loss: 0.9141681796685477]"
     ]
    },
    {
     "name": "stderr",
     "output_type": "stream",
     "text": [
      "hyperopt.tpe INFO  build_posterior_wrapper took 0.000999 seconds\n",
      "hyperopt.tpe INFO  TPE using 152/152 trials with best loss 0.914168\n",
      "py4j.clientserver INFO  Closing down clientserver connection\n"
     ]
    },
    {
     "name": "stdout",
     "output_type": "stream",
     "text": [
      " 14%|█▎        | 135/1000 [54:26<2:52:52, 11.99s/trial, best loss: 0.9141681796685477]"
     ]
    },
    {
     "name": "stderr",
     "output_type": "stream",
     "text": [
      "hyperopt.tpe INFO  build_posterior_wrapper took 0.000998 seconds\n",
      "hyperopt.tpe INFO  TPE using 153/153 trials with best loss 0.914168\n",
      "py4j.clientserver INFO  Closing down clientserver connection\n"
     ]
    },
    {
     "name": "stdout",
     "output_type": "stream",
     "text": [
      " 14%|█▎        | 136/1000 [54:28<2:11:19,  9.12s/trial, best loss: 0.9141681796685477]"
     ]
    },
    {
     "name": "stderr",
     "output_type": "stream",
     "text": [
      "hyperopt.tpe INFO  build_posterior_wrapper took 0.000000 seconds\n",
      "hyperopt.tpe INFO  TPE using 154/154 trials with best loss 0.914168\n",
      "py4j.clientserver INFO  Closing down clientserver connection\n",
      "py4j.clientserver INFO  Closing down clientserver connection\n"
     ]
    },
    {
     "name": "stdout",
     "output_type": "stream",
     "text": [
      " 14%|█▍        | 138/1000 [54:29<1:15:11,  5.23s/trial, best loss: 0.9141681796685477]"
     ]
    },
    {
     "name": "stderr",
     "output_type": "stream",
     "text": [
      "hyperopt.tpe INFO  build_posterior_wrapper took 0.001001 seconds\n",
      "hyperopt.tpe INFO  TPE using 155/155 trials with best loss 0.914168\n",
      "hyperopt.tpe INFO  build_posterior_wrapper took 0.001001 seconds\n",
      "hyperopt.tpe INFO  TPE using 156/156 trials with best loss 0.914168\n",
      "py4j.clientserver INFO  Closing down clientserver connection\n"
     ]
    },
    {
     "name": "stdout",
     "output_type": "stream",
     "text": [
      " 14%|█▍        | 139/1000 [54:32<1:07:27,  4.70s/trial, best loss: 0.9141681796685477]"
     ]
    },
    {
     "name": "stderr",
     "output_type": "stream",
     "text": [
      "hyperopt.tpe INFO  build_posterior_wrapper took 0.000000 seconds\n",
      "hyperopt.tpe INFO  TPE using 157/157 trials with best loss 0.914168\n",
      "py4j.clientserver INFO  Closing down clientserver connection\n",
      "py4j.clientserver INFO  Closing down clientserver connection\n",
      "py4j.clientserver INFO  Closing down clientserver connection\n"
     ]
    },
    {
     "name": "stdout",
     "output_type": "stream",
     "text": [
      " 14%|█▍        | 142/1000 [54:33<35:19,  2.47s/trial, best loss: 0.9141681796685477]  "
     ]
    },
    {
     "name": "stderr",
     "output_type": "stream",
     "text": [
      "hyperopt.tpe INFO  build_posterior_wrapper took 0.000000 seconds\n",
      "hyperopt.tpe INFO  TPE using 158/158 trials with best loss 0.914168\n",
      "hyperopt.tpe INFO  build_posterior_wrapper took 0.001003 seconds\n",
      "hyperopt.tpe INFO  TPE using 159/159 trials with best loss 0.914168\n",
      "hyperopt.tpe INFO  build_posterior_wrapper took 0.000000 seconds\n",
      "hyperopt.tpe INFO  TPE using 160/160 trials with best loss 0.914168\n",
      "py4j.clientserver INFO  Closing down clientserver connection\n"
     ]
    },
    {
     "name": "stdout",
     "output_type": "stream",
     "text": [
      " 14%|█▍        | 143/1000 [54:43<56:39,  3.97s/trial, best loss: 0.9141681796685477]"
     ]
    },
    {
     "name": "stderr",
     "output_type": "stream",
     "text": [
      "hyperopt.tpe INFO  build_posterior_wrapper took 0.001005 seconds\n",
      "hyperopt.tpe INFO  TPE using 161/161 trials with best loss 0.914168\n",
      "py4j.clientserver INFO  Closing down clientserver connection\n"
     ]
    },
    {
     "name": "stdout",
     "output_type": "stream",
     "text": [
      " 14%|█▍        | 144/1000 [54:45<50:31,  3.54s/trial, best loss: 0.9141681796685477]"
     ]
    },
    {
     "name": "stderr",
     "output_type": "stream",
     "text": [
      "hyperopt.tpe INFO  build_posterior_wrapper took 0.001001 seconds\n",
      "hyperopt.tpe INFO  TPE using 162/162 trials with best loss 0.914168\n"
     ]
    }
   ],
   "source": [
    "from traineval.evaluation.tune_evaluation import evaluate\n",
    "\n",
    "best_params = fmin(\n",
    "    fn=evaluate,\n",
    "    space=get_params(),\n",
    "    algo=tpe.suggest,  # NOTE: You cannot use atpe.suggest with SparkTrials, then use tpe.suggest\n",
    "    max_evals=1000,\n",
    "    trials=SparkTrials(18),\n",
    "    # early_stop_fn=no_progress_loss(400)\n",
    ")\n",
    "best_params"
   ],
   "metadata": {
    "collapsed": false,
    "pycharm": {
     "is_executing": true
    }
   }
  },
  {
   "cell_type": "code",
   "execution_count": null,
   "outputs": [],
   "source": [
    "best_params"
   ],
   "metadata": {
    "collapsed": false
   }
  },
  {
   "cell_type": "code",
   "execution_count": null,
   "outputs": [],
   "source": [
    "# 10, 23"
   ],
   "metadata": {
    "collapsed": false
   }
  }
 ],
 "metadata": {
  "kernelspec": {
   "display_name": "Python 3",
   "language": "python",
   "name": "python3"
  },
  "language_info": {
   "codemirror_mode": {
    "name": "ipython",
    "version": 2
   },
   "file_extension": ".py",
   "mimetype": "text/x-python",
   "name": "python",
   "nbconvert_exporter": "python",
   "pygments_lexer": "ipython2",
   "version": "2.7.6"
  }
 },
 "nbformat": 4,
 "nbformat_minor": 0
}
