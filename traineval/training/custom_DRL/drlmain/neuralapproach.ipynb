{
 "cells": [
  {
   "cell_type": "code",
   "execution_count": 7,
   "metadata": {
    "collapsed": true,
    "pycharm": {
     "name": "#%%\n"
    }
   },
   "outputs": [],
   "source": [
    "from torch import nn\n",
    "import torch"
   ]
  },
  {
   "cell_type": "code",
   "execution_count": 8,
   "outputs": [],
   "source": [
    "class NeuralNet(nn.Module):\n",
    "    # E.g. 5, 1, [64, 32]\n",
    "    def __init__(self, observation_dim, output_dim, hidden_shape) -> None:\n",
    "        \"\"\"\n",
    "            Policy network. Gives probabilities of picking actions.\n",
    "        \"\"\"\n",
    "        super().__init__()\n",
    "\n",
    "        self.input = nn.Sequential(\n",
    "            nn.Linear(observation_dim, hidden_shape[0]),\n",
    "            nn.Tanh()\n",
    "        )\n",
    "\n",
    "        self.layers = []\n",
    "        for i, n in enumerate(hidden_shape[:-1]):\n",
    "            self.layers.append(\n",
    "                nn.Sequential(\n",
    "                    nn.Linear(n, hidden_shape[i + 1]),\n",
    "                    nn.Tanh()\n",
    "                )\n",
    "            )\n",
    "\n",
    "        self.output = torch.nn.Linear(hidden_shape[-1], output_dim)\n",
    "\n",
    "    def forward(self, x: torch.Tensor) -> torch.Tensor:\n",
    "\n",
    "        x = self.input(x)\n",
    "\n",
    "        for layer in self.layers:\n",
    "            x = layer(x)\n",
    "\n",
    "        x = self.output(x)\n",
    "\n",
    "        return x\n",
    "\n",
    "    def pick(self, observation):\n",
    "\n",
    "        observation = torch.from_numpy(observation).float().unsqueeze(0)\n",
    "\n",
    "        actions = self.forward(observation)\n",
    "\n",
    "        return actions"
   ],
   "metadata": {
    "collapsed": false,
    "pycharm": {
     "name": "#%%\n"
    }
   }
  },
  {
   "cell_type": "code",
   "execution_count": 10,
   "outputs": [],
   "source": [
    "import numpy as np\n",
    "import gym\n",
    "from traineval.utils.register_environment import register_environment\n",
    "from traineval.utils.convert_arguments import get_environment_arguments\n",
    "\n",
    "district_args = [\"hour\",\n",
    "                 \"month\",\n",
    "                 \"carbon_intensity\",\n",
    "                 \"electricity_pricing\"]\n",
    "\n",
    "building_args = [\"non_shiftable_load\",\n",
    "                 \"solar_generation\",\n",
    "                 \"electrical_storage_soc\",\n",
    "                 \"net_electricity_consumption\"]\n",
    "\n",
    "environment_arguments = get_environment_arguments(district_args, building_args)\n",
    "register_environment(environment_arguments)\n",
    "env = gym.make(id=\"Epoch-Citylearn-v1\", disable_env_checker=True)\n",
    "\n",
    "scores = []\n",
    "\n",
    "action_space = 1\n",
    "gamma = 0.95\n",
    "\n",
    "total_episodes = 1000\n"
   ],
   "metadata": {
    "collapsed": false,
    "pycharm": {
     "name": "#%%\n"
    }
   }
  },
  {
   "cell_type": "code",
   "execution_count": 11,
   "outputs": [],
   "source": [
    "agent = NeuralNet(env.observation_space.shape[0], 1, [64, 32])\n",
    "optimizer = torch.optim.SGD(agent.parameters(), lr=0.01, momentum=0.7)"
   ],
   "metadata": {
    "collapsed": false,
    "pycharm": {
     "name": "#%%\n"
    }
   }
  },
  {
   "cell_type": "code",
   "execution_count": null,
   "outputs": [],
   "source": [
    "for i in range(total_episodes):\n",
    "    #reset the environment\n",
    "    obs = env.reset()\n",
    "\n",
    "    t = 0\n",
    "\n",
    "    while t < 8760 - 1:\n",
    "\n",
    "        optimizer.zero_grad()\n",
    "\n",
    "\n",
    "        observations = []\n",
    "        actions = []\n",
    "        rewards = torch.Tensor()\n",
    "\n",
    "        for x in range(24):\n",
    "\n",
    "            # print(t, x)\n",
    "            t += 1\n",
    "\n",
    "            observations.append(obs)\n",
    "\n",
    "            #Action selection is done by the policy\n",
    "            action = agent.pick(obs)\n",
    "            actions.append(action)\n",
    "\n",
    "            #Get next observation example\n",
    "            obs, reward, done, _ = env.step(action.tolist()[0] * 5)\n",
    "            # reward = (((reward - (-3)) * (1 - (-0))) / (-0.2 - (-3))) + (-0)\n",
    "\n",
    "            rewards = torch.cat((rewards, reward), 0)\n",
    "            print(rewards)\n",
    "            # rewards.append(reward)\n",
    "\n",
    "            if done or x == 24-1:\n",
    "                print(f\"Day {t/24} finished, mean score: {torch.mean(rewards)}\")\n",
    "                # scores.append(np.mean(rewards))\n",
    "                break\n",
    "\n",
    "        observations = torch.FloatTensor(np.array(observations))\n",
    "        actions = torch.cat(actions)\n",
    "\n",
    "        reward = torch.mean(rewards)\n",
    "\n",
    "        loss = torch.pow(reward, 2)\n",
    "\n",
    "        loss.backward()\n",
    "        optimizer.step()\n",
    "\n",
    "        ### 24 observations , 24 actions taken\n",
    "        ### Get a cumulative reward, so we can backtrack on all the\n",
    "\n",
    "\n",
    "        # agent.update(data={\"obs\":observations,\"act\":actions,\"rew\":rewards,\"obs2\":next_observations,\"done\":dones})\n",
    "        # torch.save(agent.retrieve_actor(), \"wowamodela.pt\")\n"
   ],
   "metadata": {
    "collapsed": false,
    "pycharm": {
     "name": "#%%\n"
    }
   }
  },
  {
   "cell_type": "code",
   "execution_count": null,
   "outputs": [],
   "source": [
    "# Next step would be to convert all calculations done in the citylearn environment (citylearn.py, building.py, reward_function.py) to calculations on torch tensors, so the gradients can be preserved. This way we can call loss.backward(), and adapt the NeuralNet in the direction we want."
   ],
   "metadata": {
    "collapsed": false,
    "pycharm": {
     "name": "#%%\n"
    }
   }
  },
  {
   "cell_type": "code",
   "execution_count": 13,
   "outputs": [],
   "source": [],
   "metadata": {
    "collapsed": false,
    "pycharm": {
     "name": "#%%\n"
    }
   }
  },
  {
   "cell_type": "code",
   "execution_count": null,
   "outputs": [],
   "source": [],
   "metadata": {
    "collapsed": false,
    "pycharm": {
     "name": "#%%\n"
    }
   }
  }
 ],
 "metadata": {
  "kernelspec": {
   "display_name": "Python 3",
   "language": "python",
   "name": "python3"
  },
  "language_info": {
   "codemirror_mode": {
    "name": "ipython",
    "version": 2
   },
   "file_extension": ".py",
   "mimetype": "text/x-python",
   "name": "python",
   "nbconvert_exporter": "python",
   "pygments_lexer": "ipython2",
   "version": "2.7.6"
  }
 },
 "nbformat": 4,
 "nbformat_minor": 0
}