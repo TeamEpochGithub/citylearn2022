{
 "cells": [
  {
   "cell_type": "code",
   "execution_count": 220,
   "metadata": {
    "collapsed": true
   },
   "outputs": [],
   "source": [
    "from pandas import read_csv\n",
    "import numpy as np\n",
    "from tensorflow import keras\n",
    "from keras.models import Sequential\n",
    "from keras.layers import Dense, SimpleRNN\n",
    "from sklearn.preprocessing import MinMaxScaler\n",
    "from sklearn.metrics import mean_squared_error\n",
    "import math\n",
    "import matplotlib.pyplot as plt\n"
   ]
  },
  {
   "cell_type": "code",
   "execution_count": 221,
   "outputs": [],
   "source": [
    "import pandas as pd\n",
    "from data import citylearn_challenge_2022_phase_1 as competition_data\n",
    "import os.path as osp\n",
    "\n",
    "nsload_data_path = osp.join(osp.dirname(competition_data.__file__), \"load_data.csv\")\n",
    "nsload_data = pd.read_csv(nsload_data_path)\n",
    "\n",
    "# for i in range(5):\n",
    "#     plt.plot(nsload_data[\"non_shiftable_load\"][i*8760 : 8760 + i*8760])\n",
    "#     plt.show()"
   ],
   "metadata": {
    "collapsed": false
   }
  },
  {
   "cell_type": "code",
   "execution_count": 222,
   "outputs": [],
   "source": [
    "selected_params = [\"non_shiftable_load\", \"non_shiftable_load_future\"] # \"outdoor_dry_bulb\", \"outdoor_relative_humidity\",\n",
    "nsload_data = nsload_data[selected_params]"
   ],
   "metadata": {
    "collapsed": false
   }
  },
  {
   "cell_type": "code",
   "execution_count": 223,
   "outputs": [
    {
     "data": {
      "text/plain": "       non_shiftable_load  non_shiftable_load_future\n0                0.851167                   0.834600\n1                0.834600                   0.838167\n2                0.838167                   1.478433\n3                1.478433                   1.256200\n4                1.256200                   1.869517\n...                   ...                        ...\n43785            3.964600                   2.730183\n43786            2.730183                   0.935833\n43787            0.935833                   2.155017\n43788            2.155017                   2.316400\n43789            2.316400                   1.212400\n\n[43790 rows x 2 columns]",
      "text/html": "<div>\n<style scoped>\n    .dataframe tbody tr th:only-of-type {\n        vertical-align: middle;\n    }\n\n    .dataframe tbody tr th {\n        vertical-align: top;\n    }\n\n    .dataframe thead th {\n        text-align: right;\n    }\n</style>\n<table border=\"1\" class=\"dataframe\">\n  <thead>\n    <tr style=\"text-align: right;\">\n      <th></th>\n      <th>non_shiftable_load</th>\n      <th>non_shiftable_load_future</th>\n    </tr>\n  </thead>\n  <tbody>\n    <tr>\n      <th>0</th>\n      <td>0.851167</td>\n      <td>0.834600</td>\n    </tr>\n    <tr>\n      <th>1</th>\n      <td>0.834600</td>\n      <td>0.838167</td>\n    </tr>\n    <tr>\n      <th>2</th>\n      <td>0.838167</td>\n      <td>1.478433</td>\n    </tr>\n    <tr>\n      <th>3</th>\n      <td>1.478433</td>\n      <td>1.256200</td>\n    </tr>\n    <tr>\n      <th>4</th>\n      <td>1.256200</td>\n      <td>1.869517</td>\n    </tr>\n    <tr>\n      <th>...</th>\n      <td>...</td>\n      <td>...</td>\n    </tr>\n    <tr>\n      <th>43785</th>\n      <td>3.964600</td>\n      <td>2.730183</td>\n    </tr>\n    <tr>\n      <th>43786</th>\n      <td>2.730183</td>\n      <td>0.935833</td>\n    </tr>\n    <tr>\n      <th>43787</th>\n      <td>0.935833</td>\n      <td>2.155017</td>\n    </tr>\n    <tr>\n      <th>43788</th>\n      <td>2.155017</td>\n      <td>2.316400</td>\n    </tr>\n    <tr>\n      <th>43789</th>\n      <td>2.316400</td>\n      <td>1.212400</td>\n    </tr>\n  </tbody>\n</table>\n<p>43790 rows × 2 columns</p>\n</div>"
     },
     "execution_count": 223,
     "metadata": {},
     "output_type": "execute_result"
    }
   ],
   "source": [
    "nsload_data"
   ],
   "metadata": {
    "collapsed": false
   }
  },
  {
   "cell_type": "code",
   "execution_count": 224,
   "outputs": [
    {
     "name": "stdout",
     "output_type": "stream",
     "text": [
      "(8760, 2)\n",
      "(8760, 1)\n"
     ]
    }
   ],
   "source": [
    "from sklearn.preprocessing import StandardScaler\n",
    "sc = StandardScaler()\n",
    "nsload_data = nsload_data[0:8760]\n",
    "df_load_scaled = sc.fit_transform(nsload_data)\n",
    "print(df_load_scaled.shape)\n",
    "\n",
    "sc2 = StandardScaler()\n",
    "df_load_scaled_y = sc2.fit_transform(nsload_data[[\"non_shiftable_load_future\"]])\n",
    "print(df_load_scaled_y.shape)"
   ],
   "metadata": {
    "collapsed": false
   }
  },
  {
   "cell_type": "code",
   "execution_count": 225,
   "outputs": [
    {
     "name": "stdout",
     "output_type": "stream",
     "text": [
      "(8736, 24, 2)\n",
      "(8736,)\n"
     ]
    }
   ],
   "source": [
    "hops = 24\n",
    "no_records = df_load_scaled_y.shape[0]\n",
    "no_cols = len(selected_params)\n",
    "X_train = []\n",
    "y_train = []\n",
    "for i in range(hops, no_records):\n",
    "    X_train.append(df_load_scaled[i-hops:i])\n",
    "    y_train.append(df_load_scaled_y[i][0])\n",
    "X_train, y_train = np.array(X_train), np.array(y_train)\n",
    "\n",
    "print(X_train.shape)\n",
    "print(y_train.shape)"
   ],
   "metadata": {
    "collapsed": false
   }
  },
  {
   "cell_type": "code",
   "execution_count": 226,
   "outputs": [],
   "source": [
    "X_train_reshaped = np.reshape(X_train, (X_train.shape[0], X_train.shape[1], X_train.shape[2]))"
   ],
   "metadata": {
    "collapsed": false
   }
  },
  {
   "cell_type": "code",
   "execution_count": 227,
   "outputs": [
    {
     "data": {
      "text/plain": "(8736, 24, 2)"
     },
     "execution_count": 227,
     "metadata": {},
     "output_type": "execute_result"
    }
   ],
   "source": [
    "X_train_reshaped.shape"
   ],
   "metadata": {
    "collapsed": false
   }
  },
  {
   "cell_type": "code",
   "execution_count": 228,
   "outputs": [],
   "source": [
    "from keras.models import Sequential\n",
    "from keras.layers import Dense, LSTM, Dropout\n",
    "\n",
    "model=Sequential()\n",
    "model.add(LSTM(units=64, return_sequences=True, input_shape=(hops,no_cols)))\n",
    "model.add(Dropout(0.2))\n",
    "model.add(LSTM(units=64))\n",
    "model.add(Dropout(0.2))\n",
    "model.add(Dense(1))\n",
    "model.compile(optimizer='adam', loss='mean_squared_error')"
   ],
   "metadata": {
    "collapsed": false
   }
  },
  {
   "cell_type": "code",
   "execution_count": null,
   "outputs": [
    {
     "name": "stdout",
     "output_type": "stream",
     "text": [
      "Epoch 1/50\n",
      "292/292 [==============================] - 9s 24ms/step - loss: 0.8146 - val_loss: 0.9364\n",
      "Epoch 2/50\n",
      "292/292 [==============================] - 6s 21ms/step - loss: 0.6825 - val_loss: 0.8266\n",
      "Epoch 3/50\n",
      "292/292 [==============================] - 6s 21ms/step - loss: 0.6395 - val_loss: 0.8037\n",
      "Epoch 4/50\n",
      "292/292 [==============================] - 6s 21ms/step - loss: 0.6306 - val_loss: 0.7847\n",
      "Epoch 5/50\n",
      "292/292 [==============================] - 6s 21ms/step - loss: 0.6234 - val_loss: 0.7690\n",
      "Epoch 6/50\n",
      "292/292 [==============================] - 6s 21ms/step - loss: 0.6157 - val_loss: 0.7509\n",
      "Epoch 7/50\n",
      "292/292 [==============================] - 6s 21ms/step - loss: 0.6126 - val_loss: 0.7554\n",
      "Epoch 8/50\n",
      "292/292 [==============================] - 6s 21ms/step - loss: 0.6084 - val_loss: 0.7505\n",
      "Epoch 9/50\n",
      "292/292 [==============================] - 6s 21ms/step - loss: 0.6081 - val_loss: 0.7507\n",
      "Epoch 10/50\n",
      "292/292 [==============================] - 6s 22ms/step - loss: 0.6038 - val_loss: 0.7458\n",
      "Epoch 11/50\n",
      "292/292 [==============================] - 6s 21ms/step - loss: 0.5989 - val_loss: 0.7507\n",
      "Epoch 12/50\n",
      "292/292 [==============================] - 6s 21ms/step - loss: 0.5991 - val_loss: 0.7473\n",
      "Epoch 13/50\n",
      "292/292 [==============================] - 6s 22ms/step - loss: 0.5971 - val_loss: 0.7465\n",
      "Epoch 14/50\n",
      "292/292 [==============================] - 6s 22ms/step - loss: 0.5986 - val_loss: 0.7499\n",
      "Epoch 15/50\n",
      "292/292 [==============================] - 7s 22ms/step - loss: 0.5949 - val_loss: 0.7292\n",
      "Epoch 16/50\n",
      "292/292 [==============================] - 7s 25ms/step - loss: 0.5930 - val_loss: 0.7310\n",
      "Epoch 17/50\n",
      "292/292 [==============================] - 6s 22ms/step - loss: 0.5908 - val_loss: 0.7447\n",
      "Epoch 18/50\n",
      "292/292 [==============================] - 6s 21ms/step - loss: 0.5937 - val_loss: 0.7283\n",
      "Epoch 19/50\n",
      "292/292 [==============================] - 6s 21ms/step - loss: 0.5929 - val_loss: 0.7323\n",
      "Epoch 20/50\n",
      "292/292 [==============================] - 6s 21ms/step - loss: 0.5848 - val_loss: 0.7350\n",
      "Epoch 21/50\n",
      "292/292 [==============================] - 6s 22ms/step - loss: 0.5857 - val_loss: 0.7427\n",
      "Epoch 22/50\n",
      "292/292 [==============================] - 6s 22ms/step - loss: 0.5813 - val_loss: 0.7329\n",
      "Epoch 23/50\n",
      "292/292 [==============================] - 6s 22ms/step - loss: 0.5822 - val_loss: 0.7550\n",
      "Epoch 24/50\n",
      "292/292 [==============================] - 6s 22ms/step - loss: 0.5753 - val_loss: 0.7351\n",
      "Epoch 25/50\n",
      "292/292 [==============================] - 6s 21ms/step - loss: 0.5729 - val_loss: 0.7131\n",
      "Epoch 26/50\n",
      "292/292 [==============================] - 6s 22ms/step - loss: 0.5727 - val_loss: 0.7377\n",
      "Epoch 27/50\n",
      "292/292 [==============================] - 7s 23ms/step - loss: 0.5713 - val_loss: 0.7196\n",
      "Epoch 28/50\n",
      "292/292 [==============================] - 6s 22ms/step - loss: 0.5659 - val_loss: 0.7072\n",
      "Epoch 29/50\n",
      "292/292 [==============================] - 6s 21ms/step - loss: 0.5608 - val_loss: 0.7301\n",
      "Epoch 30/50\n",
      "292/292 [==============================] - 6s 22ms/step - loss: 0.5672 - val_loss: 0.7430\n",
      "Epoch 31/50\n",
      "292/292 [==============================] - 6s 22ms/step - loss: 0.5650 - val_loss: 0.7299\n",
      "Epoch 32/50\n",
      "292/292 [==============================] - 6s 21ms/step - loss: 0.5593 - val_loss: 0.7298\n",
      "Epoch 33/50\n",
      "270/292 [==========================>...] - ETA: 0s - loss: 0.5476"
     ]
    }
   ],
   "source": [
    "model.fit(X_train_reshaped, y_train, validation_split=0.2, epochs=50, batch_size=24, shuffle=False, workers=24, use_multiprocessing=True)"
   ],
   "metadata": {
    "collapsed": false,
    "pycharm": {
     "is_executing": true
    }
   }
  },
  {
   "cell_type": "code",
   "execution_count": null,
   "outputs": [],
   "source": [],
   "metadata": {
    "collapsed": false
   }
  },
  {
   "cell_type": "code",
   "execution_count": null,
   "outputs": [],
   "source": [],
   "metadata": {
    "collapsed": false
   }
  },
  {
   "cell_type": "code",
   "execution_count": null,
   "outputs": [],
   "source": [],
   "metadata": {
    "collapsed": false
   }
  },
  {
   "cell_type": "code",
   "execution_count": null,
   "outputs": [],
   "source": [],
   "metadata": {
    "collapsed": false
   }
  },
  {
   "cell_type": "code",
   "execution_count": null,
   "outputs": [],
   "source": [],
   "metadata": {
    "collapsed": false
   }
  },
  {
   "cell_type": "code",
   "execution_count": null,
   "outputs": [],
   "source": [],
   "metadata": {
    "collapsed": false
   }
  },
  {
   "cell_type": "code",
   "execution_count": null,
   "outputs": [],
   "source": [],
   "metadata": {
    "collapsed": false
   }
  },
  {
   "cell_type": "code",
   "execution_count": null,
   "outputs": [],
   "source": [],
   "metadata": {
    "collapsed": false
   }
  },
  {
   "cell_type": "code",
   "execution_count": null,
   "outputs": [],
   "source": [],
   "metadata": {
    "collapsed": false
   }
  },
  {
   "cell_type": "code",
   "execution_count": null,
   "outputs": [],
   "source": [],
   "metadata": {
    "collapsed": false
   }
  },
  {
   "cell_type": "code",
   "execution_count": null,
   "outputs": [],
   "source": [],
   "metadata": {
    "collapsed": false
   }
  },
  {
   "cell_type": "code",
   "execution_count": null,
   "outputs": [],
   "source": [],
   "metadata": {
    "collapsed": false
   }
  },
  {
   "cell_type": "code",
   "execution_count": null,
   "outputs": [],
   "source": [],
   "metadata": {
    "collapsed": false
   }
  },
  {
   "cell_type": "code",
   "execution_count": 60,
   "outputs": [],
   "source": [
    "# units = dimensionality of the output space\n",
    "\n",
    "\n",
    "def create_RNN(hidden_units, dense_units, input_shape, activation):\n",
    "    model = Sequential()\n",
    "    model.add(SimpleRNN(hidden_units, input_shape=input_shape,\n",
    "                        activation=activation[0]))\n",
    "    model.add(Dense(units=dense_units, activation=activation[1]))\n",
    "    model.compile(loss='mean_squared_error', optimizer='adam')\n",
    "    return model\n",
    "\n",
    "demo_model = create_RNN(hidden_units=2, dense_units=1, input_shape=(3,1), activation=['relu', 'relu'])"
   ],
   "metadata": {
    "collapsed": false
   }
  },
  {
   "cell_type": "code",
   "execution_count": null,
   "outputs": [],
   "source": [],
   "metadata": {
    "collapsed": false
   }
  }
 ],
 "metadata": {
  "kernelspec": {
   "display_name": "Python 3",
   "language": "python",
   "name": "python3"
  },
  "language_info": {
   "codemirror_mode": {
    "name": "ipython",
    "version": 2
   },
   "file_extension": ".py",
   "mimetype": "text/x-python",
   "name": "python",
   "nbconvert_exporter": "python",
   "pygments_lexer": "ipython2",
   "version": "2.7.6"
  }
 },
 "nbformat": 4,
 "nbformat_minor": 0
}
