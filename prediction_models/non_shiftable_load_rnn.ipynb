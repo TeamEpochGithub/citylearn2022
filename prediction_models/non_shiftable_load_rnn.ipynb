{
 "cells": [
  {
   "cell_type": "code",
   "execution_count": 404,
   "metadata": {
    "collapsed": true
   },
   "outputs": [],
   "source": [
    "from pandas import read_csv\n",
    "import numpy as np\n",
    "from tensorflow import keras\n",
    "from keras.models import Sequential\n",
    "from keras.layers import Dense, SimpleRNN\n",
    "from sklearn.preprocessing import MinMaxScaler\n",
    "from sklearn.metrics import mean_squared_error\n",
    "import math\n",
    "import matplotlib.pyplot as plt"
   ]
  },
  {
   "cell_type": "code",
   "execution_count": 405,
   "outputs": [],
   "source": [
    "import pandas as pd\n",
    "from data import citylearn_challenge_2022_phase_1 as competition_data\n",
    "import os.path as osp\n",
    "\n",
    "nsload_data_path = osp.join(osp.dirname(competition_data.__file__), \"load_data.csv\")\n",
    "nsload_data = pd.read_csv(nsload_data_path)\n",
    "\n",
    "# for i in range(5):\n",
    "#     plt.plot(nsload_data[\"non_shiftable_load\"][i*8760 : 8760 + i*8760])\n",
    "#     plt.show()"
   ],
   "metadata": {
    "collapsed": false,
    "pycharm": {
     "name": "#%%\n"
    }
   }
  },
  {
   "cell_type": "code",
   "execution_count": 406,
   "outputs": [],
   "source": [
    "#\"month\", \"hour\", \"outdoor_dry_bulb\", \"outdoor_dry_bulb_temperature_predicted_6h\", \"outdoor_relative_humidity\", \"outdoor_relative_humidity_predicted_6h\", \"diffuse_solar_irradiance\", \"diffuse_solar_irradiance_predicted_6h\", \"diffuse_solar_irradiance_predicted_24h\", \"direct_solar_irradiance\", \"direct_solar_irradiance_predicted_6h\", \"direct_solar_irradiance_predicted_24h\", \"electricity_pricing\", \"electricity_pricing_predicted_6h\", \"electricity_pricing_predicted_24h\"\n",
    "\n",
    "selected_params = [\"outdoor_relative_humidity\", \"outdoor_dry_bulb_temperature_predicted_6h\", \"outdoor_dry_bulb\", \"outdoor_dry_bulb_temperature_predicted_6h\", \"hour\", \"diffuse_solar_irradiance\", \"diffuse_solar_irradiance_predicted_24h\", \"month\", \"diffuse_solar_irradiance_predicted_6h\", \"direct_solar_irradiance_predicted_6h\", \"direct_solar_irradiance_predicted_24h\", \"direct_solar_irradiance\", \"non_shiftable_load_future\"]\n",
    "nsload_data = nsload_data[selected_params]"
   ],
   "metadata": {
    "collapsed": false
   }
  },
  {
   "cell_type": "code",
   "execution_count": 407,
   "outputs": [
    {
     "data": {
      "text/plain": "       outdoor_relative_humidity  outdoor_dry_bulb_temperature_predicted_6h  \\\n0                           79.0                                       19.4   \n1                           78.0                                       21.1   \n2                           78.0                                       22.2   \n3                           78.0                                       21.7   \n4                           81.0                                       22.2   \n...                          ...                                        ...   \n43785                       81.0                                       20.0   \n43786                       84.0                                       20.1   \n43787                       81.0                                       19.7   \n43788                       79.0                                       19.3   \n43789                       76.0                                       18.9   \n\n       outdoor_dry_bulb  outdoor_dry_bulb_temperature_predicted_6h  hour  \\\n0                  20.1                                       19.4   1.0   \n1                  19.7                                       21.1   2.0   \n2                  19.3                                       22.2   3.0   \n3                  18.9                                       21.7   4.0   \n4                  18.3                                       22.2   5.0   \n...                 ...                                        ...   ...   \n43785              21.1                                       20.0  18.0   \n43786              20.6                                       20.1  19.0   \n43787              21.1                                       19.7  20.0   \n43788              21.7                                       19.3  21.0   \n43789              21.3                                       18.9  22.0   \n\n       diffuse_solar_irradiance  diffuse_solar_irradiance_predicted_24h  \\\n0                           0.0                                     0.0   \n1                           0.0                                     0.0   \n2                           0.0                                     0.0   \n3                           0.0                                     0.0   \n4                           0.0                                     0.0   \n...                         ...                                     ...   \n43785                     218.0                                   231.0   \n43786                      26.0                                    27.0   \n43787                       0.0                                     0.0   \n43788                       0.0                                     0.0   \n43789                       0.0                                     0.0   \n\n       month  diffuse_solar_irradiance_predicted_6h  \\\n0        8.0                                  201.0   \n1        8.0                                  420.0   \n2        8.0                                  554.0   \n3        8.0                                  778.0   \n4        8.0                                  903.0   \n...      ...                                    ...   \n43785    7.0                                    0.0   \n43786    7.0                                    0.0   \n43787    7.0                                    0.0   \n43788    7.0                                    0.0   \n43789    7.0                                    0.0   \n\n       direct_solar_irradiance_predicted_6h  \\\n0                                     444.0   \n1                                     592.0   \n2                                     491.0   \n3                                     734.0   \n4                                     811.0   \n...                                     ...   \n43785                                   0.0   \n43786                                   0.0   \n43787                                   0.0   \n43788                                   0.0   \n43789                                   0.0   \n\n       direct_solar_irradiance_predicted_24h  direct_solar_irradiance  \\\n0                                        0.0                      0.0   \n1                                        0.0                      0.0   \n2                                        0.0                      0.0   \n3                                        0.0                      0.0   \n4                                        0.0                      0.0   \n...                                      ...                      ...   \n43785                                  320.0                    289.0   \n43786                                  143.0                    130.0   \n43787                                    0.0                      0.0   \n43788                                    0.0                      0.0   \n43789                                    0.0                      0.0   \n\n       non_shiftable_load_future  \n0                       0.834600  \n1                       0.838167  \n2                       1.478433  \n3                       1.256200  \n4                       1.869517  \n...                          ...  \n43785                   2.730183  \n43786                   0.935833  \n43787                   2.155017  \n43788                   2.316400  \n43789                   1.212400  \n\n[43790 rows x 13 columns]",
      "text/html": "<div>\n<style scoped>\n    .dataframe tbody tr th:only-of-type {\n        vertical-align: middle;\n    }\n\n    .dataframe tbody tr th {\n        vertical-align: top;\n    }\n\n    .dataframe thead th {\n        text-align: right;\n    }\n</style>\n<table border=\"1\" class=\"dataframe\">\n  <thead>\n    <tr style=\"text-align: right;\">\n      <th></th>\n      <th>outdoor_relative_humidity</th>\n      <th>outdoor_dry_bulb_temperature_predicted_6h</th>\n      <th>outdoor_dry_bulb</th>\n      <th>outdoor_dry_bulb_temperature_predicted_6h</th>\n      <th>hour</th>\n      <th>diffuse_solar_irradiance</th>\n      <th>diffuse_solar_irradiance_predicted_24h</th>\n      <th>month</th>\n      <th>diffuse_solar_irradiance_predicted_6h</th>\n      <th>direct_solar_irradiance_predicted_6h</th>\n      <th>direct_solar_irradiance_predicted_24h</th>\n      <th>direct_solar_irradiance</th>\n      <th>non_shiftable_load_future</th>\n    </tr>\n  </thead>\n  <tbody>\n    <tr>\n      <th>0</th>\n      <td>79.0</td>\n      <td>19.4</td>\n      <td>20.1</td>\n      <td>19.4</td>\n      <td>1.0</td>\n      <td>0.0</td>\n      <td>0.0</td>\n      <td>8.0</td>\n      <td>201.0</td>\n      <td>444.0</td>\n      <td>0.0</td>\n      <td>0.0</td>\n      <td>0.834600</td>\n    </tr>\n    <tr>\n      <th>1</th>\n      <td>78.0</td>\n      <td>21.1</td>\n      <td>19.7</td>\n      <td>21.1</td>\n      <td>2.0</td>\n      <td>0.0</td>\n      <td>0.0</td>\n      <td>8.0</td>\n      <td>420.0</td>\n      <td>592.0</td>\n      <td>0.0</td>\n      <td>0.0</td>\n      <td>0.838167</td>\n    </tr>\n    <tr>\n      <th>2</th>\n      <td>78.0</td>\n      <td>22.2</td>\n      <td>19.3</td>\n      <td>22.2</td>\n      <td>3.0</td>\n      <td>0.0</td>\n      <td>0.0</td>\n      <td>8.0</td>\n      <td>554.0</td>\n      <td>491.0</td>\n      <td>0.0</td>\n      <td>0.0</td>\n      <td>1.478433</td>\n    </tr>\n    <tr>\n      <th>3</th>\n      <td>78.0</td>\n      <td>21.7</td>\n      <td>18.9</td>\n      <td>21.7</td>\n      <td>4.0</td>\n      <td>0.0</td>\n      <td>0.0</td>\n      <td>8.0</td>\n      <td>778.0</td>\n      <td>734.0</td>\n      <td>0.0</td>\n      <td>0.0</td>\n      <td>1.256200</td>\n    </tr>\n    <tr>\n      <th>4</th>\n      <td>81.0</td>\n      <td>22.2</td>\n      <td>18.3</td>\n      <td>22.2</td>\n      <td>5.0</td>\n      <td>0.0</td>\n      <td>0.0</td>\n      <td>8.0</td>\n      <td>903.0</td>\n      <td>811.0</td>\n      <td>0.0</td>\n      <td>0.0</td>\n      <td>1.869517</td>\n    </tr>\n    <tr>\n      <th>...</th>\n      <td>...</td>\n      <td>...</td>\n      <td>...</td>\n      <td>...</td>\n      <td>...</td>\n      <td>...</td>\n      <td>...</td>\n      <td>...</td>\n      <td>...</td>\n      <td>...</td>\n      <td>...</td>\n      <td>...</td>\n      <td>...</td>\n    </tr>\n    <tr>\n      <th>43785</th>\n      <td>81.0</td>\n      <td>20.0</td>\n      <td>21.1</td>\n      <td>20.0</td>\n      <td>18.0</td>\n      <td>218.0</td>\n      <td>231.0</td>\n      <td>7.0</td>\n      <td>0.0</td>\n      <td>0.0</td>\n      <td>320.0</td>\n      <td>289.0</td>\n      <td>2.730183</td>\n    </tr>\n    <tr>\n      <th>43786</th>\n      <td>84.0</td>\n      <td>20.1</td>\n      <td>20.6</td>\n      <td>20.1</td>\n      <td>19.0</td>\n      <td>26.0</td>\n      <td>27.0</td>\n      <td>7.0</td>\n      <td>0.0</td>\n      <td>0.0</td>\n      <td>143.0</td>\n      <td>130.0</td>\n      <td>0.935833</td>\n    </tr>\n    <tr>\n      <th>43787</th>\n      <td>81.0</td>\n      <td>19.7</td>\n      <td>21.1</td>\n      <td>19.7</td>\n      <td>20.0</td>\n      <td>0.0</td>\n      <td>0.0</td>\n      <td>7.0</td>\n      <td>0.0</td>\n      <td>0.0</td>\n      <td>0.0</td>\n      <td>0.0</td>\n      <td>2.155017</td>\n    </tr>\n    <tr>\n      <th>43788</th>\n      <td>79.0</td>\n      <td>19.3</td>\n      <td>21.7</td>\n      <td>19.3</td>\n      <td>21.0</td>\n      <td>0.0</td>\n      <td>0.0</td>\n      <td>7.0</td>\n      <td>0.0</td>\n      <td>0.0</td>\n      <td>0.0</td>\n      <td>0.0</td>\n      <td>2.316400</td>\n    </tr>\n    <tr>\n      <th>43789</th>\n      <td>76.0</td>\n      <td>18.9</td>\n      <td>21.3</td>\n      <td>18.9</td>\n      <td>22.0</td>\n      <td>0.0</td>\n      <td>0.0</td>\n      <td>7.0</td>\n      <td>0.0</td>\n      <td>0.0</td>\n      <td>0.0</td>\n      <td>0.0</td>\n      <td>1.212400</td>\n    </tr>\n  </tbody>\n</table>\n<p>43790 rows × 13 columns</p>\n</div>"
     },
     "execution_count": 407,
     "metadata": {},
     "output_type": "execute_result"
    }
   ],
   "source": [
    "nsload_data"
   ],
   "metadata": {
    "collapsed": false,
    "pycharm": {
     "name": "#%%\n"
    }
   }
  },
  {
   "cell_type": "code",
   "execution_count": 408,
   "outputs": [
    {
     "name": "stdout",
     "output_type": "stream",
     "text": [
      "       outdoor_relative_humidity  outdoor_dry_bulb_temperature_predicted_6h  \\\n",
      "0                           79.0                                       19.4   \n",
      "1                           78.0                                       21.1   \n",
      "2                           78.0                                       22.2   \n",
      "3                           78.0                                       21.7   \n",
      "4                           81.0                                       22.2   \n",
      "...                          ...                                        ...   \n",
      "43785                       81.0                                       20.0   \n",
      "43786                       84.0                                       20.1   \n",
      "43787                       81.0                                       19.7   \n",
      "43788                       79.0                                       19.3   \n",
      "43789                       76.0                                       18.9   \n",
      "\n",
      "       outdoor_dry_bulb  outdoor_dry_bulb_temperature_predicted_6h  hour  \\\n",
      "0                  20.1                                       19.4   1.0   \n",
      "1                  19.7                                       21.1   2.0   \n",
      "2                  19.3                                       22.2   3.0   \n",
      "3                  18.9                                       21.7   4.0   \n",
      "4                  18.3                                       22.2   5.0   \n",
      "...                 ...                                        ...   ...   \n",
      "43785              21.1                                       20.0  18.0   \n",
      "43786              20.6                                       20.1  19.0   \n",
      "43787              21.1                                       19.7  20.0   \n",
      "43788              21.7                                       19.3  21.0   \n",
      "43789              21.3                                       18.9  22.0   \n",
      "\n",
      "       diffuse_solar_irradiance  diffuse_solar_irradiance_predicted_24h  \\\n",
      "0                           0.0                                     0.0   \n",
      "1                           0.0                                     0.0   \n",
      "2                           0.0                                     0.0   \n",
      "3                           0.0                                     0.0   \n",
      "4                           0.0                                     0.0   \n",
      "...                         ...                                     ...   \n",
      "43785                     218.0                                   231.0   \n",
      "43786                      26.0                                    27.0   \n",
      "43787                       0.0                                     0.0   \n",
      "43788                       0.0                                     0.0   \n",
      "43789                       0.0                                     0.0   \n",
      "\n",
      "       month  diffuse_solar_irradiance_predicted_6h  \\\n",
      "0        8.0                                  201.0   \n",
      "1        8.0                                  420.0   \n",
      "2        8.0                                  554.0   \n",
      "3        8.0                                  778.0   \n",
      "4        8.0                                  903.0   \n",
      "...      ...                                    ...   \n",
      "43785    7.0                                    0.0   \n",
      "43786    7.0                                    0.0   \n",
      "43787    7.0                                    0.0   \n",
      "43788    7.0                                    0.0   \n",
      "43789    7.0                                    0.0   \n",
      "\n",
      "       direct_solar_irradiance_predicted_6h  \\\n",
      "0                                     444.0   \n",
      "1                                     592.0   \n",
      "2                                     491.0   \n",
      "3                                     734.0   \n",
      "4                                     811.0   \n",
      "...                                     ...   \n",
      "43785                                   0.0   \n",
      "43786                                   0.0   \n",
      "43787                                   0.0   \n",
      "43788                                   0.0   \n",
      "43789                                   0.0   \n",
      "\n",
      "       direct_solar_irradiance_predicted_24h  direct_solar_irradiance  \\\n",
      "0                                        0.0                      0.0   \n",
      "1                                        0.0                      0.0   \n",
      "2                                        0.0                      0.0   \n",
      "3                                        0.0                      0.0   \n",
      "4                                        0.0                      0.0   \n",
      "...                                      ...                      ...   \n",
      "43785                                  320.0                    289.0   \n",
      "43786                                  143.0                    130.0   \n",
      "43787                                    0.0                      0.0   \n",
      "43788                                    0.0                      0.0   \n",
      "43789                                    0.0                      0.0   \n",
      "\n",
      "       non_shiftable_load_future  \n",
      "0                       0.834600  \n",
      "1                       0.838167  \n",
      "2                       1.478433  \n",
      "3                       1.256200  \n",
      "4                       1.869517  \n",
      "...                          ...  \n",
      "43785                   2.730183  \n",
      "43786                   0.935833  \n",
      "43787                   2.155017  \n",
      "43788                   2.316400  \n",
      "43789                   1.212400  \n",
      "\n",
      "[43790 rows x 13 columns]\n",
      "[[ 0.36390193  0.71891017  0.91549546 ...  0.81949226 -0.67954467\n",
      "  -0.67954467]\n",
      " [ 0.30322505  1.19577505  0.80328076 ...  1.31915392 -0.67954467\n",
      "  -0.67954467]\n",
      " [ 0.30322505  1.50433468  0.69106605 ...  0.9781686  -0.67954467\n",
      "  -0.67954467]\n",
      " ...\n",
      " [ 0.48525569  0.8030628   1.19603224 ... -0.67949275 -0.67954467\n",
      "  -0.67954467]\n",
      " [ 0.36390193  0.6908593   1.3643543  ... -0.67949275 -0.67954467\n",
      "  -0.67954467]\n",
      " [ 0.18187129  0.5786558   1.25213959 ... -0.67949275 -0.67954467\n",
      "  -0.67954467]]\n",
      "(43790, 12)\n",
      "(43790, 1)\n"
     ]
    }
   ],
   "source": [
    "from sklearn.preprocessing import StandardScaler\n",
    "sc = StandardScaler()\n",
    "# nsload_data = nsload_data[0:8760]\n",
    "print(nsload_data)\n",
    "\n",
    "df_load_scaled = nsload_data.iloc[: , :-1]\n",
    "df_load_scaled = sc.fit_transform(df_load_scaled)\n",
    "\n",
    "print(df_load_scaled)\n",
    "print(df_load_scaled.shape)\n",
    "\n",
    "sc2 = StandardScaler()\n",
    "df_load_scaled_y = sc2.fit_transform(nsload_data[[\"non_shiftable_load_future\"]])\n",
    "print(df_load_scaled_y.shape)"
   ],
   "metadata": {
    "collapsed": false
   }
  },
  {
   "cell_type": "code",
   "execution_count": 409,
   "outputs": [
    {
     "name": "stdout",
     "output_type": "stream",
     "text": [
      "(43784, 6, 12)\n",
      "(43784,)\n"
     ]
    }
   ],
   "source": [
    "hops = 6\n",
    "no_records = df_load_scaled_y.shape[0]\n",
    "no_cols = len(selected_params) - 1\n",
    "X_train = []\n",
    "y_train = []\n",
    "for i in range(hops, no_records):\n",
    "    X_train.append(df_load_scaled[i-hops:i])\n",
    "    y_train.append(df_load_scaled_y[i][0])\n",
    "X_train, y_train = np.array(X_train), np.array(y_train)\n",
    "\n",
    "print(X_train.shape)\n",
    "print(y_train.shape)"
   ],
   "metadata": {
    "collapsed": false
   }
  },
  {
   "cell_type": "code",
   "execution_count": 410,
   "outputs": [],
   "source": [
    "X_train_reshaped = np.reshape(X_train, (X_train.shape[0], X_train.shape[1], X_train.shape[2]))"
   ],
   "metadata": {
    "collapsed": false,
    "pycharm": {
     "name": "#%%\n"
    }
   }
  },
  {
   "cell_type": "code",
   "execution_count": 411,
   "outputs": [
    {
     "data": {
      "text/plain": "(43784, 6, 12)"
     },
     "execution_count": 411,
     "metadata": {},
     "output_type": "execute_result"
    }
   ],
   "source": [
    "X_train_reshaped.shape"
   ],
   "metadata": {
    "collapsed": false,
    "pycharm": {
     "name": "#%%\n"
    }
   }
  },
  {
   "cell_type": "code",
   "execution_count": 412,
   "outputs": [],
   "source": [
    "from keras.models import Sequential\n",
    "from keras.layers import Dense, LSTM, Dropout\n",
    "\n",
    "model=Sequential()\n",
    "model.add(LSTM(units=64, return_sequences=True, input_shape=(hops,no_cols)))\n",
    "model.add(Dropout(0.2))\n",
    "model.add(LSTM(units=64))\n",
    "model.add(Dropout(0.2))\n",
    "model.add(Dense(1))\n",
    "model.compile(optimizer='adam', loss='mean_squared_error')"
   ],
   "metadata": {
    "collapsed": false,
    "pycharm": {
     "name": "#%%\n"
    }
   }
  },
  {
   "cell_type": "code",
   "execution_count": 413,
   "outputs": [
    {
     "name": "stdout",
     "output_type": "stream",
     "text": [
      "Epoch 1/300\n",
      "343/343 [==============================] - 23s 59ms/step - loss: 0.8612\n",
      "Epoch 2/300\n",
      "343/343 [==============================] - 20s 59ms/step - loss: 0.8245\n",
      "Epoch 3/300\n",
      "343/343 [==============================] - 22s 63ms/step - loss: 0.8103\n",
      "Epoch 4/300\n",
      "343/343 [==============================] - 21s 62ms/step - loss: 0.8016\n",
      "Epoch 5/300\n",
      "343/343 [==============================] - 21s 62ms/step - loss: 0.7969\n",
      "Epoch 6/300\n",
      "343/343 [==============================] - 22s 63ms/step - loss: 0.7917\n",
      "Epoch 7/300\n",
      "343/343 [==============================] - 21s 62ms/step - loss: 0.7868\n",
      "Epoch 8/300\n",
      "343/343 [==============================] - 21s 62ms/step - loss: 0.7856\n",
      "Epoch 9/300\n",
      "343/343 [==============================] - 21s 62ms/step - loss: 0.7831\n",
      "Epoch 10/300\n",
      "343/343 [==============================] - 21s 62ms/step - loss: 0.7805\n",
      "Epoch 11/300\n",
      "343/343 [==============================] - 21s 61ms/step - loss: 0.7778\n",
      "Epoch 12/300\n",
      "343/343 [==============================] - 21s 62ms/step - loss: 0.7756\n",
      "Epoch 13/300\n",
      "343/343 [==============================] - 21s 62ms/step - loss: 0.7742\n",
      "Epoch 14/300\n",
      "343/343 [==============================] - 24s 69ms/step - loss: 0.7709\n",
      "Epoch 15/300\n",
      "343/343 [==============================] - 24s 69ms/step - loss: 0.7685\n",
      "Epoch 16/300\n",
      "343/343 [==============================] - 22s 64ms/step - loss: 0.7662\n",
      "Epoch 17/300\n",
      "343/343 [==============================] - 21s 60ms/step - loss: 0.7667\n",
      "Epoch 18/300\n",
      "343/343 [==============================] - 21s 60ms/step - loss: 0.7620\n",
      "Epoch 19/300\n",
      "343/343 [==============================] - 21s 61ms/step - loss: 0.7609\n",
      "Epoch 20/300\n",
      "343/343 [==============================] - 23s 66ms/step - loss: 0.7588\n",
      "Epoch 21/300\n",
      "343/343 [==============================] - 21s 61ms/step - loss: 0.7561\n",
      "Epoch 22/300\n",
      "343/343 [==============================] - 21s 60ms/step - loss: 0.7552\n",
      "Epoch 23/300\n",
      "343/343 [==============================] - 21s 61ms/step - loss: 0.7526\n",
      "Epoch 24/300\n",
      "343/343 [==============================] - 21s 60ms/step - loss: 0.7506\n",
      "Epoch 25/300\n",
      "343/343 [==============================] - 21s 60ms/step - loss: 0.7493\n",
      "Epoch 26/300\n",
      "343/343 [==============================] - 22s 63ms/step - loss: 0.7479\n",
      "Epoch 27/300\n",
      "343/343 [==============================] - 21s 61ms/step - loss: 0.7460\n",
      "Epoch 28/300\n",
      "343/343 [==============================] - 21s 60ms/step - loss: 0.7460\n",
      "Epoch 29/300\n",
      "343/343 [==============================] - 21s 61ms/step - loss: 0.7436\n",
      "Epoch 30/300\n",
      "343/343 [==============================] - 22s 64ms/step - loss: 0.7417\n",
      "Epoch 31/300\n",
      "343/343 [==============================] - 21s 61ms/step - loss: 0.7399\n",
      "Epoch 32/300\n",
      "343/343 [==============================] - 23s 67ms/step - loss: 0.7395\n",
      "Epoch 33/300\n",
      "343/343 [==============================] - 23s 66ms/step - loss: 0.7367\n",
      "Epoch 34/300\n",
      "343/343 [==============================] - 21s 61ms/step - loss: 0.7346\n",
      "Epoch 35/300\n",
      "343/343 [==============================] - 21s 60ms/step - loss: 0.7332\n",
      "Epoch 36/300\n",
      "343/343 [==============================] - 21s 61ms/step - loss: 0.7335\n",
      "Epoch 37/300\n",
      "343/343 [==============================] - 21s 61ms/step - loss: 0.7341\n",
      "Epoch 38/300\n",
      "343/343 [==============================] - 21s 61ms/step - loss: 0.7308\n",
      "Epoch 39/300\n",
      "343/343 [==============================] - 22s 65ms/step - loss: 0.7287\n",
      "Epoch 40/300\n",
      "343/343 [==============================] - 22s 64ms/step - loss: 0.7277\n",
      "Epoch 41/300\n",
      "343/343 [==============================] - 23s 67ms/step - loss: 0.7281\n",
      "Epoch 42/300\n",
      "343/343 [==============================] - 23s 67ms/step - loss: 0.7247\n",
      "Epoch 43/300\n",
      "343/343 [==============================] - 23s 67ms/step - loss: 0.7261\n",
      "Epoch 44/300\n",
      "343/343 [==============================] - 23s 67ms/step - loss: 0.7249\n",
      "Epoch 45/300\n",
      "343/343 [==============================] - 23s 66ms/step - loss: 0.7236\n",
      "Epoch 46/300\n",
      "343/343 [==============================] - 21s 61ms/step - loss: 0.7230\n",
      "Epoch 47/300\n",
      "343/343 [==============================] - 21s 60ms/step - loss: 0.7225\n",
      "Epoch 48/300\n",
      "343/343 [==============================] - 21s 60ms/step - loss: 0.7222\n",
      "Epoch 49/300\n",
      "343/343 [==============================] - 21s 61ms/step - loss: 0.7211\n",
      "Epoch 50/300\n",
      "343/343 [==============================] - 21s 61ms/step - loss: 0.7175\n",
      "Epoch 51/300\n",
      "105/343 [========>.....................] - ETA: 14s - loss: 0.7263"
     ]
    },
    {
     "ename": "KeyboardInterrupt",
     "evalue": "",
     "output_type": "error",
     "traceback": [
      "\u001B[1;31m---------------------------------------------------------------------------\u001B[0m",
      "\u001B[1;31mKeyboardInterrupt\u001B[0m                         Traceback (most recent call last)",
      "Cell \u001B[1;32mIn [413], line 1\u001B[0m\n\u001B[1;32m----> 1\u001B[0m model\u001B[38;5;241m.\u001B[39mfit(X_train_reshaped, y_train, validation_split\u001B[38;5;241m=\u001B[39m\u001B[38;5;241m0\u001B[39m, epochs\u001B[38;5;241m=\u001B[39m\u001B[38;5;241m300\u001B[39m, batch_size\u001B[38;5;241m=\u001B[39m\u001B[38;5;241m128\u001B[39m, shuffle\u001B[38;5;241m=\u001B[39m\u001B[38;5;28;01mTrue\u001B[39;00m, workers\u001B[38;5;241m=\u001B[39m\u001B[38;5;241m24\u001B[39m, use_multiprocessing\u001B[38;5;241m=\u001B[39m\u001B[38;5;28;01mTrue\u001B[39;00m)\n",
      "File \u001B[1;32m~\\Documents\\Epoch III\\citylearn-2022-starter-kit\\venv\\lib\\site-packages\\keras\\utils\\traceback_utils.py:65\u001B[0m, in \u001B[0;36mfilter_traceback.<locals>.error_handler\u001B[1;34m(*args, **kwargs)\u001B[0m\n\u001B[0;32m     63\u001B[0m filtered_tb \u001B[38;5;241m=\u001B[39m \u001B[38;5;28;01mNone\u001B[39;00m\n\u001B[0;32m     64\u001B[0m \u001B[38;5;28;01mtry\u001B[39;00m:\n\u001B[1;32m---> 65\u001B[0m     \u001B[38;5;28;01mreturn\u001B[39;00m fn(\u001B[38;5;241m*\u001B[39margs, \u001B[38;5;241m*\u001B[39m\u001B[38;5;241m*\u001B[39mkwargs)\n\u001B[0;32m     66\u001B[0m \u001B[38;5;28;01mexcept\u001B[39;00m \u001B[38;5;167;01mException\u001B[39;00m \u001B[38;5;28;01mas\u001B[39;00m e:\n\u001B[0;32m     67\u001B[0m     filtered_tb \u001B[38;5;241m=\u001B[39m _process_traceback_frames(e\u001B[38;5;241m.\u001B[39m__traceback__)\n",
      "File \u001B[1;32m~\\Documents\\Epoch III\\citylearn-2022-starter-kit\\venv\\lib\\site-packages\\keras\\engine\\training.py:1564\u001B[0m, in \u001B[0;36mModel.fit\u001B[1;34m(self, x, y, batch_size, epochs, verbose, callbacks, validation_split, validation_data, shuffle, class_weight, sample_weight, initial_epoch, steps_per_epoch, validation_steps, validation_batch_size, validation_freq, max_queue_size, workers, use_multiprocessing)\u001B[0m\n\u001B[0;32m   1556\u001B[0m \u001B[38;5;28;01mwith\u001B[39;00m tf\u001B[38;5;241m.\u001B[39mprofiler\u001B[38;5;241m.\u001B[39mexperimental\u001B[38;5;241m.\u001B[39mTrace(\n\u001B[0;32m   1557\u001B[0m     \u001B[38;5;124m\"\u001B[39m\u001B[38;5;124mtrain\u001B[39m\u001B[38;5;124m\"\u001B[39m,\n\u001B[0;32m   1558\u001B[0m     epoch_num\u001B[38;5;241m=\u001B[39mepoch,\n\u001B[1;32m   (...)\u001B[0m\n\u001B[0;32m   1561\u001B[0m     _r\u001B[38;5;241m=\u001B[39m\u001B[38;5;241m1\u001B[39m,\n\u001B[0;32m   1562\u001B[0m ):\n\u001B[0;32m   1563\u001B[0m     callbacks\u001B[38;5;241m.\u001B[39mon_train_batch_begin(step)\n\u001B[1;32m-> 1564\u001B[0m     tmp_logs \u001B[38;5;241m=\u001B[39m \u001B[38;5;28;43mself\u001B[39;49m\u001B[38;5;241;43m.\u001B[39;49m\u001B[43mtrain_function\u001B[49m\u001B[43m(\u001B[49m\u001B[43miterator\u001B[49m\u001B[43m)\u001B[49m\n\u001B[0;32m   1565\u001B[0m     \u001B[38;5;28;01mif\u001B[39;00m data_handler\u001B[38;5;241m.\u001B[39mshould_sync:\n\u001B[0;32m   1566\u001B[0m         context\u001B[38;5;241m.\u001B[39masync_wait()\n",
      "File \u001B[1;32m~\\Documents\\Epoch III\\citylearn-2022-starter-kit\\venv\\lib\\site-packages\\tensorflow\\python\\util\\traceback_utils.py:150\u001B[0m, in \u001B[0;36mfilter_traceback.<locals>.error_handler\u001B[1;34m(*args, **kwargs)\u001B[0m\n\u001B[0;32m    148\u001B[0m filtered_tb \u001B[38;5;241m=\u001B[39m \u001B[38;5;28;01mNone\u001B[39;00m\n\u001B[0;32m    149\u001B[0m \u001B[38;5;28;01mtry\u001B[39;00m:\n\u001B[1;32m--> 150\u001B[0m   \u001B[38;5;28;01mreturn\u001B[39;00m fn(\u001B[38;5;241m*\u001B[39margs, \u001B[38;5;241m*\u001B[39m\u001B[38;5;241m*\u001B[39mkwargs)\n\u001B[0;32m    151\u001B[0m \u001B[38;5;28;01mexcept\u001B[39;00m \u001B[38;5;167;01mException\u001B[39;00m \u001B[38;5;28;01mas\u001B[39;00m e:\n\u001B[0;32m    152\u001B[0m   filtered_tb \u001B[38;5;241m=\u001B[39m _process_traceback_frames(e\u001B[38;5;241m.\u001B[39m__traceback__)\n",
      "File \u001B[1;32m~\\Documents\\Epoch III\\citylearn-2022-starter-kit\\venv\\lib\\site-packages\\tensorflow\\python\\eager\\def_function.py:915\u001B[0m, in \u001B[0;36mFunction.__call__\u001B[1;34m(self, *args, **kwds)\u001B[0m\n\u001B[0;32m    912\u001B[0m compiler \u001B[38;5;241m=\u001B[39m \u001B[38;5;124m\"\u001B[39m\u001B[38;5;124mxla\u001B[39m\u001B[38;5;124m\"\u001B[39m \u001B[38;5;28;01mif\u001B[39;00m \u001B[38;5;28mself\u001B[39m\u001B[38;5;241m.\u001B[39m_jit_compile \u001B[38;5;28;01melse\u001B[39;00m \u001B[38;5;124m\"\u001B[39m\u001B[38;5;124mnonXla\u001B[39m\u001B[38;5;124m\"\u001B[39m\n\u001B[0;32m    914\u001B[0m \u001B[38;5;28;01mwith\u001B[39;00m OptionalXlaContext(\u001B[38;5;28mself\u001B[39m\u001B[38;5;241m.\u001B[39m_jit_compile):\n\u001B[1;32m--> 915\u001B[0m   result \u001B[38;5;241m=\u001B[39m \u001B[38;5;28mself\u001B[39m\u001B[38;5;241m.\u001B[39m_call(\u001B[38;5;241m*\u001B[39margs, \u001B[38;5;241m*\u001B[39m\u001B[38;5;241m*\u001B[39mkwds)\n\u001B[0;32m    917\u001B[0m new_tracing_count \u001B[38;5;241m=\u001B[39m \u001B[38;5;28mself\u001B[39m\u001B[38;5;241m.\u001B[39mexperimental_get_tracing_count()\n\u001B[0;32m    918\u001B[0m without_tracing \u001B[38;5;241m=\u001B[39m (tracing_count \u001B[38;5;241m==\u001B[39m new_tracing_count)\n",
      "File \u001B[1;32m~\\Documents\\Epoch III\\citylearn-2022-starter-kit\\venv\\lib\\site-packages\\tensorflow\\python\\eager\\def_function.py:947\u001B[0m, in \u001B[0;36mFunction._call\u001B[1;34m(self, *args, **kwds)\u001B[0m\n\u001B[0;32m    944\u001B[0m   \u001B[38;5;28mself\u001B[39m\u001B[38;5;241m.\u001B[39m_lock\u001B[38;5;241m.\u001B[39mrelease()\n\u001B[0;32m    945\u001B[0m   \u001B[38;5;66;03m# In this case we have created variables on the first call, so we run the\u001B[39;00m\n\u001B[0;32m    946\u001B[0m   \u001B[38;5;66;03m# defunned version which is guaranteed to never create variables.\u001B[39;00m\n\u001B[1;32m--> 947\u001B[0m   \u001B[38;5;28;01mreturn\u001B[39;00m \u001B[38;5;28mself\u001B[39m\u001B[38;5;241m.\u001B[39m_stateless_fn(\u001B[38;5;241m*\u001B[39margs, \u001B[38;5;241m*\u001B[39m\u001B[38;5;241m*\u001B[39mkwds)  \u001B[38;5;66;03m# pylint: disable=not-callable\u001B[39;00m\n\u001B[0;32m    948\u001B[0m \u001B[38;5;28;01melif\u001B[39;00m \u001B[38;5;28mself\u001B[39m\u001B[38;5;241m.\u001B[39m_stateful_fn \u001B[38;5;129;01mis\u001B[39;00m \u001B[38;5;129;01mnot\u001B[39;00m \u001B[38;5;28;01mNone\u001B[39;00m:\n\u001B[0;32m    949\u001B[0m   \u001B[38;5;66;03m# Release the lock early so that multiple threads can perform the call\u001B[39;00m\n\u001B[0;32m    950\u001B[0m   \u001B[38;5;66;03m# in parallel.\u001B[39;00m\n\u001B[0;32m    951\u001B[0m   \u001B[38;5;28mself\u001B[39m\u001B[38;5;241m.\u001B[39m_lock\u001B[38;5;241m.\u001B[39mrelease()\n",
      "File \u001B[1;32m~\\Documents\\Epoch III\\citylearn-2022-starter-kit\\venv\\lib\\site-packages\\tensorflow\\python\\eager\\function.py:2496\u001B[0m, in \u001B[0;36mFunction.__call__\u001B[1;34m(self, *args, **kwargs)\u001B[0m\n\u001B[0;32m   2493\u001B[0m \u001B[38;5;28;01mwith\u001B[39;00m \u001B[38;5;28mself\u001B[39m\u001B[38;5;241m.\u001B[39m_lock:\n\u001B[0;32m   2494\u001B[0m   (graph_function,\n\u001B[0;32m   2495\u001B[0m    filtered_flat_args) \u001B[38;5;241m=\u001B[39m \u001B[38;5;28mself\u001B[39m\u001B[38;5;241m.\u001B[39m_maybe_define_function(args, kwargs)\n\u001B[1;32m-> 2496\u001B[0m \u001B[38;5;28;01mreturn\u001B[39;00m \u001B[43mgraph_function\u001B[49m\u001B[38;5;241;43m.\u001B[39;49m\u001B[43m_call_flat\u001B[49m\u001B[43m(\u001B[49m\n\u001B[0;32m   2497\u001B[0m \u001B[43m    \u001B[49m\u001B[43mfiltered_flat_args\u001B[49m\u001B[43m,\u001B[49m\u001B[43m \u001B[49m\u001B[43mcaptured_inputs\u001B[49m\u001B[38;5;241;43m=\u001B[39;49m\u001B[43mgraph_function\u001B[49m\u001B[38;5;241;43m.\u001B[39;49m\u001B[43mcaptured_inputs\u001B[49m\u001B[43m)\u001B[49m\n",
      "File \u001B[1;32m~\\Documents\\Epoch III\\citylearn-2022-starter-kit\\venv\\lib\\site-packages\\tensorflow\\python\\eager\\function.py:1862\u001B[0m, in \u001B[0;36mConcreteFunction._call_flat\u001B[1;34m(self, args, captured_inputs, cancellation_manager)\u001B[0m\n\u001B[0;32m   1858\u001B[0m possible_gradient_type \u001B[38;5;241m=\u001B[39m gradients_util\u001B[38;5;241m.\u001B[39mPossibleTapeGradientTypes(args)\n\u001B[0;32m   1859\u001B[0m \u001B[38;5;28;01mif\u001B[39;00m (possible_gradient_type \u001B[38;5;241m==\u001B[39m gradients_util\u001B[38;5;241m.\u001B[39mPOSSIBLE_GRADIENT_TYPES_NONE\n\u001B[0;32m   1860\u001B[0m     \u001B[38;5;129;01mand\u001B[39;00m executing_eagerly):\n\u001B[0;32m   1861\u001B[0m   \u001B[38;5;66;03m# No tape is watching; skip to running the function.\u001B[39;00m\n\u001B[1;32m-> 1862\u001B[0m   \u001B[38;5;28;01mreturn\u001B[39;00m \u001B[38;5;28mself\u001B[39m\u001B[38;5;241m.\u001B[39m_build_call_outputs(\u001B[38;5;28;43mself\u001B[39;49m\u001B[38;5;241;43m.\u001B[39;49m\u001B[43m_inference_function\u001B[49m\u001B[38;5;241;43m.\u001B[39;49m\u001B[43mcall\u001B[49m\u001B[43m(\u001B[49m\n\u001B[0;32m   1863\u001B[0m \u001B[43m      \u001B[49m\u001B[43mctx\u001B[49m\u001B[43m,\u001B[49m\u001B[43m \u001B[49m\u001B[43margs\u001B[49m\u001B[43m,\u001B[49m\u001B[43m \u001B[49m\u001B[43mcancellation_manager\u001B[49m\u001B[38;5;241;43m=\u001B[39;49m\u001B[43mcancellation_manager\u001B[49m\u001B[43m)\u001B[49m)\n\u001B[0;32m   1864\u001B[0m forward_backward \u001B[38;5;241m=\u001B[39m \u001B[38;5;28mself\u001B[39m\u001B[38;5;241m.\u001B[39m_select_forward_and_backward_functions(\n\u001B[0;32m   1865\u001B[0m     args,\n\u001B[0;32m   1866\u001B[0m     possible_gradient_type,\n\u001B[0;32m   1867\u001B[0m     executing_eagerly)\n\u001B[0;32m   1868\u001B[0m forward_function, args_with_tangents \u001B[38;5;241m=\u001B[39m forward_backward\u001B[38;5;241m.\u001B[39mforward()\n",
      "File \u001B[1;32m~\\Documents\\Epoch III\\citylearn-2022-starter-kit\\venv\\lib\\site-packages\\tensorflow\\python\\eager\\function.py:499\u001B[0m, in \u001B[0;36m_EagerDefinedFunction.call\u001B[1;34m(self, ctx, args, cancellation_manager)\u001B[0m\n\u001B[0;32m    497\u001B[0m \u001B[38;5;28;01mwith\u001B[39;00m _InterpolateFunctionError(\u001B[38;5;28mself\u001B[39m):\n\u001B[0;32m    498\u001B[0m   \u001B[38;5;28;01mif\u001B[39;00m cancellation_manager \u001B[38;5;129;01mis\u001B[39;00m \u001B[38;5;28;01mNone\u001B[39;00m:\n\u001B[1;32m--> 499\u001B[0m     outputs \u001B[38;5;241m=\u001B[39m \u001B[43mexecute\u001B[49m\u001B[38;5;241;43m.\u001B[39;49m\u001B[43mexecute\u001B[49m\u001B[43m(\u001B[49m\n\u001B[0;32m    500\u001B[0m \u001B[43m        \u001B[49m\u001B[38;5;28;43mstr\u001B[39;49m\u001B[43m(\u001B[49m\u001B[38;5;28;43mself\u001B[39;49m\u001B[38;5;241;43m.\u001B[39;49m\u001B[43msignature\u001B[49m\u001B[38;5;241;43m.\u001B[39;49m\u001B[43mname\u001B[49m\u001B[43m)\u001B[49m\u001B[43m,\u001B[49m\n\u001B[0;32m    501\u001B[0m \u001B[43m        \u001B[49m\u001B[43mnum_outputs\u001B[49m\u001B[38;5;241;43m=\u001B[39;49m\u001B[38;5;28;43mself\u001B[39;49m\u001B[38;5;241;43m.\u001B[39;49m\u001B[43m_num_outputs\u001B[49m\u001B[43m,\u001B[49m\n\u001B[0;32m    502\u001B[0m \u001B[43m        \u001B[49m\u001B[43minputs\u001B[49m\u001B[38;5;241;43m=\u001B[39;49m\u001B[43margs\u001B[49m\u001B[43m,\u001B[49m\n\u001B[0;32m    503\u001B[0m \u001B[43m        \u001B[49m\u001B[43mattrs\u001B[49m\u001B[38;5;241;43m=\u001B[39;49m\u001B[43mattrs\u001B[49m\u001B[43m,\u001B[49m\n\u001B[0;32m    504\u001B[0m \u001B[43m        \u001B[49m\u001B[43mctx\u001B[49m\u001B[38;5;241;43m=\u001B[39;49m\u001B[43mctx\u001B[49m\u001B[43m)\u001B[49m\n\u001B[0;32m    505\u001B[0m   \u001B[38;5;28;01melse\u001B[39;00m:\n\u001B[0;32m    506\u001B[0m     outputs \u001B[38;5;241m=\u001B[39m execute\u001B[38;5;241m.\u001B[39mexecute_with_cancellation(\n\u001B[0;32m    507\u001B[0m         \u001B[38;5;28mstr\u001B[39m(\u001B[38;5;28mself\u001B[39m\u001B[38;5;241m.\u001B[39msignature\u001B[38;5;241m.\u001B[39mname),\n\u001B[0;32m    508\u001B[0m         num_outputs\u001B[38;5;241m=\u001B[39m\u001B[38;5;28mself\u001B[39m\u001B[38;5;241m.\u001B[39m_num_outputs,\n\u001B[1;32m   (...)\u001B[0m\n\u001B[0;32m    511\u001B[0m         ctx\u001B[38;5;241m=\u001B[39mctx,\n\u001B[0;32m    512\u001B[0m         cancellation_manager\u001B[38;5;241m=\u001B[39mcancellation_manager)\n",
      "File \u001B[1;32m~\\Documents\\Epoch III\\citylearn-2022-starter-kit\\venv\\lib\\site-packages\\tensorflow\\python\\eager\\execute.py:54\u001B[0m, in \u001B[0;36mquick_execute\u001B[1;34m(op_name, num_outputs, inputs, attrs, ctx, name)\u001B[0m\n\u001B[0;32m     52\u001B[0m \u001B[38;5;28;01mtry\u001B[39;00m:\n\u001B[0;32m     53\u001B[0m   ctx\u001B[38;5;241m.\u001B[39mensure_initialized()\n\u001B[1;32m---> 54\u001B[0m   tensors \u001B[38;5;241m=\u001B[39m \u001B[43mpywrap_tfe\u001B[49m\u001B[38;5;241;43m.\u001B[39;49m\u001B[43mTFE_Py_Execute\u001B[49m\u001B[43m(\u001B[49m\u001B[43mctx\u001B[49m\u001B[38;5;241;43m.\u001B[39;49m\u001B[43m_handle\u001B[49m\u001B[43m,\u001B[49m\u001B[43m \u001B[49m\u001B[43mdevice_name\u001B[49m\u001B[43m,\u001B[49m\u001B[43m \u001B[49m\u001B[43mop_name\u001B[49m\u001B[43m,\u001B[49m\n\u001B[0;32m     55\u001B[0m \u001B[43m                                      \u001B[49m\u001B[43minputs\u001B[49m\u001B[43m,\u001B[49m\u001B[43m \u001B[49m\u001B[43mattrs\u001B[49m\u001B[43m,\u001B[49m\u001B[43m \u001B[49m\u001B[43mnum_outputs\u001B[49m\u001B[43m)\u001B[49m\n\u001B[0;32m     56\u001B[0m \u001B[38;5;28;01mexcept\u001B[39;00m core\u001B[38;5;241m.\u001B[39m_NotOkStatusException \u001B[38;5;28;01mas\u001B[39;00m e:\n\u001B[0;32m     57\u001B[0m   \u001B[38;5;28;01mif\u001B[39;00m name \u001B[38;5;129;01mis\u001B[39;00m \u001B[38;5;129;01mnot\u001B[39;00m \u001B[38;5;28;01mNone\u001B[39;00m:\n",
      "\u001B[1;31mKeyboardInterrupt\u001B[0m: "
     ]
    }
   ],
   "source": [
    "model.fit(X_train_reshaped, y_train, validation_split=0, epochs=300, batch_size=128, shuffle=True, workers=24, use_multiprocessing=True)"
   ],
   "metadata": {
    "collapsed": false
   }
  },
  {
   "cell_type": "code",
   "execution_count": 403,
   "outputs": [],
   "source": [
    "from pickle import dump\n",
    "model.save(\"non_shiftable_load_model.h5\")\n",
    "dump(sc, open(\"non_shiftable_load_scaler.pkl\", \"wb\"))\n",
    "dump(sc2, open(\"non_shiftable_load_scaler_result.pkl\", \"wb\"))"
   ],
   "metadata": {
    "collapsed": false
   }
  },
  {
   "cell_type": "code",
   "execution_count": 251,
   "outputs": [],
   "source": [],
   "metadata": {
    "collapsed": false,
    "pycharm": {
     "name": "#%%\n"
    }
   }
  },
  {
   "cell_type": "code",
   "execution_count": null,
   "outputs": [],
   "source": [],
   "metadata": {
    "collapsed": false,
    "pycharm": {
     "name": "#%%\n"
    }
   }
  },
  {
   "cell_type": "code",
   "execution_count": null,
   "outputs": [],
   "source": [],
   "metadata": {
    "collapsed": false,
    "pycharm": {
     "name": "#%%\n"
    }
   }
  },
  {
   "cell_type": "code",
   "execution_count": null,
   "outputs": [],
   "source": [],
   "metadata": {
    "collapsed": false,
    "pycharm": {
     "name": "#%%\n"
    }
   }
  },
  {
   "cell_type": "code",
   "execution_count": null,
   "outputs": [],
   "source": [],
   "metadata": {
    "collapsed": false,
    "pycharm": {
     "name": "#%%\n"
    }
   }
  },
  {
   "cell_type": "code",
   "execution_count": null,
   "outputs": [],
   "source": [],
   "metadata": {
    "collapsed": false,
    "pycharm": {
     "name": "#%%\n"
    }
   }
  },
  {
   "cell_type": "code",
   "execution_count": null,
   "outputs": [],
   "source": [],
   "metadata": {
    "collapsed": false,
    "pycharm": {
     "name": "#%%\n"
    }
   }
  },
  {
   "cell_type": "code",
   "execution_count": null,
   "outputs": [],
   "source": [],
   "metadata": {
    "collapsed": false,
    "pycharm": {
     "name": "#%%\n"
    }
   }
  },
  {
   "cell_type": "code",
   "execution_count": null,
   "outputs": [],
   "source": [],
   "metadata": {
    "collapsed": false,
    "pycharm": {
     "name": "#%%\n"
    }
   }
  },
  {
   "cell_type": "code",
   "execution_count": null,
   "outputs": [],
   "source": [],
   "metadata": {
    "collapsed": false,
    "pycharm": {
     "name": "#%%\n"
    }
   }
  },
  {
   "cell_type": "code",
   "execution_count": null,
   "outputs": [],
   "source": [],
   "metadata": {
    "collapsed": false,
    "pycharm": {
     "name": "#%%\n"
    }
   }
  },
  {
   "cell_type": "code",
   "execution_count": null,
   "outputs": [],
   "source": [],
   "metadata": {
    "collapsed": false,
    "pycharm": {
     "name": "#%%\n"
    }
   }
  },
  {
   "cell_type": "code",
   "execution_count": 60,
   "outputs": [],
   "source": [
    "# units = dimensionality of the output space\n",
    "\n",
    "\n",
    "def create_RNN(hidden_units, dense_units, input_shape, activation):\n",
    "    model = Sequential()\n",
    "    model.add(SimpleRNN(hidden_units, input_shape=input_shape,\n",
    "                        activation=activation[0]))\n",
    "    model.add(Dense(units=dense_units, activation=activation[1]))\n",
    "    model.compile(loss='mean_squared_error', optimizer='adam')\n",
    "    return model\n",
    "\n",
    "demo_model = create_RNN(hidden_units=2, dense_units=1, input_shape=(3,1), activation=['relu', 'relu'])"
   ],
   "metadata": {
    "collapsed": false,
    "pycharm": {
     "name": "#%%\n"
    }
   }
  },
  {
   "cell_type": "code",
   "execution_count": null,
   "outputs": [],
   "source": [],
   "metadata": {
    "collapsed": false,
    "pycharm": {
     "name": "#%%\n"
    }
   }
  }
 ],
 "metadata": {
  "kernelspec": {
   "display_name": "Python 3",
   "language": "python",
   "name": "python3"
  },
  "language_info": {
   "codemirror_mode": {
    "name": "ipython",
    "version": 2
   },
   "file_extension": ".py",
   "mimetype": "text/x-python",
   "name": "python",
   "nbconvert_exporter": "python",
   "pygments_lexer": "ipython2",
   "version": "2.7.6"
  }
 },
 "nbformat": 4,
 "nbformat_minor": 0
}
