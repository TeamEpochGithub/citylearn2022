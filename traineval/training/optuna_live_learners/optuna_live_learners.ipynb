{
 "cells": [
  {
   "cell_type": "code",
   "execution_count": 1,
   "metadata": {
    "collapsed": true
   },
   "outputs": [],
   "source": [
    "from hyperopt import fmin, hp, tpe, SparkTrials, STATUS_OK\n"
   ]
  },
  {
   "cell_type": "code",
   "execution_count": 2,
   "outputs": [],
   "source": [
    "def get_params():\n",
    "    search_space = {\"price_1\": hp.uniform(\"price_1\", -1, 1),\n",
    "                    \"price_2\": hp.uniform(\"price_2\", -1, 1),\n",
    "                    \"price_3\": hp.uniform(\"price_3\", -1, 1),\n",
    "                    \"price_pred_1\": hp.uniform(\"price_pred_1\", -1, 1),\n",
    "                    \"price_pred_2\": hp.uniform(\"price_pred_2\", -1, 1),\n",
    "                    \"price_pred_3\": hp.uniform(\"price_pred_3\", -1, 1),\n",
    "                    \"carbon_1\": hp.uniform(\"carbon_1\", -1, 1),\n",
    "                    \"carbon_2\": hp.uniform(\"carbon_2\", -1, 1),\n",
    "                    \"carbon_3\": hp.uniform(\"carbon_3\", -1, 1),\n",
    "                    \"solar_1\": hp.uniform(\"solar_1\", -1, 1),\n",
    "                    \"solar_2\": hp.uniform(\"solar_2\", -1, 1),\n",
    "                    \"solar_3\": hp.uniform(\"solar_3\", -1, 1),\n",
    "                    \"solar_diffused_1\": hp.uniform(\"solar_diffused_1\", -1, 1),\n",
    "                    \"solar_diffused_2\": hp.uniform(\"solar_diffused_2\", -1, 1),\n",
    "                    \"solar_diffused_3\": hp.uniform(\"solar_diffused_3\", -1, 1),\n",
    "                    \"solar_direct_1\": hp.uniform(\"solar_direct_1\", -1, 1),\n",
    "                    \"solar_direct_2\": hp.uniform(\"solar_direct_2\", -1, 1),\n",
    "                    \"solar_direct_3\": hp.uniform(\"solar_direct_3\", -1, 1),\n",
    "                    \"hour_1\": hp.uniform(\"hour_1\", -1, 1),\n",
    "                    \"hour_2\": hp.uniform(\"hour_2\", -1, 1),\n",
    "                    \"hour_3\": hp.uniform(\"hour_3\", -1, 1),\n",
    "                    \"storage_1\": hp.uniform(\"storage_1\", -1, 1),\n",
    "                    \"storage_2\": hp.uniform(\"storage_2\", -1, 1),\n",
    "                    \"storage_3\": hp.uniform(\"storage_3\", -1, 1),\n",
    "                    \"consumption_1\": hp.uniform(\"consumption_1\", -1, 1),\n",
    "                    \"consumption_2\": hp.uniform(\"consumption_2\", -1, 1),\n",
    "                    \"consumption_3\": hp.uniform(\"consumption_3\", -1, 1),\n",
    "                    \"load_1\": hp.uniform(\"load_1\", -1, 1),\n",
    "                    \"load_2\": hp.uniform(\"load_2\", -1, 1),\n",
    "                    \"load_3\": hp.uniform(\"load_3\", -1, 1),\n",
    "                    \"temp_1\": hp.uniform(\"temp_1\", -1, 1),\n",
    "                    \"temp_2\": hp.uniform(\"temp_2\", -1, 1),\n",
    "                    \"temp_3\": hp.uniform(\"temp_3\", -1, 1),\n",
    "                    \"humidity_1\": hp.uniform(\"humidity_1\", -1, 1),\n",
    "                    \"humidity_2\": hp.uniform(\"humidity_2\", -1, 1),\n",
    "                    \"humidity_3\": hp.uniform(\"humidity_3\", -1, 1),\n",
    "                    }\n",
    "    return search_space"
   ],
   "metadata": {
    "collapsed": false
   }
  },
  {
   "cell_type": "code",
   "execution_count": 3,
   "outputs": [
    {
     "ename": "SyntaxError",
     "evalue": "invalid syntax (227631017.py, line 4)",
     "output_type": "error",
     "traceback": [
      "\u001B[1;36m  Cell \u001B[1;32mIn [3], line 4\u001B[1;36m\u001B[0m\n\u001B[1;33m    fn=evaluate,`\u001B[0m\n\u001B[1;37m                ^\u001B[0m\n\u001B[1;31mSyntaxError\u001B[0m\u001B[1;31m:\u001B[0m invalid syntax\n"
     ]
    }
   ],
   "source": [
    "from traineval.evaluation.tune_evaluation import evaluate\n",
    "\n",
    "best_params = fmin(\n",
    "    fn=evaluate,\n",
    "    space=get_params(),\n",
    "    algo=tpe.suggest,  # NOTE: You cannot use atpe.suggest with SparkTrials, then use tpe.suggest\n",
    "    max_evals=8000,\n",
    "    trials=SparkTrials()\n",
    ")\n",
    "best_params"
   ],
   "metadata": {
    "collapsed": false
   }
  },
  {
   "cell_type": "code",
   "execution_count": null,
   "outputs": [],
   "source": [],
   "metadata": {
    "collapsed": false
   }
  }
 ],
 "metadata": {
  "kernelspec": {
   "display_name": "Python 3",
   "language": "python",
   "name": "python3"
  },
  "language_info": {
   "codemirror_mode": {
    "name": "ipython",
    "version": 2
   },
   "file_extension": ".py",
   "mimetype": "text/x-python",
   "name": "python",
   "nbconvert_exporter": "python",
   "pygments_lexer": "ipython2",
   "version": "2.7.6"
  }
 },
 "nbformat": 4,
 "nbformat_minor": 0
}
