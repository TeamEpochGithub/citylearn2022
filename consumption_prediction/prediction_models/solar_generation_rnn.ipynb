{
 "cells": [
  {
   "cell_type": "code",
   "execution_count": 130,
   "metadata": {
    "collapsed": true
   },
   "outputs": [],
   "source": [
    "from pandas import read_csv\n",
    "import numpy as np\n",
    "from tensorflow import keras\n",
    "from keras.models import Sequential\n",
    "from keras.layers import Dense, SimpleRNN\n",
    "from sklearn.preprocessing import MinMaxScaler\n",
    "from sklearn.metrics import mean_squared_error\n",
    "import math\n",
    "import matplotlib.pyplot as plt\n"
   ]
  },
  {
   "cell_type": "code",
   "execution_count": 131,
   "outputs": [
    {
     "data": {
      "text/plain": "       month  day_type  hour  outdoor_dry_bulb  \\\n0        8.0       1.0   1.0              20.1   \n1        8.0       1.0   2.0              19.7   \n2        8.0       1.0   3.0              19.3   \n3        8.0       1.0   4.0              18.9   \n4        8.0       1.0   5.0              18.3   \n...      ...       ...   ...               ...   \n43785    7.0       1.0  18.0              21.1   \n43786    7.0       1.0  19.0              20.6   \n43787    7.0       1.0  20.0              21.1   \n43788    7.0       1.0  21.0              21.7   \n43789    7.0       1.0  22.0              21.3   \n\n       outdoor_dry_bulb_temperature_predicted_6h  \\\n0                                           19.4   \n1                                           21.1   \n2                                           22.2   \n3                                           21.7   \n4                                           22.2   \n...                                          ...   \n43785                                       20.0   \n43786                                       20.1   \n43787                                       19.7   \n43788                                       19.3   \n43789                                       18.9   \n\n       outdoor_dry_bulb_temperature_predicted_12h  \\\n0                                            22.8   \n1                                            22.2   \n2                                            22.8   \n3                                            22.2   \n4                                            21.1   \n...                                           ...   \n43785                                        18.3   \n43786                                        19.4   \n43787                                        21.1   \n43788                                        22.2   \n43789                                        21.7   \n\n       outdoor_dry_bulb_temperature_predicted_24h  outdoor_relative_humidity  \\\n0                                            19.4                       79.0   \n1                                            19.4                       78.0   \n2                                            19.4                       78.0   \n3                                            18.9                       78.0   \n4                                            18.3                       81.0   \n...                                           ...                        ...   \n43785                                        20.6                       81.0   \n43786                                        20.6                       84.0   \n43787                                        20.0                       81.0   \n43788                                        20.6                       79.0   \n43789                                        20.6                       76.0   \n\n       outdoor_relative_humidity_predicted_6h  \\\n0                                        79.0   \n1                                        73.0   \n2                                        71.0   \n3                                        73.0   \n4                                        71.0   \n...                                       ...   \n43785                                    84.0   \n43786                                    79.0   \n43787                                    78.0   \n43788                                    78.0   \n43789                                    78.0   \n\n       outdoor_relative_humidity_predicted_12h  ...  \\\n0                                         71.0  ...   \n1                                         73.0  ...   \n2                                         71.0  ...   \n3                                         71.0  ...   \n4                                         76.0  ...   \n...                                        ...  ...   \n43785                                     81.0  ...   \n43786                                     79.0  ...   \n43787                                     73.0  ...   \n43788                                     71.0  ...   \n43789                                     73.0  ...   \n\n       direct_solar_irradiance_predicted_6h  \\\n0                                     444.0   \n1                                     592.0   \n2                                     491.0   \n3                                     734.0   \n4                                     811.0   \n...                                     ...   \n43785                                   0.0   \n43786                                   0.0   \n43787                                   0.0   \n43788                                   0.0   \n43789                                   0.0   \n\n       direct_solar_irradiance_predicted_12h  \\\n0                                      747.0   \n1                                      291.0   \n2                                      153.0   \n3                                      174.0   \n4                                      396.0   \n...                                      ...   \n43785                                  100.0   \n43786                                  444.0   \n43787                                  592.0   \n43788                                  491.0   \n43789                                  734.0   \n\n       direct_solar_irradiance_predicted_24h  carbon_intensity  \\\n0                                        0.0          0.157319   \n1                                        0.0          0.154503   \n2                                        0.0          0.150945   \n3                                        0.0          0.151820   \n4                                        0.0          0.158088   \n...                                      ...               ...   \n43785                                  320.0          0.225739   \n43786                                  143.0          0.222553   \n43787                                    0.0          0.216094   \n43788                                    0.0          0.215501   \n43789                                    0.0          0.202315   \n\n       solar_generation  electricity_pricing  \\\n0              0.000000                 0.22   \n1              0.000000                 0.22   \n2              0.000000                 0.22   \n3              0.000000                 0.22   \n4              0.000000                 0.22   \n...                 ...                  ...   \n43785          0.124717                 0.54   \n43786          0.016283                 0.54   \n43787          0.000000                 0.54   \n43788          0.000000                 0.22   \n43789          0.000000                 0.22   \n\n       electricity_pricing_predicted_6h  electricity_pricing_predicted_12h  \\\n0                                  0.22                               0.22   \n1                                  0.22                               0.22   \n2                                  0.22                               0.22   \n3                                  0.22                               0.54   \n4                                  0.22                               0.54   \n...                                 ...                                ...   \n43785                              0.22                               0.22   \n43786                              0.22                               0.22   \n43787                              0.22                               0.22   \n43788                              0.22                               0.22   \n43789                              0.22                               0.22   \n\n       electricity_pricing_predicted_24h  solar_generation_future  \n0                                   0.22                 0.000000  \n1                                   0.22                 0.000000  \n2                                   0.22                 0.000000  \n3                                   0.22                 0.000000  \n4                                   0.22                 0.058017  \n...                                  ...                      ...  \n43785                               0.54                 0.016283  \n43786                               0.54                 0.000000  \n43787                               0.54                 0.000000  \n43788                               0.22                 0.000000  \n43789                               0.22                 0.000000  \n\n[43790 rows x 26 columns]",
      "text/html": "<div>\n<style scoped>\n    .dataframe tbody tr th:only-of-type {\n        vertical-align: middle;\n    }\n\n    .dataframe tbody tr th {\n        vertical-align: top;\n    }\n\n    .dataframe thead th {\n        text-align: right;\n    }\n</style>\n<table border=\"1\" class=\"dataframe\">\n  <thead>\n    <tr style=\"text-align: right;\">\n      <th></th>\n      <th>month</th>\n      <th>day_type</th>\n      <th>hour</th>\n      <th>outdoor_dry_bulb</th>\n      <th>outdoor_dry_bulb_temperature_predicted_6h</th>\n      <th>outdoor_dry_bulb_temperature_predicted_12h</th>\n      <th>outdoor_dry_bulb_temperature_predicted_24h</th>\n      <th>outdoor_relative_humidity</th>\n      <th>outdoor_relative_humidity_predicted_6h</th>\n      <th>outdoor_relative_humidity_predicted_12h</th>\n      <th>...</th>\n      <th>direct_solar_irradiance_predicted_6h</th>\n      <th>direct_solar_irradiance_predicted_12h</th>\n      <th>direct_solar_irradiance_predicted_24h</th>\n      <th>carbon_intensity</th>\n      <th>solar_generation</th>\n      <th>electricity_pricing</th>\n      <th>electricity_pricing_predicted_6h</th>\n      <th>electricity_pricing_predicted_12h</th>\n      <th>electricity_pricing_predicted_24h</th>\n      <th>solar_generation_future</th>\n    </tr>\n  </thead>\n  <tbody>\n    <tr>\n      <th>0</th>\n      <td>8.0</td>\n      <td>1.0</td>\n      <td>1.0</td>\n      <td>20.1</td>\n      <td>19.4</td>\n      <td>22.8</td>\n      <td>19.4</td>\n      <td>79.0</td>\n      <td>79.0</td>\n      <td>71.0</td>\n      <td>...</td>\n      <td>444.0</td>\n      <td>747.0</td>\n      <td>0.0</td>\n      <td>0.157319</td>\n      <td>0.000000</td>\n      <td>0.22</td>\n      <td>0.22</td>\n      <td>0.22</td>\n      <td>0.22</td>\n      <td>0.000000</td>\n    </tr>\n    <tr>\n      <th>1</th>\n      <td>8.0</td>\n      <td>1.0</td>\n      <td>2.0</td>\n      <td>19.7</td>\n      <td>21.1</td>\n      <td>22.2</td>\n      <td>19.4</td>\n      <td>78.0</td>\n      <td>73.0</td>\n      <td>73.0</td>\n      <td>...</td>\n      <td>592.0</td>\n      <td>291.0</td>\n      <td>0.0</td>\n      <td>0.154503</td>\n      <td>0.000000</td>\n      <td>0.22</td>\n      <td>0.22</td>\n      <td>0.22</td>\n      <td>0.22</td>\n      <td>0.000000</td>\n    </tr>\n    <tr>\n      <th>2</th>\n      <td>8.0</td>\n      <td>1.0</td>\n      <td>3.0</td>\n      <td>19.3</td>\n      <td>22.2</td>\n      <td>22.8</td>\n      <td>19.4</td>\n      <td>78.0</td>\n      <td>71.0</td>\n      <td>71.0</td>\n      <td>...</td>\n      <td>491.0</td>\n      <td>153.0</td>\n      <td>0.0</td>\n      <td>0.150945</td>\n      <td>0.000000</td>\n      <td>0.22</td>\n      <td>0.22</td>\n      <td>0.22</td>\n      <td>0.22</td>\n      <td>0.000000</td>\n    </tr>\n    <tr>\n      <th>3</th>\n      <td>8.0</td>\n      <td>1.0</td>\n      <td>4.0</td>\n      <td>18.9</td>\n      <td>21.7</td>\n      <td>22.2</td>\n      <td>18.9</td>\n      <td>78.0</td>\n      <td>73.0</td>\n      <td>71.0</td>\n      <td>...</td>\n      <td>734.0</td>\n      <td>174.0</td>\n      <td>0.0</td>\n      <td>0.151820</td>\n      <td>0.000000</td>\n      <td>0.22</td>\n      <td>0.22</td>\n      <td>0.54</td>\n      <td>0.22</td>\n      <td>0.000000</td>\n    </tr>\n    <tr>\n      <th>4</th>\n      <td>8.0</td>\n      <td>1.0</td>\n      <td>5.0</td>\n      <td>18.3</td>\n      <td>22.2</td>\n      <td>21.1</td>\n      <td>18.3</td>\n      <td>81.0</td>\n      <td>71.0</td>\n      <td>76.0</td>\n      <td>...</td>\n      <td>811.0</td>\n      <td>396.0</td>\n      <td>0.0</td>\n      <td>0.158088</td>\n      <td>0.000000</td>\n      <td>0.22</td>\n      <td>0.22</td>\n      <td>0.54</td>\n      <td>0.22</td>\n      <td>0.058017</td>\n    </tr>\n    <tr>\n      <th>...</th>\n      <td>...</td>\n      <td>...</td>\n      <td>...</td>\n      <td>...</td>\n      <td>...</td>\n      <td>...</td>\n      <td>...</td>\n      <td>...</td>\n      <td>...</td>\n      <td>...</td>\n      <td>...</td>\n      <td>...</td>\n      <td>...</td>\n      <td>...</td>\n      <td>...</td>\n      <td>...</td>\n      <td>...</td>\n      <td>...</td>\n      <td>...</td>\n      <td>...</td>\n      <td>...</td>\n    </tr>\n    <tr>\n      <th>43785</th>\n      <td>7.0</td>\n      <td>1.0</td>\n      <td>18.0</td>\n      <td>21.1</td>\n      <td>20.0</td>\n      <td>18.3</td>\n      <td>20.6</td>\n      <td>81.0</td>\n      <td>84.0</td>\n      <td>81.0</td>\n      <td>...</td>\n      <td>0.0</td>\n      <td>100.0</td>\n      <td>320.0</td>\n      <td>0.225739</td>\n      <td>0.124717</td>\n      <td>0.54</td>\n      <td>0.22</td>\n      <td>0.22</td>\n      <td>0.54</td>\n      <td>0.016283</td>\n    </tr>\n    <tr>\n      <th>43786</th>\n      <td>7.0</td>\n      <td>1.0</td>\n      <td>19.0</td>\n      <td>20.6</td>\n      <td>20.1</td>\n      <td>19.4</td>\n      <td>20.6</td>\n      <td>84.0</td>\n      <td>79.0</td>\n      <td>79.0</td>\n      <td>...</td>\n      <td>0.0</td>\n      <td>444.0</td>\n      <td>143.0</td>\n      <td>0.222553</td>\n      <td>0.016283</td>\n      <td>0.54</td>\n      <td>0.22</td>\n      <td>0.22</td>\n      <td>0.54</td>\n      <td>0.000000</td>\n    </tr>\n    <tr>\n      <th>43787</th>\n      <td>7.0</td>\n      <td>1.0</td>\n      <td>20.0</td>\n      <td>21.1</td>\n      <td>19.7</td>\n      <td>21.1</td>\n      <td>20.0</td>\n      <td>81.0</td>\n      <td>78.0</td>\n      <td>73.0</td>\n      <td>...</td>\n      <td>0.0</td>\n      <td>592.0</td>\n      <td>0.0</td>\n      <td>0.216094</td>\n      <td>0.000000</td>\n      <td>0.54</td>\n      <td>0.22</td>\n      <td>0.22</td>\n      <td>0.54</td>\n      <td>0.000000</td>\n    </tr>\n    <tr>\n      <th>43788</th>\n      <td>7.0</td>\n      <td>1.0</td>\n      <td>21.0</td>\n      <td>21.7</td>\n      <td>19.3</td>\n      <td>22.2</td>\n      <td>20.6</td>\n      <td>79.0</td>\n      <td>78.0</td>\n      <td>71.0</td>\n      <td>...</td>\n      <td>0.0</td>\n      <td>491.0</td>\n      <td>0.0</td>\n      <td>0.215501</td>\n      <td>0.000000</td>\n      <td>0.22</td>\n      <td>0.22</td>\n      <td>0.22</td>\n      <td>0.22</td>\n      <td>0.000000</td>\n    </tr>\n    <tr>\n      <th>43789</th>\n      <td>7.0</td>\n      <td>1.0</td>\n      <td>22.0</td>\n      <td>21.3</td>\n      <td>18.9</td>\n      <td>21.7</td>\n      <td>20.6</td>\n      <td>76.0</td>\n      <td>78.0</td>\n      <td>73.0</td>\n      <td>...</td>\n      <td>0.0</td>\n      <td>734.0</td>\n      <td>0.0</td>\n      <td>0.202315</td>\n      <td>0.000000</td>\n      <td>0.22</td>\n      <td>0.22</td>\n      <td>0.22</td>\n      <td>0.22</td>\n      <td>0.000000</td>\n    </tr>\n  </tbody>\n</table>\n<p>43790 rows × 26 columns</p>\n</div>"
     },
     "execution_count": 131,
     "metadata": {},
     "output_type": "execute_result"
    }
   ],
   "source": [
    "import pandas as pd\n",
    "from data import citylearn_challenge_2022_phase_1 as competition_data\n",
    "import os.path as osp\n",
    "\n",
    "solargen_data_path = osp.join(osp.dirname(competition_data.__file__), \"solar_data.csv\")\n",
    "solargen_data = pd.read_csv(solargen_data_path)\n",
    "\n",
    "# for i in range(5):\n",
    "#     plt.plot(solargen_data[\"non_shiftable_load\"][i*8760 : 8760 + i*8760])\n",
    "#     plt.show()\n",
    "solargen_data"
   ],
   "metadata": {
    "collapsed": false
   }
  },
  {
   "cell_type": "code",
   "execution_count": 132,
   "outputs": [],
   "source": [
    "#\"month\", \"hour\", \"outdoor_dry_bulb\", \"outdoor_dry_bulb_temperature_predicted_6h\", \"outdoor_relative_humidity\", \"outdoor_relative_humidity_predicted_6h\", \"diffuse_solar_irradiance\", \"diffuse_solar_irradiance_predicted_6h\", \"diffuse_solar_irradiance_predicted_24h\", \"direct_solar_irradiance\", \"direct_solar_irradiance_predicted_6h\", \"direct_solar_irradiance_predicted_24h\", \"electricity_pricing\", \"electricity_pricing_predicted_6h\", \"electricity_pricing_predicted_24h\"\n",
    "\n",
    "selected_params = [\"solar_generation\", \"direct_solar_irradiance_predicted_24h\", \"diffuse_solar_irradiance\", \"solar_generation\", \"month\", \"outdoor_dry_bulb\", \"outdoor_relative_humidity\", \"outdoor_dry_bulb_temperature_predicted_6h\", \"direct_solar_irradiance_predicted_24h\", \"hour\", \"diffuse_solar_irradiance_predicted_6h\", \"outdoor_relative_humidity_predicted_6h\", \"direct_solar_irradiance\", \"direct_solar_irradiance_predicted_6h\", \"solar_generation_future\"]\n",
    "solargen_data = solargen_data[selected_params]"
   ],
   "metadata": {
    "collapsed": false
   }
  },
  {
   "cell_type": "code",
   "execution_count": 133,
   "outputs": [
    {
     "data": {
      "text/plain": "       solar_generation  direct_solar_irradiance_predicted_24h  \\\n0              0.000000                                    0.0   \n1              0.000000                                    0.0   \n2              0.000000                                    0.0   \n3              0.000000                                    0.0   \n4              0.000000                                    0.0   \n...                 ...                                    ...   \n43785          0.124717                                  320.0   \n43786          0.016283                                  143.0   \n43787          0.000000                                    0.0   \n43788          0.000000                                    0.0   \n43789          0.000000                                    0.0   \n\n       diffuse_solar_irradiance  solar_generation  month  outdoor_dry_bulb  \\\n0                           0.0          0.000000    8.0              20.1   \n1                           0.0          0.000000    8.0              19.7   \n2                           0.0          0.000000    8.0              19.3   \n3                           0.0          0.000000    8.0              18.9   \n4                           0.0          0.000000    8.0              18.3   \n...                         ...               ...    ...               ...   \n43785                     218.0          0.124717    7.0              21.1   \n43786                      26.0          0.016283    7.0              20.6   \n43787                       0.0          0.000000    7.0              21.1   \n43788                       0.0          0.000000    7.0              21.7   \n43789                       0.0          0.000000    7.0              21.3   \n\n       outdoor_relative_humidity  outdoor_dry_bulb_temperature_predicted_6h  \\\n0                           79.0                                       19.4   \n1                           78.0                                       21.1   \n2                           78.0                                       22.2   \n3                           78.0                                       21.7   \n4                           81.0                                       22.2   \n...                          ...                                        ...   \n43785                       81.0                                       20.0   \n43786                       84.0                                       20.1   \n43787                       81.0                                       19.7   \n43788                       79.0                                       19.3   \n43789                       76.0                                       18.9   \n\n       direct_solar_irradiance_predicted_24h  hour  \\\n0                                        0.0   1.0   \n1                                        0.0   2.0   \n2                                        0.0   3.0   \n3                                        0.0   4.0   \n4                                        0.0   5.0   \n...                                      ...   ...   \n43785                                  320.0  18.0   \n43786                                  143.0  19.0   \n43787                                    0.0  20.0   \n43788                                    0.0  21.0   \n43789                                    0.0  22.0   \n\n       diffuse_solar_irradiance_predicted_6h  \\\n0                                      201.0   \n1                                      420.0   \n2                                      554.0   \n3                                      778.0   \n4                                      903.0   \n...                                      ...   \n43785                                    0.0   \n43786                                    0.0   \n43787                                    0.0   \n43788                                    0.0   \n43789                                    0.0   \n\n       outdoor_relative_humidity_predicted_6h  direct_solar_irradiance  \\\n0                                        79.0                      0.0   \n1                                        73.0                      0.0   \n2                                        71.0                      0.0   \n3                                        73.0                      0.0   \n4                                        71.0                      0.0   \n...                                       ...                      ...   \n43785                                    84.0                    289.0   \n43786                                    79.0                    130.0   \n43787                                    78.0                      0.0   \n43788                                    78.0                      0.0   \n43789                                    78.0                      0.0   \n\n       direct_solar_irradiance_predicted_6h  solar_generation_future  \n0                                     444.0                 0.000000  \n1                                     592.0                 0.000000  \n2                                     491.0                 0.000000  \n3                                     734.0                 0.000000  \n4                                     811.0                 0.058017  \n...                                     ...                      ...  \n43785                                   0.0                 0.016283  \n43786                                   0.0                 0.000000  \n43787                                   0.0                 0.000000  \n43788                                   0.0                 0.000000  \n43789                                   0.0                 0.000000  \n\n[43790 rows x 15 columns]",
      "text/html": "<div>\n<style scoped>\n    .dataframe tbody tr th:only-of-type {\n        vertical-align: middle;\n    }\n\n    .dataframe tbody tr th {\n        vertical-align: top;\n    }\n\n    .dataframe thead th {\n        text-align: right;\n    }\n</style>\n<table border=\"1\" class=\"dataframe\">\n  <thead>\n    <tr style=\"text-align: right;\">\n      <th></th>\n      <th>solar_generation</th>\n      <th>direct_solar_irradiance_predicted_24h</th>\n      <th>diffuse_solar_irradiance</th>\n      <th>solar_generation</th>\n      <th>month</th>\n      <th>outdoor_dry_bulb</th>\n      <th>outdoor_relative_humidity</th>\n      <th>outdoor_dry_bulb_temperature_predicted_6h</th>\n      <th>direct_solar_irradiance_predicted_24h</th>\n      <th>hour</th>\n      <th>diffuse_solar_irradiance_predicted_6h</th>\n      <th>outdoor_relative_humidity_predicted_6h</th>\n      <th>direct_solar_irradiance</th>\n      <th>direct_solar_irradiance_predicted_6h</th>\n      <th>solar_generation_future</th>\n    </tr>\n  </thead>\n  <tbody>\n    <tr>\n      <th>0</th>\n      <td>0.000000</td>\n      <td>0.0</td>\n      <td>0.0</td>\n      <td>0.000000</td>\n      <td>8.0</td>\n      <td>20.1</td>\n      <td>79.0</td>\n      <td>19.4</td>\n      <td>0.0</td>\n      <td>1.0</td>\n      <td>201.0</td>\n      <td>79.0</td>\n      <td>0.0</td>\n      <td>444.0</td>\n      <td>0.000000</td>\n    </tr>\n    <tr>\n      <th>1</th>\n      <td>0.000000</td>\n      <td>0.0</td>\n      <td>0.0</td>\n      <td>0.000000</td>\n      <td>8.0</td>\n      <td>19.7</td>\n      <td>78.0</td>\n      <td>21.1</td>\n      <td>0.0</td>\n      <td>2.0</td>\n      <td>420.0</td>\n      <td>73.0</td>\n      <td>0.0</td>\n      <td>592.0</td>\n      <td>0.000000</td>\n    </tr>\n    <tr>\n      <th>2</th>\n      <td>0.000000</td>\n      <td>0.0</td>\n      <td>0.0</td>\n      <td>0.000000</td>\n      <td>8.0</td>\n      <td>19.3</td>\n      <td>78.0</td>\n      <td>22.2</td>\n      <td>0.0</td>\n      <td>3.0</td>\n      <td>554.0</td>\n      <td>71.0</td>\n      <td>0.0</td>\n      <td>491.0</td>\n      <td>0.000000</td>\n    </tr>\n    <tr>\n      <th>3</th>\n      <td>0.000000</td>\n      <td>0.0</td>\n      <td>0.0</td>\n      <td>0.000000</td>\n      <td>8.0</td>\n      <td>18.9</td>\n      <td>78.0</td>\n      <td>21.7</td>\n      <td>0.0</td>\n      <td>4.0</td>\n      <td>778.0</td>\n      <td>73.0</td>\n      <td>0.0</td>\n      <td>734.0</td>\n      <td>0.000000</td>\n    </tr>\n    <tr>\n      <th>4</th>\n      <td>0.000000</td>\n      <td>0.0</td>\n      <td>0.0</td>\n      <td>0.000000</td>\n      <td>8.0</td>\n      <td>18.3</td>\n      <td>81.0</td>\n      <td>22.2</td>\n      <td>0.0</td>\n      <td>5.0</td>\n      <td>903.0</td>\n      <td>71.0</td>\n      <td>0.0</td>\n      <td>811.0</td>\n      <td>0.058017</td>\n    </tr>\n    <tr>\n      <th>...</th>\n      <td>...</td>\n      <td>...</td>\n      <td>...</td>\n      <td>...</td>\n      <td>...</td>\n      <td>...</td>\n      <td>...</td>\n      <td>...</td>\n      <td>...</td>\n      <td>...</td>\n      <td>...</td>\n      <td>...</td>\n      <td>...</td>\n      <td>...</td>\n      <td>...</td>\n    </tr>\n    <tr>\n      <th>43785</th>\n      <td>0.124717</td>\n      <td>320.0</td>\n      <td>218.0</td>\n      <td>0.124717</td>\n      <td>7.0</td>\n      <td>21.1</td>\n      <td>81.0</td>\n      <td>20.0</td>\n      <td>320.0</td>\n      <td>18.0</td>\n      <td>0.0</td>\n      <td>84.0</td>\n      <td>289.0</td>\n      <td>0.0</td>\n      <td>0.016283</td>\n    </tr>\n    <tr>\n      <th>43786</th>\n      <td>0.016283</td>\n      <td>143.0</td>\n      <td>26.0</td>\n      <td>0.016283</td>\n      <td>7.0</td>\n      <td>20.6</td>\n      <td>84.0</td>\n      <td>20.1</td>\n      <td>143.0</td>\n      <td>19.0</td>\n      <td>0.0</td>\n      <td>79.0</td>\n      <td>130.0</td>\n      <td>0.0</td>\n      <td>0.000000</td>\n    </tr>\n    <tr>\n      <th>43787</th>\n      <td>0.000000</td>\n      <td>0.0</td>\n      <td>0.0</td>\n      <td>0.000000</td>\n      <td>7.0</td>\n      <td>21.1</td>\n      <td>81.0</td>\n      <td>19.7</td>\n      <td>0.0</td>\n      <td>20.0</td>\n      <td>0.0</td>\n      <td>78.0</td>\n      <td>0.0</td>\n      <td>0.0</td>\n      <td>0.000000</td>\n    </tr>\n    <tr>\n      <th>43788</th>\n      <td>0.000000</td>\n      <td>0.0</td>\n      <td>0.0</td>\n      <td>0.000000</td>\n      <td>7.0</td>\n      <td>21.7</td>\n      <td>79.0</td>\n      <td>19.3</td>\n      <td>0.0</td>\n      <td>21.0</td>\n      <td>0.0</td>\n      <td>78.0</td>\n      <td>0.0</td>\n      <td>0.0</td>\n      <td>0.000000</td>\n    </tr>\n    <tr>\n      <th>43789</th>\n      <td>0.000000</td>\n      <td>0.0</td>\n      <td>0.0</td>\n      <td>0.000000</td>\n      <td>7.0</td>\n      <td>21.3</td>\n      <td>76.0</td>\n      <td>18.9</td>\n      <td>0.0</td>\n      <td>22.0</td>\n      <td>0.0</td>\n      <td>78.0</td>\n      <td>0.0</td>\n      <td>0.0</td>\n      <td>0.000000</td>\n    </tr>\n  </tbody>\n</table>\n<p>43790 rows × 15 columns</p>\n</div>"
     },
     "execution_count": 133,
     "metadata": {},
     "output_type": "execute_result"
    }
   ],
   "source": [
    "solargen_data"
   ],
   "metadata": {
    "collapsed": false
   }
  },
  {
   "cell_type": "code",
   "execution_count": 134,
   "outputs": [
    {
     "name": "stdout",
     "output_type": "stream",
     "text": [
      "(43790, 14)\n",
      "(43790, 1)\n"
     ]
    }
   ],
   "source": [
    "from sklearn.preprocessing import StandardScaler\n",
    "sc = StandardScaler()\n",
    "# solargen_data = solargen_data[0:8760]\n",
    "df_load_scaled = solargen_data.iloc[: , :-1]\n",
    "df_load_scaled = sc.fit_transform(df_load_scaled)\n",
    "print(df_load_scaled.shape)\n",
    "\n",
    "sc2 = StandardScaler()\n",
    "df_load_scaled_y = sc2.fit_transform(solargen_data[[\"solar_generation_future\"]])\n",
    "print(df_load_scaled_y.shape)"
   ],
   "metadata": {
    "collapsed": false
   }
  },
  {
   "cell_type": "code",
   "execution_count": 135,
   "outputs": [
    {
     "name": "stdout",
     "output_type": "stream",
     "text": [
      "(43766, 24, 14)\n",
      "(43766,)\n"
     ]
    }
   ],
   "source": [
    "hops = 24\n",
    "no_records = df_load_scaled_y.shape[0]\n",
    "no_cols = len(selected_params) - 1\n",
    "X_train = []\n",
    "y_train = []\n",
    "for i in range(hops, no_records):\n",
    "    X_train.append(df_load_scaled[i-hops:i])\n",
    "    y_train.append(df_load_scaled_y[i][0])\n",
    "X_train, y_train = np.array(X_train), np.array(y_train)\n",
    "\n",
    "print(X_train.shape)\n",
    "print(y_train.shape)"
   ],
   "metadata": {
    "collapsed": false,
    "pycharm": {
     "name": "#%%\n"
    }
   }
  },
  {
   "cell_type": "code",
   "execution_count": 136,
   "outputs": [],
   "source": [
    "X_train_reshaped = np.reshape(X_train, (X_train.shape[0], X_train.shape[1], X_train.shape[2]))"
   ],
   "metadata": {
    "collapsed": false
   }
  },
  {
   "cell_type": "code",
   "execution_count": 137,
   "outputs": [
    {
     "data": {
      "text/plain": "(43766, 24, 14)"
     },
     "execution_count": 137,
     "metadata": {},
     "output_type": "execute_result"
    }
   ],
   "source": [
    "X_train_reshaped.shape"
   ],
   "metadata": {
    "collapsed": false
   }
  },
  {
   "cell_type": "code",
   "execution_count": 138,
   "outputs": [],
   "source": [
    "from keras.models import Sequential\n",
    "from keras.layers import Dense, LSTM, Dropout\n",
    "\n",
    "model=Sequential()\n",
    "model.add(LSTM(units=64, return_sequences=True, input_shape=(hops,no_cols)))\n",
    "model.add(Dropout(0.2))\n",
    "model.add(LSTM(units=64))\n",
    "model.add(Dropout(0.2))\n",
    "model.add(Dense(1))\n",
    "model.compile(optimizer='adam', loss='mean_squared_error')"
   ],
   "metadata": {
    "collapsed": false
   }
  },
  {
   "cell_type": "code",
   "execution_count": 139,
   "outputs": [
    {
     "name": "stdout",
     "output_type": "stream",
     "text": [
      "Epoch 1/200\n",
      "342/342 [==============================] - 66s 182ms/step - loss: 0.1451\n",
      "Epoch 2/200\n",
      "342/342 [==============================] - 62s 182ms/step - loss: 0.0787\n",
      "Epoch 3/200\n",
      "342/342 [==============================] - 62s 182ms/step - loss: 0.0693\n",
      "Epoch 4/200\n",
      "342/342 [==============================] - 62s 182ms/step - loss: 0.0638\n",
      "Epoch 5/200\n",
      "342/342 [==============================] - 62s 183ms/step - loss: 0.0589\n",
      "Epoch 6/200\n",
      "342/342 [==============================] - 63s 185ms/step - loss: 0.0563\n",
      "Epoch 7/200\n",
      "342/342 [==============================] - 63s 184ms/step - loss: 0.0531\n",
      "Epoch 8/200\n",
      "342/342 [==============================] - 62s 182ms/step - loss: 0.0505\n",
      "Epoch 9/200\n",
      "342/342 [==============================] - 63s 183ms/step - loss: 0.0485\n",
      "Epoch 10/200\n",
      "342/342 [==============================] - 63s 184ms/step - loss: 0.0470\n",
      "Epoch 11/200\n",
      "342/342 [==============================] - 62s 183ms/step - loss: 0.0446\n",
      "Epoch 12/200\n",
      "342/342 [==============================] - 63s 183ms/step - loss: 0.0429\n",
      "Epoch 13/200\n",
      "342/342 [==============================] - 63s 184ms/step - loss: 0.0402\n",
      "Epoch 14/200\n",
      "342/342 [==============================] - 62s 183ms/step - loss: 0.0397\n",
      "Epoch 15/200\n",
      "342/342 [==============================] - 62s 182ms/step - loss: 0.0380\n",
      "Epoch 16/200\n",
      "342/342 [==============================] - 62s 183ms/step - loss: 0.0362\n",
      "Epoch 17/200\n",
      "342/342 [==============================] - 62s 183ms/step - loss: 0.0352\n",
      "Epoch 18/200\n",
      "342/342 [==============================] - 62s 183ms/step - loss: 0.0338\n",
      "Epoch 19/200\n",
      "342/342 [==============================] - 62s 182ms/step - loss: 0.0333\n",
      "Epoch 20/200\n",
      "342/342 [==============================] - 63s 183ms/step - loss: 0.0315\n",
      "Epoch 21/200\n",
      "342/342 [==============================] - 62s 182ms/step - loss: 0.0319\n",
      "Epoch 22/200\n",
      "342/342 [==============================] - 62s 182ms/step - loss: 0.0303\n",
      "Epoch 23/200\n",
      "342/342 [==============================] - 62s 183ms/step - loss: 0.0292\n",
      "Epoch 24/200\n",
      "342/342 [==============================] - 62s 183ms/step - loss: 0.0279\n",
      "Epoch 25/200\n",
      "342/342 [==============================] - 62s 182ms/step - loss: 0.0278\n",
      "Epoch 26/200\n",
      "342/342 [==============================] - 62s 182ms/step - loss: 0.0272\n",
      "Epoch 27/200\n",
      "342/342 [==============================] - 62s 183ms/step - loss: 0.0269\n",
      "Epoch 28/200\n",
      "342/342 [==============================] - 62s 182ms/step - loss: 0.0258\n",
      "Epoch 29/200\n",
      "342/342 [==============================] - 62s 182ms/step - loss: 0.0249\n",
      "Epoch 30/200\n",
      "342/342 [==============================] - 62s 182ms/step - loss: 0.0249\n",
      "Epoch 31/200\n",
      "342/342 [==============================] - 62s 183ms/step - loss: 0.0243\n",
      "Epoch 32/200\n",
      "342/342 [==============================] - 62s 183ms/step - loss: 0.0236\n",
      "Epoch 33/200\n",
      "342/342 [==============================] - 62s 183ms/step - loss: 0.0233\n",
      "Epoch 34/200\n",
      "342/342 [==============================] - 62s 182ms/step - loss: 0.0232\n",
      "Epoch 35/200\n",
      "342/342 [==============================] - 63s 183ms/step - loss: 0.0225\n",
      "Epoch 36/200\n",
      "342/342 [==============================] - 63s 183ms/step - loss: 0.0217\n",
      "Epoch 37/200\n",
      "342/342 [==============================] - 62s 183ms/step - loss: 0.0224\n",
      "Epoch 38/200\n",
      "342/342 [==============================] - 62s 182ms/step - loss: 0.0214\n",
      "Epoch 39/200\n",
      "342/342 [==============================] - 63s 183ms/step - loss: 0.0214\n",
      "Epoch 40/200\n",
      "342/342 [==============================] - 62s 183ms/step - loss: 0.0206\n",
      "Epoch 41/200\n",
      "342/342 [==============================] - 62s 182ms/step - loss: 0.0204\n",
      "Epoch 42/200\n",
      "342/342 [==============================] - 63s 183ms/step - loss: 0.0196\n",
      "Epoch 43/200\n",
      "342/342 [==============================] - 62s 182ms/step - loss: 0.0195\n",
      "Epoch 44/200\n",
      "342/342 [==============================] - 63s 183ms/step - loss: 0.0198\n",
      "Epoch 45/200\n",
      "342/342 [==============================] - 62s 182ms/step - loss: 0.0192\n",
      "Epoch 46/200\n",
      "342/342 [==============================] - 62s 182ms/step - loss: 0.0192\n",
      "Epoch 47/200\n",
      "342/342 [==============================] - 62s 182ms/step - loss: 0.0188\n",
      "Epoch 48/200\n",
      "342/342 [==============================] - 62s 182ms/step - loss: 0.0200\n",
      "Epoch 49/200\n",
      "342/342 [==============================] - 62s 182ms/step - loss: 0.0194\n",
      "Epoch 50/200\n",
      "342/342 [==============================] - 62s 182ms/step - loss: 0.0178\n",
      "Epoch 51/200\n",
      "342/342 [==============================] - 62s 182ms/step - loss: 0.0177\n",
      "Epoch 52/200\n",
      "342/342 [==============================] - 62s 183ms/step - loss: 0.0176\n",
      "Epoch 53/200\n",
      "342/342 [==============================] - 62s 182ms/step - loss: 0.0171\n",
      "Epoch 54/200\n",
      "342/342 [==============================] - 62s 182ms/step - loss: 0.0167\n",
      "Epoch 55/200\n",
      "342/342 [==============================] - 62s 182ms/step - loss: 0.0166\n",
      "Epoch 56/200\n",
      "342/342 [==============================] - 63s 184ms/step - loss: 0.0170\n",
      "Epoch 57/200\n",
      "342/342 [==============================] - 62s 183ms/step - loss: 0.0170\n",
      "Epoch 58/200\n",
      "342/342 [==============================] - 62s 183ms/step - loss: 0.0166\n",
      "Epoch 59/200\n",
      "342/342 [==============================] - 62s 183ms/step - loss: 0.0165\n",
      "Epoch 60/200\n",
      "342/342 [==============================] - 63s 183ms/step - loss: 0.0165\n",
      "Epoch 61/200\n",
      "342/342 [==============================] - 63s 183ms/step - loss: 0.0162\n",
      "Epoch 62/200\n",
      "342/342 [==============================] - 62s 182ms/step - loss: 0.0158\n",
      "Epoch 63/200\n",
      "342/342 [==============================] - 62s 183ms/step - loss: 0.0153\n",
      "Epoch 64/200\n",
      "342/342 [==============================] - 62s 183ms/step - loss: 0.0156\n",
      "Epoch 65/200\n",
      "342/342 [==============================] - 62s 183ms/step - loss: 0.0156\n",
      "Epoch 66/200\n",
      "342/342 [==============================] - 62s 183ms/step - loss: 0.0153\n",
      "Epoch 67/200\n",
      "342/342 [==============================] - 63s 183ms/step - loss: 0.0150\n",
      "Epoch 68/200\n",
      "342/342 [==============================] - 63s 183ms/step - loss: 0.0153\n",
      "Epoch 69/200\n",
      "342/342 [==============================] - 62s 182ms/step - loss: 0.0158\n",
      "Epoch 70/200\n",
      "342/342 [==============================] - 62s 183ms/step - loss: 0.0146\n",
      "Epoch 71/200\n",
      "342/342 [==============================] - 62s 182ms/step - loss: 0.0146\n",
      "Epoch 72/200\n",
      "342/342 [==============================] - 62s 182ms/step - loss: 0.0149\n",
      "Epoch 73/200\n",
      "342/342 [==============================] - 62s 182ms/step - loss: 0.0149\n",
      "Epoch 74/200\n",
      "342/342 [==============================] - 62s 183ms/step - loss: 0.0146\n",
      "Epoch 75/200\n",
      "342/342 [==============================] - 62s 182ms/step - loss: 0.0145\n",
      "Epoch 76/200\n",
      "342/342 [==============================] - 62s 182ms/step - loss: 0.0140\n",
      "Epoch 77/200\n",
      "342/342 [==============================] - 62s 182ms/step - loss: 0.0137\n",
      "Epoch 78/200\n",
      "342/342 [==============================] - 62s 183ms/step - loss: 0.0143\n",
      "Epoch 79/200\n",
      "342/342 [==============================] - 62s 183ms/step - loss: 0.0136\n",
      "Epoch 80/200\n",
      "342/342 [==============================] - 63s 183ms/step - loss: 0.0140\n",
      "Epoch 81/200\n",
      "342/342 [==============================] - 62s 181ms/step - loss: 0.0142\n",
      "Epoch 82/200\n",
      "342/342 [==============================] - 62s 182ms/step - loss: 0.0137\n",
      "Epoch 83/200\n",
      "342/342 [==============================] - 62s 182ms/step - loss: 0.0133\n",
      "Epoch 84/200\n",
      "342/342 [==============================] - 62s 182ms/step - loss: 0.0135\n",
      "Epoch 85/200\n",
      "342/342 [==============================] - 62s 182ms/step - loss: 0.0132\n",
      "Epoch 86/200\n",
      "342/342 [==============================] - 62s 182ms/step - loss: 0.0132\n",
      "Epoch 87/200\n",
      "342/342 [==============================] - 62s 182ms/step - loss: 0.0135\n",
      "Epoch 88/200\n",
      "342/342 [==============================] - 62s 182ms/step - loss: 0.0131\n",
      "Epoch 89/200\n",
      "342/342 [==============================] - 62s 182ms/step - loss: 0.0128\n",
      "Epoch 90/200\n",
      "342/342 [==============================] - 62s 183ms/step - loss: 0.0134\n",
      "Epoch 91/200\n",
      "342/342 [==============================] - 62s 182ms/step - loss: 0.0129\n",
      "Epoch 92/200\n",
      "342/342 [==============================] - 62s 181ms/step - loss: 0.0127\n",
      "Epoch 93/200\n",
      "342/342 [==============================] - 62s 182ms/step - loss: 0.0124\n",
      "Epoch 94/200\n",
      "342/342 [==============================] - 62s 182ms/step - loss: 0.0123\n",
      "Epoch 95/200\n",
      "342/342 [==============================] - 62s 182ms/step - loss: 0.0122\n",
      "Epoch 96/200\n",
      "342/342 [==============================] - 62s 181ms/step - loss: 0.0123\n",
      "Epoch 97/200\n",
      "342/342 [==============================] - 62s 181ms/step - loss: 0.0121\n",
      "Epoch 98/200\n",
      "342/342 [==============================] - 62s 181ms/step - loss: 0.0123\n",
      "Epoch 99/200\n",
      "342/342 [==============================] - 62s 181ms/step - loss: 0.0121\n",
      "Epoch 100/200\n",
      "342/342 [==============================] - 62s 182ms/step - loss: 0.0123\n",
      "Epoch 101/200\n",
      "342/342 [==============================] - 62s 182ms/step - loss: 0.0127\n",
      "Epoch 102/200\n",
      "342/342 [==============================] - 62s 182ms/step - loss: 0.0122\n",
      "Epoch 103/200\n",
      "342/342 [==============================] - 62s 181ms/step - loss: 0.0119\n",
      "Epoch 104/200\n",
      "342/342 [==============================] - 62s 182ms/step - loss: 0.0120\n",
      "Epoch 105/200\n",
      "342/342 [==============================] - 62s 181ms/step - loss: 0.0120\n",
      "Epoch 106/200\n",
      "342/342 [==============================] - 62s 181ms/step - loss: 0.0123\n",
      "Epoch 107/200\n",
      "342/342 [==============================] - 62s 182ms/step - loss: 0.0116\n",
      "Epoch 108/200\n",
      "342/342 [==============================] - 62s 181ms/step - loss: 0.0117\n",
      "Epoch 109/200\n",
      "342/342 [==============================] - 62s 181ms/step - loss: 0.0116\n",
      "Epoch 110/200\n",
      "342/342 [==============================] - 62s 181ms/step - loss: 0.0119\n",
      "Epoch 111/200\n",
      "342/342 [==============================] - 62s 181ms/step - loss: 0.0113\n",
      "Epoch 112/200\n",
      "342/342 [==============================] - 62s 181ms/step - loss: 0.0121\n",
      "Epoch 113/200\n",
      "342/342 [==============================] - 60s 176ms/step - loss: 0.0116\n",
      "Epoch 114/200\n",
      "342/342 [==============================] - 60s 176ms/step - loss: 0.0115\n",
      "Epoch 115/200\n",
      "342/342 [==============================] - 60s 176ms/step - loss: 0.0115\n",
      "Epoch 116/200\n",
      "342/342 [==============================] - 60s 176ms/step - loss: 0.0110\n",
      "Epoch 117/200\n",
      "342/342 [==============================] - 60s 176ms/step - loss: 0.0114\n",
      "Epoch 118/200\n",
      "342/342 [==============================] - 60s 176ms/step - loss: 0.0122\n",
      "Epoch 119/200\n",
      "342/342 [==============================] - 60s 176ms/step - loss: 0.0115\n",
      "Epoch 120/200\n",
      "342/342 [==============================] - 60s 176ms/step - loss: 0.0110\n",
      "Epoch 121/200\n",
      "342/342 [==============================] - 60s 176ms/step - loss: 0.0107\n",
      "Epoch 122/200\n",
      "342/342 [==============================] - 60s 176ms/step - loss: 0.0106\n",
      "Epoch 123/200\n",
      "342/342 [==============================] - 60s 176ms/step - loss: 0.0113\n",
      "Epoch 124/200\n",
      "342/342 [==============================] - 60s 176ms/step - loss: 0.0113\n",
      "Epoch 125/200\n",
      "342/342 [==============================] - 60s 176ms/step - loss: 0.0113\n",
      "Epoch 126/200\n",
      "342/342 [==============================] - 60s 177ms/step - loss: 0.0108\n",
      "Epoch 127/200\n",
      "342/342 [==============================] - 60s 176ms/step - loss: 0.0107\n",
      "Epoch 128/200\n",
      "342/342 [==============================] - 60s 176ms/step - loss: 0.0113\n",
      "Epoch 129/200\n",
      "342/342 [==============================] - 60s 176ms/step - loss: 0.0106\n",
      "Epoch 130/200\n",
      "342/342 [==============================] - 60s 176ms/step - loss: 0.0106\n",
      "Epoch 131/200\n",
      "342/342 [==============================] - 60s 176ms/step - loss: 0.0108\n",
      "Epoch 132/200\n",
      "342/342 [==============================] - 60s 176ms/step - loss: 0.0110\n",
      "Epoch 133/200\n",
      "342/342 [==============================] - 60s 176ms/step - loss: 0.0110\n",
      "Epoch 134/200\n",
      "342/342 [==============================] - 60s 176ms/step - loss: 0.0106\n",
      "Epoch 135/200\n",
      "342/342 [==============================] - 60s 176ms/step - loss: 0.0103\n",
      "Epoch 136/200\n",
      "342/342 [==============================] - 60s 176ms/step - loss: 0.0104\n",
      "Epoch 137/200\n",
      "342/342 [==============================] - 60s 176ms/step - loss: 0.0104\n",
      "Epoch 138/200\n",
      "342/342 [==============================] - 60s 176ms/step - loss: 0.0103\n",
      "Epoch 139/200\n",
      "342/342 [==============================] - 60s 176ms/step - loss: 0.0105\n",
      "Epoch 140/200\n",
      "342/342 [==============================] - 60s 176ms/step - loss: 0.0112\n",
      "Epoch 141/200\n",
      "342/342 [==============================] - 60s 176ms/step - loss: 0.0102\n",
      "Epoch 142/200\n",
      "342/342 [==============================] - 60s 176ms/step - loss: 0.0100\n",
      "Epoch 143/200\n",
      "342/342 [==============================] - 60s 176ms/step - loss: 0.0101\n",
      "Epoch 144/200\n",
      "342/342 [==============================] - 60s 176ms/step - loss: 0.0102\n",
      "Epoch 145/200\n",
      "342/342 [==============================] - 60s 176ms/step - loss: 0.0103\n",
      "Epoch 146/200\n",
      "342/342 [==============================] - 60s 176ms/step - loss: 0.0106\n",
      "Epoch 147/200\n",
      "342/342 [==============================] - 60s 176ms/step - loss: 0.0101\n",
      "Epoch 148/200\n",
      "342/342 [==============================] - 60s 176ms/step - loss: 0.0100\n",
      "Epoch 149/200\n",
      "342/342 [==============================] - 60s 176ms/step - loss: 0.0101\n",
      "Epoch 150/200\n",
      "342/342 [==============================] - 60s 176ms/step - loss: 0.0105\n",
      "Epoch 151/200\n",
      "342/342 [==============================] - 60s 176ms/step - loss: 0.0097\n",
      "Epoch 152/200\n",
      "342/342 [==============================] - 60s 176ms/step - loss: 0.0108\n",
      "Epoch 153/200\n",
      "342/342 [==============================] - 60s 176ms/step - loss: 0.0099\n",
      "Epoch 154/200\n",
      "342/342 [==============================] - 60s 176ms/step - loss: 0.0103\n",
      "Epoch 155/200\n",
      "342/342 [==============================] - 60s 176ms/step - loss: 0.0097\n",
      "Epoch 156/200\n",
      "342/342 [==============================] - 60s 176ms/step - loss: 0.0099\n",
      "Epoch 157/200\n",
      "342/342 [==============================] - 60s 177ms/step - loss: 0.0099\n",
      "Epoch 158/200\n",
      "342/342 [==============================] - 60s 177ms/step - loss: 0.0101\n",
      "Epoch 159/200\n",
      "342/342 [==============================] - 60s 176ms/step - loss: 0.0103\n",
      "Epoch 160/200\n",
      "342/342 [==============================] - 60s 177ms/step - loss: 0.0101\n",
      "Epoch 161/200\n",
      "342/342 [==============================] - 60s 177ms/step - loss: 0.0100\n",
      "Epoch 162/200\n",
      "342/342 [==============================] - 60s 176ms/step - loss: 0.0099\n",
      "Epoch 163/200\n",
      "342/342 [==============================] - 60s 177ms/step - loss: 0.0097\n",
      "Epoch 164/200\n",
      "342/342 [==============================] - 60s 176ms/step - loss: 0.0097\n",
      "Epoch 165/200\n",
      "342/342 [==============================] - 60s 177ms/step - loss: 0.0099\n",
      "Epoch 166/200\n",
      "342/342 [==============================] - 60s 177ms/step - loss: 0.0100\n",
      "Epoch 167/200\n",
      "342/342 [==============================] - 60s 177ms/step - loss: 0.0093\n",
      "Epoch 168/200\n",
      "342/342 [==============================] - 60s 177ms/step - loss: 0.0100\n",
      "Epoch 169/200\n",
      "342/342 [==============================] - 60s 176ms/step - loss: 0.0094\n",
      "Epoch 170/200\n",
      "342/342 [==============================] - 60s 177ms/step - loss: 0.0096\n",
      "Epoch 171/200\n",
      "342/342 [==============================] - 60s 177ms/step - loss: 0.0098\n",
      "Epoch 172/200\n",
      "342/342 [==============================] - 60s 177ms/step - loss: 0.0097\n",
      "Epoch 173/200\n",
      "342/342 [==============================] - 61s 177ms/step - loss: 0.0094\n",
      "Epoch 174/200\n",
      "342/342 [==============================] - 60s 177ms/step - loss: 0.0100\n",
      "Epoch 175/200\n",
      "342/342 [==============================] - 60s 177ms/step - loss: 0.0098\n",
      "Epoch 176/200\n",
      "342/342 [==============================] - 60s 177ms/step - loss: 0.0095\n",
      "Epoch 177/200\n",
      "342/342 [==============================] - 60s 177ms/step - loss: 0.0092\n",
      "Epoch 178/200\n",
      "342/342 [==============================] - 60s 177ms/step - loss: 0.0093\n",
      "Epoch 179/200\n",
      "342/342 [==============================] - 60s 177ms/step - loss: 0.0109\n",
      "Epoch 180/200\n",
      "342/342 [==============================] - 60s 176ms/step - loss: 0.0110\n",
      "Epoch 181/200\n",
      "342/342 [==============================] - 60s 177ms/step - loss: 0.0100\n",
      "Epoch 182/200\n",
      "342/342 [==============================] - 61s 177ms/step - loss: 0.0094\n",
      "Epoch 183/200\n",
      "342/342 [==============================] - 60s 177ms/step - loss: 0.0092\n",
      "Epoch 184/200\n",
      "342/342 [==============================] - 60s 177ms/step - loss: 0.0099\n",
      "Epoch 185/200\n",
      "342/342 [==============================] - 60s 177ms/step - loss: 0.0095\n",
      "Epoch 186/200\n",
      "342/342 [==============================] - 61s 177ms/step - loss: 0.0091\n",
      "Epoch 187/200\n",
      "342/342 [==============================] - 60s 177ms/step - loss: 0.0094\n",
      "Epoch 188/200\n",
      "342/342 [==============================] - 61s 177ms/step - loss: 0.0093\n",
      "Epoch 189/200\n",
      "342/342 [==============================] - 60s 177ms/step - loss: 0.0095\n",
      "Epoch 190/200\n",
      "342/342 [==============================] - 60s 177ms/step - loss: 0.0094\n",
      "Epoch 191/200\n",
      "342/342 [==============================] - 60s 177ms/step - loss: 0.0093\n",
      "Epoch 192/200\n",
      "342/342 [==============================] - 61s 177ms/step - loss: 0.0091\n",
      "Epoch 193/200\n",
      "342/342 [==============================] - 61s 177ms/step - loss: 0.0094\n",
      "Epoch 194/200\n",
      "342/342 [==============================] - 61s 177ms/step - loss: 0.0094\n",
      "Epoch 195/200\n",
      "342/342 [==============================] - 60s 177ms/step - loss: 0.0100\n",
      "Epoch 196/200\n",
      "342/342 [==============================] - 60s 177ms/step - loss: 0.0097\n",
      "Epoch 197/200\n",
      "342/342 [==============================] - 61s 177ms/step - loss: 0.0089\n",
      "Epoch 198/200\n",
      "342/342 [==============================] - 61s 177ms/step - loss: 0.0089\n",
      "Epoch 199/200\n",
      "342/342 [==============================] - 61s 177ms/step - loss: 0.0089\n",
      "Epoch 200/200\n",
      "342/342 [==============================] - 60s 177ms/step - loss: 0.0090\n"
     ]
    },
    {
     "data": {
      "text/plain": "<keras.callbacks.History at 0x20dee01e490>"
     },
     "execution_count": 139,
     "metadata": {},
     "output_type": "execute_result"
    }
   ],
   "source": [
    "model.fit(X_train_reshaped, y_train, validation_split=0, epochs=200, batch_size=128, shuffle=True, workers=24, use_multiprocessing=True)"
   ],
   "metadata": {
    "collapsed": false
   }
  },
  {
   "cell_type": "code",
   "execution_count": 140,
   "outputs": [],
   "source": [
    "from pickle import dump\n",
    "model.save(\"solar_generation_model.h5\")\n",
    "dump(sc, open(\"solar_generation_scaler.pkl\", \"wb\"))\n",
    "dump(sc2, open(\"solar_generation_scaler_result.pkl\", \"wb\"))"
   ],
   "metadata": {
    "collapsed": false
   }
  },
  {
   "cell_type": "code",
   "execution_count": null,
   "outputs": [],
   "source": [],
   "metadata": {
    "collapsed": false
   }
  },
  {
   "cell_type": "code",
   "execution_count": null,
   "outputs": [],
   "source": [],
   "metadata": {
    "collapsed": false
   }
  },
  {
   "cell_type": "code",
   "execution_count": null,
   "outputs": [],
   "source": [],
   "metadata": {
    "collapsed": false
   }
  },
  {
   "cell_type": "code",
   "execution_count": null,
   "outputs": [],
   "source": [],
   "metadata": {
    "collapsed": false
   }
  },
  {
   "cell_type": "code",
   "execution_count": null,
   "outputs": [],
   "source": [],
   "metadata": {
    "collapsed": false
   }
  },
  {
   "cell_type": "code",
   "execution_count": null,
   "outputs": [],
   "source": [],
   "metadata": {
    "collapsed": false
   }
  },
  {
   "cell_type": "code",
   "execution_count": null,
   "outputs": [],
   "source": [],
   "metadata": {
    "collapsed": false
   }
  },
  {
   "cell_type": "code",
   "execution_count": null,
   "outputs": [],
   "source": [],
   "metadata": {
    "collapsed": false
   }
  },
  {
   "cell_type": "code",
   "execution_count": null,
   "outputs": [],
   "source": [],
   "metadata": {
    "collapsed": false
   }
  },
  {
   "cell_type": "code",
   "execution_count": null,
   "outputs": [],
   "source": [],
   "metadata": {
    "collapsed": false
   }
  },
  {
   "cell_type": "code",
   "execution_count": null,
   "outputs": [],
   "source": [],
   "metadata": {
    "collapsed": false
   }
  },
  {
   "cell_type": "code",
   "execution_count": null,
   "outputs": [],
   "source": [],
   "metadata": {
    "collapsed": false
   }
  },
  {
   "cell_type": "code",
   "execution_count": 60,
   "outputs": [],
   "source": [
    "# units = dimensionality of the output space\n",
    "\n",
    "\n",
    "def create_RNN(hidden_units, dense_units, input_shape, activation):\n",
    "    model = Sequential()\n",
    "    model.add(SimpleRNN(hidden_units, input_shape=input_shape,\n",
    "                        activation=activation[0]))\n",
    "    model.add(Dense(units=dense_units, activation=activation[1]))\n",
    "    model.compile(loss='mean_squared_error', optimizer='adam')\n",
    "    return model\n",
    "\n",
    "demo_model = create_RNN(hidden_units=2, dense_units=1, input_shape=(3,1), activation=['relu', 'relu'])"
   ],
   "metadata": {
    "collapsed": false
   }
  },
  {
   "cell_type": "code",
   "execution_count": null,
   "outputs": [],
   "source": [],
   "metadata": {
    "collapsed": false
   }
  }
 ],
 "metadata": {
  "kernelspec": {
   "display_name": "Python 3",
   "language": "python",
   "name": "python3"
  },
  "language_info": {
   "codemirror_mode": {
    "name": "ipython",
    "version": 2
   },
   "file_extension": ".py",
   "mimetype": "text/x-python",
   "name": "python",
   "nbconvert_exporter": "python",
   "pygments_lexer": "ipython2",
   "version": "2.7.6"
  }
 },
 "nbformat": 4,
 "nbformat_minor": 0
}
