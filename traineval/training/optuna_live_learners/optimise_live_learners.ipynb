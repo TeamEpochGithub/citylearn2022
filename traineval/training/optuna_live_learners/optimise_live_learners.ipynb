{
 "cells": [
  {
   "cell_type": "code",
   "execution_count": 5,
   "metadata": {
    "collapsed": true
   },
   "outputs": [],
   "source": [
    "from hyperopt import fmin, hp, tpe, SparkTrials, STATUS_OK\n",
    "from hyperopt.early_stop import no_progress_loss\n",
    "\n",
    "from hpsklearn import any_regressor, any_preprocessing\n",
    "import sklearn.preprocessing\n",
    "from sklearn.linear_model import LinearRegression\n",
    "\n",
    "from lightgbm import LGBMRegressor\n",
    "from xgboost.sklearn import XGBRegressor\n",
    "from catboost import CatBoostRegressor\n",
    "from sklearn.linear_model import SGDRegressor\n",
    "from sklearn.kernel_ridge import KernelRidge\n",
    "from sklearn.linear_model import ElasticNet\n",
    "from sklearn.linear_model import BayesianRidge\n",
    "from sklearn.ensemble import GradientBoostingRegressor\n",
    "from sklearn.svm import SVR\n"
   ]
  },
  {
   "cell_type": "code",
   "execution_count": 6,
   "outputs": [],
   "source": [
    "lag_options = [ [1], [1, 2], [1, 2, 3], [1, 2, 3, 4], [1, 2, 3, 4, 5], [1, 2, 3, 4, 5, 6], [1, 2, 3, 4, 5, 6, 7], [1, 2, 3, 4, 5, 6, 7, 8], [1, 2, 3, 4, 5, 6, 7, 8, 9], [1, 25], [1, 2, 25, 26], [1, 2, 3, 25, 26, 27], [1, 2, 3, 4, 25, 26, 27, 28], [1, 2, 3, 4, 5, 25, 26, 27, 28, 29], [1, 2, 3, 4, 5, 6, 25, 26, 27, 28, 29, 30], [1, 2, 3, 4, 5, 6, 7, 25, 26, 27, 28, 29, 30, 31], [1, 2, 3, 4, 5, 6, 7, 8, 25, 26, 27, 28, 29, 30, 31, 32], [1, 2, 3, 4, 5, 6, 7, 8, 9, 25, 26, 27, 28, 29, 30, 31, 32, 33], [1, 25, 49], [1, 2, 25, 26, 49, 50], [1, 2, 3, 25, 26, 27, 49, 50, 51], [1, 2, 3, 4, 25, 26, 27, 28, 49, 50, 51, 52], [1, 2, 3, 4, 5, 25, 26, 27, 28, 29, 49, 50, 51, 52, 53], [1, 2, 3, 4, 5, 6, 25, 26, 27, 28, 29, 30, 49, 50, 51, 52, 53, 54], [1, 2, 3, 4, 5, 6, 7, 25, 26, 27, 28, 29, 30, 31, 49, 50, 51, 52, 53, 54, 55], [1, 2, 3, 4, 5, 6, 7, 8, 25, 26, 27, 28, 29, 30, 31, 32, 49, 50, 51, 52, 53, 54, 55, 56], [1, 2, 3, 4, 5, 6, 7, 8, 9, 25, 26, 27, 28, 29, 30, 31, 32, 33, 49, 50, 51, 52, 53, 54, 55, 56, 57]]"
   ],
   "metadata": {
    "collapsed": false
   }
  },
  {
   "cell_type": "code",
   "execution_count": 9,
   "outputs": [],
   "source": [
    "linreg = LinearRegression()\n",
    "lgbm = LGBMRegressor()\n",
    "# xgb = XGBRegressor()\n",
    "catboost = CatBoostRegressor()\n",
    "sgd = SGDRegressor()\n",
    "kernelridge = KernelRidge()\n",
    "elastic = ElasticNet()\n",
    "bayesianridge = BayesianRidge()\n",
    "# gradientboosting = GradientBoostingRegressor(n_estimators=100)\n",
    "svr = SVR()\n",
    "\n",
    "# all_regressors = [linreg, lgbm, xgb, catboost, sgd, kernelridge, elastic, bayesianridge, gradientboosting, svr]\n",
    "all_regressors = [linreg, lgbm, catboost, sgd, kernelridge, elastic, bayesianridge, svr]\n",
    "\n",
    "def get_params():\n",
    "    search_space = {#\"price_1\": hp.uniform(\"price_1\", -1, 1),\n",
    "                    # \"cap_learning_data\": hp.quniform(\"cap_learning_data\", 300, 800, 100),\n",
    "                    # \"update_learner_interval\": hp.quniform(\"update_learner_interval\", 1, 4, 1),\n",
    "                    \"cap_learning_data\": hp.choice(\"cap_learning_data\", [500]),\n",
    "                    \"update_learner_interval\": hp.choice(\"update_learner_interval\", [4]),\n",
    "                    \"load_lags\": hp.choice(\"load_lags\", lag_options),\n",
    "                    \"solar_lags\": hp.choice(\"solar_lags\", lag_options),\n",
    "                    # \"load_regressor\": hp.choice(\"load_regressor\", all_regressors),\n",
    "                    # \"solar_regressor\": hp.choice(\"solar_regressor\", all_regressors),\n",
    "\n",
    "                    # \"load_regressor\": any_regressor(\"my_reg1\"),\n",
    "                    # \"solar_regressor\": any_regressor(\"my_reg2\"),\n",
    "                    # \"load_transformer\": any_preprocessing(\"my_pre1\"),\n",
    "                    # \"solar_transformer\": any_preprocessing(\"my_pre2\")\n",
    "                    }\n",
    "    return search_space"
   ],
   "metadata": {
    "collapsed": false
   }
  },
  {
   "cell_type": "code",
   "execution_count": null,
   "outputs": [
    {
     "name": "stderr",
     "output_type": "stream",
     "text": [
      "Because the requested parallelism was None or a non-positive value, parallelism will be set to (24), which is Spark's default parallelism (24), or 1, whichever is greater. We recommend setting parallelism explicitly to a positive value because the total of Spark task slots is subject to cluster sizing.\n",
      "hyperopt-spark WARNING Because the requested parallelism was None or a non-positive value, parallelism will be set to (24), which is Spark's default parallelism (24), or 1, whichever is greater. We recommend setting parallelism explicitly to a positive value because the total of Spark task slots is subject to cluster sizing.\n"
     ]
    },
    {
     "name": "stdout",
     "output_type": "stream",
     "text": [
      "  0%|          | 0/8000 [00:00<?, ?trial/s, best loss=?]"
     ]
    },
    {
     "name": "stderr",
     "output_type": "stream",
     "text": [
      "hyperopt.tpe INFO  build_posterior_wrapper took 0.015631 seconds\n",
      "hyperopt.tpe INFO  TPE using 0 trials\n"
     ]
    },
    {
     "name": "stdout",
     "output_type": "stream",
     "text": [
      "  0%|          | 0/8000 [00:01<?, ?trial/s, best loss=?]\n"
     ]
    },
    {
     "name": "stderr",
     "output_type": "stream",
     "text": [
      "py4j.clientserver INFO  Closing down clientserver connection\n"
     ]
    }
   ],
   "source": [
    "from traineval.evaluation.tune_evaluation import evaluate\n",
    "\n",
    "best_params = fmin(\n",
    "    fn=evaluate,\n",
    "    space=get_params(),\n",
    "    algo=tpe.suggest,  # NOTE: You cannot use atpe.suggest with SparkTrials, then use tpe.suggest\n",
    "    max_evals=8000,\n",
    "    trials=SparkTrials(),\n",
    "    early_stop_fn=no_progress_loss(400)\n",
    ")\n",
    "best_params"
   ],
   "metadata": {
    "collapsed": false,
    "pycharm": {
     "is_executing": true
    }
   }
  },
  {
   "cell_type": "code",
   "execution_count": null,
   "outputs": [],
   "source": [],
   "metadata": {
    "collapsed": false
   }
  },
  {
   "cell_type": "code",
   "execution_count": null,
   "outputs": [],
   "source": [],
   "metadata": {
    "collapsed": false
   }
  }
 ],
 "metadata": {
  "kernelspec": {
   "display_name": "Python 3",
   "language": "python",
   "name": "python3"
  },
  "language_info": {
   "codemirror_mode": {
    "name": "ipython",
    "version": 2
   },
   "file_extension": ".py",
   "mimetype": "text/x-python",
   "name": "python",
   "nbconvert_exporter": "python",
   "pygments_lexer": "ipython2",
   "version": "2.7.6"
  }
 },
 "nbformat": 4,
 "nbformat_minor": 0
}
