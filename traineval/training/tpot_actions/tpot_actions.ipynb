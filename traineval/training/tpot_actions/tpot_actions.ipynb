{
 "cells": [
  {
   "cell_type": "code",
   "execution_count": 10,
   "metadata": {
    "collapsed": true,
    "pycharm": {
     "name": "#%%\n"
    }
   },
   "outputs": [],
   "source": [
    "import os.path as osp\n",
    "import data.citylearn_challenge_2022_phase_1 as competition_data\n",
    "import pandas as pd"
   ]
  },
  {
   "cell_type": "code",
   "execution_count": 11,
   "outputs": [],
   "source": [
    "import csv\n",
    "action_file_path = osp.join(osp.dirname(competition_data.__file__), 'perfect_actions.csv')\n",
    "\n",
    "col_names = [\"month\",\n",
    "    \"day_type\",\n",
    "    \"hour\",\n",
    "    \"outdoor_dry_bulb_temperature\",\n",
    "    \"outdoor_dry_bulb_temperature_predicted_6h\",\n",
    "    \"outdoor_dry_bulb_temperature_predicted_12h\",\n",
    "    \"outdoor_dry_bulb_temperature_predicted_24h\",\n",
    "    \"outdoor_relative_humidity\",\n",
    "    \"outdoor_relative_humidity_predicted_6h\",\n",
    "    \"outdoor_relative_humidity_predicted_12h\",\n",
    "    \"outdoor_relative_humidity_predicted_24h\",\n",
    "    \"diffuse_solar_irradiance\",\n",
    "    \"diffuse_solar_irradiance_predicted_6h\",\n",
    "    \"diffuse_solar_irradiance_predicted_12h\",\n",
    "    \"diffuse_solar_irradiance_predicted_24h\",\n",
    "    \"direct_solar_irradiance\",\n",
    "    \"direct_solar_irradiance_predicted_6h\",\n",
    "    \"direct_solar_irradiance_predicted_12h\",\n",
    "    \"direct_solar_irradiance_predicted_24h\",\n",
    "    \"carbon_intensity\",\n",
    "    \"non_shiftable_load\",\n",
    "    \"solar_generation\",\n",
    "    \"electrical_storage_soc\",\n",
    "    \"net_electricity_consumption\",\n",
    "    \"electricity_pricing\",\n",
    "    \"electricity_pricing_predicted_6h\",\n",
    "    \"electricity_pricing_predicted_12h\",\n",
    "    \"electricity_pricing_predicted_24h\",\n",
    "    \"action\"]\n",
    "\n",
    "with open(action_file_path,newline='') as f:\n",
    "    r = csv.reader(f)\n",
    "    data = [line for line in r]\n",
    "with open(action_file_path,'w',newline='') as f:\n",
    "    w = csv.writer(f)\n",
    "    w.writerow(col_names)\n",
    "    w.writerows(data)\n",
    "\n"
   ],
   "metadata": {
    "collapsed": false,
    "pycharm": {
     "name": "#%%\n"
    }
   }
  },
  {
   "cell_type": "code",
   "execution_count": null,
   "outputs": [],
   "source": [
    "df = pd.read_csv(action_file_path)\n",
    "df.head()"
   ],
   "metadata": {
    "collapsed": false,
    "pycharm": {
     "name": "#%%\n"
    }
   }
  },
  {
   "cell_type": "code",
   "execution_count": null,
   "outputs": [],
   "source": [],
   "metadata": {
    "collapsed": false,
    "pycharm": {
     "name": "#%%\n"
    }
   }
  },
  {
   "cell_type": "code",
   "execution_count": 3,
   "outputs": [],
   "source": [
    "# tpot.TPOTRegressor(generations=100, population_size=100,\n",
    "#                      offspring_size=None, mutation_rate=0.9,\n",
    "#                      crossover_rate=0.1,\n",
    "#                      scoring='neg_mean_squared_error', cv=5,\n",
    "#                      subsample=1.0, n_jobs=1,\n",
    "#                      max_time_mins=None, max_eval_time_mins=5,\n",
    "#                      random_state=None, config_dict=None,\n",
    "#                      template=None,\n",
    "#                      warm_start=False,\n",
    "#                      memory=None,\n",
    "#                      use_dask=False,\n",
    "#                      periodic_checkpoint_folder=None,\n",
    "#                      early_stop=None,\n",
    "#                      verbosity=0,\n",
    "#                      disable_update_check=False)"
   ],
   "metadata": {
    "collapsed": false,
    "pycharm": {
     "name": "#%%\n"
    }
   }
  },
  {
   "cell_type": "code",
   "execution_count": 4,
   "outputs": [
    {
     "data": {
      "text/plain": "Optimization Progress:   0%|          | 0/550 [00:00<?, ?pipeline/s]",
      "application/vnd.jupyter.widget-view+json": {
       "version_major": 2,
       "version_minor": 0,
       "model_id": "eb451e116ffb4379b17d1daf6952e435"
      }
     },
     "metadata": {},
     "output_type": "display_data"
    },
    {
     "name": "stdout",
     "output_type": "stream",
     "text": [
      "\n",
      "Generation 1 - Current best internal CV score: -0.0008231093409649094\n",
      "\n",
      "Generation 2 - Current best internal CV score: -0.0004657711155118947\n",
      "\n",
      "Generation 3 - Current best internal CV score: -0.00026331833497608774\n",
      "\n",
      "Generation 4 - Current best internal CV score: -0.00026331833497608774\n",
      "\n",
      "Generation 5 - Current best internal CV score: -0.00026331833497608774\n",
      "\n",
      "Generation 6 - Current best internal CV score: -0.00026263161840011723\n",
      "\n",
      "Generation 7 - Current best internal CV score: -0.00026146059702614763\n",
      "\n",
      "Generation 8 - Current best internal CV score: -0.00026146059702614763\n",
      "\n",
      "Generation 9 - Current best internal CV score: -0.00026146059702614763\n",
      "\n",
      "Generation 10 - Current best internal CV score: -0.0002613516137840111\n",
      "\n",
      "Best pipeline: KNeighborsRegressor(LassoLarsCV(XGBRegressor(input_matrix, learning_rate=1.0, max_depth=4, min_child_weight=7, n_estimators=100, n_jobs=1, objective=reg:squarederror, subsample=0.5, verbosity=0), normalize=True), n_neighbors=4, p=1, weights=distance)\n"
     ]
    },
    {
     "name": "stderr",
     "output_type": "stream",
     "text": [
      "C:\\Users\\Team Epoch A\\Documents\\Epoch III\\citylearn-2022-starter-kit\\venv\\lib\\site-packages\\sklearn\\metrics\\_scorer.py:765: FutureWarning: sklearn.metrics.SCORERS is deprecated and will be removed in v1.3. Please use sklearn.metrics.get_scorer_names to get a list of available scorers and sklearn.metrics.get_metric to get scorer.\n",
      "  warnings.warn(\n"
     ]
    },
    {
     "name": "stdout",
     "output_type": "stream",
     "text": [
      "-1.8078696590314306e-05\n"
     ]
    }
   ],
   "source": [
    "from tpot import TPOTRegressor\n",
    "from sklearn.model_selection import train_test_split\n",
    "\n",
    "y = df.iloc[: , -1]\n",
    "X = df.iloc[: , :-1]\n",
    "\n",
    "X_train, X_test, y_train, y_test = train_test_split(X, y, train_size=0.75, test_size=0.25)\n",
    "\n",
    "tpot_regressor = TPOTRegressor(generations=10, population_size=50, verbosity=2, n_jobs=-1)\n",
    "tpot_regressor.fit(X_train, y_train)\n",
    "print(tpot_regressor.score(X_test, y_test))"
   ],
   "metadata": {
    "collapsed": false,
    "pycharm": {
     "name": "#%%\n"
    }
   }
  },
  {
   "cell_type": "code",
   "execution_count": null,
   "outputs": [],
   "source": [
    "tpot_regressor.export('tpot_exported_pipeline.py')"
   ],
   "metadata": {
    "collapsed": false,
    "pycharm": {
     "name": "#%%\n"
    }
   }
  },
  {
   "cell_type": "code",
   "execution_count": null,
   "outputs": [],
   "source": [],
   "metadata": {
    "collapsed": false,
    "pycharm": {
     "name": "#%%\n"
    }
   }
  },
  {
   "cell_type": "code",
   "execution_count": null,
   "outputs": [],
   "source": [],
   "metadata": {
    "collapsed": false,
    "pycharm": {
     "name": "#%%\n"
    }
   }
  }
 ],
 "metadata": {
  "kernelspec": {
   "display_name": "Python 3",
   "language": "python",
   "name": "python3"
  },
  "language_info": {
   "codemirror_mode": {
    "name": "ipython",
    "version": 2
   },
   "file_extension": ".py",
   "mimetype": "text/x-python",
   "name": "python",
   "nbconvert_exporter": "python",
   "pygments_lexer": "ipython2",
   "version": "2.7.6"
  }
 },
 "nbformat": 4,
 "nbformat_minor": 0
}