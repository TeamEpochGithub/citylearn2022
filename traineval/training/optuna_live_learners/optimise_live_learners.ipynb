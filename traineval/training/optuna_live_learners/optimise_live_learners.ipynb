{
 "cells": [
  {
   "cell_type": "code",
   "execution_count": 1,
   "metadata": {
    "collapsed": true
   },
   "outputs": [],
   "source": [
    "from hyperopt import fmin, hp, tpe, SparkTrials, STATUS_OK\n",
    "from hyperopt.early_stop import no_progress_loss\n",
    "\n",
    "# from hpsklearn import any_regressor, any_preprocessing\n",
    "# import sklearn.preprocessing\n",
    "from sklearn.linear_model import LinearRegression\n",
    "\n",
    "from lightgbm import LGBMRegressor\n",
    "from xgboost.sklearn import XGBRegressor\n",
    "from catboost import CatBoostRegressor\n",
    "from sklearn.linear_model import SGDRegressor\n",
    "from sklearn.kernel_ridge import KernelRidge\n",
    "from sklearn.linear_model import ElasticNet\n",
    "from sklearn.linear_model import BayesianRidge\n",
    "from sklearn.linear_model import Ridge\n",
    "\n",
    "from sklearn.ensemble import GradientBoostingRegressor\n",
    "from sklearn.svm import SVR\n"
   ]
  },
  {
   "cell_type": "code",
   "execution_count": 2,
   "outputs": [],
   "source": [
    "lag_options = [ [1], [1, 2], [1, 2, 3], [1, 2, 3, 4], [1, 2, 3, 4, 5], [1, 2, 3, 4, 5, 6], [1, 2, 3, 4, 5, 6, 7], [1, 2, 3, 4, 5, 6, 7, 8], [1, 2, 3, 4, 5, 6, 7, 8, 9], [1, 25], [1, 2, 25, 26], [1, 2, 3, 25, 26, 27], [1, 2, 3, 4, 25, 26, 27, 28], [1, 2, 3, 4, 5, 25, 26, 27, 28, 29], [1, 2, 3, 4, 5, 6, 25, 26, 27, 28, 29, 30], [1, 2, 3, 4, 5, 6, 7, 25, 26, 27, 28, 29, 30, 31], [1, 2, 3, 4, 5, 6, 7, 8, 25, 26, 27, 28, 29, 30, 31, 32], [1, 2, 3, 4, 5, 6, 7, 8, 9, 25, 26, 27, 28, 29, 30, 31, 32, 33], [1, 25, 49], [1, 2, 25, 26, 49, 50], [1, 2, 3, 25, 26, 27, 49, 50, 51], [1, 2, 3, 4, 25, 26, 27, 28, 49, 50, 51, 52], [1, 2, 3, 4, 5, 25, 26, 27, 28, 29, 49, 50, 51, 52, 53], [1, 2, 3, 4, 5, 6, 25, 26, 27, 28, 29, 30, 49, 50, 51, 52, 53, 54], [1, 2, 3, 4, 5, 6, 7, 25, 26, 27, 28, 29, 30, 31, 49, 50, 51, 52, 53, 54, 55], [1, 2, 3, 4, 5, 6, 7, 8, 25, 26, 27, 28, 29, 30, 31, 32, 49, 50, 51, 52, 53, 54, 55, 56], [1, 2, 3, 4, 5, 6, 7, 8, 9, 25, 26, 27, 28, 29, 30, 31, 32, 33, 49, 50, 51, 52, 53, 54, 55, 56, 57]]"
   ],
   "metadata": {
    "collapsed": false
   }
  },
  {
   "cell_type": "code",
   "execution_count": 3,
   "outputs": [],
   "source": [
    "linreg = LinearRegression()\n",
    "lgbm = LGBMRegressor()\n",
    "# xgb = XGBRegressor()\n",
    "catboost = CatBoostRegressor()\n",
    "sgd = SGDRegressor()\n",
    "kernelridge = KernelRidge()\n",
    "elastic = ElasticNet()\n",
    "bayesianridge = BayesianRidge()\n",
    "# gradientboosting = GradientBoostingRegressor(n_estimators=100)\n",
    "svr = SVR()\n",
    "ridge = Ridge()\n",
    "\n",
    "# all_regressors = [linreg, lgbm, xgb, catboost, sgd, kernelridge, elastic, bayesianridge, gradientboosting, svr]\n",
    "all_regressors = [linreg, lgbm, catboost, sgd, kernelridge, elastic, bayesianridge, svr]\n",
    "\n",
    "def get_params():\n",
    "    search_space = {#\"price_1\": hp.uniform(\"price_1\", -1, 1),\n",
    "                    # \"cap_learning_data\": hp.quniform(\"cap_learning_data\", 300, 800, 100),\n",
    "                    # \"update_learner_interval\": hp.quniform(\"update_learner_interval\", 1, 4, 1),\n",
    "                    \"cap_learning_data\": hp.choice(\"cap_learning_data\", [500]),\n",
    "                    \"update_learner_interval\": hp.choice(\"update_learner_interval\", [4]),\n",
    "                    \"load_lags\": hp.choice(\"load_lags\", lag_options),\n",
    "                    \"solar_lags\": hp.choice(\"solar_lags\", lag_options),\n",
    "                    # \"load_regressor\": hp.choice(\"load_regressor\", [ridge]),\n",
    "                    # \"solar_regressor\": hp.choice(\"solar_regressor\", [ridge]),\n",
    "\n",
    "                    # \"load_regressor\": any_regressor(\"my_reg1\"),\n",
    "                    # \"solar_regressor\": any_regressor(\"my_reg2\"),\n",
    "                    # \"load_transformer\": any_preprocessing(\"my_pre1\"),\n",
    "                    # \"solar_transformer\": any_preprocessing(\"my_pre2\")\n",
    "                    }\n",
    "    return search_space"
   ],
   "metadata": {
    "collapsed": false
   }
  },
  {
   "cell_type": "code",
   "execution_count": null,
   "outputs": [
    {
     "name": "stderr",
     "output_type": "stream",
     "text": [
      "Warning: Gym version v0.24.1 has a number of critical issues with `gym.make` such that environment observation and action spaces are incorrectly evaluated, raising incorrect errors and warning . It is recommend to downgrading to v0.23.1 or upgrading to v0.25.1\n"
     ]
    },
    {
     "name": "stdout",
     "output_type": "stream",
     "text": [
      "  0%|          | 0/1000 [00:00<?, ?trial/s, best loss=?]"
     ]
    },
    {
     "name": "stderr",
     "output_type": "stream",
     "text": [
      "hyperopt.tpe INFO  build_posterior_wrapper took 0.000000 seconds\n",
      "hyperopt.tpe INFO  TPE using 0 trials\n",
      "hyperopt.tpe INFO  build_posterior_wrapper took 0.078125 seconds\n",
      "hyperopt.tpe INFO  TPE using 1/1 trials with best loss inf\n",
      "hyperopt.tpe INFO  build_posterior_wrapper took 0.015630 seconds\n",
      "hyperopt.tpe INFO  TPE using 2/2 trials with best loss inf\n",
      "hyperopt.tpe INFO  build_posterior_wrapper took 0.000000 seconds\n",
      "hyperopt.tpe INFO  TPE using 3/3 trials with best loss inf\n",
      "hyperopt.tpe INFO  build_posterior_wrapper took 0.000000 seconds\n",
      "hyperopt.tpe INFO  TPE using 4/4 trials with best loss inf\n",
      "hyperopt.tpe INFO  build_posterior_wrapper took 0.000000 seconds\n",
      "hyperopt.tpe INFO  TPE using 5/5 trials with best loss inf\n",
      "hyperopt.tpe INFO  build_posterior_wrapper took 0.000000 seconds\n",
      "hyperopt.tpe INFO  TPE using 6/6 trials with best loss inf\n",
      "hyperopt.tpe INFO  build_posterior_wrapper took 0.078140 seconds\n",
      "hyperopt.tpe INFO  TPE using 7/7 trials with best loss inf\n",
      "hyperopt.tpe INFO  build_posterior_wrapper took 0.000000 seconds\n",
      "hyperopt.tpe INFO  TPE using 8/8 trials with best loss inf\n",
      "hyperopt.tpe INFO  build_posterior_wrapper took 0.000000 seconds\n",
      "hyperopt.tpe INFO  TPE using 9/9 trials with best loss inf\n",
      "hyperopt.tpe INFO  build_posterior_wrapper took 0.015624 seconds\n",
      "hyperopt.tpe INFO  TPE using 10/10 trials with best loss inf\n",
      "hyperopt.tpe INFO  build_posterior_wrapper took 0.015625 seconds\n",
      "hyperopt.tpe INFO  TPE using 11/11 trials with best loss inf\n",
      "hyperopt.tpe INFO  build_posterior_wrapper took 0.015619 seconds\n",
      "hyperopt.tpe INFO  TPE using 12/12 trials with best loss inf\n",
      "hyperopt.tpe INFO  build_posterior_wrapper took 0.000000 seconds\n",
      "hyperopt.tpe INFO  TPE using 13/13 trials with best loss inf\n",
      "hyperopt.tpe INFO  build_posterior_wrapper took 0.078122 seconds\n",
      "hyperopt.tpe INFO  TPE using 14/14 trials with best loss inf\n",
      "hyperopt.tpe INFO  build_posterior_wrapper took 0.000000 seconds\n",
      "hyperopt.tpe INFO  TPE using 15/15 trials with best loss inf\n",
      "hyperopt.tpe INFO  build_posterior_wrapper took 0.015625 seconds\n",
      "hyperopt.tpe INFO  TPE using 16/16 trials with best loss inf\n",
      "hyperopt.tpe INFO  build_posterior_wrapper took 0.015632 seconds\n",
      "hyperopt.tpe INFO  TPE using 17/17 trials with best loss inf\n",
      "hyperopt.tpe INFO  build_posterior_wrapper took 0.000000 seconds\n",
      "hyperopt.tpe INFO  TPE using 18/18 trials with best loss inf\n",
      "py4j.clientserver INFO  Closing down clientserver connection\n"
     ]
    },
    {
     "name": "stdout",
     "output_type": "stream",
     "text": [
      "  0%|          | 1/1000 [06:29<108:09:07, 389.74s/trial, best loss: 0.9226396885252065]"
     ]
    },
    {
     "name": "stderr",
     "output_type": "stream",
     "text": [
      "hyperopt.tpe INFO  build_posterior_wrapper took 0.000000 seconds\n",
      "hyperopt.tpe INFO  TPE using 19/19 trials with best loss 0.922640\n",
      "py4j.clientserver INFO  Closing down clientserver connection\n",
      "py4j.clientserver INFO  Closing down clientserver connection\n"
     ]
    },
    {
     "name": "stdout",
     "output_type": "stream",
     "text": [
      "  0%|          | 3/1000 [06:31<28:11:28, 101.79s/trial, best loss: 0.9226396885252065] "
     ]
    },
    {
     "name": "stderr",
     "output_type": "stream",
     "text": [
      "py4j.clientserver INFO  Closing down clientserver connection\n"
     ]
    },
    {
     "name": "stdout",
     "output_type": "stream",
     "text": [
      "  0%|          | 4/1000 [06:32<18:30:50, 66.92s/trial, best loss: 0.9226396885252065] "
     ]
    },
    {
     "name": "stderr",
     "output_type": "stream",
     "text": [
      "hyperopt.tpe INFO  build_posterior_wrapper took 0.094084 seconds\n",
      "hyperopt.tpe INFO  TPE using 20/20 trials with best loss 0.922640\n",
      "py4j.clientserver INFO  Closing down clientserver connection\n",
      "py4j.clientserver INFO  Closing down clientserver connection\n"
     ]
    },
    {
     "name": "stdout",
     "output_type": "stream",
     "text": [
      "  1%|          | 6/1000 [06:33<9:21:59, 33.92s/trial, best loss: 0.9226396885252065] "
     ]
    },
    {
     "name": "stderr",
     "output_type": "stream",
     "text": [
      "hyperopt.tpe INFO  build_posterior_wrapper took 0.000000 seconds\n",
      "hyperopt.tpe INFO  TPE using 21/21 trials with best loss 0.922640\n",
      "py4j.clientserver INFO  Closing down clientserver connection\n"
     ]
    },
    {
     "name": "stdout",
     "output_type": "stream",
     "text": [
      "  1%|          | 7/1000 [06:34<6:58:45, 25.30s/trial, best loss: 0.9226396885252065]"
     ]
    },
    {
     "name": "stderr",
     "output_type": "stream",
     "text": [
      "hyperopt.tpe INFO  build_posterior_wrapper took 0.015620 seconds\n",
      "hyperopt.tpe INFO  TPE using 22/22 trials with best loss 0.922640\n",
      "py4j.clientserver INFO  Closing down clientserver connection\n"
     ]
    },
    {
     "name": "stdout",
     "output_type": "stream",
     "text": [
      "  1%|          | 8/1000 [06:36<5:13:30, 18.96s/trial, best loss: 0.9226396885252065]"
     ]
    },
    {
     "name": "stderr",
     "output_type": "stream",
     "text": [
      "hyperopt.tpe INFO  build_posterior_wrapper took 0.015628 seconds\n",
      "hyperopt.tpe INFO  TPE using 23/23 trials with best loss 0.922640\n",
      "py4j.clientserver INFO  Closing down clientserver connection\n"
     ]
    },
    {
     "name": "stdout",
     "output_type": "stream",
     "text": [
      "  1%|          | 9/1000 [06:37<3:50:10, 13.94s/trial, best loss: 0.9226396885252065]"
     ]
    },
    {
     "name": "stderr",
     "output_type": "stream",
     "text": [
      "hyperopt.tpe INFO  build_posterior_wrapper took 0.000000 seconds\n",
      "hyperopt.tpe INFO  TPE using 24/24 trials with best loss 0.922640\n",
      "hyperopt.tpe INFO  build_posterior_wrapper took 0.015624 seconds\n",
      "hyperopt.tpe INFO  TPE using 25/25 trials with best loss 0.922640\n",
      "py4j.clientserver INFO  Closing down clientserver connection\n"
     ]
    },
    {
     "name": "stdout",
     "output_type": "stream",
     "text": [
      "  1%|          | 10/1000 [06:40<2:58:39, 10.83s/trial, best loss: 0.9221568092194604]"
     ]
    },
    {
     "name": "stderr",
     "output_type": "stream",
     "text": [
      "hyperopt.tpe INFO  build_posterior_wrapper took 0.124999 seconds\n",
      "hyperopt.tpe INFO  TPE using 26/26 trials with best loss 0.922157\n",
      "py4j.clientserver INFO  Closing down clientserver connection\n",
      "py4j.clientserver INFO  Closing down clientserver connection\n",
      "py4j.clientserver INFO  Closing down clientserver connection\n"
     ]
    },
    {
     "name": "stdout",
     "output_type": "stream",
     "text": [
      "  1%|▏         | 13/1000 [06:42<1:23:30,  5.08s/trial, best loss: 0.9221568092194604]"
     ]
    },
    {
     "name": "stderr",
     "output_type": "stream",
     "text": [
      "hyperopt.tpe INFO  build_posterior_wrapper took 0.015658 seconds\n",
      "hyperopt.tpe INFO  TPE using 27/27 trials with best loss 0.922157\n",
      "py4j.clientserver INFO  Closing down clientserver connection\n"
     ]
    },
    {
     "name": "stdout",
     "output_type": "stream",
     "text": [
      "  1%|▏         | 14/1000 [06:43<1:09:39,  4.24s/trial, best loss: 0.9221568092194604]"
     ]
    },
    {
     "name": "stderr",
     "output_type": "stream",
     "text": [
      "hyperopt.tpe INFO  build_posterior_wrapper took 0.015627 seconds\n",
      "hyperopt.tpe INFO  TPE using 28/28 trials with best loss 0.922157\n",
      "hyperopt.tpe INFO  build_posterior_wrapper took 0.000000 seconds\n",
      "hyperopt.tpe INFO  TPE using 29/29 trials with best loss 0.922157\n",
      "py4j.clientserver INFO  Closing down clientserver connection\n"
     ]
    },
    {
     "name": "stdout",
     "output_type": "stream",
     "text": [
      "  2%|▏         | 15/1000 [06:45<1:01:22,  3.74s/trial, best loss: 0.9221568092194604]"
     ]
    },
    {
     "name": "stderr",
     "output_type": "stream",
     "text": [
      "hyperopt.tpe INFO  build_posterior_wrapper took 0.015626 seconds\n",
      "hyperopt.tpe INFO  TPE using 30/30 trials with best loss 0.922157\n",
      "py4j.clientserver INFO  Closing down clientserver connection\n",
      "py4j.clientserver INFO  Closing down clientserver connection\n",
      "py4j.clientserver INFO  Closing down clientserver connection\n"
     ]
    },
    {
     "name": "stdout",
     "output_type": "stream",
     "text": [
      "  2%|▏         | 18/1000 [06:46<33:40,  2.06s/trial, best loss: 0.9220165735796132]  "
     ]
    },
    {
     "name": "stderr",
     "output_type": "stream",
     "text": [
      "hyperopt.tpe INFO  build_posterior_wrapper took 0.000000 seconds\n",
      "hyperopt.tpe INFO  TPE using 31/31 trials with best loss 0.922017\n",
      "hyperopt.tpe INFO  build_posterior_wrapper took 0.015628 seconds\n",
      "hyperopt.tpe INFO  TPE using 32/32 trials with best loss 0.922017\n",
      "hyperopt.tpe INFO  build_posterior_wrapper took 0.078124 seconds\n",
      "hyperopt.tpe INFO  TPE using 33/33 trials with best loss 0.922017\n",
      "hyperopt.tpe INFO  build_posterior_wrapper took 0.015620 seconds\n",
      "hyperopt.tpe INFO  TPE using 34/34 trials with best loss 0.922017\n",
      "hyperopt.tpe INFO  build_posterior_wrapper took 0.015628 seconds\n",
      "hyperopt.tpe INFO  TPE using 35/35 trials with best loss 0.922017\n",
      "hyperopt.tpe INFO  build_posterior_wrapper took 0.000000 seconds\n",
      "hyperopt.tpe INFO  TPE using 36/36 trials with best loss 0.922017\n",
      "py4j.clientserver INFO  Closing down clientserver connection\n"
     ]
    },
    {
     "name": "stdout",
     "output_type": "stream",
     "text": [
      "  2%|▏         | 19/1000 [12:53<19:32:50, 71.73s/trial, best loss: 0.9220165735796132]"
     ]
    },
    {
     "name": "stderr",
     "output_type": "stream",
     "text": [
      "hyperopt.tpe INFO  build_posterior_wrapper took 0.000000 seconds\n",
      "hyperopt.tpe INFO  TPE using 37/37 trials with best loss 0.922017\n",
      "py4j.clientserver INFO  Closing down clientserver connection\n"
     ]
    },
    {
     "name": "stdout",
     "output_type": "stream",
     "text": [
      "  2%|▏         | 20/1000 [13:01<15:49:01, 58.10s/trial, best loss: 0.9220165735796132]"
     ]
    },
    {
     "name": "stderr",
     "output_type": "stream",
     "text": [
      "hyperopt.tpe INFO  build_posterior_wrapper took 0.015617 seconds\n",
      "hyperopt.tpe INFO  TPE using 38/38 trials with best loss 0.922017\n",
      "py4j.clientserver INFO  Closing down clientserver connection\n"
     ]
    },
    {
     "name": "stdout",
     "output_type": "stream",
     "text": [
      "  2%|▏         | 21/1000 [13:03<12:13:45, 44.97s/trial, best loss: 0.9220165735796132]"
     ]
    },
    {
     "name": "stderr",
     "output_type": "stream",
     "text": [
      "py4j.clientserver INFO  Closing down clientserver connection\n",
      "py4j.clientserver INFO  Closing down clientserver connection\n"
     ]
    },
    {
     "name": "stdout",
     "output_type": "stream",
     "text": [
      "  2%|▏         | 23/1000 [13:04<7:21:55, 27.14s/trial, best loss: 0.9220165735796132] "
     ]
    },
    {
     "name": "stderr",
     "output_type": "stream",
     "text": [
      "hyperopt.tpe INFO  build_posterior_wrapper took 0.093760 seconds\n",
      "hyperopt.tpe INFO  TPE using 39/39 trials with best loss 0.922017\n",
      "hyperopt.tpe INFO  build_posterior_wrapper took 0.015633 seconds\n",
      "hyperopt.tpe INFO  TPE using 40/40 trials with best loss 0.922017\n",
      "hyperopt.tpe INFO  build_posterior_wrapper took 0.015622 seconds\n",
      "hyperopt.tpe INFO  TPE using 41/41 trials with best loss 0.922017\n",
      "py4j.clientserver INFO  Closing down clientserver connection\n",
      "py4j.clientserver INFO  Closing down clientserver connection\n"
     ]
    },
    {
     "name": "stdout",
     "output_type": "stream",
     "text": [
      "  2%|▎         | 25/1000 [13:08<4:52:43, 18.01s/trial, best loss: 0.921527006954263] "
     ]
    },
    {
     "name": "stderr",
     "output_type": "stream",
     "text": [
      "hyperopt.tpe INFO  build_posterior_wrapper took 0.000000 seconds\n",
      "hyperopt.tpe INFO  TPE using 42/42 trials with best loss 0.921527\n",
      "hyperopt.tpe INFO  build_posterior_wrapper took 0.015610 seconds\n",
      "hyperopt.tpe INFO  TPE using 43/43 trials with best loss 0.921527\n",
      "py4j.clientserver INFO  Closing down clientserver connection\n"
     ]
    },
    {
     "name": "stdout",
     "output_type": "stream",
     "text": [
      "  3%|▎         | 26/1000 [13:12<4:05:37, 15.13s/trial, best loss: 0.921527006954263]"
     ]
    },
    {
     "name": "stderr",
     "output_type": "stream",
     "text": [
      "py4j.clientserver INFO  Closing down clientserver connection\n",
      "py4j.clientserver INFO  Closing down clientserver connection\n"
     ]
    },
    {
     "name": "stdout",
     "output_type": "stream",
     "text": [
      "  3%|▎         | 28/1000 [13:13<2:37:13,  9.71s/trial, best loss: 0.921527006954263]"
     ]
    },
    {
     "name": "stderr",
     "output_type": "stream",
     "text": [
      "hyperopt.tpe INFO  build_posterior_wrapper took 0.000000 seconds\n",
      "hyperopt.tpe INFO  TPE using 44/44 trials with best loss 0.921527\n",
      "py4j.clientserver INFO  Closing down clientserver connection\n"
     ]
    },
    {
     "name": "stdout",
     "output_type": "stream",
     "text": [
      "  3%|▎         | 29/1000 [13:14<2:07:37,  7.89s/trial, best loss: 0.921527006954263]"
     ]
    },
    {
     "name": "stderr",
     "output_type": "stream",
     "text": [
      "hyperopt.tpe INFO  build_posterior_wrapper took 0.093751 seconds\n",
      "hyperopt.tpe INFO  TPE using 45/45 trials with best loss 0.921527\n",
      "hyperopt.tpe INFO  build_posterior_wrapper took 0.015630 seconds\n",
      "hyperopt.tpe INFO  TPE using 46/46 trials with best loss 0.921527\n",
      "py4j.clientserver INFO  Closing down clientserver connection\n"
     ]
    },
    {
     "name": "stdout",
     "output_type": "stream",
     "text": [
      "  3%|▎         | 30/1000 [13:17<1:46:02,  6.56s/trial, best loss: 0.921527006954263]"
     ]
    },
    {
     "name": "stderr",
     "output_type": "stream",
     "text": [
      "hyperopt.tpe INFO  build_posterior_wrapper took 0.015619 seconds\n",
      "hyperopt.tpe INFO  TPE using 47/47 trials with best loss 0.921527\n",
      "py4j.clientserver INFO  Closing down clientserver connection\n"
     ]
    },
    {
     "name": "stdout",
     "output_type": "stream",
     "text": [
      "  3%|▎         | 31/1000 [13:18<1:23:49,  5.19s/trial, best loss: 0.9210151705701292]"
     ]
    },
    {
     "name": "stderr",
     "output_type": "stream",
     "text": [
      "hyperopt.tpe INFO  build_posterior_wrapper took 0.015626 seconds\n",
      "hyperopt.tpe INFO  TPE using 48/48 trials with best loss 0.921015\n",
      "hyperopt.tpe INFO  build_posterior_wrapper took 0.015630 seconds\n",
      "hyperopt.tpe INFO  TPE using 49/49 trials with best loss 0.921015\n",
      "py4j.clientserver INFO  Closing down clientserver connection\n",
      "py4j.clientserver INFO  Closing down clientserver connection\n"
     ]
    },
    {
     "name": "stdout",
     "output_type": "stream",
     "text": [
      "  3%|▎         | 33/1000 [13:20<55:50,  3.46s/trial, best loss: 0.9201391937549245]  "
     ]
    },
    {
     "name": "stderr",
     "output_type": "stream",
     "text": [
      "hyperopt.tpe INFO  build_posterior_wrapper took 0.015625 seconds\n",
      "hyperopt.tpe INFO  TPE using 50/50 trials with best loss 0.920139\n",
      "hyperopt.tpe INFO  build_posterior_wrapper took 0.015620 seconds\n",
      "hyperopt.tpe INFO  TPE using 51/51 trials with best loss 0.920139\n",
      "py4j.clientserver INFO  Closing down clientserver connection\n"
     ]
    },
    {
     "name": "stdout",
     "output_type": "stream",
     "text": [
      "  3%|▎         | 34/1000 [13:24<58:00,  3.60s/trial, best loss: 0.9201391937549245]"
     ]
    },
    {
     "name": "stderr",
     "output_type": "stream",
     "text": [
      "hyperopt.tpe INFO  build_posterior_wrapper took 0.093745 seconds\n",
      "hyperopt.tpe INFO  TPE using 52/52 trials with best loss 0.920139\n",
      "py4j.clientserver INFO  Closing down clientserver connection\n",
      "py4j.clientserver INFO  Closing down clientserver connection\n"
     ]
    },
    {
     "name": "stdout",
     "output_type": "stream",
     "text": [
      "  4%|▎         | 36/1000 [13:28<48:08,  3.00s/trial, best loss: 0.9201391937549245]"
     ]
    },
    {
     "name": "stderr",
     "output_type": "stream",
     "text": [
      "hyperopt.tpe INFO  build_posterior_wrapper took 0.015633 seconds\n",
      "hyperopt.tpe INFO  TPE using 53/53 trials with best loss 0.920139\n",
      "hyperopt.tpe INFO  build_posterior_wrapper took 0.015610 seconds\n",
      "hyperopt.tpe INFO  TPE using 54/54 trials with best loss 0.920139\n",
      "py4j.clientserver INFO  Closing down clientserver connection\n"
     ]
    },
    {
     "name": "stdout",
     "output_type": "stream",
     "text": [
      "  4%|▎         | 37/1000 [19:37<22:20:50, 83.54s/trial, best loss: 0.9201391937549245]"
     ]
    },
    {
     "name": "stderr",
     "output_type": "stream",
     "text": [
      "hyperopt.tpe INFO  build_posterior_wrapper took 0.015633 seconds\n",
      "hyperopt.tpe INFO  TPE using 55/55 trials with best loss 0.920139\n",
      "py4j.clientserver INFO  Closing down clientserver connection\n",
      "py4j.clientserver INFO  Closing down clientserver connection\n",
      "py4j.clientserver INFO  Closing down clientserver connection\n"
     ]
    },
    {
     "name": "stdout",
     "output_type": "stream",
     "text": [
      "  4%|▍         | 40/1000 [19:41<11:38:27, 43.65s/trial, best loss: 0.9201391937549245]"
     ]
    },
    {
     "name": "stderr",
     "output_type": "stream",
     "text": [
      "hyperopt.tpe INFO  build_posterior_wrapper took 0.015629 seconds\n",
      "hyperopt.tpe INFO  TPE using 56/56 trials with best loss 0.920139\n",
      "hyperopt.tpe INFO  build_posterior_wrapper took 0.015623 seconds\n",
      "hyperopt.tpe INFO  TPE using 57/57 trials with best loss 0.920139\n",
      "hyperopt.tpe INFO  build_posterior_wrapper took 0.109377 seconds\n",
      "hyperopt.tpe INFO  TPE using 58/58 trials with best loss 0.920139\n",
      "py4j.clientserver INFO  Closing down clientserver connection\n"
     ]
    },
    {
     "name": "stdout",
     "output_type": "stream",
     "text": [
      "  4%|▍         | 41/1000 [19:46<9:42:15, 36.43s/trial, best loss: 0.9201391937549245] "
     ]
    },
    {
     "name": "stderr",
     "output_type": "stream",
     "text": [
      "hyperopt.tpe INFO  build_posterior_wrapper took 0.015626 seconds\n",
      "hyperopt.tpe INFO  TPE using 59/59 trials with best loss 0.920139\n",
      "py4j.clientserver INFO  Closing down clientserver connection\n"
     ]
    },
    {
     "name": "stdout",
     "output_type": "stream",
     "text": [
      "  4%|▍         | 42/1000 [19:48<7:45:29, 29.15s/trial, best loss: 0.9201391937549245]"
     ]
    },
    {
     "name": "stderr",
     "output_type": "stream",
     "text": [
      "hyperopt.tpe INFO  build_posterior_wrapper took 0.015631 seconds\n",
      "hyperopt.tpe INFO  TPE using 60/60 trials with best loss 0.920139\n",
      "py4j.clientserver INFO  Closing down clientserver connection\n",
      "py4j.clientserver INFO  Closing down clientserver connection\n"
     ]
    },
    {
     "name": "stdout",
     "output_type": "stream",
     "text": [
      "  4%|▍         | 44/1000 [19:50<4:55:40, 18.56s/trial, best loss: 0.9201391937549245]"
     ]
    },
    {
     "name": "stderr",
     "output_type": "stream",
     "text": [
      "hyperopt.tpe INFO  build_posterior_wrapper took 0.000000 seconds\n",
      "hyperopt.tpe INFO  TPE using 61/61 trials with best loss 0.920139\n",
      "py4j.clientserver INFO  Closing down clientserver connection\n"
     ]
    },
    {
     "name": "stdout",
     "output_type": "stream",
     "text": [
      "  4%|▍         | 45/1000 [19:51<3:56:12, 14.84s/trial, best loss: 0.9201391937549245]"
     ]
    },
    {
     "name": "stderr",
     "output_type": "stream",
     "text": [
      "hyperopt.tpe INFO  build_posterior_wrapper took 0.015622 seconds\n",
      "hyperopt.tpe INFO  TPE using 62/62 trials with best loss 0.920139\n",
      "hyperopt.tpe INFO  build_posterior_wrapper took 0.015621 seconds\n",
      "hyperopt.tpe INFO  TPE using 63/63 trials with best loss 0.920139\n",
      "py4j.clientserver INFO  Closing down clientserver connection\n"
     ]
    },
    {
     "name": "stdout",
     "output_type": "stream",
     "text": [
      "  5%|▍         | 46/1000 [19:54<3:12:22, 12.10s/trial, best loss: 0.9201391937549245]"
     ]
    },
    {
     "name": "stderr",
     "output_type": "stream",
     "text": [
      "hyperopt.tpe INFO  build_posterior_wrapper took 0.093742 seconds\n",
      "hyperopt.tpe INFO  TPE using 64/64 trials with best loss 0.920139\n",
      "py4j.clientserver INFO  Closing down clientserver connection\n"
     ]
    },
    {
     "name": "stdout",
     "output_type": "stream",
     "text": [
      "  5%|▍         | 47/1000 [19:55<2:28:41,  9.36s/trial, best loss: 0.9201391937549245]"
     ]
    },
    {
     "name": "stderr",
     "output_type": "stream",
     "text": [
      "py4j.clientserver INFO  Closing down clientserver connection\n",
      "py4j.clientserver INFO  Closing down clientserver connection\n"
     ]
    },
    {
     "name": "stdout",
     "output_type": "stream",
     "text": [
      "  5%|▍         | 49/1000 [19:56<1:29:58,  5.68s/trial, best loss: 0.9201391937549245]"
     ]
    },
    {
     "name": "stderr",
     "output_type": "stream",
     "text": [
      "hyperopt.tpe INFO  build_posterior_wrapper took 0.015627 seconds\n",
      "hyperopt.tpe INFO  TPE using 65/65 trials with best loss 0.920139\n",
      "py4j.clientserver INFO  Closing down clientserver connection\n"
     ]
    },
    {
     "name": "stdout",
     "output_type": "stream",
     "text": [
      "  5%|▌         | 50/1000 [19:57<1:13:01,  4.61s/trial, best loss: 0.9201391937549245]"
     ]
    },
    {
     "name": "stderr",
     "output_type": "stream",
     "text": [
      "hyperopt.tpe INFO  build_posterior_wrapper took 0.015628 seconds\n",
      "hyperopt.tpe INFO  TPE using 66/66 trials with best loss 0.920139\n",
      "hyperopt.tpe INFO  build_posterior_wrapper took 0.015626 seconds\n",
      "hyperopt.tpe INFO  TPE using 67/67 trials with best loss 0.920139\n",
      "py4j.clientserver INFO  Closing down clientserver connection\n"
     ]
    },
    {
     "name": "stdout",
     "output_type": "stream",
     "text": [
      "  5%|▌         | 51/1000 [19:59<1:02:58,  3.98s/trial, best loss: 0.9201391937549245]"
     ]
    },
    {
     "name": "stderr",
     "output_type": "stream",
     "text": [
      "hyperopt.tpe INFO  build_posterior_wrapper took 0.000000 seconds\n",
      "hyperopt.tpe INFO  TPE using 68/68 trials with best loss 0.920139\n",
      "py4j.clientserver INFO  Closing down clientserver connection\n"
     ]
    },
    {
     "name": "stdout",
     "output_type": "stream",
     "text": [
      "  5%|▌         | 52/1000 [20:01<50:44,  3.21s/trial, best loss: 0.9201391937549245]  "
     ]
    },
    {
     "name": "stderr",
     "output_type": "stream",
     "text": [
      "hyperopt.tpe INFO  build_posterior_wrapper took 0.015625 seconds\n",
      "hyperopt.tpe INFO  TPE using 69/69 trials with best loss 0.920139\n",
      "py4j.clientserver INFO  Closing down clientserver connection\n"
     ]
    },
    {
     "name": "stdout",
     "output_type": "stream",
     "text": [
      "  5%|▌         | 53/1000 [20:02<41:19,  2.62s/trial, best loss: 0.9201391937549245]"
     ]
    },
    {
     "name": "stderr",
     "output_type": "stream",
     "text": [
      "hyperopt.tpe INFO  build_posterior_wrapper took 0.000000 seconds\n",
      "hyperopt.tpe INFO  TPE using 70/70 trials with best loss 0.920139\n",
      "py4j.clientserver INFO  Closing down clientserver connection\n"
     ]
    },
    {
     "name": "stdout",
     "output_type": "stream",
     "text": [
      "  5%|▌         | 54/1000 [20:03<34:15,  2.17s/trial, best loss: 0.9201391937549245]"
     ]
    },
    {
     "name": "stderr",
     "output_type": "stream",
     "text": [
      "hyperopt.tpe INFO  build_posterior_wrapper took 0.112487 seconds\n",
      "hyperopt.tpe INFO  TPE using 71/71 trials with best loss 0.920139\n",
      "hyperopt.tpe INFO  build_posterior_wrapper took 0.015627 seconds\n",
      "hyperopt.tpe INFO  TPE using 72/72 trials with best loss 0.920139\n",
      "py4j.clientserver INFO  Closing down clientserver connection\n",
      "py4j.clientserver INFO  Closing down clientserver connection\n"
     ]
    },
    {
     "name": "stdout",
     "output_type": "stream",
     "text": [
      "  6%|▌         | 56/1000 [26:11<21:45:29, 82.98s/trial, best loss: 0.9201391937549245]"
     ]
    },
    {
     "name": "stderr",
     "output_type": "stream",
     "text": [
      "hyperopt.tpe INFO  build_posterior_wrapper took 0.015612 seconds\n",
      "hyperopt.tpe INFO  TPE using 73/73 trials with best loss 0.920139\n",
      "hyperopt.tpe INFO  build_posterior_wrapper took 0.015630 seconds\n",
      "hyperopt.tpe INFO  TPE using 74/74 trials with best loss 0.920139\n",
      "py4j.clientserver INFO  Closing down clientserver connection\n",
      "py4j.clientserver INFO  Closing down clientserver connection\n",
      "py4j.clientserver INFO  Closing down clientserver connection\n"
     ]
    },
    {
     "name": "stdout",
     "output_type": "stream",
     "text": [
      "  6%|▌         | 59/1000 [26:19<11:27:33, 43.84s/trial, best loss: 0.9201391937549245]"
     ]
    },
    {
     "name": "stderr",
     "output_type": "stream",
     "text": [
      "py4j.clientserver INFO  Closing down clientserver connection\n"
     ]
    },
    {
     "name": "stdout",
     "output_type": "stream",
     "text": [
      "  6%|▌         | 60/1000 [26:20<9:20:25, 35.77s/trial, best loss: 0.9201391937549245] "
     ]
    },
    {
     "name": "stderr",
     "output_type": "stream",
     "text": [
      "hyperopt.tpe INFO  build_posterior_wrapper took 0.000000 seconds\n",
      "hyperopt.tpe INFO  TPE using 75/75 trials with best loss 0.920139\n",
      "py4j.clientserver INFO  Closing down clientserver connection\n"
     ]
    },
    {
     "name": "stdout",
     "output_type": "stream",
     "text": [
      "  6%|▌         | 61/1000 [26:21<7:24:30, 28.40s/trial, best loss: 0.9201391937549245]"
     ]
    },
    {
     "name": "stderr",
     "output_type": "stream",
     "text": [
      "hyperopt.tpe INFO  build_posterior_wrapper took 0.000000 seconds\n",
      "hyperopt.tpe INFO  TPE using 76/76 trials with best loss 0.920139\n",
      "hyperopt.tpe INFO  build_posterior_wrapper took 0.109382 seconds\n",
      "hyperopt.tpe INFO  TPE using 77/77 trials with best loss 0.920139\n",
      "py4j.clientserver INFO  Closing down clientserver connection\n"
     ]
    },
    {
     "name": "stdout",
     "output_type": "stream",
     "text": [
      "  6%|▌         | 62/1000 [26:23<5:48:34, 22.30s/trial, best loss: 0.9201391937549245]"
     ]
    },
    {
     "name": "stderr",
     "output_type": "stream",
     "text": [
      "hyperopt.tpe INFO  build_posterior_wrapper took 0.000000 seconds\n",
      "hyperopt.tpe INFO  TPE using 78/78 trials with best loss 0.920139\n",
      "hyperopt.tpe INFO  build_posterior_wrapper took 0.000000 seconds\n",
      "hyperopt.tpe INFO  TPE using 79/79 trials with best loss 0.920139\n",
      "py4j.clientserver INFO  Closing down clientserver connection\n"
     ]
    },
    {
     "name": "stdout",
     "output_type": "stream",
     "text": [
      "  6%|▋         | 63/1000 [26:25<4:29:21, 17.25s/trial, best loss: 0.9201391937549245]"
     ]
    },
    {
     "name": "stderr",
     "output_type": "stream",
     "text": [
      "hyperopt.tpe INFO  build_posterior_wrapper took 0.015631 seconds\n",
      "hyperopt.tpe INFO  TPE using 80/80 trials with best loss 0.920139\n",
      "py4j.clientserver INFO  Closing down clientserver connection\n"
     ]
    },
    {
     "name": "stdout",
     "output_type": "stream",
     "text": [
      "  6%|▋         | 64/1000 [26:26<3:22:34, 12.99s/trial, best loss: 0.9201391937549245]"
     ]
    },
    {
     "name": "stderr",
     "output_type": "stream",
     "text": [
      "hyperopt.tpe INFO  build_posterior_wrapper took 0.015629 seconds\n",
      "hyperopt.tpe INFO  TPE using 81/81 trials with best loss 0.920139\n",
      "hyperopt.tpe INFO  build_posterior_wrapper took 0.015624 seconds\n",
      "hyperopt.tpe INFO  TPE using 82/82 trials with best loss 0.920139\n",
      "py4j.clientserver INFO  Closing down clientserver connection\n",
      "py4j.clientserver INFO  Closing down clientserver connection\n",
      "py4j.clientserver INFO  Closing down clientserver connection\n",
      "py4j.clientserver INFO  Closing down clientserver connection\n"
     ]
    },
    {
     "name": "stdout",
     "output_type": "stream",
     "text": [
      "  7%|▋         | 68/1000 [26:28<1:25:26,  5.50s/trial, best loss: 0.9201391937549245]"
     ]
    },
    {
     "name": "stderr",
     "output_type": "stream",
     "text": [
      "py4j.clientserver INFO  Closing down clientserver connection\n"
     ]
    },
    {
     "name": "stdout",
     "output_type": "stream",
     "text": [
      "  7%|▋         | 69/1000 [26:29<1:13:03,  4.71s/trial, best loss: 0.9201391937549245]"
     ]
    },
    {
     "name": "stderr",
     "output_type": "stream",
     "text": [
      "hyperopt.tpe INFO  build_posterior_wrapper took 0.078115 seconds\n",
      "hyperopt.tpe INFO  TPE using 83/83 trials with best loss 0.920139\n",
      "py4j.clientserver INFO  Closing down clientserver connection\n"
     ]
    },
    {
     "name": "stdout",
     "output_type": "stream",
     "text": [
      "  7%|▋         | 70/1000 [26:31<1:01:41,  3.98s/trial, best loss: 0.9201391937549245]"
     ]
    },
    {
     "name": "stderr",
     "output_type": "stream",
     "text": [
      "hyperopt.tpe INFO  build_posterior_wrapper took 0.015631 seconds\n",
      "hyperopt.tpe INFO  TPE using 84/84 trials with best loss 0.920139\n",
      "hyperopt.tpe INFO  build_posterior_wrapper took 0.015625 seconds\n",
      "hyperopt.tpe INFO  TPE using 85/85 trials with best loss 0.920139\n",
      "py4j.clientserver INFO  Closing down clientserver connection\n"
     ]
    },
    {
     "name": "stdout",
     "output_type": "stream",
     "text": [
      "  7%|▋         | 71/1000 [26:33<54:55,  3.55s/trial, best loss: 0.9201391937549245]  "
     ]
    },
    {
     "name": "stderr",
     "output_type": "stream",
     "text": [
      "hyperopt.tpe INFO  build_posterior_wrapper took 0.000000 seconds\n",
      "hyperopt.tpe INFO  TPE using 86/86 trials with best loss 0.920139\n",
      "hyperopt.tpe INFO  build_posterior_wrapper took 0.015606 seconds\n",
      "hyperopt.tpe INFO  TPE using 87/87 trials with best loss 0.920139\n",
      "hyperopt.tpe INFO  build_posterior_wrapper took 0.015609 seconds\n",
      "hyperopt.tpe INFO  TPE using 88/88 trials with best loss 0.920139\n",
      "hyperopt.tpe INFO  build_posterior_wrapper took 0.015623 seconds\n",
      "hyperopt.tpe INFO  TPE using 89/89 trials with best loss 0.920139\n",
      "py4j.clientserver INFO  Closing down clientserver connection\n"
     ]
    },
    {
     "name": "stdout",
     "output_type": "stream",
     "text": [
      "  7%|▋         | 72/1000 [26:44<1:23:14,  5.38s/trial, best loss: 0.9201391937549245]"
     ]
    },
    {
     "name": "stderr",
     "output_type": "stream",
     "text": [
      "hyperopt.tpe INFO  build_posterior_wrapper took 0.109375 seconds\n",
      "hyperopt.tpe INFO  TPE using 90/90 trials with best loss 0.920139\n",
      "py4j.clientserver INFO  Closing down clientserver connection\n"
     ]
    },
    {
     "name": "stdout",
     "output_type": "stream",
     "text": [
      "  7%|▋         | 73/1000 [32:47<25:02:49, 97.27s/trial, best loss: 0.9201391937549245]"
     ]
    },
    {
     "name": "stderr",
     "output_type": "stream",
     "text": [
      "hyperopt.tpe INFO  build_posterior_wrapper took 0.015626 seconds\n",
      "hyperopt.tpe INFO  TPE using 91/91 trials with best loss 0.920139\n",
      "py4j.clientserver INFO  Closing down clientserver connection\n"
     ]
    },
    {
     "name": "stdout",
     "output_type": "stream",
     "text": [
      "  7%|▋         | 74/1000 [32:54<18:47:35, 73.06s/trial, best loss: 0.9201391937549245]"
     ]
    },
    {
     "name": "stderr",
     "output_type": "stream",
     "text": [
      "hyperopt.tpe INFO  build_posterior_wrapper took 0.015626 seconds\n",
      "hyperopt.tpe INFO  TPE using 92/92 trials with best loss 0.920139\n",
      "py4j.clientserver INFO  Closing down clientserver connection\n",
      "py4j.clientserver INFO  Closing down clientserver connection\n"
     ]
    },
    {
     "name": "stdout",
     "output_type": "stream",
     "text": [
      "  8%|▊         | 76/1000 [32:57<10:46:58, 42.01s/trial, best loss: 0.9201391937549245]"
     ]
    },
    {
     "name": "stderr",
     "output_type": "stream",
     "text": [
      "hyperopt.tpe INFO  build_posterior_wrapper took 0.015636 seconds\n",
      "hyperopt.tpe INFO  TPE using 93/93 trials with best loss 0.920139\n",
      "hyperopt.tpe INFO  build_posterior_wrapper took 0.015637 seconds\n",
      "hyperopt.tpe INFO  TPE using 94/94 trials with best loss 0.920139\n",
      "py4j.clientserver INFO  Closing down clientserver connection\n"
     ]
    },
    {
     "name": "stdout",
     "output_type": "stream",
     "text": [
      "  8%|▊         | 77/1000 [33:02<8:31:50, 33.27s/trial, best loss: 0.9201391937549245] "
     ]
    },
    {
     "name": "stderr",
     "output_type": "stream",
     "text": [
      "hyperopt.tpe INFO  build_posterior_wrapper took 0.000000 seconds\n",
      "hyperopt.tpe INFO  TPE using 95/95 trials with best loss 0.920139\n",
      "py4j.clientserver INFO  Closing down clientserver connection\n"
     ]
    },
    {
     "name": "stdout",
     "output_type": "stream",
     "text": [
      "  8%|▊         | 78/1000 [33:04<6:29:57, 25.38s/trial, best loss: 0.9201391937549245]"
     ]
    },
    {
     "name": "stderr",
     "output_type": "stream",
     "text": [
      "py4j.clientserver INFO  Closing down clientserver connection\n"
     ]
    },
    {
     "name": "stdout",
     "output_type": "stream",
     "text": [
      "  8%|▊         | 79/1000 [33:05<4:50:19, 18.91s/trial, best loss: 0.9201391937549245]"
     ]
    },
    {
     "name": "stderr",
     "output_type": "stream",
     "text": [
      "hyperopt.tpe INFO  build_posterior_wrapper took 0.000000 seconds\n",
      "hyperopt.tpe INFO  TPE using 96/96 trials with best loss 0.920139\n",
      "py4j.clientserver INFO  Closing down clientserver connection\n"
     ]
    },
    {
     "name": "stdout",
     "output_type": "stream",
     "text": [
      "  8%|▊         | 80/1000 [33:06<3:34:36, 14.00s/trial, best loss: 0.9201391937549245]"
     ]
    },
    {
     "name": "stderr",
     "output_type": "stream",
     "text": [
      "hyperopt.tpe INFO  build_posterior_wrapper took 0.111171 seconds\n",
      "hyperopt.tpe INFO  TPE using 97/97 trials with best loss 0.920139\n",
      "py4j.clientserver INFO  Closing down clientserver connection\n",
      "py4j.clientserver INFO  Closing down clientserver connection\n"
     ]
    },
    {
     "name": "stdout",
     "output_type": "stream",
     "text": [
      "  8%|▊         | 82/1000 [33:07<2:03:43,  8.09s/trial, best loss: 0.9201391937549245]"
     ]
    },
    {
     "name": "stderr",
     "output_type": "stream",
     "text": [
      "hyperopt.tpe INFO  build_posterior_wrapper took 0.015625 seconds\n",
      "hyperopt.tpe INFO  TPE using 98/98 trials with best loss 0.920139\n",
      "hyperopt.tpe INFO  build_posterior_wrapper took 0.015625 seconds\n",
      "hyperopt.tpe INFO  TPE using 99/99 trials with best loss 0.920139\n",
      "hyperopt.tpe INFO  build_posterior_wrapper took 0.015626 seconds\n",
      "hyperopt.tpe INFO  TPE using 100/100 trials with best loss 0.920139\n",
      "py4j.clientserver INFO  Closing down clientserver connection\n",
      "py4j.clientserver INFO  Closing down clientserver connection\n"
     ]
    },
    {
     "name": "stdout",
     "output_type": "stream",
     "text": [
      "  8%|▊         | 84/1000 [33:10<1:24:49,  5.56s/trial, best loss: 0.9201391937549245]"
     ]
    },
    {
     "name": "stderr",
     "output_type": "stream",
     "text": [
      "py4j.clientserver INFO  Closing down clientserver connection\n",
      "py4j.clientserver INFO  Closing down clientserver connection\n"
     ]
    },
    {
     "name": "stdout",
     "output_type": "stream",
     "text": [
      "  9%|▊         | 86/1000 [33:11<57:17,  3.76s/trial, best loss: 0.9201391937549245]  "
     ]
    },
    {
     "name": "stderr",
     "output_type": "stream",
     "text": [
      "hyperopt.tpe INFO  build_posterior_wrapper took 0.000000 seconds\n",
      "hyperopt.tpe INFO  TPE using 101/101 trials with best loss 0.920139\n",
      "py4j.clientserver INFO  Closing down clientserver connection\n",
      "py4j.clientserver INFO  Closing down clientserver connection\n"
     ]
    },
    {
     "name": "stdout",
     "output_type": "stream",
     "text": [
      "  9%|▉         | 88/1000 [33:12<40:32,  2.67s/trial, best loss: 0.9201391937549245]"
     ]
    },
    {
     "name": "stderr",
     "output_type": "stream",
     "text": [
      "hyperopt.tpe INFO  build_posterior_wrapper took 0.015628 seconds\n",
      "hyperopt.tpe INFO  TPE using 102/102 trials with best loss 0.920139\n",
      "py4j.clientserver INFO  Closing down clientserver connection\n"
     ]
    },
    {
     "name": "stdout",
     "output_type": "stream",
     "text": [
      "  9%|▉         | 89/1000 [33:13<35:41,  2.35s/trial, best loss: 0.9201391937549245]"
     ]
    },
    {
     "name": "stderr",
     "output_type": "stream",
     "text": [
      "hyperopt.tpe INFO  build_posterior_wrapper took 0.093737 seconds\n",
      "hyperopt.tpe INFO  TPE using 103/103 trials with best loss 0.920139\n",
      "hyperopt.tpe INFO  build_posterior_wrapper took 0.000000 seconds\n",
      "hyperopt.tpe INFO  TPE using 104/104 trials with best loss 0.920139\n",
      "hyperopt.tpe INFO  build_posterior_wrapper took 0.015627 seconds\n",
      "hyperopt.tpe INFO  TPE using 105/105 trials with best loss 0.920139\n",
      "hyperopt.tpe INFO  build_posterior_wrapper took 0.015622 seconds\n",
      "hyperopt.tpe INFO  TPE using 106/106 trials with best loss 0.920139\n",
      "hyperopt.tpe INFO  build_posterior_wrapper took 0.015625 seconds\n",
      "hyperopt.tpe INFO  TPE using 107/107 trials with best loss 0.920139\n",
      "py4j.clientserver INFO  Closing down clientserver connection\n"
     ]
    },
    {
     "name": "stdout",
     "output_type": "stream",
     "text": [
      "  9%|▉         | 90/1000 [33:22<54:58,  3.62s/trial, best loss: 0.9201391937549245]"
     ]
    },
    {
     "name": "stderr",
     "output_type": "stream",
     "text": [
      "hyperopt.tpe INFO  build_posterior_wrapper took 0.019557 seconds\n",
      "hyperopt.tpe INFO  TPE using 108/108 trials with best loss 0.920139\n",
      "py4j.clientserver INFO  Closing down clientserver connection\n"
     ]
    },
    {
     "name": "stdout",
     "output_type": "stream",
     "text": [
      "  9%|▉         | 91/1000 [39:29<22:38:40, 89.68s/trial, best loss: 0.9201391937549245]"
     ]
    },
    {
     "name": "stderr",
     "output_type": "stream",
     "text": [
      "hyperopt.tpe INFO  build_posterior_wrapper took 0.109365 seconds\n",
      "hyperopt.tpe INFO  TPE using 109/109 trials with best loss 0.920139\n",
      "py4j.clientserver INFO  Closing down clientserver connection\n",
      "py4j.clientserver INFO  Closing down clientserver connection\n",
      "py4j.clientserver INFO  Closing down clientserver connection\n"
     ]
    },
    {
     "name": "stdout",
     "output_type": "stream",
     "text": [
      "  9%|▉         | 94/1000 [39:36<11:30:37, 45.74s/trial, best loss: 0.9201391937549245]"
     ]
    },
    {
     "name": "stderr",
     "output_type": "stream",
     "text": [
      "hyperopt.tpe INFO  build_posterior_wrapper took 0.020999 seconds\n",
      "hyperopt.tpe INFO  TPE using 110/110 trials with best loss 0.920139\n",
      "hyperopt.tpe INFO  build_posterior_wrapper took 0.020103 seconds\n",
      "hyperopt.tpe INFO  TPE using 111/111 trials with best loss 0.920139\n",
      "hyperopt.tpe INFO  build_posterior_wrapper took 0.021999 seconds\n",
      "hyperopt.tpe INFO  TPE using 112/112 trials with best loss 0.920139\n",
      "py4j.clientserver INFO  Closing down clientserver connection\n",
      "py4j.clientserver INFO  Closing down clientserver connection\n",
      "py4j.clientserver INFO  Closing down clientserver connection\n"
     ]
    },
    {
     "name": "stdout",
     "output_type": "stream",
     "text": [
      " 10%|▉         | 97/1000 [39:42<6:53:17, 27.46s/trial, best loss: 0.9201391937549245] "
     ]
    },
    {
     "name": "stderr",
     "output_type": "stream",
     "text": [
      "hyperopt.tpe INFO  build_posterior_wrapper took 0.015621 seconds\n",
      "hyperopt.tpe INFO  TPE using 113/113 trials with best loss 0.920139\n",
      "hyperopt.tpe INFO  build_posterior_wrapper took 0.015629 seconds\n",
      "hyperopt.tpe INFO  TPE using 114/114 trials with best loss 0.920139\n",
      "py4j.clientserver INFO  Closing down clientserver connection\n"
     ]
    },
    {
     "name": "stdout",
     "output_type": "stream",
     "text": [
      " 10%|▉         | 98/1000 [39:44<5:49:22, 23.24s/trial, best loss: 0.9201391937549245]"
     ]
    },
    {
     "name": "stderr",
     "output_type": "stream",
     "text": [
      "hyperopt.tpe INFO  build_posterior_wrapper took 0.015630 seconds\n",
      "hyperopt.tpe INFO  TPE using 115/115 trials with best loss 0.920139\n",
      "hyperopt.tpe INFO  build_posterior_wrapper took 0.093753 seconds\n",
      "hyperopt.tpe INFO  TPE using 116/116 trials with best loss 0.920139\n",
      "py4j.clientserver INFO  Closing down clientserver connection\n"
     ]
    },
    {
     "name": "stdout",
     "output_type": "stream",
     "text": [
      " 10%|▉         | 99/1000 [39:48<4:51:06, 19.39s/trial, best loss: 0.9201391937549245]"
     ]
    },
    {
     "name": "stderr",
     "output_type": "stream",
     "text": [
      "hyperopt.tpe INFO  build_posterior_wrapper took 0.015627 seconds\n",
      "hyperopt.tpe INFO  TPE using 117/117 trials with best loss 0.920139\n",
      "py4j.clientserver INFO  Closing down clientserver connection\n"
     ]
    },
    {
     "name": "stdout",
     "output_type": "stream",
     "text": [
      " 10%|█         | 100/1000 [39:51<3:58:06, 15.87s/trial, best loss: 0.9201391937549245]"
     ]
    },
    {
     "name": "stderr",
     "output_type": "stream",
     "text": [
      "hyperopt.tpe INFO  build_posterior_wrapper took 0.000000 seconds\n",
      "hyperopt.tpe INFO  TPE using 118/118 trials with best loss 0.920139\n",
      "py4j.clientserver INFO  Closing down clientserver connection\n",
      "py4j.clientserver INFO  Closing down clientserver connection\n"
     ]
    },
    {
     "name": "stdout",
     "output_type": "stream",
     "text": [
      " 10%|█         | 102/1000 [39:52<2:30:04, 10.03s/trial, best loss: 0.9201391937549245]"
     ]
    },
    {
     "name": "stderr",
     "output_type": "stream",
     "text": [
      "hyperopt.tpe INFO  build_posterior_wrapper took 0.000000 seconds\n",
      "hyperopt.tpe INFO  TPE using 119/119 trials with best loss 0.920139\n",
      "hyperopt.tpe INFO  build_posterior_wrapper took 0.015623 seconds\n",
      "hyperopt.tpe INFO  TPE using 120/120 trials with best loss 0.920139\n",
      "py4j.clientserver INFO  Closing down clientserver connection\n"
     ]
    },
    {
     "name": "stdout",
     "output_type": "stream",
     "text": [
      " 10%|█         | 103/1000 [39:58<2:17:15,  9.18s/trial, best loss: 0.9201391937549245]"
     ]
    },
    {
     "name": "stderr",
     "output_type": "stream",
     "text": [
      "hyperopt.tpe INFO  build_posterior_wrapper took 0.000000 seconds\n",
      "hyperopt.tpe INFO  TPE using 121/121 trials with best loss 0.920139\n",
      "py4j.clientserver INFO  Closing down clientserver connection\n"
     ]
    },
    {
     "name": "stdout",
     "output_type": "stream",
     "text": [
      " 10%|█         | 104/1000 [40:01<1:55:40,  7.75s/trial, best loss: 0.9201391937549245]"
     ]
    },
    {
     "name": "stderr",
     "output_type": "stream",
     "text": [
      "hyperopt.tpe INFO  build_posterior_wrapper took 0.109374 seconds\n",
      "hyperopt.tpe INFO  TPE using 122/122 trials with best loss 0.920139\n",
      "py4j.clientserver INFO  Closing down clientserver connection\n",
      "py4j.clientserver INFO  Closing down clientserver connection\n"
     ]
    },
    {
     "name": "stdout",
     "output_type": "stream",
     "text": [
      " 11%|█         | 106/1000 [40:03<1:15:30,  5.07s/trial, best loss: 0.9201391937549245]"
     ]
    },
    {
     "name": "stderr",
     "output_type": "stream",
     "text": [
      "hyperopt.tpe INFO  build_posterior_wrapper took 0.015612 seconds\n",
      "hyperopt.tpe INFO  TPE using 123/123 trials with best loss 0.920139\n",
      "hyperopt.tpe INFO  build_posterior_wrapper took 0.015613 seconds\n",
      "hyperopt.tpe INFO  TPE using 124/124 trials with best loss 0.920139\n",
      "py4j.clientserver INFO  Closing down clientserver connection\n"
     ]
    },
    {
     "name": "stdout",
     "output_type": "stream",
     "text": [
      " 11%|█         | 107/1000 [40:06<1:08:45,  4.62s/trial, best loss: 0.9201391937549245]"
     ]
    },
    {
     "name": "stderr",
     "output_type": "stream",
     "text": [
      "hyperopt.tpe INFO  build_posterior_wrapper took 0.015620 seconds\n",
      "hyperopt.tpe INFO  TPE using 125/125 trials with best loss 0.920139\n",
      "py4j.clientserver INFO  Closing down clientserver connection\n"
     ]
    },
    {
     "name": "stdout",
     "output_type": "stream",
     "text": [
      " 11%|█         | 108/1000 [40:08<59:26,  4.00s/trial, best loss: 0.9201391937549245]  "
     ]
    },
    {
     "name": "stderr",
     "output_type": "stream",
     "text": [
      "hyperopt.tpe INFO  build_posterior_wrapper took 0.000000 seconds\n",
      "hyperopt.tpe INFO  TPE using 126/126 trials with best loss 0.920139\n",
      "py4j.clientserver INFO  Closing down clientserver connection\n"
     ]
    },
    {
     "name": "stdout",
     "output_type": "stream",
     "text": [
      " 11%|█         | 109/1000 [46:13<23:54:16, 96.58s/trial, best loss: 0.9201391937549245]"
     ]
    },
    {
     "name": "stderr",
     "output_type": "stream",
     "text": [
      "hyperopt.tpe INFO  build_posterior_wrapper took 0.015624 seconds\n",
      "hyperopt.tpe INFO  TPE using 127/127 trials with best loss 0.920139\n",
      "py4j.clientserver INFO  Closing down clientserver connection\n"
     ]
    },
    {
     "name": "stdout",
     "output_type": "stream",
     "text": [
      " 11%|█         | 110/1000 [46:14<17:32:50, 70.98s/trial, best loss: 0.9201391937549245]"
     ]
    },
    {
     "name": "stderr",
     "output_type": "stream",
     "text": [
      "py4j.clientserver INFO  Closing down clientserver connection\n"
     ]
    },
    {
     "name": "stdout",
     "output_type": "stream",
     "text": [
      " 11%|█         | 111/1000 [46:15<12:44:38, 51.61s/trial, best loss: 0.9201391937549245]"
     ]
    },
    {
     "name": "stderr",
     "output_type": "stream",
     "text": [
      "hyperopt.tpe INFO  build_posterior_wrapper took 0.093751 seconds\n",
      "hyperopt.tpe INFO  TPE using 128/128 trials with best loss 0.920139\n",
      "py4j.clientserver INFO  Closing down clientserver connection\n"
     ]
    },
    {
     "name": "stdout",
     "output_type": "stream",
     "text": [
      " 11%|█         | 112/1000 [46:16<9:11:59, 37.30s/trial, best loss: 0.9201391937549245] "
     ]
    },
    {
     "name": "stderr",
     "output_type": "stream",
     "text": [
      "hyperopt.tpe INFO  build_posterior_wrapper took 0.000000 seconds\n",
      "hyperopt.tpe INFO  TPE using 129/129 trials with best loss 0.920139\n",
      "hyperopt.tpe INFO  build_posterior_wrapper took 0.015625 seconds\n",
      "hyperopt.tpe INFO  TPE using 130/130 trials with best loss 0.920139\n",
      "py4j.clientserver INFO  Closing down clientserver connection\n",
      "py4j.clientserver INFO  Closing down clientserver connection\n"
     ]
    },
    {
     "name": "stdout",
     "output_type": "stream",
     "text": [
      " 11%|█▏        | 114/1000 [46:22<5:24:22, 21.97s/trial, best loss: 0.9201391937549245]"
     ]
    },
    {
     "name": "stderr",
     "output_type": "stream",
     "text": [
      "hyperopt.tpe INFO  build_posterior_wrapper took 0.015623 seconds\n",
      "hyperopt.tpe INFO  TPE using 131/131 trials with best loss 0.920139\n",
      "py4j.clientserver INFO  Closing down clientserver connection\n"
     ]
    },
    {
     "name": "stdout",
     "output_type": "stream",
     "text": [
      " 12%|█▏        | 115/1000 [46:24<4:12:50, 17.14s/trial, best loss: 0.9201391937549245]"
     ]
    },
    {
     "name": "stderr",
     "output_type": "stream",
     "text": [
      "hyperopt.tpe INFO  build_posterior_wrapper took 0.015630 seconds\n",
      "hyperopt.tpe INFO  TPE using 132/132 trials with best loss 0.920139\n",
      "py4j.clientserver INFO  Closing down clientserver connection\n",
      "py4j.clientserver INFO  Closing down clientserver connection\n"
     ]
    },
    {
     "name": "stdout",
     "output_type": "stream",
     "text": [
      " 12%|█▏        | 117/1000 [46:26<2:32:11, 10.34s/trial, best loss: 0.9201391937549245]"
     ]
    },
    {
     "name": "stderr",
     "output_type": "stream",
     "text": [
      "hyperopt.tpe INFO  build_posterior_wrapper took 0.000000 seconds\n",
      "hyperopt.tpe INFO  TPE using 133/133 trials with best loss 0.920139\n",
      "hyperopt.tpe INFO  build_posterior_wrapper took 0.015631 seconds\n",
      "hyperopt.tpe INFO  TPE using 134/134 trials with best loss 0.920139\n",
      "hyperopt.tpe INFO  build_posterior_wrapper took 0.093752 seconds\n",
      "hyperopt.tpe INFO  TPE using 135/135 trials with best loss 0.920139\n",
      "py4j.clientserver INFO  Closing down clientserver connection\n"
     ]
    },
    {
     "name": "stdout",
     "output_type": "stream",
     "text": [
      " 12%|█▏        | 118/1000 [46:33<2:21:34,  9.63s/trial, best loss: 0.9201391937549245]"
     ]
    },
    {
     "name": "stderr",
     "output_type": "stream",
     "text": [
      "hyperopt.tpe INFO  build_posterior_wrapper took 0.015626 seconds\n",
      "hyperopt.tpe INFO  TPE using 136/136 trials with best loss 0.920139\n",
      "py4j.clientserver INFO  Closing down clientserver connection\n"
     ]
    },
    {
     "name": "stdout",
     "output_type": "stream",
     "text": [
      " 12%|█▏        | 119/1000 [46:35<1:54:09,  7.78s/trial, best loss: 0.9201391937549245]"
     ]
    },
    {
     "name": "stderr",
     "output_type": "stream",
     "text": [
      "hyperopt.tpe INFO  build_posterior_wrapper took 0.015626 seconds\n",
      "hyperopt.tpe INFO  TPE using 137/137 trials with best loss 0.920139\n",
      "py4j.clientserver INFO  Closing down clientserver connection\n"
     ]
    },
    {
     "name": "stdout",
     "output_type": "stream",
     "text": [
      " 12%|█▏        | 120/1000 [46:36<1:28:28,  6.03s/trial, best loss: 0.9201391937549245]"
     ]
    },
    {
     "name": "stderr",
     "output_type": "stream",
     "text": [
      "hyperopt.tpe INFO  build_posterior_wrapper took 0.008109 seconds\n",
      "hyperopt.tpe INFO  TPE using 138/138 trials with best loss 0.920139\n",
      "py4j.clientserver INFO  Closing down clientserver connection\n",
      "py4j.clientserver INFO  Closing down clientserver connection\n"
     ]
    },
    {
     "name": "stdout",
     "output_type": "stream",
     "text": [
      " 12%|█▏        | 122/1000 [46:41<1:06:36,  4.55s/trial, best loss: 0.9201391937549245]"
     ]
    },
    {
     "name": "stderr",
     "output_type": "stream",
     "text": [
      "hyperopt.tpe INFO  build_posterior_wrapper took 0.015629 seconds\n",
      "hyperopt.tpe INFO  TPE using 139/139 trials with best loss 0.920139\n",
      "py4j.clientserver INFO  Closing down clientserver connection\n"
     ]
    },
    {
     "name": "stdout",
     "output_type": "stream",
     "text": [
      " 12%|█▏        | 123/1000 [46:42<54:31,  3.73s/trial, best loss: 0.9201391937549245]  "
     ]
    },
    {
     "name": "stderr",
     "output_type": "stream",
     "text": [
      "hyperopt.tpe INFO  build_posterior_wrapper took 0.015626 seconds\n",
      "hyperopt.tpe INFO  TPE using 140/140 trials with best loss 0.920139\n",
      "hyperopt.tpe INFO  build_posterior_wrapper took 0.109384 seconds\n",
      "hyperopt.tpe INFO  TPE using 141/141 trials with best loss 0.920139\n",
      "py4j.clientserver INFO  Closing down clientserver connection\n"
     ]
    },
    {
     "name": "stdout",
     "output_type": "stream",
     "text": [
      " 12%|█▏        | 124/1000 [46:45<52:23,  3.59s/trial, best loss: 0.9201391937549245]"
     ]
    },
    {
     "name": "stderr",
     "output_type": "stream",
     "text": [
      "py4j.clientserver INFO  Closing down clientserver connection\n"
     ]
    },
    {
     "name": "stdout",
     "output_type": "stream",
     "text": [
      " 12%|█▎        | 125/1000 [46:46<42:24,  2.91s/trial, best loss: 0.9201391937549245]"
     ]
    },
    {
     "name": "stderr",
     "output_type": "stream",
     "text": [
      "hyperopt.tpe INFO  build_posterior_wrapper took 0.015625 seconds\n",
      "hyperopt.tpe INFO  TPE using 142/142 trials with best loss 0.920139\n",
      "py4j.clientserver INFO  Closing down clientserver connection\n"
     ]
    },
    {
     "name": "stdout",
     "output_type": "stream",
     "text": [
      " 13%|█▎        | 126/1000 [46:47<34:56,  2.40s/trial, best loss: 0.9201391937549245]"
     ]
    },
    {
     "name": "stderr",
     "output_type": "stream",
     "text": [
      "hyperopt.tpe INFO  build_posterior_wrapper took 0.015630 seconds\n",
      "hyperopt.tpe INFO  TPE using 143/143 trials with best loss 0.920139\n",
      "hyperopt.tpe INFO  build_posterior_wrapper took 0.015630 seconds\n",
      "hyperopt.tpe INFO  TPE using 144/144 trials with best loss 0.920139\n",
      "py4j.clientserver INFO  Closing down clientserver connection\n"
     ]
    },
    {
     "name": "stdout",
     "output_type": "stream",
     "text": [
      " 13%|█▎        | 127/1000 [52:48<25:00:20, 103.12s/trial, best loss: 0.9201391937549245]"
     ]
    },
    {
     "name": "stderr",
     "output_type": "stream",
     "text": [
      "hyperopt.tpe INFO  build_posterior_wrapper took 0.015618 seconds\n",
      "hyperopt.tpe INFO  TPE using 145/145 trials with best loss 0.920139\n",
      "py4j.clientserver INFO  Closing down clientserver connection\n"
     ]
    },
    {
     "name": "stdout",
     "output_type": "stream",
     "text": [
      " 13%|█▎        | 128/1000 [52:54<18:10:53, 75.06s/trial, best loss: 0.9201391937549245] "
     ]
    },
    {
     "name": "stderr",
     "output_type": "stream",
     "text": [
      "hyperopt.tpe INFO  build_posterior_wrapper took 0.000000 seconds\n",
      "hyperopt.tpe INFO  TPE using 146/146 trials with best loss 0.920139\n",
      "py4j.clientserver INFO  Closing down clientserver connection\n"
     ]
    },
    {
     "name": "stdout",
     "output_type": "stream",
     "text": [
      " 13%|█▎        | 129/1000 [52:57<13:06:17, 54.16s/trial, best loss: 0.9201391937549245]"
     ]
    },
    {
     "name": "stderr",
     "output_type": "stream",
     "text": [
      "hyperopt.tpe INFO  build_posterior_wrapper took 0.109380 seconds\n",
      "hyperopt.tpe INFO  TPE using 147/147 trials with best loss 0.920139\n",
      "py4j.clientserver INFO  Closing down clientserver connection\n",
      "py4j.clientserver INFO  Closing down clientserver connection\n"
     ]
    },
    {
     "name": "stdout",
     "output_type": "stream",
     "text": [
      " 13%|█▎        | 131/1000 [53:02<7:25:55, 30.79s/trial, best loss: 0.9201391937549245] "
     ]
    },
    {
     "name": "stderr",
     "output_type": "stream",
     "text": [
      "py4j.clientserver INFO  Closing down clientserver connection\n",
      "py4j.clientserver INFO  Closing down clientserver connection\n"
     ]
    },
    {
     "name": "stdout",
     "output_type": "stream",
     "text": [
      " 13%|█▎        | 133/1000 [53:03<4:32:53, 18.89s/trial, best loss: 0.9201391937549245]"
     ]
    },
    {
     "name": "stderr",
     "output_type": "stream",
     "text": [
      "hyperopt.tpe INFO  build_posterior_wrapper took 0.000000 seconds\n",
      "hyperopt.tpe INFO  TPE using 148/148 trials with best loss 0.920139\n",
      "hyperopt.tpe INFO  build_posterior_wrapper took 0.015613 seconds\n",
      "hyperopt.tpe INFO  TPE using 149/149 trials with best loss 0.920139\n",
      "py4j.clientserver INFO  Closing down clientserver connection\n",
      "py4j.clientserver INFO  Closing down clientserver connection\n"
     ]
    },
    {
     "name": "stdout",
     "output_type": "stream",
     "text": [
      " 14%|█▎        | 135/1000 [53:05<2:59:40, 12.46s/trial, best loss: 0.9201391937549245]"
     ]
    },
    {
     "name": "stderr",
     "output_type": "stream",
     "text": [
      "hyperopt.tpe INFO  build_posterior_wrapper took 0.015631 seconds\n",
      "hyperopt.tpe INFO  TPE using 150/150 trials with best loss 0.920139\n",
      "hyperopt.tpe INFO  build_posterior_wrapper took 0.015625 seconds\n",
      "hyperopt.tpe INFO  TPE using 151/151 trials with best loss 0.920139\n",
      "hyperopt.tpe INFO  build_posterior_wrapper took 0.015637 seconds\n",
      "hyperopt.tpe INFO  TPE using 152/152 trials with best loss 0.920139\n",
      "py4j.clientserver INFO  Closing down clientserver connection\n"
     ]
    },
    {
     "name": "stdout",
     "output_type": "stream",
     "text": [
      " 14%|█▎        | 136/1000 [53:08<2:31:52, 10.55s/trial, best loss: 0.9201391937549245]"
     ]
    },
    {
     "name": "stderr",
     "output_type": "stream",
     "text": [
      "hyperopt.tpe INFO  build_posterior_wrapper took 0.015622 seconds\n",
      "hyperopt.tpe INFO  TPE using 153/153 trials with best loss 0.920139\n",
      "hyperopt.tpe INFO  build_posterior_wrapper took 0.093763 seconds\n",
      "hyperopt.tpe INFO  TPE using 154/154 trials with best loss 0.920139\n",
      "py4j.clientserver INFO  Closing down clientserver connection\n"
     ]
    },
    {
     "name": "stdout",
     "output_type": "stream",
     "text": [
      " 14%|█▎        | 137/1000 [53:14<2:17:32,  9.56s/trial, best loss: 0.9201391937549245]"
     ]
    },
    {
     "name": "stderr",
     "output_type": "stream",
     "text": [
      "hyperopt.tpe INFO  build_posterior_wrapper took 0.000000 seconds\n",
      "hyperopt.tpe INFO  TPE using 155/155 trials with best loss 0.920139\n",
      "py4j.clientserver INFO  Closing down clientserver connection\n"
     ]
    },
    {
     "name": "stdout",
     "output_type": "stream",
     "text": [
      " 14%|█▍        | 138/1000 [53:16<1:50:55,  7.72s/trial, best loss: 0.9201391937549245]"
     ]
    },
    {
     "name": "stderr",
     "output_type": "stream",
     "text": [
      "hyperopt.tpe INFO  build_posterior_wrapper took 0.015615 seconds\n",
      "hyperopt.tpe INFO  TPE using 156/156 trials with best loss 0.920139\n",
      "py4j.clientserver INFO  Closing down clientserver connection\n"
     ]
    },
    {
     "name": "stdout",
     "output_type": "stream",
     "text": [
      " 14%|█▍        | 139/1000 [53:18<1:29:45,  6.26s/trial, best loss: 0.9201391937549245]"
     ]
    },
    {
     "name": "stderr",
     "output_type": "stream",
     "text": [
      "hyperopt.tpe INFO  build_posterior_wrapper took 0.015624 seconds\n",
      "hyperopt.tpe INFO  TPE using 157/157 trials with best loss 0.920139\n",
      "py4j.clientserver INFO  Closing down clientserver connection\n"
     ]
    },
    {
     "name": "stdout",
     "output_type": "stream",
     "text": [
      " 14%|█▍        | 140/1000 [53:19<1:09:30,  4.85s/trial, best loss: 0.9201391937549245]"
     ]
    },
    {
     "name": "stderr",
     "output_type": "stream",
     "text": [
      "hyperopt.tpe INFO  build_posterior_wrapper took 0.015630 seconds\n",
      "hyperopt.tpe INFO  TPE using 158/158 trials with best loss 0.920139\n",
      "py4j.clientserver INFO  Closing down clientserver connection\n"
     ]
    },
    {
     "name": "stdout",
     "output_type": "stream",
     "text": [
      " 14%|█▍        | 141/1000 [53:21<58:15,  4.07s/trial, best loss: 0.9201391937549245]  "
     ]
    },
    {
     "name": "stderr",
     "output_type": "stream",
     "text": [
      "hyperopt.tpe INFO  build_posterior_wrapper took 0.015614 seconds\n",
      "hyperopt.tpe INFO  TPE using 159/159 trials with best loss 0.920139\n",
      "py4j.clientserver INFO  Closing down clientserver connection\n"
     ]
    },
    {
     "name": "stdout",
     "output_type": "stream",
     "text": [
      " 14%|█▍        | 142/1000 [53:23<49:56,  3.49s/trial, best loss: 0.9201391937549245]"
     ]
    },
    {
     "name": "stderr",
     "output_type": "stream",
     "text": [
      "hyperopt.tpe INFO  build_posterior_wrapper took 0.109379 seconds\n",
      "hyperopt.tpe INFO  TPE using 160/160 trials with best loss 0.920139\n",
      "py4j.clientserver INFO  Closing down clientserver connection\n"
     ]
    },
    {
     "name": "stdout",
     "output_type": "stream",
     "text": [
      " 14%|█▍        | 143/1000 [53:25<44:16,  3.10s/trial, best loss: 0.9201391937549245]"
     ]
    },
    {
     "name": "stderr",
     "output_type": "stream",
     "text": [
      "hyperopt.tpe INFO  build_posterior_wrapper took 0.015618 seconds\n",
      "hyperopt.tpe INFO  TPE using 161/161 trials with best loss 0.920139\n",
      "py4j.clientserver INFO  Closing down clientserver connection\n"
     ]
    },
    {
     "name": "stdout",
     "output_type": "stream",
     "text": [
      " 14%|█▍        | 144/1000 [53:28<44:00,  3.08s/trial, best loss: 0.9201391937549245]"
     ]
    },
    {
     "name": "stderr",
     "output_type": "stream",
     "text": [
      "hyperopt.tpe INFO  build_posterior_wrapper took 0.015620 seconds\n",
      "hyperopt.tpe INFO  TPE using 162/162 trials with best loss 0.920139\n",
      "py4j.clientserver INFO  Closing down clientserver connection\n"
     ]
    },
    {
     "name": "stdout",
     "output_type": "stream",
     "text": [
      " 14%|█▍        | 145/1000 [59:14<24:42:33, 104.04s/trial, best loss: 0.9201391937549245]"
     ]
    },
    {
     "name": "stderr",
     "output_type": "stream",
     "text": [
      "hyperopt.tpe INFO  build_posterior_wrapper took 0.015626 seconds\n",
      "hyperopt.tpe INFO  TPE using 163/163 trials with best loss 0.920139\n",
      "py4j.clientserver INFO  Closing down clientserver connection\n"
     ]
    },
    {
     "name": "stdout",
     "output_type": "stream",
     "text": [
      " 15%|█▍        | 146/1000 [59:25<18:05:03, 76.23s/trial, best loss: 0.9201391937549245] "
     ]
    },
    {
     "name": "stderr",
     "output_type": "stream",
     "text": [
      "hyperopt.tpe INFO  build_posterior_wrapper took 0.000000 seconds\n",
      "hyperopt.tpe INFO  TPE using 164/164 trials with best loss 0.920139\n",
      "py4j.clientserver INFO  Closing down clientserver connection\n"
     ]
    },
    {
     "name": "stdout",
     "output_type": "stream",
     "text": [
      " 15%|█▍        | 147/1000 [59:27<12:50:11, 54.18s/trial, best loss: 0.9201391937549245]"
     ]
    },
    {
     "name": "stderr",
     "output_type": "stream",
     "text": [
      "hyperopt.tpe INFO  build_posterior_wrapper took 0.015618 seconds\n",
      "hyperopt.tpe INFO  TPE using 165/165 trials with best loss 0.920139\n",
      "py4j.clientserver INFO  Closing down clientserver connection\n"
     ]
    },
    {
     "name": "stdout",
     "output_type": "stream",
     "text": [
      " 15%|█▍        | 148/1000 [59:34<9:29:45, 40.12s/trial, best loss: 0.9201391937549245] "
     ]
    },
    {
     "name": "stderr",
     "output_type": "stream",
     "text": [
      "hyperopt.tpe INFO  build_posterior_wrapper took 0.093754 seconds\n",
      "hyperopt.tpe INFO  TPE using 166/166 trials with best loss 0.920139\n",
      "py4j.clientserver INFO  Closing down clientserver connection\n",
      "py4j.clientserver INFO  Closing down clientserver connection\n"
     ]
    },
    {
     "name": "stdout",
     "output_type": "stream",
     "text": [
      " 15%|█▌        | 150/1000 [59:41<5:30:16, 23.31s/trial, best loss: 0.9201391937549245]"
     ]
    },
    {
     "name": "stderr",
     "output_type": "stream",
     "text": [
      "hyperopt.tpe INFO  build_posterior_wrapper took 0.015616 seconds\n",
      "hyperopt.tpe INFO  TPE using 167/167 trials with best loss 0.920139\n",
      "hyperopt.tpe INFO  build_posterior_wrapper took 0.015638 seconds\n",
      "hyperopt.tpe INFO  TPE using 168/168 trials with best loss 0.920139\n",
      "py4j.clientserver INFO  Closing down clientserver connection\n"
     ]
    },
    {
     "name": "stdout",
     "output_type": "stream",
     "text": [
      " 15%|█▌        | 151/1000 [59:45<4:22:28, 18.55s/trial, best loss: 0.9201391937549245]"
     ]
    },
    {
     "name": "stderr",
     "output_type": "stream",
     "text": [
      "py4j.clientserver INFO  Closing down clientserver connection\n",
      "py4j.clientserver INFO  Closing down clientserver connection\n"
     ]
    },
    {
     "name": "stdout",
     "output_type": "stream",
     "text": [
      " 15%|█▌        | 153/1000 [59:46<2:36:23, 11.08s/trial, best loss: 0.9201391937549245]"
     ]
    },
    {
     "name": "stderr",
     "output_type": "stream",
     "text": [
      "hyperopt.tpe INFO  build_posterior_wrapper took 0.015641 seconds\n",
      "hyperopt.tpe INFO  TPE using 169/169 trials with best loss 0.920139\n",
      "py4j.clientserver INFO  Closing down clientserver connection\n",
      "py4j.clientserver INFO  Closing down clientserver connection\n"
     ]
    },
    {
     "name": "stdout",
     "output_type": "stream",
     "text": [
      " 16%|█▌        | 155/1000 [59:47<1:40:45,  7.15s/trial, best loss: 0.9201391937549245]"
     ]
    },
    {
     "name": "stderr",
     "output_type": "stream",
     "text": [
      "hyperopt.tpe INFO  build_posterior_wrapper took 0.000000 seconds\n",
      "hyperopt.tpe INFO  TPE using 170/170 trials with best loss 0.920139\n",
      "py4j.clientserver INFO  Closing down clientserver connection\n"
     ]
    },
    {
     "name": "stdout",
     "output_type": "stream",
     "text": [
      " 16%|█▌        | 156/1000 [59:48<1:22:32,  5.87s/trial, best loss: 0.9201391937549245]"
     ]
    },
    {
     "name": "stderr",
     "output_type": "stream",
     "text": [
      "hyperopt.tpe INFO  build_posterior_wrapper took 0.015607 seconds\n",
      "hyperopt.tpe INFO  TPE using 171/171 trials with best loss 0.920139\n",
      "hyperopt.tpe INFO  build_posterior_wrapper took 0.000000 seconds\n",
      "hyperopt.tpe INFO  TPE using 172/172 trials with best loss 0.920139\n",
      "hyperopt.tpe INFO  build_posterior_wrapper took 0.097008 seconds\n",
      "hyperopt.tpe INFO  TPE using 173/173 trials with best loss 0.920139\n",
      "hyperopt.tpe INFO  build_posterior_wrapper took 0.015632 seconds\n",
      "hyperopt.tpe INFO  TPE using 174/174 trials with best loss 0.920139\n",
      "py4j.clientserver INFO  Closing down clientserver connection\n"
     ]
    },
    {
     "name": "stdout",
     "output_type": "stream",
     "text": [
      " 16%|█▌        | 157/1000 [59:52<1:16:59,  5.48s/trial, best loss: 0.9201391937549245]"
     ]
    },
    {
     "name": "stderr",
     "output_type": "stream",
     "text": [
      "py4j.clientserver INFO  Closing down clientserver connection\n"
     ]
    },
    {
     "name": "stdout",
     "output_type": "stream",
     "text": [
      " 16%|█▌        | 158/1000 [59:53<1:01:22,  4.37s/trial, best loss: 0.9201391937549245]"
     ]
    },
    {
     "name": "stderr",
     "output_type": "stream",
     "text": [
      "hyperopt.tpe INFO  build_posterior_wrapper took 0.015641 seconds\n",
      "hyperopt.tpe INFO  TPE using 175/175 trials with best loss 0.920139\n",
      "hyperopt.tpe INFO  build_posterior_wrapper took 0.015622 seconds\n",
      "hyperopt.tpe INFO  TPE using 176/176 trials with best loss 0.920139\n",
      "py4j.clientserver INFO  Closing down clientserver connection\n"
     ]
    },
    {
     "name": "stdout",
     "output_type": "stream",
     "text": [
      " 16%|█▌        | 159/1000 [59:58<1:03:52,  4.56s/trial, best loss: 0.9201391937549245]"
     ]
    },
    {
     "name": "stderr",
     "output_type": "stream",
     "text": [
      "py4j.clientserver INFO  Closing down clientserver connection\n",
      "py4j.clientserver INFO  Closing down clientserver connection\n",
      "py4j.clientserver INFO  Closing down clientserver connection\n"
     ]
    },
    {
     "name": "stdout",
     "output_type": "stream",
     "text": [
      " 16%|█▌        | 162/1000 [59:59<32:28,  2.33s/trial, best loss: 0.9201391937549245]  "
     ]
    },
    {
     "name": "stderr",
     "output_type": "stream",
     "text": [
      "hyperopt.tpe INFO  build_posterior_wrapper took 0.000000 seconds\n",
      "hyperopt.tpe INFO  TPE using 177/177 trials with best loss 0.920139\n",
      "hyperopt.tpe INFO  build_posterior_wrapper took 0.015631 seconds\n",
      "hyperopt.tpe INFO  TPE using 178/178 trials with best loss 0.920139\n",
      "hyperopt.tpe INFO  build_posterior_wrapper took 0.093748 seconds\n",
      "hyperopt.tpe INFO  TPE using 179/179 trials with best loss 0.920139\n",
      "hyperopt.tpe INFO  build_posterior_wrapper took 0.015623 seconds\n",
      "hyperopt.tpe INFO  TPE using 180/180 trials with best loss 0.920139\n",
      "py4j.clientserver INFO  Closing down clientserver connection\n"
     ]
    },
    {
     "name": "stdout",
     "output_type": "stream",
     "text": [
      " 16%|█▋        | 163/1000 [1:05:56<17:05:48, 73.53s/trial, best loss: 0.9201391937549245]"
     ]
    },
    {
     "name": "stderr",
     "output_type": "stream",
     "text": [
      "hyperopt.tpe INFO  build_posterior_wrapper took 0.015627 seconds\n",
      "hyperopt.tpe INFO  TPE using 181/181 trials with best loss 0.920139\n",
      "py4j.clientserver INFO  Closing down clientserver connection\n"
     ]
    },
    {
     "name": "stdout",
     "output_type": "stream",
     "text": [
      " 16%|█▋        | 164/1000 [1:06:04<13:41:05, 58.93s/trial, best loss: 0.9201391937549245]"
     ]
    },
    {
     "name": "stderr",
     "output_type": "stream",
     "text": [
      "py4j.clientserver INFO  Closing down clientserver connection\n"
     ]
    },
    {
     "name": "stdout",
     "output_type": "stream",
     "text": [
      " 16%|█▋        | 165/1000 [1:06:05<10:25:15, 44.93s/trial, best loss: 0.9201391937549245]"
     ]
    },
    {
     "name": "stderr",
     "output_type": "stream",
     "text": [
      "hyperopt.tpe INFO  build_posterior_wrapper took 0.016410 seconds\n",
      "hyperopt.tpe INFO  TPE using 182/182 trials with best loss 0.920139\n",
      "hyperopt.tpe INFO  build_posterior_wrapper took 0.015633 seconds\n",
      "hyperopt.tpe INFO  TPE using 183/183 trials with best loss 0.920139\n",
      "py4j.clientserver INFO  Closing down clientserver connection\n"
     ]
    },
    {
     "name": "stdout",
     "output_type": "stream",
     "text": [
      " 17%|█▋        | 166/1000 [1:06:15<8:20:15, 35.99s/trial, best loss: 0.9201391937549245] "
     ]
    },
    {
     "name": "stderr",
     "output_type": "stream",
     "text": [
      "hyperopt.tpe INFO  build_posterior_wrapper took 0.015625 seconds\n",
      "hyperopt.tpe INFO  TPE using 184/184 trials with best loss 0.920139\n",
      "py4j.clientserver INFO  Closing down clientserver connection\n"
     ]
    },
    {
     "name": "stdout",
     "output_type": "stream",
     "text": [
      " 17%|█▋        | 167/1000 [1:06:29<6:58:07, 30.12s/trial, best loss: 0.9201391937549245]"
     ]
    },
    {
     "name": "stderr",
     "output_type": "stream",
     "text": [
      "py4j.clientserver INFO  Closing down clientserver connection\n"
     ]
    },
    {
     "name": "stdout",
     "output_type": "stream",
     "text": [
      " 17%|█▋        | 168/1000 [1:06:30<5:05:45, 22.05s/trial, best loss: 0.9201391937549245]"
     ]
    },
    {
     "name": "stderr",
     "output_type": "stream",
     "text": [
      "hyperopt.tpe INFO  build_posterior_wrapper took 0.109360 seconds\n",
      "hyperopt.tpe INFO  TPE using 185/185 trials with best loss 0.920139\n",
      "py4j.clientserver INFO  Closing down clientserver connection\n",
      "py4j.clientserver INFO  Closing down clientserver connection\n"
     ]
    },
    {
     "name": "stdout",
     "output_type": "stream",
     "text": [
      " 17%|█▋        | 170/1000 [1:06:32<2:56:44, 12.78s/trial, best loss: 0.9201391937549245]"
     ]
    },
    {
     "name": "stderr",
     "output_type": "stream",
     "text": [
      "hyperopt.tpe INFO  build_posterior_wrapper took 0.015612 seconds\n",
      "hyperopt.tpe INFO  TPE using 186/186 trials with best loss 0.920139\n",
      "py4j.clientserver INFO  Closing down clientserver connection\n",
      "py4j.clientserver INFO  Closing down clientserver connection\n"
     ]
    },
    {
     "name": "stdout",
     "output_type": "stream",
     "text": [
      " 17%|█▋        | 172/1000 [1:06:33<1:50:48,  8.03s/trial, best loss: 0.9201391937549245]"
     ]
    },
    {
     "name": "stderr",
     "output_type": "stream",
     "text": [
      "hyperopt.tpe INFO  build_posterior_wrapper took 0.013250 seconds\n",
      "hyperopt.tpe INFO  TPE using 187/187 trials with best loss 0.920139\n",
      "hyperopt.tpe INFO  build_posterior_wrapper took 0.029577 seconds\n",
      "hyperopt.tpe INFO  TPE using 188/188 trials with best loss 0.920139\n",
      "hyperopt.tpe INFO  build_posterior_wrapper took 0.020892 seconds\n",
      "hyperopt.tpe INFO  TPE using 189/189 trials with best loss 0.920139\n",
      "hyperopt.tpe INFO  build_posterior_wrapper took 0.015623 seconds\n",
      "hyperopt.tpe INFO  TPE using 190/190 trials with best loss 0.920139\n",
      "py4j.clientserver INFO  Closing down clientserver connection\n"
     ]
    },
    {
     "name": "stdout",
     "output_type": "stream",
     "text": [
      " 17%|█▋        | 173/1000 [1:06:38<1:42:04,  7.41s/trial, best loss: 0.9201391937549245]"
     ]
    },
    {
     "name": "stderr",
     "output_type": "stream",
     "text": [
      "hyperopt.tpe INFO  build_posterior_wrapper took 0.015627 seconds\n",
      "hyperopt.tpe INFO  TPE using 191/191 trials with best loss 0.920139\n",
      "py4j.clientserver INFO  Closing down clientserver connection\n",
      "py4j.clientserver INFO  Closing down clientserver connection\n"
     ]
    },
    {
     "name": "stdout",
     "output_type": "stream",
     "text": [
      " 18%|█▊        | 175/1000 [1:06:39<1:05:37,  4.77s/trial, best loss: 0.9201391937549245]"
     ]
    },
    {
     "name": "stderr",
     "output_type": "stream",
     "text": [
      "hyperopt.tpe INFO  build_posterior_wrapper took 0.095165 seconds\n",
      "hyperopt.tpe INFO  TPE using 192/192 trials with best loss 0.920139\n",
      "hyperopt.tpe INFO  build_posterior_wrapper took 0.000000 seconds\n",
      "hyperopt.tpe INFO  TPE using 193/193 trials with best loss 0.920139\n",
      "py4j.clientserver INFO  Closing down clientserver connection\n"
     ]
    },
    {
     "name": "stdout",
     "output_type": "stream",
     "text": [
      " 18%|█▊        | 176/1000 [1:06:41<57:45,  4.21s/trial, best loss: 0.9201391937549245]  "
     ]
    },
    {
     "name": "stderr",
     "output_type": "stream",
     "text": [
      "hyperopt.tpe INFO  build_posterior_wrapper took 0.015643 seconds\n",
      "hyperopt.tpe INFO  TPE using 194/194 trials with best loss 0.920139\n",
      "py4j.clientserver INFO  Closing down clientserver connection\n"
     ]
    },
    {
     "name": "stdout",
     "output_type": "stream",
     "text": [
      " 18%|█▊        | 177/1000 [1:06:43<50:40,  3.69s/trial, best loss: 0.9201391937549245]"
     ]
    },
    {
     "name": "stderr",
     "output_type": "stream",
     "text": [
      "hyperopt.tpe INFO  build_posterior_wrapper took 0.015621 seconds\n",
      "hyperopt.tpe INFO  TPE using 195/195 trials with best loss 0.920139\n",
      "py4j.clientserver INFO  Closing down clientserver connection\n",
      "py4j.clientserver INFO  Closing down clientserver connection\n"
     ]
    },
    {
     "name": "stdout",
     "output_type": "stream",
     "text": [
      " 18%|█▊        | 179/1000 [1:06:52<52:26,  3.83s/trial, best loss: 0.9201391937549245]"
     ]
    },
    {
     "name": "stderr",
     "output_type": "stream",
     "text": [
      "hyperopt.tpe INFO  build_posterior_wrapper took 0.015243 seconds\n",
      "hyperopt.tpe INFO  TPE using 196/196 trials with best loss 0.920139\n",
      "hyperopt.tpe INFO  build_posterior_wrapper took 0.015613 seconds\n",
      "hyperopt.tpe INFO  TPE using 197/197 trials with best loss 0.920139\n",
      "py4j.clientserver INFO  Closing down clientserver connection\n"
     ]
    },
    {
     "name": "stdout",
     "output_type": "stream",
     "text": [
      " 18%|█▊        | 180/1000 [1:06:56<53:08,  3.89s/trial, best loss: 0.9201391937549245]"
     ]
    },
    {
     "name": "stderr",
     "output_type": "stream",
     "text": [
      "hyperopt.tpe INFO  build_posterior_wrapper took 0.093757 seconds\n",
      "hyperopt.tpe INFO  TPE using 198/198 trials with best loss 0.920139\n",
      "py4j.clientserver INFO  Closing down clientserver connection\n"
     ]
    },
    {
     "name": "stdout",
     "output_type": "stream",
     "text": [
      " 18%|█▊        | 181/1000 [1:12:38<19:27:40, 85.54s/trial, best loss: 0.9201391937549245]"
     ]
    },
    {
     "name": "stderr",
     "output_type": "stream",
     "text": [
      "hyperopt.tpe INFO  build_posterior_wrapper took 0.015621 seconds\n",
      "hyperopt.tpe INFO  TPE using 199/199 trials with best loss 0.920139\n",
      "py4j.clientserver INFO  Closing down clientserver connection\n"
     ]
    },
    {
     "name": "stdout",
     "output_type": "stream",
     "text": [
      " 18%|█▊        | 182/1000 [1:12:44<14:48:27, 65.17s/trial, best loss: 0.9201391937549245]"
     ]
    },
    {
     "name": "stderr",
     "output_type": "stream",
     "text": [
      "hyperopt.tpe INFO  build_posterior_wrapper took 0.015641 seconds\n",
      "hyperopt.tpe INFO  TPE using 200/200 trials with best loss 0.920139\n",
      "py4j.clientserver INFO  Closing down clientserver connection\n"
     ]
    },
    {
     "name": "stdout",
     "output_type": "stream",
     "text": [
      " 18%|█▊        | 183/1000 [1:12:49<11:07:50, 49.05s/trial, best loss: 0.9201391937549245]"
     ]
    },
    {
     "name": "stderr",
     "output_type": "stream",
     "text": [
      "hyperopt.tpe INFO  build_posterior_wrapper took 0.015634 seconds\n",
      "hyperopt.tpe INFO  TPE using 201/201 trials with best loss 0.920139\n",
      "py4j.clientserver INFO  Closing down clientserver connection\n"
     ]
    },
    {
     "name": "stdout",
     "output_type": "stream",
     "text": [
      " 18%|█▊        | 184/1000 [1:12:54<8:21:24, 36.87s/trial, best loss: 0.9201391937549245] "
     ]
    },
    {
     "name": "stderr",
     "output_type": "stream",
     "text": [
      "hyperopt.tpe INFO  build_posterior_wrapper took 0.015624 seconds\n",
      "hyperopt.tpe INFO  TPE using 202/202 trials with best loss 0.920139\n",
      "py4j.clientserver INFO  Closing down clientserver connection\n"
     ]
    },
    {
     "name": "stdout",
     "output_type": "stream",
     "text": [
      " 18%|█▊        | 185/1000 [1:13:03<6:33:53, 29.00s/trial, best loss: 0.9201391937549245]"
     ]
    },
    {
     "name": "stderr",
     "output_type": "stream",
     "text": [
      "hyperopt.tpe INFO  build_posterior_wrapper took 0.015629 seconds\n",
      "hyperopt.tpe INFO  TPE using 203/203 trials with best loss 0.920139\n",
      "py4j.clientserver INFO  Closing down clientserver connection\n"
     ]
    },
    {
     "name": "stdout",
     "output_type": "stream",
     "text": [
      " 19%|█▊        | 186/1000 [1:13:10<5:07:39, 22.68s/trial, best loss: 0.9201391937549245]"
     ]
    },
    {
     "name": "stderr",
     "output_type": "stream",
     "text": [
      "hyperopt.tpe INFO  build_posterior_wrapper took 0.098408 seconds\n",
      "hyperopt.tpe INFO  TPE using 204/204 trials with best loss 0.920139\n",
      "py4j.clientserver INFO  Closing down clientserver connection\n"
     ]
    },
    {
     "name": "stdout",
     "output_type": "stream",
     "text": [
      " 19%|█▊        | 187/1000 [1:13:12<3:46:03, 16.68s/trial, best loss: 0.9201391937549245]"
     ]
    },
    {
     "name": "stderr",
     "output_type": "stream",
     "text": [
      "hyperopt.tpe INFO  build_posterior_wrapper took 0.015619 seconds\n",
      "hyperopt.tpe INFO  TPE using 205/205 trials with best loss 0.920139\n",
      "py4j.clientserver INFO  Closing down clientserver connection\n"
     ]
    },
    {
     "name": "stdout",
     "output_type": "stream",
     "text": [
      " 19%|█▉        | 188/1000 [1:13:14<2:47:32, 12.38s/trial, best loss: 0.9201391937549245]"
     ]
    },
    {
     "name": "stderr",
     "output_type": "stream",
     "text": [
      "hyperopt.tpe INFO  build_posterior_wrapper took 0.015618 seconds\n",
      "hyperopt.tpe INFO  TPE using 206/206 trials with best loss 0.920139\n",
      "py4j.clientserver INFO  Closing down clientserver connection\n",
      "py4j.clientserver INFO  Closing down clientserver connection\n",
      "py4j.clientserver INFO  Closing down clientserver connection\n"
     ]
    },
    {
     "name": "stdout",
     "output_type": "stream",
     "text": [
      " 19%|█▉        | 191/1000 [1:13:17<1:21:26,  6.04s/trial, best loss: 0.9201391937549245]"
     ]
    },
    {
     "name": "stderr",
     "output_type": "stream",
     "text": [
      "hyperopt.tpe INFO  build_posterior_wrapper took 0.015631 seconds\n",
      "hyperopt.tpe INFO  TPE using 207/207 trials with best loss 0.920139\n",
      "py4j.clientserver INFO  Closing down clientserver connection\n"
     ]
    },
    {
     "name": "stdout",
     "output_type": "stream",
     "text": [
      " 19%|█▉        | 192/1000 [1:13:18<1:07:11,  4.99s/trial, best loss: 0.9201391937549245]"
     ]
    },
    {
     "name": "stderr",
     "output_type": "stream",
     "text": [
      "hyperopt.tpe INFO  build_posterior_wrapper took 0.000000 seconds\n",
      "hyperopt.tpe INFO  TPE using 208/208 trials with best loss 0.920139\n",
      "py4j.clientserver INFO  Closing down clientserver connection\n"
     ]
    },
    {
     "name": "stdout",
     "output_type": "stream",
     "text": [
      " 19%|█▉        | 193/1000 [1:13:19<54:47,  4.07s/trial, best loss: 0.9201391937549245]  "
     ]
    },
    {
     "name": "stderr",
     "output_type": "stream",
     "text": [
      "hyperopt.tpe INFO  build_posterior_wrapper took 0.015619 seconds\n",
      "hyperopt.tpe INFO  TPE using 209/209 trials with best loss 0.920139\n",
      "py4j.clientserver INFO  Closing down clientserver connection\n"
     ]
    },
    {
     "name": "stdout",
     "output_type": "stream",
     "text": [
      " 19%|█▉        | 194/1000 [1:13:20<44:34,  3.32s/trial, best loss: 0.9201391937549245]"
     ]
    },
    {
     "name": "stderr",
     "output_type": "stream",
     "text": [
      "hyperopt.tpe INFO  build_posterior_wrapper took 0.000000 seconds\n",
      "hyperopt.tpe INFO  TPE using 210/210 trials with best loss 0.920139\n",
      "hyperopt.tpe INFO  build_posterior_wrapper took 0.118282 seconds\n",
      "hyperopt.tpe INFO  TPE using 211/211 trials with best loss 0.920139\n",
      "hyperopt.tpe INFO  build_posterior_wrapper took 0.024556 seconds\n",
      "hyperopt.tpe INFO  TPE using 212/212 trials with best loss 0.920139\n",
      "py4j.clientserver INFO  Closing down clientserver connection\n"
     ]
    },
    {
     "name": "stdout",
     "output_type": "stream",
     "text": [
      " 20%|█▉        | 195/1000 [1:13:27<54:43,  4.08s/trial, best loss: 0.9201391937549245]"
     ]
    },
    {
     "name": "stderr",
     "output_type": "stream",
     "text": [
      "hyperopt.tpe INFO  build_posterior_wrapper took 0.015640 seconds\n",
      "hyperopt.tpe INFO  TPE using 213/213 trials with best loss 0.920139\n",
      "py4j.clientserver INFO  Closing down clientserver connection\n"
     ]
    },
    {
     "name": "stdout",
     "output_type": "stream",
     "text": [
      " 20%|█▉        | 196/1000 [1:13:37<1:16:35,  5.72s/trial, best loss: 0.9201391937549245]"
     ]
    },
    {
     "name": "stderr",
     "output_type": "stream",
     "text": [
      "hyperopt.tpe INFO  build_posterior_wrapper took 0.015620 seconds\n",
      "hyperopt.tpe INFO  TPE using 214/214 trials with best loss 0.920139\n",
      "py4j.clientserver INFO  Closing down clientserver connection\n"
     ]
    },
    {
     "name": "stdout",
     "output_type": "stream",
     "text": [
      " 20%|█▉        | 197/1000 [1:13:41<1:10:16,  5.25s/trial, best loss: 0.9201391937549245]"
     ]
    },
    {
     "name": "stderr",
     "output_type": "stream",
     "text": [
      "hyperopt.tpe INFO  build_posterior_wrapper took 0.015634 seconds\n",
      "hyperopt.tpe INFO  TPE using 215/215 trials with best loss 0.920139\n",
      "py4j.clientserver INFO  Closing down clientserver connection\n"
     ]
    },
    {
     "name": "stdout",
     "output_type": "stream",
     "text": [
      " 20%|█▉        | 198/1000 [1:13:42<54:03,  4.04s/trial, best loss: 0.9201391937549245]  "
     ]
    },
    {
     "name": "stderr",
     "output_type": "stream",
     "text": [
      "hyperopt.tpe INFO  build_posterior_wrapper took 0.015636 seconds\n",
      "hyperopt.tpe INFO  TPE using 216/216 trials with best loss 0.920139\n",
      "py4j.clientserver INFO  Closing down clientserver connection\n"
     ]
    },
    {
     "name": "stdout",
     "output_type": "stream",
     "text": [
      " 20%|█▉        | 199/1000 [1:19:30<23:06:24, 103.85s/trial, best loss: 0.9201391937549245]"
     ]
    },
    {
     "name": "stderr",
     "output_type": "stream",
     "text": [
      "hyperopt.tpe INFO  build_posterior_wrapper took 0.109362 seconds\n",
      "hyperopt.tpe INFO  TPE using 217/217 trials with best loss 0.920139\n",
      "py4j.clientserver INFO  Closing down clientserver connection\n",
      "py4j.clientserver INFO  Closing down clientserver connection\n"
     ]
    },
    {
     "name": "stdout",
     "output_type": "stream",
     "text": [
      " 20%|██        | 201/1000 [1:19:35<12:52:05, 57.98s/trial, best loss: 0.9201391937549245] "
     ]
    },
    {
     "name": "stderr",
     "output_type": "stream",
     "text": [
      "hyperopt.tpe INFO  build_posterior_wrapper took 0.015624 seconds\n",
      "hyperopt.tpe INFO  TPE using 218/218 trials with best loss 0.920139\n",
      "hyperopt.tpe INFO  build_posterior_wrapper took 0.015635 seconds\n",
      "hyperopt.tpe INFO  TPE using 219/219 trials with best loss 0.920139\n",
      "py4j.clientserver INFO  Closing down clientserver connection\n"
     ]
    },
    {
     "name": "stdout",
     "output_type": "stream",
     "text": [
      " 20%|██        | 202/1000 [1:19:44<10:09:01, 45.79s/trial, best loss: 0.9201391937549245]"
     ]
    },
    {
     "name": "stderr",
     "output_type": "stream",
     "text": [
      "py4j.clientserver INFO  Closing down clientserver connection\n"
     ]
    },
    {
     "name": "stdout",
     "output_type": "stream",
     "text": [
      " 20%|██        | 203/1000 [1:19:45<7:34:18, 34.20s/trial, best loss: 0.9201391937549245] "
     ]
    },
    {
     "name": "stderr",
     "output_type": "stream",
     "text": [
      "hyperopt.tpe INFO  build_posterior_wrapper took 0.000000 seconds\n",
      "hyperopt.tpe INFO  TPE using 220/220 trials with best loss 0.920139\n",
      "hyperopt.tpe INFO  build_posterior_wrapper took 0.015627 seconds\n",
      "hyperopt.tpe INFO  TPE using 221/221 trials with best loss 0.920139\n",
      "py4j.clientserver INFO  Closing down clientserver connection\n"
     ]
    },
    {
     "name": "stdout",
     "output_type": "stream",
     "text": [
      " 20%|██        | 204/1000 [1:19:51<5:53:00, 26.61s/trial, best loss: 0.9201391937549245]"
     ]
    },
    {
     "name": "stderr",
     "output_type": "stream",
     "text": [
      "hyperopt.tpe INFO  build_posterior_wrapper took 0.015625 seconds\n",
      "hyperopt.tpe INFO  TPE using 222/222 trials with best loss 0.920139\n",
      "py4j.clientserver INFO  Closing down clientserver connection\n"
     ]
    },
    {
     "name": "stdout",
     "output_type": "stream",
     "text": [
      " 20%|██        | 205/1000 [1:19:53<4:21:57, 19.77s/trial, best loss: 0.9201391937549245]"
     ]
    },
    {
     "name": "stderr",
     "output_type": "stream",
     "text": [
      "hyperopt.tpe INFO  build_posterior_wrapper took 0.093749 seconds\n",
      "hyperopt.tpe INFO  TPE using 223/223 trials with best loss 0.920139\n",
      "py4j.clientserver INFO  Closing down clientserver connection\n"
     ]
    },
    {
     "name": "stdout",
     "output_type": "stream",
     "text": [
      " 21%|██        | 206/1000 [1:19:58<3:26:38, 15.62s/trial, best loss: 0.9201391937549245]"
     ]
    },
    {
     "name": "stderr",
     "output_type": "stream",
     "text": [
      "hyperopt.tpe INFO  build_posterior_wrapper took 0.023998 seconds\n",
      "hyperopt.tpe INFO  TPE using 224/224 trials with best loss 0.920139\n",
      "py4j.clientserver INFO  Closing down clientserver connection\n"
     ]
    },
    {
     "name": "stdout",
     "output_type": "stream",
     "text": [
      " 21%|██        | 207/1000 [1:19:59<2:30:43, 11.40s/trial, best loss: 0.9201391937549245]"
     ]
    },
    {
     "name": "stderr",
     "output_type": "stream",
     "text": [
      "hyperopt.tpe INFO  build_posterior_wrapper took 0.015631 seconds\n",
      "hyperopt.tpe INFO  TPE using 225/225 trials with best loss 0.920139\n",
      "py4j.clientserver INFO  Closing down clientserver connection\n"
     ]
    },
    {
     "name": "stdout",
     "output_type": "stream",
     "text": [
      " 21%|██        | 208/1000 [1:20:00<1:50:32,  8.37s/trial, best loss: 0.9201391937549245]"
     ]
    },
    {
     "name": "stderr",
     "output_type": "stream",
     "text": [
      "hyperopt.tpe INFO  build_posterior_wrapper took 0.027322 seconds\n",
      "hyperopt.tpe INFO  TPE using 226/226 trials with best loss 0.920139\n",
      "py4j.clientserver INFO  Closing down clientserver connection\n"
     ]
    },
    {
     "name": "stdout",
     "output_type": "stream",
     "text": [
      " 21%|██        | 209/1000 [1:20:03<1:29:46,  6.81s/trial, best loss: 0.9201391937549245]"
     ]
    },
    {
     "name": "stderr",
     "output_type": "stream",
     "text": [
      "hyperopt.tpe INFO  build_posterior_wrapper took 0.015625 seconds\n",
      "hyperopt.tpe INFO  TPE using 227/227 trials with best loss 0.920139\n",
      "py4j.clientserver INFO  Closing down clientserver connection\n"
     ]
    },
    {
     "name": "stdout",
     "output_type": "stream",
     "text": [
      " 21%|██        | 210/1000 [1:20:05<1:11:02,  5.40s/trial, best loss: 0.9201391937549245]"
     ]
    },
    {
     "name": "stderr",
     "output_type": "stream",
     "text": [
      "hyperopt.tpe INFO  build_posterior_wrapper took 0.015617 seconds\n",
      "hyperopt.tpe INFO  TPE using 228/228 trials with best loss 0.920139\n",
      "py4j.clientserver INFO  Closing down clientserver connection\n"
     ]
    },
    {
     "name": "stdout",
     "output_type": "stream",
     "text": [
      " 21%|██        | 211/1000 [1:20:06<53:51,  4.10s/trial, best loss: 0.9201391937549245]  "
     ]
    },
    {
     "name": "stderr",
     "output_type": "stream",
     "text": [
      "hyperopt.tpe INFO  build_posterior_wrapper took 0.015630 seconds\n",
      "hyperopt.tpe INFO  TPE using 229/229 trials with best loss 0.920139\n",
      "py4j.clientserver INFO  Closing down clientserver connection\n",
      "py4j.clientserver INFO  Closing down clientserver connection\n"
     ]
    },
    {
     "name": "stdout",
     "output_type": "stream",
     "text": [
      " 21%|██▏       | 213/1000 [1:20:20<1:11:36,  5.46s/trial, best loss: 0.9201391937549245]"
     ]
    },
    {
     "name": "stderr",
     "output_type": "stream",
     "text": [
      "hyperopt.tpe INFO  build_posterior_wrapper took 0.109385 seconds\n",
      "hyperopt.tpe INFO  TPE using 230/230 trials with best loss 0.920139\n",
      "py4j.clientserver INFO  Closing down clientserver connection\n"
     ]
    },
    {
     "name": "stdout",
     "output_type": "stream",
     "text": [
      " 21%|██▏       | 214/1000 [1:20:21<57:27,  4.39s/trial, best loss: 0.9201391937549245]  "
     ]
    },
    {
     "name": "stderr",
     "output_type": "stream",
     "text": [
      "hyperopt.tpe INFO  build_posterior_wrapper took 0.015627 seconds\n",
      "hyperopt.tpe INFO  TPE using 231/231 trials with best loss 0.920139\n",
      "py4j.clientserver INFO  Closing down clientserver connection\n"
     ]
    },
    {
     "name": "stdout",
     "output_type": "stream",
     "text": [
      " 22%|██▏       | 215/1000 [1:20:22<45:54,  3.51s/trial, best loss: 0.9201391937549245]"
     ]
    },
    {
     "name": "stderr",
     "output_type": "stream",
     "text": [
      "hyperopt.tpe INFO  build_posterior_wrapper took 0.000000 seconds\n",
      "hyperopt.tpe INFO  TPE using 232/232 trials with best loss 0.920139\n",
      "hyperopt.tpe INFO  build_posterior_wrapper took 0.000000 seconds\n",
      "hyperopt.tpe INFO  TPE using 233/233 trials with best loss 0.920139\n",
      "py4j.clientserver INFO  Closing down clientserver connection\n"
     ]
    },
    {
     "name": "stdout",
     "output_type": "stream",
     "text": [
      " 22%|██▏       | 216/1000 [1:20:27<51:26,  3.94s/trial, best loss: 0.9201391937549245]"
     ]
    },
    {
     "name": "stderr",
     "output_type": "stream",
     "text": [
      "hyperopt.tpe INFO  build_posterior_wrapper took 0.015627 seconds\n",
      "hyperopt.tpe INFO  TPE using 234/234 trials with best loss 0.920139\n",
      "py4j.clientserver INFO  Closing down clientserver connection\n"
     ]
    },
    {
     "name": "stdout",
     "output_type": "stream",
     "text": [
      " 22%|██▏       | 217/1000 [1:26:12<21:33:03, 99.08s/trial, best loss: 0.9201391937549245]"
     ]
    },
    {
     "name": "stderr",
     "output_type": "stream",
     "text": [
      "hyperopt.tpe INFO  build_posterior_wrapper took 0.015615 seconds\n",
      "hyperopt.tpe INFO  TPE using 235/235 trials with best loss 0.920139\n",
      "py4j.clientserver INFO  Closing down clientserver connection\n"
     ]
    },
    {
     "name": "stdout",
     "output_type": "stream",
     "text": [
      " 22%|██▏       | 218/1000 [1:26:17<15:41:44, 72.26s/trial, best loss: 0.9201391937549245]"
     ]
    },
    {
     "name": "stderr",
     "output_type": "stream",
     "text": [
      "hyperopt.tpe INFO  build_posterior_wrapper took 0.109372 seconds\n",
      "hyperopt.tpe INFO  TPE using 236/236 trials with best loss 0.920139\n",
      "py4j.clientserver INFO  Closing down clientserver connection\n"
     ]
    },
    {
     "name": "stdout",
     "output_type": "stream",
     "text": [
      " 22%|██▏       | 219/1000 [1:26:19<11:16:12, 51.95s/trial, best loss: 0.9201391937549245]"
     ]
    },
    {
     "name": "stderr",
     "output_type": "stream",
     "text": [
      "hyperopt.tpe INFO  build_posterior_wrapper took 0.015617 seconds\n",
      "hyperopt.tpe INFO  TPE using 237/237 trials with best loss 0.920139\n",
      "py4j.clientserver INFO  Closing down clientserver connection\n"
     ]
    },
    {
     "name": "stdout",
     "output_type": "stream",
     "text": [
      " 22%|██▏       | 220/1000 [1:26:24<8:17:08, 38.24s/trial, best loss: 0.9201391937549245] "
     ]
    },
    {
     "name": "stderr",
     "output_type": "stream",
     "text": [
      "hyperopt.tpe INFO  build_posterior_wrapper took 0.015639 seconds\n",
      "hyperopt.tpe INFO  TPE using 238/238 trials with best loss 0.920139\n",
      "py4j.clientserver INFO  Closing down clientserver connection\n"
     ]
    },
    {
     "name": "stdout",
     "output_type": "stream",
     "text": [
      " 22%|██▏       | 221/1000 [1:26:32<6:20:58, 29.34s/trial, best loss: 0.9201391937549245]"
     ]
    },
    {
     "name": "stderr",
     "output_type": "stream",
     "text": [
      "hyperopt.tpe INFO  build_posterior_wrapper took 0.015623 seconds\n",
      "hyperopt.tpe INFO  TPE using 239/239 trials with best loss 0.920139\n",
      "py4j.clientserver INFO  Closing down clientserver connection\n"
     ]
    },
    {
     "name": "stdout",
     "output_type": "stream",
     "text": [
      " 22%|██▏       | 222/1000 [1:26:35<4:39:25, 21.55s/trial, best loss: 0.9201391937549245]"
     ]
    },
    {
     "name": "stderr",
     "output_type": "stream",
     "text": [
      "py4j.clientserver INFO  Closing down clientserver connection\n",
      "py4j.clientserver INFO  Closing down clientserver connection\n"
     ]
    },
    {
     "name": "stdout",
     "output_type": "stream",
     "text": [
      " 22%|██▏       | 224/1000 [1:26:36<2:33:55, 11.90s/trial, best loss: 0.9201391937549245]"
     ]
    },
    {
     "name": "stderr",
     "output_type": "stream",
     "text": [
      "hyperopt.tpe INFO  build_posterior_wrapper took 0.015624 seconds\n",
      "hyperopt.tpe INFO  TPE using 240/240 trials with best loss 0.920139\n",
      "hyperopt.tpe INFO  build_posterior_wrapper took 0.019357 seconds\n",
      "hyperopt.tpe INFO  TPE using 241/241 trials with best loss 0.920139\n",
      "hyperopt.tpe INFO  build_posterior_wrapper took 0.015619 seconds\n",
      "hyperopt.tpe INFO  TPE using 242/242 trials with best loss 0.920139\n",
      "py4j.clientserver INFO  Closing down clientserver connection\n"
     ]
    },
    {
     "name": "stdout",
     "output_type": "stream",
     "text": [
      " 22%|██▎       | 225/1000 [1:26:40<2:08:50,  9.97s/trial, best loss: 0.9201391937549245]"
     ]
    },
    {
     "name": "stderr",
     "output_type": "stream",
     "text": [
      "hyperopt.tpe INFO  build_posterior_wrapper took 0.093732 seconds\n",
      "hyperopt.tpe INFO  TPE using 243/243 trials with best loss 0.920139\n",
      "py4j.clientserver INFO  Closing down clientserver connection\n",
      "py4j.clientserver INFO  Closing down clientserver connection\n",
      "py4j.clientserver INFO  Closing down clientserver connection\n"
     ]
    },
    {
     "name": "stdout",
     "output_type": "stream",
     "text": [
      " 23%|██▎       | 228/1000 [1:26:44<1:11:30,  5.56s/trial, best loss: 0.9201391937549245]"
     ]
    },
    {
     "name": "stderr",
     "output_type": "stream",
     "text": [
      "py4j.clientserver INFO  Closing down clientserver connection\n"
     ]
    },
    {
     "name": "stdout",
     "output_type": "stream",
     "text": [
      " 23%|██▎       | 229/1000 [1:26:45<59:55,  4.66s/trial, best loss: 0.9201391937549245]  "
     ]
    },
    {
     "name": "stderr",
     "output_type": "stream",
     "text": [
      "hyperopt.tpe INFO  build_posterior_wrapper took 0.015621 seconds\n",
      "hyperopt.tpe INFO  TPE using 244/244 trials with best loss 0.920139\n",
      "hyperopt.tpe INFO  build_posterior_wrapper took 0.015619 seconds\n",
      "hyperopt.tpe INFO  TPE using 245/245 trials with best loss 0.920139\n",
      "hyperopt.tpe INFO  build_posterior_wrapper took 0.023965 seconds\n",
      "hyperopt.tpe INFO  TPE using 246/246 trials with best loss 0.920139\n",
      "hyperopt.tpe INFO  build_posterior_wrapper took 0.015636 seconds\n",
      "hyperopt.tpe INFO  TPE using 247/247 trials with best loss 0.920139\n",
      "py4j.clientserver INFO  Closing down clientserver connection\n"
     ]
    },
    {
     "name": "stdout",
     "output_type": "stream",
     "text": [
      " 23%|██▎       | 230/1000 [1:26:59<1:23:45,  6.53s/trial, best loss: 0.9201391937549245]"
     ]
    },
    {
     "name": "stderr",
     "output_type": "stream",
     "text": [
      "hyperopt.tpe INFO  build_posterior_wrapper took 0.018732 seconds\n",
      "hyperopt.tpe INFO  TPE using 248/248 trials with best loss 0.920139\n",
      "py4j.clientserver INFO  Closing down clientserver connection\n"
     ]
    },
    {
     "name": "stdout",
     "output_type": "stream",
     "text": [
      " 23%|██▎       | 231/1000 [1:27:01<1:09:56,  5.46s/trial, best loss: 0.9201391937549245]"
     ]
    },
    {
     "name": "stderr",
     "output_type": "stream",
     "text": [
      "py4j.clientserver INFO  Closing down clientserver connection\n"
     ]
    },
    {
     "name": "stdout",
     "output_type": "stream",
     "text": [
      " 23%|██▎       | 232/1000 [1:27:02<55:22,  4.33s/trial, best loss: 0.9201391937549245]  "
     ]
    },
    {
     "name": "stderr",
     "output_type": "stream",
     "text": [
      "hyperopt.tpe INFO  build_posterior_wrapper took 0.112930 seconds\n",
      "hyperopt.tpe INFO  TPE using 249/249 trials with best loss 0.920139\n",
      "hyperopt.tpe INFO  build_posterior_wrapper took 0.015620 seconds\n",
      "hyperopt.tpe INFO  TPE using 250/250 trials with best loss 0.920139\n",
      "py4j.clientserver INFO  Closing down clientserver connection\n"
     ]
    },
    {
     "name": "stdout",
     "output_type": "stream",
     "text": [
      " 23%|██▎       | 233/1000 [1:27:07<58:15,  4.56s/trial, best loss: 0.9201391937549245]"
     ]
    },
    {
     "name": "stderr",
     "output_type": "stream",
     "text": [
      "hyperopt.tpe INFO  build_posterior_wrapper took 0.015631 seconds\n",
      "hyperopt.tpe INFO  TPE using 251/251 trials with best loss 0.920139\n",
      "py4j.clientserver INFO  Closing down clientserver connection\n"
     ]
    },
    {
     "name": "stdout",
     "output_type": "stream",
     "text": [
      " 23%|██▎       | 234/1000 [1:27:13<1:03:32,  4.98s/trial, best loss: 0.9201391937549245]"
     ]
    },
    {
     "name": "stderr",
     "output_type": "stream",
     "text": [
      "hyperopt.tpe INFO  build_posterior_wrapper took 0.019119 seconds\n",
      "hyperopt.tpe INFO  TPE using 252/252 trials with best loss 0.920139\n",
      "py4j.clientserver INFO  Closing down clientserver connection\n"
     ]
    },
    {
     "name": "stdout",
     "output_type": "stream",
     "text": [
      " 24%|██▎       | 235/1000 [1:33:07<21:59:08, 103.46s/trial, best loss: 0.9201391937549245]"
     ]
    },
    {
     "name": "stderr",
     "output_type": "stream",
     "text": [
      "hyperopt.tpe INFO  build_posterior_wrapper took 0.015626 seconds\n",
      "hyperopt.tpe INFO  TPE using 253/253 trials with best loss 0.920139\n",
      "py4j.clientserver INFO  Closing down clientserver connection\n"
     ]
    },
    {
     "name": "stdout",
     "output_type": "stream",
     "text": [
      " 24%|██▎       | 236/1000 [1:33:09<15:46:03, 74.30s/trial, best loss: 0.9201391937549245] "
     ]
    },
    {
     "name": "stderr",
     "output_type": "stream",
     "text": [
      "hyperopt.tpe INFO  build_posterior_wrapper took 0.015624 seconds\n",
      "hyperopt.tpe INFO  TPE using 254/254 trials with best loss 0.920139\n",
      "py4j.clientserver INFO  Closing down clientserver connection\n",
      "py4j.clientserver INFO  Closing down clientserver connection\n"
     ]
    },
    {
     "name": "stdout",
     "output_type": "stream",
     "text": [
      " 24%|██▍       | 238/1000 [1:33:13<8:49:37, 41.70s/trial, best loss: 0.9201391937549245] "
     ]
    },
    {
     "name": "stderr",
     "output_type": "stream",
     "text": [
      "hyperopt.tpe INFO  build_posterior_wrapper took 0.015620 seconds\n",
      "hyperopt.tpe INFO  TPE using 255/255 trials with best loss 0.920139\n",
      "py4j.clientserver INFO  Closing down clientserver connection\n",
      "py4j.clientserver INFO  Closing down clientserver connection\n"
     ]
    },
    {
     "name": "stdout",
     "output_type": "stream",
     "text": [
      " 24%|██▍       | 240/1000 [1:33:14<5:23:50, 25.57s/trial, best loss: 0.9201391937549245]"
     ]
    },
    {
     "name": "stderr",
     "output_type": "stream",
     "text": [
      "hyperopt.tpe INFO  build_posterior_wrapper took 0.109377 seconds\n",
      "hyperopt.tpe INFO  TPE using 256/256 trials with best loss 0.920139\n",
      "hyperopt.tpe INFO  build_posterior_wrapper took 0.000000 seconds\n",
      "hyperopt.tpe INFO  TPE using 257/257 trials with best loss 0.920139\n",
      "hyperopt.tpe INFO  build_posterior_wrapper took 0.015625 seconds\n",
      "hyperopt.tpe INFO  TPE using 258/258 trials with best loss 0.920139\n",
      "py4j.clientserver INFO  Closing down clientserver connection\n"
     ]
    },
    {
     "name": "stdout",
     "output_type": "stream",
     "text": [
      " 24%|██▍       | 241/1000 [1:33:17<4:21:26, 20.67s/trial, best loss: 0.9201391937549245]"
     ]
    },
    {
     "name": "stderr",
     "output_type": "stream",
     "text": [
      "hyperopt.tpe INFO  build_posterior_wrapper took 0.015639 seconds\n",
      "hyperopt.tpe INFO  TPE using 259/259 trials with best loss 0.920139\n",
      "py4j.clientserver INFO  Closing down clientserver connection\n"
     ]
    },
    {
     "name": "stdout",
     "output_type": "stream",
     "text": [
      " 24%|██▍       | 242/1000 [1:33:20<3:28:02, 16.47s/trial, best loss: 0.9201391937549245]"
     ]
    },
    {
     "name": "stderr",
     "output_type": "stream",
     "text": [
      "hyperopt.tpe INFO  build_posterior_wrapper took 0.015624 seconds\n",
      "hyperopt.tpe INFO  TPE using 260/260 trials with best loss 0.920139\n",
      "py4j.clientserver INFO  Closing down clientserver connection\n"
     ]
    },
    {
     "name": "stdout",
     "output_type": "stream",
     "text": [
      " 24%|██▍       | 243/1000 [1:33:22<2:41:36, 12.81s/trial, best loss: 0.9201391937549245]"
     ]
    },
    {
     "name": "stderr",
     "output_type": "stream",
     "text": [
      "hyperopt.tpe INFO  build_posterior_wrapper took 0.015628 seconds\n",
      "hyperopt.tpe INFO  TPE using 261/261 trials with best loss 0.920139\n",
      "py4j.clientserver INFO  Closing down clientserver connection\n"
     ]
    },
    {
     "name": "stdout",
     "output_type": "stream",
     "text": [
      " 24%|██▍       | 244/1000 [1:33:28<2:18:44, 11.01s/trial, best loss: 0.9201391937549245]"
     ]
    },
    {
     "name": "stderr",
     "output_type": "stream",
     "text": [
      "hyperopt.tpe INFO  build_posterior_wrapper took 0.078145 seconds\n",
      "hyperopt.tpe INFO  TPE using 262/262 trials with best loss 0.920139\n",
      "py4j.clientserver INFO  Closing down clientserver connection\n"
     ]
    },
    {
     "name": "stdout",
     "output_type": "stream",
     "text": [
      " 24%|██▍       | 245/1000 [1:33:33<1:58:07,  9.39s/trial, best loss: 0.9201391937549245]"
     ]
    },
    {
     "name": "stderr",
     "output_type": "stream",
     "text": [
      "hyperopt.tpe INFO  build_posterior_wrapper took 0.000000 seconds\n",
      "hyperopt.tpe INFO  TPE using 263/263 trials with best loss 0.920139\n",
      "py4j.clientserver INFO  Closing down clientserver connection\n"
     ]
    },
    {
     "name": "stdout",
     "output_type": "stream",
     "text": [
      " 25%|██▍       | 246/1000 [1:33:36<1:35:24,  7.59s/trial, best loss: 0.9201391937549245]"
     ]
    },
    {
     "name": "stderr",
     "output_type": "stream",
     "text": [
      "hyperopt.tpe INFO  build_posterior_wrapper took 0.000000 seconds\n",
      "hyperopt.tpe INFO  TPE using 264/264 trials with best loss 0.920139\n",
      "py4j.clientserver INFO  Closing down clientserver connection\n",
      "py4j.clientserver INFO  Closing down clientserver connection\n"
     ]
    },
    {
     "name": "stdout",
     "output_type": "stream",
     "text": [
      " 25%|██▍       | 248/1000 [1:33:40<1:03:56,  5.10s/trial, best loss: 0.9201391937549245]"
     ]
    },
    {
     "name": "stderr",
     "output_type": "stream",
     "text": [
      "hyperopt.tpe INFO  build_posterior_wrapper took 0.015620 seconds\n",
      "hyperopt.tpe INFO  TPE using 265/265 trials with best loss 0.920139\n",
      "py4j.clientserver INFO  Closing down clientserver connection\n"
     ]
    },
    {
     "name": "stdout",
     "output_type": "stream",
     "text": [
      " 25%|██▍       | 249/1000 [1:33:42<54:32,  4.36s/trial, best loss: 0.9201391937549245]  "
     ]
    },
    {
     "name": "stderr",
     "output_type": "stream",
     "text": [
      "hyperopt.tpe INFO  build_posterior_wrapper took 0.015630 seconds\n",
      "hyperopt.tpe INFO  TPE using 266/266 trials with best loss 0.920139\n",
      "py4j.clientserver INFO  Closing down clientserver connection\n"
     ]
    },
    {
     "name": "stdout",
     "output_type": "stream",
     "text": [
      " 25%|██▌       | 250/1000 [1:33:43<43:47,  3.50s/trial, best loss: 0.9201391937549245]"
     ]
    },
    {
     "name": "stderr",
     "output_type": "stream",
     "text": [
      "hyperopt.tpe INFO  build_posterior_wrapper took 0.016805 seconds\n",
      "hyperopt.tpe INFO  TPE using 267/267 trials with best loss 0.920139\n",
      "hyperopt.tpe INFO  build_posterior_wrapper took 0.009078 seconds\n",
      "hyperopt.tpe INFO  TPE using 268/268 trials with best loss 0.920139\n",
      "py4j.clientserver INFO  Closing down clientserver connection\n"
     ]
    },
    {
     "name": "stdout",
     "output_type": "stream",
     "text": [
      " 25%|██▌       | 251/1000 [1:33:56<1:16:04,  6.09s/trial, best loss: 0.9201391937549245]"
     ]
    },
    {
     "name": "stderr",
     "output_type": "stream",
     "text": [
      "py4j.clientserver INFO  Closing down clientserver connection\n"
     ]
    },
    {
     "name": "stdout",
     "output_type": "stream",
     "text": [
      " 25%|██▌       | 252/1000 [1:33:57<58:23,  4.68s/trial, best loss: 0.9201391937549245]  "
     ]
    },
    {
     "name": "stderr",
     "output_type": "stream",
     "text": [
      "hyperopt.tpe INFO  build_posterior_wrapper took 0.109370 seconds\n",
      "hyperopt.tpe INFO  TPE using 269/269 trials with best loss 0.920139\n",
      "hyperopt.tpe INFO  build_posterior_wrapper took 0.015633 seconds\n",
      "hyperopt.tpe INFO  TPE using 270/270 trials with best loss 0.920139\n",
      "py4j.clientserver INFO  Closing down clientserver connection\n"
     ]
    },
    {
     "name": "stdout",
     "output_type": "stream",
     "text": [
      " 25%|██▌       | 253/1000 [1:39:53<21:36:55, 104.17s/trial, best loss: 0.9201391937549245]"
     ]
    },
    {
     "name": "stderr",
     "output_type": "stream",
     "text": [
      "hyperopt.tpe INFO  build_posterior_wrapper took 0.023001 seconds\n",
      "hyperopt.tpe INFO  TPE using 271/271 trials with best loss 0.920139\n",
      "py4j.clientserver INFO  Closing down clientserver connection\n"
     ]
    },
    {
     "name": "stdout",
     "output_type": "stream",
     "text": [
      " 25%|██▌       | 254/1000 [1:39:57<15:36:20, 75.31s/trial, best loss: 0.9201391937549245] "
     ]
    },
    {
     "name": "stderr",
     "output_type": "stream",
     "text": [
      "hyperopt.tpe INFO  build_posterior_wrapper took 0.022002 seconds\n",
      "hyperopt.tpe INFO  TPE using 272/272 trials with best loss 0.920139\n",
      "py4j.clientserver INFO  Closing down clientserver connection\n"
     ]
    },
    {
     "name": "stdout",
     "output_type": "stream",
     "text": [
      " 26%|██▌       | 255/1000 [1:40:01<11:17:02, 54.53s/trial, best loss: 0.9201391937549245]"
     ]
    },
    {
     "name": "stderr",
     "output_type": "stream",
     "text": [
      "hyperopt.tpe INFO  build_posterior_wrapper took 0.024004 seconds\n",
      "hyperopt.tpe INFO  TPE using 273/273 trials with best loss 0.920139\n",
      "py4j.clientserver INFO  Closing down clientserver connection\n"
     ]
    },
    {
     "name": "stdout",
     "output_type": "stream",
     "text": [
      " 26%|██▌       | 256/1000 [1:40:07<8:19:23, 40.27s/trial, best loss: 0.9201391937549245] "
     ]
    },
    {
     "name": "stderr",
     "output_type": "stream",
     "text": [
      "hyperopt.tpe INFO  build_posterior_wrapper took 0.015630 seconds\n",
      "hyperopt.tpe INFO  TPE using 274/274 trials with best loss 0.920139\n",
      "py4j.clientserver INFO  Closing down clientserver connection\n"
     ]
    },
    {
     "name": "stdout",
     "output_type": "stream",
     "text": [
      " 26%|██▌       | 257/1000 [1:40:09<5:58:41, 28.97s/trial, best loss: 0.9201391937549245]"
     ]
    },
    {
     "name": "stderr",
     "output_type": "stream",
     "text": [
      "hyperopt.tpe INFO  build_posterior_wrapper took 0.118464 seconds\n",
      "hyperopt.tpe INFO  TPE using 275/275 trials with best loss 0.920139\n",
      "py4j.clientserver INFO  Closing down clientserver connection\n"
     ]
    },
    {
     "name": "stdout",
     "output_type": "stream",
     "text": [
      " 26%|██▌       | 258/1000 [1:40:12<4:23:20, 21.29s/trial, best loss: 0.9201391937549245]"
     ]
    },
    {
     "name": "stderr",
     "output_type": "stream",
     "text": [
      "hyperopt.tpe INFO  build_posterior_wrapper took 0.024001 seconds\n",
      "hyperopt.tpe INFO  TPE using 276/276 trials with best loss 0.920139\n",
      "py4j.clientserver INFO  Closing down clientserver connection\n",
      "py4j.clientserver INFO  Closing down clientserver connection\n"
     ]
    },
    {
     "name": "stdout",
     "output_type": "stream",
     "text": [
      " 26%|██▌       | 260/1000 [1:40:13<2:24:59, 11.76s/trial, best loss: 0.9201391937549245]"
     ]
    },
    {
     "name": "stderr",
     "output_type": "stream",
     "text": [
      "hyperopt.tpe INFO  build_posterior_wrapper took 0.016565 seconds\n",
      "hyperopt.tpe INFO  TPE using 277/277 trials with best loss 0.920139\n",
      "hyperopt.tpe INFO  build_posterior_wrapper took 0.019449 seconds\n",
      "hyperopt.tpe INFO  TPE using 278/278 trials with best loss 0.920139\n",
      "py4j.clientserver INFO  Closing down clientserver connection\n"
     ]
    },
    {
     "name": "stdout",
     "output_type": "stream",
     "text": [
      " 26%|██▌       | 261/1000 [1:40:16<1:58:21,  9.61s/trial, best loss: 0.9201391937549245]"
     ]
    },
    {
     "name": "stderr",
     "output_type": "stream",
     "text": [
      "hyperopt.tpe INFO  build_posterior_wrapper took 0.021001 seconds\n",
      "hyperopt.tpe INFO  TPE using 279/279 trials with best loss 0.920139\n",
      "py4j.clientserver INFO  Closing down clientserver connection\n"
     ]
    },
    {
     "name": "stdout",
     "output_type": "stream",
     "text": [
      " 26%|██▌       | 262/1000 [1:40:20<1:40:23,  8.16s/trial, best loss: 0.9201391937549245]"
     ]
    },
    {
     "name": "stderr",
     "output_type": "stream",
     "text": [
      "hyperopt.tpe INFO  build_posterior_wrapper took 0.023996 seconds\n",
      "hyperopt.tpe INFO  TPE using 280/280 trials with best loss 0.920139\n",
      "py4j.clientserver INFO  Closing down clientserver connection\n"
     ]
    },
    {
     "name": "stdout",
     "output_type": "stream",
     "text": [
      " 26%|██▋       | 263/1000 [1:40:21<1:16:30,  6.23s/trial, best loss: 0.9201391937549245]"
     ]
    },
    {
     "name": "stderr",
     "output_type": "stream",
     "text": [
      "hyperopt.tpe INFO  build_posterior_wrapper took 0.093750 seconds\n",
      "hyperopt.tpe INFO  TPE using 281/281 trials with best loss 0.920139\n",
      "py4j.clientserver INFO  Closing down clientserver connection\n"
     ]
    },
    {
     "name": "stdout",
     "output_type": "stream",
     "text": [
      " 26%|██▋       | 264/1000 [1:40:24<1:02:20,  5.08s/trial, best loss: 0.9201391937549245]"
     ]
    },
    {
     "name": "stderr",
     "output_type": "stream",
     "text": [
      "hyperopt.tpe INFO  build_posterior_wrapper took 0.015643 seconds\n",
      "hyperopt.tpe INFO  TPE using 282/282 trials with best loss 0.920139\n",
      "py4j.clientserver INFO  Closing down clientserver connection\n"
     ]
    },
    {
     "name": "stdout",
     "output_type": "stream",
     "text": [
      " 26%|██▋       | 265/1000 [1:40:26<51:40,  4.22s/trial, best loss: 0.9201391937549245]  "
     ]
    },
    {
     "name": "stderr",
     "output_type": "stream",
     "text": [
      "py4j.clientserver INFO  Closing down clientserver connection\n"
     ]
    },
    {
     "name": "stdout",
     "output_type": "stream",
     "text": [
      " 27%|██▋       | 266/1000 [1:40:27<40:13,  3.29s/trial, best loss: 0.9201391937549245]"
     ]
    },
    {
     "name": "stderr",
     "output_type": "stream",
     "text": [
      "hyperopt.tpe INFO  build_posterior_wrapper took 0.015632 seconds\n",
      "hyperopt.tpe INFO  TPE using 283/283 trials with best loss 0.920139\n",
      "hyperopt.tpe INFO  build_posterior_wrapper took 0.015632 seconds\n",
      "hyperopt.tpe INFO  TPE using 284/284 trials with best loss 0.920139\n",
      "py4j.clientserver INFO  Closing down clientserver connection\n"
     ]
    },
    {
     "name": "stdout",
     "output_type": "stream",
     "text": [
      " 27%|██▋       | 267/1000 [1:40:30<39:24,  3.23s/trial, best loss: 0.9201391937549245]"
     ]
    },
    {
     "name": "stderr",
     "output_type": "stream",
     "text": [
      "hyperopt.tpe INFO  build_posterior_wrapper took 0.015624 seconds\n",
      "hyperopt.tpe INFO  TPE using 285/285 trials with best loss 0.920139\n",
      "py4j.clientserver INFO  Closing down clientserver connection\n"
     ]
    },
    {
     "name": "stdout",
     "output_type": "stream",
     "text": [
      " 27%|██▋       | 268/1000 [1:40:36<49:35,  4.06s/trial, best loss: 0.9201391937549245]"
     ]
    },
    {
     "name": "stderr",
     "output_type": "stream",
     "text": [
      "hyperopt.tpe INFO  build_posterior_wrapper took 0.000000 seconds\n",
      "hyperopt.tpe INFO  TPE using 286/286 trials with best loss 0.920139\n",
      "py4j.clientserver INFO  Closing down clientserver connection\n"
     ]
    },
    {
     "name": "stdout",
     "output_type": "stream",
     "text": [
      " 27%|██▋       | 269/1000 [1:40:46<1:11:16,  5.85s/trial, best loss: 0.9201391937549245]"
     ]
    },
    {
     "name": "stderr",
     "output_type": "stream",
     "text": [
      "hyperopt.tpe INFO  build_posterior_wrapper took 0.015630 seconds\n",
      "hyperopt.tpe INFO  TPE using 287/287 trials with best loss 0.920139\n",
      "py4j.clientserver INFO  Closing down clientserver connection\n"
     ]
    },
    {
     "name": "stdout",
     "output_type": "stream",
     "text": [
      " 27%|██▋       | 270/1000 [1:40:48<57:21,  4.71s/trial, best loss: 0.9201391937549245]  "
     ]
    },
    {
     "name": "stderr",
     "output_type": "stream",
     "text": [
      "hyperopt.tpe INFO  build_posterior_wrapper took 0.117949 seconds\n",
      "hyperopt.tpe INFO  TPE using 288/288 trials with best loss 0.920139\n",
      "py4j.clientserver INFO  Closing down clientserver connection\n"
     ]
    },
    {
     "name": "stdout",
     "output_type": "stream",
     "text": [
      " 27%|██▋       | 271/1000 [1:46:48<22:23:55, 110.61s/trial, best loss: 0.9201391937549245]"
     ]
    },
    {
     "name": "stderr",
     "output_type": "stream",
     "text": [
      "py4j.clientserver INFO  Closing down clientserver connection\n"
     ]
    },
    {
     "name": "stdout",
     "output_type": "stream",
     "text": [
      " 27%|██▋       | 272/1000 [1:46:49<15:44:50, 77.87s/trial, best loss: 0.9201391937549245] "
     ]
    },
    {
     "name": "stderr",
     "output_type": "stream",
     "text": [
      "hyperopt.tpe INFO  build_posterior_wrapper took 0.015622 seconds\n",
      "hyperopt.tpe INFO  TPE using 289/289 trials with best loss 0.920139\n",
      "py4j.clientserver INFO  Closing down clientserver connection\n"
     ]
    },
    {
     "name": "stdout",
     "output_type": "stream",
     "text": [
      " 27%|██▋       | 273/1000 [1:46:50<11:05:02, 54.89s/trial, best loss: 0.9201391937549245]"
     ]
    },
    {
     "name": "stderr",
     "output_type": "stream",
     "text": [
      "hyperopt.tpe INFO  build_posterior_wrapper took 0.015638 seconds\n",
      "hyperopt.tpe INFO  TPE using 290/290 trials with best loss 0.920139\n",
      "py4j.clientserver INFO  Closing down clientserver connection\n"
     ]
    },
    {
     "name": "stdout",
     "output_type": "stream",
     "text": [
      " 27%|██▋       | 274/1000 [1:46:51<7:49:03, 38.77s/trial, best loss: 0.9201391937549245] "
     ]
    },
    {
     "name": "stderr",
     "output_type": "stream",
     "text": [
      "hyperopt.tpe INFO  build_posterior_wrapper took 0.015625 seconds\n",
      "hyperopt.tpe INFO  TPE using 291/291 trials with best loss 0.920139\n",
      "py4j.clientserver INFO  Closing down clientserver connection\n"
     ]
    },
    {
     "name": "stdout",
     "output_type": "stream",
     "text": [
      " 28%|██▊       | 275/1000 [1:46:52<5:31:50, 27.46s/trial, best loss: 0.9201391937549245]"
     ]
    },
    {
     "name": "stderr",
     "output_type": "stream",
     "text": [
      "py4j.clientserver INFO  Closing down clientserver connection\n",
      "hyperopt.tpe INFO  build_posterior_wrapper took 0.015622 seconds\n",
      "hyperopt.tpe INFO  TPE using 292/292 trials with best loss 0.920139\n",
      "py4j.clientserver INFO  Closing down clientserver connection\n"
     ]
    },
    {
     "name": "stdout",
     "output_type": "stream",
     "text": [
      " 28%|██▊       | 277/1000 [1:46:53<3:01:08, 15.03s/trial, best loss: 0.9201391937549245]"
     ]
    },
    {
     "name": "stderr",
     "output_type": "stream",
     "text": [
      "hyperopt.tpe INFO  build_posterior_wrapper took 0.015630 seconds\n",
      "hyperopt.tpe INFO  TPE using 293/293 trials with best loss 0.920139\n",
      "hyperopt.tpe INFO  build_posterior_wrapper took 0.015627 seconds\n",
      "hyperopt.tpe INFO  TPE using 294/294 trials with best loss 0.920139\n",
      "hyperopt.tpe INFO  build_posterior_wrapper took 0.109377 seconds\n",
      "hyperopt.tpe INFO  TPE using 295/295 trials with best loss 0.920139\n",
      "py4j.clientserver INFO  Closing down clientserver connection\n",
      "py4j.clientserver INFO  Closing down clientserver connection\n"
     ]
    },
    {
     "name": "stdout",
     "output_type": "stream",
     "text": [
      " 28%|██▊       | 279/1000 [1:46:57<1:58:52,  9.89s/trial, best loss: 0.9201391937549245]"
     ]
    },
    {
     "name": "stderr",
     "output_type": "stream",
     "text": [
      "hyperopt.tpe INFO  build_posterior_wrapper took 0.015625 seconds\n",
      "hyperopt.tpe INFO  TPE using 296/296 trials with best loss 0.920139\n",
      "hyperopt.tpe INFO  build_posterior_wrapper took 0.015639 seconds\n",
      "hyperopt.tpe INFO  TPE using 297/297 trials with best loss 0.920139\n",
      "py4j.clientserver INFO  Closing down clientserver connection\n"
     ]
    },
    {
     "name": "stdout",
     "output_type": "stream",
     "text": [
      " 28%|██▊       | 280/1000 [1:47:00<1:40:38,  8.39s/trial, best loss: 0.9201391937549245]"
     ]
    },
    {
     "name": "stderr",
     "output_type": "stream",
     "text": [
      "hyperopt.tpe INFO  build_posterior_wrapper took 0.015675 seconds\n",
      "hyperopt.tpe INFO  TPE using 298/298 trials with best loss 0.920139\n",
      "py4j.clientserver INFO  Closing down clientserver connection\n"
     ]
    },
    {
     "name": "stdout",
     "output_type": "stream",
     "text": [
      " 28%|██▊       | 281/1000 [1:47:05<1:30:55,  7.59s/trial, best loss: 0.9201391937549245]"
     ]
    },
    {
     "name": "stderr",
     "output_type": "stream",
     "text": [
      "hyperopt.tpe INFO  build_posterior_wrapper took 0.017558 seconds\n",
      "hyperopt.tpe INFO  TPE using 299/299 trials with best loss 0.920139\n",
      "py4j.clientserver INFO  Closing down clientserver connection\n",
      "py4j.clientserver INFO  Closing down clientserver connection\n"
     ]
    },
    {
     "name": "stdout",
     "output_type": "stream",
     "text": [
      " 28%|██▊       | 283/1000 [1:47:08<1:01:14,  5.12s/trial, best loss: 0.9201391937549245]"
     ]
    },
    {
     "name": "stderr",
     "output_type": "stream",
     "text": [
      "hyperopt.tpe INFO  build_posterior_wrapper took 0.019040 seconds\n",
      "hyperopt.tpe INFO  TPE using 300/300 trials with best loss 0.920139\n",
      "py4j.clientserver INFO  Closing down clientserver connection\n"
     ]
    },
    {
     "name": "stdout",
     "output_type": "stream",
     "text": [
      " 28%|██▊       | 284/1000 [1:47:09<50:07,  4.20s/trial, best loss: 0.9201391937549245]  "
     ]
    },
    {
     "name": "stderr",
     "output_type": "stream",
     "text": [
      "hyperopt.tpe INFO  build_posterior_wrapper took 0.109532 seconds\n",
      "hyperopt.tpe INFO  TPE using 301/301 trials with best loss 0.920139\n",
      "hyperopt.tpe INFO  build_posterior_wrapper took 0.015623 seconds\n",
      "hyperopt.tpe INFO  TPE using 302/302 trials with best loss 0.920139\n",
      "py4j.clientserver INFO  Closing down clientserver connection\n",
      "py4j.clientserver INFO  Closing down clientserver connection\n"
     ]
    },
    {
     "name": "stdout",
     "output_type": "stream",
     "text": [
      " 29%|██▊       | 286/1000 [1:47:13<40:11,  3.38s/trial, best loss: 0.9201391937549245]"
     ]
    },
    {
     "name": "stderr",
     "output_type": "stream",
     "text": [
      "hyperopt.tpe INFO  build_posterior_wrapper took 0.016484 seconds\n",
      "hyperopt.tpe INFO  TPE using 303/303 trials with best loss 0.920139\n",
      "hyperopt.tpe INFO  build_posterior_wrapper took 0.015622 seconds\n",
      "hyperopt.tpe INFO  TPE using 304/304 trials with best loss 0.920139\n",
      "py4j.clientserver INFO  Closing down clientserver connection\n"
     ]
    },
    {
     "name": "stdout",
     "output_type": "stream",
     "text": [
      " 29%|██▊       | 287/1000 [1:47:21<49:44,  4.19s/trial, best loss: 0.9201391937549245]"
     ]
    },
    {
     "name": "stderr",
     "output_type": "stream",
     "text": [
      "hyperopt.tpe INFO  build_posterior_wrapper took 0.015628 seconds\n",
      "hyperopt.tpe INFO  TPE using 305/305 trials with best loss 0.920139\n",
      "py4j.clientserver INFO  Closing down clientserver connection\n"
     ]
    },
    {
     "name": "stdout",
     "output_type": "stream",
     "text": [
      " 29%|██▉       | 288/1000 [1:47:23<43:33,  3.67s/trial, best loss: 0.9201391937549245]"
     ]
    },
    {
     "name": "stderr",
     "output_type": "stream",
     "text": [
      "hyperopt.tpe INFO  build_posterior_wrapper took 0.000000 seconds\n",
      "hyperopt.tpe INFO  TPE using 306/306 trials with best loss 0.920139\n",
      "py4j.clientserver INFO  Closing down clientserver connection\n"
     ]
    },
    {
     "name": "stdout",
     "output_type": "stream",
     "text": [
      " 29%|██▉       | 289/1000 [1:53:27<18:49:02, 95.28s/trial, best loss: 0.9201391937549245]"
     ]
    },
    {
     "name": "stderr",
     "output_type": "stream",
     "text": [
      "hyperopt.tpe INFO  build_posterior_wrapper took 0.109363 seconds\n",
      "hyperopt.tpe INFO  TPE using 307/307 trials with best loss 0.920139\n",
      "py4j.clientserver INFO  Closing down clientserver connection\n"
     ]
    },
    {
     "name": "stdout",
     "output_type": "stream",
     "text": [
      " 29%|██▉       | 290/1000 [1:53:31<13:57:28, 70.77s/trial, best loss: 0.9201391937549245]"
     ]
    },
    {
     "name": "stderr",
     "output_type": "stream",
     "text": [
      "hyperopt.tpe INFO  build_posterior_wrapper took 0.015626 seconds\n",
      "hyperopt.tpe INFO  TPE using 308/308 trials with best loss 0.920139\n",
      "py4j.clientserver INFO  Closing down clientserver connection\n"
     ]
    },
    {
     "name": "stdout",
     "output_type": "stream",
     "text": [
      " 29%|██▉       | 291/1000 [1:53:32<10:09:24, 51.57s/trial, best loss: 0.9201391937549245]"
     ]
    },
    {
     "name": "stderr",
     "output_type": "stream",
     "text": [
      "py4j.clientserver INFO  Closing down clientserver connection\n"
     ]
    },
    {
     "name": "stdout",
     "output_type": "stream",
     "text": [
      " 29%|██▉       | 292/1000 [1:53:33<7:20:07, 37.30s/trial, best loss: 0.9201391937549245] "
     ]
    },
    {
     "name": "stderr",
     "output_type": "stream",
     "text": [
      "hyperopt.tpe INFO  build_posterior_wrapper took 0.021021 seconds\n",
      "hyperopt.tpe INFO  TPE using 309/309 trials with best loss 0.920139\n",
      "hyperopt.tpe INFO  build_posterior_wrapper took 0.015624 seconds\n",
      "hyperopt.tpe INFO  TPE using 310/310 trials with best loss 0.920139\n",
      "py4j.clientserver INFO  Closing down clientserver connection\n",
      "py4j.clientserver INFO  Closing down clientserver connection\n"
     ]
    },
    {
     "name": "stdout",
     "output_type": "stream",
     "text": [
      " 29%|██▉       | 294/1000 [1:53:35<4:08:19, 21.10s/trial, best loss: 0.9201391937549245]"
     ]
    },
    {
     "name": "stderr",
     "output_type": "stream",
     "text": [
      "hyperopt.tpe INFO  build_posterior_wrapper took 0.017174 seconds\n",
      "hyperopt.tpe INFO  TPE using 311/311 trials with best loss 0.920139\n",
      "py4j.clientserver INFO  Closing down clientserver connection\n"
     ]
    },
    {
     "name": "stdout",
     "output_type": "stream",
     "text": [
      " 30%|██▉       | 295/1000 [1:53:36<3:10:57, 16.25s/trial, best loss: 0.9201391937549245]"
     ]
    },
    {
     "name": "stderr",
     "output_type": "stream",
     "text": [
      "hyperopt.tpe INFO  build_posterior_wrapper took 0.022252 seconds\n",
      "hyperopt.tpe INFO  TPE using 312/312 trials with best loss 0.920139\n",
      "hyperopt.tpe INFO  build_posterior_wrapper took 0.008767 seconds\n",
      "hyperopt.tpe INFO  TPE using 313/313 trials with best loss 0.920139\n",
      "py4j.clientserver INFO  Closing down clientserver connection\n"
     ]
    },
    {
     "name": "stdout",
     "output_type": "stream",
     "text": [
      " 30%|██▉       | 296/1000 [1:53:38<2:27:54, 12.61s/trial, best loss: 0.9201391937549245]"
     ]
    },
    {
     "name": "stderr",
     "output_type": "stream",
     "text": [
      "hyperopt.tpe INFO  build_posterior_wrapper took 0.109372 seconds\n",
      "hyperopt.tpe INFO  TPE using 314/314 trials with best loss 0.920139\n",
      "py4j.clientserver INFO  Closing down clientserver connection\n",
      "py4j.clientserver INFO  Closing down clientserver connection\n"
     ]
    },
    {
     "name": "stdout",
     "output_type": "stream",
     "text": [
      " 30%|██▉       | 298/1000 [1:53:46<1:45:19,  9.00s/trial, best loss: 0.9201391937549245]"
     ]
    },
    {
     "name": "stderr",
     "output_type": "stream",
     "text": [
      "hyperopt.tpe INFO  build_posterior_wrapper took 0.015623 seconds\n",
      "hyperopt.tpe INFO  TPE using 315/315 trials with best loss 0.920139\n",
      "py4j.clientserver INFO  Closing down clientserver connection\n",
      "py4j.clientserver INFO  Closing down clientserver connection\n"
     ]
    },
    {
     "name": "stdout",
     "output_type": "stream",
     "text": [
      " 30%|███       | 300/1000 [1:53:48<1:09:54,  5.99s/trial, best loss: 0.9201391937549245]"
     ]
    },
    {
     "name": "stderr",
     "output_type": "stream",
     "text": [
      "hyperopt.tpe INFO  build_posterior_wrapper took 0.000000 seconds\n",
      "hyperopt.tpe INFO  TPE using 316/316 trials with best loss 0.920139\n",
      "py4j.clientserver INFO  Closing down clientserver connection\n"
     ]
    },
    {
     "name": "stdout",
     "output_type": "stream",
     "text": [
      " 30%|███       | 301/1000 [1:53:49<57:31,  4.94s/trial, best loss: 0.9201391937549245]  "
     ]
    },
    {
     "name": "stderr",
     "output_type": "stream",
     "text": [
      "hyperopt.tpe INFO  build_posterior_wrapper took 0.015623 seconds\n",
      "hyperopt.tpe INFO  TPE using 317/317 trials with best loss 0.920139\n",
      "hyperopt.tpe INFO  build_posterior_wrapper took 0.023916 seconds\n",
      "hyperopt.tpe INFO  TPE using 318/318 trials with best loss 0.920139\n",
      "hyperopt.tpe INFO  build_posterior_wrapper took 0.015624 seconds\n",
      "hyperopt.tpe INFO  TPE using 319/319 trials with best loss 0.920139\n",
      "py4j.clientserver INFO  Closing down clientserver connection\n"
     ]
    },
    {
     "name": "stdout",
     "output_type": "stream",
     "text": [
      " 30%|███       | 302/1000 [1:53:57<1:06:07,  5.68s/trial, best loss: 0.9201391937549245]"
     ]
    },
    {
     "name": "stderr",
     "output_type": "stream",
     "text": [
      "hyperopt.tpe INFO  build_posterior_wrapper took 0.015630 seconds\n",
      "hyperopt.tpe INFO  TPE using 320/320 trials with best loss 0.920139\n",
      "py4j.clientserver INFO  Closing down clientserver connection\n"
     ]
    },
    {
     "name": "stdout",
     "output_type": "stream",
     "text": [
      " 30%|███       | 303/1000 [1:54:01<1:01:20,  5.28s/trial, best loss: 0.9201391937549245]"
     ]
    },
    {
     "name": "stderr",
     "output_type": "stream",
     "text": [
      "hyperopt.tpe INFO  build_posterior_wrapper took 0.109425 seconds\n",
      "hyperopt.tpe INFO  TPE using 321/321 trials with best loss 0.920139\n",
      "py4j.clientserver INFO  Closing down clientserver connection\n"
     ]
    },
    {
     "name": "stdout",
     "output_type": "stream",
     "text": [
      " 30%|███       | 304/1000 [1:54:03<51:40,  4.45s/trial, best loss: 0.9201391937549245]  "
     ]
    },
    {
     "name": "stderr",
     "output_type": "stream",
     "text": [
      "hyperopt.tpe INFO  build_posterior_wrapper took 0.015625 seconds\n",
      "hyperopt.tpe INFO  TPE using 322/322 trials with best loss 0.920139\n",
      "py4j.clientserver INFO  Closing down clientserver connection\n"
     ]
    },
    {
     "name": "stdout",
     "output_type": "stream",
     "text": [
      " 30%|███       | 305/1000 [1:54:15<1:15:48,  6.54s/trial, best loss: 0.9201391937549245]"
     ]
    },
    {
     "name": "stderr",
     "output_type": "stream",
     "text": [
      "hyperopt.tpe INFO  build_posterior_wrapper took 0.017005 seconds\n",
      "hyperopt.tpe INFO  TPE using 323/323 trials with best loss 0.920139\n",
      "py4j.clientserver INFO  Closing down clientserver connection\n"
     ]
    },
    {
     "name": "stdout",
     "output_type": "stream",
     "text": [
      " 31%|███       | 306/1000 [1:54:20<1:07:37,  5.85s/trial, best loss: 0.9201391937549245]"
     ]
    },
    {
     "name": "stderr",
     "output_type": "stream",
     "text": [
      "hyperopt.tpe INFO  build_posterior_wrapper took 0.015633 seconds\n",
      "hyperopt.tpe INFO  TPE using 324/324 trials with best loss 0.920139\n",
      "py4j.clientserver INFO  Closing down clientserver connection\n"
     ]
    },
    {
     "name": "stdout",
     "output_type": "stream",
     "text": [
      " 31%|███       | 307/1000 [2:00:08<19:59:48, 103.88s/trial, best loss: 0.9201391937549245]"
     ]
    },
    {
     "name": "stderr",
     "output_type": "stream",
     "text": [
      "hyperopt.tpe INFO  build_posterior_wrapper took 0.015624 seconds\n",
      "hyperopt.tpe INFO  TPE using 325/325 trials with best loss 0.920139\n",
      "py4j.clientserver INFO  Closing down clientserver connection\n",
      "py4j.clientserver INFO  Closing down clientserver connection\n"
     ]
    },
    {
     "name": "stdout",
     "output_type": "stream",
     "text": [
      " 31%|███       | 309/1000 [2:00:15<11:16:39, 58.75s/trial, best loss: 0.9201391937549245] "
     ]
    },
    {
     "name": "stderr",
     "output_type": "stream",
     "text": [
      "hyperopt.tpe INFO  build_posterior_wrapper took 0.015632 seconds\n",
      "hyperopt.tpe INFO  TPE using 326/326 trials with best loss 0.920139\n",
      "hyperopt.tpe INFO  build_posterior_wrapper took 0.015629 seconds\n",
      "hyperopt.tpe INFO  TPE using 327/327 trials with best loss 0.920139\n",
      "py4j.clientserver INFO  Closing down clientserver connection\n",
      "py4j.clientserver INFO  Closing down clientserver connection\n",
      "py4j.clientserver INFO  Closing down clientserver connection\n",
      "py4j.clientserver INFO  Closing down clientserver connection\n"
     ]
    },
    {
     "name": "stdout",
     "output_type": "stream",
     "text": [
      " 31%|███▏      | 313/1000 [2:00:17<4:57:45, 26.01s/trial, best loss: 0.9201391937549245] "
     ]
    },
    {
     "name": "stderr",
     "output_type": "stream",
     "text": [
      "hyperopt.tpe INFO  build_posterior_wrapper took 0.099657 seconds\n",
      "hyperopt.tpe INFO  TPE using 328/328 trials with best loss 0.920139\n",
      "py4j.clientserver INFO  Closing down clientserver connection\n"
     ]
    },
    {
     "name": "stdout",
     "output_type": "stream",
     "text": [
      " 31%|███▏      | 314/1000 [2:00:18<4:09:42, 21.84s/trial, best loss: 0.9201391937549245]"
     ]
    },
    {
     "name": "stderr",
     "output_type": "stream",
     "text": [
      "hyperopt.tpe INFO  build_posterior_wrapper took 0.015638 seconds\n",
      "hyperopt.tpe INFO  TPE using 329/329 trials with best loss 0.920139\n",
      "hyperopt.tpe INFO  build_posterior_wrapper took 0.015625 seconds\n",
      "hyperopt.tpe INFO  TPE using 330/330 trials with best loss 0.920139\n",
      "hyperopt.tpe INFO  build_posterior_wrapper took 0.015613 seconds\n",
      "hyperopt.tpe INFO  TPE using 331/331 trials with best loss 0.920139\n",
      "hyperopt.tpe INFO  build_posterior_wrapper took 0.018826 seconds\n",
      "hyperopt.tpe INFO  TPE using 332/332 trials with best loss 0.920139\n",
      "py4j.clientserver INFO  Closing down clientserver connection\n"
     ]
    },
    {
     "name": "stdout",
     "output_type": "stream",
     "text": [
      " 32%|███▏      | 315/1000 [2:00:22<3:30:20, 18.42s/trial, best loss: 0.9201391937549245]"
     ]
    },
    {
     "name": "stderr",
     "output_type": "stream",
     "text": [
      "hyperopt.tpe INFO  build_posterior_wrapper took 0.015624 seconds\n",
      "hyperopt.tpe INFO  TPE using 333/333 trials with best loss 0.920139\n",
      "py4j.clientserver INFO  Closing down clientserver connection\n"
     ]
    },
    {
     "name": "stdout",
     "output_type": "stream",
     "text": [
      " 32%|███▏      | 316/1000 [2:00:27<2:54:39, 15.32s/trial, best loss: 0.9201335479845877]"
     ]
    },
    {
     "name": "stderr",
     "output_type": "stream",
     "text": [
      "py4j.clientserver INFO  Closing down clientserver connection\n"
     ]
    },
    {
     "name": "stdout",
     "output_type": "stream",
     "text": [
      " 32%|███▏      | 317/1000 [2:00:28<2:15:58, 11.95s/trial, best loss: 0.9201335479845877]"
     ]
    },
    {
     "name": "stderr",
     "output_type": "stream",
     "text": [
      "hyperopt.tpe INFO  build_posterior_wrapper took 0.093745 seconds\n",
      "hyperopt.tpe INFO  TPE using 334/334 trials with best loss 0.920134\n",
      "py4j.clientserver INFO  Closing down clientserver connection\n"
     ]
    },
    {
     "name": "stdout",
     "output_type": "stream",
     "text": [
      " 32%|███▏      | 318/1000 [2:00:29<1:44:42,  9.21s/trial, best loss: 0.9201335479845877]"
     ]
    },
    {
     "name": "stderr",
     "output_type": "stream",
     "text": [
      "hyperopt.tpe INFO  build_posterior_wrapper took 0.018132 seconds\n",
      "hyperopt.tpe INFO  TPE using 335/335 trials with best loss 0.920134\n",
      "py4j.clientserver INFO  Closing down clientserver connection\n"
     ]
    },
    {
     "name": "stdout",
     "output_type": "stream",
     "text": [
      " 32%|███▏      | 319/1000 [2:00:30<1:20:00,  7.05s/trial, best loss: 0.9201335479845877]"
     ]
    },
    {
     "name": "stderr",
     "output_type": "stream",
     "text": [
      "hyperopt.tpe INFO  build_posterior_wrapper took 0.015632 seconds\n",
      "hyperopt.tpe INFO  TPE using 336/336 trials with best loss 0.920134\n",
      "py4j.clientserver INFO  Closing down clientserver connection\n"
     ]
    },
    {
     "name": "stdout",
     "output_type": "stream",
     "text": [
      " 32%|███▏      | 320/1000 [2:00:31<1:01:12,  5.40s/trial, best loss: 0.9201335479845877]"
     ]
    },
    {
     "name": "stderr",
     "output_type": "stream",
     "text": [
      "hyperopt.tpe INFO  build_posterior_wrapper took 0.015621 seconds\n",
      "hyperopt.tpe INFO  TPE using 337/337 trials with best loss 0.920134\n",
      "hyperopt.tpe INFO  build_posterior_wrapper took 0.015622 seconds\n",
      "hyperopt.tpe INFO  TPE using 338/338 trials with best loss 0.920134\n",
      "py4j.clientserver INFO  Closing down clientserver connection\n"
     ]
    },
    {
     "name": "stdout",
     "output_type": "stream",
     "text": [
      " 32%|███▏      | 321/1000 [2:00:38<1:06:33,  5.88s/trial, best loss: 0.9201335479845877]"
     ]
    },
    {
     "name": "stderr",
     "output_type": "stream",
     "text": [
      "hyperopt.tpe INFO  build_posterior_wrapper took 0.021000 seconds\n",
      "hyperopt.tpe INFO  TPE using 339/339 trials with best loss 0.920134\n",
      "py4j.clientserver INFO  Closing down clientserver connection\n"
     ]
    },
    {
     "name": "stdout",
     "output_type": "stream",
     "text": [
      " 32%|███▏      | 322/1000 [2:00:43<1:03:45,  5.64s/trial, best loss: 0.9201335479845877]"
     ]
    },
    {
     "name": "stderr",
     "output_type": "stream",
     "text": [
      "hyperopt.tpe INFO  build_posterior_wrapper took 0.123493 seconds\n",
      "hyperopt.tpe INFO  TPE using 340/340 trials with best loss 0.920134\n",
      "py4j.clientserver INFO  Closing down clientserver connection\n"
     ]
    },
    {
     "name": "stdout",
     "output_type": "stream",
     "text": [
      " 32%|███▏      | 323/1000 [2:01:01<1:45:06,  9.32s/trial, best loss: 0.9201335479845877]"
     ]
    },
    {
     "name": "stderr",
     "output_type": "stream",
     "text": [
      "hyperopt.tpe INFO  build_posterior_wrapper took 0.017989 seconds\n",
      "hyperopt.tpe INFO  TPE using 341/341 trials with best loss 0.920134\n",
      "py4j.clientserver INFO  Closing down clientserver connection\n"
     ]
    },
    {
     "name": "stdout",
     "output_type": "stream",
     "text": [
      " 32%|███▏      | 324/1000 [2:01:05<1:27:36,  7.78s/trial, best loss: 0.9201335479845877]"
     ]
    },
    {
     "name": "stderr",
     "output_type": "stream",
     "text": [
      "hyperopt.tpe INFO  build_posterior_wrapper took 0.025002 seconds\n",
      "hyperopt.tpe INFO  TPE using 342/342 trials with best loss 0.920134\n",
      "py4j.clientserver INFO  Closing down clientserver connection\n"
     ]
    },
    {
     "name": "stdout",
     "output_type": "stream",
     "text": [
      " 32%|███▎      | 325/1000 [2:06:54<20:19:39, 108.41s/trial, best loss: 0.9201335479845877]"
     ]
    },
    {
     "name": "stderr",
     "output_type": "stream",
     "text": [
      "hyperopt.tpe INFO  build_posterior_wrapper took 0.022490 seconds\n",
      "hyperopt.tpe INFO  TPE using 343/343 trials with best loss 0.920134\n",
      "py4j.clientserver INFO  Closing down clientserver connection\n"
     ]
    },
    {
     "name": "stdout",
     "output_type": "stream",
     "text": [
      " 33%|███▎      | 326/1000 [2:06:55<14:19:57, 76.55s/trial, best loss: 0.9201335479845877] "
     ]
    },
    {
     "name": "stderr",
     "output_type": "stream",
     "text": [
      "hyperopt.tpe INFO  build_posterior_wrapper took 0.023370 seconds\n",
      "hyperopt.tpe INFO  TPE using 344/344 trials with best loss 0.920134\n",
      "py4j.clientserver INFO  Closing down clientserver connection\n"
     ]
    },
    {
     "name": "stdout",
     "output_type": "stream",
     "text": [
      " 33%|███▎      | 327/1000 [2:07:00<10:19:55, 55.27s/trial, best loss: 0.9201335479845877]"
     ]
    },
    {
     "name": "stderr",
     "output_type": "stream",
     "text": [
      "hyperopt.tpe INFO  build_posterior_wrapper took 0.015621 seconds\n",
      "hyperopt.tpe INFO  TPE using 345/345 trials with best loss 0.920134\n",
      "py4j.clientserver INFO  Closing down clientserver connection\n"
     ]
    },
    {
     "name": "stdout",
     "output_type": "stream",
     "text": [
      " 33%|███▎      | 328/1000 [2:07:01<7:17:45, 39.09s/trial, best loss: 0.9201335479845877] "
     ]
    },
    {
     "name": "stderr",
     "output_type": "stream",
     "text": [
      "hyperopt.tpe INFO  build_posterior_wrapper took 0.015619 seconds\n",
      "hyperopt.tpe INFO  TPE using 346/346 trials with best loss 0.920134\n",
      "py4j.clientserver INFO  Closing down clientserver connection\n"
     ]
    },
    {
     "name": "stdout",
     "output_type": "stream",
     "text": [
      " 33%|███▎      | 329/1000 [2:07:02<5:09:54, 27.71s/trial, best loss: 0.9201335479845877]"
     ]
    },
    {
     "name": "stderr",
     "output_type": "stream",
     "text": [
      "hyperopt.tpe INFO  build_posterior_wrapper took 0.109413 seconds\n",
      "hyperopt.tpe INFO  TPE using 347/347 trials with best loss 0.920134\n",
      "py4j.clientserver INFO  Closing down clientserver connection\n",
      "py4j.clientserver INFO  Closing down clientserver connection\n"
     ]
    },
    {
     "name": "stdout",
     "output_type": "stream",
     "text": [
      " 33%|███▎      | 331/1000 [2:07:03<2:49:33, 15.21s/trial, best loss: 0.9201335479845877]"
     ]
    },
    {
     "name": "stderr",
     "output_type": "stream",
     "text": [
      "hyperopt.tpe INFO  build_posterior_wrapper took 0.015617 seconds\n",
      "hyperopt.tpe INFO  TPE using 348/348 trials with best loss 0.920134\n",
      "py4j.clientserver INFO  Closing down clientserver connection\n"
     ]
    },
    {
     "name": "stdout",
     "output_type": "stream",
     "text": [
      " 33%|███▎      | 332/1000 [2:07:04<2:10:15, 11.70s/trial, best loss: 0.9201335479845877]"
     ]
    },
    {
     "name": "stderr",
     "output_type": "stream",
     "text": [
      "hyperopt.tpe INFO  build_posterior_wrapper took 0.015626 seconds\n",
      "hyperopt.tpe INFO  TPE using 349/349 trials with best loss 0.920134\n",
      "py4j.clientserver INFO  Closing down clientserver connection\n"
     ]
    },
    {
     "name": "stdout",
     "output_type": "stream",
     "text": [
      " 33%|███▎      | 333/1000 [2:07:05<1:39:02,  8.91s/trial, best loss: 0.9201335479845877]"
     ]
    },
    {
     "name": "stderr",
     "output_type": "stream",
     "text": [
      "hyperopt.tpe INFO  build_posterior_wrapper took 0.015630 seconds\n",
      "hyperopt.tpe INFO  TPE using 350/350 trials with best loss 0.920134\n",
      "hyperopt.tpe INFO  build_posterior_wrapper took 0.015626 seconds\n",
      "hyperopt.tpe INFO  TPE using 351/351 trials with best loss 0.920134\n",
      "py4j.clientserver INFO  Closing down clientserver connection\n"
     ]
    },
    {
     "name": "stdout",
     "output_type": "stream",
     "text": [
      " 33%|███▎      | 334/1000 [2:07:08<1:21:16,  7.32s/trial, best loss: 0.9201335479845877]"
     ]
    },
    {
     "name": "stderr",
     "output_type": "stream",
     "text": [
      "hyperopt.tpe INFO  build_posterior_wrapper took 0.015618 seconds\n",
      "hyperopt.tpe INFO  TPE using 352/352 trials with best loss 0.920134\n",
      "py4j.clientserver INFO  Closing down clientserver connection\n"
     ]
    },
    {
     "name": "stdout",
     "output_type": "stream",
     "text": [
      " 34%|███▎      | 335/1000 [2:07:10<1:04:46,  5.84s/trial, best loss: 0.9201335479845877]"
     ]
    },
    {
     "name": "stderr",
     "output_type": "stream",
     "text": [
      "hyperopt.tpe INFO  build_posterior_wrapper took 0.109375 seconds\n",
      "hyperopt.tpe INFO  TPE using 353/353 trials with best loss 0.920134\n",
      "py4j.clientserver INFO  Closing down clientserver connection\n"
     ]
    },
    {
     "name": "stdout",
     "output_type": "stream",
     "text": [
      " 34%|███▎      | 336/1000 [2:07:12<52:59,  4.79s/trial, best loss: 0.9201335479845877]  "
     ]
    },
    {
     "name": "stderr",
     "output_type": "stream",
     "text": [
      "hyperopt.tpe INFO  build_posterior_wrapper took 0.015608 seconds\n",
      "hyperopt.tpe INFO  TPE using 354/354 trials with best loss 0.920134\n",
      "py4j.clientserver INFO  Closing down clientserver connection\n"
     ]
    },
    {
     "name": "stdout",
     "output_type": "stream",
     "text": [
      " 34%|███▎      | 337/1000 [2:07:16<50:32,  4.57s/trial, best loss: 0.9201335479845877]"
     ]
    },
    {
     "name": "stderr",
     "output_type": "stream",
     "text": [
      "hyperopt.tpe INFO  build_posterior_wrapper took 0.015627 seconds\n",
      "hyperopt.tpe INFO  TPE using 355/355 trials with best loss 0.920134\n",
      "py4j.clientserver INFO  Closing down clientserver connection\n"
     ]
    },
    {
     "name": "stdout",
     "output_type": "stream",
     "text": [
      " 34%|███▍      | 338/1000 [2:07:18<42:18,  3.83s/trial, best loss: 0.9201335479845877]"
     ]
    },
    {
     "name": "stderr",
     "output_type": "stream",
     "text": [
      "hyperopt.tpe INFO  build_posterior_wrapper took 0.015641 seconds\n",
      "hyperopt.tpe INFO  TPE using 356/356 trials with best loss 0.920134\n",
      "py4j.clientserver INFO  Closing down clientserver connection\n"
     ]
    },
    {
     "name": "stdout",
     "output_type": "stream",
     "text": [
      " 34%|███▍      | 339/1000 [2:07:23<46:14,  4.20s/trial, best loss: 0.9201335479845877]"
     ]
    },
    {
     "name": "stderr",
     "output_type": "stream",
     "text": [
      "hyperopt.tpe INFO  build_posterior_wrapper took 0.015621 seconds\n",
      "hyperopt.tpe INFO  TPE using 357/357 trials with best loss 0.920134\n",
      "py4j.clientserver INFO  Closing down clientserver connection\n"
     ]
    },
    {
     "name": "stdout",
     "output_type": "stream",
     "text": [
      " 34%|███▍      | 340/1000 [2:07:27<42:26,  3.86s/trial, best loss: 0.9201335479845877]"
     ]
    },
    {
     "name": "stderr",
     "output_type": "stream",
     "text": [
      "hyperopt.tpe INFO  build_posterior_wrapper took 0.015623 seconds\n",
      "hyperopt.tpe INFO  TPE using 358/358 trials with best loss 0.920134\n",
      "py4j.clientserver INFO  Closing down clientserver connection\n"
     ]
    },
    {
     "name": "stdout",
     "output_type": "stream",
     "text": [
      " 34%|███▍      | 341/1000 [2:07:44<1:25:55,  7.82s/trial, best loss: 0.9201335479845877]"
     ]
    },
    {
     "name": "stderr",
     "output_type": "stream",
     "text": [
      "hyperopt.tpe INFO  build_posterior_wrapper took 0.015627 seconds\n",
      "hyperopt.tpe INFO  TPE using 359/359 trials with best loss 0.920134\n",
      "py4j.clientserver INFO  Closing down clientserver connection\n"
     ]
    },
    {
     "name": "stdout",
     "output_type": "stream",
     "text": [
      " 34%|███▍      | 342/1000 [2:07:45<1:03:34,  5.80s/trial, best loss: 0.9201335479845877]"
     ]
    },
    {
     "name": "stderr",
     "output_type": "stream",
     "text": [
      "hyperopt.tpe INFO  build_posterior_wrapper took 0.109366 seconds\n",
      "hyperopt.tpe INFO  TPE using 360/360 trials with best loss 0.920134\n",
      "py4j.clientserver INFO  Closing down clientserver connection\n"
     ]
    },
    {
     "name": "stdout",
     "output_type": "stream",
     "text": [
      " 34%|███▍      | 343/1000 [2:13:32<19:41:40, 107.91s/trial, best loss: 0.9201335479845877]"
     ]
    },
    {
     "name": "stderr",
     "output_type": "stream",
     "text": [
      "hyperopt.tpe INFO  build_posterior_wrapper took 0.023370 seconds\n",
      "hyperopt.tpe INFO  TPE using 361/361 trials with best loss 0.920134\n",
      "py4j.clientserver INFO  Closing down clientserver connection\n"
     ]
    },
    {
     "name": "stdout",
     "output_type": "stream",
     "text": [
      " 34%|███▍      | 344/1000 [2:13:35<13:56:54, 76.55s/trial, best loss: 0.9201335479845877] "
     ]
    },
    {
     "name": "stderr",
     "output_type": "stream",
     "text": [
      "hyperopt.tpe INFO  build_posterior_wrapper took 0.021463 seconds\n",
      "hyperopt.tpe INFO  TPE using 362/362 trials with best loss 0.920134\n",
      "py4j.clientserver INFO  Closing down clientserver connection\n",
      "py4j.clientserver INFO  Closing down clientserver connection\n"
     ]
    },
    {
     "name": "stdout",
     "output_type": "stream",
     "text": [
      " 35%|███▍      | 346/1000 [2:13:44<7:52:42, 43.37s/trial, best loss: 0.9201335479845877] "
     ]
    },
    {
     "name": "stderr",
     "output_type": "stream",
     "text": [
      "hyperopt.tpe INFO  build_posterior_wrapper took 0.023383 seconds\n",
      "hyperopt.tpe INFO  TPE using 363/363 trials with best loss 0.920134\n",
      "py4j.clientserver INFO  Closing down clientserver connection\n"
     ]
    },
    {
     "name": "stdout",
     "output_type": "stream",
     "text": [
      " 35%|███▍      | 347/1000 [2:13:46<5:57:54, 32.89s/trial, best loss: 0.9201335479845877]"
     ]
    },
    {
     "name": "stderr",
     "output_type": "stream",
     "text": [
      "hyperopt.tpe INFO  build_posterior_wrapper took 0.014118 seconds\n",
      "hyperopt.tpe INFO  TPE using 364/364 trials with best loss 0.920134\n",
      "py4j.clientserver INFO  Closing down clientserver connection\n"
     ]
    },
    {
     "name": "stdout",
     "output_type": "stream",
     "text": [
      " 35%|███▍      | 348/1000 [2:13:47<4:26:54, 24.56s/trial, best loss: 0.9201335479845877]"
     ]
    },
    {
     "name": "stderr",
     "output_type": "stream",
     "text": [
      "hyperopt.tpe INFO  build_posterior_wrapper took 0.023209 seconds\n",
      "hyperopt.tpe INFO  TPE using 365/365 trials with best loss 0.920134\n",
      "hyperopt.tpe INFO  build_posterior_wrapper took 0.125916 seconds\n",
      "hyperopt.tpe INFO  TPE using 366/366 trials with best loss 0.920134\n",
      "py4j.clientserver INFO  Closing down clientserver connection\n"
     ]
    },
    {
     "name": "stdout",
     "output_type": "stream",
     "text": [
      " 35%|███▍      | 349/1000 [2:13:49<3:20:30, 18.48s/trial, best loss: 0.9201335479845877]"
     ]
    },
    {
     "name": "stderr",
     "output_type": "stream",
     "text": [
      "py4j.clientserver INFO  Closing down clientserver connection\n"
     ]
    },
    {
     "name": "stdout",
     "output_type": "stream",
     "text": [
      " 35%|███▌      | 350/1000 [2:13:50<2:27:14, 13.59s/trial, best loss: 0.9201335479845877]"
     ]
    },
    {
     "name": "stderr",
     "output_type": "stream",
     "text": [
      "hyperopt.tpe INFO  build_posterior_wrapper took 0.013001 seconds\n",
      "hyperopt.tpe INFO  TPE using 367/367 trials with best loss 0.920134\n",
      "py4j.clientserver INFO  Closing down clientserver connection\n"
     ]
    },
    {
     "name": "stdout",
     "output_type": "stream",
     "text": [
      " 35%|███▌      | 351/1000 [2:13:51<1:48:14, 10.01s/trial, best loss: 0.9201335479845877]"
     ]
    },
    {
     "name": "stderr",
     "output_type": "stream",
     "text": [
      "hyperopt.tpe INFO  build_posterior_wrapper took 0.015628 seconds\n",
      "hyperopt.tpe INFO  TPE using 368/368 trials with best loss 0.920134\n",
      "hyperopt.tpe INFO  build_posterior_wrapper took 0.015618 seconds\n",
      "hyperopt.tpe INFO  TPE using 369/369 trials with best loss 0.920134\n",
      "py4j.clientserver INFO  Closing down clientserver connection\n"
     ]
    },
    {
     "name": "stdout",
     "output_type": "stream",
     "text": [
      " 35%|███▌      | 352/1000 [2:13:54<1:26:20,  7.99s/trial, best loss: 0.9201335479845877]"
     ]
    },
    {
     "name": "stderr",
     "output_type": "stream",
     "text": [
      "py4j.clientserver INFO  Closing down clientserver connection\n"
     ]
    },
    {
     "name": "stdout",
     "output_type": "stream",
     "text": [
      " 35%|███▌      | 353/1000 [2:13:55<1:04:08,  5.95s/trial, best loss: 0.9201335479845877]"
     ]
    },
    {
     "name": "stderr",
     "output_type": "stream",
     "text": [
      "hyperopt.tpe INFO  build_posterior_wrapper took 0.015625 seconds\n",
      "hyperopt.tpe INFO  TPE using 370/370 trials with best loss 0.920134\n",
      "hyperopt.tpe INFO  build_posterior_wrapper took 0.015618 seconds\n",
      "hyperopt.tpe INFO  TPE using 371/371 trials with best loss 0.920134\n",
      "py4j.clientserver INFO  Closing down clientserver connection\n"
     ]
    },
    {
     "name": "stdout",
     "output_type": "stream",
     "text": [
      " 35%|███▌      | 354/1000 [2:13:58<54:55,  5.10s/trial, best loss: 0.9201335479845877]  "
     ]
    },
    {
     "name": "stderr",
     "output_type": "stream",
     "text": [
      "hyperopt.tpe INFO  build_posterior_wrapper took 0.015614 seconds\n",
      "hyperopt.tpe INFO  TPE using 372/372 trials with best loss 0.920134\n",
      "py4j.clientserver INFO  Closing down clientserver connection\n",
      "py4j.clientserver INFO  Closing down clientserver connection\n"
     ]
    },
    {
     "name": "stdout",
     "output_type": "stream",
     "text": [
      " 36%|███▌      | 356/1000 [2:14:01<37:12,  3.47s/trial, best loss: 0.9201335479845877]"
     ]
    },
    {
     "name": "stderr",
     "output_type": "stream",
     "text": [
      "hyperopt.tpe INFO  build_posterior_wrapper took 0.109374 seconds\n",
      "hyperopt.tpe INFO  TPE using 373/373 trials with best loss 0.920134\n",
      "py4j.clientserver INFO  Closing down clientserver connection\n"
     ]
    },
    {
     "name": "stdout",
     "output_type": "stream",
     "text": [
      " 36%|███▌      | 357/1000 [2:14:03<33:34,  3.13s/trial, best loss: 0.9201335479845877]"
     ]
    },
    {
     "name": "stderr",
     "output_type": "stream",
     "text": [
      "hyperopt.tpe INFO  build_posterior_wrapper took 0.001331 seconds\n",
      "hyperopt.tpe INFO  TPE using 374/374 trials with best loss 0.920134\n",
      "hyperopt.tpe INFO  build_posterior_wrapper took 0.015620 seconds\n",
      "hyperopt.tpe INFO  TPE using 375/375 trials with best loss 0.920134\n",
      "py4j.clientserver INFO  Closing down clientserver connection\n"
     ]
    },
    {
     "name": "stdout",
     "output_type": "stream",
     "text": [
      " 36%|███▌      | 358/1000 [2:14:06<33:20,  3.12s/trial, best loss: 0.9201335479845877]"
     ]
    },
    {
     "name": "stderr",
     "output_type": "stream",
     "text": [
      "hyperopt.tpe INFO  build_posterior_wrapper took 0.015622 seconds\n",
      "hyperopt.tpe INFO  TPE using 376/376 trials with best loss 0.920134\n",
      "py4j.clientserver INFO  Closing down clientserver connection\n"
     ]
    },
    {
     "name": "stdout",
     "output_type": "stream",
     "text": [
      " 36%|███▌      | 359/1000 [2:14:25<1:19:47,  7.47s/trial, best loss: 0.9201335479845877]"
     ]
    },
    {
     "name": "stderr",
     "output_type": "stream",
     "text": [
      "hyperopt.tpe INFO  build_posterior_wrapper took 0.022001 seconds\n",
      "hyperopt.tpe INFO  TPE using 377/377 trials with best loss 0.920134\n",
      "py4j.clientserver INFO  Closing down clientserver connection\n"
     ]
    },
    {
     "name": "stdout",
     "output_type": "stream",
     "text": [
      " 36%|███▌      | 360/1000 [2:14:31<1:15:37,  7.09s/trial, best loss: 0.9201335479845877]"
     ]
    },
    {
     "name": "stderr",
     "output_type": "stream",
     "text": [
      "hyperopt.tpe INFO  build_posterior_wrapper took 0.019354 seconds\n",
      "hyperopt.tpe INFO  TPE using 378/378 trials with best loss 0.920134\n",
      "py4j.clientserver INFO  Closing down clientserver connection\n"
     ]
    },
    {
     "name": "stdout",
     "output_type": "stream",
     "text": [
      " 36%|███▌      | 361/1000 [2:20:19<18:29:27, 104.17s/trial, best loss: 0.9201335479845877]"
     ]
    },
    {
     "name": "stderr",
     "output_type": "stream",
     "text": [
      "hyperopt.tpe INFO  build_posterior_wrapper took 0.015621 seconds\n",
      "hyperopt.tpe INFO  TPE using 379/379 trials with best loss 0.920134\n",
      "py4j.clientserver INFO  Closing down clientserver connection\n"
     ]
    },
    {
     "name": "stdout",
     "output_type": "stream",
     "text": [
      " 36%|███▌      | 362/1000 [2:20:22<13:16:36, 74.92s/trial, best loss: 0.9201335479845877] "
     ]
    },
    {
     "name": "stderr",
     "output_type": "stream",
     "text": [
      "hyperopt.tpe INFO  build_posterior_wrapper took 0.015632 seconds\n",
      "hyperopt.tpe INFO  TPE using 380/380 trials with best loss 0.920134\n",
      "py4j.clientserver INFO  Closing down clientserver connection\n",
      "py4j.clientserver INFO  Closing down clientserver connection\n"
     ]
    },
    {
     "name": "stdout",
     "output_type": "stream",
     "text": [
      " 36%|███▋      | 364/1000 [2:20:29<7:31:41, 42.61s/trial, best loss: 0.9201335479845877] "
     ]
    },
    {
     "name": "stderr",
     "output_type": "stream",
     "text": [
      "hyperopt.tpe INFO  build_posterior_wrapper took 0.109376 seconds\n",
      "hyperopt.tpe INFO  TPE using 381/381 trials with best loss 0.920134\n",
      "py4j.clientserver INFO  Closing down clientserver connection\n"
     ]
    },
    {
     "name": "stdout",
     "output_type": "stream",
     "text": [
      " 36%|███▋      | 365/1000 [2:20:30<5:43:43, 32.48s/trial, best loss: 0.9201335479845877]"
     ]
    },
    {
     "name": "stderr",
     "output_type": "stream",
     "text": [
      "hyperopt.tpe INFO  build_posterior_wrapper took 0.015637 seconds\n",
      "hyperopt.tpe INFO  TPE using 382/382 trials with best loss 0.920134\n",
      "hyperopt.tpe INFO  build_posterior_wrapper took 0.015629 seconds\n",
      "hyperopt.tpe INFO  TPE using 383/383 trials with best loss 0.920134\n",
      "py4j.clientserver INFO  Closing down clientserver connection\n"
     ]
    },
    {
     "name": "stdout",
     "output_type": "stream",
     "text": [
      " 37%|███▋      | 366/1000 [2:20:33<4:22:44, 24.86s/trial, best loss: 0.9201335479845877]"
     ]
    },
    {
     "name": "stderr",
     "output_type": "stream",
     "text": [
      "hyperopt.tpe INFO  build_posterior_wrapper took 0.027080 seconds\n",
      "hyperopt.tpe INFO  TPE using 384/384 trials with best loss 0.920134\n",
      "py4j.clientserver INFO  Closing down clientserver connection\n"
     ]
    },
    {
     "name": "stdout",
     "output_type": "stream",
     "text": [
      " 37%|███▋      | 367/1000 [2:20:38<3:23:05, 19.25s/trial, best loss: 0.9201335479845877]"
     ]
    },
    {
     "name": "stderr",
     "output_type": "stream",
     "text": [
      "hyperopt.tpe INFO  build_posterior_wrapper took 0.015622 seconds\n",
      "hyperopt.tpe INFO  TPE using 385/385 trials with best loss 0.920134\n",
      "py4j.clientserver INFO  Closing down clientserver connection\n"
     ]
    },
    {
     "name": "stdout",
     "output_type": "stream",
     "text": [
      " 37%|███▋      | 368/1000 [2:20:41<2:35:15, 14.74s/trial, best loss: 0.9201335479845877]"
     ]
    },
    {
     "name": "stderr",
     "output_type": "stream",
     "text": [
      "hyperopt.tpe INFO  build_posterior_wrapper took 0.015618 seconds\n",
      "hyperopt.tpe INFO  TPE using 386/386 trials with best loss 0.920134\n",
      "py4j.clientserver INFO  Closing down clientserver connection\n"
     ]
    },
    {
     "name": "stdout",
     "output_type": "stream",
     "text": [
      " 37%|███▋      | 369/1000 [2:20:44<2:00:01, 11.41s/trial, best loss: 0.9201335479845877]"
     ]
    },
    {
     "name": "stderr",
     "output_type": "stream",
     "text": [
      "py4j.clientserver INFO  Closing down clientserver connection\n"
     ]
    },
    {
     "name": "stdout",
     "output_type": "stream",
     "text": [
      " 37%|███▋      | 370/1000 [2:20:45<1:28:15,  8.41s/trial, best loss: 0.9201335479845877]"
     ]
    },
    {
     "name": "stderr",
     "output_type": "stream",
     "text": [
      "hyperopt.tpe INFO  build_posterior_wrapper took 0.015621 seconds\n",
      "hyperopt.tpe INFO  TPE using 387/387 trials with best loss 0.920134\n",
      "py4j.clientserver INFO  Closing down clientserver connection\n"
     ]
    },
    {
     "name": "stdout",
     "output_type": "stream",
     "text": [
      " 37%|███▋      | 371/1000 [2:20:46<1:05:33,  6.25s/trial, best loss: 0.9201335479845877]"
     ]
    },
    {
     "name": "stderr",
     "output_type": "stream",
     "text": [
      "hyperopt.tpe INFO  build_posterior_wrapper took 0.109380 seconds\n",
      "hyperopt.tpe INFO  TPE using 388/388 trials with best loss 0.920134\n",
      "hyperopt.tpe INFO  build_posterior_wrapper took 0.022959 seconds\n",
      "hyperopt.tpe INFO  TPE using 389/389 trials with best loss 0.920134\n",
      "py4j.clientserver INFO  Closing down clientserver connection\n"
     ]
    },
    {
     "name": "stdout",
     "output_type": "stream",
     "text": [
      " 37%|███▋      | 372/1000 [2:20:48<52:46,  5.04s/trial, best loss: 0.9201335479845877]  "
     ]
    },
    {
     "name": "stderr",
     "output_type": "stream",
     "text": [
      "hyperopt.tpe INFO  build_posterior_wrapper took 0.015622 seconds\n",
      "hyperopt.tpe INFO  TPE using 390/390 trials with best loss 0.920134\n",
      "py4j.clientserver INFO  Closing down clientserver connection\n"
     ]
    },
    {
     "name": "stdout",
     "output_type": "stream",
     "text": [
      " 37%|███▋      | 373/1000 [2:20:51<46:30,  4.45s/trial, best loss: 0.9201335479845877]"
     ]
    },
    {
     "name": "stderr",
     "output_type": "stream",
     "text": [
      "hyperopt.tpe INFO  build_posterior_wrapper took 0.015623 seconds\n",
      "hyperopt.tpe INFO  TPE using 391/391 trials with best loss 0.920134\n",
      "py4j.clientserver INFO  Closing down clientserver connection\n"
     ]
    },
    {
     "name": "stdout",
     "output_type": "stream",
     "text": [
      " 37%|███▋      | 374/1000 [2:20:55<45:12,  4.33s/trial, best loss: 0.9201335479845877]"
     ]
    },
    {
     "name": "stderr",
     "output_type": "stream",
     "text": [
      "hyperopt.tpe INFO  build_posterior_wrapper took 0.054454 seconds\n",
      "hyperopt.tpe INFO  TPE using 392/392 trials with best loss 0.920134\n",
      "py4j.clientserver INFO  Closing down clientserver connection\n"
     ]
    },
    {
     "name": "stdout",
     "output_type": "stream",
     "text": [
      " 38%|███▊      | 375/1000 [2:20:57<38:10,  3.67s/trial, best loss: 0.9201335479845877]"
     ]
    },
    {
     "name": "stderr",
     "output_type": "stream",
     "text": [
      "py4j.clientserver INFO  Closing down clientserver connection\n"
     ]
    },
    {
     "name": "stdout",
     "output_type": "stream",
     "text": [
      " 38%|███▊      | 376/1000 [2:20:58<29:53,  2.87s/trial, best loss: 0.9201335479845877]"
     ]
    },
    {
     "name": "stderr",
     "output_type": "stream",
     "text": [
      "hyperopt.tpe INFO  build_posterior_wrapper took 0.015629 seconds\n",
      "hyperopt.tpe INFO  TPE using 393/393 trials with best loss 0.920134\n",
      "hyperopt.tpe INFO  build_posterior_wrapper took 0.109374 seconds\n",
      "hyperopt.tpe INFO  TPE using 394/394 trials with best loss 0.920134\n",
      "py4j.clientserver INFO  Closing down clientserver connection\n"
     ]
    },
    {
     "name": "stdout",
     "output_type": "stream",
     "text": [
      " 38%|███▊      | 377/1000 [2:21:14<1:11:36,  6.90s/trial, best loss: 0.9201335479845877]"
     ]
    },
    {
     "name": "stderr",
     "output_type": "stream",
     "text": [
      "hyperopt.tpe INFO  build_posterior_wrapper took 0.015633 seconds\n",
      "hyperopt.tpe INFO  TPE using 395/395 trials with best loss 0.920134\n",
      "py4j.clientserver INFO  Closing down clientserver connection\n"
     ]
    },
    {
     "name": "stdout",
     "output_type": "stream",
     "text": [
      " 38%|███▊      | 378/1000 [2:21:18<1:02:42,  6.05s/trial, best loss: 0.9201335479845877]"
     ]
    },
    {
     "name": "stderr",
     "output_type": "stream",
     "text": [
      "hyperopt.tpe INFO  build_posterior_wrapper took 0.015637 seconds\n",
      "hyperopt.tpe INFO  TPE using 396/396 trials with best loss 0.920134\n",
      "py4j.clientserver INFO  Closing down clientserver connection\n"
     ]
    },
    {
     "name": "stdout",
     "output_type": "stream",
     "text": [
      " 38%|███▊      | 379/1000 [2:26:58<18:15:54, 105.89s/trial, best loss: 0.9201335479845877]"
     ]
    },
    {
     "name": "stderr",
     "output_type": "stream",
     "text": [
      "hyperopt.tpe INFO  build_posterior_wrapper took 0.022493 seconds\n",
      "hyperopt.tpe INFO  TPE using 397/397 trials with best loss 0.920134\n",
      "py4j.clientserver INFO  Closing down clientserver connection\n"
     ]
    },
    {
     "name": "stdout",
     "output_type": "stream",
     "text": [
      " 38%|███▊      | 380/1000 [2:27:02<12:58:48, 75.37s/trial, best loss: 0.9201335479845877] "
     ]
    },
    {
     "name": "stderr",
     "output_type": "stream",
     "text": [
      "hyperopt.tpe INFO  build_posterior_wrapper took 0.015625 seconds\n",
      "hyperopt.tpe INFO  TPE using 398/398 trials with best loss 0.920134\n",
      "py4j.clientserver INFO  Closing down clientserver connection\n",
      "py4j.clientserver INFO  Closing down clientserver connection\n"
     ]
    },
    {
     "name": "stdout",
     "output_type": "stream",
     "text": [
      " 38%|███▊      | 382/1000 [2:27:08<7:12:37, 42.00s/trial, best loss: 0.9201335479845877] "
     ]
    },
    {
     "name": "stderr",
     "output_type": "stream",
     "text": [
      "hyperopt.tpe INFO  build_posterior_wrapper took 0.020401 seconds\n",
      "hyperopt.tpe INFO  TPE using 399/399 trials with best loss 0.920134\n",
      "hyperopt.tpe INFO  build_posterior_wrapper took 0.020497 seconds\n",
      "hyperopt.tpe INFO  TPE using 400/400 trials with best loss 0.920134\n",
      "py4j.clientserver INFO  Closing down clientserver connection\n"
     ]
    },
    {
     "name": "stdout",
     "output_type": "stream",
     "text": [
      " 38%|███▊      | 383/1000 [2:27:11<5:32:46, 32.36s/trial, best loss: 0.9201335479845877]"
     ]
    },
    {
     "name": "stderr",
     "output_type": "stream",
     "text": [
      "hyperopt.tpe INFO  build_posterior_wrapper took 0.122964 seconds\n",
      "hyperopt.tpe INFO  TPE using 401/401 trials with best loss 0.920134\n",
      "py4j.clientserver INFO  Closing down clientserver connection\n"
     ]
    },
    {
     "name": "stdout",
     "output_type": "stream",
     "text": [
      " 38%|███▊      | 384/1000 [2:27:20<4:30:03, 26.31s/trial, best loss: 0.9201335479845877]"
     ]
    },
    {
     "name": "stderr",
     "output_type": "stream",
     "text": [
      "hyperopt.tpe INFO  build_posterior_wrapper took 0.024730 seconds\n",
      "hyperopt.tpe INFO  TPE using 402/402 trials with best loss 0.920134\n",
      "py4j.clientserver INFO  Closing down clientserver connection\n"
     ]
    },
    {
     "name": "stdout",
     "output_type": "stream",
     "text": [
      " 38%|███▊      | 385/1000 [2:27:21<3:19:13, 19.44s/trial, best loss: 0.9201335479845877]"
     ]
    },
    {
     "name": "stderr",
     "output_type": "stream",
     "text": [
      "hyperopt.tpe INFO  build_posterior_wrapper took 0.015629 seconds\n",
      "hyperopt.tpe INFO  TPE using 403/403 trials with best loss 0.920134\n",
      "py4j.clientserver INFO  Closing down clientserver connection\n"
     ]
    },
    {
     "name": "stdout",
     "output_type": "stream",
     "text": [
      " 39%|███▊      | 386/1000 [2:27:24<2:32:00, 14.85s/trial, best loss: 0.9201335479845877]"
     ]
    },
    {
     "name": "stderr",
     "output_type": "stream",
     "text": [
      "hyperopt.tpe INFO  build_posterior_wrapper took 0.015610 seconds\n",
      "hyperopt.tpe INFO  TPE using 404/404 trials with best loss 0.920134\n",
      "py4j.clientserver INFO  Closing down clientserver connection\n"
     ]
    },
    {
     "name": "stdout",
     "output_type": "stream",
     "text": [
      " 39%|███▊      | 387/1000 [2:27:27<1:57:20, 11.48s/trial, best loss: 0.9201335479845877]"
     ]
    },
    {
     "name": "stderr",
     "output_type": "stream",
     "text": [
      "hyperopt.tpe INFO  build_posterior_wrapper took 0.015624 seconds\n",
      "hyperopt.tpe INFO  TPE using 405/405 trials with best loss 0.920134\n",
      "py4j.clientserver INFO  Closing down clientserver connection\n"
     ]
    },
    {
     "name": "stdout",
     "output_type": "stream",
     "text": [
      " 39%|███▉      | 388/1000 [2:27:29<1:29:12,  8.75s/trial, best loss: 0.9201335479845877]"
     ]
    },
    {
     "name": "stderr",
     "output_type": "stream",
     "text": [
      "py4j.clientserver INFO  Closing down clientserver connection\n"
     ]
    },
    {
     "name": "stdout",
     "output_type": "stream",
     "text": [
      " 39%|███▉      | 389/1000 [2:27:30<1:06:00,  6.48s/trial, best loss: 0.9201335479845877]"
     ]
    },
    {
     "name": "stderr",
     "output_type": "stream",
     "text": [
      "hyperopt.tpe INFO  build_posterior_wrapper took 0.023000 seconds\n",
      "hyperopt.tpe INFO  TPE using 406/406 trials with best loss 0.920134\n",
      "hyperopt.tpe INFO  build_posterior_wrapper took 0.023555 seconds\n",
      "hyperopt.tpe INFO  TPE using 407/407 trials with best loss 0.920134\n",
      "py4j.clientserver INFO  Closing down clientserver connection\n",
      "py4j.clientserver INFO  Closing down clientserver connection\n"
     ]
    },
    {
     "name": "stdout",
     "output_type": "stream",
     "text": [
      " 39%|███▉      | 391/1000 [2:27:36<49:57,  4.92s/trial, best loss: 0.9201335479845877]  "
     ]
    },
    {
     "name": "stderr",
     "output_type": "stream",
     "text": [
      "hyperopt.tpe INFO  build_posterior_wrapper took 0.022400 seconds\n",
      "hyperopt.tpe INFO  TPE using 408/408 trials with best loss 0.920134\n",
      "hyperopt.tpe INFO  build_posterior_wrapper took 0.119193 seconds\n",
      "hyperopt.tpe INFO  TPE using 409/409 trials with best loss 0.920134\n",
      "py4j.clientserver INFO  Closing down clientserver connection\n",
      "py4j.clientserver INFO  Closing down clientserver connection\n"
     ]
    },
    {
     "name": "stdout",
     "output_type": "stream",
     "text": [
      " 39%|███▉      | 393/1000 [2:27:39<34:30,  3.41s/trial, best loss: 0.9201335479845877]"
     ]
    },
    {
     "name": "stderr",
     "output_type": "stream",
     "text": [
      "hyperopt.tpe INFO  build_posterior_wrapper took 0.021405 seconds\n",
      "hyperopt.tpe INFO  TPE using 410/410 trials with best loss 0.920134\n",
      "hyperopt.tpe INFO  build_posterior_wrapper took 0.023517 seconds\n",
      "hyperopt.tpe INFO  TPE using 411/411 trials with best loss 0.920134\n",
      "py4j.clientserver INFO  Closing down clientserver connection\n"
     ]
    },
    {
     "name": "stdout",
     "output_type": "stream",
     "text": [
      " 39%|███▉      | 394/1000 [2:27:49<49:26,  4.90s/trial, best loss: 0.9201335479845877]"
     ]
    },
    {
     "name": "stderr",
     "output_type": "stream",
     "text": [
      "hyperopt.tpe INFO  build_posterior_wrapper took 0.015636 seconds\n",
      "hyperopt.tpe INFO  TPE using 412/412 trials with best loss 0.920134\n",
      "py4j.clientserver INFO  Closing down clientserver connection\n"
     ]
    },
    {
     "name": "stdout",
     "output_type": "stream",
     "text": [
      " 40%|███▉      | 395/1000 [2:27:56<54:34,  5.41s/trial, best loss: 0.9201335479845877]"
     ]
    },
    {
     "name": "stderr",
     "output_type": "stream",
     "text": [
      "hyperopt.tpe INFO  build_posterior_wrapper took 0.015624 seconds\n",
      "hyperopt.tpe INFO  TPE using 413/413 trials with best loss 0.920134\n",
      "py4j.clientserver INFO  Closing down clientserver connection\n"
     ]
    },
    {
     "name": "stdout",
     "output_type": "stream",
     "text": [
      " 40%|███▉      | 396/1000 [2:28:23<1:50:29, 10.98s/trial, best loss: 0.9201335479845877]"
     ]
    },
    {
     "name": "stderr",
     "output_type": "stream",
     "text": [
      "hyperopt.tpe INFO  build_posterior_wrapper took 0.000000 seconds\n",
      "hyperopt.tpe INFO  TPE using 414/414 trials with best loss 0.920134\n",
      "py4j.clientserver INFO  Closing down clientserver connection\n"
     ]
    },
    {
     "name": "stdout",
     "output_type": "stream",
     "text": [
      " 40%|███▉      | 397/1000 [2:33:47<15:47:22, 94.27s/trial, best loss: 0.9201335479845877]"
     ]
    },
    {
     "name": "stderr",
     "output_type": "stream",
     "text": [
      "hyperopt.tpe INFO  build_posterior_wrapper took 0.015642 seconds\n",
      "hyperopt.tpe INFO  TPE using 415/415 trials with best loss 0.920134\n",
      "py4j.clientserver INFO  Closing down clientserver connection\n"
     ]
    },
    {
     "name": "stdout",
     "output_type": "stream",
     "text": [
      " 40%|███▉      | 398/1000 [2:33:50<11:33:22, 69.11s/trial, best loss: 0.9201335479845877]"
     ]
    },
    {
     "name": "stderr",
     "output_type": "stream",
     "text": [
      "hyperopt.tpe INFO  build_posterior_wrapper took 0.115352 seconds\n",
      "hyperopt.tpe INFO  TPE using 416/416 trials with best loss 0.920134\n",
      "py4j.clientserver INFO  Closing down clientserver connection\n",
      "py4j.clientserver INFO  Closing down clientserver connection\n"
     ]
    },
    {
     "name": "stdout",
     "output_type": "stream",
     "text": [
      " 40%|████      | 400/1000 [2:33:57<6:42:21, 40.24s/trial, best loss: 0.9201335479845877] "
     ]
    },
    {
     "name": "stderr",
     "output_type": "stream",
     "text": [
      "hyperopt.tpe INFO  build_posterior_wrapper took 0.016078 seconds\n",
      "hyperopt.tpe INFO  TPE using 417/417 trials with best loss 0.920134\n",
      "hyperopt.tpe INFO  build_posterior_wrapper took 0.015630 seconds\n",
      "hyperopt.tpe INFO  TPE using 418/418 trials with best loss 0.920134\n",
      "py4j.clientserver INFO  Closing down clientserver connection\n",
      "py4j.clientserver INFO  Closing down clientserver connection\n"
     ]
    },
    {
     "name": "stdout",
     "output_type": "stream",
     "text": [
      " 40%|████      | 402/1000 [2:34:05<4:21:43, 26.26s/trial, best loss: 0.9201335479845877]"
     ]
    },
    {
     "name": "stderr",
     "output_type": "stream",
     "text": [
      "hyperopt.tpe INFO  build_posterior_wrapper took 0.015632 seconds\n",
      "hyperopt.tpe INFO  TPE using 419/419 trials with best loss 0.920134\n",
      "hyperopt.tpe INFO  build_posterior_wrapper took 0.015627 seconds\n",
      "hyperopt.tpe INFO  TPE using 420/420 trials with best loss 0.920134\n",
      "py4j.clientserver INFO  Closing down clientserver connection\n"
     ]
    },
    {
     "name": "stdout",
     "output_type": "stream",
     "text": [
      " 40%|████      | 403/1000 [2:34:08<3:31:25, 21.25s/trial, best loss: 0.9201335479845877]"
     ]
    },
    {
     "name": "stderr",
     "output_type": "stream",
     "text": [
      "hyperopt.tpe INFO  build_posterior_wrapper took 0.015614 seconds\n",
      "hyperopt.tpe INFO  TPE using 421/421 trials with best loss 0.920134\n",
      "py4j.clientserver INFO  Closing down clientserver connection\n"
     ]
    },
    {
     "name": "stdout",
     "output_type": "stream",
     "text": [
      " 40%|████      | 404/1000 [2:34:12<2:50:50, 17.20s/trial, best loss: 0.9201335479845877]"
     ]
    },
    {
     "name": "stderr",
     "output_type": "stream",
     "text": [
      "py4j.clientserver INFO  Closing down clientserver connection\n",
      "py4j.clientserver INFO  Closing down clientserver connection\n"
     ]
    },
    {
     "name": "stdout",
     "output_type": "stream",
     "text": [
      " 41%|████      | 406/1000 [2:34:13<1:43:41, 10.47s/trial, best loss: 0.9201335479845877]"
     ]
    },
    {
     "name": "stderr",
     "output_type": "stream",
     "text": [
      "hyperopt.tpe INFO  build_posterior_wrapper took 0.094787 seconds\n",
      "hyperopt.tpe INFO  TPE using 422/422 trials with best loss 0.920134\n",
      "hyperopt.tpe INFO  build_posterior_wrapper took 0.015646 seconds\n",
      "hyperopt.tpe INFO  TPE using 423/423 trials with best loss 0.920134\n",
      "py4j.clientserver INFO  Closing down clientserver connection\n"
     ]
    },
    {
     "name": "stdout",
     "output_type": "stream",
     "text": [
      " 41%|████      | 407/1000 [2:34:15<1:25:08,  8.61s/trial, best loss: 0.9201335479845877]"
     ]
    },
    {
     "name": "stderr",
     "output_type": "stream",
     "text": [
      "hyperopt.tpe INFO  build_posterior_wrapper took 0.015661 seconds\n",
      "hyperopt.tpe INFO  TPE using 424/424 trials with best loss 0.920134\n",
      "hyperopt.tpe INFO  build_posterior_wrapper took 0.015631 seconds\n",
      "hyperopt.tpe INFO  TPE using 425/425 trials with best loss 0.920134\n",
      "py4j.clientserver INFO  Closing down clientserver connection\n"
     ]
    },
    {
     "name": "stdout",
     "output_type": "stream",
     "text": [
      " 41%|████      | 408/1000 [2:34:22<1:21:25,  8.25s/trial, best loss: 0.9201335479845877]"
     ]
    },
    {
     "name": "stderr",
     "output_type": "stream",
     "text": [
      "hyperopt.tpe INFO  build_posterior_wrapper took 0.015624 seconds\n",
      "hyperopt.tpe INFO  TPE using 426/426 trials with best loss 0.920134\n",
      "py4j.clientserver INFO  Closing down clientserver connection\n",
      "py4j.clientserver INFO  Closing down clientserver connection\n"
     ]
    },
    {
     "name": "stdout",
     "output_type": "stream",
     "text": [
      " 41%|████      | 410/1000 [2:34:24<52:05,  5.30s/trial, best loss: 0.9201335479845877]  "
     ]
    },
    {
     "name": "stderr",
     "output_type": "stream",
     "text": [
      "py4j.clientserver INFO  Closing down clientserver connection\n"
     ]
    },
    {
     "name": "stdout",
     "output_type": "stream",
     "text": [
      " 41%|████      | 411/1000 [2:34:25<42:27,  4.33s/trial, best loss: 0.9201335479845877]"
     ]
    },
    {
     "name": "stderr",
     "output_type": "stream",
     "text": [
      "hyperopt.tpe INFO  build_posterior_wrapper took 0.015621 seconds\n",
      "hyperopt.tpe INFO  TPE using 427/427 trials with best loss 0.920134\n",
      "hyperopt.tpe INFO  build_posterior_wrapper took 0.015622 seconds\n",
      "hyperopt.tpe INFO  TPE using 428/428 trials with best loss 0.920134\n",
      "hyperopt.tpe INFO  build_posterior_wrapper took 0.093761 seconds\n",
      "hyperopt.tpe INFO  TPE using 429/429 trials with best loss 0.920134\n",
      "py4j.clientserver INFO  Closing down clientserver connection\n"
     ]
    },
    {
     "name": "stdout",
     "output_type": "stream",
     "text": [
      " 41%|████      | 412/1000 [2:34:41<1:08:40,  7.01s/trial, best loss: 0.9201335479845877]"
     ]
    },
    {
     "name": "stderr",
     "output_type": "stream",
     "text": [
      "hyperopt.tpe INFO  build_posterior_wrapper took 0.015605 seconds\n",
      "hyperopt.tpe INFO  TPE using 430/430 trials with best loss 0.920134\n",
      "py4j.clientserver INFO  Closing down clientserver connection\n"
     ]
    },
    {
     "name": "stdout",
     "output_type": "stream",
     "text": [
      " 41%|████▏     | 413/1000 [2:34:46<1:03:38,  6.51s/trial, best loss: 0.9201335479845877]"
     ]
    },
    {
     "name": "stderr",
     "output_type": "stream",
     "text": [
      "hyperopt.tpe INFO  build_posterior_wrapper took 0.015615 seconds\n",
      "hyperopt.tpe INFO  TPE using 431/431 trials with best loss 0.920134\n",
      "py4j.clientserver INFO  Closing down clientserver connection\n"
     ]
    },
    {
     "name": "stdout",
     "output_type": "stream",
     "text": [
      " 41%|████▏     | 414/1000 [2:35:05<1:36:43,  9.90s/trial, best loss: 0.9201335479845877]"
     ]
    },
    {
     "name": "stderr",
     "output_type": "stream",
     "text": [
      "hyperopt.tpe INFO  build_posterior_wrapper took 0.015671 seconds\n",
      "hyperopt.tpe INFO  TPE using 432/432 trials with best loss 0.920134\n",
      "py4j.clientserver INFO  Closing down clientserver connection\n"
     ]
    },
    {
     "name": "stdout",
     "output_type": "stream",
     "text": [
      " 42%|████▏     | 415/1000 [2:40:28<15:46:48, 97.11s/trial, best loss: 0.9201335479845877]"
     ]
    },
    {
     "name": "stderr",
     "output_type": "stream",
     "text": [
      "hyperopt.tpe INFO  build_posterior_wrapper took 0.015622 seconds\n",
      "hyperopt.tpe INFO  TPE using 433/433 trials with best loss 0.920134\n",
      "py4j.clientserver INFO  Closing down clientserver connection\n",
      "py4j.clientserver INFO  Closing down clientserver connection\n",
      "py4j.clientserver INFO  Closing down clientserver connection\n"
     ]
    },
    {
     "name": "stdout",
     "output_type": "stream",
     "text": [
      " 42%|████▏     | 418/1000 [2:40:38<7:27:29, 46.13s/trial, best loss: 0.9201335479845877] "
     ]
    },
    {
     "name": "stderr",
     "output_type": "stream",
     "text": [
      "hyperopt.tpe INFO  build_posterior_wrapper took 0.015688 seconds\n",
      "hyperopt.tpe INFO  TPE using 434/434 trials with best loss 0.920134\n",
      "hyperopt.tpe INFO  build_posterior_wrapper took 0.015630 seconds\n",
      "hyperopt.tpe INFO  TPE using 435/435 trials with best loss 0.920134\n",
      "hyperopt.tpe INFO  build_posterior_wrapper took 0.019089 seconds\n",
      "hyperopt.tpe INFO  TPE using 436/436 trials with best loss 0.920134\n",
      "py4j.clientserver INFO  Closing down clientserver connection\n"
     ]
    },
    {
     "name": "stdout",
     "output_type": "stream",
     "text": [
      " 42%|████▏     | 419/1000 [2:40:47<6:11:01, 38.32s/trial, best loss: 0.9201335479845877]"
     ]
    },
    {
     "name": "stderr",
     "output_type": "stream",
     "text": [
      "hyperopt.tpe INFO  build_posterior_wrapper took 0.109372 seconds\n",
      "hyperopt.tpe INFO  TPE using 437/437 trials with best loss 0.920134\n",
      "py4j.clientserver INFO  Closing down clientserver connection\n"
     ]
    },
    {
     "name": "stdout",
     "output_type": "stream",
     "text": [
      " 42%|████▏     | 420/1000 [2:40:52<4:57:37, 30.79s/trial, best loss: 0.9201335479845877]"
     ]
    },
    {
     "name": "stderr",
     "output_type": "stream",
     "text": [
      "hyperopt.tpe INFO  build_posterior_wrapper took 0.015626 seconds\n",
      "hyperopt.tpe INFO  TPE using 438/438 trials with best loss 0.920134\n",
      "py4j.clientserver INFO  Closing down clientserver connection\n"
     ]
    },
    {
     "name": "stdout",
     "output_type": "stream",
     "text": [
      " 42%|████▏     | 421/1000 [2:40:56<3:53:55, 24.24s/trial, best loss: 0.9201335479845877]"
     ]
    },
    {
     "name": "stderr",
     "output_type": "stream",
     "text": [
      "hyperopt.tpe INFO  build_posterior_wrapper took 0.015620 seconds\n",
      "hyperopt.tpe INFO  TPE using 439/439 trials with best loss 0.920134\n",
      "py4j.clientserver INFO  Closing down clientserver connection\n"
     ]
    },
    {
     "name": "stdout",
     "output_type": "stream",
     "text": [
      " 42%|████▏     | 422/1000 [2:40:59<3:00:37, 18.75s/trial, best loss: 0.9201335479845877]"
     ]
    },
    {
     "name": "stderr",
     "output_type": "stream",
     "text": [
      "py4j.clientserver INFO  Closing down clientserver connection\n",
      "py4j.clientserver INFO  Closing down clientserver connection\n",
      "py4j.clientserver INFO  Closing down clientserver connection\n"
     ]
    },
    {
     "name": "stdout",
     "output_type": "stream",
     "text": [
      " 42%|████▎     | 425/1000 [2:41:00<1:26:49,  9.06s/trial, best loss: 0.9201335479845877]"
     ]
    },
    {
     "name": "stderr",
     "output_type": "stream",
     "text": [
      "hyperopt.tpe INFO  build_posterior_wrapper took 0.015627 seconds\n",
      "hyperopt.tpe INFO  TPE using 440/440 trials with best loss 0.920134\n",
      "hyperopt.tpe INFO  build_posterior_wrapper took 0.000000 seconds\n",
      "hyperopt.tpe INFO  TPE using 441/441 trials with best loss 0.920134\n",
      "py4j.clientserver INFO  Closing down clientserver connection\n"
     ]
    },
    {
     "name": "stdout",
     "output_type": "stream",
     "text": [
      " 43%|████▎     | 426/1000 [2:41:02<1:13:16,  7.66s/trial, best loss: 0.9201335479845877]"
     ]
    },
    {
     "name": "stderr",
     "output_type": "stream",
     "text": [
      "hyperopt.tpe INFO  build_posterior_wrapper took 0.015632 seconds\n",
      "hyperopt.tpe INFO  TPE using 442/442 trials with best loss 0.920134\n",
      "hyperopt.tpe INFO  build_posterior_wrapper took 0.008172 seconds\n",
      "hyperopt.tpe INFO  TPE using 443/443 trials with best loss 0.920134\n",
      "hyperopt.tpe INFO  build_posterior_wrapper took 0.109374 seconds\n",
      "hyperopt.tpe INFO  TPE using 444/444 trials with best loss 0.920134\n",
      "py4j.clientserver INFO  Closing down clientserver connection\n"
     ]
    },
    {
     "name": "stdout",
     "output_type": "stream",
     "text": [
      " 43%|████▎     | 427/1000 [2:41:13<1:20:50,  8.46s/trial, best loss: 0.9201335479845877]"
     ]
    },
    {
     "name": "stderr",
     "output_type": "stream",
     "text": [
      "hyperopt.tpe INFO  build_posterior_wrapper took 0.015615 seconds\n",
      "hyperopt.tpe INFO  TPE using 445/445 trials with best loss 0.920134\n",
      "py4j.clientserver INFO  Closing down clientserver connection\n"
     ]
    },
    {
     "name": "stdout",
     "output_type": "stream",
     "text": [
      " 43%|████▎     | 428/1000 [2:41:20<1:17:31,  8.13s/trial, best loss: 0.9201335479845877]"
     ]
    },
    {
     "name": "stderr",
     "output_type": "stream",
     "text": [
      "hyperopt.tpe INFO  build_posterior_wrapper took 0.018905 seconds\n",
      "hyperopt.tpe INFO  TPE using 446/446 trials with best loss 0.920134\n",
      "py4j.clientserver INFO  Closing down clientserver connection\n"
     ]
    },
    {
     "name": "stdout",
     "output_type": "stream",
     "text": [
      " 43%|████▎     | 429/1000 [2:41:21<1:00:06,  6.32s/trial, best loss: 0.9201335479845877]"
     ]
    },
    {
     "name": "stderr",
     "output_type": "stream",
     "text": [
      "py4j.clientserver INFO  Closing down clientserver connection\n"
     ]
    },
    {
     "name": "stdout",
     "output_type": "stream",
     "text": [
      " 43%|████▎     | 430/1000 [2:41:22<46:29,  4.89s/trial, best loss: 0.9201335479845877]  "
     ]
    },
    {
     "name": "stderr",
     "output_type": "stream",
     "text": [
      "hyperopt.tpe INFO  build_posterior_wrapper took 0.017001 seconds\n",
      "hyperopt.tpe INFO  TPE using 447/447 trials with best loss 0.920134\n",
      "hyperopt.tpe INFO  build_posterior_wrapper took 0.015638 seconds\n",
      "hyperopt.tpe INFO  TPE using 448/448 trials with best loss 0.920134\n",
      "py4j.clientserver INFO  Closing down clientserver connection\n"
     ]
    },
    {
     "name": "stdout",
     "output_type": "stream",
     "text": [
      " 43%|████▎     | 431/1000 [2:41:33<1:02:42,  6.61s/trial, best loss: 0.9201335479845877]"
     ]
    },
    {
     "name": "stderr",
     "output_type": "stream",
     "text": [
      "hyperopt.tpe INFO  build_posterior_wrapper took 0.015639 seconds\n",
      "hyperopt.tpe INFO  TPE using 449/449 trials with best loss 0.920134\n",
      "py4j.clientserver INFO  Closing down clientserver connection\n"
     ]
    },
    {
     "name": "stdout",
     "output_type": "stream",
     "text": [
      " 43%|████▎     | 432/1000 [2:41:58<1:49:46, 11.60s/trial, best loss: 0.9201335479845877]"
     ]
    },
    {
     "name": "stderr",
     "output_type": "stream",
     "text": [
      "hyperopt.tpe INFO  build_posterior_wrapper took 0.118224 seconds\n",
      "hyperopt.tpe INFO  TPE using 450/450 trials with best loss 0.920134\n",
      "py4j.clientserver INFO  Closing down clientserver connection\n",
      "py4j.clientserver INFO  Closing down clientserver connection\n"
     ]
    },
    {
     "name": "stdout",
     "output_type": "stream",
     "text": [
      " 43%|████▎     | 434/1000 [2:47:20<11:17:00, 71.77s/trial, best loss: 0.9201335479845877] "
     ]
    },
    {
     "name": "stderr",
     "output_type": "stream",
     "text": [
      "hyperopt.tpe INFO  build_posterior_wrapper took 0.000000 seconds\n",
      "hyperopt.tpe INFO  TPE using 451/451 trials with best loss 0.920134\n",
      "hyperopt.tpe INFO  build_posterior_wrapper took 0.015628 seconds\n",
      "hyperopt.tpe INFO  TPE using 452/452 trials with best loss 0.920134\n",
      "py4j.clientserver INFO  Closing down clientserver connection\n"
     ]
    },
    {
     "name": "stdout",
     "output_type": "stream",
     "text": [
      " 44%|████▎     | 435/1000 [2:47:23<8:05:35, 51.57s/trial, best loss: 0.9201335479845877] "
     ]
    },
    {
     "name": "stderr",
     "output_type": "stream",
     "text": [
      "py4j.clientserver INFO  Closing down clientserver connection\n"
     ]
    },
    {
     "name": "stdout",
     "output_type": "stream",
     "text": [
      " 44%|████▎     | 436/1000 [2:47:24<5:44:08, 36.61s/trial, best loss: 0.9201335479845877]"
     ]
    },
    {
     "name": "stderr",
     "output_type": "stream",
     "text": [
      "hyperopt.tpe INFO  build_posterior_wrapper took 0.015626 seconds\n",
      "hyperopt.tpe INFO  TPE using 453/453 trials with best loss 0.920134\n",
      "hyperopt.tpe INFO  build_posterior_wrapper took 0.025696 seconds\n",
      "hyperopt.tpe INFO  TPE using 454/454 trials with best loss 0.920134\n",
      "py4j.clientserver INFO  Closing down clientserver connection\n"
     ]
    },
    {
     "name": "stdout",
     "output_type": "stream",
     "text": [
      " 44%|████▎     | 437/1000 [2:47:31<4:21:18, 27.85s/trial, best loss: 0.9201335479845877]"
     ]
    },
    {
     "name": "stderr",
     "output_type": "stream",
     "text": [
      "hyperopt.tpe INFO  build_posterior_wrapper took 0.015626 seconds\n",
      "hyperopt.tpe INFO  TPE using 455/455 trials with best loss 0.920134\n",
      "py4j.clientserver INFO  Closing down clientserver connection\n"
     ]
    },
    {
     "name": "stdout",
     "output_type": "stream",
     "text": [
      " 44%|████▍     | 438/1000 [2:47:36<3:17:13, 21.06s/trial, best loss: 0.9201335479845877]"
     ]
    },
    {
     "name": "stderr",
     "output_type": "stream",
     "text": [
      "hyperopt.tpe INFO  build_posterior_wrapper took 0.015623 seconds\n",
      "hyperopt.tpe INFO  TPE using 456/456 trials with best loss 0.920134\n",
      "py4j.clientserver INFO  Closing down clientserver connection\n"
     ]
    },
    {
     "name": "stdout",
     "output_type": "stream",
     "text": [
      " 44%|████▍     | 439/1000 [2:47:39<2:26:38, 15.68s/trial, best loss: 0.9201335479845877]"
     ]
    },
    {
     "name": "stderr",
     "output_type": "stream",
     "text": [
      "hyperopt.tpe INFO  build_posterior_wrapper took 0.093759 seconds\n",
      "hyperopt.tpe INFO  TPE using 457/457 trials with best loss 0.920134\n",
      "py4j.clientserver INFO  Closing down clientserver connection\n"
     ]
    },
    {
     "name": "stdout",
     "output_type": "stream",
     "text": [
      " 44%|████▍     | 440/1000 [2:47:47<2:02:30, 13.13s/trial, best loss: 0.9201335479845877]"
     ]
    },
    {
     "name": "stderr",
     "output_type": "stream",
     "text": [
      "py4j.clientserver INFO  Closing down clientserver connection\n"
     ]
    },
    {
     "name": "stdout",
     "output_type": "stream",
     "text": [
      " 44%|████▍     | 441/1000 [2:47:48<1:28:28,  9.50s/trial, best loss: 0.9201335479845877]"
     ]
    },
    {
     "name": "stderr",
     "output_type": "stream",
     "text": [
      "hyperopt.tpe INFO  build_posterior_wrapper took 0.014783 seconds\n",
      "hyperopt.tpe INFO  TPE using 458/458 trials with best loss 0.920134\n",
      "py4j.clientserver INFO  Closing down clientserver connection\n",
      "py4j.clientserver INFO  Closing down clientserver connection\n"
     ]
    },
    {
     "name": "stdout",
     "output_type": "stream",
     "text": [
      " 44%|████▍     | 443/1000 [2:47:49<49:45,  5.36s/trial, best loss: 0.9201335479845877]  "
     ]
    },
    {
     "name": "stderr",
     "output_type": "stream",
     "text": [
      "hyperopt.tpe INFO  build_posterior_wrapper took 0.015626 seconds\n",
      "hyperopt.tpe INFO  TPE using 459/459 trials with best loss 0.920134\n",
      "hyperopt.tpe INFO  build_posterior_wrapper took 0.015625 seconds\n",
      "hyperopt.tpe INFO  TPE using 460/460 trials with best loss 0.920134\n",
      "py4j.clientserver INFO  Closing down clientserver connection\n"
     ]
    },
    {
     "name": "stdout",
     "output_type": "stream",
     "text": [
      " 44%|████▍     | 444/1000 [2:47:51<42:10,  4.55s/trial, best loss: 0.9201335479845877]"
     ]
    },
    {
     "name": "stderr",
     "output_type": "stream",
     "text": [
      "hyperopt.tpe INFO  build_posterior_wrapper took 0.022830 seconds\n",
      "hyperopt.tpe INFO  TPE using 461/461 trials with best loss 0.920134\n",
      "hyperopt.tpe INFO  build_posterior_wrapper took 0.026515 seconds\n",
      "hyperopt.tpe INFO  TPE using 462/462 trials with best loss 0.920134\n",
      "py4j.clientserver INFO  Closing down clientserver connection\n",
      "py4j.clientserver INFO  Closing down clientserver connection\n"
     ]
    },
    {
     "name": "stdout",
     "output_type": "stream",
     "text": [
      " 45%|████▍     | 446/1000 [2:48:04<49:49,  5.40s/trial, best loss: 0.9201335479845877]"
     ]
    },
    {
     "name": "stderr",
     "output_type": "stream",
     "text": [
      "hyperopt.tpe INFO  build_posterior_wrapper took 0.022459 seconds\n",
      "hyperopt.tpe INFO  TPE using 463/463 trials with best loss 0.920134\n",
      "hyperopt.tpe INFO  build_posterior_wrapper took 0.013405 seconds\n",
      "hyperopt.tpe INFO  TPE using 464/464 trials with best loss 0.920134\n",
      "py4j.clientserver INFO  Closing down clientserver connection\n"
     ]
    },
    {
     "name": "stdout",
     "output_type": "stream",
     "text": [
      " 45%|████▍     | 447/1000 [2:48:07<44:52,  4.87s/trial, best loss: 0.9201335479845877]"
     ]
    },
    {
     "name": "stderr",
     "output_type": "stream",
     "text": [
      "hyperopt.tpe INFO  build_posterior_wrapper took 0.119931 seconds\n",
      "hyperopt.tpe INFO  TPE using 465/465 trials with best loss 0.920134\n",
      "py4j.clientserver INFO  Closing down clientserver connection\n"
     ]
    },
    {
     "name": "stdout",
     "output_type": "stream",
     "text": [
      " 45%|████▍     | 448/1000 [2:48:08<36:21,  3.95s/trial, best loss: 0.9201335479845877]"
     ]
    },
    {
     "name": "stderr",
     "output_type": "stream",
     "text": [
      "hyperopt.tpe INFO  build_posterior_wrapper took 0.015629 seconds\n",
      "hyperopt.tpe INFO  TPE using 466/466 trials with best loss 0.920134\n",
      "py4j.clientserver INFO  Closing down clientserver connection\n"
     ]
    },
    {
     "name": "stdout",
     "output_type": "stream",
     "text": [
      " 45%|████▍     | 449/1000 [2:48:18<51:00,  5.55s/trial, best loss: 0.9201335479845877]"
     ]
    },
    {
     "name": "stderr",
     "output_type": "stream",
     "text": [
      "hyperopt.tpe INFO  build_posterior_wrapper took 0.015624 seconds\n",
      "hyperopt.tpe INFO  TPE using 467/467 trials with best loss 0.920134\n",
      "py4j.clientserver INFO  Closing down clientserver connection\n"
     ]
    },
    {
     "name": "stdout",
     "output_type": "stream",
     "text": [
      " 45%|████▌     | 450/1000 [2:48:43<1:39:41, 10.87s/trial, best loss: 0.9201335479845877]"
     ]
    },
    {
     "name": "stderr",
     "output_type": "stream",
     "text": [
      "hyperopt.tpe INFO  build_posterior_wrapper took 0.015620 seconds\n",
      "hyperopt.tpe INFO  TPE using 468/468 trials with best loss 0.920134\n",
      "py4j.clientserver INFO  Closing down clientserver connection\n"
     ]
    },
    {
     "name": "stdout",
     "output_type": "stream",
     "text": [
      " 45%|████▌     | 451/1000 [2:54:03<14:47:33, 97.00s/trial, best loss: 0.9201335479845877]"
     ]
    },
    {
     "name": "stderr",
     "output_type": "stream",
     "text": [
      "hyperopt.tpe INFO  build_posterior_wrapper took 0.015637 seconds\n",
      "hyperopt.tpe INFO  TPE using 469/469 trials with best loss 0.920134\n",
      "py4j.clientserver INFO  Closing down clientserver connection\n"
     ]
    },
    {
     "name": "stdout",
     "output_type": "stream",
     "text": [
      " 45%|████▌     | 452/1000 [2:54:04<10:36:07, 69.65s/trial, best loss: 0.9201335479845877]"
     ]
    },
    {
     "name": "stderr",
     "output_type": "stream",
     "text": [
      "hyperopt.tpe INFO  build_posterior_wrapper took 0.015637 seconds\n",
      "hyperopt.tpe INFO  TPE using 470/470 trials with best loss 0.920134\n",
      "py4j.clientserver INFO  Closing down clientserver connection\n"
     ]
    },
    {
     "name": "stdout",
     "output_type": "stream",
     "text": [
      " 45%|████▌     | 453/1000 [2:54:06<7:36:38, 50.09s/trial, best loss: 0.9201335479845877] "
     ]
    },
    {
     "name": "stderr",
     "output_type": "stream",
     "text": [
      "hyperopt.tpe INFO  build_posterior_wrapper took 0.015631 seconds\n",
      "hyperopt.tpe INFO  TPE using 471/471 trials with best loss 0.920134\n",
      "py4j.clientserver INFO  Closing down clientserver connection\n"
     ]
    },
    {
     "name": "stdout",
     "output_type": "stream",
     "text": [
      " 45%|████▌     | 454/1000 [2:54:08<5:27:54, 36.03s/trial, best loss: 0.9201335479845877]"
     ]
    },
    {
     "name": "stderr",
     "output_type": "stream",
     "text": [
      "hyperopt.tpe INFO  build_posterior_wrapper took 0.109375 seconds\n",
      "hyperopt.tpe INFO  TPE using 472/472 trials with best loss 0.920134\n",
      "py4j.clientserver INFO  Closing down clientserver connection\n"
     ]
    },
    {
     "name": "stdout",
     "output_type": "stream",
     "text": [
      " 46%|████▌     | 455/1000 [2:54:16<4:12:38, 27.81s/trial, best loss: 0.9201335479845877]"
     ]
    },
    {
     "name": "stderr",
     "output_type": "stream",
     "text": [
      "hyperopt.tpe INFO  build_posterior_wrapper took 0.015620 seconds\n",
      "hyperopt.tpe INFO  TPE using 473/473 trials with best loss 0.920134\n",
      "py4j.clientserver INFO  Closing down clientserver connection\n"
     ]
    },
    {
     "name": "stdout",
     "output_type": "stream",
     "text": [
      " 46%|████▌     | 456/1000 [2:54:17<3:00:13, 19.88s/trial, best loss: 0.9201335479845877]"
     ]
    },
    {
     "name": "stderr",
     "output_type": "stream",
     "text": [
      "hyperopt.tpe INFO  build_posterior_wrapper took 0.025887 seconds\n",
      "hyperopt.tpe INFO  TPE using 474/474 trials with best loss 0.920134\n",
      "py4j.clientserver INFO  Closing down clientserver connection\n"
     ]
    },
    {
     "name": "stdout",
     "output_type": "stream",
     "text": [
      " 46%|████▌     | 457/1000 [2:54:24<2:25:30, 16.08s/trial, best loss: 0.9201335479845877]"
     ]
    },
    {
     "name": "stderr",
     "output_type": "stream",
     "text": [
      "hyperopt.tpe INFO  build_posterior_wrapper took 0.015636 seconds\n",
      "hyperopt.tpe INFO  TPE using 475/475 trials with best loss 0.920134\n",
      "py4j.clientserver INFO  Closing down clientserver connection\n"
     ]
    },
    {
     "name": "stdout",
     "output_type": "stream",
     "text": [
      " 46%|████▌     | 458/1000 [2:54:32<2:03:43, 13.70s/trial, best loss: 0.9201335479845877]"
     ]
    },
    {
     "name": "stderr",
     "output_type": "stream",
     "text": [
      "hyperopt.tpe INFO  build_posterior_wrapper took 0.015631 seconds\n",
      "hyperopt.tpe INFO  TPE using 476/476 trials with best loss 0.920134\n",
      "py4j.clientserver INFO  Closing down clientserver connection\n",
      "py4j.clientserver INFO  Closing down clientserver connection\n"
     ]
    },
    {
     "name": "stdout",
     "output_type": "stream",
     "text": [
      " 46%|████▌     | 460/1000 [2:54:34<1:08:41,  7.63s/trial, best loss: 0.9201335479845877]"
     ]
    },
    {
     "name": "stderr",
     "output_type": "stream",
     "text": [
      "hyperopt.tpe INFO  build_posterior_wrapper took 0.015905 seconds\n",
      "hyperopt.tpe INFO  TPE using 477/477 trials with best loss 0.920134\n",
      "py4j.clientserver INFO  Closing down clientserver connection\n"
     ]
    },
    {
     "name": "stdout",
     "output_type": "stream",
     "text": [
      " 46%|████▌     | 461/1000 [2:54:35<53:54,  6.00s/trial, best loss: 0.9201335479845877]  "
     ]
    },
    {
     "name": "stderr",
     "output_type": "stream",
     "text": [
      "hyperopt.tpe INFO  build_posterior_wrapper took 0.111703 seconds\n",
      "hyperopt.tpe INFO  TPE using 478/478 trials with best loss 0.920134\n",
      "hyperopt.tpe INFO  build_posterior_wrapper took 0.015629 seconds\n",
      "hyperopt.tpe INFO  TPE using 479/479 trials with best loss 0.920134\n",
      "py4j.clientserver INFO  Closing down clientserver connection\n"
     ]
    },
    {
     "name": "stdout",
     "output_type": "stream",
     "text": [
      " 46%|████▌     | 462/1000 [2:54:40<51:52,  5.79s/trial, best loss: 0.9201335479845877]"
     ]
    },
    {
     "name": "stderr",
     "output_type": "stream",
     "text": [
      "hyperopt.tpe INFO  build_posterior_wrapper took 0.015628 seconds\n",
      "hyperopt.tpe INFO  TPE using 480/480 trials with best loss 0.920134\n",
      "py4j.clientserver INFO  Closing down clientserver connection\n"
     ]
    },
    {
     "name": "stdout",
     "output_type": "stream",
     "text": [
      " 46%|████▋     | 463/1000 [2:54:51<1:04:45,  7.24s/trial, best loss: 0.9201335479845877]"
     ]
    },
    {
     "name": "stderr",
     "output_type": "stream",
     "text": [
      "hyperopt.tpe INFO  build_posterior_wrapper took 0.015626 seconds\n",
      "hyperopt.tpe INFO  TPE using 481/481 trials with best loss 0.920134\n",
      "py4j.clientserver INFO  Closing down clientserver connection\n"
     ]
    },
    {
     "name": "stdout",
     "output_type": "stream",
     "text": [
      " 46%|████▋     | 464/1000 [2:54:56<59:11,  6.63s/trial, best loss: 0.9201335479845877]  "
     ]
    },
    {
     "name": "stderr",
     "output_type": "stream",
     "text": [
      "hyperopt.tpe INFO  build_posterior_wrapper took 0.015638 seconds\n",
      "hyperopt.tpe INFO  TPE using 482/482 trials with best loss 0.920134\n",
      "py4j.clientserver INFO  Closing down clientserver connection\n"
     ]
    },
    {
     "name": "stdout",
     "output_type": "stream",
     "text": [
      " 46%|████▋     | 465/1000 [2:54:57<44:51,  5.03s/trial, best loss: 0.9201335479845877]"
     ]
    },
    {
     "name": "stderr",
     "output_type": "stream",
     "text": [
      "hyperopt.tpe INFO  build_posterior_wrapper took 0.031287 seconds\n",
      "hyperopt.tpe INFO  TPE using 483/483 trials with best loss 0.920134\n",
      "py4j.clientserver INFO  Closing down clientserver connection\n"
     ]
    },
    {
     "name": "stdout",
     "output_type": "stream",
     "text": [
      " 47%|████▋     | 466/1000 [2:55:00<39:42,  4.46s/trial, best loss: 0.9201335479845877]"
     ]
    },
    {
     "name": "stderr",
     "output_type": "stream",
     "text": [
      "py4j.clientserver INFO  Closing down clientserver connection\n"
     ]
    },
    {
     "name": "stdout",
     "output_type": "stream",
     "text": [
      " 47%|████▋     | 467/1000 [2:55:01<30:38,  3.45s/trial, best loss: 0.9201335479845877]"
     ]
    },
    {
     "name": "stderr",
     "output_type": "stream",
     "text": [
      "hyperopt.tpe INFO  build_posterior_wrapper took 0.015674 seconds\n",
      "hyperopt.tpe INFO  TPE using 484/484 trials with best loss 0.920134\n",
      "hyperopt.tpe INFO  build_posterior_wrapper took 0.124722 seconds\n",
      "hyperopt.tpe INFO  TPE using 485/485 trials with best loss 0.920134\n",
      "py4j.clientserver INFO  Closing down clientserver connection\n"
     ]
    },
    {
     "name": "stdout",
     "output_type": "stream",
     "text": [
      " 47%|████▋     | 468/1000 [2:55:36<1:54:14, 12.88s/trial, best loss: 0.9201335479845877]"
     ]
    },
    {
     "name": "stderr",
     "output_type": "stream",
     "text": [
      "hyperopt.tpe INFO  build_posterior_wrapper took 0.000000 seconds\n",
      "hyperopt.tpe INFO  TPE using 486/486 trials with best loss 0.920134\n",
      "py4j.clientserver INFO  Closing down clientserver connection\n"
     ]
    },
    {
     "name": "stdout",
     "output_type": "stream",
     "text": [
      " 47%|████▋     | 469/1000 [3:00:42<14:40:44, 99.52s/trial, best loss: 0.9201335479845877]"
     ]
    },
    {
     "name": "stderr",
     "output_type": "stream",
     "text": [
      "hyperopt.tpe INFO  build_posterior_wrapper took 0.015630 seconds\n",
      "hyperopt.tpe INFO  TPE using 487/487 trials with best loss 0.920134\n",
      "py4j.clientserver INFO  Closing down clientserver connection\n"
     ]
    },
    {
     "name": "stdout",
     "output_type": "stream",
     "text": [
      " 47%|████▋     | 470/1000 [3:00:44<10:22:58, 70.53s/trial, best loss: 0.9201335479845877]"
     ]
    },
    {
     "name": "stderr",
     "output_type": "stream",
     "text": [
      "hyperopt.tpe INFO  build_posterior_wrapper took 0.000000 seconds\n",
      "hyperopt.tpe INFO  TPE using 488/488 trials with best loss 0.920134\n",
      "py4j.clientserver INFO  Closing down clientserver connection\n"
     ]
    },
    {
     "name": "stdout",
     "output_type": "stream",
     "text": [
      " 47%|████▋     | 471/1000 [3:00:46<7:21:42, 50.10s/trial, best loss: 0.9201335479845877] "
     ]
    },
    {
     "name": "stderr",
     "output_type": "stream",
     "text": [
      "hyperopt.tpe INFO  build_posterior_wrapper took 0.015624 seconds\n",
      "hyperopt.tpe INFO  TPE using 489/489 trials with best loss 0.920134\n",
      "py4j.clientserver INFO  Closing down clientserver connection\n"
     ]
    },
    {
     "name": "stdout",
     "output_type": "stream",
     "text": [
      " 47%|████▋     | 472/1000 [3:00:48<5:14:30, 35.74s/trial, best loss: 0.9201335479845877]"
     ]
    },
    {
     "name": "stderr",
     "output_type": "stream",
     "text": [
      "hyperopt.tpe INFO  build_posterior_wrapper took 0.015624 seconds\n",
      "hyperopt.tpe INFO  TPE using 490/490 trials with best loss 0.920134\n",
      "py4j.clientserver INFO  Closing down clientserver connection\n"
     ]
    },
    {
     "name": "stdout",
     "output_type": "stream",
     "text": [
      " 47%|████▋     | 473/1000 [3:00:56<4:01:17, 27.47s/trial, best loss: 0.9201335479845877]"
     ]
    },
    {
     "name": "stderr",
     "output_type": "stream",
     "text": [
      "hyperopt.tpe INFO  build_posterior_wrapper took 0.015633 seconds\n",
      "hyperopt.tpe INFO  TPE using 491/491 trials with best loss 0.920134\n",
      "py4j.clientserver INFO  Closing down clientserver connection\n"
     ]
    },
    {
     "name": "stdout",
     "output_type": "stream",
     "text": [
      " 47%|████▋     | 474/1000 [3:00:57<2:51:23, 19.55s/trial, best loss: 0.9201335479845877]"
     ]
    },
    {
     "name": "stderr",
     "output_type": "stream",
     "text": [
      "hyperopt.tpe INFO  build_posterior_wrapper took 0.015623 seconds\n",
      "hyperopt.tpe INFO  TPE using 492/492 trials with best loss 0.920134\n",
      "py4j.clientserver INFO  Closing down clientserver connection\n"
     ]
    },
    {
     "name": "stdout",
     "output_type": "stream",
     "text": [
      " 48%|████▊     | 475/1000 [3:01:07<2:26:18, 16.72s/trial, best loss: 0.9201335479845877]"
     ]
    },
    {
     "name": "stderr",
     "output_type": "stream",
     "text": [
      "hyperopt.tpe INFO  build_posterior_wrapper took 0.128906 seconds\n",
      "hyperopt.tpe INFO  TPE using 493/493 trials with best loss 0.920134\n",
      "py4j.clientserver INFO  Closing down clientserver connection\n",
      "py4j.clientserver INFO  Closing down clientserver connection\n"
     ]
    },
    {
     "name": "stdout",
     "output_type": "stream",
     "text": [
      " 48%|████▊     | 477/1000 [3:01:08<1:20:49,  9.27s/trial, best loss: 0.9201335479845877]"
     ]
    },
    {
     "name": "stderr",
     "output_type": "stream",
     "text": [
      "hyperopt.tpe INFO  build_posterior_wrapper took 0.015620 seconds\n",
      "hyperopt.tpe INFO  TPE using 494/494 trials with best loss 0.920134\n",
      "hyperopt.tpe INFO  build_posterior_wrapper took 0.015624 seconds\n",
      "hyperopt.tpe INFO  TPE using 495/495 trials with best loss 0.920134\n",
      "py4j.clientserver INFO  Closing down clientserver connection\n"
     ]
    },
    {
     "name": "stdout",
     "output_type": "stream",
     "text": [
      " 48%|████▊     | 478/1000 [3:01:11<1:07:18,  7.74s/trial, best loss: 0.9201335479845877]"
     ]
    },
    {
     "name": "stderr",
     "output_type": "stream",
     "text": [
      "hyperopt.tpe INFO  build_posterior_wrapper took 0.015623 seconds\n",
      "hyperopt.tpe INFO  TPE using 496/496 trials with best loss 0.920134\n",
      "py4j.clientserver INFO  Closing down clientserver connection\n"
     ]
    },
    {
     "name": "stdout",
     "output_type": "stream",
     "text": [
      " 48%|████▊     | 479/1000 [3:01:13<54:15,  6.25s/trial, best loss: 0.9201335479845877]  "
     ]
    },
    {
     "name": "stderr",
     "output_type": "stream",
     "text": [
      "hyperopt.tpe INFO  build_posterior_wrapper took 0.015620 seconds\n",
      "hyperopt.tpe INFO  TPE using 497/497 trials with best loss 0.920134\n",
      "py4j.clientserver INFO  Closing down clientserver connection\n"
     ]
    },
    {
     "name": "stdout",
     "output_type": "stream",
     "text": [
      " 48%|████▊     | 480/1000 [3:01:23<1:03:11,  7.29s/trial, best loss: 0.9201335479845877]"
     ]
    },
    {
     "name": "stderr",
     "output_type": "stream",
     "text": [
      "hyperopt.tpe INFO  build_posterior_wrapper took 0.015622 seconds\n",
      "hyperopt.tpe INFO  TPE using 498/498 trials with best loss 0.920134\n",
      "py4j.clientserver INFO  Closing down clientserver connection\n"
     ]
    },
    {
     "name": "stdout",
     "output_type": "stream",
     "text": [
      " 48%|████▊     | 481/1000 [3:01:27<55:14,  6.39s/trial, best loss: 0.9201335479845877]  "
     ]
    },
    {
     "name": "stderr",
     "output_type": "stream",
     "text": [
      "hyperopt.tpe INFO  build_posterior_wrapper took 0.015646 seconds\n",
      "hyperopt.tpe INFO  TPE using 499/499 trials with best loss 0.920134\n",
      "py4j.clientserver INFO  Closing down clientserver connection\n"
     ]
    },
    {
     "name": "stdout",
     "output_type": "stream",
     "text": [
      " 48%|████▊     | 482/1000 [3:01:32<51:51,  6.01s/trial, best loss: 0.9201335479845877]"
     ]
    },
    {
     "name": "stderr",
     "output_type": "stream",
     "text": [
      "hyperopt.tpe INFO  build_posterior_wrapper took 0.093751 seconds\n",
      "hyperopt.tpe INFO  TPE using 500/500 trials with best loss 0.920134\n",
      "py4j.clientserver INFO  Closing down clientserver connection\n"
     ]
    },
    {
     "name": "stdout",
     "output_type": "stream",
     "text": [
      " 48%|████▊     | 483/1000 [3:01:37<47:03,  5.46s/trial, best loss: 0.9201335479845877]"
     ]
    },
    {
     "name": "stderr",
     "output_type": "stream",
     "text": [
      "hyperopt.tpe INFO  build_posterior_wrapper took 0.015625 seconds\n",
      "hyperopt.tpe INFO  TPE using 501/501 trials with best loss 0.920134\n",
      "py4j.clientserver INFO  Closing down clientserver connection\n"
     ]
    },
    {
     "name": "stdout",
     "output_type": "stream",
     "text": [
      " 48%|████▊     | 484/1000 [3:01:39<38:25,  4.47s/trial, best loss: 0.9201335479845877]"
     ]
    },
    {
     "name": "stderr",
     "output_type": "stream",
     "text": [
      "hyperopt.tpe INFO  build_posterior_wrapper took 0.015632 seconds\n",
      "hyperopt.tpe INFO  TPE using 502/502 trials with best loss 0.920134\n",
      "py4j.clientserver INFO  Closing down clientserver connection\n"
     ]
    },
    {
     "name": "stdout",
     "output_type": "stream",
     "text": [
      " 48%|████▊     | 485/1000 [3:01:47<47:29,  5.53s/trial, best loss: 0.9201335479845877]"
     ]
    },
    {
     "name": "stderr",
     "output_type": "stream",
     "text": [
      "hyperopt.tpe INFO  build_posterior_wrapper took 0.024660 seconds\n",
      "hyperopt.tpe INFO  TPE using 503/503 trials with best loss 0.920134\n",
      "py4j.clientserver INFO  Closing down clientserver connection\n"
     ]
    },
    {
     "name": "stdout",
     "output_type": "stream",
     "text": [
      " 49%|████▊     | 486/1000 [3:02:19<1:55:18, 13.46s/trial, best loss: 0.9201335479845877]"
     ]
    },
    {
     "name": "stderr",
     "output_type": "stream",
     "text": [
      "hyperopt.tpe INFO  build_posterior_wrapper took 0.020720 seconds\n",
      "hyperopt.tpe INFO  TPE using 504/504 trials with best loss 0.920134\n",
      "py4j.clientserver INFO  Closing down clientserver connection\n"
     ]
    },
    {
     "name": "stdout",
     "output_type": "stream",
     "text": [
      " 49%|████▊     | 487/1000 [3:07:27<14:24:56, 101.16s/trial, best loss: 0.9201335479845877]"
     ]
    },
    {
     "name": "stderr",
     "output_type": "stream",
     "text": [
      "py4j.clientserver INFO  Closing down clientserver connection\n"
     ]
    },
    {
     "name": "stdout",
     "output_type": "stream",
     "text": [
      " 49%|████▉     | 488/1000 [3:07:28<10:08:22, 71.29s/trial, best loss: 0.9201335479845877] "
     ]
    },
    {
     "name": "stderr",
     "output_type": "stream",
     "text": [
      "hyperopt.tpe INFO  build_posterior_wrapper took 0.015673 seconds\n",
      "hyperopt.tpe INFO  TPE using 505/505 trials with best loss 0.920134\n",
      "hyperopt.tpe INFO  build_posterior_wrapper took 0.015624 seconds\n",
      "hyperopt.tpe INFO  TPE using 506/506 trials with best loss 0.920134\n",
      "py4j.clientserver INFO  Closing down clientserver connection\n"
     ]
    },
    {
     "name": "stdout",
     "output_type": "stream",
     "text": [
      " 49%|████▉     | 489/1000 [3:07:30<7:11:01, 50.61s/trial, best loss: 0.9201335479845877] "
     ]
    },
    {
     "name": "stderr",
     "output_type": "stream",
     "text": [
      "hyperopt.tpe INFO  build_posterior_wrapper took 0.125001 seconds\n",
      "hyperopt.tpe INFO  TPE using 507/507 trials with best loss 0.920134\n",
      "py4j.clientserver INFO  Closing down clientserver connection\n"
     ]
    },
    {
     "name": "stdout",
     "output_type": "stream",
     "text": [
      " 49%|████▉     | 490/1000 [3:07:37<5:17:11, 37.32s/trial, best loss: 0.9201335479845877]"
     ]
    },
    {
     "name": "stderr",
     "output_type": "stream",
     "text": [
      "hyperopt.tpe INFO  build_posterior_wrapper took 0.015626 seconds\n",
      "hyperopt.tpe INFO  TPE using 508/508 trials with best loss 0.920134\n",
      "py4j.clientserver INFO  Closing down clientserver connection\n"
     ]
    },
    {
     "name": "stdout",
     "output_type": "stream",
     "text": [
      " 49%|████▉     | 491/1000 [3:07:38<3:44:22, 26.45s/trial, best loss: 0.9201335479845877]"
     ]
    },
    {
     "name": "stderr",
     "output_type": "stream",
     "text": [
      "hyperopt.tpe INFO  build_posterior_wrapper took 0.015632 seconds\n",
      "hyperopt.tpe INFO  TPE using 509/509 trials with best loss 0.920134\n",
      "py4j.clientserver INFO  Closing down clientserver connection\n"
     ]
    },
    {
     "name": "stdout",
     "output_type": "stream",
     "text": [
      " 49%|████▉     | 492/1000 [3:07:40<2:42:02, 19.14s/trial, best loss: 0.9201335479845877]"
     ]
    },
    {
     "name": "stderr",
     "output_type": "stream",
     "text": [
      "hyperopt.tpe INFO  build_posterior_wrapper took 0.015623 seconds\n",
      "hyperopt.tpe INFO  TPE using 510/510 trials with best loss 0.920134\n",
      "py4j.clientserver INFO  Closing down clientserver connection\n"
     ]
    },
    {
     "name": "stdout",
     "output_type": "stream",
     "text": [
      " 49%|████▉     | 493/1000 [3:07:49<2:16:18, 16.13s/trial, best loss: 0.9201335479845877]"
     ]
    },
    {
     "name": "stderr",
     "output_type": "stream",
     "text": [
      "hyperopt.tpe INFO  build_posterior_wrapper took 0.015625 seconds\n",
      "hyperopt.tpe INFO  TPE using 511/511 trials with best loss 0.920134\n",
      "py4j.clientserver INFO  Closing down clientserver connection\n"
     ]
    },
    {
     "name": "stdout",
     "output_type": "stream",
     "text": [
      " 49%|████▉     | 494/1000 [3:07:54<1:48:04, 12.82s/trial, best loss: 0.9201335479845877]"
     ]
    },
    {
     "name": "stderr",
     "output_type": "stream",
     "text": [
      "hyperopt.tpe INFO  build_posterior_wrapper took 0.015623 seconds\n",
      "hyperopt.tpe INFO  TPE using 512/512 trials with best loss 0.920134\n",
      "py4j.clientserver INFO  Closing down clientserver connection\n"
     ]
    },
    {
     "name": "stdout",
     "output_type": "stream",
     "text": [
      " 50%|████▉     | 495/1000 [3:07:55<1:18:08,  9.28s/trial, best loss: 0.9201335479845877]"
     ]
    },
    {
     "name": "stderr",
     "output_type": "stream",
     "text": [
      "hyperopt.tpe INFO  build_posterior_wrapper took 0.015624 seconds\n",
      "hyperopt.tpe INFO  TPE using 513/513 trials with best loss 0.920134\n",
      "py4j.clientserver INFO  Closing down clientserver connection\n"
     ]
    },
    {
     "name": "stdout",
     "output_type": "stream",
     "text": [
      " 50%|████▉     | 496/1000 [3:08:02<1:12:21,  8.61s/trial, best loss: 0.9201335479845877]"
     ]
    },
    {
     "name": "stderr",
     "output_type": "stream",
     "text": [
      "hyperopt.tpe INFO  build_posterior_wrapper took 0.109377 seconds\n",
      "hyperopt.tpe INFO  TPE using 514/514 trials with best loss 0.920134\n",
      "py4j.clientserver INFO  Closing down clientserver connection\n"
     ]
    },
    {
     "name": "stdout",
     "output_type": "stream",
     "text": [
      " 50%|████▉     | 497/1000 [3:08:06<1:00:59,  7.27s/trial, best loss: 0.9201335479845877]"
     ]
    },
    {
     "name": "stderr",
     "output_type": "stream",
     "text": [
      "py4j.clientserver INFO  Closing down clientserver connection\n"
     ]
    },
    {
     "name": "stdout",
     "output_type": "stream",
     "text": [
      " 50%|████▉     | 498/1000 [3:08:07<45:09,  5.40s/trial, best loss: 0.9201335479845877]  "
     ]
    },
    {
     "name": "stderr",
     "output_type": "stream",
     "text": [
      "hyperopt.tpe INFO  build_posterior_wrapper took 0.020514 seconds\n",
      "hyperopt.tpe INFO  TPE using 515/515 trials with best loss 0.920134\n",
      "hyperopt.tpe INFO  build_posterior_wrapper took 0.023582 seconds\n",
      "hyperopt.tpe INFO  TPE using 516/516 trials with best loss 0.920134\n",
      "py4j.clientserver INFO  Closing down clientserver connection\n"
     ]
    },
    {
     "name": "stdout",
     "output_type": "stream",
     "text": [
      " 50%|████▉     | 499/1000 [3:08:12<44:17,  5.31s/trial, best loss: 0.9201335479845877]"
     ]
    },
    {
     "name": "stderr",
     "output_type": "stream",
     "text": [
      "hyperopt.tpe INFO  build_posterior_wrapper took 0.024114 seconds\n",
      "hyperopt.tpe INFO  TPE using 517/517 trials with best loss 0.920134\n",
      "py4j.clientserver INFO  Closing down clientserver connection\n"
     ]
    },
    {
     "name": "stdout",
     "output_type": "stream",
     "text": [
      " 50%|█████     | 500/1000 [3:08:20<51:12,  6.14s/trial, best loss: 0.9201335479845877]"
     ]
    },
    {
     "name": "stderr",
     "output_type": "stream",
     "text": [
      "hyperopt.tpe INFO  build_posterior_wrapper took 0.017365 seconds\n",
      "hyperopt.tpe INFO  TPE using 518/518 trials with best loss 0.920134\n",
      "py4j.clientserver INFO  Closing down clientserver connection\n"
     ]
    },
    {
     "name": "stdout",
     "output_type": "stream",
     "text": [
      " 50%|█████     | 501/1000 [3:08:21<38:22,  4.61s/trial, best loss: 0.9201335479845877]"
     ]
    },
    {
     "name": "stderr",
     "output_type": "stream",
     "text": [
      "hyperopt.tpe INFO  build_posterior_wrapper took 0.015619 seconds\n",
      "hyperopt.tpe INFO  TPE using 519/519 trials with best loss 0.920134\n",
      "py4j.clientserver INFO  Closing down clientserver connection\n"
     ]
    },
    {
     "name": "stdout",
     "output_type": "stream",
     "text": [
      " 50%|█████     | 502/1000 [3:08:23<31:50,  3.84s/trial, best loss: 0.9201335479845877]"
     ]
    },
    {
     "name": "stderr",
     "output_type": "stream",
     "text": [
      "hyperopt.tpe INFO  build_posterior_wrapper took 0.015626 seconds\n",
      "hyperopt.tpe INFO  TPE using 520/520 trials with best loss 0.920134\n",
      "py4j.clientserver INFO  Closing down clientserver connection\n"
     ]
    },
    {
     "name": "stdout",
     "output_type": "stream",
     "text": [
      " 50%|█████     | 503/1000 [3:08:26<29:50,  3.60s/trial, best loss: 0.9201335479845877]"
     ]
    },
    {
     "name": "stderr",
     "output_type": "stream",
     "text": [
      "hyperopt.tpe INFO  build_posterior_wrapper took 0.109374 seconds\n",
      "hyperopt.tpe INFO  TPE using 521/521 trials with best loss 0.920134\n",
      "py4j.clientserver INFO  Closing down clientserver connection\n"
     ]
    },
    {
     "name": "stdout",
     "output_type": "stream",
     "text": [
      " 50%|█████     | 504/1000 [3:08:59<1:40:54, 12.21s/trial, best loss: 0.9201335479845877]"
     ]
    },
    {
     "name": "stderr",
     "output_type": "stream",
     "text": [
      "hyperopt.tpe INFO  build_posterior_wrapper took 0.015626 seconds\n",
      "hyperopt.tpe INFO  TPE using 522/522 trials with best loss 0.920134\n",
      "py4j.clientserver INFO  Closing down clientserver connection\n"
     ]
    },
    {
     "name": "stdout",
     "output_type": "stream",
     "text": [
      " 50%|█████     | 505/1000 [3:14:06<13:50:49, 100.71s/trial, best loss: 0.9201335479845877]"
     ]
    },
    {
     "name": "stderr",
     "output_type": "stream",
     "text": [
      "hyperopt.tpe INFO  build_posterior_wrapper took 0.015622 seconds\n",
      "hyperopt.tpe INFO  TPE using 523/523 trials with best loss 0.920134\n",
      "py4j.clientserver INFO  Closing down clientserver connection\n"
     ]
    },
    {
     "name": "stdout",
     "output_type": "stream",
     "text": [
      " 51%|█████     | 506/1000 [3:14:09<9:47:56, 71.41s/trial, best loss: 0.9201335479845877]  "
     ]
    },
    {
     "name": "stderr",
     "output_type": "stream",
     "text": [
      "hyperopt.tpe INFO  build_posterior_wrapper took 0.015638 seconds\n",
      "hyperopt.tpe INFO  TPE using 524/524 trials with best loss 0.920134\n",
      "py4j.clientserver INFO  Closing down clientserver connection\n"
     ]
    },
    {
     "name": "stdout",
     "output_type": "stream",
     "text": [
      " 51%|█████     | 507/1000 [3:14:11<6:55:46, 50.60s/trial, best loss: 0.9201335479845877]"
     ]
    },
    {
     "name": "stderr",
     "output_type": "stream",
     "text": [
      "hyperopt.tpe INFO  build_posterior_wrapper took 0.015625 seconds\n",
      "hyperopt.tpe INFO  TPE using 525/525 trials with best loss 0.920134\n",
      "py4j.clientserver INFO  Closing down clientserver connection\n"
     ]
    },
    {
     "name": "stdout",
     "output_type": "stream",
     "text": [
      " 51%|█████     | 508/1000 [3:14:15<5:00:29, 36.64s/trial, best loss: 0.9201335479845877]"
     ]
    },
    {
     "name": "stderr",
     "output_type": "stream",
     "text": [
      "hyperopt.tpe INFO  build_posterior_wrapper took 0.015625 seconds\n",
      "hyperopt.tpe INFO  TPE using 526/526 trials with best loss 0.920134\n",
      "py4j.clientserver INFO  Closing down clientserver connection\n"
     ]
    },
    {
     "name": "stdout",
     "output_type": "stream",
     "text": [
      " 51%|█████     | 509/1000 [3:14:21<3:44:46, 27.47s/trial, best loss: 0.9201335479845877]"
     ]
    },
    {
     "name": "stderr",
     "output_type": "stream",
     "text": [
      "hyperopt.tpe INFO  build_posterior_wrapper took 0.015626 seconds\n",
      "hyperopt.tpe INFO  TPE using 527/527 trials with best loss 0.920134\n",
      "py4j.clientserver INFO  Closing down clientserver connection\n"
     ]
    },
    {
     "name": "stdout",
     "output_type": "stream",
     "text": [
      " 51%|█████     | 510/1000 [3:14:30<2:59:14, 21.95s/trial, best loss: 0.9201335479845877]"
     ]
    },
    {
     "name": "stderr",
     "output_type": "stream",
     "text": [
      "hyperopt.tpe INFO  build_posterior_wrapper took 0.015628 seconds\n",
      "hyperopt.tpe INFO  TPE using 528/528 trials with best loss 0.920134\n",
      "py4j.clientserver INFO  Closing down clientserver connection\n"
     ]
    },
    {
     "name": "stdout",
     "output_type": "stream",
     "text": [
      " 51%|█████     | 511/1000 [3:14:33<2:12:40, 16.28s/trial, best loss: 0.9201335479845877]"
     ]
    },
    {
     "name": "stderr",
     "output_type": "stream",
     "text": [
      "hyperopt.tpe INFO  build_posterior_wrapper took 0.140619 seconds\n",
      "hyperopt.tpe INFO  TPE using 529/529 trials with best loss 0.920134\n",
      "py4j.clientserver INFO  Closing down clientserver connection\n"
     ]
    },
    {
     "name": "stdout",
     "output_type": "stream",
     "text": [
      " 51%|█████     | 512/1000 [3:14:35<1:37:58, 12.05s/trial, best loss: 0.9201335479845877]"
     ]
    },
    {
     "name": "stderr",
     "output_type": "stream",
     "text": [
      "hyperopt.tpe INFO  build_posterior_wrapper took 0.015620 seconds\n",
      "hyperopt.tpe INFO  TPE using 530/530 trials with best loss 0.920134\n",
      "py4j.clientserver INFO  Closing down clientserver connection\n"
     ]
    },
    {
     "name": "stdout",
     "output_type": "stream",
     "text": [
      " 51%|█████▏    | 513/1000 [3:14:39<1:18:20,  9.65s/trial, best loss: 0.9201335479845877]"
     ]
    },
    {
     "name": "stderr",
     "output_type": "stream",
     "text": [
      "hyperopt.tpe INFO  build_posterior_wrapper took 0.025621 seconds\n",
      "hyperopt.tpe INFO  TPE using 531/531 trials with best loss 0.920134\n",
      "py4j.clientserver INFO  Closing down clientserver connection\n"
     ]
    },
    {
     "name": "stdout",
     "output_type": "stream",
     "text": [
      " 51%|█████▏    | 514/1000 [3:14:42<1:02:09,  7.67s/trial, best loss: 0.9201335479845877]"
     ]
    },
    {
     "name": "stderr",
     "output_type": "stream",
     "text": [
      "hyperopt.tpe INFO  build_posterior_wrapper took 0.015630 seconds\n",
      "hyperopt.tpe INFO  TPE using 532/532 trials with best loss 0.920134\n",
      "py4j.clientserver INFO  Closing down clientserver connection\n"
     ]
    },
    {
     "name": "stdout",
     "output_type": "stream",
     "text": [
      " 52%|█████▏    | 515/1000 [3:14:52<1:05:26,  8.10s/trial, best loss: 0.9201335479845877]"
     ]
    },
    {
     "name": "stderr",
     "output_type": "stream",
     "text": [
      "hyperopt.tpe INFO  build_posterior_wrapper took 0.015625 seconds\n",
      "hyperopt.tpe INFO  TPE using 533/533 trials with best loss 0.920134\n",
      "py4j.clientserver INFO  Closing down clientserver connection\n"
     ]
    },
    {
     "name": "stdout",
     "output_type": "stream",
     "text": [
      " 52%|█████▏    | 516/1000 [3:14:53<48:13,  5.98s/trial, best loss: 0.9201335479845877]  "
     ]
    },
    {
     "name": "stderr",
     "output_type": "stream",
     "text": [
      "hyperopt.tpe INFO  build_posterior_wrapper took 0.015639 seconds\n",
      "hyperopt.tpe INFO  TPE using 534/534 trials with best loss 0.920134\n",
      "py4j.clientserver INFO  Closing down clientserver connection\n"
     ]
    },
    {
     "name": "stdout",
     "output_type": "stream",
     "text": [
      " 52%|█████▏    | 517/1000 [3:14:54<36:11,  4.50s/trial, best loss: 0.9201335479845877]"
     ]
    },
    {
     "name": "stderr",
     "output_type": "stream",
     "text": [
      "hyperopt.tpe INFO  build_posterior_wrapper took 0.015620 seconds\n",
      "hyperopt.tpe INFO  TPE using 535/535 trials with best loss 0.920134\n",
      "py4j.clientserver INFO  Closing down clientserver connection\n"
     ]
    },
    {
     "name": "stdout",
     "output_type": "stream",
     "text": [
      " 52%|█████▏    | 518/1000 [3:14:59<37:29,  4.67s/trial, best loss: 0.9201335479845877]"
     ]
    },
    {
     "name": "stderr",
     "output_type": "stream",
     "text": [
      "py4j.clientserver INFO  Closing down clientserver connection\n"
     ]
    },
    {
     "name": "stdout",
     "output_type": "stream",
     "text": [
      " 52%|█████▏    | 519/1000 [3:15:00<28:35,  3.57s/trial, best loss: 0.9201335479845877]"
     ]
    },
    {
     "name": "stderr",
     "output_type": "stream",
     "text": [
      "hyperopt.tpe INFO  build_posterior_wrapper took 0.109375 seconds\n",
      "hyperopt.tpe INFO  TPE using 536/536 trials with best loss 0.920134\n",
      "hyperopt.tpe INFO  build_posterior_wrapper took 0.000000 seconds\n",
      "hyperopt.tpe INFO  TPE using 537/537 trials with best loss 0.920134\n",
      "py4j.clientserver INFO  Closing down clientserver connection\n"
     ]
    },
    {
     "name": "stdout",
     "output_type": "stream",
     "text": [
      " 52%|█████▏    | 520/1000 [3:15:03<27:31,  3.44s/trial, best loss: 0.9201335479845877]"
     ]
    },
    {
     "name": "stderr",
     "output_type": "stream",
     "text": [
      "hyperopt.tpe INFO  build_posterior_wrapper took 0.015635 seconds\n",
      "hyperopt.tpe INFO  TPE using 538/538 trials with best loss 0.920134\n",
      "py4j.clientserver INFO  Closing down clientserver connection\n"
     ]
    },
    {
     "name": "stdout",
     "output_type": "stream",
     "text": [
      " 52%|█████▏    | 521/1000 [3:15:12<41:04,  5.15s/trial, best loss: 0.9201335479845877]"
     ]
    },
    {
     "name": "stderr",
     "output_type": "stream",
     "text": [
      "hyperopt.tpe INFO  build_posterior_wrapper took 0.015626 seconds\n",
      "hyperopt.tpe INFO  TPE using 539/539 trials with best loss 0.920134\n",
      "py4j.clientserver INFO  Closing down clientserver connection\n"
     ]
    },
    {
     "name": "stdout",
     "output_type": "stream",
     "text": [
      " 52%|█████▏    | 522/1000 [3:15:42<1:40:50, 12.66s/trial, best loss: 0.9201335479845877]"
     ]
    },
    {
     "name": "stderr",
     "output_type": "stream",
     "text": [
      "hyperopt.tpe INFO  build_posterior_wrapper took 0.015635 seconds\n",
      "hyperopt.tpe INFO  TPE using 540/540 trials with best loss 0.920134\n",
      "py4j.clientserver INFO  Closing down clientserver connection\n"
     ]
    },
    {
     "name": "stdout",
     "output_type": "stream",
     "text": [
      " 52%|█████▏    | 523/1000 [3:20:40<13:01:33, 98.31s/trial, best loss: 0.9201335479845877]"
     ]
    },
    {
     "name": "stderr",
     "output_type": "stream",
     "text": [
      "hyperopt.tpe INFO  build_posterior_wrapper took 0.015637 seconds\n",
      "hyperopt.tpe INFO  TPE using 541/541 trials with best loss 0.920134\n",
      "py4j.clientserver INFO  Closing down clientserver connection\n"
     ]
    },
    {
     "name": "stdout",
     "output_type": "stream",
     "text": [
      " 52%|█████▏    | 524/1000 [3:20:43<9:13:13, 69.73s/trial, best loss: 0.9201335479845877] "
     ]
    },
    {
     "name": "stderr",
     "output_type": "stream",
     "text": [
      "hyperopt.tpe INFO  build_posterior_wrapper took 0.015616 seconds\n",
      "hyperopt.tpe INFO  TPE using 542/542 trials with best loss 0.920134\n",
      "py4j.clientserver INFO  Closing down clientserver connection\n"
     ]
    },
    {
     "name": "stdout",
     "output_type": "stream",
     "text": [
      " 52%|█████▎    | 525/1000 [3:20:52<6:48:06, 51.55s/trial, best loss: 0.9201335479845877]"
     ]
    },
    {
     "name": "stderr",
     "output_type": "stream",
     "text": [
      "hyperopt.tpe INFO  build_posterior_wrapper took 0.024000 seconds\n",
      "hyperopt.tpe INFO  TPE using 543/543 trials with best loss 0.920134\n",
      "py4j.clientserver INFO  Closing down clientserver connection\n"
     ]
    },
    {
     "name": "stdout",
     "output_type": "stream",
     "text": [
      " 53%|█████▎    | 526/1000 [3:20:59<4:59:30, 37.91s/trial, best loss: 0.9201335479845877]"
     ]
    },
    {
     "name": "stderr",
     "output_type": "stream",
     "text": [
      "hyperopt.tpe INFO  build_posterior_wrapper took 0.126688 seconds\n",
      "hyperopt.tpe INFO  TPE using 544/544 trials with best loss 0.920134\n",
      "py4j.clientserver INFO  Closing down clientserver connection\n"
     ]
    },
    {
     "name": "stdout",
     "output_type": "stream",
     "text": [
      " 53%|█████▎    | 527/1000 [3:21:04<3:41:27, 28.09s/trial, best loss: 0.9201335479845877]"
     ]
    },
    {
     "name": "stderr",
     "output_type": "stream",
     "text": [
      "hyperopt.tpe INFO  build_posterior_wrapper took 0.015619 seconds\n",
      "hyperopt.tpe INFO  TPE using 545/545 trials with best loss 0.920134\n",
      "py4j.clientserver INFO  Closing down clientserver connection\n"
     ]
    },
    {
     "name": "stdout",
     "output_type": "stream",
     "text": [
      " 53%|█████▎    | 528/1000 [3:21:09<2:46:42, 21.19s/trial, best loss: 0.9201335479845877]"
     ]
    },
    {
     "name": "stderr",
     "output_type": "stream",
     "text": [
      "hyperopt.tpe INFO  build_posterior_wrapper took 0.015636 seconds\n",
      "hyperopt.tpe INFO  TPE using 546/546 trials with best loss 0.920134\n",
      "py4j.clientserver INFO  Closing down clientserver connection\n"
     ]
    },
    {
     "name": "stdout",
     "output_type": "stream",
     "text": [
      " 53%|█████▎    | 529/1000 [3:21:15<2:10:46, 16.66s/trial, best loss: 0.9201335479845877]"
     ]
    },
    {
     "name": "stderr",
     "output_type": "stream",
     "text": [
      "hyperopt.tpe INFO  build_posterior_wrapper took 0.015001 seconds\n",
      "hyperopt.tpe INFO  TPE using 547/547 trials with best loss 0.920134\n",
      "py4j.clientserver INFO  Closing down clientserver connection\n"
     ]
    },
    {
     "name": "stdout",
     "output_type": "stream",
     "text": [
      " 53%|█████▎    | 530/1000 [3:21:19<1:40:53, 12.88s/trial, best loss: 0.9201335479845877]"
     ]
    },
    {
     "name": "stderr",
     "output_type": "stream",
     "text": [
      "py4j.clientserver INFO  Closing down clientserver connection\n"
     ]
    },
    {
     "name": "stdout",
     "output_type": "stream",
     "text": [
      " 53%|█████▎    | 531/1000 [3:21:20<1:12:50,  9.32s/trial, best loss: 0.9201335479845877]"
     ]
    },
    {
     "name": "stderr",
     "output_type": "stream",
     "text": [
      "hyperopt.tpe INFO  build_posterior_wrapper took 0.022786 seconds\n",
      "hyperopt.tpe INFO  TPE using 548/548 trials with best loss 0.920134\n",
      "hyperopt.tpe INFO  build_posterior_wrapper took 0.000000 seconds\n",
      "hyperopt.tpe INFO  TPE using 549/549 trials with best loss 0.920134\n",
      "py4j.clientserver INFO  Closing down clientserver connection\n"
     ]
    },
    {
     "name": "stdout",
     "output_type": "stream",
     "text": [
      " 53%|█████▎    | 532/1000 [3:21:27<1:07:29,  8.65s/trial, best loss: 0.9201335479845877]"
     ]
    },
    {
     "name": "stderr",
     "output_type": "stream",
     "text": [
      "py4j.clientserver INFO  Closing down clientserver connection\n"
     ]
    },
    {
     "name": "stdout",
     "output_type": "stream",
     "text": [
      " 53%|█████▎    | 533/1000 [3:21:28<49:29,  6.36s/trial, best loss: 0.9201335479845877]  "
     ]
    },
    {
     "name": "stderr",
     "output_type": "stream",
     "text": [
      "hyperopt.tpe INFO  build_posterior_wrapper took 0.106546 seconds\n",
      "hyperopt.tpe INFO  TPE using 550/550 trials with best loss 0.920134\n",
      "hyperopt.tpe INFO  build_posterior_wrapper took 0.015626 seconds\n",
      "hyperopt.tpe INFO  TPE using 551/551 trials with best loss 0.920134\n",
      "py4j.clientserver INFO  Closing down clientserver connection\n"
     ]
    },
    {
     "name": "stdout",
     "output_type": "stream",
     "text": [
      " 53%|█████▎    | 534/1000 [3:21:30<39:37,  5.10s/trial, best loss: 0.9201335479845877]"
     ]
    },
    {
     "name": "stderr",
     "output_type": "stream",
     "text": [
      "hyperopt.tpe INFO  build_posterior_wrapper took 0.018477 seconds\n",
      "hyperopt.tpe INFO  TPE using 552/552 trials with best loss 0.920134\n",
      "py4j.clientserver INFO  Closing down clientserver connection\n"
     ]
    },
    {
     "name": "stdout",
     "output_type": "stream",
     "text": [
      " 54%|█████▎    | 535/1000 [3:21:34<37:12,  4.80s/trial, best loss: 0.9201335479845877]"
     ]
    },
    {
     "name": "stderr",
     "output_type": "stream",
     "text": [
      "hyperopt.tpe INFO  build_posterior_wrapper took 0.004076 seconds\n",
      "hyperopt.tpe INFO  TPE using 553/553 trials with best loss 0.920134\n",
      "py4j.clientserver INFO  Closing down clientserver connection\n"
     ]
    },
    {
     "name": "stdout",
     "output_type": "stream",
     "text": [
      " 54%|█████▎    | 536/1000 [3:21:38<35:21,  4.57s/trial, best loss: 0.9201335479845877]"
     ]
    },
    {
     "name": "stderr",
     "output_type": "stream",
     "text": [
      "hyperopt.tpe INFO  build_posterior_wrapper took 0.015625 seconds\n",
      "hyperopt.tpe INFO  TPE using 554/554 trials with best loss 0.920134\n",
      "py4j.clientserver INFO  Closing down clientserver connection\n"
     ]
    },
    {
     "name": "stdout",
     "output_type": "stream",
     "text": [
      " 54%|█████▎    | 537/1000 [3:21:44<38:46,  5.02s/trial, best loss: 0.9201335479845877]"
     ]
    },
    {
     "name": "stderr",
     "output_type": "stream",
     "text": [
      "hyperopt.tpe INFO  build_posterior_wrapper took 0.015630 seconds\n",
      "hyperopt.tpe INFO  TPE using 555/555 trials with best loss 0.920134\n",
      "py4j.clientserver INFO  Closing down clientserver connection\n"
     ]
    },
    {
     "name": "stdout",
     "output_type": "stream",
     "text": [
      " 54%|█████▍    | 538/1000 [3:21:46<29:28,  3.83s/trial, best loss: 0.9201335479845877]"
     ]
    },
    {
     "name": "stderr",
     "output_type": "stream",
     "text": [
      "hyperopt.tpe INFO  build_posterior_wrapper took 0.015625 seconds\n",
      "hyperopt.tpe INFO  TPE using 556/556 trials with best loss 0.920134\n",
      "py4j.clientserver INFO  Closing down clientserver connection\n"
     ]
    },
    {
     "name": "stdout",
     "output_type": "stream",
     "text": [
      " 54%|█████▍    | 539/1000 [3:21:51<32:15,  4.20s/trial, best loss: 0.9201335479845877]"
     ]
    },
    {
     "name": "stderr",
     "output_type": "stream",
     "text": [
      "hyperopt.tpe INFO  build_posterior_wrapper took 0.116670 seconds\n",
      "hyperopt.tpe INFO  TPE using 557/557 trials with best loss 0.920134\n",
      "py4j.clientserver INFO  Closing down clientserver connection\n"
     ]
    },
    {
     "name": "stdout",
     "output_type": "stream",
     "text": [
      " 54%|█████▍    | 540/1000 [3:22:16<1:20:41, 10.53s/trial, best loss: 0.9201335479845877]"
     ]
    },
    {
     "name": "stderr",
     "output_type": "stream",
     "text": [
      "hyperopt.tpe INFO  build_posterior_wrapper took 0.015620 seconds\n",
      "hyperopt.tpe INFO  TPE using 558/558 trials with best loss 0.920134\n",
      "py4j.clientserver INFO  Closing down clientserver connection\n"
     ]
    },
    {
     "name": "stdout",
     "output_type": "stream",
     "text": [
      " 54%|█████▍    | 541/1000 [3:27:23<12:40:06, 99.36s/trial, best loss: 0.9201335479845877]"
     ]
    },
    {
     "name": "stderr",
     "output_type": "stream",
     "text": [
      "hyperopt.tpe INFO  build_posterior_wrapper took 0.027366 seconds\n",
      "hyperopt.tpe INFO  TPE using 559/559 trials with best loss 0.920134\n",
      "py4j.clientserver INFO  Closing down clientserver connection\n"
     ]
    },
    {
     "name": "stdout",
     "output_type": "stream",
     "text": [
      " 54%|█████▍    | 542/1000 [3:27:25<8:55:38, 70.17s/trial, best loss: 0.9201335479845877] "
     ]
    },
    {
     "name": "stderr",
     "output_type": "stream",
     "text": [
      "hyperopt.tpe INFO  build_posterior_wrapper took 0.022999 seconds\n",
      "hyperopt.tpe INFO  TPE using 560/560 trials with best loss 0.920134\n",
      "py4j.clientserver INFO  Closing down clientserver connection\n"
     ]
    },
    {
     "name": "stdout",
     "output_type": "stream",
     "text": [
      " 54%|█████▍    | 543/1000 [3:27:37<6:41:48, 52.75s/trial, best loss: 0.9201335479845877]"
     ]
    },
    {
     "name": "stderr",
     "output_type": "stream",
     "text": [
      "hyperopt.tpe INFO  build_posterior_wrapper took 0.023998 seconds\n",
      "hyperopt.tpe INFO  TPE using 561/561 trials with best loss 0.920134\n",
      "py4j.clientserver INFO  Closing down clientserver connection\n"
     ]
    },
    {
     "name": "stdout",
     "output_type": "stream",
     "text": [
      " 54%|█████▍    | 544/1000 [3:27:42<4:52:15, 38.45s/trial, best loss: 0.9201335479845877]"
     ]
    },
    {
     "name": "stderr",
     "output_type": "stream",
     "text": [
      "hyperopt.tpe INFO  build_posterior_wrapper took 0.023999 seconds\n",
      "hyperopt.tpe INFO  TPE using 562/562 trials with best loss 0.920134\n",
      "py4j.clientserver INFO  Closing down clientserver connection\n"
     ]
    },
    {
     "name": "stdout",
     "output_type": "stream",
     "text": [
      " 55%|█████▍    | 545/1000 [3:27:49<3:40:14, 29.04s/trial, best loss: 0.9201335479845877]"
     ]
    },
    {
     "name": "stderr",
     "output_type": "stream",
     "text": [
      "hyperopt.tpe INFO  build_posterior_wrapper took 0.013998 seconds\n",
      "hyperopt.tpe INFO  TPE using 563/563 trials with best loss 0.920134\n",
      "py4j.clientserver INFO  Closing down clientserver connection\n"
     ]
    },
    {
     "name": "stdout",
     "output_type": "stream",
     "text": [
      " 55%|█████▍    | 546/1000 [3:27:52<2:40:45, 21.25s/trial, best loss: 0.9201335479845877]"
     ]
    },
    {
     "name": "stderr",
     "output_type": "stream",
     "text": [
      "hyperopt.tpe INFO  build_posterior_wrapper took 0.021998 seconds\n",
      "hyperopt.tpe INFO  TPE using 564/564 trials with best loss 0.920134\n",
      "py4j.clientserver INFO  Closing down clientserver connection\n"
     ]
    },
    {
     "name": "stdout",
     "output_type": "stream",
     "text": [
      " 55%|█████▍    | 547/1000 [3:27:55<1:59:11, 15.79s/trial, best loss: 0.9201335479845877]"
     ]
    },
    {
     "name": "stderr",
     "output_type": "stream",
     "text": [
      "hyperopt.tpe INFO  build_posterior_wrapper took 0.124522 seconds\n",
      "hyperopt.tpe INFO  TPE using 565/565 trials with best loss 0.920134\n",
      "py4j.clientserver INFO  Closing down clientserver connection\n"
     ]
    },
    {
     "name": "stdout",
     "output_type": "stream",
     "text": [
      " 55%|█████▍    | 548/1000 [3:28:02<1:39:28, 13.20s/trial, best loss: 0.9201335479845877]"
     ]
    },
    {
     "name": "stderr",
     "output_type": "stream",
     "text": [
      "hyperopt.tpe INFO  build_posterior_wrapper took 0.002630 seconds\n",
      "hyperopt.tpe INFO  TPE using 566/566 trials with best loss 0.920134\n",
      "py4j.clientserver INFO  Closing down clientserver connection\n"
     ]
    },
    {
     "name": "stdout",
     "output_type": "stream",
     "text": [
      " 55%|█████▍    | 549/1000 [3:28:05<1:16:21, 10.16s/trial, best loss: 0.9201335479845877]"
     ]
    },
    {
     "name": "stderr",
     "output_type": "stream",
     "text": [
      "hyperopt.tpe INFO  build_posterior_wrapper took 0.015625 seconds\n",
      "hyperopt.tpe INFO  TPE using 567/567 trials with best loss 0.920134\n",
      "py4j.clientserver INFO  Closing down clientserver connection\n"
     ]
    },
    {
     "name": "stdout",
     "output_type": "stream",
     "text": [
      " 55%|█████▌    | 550/1000 [3:28:08<1:00:10,  8.02s/trial, best loss: 0.9201335479845877]"
     ]
    },
    {
     "name": "stderr",
     "output_type": "stream",
     "text": [
      "hyperopt.tpe INFO  build_posterior_wrapper took 0.014191 seconds\n",
      "hyperopt.tpe INFO  TPE using 568/568 trials with best loss 0.920134\n",
      "py4j.clientserver INFO  Closing down clientserver connection\n"
     ]
    },
    {
     "name": "stdout",
     "output_type": "stream",
     "text": [
      " 55%|█████▌    | 551/1000 [3:28:12<51:07,  6.83s/trial, best loss: 0.9201335479845877]  "
     ]
    },
    {
     "name": "stderr",
     "output_type": "stream",
     "text": [
      "hyperopt.tpe INFO  build_posterior_wrapper took 0.017813 seconds\n",
      "hyperopt.tpe INFO  TPE using 569/569 trials with best loss 0.920134\n",
      "py4j.clientserver INFO  Closing down clientserver connection\n"
     ]
    },
    {
     "name": "stdout",
     "output_type": "stream",
     "text": [
      " 55%|█████▌    | 552/1000 [3:28:15<42:32,  5.70s/trial, best loss: 0.9201335479845877]"
     ]
    },
    {
     "name": "stderr",
     "output_type": "stream",
     "text": [
      "hyperopt.tpe INFO  build_posterior_wrapper took 0.019002 seconds\n",
      "hyperopt.tpe INFO  TPE using 570/570 trials with best loss 0.920134\n",
      "py4j.clientserver INFO  Closing down clientserver connection\n"
     ]
    },
    {
     "name": "stdout",
     "output_type": "stream",
     "text": [
      " 55%|█████▌    | 553/1000 [3:28:20<41:01,  5.51s/trial, best loss: 0.9201335479845877]"
     ]
    },
    {
     "name": "stderr",
     "output_type": "stream",
     "text": [
      "py4j.clientserver INFO  Closing down clientserver connection\n"
     ]
    },
    {
     "name": "stdout",
     "output_type": "stream",
     "text": [
      " 55%|█████▌    | 554/1000 [3:28:21<30:55,  4.16s/trial, best loss: 0.9201335479845877]"
     ]
    },
    {
     "name": "stderr",
     "output_type": "stream",
     "text": [
      "hyperopt.tpe INFO  build_posterior_wrapper took 0.015624 seconds\n",
      "hyperopt.tpe INFO  TPE using 571/571 trials with best loss 0.920134\n",
      "hyperopt.tpe INFO  build_posterior_wrapper took 0.093755 seconds\n",
      "hyperopt.tpe INFO  TPE using 572/572 trials with best loss 0.920134\n",
      "py4j.clientserver INFO  Closing down clientserver connection\n",
      "py4j.clientserver INFO  Closing down clientserver connection\n"
     ]
    },
    {
     "name": "stdout",
     "output_type": "stream",
     "text": [
      " 56%|█████▌    | 556/1000 [3:28:28<27:07,  3.67s/trial, best loss: 0.9201335479845877]"
     ]
    },
    {
     "name": "stderr",
     "output_type": "stream",
     "text": [
      "hyperopt.tpe INFO  build_posterior_wrapper took 0.015618 seconds\n",
      "hyperopt.tpe INFO  TPE using 573/573 trials with best loss 0.920134\n",
      "py4j.clientserver INFO  Closing down clientserver connection\n"
     ]
    },
    {
     "name": "stdout",
     "output_type": "stream",
     "text": [
      " 56%|█████▌    | 557/1000 [3:28:30<24:05,  3.26s/trial, best loss: 0.9201335479845877]"
     ]
    },
    {
     "name": "stderr",
     "output_type": "stream",
     "text": [
      "hyperopt.tpe INFO  build_posterior_wrapper took 0.015621 seconds\n",
      "hyperopt.tpe INFO  TPE using 574/574 trials with best loss 0.920134\n",
      "hyperopt.tpe INFO  build_posterior_wrapper took 0.015641 seconds\n",
      "hyperopt.tpe INFO  TPE using 575/575 trials with best loss 0.920134\n",
      "py4j.clientserver INFO  Closing down clientserver connection\n"
     ]
    },
    {
     "name": "stdout",
     "output_type": "stream",
     "text": [
      " 56%|█████▌    | 558/1000 [3:28:57<1:10:08,  9.52s/trial, best loss: 0.9201335479845877]"
     ]
    },
    {
     "name": "stderr",
     "output_type": "stream",
     "text": [
      "hyperopt.tpe INFO  build_posterior_wrapper took 0.015637 seconds\n",
      "hyperopt.tpe INFO  TPE using 576/576 trials with best loss 0.920134\n",
      "py4j.clientserver INFO  Closing down clientserver connection\n"
     ]
    },
    {
     "name": "stdout",
     "output_type": "stream",
     "text": [
      " 56%|█████▌    | 559/1000 [3:34:08<11:13:34, 91.64s/trial, best loss: 0.9201335479845877]"
     ]
    },
    {
     "name": "stderr",
     "output_type": "stream",
     "text": [
      "hyperopt.tpe INFO  build_posterior_wrapper took 0.019117 seconds\n",
      "hyperopt.tpe INFO  TPE using 577/577 trials with best loss 0.920134\n",
      "py4j.clientserver INFO  Closing down clientserver connection\n"
     ]
    },
    {
     "name": "stdout",
     "output_type": "stream",
     "text": [
      " 56%|█████▌    | 560/1000 [3:34:10<8:08:10, 66.57s/trial, best loss: 0.9201335479845877] "
     ]
    },
    {
     "name": "stderr",
     "output_type": "stream",
     "text": [
      "hyperopt.tpe INFO  build_posterior_wrapper took 0.015663 seconds\n",
      "hyperopt.tpe INFO  TPE using 578/578 trials with best loss 0.920134\n",
      "py4j.clientserver INFO  Closing down clientserver connection\n"
     ]
    },
    {
     "name": "stdout",
     "output_type": "stream",
     "text": [
      " 56%|█████▌    | 561/1000 [3:34:21<6:11:10, 50.73s/trial, best loss: 0.9201335479845877]"
     ]
    },
    {
     "name": "stderr",
     "output_type": "stream",
     "text": [
      "hyperopt.tpe INFO  build_posterior_wrapper took 0.015642 seconds\n",
      "hyperopt.tpe INFO  TPE using 579/579 trials with best loss 0.920134\n",
      "py4j.clientserver INFO  Closing down clientserver connection\n"
     ]
    },
    {
     "name": "stdout",
     "output_type": "stream",
     "text": [
      " 56%|█████▌    | 562/1000 [3:34:29<4:38:04, 38.09s/trial, best loss: 0.9201335479845877]"
     ]
    },
    {
     "name": "stderr",
     "output_type": "stream",
     "text": [
      "hyperopt.tpe INFO  build_posterior_wrapper took 0.109391 seconds\n",
      "hyperopt.tpe INFO  TPE using 580/580 trials with best loss 0.920134\n",
      "py4j.clientserver INFO  Closing down clientserver connection\n",
      "py4j.clientserver INFO  Closing down clientserver connection\n"
     ]
    },
    {
     "name": "stdout",
     "output_type": "stream",
     "text": [
      " 56%|█████▋    | 564/1000 [3:34:41<2:51:29, 23.60s/trial, best loss: 0.9201335479845877]"
     ]
    },
    {
     "name": "stderr",
     "output_type": "stream",
     "text": [
      "hyperopt.tpe INFO  build_posterior_wrapper took 0.005020 seconds\n",
      "hyperopt.tpe INFO  TPE using 581/581 trials with best loss 0.920134\n",
      "hyperopt.tpe INFO  build_posterior_wrapper took 0.015633 seconds\n",
      "hyperopt.tpe INFO  TPE using 582/582 trials with best loss 0.920134\n",
      "py4j.clientserver INFO  Closing down clientserver connection\n"
     ]
    },
    {
     "name": "stdout",
     "output_type": "stream",
     "text": [
      " 56%|█████▋    | 565/1000 [3:34:43<2:12:58, 18.34s/trial, best loss: 0.9201335479845877]"
     ]
    },
    {
     "name": "stderr",
     "output_type": "stream",
     "text": [
      "hyperopt.tpe INFO  build_posterior_wrapper took 0.015625 seconds\n",
      "hyperopt.tpe INFO  TPE using 583/583 trials with best loss 0.920134\n",
      "py4j.clientserver INFO  Closing down clientserver connection\n"
     ]
    },
    {
     "name": "stdout",
     "output_type": "stream",
     "text": [
      " 57%|█████▋    | 566/1000 [3:34:47<1:45:55, 14.64s/trial, best loss: 0.9201335479845877]"
     ]
    },
    {
     "name": "stderr",
     "output_type": "stream",
     "text": [
      "hyperopt.tpe INFO  build_posterior_wrapper took 0.015629 seconds\n",
      "hyperopt.tpe INFO  TPE using 584/584 trials with best loss 0.920134\n",
      "py4j.clientserver INFO  Closing down clientserver connection\n"
     ]
    },
    {
     "name": "stdout",
     "output_type": "stream",
     "text": [
      " 57%|█████▋    | 567/1000 [3:34:49<1:21:08, 11.24s/trial, best loss: 0.9201335479845877]"
     ]
    },
    {
     "name": "stderr",
     "output_type": "stream",
     "text": [
      "hyperopt.tpe INFO  build_posterior_wrapper took 0.015628 seconds\n",
      "hyperopt.tpe INFO  TPE using 585/585 trials with best loss 0.920134\n",
      "py4j.clientserver INFO  Closing down clientserver connection\n"
     ]
    },
    {
     "name": "stdout",
     "output_type": "stream",
     "text": [
      " 57%|█████▋    | 568/1000 [3:34:55<1:10:38,  9.81s/trial, best loss: 0.9201335479845877]"
     ]
    },
    {
     "name": "stderr",
     "output_type": "stream",
     "text": [
      "hyperopt.tpe INFO  build_posterior_wrapper took 0.124999 seconds\n",
      "hyperopt.tpe INFO  TPE using 586/586 trials with best loss 0.920134\n",
      "py4j.clientserver INFO  Closing down clientserver connection\n"
     ]
    },
    {
     "name": "stdout",
     "output_type": "stream",
     "text": [
      " 57%|█████▋    | 569/1000 [3:34:58<56:52,  7.92s/trial, best loss: 0.9201335479845877]  "
     ]
    },
    {
     "name": "stderr",
     "output_type": "stream",
     "text": [
      "hyperopt.tpe INFO  build_posterior_wrapper took 0.015630 seconds\n",
      "hyperopt.tpe INFO  TPE using 587/587 trials with best loss 0.920134\n",
      "py4j.clientserver INFO  Closing down clientserver connection\n"
     ]
    },
    {
     "name": "stdout",
     "output_type": "stream",
     "text": [
      " 57%|█████▋    | 570/1000 [3:35:03<50:53,  7.10s/trial, best loss: 0.9201335479845877]"
     ]
    },
    {
     "name": "stderr",
     "output_type": "stream",
     "text": [
      "py4j.clientserver INFO  Closing down clientserver connection\n"
     ]
    },
    {
     "name": "stdout",
     "output_type": "stream",
     "text": [
      " 57%|█████▋    | 571/1000 [3:35:04<38:01,  5.32s/trial, best loss: 0.9201335479845877]"
     ]
    },
    {
     "name": "stderr",
     "output_type": "stream",
     "text": [
      "hyperopt.tpe INFO  build_posterior_wrapper took 0.015625 seconds\n",
      "hyperopt.tpe INFO  TPE using 588/588 trials with best loss 0.920134\n",
      "hyperopt.tpe INFO  build_posterior_wrapper took 0.015624 seconds\n",
      "hyperopt.tpe INFO  TPE using 589/589 trials with best loss 0.920134\n",
      "py4j.clientserver INFO  Closing down clientserver connection\n"
     ]
    },
    {
     "name": "stdout",
     "output_type": "stream",
     "text": [
      " 57%|█████▋    | 572/1000 [3:35:09<37:28,  5.25s/trial, best loss: 0.9201335479845877]"
     ]
    },
    {
     "name": "stderr",
     "output_type": "stream",
     "text": [
      "hyperopt.tpe INFO  build_posterior_wrapper took 0.015617 seconds\n",
      "hyperopt.tpe INFO  TPE using 590/590 trials with best loss 0.920134\n",
      "py4j.clientserver INFO  Closing down clientserver connection\n"
     ]
    },
    {
     "name": "stdout",
     "output_type": "stream",
     "text": [
      " 57%|█████▋    | 573/1000 [3:35:12<32:45,  4.60s/trial, best loss: 0.9201335479845877]"
     ]
    },
    {
     "name": "stderr",
     "output_type": "stream",
     "text": [
      "py4j.clientserver INFO  Closing down clientserver connection\n",
      "py4j.clientserver INFO  Closing down clientserver connection\n"
     ]
    },
    {
     "name": "stdout",
     "output_type": "stream",
     "text": [
      " 57%|█████▊    | 575/1000 [3:35:13<19:17,  2.72s/trial, best loss: 0.9201335479845877]"
     ]
    },
    {
     "name": "stderr",
     "output_type": "stream",
     "text": [
      "hyperopt.tpe INFO  build_posterior_wrapper took 0.015627 seconds\n",
      "hyperopt.tpe INFO  TPE using 591/591 trials with best loss 0.920134\n",
      "hyperopt.tpe INFO  build_posterior_wrapper took 0.000000 seconds\n",
      "hyperopt.tpe INFO  TPE using 592/592 trials with best loss 0.920134\n",
      "hyperopt.tpe INFO  build_posterior_wrapper took 0.109377 seconds\n",
      "hyperopt.tpe INFO  TPE using 593/593 trials with best loss 0.920134\n",
      "py4j.clientserver INFO  Closing down clientserver connection\n"
     ]
    },
    {
     "name": "stdout",
     "output_type": "stream",
     "text": [
      " 58%|█████▊    | 576/1000 [3:35:37<55:02,  7.79s/trial, best loss: 0.9201335479845877]"
     ]
    },
    {
     "name": "stderr",
     "output_type": "stream",
     "text": [
      "hyperopt.tpe INFO  build_posterior_wrapper took 0.015641 seconds\n",
      "hyperopt.tpe INFO  TPE using 594/594 trials with best loss 0.920134\n",
      "py4j.clientserver INFO  Closing down clientserver connection\n"
     ]
    },
    {
     "name": "stdout",
     "output_type": "stream",
     "text": [
      " 58%|█████▊    | 577/1000 [3:40:56<10:27:31, 89.01s/trial, best loss: 0.9201335479845877]"
     ]
    },
    {
     "name": "stderr",
     "output_type": "stream",
     "text": [
      "hyperopt.tpe INFO  build_posterior_wrapper took 0.016091 seconds\n",
      "hyperopt.tpe INFO  TPE using 595/595 trials with best loss 0.920134\n",
      "py4j.clientserver INFO  Closing down clientserver connection\n"
     ]
    },
    {
     "name": "stdout",
     "output_type": "stream",
     "text": [
      " 58%|█████▊    | 578/1000 [3:40:57<7:38:14, 65.15s/trial, best loss: 0.9201335479845877] "
     ]
    },
    {
     "name": "stderr",
     "output_type": "stream",
     "text": [
      "hyperopt.tpe INFO  build_posterior_wrapper took 0.015641 seconds\n",
      "hyperopt.tpe INFO  TPE using 596/596 trials with best loss 0.920134\n",
      "py4j.clientserver INFO  Closing down clientserver connection\n"
     ]
    },
    {
     "name": "stdout",
     "output_type": "stream",
     "text": [
      " 58%|█████▊    | 579/1000 [3:41:04<5:43:22, 48.94s/trial, best loss: 0.9201335479845877]"
     ]
    },
    {
     "name": "stderr",
     "output_type": "stream",
     "text": [
      "hyperopt.tpe INFO  build_posterior_wrapper took 0.016390 seconds\n",
      "hyperopt.tpe INFO  TPE using 597/597 trials with best loss 0.920134\n",
      "py4j.clientserver INFO  Closing down clientserver connection\n"
     ]
    },
    {
     "name": "stdout",
     "output_type": "stream",
     "text": [
      " 58%|█████▊    | 580/1000 [3:41:12<4:21:00, 37.29s/trial, best loss: 0.9201335479845877]"
     ]
    },
    {
     "name": "stderr",
     "output_type": "stream",
     "text": [
      "hyperopt.tpe INFO  build_posterior_wrapper took 0.015626 seconds\n",
      "hyperopt.tpe INFO  TPE using 598/598 trials with best loss 0.920134\n",
      "py4j.clientserver INFO  Closing down clientserver connection\n"
     ]
    },
    {
     "name": "stdout",
     "output_type": "stream",
     "text": [
      " 58%|█████▊    | 581/1000 [3:41:25<3:29:31, 30.00s/trial, best loss: 0.9201335479845877]"
     ]
    },
    {
     "name": "stderr",
     "output_type": "stream",
     "text": [
      "hyperopt.tpe INFO  build_posterior_wrapper took 0.015626 seconds\n",
      "hyperopt.tpe INFO  TPE using 599/599 trials with best loss 0.920134\n",
      "py4j.clientserver INFO  Closing down clientserver connection\n"
     ]
    },
    {
     "name": "stdout",
     "output_type": "stream",
     "text": [
      " 58%|█████▊    | 582/1000 [3:41:27<2:32:00, 21.82s/trial, best loss: 0.9201335479845877]"
     ]
    },
    {
     "name": "stderr",
     "output_type": "stream",
     "text": [
      "hyperopt.tpe INFO  build_posterior_wrapper took 0.015618 seconds\n",
      "hyperopt.tpe INFO  TPE using 600/600 trials with best loss 0.920134\n",
      "py4j.clientserver INFO  Closing down clientserver connection\n",
      "py4j.clientserver INFO  Closing down clientserver connection\n"
     ]
    },
    {
     "name": "stdout",
     "output_type": "stream",
     "text": [
      " 58%|█████▊    | 584/1000 [3:41:30<1:27:13, 12.58s/trial, best loss: 0.9201335479845877]"
     ]
    },
    {
     "name": "stderr",
     "output_type": "stream",
     "text": [
      "hyperopt.tpe INFO  build_posterior_wrapper took 0.125020 seconds\n",
      "hyperopt.tpe INFO  TPE using 601/601 trials with best loss 0.920134\n",
      "hyperopt.tpe INFO  build_posterior_wrapper took 0.015627 seconds\n",
      "hyperopt.tpe INFO  TPE using 602/602 trials with best loss 0.920134\n",
      "py4j.clientserver INFO  Closing down clientserver connection\n"
     ]
    },
    {
     "name": "stdout",
     "output_type": "stream",
     "text": [
      " 58%|█████▊    | 585/1000 [3:41:35<1:14:29, 10.77s/trial, best loss: 0.9201335479845877]"
     ]
    },
    {
     "name": "stderr",
     "output_type": "stream",
     "text": [
      "hyperopt.tpe INFO  build_posterior_wrapper took 0.015617 seconds\n",
      "hyperopt.tpe INFO  TPE using 603/603 trials with best loss 0.920134\n",
      "py4j.clientserver INFO  Closing down clientserver connection\n"
     ]
    },
    {
     "name": "stdout",
     "output_type": "stream",
     "text": [
      " 59%|█████▊    | 586/1000 [3:41:40<1:04:03,  9.28s/trial, best loss: 0.9201335479845877]"
     ]
    },
    {
     "name": "stderr",
     "output_type": "stream",
     "text": [
      "hyperopt.tpe INFO  build_posterior_wrapper took 0.015626 seconds\n",
      "hyperopt.tpe INFO  TPE using 604/604 trials with best loss 0.920134\n",
      "py4j.clientserver INFO  Closing down clientserver connection\n",
      "py4j.clientserver INFO  Closing down clientserver connection\n"
     ]
    },
    {
     "name": "stdout",
     "output_type": "stream",
     "text": [
      " 59%|█████▉    | 588/1000 [3:41:42<39:35,  5.77s/trial, best loss: 0.9201335479845877]  "
     ]
    },
    {
     "name": "stderr",
     "output_type": "stream",
     "text": [
      "hyperopt.tpe INFO  build_posterior_wrapper took 0.015635 seconds\n",
      "hyperopt.tpe INFO  TPE using 605/605 trials with best loss 0.920134\n",
      "hyperopt.tpe INFO  build_posterior_wrapper took 0.015610 seconds\n",
      "hyperopt.tpe INFO  TPE using 606/606 trials with best loss 0.920134\n",
      "py4j.clientserver INFO  Closing down clientserver connection\n"
     ]
    },
    {
     "name": "stdout",
     "output_type": "stream",
     "text": [
      " 59%|█████▉    | 589/1000 [3:41:47<38:24,  5.61s/trial, best loss: 0.9201335479845877]"
     ]
    },
    {
     "name": "stderr",
     "output_type": "stream",
     "text": [
      "hyperopt.tpe INFO  build_posterior_wrapper took 0.015640 seconds\n",
      "hyperopt.tpe INFO  TPE using 607/607 trials with best loss 0.920134\n",
      "py4j.clientserver INFO  Closing down clientserver connection\n"
     ]
    },
    {
     "name": "stdout",
     "output_type": "stream",
     "text": [
      " 59%|█████▉    | 590/1000 [3:41:52<37:23,  5.47s/trial, best loss: 0.9201335479845877]"
     ]
    },
    {
     "name": "stderr",
     "output_type": "stream",
     "text": [
      "hyperopt.tpe INFO  build_posterior_wrapper took 0.110205 seconds\n",
      "hyperopt.tpe INFO  TPE using 608/608 trials with best loss 0.920134\n",
      "py4j.clientserver INFO  Closing down clientserver connection\n"
     ]
    },
    {
     "name": "stdout",
     "output_type": "stream",
     "text": [
      " 59%|█████▉    | 591/1000 [3:41:55<33:07,  4.86s/trial, best loss: 0.9201335479845877]"
     ]
    },
    {
     "name": "stderr",
     "output_type": "stream",
     "text": [
      "hyperopt.tpe INFO  build_posterior_wrapper took 0.015625 seconds\n",
      "hyperopt.tpe INFO  TPE using 609/609 trials with best loss 0.920134\n",
      "py4j.clientserver INFO  Closing down clientserver connection\n"
     ]
    },
    {
     "name": "stdout",
     "output_type": "stream",
     "text": [
      " 59%|█████▉    | 592/1000 [3:41:58<29:42,  4.37s/trial, best loss: 0.9201335479845877]"
     ]
    },
    {
     "name": "stderr",
     "output_type": "stream",
     "text": [
      "hyperopt.tpe INFO  build_posterior_wrapper took 0.029152 seconds\n",
      "hyperopt.tpe INFO  TPE using 610/610 trials with best loss 0.920134\n",
      "py4j.clientserver INFO  Closing down clientserver connection\n"
     ]
    },
    {
     "name": "stdout",
     "output_type": "stream",
     "text": [
      " 59%|█████▉    | 593/1000 [3:41:59<23:18,  3.44s/trial, best loss: 0.9201335479845877]"
     ]
    },
    {
     "name": "stderr",
     "output_type": "stream",
     "text": [
      "hyperopt.tpe INFO  build_posterior_wrapper took 0.015636 seconds\n",
      "hyperopt.tpe INFO  TPE using 611/611 trials with best loss 0.920134\n",
      "py4j.clientserver INFO  Closing down clientserver connection\n"
     ]
    },
    {
     "name": "stdout",
     "output_type": "stream",
     "text": [
      " 59%|█████▉    | 594/1000 [3:42:23<1:01:33,  9.10s/trial, best loss: 0.9201335479845877]"
     ]
    },
    {
     "name": "stderr",
     "output_type": "stream",
     "text": [
      "hyperopt.tpe INFO  build_posterior_wrapper took 0.015626 seconds\n",
      "hyperopt.tpe INFO  TPE using 612/612 trials with best loss 0.920134\n",
      "py4j.clientserver INFO  Closing down clientserver connection\n",
      "py4j.clientserver INFO  Closing down clientserver connection\n"
     ]
    },
    {
     "name": "stdout",
     "output_type": "stream",
     "text": [
      " 60%|█████▉    | 596/1000 [3:47:39<8:32:56, 76.18s/trial, best loss: 0.9201335479845877]"
     ]
    },
    {
     "name": "stderr",
     "output_type": "stream",
     "text": [
      "hyperopt.tpe INFO  build_posterior_wrapper took 0.015618 seconds\n",
      "hyperopt.tpe INFO  TPE using 613/613 trials with best loss 0.920134\n",
      "hyperopt.tpe INFO  build_posterior_wrapper took 0.015622 seconds\n",
      "hyperopt.tpe INFO  TPE using 614/614 trials with best loss 0.920134\n",
      "py4j.clientserver INFO  Closing down clientserver connection\n"
     ]
    },
    {
     "name": "stdout",
     "output_type": "stream",
     "text": [
      " 60%|█████▉    | 597/1000 [3:47:45<6:37:10, 59.13s/trial, best loss: 0.9201335479845877]"
     ]
    },
    {
     "name": "stderr",
     "output_type": "stream",
     "text": [
      "hyperopt.tpe INFO  build_posterior_wrapper took 0.015625 seconds\n",
      "hyperopt.tpe INFO  TPE using 615/615 trials with best loss 0.920134\n",
      "py4j.clientserver INFO  Closing down clientserver connection\n"
     ]
    },
    {
     "name": "stdout",
     "output_type": "stream",
     "text": [
      " 60%|█████▉    | 598/1000 [3:48:01<5:21:58, 48.05s/trial, best loss: 0.9201335479845877]"
     ]
    },
    {
     "name": "stderr",
     "output_type": "stream",
     "text": [
      "hyperopt.tpe INFO  build_posterior_wrapper took 0.109376 seconds\n",
      "hyperopt.tpe INFO  TPE using 616/616 trials with best loss 0.920134\n",
      "py4j.clientserver INFO  Closing down clientserver connection\n"
     ]
    },
    {
     "name": "stdout",
     "output_type": "stream",
     "text": [
      " 60%|█████▉    | 599/1000 [3:48:09<4:09:22, 37.31s/trial, best loss: 0.9201335479845877]"
     ]
    },
    {
     "name": "stderr",
     "output_type": "stream",
     "text": [
      "hyperopt.tpe INFO  build_posterior_wrapper took 0.031793 seconds\n",
      "hyperopt.tpe INFO  TPE using 617/617 trials with best loss 0.920134\n",
      "py4j.clientserver INFO  Closing down clientserver connection\n"
     ]
    },
    {
     "name": "stdout",
     "output_type": "stream",
     "text": [
      " 60%|██████    | 600/1000 [3:48:19<3:16:33, 29.48s/trial, best loss: 0.9201335479845877]"
     ]
    },
    {
     "name": "stderr",
     "output_type": "stream",
     "text": [
      "hyperopt.tpe INFO  build_posterior_wrapper took 0.015643 seconds\n",
      "hyperopt.tpe INFO  TPE using 618/618 trials with best loss 0.920134\n",
      "py4j.clientserver INFO  Closing down clientserver connection\n"
     ]
    },
    {
     "name": "stdout",
     "output_type": "stream",
     "text": [
      " 60%|██████    | 601/1000 [3:48:21<2:24:13, 21.69s/trial, best loss: 0.9201335479845877]"
     ]
    },
    {
     "name": "stderr",
     "output_type": "stream",
     "text": [
      "hyperopt.tpe INFO  build_posterior_wrapper took 0.015624 seconds\n",
      "hyperopt.tpe INFO  TPE using 619/619 trials with best loss 0.920134\n",
      "py4j.clientserver INFO  Closing down clientserver connection\n",
      "py4j.clientserver INFO  Closing down clientserver connection\n"
     ]
    },
    {
     "name": "stdout",
     "output_type": "stream",
     "text": [
      " 60%|██████    | 603/1000 [3:48:27<1:28:13, 13.33s/trial, best loss: 0.9201335479845877]"
     ]
    },
    {
     "name": "stderr",
     "output_type": "stream",
     "text": [
      "py4j.clientserver INFO  Closing down clientserver connection\n"
     ]
    },
    {
     "name": "stdout",
     "output_type": "stream",
     "text": [
      " 60%|██████    | 604/1000 [3:48:28<1:08:17, 10.35s/trial, best loss: 0.9201335479845877]"
     ]
    },
    {
     "name": "stderr",
     "output_type": "stream",
     "text": [
      "hyperopt.tpe INFO  build_posterior_wrapper took 0.015617 seconds\n",
      "hyperopt.tpe INFO  TPE using 620/620 trials with best loss 0.920134\n",
      "py4j.clientserver INFO  Closing down clientserver connection\n",
      "py4j.clientserver INFO  Closing down clientserver connection\n"
     ]
    },
    {
     "name": "stdout",
     "output_type": "stream",
     "text": [
      " 61%|██████    | 606/1000 [3:48:30<42:53,  6.53s/trial, best loss: 0.9201335479845877]  "
     ]
    },
    {
     "name": "stderr",
     "output_type": "stream",
     "text": [
      "hyperopt.tpe INFO  build_posterior_wrapper took 0.015636 seconds\n",
      "hyperopt.tpe INFO  TPE using 621/621 trials with best loss 0.920134\n",
      "hyperopt.tpe INFO  build_posterior_wrapper took 0.093751 seconds\n",
      "hyperopt.tpe INFO  TPE using 622/622 trials with best loss 0.920134\n",
      "hyperopt.tpe INFO  build_posterior_wrapper took 0.000000 seconds\n",
      "hyperopt.tpe INFO  TPE using 623/623 trials with best loss 0.920134\n",
      "hyperopt.tpe INFO  build_posterior_wrapper took 0.015625 seconds\n",
      "hyperopt.tpe INFO  TPE using 624/624 trials with best loss 0.920134\n",
      "py4j.clientserver INFO  Closing down clientserver connection\n"
     ]
    },
    {
     "name": "stdout",
     "output_type": "stream",
     "text": [
      " 61%|██████    | 607/1000 [3:48:36<42:19,  6.46s/trial, best loss: 0.9201335479845877]"
     ]
    },
    {
     "name": "stderr",
     "output_type": "stream",
     "text": [
      "hyperopt.tpe INFO  build_posterior_wrapper took 0.015624 seconds\n",
      "hyperopt.tpe INFO  TPE using 625/625 trials with best loss 0.920134\n",
      "py4j.clientserver INFO  Closing down clientserver connection\n"
     ]
    },
    {
     "name": "stdout",
     "output_type": "stream",
     "text": [
      " 61%|██████    | 608/1000 [3:48:38<35:10,  5.38s/trial, best loss: 0.9201335479845877]"
     ]
    },
    {
     "name": "stderr",
     "output_type": "stream",
     "text": [
      "hyperopt.tpe INFO  build_posterior_wrapper took 0.015622 seconds\n",
      "hyperopt.tpe INFO  TPE using 626/626 trials with best loss 0.920134\n",
      "py4j.clientserver INFO  Closing down clientserver connection\n"
     ]
    },
    {
     "name": "stdout",
     "output_type": "stream",
     "text": [
      " 61%|██████    | 609/1000 [3:48:39<27:45,  4.26s/trial, best loss: 0.9201335479845877]"
     ]
    },
    {
     "name": "stderr",
     "output_type": "stream",
     "text": [
      "hyperopt.tpe INFO  build_posterior_wrapper took 0.015627 seconds\n",
      "hyperopt.tpe INFO  TPE using 627/627 trials with best loss 0.920134\n",
      "py4j.clientserver INFO  Closing down clientserver connection\n"
     ]
    },
    {
     "name": "stdout",
     "output_type": "stream",
     "text": [
      " 61%|██████    | 610/1000 [3:48:40<22:01,  3.39s/trial, best loss: 0.9201335479845877]"
     ]
    },
    {
     "name": "stderr",
     "output_type": "stream",
     "text": [
      "hyperopt.tpe INFO  build_posterior_wrapper took 0.015628 seconds\n",
      "hyperopt.tpe INFO  TPE using 628/628 trials with best loss 0.920134\n",
      "py4j.clientserver INFO  Closing down clientserver connection\n"
     ]
    },
    {
     "name": "stdout",
     "output_type": "stream",
     "text": [
      " 61%|██████    | 611/1000 [3:48:47<28:38,  4.42s/trial, best loss: 0.9201335479845877]"
     ]
    },
    {
     "name": "stderr",
     "output_type": "stream",
     "text": [
      "hyperopt.tpe INFO  build_posterior_wrapper took 0.109352 seconds\n",
      "hyperopt.tpe INFO  TPE using 629/629 trials with best loss 0.920134\n",
      "py4j.clientserver INFO  Closing down clientserver connection\n"
     ]
    },
    {
     "name": "stdout",
     "output_type": "stream",
     "text": [
      " 61%|██████    | 612/1000 [3:49:03<50:21,  7.79s/trial, best loss: 0.9201335479845877]"
     ]
    },
    {
     "name": "stderr",
     "output_type": "stream",
     "text": [
      "hyperopt.tpe INFO  build_posterior_wrapper took 0.015624 seconds\n",
      "hyperopt.tpe INFO  TPE using 630/630 trials with best loss 0.920134\n",
      "py4j.clientserver INFO  Closing down clientserver connection\n"
     ]
    },
    {
     "name": "stdout",
     "output_type": "stream",
     "text": [
      " 61%|██████▏   | 613/1000 [3:54:17<10:19:32, 96.05s/trial, best loss: 0.9201335479845877]"
     ]
    },
    {
     "name": "stderr",
     "output_type": "stream",
     "text": [
      "py4j.clientserver INFO  Closing down clientserver connection\n"
     ]
    },
    {
     "name": "stdout",
     "output_type": "stream",
     "text": [
      " 61%|██████▏   | 614/1000 [3:54:18<7:19:18, 68.29s/trial, best loss: 0.9201335479845877] "
     ]
    },
    {
     "name": "stderr",
     "output_type": "stream",
     "text": [
      "hyperopt.tpe INFO  build_posterior_wrapper took 0.015625 seconds\n",
      "hyperopt.tpe INFO  TPE using 631/631 trials with best loss 0.920134\n",
      "py4j.clientserver INFO  Closing down clientserver connection\n"
     ]
    },
    {
     "name": "stdout",
     "output_type": "stream",
     "text": [
      " 62%|██████▏   | 615/1000 [3:54:19<5:11:07, 48.49s/trial, best loss: 0.9201335479845877]"
     ]
    },
    {
     "name": "stderr",
     "output_type": "stream",
     "text": [
      "hyperopt.tpe INFO  build_posterior_wrapper took 0.015626 seconds\n",
      "hyperopt.tpe INFO  TPE using 632/632 trials with best loss 0.920134\n",
      "hyperopt.tpe INFO  build_posterior_wrapper took 0.015624 seconds\n",
      "hyperopt.tpe INFO  TPE using 633/633 trials with best loss 0.920134\n",
      "py4j.clientserver INFO  Closing down clientserver connection\n"
     ]
    },
    {
     "name": "stdout",
     "output_type": "stream",
     "text": [
      " 62%|██████▏   | 616/1000 [3:54:43<4:24:21, 41.31s/trial, best loss: 0.9201335479845877]"
     ]
    },
    {
     "name": "stderr",
     "output_type": "stream",
     "text": [
      "hyperopt.tpe INFO  build_posterior_wrapper took 0.023357 seconds\n",
      "hyperopt.tpe INFO  TPE using 634/634 trials with best loss 0.920134\n",
      "py4j.clientserver INFO  Closing down clientserver connection\n"
     ]
    },
    {
     "name": "stdout",
     "output_type": "stream",
     "text": [
      " 62%|██████▏   | 617/1000 [3:54:53<3:24:32, 32.04s/trial, best loss: 0.9201335479845877]"
     ]
    },
    {
     "name": "stderr",
     "output_type": "stream",
     "text": [
      "hyperopt.tpe INFO  build_posterior_wrapper took 0.015618 seconds\n",
      "hyperopt.tpe INFO  TPE using 635/635 trials with best loss 0.920134\n",
      "py4j.clientserver INFO  Closing down clientserver connection\n"
     ]
    },
    {
     "name": "stdout",
     "output_type": "stream",
     "text": [
      " 62%|██████▏   | 618/1000 [3:55:00<2:36:38, 24.60s/trial, best loss: 0.9201335479845877]"
     ]
    },
    {
     "name": "stderr",
     "output_type": "stream",
     "text": [
      "hyperopt.tpe INFO  build_posterior_wrapper took 0.015639 seconds\n",
      "hyperopt.tpe INFO  TPE using 636/636 trials with best loss 0.920134\n",
      "py4j.clientserver INFO  Closing down clientserver connection\n",
      "py4j.clientserver INFO  Closing down clientserver connection\n"
     ]
    },
    {
     "name": "stdout",
     "output_type": "stream",
     "text": [
      " 62%|██████▏   | 620/1000 [3:55:07<1:34:27, 14.92s/trial, best loss: 0.9201335479845877]"
     ]
    },
    {
     "name": "stderr",
     "output_type": "stream",
     "text": [
      "hyperopt.tpe INFO  build_posterior_wrapper took 0.125250 seconds\n",
      "hyperopt.tpe INFO  TPE using 637/637 trials with best loss 0.920134\n",
      "hyperopt.tpe INFO  build_posterior_wrapper took 0.015640 seconds\n",
      "hyperopt.tpe INFO  TPE using 638/638 trials with best loss 0.920134\n",
      "py4j.clientserver INFO  Closing down clientserver connection\n",
      "py4j.clientserver INFO  Closing down clientserver connection\n"
     ]
    },
    {
     "name": "stdout",
     "output_type": "stream",
     "text": [
      " 62%|██████▏   | 622/1000 [3:55:10<1:00:40,  9.63s/trial, best loss: 0.9201335479845877]"
     ]
    },
    {
     "name": "stderr",
     "output_type": "stream",
     "text": [
      "hyperopt.tpe INFO  build_posterior_wrapper took 0.015632 seconds\n",
      "hyperopt.tpe INFO  TPE using 639/639 trials with best loss 0.920134\n",
      "py4j.clientserver INFO  Closing down clientserver connection\n"
     ]
    },
    {
     "name": "stdout",
     "output_type": "stream",
     "text": [
      " 62%|██████▏   | 623/1000 [3:55:12<48:35,  7.73s/trial, best loss: 0.9201335479845877]  "
     ]
    },
    {
     "name": "stderr",
     "output_type": "stream",
     "text": [
      "hyperopt.tpe INFO  build_posterior_wrapper took 0.015625 seconds\n",
      "hyperopt.tpe INFO  TPE using 640/640 trials with best loss 0.920134\n",
      "hyperopt.tpe INFO  build_posterior_wrapper took 0.015627 seconds\n",
      "hyperopt.tpe INFO  TPE using 641/641 trials with best loss 0.920134\n",
      "py4j.clientserver INFO  Closing down clientserver connection\n",
      "py4j.clientserver INFO  Closing down clientserver connection\n"
     ]
    },
    {
     "name": "stdout",
     "output_type": "stream",
     "text": [
      " 62%|██████▎   | 625/1000 [3:55:15<33:22,  5.34s/trial, best loss: 0.9201335479845877]"
     ]
    },
    {
     "name": "stderr",
     "output_type": "stream",
     "text": [
      "hyperopt.tpe INFO  build_posterior_wrapper took 0.015626 seconds\n",
      "hyperopt.tpe INFO  TPE using 642/642 trials with best loss 0.920134\n",
      "hyperopt.tpe INFO  build_posterior_wrapper took 0.015628 seconds\n",
      "hyperopt.tpe INFO  TPE using 643/643 trials with best loss 0.920134\n",
      "py4j.clientserver INFO  Closing down clientserver connection\n"
     ]
    },
    {
     "name": "stdout",
     "output_type": "stream",
     "text": [
      " 63%|██████▎   | 626/1000 [3:55:18<30:14,  4.85s/trial, best loss: 0.9201335479845877]"
     ]
    },
    {
     "name": "stderr",
     "output_type": "stream",
     "text": [
      "hyperopt.tpe INFO  build_posterior_wrapper took 0.109379 seconds\n",
      "hyperopt.tpe INFO  TPE using 644/644 trials with best loss 0.920134\n",
      "py4j.clientserver INFO  Closing down clientserver connection\n"
     ]
    },
    {
     "name": "stdout",
     "output_type": "stream",
     "text": [
      " 63%|██████▎   | 627/1000 [3:55:21<27:39,  4.45s/trial, best loss: 0.9201335479845877]"
     ]
    },
    {
     "name": "stderr",
     "output_type": "stream",
     "text": [
      "hyperopt.tpe INFO  build_posterior_wrapper took 0.015626 seconds\n",
      "hyperopt.tpe INFO  TPE using 645/645 trials with best loss 0.920134\n",
      "py4j.clientserver INFO  Closing down clientserver connection\n",
      "py4j.clientserver INFO  Closing down clientserver connection\n"
     ]
    },
    {
     "name": "stdout",
     "output_type": "stream",
     "text": [
      " 63%|██████▎   | 629/1000 [3:55:22<17:43,  2.87s/trial, best loss: 0.9201335479845877]"
     ]
    },
    {
     "name": "stderr",
     "output_type": "stream",
     "text": [
      "hyperopt.tpe INFO  build_posterior_wrapper took 0.017998 seconds\n",
      "hyperopt.tpe INFO  TPE using 646/646 trials with best loss 0.920134\n",
      "hyperopt.tpe INFO  build_posterior_wrapper took 0.023412 seconds\n",
      "hyperopt.tpe INFO  TPE using 647/647 trials with best loss 0.920134\n",
      "py4j.clientserver INFO  Closing down clientserver connection\n"
     ]
    },
    {
     "name": "stdout",
     "output_type": "stream",
     "text": [
      " 63%|██████▎   | 630/1000 [3:55:44<44:23,  7.20s/trial, best loss: 0.9201335479845877]"
     ]
    },
    {
     "name": "stderr",
     "output_type": "stream",
     "text": [
      "hyperopt.tpe INFO  build_posterior_wrapper took 0.015642 seconds\n",
      "hyperopt.tpe INFO  TPE using 648/648 trials with best loss 0.920134\n"
     ]
    }
   ],
   "source": [
    "from traineval.evaluation.tune_evaluation import evaluate\n",
    "\n",
    "best_params = fmin(\n",
    "    fn=evaluate,\n",
    "    space=get_params(),\n",
    "    algo=tpe.suggest,  # NOTE: You cannot use atpe.suggest with SparkTrials, then use tpe.suggest\n",
    "    max_evals=1000,\n",
    "    trials=SparkTrials(18),\n",
    "    # early_stop_fn=no_progress_loss(400)\n",
    ")\n",
    "best_params"
   ],
   "metadata": {
    "collapsed": false,
    "pycharm": {
     "is_executing": true
    }
   }
  },
  {
   "cell_type": "code",
   "execution_count": null,
   "outputs": [],
   "source": [
    "best_params"
   ],
   "metadata": {
    "collapsed": false
   }
  },
  {
   "cell_type": "code",
   "execution_count": null,
   "outputs": [],
   "source": [],
   "metadata": {
    "collapsed": false
   }
  }
 ],
 "metadata": {
  "kernelspec": {
   "display_name": "Python 3",
   "language": "python",
   "name": "python3"
  },
  "language_info": {
   "codemirror_mode": {
    "name": "ipython",
    "version": 2
   },
   "file_extension": ".py",
   "mimetype": "text/x-python",
   "name": "python",
   "nbconvert_exporter": "python",
   "pygments_lexer": "ipython2",
   "version": "2.7.6"
  }
 },
 "nbformat": 4,
 "nbformat_minor": 0
}
