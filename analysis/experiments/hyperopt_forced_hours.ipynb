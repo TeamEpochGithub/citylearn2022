{
 "cells": [
  {
   "cell_type": "code",
   "execution_count": 4,
   "metadata": {
    "collapsed": true
   },
   "outputs": [],
   "source": [
    "from hyperopt import fmin, hp, tpe, SparkTrials\n"
   ]
  },
  {
   "cell_type": "code",
   "execution_count": 5,
   "outputs": [],
   "source": [
    "\n",
    "def get_params():\n",
    "    search_space = {\n",
    "                    \"hour_0\": hp.quniform(\"hour_0\", 0, 24, 1),\n",
    "                    \"hour_1\": hp.quniform(\"hour_1\", 0, 24, 1),\n",
    "                    \"hour_2\": hp.quniform(\"hour_2\", 0, 24, 1),\n",
    "                    \"hour_3\": hp.quniform(\"hour_3\", 0, 24, 1),\n",
    "                    \"hour_4\": hp.quniform(\"hour_4\", 0, 24, 1),\n",
    "                    \"action_0\": hp.uniform(\"action_0\", -0.4, 0.4),\n",
    "                    \"action_1\": hp.uniform(\"action_1\", -0.4, 0.4),\n",
    "                    \"action_2\": hp.uniform(\"action_2\", -0.4, 0.4),\n",
    "                    \"action_3\": hp.uniform(\"action_3\", -0.4, 0.4),\n",
    "                    \"action_4\": hp.uniform(\"action_4\", -0.4, 0.4)\n",
    "    }\n",
    "\n",
    "    return search_space"
   ],
   "metadata": {
    "collapsed": false
   }
  },
  {
   "cell_type": "code",
   "execution_count": 6,
   "outputs": [
    {
     "name": "stdout",
     "output_type": "stream",
     "text": [
      "  0%|          | 0/1000 [00:00<?, ?trial/s, best loss=?]"
     ]
    },
    {
     "name": "stderr",
     "output_type": "stream",
     "text": [
      "hyperopt.tpe INFO  build_posterior_wrapper took 0.000000 seconds\n",
      "hyperopt.tpe INFO  TPE using 0 trials\n",
      "hyperopt.tpe INFO  build_posterior_wrapper took 0.000000 seconds\n",
      "hyperopt.tpe INFO  TPE using 1/1 trials with best loss inf\n",
      "hyperopt.tpe INFO  build_posterior_wrapper took 0.000000 seconds\n",
      "hyperopt.tpe INFO  TPE using 2/2 trials with best loss inf\n",
      "hyperopt.tpe INFO  build_posterior_wrapper took 0.000000 seconds\n",
      "hyperopt.tpe INFO  TPE using 3/3 trials with best loss inf\n",
      "hyperopt.tpe INFO  build_posterior_wrapper took 0.000000 seconds\n",
      "hyperopt.tpe INFO  TPE using 4/4 trials with best loss inf\n",
      "hyperopt.tpe INFO  build_posterior_wrapper took 0.000000 seconds\n",
      "hyperopt.tpe INFO  TPE using 5/5 trials with best loss inf\n",
      "hyperopt.tpe INFO  build_posterior_wrapper took 0.000000 seconds\n",
      "hyperopt.tpe INFO  TPE using 6/6 trials with best loss inf\n",
      "hyperopt.tpe INFO  build_posterior_wrapper took 0.000000 seconds\n",
      "hyperopt.tpe INFO  TPE using 7/7 trials with best loss inf\n",
      "hyperopt.tpe INFO  build_posterior_wrapper took 0.001078 seconds\n",
      "hyperopt.tpe INFO  TPE using 8/8 trials with best loss inf\n",
      "hyperopt.tpe INFO  build_posterior_wrapper took 0.000000 seconds\n",
      "hyperopt.tpe INFO  TPE using 9/9 trials with best loss inf\n",
      "hyperopt.tpe INFO  build_posterior_wrapper took 0.000000 seconds\n",
      "hyperopt.tpe INFO  TPE using 10/10 trials with best loss inf\n",
      "hyperopt.tpe INFO  build_posterior_wrapper took 0.000000 seconds\n",
      "hyperopt.tpe INFO  TPE using 11/11 trials with best loss inf\n",
      "hyperopt.tpe INFO  build_posterior_wrapper took 0.000000 seconds\n",
      "hyperopt.tpe INFO  TPE using 12/12 trials with best loss inf\n",
      "hyperopt.tpe INFO  build_posterior_wrapper took 0.000000 seconds\n",
      "hyperopt.tpe INFO  TPE using 13/13 trials with best loss inf\n",
      "hyperopt.tpe INFO  build_posterior_wrapper took 0.000000 seconds\n",
      "hyperopt.tpe INFO  TPE using 14/14 trials with best loss inf\n",
      "hyperopt.tpe INFO  build_posterior_wrapper took 0.000000 seconds\n",
      "hyperopt.tpe INFO  TPE using 15/15 trials with best loss inf\n",
      "hyperopt.tpe INFO  build_posterior_wrapper took 0.000000 seconds\n",
      "hyperopt.tpe INFO  TPE using 16/16 trials with best loss inf\n",
      "hyperopt.tpe INFO  build_posterior_wrapper took 0.000000 seconds\n",
      "hyperopt.tpe INFO  TPE using 17/17 trials with best loss inf\n",
      "hyperopt.tpe INFO  build_posterior_wrapper took 0.000000 seconds\n",
      "hyperopt.tpe INFO  TPE using 18/18 trials with best loss inf\n",
      "py4j.clientserver INFO  Closing down clientserver connection\n"
     ]
    },
    {
     "name": "stdout",
     "output_type": "stream",
     "text": [
      "  0%|          | 1/1000 [12:41<211:15:53, 761.31s/trial, best loss: 1.0629723002359992]"
     ]
    },
    {
     "name": "stderr",
     "output_type": "stream",
     "text": [
      "hyperopt.tpe INFO  build_posterior_wrapper took 0.000000 seconds\n",
      "hyperopt.tpe INFO  TPE using 19/19 trials with best loss 1.062972\n",
      "py4j.clientserver INFO  Closing down clientserver connection\n"
     ]
    },
    {
     "name": "stdout",
     "output_type": "stream",
     "text": [
      "  0%|          | 2/1000 [12:45<87:33:31, 315.84s/trial, best loss: 1.0629723002359992] "
     ]
    },
    {
     "name": "stderr",
     "output_type": "stream",
     "text": [
      "hyperopt.tpe INFO  build_posterior_wrapper took 0.000000 seconds\n",
      "hyperopt.tpe INFO  TPE using 20/20 trials with best loss 1.062972\n",
      "py4j.clientserver INFO  Closing down clientserver connection\n"
     ]
    },
    {
     "name": "stdout",
     "output_type": "stream",
     "text": [
      "  0%|          | 3/1000 [12:50<48:10:19, 173.94s/trial, best loss: 1.0577135900633325]"
     ]
    },
    {
     "name": "stderr",
     "output_type": "stream",
     "text": [
      "hyperopt.tpe INFO  build_posterior_wrapper took 0.000000 seconds\n",
      "hyperopt.tpe INFO  TPE using 21/21 trials with best loss 1.057714\n",
      "py4j.clientserver INFO  Closing down clientserver connection\n"
     ]
    },
    {
     "name": "stdout",
     "output_type": "stream",
     "text": [
      "  0%|          | 4/1000 [12:51<29:14:12, 105.68s/trial, best loss: 1.0577135900633325]"
     ]
    },
    {
     "name": "stderr",
     "output_type": "stream",
     "text": [
      "hyperopt.tpe INFO  build_posterior_wrapper took 0.000000 seconds\n",
      "hyperopt.tpe INFO  TPE using 22/22 trials with best loss 1.057714\n",
      "py4j.clientserver INFO  Closing down clientserver connection\n",
      "py4j.clientserver INFO  Closing down clientserver connection\n"
     ]
    },
    {
     "name": "stdout",
     "output_type": "stream",
     "text": [
      "  1%|          | 6/1000 [12:54<13:56:01, 50.46s/trial, best loss: 0.9899259707619853] "
     ]
    },
    {
     "name": "stderr",
     "output_type": "stream",
     "text": [
      "hyperopt.tpe INFO  build_posterior_wrapper took 0.000000 seconds\n",
      "hyperopt.tpe INFO  TPE using 23/23 trials with best loss 0.989926\n",
      "py4j.clientserver INFO  Closing down clientserver connection\n",
      "py4j.clientserver INFO  Closing down clientserver connection\n"
     ]
    },
    {
     "name": "stdout",
     "output_type": "stream",
     "text": [
      "  1%|          | 8/1000 [12:55<7:58:30, 28.94s/trial, best loss: 0.9899259707619853] "
     ]
    },
    {
     "name": "stderr",
     "output_type": "stream",
     "text": [
      "hyperopt.tpe INFO  build_posterior_wrapper took 0.000000 seconds\n",
      "hyperopt.tpe INFO  TPE using 24/24 trials with best loss 0.989926\n",
      "hyperopt.tpe INFO  build_posterior_wrapper took 0.000000 seconds\n",
      "hyperopt.tpe INFO  TPE using 25/25 trials with best loss 0.989926\n",
      "hyperopt.tpe INFO  build_posterior_wrapper took 0.000000 seconds\n",
      "hyperopt.tpe INFO  TPE using 26/26 trials with best loss 0.989926\n",
      "py4j.clientserver INFO  Closing down clientserver connection\n"
     ]
    },
    {
     "name": "stdout",
     "output_type": "stream",
     "text": [
      "  1%|          | 9/1000 [13:03<6:37:14, 24.05s/trial, best loss: 0.9899259707619853]"
     ]
    },
    {
     "name": "stderr",
     "output_type": "stream",
     "text": [
      "hyperopt.tpe INFO  build_posterior_wrapper took 0.000000 seconds\n",
      "hyperopt.tpe INFO  TPE using 27/27 trials with best loss 0.989926\n",
      "py4j.clientserver INFO  Closing down clientserver connection\n"
     ]
    },
    {
     "name": "stdout",
     "output_type": "stream",
     "text": [
      "  1%|          | 10/1000 [13:04<5:01:15, 18.26s/trial, best loss: 0.9899259707619853]"
     ]
    },
    {
     "name": "stderr",
     "output_type": "stream",
     "text": [
      "hyperopt.tpe INFO  build_posterior_wrapper took 0.000000 seconds\n",
      "hyperopt.tpe INFO  TPE using 28/28 trials with best loss 0.989926\n",
      "py4j.clientserver INFO  Closing down clientserver connection\n"
     ]
    },
    {
     "name": "stdout",
     "output_type": "stream",
     "text": [
      "  1%|          | 11/1000 [13:07<3:54:38, 14.23s/trial, best loss: 0.9899259707619853]"
     ]
    },
    {
     "name": "stderr",
     "output_type": "stream",
     "text": [
      "hyperopt.tpe INFO  build_posterior_wrapper took 0.000000 seconds\n",
      "hyperopt.tpe INFO  TPE using 29/29 trials with best loss 0.989926\n",
      "py4j.clientserver INFO  Closing down clientserver connection\n"
     ]
    },
    {
     "name": "stdout",
     "output_type": "stream",
     "text": [
      "  1%|          | 12/1000 [13:08<2:54:51, 10.62s/trial, best loss: 0.9899259707619853]"
     ]
    },
    {
     "name": "stderr",
     "output_type": "stream",
     "text": [
      "hyperopt.tpe INFO  build_posterior_wrapper took 0.000000 seconds\n",
      "hyperopt.tpe INFO  TPE using 30/30 trials with best loss 0.989926\n",
      "py4j.clientserver INFO  Closing down clientserver connection\n"
     ]
    },
    {
     "name": "stdout",
     "output_type": "stream",
     "text": [
      "  1%|▏         | 13/1000 [13:22<3:10:44, 11.60s/trial, best loss: 0.9899259707619853]"
     ]
    },
    {
     "name": "stderr",
     "output_type": "stream",
     "text": [
      "hyperopt.tpe INFO  build_posterior_wrapper took 0.000000 seconds\n",
      "hyperopt.tpe INFO  TPE using 31/31 trials with best loss 0.989926\n",
      "py4j.clientserver INFO  Closing down clientserver connection\n"
     ]
    },
    {
     "name": "stdout",
     "output_type": "stream",
     "text": [
      "  1%|▏         | 14/1000 [13:31<2:58:45, 10.88s/trial, best loss: 0.9806707931824613]"
     ]
    },
    {
     "name": "stderr",
     "output_type": "stream",
     "text": [
      "hyperopt.tpe INFO  build_posterior_wrapper took 0.000000 seconds\n",
      "hyperopt.tpe INFO  TPE using 32/32 trials with best loss 0.980671\n",
      "py4j.clientserver INFO  Closing down clientserver connection\n"
     ]
    },
    {
     "name": "stdout",
     "output_type": "stream",
     "text": [
      "  2%|▏         | 15/1000 [13:37<2:30:51,  9.19s/trial, best loss: 0.9806707931824613]"
     ]
    },
    {
     "name": "stderr",
     "output_type": "stream",
     "text": [
      "hyperopt.tpe INFO  build_posterior_wrapper took 0.000000 seconds\n",
      "hyperopt.tpe INFO  TPE using 33/33 trials with best loss 0.980671\n",
      "py4j.clientserver INFO  Closing down clientserver connection\n"
     ]
    },
    {
     "name": "stdout",
     "output_type": "stream",
     "text": [
      "  2%|▏         | 16/1000 [13:41<2:05:52,  7.68s/trial, best loss: 0.9806707931824613]"
     ]
    },
    {
     "name": "stderr",
     "output_type": "stream",
     "text": [
      "hyperopt.tpe INFO  build_posterior_wrapper took 0.000000 seconds\n",
      "hyperopt.tpe INFO  TPE using 34/34 trials with best loss 0.980671\n",
      "py4j.clientserver INFO  Closing down clientserver connection\n"
     ]
    },
    {
     "name": "stdout",
     "output_type": "stream",
     "text": [
      "  2%|▏         | 17/1000 [13:43<1:38:30,  6.01s/trial, best loss: 0.9468873123361657]"
     ]
    },
    {
     "name": "stderr",
     "output_type": "stream",
     "text": [
      "hyperopt.tpe INFO  build_posterior_wrapper took 0.000000 seconds\n",
      "hyperopt.tpe INFO  TPE using 35/35 trials with best loss 0.946887\n",
      "py4j.clientserver INFO  Closing down clientserver connection\n"
     ]
    },
    {
     "name": "stdout",
     "output_type": "stream",
     "text": [
      "  2%|▏         | 18/1000 [14:46<6:17:25, 23.06s/trial, best loss: 0.9468873123361657]"
     ]
    },
    {
     "name": "stderr",
     "output_type": "stream",
     "text": [
      "hyperopt.tpe INFO  build_posterior_wrapper took 0.003001 seconds\n",
      "hyperopt.tpe INFO  TPE using 36/36 trials with best loss 0.946887\n",
      "py4j.clientserver INFO  Closing down clientserver connection\n"
     ]
    },
    {
     "name": "stdout",
     "output_type": "stream",
     "text": [
      "  2%|▏         | 19/1000 [25:36<57:08:01, 209.67s/trial, best loss: 0.9468873123361657]"
     ]
    },
    {
     "name": "stderr",
     "output_type": "stream",
     "text": [
      "hyperopt.tpe INFO  build_posterior_wrapper took 0.000000 seconds\n",
      "hyperopt.tpe INFO  TPE using 37/37 trials with best loss 0.946887\n",
      "py4j.clientserver INFO  Closing down clientserver connection\n"
     ]
    },
    {
     "name": "stdout",
     "output_type": "stream",
     "text": [
      "  2%|▏         | 20/1000 [25:42<40:32:22, 148.92s/trial, best loss: 0.9468873123361657]"
     ]
    },
    {
     "name": "stderr",
     "output_type": "stream",
     "text": [
      "hyperopt.tpe INFO  build_posterior_wrapper took 0.078122 seconds\n",
      "hyperopt.tpe INFO  TPE using 38/38 trials with best loss 0.946887\n",
      "py4j.clientserver INFO  Closing down clientserver connection\n"
     ]
    },
    {
     "name": "stdout",
     "output_type": "stream",
     "text": [
      "  2%|▏         | 21/1000 [25:45<28:38:56, 105.35s/trial, best loss: 0.9468873123361657]"
     ]
    },
    {
     "name": "stderr",
     "output_type": "stream",
     "text": [
      "hyperopt.tpe INFO  build_posterior_wrapper took 0.000000 seconds\n",
      "hyperopt.tpe INFO  TPE using 39/39 trials with best loss 0.946887\n",
      "py4j.clientserver INFO  Closing down clientserver connection\n"
     ]
    },
    {
     "name": "stdout",
     "output_type": "stream",
     "text": [
      "  2%|▏         | 22/1000 [25:49<20:23:06, 75.04s/trial, best loss: 0.9468873123361657] "
     ]
    },
    {
     "name": "stderr",
     "output_type": "stream",
     "text": [
      "hyperopt.tpe INFO  build_posterior_wrapper took 0.000000 seconds\n",
      "hyperopt.tpe INFO  TPE using 40/40 trials with best loss 0.946887\n",
      "py4j.clientserver INFO  Closing down clientserver connection\n"
     ]
    },
    {
     "name": "stdout",
     "output_type": "stream",
     "text": [
      "  2%|▏         | 23/1000 [25:54<14:40:42, 54.09s/trial, best loss: 0.9468873123361657]"
     ]
    },
    {
     "name": "stderr",
     "output_type": "stream",
     "text": [
      "hyperopt.tpe INFO  build_posterior_wrapper took 0.000000 seconds\n",
      "hyperopt.tpe INFO  TPE using 41/41 trials with best loss 0.946887\n",
      "py4j.clientserver INFO  Closing down clientserver connection\n"
     ]
    },
    {
     "name": "stdout",
     "output_type": "stream",
     "text": [
      "  2%|▏         | 24/1000 [26:14<11:54:15, 43.91s/trial, best loss: 0.9468873123361657]"
     ]
    },
    {
     "name": "stderr",
     "output_type": "stream",
     "text": [
      "hyperopt.tpe INFO  build_posterior_wrapper took 0.000000 seconds\n",
      "hyperopt.tpe INFO  TPE using 42/42 trials with best loss 0.946887\n",
      "py4j.clientserver INFO  Closing down clientserver connection\n"
     ]
    },
    {
     "name": "stdout",
     "output_type": "stream",
     "text": [
      "  2%|▎         | 25/1000 [26:20<8:49:15, 32.57s/trial, best loss: 0.9468873123361657] "
     ]
    },
    {
     "name": "stderr",
     "output_type": "stream",
     "text": [
      "hyperopt.tpe INFO  build_posterior_wrapper took 0.000000 seconds\n",
      "hyperopt.tpe INFO  TPE using 43/43 trials with best loss 0.946887\n",
      "py4j.clientserver INFO  Closing down clientserver connection\n"
     ]
    },
    {
     "name": "stdout",
     "output_type": "stream",
     "text": [
      "  3%|▎         | 26/1000 [26:23<6:20:12, 23.42s/trial, best loss: 0.9468873123361657]"
     ]
    },
    {
     "name": "stderr",
     "output_type": "stream",
     "text": [
      "hyperopt.tpe INFO  build_posterior_wrapper took 0.000000 seconds\n",
      "hyperopt.tpe INFO  TPE using 44/44 trials with best loss 0.946887\n",
      "py4j.clientserver INFO  Closing down clientserver connection\n"
     ]
    },
    {
     "name": "stdout",
     "output_type": "stream",
     "text": [
      "  3%|▎         | 27/1000 [26:26<4:40:44, 17.31s/trial, best loss: 0.9468873123361657]"
     ]
    },
    {
     "name": "stderr",
     "output_type": "stream",
     "text": [
      "hyperopt.tpe INFO  build_posterior_wrapper took 0.000000 seconds\n",
      "hyperopt.tpe INFO  TPE using 45/45 trials with best loss 0.946887\n",
      "py4j.clientserver INFO  Closing down clientserver connection\n"
     ]
    },
    {
     "name": "stdout",
     "output_type": "stream",
     "text": [
      "  3%|▎         | 28/1000 [26:27<3:21:16, 12.42s/trial, best loss: 0.9468873123361657]"
     ]
    },
    {
     "name": "stderr",
     "output_type": "stream",
     "text": [
      "hyperopt.tpe INFO  build_posterior_wrapper took 0.000000 seconds\n",
      "hyperopt.tpe INFO  TPE using 46/46 trials with best loss 0.946887\n",
      "py4j.clientserver INFO  Closing down clientserver connection\n"
     ]
    },
    {
     "name": "stdout",
     "output_type": "stream",
     "text": [
      "  3%|▎         | 29/1000 [26:32<2:45:16, 10.21s/trial, best loss: 0.8975870168269177]"
     ]
    },
    {
     "name": "stderr",
     "output_type": "stream",
     "text": [
      "hyperopt.tpe INFO  build_posterior_wrapper took 0.000000 seconds\n",
      "hyperopt.tpe INFO  TPE using 47/47 trials with best loss 0.897587\n",
      "py4j.clientserver INFO  Closing down clientserver connection\n"
     ]
    },
    {
     "name": "stdout",
     "output_type": "stream",
     "text": [
      "  3%|▎         | 30/1000 [26:34<2:05:29,  7.76s/trial, best loss: 0.8975870168269177]"
     ]
    },
    {
     "name": "stderr",
     "output_type": "stream",
     "text": [
      "hyperopt.tpe INFO  build_posterior_wrapper took 0.000000 seconds\n",
      "hyperopt.tpe INFO  TPE using 48/48 trials with best loss 0.897587\n",
      "py4j.clientserver INFO  Closing down clientserver connection\n"
     ]
    },
    {
     "name": "stdout",
     "output_type": "stream",
     "text": [
      "  3%|▎         | 31/1000 [26:40<1:57:07,  7.25s/trial, best loss: 0.8708398689670123]"
     ]
    },
    {
     "name": "stderr",
     "output_type": "stream",
     "text": [
      "hyperopt.tpe INFO  build_posterior_wrapper took 0.002994 seconds\n",
      "hyperopt.tpe INFO  TPE using 49/49 trials with best loss 0.870840\n",
      "py4j.clientserver INFO  Closing down clientserver connection\n"
     ]
    },
    {
     "name": "stdout",
     "output_type": "stream",
     "text": [
      "  3%|▎         | 32/1000 [26:42<1:31:53,  5.70s/trial, best loss: 0.8708398689670123]"
     ]
    },
    {
     "name": "stderr",
     "output_type": "stream",
     "text": [
      "hyperopt.tpe INFO  build_posterior_wrapper took 0.002998 seconds\n",
      "hyperopt.tpe INFO  TPE using 50/50 trials with best loss 0.870840\n",
      "py4j.clientserver INFO  Closing down clientserver connection\n"
     ]
    },
    {
     "name": "stdout",
     "output_type": "stream",
     "text": [
      "  3%|▎         | 33/1000 [26:48<1:33:43,  5.82s/trial, best loss: 0.8708398689670123]"
     ]
    },
    {
     "name": "stderr",
     "output_type": "stream",
     "text": [
      "hyperopt.tpe INFO  build_posterior_wrapper took 0.004001 seconds\n",
      "hyperopt.tpe INFO  TPE using 51/51 trials with best loss 0.870840\n",
      "py4j.clientserver INFO  Closing down clientserver connection\n"
     ]
    },
    {
     "name": "stdout",
     "output_type": "stream",
     "text": [
      "  3%|▎         | 34/1000 [27:08<2:43:30, 10.16s/trial, best loss: 0.8708398689670123]"
     ]
    },
    {
     "name": "stderr",
     "output_type": "stream",
     "text": [
      "hyperopt.tpe INFO  build_posterior_wrapper took 0.002998 seconds\n",
      "hyperopt.tpe INFO  TPE using 52/52 trials with best loss 0.870840\n",
      "py4j.clientserver INFO  Closing down clientserver connection\n"
     ]
    },
    {
     "name": "stdout",
     "output_type": "stream",
     "text": [
      "  4%|▎         | 35/1000 [27:19<2:48:15, 10.46s/trial, best loss: 0.8708398689670123]"
     ]
    },
    {
     "name": "stderr",
     "output_type": "stream",
     "text": [
      "hyperopt.tpe INFO  build_posterior_wrapper took 0.002999 seconds\n",
      "hyperopt.tpe INFO  TPE using 53/53 trials with best loss 0.870840\n",
      "py4j.clientserver INFO  Closing down clientserver connection\n"
     ]
    },
    {
     "name": "stdout",
     "output_type": "stream",
     "text": [
      "  4%|▎         | 36/1000 [28:24<7:08:47, 26.69s/trial, best loss: 0.8708398689670123]"
     ]
    },
    {
     "name": "stderr",
     "output_type": "stream",
     "text": [
      "hyperopt.tpe INFO  build_posterior_wrapper took 0.000000 seconds\n",
      "hyperopt.tpe INFO  TPE using 54/54 trials with best loss 0.870840\n",
      "py4j.clientserver INFO  Closing down clientserver connection\n"
     ]
    },
    {
     "name": "stdout",
     "output_type": "stream",
     "text": [
      "  4%|▎         | 37/1000 [38:39<54:22:25, 203.27s/trial, best loss: 0.8708398689670123]"
     ]
    },
    {
     "name": "stderr",
     "output_type": "stream",
     "text": [
      "hyperopt.tpe INFO  build_posterior_wrapper took 0.000000 seconds\n",
      "hyperopt.tpe INFO  TPE using 55/55 trials with best loss 0.870840\n",
      "py4j.clientserver INFO  Closing down clientserver connection\n"
     ]
    },
    {
     "name": "stdout",
     "output_type": "stream",
     "text": [
      "  4%|▍         | 38/1000 [38:48<38:45:02, 145.01s/trial, best loss: 0.8708398689670123]"
     ]
    },
    {
     "name": "stderr",
     "output_type": "stream",
     "text": [
      "hyperopt.tpe INFO  build_posterior_wrapper took 0.000000 seconds\n",
      "hyperopt.tpe INFO  TPE using 56/56 trials with best loss 0.870840\n",
      "py4j.clientserver INFO  Closing down clientserver connection\n"
     ]
    },
    {
     "name": "stdout",
     "output_type": "stream",
     "text": [
      "  4%|▍         | 39/1000 [38:50<27:15:39, 102.12s/trial, best loss: 0.8708398689670123]"
     ]
    },
    {
     "name": "stderr",
     "output_type": "stream",
     "text": [
      "hyperopt.tpe INFO  build_posterior_wrapper took 0.000000 seconds\n",
      "hyperopt.tpe INFO  TPE using 57/57 trials with best loss 0.870840\n",
      "py4j.clientserver INFO  Closing down clientserver connection\n"
     ]
    },
    {
     "name": "stdout",
     "output_type": "stream",
     "text": [
      "  4%|▍         | 40/1000 [39:15<20:59:52, 78.74s/trial, best loss: 0.8708398689670123] "
     ]
    },
    {
     "name": "stderr",
     "output_type": "stream",
     "text": [
      "hyperopt.tpe INFO  build_posterior_wrapper took 0.000000 seconds\n",
      "hyperopt.tpe INFO  TPE using 58/58 trials with best loss 0.870840\n",
      "py4j.clientserver INFO  Closing down clientserver connection\n",
      "py4j.clientserver INFO  Closing down clientserver connection\n"
     ]
    },
    {
     "name": "stdout",
     "output_type": "stream",
     "text": [
      "  4%|▍         | 42/1000 [39:22<11:43:03, 44.03s/trial, best loss: 0.8708398689670123]"
     ]
    },
    {
     "name": "stderr",
     "output_type": "stream",
     "text": [
      "py4j.clientserver INFO  Closing down clientserver connection\n"
     ]
    },
    {
     "name": "stdout",
     "output_type": "stream",
     "text": [
      "  4%|▍         | 43/1000 [39:23<8:52:11, 33.37s/trial, best loss: 0.8708398689670123] "
     ]
    },
    {
     "name": "stderr",
     "output_type": "stream",
     "text": [
      "hyperopt.tpe INFO  build_posterior_wrapper took 0.000000 seconds\n",
      "hyperopt.tpe INFO  TPE using 59/59 trials with best loss 0.870840\n",
      "hyperopt.tpe INFO  build_posterior_wrapper took 0.000000 seconds\n",
      "hyperopt.tpe INFO  TPE using 60/60 trials with best loss 0.870840\n",
      "hyperopt.tpe INFO  build_posterior_wrapper took 0.000000 seconds\n",
      "hyperopt.tpe INFO  TPE using 61/61 trials with best loss 0.870840\n",
      "py4j.clientserver INFO  Closing down clientserver connection\n"
     ]
    },
    {
     "name": "stdout",
     "output_type": "stream",
     "text": [
      "  4%|▍         | 44/1000 [39:26<6:45:35, 25.46s/trial, best loss: 0.8708398689670123]"
     ]
    },
    {
     "name": "stderr",
     "output_type": "stream",
     "text": [
      "hyperopt.tpe INFO  build_posterior_wrapper took 0.000000 seconds\n",
      "hyperopt.tpe INFO  TPE using 62/62 trials with best loss 0.870840\n",
      "py4j.clientserver INFO  Closing down clientserver connection\n"
     ]
    },
    {
     "name": "stdout",
     "output_type": "stream",
     "text": [
      "  4%|▍         | 45/1000 [39:32<5:21:09, 20.18s/trial, best loss: 0.8708398689670123]"
     ]
    },
    {
     "name": "stderr",
     "output_type": "stream",
     "text": [
      "hyperopt.tpe INFO  build_posterior_wrapper took 0.000000 seconds\n",
      "hyperopt.tpe INFO  TPE using 63/63 trials with best loss 0.870840\n",
      "py4j.clientserver INFO  Closing down clientserver connection\n"
     ]
    },
    {
     "name": "stdout",
     "output_type": "stream",
     "text": [
      "  5%|▍         | 46/1000 [39:41<4:31:27, 17.07s/trial, best loss: 0.8708398689670123]"
     ]
    },
    {
     "name": "stderr",
     "output_type": "stream",
     "text": [
      "py4j.clientserver INFO  Closing down clientserver connection\n"
     ]
    },
    {
     "name": "stdout",
     "output_type": "stream",
     "text": [
      "  5%|▍         | 47/1000 [39:42<3:18:16, 12.48s/trial, best loss: 0.8708398689670123]"
     ]
    },
    {
     "name": "stderr",
     "output_type": "stream",
     "text": [
      "hyperopt.tpe INFO  build_posterior_wrapper took 0.000000 seconds\n",
      "hyperopt.tpe INFO  TPE using 64/64 trials with best loss 0.870840\n",
      "hyperopt.tpe INFO  build_posterior_wrapper took 0.000000 seconds\n",
      "hyperopt.tpe INFO  TPE using 65/65 trials with best loss 0.870840\n",
      "py4j.clientserver INFO  Closing down clientserver connection\n"
     ]
    },
    {
     "name": "stdout",
     "output_type": "stream",
     "text": [
      "  5%|▍         | 48/1000 [39:44<2:30:10,  9.46s/trial, best loss: 0.8708398689670123]"
     ]
    },
    {
     "name": "stderr",
     "output_type": "stream",
     "text": [
      "hyperopt.tpe INFO  build_posterior_wrapper took 0.000000 seconds\n",
      "hyperopt.tpe INFO  TPE using 66/66 trials with best loss 0.870840\n",
      "py4j.clientserver INFO  Closing down clientserver connection\n"
     ]
    },
    {
     "name": "stdout",
     "output_type": "stream",
     "text": [
      "  5%|▍         | 49/1000 [39:50<2:14:20,  8.48s/trial, best loss: 0.8708398689670123]"
     ]
    },
    {
     "name": "stderr",
     "output_type": "stream",
     "text": [
      "hyperopt.tpe INFO  build_posterior_wrapper took 0.000000 seconds\n",
      "hyperopt.tpe INFO  TPE using 67/67 trials with best loss 0.870840\n",
      "py4j.clientserver INFO  Closing down clientserver connection\n"
     ]
    },
    {
     "name": "stdout",
     "output_type": "stream",
     "text": [
      "  5%|▌         | 50/1000 [39:55<1:58:15,  7.47s/trial, best loss: 0.8708398689670123]"
     ]
    },
    {
     "name": "stderr",
     "output_type": "stream",
     "text": [
      "hyperopt.tpe INFO  build_posterior_wrapper took 0.000000 seconds\n",
      "hyperopt.tpe INFO  TPE using 68/68 trials with best loss 0.870840\n",
      "py4j.clientserver INFO  Closing down clientserver connection\n"
     ]
    },
    {
     "name": "stdout",
     "output_type": "stream",
     "text": [
      "  5%|▌         | 51/1000 [39:59<1:42:06,  6.46s/trial, best loss: 0.8708398689670123]"
     ]
    },
    {
     "name": "stderr",
     "output_type": "stream",
     "text": [
      "hyperopt.tpe INFO  build_posterior_wrapper took 0.000000 seconds\n",
      "hyperopt.tpe INFO  TPE using 69/69 trials with best loss 0.870840\n",
      "py4j.clientserver INFO  Closing down clientserver connection\n"
     ]
    },
    {
     "name": "stdout",
     "output_type": "stream",
     "text": [
      "  5%|▌         | 52/1000 [40:09<1:59:11,  7.54s/trial, best loss: 0.8708398689670123]"
     ]
    },
    {
     "name": "stderr",
     "output_type": "stream",
     "text": [
      "hyperopt.tpe INFO  build_posterior_wrapper took 0.000000 seconds\n",
      "hyperopt.tpe INFO  TPE using 70/70 trials with best loss 0.870840\n",
      "py4j.clientserver INFO  Closing down clientserver connection\n"
     ]
    },
    {
     "name": "stdout",
     "output_type": "stream",
     "text": [
      "  5%|▌         | 53/1000 [40:45<4:14:02, 16.10s/trial, best loss: 0.8708398689670123]"
     ]
    },
    {
     "name": "stderr",
     "output_type": "stream",
     "text": [
      "hyperopt.tpe INFO  build_posterior_wrapper took 0.000000 seconds\n",
      "hyperopt.tpe INFO  TPE using 71/71 trials with best loss 0.870840\n",
      "py4j.clientserver INFO  Closing down clientserver connection\n"
     ]
    },
    {
     "name": "stdout",
     "output_type": "stream",
     "text": [
      "  5%|▌         | 54/1000 [41:17<5:24:46, 20.60s/trial, best loss: 0.8708398689670123]"
     ]
    },
    {
     "name": "stderr",
     "output_type": "stream",
     "text": [
      "hyperopt.tpe INFO  build_posterior_wrapper took 0.000000 seconds\n",
      "hyperopt.tpe INFO  TPE using 72/72 trials with best loss 0.870840\n",
      "py4j.clientserver INFO  Closing down clientserver connection\n"
     ]
    },
    {
     "name": "stdout",
     "output_type": "stream",
     "text": [
      "  6%|▌         | 55/1000 [51:36<52:24:19, 199.64s/trial, best loss: 0.8708398689670123]"
     ]
    },
    {
     "name": "stderr",
     "output_type": "stream",
     "text": [
      "hyperopt.tpe INFO  build_posterior_wrapper took 0.003997 seconds\n",
      "hyperopt.tpe INFO  TPE using 73/73 trials with best loss 0.870840\n",
      "py4j.clientserver INFO  Closing down clientserver connection\n"
     ]
    },
    {
     "name": "stdout",
     "output_type": "stream",
     "text": [
      "  6%|▌         | 56/1000 [51:41<37:04:29, 141.39s/trial, best loss: 0.8708398689670123]"
     ]
    },
    {
     "name": "stderr",
     "output_type": "stream",
     "text": [
      "hyperopt.tpe INFO  build_posterior_wrapper took 0.003001 seconds\n",
      "hyperopt.tpe INFO  TPE using 74/74 trials with best loss 0.870840\n",
      "py4j.clientserver INFO  Closing down clientserver connection\n"
     ]
    },
    {
     "name": "stdout",
     "output_type": "stream",
     "text": [
      "  6%|▌         | 57/1000 [51:46<26:20:24, 100.56s/trial, best loss: 0.8708398689670123]"
     ]
    },
    {
     "name": "stderr",
     "output_type": "stream",
     "text": [
      "hyperopt.tpe INFO  build_posterior_wrapper took 0.001999 seconds\n",
      "hyperopt.tpe INFO  TPE using 75/75 trials with best loss 0.870840\n",
      "py4j.clientserver INFO  Closing down clientserver connection\n"
     ]
    },
    {
     "name": "stdout",
     "output_type": "stream",
     "text": [
      "  6%|▌         | 58/1000 [52:15<20:43:48, 79.22s/trial, best loss: 0.8708398689670123] "
     ]
    },
    {
     "name": "stderr",
     "output_type": "stream",
     "text": [
      "hyperopt.tpe INFO  build_posterior_wrapper took 0.003001 seconds\n",
      "hyperopt.tpe INFO  TPE using 76/76 trials with best loss 0.870840\n",
      "py4j.clientserver INFO  Closing down clientserver connection\n"
     ]
    },
    {
     "name": "stdout",
     "output_type": "stream",
     "text": [
      "  6%|▌         | 59/1000 [52:24<15:13:06, 58.22s/trial, best loss: 0.8708398689670123]"
     ]
    },
    {
     "name": "stderr",
     "output_type": "stream",
     "text": [
      "hyperopt.tpe INFO  build_posterior_wrapper took 0.003001 seconds\n",
      "hyperopt.tpe INFO  TPE using 77/77 trials with best loss 0.870840\n",
      "py4j.clientserver INFO  Closing down clientserver connection\n"
     ]
    },
    {
     "name": "stdout",
     "output_type": "stream",
     "text": [
      "  6%|▌         | 60/1000 [52:26<10:43:36, 41.08s/trial, best loss: 0.8708398689670123]"
     ]
    },
    {
     "name": "stderr",
     "output_type": "stream",
     "text": [
      "hyperopt.tpe INFO  build_posterior_wrapper took 0.004000 seconds\n",
      "hyperopt.tpe INFO  TPE using 78/78 trials with best loss 0.870840\n",
      "py4j.clientserver INFO  Closing down clientserver connection\n"
     ]
    },
    {
     "name": "stdout",
     "output_type": "stream",
     "text": [
      "  6%|▌         | 61/1000 [52:31<7:54:06, 30.29s/trial, best loss: 0.8708398689670123] "
     ]
    },
    {
     "name": "stderr",
     "output_type": "stream",
     "text": [
      "hyperopt.tpe INFO  build_posterior_wrapper took 0.003000 seconds\n",
      "hyperopt.tpe INFO  TPE using 79/79 trials with best loss 0.870840\n",
      "py4j.clientserver INFO  Closing down clientserver connection\n"
     ]
    },
    {
     "name": "stdout",
     "output_type": "stream",
     "text": [
      "  6%|▌         | 62/1000 [52:44<6:33:32, 25.17s/trial, best loss: 0.8708398689670123]"
     ]
    },
    {
     "name": "stderr",
     "output_type": "stream",
     "text": [
      "hyperopt.tpe INFO  build_posterior_wrapper took 0.003999 seconds\n",
      "hyperopt.tpe INFO  TPE using 80/80 trials with best loss 0.870840\n",
      "py4j.clientserver INFO  Closing down clientserver connection\n"
     ]
    },
    {
     "name": "stdout",
     "output_type": "stream",
     "text": [
      "  6%|▋         | 63/1000 [52:46<4:44:53, 18.24s/trial, best loss: 0.8708398689670123]"
     ]
    },
    {
     "name": "stderr",
     "output_type": "stream",
     "text": [
      "hyperopt.tpe INFO  build_posterior_wrapper took 0.003001 seconds\n",
      "hyperopt.tpe INFO  TPE using 81/81 trials with best loss 0.870840\n",
      "py4j.clientserver INFO  Closing down clientserver connection\n",
      "py4j.clientserver INFO  Closing down clientserver connection\n",
      "py4j.clientserver INFO  Closing down clientserver connection\n"
     ]
    },
    {
     "name": "stdout",
     "output_type": "stream",
     "text": [
      "  7%|▋         | 66/1000 [52:58<2:39:48, 10.27s/trial, best loss: 0.8708398689670123]"
     ]
    },
    {
     "name": "stderr",
     "output_type": "stream",
     "text": [
      "hyperopt.tpe INFO  build_posterior_wrapper took 0.003002 seconds\n",
      "hyperopt.tpe INFO  TPE using 82/82 trials with best loss 0.870840\n",
      "hyperopt.tpe INFO  build_posterior_wrapper took 0.002000 seconds\n",
      "hyperopt.tpe INFO  TPE using 83/83 trials with best loss 0.870840\n",
      "hyperopt.tpe INFO  build_posterior_wrapper took 0.003001 seconds\n",
      "hyperopt.tpe INFO  TPE using 84/84 trials with best loss 0.870840\n",
      "py4j.clientserver INFO  Closing down clientserver connection\n"
     ]
    },
    {
     "name": "stdout",
     "output_type": "stream",
     "text": [
      "  7%|▋         | 67/1000 [53:20<3:16:07, 12.61s/trial, best loss: 0.8708398689670123]"
     ]
    },
    {
     "name": "stderr",
     "output_type": "stream",
     "text": [
      "hyperopt.tpe INFO  build_posterior_wrapper took 0.002998 seconds\n",
      "hyperopt.tpe INFO  TPE using 85/85 trials with best loss 0.870840\n",
      "py4j.clientserver INFO  Closing down clientserver connection\n"
     ]
    },
    {
     "name": "stdout",
     "output_type": "stream",
     "text": [
      "  7%|▋         | 68/1000 [53:24<2:45:11, 10.63s/trial, best loss: 0.8708398689670123]"
     ]
    },
    {
     "name": "stderr",
     "output_type": "stream",
     "text": [
      "hyperopt.tpe INFO  build_posterior_wrapper took 0.005003 seconds\n",
      "hyperopt.tpe INFO  TPE using 86/86 trials with best loss 0.870840\n",
      "py4j.clientserver INFO  Closing down clientserver connection\n"
     ]
    },
    {
     "name": "stdout",
     "output_type": "stream",
     "text": [
      "  7%|▋         | 69/1000 [53:39<3:02:23, 11.75s/trial, best loss: 0.8708398689670123]"
     ]
    },
    {
     "name": "stderr",
     "output_type": "stream",
     "text": [
      "hyperopt.tpe INFO  build_posterior_wrapper took 0.000000 seconds\n",
      "hyperopt.tpe INFO  TPE using 87/87 trials with best loss 0.870840\n",
      "py4j.clientserver INFO  Closing down clientserver connection\n"
     ]
    },
    {
     "name": "stdout",
     "output_type": "stream",
     "text": [
      "  7%|▋         | 70/1000 [53:42<2:26:50,  9.47s/trial, best loss: 0.8693258786228165]"
     ]
    },
    {
     "name": "stderr",
     "output_type": "stream",
     "text": [
      "hyperopt.tpe INFO  build_posterior_wrapper took 0.000000 seconds\n",
      "hyperopt.tpe INFO  TPE using 88/88 trials with best loss 0.869326\n",
      "py4j.clientserver INFO  Closing down clientserver connection\n"
     ]
    },
    {
     "name": "stdout",
     "output_type": "stream",
     "text": [
      "  7%|▋         | 71/1000 [53:49<2:16:32,  8.82s/trial, best loss: 0.8693258786228165]"
     ]
    },
    {
     "name": "stderr",
     "output_type": "stream",
     "text": [
      "hyperopt.tpe INFO  build_posterior_wrapper took 0.000000 seconds\n",
      "hyperopt.tpe INFO  TPE using 89/89 trials with best loss 0.869326\n",
      "py4j.clientserver INFO  Closing down clientserver connection\n"
     ]
    },
    {
     "name": "stdout",
     "output_type": "stream",
     "text": [
      "  7%|▋         | 72/1000 [54:13<3:22:49, 13.11s/trial, best loss: 0.8693258786228165]"
     ]
    },
    {
     "name": "stderr",
     "output_type": "stream",
     "text": [
      "hyperopt.tpe INFO  build_posterior_wrapper took 0.000000 seconds\n",
      "hyperopt.tpe INFO  TPE using 90/90 trials with best loss 0.869326\n",
      "py4j.clientserver INFO  Closing down clientserver connection\n",
      "py4j.clientserver INFO  Closing down clientserver connection\n"
     ]
    },
    {
     "name": "stdout",
     "output_type": "stream",
     "text": [
      "  7%|▋         | 74/1000 [1:04:27<37:00:22, 143.87s/trial, best loss: 0.8693258786228165]"
     ]
    },
    {
     "name": "stderr",
     "output_type": "stream",
     "text": [
      "hyperopt.tpe INFO  build_posterior_wrapper took 0.000000 seconds\n",
      "hyperopt.tpe INFO  TPE using 91/91 trials with best loss 0.869326\n",
      "hyperopt.tpe INFO  build_posterior_wrapper took 0.000000 seconds\n",
      "hyperopt.tpe INFO  TPE using 92/92 trials with best loss 0.869326\n",
      "py4j.clientserver INFO  Closing down clientserver connection\n"
     ]
    },
    {
     "name": "stdout",
     "output_type": "stream",
     "text": [
      "  8%|▊         | 75/1000 [1:04:44<29:03:22, 113.08s/trial, best loss: 0.8693258786228165]"
     ]
    },
    {
     "name": "stderr",
     "output_type": "stream",
     "text": [
      "hyperopt.tpe INFO  build_posterior_wrapper took 0.000000 seconds\n",
      "hyperopt.tpe INFO  TPE using 93/93 trials with best loss 0.869326\n",
      "py4j.clientserver INFO  Closing down clientserver connection\n"
     ]
    },
    {
     "name": "stdout",
     "output_type": "stream",
     "text": [
      "  8%|▊         | 76/1000 [1:05:20<23:58:21, 93.40s/trial, best loss: 0.8693258786228165] "
     ]
    },
    {
     "name": "stderr",
     "output_type": "stream",
     "text": [
      "hyperopt.tpe INFO  build_posterior_wrapper took 0.000000 seconds\n",
      "hyperopt.tpe INFO  TPE using 94/94 trials with best loss 0.869326\n",
      "py4j.clientserver INFO  Closing down clientserver connection\n"
     ]
    },
    {
     "name": "stdout",
     "output_type": "stream",
     "text": [
      "  8%|▊         | 77/1000 [1:05:41<18:59:09, 74.05s/trial, best loss: 0.8693258786228165]"
     ]
    },
    {
     "name": "stderr",
     "output_type": "stream",
     "text": [
      "hyperopt.tpe INFO  build_posterior_wrapper took 0.000000 seconds\n",
      "hyperopt.tpe INFO  TPE using 95/95 trials with best loss 0.869326\n",
      "py4j.clientserver INFO  Closing down clientserver connection\n"
     ]
    },
    {
     "name": "stdout",
     "output_type": "stream",
     "text": [
      "  8%|▊         | 78/1000 [1:05:44<13:56:02, 54.41s/trial, best loss: 0.8693258786228165]"
     ]
    },
    {
     "name": "stderr",
     "output_type": "stream",
     "text": [
      "hyperopt.tpe INFO  build_posterior_wrapper took 0.000000 seconds\n",
      "hyperopt.tpe INFO  TPE using 96/96 trials with best loss 0.869326\n",
      "py4j.clientserver INFO  Closing down clientserver connection\n"
     ]
    },
    {
     "name": "stdout",
     "output_type": "stream",
     "text": [
      "  8%|▊         | 79/1000 [1:05:49<10:20:35, 40.43s/trial, best loss: 0.8693258786228165]"
     ]
    },
    {
     "name": "stderr",
     "output_type": "stream",
     "text": [
      "hyperopt.tpe INFO  build_posterior_wrapper took 0.000000 seconds\n",
      "hyperopt.tpe INFO  TPE using 97/97 trials with best loss 0.869326\n",
      "py4j.clientserver INFO  Closing down clientserver connection\n"
     ]
    },
    {
     "name": "stdout",
     "output_type": "stream",
     "text": [
      "  8%|▊         | 80/1000 [1:05:57<7:56:57, 31.11s/trial, best loss: 0.8693258786228165] "
     ]
    },
    {
     "name": "stderr",
     "output_type": "stream",
     "text": [
      "hyperopt.tpe INFO  build_posterior_wrapper took 0.000000 seconds\n",
      "hyperopt.tpe INFO  TPE using 98/98 trials with best loss 0.869326\n",
      "py4j.clientserver INFO  Closing down clientserver connection\n"
     ]
    },
    {
     "name": "stdout",
     "output_type": "stream",
     "text": [
      "  8%|▊         | 81/1000 [1:05:59<5:46:41, 22.63s/trial, best loss: 0.8693258786228165]"
     ]
    },
    {
     "name": "stderr",
     "output_type": "stream",
     "text": [
      "hyperopt.tpe INFO  build_posterior_wrapper took 0.003000 seconds\n",
      "hyperopt.tpe INFO  TPE using 99/99 trials with best loss 0.869326\n",
      "py4j.clientserver INFO  Closing down clientserver connection\n"
     ]
    },
    {
     "name": "stdout",
     "output_type": "stream",
     "text": [
      "  8%|▊         | 82/1000 [1:06:12<5:03:48, 19.86s/trial, best loss: 0.8693258786228165]"
     ]
    },
    {
     "name": "stderr",
     "output_type": "stream",
     "text": [
      "py4j.clientserver INFO  Closing down clientserver connection\n"
     ]
    },
    {
     "name": "stdout",
     "output_type": "stream",
     "text": [
      "  8%|▊         | 83/1000 [1:06:13<3:38:17, 14.28s/trial, best loss: 0.8693258786228165]"
     ]
    },
    {
     "name": "stderr",
     "output_type": "stream",
     "text": [
      "hyperopt.tpe INFO  build_posterior_wrapper took 0.002999 seconds\n",
      "hyperopt.tpe INFO  TPE using 100/100 trials with best loss 0.869326\n",
      "hyperopt.tpe INFO  build_posterior_wrapper took 0.002998 seconds\n",
      "hyperopt.tpe INFO  TPE using 101/101 trials with best loss 0.869326\n",
      "py4j.clientserver INFO  Closing down clientserver connection\n"
     ]
    },
    {
     "name": "stdout",
     "output_type": "stream",
     "text": [
      "  8%|▊         | 84/1000 [1:06:17<2:47:26, 10.97s/trial, best loss: 0.8693258786228165]"
     ]
    },
    {
     "name": "stderr",
     "output_type": "stream",
     "text": [
      "hyperopt.tpe INFO  build_posterior_wrapper took 0.004002 seconds\n",
      "hyperopt.tpe INFO  TPE using 102/102 trials with best loss 0.869326\n",
      "py4j.clientserver INFO  Closing down clientserver connection\n"
     ]
    },
    {
     "name": "stdout",
     "output_type": "stream",
     "text": [
      "  8%|▊         | 85/1000 [1:06:21<2:16:03,  8.92s/trial, best loss: 0.8693258786228165]"
     ]
    },
    {
     "name": "stderr",
     "output_type": "stream",
     "text": [
      "hyperopt.tpe INFO  build_posterior_wrapper took 0.003001 seconds\n",
      "hyperopt.tpe INFO  TPE using 103/103 trials with best loss 0.869326\n",
      "py4j.clientserver INFO  Closing down clientserver connection\n"
     ]
    },
    {
     "name": "stdout",
     "output_type": "stream",
     "text": [
      "  9%|▊         | 86/1000 [1:06:29<2:12:19,  8.69s/trial, best loss: 0.8693258786228165]"
     ]
    },
    {
     "name": "stderr",
     "output_type": "stream",
     "text": [
      "hyperopt.tpe INFO  build_posterior_wrapper took 0.002998 seconds\n",
      "hyperopt.tpe INFO  TPE using 104/104 trials with best loss 0.869326\n",
      "py4j.clientserver INFO  Closing down clientserver connection\n"
     ]
    },
    {
     "name": "stdout",
     "output_type": "stream",
     "text": [
      "  9%|▊         | 87/1000 [1:06:35<2:00:28,  7.92s/trial, best loss: 0.8693258786228165]"
     ]
    },
    {
     "name": "stderr",
     "output_type": "stream",
     "text": [
      "hyperopt.tpe INFO  build_posterior_wrapper took 0.004000 seconds\n",
      "hyperopt.tpe INFO  TPE using 105/105 trials with best loss 0.869326\n",
      "py4j.clientserver INFO  Closing down clientserver connection\n"
     ]
    },
    {
     "name": "stdout",
     "output_type": "stream",
     "text": [
      "  9%|▉         | 88/1000 [1:07:06<3:47:16, 14.95s/trial, best loss: 0.8693258786228165]"
     ]
    },
    {
     "name": "stderr",
     "output_type": "stream",
     "text": [
      "hyperopt.tpe INFO  build_posterior_wrapper took 0.004002 seconds\n",
      "hyperopt.tpe INFO  TPE using 106/106 trials with best loss 0.869326\n",
      "py4j.clientserver INFO  Closing down clientserver connection\n"
     ]
    },
    {
     "name": "stdout",
     "output_type": "stream",
     "text": [
      "  9%|▉         | 89/1000 [1:07:41<5:15:24, 20.77s/trial, best loss: 0.8693258786228165]"
     ]
    },
    {
     "name": "stderr",
     "output_type": "stream",
     "text": [
      "hyperopt.tpe INFO  build_posterior_wrapper took 0.003000 seconds\n",
      "hyperopt.tpe INFO  TPE using 107/107 trials with best loss 0.869326\n",
      "py4j.clientserver INFO  Closing down clientserver connection\n"
     ]
    },
    {
     "name": "stdout",
     "output_type": "stream",
     "text": [
      "  9%|▉         | 90/1000 [1:07:42<3:45:28, 14.87s/trial, best loss: 0.8693258786228165]"
     ]
    },
    {
     "name": "stderr",
     "output_type": "stream",
     "text": [
      "hyperopt.tpe INFO  build_posterior_wrapper took 0.001999 seconds\n",
      "hyperopt.tpe INFO  TPE using 108/108 trials with best loss 0.869326\n",
      "py4j.clientserver INFO  Closing down clientserver connection\n"
     ]
    },
    {
     "name": "stdout",
     "output_type": "stream",
     "text": [
      "  9%|▉         | 91/1000 [1:17:25<46:44:31, 185.12s/trial, best loss: 0.8693258786228165]"
     ]
    },
    {
     "name": "stderr",
     "output_type": "stream",
     "text": [
      "hyperopt.tpe INFO  build_posterior_wrapper took 0.000000 seconds\n",
      "hyperopt.tpe INFO  TPE using 109/109 trials with best loss 0.869326\n",
      "py4j.clientserver INFO  Closing down clientserver connection\n"
     ]
    },
    {
     "name": "stdout",
     "output_type": "stream",
     "text": [
      "  9%|▉         | 92/1000 [1:17:57<35:07:49, 139.28s/trial, best loss: 0.8693258786228165]"
     ]
    },
    {
     "name": "stderr",
     "output_type": "stream",
     "text": [
      "hyperopt.tpe INFO  build_posterior_wrapper took 0.000000 seconds\n",
      "hyperopt.tpe INFO  TPE using 110/110 trials with best loss 0.869326\n",
      "py4j.clientserver INFO  Closing down clientserver connection\n"
     ]
    },
    {
     "name": "stdout",
     "output_type": "stream",
     "text": [
      "  9%|▉         | 93/1000 [1:18:12<25:42:38, 102.05s/trial, best loss: 0.8693258786228165]"
     ]
    },
    {
     "name": "stderr",
     "output_type": "stream",
     "text": [
      "hyperopt.tpe INFO  build_posterior_wrapper took 0.000000 seconds\n",
      "hyperopt.tpe INFO  TPE using 111/111 trials with best loss 0.869326\n",
      "py4j.clientserver INFO  Closing down clientserver connection\n"
     ]
    },
    {
     "name": "stdout",
     "output_type": "stream",
     "text": [
      "  9%|▉         | 94/1000 [1:18:43<20:20:20, 80.82s/trial, best loss: 0.8693258786228165] "
     ]
    },
    {
     "name": "stderr",
     "output_type": "stream",
     "text": [
      "hyperopt.tpe INFO  build_posterior_wrapper took 0.000000 seconds\n",
      "hyperopt.tpe INFO  TPE using 112/112 trials with best loss 0.869326\n",
      "py4j.clientserver INFO  Closing down clientserver connection\n"
     ]
    },
    {
     "name": "stdout",
     "output_type": "stream",
     "text": [
      " 10%|▉         | 95/1000 [1:18:49<14:40:53, 58.40s/trial, best loss: 0.8693258786228165]"
     ]
    },
    {
     "name": "stderr",
     "output_type": "stream",
     "text": [
      "hyperopt.tpe INFO  build_posterior_wrapper took 0.000000 seconds\n",
      "hyperopt.tpe INFO  TPE using 113/113 trials with best loss 0.869326\n",
      "py4j.clientserver INFO  Closing down clientserver connection\n"
     ]
    },
    {
     "name": "stdout",
     "output_type": "stream",
     "text": [
      " 10%|▉         | 96/1000 [1:18:52<10:29:51, 41.80s/trial, best loss: 0.8693258786228165]"
     ]
    },
    {
     "name": "stderr",
     "output_type": "stream",
     "text": [
      "hyperopt.tpe INFO  build_posterior_wrapper took 0.000000 seconds\n",
      "hyperopt.tpe INFO  TPE using 114/114 trials with best loss 0.869326\n",
      "py4j.clientserver INFO  Closing down clientserver connection\n"
     ]
    },
    {
     "name": "stdout",
     "output_type": "stream",
     "text": [
      " 10%|▉         | 97/1000 [1:19:03<8:10:35, 32.60s/trial, best loss: 0.8693258786228165] "
     ]
    },
    {
     "name": "stderr",
     "output_type": "stream",
     "text": [
      "hyperopt.tpe INFO  build_posterior_wrapper took 0.000000 seconds\n",
      "hyperopt.tpe INFO  TPE using 115/115 trials with best loss 0.869326\n",
      "py4j.clientserver INFO  Closing down clientserver connection\n"
     ]
    },
    {
     "name": "stdout",
     "output_type": "stream",
     "text": [
      " 10%|▉         | 98/1000 [1:19:07<5:56:50, 23.74s/trial, best loss: 0.8693258786228165]"
     ]
    },
    {
     "name": "stderr",
     "output_type": "stream",
     "text": [
      "hyperopt.tpe INFO  build_posterior_wrapper took 0.000000 seconds\n",
      "hyperopt.tpe INFO  TPE using 116/116 trials with best loss 0.869326\n",
      "py4j.clientserver INFO  Closing down clientserver connection\n"
     ]
    },
    {
     "name": "stdout",
     "output_type": "stream",
     "text": [
      " 10%|▉         | 99/1000 [1:19:09<4:18:47, 17.23s/trial, best loss: 0.8693258786228165]"
     ]
    },
    {
     "name": "stderr",
     "output_type": "stream",
     "text": [
      "hyperopt.tpe INFO  build_posterior_wrapper took 0.000000 seconds\n",
      "hyperopt.tpe INFO  TPE using 117/117 trials with best loss 0.869326\n",
      "py4j.clientserver INFO  Closing down clientserver connection\n"
     ]
    },
    {
     "name": "stdout",
     "output_type": "stream",
     "text": [
      " 10%|█         | 100/1000 [1:19:15<3:28:14, 13.88s/trial, best loss: 0.8693258786228165]"
     ]
    },
    {
     "name": "stderr",
     "output_type": "stream",
     "text": [
      "hyperopt.tpe INFO  build_posterior_wrapper took 0.000000 seconds\n",
      "hyperopt.tpe INFO  TPE using 118/118 trials with best loss 0.869326\n",
      "py4j.clientserver INFO  Closing down clientserver connection\n"
     ]
    },
    {
     "name": "stdout",
     "output_type": "stream",
     "text": [
      " 10%|█         | 101/1000 [1:19:22<2:57:33, 11.85s/trial, best loss: 0.8693258786228165]"
     ]
    },
    {
     "name": "stderr",
     "output_type": "stream",
     "text": [
      "hyperopt.tpe INFO  build_posterior_wrapper took 0.000000 seconds\n",
      "hyperopt.tpe INFO  TPE using 119/119 trials with best loss 0.869326\n",
      "py4j.clientserver INFO  Closing down clientserver connection\n"
     ]
    },
    {
     "name": "stdout",
     "output_type": "stream",
     "text": [
      " 10%|█         | 102/1000 [1:19:31<2:45:07, 11.03s/trial, best loss: 0.8693258786228165]"
     ]
    },
    {
     "name": "stderr",
     "output_type": "stream",
     "text": [
      "hyperopt.tpe INFO  build_posterior_wrapper took 0.000000 seconds\n",
      "hyperopt.tpe INFO  TPE using 120/120 trials with best loss 0.869326\n",
      "py4j.clientserver INFO  Closing down clientserver connection\n"
     ]
    },
    {
     "name": "stdout",
     "output_type": "stream",
     "text": [
      " 10%|█         | 103/1000 [1:19:39<2:31:56, 10.16s/trial, best loss: 0.8693258786228165]"
     ]
    },
    {
     "name": "stderr",
     "output_type": "stream",
     "text": [
      "hyperopt.tpe INFO  build_posterior_wrapper took 0.000000 seconds\n",
      "hyperopt.tpe INFO  TPE using 121/121 trials with best loss 0.869326\n",
      "py4j.clientserver INFO  Closing down clientserver connection\n"
     ]
    },
    {
     "name": "stdout",
     "output_type": "stream",
     "text": [
      " 10%|█         | 104/1000 [1:19:48<2:26:58,  9.84s/trial, best loss: 0.8693258786228165]"
     ]
    },
    {
     "name": "stderr",
     "output_type": "stream",
     "text": [
      "hyperopt.tpe INFO  build_posterior_wrapper took 0.000000 seconds\n",
      "hyperopt.tpe INFO  TPE using 122/122 trials with best loss 0.869326\n",
      "py4j.clientserver INFO  Closing down clientserver connection\n"
     ]
    },
    {
     "name": "stdout",
     "output_type": "stream",
     "text": [
      " 10%|█         | 105/1000 [1:20:00<2:36:57, 10.52s/trial, best loss: 0.8693258786228165]"
     ]
    },
    {
     "name": "stderr",
     "output_type": "stream",
     "text": [
      "hyperopt.tpe INFO  build_posterior_wrapper took 0.000000 seconds\n",
      "hyperopt.tpe INFO  TPE using 123/123 trials with best loss 0.869326\n",
      "py4j.clientserver INFO  Closing down clientserver connection\n"
     ]
    },
    {
     "name": "stdout",
     "output_type": "stream",
     "text": [
      " 11%|█         | 106/1000 [1:20:22<3:29:05, 14.03s/trial, best loss: 0.8693258786228165]"
     ]
    },
    {
     "name": "stderr",
     "output_type": "stream",
     "text": [
      "hyperopt.tpe INFO  build_posterior_wrapper took 0.000000 seconds\n",
      "hyperopt.tpe INFO  TPE using 124/124 trials with best loss 0.869326\n",
      "py4j.clientserver INFO  Closing down clientserver connection\n"
     ]
    },
    {
     "name": "stdout",
     "output_type": "stream",
     "text": [
      " 11%|█         | 107/1000 [1:20:45<4:05:24, 16.49s/trial, best loss: 0.8693258786228165]"
     ]
    },
    {
     "name": "stderr",
     "output_type": "stream",
     "text": [
      "hyperopt.tpe INFO  build_posterior_wrapper took 0.000000 seconds\n",
      "hyperopt.tpe INFO  TPE using 125/125 trials with best loss 0.869326\n",
      "py4j.clientserver INFO  Closing down clientserver connection\n"
     ]
    },
    {
     "name": "stdout",
     "output_type": "stream",
     "text": [
      " 11%|█         | 108/1000 [1:21:41<7:03:00, 28.45s/trial, best loss: 0.8693258786228165]"
     ]
    },
    {
     "name": "stderr",
     "output_type": "stream",
     "text": [
      "hyperopt.tpe INFO  build_posterior_wrapper took 0.000000 seconds\n",
      "hyperopt.tpe INFO  TPE using 126/126 trials with best loss 0.869326\n",
      "py4j.clientserver INFO  Closing down clientserver connection\n"
     ]
    },
    {
     "name": "stdout",
     "output_type": "stream",
     "text": [
      " 11%|█         | 109/1000 [1:30:49<45:37:36, 184.35s/trial, best loss: 0.8693258786228165]"
     ]
    },
    {
     "name": "stderr",
     "output_type": "stream",
     "text": [
      "hyperopt.tpe INFO  build_posterior_wrapper took 0.000000 seconds\n",
      "hyperopt.tpe INFO  TPE using 127/127 trials with best loss 0.869326\n",
      "py4j.clientserver INFO  Closing down clientserver connection\n"
     ]
    },
    {
     "name": "stdout",
     "output_type": "stream",
     "text": [
      " 11%|█         | 110/1000 [1:30:54<32:16:42, 130.56s/trial, best loss: 0.8693258786228165]"
     ]
    },
    {
     "name": "stderr",
     "output_type": "stream",
     "text": [
      "hyperopt.tpe INFO  build_posterior_wrapper took 0.000000 seconds\n",
      "hyperopt.tpe INFO  TPE using 128/128 trials with best loss 0.869326\n",
      "py4j.clientserver INFO  Closing down clientserver connection\n"
     ]
    },
    {
     "name": "stdout",
     "output_type": "stream",
     "text": [
      " 11%|█         | 111/1000 [1:31:03<23:14:35, 94.12s/trial, best loss: 0.8693258786228165] "
     ]
    },
    {
     "name": "stderr",
     "output_type": "stream",
     "text": [
      "hyperopt.tpe INFO  build_posterior_wrapper took 0.000000 seconds\n",
      "hyperopt.tpe INFO  TPE using 129/129 trials with best loss 0.869326\n",
      "py4j.clientserver INFO  Closing down clientserver connection\n"
     ]
    },
    {
     "name": "stdout",
     "output_type": "stream",
     "text": [
      " 11%|█         | 112/1000 [1:31:38<18:47:21, 76.17s/trial, best loss: 0.8693258786228165]"
     ]
    },
    {
     "name": "stderr",
     "output_type": "stream",
     "text": [
      "hyperopt.tpe INFO  build_posterior_wrapper took 0.000000 seconds\n",
      "hyperopt.tpe INFO  TPE using 130/130 trials with best loss 0.869326\n",
      "py4j.clientserver INFO  Closing down clientserver connection\n"
     ]
    },
    {
     "name": "stdout",
     "output_type": "stream",
     "text": [
      " 11%|█▏        | 113/1000 [1:31:47<13:48:40, 56.05s/trial, best loss: 0.8693258786228165]"
     ]
    },
    {
     "name": "stderr",
     "output_type": "stream",
     "text": [
      "hyperopt.tpe INFO  build_posterior_wrapper took 0.000000 seconds\n",
      "hyperopt.tpe INFO  TPE using 131/131 trials with best loss 0.869326\n",
      "py4j.clientserver INFO  Closing down clientserver connection\n"
     ]
    },
    {
     "name": "stdout",
     "output_type": "stream",
     "text": [
      " 11%|█▏        | 114/1000 [1:31:52<10:01:48, 40.75s/trial, best loss: 0.8693258786228165]"
     ]
    },
    {
     "name": "stderr",
     "output_type": "stream",
     "text": [
      "hyperopt.tpe INFO  build_posterior_wrapper took 0.000000 seconds\n",
      "hyperopt.tpe INFO  TPE using 132/132 trials with best loss 0.869326\n",
      "py4j.clientserver INFO  Closing down clientserver connection\n"
     ]
    },
    {
     "name": "stdout",
     "output_type": "stream",
     "text": [
      " 12%|█▏        | 115/1000 [1:31:57<7:23:19, 30.06s/trial, best loss: 0.8693258786228165] "
     ]
    },
    {
     "name": "stderr",
     "output_type": "stream",
     "text": [
      "py4j.clientserver INFO  Closing down clientserver connection\n"
     ]
    },
    {
     "name": "stdout",
     "output_type": "stream",
     "text": [
      " 12%|█▏        | 116/1000 [1:31:58<5:14:24, 21.34s/trial, best loss: 0.8693258786228165]"
     ]
    },
    {
     "name": "stderr",
     "output_type": "stream",
     "text": [
      "hyperopt.tpe INFO  build_posterior_wrapper took 0.000000 seconds\n",
      "hyperopt.tpe INFO  TPE using 133/133 trials with best loss 0.869326\n",
      "hyperopt.tpe INFO  build_posterior_wrapper took 0.000000 seconds\n",
      "hyperopt.tpe INFO  TPE using 134/134 trials with best loss 0.869326\n",
      "py4j.clientserver INFO  Closing down clientserver connection\n"
     ]
    },
    {
     "name": "stdout",
     "output_type": "stream",
     "text": [
      " 12%|█▏        | 117/1000 [1:32:07<4:20:18, 17.69s/trial, best loss: 0.8693258786228165]"
     ]
    },
    {
     "name": "stderr",
     "output_type": "stream",
     "text": [
      "py4j.clientserver INFO  Closing down clientserver connection\n"
     ]
    },
    {
     "name": "stdout",
     "output_type": "stream",
     "text": [
      " 12%|█▏        | 118/1000 [1:32:08<3:06:27, 12.68s/trial, best loss: 0.8693258786228165]"
     ]
    },
    {
     "name": "stderr",
     "output_type": "stream",
     "text": [
      "hyperopt.tpe INFO  build_posterior_wrapper took 0.003998 seconds\n",
      "hyperopt.tpe INFO  TPE using 135/135 trials with best loss 0.869326\n",
      "hyperopt.tpe INFO  build_posterior_wrapper took 0.003002 seconds\n",
      "hyperopt.tpe INFO  TPE using 136/136 trials with best loss 0.869326\n",
      "py4j.clientserver INFO  Closing down clientserver connection\n"
     ]
    },
    {
     "name": "stdout",
     "output_type": "stream",
     "text": [
      " 12%|█▏        | 119/1000 [1:32:11<2:24:09,  9.82s/trial, best loss: 0.8693258786228165]"
     ]
    },
    {
     "name": "stderr",
     "output_type": "stream",
     "text": [
      "hyperopt.tpe INFO  build_posterior_wrapper took 0.004000 seconds\n",
      "hyperopt.tpe INFO  TPE using 137/137 trials with best loss 0.869326\n",
      "py4j.clientserver INFO  Closing down clientserver connection\n"
     ]
    },
    {
     "name": "stdout",
     "output_type": "stream",
     "text": [
      " 12%|█▏        | 120/1000 [1:32:35<3:23:28, 13.87s/trial, best loss: 0.8693258786228165]"
     ]
    },
    {
     "name": "stderr",
     "output_type": "stream",
     "text": [
      "hyperopt.tpe INFO  build_posterior_wrapper took 0.003002 seconds\n",
      "hyperopt.tpe INFO  TPE using 138/138 trials with best loss 0.869326\n",
      "py4j.clientserver INFO  Closing down clientserver connection\n"
     ]
    },
    {
     "name": "stdout",
     "output_type": "stream",
     "text": [
      " 12%|█▏        | 121/1000 [1:32:48<3:20:18, 13.67s/trial, best loss: 0.8693258786228165]"
     ]
    },
    {
     "name": "stderr",
     "output_type": "stream",
     "text": [
      "hyperopt.tpe INFO  build_posterior_wrapper took 0.003002 seconds\n",
      "hyperopt.tpe INFO  TPE using 139/139 trials with best loss 0.869326\n",
      "py4j.clientserver INFO  Closing down clientserver connection\n"
     ]
    },
    {
     "name": "stdout",
     "output_type": "stream",
     "text": [
      " 12%|█▏        | 122/1000 [1:32:57<3:00:16, 12.32s/trial, best loss: 0.8693258786228165]"
     ]
    },
    {
     "name": "stderr",
     "output_type": "stream",
     "text": [
      "hyperopt.tpe INFO  build_posterior_wrapper took 0.000000 seconds\n",
      "hyperopt.tpe INFO  TPE using 140/140 trials with best loss 0.869326\n",
      "py4j.clientserver INFO  Closing down clientserver connection\n"
     ]
    },
    {
     "name": "stdout",
     "output_type": "stream",
     "text": [
      " 12%|█▏        | 123/1000 [1:33:05<2:41:42, 11.06s/trial, best loss: 0.8693258786228165]"
     ]
    },
    {
     "name": "stderr",
     "output_type": "stream",
     "text": [
      "hyperopt.tpe INFO  build_posterior_wrapper took 0.000000 seconds\n",
      "hyperopt.tpe INFO  TPE using 141/141 trials with best loss 0.869326\n",
      "py4j.clientserver INFO  Closing down clientserver connection\n"
     ]
    },
    {
     "name": "stdout",
     "output_type": "stream",
     "text": [
      " 12%|█▏        | 124/1000 [1:33:18<2:50:35, 11.68s/trial, best loss: 0.8693258786228165]"
     ]
    },
    {
     "name": "stderr",
     "output_type": "stream",
     "text": [
      "hyperopt.tpe INFO  build_posterior_wrapper took 0.000000 seconds\n",
      "hyperopt.tpe INFO  TPE using 142/142 trials with best loss 0.869326\n",
      "py4j.clientserver INFO  Closing down clientserver connection\n"
     ]
    },
    {
     "name": "stdout",
     "output_type": "stream",
     "text": [
      " 12%|█▎        | 125/1000 [1:34:25<6:49:44, 28.10s/trial, best loss: 0.8693258786228165]"
     ]
    },
    {
     "name": "stderr",
     "output_type": "stream",
     "text": [
      "hyperopt.tpe INFO  build_posterior_wrapper took 0.000000 seconds\n",
      "hyperopt.tpe INFO  TPE using 143/143 trials with best loss 0.869326\n",
      "py4j.clientserver INFO  Closing down clientserver connection\n"
     ]
    },
    {
     "name": "stdout",
     "output_type": "stream",
     "text": [
      " 13%|█▎        | 126/1000 [1:35:42<10:25:16, 42.93s/trial, best loss: 0.8693258786228165]"
     ]
    },
    {
     "name": "stderr",
     "output_type": "stream",
     "text": [
      "hyperopt.tpe INFO  build_posterior_wrapper took 0.000000 seconds\n",
      "hyperopt.tpe INFO  TPE using 144/144 trials with best loss 0.869326\n",
      "py4j.clientserver INFO  Closing down clientserver connection\n",
      "py4j.clientserver INFO  Closing down clientserver connection\n"
     ]
    },
    {
     "name": "stdout",
     "output_type": "stream",
     "text": [
      " 13%|█▎        | 128/1000 [1:44:19<34:30:34, 142.47s/trial, best loss: 0.8637904966541722]"
     ]
    },
    {
     "name": "stderr",
     "output_type": "stream",
     "text": [
      "hyperopt.tpe INFO  build_posterior_wrapper took 0.000000 seconds\n",
      "hyperopt.tpe INFO  TPE using 145/145 trials with best loss 0.863790\n",
      "hyperopt.tpe INFO  build_posterior_wrapper took 0.000000 seconds\n",
      "hyperopt.tpe INFO  TPE using 146/146 trials with best loss 0.863790\n",
      "py4j.clientserver INFO  Closing down clientserver connection\n"
     ]
    },
    {
     "name": "stdout",
     "output_type": "stream",
     "text": [
      " 13%|█▎        | 129/1000 [1:44:33<26:46:26, 110.66s/trial, best loss: 0.8637904966541722]"
     ]
    },
    {
     "name": "stderr",
     "output_type": "stream",
     "text": [
      "hyperopt.tpe INFO  build_posterior_wrapper took 0.000000 seconds\n",
      "hyperopt.tpe INFO  TPE using 147/147 trials with best loss 0.863790\n",
      "py4j.clientserver INFO  Closing down clientserver connection\n"
     ]
    },
    {
     "name": "stdout",
     "output_type": "stream",
     "text": [
      " 13%|█▎        | 130/1000 [1:44:57<21:12:57, 87.79s/trial, best loss: 0.8637904966541722] "
     ]
    },
    {
     "name": "stderr",
     "output_type": "stream",
     "text": [
      "hyperopt.tpe INFO  build_posterior_wrapper took 0.000000 seconds\n",
      "hyperopt.tpe INFO  TPE using 148/148 trials with best loss 0.863790\n",
      "py4j.clientserver INFO  Closing down clientserver connection\n"
     ]
    },
    {
     "name": "stdout",
     "output_type": "stream",
     "text": [
      " 13%|█▎        | 131/1000 [1:45:03<15:49:36, 65.57s/trial, best loss: 0.8637904966541722]"
     ]
    },
    {
     "name": "stderr",
     "output_type": "stream",
     "text": [
      "hyperopt.tpe INFO  build_posterior_wrapper took 0.000000 seconds\n",
      "hyperopt.tpe INFO  TPE using 149/149 trials with best loss 0.863790\n",
      "py4j.clientserver INFO  Closing down clientserver connection\n"
     ]
    },
    {
     "name": "stdout",
     "output_type": "stream",
     "text": [
      " 13%|█▎        | 132/1000 [1:45:09<11:47:44, 48.92s/trial, best loss: 0.8637904966541722]"
     ]
    },
    {
     "name": "stderr",
     "output_type": "stream",
     "text": [
      "hyperopt.tpe INFO  build_posterior_wrapper took 0.000000 seconds\n",
      "hyperopt.tpe INFO  TPE using 150/150 trials with best loss 0.863790\n",
      "py4j.clientserver INFO  Closing down clientserver connection\n"
     ]
    },
    {
     "name": "stdout",
     "output_type": "stream",
     "text": [
      " 13%|█▎        | 133/1000 [1:45:10<8:29:22, 35.25s/trial, best loss: 0.8637904966541722] "
     ]
    },
    {
     "name": "stderr",
     "output_type": "stream",
     "text": [
      "hyperopt.tpe INFO  build_posterior_wrapper took 0.000000 seconds\n",
      "hyperopt.tpe INFO  TPE using 151/151 trials with best loss 0.863790\n",
      "py4j.clientserver INFO  Closing down clientserver connection\n"
     ]
    },
    {
     "name": "stdout",
     "output_type": "stream",
     "text": [
      " 13%|█▎        | 134/1000 [1:45:23<6:56:16, 28.84s/trial, best loss: 0.8637904966541722]"
     ]
    },
    {
     "name": "stderr",
     "output_type": "stream",
     "text": [
      "hyperopt.tpe INFO  build_posterior_wrapper took 0.000000 seconds\n",
      "hyperopt.tpe INFO  TPE using 152/152 trials with best loss 0.863790\n",
      "py4j.clientserver INFO  Closing down clientserver connection\n"
     ]
    },
    {
     "name": "stdout",
     "output_type": "stream",
     "text": [
      " 14%|█▎        | 135/1000 [1:45:28<5:15:40, 21.90s/trial, best loss: 0.8637904966541722]"
     ]
    },
    {
     "name": "stderr",
     "output_type": "stream",
     "text": [
      "hyperopt.tpe INFO  build_posterior_wrapper took 0.000000 seconds\n",
      "hyperopt.tpe INFO  TPE using 153/153 trials with best loss 0.863790\n",
      "py4j.clientserver INFO  Closing down clientserver connection\n"
     ]
    },
    {
     "name": "stdout",
     "output_type": "stream",
     "text": [
      " 14%|█▎        | 136/1000 [1:45:29<3:46:42, 15.74s/trial, best loss: 0.8637904966541722]"
     ]
    },
    {
     "name": "stderr",
     "output_type": "stream",
     "text": [
      "hyperopt.tpe INFO  build_posterior_wrapper took 0.000000 seconds\n",
      "hyperopt.tpe INFO  TPE using 154/154 trials with best loss 0.863790\n",
      "py4j.clientserver INFO  Closing down clientserver connection\n"
     ]
    },
    {
     "name": "stdout",
     "output_type": "stream",
     "text": [
      " 14%|█▎        | 137/1000 [1:45:37<3:13:48, 13.47s/trial, best loss: 0.8637904966541722]"
     ]
    },
    {
     "name": "stderr",
     "output_type": "stream",
     "text": [
      "hyperopt.tpe INFO  build_posterior_wrapper took 0.000000 seconds\n",
      "hyperopt.tpe INFO  TPE using 155/155 trials with best loss 0.863790\n",
      "py4j.clientserver INFO  Closing down clientserver connection\n"
     ]
    },
    {
     "name": "stdout",
     "output_type": "stream",
     "text": [
      " 14%|█▍        | 138/1000 [1:45:44<2:46:20, 11.58s/trial, best loss: 0.8637904966541722]"
     ]
    },
    {
     "name": "stderr",
     "output_type": "stream",
     "text": [
      "hyperopt.tpe INFO  build_posterior_wrapper took 0.003999 seconds\n",
      "hyperopt.tpe INFO  TPE using 156/156 trials with best loss 0.863790\n",
      "py4j.clientserver INFO  Closing down clientserver connection\n"
     ]
    },
    {
     "name": "stdout",
     "output_type": "stream",
     "text": [
      " 14%|█▍        | 139/1000 [1:45:50<2:22:44,  9.95s/trial, best loss: 0.8637904966541722]"
     ]
    },
    {
     "name": "stderr",
     "output_type": "stream",
     "text": [
      "hyperopt.tpe INFO  build_posterior_wrapper took 0.003001 seconds\n",
      "hyperopt.tpe INFO  TPE using 157/157 trials with best loss 0.863790\n",
      "py4j.clientserver INFO  Closing down clientserver connection\n"
     ]
    },
    {
     "name": "stdout",
     "output_type": "stream",
     "text": [
      " 14%|█▍        | 140/1000 [1:46:03<2:32:18, 10.63s/trial, best loss: 0.8637904966541722]"
     ]
    },
    {
     "name": "stderr",
     "output_type": "stream",
     "text": [
      "hyperopt.tpe INFO  build_posterior_wrapper took 0.002997 seconds\n",
      "hyperopt.tpe INFO  TPE using 158/158 trials with best loss 0.863790\n",
      "py4j.clientserver INFO  Closing down clientserver connection\n"
     ]
    },
    {
     "name": "stdout",
     "output_type": "stream",
     "text": [
      " 14%|█▍        | 141/1000 [1:46:07<2:04:12,  8.68s/trial, best loss: 0.8637904966541722]"
     ]
    },
    {
     "name": "stderr",
     "output_type": "stream",
     "text": [
      "hyperopt.tpe INFO  build_posterior_wrapper took 0.004000 seconds\n",
      "hyperopt.tpe INFO  TPE using 159/159 trials with best loss 0.863790\n",
      "py4j.clientserver INFO  Closing down clientserver connection\n"
     ]
    },
    {
     "name": "stdout",
     "output_type": "stream",
     "text": [
      " 14%|█▍        | 142/1000 [1:46:54<4:49:53, 20.27s/trial, best loss: 0.8637904966541722]"
     ]
    },
    {
     "name": "stderr",
     "output_type": "stream",
     "text": [
      "hyperopt.tpe INFO  build_posterior_wrapper took 0.000000 seconds\n",
      "hyperopt.tpe INFO  TPE using 160/160 trials with best loss 0.863790\n",
      "py4j.clientserver INFO  Closing down clientserver connection\n"
     ]
    },
    {
     "name": "stdout",
     "output_type": "stream",
     "text": [
      " 14%|█▍        | 143/1000 [1:47:25<5:36:18, 23.55s/trial, best loss: 0.8637904966541722]"
     ]
    },
    {
     "name": "stderr",
     "output_type": "stream",
     "text": [
      "hyperopt.tpe INFO  build_posterior_wrapper took 0.000000 seconds\n",
      "hyperopt.tpe INFO  TPE using 161/161 trials with best loss 0.863790\n",
      "py4j.clientserver INFO  Closing down clientserver connection\n"
     ]
    },
    {
     "name": "stdout",
     "output_type": "stream",
     "text": [
      " 14%|█▍        | 144/1000 [1:48:40<9:14:51, 38.89s/trial, best loss: 0.8637904966541722]"
     ]
    },
    {
     "name": "stderr",
     "output_type": "stream",
     "text": [
      "hyperopt.tpe INFO  build_posterior_wrapper took 0.004001 seconds\n",
      "hyperopt.tpe INFO  TPE using 162/162 trials with best loss 0.863790\n",
      "py4j.clientserver INFO  Closing down clientserver connection\n"
     ]
    },
    {
     "name": "stdout",
     "output_type": "stream",
     "text": [
      " 14%|█▍        | 145/1000 [1:57:15<43:05:32, 181.44s/trial, best loss: 0.8637904966541722]"
     ]
    },
    {
     "name": "stderr",
     "output_type": "stream",
     "text": [
      "hyperopt.tpe INFO  build_posterior_wrapper took 0.002997 seconds\n",
      "hyperopt.tpe INFO  TPE using 163/163 trials with best loss 0.863790\n",
      "py4j.clientserver INFO  Closing down clientserver connection\n"
     ]
    },
    {
     "name": "stdout",
     "output_type": "stream",
     "text": [
      " 15%|█▍        | 146/1000 [1:57:19<30:25:39, 128.27s/trial, best loss: 0.8637904966541722]"
     ]
    },
    {
     "name": "stderr",
     "output_type": "stream",
     "text": [
      "hyperopt.tpe INFO  build_posterior_wrapper took 0.003000 seconds\n",
      "hyperopt.tpe INFO  TPE using 164/164 trials with best loss 0.863790\n",
      "py4j.clientserver INFO  Closing down clientserver connection\n"
     ]
    },
    {
     "name": "stdout",
     "output_type": "stream",
     "text": [
      " 15%|█▍        | 147/1000 [1:57:57<24:00:43, 101.34s/trial, best loss: 0.8637904966541722]"
     ]
    },
    {
     "name": "stderr",
     "output_type": "stream",
     "text": [
      "hyperopt.tpe INFO  build_posterior_wrapper took 0.002999 seconds\n",
      "hyperopt.tpe INFO  TPE using 165/165 trials with best loss 0.863790\n",
      "py4j.clientserver INFO  Closing down clientserver connection\n"
     ]
    },
    {
     "name": "stdout",
     "output_type": "stream",
     "text": [
      " 15%|█▍        | 148/1000 [1:57:58<16:52:00, 71.27s/trial, best loss: 0.8637904966541722] "
     ]
    },
    {
     "name": "stderr",
     "output_type": "stream",
     "text": [
      "hyperopt.tpe INFO  build_posterior_wrapper took 0.098999 seconds\n",
      "hyperopt.tpe INFO  TPE using 166/166 trials with best loss 0.863790\n",
      "py4j.clientserver INFO  Closing down clientserver connection\n"
     ]
    },
    {
     "name": "stdout",
     "output_type": "stream",
     "text": [
      " 15%|█▍        | 149/1000 [1:58:08<12:27:04, 52.67s/trial, best loss: 0.8637904966541722]"
     ]
    },
    {
     "name": "stderr",
     "output_type": "stream",
     "text": [
      "hyperopt.tpe INFO  build_posterior_wrapper took 0.004012 seconds\n",
      "hyperopt.tpe INFO  TPE using 167/167 trials with best loss 0.863790\n",
      "py4j.clientserver INFO  Closing down clientserver connection\n",
      "py4j.clientserver INFO  Closing down clientserver connection\n"
     ]
    },
    {
     "name": "stdout",
     "output_type": "stream",
     "text": [
      " 15%|█▌        | 151/1000 [1:58:13<6:58:05, 29.55s/trial, best loss: 0.8637904966541722] "
     ]
    },
    {
     "name": "stderr",
     "output_type": "stream",
     "text": [
      "hyperopt.tpe INFO  build_posterior_wrapper took 0.004000 seconds\n",
      "hyperopt.tpe INFO  TPE using 168/168 trials with best loss 0.863790\n",
      "hyperopt.tpe INFO  build_posterior_wrapper took 0.003995 seconds\n",
      "hyperopt.tpe INFO  TPE using 169/169 trials with best loss 0.863790\n",
      "py4j.clientserver INFO  Closing down clientserver connection\n"
     ]
    },
    {
     "name": "stdout",
     "output_type": "stream",
     "text": [
      " 15%|█▌        | 152/1000 [1:58:24<5:53:24, 25.01s/trial, best loss: 0.8637904966541722]"
     ]
    },
    {
     "name": "stderr",
     "output_type": "stream",
     "text": [
      "hyperopt.tpe INFO  build_posterior_wrapper took 0.003995 seconds\n",
      "hyperopt.tpe INFO  TPE using 170/170 trials with best loss 0.863790\n",
      "py4j.clientserver INFO  Closing down clientserver connection\n"
     ]
    },
    {
     "name": "stdout",
     "output_type": "stream",
     "text": [
      " 15%|█▌        | 153/1000 [1:58:30<4:43:18, 20.07s/trial, best loss: 0.8637904966541722]"
     ]
    },
    {
     "name": "stderr",
     "output_type": "stream",
     "text": [
      "hyperopt.tpe INFO  build_posterior_wrapper took 0.002999 seconds\n",
      "hyperopt.tpe INFO  TPE using 171/171 trials with best loss 0.863790\n",
      "py4j.clientserver INFO  Closing down clientserver connection\n"
     ]
    },
    {
     "name": "stdout",
     "output_type": "stream",
     "text": [
      " 15%|█▌        | 154/1000 [1:58:36<3:49:35, 16.28s/trial, best loss: 0.8637904966541722]"
     ]
    },
    {
     "name": "stderr",
     "output_type": "stream",
     "text": [
      "hyperopt.tpe INFO  build_posterior_wrapper took 0.004001 seconds\n",
      "hyperopt.tpe INFO  TPE using 172/172 trials with best loss 0.863790\n",
      "py4j.clientserver INFO  Closing down clientserver connection\n"
     ]
    },
    {
     "name": "stdout",
     "output_type": "stream",
     "text": [
      " 16%|█▌        | 155/1000 [1:59:00<4:21:03, 18.54s/trial, best loss: 0.8637904966541722]"
     ]
    },
    {
     "name": "stderr",
     "output_type": "stream",
     "text": [
      "hyperopt.tpe INFO  build_posterior_wrapper took 0.000000 seconds\n",
      "hyperopt.tpe INFO  TPE using 173/173 trials with best loss 0.863790\n",
      "py4j.clientserver INFO  Closing down clientserver connection\n"
     ]
    },
    {
     "name": "stdout",
     "output_type": "stream",
     "text": [
      " 16%|█▌        | 156/1000 [1:59:13<3:55:04, 16.71s/trial, best loss: 0.8637904966541722]"
     ]
    },
    {
     "name": "stderr",
     "output_type": "stream",
     "text": [
      "hyperopt.tpe INFO  build_posterior_wrapper took 0.000000 seconds\n",
      "hyperopt.tpe INFO  TPE using 174/174 trials with best loss 0.863790\n",
      "py4j.clientserver INFO  Closing down clientserver connection\n"
     ]
    },
    {
     "name": "stdout",
     "output_type": "stream",
     "text": [
      " 16%|█▌        | 157/1000 [1:59:39<4:33:23, 19.46s/trial, best loss: 0.8637904966541722]"
     ]
    },
    {
     "name": "stderr",
     "output_type": "stream",
     "text": [
      "hyperopt.tpe INFO  build_posterior_wrapper took 0.000000 seconds\n",
      "hyperopt.tpe INFO  TPE using 175/175 trials with best loss 0.863790\n",
      "py4j.clientserver INFO  Closing down clientserver connection\n"
     ]
    },
    {
     "name": "stdout",
     "output_type": "stream",
     "text": [
      " 16%|█▌        | 158/1000 [1:59:45<3:38:10, 15.55s/trial, best loss: 0.8637904966541722]"
     ]
    },
    {
     "name": "stderr",
     "output_type": "stream",
     "text": [
      "py4j.clientserver INFO  Closing down clientserver connection\n"
     ]
    },
    {
     "name": "stdout",
     "output_type": "stream",
     "text": [
      " 16%|█▌        | 159/1000 [1:59:46<2:37:49, 11.26s/trial, best loss: 0.8637904966541722]"
     ]
    },
    {
     "name": "stderr",
     "output_type": "stream",
     "text": [
      "hyperopt.tpe INFO  build_posterior_wrapper took 0.000000 seconds\n",
      "hyperopt.tpe INFO  TPE using 176/176 trials with best loss 0.863790\n",
      "hyperopt.tpe INFO  build_posterior_wrapper took 0.000000 seconds\n",
      "hyperopt.tpe INFO  TPE using 177/177 trials with best loss 0.863790\n",
      "py4j.clientserver INFO  Closing down clientserver connection\n"
     ]
    },
    {
     "name": "stdout",
     "output_type": "stream",
     "text": [
      " 16%|█▌        | 160/1000 [2:00:03<3:02:29, 13.03s/trial, best loss: 0.8637904966541722]"
     ]
    },
    {
     "name": "stderr",
     "output_type": "stream",
     "text": [
      "hyperopt.tpe INFO  build_posterior_wrapper took 0.000000 seconds\n",
      "hyperopt.tpe INFO  TPE using 178/178 trials with best loss 0.863790\n",
      "py4j.clientserver INFO  Closing down clientserver connection\n"
     ]
    },
    {
     "name": "stdout",
     "output_type": "stream",
     "text": [
      " 16%|█▌        | 161/1000 [2:00:21<3:23:43, 14.57s/trial, best loss: 0.8637904966541722]"
     ]
    },
    {
     "name": "stderr",
     "output_type": "stream",
     "text": [
      "hyperopt.tpe INFO  build_posterior_wrapper took 0.000000 seconds\n",
      "hyperopt.tpe INFO  TPE using 179/179 trials with best loss 0.863790\n",
      "py4j.clientserver INFO  Closing down clientserver connection\n"
     ]
    },
    {
     "name": "stdout",
     "output_type": "stream",
     "text": [
      " 16%|█▌        | 162/1000 [2:02:11<10:00:00, 42.96s/trial, best loss: 0.8637904966541722]"
     ]
    },
    {
     "name": "stderr",
     "output_type": "stream",
     "text": [
      "hyperopt.tpe INFO  build_posterior_wrapper took 0.000000 seconds\n",
      "hyperopt.tpe INFO  TPE using 180/180 trials with best loss 0.863790\n",
      "py4j.clientserver INFO  Closing down clientserver connection\n"
     ]
    },
    {
     "name": "stdout",
     "output_type": "stream",
     "text": [
      " 16%|█▋        | 163/1000 [2:10:14<40:33:24, 174.44s/trial, best loss: 0.8637904966541722]"
     ]
    },
    {
     "name": "stderr",
     "output_type": "stream",
     "text": [
      "hyperopt.tpe INFO  build_posterior_wrapper took 0.000000 seconds\n",
      "hyperopt.tpe INFO  TPE using 181/181 trials with best loss 0.863790\n",
      "py4j.clientserver INFO  Closing down clientserver connection\n"
     ]
    },
    {
     "name": "stdout",
     "output_type": "stream",
     "text": [
      " 16%|█▋        | 164/1000 [2:10:41<30:16:57, 130.40s/trial, best loss: 0.8637904966541722]"
     ]
    },
    {
     "name": "stderr",
     "output_type": "stream",
     "text": [
      "hyperopt.tpe INFO  build_posterior_wrapper took 0.000000 seconds\n",
      "hyperopt.tpe INFO  TPE using 182/182 trials with best loss 0.863790\n",
      "py4j.clientserver INFO  Closing down clientserver connection\n"
     ]
    },
    {
     "name": "stdout",
     "output_type": "stream",
     "text": [
      " 16%|█▋        | 165/1000 [2:11:13<23:21:28, 100.71s/trial, best loss: 0.8637904966541722]"
     ]
    },
    {
     "name": "stderr",
     "output_type": "stream",
     "text": [
      "hyperopt.tpe INFO  build_posterior_wrapper took 0.000000 seconds\n",
      "hyperopt.tpe INFO  TPE using 183/183 trials with best loss 0.863790\n",
      "py4j.clientserver INFO  Closing down clientserver connection\n"
     ]
    },
    {
     "name": "stdout",
     "output_type": "stream",
     "text": [
      " 17%|█▋        | 166/1000 [2:11:15<16:29:05, 71.16s/trial, best loss: 0.8637904966541722] "
     ]
    },
    {
     "name": "stderr",
     "output_type": "stream",
     "text": [
      "hyperopt.tpe INFO  build_posterior_wrapper took 0.000000 seconds\n",
      "hyperopt.tpe INFO  TPE using 184/184 trials with best loss 0.863790\n",
      "py4j.clientserver INFO  Closing down clientserver connection\n"
     ]
    },
    {
     "name": "stdout",
     "output_type": "stream",
     "text": [
      " 17%|█▋        | 167/1000 [2:11:21<11:57:07, 51.65s/trial, best loss: 0.8637904966541722]"
     ]
    },
    {
     "name": "stderr",
     "output_type": "stream",
     "text": [
      "hyperopt.tpe INFO  build_posterior_wrapper took 0.000000 seconds\n",
      "hyperopt.tpe INFO  TPE using 185/185 trials with best loss 0.863790\n",
      "py4j.clientserver INFO  Closing down clientserver connection\n"
     ]
    },
    {
     "name": "stdout",
     "output_type": "stream",
     "text": [
      " 17%|█▋        | 168/1000 [2:11:28<8:51:01, 38.30s/trial, best loss: 0.8637904966541722] "
     ]
    },
    {
     "name": "stderr",
     "output_type": "stream",
     "text": [
      "hyperopt.tpe INFO  build_posterior_wrapper took 0.000000 seconds\n",
      "hyperopt.tpe INFO  TPE using 186/186 trials with best loss 0.863790\n",
      "py4j.clientserver INFO  Closing down clientserver connection\n"
     ]
    },
    {
     "name": "stdout",
     "output_type": "stream",
     "text": [
      " 17%|█▋        | 169/1000 [2:11:35<6:40:52, 28.94s/trial, best loss: 0.8637904966541722]"
     ]
    },
    {
     "name": "stderr",
     "output_type": "stream",
     "text": [
      "hyperopt.tpe INFO  build_posterior_wrapper took 0.000000 seconds\n",
      "hyperopt.tpe INFO  TPE using 187/187 trials with best loss 0.863790\n",
      "py4j.clientserver INFO  Closing down clientserver connection\n"
     ]
    },
    {
     "name": "stdout",
     "output_type": "stream",
     "text": [
      " 17%|█▋        | 170/1000 [2:11:36<4:44:49, 20.59s/trial, best loss: 0.8637904966541722]"
     ]
    },
    {
     "name": "stderr",
     "output_type": "stream",
     "text": [
      "hyperopt.tpe INFO  build_posterior_wrapper took 0.000000 seconds\n",
      "hyperopt.tpe INFO  TPE using 188/188 trials with best loss 0.863790\n",
      "py4j.clientserver INFO  Closing down clientserver connection\n"
     ]
    },
    {
     "name": "stdout",
     "output_type": "stream",
     "text": [
      " 17%|█▋        | 171/1000 [2:11:41<3:40:23, 15.95s/trial, best loss: 0.8637904966541722]"
     ]
    },
    {
     "name": "stderr",
     "output_type": "stream",
     "text": [
      "hyperopt.tpe INFO  build_posterior_wrapper took 0.000000 seconds\n",
      "hyperopt.tpe INFO  TPE using 189/189 trials with best loss 0.863790\n",
      "py4j.clientserver INFO  Closing down clientserver connection\n"
     ]
    },
    {
     "name": "stdout",
     "output_type": "stream",
     "text": [
      " 17%|█▋        | 172/1000 [2:11:54<3:28:28, 15.11s/trial, best loss: 0.8637904966541722]"
     ]
    },
    {
     "name": "stderr",
     "output_type": "stream",
     "text": [
      "hyperopt.tpe INFO  build_posterior_wrapper took 0.000000 seconds\n",
      "hyperopt.tpe INFO  TPE using 190/190 trials with best loss 0.863790\n",
      "py4j.clientserver INFO  Closing down clientserver connection\n"
     ]
    },
    {
     "name": "stdout",
     "output_type": "stream",
     "text": [
      " 17%|█▋        | 173/1000 [2:11:57<2:38:28, 11.50s/trial, best loss: 0.8637904966541722]"
     ]
    },
    {
     "name": "stderr",
     "output_type": "stream",
     "text": [
      "hyperopt.tpe INFO  build_posterior_wrapper took 0.000000 seconds\n",
      "hyperopt.tpe INFO  TPE using 191/191 trials with best loss 0.863790\n",
      "py4j.clientserver INFO  Closing down clientserver connection\n"
     ]
    },
    {
     "name": "stdout",
     "output_type": "stream",
     "text": [
      " 17%|█▋        | 174/1000 [2:12:03<2:16:02,  9.88s/trial, best loss: 0.8637904966541722]"
     ]
    },
    {
     "name": "stderr",
     "output_type": "stream",
     "text": [
      "hyperopt.tpe INFO  build_posterior_wrapper took 0.000000 seconds\n",
      "hyperopt.tpe INFO  TPE using 192/192 trials with best loss 0.863790\n",
      "py4j.clientserver INFO  Closing down clientserver connection\n"
     ]
    },
    {
     "name": "stdout",
     "output_type": "stream",
     "text": [
      " 18%|█▊        | 175/1000 [2:12:58<5:19:55, 23.27s/trial, best loss: 0.8637904966541722]"
     ]
    },
    {
     "name": "stderr",
     "output_type": "stream",
     "text": [
      "hyperopt.tpe INFO  build_posterior_wrapper took 0.000000 seconds\n",
      "hyperopt.tpe INFO  TPE using 193/193 trials with best loss 0.863790\n",
      "py4j.clientserver INFO  Closing down clientserver connection\n"
     ]
    },
    {
     "name": "stdout",
     "output_type": "stream",
     "text": [
      " 18%|█▊        | 176/1000 [2:13:07<4:21:07, 19.01s/trial, best loss: 0.8637904966541722]"
     ]
    },
    {
     "name": "stderr",
     "output_type": "stream",
     "text": [
      "hyperopt.tpe INFO  build_posterior_wrapper took 0.000000 seconds\n",
      "hyperopt.tpe INFO  TPE using 194/194 trials with best loss 0.863790\n",
      "py4j.clientserver INFO  Closing down clientserver connection\n"
     ]
    },
    {
     "name": "stdout",
     "output_type": "stream",
     "text": [
      " 18%|█▊        | 177/1000 [2:13:10<3:15:14, 14.23s/trial, best loss: 0.8637904966541722]"
     ]
    },
    {
     "name": "stderr",
     "output_type": "stream",
     "text": [
      "hyperopt.tpe INFO  build_posterior_wrapper took 0.000000 seconds\n",
      "hyperopt.tpe INFO  TPE using 195/195 trials with best loss 0.863790\n",
      "py4j.clientserver INFO  Closing down clientserver connection\n"
     ]
    },
    {
     "name": "stdout",
     "output_type": "stream",
     "text": [
      " 18%|█▊        | 178/1000 [2:13:12<2:25:01, 10.59s/trial, best loss: 0.8637904966541722]"
     ]
    },
    {
     "name": "stderr",
     "output_type": "stream",
     "text": [
      "hyperopt.tpe INFO  build_posterior_wrapper took 0.000000 seconds\n",
      "hyperopt.tpe INFO  TPE using 196/196 trials with best loss 0.863790\n",
      "py4j.clientserver INFO  Closing down clientserver connection\n"
     ]
    },
    {
     "name": "stdout",
     "output_type": "stream",
     "text": [
      " 18%|█▊        | 179/1000 [2:13:13<1:45:45,  7.73s/trial, best loss: 0.8637904966541722]"
     ]
    },
    {
     "name": "stderr",
     "output_type": "stream",
     "text": [
      "hyperopt.tpe INFO  build_posterior_wrapper took 0.000000 seconds\n",
      "hyperopt.tpe INFO  TPE using 197/197 trials with best loss 0.863790\n",
      "py4j.clientserver INFO  Closing down clientserver connection\n"
     ]
    },
    {
     "name": "stdout",
     "output_type": "stream",
     "text": [
      " 18%|█▊        | 180/1000 [2:15:06<8:55:58, 39.22s/trial, best loss: 0.8637904966541722]"
     ]
    },
    {
     "name": "stderr",
     "output_type": "stream",
     "text": [
      "hyperopt.tpe INFO  build_posterior_wrapper took 0.000000 seconds\n",
      "hyperopt.tpe INFO  TPE using 198/198 trials with best loss 0.863790\n",
      "py4j.clientserver INFO  Closing down clientserver connection\n"
     ]
    },
    {
     "name": "stdout",
     "output_type": "stream",
     "text": [
      " 18%|█▊        | 181/1000 [2:23:34<40:54:51, 179.84s/trial, best loss: 0.8637904966541722]"
     ]
    },
    {
     "name": "stderr",
     "output_type": "stream",
     "text": [
      "hyperopt.tpe INFO  build_posterior_wrapper took 0.000000 seconds\n",
      "hyperopt.tpe INFO  TPE using 199/199 trials with best loss 0.863790\n",
      "py4j.clientserver INFO  Closing down clientserver connection\n"
     ]
    },
    {
     "name": "stdout",
     "output_type": "stream",
     "text": [
      " 18%|█▊        | 182/1000 [2:24:00<30:23:36, 133.76s/trial, best loss: 0.8637904966541722]"
     ]
    },
    {
     "name": "stderr",
     "output_type": "stream",
     "text": [
      "hyperopt.tpe INFO  build_posterior_wrapper took 0.000000 seconds\n",
      "hyperopt.tpe INFO  TPE using 200/200 trials with best loss 0.863790\n",
      "py4j.clientserver INFO  Closing down clientserver connection\n"
     ]
    },
    {
     "name": "stdout",
     "output_type": "stream",
     "text": [
      " 18%|█▊        | 183/1000 [2:24:03<21:27:38, 94.56s/trial, best loss: 0.8622192611057068] "
     ]
    },
    {
     "name": "stderr",
     "output_type": "stream",
     "text": [
      "hyperopt.tpe INFO  build_posterior_wrapper took 0.000000 seconds\n",
      "hyperopt.tpe INFO  TPE using 201/201 trials with best loss 0.862219\n",
      "py4j.clientserver INFO  Closing down clientserver connection\n"
     ]
    },
    {
     "name": "stdout",
     "output_type": "stream",
     "text": [
      " 18%|█▊        | 184/1000 [2:24:17<15:58:02, 70.44s/trial, best loss: 0.8622192611057068]"
     ]
    },
    {
     "name": "stderr",
     "output_type": "stream",
     "text": [
      "hyperopt.tpe INFO  build_posterior_wrapper took 0.000000 seconds\n",
      "hyperopt.tpe INFO  TPE using 202/202 trials with best loss 0.862219\n",
      "py4j.clientserver INFO  Closing down clientserver connection\n"
     ]
    },
    {
     "name": "stdout",
     "output_type": "stream",
     "text": [
      " 18%|█▊        | 185/1000 [2:24:25<11:38:46, 51.44s/trial, best loss: 0.8622192611057068]"
     ]
    },
    {
     "name": "stderr",
     "output_type": "stream",
     "text": [
      "hyperopt.tpe INFO  build_posterior_wrapper took 0.000000 seconds\n",
      "hyperopt.tpe INFO  TPE using 203/203 trials with best loss 0.862219\n",
      "py4j.clientserver INFO  Closing down clientserver connection\n"
     ]
    },
    {
     "name": "stdout",
     "output_type": "stream",
     "text": [
      " 19%|█▊        | 186/1000 [2:24:28<8:21:09, 36.94s/trial, best loss: 0.8622192611057068] "
     ]
    },
    {
     "name": "stderr",
     "output_type": "stream",
     "text": [
      "hyperopt.tpe INFO  build_posterior_wrapper took 0.000000 seconds\n",
      "hyperopt.tpe INFO  TPE using 204/204 trials with best loss 0.862219\n",
      "py4j.clientserver INFO  Closing down clientserver connection\n"
     ]
    },
    {
     "name": "stdout",
     "output_type": "stream",
     "text": [
      " 19%|█▊        | 187/1000 [2:24:35<6:19:16, 27.99s/trial, best loss: 0.8622192611057068]"
     ]
    },
    {
     "name": "stderr",
     "output_type": "stream",
     "text": [
      "hyperopt.tpe INFO  build_posterior_wrapper took 0.000000 seconds\n",
      "hyperopt.tpe INFO  TPE using 205/205 trials with best loss 0.862219\n",
      "py4j.clientserver INFO  Closing down clientserver connection\n"
     ]
    },
    {
     "name": "stdout",
     "output_type": "stream",
     "text": [
      " 19%|█▉        | 188/1000 [2:24:42<4:53:57, 21.72s/trial, best loss: 0.8622192611057068]"
     ]
    },
    {
     "name": "stderr",
     "output_type": "stream",
     "text": [
      "hyperopt.tpe INFO  build_posterior_wrapper took 0.000000 seconds\n",
      "hyperopt.tpe INFO  TPE using 206/206 trials with best loss 0.862219\n",
      "py4j.clientserver INFO  Closing down clientserver connection\n"
     ]
    },
    {
     "name": "stdout",
     "output_type": "stream",
     "text": [
      " 19%|█▉        | 189/1000 [2:24:44<3:33:52, 15.82s/trial, best loss: 0.8622192611057068]"
     ]
    },
    {
     "name": "stderr",
     "output_type": "stream",
     "text": [
      "hyperopt.tpe INFO  build_posterior_wrapper took 0.000000 seconds\n",
      "hyperopt.tpe INFO  TPE using 207/207 trials with best loss 0.862219\n",
      "py4j.clientserver INFO  Closing down clientserver connection\n"
     ]
    },
    {
     "name": "stdout",
     "output_type": "stream",
     "text": [
      " 19%|█▉        | 190/1000 [2:25:01<3:39:04, 16.23s/trial, best loss: 0.8622192611057068]"
     ]
    },
    {
     "name": "stderr",
     "output_type": "stream",
     "text": [
      "hyperopt.tpe INFO  build_posterior_wrapper took 0.002000 seconds\n",
      "hyperopt.tpe INFO  TPE using 208/208 trials with best loss 0.862219\n",
      "py4j.clientserver INFO  Closing down clientserver connection\n"
     ]
    },
    {
     "name": "stdout",
     "output_type": "stream",
     "text": [
      " 19%|█▉        | 191/1000 [2:25:12<3:18:28, 14.72s/trial, best loss: 0.8622192611057068]"
     ]
    },
    {
     "name": "stderr",
     "output_type": "stream",
     "text": [
      "hyperopt.tpe INFO  build_posterior_wrapper took 0.003002 seconds\n",
      "hyperopt.tpe INFO  TPE using 209/209 trials with best loss 0.862219\n",
      "py4j.clientserver INFO  Closing down clientserver connection\n"
     ]
    },
    {
     "name": "stdout",
     "output_type": "stream",
     "text": [
      " 19%|█▉        | 192/1000 [2:25:29<3:24:28, 15.18s/trial, best loss: 0.8622192611057068]"
     ]
    },
    {
     "name": "stderr",
     "output_type": "stream",
     "text": [
      "hyperopt.tpe INFO  build_posterior_wrapper took 0.003999 seconds\n",
      "hyperopt.tpe INFO  TPE using 210/210 trials with best loss 0.862219\n",
      "py4j.clientserver INFO  Closing down clientserver connection\n"
     ]
    },
    {
     "name": "stdout",
     "output_type": "stream",
     "text": [
      " 19%|█▉        | 193/1000 [2:26:00<4:29:10, 20.01s/trial, best loss: 0.8622192611057068]"
     ]
    },
    {
     "name": "stderr",
     "output_type": "stream",
     "text": [
      "hyperopt.tpe INFO  build_posterior_wrapper took 0.002903 seconds\n",
      "hyperopt.tpe INFO  TPE using 211/211 trials with best loss 0.862219\n",
      "py4j.clientserver INFO  Closing down clientserver connection\n"
     ]
    },
    {
     "name": "stdout",
     "output_type": "stream",
     "text": [
      " 19%|█▉        | 194/1000 [2:26:05<3:28:40, 15.53s/trial, best loss: 0.8622192611057068]"
     ]
    },
    {
     "name": "stderr",
     "output_type": "stream",
     "text": [
      "hyperopt.tpe INFO  build_posterior_wrapper took 0.000000 seconds\n",
      "hyperopt.tpe INFO  TPE using 212/212 trials with best loss 0.862219\n",
      "py4j.clientserver INFO  Closing down clientserver connection\n"
     ]
    },
    {
     "name": "stdout",
     "output_type": "stream",
     "text": [
      " 20%|█▉        | 195/1000 [2:26:27<3:55:11, 17.53s/trial, best loss: 0.8622192611057068]"
     ]
    },
    {
     "name": "stderr",
     "output_type": "stream",
     "text": [
      "hyperopt.tpe INFO  build_posterior_wrapper took 0.000000 seconds\n",
      "hyperopt.tpe INFO  TPE using 213/213 trials with best loss 0.862219\n",
      "py4j.clientserver INFO  Closing down clientserver connection\n"
     ]
    },
    {
     "name": "stdout",
     "output_type": "stream",
     "text": [
      " 20%|█▉        | 196/1000 [2:26:36<3:21:14, 15.02s/trial, best loss: 0.8622192611057068]"
     ]
    },
    {
     "name": "stderr",
     "output_type": "stream",
     "text": [
      "hyperopt.tpe INFO  build_posterior_wrapper took 0.000000 seconds\n",
      "hyperopt.tpe INFO  TPE using 214/214 trials with best loss 0.862219\n",
      "py4j.clientserver INFO  Closing down clientserver connection\n"
     ]
    },
    {
     "name": "stdout",
     "output_type": "stream",
     "text": [
      " 20%|█▉        | 197/1000 [2:26:41<2:41:08, 12.04s/trial, best loss: 0.8622192611057068]"
     ]
    },
    {
     "name": "stderr",
     "output_type": "stream",
     "text": [
      "hyperopt.tpe INFO  build_posterior_wrapper took 0.000000 seconds\n",
      "hyperopt.tpe INFO  TPE using 215/215 trials with best loss 0.862219\n",
      "py4j.clientserver INFO  Closing down clientserver connection\n"
     ]
    },
    {
     "name": "stdout",
     "output_type": "stream",
     "text": [
      " 20%|█▉        | 198/1000 [2:28:36<9:33:16, 42.89s/trial, best loss: 0.8622192611057068]"
     ]
    },
    {
     "name": "stderr",
     "output_type": "stream",
     "text": [
      "hyperopt.tpe INFO  build_posterior_wrapper took 0.000000 seconds\n",
      "hyperopt.tpe INFO  TPE using 216/216 trials with best loss 0.862219\n",
      "py4j.clientserver INFO  Closing down clientserver connection\n"
     ]
    },
    {
     "name": "stdout",
     "output_type": "stream",
     "text": [
      " 20%|█▉        | 199/1000 [2:36:18<37:30:28, 168.58s/trial, best loss: 0.8622192611057068]"
     ]
    },
    {
     "name": "stderr",
     "output_type": "stream",
     "text": [
      "hyperopt.tpe INFO  build_posterior_wrapper took 0.000000 seconds\n",
      "hyperopt.tpe INFO  TPE using 217/217 trials with best loss 0.862219\n",
      "py4j.clientserver INFO  Closing down clientserver connection\n"
     ]
    },
    {
     "name": "stdout",
     "output_type": "stream",
     "text": [
      " 20%|██        | 200/1000 [2:37:02<29:10:38, 131.30s/trial, best loss: 0.8622192611057068]"
     ]
    },
    {
     "name": "stderr",
     "output_type": "stream",
     "text": [
      "hyperopt.tpe INFO  build_posterior_wrapper took 0.000000 seconds\n",
      "hyperopt.tpe INFO  TPE using 218/218 trials with best loss 0.862219\n",
      "py4j.clientserver INFO  Closing down clientserver connection\n"
     ]
    },
    {
     "name": "stdout",
     "output_type": "stream",
     "text": [
      " 20%|██        | 201/1000 [2:37:22<21:40:32, 97.66s/trial, best loss: 0.8622192611057068] "
     ]
    },
    {
     "name": "stderr",
     "output_type": "stream",
     "text": [
      "hyperopt.tpe INFO  build_posterior_wrapper took 0.000000 seconds\n",
      "hyperopt.tpe INFO  TPE using 219/219 trials with best loss 0.862219\n",
      "py4j.clientserver INFO  Closing down clientserver connection\n"
     ]
    },
    {
     "name": "stdout",
     "output_type": "stream",
     "text": [
      " 20%|██        | 202/1000 [2:37:34<15:57:43, 72.01s/trial, best loss: 0.8622192611057068]"
     ]
    },
    {
     "name": "stderr",
     "output_type": "stream",
     "text": [
      "hyperopt.tpe INFO  build_posterior_wrapper took 0.000000 seconds\n",
      "hyperopt.tpe INFO  TPE using 220/220 trials with best loss 0.862219\n",
      "py4j.clientserver INFO  Closing down clientserver connection\n"
     ]
    },
    {
     "name": "stdout",
     "output_type": "stream",
     "text": [
      " 20%|██        | 203/1000 [2:37:45<11:53:58, 53.75s/trial, best loss: 0.8622192611057068]"
     ]
    },
    {
     "name": "stderr",
     "output_type": "stream",
     "text": [
      "hyperopt.tpe INFO  build_posterior_wrapper took 0.000000 seconds\n",
      "hyperopt.tpe INFO  TPE using 221/221 trials with best loss 0.862219\n",
      "py4j.clientserver INFO  Closing down clientserver connection\n"
     ]
    },
    {
     "name": "stdout",
     "output_type": "stream",
     "text": [
      " 20%|██        | 204/1000 [2:37:49<8:35:25, 38.85s/trial, best loss: 0.8622192611057068] "
     ]
    },
    {
     "name": "stderr",
     "output_type": "stream",
     "text": [
      "hyperopt.tpe INFO  build_posterior_wrapper took 0.000000 seconds\n",
      "hyperopt.tpe INFO  TPE using 222/222 trials with best loss 0.862219\n",
      "py4j.clientserver INFO  Closing down clientserver connection\n"
     ]
    },
    {
     "name": "stdout",
     "output_type": "stream",
     "text": [
      " 20%|██        | 205/1000 [2:37:59<6:40:42, 30.24s/trial, best loss: 0.8622192611057068]"
     ]
    },
    {
     "name": "stderr",
     "output_type": "stream",
     "text": [
      "hyperopt.tpe INFO  build_posterior_wrapper took 0.000000 seconds\n",
      "hyperopt.tpe INFO  TPE using 223/223 trials with best loss 0.862219\n",
      "py4j.clientserver INFO  Closing down clientserver connection\n"
     ]
    },
    {
     "name": "stdout",
     "output_type": "stream",
     "text": [
      " 21%|██        | 206/1000 [2:38:01<4:48:24, 21.79s/trial, best loss: 0.8622192611057068]"
     ]
    },
    {
     "name": "stderr",
     "output_type": "stream",
     "text": [
      "hyperopt.tpe INFO  build_posterior_wrapper took 0.000000 seconds\n",
      "hyperopt.tpe INFO  TPE using 224/224 trials with best loss 0.862219\n",
      "py4j.clientserver INFO  Closing down clientserver connection\n"
     ]
    },
    {
     "name": "stdout",
     "output_type": "stream",
     "text": [
      " 21%|██        | 207/1000 [2:38:07<3:45:56, 17.10s/trial, best loss: 0.8622192611057068]"
     ]
    },
    {
     "name": "stderr",
     "output_type": "stream",
     "text": [
      "hyperopt.tpe INFO  build_posterior_wrapper took 0.000000 seconds\n",
      "hyperopt.tpe INFO  TPE using 225/225 trials with best loss 0.862219\n",
      "py4j.clientserver INFO  Closing down clientserver connection\n"
     ]
    },
    {
     "name": "stdout",
     "output_type": "stream",
     "text": [
      " 21%|██        | 208/1000 [2:38:08<2:42:14, 12.29s/trial, best loss: 0.8622192611057068]"
     ]
    },
    {
     "name": "stderr",
     "output_type": "stream",
     "text": [
      "hyperopt.tpe INFO  build_posterior_wrapper took 0.000000 seconds\n",
      "hyperopt.tpe INFO  TPE using 226/226 trials with best loss 0.862219\n",
      "py4j.clientserver INFO  Closing down clientserver connection\n"
     ]
    },
    {
     "name": "stdout",
     "output_type": "stream",
     "text": [
      " 21%|██        | 209/1000 [2:38:20<2:37:38, 11.96s/trial, best loss: 0.8622192611057068]"
     ]
    },
    {
     "name": "stderr",
     "output_type": "stream",
     "text": [
      "hyperopt.tpe INFO  build_posterior_wrapper took 0.000000 seconds\n",
      "hyperopt.tpe INFO  TPE using 227/227 trials with best loss 0.862219\n",
      "py4j.clientserver INFO  Closing down clientserver connection\n"
     ]
    },
    {
     "name": "stdout",
     "output_type": "stream",
     "text": [
      " 21%|██        | 210/1000 [2:38:27<2:18:27, 10.52s/trial, best loss: 0.8622192611057068]"
     ]
    },
    {
     "name": "stderr",
     "output_type": "stream",
     "text": [
      "hyperopt.tpe INFO  build_posterior_wrapper took 0.000000 seconds\n",
      "hyperopt.tpe INFO  TPE using 228/228 trials with best loss 0.862219\n",
      "py4j.clientserver INFO  Closing down clientserver connection\n"
     ]
    },
    {
     "name": "stdout",
     "output_type": "stream",
     "text": [
      " 21%|██        | 211/1000 [2:38:52<3:16:27, 14.94s/trial, best loss: 0.8622192611057068]"
     ]
    },
    {
     "name": "stderr",
     "output_type": "stream",
     "text": [
      "hyperopt.tpe INFO  build_posterior_wrapper took 0.000000 seconds\n",
      "hyperopt.tpe INFO  TPE using 229/229 trials with best loss 0.862219\n",
      "py4j.clientserver INFO  Closing down clientserver connection\n"
     ]
    },
    {
     "name": "stdout",
     "output_type": "stream",
     "text": [
      " 21%|██        | 212/1000 [2:39:00<2:49:22, 12.90s/trial, best loss: 0.8622192611057068]"
     ]
    },
    {
     "name": "stderr",
     "output_type": "stream",
     "text": [
      "hyperopt.tpe INFO  build_posterior_wrapper took 0.000000 seconds\n",
      "hyperopt.tpe INFO  TPE using 230/230 trials with best loss 0.862219\n",
      "py4j.clientserver INFO  Closing down clientserver connection\n"
     ]
    },
    {
     "name": "stdout",
     "output_type": "stream",
     "text": [
      " 21%|██▏       | 213/1000 [2:39:20<3:17:40, 15.07s/trial, best loss: 0.8622192611057068]"
     ]
    },
    {
     "name": "stderr",
     "output_type": "stream",
     "text": [
      "hyperopt.tpe INFO  build_posterior_wrapper took 0.000000 seconds\n",
      "hyperopt.tpe INFO  TPE using 231/231 trials with best loss 0.862219\n",
      "py4j.clientserver INFO  Closing down clientserver connection\n"
     ]
    },
    {
     "name": "stdout",
     "output_type": "stream",
     "text": [
      " 21%|██▏       | 214/1000 [2:39:21<2:22:27, 10.88s/trial, best loss: 0.8622192611057068]"
     ]
    },
    {
     "name": "stderr",
     "output_type": "stream",
     "text": [
      "hyperopt.tpe INFO  build_posterior_wrapper took 0.000000 seconds\n",
      "hyperopt.tpe INFO  TPE using 232/232 trials with best loss 0.862219\n",
      "py4j.clientserver INFO  Closing down clientserver connection\n"
     ]
    },
    {
     "name": "stdout",
     "output_type": "stream",
     "text": [
      " 22%|██▏       | 215/1000 [2:39:35<2:31:13, 11.56s/trial, best loss: 0.8622192611057068]"
     ]
    },
    {
     "name": "stderr",
     "output_type": "stream",
     "text": [
      "hyperopt.tpe INFO  build_posterior_wrapper took 0.000000 seconds\n",
      "hyperopt.tpe INFO  TPE using 233/233 trials with best loss 0.862219\n",
      "py4j.clientserver INFO  Closing down clientserver connection\n"
     ]
    },
    {
     "name": "stdout",
     "output_type": "stream",
     "text": [
      " 22%|██▏       | 216/1000 [2:42:03<11:29:02, 52.73s/trial, best loss: 0.8622192611057068]"
     ]
    },
    {
     "name": "stderr",
     "output_type": "stream",
     "text": [
      "hyperopt.tpe INFO  build_posterior_wrapper took 0.000000 seconds\n",
      "hyperopt.tpe INFO  TPE using 234/234 trials with best loss 0.862219\n",
      "py4j.clientserver INFO  Closing down clientserver connection\n"
     ]
    },
    {
     "name": "stdout",
     "output_type": "stream",
     "text": [
      " 22%|██▏       | 217/1000 [2:49:42<37:57:53, 174.55s/trial, best loss: 0.8622192611057068]"
     ]
    },
    {
     "name": "stderr",
     "output_type": "stream",
     "text": [
      "hyperopt.tpe INFO  build_posterior_wrapper took 0.000000 seconds\n",
      "hyperopt.tpe INFO  TPE using 235/235 trials with best loss 0.862219\n",
      "py4j.clientserver INFO  Closing down clientserver connection\n"
     ]
    },
    {
     "name": "stdout",
     "output_type": "stream",
     "text": [
      " 22%|██▏       | 218/1000 [2:50:19<28:58:26, 133.38s/trial, best loss: 0.8622192611057068]"
     ]
    },
    {
     "name": "stderr",
     "output_type": "stream",
     "text": [
      "hyperopt.tpe INFO  build_posterior_wrapper took 0.000000 seconds\n",
      "hyperopt.tpe INFO  TPE using 236/236 trials with best loss 0.862219\n",
      "py4j.clientserver INFO  Closing down clientserver connection\n"
     ]
    },
    {
     "name": "stdout",
     "output_type": "stream",
     "text": [
      " 22%|██▏       | 219/1000 [2:50:26<20:39:11, 95.20s/trial, best loss: 0.8622192611057068] "
     ]
    },
    {
     "name": "stderr",
     "output_type": "stream",
     "text": [
      "hyperopt.tpe INFO  build_posterior_wrapper took 0.000000 seconds\n",
      "hyperopt.tpe INFO  TPE using 237/237 trials with best loss 0.862219\n",
      "py4j.clientserver INFO  Closing down clientserver connection\n"
     ]
    },
    {
     "name": "stdout",
     "output_type": "stream",
     "text": [
      " 22%|██▏       | 220/1000 [2:50:32<14:50:09, 68.47s/trial, best loss: 0.8622192611057068]"
     ]
    },
    {
     "name": "stderr",
     "output_type": "stream",
     "text": [
      "hyperopt.tpe INFO  build_posterior_wrapper took 0.000000 seconds\n",
      "hyperopt.tpe INFO  TPE using 238/238 trials with best loss 0.862219\n",
      "py4j.clientserver INFO  Closing down clientserver connection\n"
     ]
    },
    {
     "name": "stdout",
     "output_type": "stream",
     "text": [
      " 22%|██▏       | 221/1000 [2:50:41<10:57:46, 50.66s/trial, best loss: 0.8622192611057068]"
     ]
    },
    {
     "name": "stderr",
     "output_type": "stream",
     "text": [
      "hyperopt.tpe INFO  build_posterior_wrapper took 0.000000 seconds\n",
      "hyperopt.tpe INFO  TPE using 239/239 trials with best loss 0.862219\n",
      "py4j.clientserver INFO  Closing down clientserver connection\n"
     ]
    },
    {
     "name": "stdout",
     "output_type": "stream",
     "text": [
      " 22%|██▏       | 222/1000 [2:50:48<8:07:32, 37.60s/trial, best loss: 0.8622192611057068] "
     ]
    },
    {
     "name": "stderr",
     "output_type": "stream",
     "text": [
      "hyperopt.tpe INFO  build_posterior_wrapper took 0.000000 seconds\n",
      "hyperopt.tpe INFO  TPE using 240/240 trials with best loss 0.862219\n",
      "py4j.clientserver INFO  Closing down clientserver connection\n"
     ]
    },
    {
     "name": "stdout",
     "output_type": "stream",
     "text": [
      " 22%|██▏       | 223/1000 [2:50:53<6:00:42, 27.85s/trial, best loss: 0.8622192611057068]"
     ]
    },
    {
     "name": "stderr",
     "output_type": "stream",
     "text": [
      "hyperopt.tpe INFO  build_posterior_wrapper took 0.000000 seconds\n",
      "hyperopt.tpe INFO  TPE using 241/241 trials with best loss 0.862219\n",
      "py4j.clientserver INFO  Closing down clientserver connection\n"
     ]
    },
    {
     "name": "stdout",
     "output_type": "stream",
     "text": [
      " 22%|██▏       | 224/1000 [2:51:26<6:21:33, 29.50s/trial, best loss: 0.8622192611057068]"
     ]
    },
    {
     "name": "stderr",
     "output_type": "stream",
     "text": [
      "hyperopt.tpe INFO  build_posterior_wrapper took 0.003999 seconds\n",
      "hyperopt.tpe INFO  TPE using 242/242 trials with best loss 0.862219\n",
      "py4j.clientserver INFO  Closing down clientserver connection\n"
     ]
    },
    {
     "name": "stdout",
     "output_type": "stream",
     "text": [
      " 22%|██▎       | 225/1000 [2:51:37<5:06:14, 23.71s/trial, best loss: 0.8622192611057068]"
     ]
    },
    {
     "name": "stderr",
     "output_type": "stream",
     "text": [
      "hyperopt.tpe INFO  build_posterior_wrapper took 0.004000 seconds\n",
      "hyperopt.tpe INFO  TPE using 243/243 trials with best loss 0.862219\n",
      "py4j.clientserver INFO  Closing down clientserver connection\n"
     ]
    },
    {
     "name": "stdout",
     "output_type": "stream",
     "text": [
      " 23%|██▎       | 226/1000 [2:51:42<3:53:57, 18.14s/trial, best loss: 0.8622192611057068]"
     ]
    },
    {
     "name": "stderr",
     "output_type": "stream",
     "text": [
      "hyperopt.tpe INFO  build_posterior_wrapper took 0.003999 seconds\n",
      "hyperopt.tpe INFO  TPE using 244/244 trials with best loss 0.862219\n",
      "py4j.clientserver INFO  Closing down clientserver connection\n"
     ]
    },
    {
     "name": "stdout",
     "output_type": "stream",
     "text": [
      " 23%|██▎       | 227/1000 [2:51:44<2:51:47, 13.33s/trial, best loss: 0.8622192611057068]"
     ]
    },
    {
     "name": "stderr",
     "output_type": "stream",
     "text": [
      "hyperopt.tpe INFO  build_posterior_wrapper took 0.004001 seconds\n",
      "hyperopt.tpe INFO  TPE using 245/245 trials with best loss 0.862219\n",
      "py4j.clientserver INFO  Closing down clientserver connection\n",
      "py4j.clientserver INFO  Closing down clientserver connection\n"
     ]
    },
    {
     "name": "stdout",
     "output_type": "stream",
     "text": [
      " 23%|██▎       | 229/1000 [2:51:53<1:59:30,  9.30s/trial, best loss: 0.8622192611057068]"
     ]
    },
    {
     "name": "stderr",
     "output_type": "stream",
     "text": [
      "hyperopt.tpe INFO  build_posterior_wrapper took 0.002998 seconds\n",
      "hyperopt.tpe INFO  TPE using 246/246 trials with best loss 0.862219\n",
      "hyperopt.tpe INFO  build_posterior_wrapper took 0.003002 seconds\n",
      "hyperopt.tpe INFO  TPE using 247/247 trials with best loss 0.862219\n",
      "py4j.clientserver INFO  Closing down clientserver connection\n"
     ]
    },
    {
     "name": "stdout",
     "output_type": "stream",
     "text": [
      " 23%|██▎       | 230/1000 [2:52:14<2:37:56, 12.31s/trial, best loss: 0.8622192611057068]"
     ]
    },
    {
     "name": "stderr",
     "output_type": "stream",
     "text": [
      "hyperopt.tpe INFO  build_posterior_wrapper took 0.002997 seconds\n",
      "hyperopt.tpe INFO  TPE using 248/248 trials with best loss 0.862219\n",
      "py4j.clientserver INFO  Closing down clientserver connection\n"
     ]
    },
    {
     "name": "stdout",
     "output_type": "stream",
     "text": [
      " 23%|██▎       | 231/1000 [2:52:28<2:40:49, 12.55s/trial, best loss: 0.8622192611057068]"
     ]
    },
    {
     "name": "stderr",
     "output_type": "stream",
     "text": [
      "hyperopt.tpe INFO  build_posterior_wrapper took 0.003000 seconds\n",
      "hyperopt.tpe INFO  TPE using 249/249 trials with best loss 0.862219\n",
      "py4j.clientserver INFO  Closing down clientserver connection\n"
     ]
    },
    {
     "name": "stdout",
     "output_type": "stream",
     "text": [
      " 23%|██▎       | 232/1000 [2:52:32<2:11:20, 10.26s/trial, best loss: 0.8622192611057068]"
     ]
    },
    {
     "name": "stderr",
     "output_type": "stream",
     "text": [
      "hyperopt.tpe INFO  build_posterior_wrapper took 0.004000 seconds\n",
      "hyperopt.tpe INFO  TPE using 250/250 trials with best loss 0.862219\n",
      "py4j.clientserver INFO  Closing down clientserver connection\n"
     ]
    },
    {
     "name": "stdout",
     "output_type": "stream",
     "text": [
      " 23%|██▎       | 233/1000 [2:52:59<3:12:26, 15.05s/trial, best loss: 0.8622192611057068]"
     ]
    },
    {
     "name": "stderr",
     "output_type": "stream",
     "text": [
      "hyperopt.tpe INFO  build_posterior_wrapper took 0.002003 seconds\n",
      "hyperopt.tpe INFO  TPE using 251/251 trials with best loss 0.862219\n",
      "py4j.clientserver INFO  Closing down clientserver connection\n"
     ]
    },
    {
     "name": "stdout",
     "output_type": "stream",
     "text": [
      " 23%|██▎       | 234/1000 [2:54:55<9:20:08, 43.87s/trial, best loss: 0.8622192611057068]"
     ]
    },
    {
     "name": "stderr",
     "output_type": "stream",
     "text": [
      "hyperopt.tpe INFO  build_posterior_wrapper took 0.000000 seconds\n",
      "hyperopt.tpe INFO  TPE using 252/252 trials with best loss 0.862219\n",
      "py4j.clientserver INFO  Closing down clientserver connection\n"
     ]
    },
    {
     "name": "stdout",
     "output_type": "stream",
     "text": [
      " 24%|██▎       | 235/1000 [3:03:09<37:02:11, 174.29s/trial, best loss: 0.8622192611057068]"
     ]
    },
    {
     "name": "stderr",
     "output_type": "stream",
     "text": [
      "hyperopt.tpe INFO  build_posterior_wrapper took 0.000000 seconds\n",
      "hyperopt.tpe INFO  TPE using 253/253 trials with best loss 0.862219\n",
      "py4j.clientserver INFO  Closing down clientserver connection\n"
     ]
    },
    {
     "name": "stdout",
     "output_type": "stream",
     "text": [
      " 24%|██▎       | 236/1000 [3:03:18<26:43:36, 125.94s/trial, best loss: 0.8622192611057068]"
     ]
    },
    {
     "name": "stderr",
     "output_type": "stream",
     "text": [
      "hyperopt.tpe INFO  build_posterior_wrapper took 0.000000 seconds\n",
      "hyperopt.tpe INFO  TPE using 254/254 trials with best loss 0.862219\n",
      "py4j.clientserver INFO  Closing down clientserver connection\n"
     ]
    },
    {
     "name": "stdout",
     "output_type": "stream",
     "text": [
      " 24%|██▎       | 237/1000 [3:03:27<19:23:24, 91.49s/trial, best loss: 0.8622192611057068] "
     ]
    },
    {
     "name": "stderr",
     "output_type": "stream",
     "text": [
      "hyperopt.tpe INFO  build_posterior_wrapper took 0.000000 seconds\n",
      "hyperopt.tpe INFO  TPE using 255/255 trials with best loss 0.862219\n",
      "py4j.clientserver INFO  Closing down clientserver connection\n"
     ]
    },
    {
     "name": "stdout",
     "output_type": "stream",
     "text": [
      " 24%|██▍       | 238/1000 [3:03:33<14:00:29, 66.18s/trial, best loss: 0.8622192611057068]"
     ]
    },
    {
     "name": "stderr",
     "output_type": "stream",
     "text": [
      "hyperopt.tpe INFO  build_posterior_wrapper took 0.000000 seconds\n",
      "hyperopt.tpe INFO  TPE using 256/256 trials with best loss 0.862219\n",
      "py4j.clientserver INFO  Closing down clientserver connection\n"
     ]
    },
    {
     "name": "stdout",
     "output_type": "stream",
     "text": [
      " 24%|██▍       | 239/1000 [3:03:46<10:35:32, 50.11s/trial, best loss: 0.8622192611057068]"
     ]
    },
    {
     "name": "stderr",
     "output_type": "stream",
     "text": [
      "hyperopt.tpe INFO  build_posterior_wrapper took 0.000000 seconds\n",
      "hyperopt.tpe INFO  TPE using 257/257 trials with best loss 0.862219\n",
      "py4j.clientserver INFO  Closing down clientserver connection\n"
     ]
    },
    {
     "name": "stdout",
     "output_type": "stream",
     "text": [
      " 24%|██▍       | 240/1000 [3:04:19<9:31:12, 45.10s/trial, best loss: 0.8622192611057068] "
     ]
    },
    {
     "name": "stderr",
     "output_type": "stream",
     "text": [
      "hyperopt.tpe INFO  build_posterior_wrapper took 0.000000 seconds\n",
      "hyperopt.tpe INFO  TPE using 258/258 trials with best loss 0.862219\n",
      "py4j.clientserver INFO  Closing down clientserver connection\n"
     ]
    },
    {
     "name": "stdout",
     "output_type": "stream",
     "text": [
      " 24%|██▍       | 241/1000 [3:04:24<6:59:24, 33.15s/trial, best loss: 0.8622192611057068]"
     ]
    },
    {
     "name": "stderr",
     "output_type": "stream",
     "text": [
      "hyperopt.tpe INFO  build_posterior_wrapper took 0.001663 seconds\n",
      "hyperopt.tpe INFO  TPE using 259/259 trials with best loss 0.862219\n",
      "py4j.clientserver INFO  Closing down clientserver connection\n"
     ]
    },
    {
     "name": "stdout",
     "output_type": "stream",
     "text": [
      " 24%|██▍       | 242/1000 [3:04:26<5:01:28, 23.86s/trial, best loss: 0.8622192611057068]"
     ]
    },
    {
     "name": "stderr",
     "output_type": "stream",
     "text": [
      "hyperopt.tpe INFO  build_posterior_wrapper took 0.000000 seconds\n",
      "hyperopt.tpe INFO  TPE using 260/260 trials with best loss 0.862219\n",
      "py4j.clientserver INFO  Closing down clientserver connection\n"
     ]
    },
    {
     "name": "stdout",
     "output_type": "stream",
     "text": [
      " 24%|██▍       | 243/1000 [3:04:33<3:57:47, 18.85s/trial, best loss: 0.8622192611057068]"
     ]
    },
    {
     "name": "stderr",
     "output_type": "stream",
     "text": [
      "hyperopt.tpe INFO  build_posterior_wrapper took 0.000000 seconds\n",
      "hyperopt.tpe INFO  TPE using 261/261 trials with best loss 0.862219\n",
      "py4j.clientserver INFO  Closing down clientserver connection\n"
     ]
    },
    {
     "name": "stdout",
     "output_type": "stream",
     "text": [
      " 24%|██▍       | 244/1000 [3:04:35<2:54:11, 13.83s/trial, best loss: 0.8622192611057068]"
     ]
    },
    {
     "name": "stderr",
     "output_type": "stream",
     "text": [
      "hyperopt.tpe INFO  build_posterior_wrapper took 0.000000 seconds\n",
      "hyperopt.tpe INFO  TPE using 262/262 trials with best loss 0.862219\n",
      "py4j.clientserver INFO  Closing down clientserver connection\n"
     ]
    },
    {
     "name": "stdout",
     "output_type": "stream",
     "text": [
      " 24%|██▍       | 245/1000 [3:04:41<2:25:00, 11.52s/trial, best loss: 0.8622192611057068]"
     ]
    },
    {
     "name": "stderr",
     "output_type": "stream",
     "text": [
      "hyperopt.tpe INFO  build_posterior_wrapper took 0.000000 seconds\n",
      "hyperopt.tpe INFO  TPE using 263/263 trials with best loss 0.862219\n",
      "py4j.clientserver INFO  Closing down clientserver connection\n"
     ]
    },
    {
     "name": "stdout",
     "output_type": "stream",
     "text": [
      " 25%|██▍       | 246/1000 [3:05:15<3:46:47, 18.05s/trial, best loss: 0.8622192611057068]"
     ]
    },
    {
     "name": "stderr",
     "output_type": "stream",
     "text": [
      "hyperopt.tpe INFO  build_posterior_wrapper took 0.000000 seconds\n",
      "hyperopt.tpe INFO  TPE using 264/264 trials with best loss 0.862219\n",
      "py4j.clientserver INFO  Closing down clientserver connection\n"
     ]
    },
    {
     "name": "stdout",
     "output_type": "stream",
     "text": [
      " 25%|██▍       | 247/1000 [3:05:17<2:46:23, 13.26s/trial, best loss: 0.8622192611057068]"
     ]
    },
    {
     "name": "stderr",
     "output_type": "stream",
     "text": [
      "hyperopt.tpe INFO  build_posterior_wrapper took 0.000000 seconds\n",
      "hyperopt.tpe INFO  TPE using 265/265 trials with best loss 0.862219\n",
      "py4j.clientserver INFO  Closing down clientserver connection\n"
     ]
    },
    {
     "name": "stdout",
     "output_type": "stream",
     "text": [
      " 25%|██▍       | 248/1000 [3:05:22<2:15:34, 10.82s/trial, best loss: 0.8622192611057068]"
     ]
    },
    {
     "name": "stderr",
     "output_type": "stream",
     "text": [
      "hyperopt.tpe INFO  build_posterior_wrapper took 0.000000 seconds\n",
      "hyperopt.tpe INFO  TPE using 266/266 trials with best loss 0.862219\n",
      "py4j.clientserver INFO  Closing down clientserver connection\n"
     ]
    },
    {
     "name": "stdout",
     "output_type": "stream",
     "text": [
      " 25%|██▍       | 249/1000 [3:05:26<1:50:11,  8.80s/trial, best loss: 0.8622192611057068]"
     ]
    },
    {
     "name": "stderr",
     "output_type": "stream",
     "text": [
      "hyperopt.tpe INFO  build_posterior_wrapper took 0.000000 seconds\n",
      "hyperopt.tpe INFO  TPE using 267/267 trials with best loss 0.862219\n",
      "py4j.clientserver INFO  Closing down clientserver connection\n"
     ]
    },
    {
     "name": "stdout",
     "output_type": "stream",
     "text": [
      " 25%|██▌       | 250/1000 [3:05:45<2:28:59, 11.92s/trial, best loss: 0.8622192611057068]"
     ]
    },
    {
     "name": "stderr",
     "output_type": "stream",
     "text": [
      "hyperopt.tpe INFO  build_posterior_wrapper took 0.000000 seconds\n",
      "hyperopt.tpe INFO  TPE using 268/268 trials with best loss 0.862219\n",
      "py4j.clientserver INFO  Closing down clientserver connection\n"
     ]
    },
    {
     "name": "stdout",
     "output_type": "stream",
     "text": [
      " 25%|██▌       | 251/1000 [3:06:23<4:03:48, 19.53s/trial, best loss: 0.8622192611057068]"
     ]
    },
    {
     "name": "stderr",
     "output_type": "stream",
     "text": [
      "hyperopt.tpe INFO  build_posterior_wrapper took 0.000000 seconds\n",
      "hyperopt.tpe INFO  TPE using 269/269 trials with best loss 0.862219\n",
      "py4j.clientserver INFO  Closing down clientserver connection\n"
     ]
    },
    {
     "name": "stdout",
     "output_type": "stream",
     "text": [
      " 25%|██▌       | 252/1000 [3:08:46<11:48:38, 56.84s/trial, best loss: 0.8622192611057068]"
     ]
    },
    {
     "name": "stderr",
     "output_type": "stream",
     "text": [
      "hyperopt.tpe INFO  build_posterior_wrapper took 0.000000 seconds\n",
      "hyperopt.tpe INFO  TPE using 270/270 trials with best loss 0.862219\n",
      "py4j.clientserver INFO  Closing down clientserver connection\n"
     ]
    },
    {
     "name": "stdout",
     "output_type": "stream",
     "text": [
      " 25%|██▌       | 253/1000 [3:15:53<34:48:51, 167.78s/trial, best loss: 0.8622192611057068]"
     ]
    },
    {
     "name": "stderr",
     "output_type": "stream",
     "text": [
      "hyperopt.tpe INFO  build_posterior_wrapper took 0.000000 seconds\n",
      "hyperopt.tpe INFO  TPE using 271/271 trials with best loss 0.862219\n",
      "py4j.clientserver INFO  Closing down clientserver connection\n"
     ]
    },
    {
     "name": "stdout",
     "output_type": "stream",
     "text": [
      " 25%|██▌       | 254/1000 [3:16:33<26:50:38, 129.54s/trial, best loss: 0.8622192611057068]"
     ]
    },
    {
     "name": "stderr",
     "output_type": "stream",
     "text": [
      "hyperopt.tpe INFO  build_posterior_wrapper took 0.000000 seconds\n",
      "hyperopt.tpe INFO  TPE using 272/272 trials with best loss 0.862219\n",
      "py4j.clientserver INFO  Closing down clientserver connection\n"
     ]
    },
    {
     "name": "stdout",
     "output_type": "stream",
     "text": [
      " 26%|██▌       | 255/1000 [3:16:41<19:12:32, 92.82s/trial, best loss: 0.8622192611057068] "
     ]
    },
    {
     "name": "stderr",
     "output_type": "stream",
     "text": [
      "hyperopt.tpe INFO  build_posterior_wrapper took 0.000000 seconds\n",
      "hyperopt.tpe INFO  TPE using 273/273 trials with best loss 0.862219\n",
      "py4j.clientserver INFO  Closing down clientserver connection\n"
     ]
    },
    {
     "name": "stdout",
     "output_type": "stream",
     "text": [
      " 26%|██▌       | 256/1000 [3:16:54<14:14:36, 68.92s/trial, best loss: 0.8622192611057068]"
     ]
    },
    {
     "name": "stderr",
     "output_type": "stream",
     "text": [
      "hyperopt.tpe INFO  build_posterior_wrapper took 0.000000 seconds\n",
      "hyperopt.tpe INFO  TPE using 274/274 trials with best loss 0.862219\n",
      "py4j.clientserver INFO  Closing down clientserver connection\n"
     ]
    },
    {
     "name": "stdout",
     "output_type": "stream",
     "text": [
      " 26%|██▌       | 257/1000 [3:17:07<10:46:21, 52.20s/trial, best loss: 0.8622192611057068]"
     ]
    },
    {
     "name": "stderr",
     "output_type": "stream",
     "text": [
      "hyperopt.tpe INFO  build_posterior_wrapper took 0.000000 seconds\n",
      "hyperopt.tpe INFO  TPE using 275/275 trials with best loss 0.862219\n",
      "py4j.clientserver INFO  Closing down clientserver connection\n"
     ]
    },
    {
     "name": "stdout",
     "output_type": "stream",
     "text": [
      " 26%|██▌       | 258/1000 [3:17:13<7:54:36, 38.38s/trial, best loss: 0.8622192611057068] "
     ]
    },
    {
     "name": "stderr",
     "output_type": "stream",
     "text": [
      "hyperopt.tpe INFO  build_posterior_wrapper took 0.000000 seconds\n",
      "hyperopt.tpe INFO  TPE using 276/276 trials with best loss 0.862219\n",
      "py4j.clientserver INFO  Closing down clientserver connection\n"
     ]
    },
    {
     "name": "stdout",
     "output_type": "stream",
     "text": [
      " 26%|██▌       | 259/1000 [3:17:16<5:43:15, 27.79s/trial, best loss: 0.8622192611057068]"
     ]
    },
    {
     "name": "stderr",
     "output_type": "stream",
     "text": [
      "hyperopt.tpe INFO  build_posterior_wrapper took 0.000000 seconds\n",
      "hyperopt.tpe INFO  TPE using 277/277 trials with best loss 0.862219\n",
      "py4j.clientserver INFO  Closing down clientserver connection\n"
     ]
    },
    {
     "name": "stdout",
     "output_type": "stream",
     "text": [
      " 26%|██▌       | 260/1000 [3:17:21<4:18:50, 20.99s/trial, best loss: 0.8622192611057068]"
     ]
    },
    {
     "name": "stderr",
     "output_type": "stream",
     "text": [
      "hyperopt.tpe INFO  build_posterior_wrapper took 0.000000 seconds\n",
      "hyperopt.tpe INFO  TPE using 278/278 trials with best loss 0.862219\n",
      "py4j.clientserver INFO  Closing down clientserver connection\n"
     ]
    },
    {
     "name": "stdout",
     "output_type": "stream",
     "text": [
      " 26%|██▌       | 261/1000 [3:17:27<3:23:34, 16.53s/trial, best loss: 0.8622192611057068]"
     ]
    },
    {
     "name": "stderr",
     "output_type": "stream",
     "text": [
      "hyperopt.tpe INFO  build_posterior_wrapper took 0.000000 seconds\n",
      "hyperopt.tpe INFO  TPE using 279/279 trials with best loss 0.862219\n",
      "py4j.clientserver INFO  Closing down clientserver connection\n"
     ]
    },
    {
     "name": "stdout",
     "output_type": "stream",
     "text": [
      " 26%|██▌       | 262/1000 [3:17:28<2:26:22, 11.90s/trial, best loss: 0.8622192611057068]"
     ]
    },
    {
     "name": "stderr",
     "output_type": "stream",
     "text": [
      "hyperopt.tpe INFO  build_posterior_wrapper took 0.000000 seconds\n",
      "hyperopt.tpe INFO  TPE using 280/280 trials with best loss 0.862219\n",
      "py4j.clientserver INFO  Closing down clientserver connection\n"
     ]
    },
    {
     "name": "stdout",
     "output_type": "stream",
     "text": [
      " 26%|██▋       | 263/1000 [3:17:56<3:22:43, 16.50s/trial, best loss: 0.8622192611057068]"
     ]
    },
    {
     "name": "stderr",
     "output_type": "stream",
     "text": [
      "hyperopt.tpe INFO  build_posterior_wrapper took 0.000000 seconds\n",
      "hyperopt.tpe INFO  TPE using 281/281 trials with best loss 0.862219\n",
      "py4j.clientserver INFO  Closing down clientserver connection\n"
     ]
    },
    {
     "name": "stdout",
     "output_type": "stream",
     "text": [
      " 26%|██▋       | 264/1000 [3:18:00<2:36:47, 12.78s/trial, best loss: 0.8622192611057068]"
     ]
    },
    {
     "name": "stderr",
     "output_type": "stream",
     "text": [
      "hyperopt.tpe INFO  build_posterior_wrapper took 0.000000 seconds\n",
      "hyperopt.tpe INFO  TPE using 282/282 trials with best loss 0.862219\n",
      "py4j.clientserver INFO  Closing down clientserver connection\n"
     ]
    },
    {
     "name": "stdout",
     "output_type": "stream",
     "text": [
      " 26%|██▋       | 265/1000 [3:18:08<2:19:29, 11.39s/trial, best loss: 0.8622192611057068]"
     ]
    },
    {
     "name": "stderr",
     "output_type": "stream",
     "text": [
      "hyperopt.tpe INFO  build_posterior_wrapper took 0.000000 seconds\n",
      "hyperopt.tpe INFO  TPE using 283/283 trials with best loss 0.862219\n",
      "py4j.clientserver INFO  Closing down clientserver connection\n"
     ]
    },
    {
     "name": "stdout",
     "output_type": "stream",
     "text": [
      " 27%|██▋       | 266/1000 [3:18:10<1:45:11,  8.60s/trial, best loss: 0.8622192611057068]"
     ]
    },
    {
     "name": "stderr",
     "output_type": "stream",
     "text": [
      "hyperopt.tpe INFO  build_posterior_wrapper took 0.000000 seconds\n",
      "hyperopt.tpe INFO  TPE using 284/284 trials with best loss 0.862219\n",
      "py4j.clientserver INFO  Closing down clientserver connection\n"
     ]
    },
    {
     "name": "stdout",
     "output_type": "stream",
     "text": [
      " 27%|██▋       | 267/1000 [3:18:41<3:08:12, 15.41s/trial, best loss: 0.8622192611057068]"
     ]
    },
    {
     "name": "stderr",
     "output_type": "stream",
     "text": [
      "hyperopt.tpe INFO  build_posterior_wrapper took 0.000000 seconds\n",
      "hyperopt.tpe INFO  TPE using 285/285 trials with best loss 0.862219\n",
      "py4j.clientserver INFO  Closing down clientserver connection\n"
     ]
    },
    {
     "name": "stdout",
     "output_type": "stream",
     "text": [
      " 27%|██▋       | 268/1000 [3:19:11<3:58:32, 19.55s/trial, best loss: 0.8622192611057068]"
     ]
    },
    {
     "name": "stderr",
     "output_type": "stream",
     "text": [
      "hyperopt.tpe INFO  build_posterior_wrapper took 0.000000 seconds\n",
      "hyperopt.tpe INFO  TPE using 286/286 trials with best loss 0.862219\n",
      "py4j.clientserver INFO  Closing down clientserver connection\n"
     ]
    },
    {
     "name": "stdout",
     "output_type": "stream",
     "text": [
      " 27%|██▋       | 269/1000 [3:19:20<3:20:16, 16.44s/trial, best loss: 0.8622192611057068]"
     ]
    },
    {
     "name": "stderr",
     "output_type": "stream",
     "text": [
      "hyperopt.tpe INFO  build_posterior_wrapper took 0.000000 seconds\n",
      "hyperopt.tpe INFO  TPE using 287/287 trials with best loss 0.862219\n",
      "py4j.clientserver INFO  Closing down clientserver connection\n"
     ]
    },
    {
     "name": "stdout",
     "output_type": "stream",
     "text": [
      " 27%|██▋       | 270/1000 [3:22:17<13:05:39, 64.57s/trial, best loss: 0.8622192611057068]"
     ]
    },
    {
     "name": "stderr",
     "output_type": "stream",
     "text": [
      "hyperopt.tpe INFO  build_posterior_wrapper took 0.000000 seconds\n",
      "hyperopt.tpe INFO  TPE using 288/288 trials with best loss 0.862219\n",
      "py4j.clientserver INFO  Closing down clientserver connection\n"
     ]
    },
    {
     "name": "stdout",
     "output_type": "stream",
     "text": [
      " 27%|██▋       | 271/1000 [3:28:48<32:55:39, 162.61s/trial, best loss: 0.8622192611057068]"
     ]
    },
    {
     "name": "stderr",
     "output_type": "stream",
     "text": [
      "hyperopt.tpe INFO  build_posterior_wrapper took 0.000000 seconds\n",
      "hyperopt.tpe INFO  TPE using 289/289 trials with best loss 0.862219\n",
      "py4j.clientserver INFO  Closing down clientserver connection\n"
     ]
    },
    {
     "name": "stdout",
     "output_type": "stream",
     "text": [
      " 27%|██▋       | 272/1000 [3:29:38<26:04:32, 128.95s/trial, best loss: 0.8622192611057068]"
     ]
    },
    {
     "name": "stderr",
     "output_type": "stream",
     "text": [
      "hyperopt.tpe INFO  build_posterior_wrapper took 0.000000 seconds\n",
      "hyperopt.tpe INFO  TPE using 290/290 trials with best loss 0.862219\n",
      "py4j.clientserver INFO  Closing down clientserver connection\n"
     ]
    },
    {
     "name": "stdout",
     "output_type": "stream",
     "text": [
      " 27%|██▋       | 273/1000 [3:29:55<19:15:58, 95.40s/trial, best loss: 0.8622192611057068] "
     ]
    },
    {
     "name": "stderr",
     "output_type": "stream",
     "text": [
      "hyperopt.tpe INFO  build_posterior_wrapper took 0.003479 seconds\n",
      "hyperopt.tpe INFO  TPE using 291/291 trials with best loss 0.862219\n",
      "py4j.clientserver INFO  Closing down clientserver connection\n"
     ]
    },
    {
     "name": "stdout",
     "output_type": "stream",
     "text": [
      " 27%|██▋       | 274/1000 [3:30:03<13:53:56, 68.92s/trial, best loss: 0.8622192611057068]"
     ]
    },
    {
     "name": "stderr",
     "output_type": "stream",
     "text": [
      "hyperopt.tpe INFO  build_posterior_wrapper took 0.000000 seconds\n",
      "hyperopt.tpe INFO  TPE using 292/292 trials with best loss 0.862219\n",
      "py4j.clientserver INFO  Closing down clientserver connection\n"
     ]
    },
    {
     "name": "stdout",
     "output_type": "stream",
     "text": [
      " 28%|██▊       | 275/1000 [3:30:05<9:50:33, 48.87s/trial, best loss: 0.8622192611057068] "
     ]
    },
    {
     "name": "stderr",
     "output_type": "stream",
     "text": [
      "hyperopt.tpe INFO  build_posterior_wrapper took 0.000000 seconds\n",
      "hyperopt.tpe INFO  TPE using 293/293 trials with best loss 0.862219\n",
      "py4j.clientserver INFO  Closing down clientserver connection\n"
     ]
    },
    {
     "name": "stdout",
     "output_type": "stream",
     "text": [
      " 28%|██▊       | 276/1000 [3:30:11<7:15:05, 36.06s/trial, best loss: 0.8622192611057068]"
     ]
    },
    {
     "name": "stderr",
     "output_type": "stream",
     "text": [
      "hyperopt.tpe INFO  build_posterior_wrapper took 0.000000 seconds\n",
      "hyperopt.tpe INFO  TPE using 294/294 trials with best loss 0.862219\n",
      "py4j.clientserver INFO  Closing down clientserver connection\n"
     ]
    },
    {
     "name": "stdout",
     "output_type": "stream",
     "text": [
      " 28%|██▊       | 277/1000 [3:30:19<5:33:29, 27.68s/trial, best loss: 0.8622192611057068]"
     ]
    },
    {
     "name": "stderr",
     "output_type": "stream",
     "text": [
      "hyperopt.tpe INFO  build_posterior_wrapper took 0.000000 seconds\n",
      "hyperopt.tpe INFO  TPE using 295/295 trials with best loss 0.862219\n",
      "py4j.clientserver INFO  Closing down clientserver connection\n"
     ]
    },
    {
     "name": "stdout",
     "output_type": "stream",
     "text": [
      " 28%|██▊       | 278/1000 [3:30:23<4:07:53, 20.60s/trial, best loss: 0.8622192611057068]"
     ]
    },
    {
     "name": "stderr",
     "output_type": "stream",
     "text": [
      "py4j.clientserver INFO  Closing down clientserver connection\n"
     ]
    },
    {
     "name": "stdout",
     "output_type": "stream",
     "text": [
      " 28%|██▊       | 279/1000 [3:30:24<2:56:53, 14.72s/trial, best loss: 0.8622192611057068]"
     ]
    },
    {
     "name": "stderr",
     "output_type": "stream",
     "text": [
      "hyperopt.tpe INFO  build_posterior_wrapper took 0.000000 seconds\n",
      "hyperopt.tpe INFO  TPE using 296/296 trials with best loss 0.862219\n",
      "hyperopt.tpe INFO  build_posterior_wrapper took 0.000000 seconds\n",
      "hyperopt.tpe INFO  TPE using 297/297 trials with best loss 0.862219\n",
      "py4j.clientserver INFO  Closing down clientserver connection\n"
     ]
    },
    {
     "name": "stdout",
     "output_type": "stream",
     "text": [
      " 28%|██▊       | 280/1000 [3:30:45<3:20:22, 16.70s/trial, best loss: 0.8622192611057068]"
     ]
    },
    {
     "name": "stderr",
     "output_type": "stream",
     "text": [
      "hyperopt.tpe INFO  build_posterior_wrapper took 0.078137 seconds\n",
      "hyperopt.tpe INFO  TPE using 298/298 trials with best loss 0.862219\n",
      "py4j.clientserver INFO  Closing down clientserver connection\n"
     ]
    },
    {
     "name": "stdout",
     "output_type": "stream",
     "text": [
      " 28%|██▊       | 281/1000 [3:30:52<2:42:31, 13.56s/trial, best loss: 0.8622192611057068]"
     ]
    },
    {
     "name": "stderr",
     "output_type": "stream",
     "text": [
      "hyperopt.tpe INFO  build_posterior_wrapper took 0.000000 seconds\n",
      "hyperopt.tpe INFO  TPE using 299/299 trials with best loss 0.862219\n",
      "py4j.clientserver INFO  Closing down clientserver connection\n"
     ]
    },
    {
     "name": "stdout",
     "output_type": "stream",
     "text": [
      " 28%|██▊       | 282/1000 [3:31:07<2:48:05, 14.05s/trial, best loss: 0.8622192611057068]"
     ]
    },
    {
     "name": "stderr",
     "output_type": "stream",
     "text": [
      "hyperopt.tpe INFO  build_posterior_wrapper took 0.000000 seconds\n",
      "hyperopt.tpe INFO  TPE using 300/300 trials with best loss 0.862219\n",
      "py4j.clientserver INFO  Closing down clientserver connection\n"
     ]
    },
    {
     "name": "stdout",
     "output_type": "stream",
     "text": [
      " 28%|██▊       | 283/1000 [3:31:31<3:24:27, 17.11s/trial, best loss: 0.8622192611057068]"
     ]
    },
    {
     "name": "stderr",
     "output_type": "stream",
     "text": [
      "hyperopt.tpe INFO  build_posterior_wrapper took 0.000000 seconds\n",
      "hyperopt.tpe INFO  TPE using 301/301 trials with best loss 0.862219\n",
      "py4j.clientserver INFO  Closing down clientserver connection\n"
     ]
    },
    {
     "name": "stdout",
     "output_type": "stream",
     "text": [
      " 28%|██▊       | 284/1000 [3:31:33<2:30:25, 12.61s/trial, best loss: 0.8622192611057068]"
     ]
    },
    {
     "name": "stderr",
     "output_type": "stream",
     "text": [
      "hyperopt.tpe INFO  build_posterior_wrapper took 0.000000 seconds\n",
      "hyperopt.tpe INFO  TPE using 302/302 trials with best loss 0.862219\n",
      "py4j.clientserver INFO  Closing down clientserver connection\n"
     ]
    },
    {
     "name": "stdout",
     "output_type": "stream",
     "text": [
      " 28%|██▊       | 285/1000 [3:31:34<1:49:04,  9.15s/trial, best loss: 0.8622192611057068]"
     ]
    },
    {
     "name": "stderr",
     "output_type": "stream",
     "text": [
      "hyperopt.tpe INFO  build_posterior_wrapper took 0.000000 seconds\n",
      "hyperopt.tpe INFO  TPE using 303/303 trials with best loss 0.862219\n",
      "py4j.clientserver INFO  Closing down clientserver connection\n"
     ]
    },
    {
     "name": "stdout",
     "output_type": "stream",
     "text": [
      " 29%|██▊       | 286/1000 [3:32:40<5:09:56, 26.04s/trial, best loss: 0.8622192611057068]"
     ]
    },
    {
     "name": "stderr",
     "output_type": "stream",
     "text": [
      "hyperopt.tpe INFO  build_posterior_wrapper took 0.000000 seconds\n",
      "hyperopt.tpe INFO  TPE using 304/304 trials with best loss 0.862219\n",
      "py4j.clientserver INFO  Closing down clientserver connection\n"
     ]
    },
    {
     "name": "stdout",
     "output_type": "stream",
     "text": [
      " 29%|██▊       | 287/1000 [3:32:49<4:09:12, 20.97s/trial, best loss: 0.8622192611057068]"
     ]
    },
    {
     "name": "stderr",
     "output_type": "stream",
     "text": [
      "hyperopt.tpe INFO  build_posterior_wrapper took 0.000000 seconds\n",
      "hyperopt.tpe INFO  TPE using 305/305 trials with best loss 0.862219\n",
      "py4j.clientserver INFO  Closing down clientserver connection\n"
     ]
    },
    {
     "name": "stdout",
     "output_type": "stream",
     "text": [
      " 29%|██▉       | 288/1000 [3:35:07<11:05:00, 56.04s/trial, best loss: 0.8622192611057068]"
     ]
    },
    {
     "name": "stderr",
     "output_type": "stream",
     "text": [
      "hyperopt.tpe INFO  build_posterior_wrapper took 0.000000 seconds\n",
      "hyperopt.tpe INFO  TPE using 306/306 trials with best loss 0.862219\n",
      "py4j.clientserver INFO  Closing down clientserver connection\n"
     ]
    },
    {
     "name": "stdout",
     "output_type": "stream",
     "text": [
      " 29%|██▉       | 289/1000 [3:41:52<31:45:15, 160.78s/trial, best loss: 0.8622192611057068]"
     ]
    },
    {
     "name": "stderr",
     "output_type": "stream",
     "text": [
      "hyperopt.tpe INFO  build_posterior_wrapper took 0.003000 seconds\n",
      "hyperopt.tpe INFO  TPE using 307/307 trials with best loss 0.862219\n",
      "py4j.clientserver INFO  Closing down clientserver connection\n"
     ]
    },
    {
     "name": "stdout",
     "output_type": "stream",
     "text": [
      " 29%|██▉       | 290/1000 [3:42:40<25:03:46, 127.08s/trial, best loss: 0.8622192611057068]"
     ]
    },
    {
     "name": "stderr",
     "output_type": "stream",
     "text": [
      "hyperopt.tpe INFO  build_posterior_wrapper took 0.003002 seconds\n",
      "hyperopt.tpe INFO  TPE using 308/308 trials with best loss 0.862219\n",
      "py4j.clientserver INFO  Closing down clientserver connection\n"
     ]
    },
    {
     "name": "stdout",
     "output_type": "stream",
     "text": [
      " 29%|██▉       | 291/1000 [3:43:02<18:46:29, 95.33s/trial, best loss: 0.8622192611057068] "
     ]
    },
    {
     "name": "stderr",
     "output_type": "stream",
     "text": [
      "hyperopt.tpe INFO  build_posterior_wrapper took 0.002999 seconds\n",
      "hyperopt.tpe INFO  TPE using 309/309 trials with best loss 0.862219\n",
      "py4j.clientserver INFO  Closing down clientserver connection\n"
     ]
    },
    {
     "name": "stdout",
     "output_type": "stream",
     "text": [
      " 29%|██▉       | 292/1000 [3:43:10<13:36:20, 69.18s/trial, best loss: 0.8622192611057068]"
     ]
    },
    {
     "name": "stderr",
     "output_type": "stream",
     "text": [
      "py4j.clientserver INFO  Closing down clientserver connection\n"
     ]
    },
    {
     "name": "stdout",
     "output_type": "stream",
     "text": [
      " 29%|██▉       | 293/1000 [3:43:11<9:34:11, 48.73s/trial, best loss: 0.8622192611057068] "
     ]
    },
    {
     "name": "stderr",
     "output_type": "stream",
     "text": [
      "hyperopt.tpe INFO  build_posterior_wrapper took 0.003000 seconds\n",
      "hyperopt.tpe INFO  TPE using 310/310 trials with best loss 0.862219\n",
      "hyperopt.tpe INFO  build_posterior_wrapper took 0.003070 seconds\n",
      "hyperopt.tpe INFO  TPE using 311/311 trials with best loss 0.862219\n",
      "py4j.clientserver INFO  Closing down clientserver connection\n"
     ]
    },
    {
     "name": "stdout",
     "output_type": "stream",
     "text": [
      " 29%|██▉       | 294/1000 [3:43:22<7:21:18, 37.50s/trial, best loss: 0.8622192611057068]"
     ]
    },
    {
     "name": "stderr",
     "output_type": "stream",
     "text": [
      "hyperopt.tpe INFO  build_posterior_wrapper took 0.003001 seconds\n",
      "hyperopt.tpe INFO  TPE using 312/312 trials with best loss 0.862219\n",
      "py4j.clientserver INFO  Closing down clientserver connection\n"
     ]
    },
    {
     "name": "stdout",
     "output_type": "stream",
     "text": [
      " 30%|██▉       | 295/1000 [3:43:36<5:58:34, 30.52s/trial, best loss: 0.8622192611057068]"
     ]
    },
    {
     "name": "stderr",
     "output_type": "stream",
     "text": [
      "hyperopt.tpe INFO  build_posterior_wrapper took 0.003109 seconds\n",
      "hyperopt.tpe INFO  TPE using 313/313 trials with best loss 0.862219\n",
      "py4j.clientserver INFO  Closing down clientserver connection\n"
     ]
    },
    {
     "name": "stdout",
     "output_type": "stream",
     "text": [
      " 30%|██▉       | 296/1000 [3:44:03<5:43:10, 29.25s/trial, best loss: 0.8622192611057068]"
     ]
    },
    {
     "name": "stderr",
     "output_type": "stream",
     "text": [
      "hyperopt.tpe INFO  build_posterior_wrapper took 0.003104 seconds\n",
      "hyperopt.tpe INFO  TPE using 314/314 trials with best loss 0.862219\n",
      "py4j.clientserver INFO  Closing down clientserver connection\n"
     ]
    },
    {
     "name": "stdout",
     "output_type": "stream",
     "text": [
      " 30%|██▉       | 297/1000 [3:44:06<4:10:52, 21.41s/trial, best loss: 0.8622192611057068]"
     ]
    },
    {
     "name": "stderr",
     "output_type": "stream",
     "text": [
      "hyperopt.tpe INFO  build_posterior_wrapper took 0.003001 seconds\n",
      "hyperopt.tpe INFO  TPE using 315/315 trials with best loss 0.862219\n",
      "py4j.clientserver INFO  Closing down clientserver connection\n"
     ]
    },
    {
     "name": "stdout",
     "output_type": "stream",
     "text": [
      " 30%|██▉       | 298/1000 [3:44:11<3:13:25, 16.53s/trial, best loss: 0.8622192611057068]"
     ]
    },
    {
     "name": "stderr",
     "output_type": "stream",
     "text": [
      "hyperopt.tpe INFO  build_posterior_wrapper took 0.003096 seconds\n",
      "hyperopt.tpe INFO  TPE using 316/316 trials with best loss 0.862219\n",
      "py4j.clientserver INFO  Closing down clientserver connection\n"
     ]
    },
    {
     "name": "stdout",
     "output_type": "stream",
     "text": [
      " 30%|██▉       | 299/1000 [3:45:17<6:08:14, 31.52s/trial, best loss: 0.8622192611057068]"
     ]
    },
    {
     "name": "stderr",
     "output_type": "stream",
     "text": [
      "hyperopt.tpe INFO  build_posterior_wrapper took 0.003003 seconds\n",
      "hyperopt.tpe INFO  TPE using 317/317 trials with best loss 0.862219\n",
      "py4j.clientserver INFO  Closing down clientserver connection\n",
      "py4j.clientserver INFO  Closing down clientserver connection\n"
     ]
    },
    {
     "name": "stdout",
     "output_type": "stream",
     "text": [
      " 30%|███       | 301/1000 [3:45:20<3:26:05, 17.69s/trial, best loss: 0.8622192611057068]"
     ]
    },
    {
     "name": "stderr",
     "output_type": "stream",
     "text": [
      "hyperopt.tpe INFO  build_posterior_wrapper took 0.002072 seconds\n",
      "hyperopt.tpe INFO  TPE using 318/318 trials with best loss 0.862219\n",
      "hyperopt.tpe INFO  build_posterior_wrapper took 0.002999 seconds\n",
      "hyperopt.tpe INFO  TPE using 319/319 trials with best loss 0.862219\n",
      "py4j.clientserver INFO  Closing down clientserver connection\n"
     ]
    },
    {
     "name": "stdout",
     "output_type": "stream",
     "text": [
      " 30%|███       | 302/1000 [3:45:32<3:07:20, 16.10s/trial, best loss: 0.8622192611057068]"
     ]
    },
    {
     "name": "stderr",
     "output_type": "stream",
     "text": [
      "hyperopt.tpe INFO  build_posterior_wrapper took 0.002004 seconds\n",
      "hyperopt.tpe INFO  TPE using 320/320 trials with best loss 0.862219\n",
      "py4j.clientserver INFO  Closing down clientserver connection\n"
     ]
    },
    {
     "name": "stdout",
     "output_type": "stream",
     "text": [
      " 30%|███       | 303/1000 [3:45:35<2:27:38, 12.71s/trial, best loss: 0.8622192611057068]"
     ]
    },
    {
     "name": "stderr",
     "output_type": "stream",
     "text": [
      "hyperopt.tpe INFO  build_posterior_wrapper took 0.004001 seconds\n",
      "hyperopt.tpe INFO  TPE using 321/321 trials with best loss 0.862219\n",
      "py4j.clientserver INFO  Closing down clientserver connection\n"
     ]
    },
    {
     "name": "stdout",
     "output_type": "stream",
     "text": [
      " 30%|███       | 304/1000 [3:45:47<2:25:48, 12.57s/trial, best loss: 0.8622192611057068]"
     ]
    },
    {
     "name": "stderr",
     "output_type": "stream",
     "text": [
      "hyperopt.tpe INFO  build_posterior_wrapper took 0.003002 seconds\n",
      "hyperopt.tpe INFO  TPE using 322/322 trials with best loss 0.862219\n",
      "py4j.clientserver INFO  Closing down clientserver connection\n"
     ]
    },
    {
     "name": "stdout",
     "output_type": "stream",
     "text": [
      " 30%|███       | 305/1000 [3:47:14<6:25:51, 33.31s/trial, best loss: 0.8622192611057068]"
     ]
    },
    {
     "name": "stderr",
     "output_type": "stream",
     "text": [
      "hyperopt.tpe INFO  build_posterior_wrapper took 0.002996 seconds\n",
      "hyperopt.tpe INFO  TPE using 323/323 trials with best loss 0.862219\n",
      "py4j.clientserver INFO  Closing down clientserver connection\n"
     ]
    },
    {
     "name": "stdout",
     "output_type": "stream",
     "text": [
      " 31%|███       | 306/1000 [3:49:08<10:51:33, 56.33s/trial, best loss: 0.8622192611057068]"
     ]
    },
    {
     "name": "stderr",
     "output_type": "stream",
     "text": [
      "hyperopt.tpe INFO  build_posterior_wrapper took 0.003000 seconds\n",
      "hyperopt.tpe INFO  TPE using 324/324 trials with best loss 0.862219\n",
      "py4j.clientserver INFO  Closing down clientserver connection\n"
     ]
    },
    {
     "name": "stdout",
     "output_type": "stream",
     "text": [
      " 31%|███       | 307/1000 [4:03:48<56:49:45, 295.22s/trial, best loss: 0.8622192611057068]"
     ]
    },
    {
     "name": "stderr",
     "output_type": "stream",
     "text": [
      "hyperopt.tpe INFO  build_posterior_wrapper took 0.000000 seconds\n",
      "hyperopt.tpe INFO  TPE using 325/325 trials with best loss 0.862219\n",
      "py4j.clientserver INFO  Closing down clientserver connection\n"
     ]
    },
    {
     "name": "stdout",
     "output_type": "stream",
     "text": [
      " 31%|███       | 308/1000 [4:04:04<40:59:18, 213.23s/trial, best loss: 0.8622192611057068]"
     ]
    },
    {
     "name": "stderr",
     "output_type": "stream",
     "text": [
      "hyperopt.tpe INFO  build_posterior_wrapper took 0.000000 seconds\n",
      "hyperopt.tpe INFO  TPE using 326/326 trials with best loss 0.862219\n",
      "py4j.clientserver INFO  Closing down clientserver connection\n"
     ]
    },
    {
     "name": "stdout",
     "output_type": "stream",
     "text": [
      " 31%|███       | 309/1000 [4:04:07<29:02:09, 151.27s/trial, best loss: 0.8622192611057068]"
     ]
    },
    {
     "name": "stderr",
     "output_type": "stream",
     "text": [
      "hyperopt.tpe INFO  build_posterior_wrapper took 0.000000 seconds\n",
      "hyperopt.tpe INFO  TPE using 327/327 trials with best loss 0.862219\n",
      "py4j.clientserver INFO  Closing down clientserver connection\n"
     ]
    },
    {
     "name": "stdout",
     "output_type": "stream",
     "text": [
      " 31%|███       | 310/1000 [4:04:20<21:08:53, 110.34s/trial, best loss: 0.8622192611057068]"
     ]
    },
    {
     "name": "stderr",
     "output_type": "stream",
     "text": [
      "hyperopt.tpe INFO  build_posterior_wrapper took 0.000000 seconds\n",
      "hyperopt.tpe INFO  TPE using 328/328 trials with best loss 0.862219\n",
      "py4j.clientserver INFO  Closing down clientserver connection\n"
     ]
    },
    {
     "name": "stdout",
     "output_type": "stream",
     "text": [
      " 31%|███       | 311/1000 [4:04:45<16:16:28, 85.03s/trial, best loss: 0.8622192611057068] "
     ]
    },
    {
     "name": "stderr",
     "output_type": "stream",
     "text": [
      "hyperopt.tpe INFO  build_posterior_wrapper took 0.000000 seconds\n",
      "hyperopt.tpe INFO  TPE using 329/329 trials with best loss 0.862219\n",
      "py4j.clientserver INFO  Closing down clientserver connection\n"
     ]
    },
    {
     "name": "stdout",
     "output_type": "stream",
     "text": [
      " 31%|███       | 312/1000 [4:04:52<11:48:42, 61.81s/trial, best loss: 0.8622192611057068]"
     ]
    },
    {
     "name": "stderr",
     "output_type": "stream",
     "text": [
      "hyperopt.tpe INFO  build_posterior_wrapper took 0.000000 seconds\n",
      "hyperopt.tpe INFO  TPE using 330/330 trials with best loss 0.862219\n",
      "py4j.clientserver INFO  Closing down clientserver connection\n"
     ]
    },
    {
     "name": "stdout",
     "output_type": "stream",
     "text": [
      " 31%|███▏      | 313/1000 [4:05:02<8:50:58, 46.37s/trial, best loss: 0.8622192611057068] "
     ]
    },
    {
     "name": "stderr",
     "output_type": "stream",
     "text": [
      "hyperopt.tpe INFO  build_posterior_wrapper took 0.000000 seconds\n",
      "hyperopt.tpe INFO  TPE using 331/331 trials with best loss 0.862219\n",
      "py4j.clientserver INFO  Closing down clientserver connection\n"
     ]
    },
    {
     "name": "stdout",
     "output_type": "stream",
     "text": [
      " 31%|███▏      | 314/1000 [4:05:09<6:32:36, 34.34s/trial, best loss: 0.8622192611057068]"
     ]
    },
    {
     "name": "stderr",
     "output_type": "stream",
     "text": [
      "py4j.clientserver INFO  Closing down clientserver connection\n"
     ]
    },
    {
     "name": "stdout",
     "output_type": "stream",
     "text": [
      " 32%|███▏      | 315/1000 [4:05:10<4:38:05, 24.36s/trial, best loss: 0.8622192611057068]"
     ]
    },
    {
     "name": "stderr",
     "output_type": "stream",
     "text": [
      "hyperopt.tpe INFO  build_posterior_wrapper took 0.000000 seconds\n",
      "hyperopt.tpe INFO  TPE using 332/332 trials with best loss 0.862219\n",
      "hyperopt.tpe INFO  build_posterior_wrapper took 0.000000 seconds\n",
      "hyperopt.tpe INFO  TPE using 333/333 trials with best loss 0.862219\n",
      "py4j.clientserver INFO  Closing down clientserver connection\n"
     ]
    },
    {
     "name": "stdout",
     "output_type": "stream",
     "text": [
      " 32%|███▏      | 316/1000 [4:06:16<7:01:52, 37.01s/trial, best loss: 0.8622192611057068]"
     ]
    },
    {
     "name": "stderr",
     "output_type": "stream",
     "text": [
      "hyperopt.tpe INFO  build_posterior_wrapper took 0.000000 seconds\n",
      "hyperopt.tpe INFO  TPE using 334/334 trials with best loss 0.862219\n",
      "py4j.clientserver INFO  Closing down clientserver connection\n"
     ]
    },
    {
     "name": "stdout",
     "output_type": "stream",
     "text": [
      " 32%|███▏      | 317/1000 [4:06:27<5:33:07, 29.26s/trial, best loss: 0.8622192611057068]"
     ]
    },
    {
     "name": "stderr",
     "output_type": "stream",
     "text": [
      "hyperopt.tpe INFO  build_posterior_wrapper took 0.000000 seconds\n",
      "hyperopt.tpe INFO  TPE using 335/335 trials with best loss 0.862219\n",
      "py4j.clientserver INFO  Closing down clientserver connection\n"
     ]
    },
    {
     "name": "stdout",
     "output_type": "stream",
     "text": [
      " 32%|███▏      | 318/1000 [4:06:29<4:00:03, 21.12s/trial, best loss: 0.8622192611057068]"
     ]
    },
    {
     "name": "stderr",
     "output_type": "stream",
     "text": [
      "hyperopt.tpe INFO  build_posterior_wrapper took 0.000000 seconds\n",
      "hyperopt.tpe INFO  TPE using 336/336 trials with best loss 0.862219\n",
      "py4j.clientserver INFO  Closing down clientserver connection\n"
     ]
    },
    {
     "name": "stdout",
     "output_type": "stream",
     "text": [
      " 32%|███▏      | 319/1000 [4:06:35<3:05:18, 16.33s/trial, best loss: 0.8622192611057068]"
     ]
    },
    {
     "name": "stderr",
     "output_type": "stream",
     "text": [
      "hyperopt.tpe INFO  build_posterior_wrapper took 0.000000 seconds\n",
      "hyperopt.tpe INFO  TPE using 337/337 trials with best loss 0.862219\n",
      "py4j.clientserver INFO  Closing down clientserver connection\n"
     ]
    },
    {
     "name": "stdout",
     "output_type": "stream",
     "text": [
      " 32%|███▏      | 320/1000 [4:06:46<2:47:23, 14.77s/trial, best loss: 0.8622192611057068]"
     ]
    },
    {
     "name": "stderr",
     "output_type": "stream",
     "text": [
      "hyperopt.tpe INFO  build_posterior_wrapper took 0.000000 seconds\n",
      "hyperopt.tpe INFO  TPE using 338/338 trials with best loss 0.862219\n",
      "py4j.clientserver INFO  Closing down clientserver connection\n"
     ]
    },
    {
     "name": "stdout",
     "output_type": "stream",
     "text": [
      " 32%|███▏      | 321/1000 [4:07:02<2:52:05, 15.21s/trial, best loss: 0.8622192611057068]"
     ]
    },
    {
     "name": "stderr",
     "output_type": "stream",
     "text": [
      "hyperopt.tpe INFO  build_posterior_wrapper took 0.000000 seconds\n",
      "hyperopt.tpe INFO  TPE using 339/339 trials with best loss 0.862219\n",
      "py4j.clientserver INFO  Closing down clientserver connection\n"
     ]
    },
    {
     "name": "stdout",
     "output_type": "stream",
     "text": [
      " 32%|███▏      | 322/1000 [4:07:15<2:44:54, 14.59s/trial, best loss: 0.8622192611057068]"
     ]
    },
    {
     "name": "stderr",
     "output_type": "stream",
     "text": [
      "hyperopt.tpe INFO  build_posterior_wrapper took 0.000000 seconds\n",
      "hyperopt.tpe INFO  TPE using 340/340 trials with best loss 0.862219\n",
      "py4j.clientserver INFO  Closing down clientserver connection\n"
     ]
    },
    {
     "name": "stdout",
     "output_type": "stream",
     "text": [
      " 32%|███▏      | 323/1000 [4:08:04<4:42:21, 25.02s/trial, best loss: 0.8622192611057068]"
     ]
    },
    {
     "name": "stderr",
     "output_type": "stream",
     "text": [
      "hyperopt.tpe INFO  build_posterior_wrapper took 0.000000 seconds\n",
      "hyperopt.tpe INFO  TPE using 341/341 trials with best loss 0.862219\n",
      "py4j.clientserver INFO  Closing down clientserver connection\n"
     ]
    },
    {
     "name": "stdout",
     "output_type": "stream",
     "text": [
      " 32%|███▏      | 324/1000 [4:09:51<9:17:54, 49.52s/trial, best loss: 0.8622192611057068]"
     ]
    },
    {
     "name": "stderr",
     "output_type": "stream",
     "text": [
      "hyperopt.tpe INFO  build_posterior_wrapper took 0.000000 seconds\n",
      "hyperopt.tpe INFO  TPE using 342/342 trials with best loss 0.862219\n",
      "py4j.clientserver INFO  Closing down clientserver connection\n"
     ]
    },
    {
     "name": "stdout",
     "output_type": "stream",
     "text": [
      " 32%|███▎      | 325/1000 [4:24:26<55:43:54, 297.24s/trial, best loss: 0.8622192611057068]"
     ]
    },
    {
     "name": "stderr",
     "output_type": "stream",
     "text": [
      "hyperopt.tpe INFO  build_posterior_wrapper took 0.000000 seconds\n",
      "hyperopt.tpe INFO  TPE using 343/343 trials with best loss 0.862219\n",
      "py4j.clientserver INFO  Closing down clientserver connection\n"
     ]
    },
    {
     "name": "stdout",
     "output_type": "stream",
     "text": [
      " 33%|███▎      | 326/1000 [4:24:44<39:55:18, 213.23s/trial, best loss: 0.8622192611057068]"
     ]
    },
    {
     "name": "stderr",
     "output_type": "stream",
     "text": [
      "hyperopt.tpe INFO  build_posterior_wrapper took 0.000000 seconds\n",
      "hyperopt.tpe INFO  TPE using 344/344 trials with best loss 0.862219\n",
      "py4j.clientserver INFO  Closing down clientserver connection\n"
     ]
    },
    {
     "name": "stdout",
     "output_type": "stream",
     "text": [
      " 33%|███▎      | 327/1000 [4:25:15<29:39:25, 158.64s/trial, best loss: 0.8622192611057068]"
     ]
    },
    {
     "name": "stderr",
     "output_type": "stream",
     "text": [
      "hyperopt.tpe INFO  build_posterior_wrapper took 0.000000 seconds\n",
      "hyperopt.tpe INFO  TPE using 345/345 trials with best loss 0.862219\n",
      "py4j.clientserver INFO  Closing down clientserver connection\n"
     ]
    },
    {
     "name": "stdout",
     "output_type": "stream",
     "text": [
      " 33%|███▎      | 328/1000 [4:25:21<21:04:17, 112.88s/trial, best loss: 0.8622192611057068]"
     ]
    },
    {
     "name": "stderr",
     "output_type": "stream",
     "text": [
      "hyperopt.tpe INFO  build_posterior_wrapper took 0.000000 seconds\n",
      "hyperopt.tpe INFO  TPE using 346/346 trials with best loss 0.862219\n",
      "py4j.clientserver INFO  Closing down clientserver connection\n"
     ]
    },
    {
     "name": "stdout",
     "output_type": "stream",
     "text": [
      " 33%|███▎      | 329/1000 [4:25:30<15:14:28, 81.77s/trial, best loss: 0.8622192611057068] "
     ]
    },
    {
     "name": "stderr",
     "output_type": "stream",
     "text": [
      "hyperopt.tpe INFO  build_posterior_wrapper took 0.000000 seconds\n",
      "hyperopt.tpe INFO  TPE using 347/347 trials with best loss 0.862219\n",
      "py4j.clientserver INFO  Closing down clientserver connection\n"
     ]
    },
    {
     "name": "stdout",
     "output_type": "stream",
     "text": [
      " 33%|███▎      | 330/1000 [4:25:36<10:59:47, 59.09s/trial, best loss: 0.8622192611057068]"
     ]
    },
    {
     "name": "stderr",
     "output_type": "stream",
     "text": [
      "hyperopt.tpe INFO  build_posterior_wrapper took 0.000000 seconds\n",
      "hyperopt.tpe INFO  TPE using 348/348 trials with best loss 0.862219\n",
      "py4j.clientserver INFO  Closing down clientserver connection\n"
     ]
    },
    {
     "name": "stdout",
     "output_type": "stream",
     "text": [
      " 33%|███▎      | 331/1000 [4:26:17<9:56:04, 53.46s/trial, best loss: 0.8622192611057068] "
     ]
    },
    {
     "name": "stderr",
     "output_type": "stream",
     "text": [
      "hyperopt.tpe INFO  build_posterior_wrapper took 0.000000 seconds\n",
      "hyperopt.tpe INFO  TPE using 349/349 trials with best loss 0.862219\n",
      "py4j.clientserver INFO  Closing down clientserver connection\n"
     ]
    },
    {
     "name": "stdout",
     "output_type": "stream",
     "text": [
      " 33%|███▎      | 332/1000 [4:26:44<8:27:40, 45.60s/trial, best loss: 0.8622192611057068]"
     ]
    },
    {
     "name": "stderr",
     "output_type": "stream",
     "text": [
      "hyperopt.tpe INFO  build_posterior_wrapper took 0.000000 seconds\n",
      "hyperopt.tpe INFO  TPE using 350/350 trials with best loss 0.862219\n",
      "py4j.clientserver INFO  Closing down clientserver connection\n"
     ]
    },
    {
     "name": "stdout",
     "output_type": "stream",
     "text": [
      " 33%|███▎      | 333/1000 [4:26:56<6:35:27, 35.57s/trial, best loss: 0.8622192611057068]"
     ]
    },
    {
     "name": "stderr",
     "output_type": "stream",
     "text": [
      "hyperopt.tpe INFO  build_posterior_wrapper took 0.000000 seconds\n",
      "hyperopt.tpe INFO  TPE using 351/351 trials with best loss 0.862219\n",
      "py4j.clientserver INFO  Closing down clientserver connection\n"
     ]
    },
    {
     "name": "stdout",
     "output_type": "stream",
     "text": [
      " 33%|███▎      | 334/1000 [4:27:05<5:06:51, 27.65s/trial, best loss: 0.8622192611057068]"
     ]
    },
    {
     "name": "stderr",
     "output_type": "stream",
     "text": [
      "hyperopt.tpe INFO  build_posterior_wrapper took 0.000000 seconds\n",
      "hyperopt.tpe INFO  TPE using 352/352 trials with best loss 0.862219\n",
      "py4j.clientserver INFO  Closing down clientserver connection\n"
     ]
    },
    {
     "name": "stdout",
     "output_type": "stream",
     "text": [
      " 34%|███▎      | 335/1000 [4:27:07<3:41:30, 19.99s/trial, best loss: 0.8622192611057068]"
     ]
    },
    {
     "name": "stderr",
     "output_type": "stream",
     "text": [
      "hyperopt.tpe INFO  build_posterior_wrapper took 0.000000 seconds\n",
      "hyperopt.tpe INFO  TPE using 353/353 trials with best loss 0.862219\n",
      "py4j.clientserver INFO  Closing down clientserver connection\n"
     ]
    },
    {
     "name": "stdout",
     "output_type": "stream",
     "text": [
      " 34%|███▎      | 336/1000 [4:27:29<3:45:16, 20.36s/trial, best loss: 0.8622192611057068]"
     ]
    },
    {
     "name": "stderr",
     "output_type": "stream",
     "text": [
      "hyperopt.tpe INFO  build_posterior_wrapper took 0.000000 seconds\n",
      "hyperopt.tpe INFO  TPE using 354/354 trials with best loss 0.862219\n",
      "py4j.clientserver INFO  Closing down clientserver connection\n"
     ]
    },
    {
     "name": "stdout",
     "output_type": "stream",
     "text": [
      " 34%|███▎      | 337/1000 [4:27:46<3:34:22, 19.40s/trial, best loss: 0.8622192611057068]"
     ]
    },
    {
     "name": "stderr",
     "output_type": "stream",
     "text": [
      "hyperopt.tpe INFO  build_posterior_wrapper took 0.000000 seconds\n",
      "hyperopt.tpe INFO  TPE using 355/355 trials with best loss 0.862219\n",
      "py4j.clientserver INFO  Closing down clientserver connection\n"
     ]
    },
    {
     "name": "stdout",
     "output_type": "stream",
     "text": [
      " 34%|███▍      | 338/1000 [4:27:50<2:43:26, 14.81s/trial, best loss: 0.8622192611057068]"
     ]
    },
    {
     "name": "stderr",
     "output_type": "stream",
     "text": [
      "hyperopt.tpe INFO  build_posterior_wrapper took 0.000000 seconds\n",
      "hyperopt.tpe INFO  TPE using 356/356 trials with best loss 0.862219\n",
      "py4j.clientserver INFO  Closing down clientserver connection\n"
     ]
    },
    {
     "name": "stdout",
     "output_type": "stream",
     "text": [
      " 34%|███▍      | 339/1000 [4:28:30<4:07:40, 22.48s/trial, best loss: 0.8622192611057068]"
     ]
    },
    {
     "name": "stderr",
     "output_type": "stream",
     "text": [
      "hyperopt.tpe INFO  build_posterior_wrapper took 0.000000 seconds\n",
      "hyperopt.tpe INFO  TPE using 357/357 trials with best loss 0.862219\n",
      "py4j.clientserver INFO  Closing down clientserver connection\n"
     ]
    },
    {
     "name": "stdout",
     "output_type": "stream",
     "text": [
      " 34%|███▍      | 340/1000 [4:28:39<3:23:22, 18.49s/trial, best loss: 0.8622192611057068]"
     ]
    },
    {
     "name": "stderr",
     "output_type": "stream",
     "text": [
      "hyperopt.tpe INFO  build_posterior_wrapper took 0.000000 seconds\n",
      "hyperopt.tpe INFO  TPE using 358/358 trials with best loss 0.862219\n",
      "py4j.clientserver INFO  Closing down clientserver connection\n"
     ]
    },
    {
     "name": "stdout",
     "output_type": "stream",
     "text": [
      " 34%|███▍      | 341/1000 [4:29:21<4:38:29, 25.36s/trial, best loss: 0.8622192611057068]"
     ]
    },
    {
     "name": "stderr",
     "output_type": "stream",
     "text": [
      "hyperopt.tpe INFO  build_posterior_wrapper took 0.000000 seconds\n",
      "hyperopt.tpe INFO  TPE using 359/359 trials with best loss 0.862219\n",
      "py4j.clientserver INFO  Closing down clientserver connection\n"
     ]
    },
    {
     "name": "stdout",
     "output_type": "stream",
     "text": [
      " 34%|███▍      | 342/1000 [4:30:57<8:29:38, 46.47s/trial, best loss: 0.8475089947752418]"
     ]
    },
    {
     "name": "stderr",
     "output_type": "stream",
     "text": [
      "hyperopt.tpe INFO  build_posterior_wrapper took 0.000000 seconds\n",
      "hyperopt.tpe INFO  TPE using 360/360 trials with best loss 0.847509\n",
      "py4j.clientserver INFO  Closing down clientserver connection\n"
     ]
    },
    {
     "name": "stdout",
     "output_type": "stream",
     "text": [
      " 34%|███▍      | 343/1000 [4:44:52<51:40:27, 283.15s/trial, best loss: 0.8475089947752418]"
     ]
    },
    {
     "name": "stderr",
     "output_type": "stream",
     "text": [
      "hyperopt.tpe INFO  build_posterior_wrapper took 0.000000 seconds\n",
      "hyperopt.tpe INFO  TPE using 361/361 trials with best loss 0.847509\n",
      "py4j.clientserver INFO  Closing down clientserver connection\n"
     ]
    },
    {
     "name": "stdout",
     "output_type": "stream",
     "text": [
      " 34%|███▍      | 344/1000 [4:45:45<39:01:57, 214.20s/trial, best loss: 0.8475089947752418]"
     ]
    },
    {
     "name": "stderr",
     "output_type": "stream",
     "text": [
      "hyperopt.tpe INFO  build_posterior_wrapper took 0.000000 seconds\n",
      "hyperopt.tpe INFO  TPE using 362/362 trials with best loss 0.847509\n",
      "py4j.clientserver INFO  Closing down clientserver connection\n"
     ]
    },
    {
     "name": "stdout",
     "output_type": "stream",
     "text": [
      " 34%|███▍      | 345/1000 [4:45:46<27:20:30, 150.28s/trial, best loss: 0.8475089947752418]"
     ]
    },
    {
     "name": "stderr",
     "output_type": "stream",
     "text": [
      "hyperopt.tpe INFO  build_posterior_wrapper took 0.000000 seconds\n",
      "hyperopt.tpe INFO  TPE using 363/363 trials with best loss 0.847509\n",
      "py4j.clientserver INFO  Closing down clientserver connection\n"
     ]
    },
    {
     "name": "stdout",
     "output_type": "stream",
     "text": [
      " 35%|███▍      | 346/1000 [4:45:50<19:16:51, 106.13s/trial, best loss: 0.8475089947752418]"
     ]
    },
    {
     "name": "stderr",
     "output_type": "stream",
     "text": [
      "hyperopt.tpe INFO  build_posterior_wrapper took 0.000000 seconds\n",
      "hyperopt.tpe INFO  TPE using 364/364 trials with best loss 0.847509\n",
      "py4j.clientserver INFO  Closing down clientserver connection\n"
     ]
    },
    {
     "name": "stdout",
     "output_type": "stream",
     "text": [
      " 35%|███▍      | 347/1000 [4:46:10<14:34:20, 80.34s/trial, best loss: 0.8475089947752418] "
     ]
    },
    {
     "name": "stderr",
     "output_type": "stream",
     "text": [
      "hyperopt.tpe INFO  build_posterior_wrapper took 0.000000 seconds\n",
      "hyperopt.tpe INFO  TPE using 365/365 trials with best loss 0.847509\n",
      "py4j.clientserver INFO  Closing down clientserver connection\n"
     ]
    },
    {
     "name": "stdout",
     "output_type": "stream",
     "text": [
      " 35%|███▍      | 348/1000 [4:46:39<11:46:24, 65.01s/trial, best loss: 0.8475089947752418]"
     ]
    },
    {
     "name": "stderr",
     "output_type": "stream",
     "text": [
      "hyperopt.tpe INFO  build_posterior_wrapper took 0.000000 seconds\n",
      "hyperopt.tpe INFO  TPE using 366/366 trials with best loss 0.847509\n",
      "py4j.clientserver INFO  Closing down clientserver connection\n"
     ]
    },
    {
     "name": "stdout",
     "output_type": "stream",
     "text": [
      " 35%|███▍      | 349/1000 [4:47:11<9:58:51, 55.19s/trial, best loss: 0.8475089947752418] "
     ]
    },
    {
     "name": "stderr",
     "output_type": "stream",
     "text": [
      "hyperopt.tpe INFO  build_posterior_wrapper took 0.000000 seconds\n",
      "hyperopt.tpe INFO  TPE using 367/367 trials with best loss 0.847509\n",
      "py4j.clientserver INFO  Closing down clientserver connection\n"
     ]
    },
    {
     "name": "stdout",
     "output_type": "stream",
     "text": [
      " 35%|███▌      | 350/1000 [4:47:18<7:21:53, 40.79s/trial, best loss: 0.8475089947752418]"
     ]
    },
    {
     "name": "stderr",
     "output_type": "stream",
     "text": [
      "hyperopt.tpe INFO  build_posterior_wrapper took 0.000000 seconds\n",
      "hyperopt.tpe INFO  TPE using 368/368 trials with best loss 0.847509\n",
      "py4j.clientserver INFO  Closing down clientserver connection\n"
     ]
    },
    {
     "name": "stdout",
     "output_type": "stream",
     "text": [
      " 35%|███▌      | 351/1000 [4:47:22<5:22:14, 29.79s/trial, best loss: 0.8475089947752418]"
     ]
    },
    {
     "name": "stderr",
     "output_type": "stream",
     "text": [
      "hyperopt.tpe INFO  build_posterior_wrapper took 0.000000 seconds\n",
      "hyperopt.tpe INFO  TPE using 369/369 trials with best loss 0.847509\n",
      "py4j.clientserver INFO  Closing down clientserver connection\n"
     ]
    },
    {
     "name": "stdout",
     "output_type": "stream",
     "text": [
      " 35%|███▌      | 352/1000 [4:47:41<4:44:15, 26.32s/trial, best loss: 0.8475089947752418]"
     ]
    },
    {
     "name": "stderr",
     "output_type": "stream",
     "text": [
      "hyperopt.tpe INFO  build_posterior_wrapper took 0.000000 seconds\n",
      "hyperopt.tpe INFO  TPE using 370/370 trials with best loss 0.847509\n",
      "py4j.clientserver INFO  Closing down clientserver connection\n"
     ]
    },
    {
     "name": "stdout",
     "output_type": "stream",
     "text": [
      " 35%|███▌      | 353/1000 [4:48:02<4:27:26, 24.80s/trial, best loss: 0.8475089947752418]"
     ]
    },
    {
     "name": "stderr",
     "output_type": "stream",
     "text": [
      "hyperopt.tpe INFO  build_posterior_wrapper took 0.000000 seconds\n",
      "hyperopt.tpe INFO  TPE using 371/371 trials with best loss 0.847509\n",
      "py4j.clientserver INFO  Closing down clientserver connection\n"
     ]
    },
    {
     "name": "stdout",
     "output_type": "stream",
     "text": [
      " 35%|███▌      | 354/1000 [4:48:10<3:33:13, 19.80s/trial, best loss: 0.8475089947752418]"
     ]
    },
    {
     "name": "stderr",
     "output_type": "stream",
     "text": [
      "hyperopt.tpe INFO  build_posterior_wrapper took 0.000000 seconds\n",
      "hyperopt.tpe INFO  TPE using 372/372 trials with best loss 0.847509\n",
      "py4j.clientserver INFO  Closing down clientserver connection\n"
     ]
    },
    {
     "name": "stdout",
     "output_type": "stream",
     "text": [
      " 36%|███▌      | 355/1000 [4:48:12<2:35:50, 14.50s/trial, best loss: 0.8475089947752418]"
     ]
    },
    {
     "name": "stderr",
     "output_type": "stream",
     "text": [
      "hyperopt.tpe INFO  build_posterior_wrapper took 0.000000 seconds\n",
      "hyperopt.tpe INFO  TPE using 373/373 trials with best loss 0.847509\n",
      "py4j.clientserver INFO  Closing down clientserver connection\n"
     ]
    },
    {
     "name": "stdout",
     "output_type": "stream",
     "text": [
      " 36%|███▌      | 356/1000 [4:48:14<1:55:44, 10.78s/trial, best loss: 0.8475089947752418]"
     ]
    },
    {
     "name": "stderr",
     "output_type": "stream",
     "text": [
      "hyperopt.tpe INFO  build_posterior_wrapper took 0.000000 seconds\n",
      "hyperopt.tpe INFO  TPE using 374/374 trials with best loss 0.847509\n",
      "py4j.clientserver INFO  Closing down clientserver connection\n"
     ]
    },
    {
     "name": "stdout",
     "output_type": "stream",
     "text": [
      " 36%|███▌      | 357/1000 [4:49:04<3:59:42, 22.37s/trial, best loss: 0.8475089947752418]"
     ]
    },
    {
     "name": "stderr",
     "output_type": "stream",
     "text": [
      "hyperopt.tpe INFO  build_posterior_wrapper took 0.000000 seconds\n",
      "hyperopt.tpe INFO  TPE using 375/375 trials with best loss 0.847509\n",
      "py4j.clientserver INFO  Closing down clientserver connection\n"
     ]
    },
    {
     "name": "stdout",
     "output_type": "stream",
     "text": [
      " 36%|███▌      | 358/1000 [4:49:10<3:07:17, 17.50s/trial, best loss: 0.8475089947752418]"
     ]
    },
    {
     "name": "stderr",
     "output_type": "stream",
     "text": [
      "hyperopt.tpe INFO  build_posterior_wrapper took 0.000000 seconds\n",
      "hyperopt.tpe INFO  TPE using 376/376 trials with best loss 0.847509\n",
      "py4j.clientserver INFO  Closing down clientserver connection\n"
     ]
    },
    {
     "name": "stdout",
     "output_type": "stream",
     "text": [
      " 36%|███▌      | 359/1000 [4:50:04<5:05:17, 28.58s/trial, best loss: 0.8475089947752418]"
     ]
    },
    {
     "name": "stderr",
     "output_type": "stream",
     "text": [
      "hyperopt.tpe INFO  build_posterior_wrapper took 0.000000 seconds\n",
      "hyperopt.tpe INFO  TPE using 377/377 trials with best loss 0.847509\n",
      "py4j.clientserver INFO  Closing down clientserver connection\n"
     ]
    },
    {
     "name": "stdout",
     "output_type": "stream",
     "text": [
      " 36%|███▌      | 360/1000 [4:52:11<10:18:59, 58.03s/trial, best loss: 0.8475089947752418]"
     ]
    },
    {
     "name": "stderr",
     "output_type": "stream",
     "text": [
      "hyperopt.tpe INFO  build_posterior_wrapper took 0.000000 seconds\n",
      "hyperopt.tpe INFO  TPE using 378/378 trials with best loss 0.847509\n",
      "py4j.clientserver INFO  Closing down clientserver connection\n"
     ]
    },
    {
     "name": "stdout",
     "output_type": "stream",
     "text": [
      " 36%|███▌      | 361/1000 [5:06:00<51:22:29, 289.44s/trial, best loss: 0.8475089947752418]"
     ]
    },
    {
     "name": "stderr",
     "output_type": "stream",
     "text": [
      "hyperopt.tpe INFO  build_posterior_wrapper took 0.000000 seconds\n",
      "hyperopt.tpe INFO  TPE using 379/379 trials with best loss 0.847509\n",
      "py4j.clientserver INFO  Closing down clientserver connection\n"
     ]
    },
    {
     "name": "stdout",
     "output_type": "stream",
     "text": [
      " 36%|███▌      | 362/1000 [5:06:12<36:30:02, 205.96s/trial, best loss: 0.8475089947752418]"
     ]
    },
    {
     "name": "stderr",
     "output_type": "stream",
     "text": [
      "hyperopt.tpe INFO  build_posterior_wrapper took 0.000000 seconds\n",
      "hyperopt.tpe INFO  TPE using 380/380 trials with best loss 0.847509\n",
      "py4j.clientserver INFO  Closing down clientserver connection\n"
     ]
    },
    {
     "name": "stdout",
     "output_type": "stream",
     "text": [
      " 36%|███▋      | 363/1000 [5:06:17<25:46:59, 145.71s/trial, best loss: 0.8475089947752418]"
     ]
    },
    {
     "name": "stderr",
     "output_type": "stream",
     "text": [
      "hyperopt.tpe INFO  build_posterior_wrapper took 0.000000 seconds\n",
      "hyperopt.tpe INFO  TPE using 381/381 trials with best loss 0.847509\n",
      "py4j.clientserver INFO  Closing down clientserver connection\n"
     ]
    },
    {
     "name": "stdout",
     "output_type": "stream",
     "text": [
      " 36%|███▋      | 364/1000 [5:07:09<20:47:42, 117.71s/trial, best loss: 0.8475089947752418]"
     ]
    },
    {
     "name": "stderr",
     "output_type": "stream",
     "text": [
      "hyperopt.tpe INFO  build_posterior_wrapper took 0.000000 seconds\n",
      "hyperopt.tpe INFO  TPE using 382/382 trials with best loss 0.847509\n",
      "py4j.clientserver INFO  Closing down clientserver connection\n"
     ]
    },
    {
     "name": "stdout",
     "output_type": "stream",
     "text": [
      " 36%|███▋      | 365/1000 [5:07:12<14:41:58, 83.34s/trial, best loss: 0.8475089947752418] "
     ]
    },
    {
     "name": "stderr",
     "output_type": "stream",
     "text": [
      "hyperopt.tpe INFO  build_posterior_wrapper took 0.000000 seconds\n",
      "hyperopt.tpe INFO  TPE using 383/383 trials with best loss 0.847509\n",
      "py4j.clientserver INFO  Closing down clientserver connection\n"
     ]
    },
    {
     "name": "stdout",
     "output_type": "stream",
     "text": [
      " 37%|███▋      | 366/1000 [5:07:46<12:02:02, 68.33s/trial, best loss: 0.8475089947752418]"
     ]
    },
    {
     "name": "stderr",
     "output_type": "stream",
     "text": [
      "hyperopt.tpe INFO  build_posterior_wrapper took 0.000000 seconds\n",
      "hyperopt.tpe INFO  TPE using 384/384 trials with best loss 0.847509\n",
      "py4j.clientserver INFO  Closing down clientserver connection\n"
     ]
    },
    {
     "name": "stdout",
     "output_type": "stream",
     "text": [
      " 37%|███▋      | 367/1000 [5:07:49<8:34:31, 48.77s/trial, best loss: 0.8475089947752418] "
     ]
    },
    {
     "name": "stderr",
     "output_type": "stream",
     "text": [
      "hyperopt.tpe INFO  build_posterior_wrapper took 0.000000 seconds\n",
      "hyperopt.tpe INFO  TPE using 385/385 trials with best loss 0.847509\n",
      "py4j.clientserver INFO  Closing down clientserver connection\n"
     ]
    },
    {
     "name": "stdout",
     "output_type": "stream",
     "text": [
      " 37%|███▋      | 368/1000 [5:08:04<6:47:41, 38.70s/trial, best loss: 0.8475089947752418]"
     ]
    },
    {
     "name": "stderr",
     "output_type": "stream",
     "text": [
      "hyperopt.tpe INFO  build_posterior_wrapper took 0.000000 seconds\n",
      "hyperopt.tpe INFO  TPE using 386/386 trials with best loss 0.847509\n",
      "py4j.clientserver INFO  Closing down clientserver connection\n"
     ]
    },
    {
     "name": "stdout",
     "output_type": "stream",
     "text": [
      " 37%|███▋      | 369/1000 [5:08:15<5:20:09, 30.44s/trial, best loss: 0.8475089947752418]"
     ]
    },
    {
     "name": "stderr",
     "output_type": "stream",
     "text": [
      "hyperopt.tpe INFO  build_posterior_wrapper took 0.000000 seconds\n",
      "hyperopt.tpe INFO  TPE using 387/387 trials with best loss 0.847509\n",
      "py4j.clientserver INFO  Closing down clientserver connection\n"
     ]
    },
    {
     "name": "stdout",
     "output_type": "stream",
     "text": [
      " 37%|███▋      | 370/1000 [5:08:42<5:09:40, 29.49s/trial, best loss: 0.8475089947752418]"
     ]
    },
    {
     "name": "stderr",
     "output_type": "stream",
     "text": [
      "hyperopt.tpe INFO  build_posterior_wrapper took 0.000000 seconds\n",
      "hyperopt.tpe INFO  TPE using 388/388 trials with best loss 0.847509\n",
      "py4j.clientserver INFO  Closing down clientserver connection\n"
     ]
    },
    {
     "name": "stdout",
     "output_type": "stream",
     "text": [
      " 37%|███▋      | 371/1000 [5:08:44<3:43:06, 21.28s/trial, best loss: 0.8475089947752418]"
     ]
    },
    {
     "name": "stderr",
     "output_type": "stream",
     "text": [
      "hyperopt.tpe INFO  build_posterior_wrapper took 0.000000 seconds\n",
      "hyperopt.tpe INFO  TPE using 389/389 trials with best loss 0.847509\n",
      "py4j.clientserver INFO  Closing down clientserver connection\n"
     ]
    },
    {
     "name": "stdout",
     "output_type": "stream",
     "text": [
      " 37%|███▋      | 372/1000 [5:09:12<4:01:29, 23.07s/trial, best loss: 0.8475089947752418]"
     ]
    },
    {
     "name": "stderr",
     "output_type": "stream",
     "text": [
      "hyperopt.tpe INFO  build_posterior_wrapper took 0.000000 seconds\n",
      "hyperopt.tpe INFO  TPE using 390/390 trials with best loss 0.847509\n",
      "py4j.clientserver INFO  Closing down clientserver connection\n"
     ]
    },
    {
     "name": "stdout",
     "output_type": "stream",
     "text": [
      " 37%|███▋      | 373/1000 [5:09:20<3:14:18, 18.59s/trial, best loss: 0.8475089947752418]"
     ]
    },
    {
     "name": "stderr",
     "output_type": "stream",
     "text": [
      "hyperopt.tpe INFO  build_posterior_wrapper took 0.000000 seconds\n",
      "hyperopt.tpe INFO  TPE using 391/391 trials with best loss 0.847509\n",
      "py4j.clientserver INFO  Closing down clientserver connection\n"
     ]
    },
    {
     "name": "stdout",
     "output_type": "stream",
     "text": [
      " 37%|███▋      | 374/1000 [5:09:27<2:38:12, 15.16s/trial, best loss: 0.8475089947752418]"
     ]
    },
    {
     "name": "stderr",
     "output_type": "stream",
     "text": [
      "hyperopt.tpe INFO  build_posterior_wrapper took 0.000000 seconds\n",
      "hyperopt.tpe INFO  TPE using 392/392 trials with best loss 0.847509\n",
      "py4j.clientserver INFO  Closing down clientserver connection\n"
     ]
    },
    {
     "name": "stdout",
     "output_type": "stream",
     "text": [
      " 38%|███▊      | 375/1000 [5:09:34<2:12:52, 12.76s/trial, best loss: 0.8475089947752418]"
     ]
    },
    {
     "name": "stderr",
     "output_type": "stream",
     "text": [
      "hyperopt.tpe INFO  build_posterior_wrapper took 0.000692 seconds\n",
      "hyperopt.tpe INFO  TPE using 393/393 trials with best loss 0.847509\n",
      "py4j.clientserver INFO  Closing down clientserver connection\n"
     ]
    },
    {
     "name": "stdout",
     "output_type": "stream",
     "text": [
      " 38%|███▊      | 376/1000 [5:09:37<1:42:38,  9.87s/trial, best loss: 0.8475089947752418]"
     ]
    },
    {
     "name": "stderr",
     "output_type": "stream",
     "text": [
      "hyperopt.tpe INFO  build_posterior_wrapper took 0.000000 seconds\n",
      "hyperopt.tpe INFO  TPE using 394/394 trials with best loss 0.847509\n",
      "py4j.clientserver INFO  Closing down clientserver connection\n"
     ]
    },
    {
     "name": "stdout",
     "output_type": "stream",
     "text": [
      " 38%|███▊      | 377/1000 [5:10:31<3:57:56, 22.92s/trial, best loss: 0.8475089947752418]"
     ]
    },
    {
     "name": "stderr",
     "output_type": "stream",
     "text": [
      "hyperopt.tpe INFO  build_posterior_wrapper took 0.000000 seconds\n",
      "hyperopt.tpe INFO  TPE using 395/395 trials with best loss 0.847509\n",
      "py4j.clientserver INFO  Closing down clientserver connection\n"
     ]
    },
    {
     "name": "stdout",
     "output_type": "stream",
     "text": [
      " 38%|███▊      | 378/1000 [5:12:38<9:20:47, 54.10s/trial, best loss: 0.8475089947752418]"
     ]
    },
    {
     "name": "stderr",
     "output_type": "stream",
     "text": [
      "hyperopt.tpe INFO  build_posterior_wrapper took 0.000000 seconds\n",
      "hyperopt.tpe INFO  TPE using 396/396 trials with best loss 0.847509\n",
      "py4j.clientserver INFO  Closing down clientserver connection\n"
     ]
    },
    {
     "name": "stdout",
     "output_type": "stream",
     "text": [
      " 38%|███▊      | 379/1000 [5:26:43<50:18:25, 291.64s/trial, best loss: 0.8475089947752418]"
     ]
    },
    {
     "name": "stderr",
     "output_type": "stream",
     "text": [
      "hyperopt.tpe INFO  build_posterior_wrapper took 0.000000 seconds\n",
      "hyperopt.tpe INFO  TPE using 397/397 trials with best loss 0.847509\n",
      "py4j.clientserver INFO  Closing down clientserver connection\n"
     ]
    },
    {
     "name": "stdout",
     "output_type": "stream",
     "text": [
      " 38%|███▊      | 380/1000 [5:26:47<35:19:10, 205.08s/trial, best loss: 0.8475089947752418]"
     ]
    },
    {
     "name": "stderr",
     "output_type": "stream",
     "text": [
      "hyperopt.tpe INFO  build_posterior_wrapper took 0.000000 seconds\n",
      "hyperopt.tpe INFO  TPE using 398/398 trials with best loss 0.847509\n",
      "py4j.clientserver INFO  Closing down clientserver connection\n"
     ]
    },
    {
     "name": "stdout",
     "output_type": "stream",
     "text": [
      " 38%|███▊      | 381/1000 [5:27:32<27:01:18, 157.15s/trial, best loss: 0.8475089947752418]"
     ]
    },
    {
     "name": "stderr",
     "output_type": "stream",
     "text": [
      "hyperopt.tpe INFO  build_posterior_wrapper took 0.000000 seconds\n",
      "hyperopt.tpe INFO  TPE using 399/399 trials with best loss 0.847509\n",
      "py4j.clientserver INFO  Closing down clientserver connection\n"
     ]
    },
    {
     "name": "stdout",
     "output_type": "stream",
     "text": [
      " 38%|███▊      | 382/1000 [5:28:09<20:48:14, 121.19s/trial, best loss: 0.8475089947752418]"
     ]
    },
    {
     "name": "stderr",
     "output_type": "stream",
     "text": [
      "hyperopt.tpe INFO  build_posterior_wrapper took 0.000000 seconds\n",
      "hyperopt.tpe INFO  TPE using 400/400 trials with best loss 0.847509\n",
      "py4j.clientserver INFO  Closing down clientserver connection\n"
     ]
    },
    {
     "name": "stdout",
     "output_type": "stream",
     "text": [
      " 38%|███▊      | 383/1000 [5:28:11<14:38:57, 85.47s/trial, best loss: 0.8475089947752418] "
     ]
    },
    {
     "name": "stderr",
     "output_type": "stream",
     "text": [
      "hyperopt.tpe INFO  build_posterior_wrapper took 0.000000 seconds\n",
      "hyperopt.tpe INFO  TPE using 401/401 trials with best loss 0.847509\n",
      "py4j.clientserver INFO  Closing down clientserver connection\n"
     ]
    },
    {
     "name": "stdout",
     "output_type": "stream",
     "text": [
      " 38%|███▊      | 384/1000 [5:28:37<11:32:02, 67.41s/trial, best loss: 0.8475089947752418]"
     ]
    },
    {
     "name": "stderr",
     "output_type": "stream",
     "text": [
      "hyperopt.tpe INFO  build_posterior_wrapper took 0.000000 seconds\n",
      "hyperopt.tpe INFO  TPE using 402/402 trials with best loss 0.847509\n",
      "py4j.clientserver INFO  Closing down clientserver connection\n"
     ]
    },
    {
     "name": "stdout",
     "output_type": "stream",
     "text": [
      " 38%|███▊      | 385/1000 [5:28:49<8:41:05, 50.84s/trial, best loss: 0.8475089947752418] "
     ]
    },
    {
     "name": "stderr",
     "output_type": "stream",
     "text": [
      "hyperopt.tpe INFO  build_posterior_wrapper took 0.000000 seconds\n",
      "hyperopt.tpe INFO  TPE using 403/403 trials with best loss 0.847509\n",
      "py4j.clientserver INFO  Closing down clientserver connection\n"
     ]
    },
    {
     "name": "stdout",
     "output_type": "stream",
     "text": [
      " 39%|███▊      | 386/1000 [5:28:53<6:16:55, 36.83s/trial, best loss: 0.8475089947752418]"
     ]
    },
    {
     "name": "stderr",
     "output_type": "stream",
     "text": [
      "hyperopt.tpe INFO  build_posterior_wrapper took 0.000000 seconds\n",
      "hyperopt.tpe INFO  TPE using 404/404 trials with best loss 0.847509\n",
      "py4j.clientserver INFO  Closing down clientserver connection\n"
     ]
    },
    {
     "name": "stdout",
     "output_type": "stream",
     "text": [
      " 39%|███▊      | 387/1000 [5:29:29<6:14:49, 36.69s/trial, best loss: 0.8475089947752418]"
     ]
    },
    {
     "name": "stderr",
     "output_type": "stream",
     "text": [
      "hyperopt.tpe INFO  build_posterior_wrapper took 0.000000 seconds\n",
      "hyperopt.tpe INFO  TPE using 405/405 trials with best loss 0.847509\n",
      "py4j.clientserver INFO  Closing down clientserver connection\n"
     ]
    },
    {
     "name": "stdout",
     "output_type": "stream",
     "text": [
      " 39%|███▉      | 388/1000 [5:29:47<5:17:40, 31.14s/trial, best loss: 0.8475089947752418]"
     ]
    },
    {
     "name": "stderr",
     "output_type": "stream",
     "text": [
      "hyperopt.tpe INFO  build_posterior_wrapper took 0.000000 seconds\n",
      "hyperopt.tpe INFO  TPE using 406/406 trials with best loss 0.847509\n",
      "py4j.clientserver INFO  Closing down clientserver connection\n"
     ]
    },
    {
     "name": "stdout",
     "output_type": "stream",
     "text": [
      " 39%|███▉      | 389/1000 [5:29:51<3:51:35, 22.74s/trial, best loss: 0.8475089947752418]"
     ]
    },
    {
     "name": "stderr",
     "output_type": "stream",
     "text": [
      "hyperopt.tpe INFO  build_posterior_wrapper took 0.000000 seconds\n",
      "hyperopt.tpe INFO  TPE using 407/407 trials with best loss 0.847509\n",
      "py4j.clientserver INFO  Closing down clientserver connection\n"
     ]
    },
    {
     "name": "stdout",
     "output_type": "stream",
     "text": [
      " 39%|███▉      | 390/1000 [5:30:23<4:20:24, 25.61s/trial, best loss: 0.8475089947752418]"
     ]
    },
    {
     "name": "stderr",
     "output_type": "stream",
     "text": [
      "py4j.clientserver INFO  Closing down clientserver connection\n"
     ]
    },
    {
     "name": "stdout",
     "output_type": "stream",
     "text": [
      " 39%|███▉      | 391/1000 [5:30:24<3:05:01, 18.23s/trial, best loss: 0.8475089947752418]"
     ]
    },
    {
     "name": "stderr",
     "output_type": "stream",
     "text": [
      "hyperopt.tpe INFO  build_posterior_wrapper took 0.000000 seconds\n",
      "hyperopt.tpe INFO  TPE using 408/408 trials with best loss 0.847509\n",
      "hyperopt.tpe INFO  build_posterior_wrapper took 0.000000 seconds\n",
      "hyperopt.tpe INFO  TPE using 409/409 trials with best loss 0.847509\n",
      "py4j.clientserver INFO  Closing down clientserver connection\n"
     ]
    },
    {
     "name": "stdout",
     "output_type": "stream",
     "text": [
      " 39%|███▉      | 392/1000 [5:30:42<3:05:06, 18.27s/trial, best loss: 0.8475089947752418]"
     ]
    },
    {
     "name": "stderr",
     "output_type": "stream",
     "text": [
      "hyperopt.tpe INFO  build_posterior_wrapper took 0.000000 seconds\n",
      "hyperopt.tpe INFO  TPE using 410/410 trials with best loss 0.847509\n",
      "py4j.clientserver INFO  Closing down clientserver connection\n"
     ]
    },
    {
     "name": "stdout",
     "output_type": "stream",
     "text": [
      " 39%|███▉      | 393/1000 [5:30:45<2:18:50, 13.72s/trial, best loss: 0.8475089947752418]"
     ]
    },
    {
     "name": "stderr",
     "output_type": "stream",
     "text": [
      "hyperopt.tpe INFO  build_posterior_wrapper took 0.000000 seconds\n",
      "hyperopt.tpe INFO  TPE using 411/411 trials with best loss 0.847509\n",
      "py4j.clientserver INFO  Closing down clientserver connection\n"
     ]
    },
    {
     "name": "stdout",
     "output_type": "stream",
     "text": [
      " 39%|███▉      | 394/1000 [5:31:35<4:06:40, 24.42s/trial, best loss: 0.8475089947752418]"
     ]
    },
    {
     "name": "stderr",
     "output_type": "stream",
     "text": [
      "hyperopt.tpe INFO  build_posterior_wrapper took 0.000000 seconds\n",
      "hyperopt.tpe INFO  TPE using 412/412 trials with best loss 0.847509\n",
      "py4j.clientserver INFO  Closing down clientserver connection\n"
     ]
    },
    {
     "name": "stdout",
     "output_type": "stream",
     "text": [
      " 40%|███▉      | 395/1000 [5:31:43<3:17:07, 19.55s/trial, best loss: 0.8475089947752418]"
     ]
    },
    {
     "name": "stderr",
     "output_type": "stream",
     "text": [
      "hyperopt.tpe INFO  build_posterior_wrapper took 0.000000 seconds\n",
      "hyperopt.tpe INFO  TPE using 413/413 trials with best loss 0.847509\n",
      "py4j.clientserver INFO  Closing down clientserver connection\n"
     ]
    },
    {
     "name": "stdout",
     "output_type": "stream",
     "text": [
      " 40%|███▉      | 396/1000 [5:33:39<8:07:26, 48.42s/trial, best loss: 0.8475089947752418]"
     ]
    },
    {
     "name": "stderr",
     "output_type": "stream",
     "text": [
      "hyperopt.tpe INFO  build_posterior_wrapper took 0.000000 seconds\n",
      "hyperopt.tpe INFO  TPE using 414/414 trials with best loss 0.847509\n",
      "py4j.clientserver INFO  Closing down clientserver connection\n"
     ]
    },
    {
     "name": "stdout",
     "output_type": "stream",
     "text": [
      " 40%|███▉      | 397/1000 [5:47:54<48:38:42, 290.42s/trial, best loss: 0.8475089947752418]"
     ]
    },
    {
     "name": "stderr",
     "output_type": "stream",
     "text": [
      "hyperopt.tpe INFO  build_posterior_wrapper took 0.000000 seconds\n",
      "hyperopt.tpe INFO  TPE using 415/415 trials with best loss 0.847509\n",
      "py4j.clientserver INFO  Closing down clientserver connection\n"
     ]
    },
    {
     "name": "stdout",
     "output_type": "stream",
     "text": [
      " 40%|███▉      | 398/1000 [5:48:12<34:54:29, 208.75s/trial, best loss: 0.8475089947752418]"
     ]
    },
    {
     "name": "stderr",
     "output_type": "stream",
     "text": [
      "hyperopt.tpe INFO  build_posterior_wrapper took 0.000000 seconds\n",
      "hyperopt.tpe INFO  TPE using 416/416 trials with best loss 0.847509\n",
      "py4j.clientserver INFO  Closing down clientserver connection\n"
     ]
    },
    {
     "name": "stdout",
     "output_type": "stream",
     "text": [
      " 40%|███▉      | 399/1000 [5:48:39<25:45:46, 154.32s/trial, best loss: 0.8475089947752418]"
     ]
    },
    {
     "name": "stderr",
     "output_type": "stream",
     "text": [
      "hyperopt.tpe INFO  build_posterior_wrapper took 0.000000 seconds\n",
      "hyperopt.tpe INFO  TPE using 417/417 trials with best loss 0.847509\n",
      "py4j.clientserver INFO  Closing down clientserver connection\n"
     ]
    },
    {
     "name": "stdout",
     "output_type": "stream",
     "text": [
      " 40%|████      | 400/1000 [5:49:06<19:19:01, 115.90s/trial, best loss: 0.8475089947752418]"
     ]
    },
    {
     "name": "stderr",
     "output_type": "stream",
     "text": [
      "hyperopt.tpe INFO  build_posterior_wrapper took 0.000000 seconds\n",
      "hyperopt.tpe INFO  TPE using 418/418 trials with best loss 0.847509\n",
      "py4j.clientserver INFO  Closing down clientserver connection\n"
     ]
    },
    {
     "name": "stdout",
     "output_type": "stream",
     "text": [
      " 40%|████      | 401/1000 [5:49:14<13:54:29, 83.59s/trial, best loss: 0.8475089947752418] "
     ]
    },
    {
     "name": "stderr",
     "output_type": "stream",
     "text": [
      "hyperopt.tpe INFO  build_posterior_wrapper took 0.000000 seconds\n",
      "hyperopt.tpe INFO  TPE using 419/419 trials with best loss 0.847509\n",
      "py4j.clientserver INFO  Closing down clientserver connection\n"
     ]
    },
    {
     "name": "stdout",
     "output_type": "stream",
     "text": [
      " 40%|████      | 402/1000 [5:49:17<9:52:32, 59.45s/trial, best loss: 0.8452233445348383] "
     ]
    },
    {
     "name": "stderr",
     "output_type": "stream",
     "text": [
      "hyperopt.tpe INFO  build_posterior_wrapper took 0.000000 seconds\n",
      "hyperopt.tpe INFO  TPE using 420/420 trials with best loss 0.845223\n",
      "py4j.clientserver INFO  Closing down clientserver connection\n"
     ]
    },
    {
     "name": "stdout",
     "output_type": "stream",
     "text": [
      " 40%|████      | 403/1000 [5:49:50<8:33:25, 51.60s/trial, best loss: 0.8452233445348383]"
     ]
    },
    {
     "name": "stderr",
     "output_type": "stream",
     "text": [
      "hyperopt.tpe INFO  build_posterior_wrapper took 0.000000 seconds\n",
      "hyperopt.tpe INFO  TPE using 421/421 trials with best loss 0.845223\n",
      "py4j.clientserver INFO  Closing down clientserver connection\n"
     ]
    },
    {
     "name": "stdout",
     "output_type": "stream",
     "text": [
      " 40%|████      | 404/1000 [5:49:58<6:23:08, 38.57s/trial, best loss: 0.8452233445348383]"
     ]
    },
    {
     "name": "stderr",
     "output_type": "stream",
     "text": [
      "hyperopt.tpe INFO  build_posterior_wrapper took 0.000000 seconds\n",
      "hyperopt.tpe INFO  TPE using 422/422 trials with best loss 0.845223\n",
      "py4j.clientserver INFO  Closing down clientserver connection\n"
     ]
    },
    {
     "name": "stdout",
     "output_type": "stream",
     "text": [
      " 40%|████      | 405/1000 [5:50:00<4:34:04, 27.64s/trial, best loss: 0.8452233445348383]"
     ]
    },
    {
     "name": "stderr",
     "output_type": "stream",
     "text": [
      "hyperopt.tpe INFO  build_posterior_wrapper took 0.000000 seconds\n",
      "hyperopt.tpe INFO  TPE using 423/423 trials with best loss 0.845223\n",
      "py4j.clientserver INFO  Closing down clientserver connection\n"
     ]
    },
    {
     "name": "stdout",
     "output_type": "stream",
     "text": [
      " 41%|████      | 406/1000 [5:50:47<5:29:14, 33.26s/trial, best loss: 0.8452233445348383]"
     ]
    },
    {
     "name": "stderr",
     "output_type": "stream",
     "text": [
      "hyperopt.tpe INFO  build_posterior_wrapper took 0.000000 seconds\n",
      "hyperopt.tpe INFO  TPE using 424/424 trials with best loss 0.845223\n",
      "py4j.clientserver INFO  Closing down clientserver connection\n"
     ]
    },
    {
     "name": "stdout",
     "output_type": "stream",
     "text": [
      " 41%|████      | 407/1000 [5:50:50<3:59:23, 24.22s/trial, best loss: 0.8452233445348383]"
     ]
    },
    {
     "name": "stderr",
     "output_type": "stream",
     "text": [
      "hyperopt.tpe INFO  build_posterior_wrapper took 0.000000 seconds\n",
      "hyperopt.tpe INFO  TPE using 425/425 trials with best loss 0.845223\n",
      "py4j.clientserver INFO  Closing down clientserver connection\n"
     ]
    },
    {
     "name": "stdout",
     "output_type": "stream",
     "text": [
      " 41%|████      | 408/1000 [5:51:38<5:10:38, 31.48s/trial, best loss: 0.8452233445348383]"
     ]
    },
    {
     "name": "stderr",
     "output_type": "stream",
     "text": [
      "hyperopt.tpe INFO  build_posterior_wrapper took 0.000000 seconds\n",
      "hyperopt.tpe INFO  TPE using 426/426 trials with best loss 0.845223\n",
      "py4j.clientserver INFO  Closing down clientserver connection\n"
     ]
    },
    {
     "name": "stdout",
     "output_type": "stream",
     "text": [
      " 41%|████      | 409/1000 [5:51:45<3:55:16, 23.89s/trial, best loss: 0.8452233445348383]"
     ]
    },
    {
     "name": "stderr",
     "output_type": "stream",
     "text": [
      "hyperopt.tpe INFO  build_posterior_wrapper took 0.000000 seconds\n",
      "hyperopt.tpe INFO  TPE using 427/427 trials with best loss 0.845223\n",
      "py4j.clientserver INFO  Closing down clientserver connection\n"
     ]
    },
    {
     "name": "stdout",
     "output_type": "stream",
     "text": [
      " 41%|████      | 410/1000 [5:51:50<2:59:34, 18.26s/trial, best loss: 0.8452233445348383]"
     ]
    },
    {
     "name": "stderr",
     "output_type": "stream",
     "text": [
      "hyperopt.tpe INFO  build_posterior_wrapper took 0.000000 seconds\n",
      "hyperopt.tpe INFO  TPE using 428/428 trials with best loss 0.845223\n",
      "py4j.clientserver INFO  Closing down clientserver connection\n"
     ]
    },
    {
     "name": "stdout",
     "output_type": "stream",
     "text": [
      " 41%|████      | 411/1000 [5:52:05<2:50:19, 17.35s/trial, best loss: 0.8452233445348383]"
     ]
    },
    {
     "name": "stderr",
     "output_type": "stream",
     "text": [
      "hyperopt.tpe INFO  build_posterior_wrapper took 0.000000 seconds\n",
      "hyperopt.tpe INFO  TPE using 429/429 trials with best loss 0.845223\n",
      "py4j.clientserver INFO  Closing down clientserver connection\n"
     ]
    },
    {
     "name": "stdout",
     "output_type": "stream",
     "text": [
      " 41%|████      | 412/1000 [5:52:12<2:20:03, 14.29s/trial, best loss: 0.8452233445348383]"
     ]
    },
    {
     "name": "stderr",
     "output_type": "stream",
     "text": [
      "hyperopt.tpe INFO  build_posterior_wrapper took 0.000000 seconds\n",
      "hyperopt.tpe INFO  TPE using 430/430 trials with best loss 0.845223\n",
      "py4j.clientserver INFO  Closing down clientserver connection\n"
     ]
    },
    {
     "name": "stdout",
     "output_type": "stream",
     "text": [
      " 41%|████▏     | 413/1000 [5:52:43<3:09:51, 19.41s/trial, best loss: 0.8452233445348383]"
     ]
    },
    {
     "name": "stderr",
     "output_type": "stream",
     "text": [
      "hyperopt.tpe INFO  build_posterior_wrapper took 0.000000 seconds\n",
      "hyperopt.tpe INFO  TPE using 431/431 trials with best loss 0.845223\n",
      "py4j.clientserver INFO  Closing down clientserver connection\n"
     ]
    },
    {
     "name": "stdout",
     "output_type": "stream",
     "text": [
      " 41%|████▏     | 414/1000 [5:54:51<8:27:00, 51.91s/trial, best loss: 0.8452233445348383]"
     ]
    },
    {
     "name": "stderr",
     "output_type": "stream",
     "text": [
      "hyperopt.tpe INFO  build_posterior_wrapper took 0.000000 seconds\n",
      "hyperopt.tpe INFO  TPE using 432/432 trials with best loss 0.845223\n",
      "py4j.clientserver INFO  Closing down clientserver connection\n"
     ]
    },
    {
     "name": "stdout",
     "output_type": "stream",
     "text": [
      " 42%|████▏     | 415/1000 [6:08:56<47:06:36, 289.91s/trial, best loss: 0.8452233445348383]"
     ]
    },
    {
     "name": "stderr",
     "output_type": "stream",
     "text": [
      "hyperopt.tpe INFO  build_posterior_wrapper took 0.000000 seconds\n",
      "hyperopt.tpe INFO  TPE using 433/433 trials with best loss 0.845223\n",
      "py4j.clientserver INFO  Closing down clientserver connection\n"
     ]
    },
    {
     "name": "stdout",
     "output_type": "stream",
     "text": [
      " 42%|████▏     | 416/1000 [6:09:43<35:10:36, 216.84s/trial, best loss: 0.8452233445348383]"
     ]
    },
    {
     "name": "stderr",
     "output_type": "stream",
     "text": [
      "hyperopt.tpe INFO  build_posterior_wrapper took 0.093762 seconds\n",
      "hyperopt.tpe INFO  TPE using 434/434 trials with best loss 0.845223\n",
      "py4j.clientserver INFO  Closing down clientserver connection\n"
     ]
    },
    {
     "name": "stdout",
     "output_type": "stream",
     "text": [
      " 42%|████▏     | 417/1000 [6:09:47<24:47:14, 153.06s/trial, best loss: 0.8452233445348383]"
     ]
    },
    {
     "name": "stderr",
     "output_type": "stream",
     "text": [
      "hyperopt.tpe INFO  build_posterior_wrapper took 0.000000 seconds\n",
      "hyperopt.tpe INFO  TPE using 435/435 trials with best loss 0.845223\n",
      "py4j.clientserver INFO  Closing down clientserver connection\n"
     ]
    },
    {
     "name": "stdout",
     "output_type": "stream",
     "text": [
      " 42%|████▏     | 418/1000 [6:09:57<17:48:55, 110.20s/trial, best loss: 0.8452233445348383]"
     ]
    },
    {
     "name": "stderr",
     "output_type": "stream",
     "text": [
      "hyperopt.tpe INFO  build_posterior_wrapper took 0.000000 seconds\n",
      "hyperopt.tpe INFO  TPE using 436/436 trials with best loss 0.845223\n",
      "py4j.clientserver INFO  Closing down clientserver connection\n"
     ]
    },
    {
     "name": "stdout",
     "output_type": "stream",
     "text": [
      " 42%|████▏     | 419/1000 [6:10:16<13:22:55, 82.92s/trial, best loss: 0.8452233445348383] "
     ]
    },
    {
     "name": "stderr",
     "output_type": "stream",
     "text": [
      "hyperopt.tpe INFO  build_posterior_wrapper took 0.000000 seconds\n",
      "hyperopt.tpe INFO  TPE using 437/437 trials with best loss 0.845223\n",
      "py4j.clientserver INFO  Closing down clientserver connection\n"
     ]
    },
    {
     "name": "stdout",
     "output_type": "stream",
     "text": [
      " 42%|████▏     | 420/1000 [6:10:22<9:35:58, 59.58s/trial, best loss: 0.8452233445348383] "
     ]
    },
    {
     "name": "stderr",
     "output_type": "stream",
     "text": [
      "hyperopt.tpe INFO  build_posterior_wrapper took 0.000000 seconds\n",
      "hyperopt.tpe INFO  TPE using 438/438 trials with best loss 0.845223\n",
      "py4j.clientserver INFO  Closing down clientserver connection\n"
     ]
    },
    {
     "name": "stdout",
     "output_type": "stream",
     "text": [
      " 42%|████▏     | 421/1000 [6:10:36<7:23:29, 45.96s/trial, best loss: 0.8452233445348383]"
     ]
    },
    {
     "name": "stderr",
     "output_type": "stream",
     "text": [
      "hyperopt.tpe INFO  build_posterior_wrapper took 0.000000 seconds\n",
      "hyperopt.tpe INFO  TPE using 439/439 trials with best loss 0.845223\n",
      "py4j.clientserver INFO  Closing down clientserver connection\n"
     ]
    },
    {
     "name": "stdout",
     "output_type": "stream",
     "text": [
      " 42%|████▏     | 422/1000 [6:10:41<5:24:43, 33.71s/trial, best loss: 0.8452233445348383]"
     ]
    },
    {
     "name": "stderr",
     "output_type": "stream",
     "text": [
      "hyperopt.tpe INFO  build_posterior_wrapper took 0.000000 seconds\n",
      "hyperopt.tpe INFO  TPE using 440/440 trials with best loss 0.845223\n",
      "py4j.clientserver INFO  Closing down clientserver connection\n"
     ]
    },
    {
     "name": "stdout",
     "output_type": "stream",
     "text": [
      " 42%|████▏     | 423/1000 [6:11:08<5:05:37, 31.78s/trial, best loss: 0.8452233445348383]"
     ]
    },
    {
     "name": "stderr",
     "output_type": "stream",
     "text": [
      "hyperopt.tpe INFO  build_posterior_wrapper took 0.000000 seconds\n",
      "hyperopt.tpe INFO  TPE using 441/441 trials with best loss 0.845223\n",
      "py4j.clientserver INFO  Closing down clientserver connection\n"
     ]
    },
    {
     "name": "stdout",
     "output_type": "stream",
     "text": [
      " 42%|████▏     | 424/1000 [6:11:23<4:17:20, 26.81s/trial, best loss: 0.8452233445348383]"
     ]
    },
    {
     "name": "stderr",
     "output_type": "stream",
     "text": [
      "hyperopt.tpe INFO  build_posterior_wrapper took 0.005191 seconds\n",
      "hyperopt.tpe INFO  TPE using 442/442 trials with best loss 0.845223\n",
      "py4j.clientserver INFO  Closing down clientserver connection\n"
     ]
    },
    {
     "name": "stdout",
     "output_type": "stream",
     "text": [
      " 42%|████▎     | 425/1000 [6:12:10<5:13:13, 32.68s/trial, best loss: 0.8452233445348383]"
     ]
    },
    {
     "name": "stderr",
     "output_type": "stream",
     "text": [
      "hyperopt.tpe INFO  build_posterior_wrapper took 0.000000 seconds\n",
      "hyperopt.tpe INFO  TPE using 443/443 trials with best loss 0.845223\n",
      "py4j.clientserver INFO  Closing down clientserver connection\n"
     ]
    },
    {
     "name": "stdout",
     "output_type": "stream",
     "text": [
      " 43%|████▎     | 426/1000 [6:12:18<4:02:23, 25.34s/trial, best loss: 0.8452233445348383]"
     ]
    },
    {
     "name": "stderr",
     "output_type": "stream",
     "text": [
      "hyperopt.tpe INFO  build_posterior_wrapper took 0.000000 seconds\n",
      "hyperopt.tpe INFO  TPE using 444/444 trials with best loss 0.845223\n",
      "py4j.clientserver INFO  Closing down clientserver connection\n"
     ]
    },
    {
     "name": "stdout",
     "output_type": "stream",
     "text": [
      " 43%|████▎     | 427/1000 [6:12:20<2:55:31, 18.38s/trial, best loss: 0.8443046512773833]"
     ]
    },
    {
     "name": "stderr",
     "output_type": "stream",
     "text": [
      "hyperopt.tpe INFO  build_posterior_wrapper took 0.000000 seconds\n",
      "hyperopt.tpe INFO  TPE using 445/445 trials with best loss 0.844305\n",
      "py4j.clientserver INFO  Closing down clientserver connection\n"
     ]
    },
    {
     "name": "stdout",
     "output_type": "stream",
     "text": [
      " 43%|████▎     | 428/1000 [6:12:33<2:40:18, 16.82s/trial, best loss: 0.8391717593375025]"
     ]
    },
    {
     "name": "stderr",
     "output_type": "stream",
     "text": [
      "hyperopt.tpe INFO  build_posterior_wrapper took 0.000000 seconds\n",
      "hyperopt.tpe INFO  TPE using 446/446 trials with best loss 0.839172\n",
      "py4j.clientserver INFO  Closing down clientserver connection\n"
     ]
    },
    {
     "name": "stdout",
     "output_type": "stream",
     "text": [
      " 43%|████▎     | 429/1000 [6:12:37<2:03:47, 13.01s/trial, best loss: 0.8391717593375025]"
     ]
    },
    {
     "name": "stderr",
     "output_type": "stream",
     "text": [
      "hyperopt.tpe INFO  build_posterior_wrapper took 0.000000 seconds\n",
      "hyperopt.tpe INFO  TPE using 447/447 trials with best loss 0.839172\n",
      "py4j.clientserver INFO  Closing down clientserver connection\n"
     ]
    },
    {
     "name": "stdout",
     "output_type": "stream",
     "text": [
      " 43%|████▎     | 430/1000 [6:13:44<4:36:14, 29.08s/trial, best loss: 0.8391717593375025]"
     ]
    },
    {
     "name": "stderr",
     "output_type": "stream",
     "text": [
      "hyperopt.tpe INFO  build_posterior_wrapper took 0.000000 seconds\n",
      "hyperopt.tpe INFO  TPE using 448/448 trials with best loss 0.839172\n",
      "py4j.clientserver INFO  Closing down clientserver connection\n"
     ]
    },
    {
     "name": "stdout",
     "output_type": "stream",
     "text": [
      " 43%|████▎     | 431/1000 [6:14:21<4:59:25, 31.57s/trial, best loss: 0.8391717593375025]"
     ]
    },
    {
     "name": "stderr",
     "output_type": "stream",
     "text": [
      "hyperopt.tpe INFO  build_posterior_wrapper took 0.000000 seconds\n",
      "hyperopt.tpe INFO  TPE using 449/449 trials with best loss 0.839172\n",
      "py4j.clientserver INFO  Closing down clientserver connection\n"
     ]
    },
    {
     "name": "stdout",
     "output_type": "stream",
     "text": [
      " 43%|████▎     | 432/1000 [6:15:18<6:09:25, 39.02s/trial, best loss: 0.8391717593375025]"
     ]
    },
    {
     "name": "stderr",
     "output_type": "stream",
     "text": [
      "hyperopt.tpe INFO  build_posterior_wrapper took 0.000000 seconds\n",
      "hyperopt.tpe INFO  TPE using 450/450 trials with best loss 0.839172\n",
      "py4j.clientserver INFO  Closing down clientserver connection\n"
     ]
    },
    {
     "name": "stdout",
     "output_type": "stream",
     "text": [
      " 43%|████▎     | 433/1000 [6:29:27<44:25:16, 282.04s/trial, best loss: 0.8391717593375025]"
     ]
    },
    {
     "name": "stderr",
     "output_type": "stream",
     "text": [
      "hyperopt.tpe INFO  build_posterior_wrapper took 0.000000 seconds\n",
      "hyperopt.tpe INFO  TPE using 451/451 trials with best loss 0.839172\n",
      "py4j.clientserver INFO  Closing down clientserver connection\n"
     ]
    },
    {
     "name": "stdout",
     "output_type": "stream",
     "text": [
      " 43%|████▎     | 434/1000 [6:30:26<33:50:45, 215.27s/trial, best loss: 0.8391717593375025]"
     ]
    },
    {
     "name": "stderr",
     "output_type": "stream",
     "text": [
      "hyperopt.tpe INFO  build_posterior_wrapper took 0.000000 seconds\n",
      "hyperopt.tpe INFO  TPE using 452/452 trials with best loss 0.839172\n",
      "py4j.clientserver INFO  Closing down clientserver connection\n"
     ]
    },
    {
     "name": "stdout",
     "output_type": "stream",
     "text": [
      " 44%|████▎     | 435/1000 [6:30:48<24:38:58, 157.06s/trial, best loss: 0.8391717593375025]"
     ]
    },
    {
     "name": "stderr",
     "output_type": "stream",
     "text": [
      "hyperopt.tpe INFO  build_posterior_wrapper took 0.000000 seconds\n",
      "hyperopt.tpe INFO  TPE using 453/453 trials with best loss 0.839172\n",
      "py4j.clientserver INFO  Closing down clientserver connection\n"
     ]
    },
    {
     "name": "stdout",
     "output_type": "stream",
     "text": [
      " 44%|████▎     | 436/1000 [6:30:55<17:33:36, 112.09s/trial, best loss: 0.8391717593375025]"
     ]
    },
    {
     "name": "stderr",
     "output_type": "stream",
     "text": [
      "hyperopt.tpe INFO  build_posterior_wrapper took 0.000000 seconds\n",
      "hyperopt.tpe INFO  TPE using 454/454 trials with best loss 0.839172\n",
      "py4j.clientserver INFO  Closing down clientserver connection\n"
     ]
    },
    {
     "name": "stdout",
     "output_type": "stream",
     "text": [
      " 44%|████▎     | 437/1000 [6:30:56<12:19:26, 78.80s/trial, best loss: 0.8391717593375025] "
     ]
    },
    {
     "name": "stderr",
     "output_type": "stream",
     "text": [
      "hyperopt.tpe INFO  build_posterior_wrapper took 0.000000 seconds\n",
      "hyperopt.tpe INFO  TPE using 455/455 trials with best loss 0.839172\n",
      "py4j.clientserver INFO  Closing down clientserver connection\n"
     ]
    },
    {
     "name": "stdout",
     "output_type": "stream",
     "text": [
      " 44%|████▍     | 438/1000 [6:31:06<9:05:18, 58.22s/trial, best loss: 0.8391717593375025] "
     ]
    },
    {
     "name": "stderr",
     "output_type": "stream",
     "text": [
      "hyperopt.tpe INFO  build_posterior_wrapper took 0.004023 seconds\n",
      "hyperopt.tpe INFO  TPE using 456/456 trials with best loss 0.839172\n",
      "py4j.clientserver INFO  Closing down clientserver connection\n"
     ]
    },
    {
     "name": "stdout",
     "output_type": "stream",
     "text": [
      " 44%|████▍     | 439/1000 [6:31:21<7:03:51, 45.33s/trial, best loss: 0.8391717593375025]"
     ]
    },
    {
     "name": "stderr",
     "output_type": "stream",
     "text": [
      "hyperopt.tpe INFO  build_posterior_wrapper took 0.000000 seconds\n",
      "hyperopt.tpe INFO  TPE using 457/457 trials with best loss 0.839172\n",
      "py4j.clientserver INFO  Closing down clientserver connection\n"
     ]
    },
    {
     "name": "stdout",
     "output_type": "stream",
     "text": [
      " 44%|████▍     | 440/1000 [6:31:29<5:19:05, 34.19s/trial, best loss: 0.8391717593375025]"
     ]
    },
    {
     "name": "stderr",
     "output_type": "stream",
     "text": [
      "hyperopt.tpe INFO  build_posterior_wrapper took 0.000000 seconds\n",
      "hyperopt.tpe INFO  TPE using 458/458 trials with best loss 0.839172\n",
      "py4j.clientserver INFO  Closing down clientserver connection\n"
     ]
    },
    {
     "name": "stdout",
     "output_type": "stream",
     "text": [
      " 44%|████▍     | 441/1000 [6:31:37<4:03:00, 26.08s/trial, best loss: 0.8391717593375025]"
     ]
    },
    {
     "name": "stderr",
     "output_type": "stream",
     "text": [
      "hyperopt.tpe INFO  build_posterior_wrapper took 0.000000 seconds\n",
      "hyperopt.tpe INFO  TPE using 459/459 trials with best loss 0.839172\n",
      "py4j.clientserver INFO  Closing down clientserver connection\n"
     ]
    },
    {
     "name": "stdout",
     "output_type": "stream",
     "text": [
      " 44%|████▍     | 442/1000 [6:31:52<3:32:11, 22.82s/trial, best loss: 0.8391717593375025]"
     ]
    },
    {
     "name": "stderr",
     "output_type": "stream",
     "text": [
      "hyperopt.tpe INFO  build_posterior_wrapper took 0.000000 seconds\n",
      "hyperopt.tpe INFO  TPE using 460/460 trials with best loss 0.839172\n",
      "py4j.clientserver INFO  Closing down clientserver connection\n"
     ]
    },
    {
     "name": "stdout",
     "output_type": "stream",
     "text": [
      " 44%|████▍     | 443/1000 [6:32:38<4:37:28, 29.89s/trial, best loss: 0.8391717593375025]"
     ]
    },
    {
     "name": "stderr",
     "output_type": "stream",
     "text": [
      "hyperopt.tpe INFO  build_posterior_wrapper took 0.000000 seconds\n",
      "hyperopt.tpe INFO  TPE using 461/461 trials with best loss 0.839172\n",
      "py4j.clientserver INFO  Closing down clientserver connection\n"
     ]
    },
    {
     "name": "stdout",
     "output_type": "stream",
     "text": [
      " 44%|████▍     | 444/1000 [6:32:52<3:53:16, 25.17s/trial, best loss: 0.8391717593375025]"
     ]
    },
    {
     "name": "stderr",
     "output_type": "stream",
     "text": [
      "hyperopt.tpe INFO  build_posterior_wrapper took 0.000000 seconds\n",
      "hyperopt.tpe INFO  TPE using 462/462 trials with best loss 0.839172\n",
      "py4j.clientserver INFO  Closing down clientserver connection\n"
     ]
    },
    {
     "name": "stdout",
     "output_type": "stream",
     "text": [
      " 44%|████▍     | 445/1000 [6:33:05<3:16:55, 21.29s/trial, best loss: 0.8391717593375025]"
     ]
    },
    {
     "name": "stderr",
     "output_type": "stream",
     "text": [
      "hyperopt.tpe INFO  build_posterior_wrapper took 0.000000 seconds\n",
      "hyperopt.tpe INFO  TPE using 463/463 trials with best loss 0.839172\n",
      "py4j.clientserver INFO  Closing down clientserver connection\n"
     ]
    },
    {
     "name": "stdout",
     "output_type": "stream",
     "text": [
      " 45%|████▍     | 446/1000 [6:33:20<2:59:50, 19.48s/trial, best loss: 0.8391717593375025]"
     ]
    },
    {
     "name": "stderr",
     "output_type": "stream",
     "text": [
      "hyperopt.tpe INFO  build_posterior_wrapper took 0.000000 seconds\n",
      "hyperopt.tpe INFO  TPE using 464/464 trials with best loss 0.839172\n",
      "py4j.clientserver INFO  Closing down clientserver connection\n"
     ]
    },
    {
     "name": "stdout",
     "output_type": "stream",
     "text": [
      " 45%|████▍     | 447/1000 [6:34:04<4:08:31, 26.96s/trial, best loss: 0.8391717593375025]"
     ]
    },
    {
     "name": "stderr",
     "output_type": "stream",
     "text": [
      "hyperopt.tpe INFO  build_posterior_wrapper took 0.000000 seconds\n",
      "hyperopt.tpe INFO  TPE using 465/465 trials with best loss 0.839172\n",
      "py4j.clientserver INFO  Closing down clientserver connection\n"
     ]
    },
    {
     "name": "stdout",
     "output_type": "stream",
     "text": [
      " 45%|████▍     | 448/1000 [6:34:15<3:24:29, 22.23s/trial, best loss: 0.8391717593375025]"
     ]
    },
    {
     "name": "stderr",
     "output_type": "stream",
     "text": [
      "hyperopt.tpe INFO  build_posterior_wrapper took 0.000000 seconds\n",
      "hyperopt.tpe INFO  TPE using 466/466 trials with best loss 0.839172\n",
      "py4j.clientserver INFO  Closing down clientserver connection\n"
     ]
    },
    {
     "name": "stdout",
     "output_type": "stream",
     "text": [
      " 45%|████▍     | 449/1000 [6:35:15<5:06:41, 33.40s/trial, best loss: 0.8391717593375025]"
     ]
    },
    {
     "name": "stderr",
     "output_type": "stream",
     "text": [
      "hyperopt.tpe INFO  build_posterior_wrapper took 0.000000 seconds\n",
      "hyperopt.tpe INFO  TPE using 467/467 trials with best loss 0.839172\n",
      "py4j.clientserver INFO  Closing down clientserver connection\n"
     ]
    },
    {
     "name": "stdout",
     "output_type": "stream",
     "text": [
      " 45%|████▌     | 450/1000 [6:36:12<6:12:26, 40.63s/trial, best loss: 0.8391717593375025]"
     ]
    },
    {
     "name": "stderr",
     "output_type": "stream",
     "text": [
      "hyperopt.tpe INFO  build_posterior_wrapper took 0.000000 seconds\n",
      "hyperopt.tpe INFO  TPE using 468/468 trials with best loss 0.839172\n",
      "py4j.clientserver INFO  Closing down clientserver connection\n"
     ]
    },
    {
     "name": "stdout",
     "output_type": "stream",
     "text": [
      " 45%|████▌     | 451/1000 [6:50:02<42:18:17, 277.41s/trial, best loss: 0.8391717593375025]"
     ]
    },
    {
     "name": "stderr",
     "output_type": "stream",
     "text": [
      "hyperopt.tpe INFO  build_posterior_wrapper took 0.000000 seconds\n",
      "hyperopt.tpe INFO  TPE using 469/469 trials with best loss 0.839172\n",
      "py4j.clientserver INFO  Closing down clientserver connection\n"
     ]
    },
    {
     "name": "stdout",
     "output_type": "stream",
     "text": [
      " 45%|████▌     | 452/1000 [6:50:59<32:08:15, 211.12s/trial, best loss: 0.8391717593375025]"
     ]
    },
    {
     "name": "stderr",
     "output_type": "stream",
     "text": [
      "hyperopt.tpe INFO  build_posterior_wrapper took 0.000000 seconds\n",
      "hyperopt.tpe INFO  TPE using 470/470 trials with best loss 0.839172\n",
      "py4j.clientserver INFO  Closing down clientserver connection\n"
     ]
    },
    {
     "name": "stdout",
     "output_type": "stream",
     "text": [
      " 45%|████▌     | 453/1000 [6:51:25<23:39:03, 155.66s/trial, best loss: 0.8391717593375025]"
     ]
    },
    {
     "name": "stderr",
     "output_type": "stream",
     "text": [
      "hyperopt.tpe INFO  build_posterior_wrapper took 0.000000 seconds\n",
      "hyperopt.tpe INFO  TPE using 471/471 trials with best loss 0.839172\n",
      "py4j.clientserver INFO  Closing down clientserver connection\n"
     ]
    },
    {
     "name": "stdout",
     "output_type": "stream",
     "text": [
      " 45%|████▌     | 454/1000 [6:51:29<16:42:51, 110.20s/trial, best loss: 0.8391717593375025]"
     ]
    },
    {
     "name": "stderr",
     "output_type": "stream",
     "text": [
      "hyperopt.tpe INFO  build_posterior_wrapper took 0.000000 seconds\n",
      "hyperopt.tpe INFO  TPE using 472/472 trials with best loss 0.839172\n",
      "py4j.clientserver INFO  Closing down clientserver connection\n"
     ]
    },
    {
     "name": "stdout",
     "output_type": "stream",
     "text": [
      " 46%|████▌     | 455/1000 [6:51:38<12:05:43, 79.90s/trial, best loss: 0.8391717593375025] "
     ]
    },
    {
     "name": "stderr",
     "output_type": "stream",
     "text": [
      "hyperopt.tpe INFO  build_posterior_wrapper took 0.000000 seconds\n",
      "hyperopt.tpe INFO  TPE using 473/473 trials with best loss 0.839172\n",
      "py4j.clientserver INFO  Closing down clientserver connection\n"
     ]
    },
    {
     "name": "stdout",
     "output_type": "stream",
     "text": [
      " 46%|████▌     | 456/1000 [6:51:49<8:54:43, 58.98s/trial, best loss: 0.8391717593375025] "
     ]
    },
    {
     "name": "stderr",
     "output_type": "stream",
     "text": [
      "py4j.clientserver INFO  Closing down clientserver connection\n"
     ]
    },
    {
     "name": "stdout",
     "output_type": "stream",
     "text": [
      " 46%|████▌     | 457/1000 [6:51:50<6:16:20, 41.59s/trial, best loss: 0.8391717593375025]"
     ]
    },
    {
     "name": "stderr",
     "output_type": "stream",
     "text": [
      "hyperopt.tpe INFO  build_posterior_wrapper took 0.000000 seconds\n",
      "hyperopt.tpe INFO  TPE using 474/474 trials with best loss 0.839172\n",
      "hyperopt.tpe INFO  build_posterior_wrapper took 0.000000 seconds\n",
      "hyperopt.tpe INFO  TPE using 475/475 trials with best loss 0.839172\n",
      "py4j.clientserver INFO  Closing down clientserver connection\n"
     ]
    },
    {
     "name": "stdout",
     "output_type": "stream",
     "text": [
      " 46%|████▌     | 458/1000 [6:52:05<5:04:30, 33.71s/trial, best loss: 0.8391717593375025]"
     ]
    },
    {
     "name": "stderr",
     "output_type": "stream",
     "text": [
      "hyperopt.tpe INFO  build_posterior_wrapper took 0.000000 seconds\n",
      "hyperopt.tpe INFO  TPE using 476/476 trials with best loss 0.839172\n",
      "py4j.clientserver INFO  Closing down clientserver connection\n"
     ]
    },
    {
     "name": "stdout",
     "output_type": "stream",
     "text": [
      " 46%|████▌     | 459/1000 [6:52:09<3:43:59, 24.84s/trial, best loss: 0.8391717593375025]"
     ]
    },
    {
     "name": "stderr",
     "output_type": "stream",
     "text": [
      "hyperopt.tpe INFO  build_posterior_wrapper took 0.000000 seconds\n",
      "hyperopt.tpe INFO  TPE using 477/477 trials with best loss 0.839172\n",
      "py4j.clientserver INFO  Closing down clientserver connection\n"
     ]
    },
    {
     "name": "stdout",
     "output_type": "stream",
     "text": [
      " 46%|████▌     | 460/1000 [6:52:34<3:44:51, 24.98s/trial, best loss: 0.8391717593375025]"
     ]
    },
    {
     "name": "stderr",
     "output_type": "stream",
     "text": [
      "hyperopt.tpe INFO  build_posterior_wrapper took 0.000000 seconds\n",
      "hyperopt.tpe INFO  TPE using 478/478 trials with best loss 0.839172\n",
      "py4j.clientserver INFO  Closing down clientserver connection\n"
     ]
    },
    {
     "name": "stdout",
     "output_type": "stream",
     "text": [
      " 46%|████▌     | 461/1000 [6:53:22<4:44:49, 31.71s/trial, best loss: 0.8391717593375025]"
     ]
    },
    {
     "name": "stderr",
     "output_type": "stream",
     "text": [
      "hyperopt.tpe INFO  build_posterior_wrapper took 0.000000 seconds\n",
      "hyperopt.tpe INFO  TPE using 479/479 trials with best loss 0.839172\n",
      "py4j.clientserver INFO  Closing down clientserver connection\n"
     ]
    },
    {
     "name": "stdout",
     "output_type": "stream",
     "text": [
      " 46%|████▌     | 462/1000 [6:53:26<3:30:13, 23.45s/trial, best loss: 0.8391717593375025]"
     ]
    },
    {
     "name": "stderr",
     "output_type": "stream",
     "text": [
      "hyperopt.tpe INFO  build_posterior_wrapper took 0.000000 seconds\n",
      "hyperopt.tpe INFO  TPE using 480/480 trials with best loss 0.839172\n",
      "py4j.clientserver INFO  Closing down clientserver connection\n"
     ]
    },
    {
     "name": "stdout",
     "output_type": "stream",
     "text": [
      " 46%|████▋     | 463/1000 [6:53:34<2:48:54, 18.87s/trial, best loss: 0.8391717593375025]"
     ]
    },
    {
     "name": "stderr",
     "output_type": "stream",
     "text": [
      "hyperopt.tpe INFO  build_posterior_wrapper took 0.000000 seconds\n",
      "hyperopt.tpe INFO  TPE using 481/481 trials with best loss 0.839172\n",
      "py4j.clientserver INFO  Closing down clientserver connection\n"
     ]
    },
    {
     "name": "stdout",
     "output_type": "stream",
     "text": [
      " 46%|████▋     | 464/1000 [6:53:49<2:38:47, 17.78s/trial, best loss: 0.8391717593375025]"
     ]
    },
    {
     "name": "stderr",
     "output_type": "stream",
     "text": [
      "hyperopt.tpe INFO  build_posterior_wrapper took 0.000000 seconds\n",
      "hyperopt.tpe INFO  TPE using 482/482 trials with best loss 0.839172\n",
      "py4j.clientserver INFO  Closing down clientserver connection\n"
     ]
    },
    {
     "name": "stdout",
     "output_type": "stream",
     "text": [
      " 46%|████▋     | 465/1000 [6:54:29<3:36:11, 24.25s/trial, best loss: 0.8391717593375025]"
     ]
    },
    {
     "name": "stderr",
     "output_type": "stream",
     "text": [
      "hyperopt.tpe INFO  build_posterior_wrapper took 0.000000 seconds\n",
      "hyperopt.tpe INFO  TPE using 483/483 trials with best loss 0.839172\n",
      "py4j.clientserver INFO  Closing down clientserver connection\n"
     ]
    },
    {
     "name": "stdout",
     "output_type": "stream",
     "text": [
      " 47%|████▋     | 466/1000 [6:55:40<5:41:57, 38.42s/trial, best loss: 0.8391717593375025]"
     ]
    },
    {
     "name": "stderr",
     "output_type": "stream",
     "text": [
      "hyperopt.tpe INFO  build_posterior_wrapper took 0.000000 seconds\n",
      "hyperopt.tpe INFO  TPE using 484/484 trials with best loss 0.839172\n",
      "py4j.clientserver INFO  Closing down clientserver connection\n"
     ]
    },
    {
     "name": "stdout",
     "output_type": "stream",
     "text": [
      " 47%|████▋     | 467/1000 [6:55:50<4:26:02, 29.95s/trial, best loss: 0.8391717593375025]"
     ]
    },
    {
     "name": "stderr",
     "output_type": "stream",
     "text": [
      "hyperopt.tpe INFO  build_posterior_wrapper took 0.000000 seconds\n",
      "hyperopt.tpe INFO  TPE using 485/485 trials with best loss 0.839172\n",
      "py4j.clientserver INFO  Closing down clientserver connection\n"
     ]
    },
    {
     "name": "stdout",
     "output_type": "stream",
     "text": [
      " 47%|████▋     | 468/1000 [6:56:34<5:01:10, 33.97s/trial, best loss: 0.8391717593375025]"
     ]
    },
    {
     "name": "stderr",
     "output_type": "stream",
     "text": [
      "hyperopt.tpe INFO  build_posterior_wrapper took 0.000000 seconds\n",
      "hyperopt.tpe INFO  TPE using 486/486 trials with best loss 0.839172\n",
      "py4j.clientserver INFO  Closing down clientserver connection\n"
     ]
    },
    {
     "name": "stdout",
     "output_type": "stream",
     "text": [
      " 47%|████▋     | 469/1000 [7:10:26<40:19:30, 273.39s/trial, best loss: 0.8391717593375025]"
     ]
    },
    {
     "name": "stderr",
     "output_type": "stream",
     "text": [
      "hyperopt.tpe INFO  build_posterior_wrapper took 0.000000 seconds\n",
      "hyperopt.tpe INFO  TPE using 487/487 trials with best loss 0.839172\n",
      "py4j.clientserver INFO  Closing down clientserver connection\n"
     ]
    },
    {
     "name": "stdout",
     "output_type": "stream",
     "text": [
      " 47%|████▋     | 470/1000 [7:11:24<30:45:36, 208.94s/trial, best loss: 0.8391717593375025]"
     ]
    },
    {
     "name": "stderr",
     "output_type": "stream",
     "text": [
      "hyperopt.tpe INFO  build_posterior_wrapper took 0.000000 seconds\n",
      "hyperopt.tpe INFO  TPE using 488/488 trials with best loss 0.839172\n",
      "py4j.clientserver INFO  Closing down clientserver connection\n"
     ]
    },
    {
     "name": "stdout",
     "output_type": "stream",
     "text": [
      " 47%|████▋     | 471/1000 [7:11:53<22:44:22, 154.75s/trial, best loss: 0.8391717593375025]"
     ]
    },
    {
     "name": "stderr",
     "output_type": "stream",
     "text": [
      "hyperopt.tpe INFO  build_posterior_wrapper took 0.000000 seconds\n",
      "hyperopt.tpe INFO  TPE using 489/489 trials with best loss 0.839172\n",
      "py4j.clientserver INFO  Closing down clientserver connection\n",
      "py4j.clientserver INFO  Closing down clientserver connection\n"
     ]
    },
    {
     "name": "stdout",
     "output_type": "stream",
     "text": [
      " 47%|████▋     | 473/1000 [7:12:01<12:28:27, 85.21s/trial, best loss: 0.8391717593375025] "
     ]
    },
    {
     "name": "stderr",
     "output_type": "stream",
     "text": [
      "hyperopt.tpe INFO  build_posterior_wrapper took 0.000000 seconds\n",
      "hyperopt.tpe INFO  TPE using 490/490 trials with best loss 0.839172\n",
      "hyperopt.tpe INFO  build_posterior_wrapper took 0.000000 seconds\n",
      "hyperopt.tpe INFO  TPE using 491/491 trials with best loss 0.839172\n",
      "py4j.clientserver INFO  Closing down clientserver connection\n"
     ]
    },
    {
     "name": "stdout",
     "output_type": "stream",
     "text": [
      " 47%|████▋     | 474/1000 [7:12:16<9:55:14, 67.90s/trial, best loss: 0.8391717593375025] "
     ]
    },
    {
     "name": "stderr",
     "output_type": "stream",
     "text": [
      "hyperopt.tpe INFO  build_posterior_wrapper took 0.000000 seconds\n",
      "hyperopt.tpe INFO  TPE using 492/492 trials with best loss 0.839172\n",
      "py4j.clientserver INFO  Closing down clientserver connection\n"
     ]
    },
    {
     "name": "stdout",
     "output_type": "stream",
     "text": [
      " 48%|████▊     | 475/1000 [7:12:18<7:23:41, 50.71s/trial, best loss: 0.8391717593375025]"
     ]
    },
    {
     "name": "stderr",
     "output_type": "stream",
     "text": [
      "hyperopt.tpe INFO  build_posterior_wrapper took 0.000000 seconds\n",
      "hyperopt.tpe INFO  TPE using 493/493 trials with best loss 0.839172\n",
      "py4j.clientserver INFO  Closing down clientserver connection\n"
     ]
    },
    {
     "name": "stdout",
     "output_type": "stream",
     "text": [
      " 48%|████▊     | 476/1000 [7:12:25<5:39:27, 38.87s/trial, best loss: 0.8391717593375025]"
     ]
    },
    {
     "name": "stderr",
     "output_type": "stream",
     "text": [
      "hyperopt.tpe INFO  build_posterior_wrapper took 0.000000 seconds\n",
      "hyperopt.tpe INFO  TPE using 494/494 trials with best loss 0.839172\n",
      "py4j.clientserver INFO  Closing down clientserver connection\n"
     ]
    },
    {
     "name": "stdout",
     "output_type": "stream",
     "text": [
      " 48%|████▊     | 477/1000 [7:12:35<4:26:28, 30.57s/trial, best loss: 0.8391717593375025]"
     ]
    },
    {
     "name": "stderr",
     "output_type": "stream",
     "text": [
      "hyperopt.tpe INFO  build_posterior_wrapper took 0.000000 seconds\n",
      "hyperopt.tpe INFO  TPE using 495/495 trials with best loss 0.839172\n",
      "py4j.clientserver INFO  Closing down clientserver connection\n"
     ]
    },
    {
     "name": "stdout",
     "output_type": "stream",
     "text": [
      " 48%|████▊     | 478/1000 [7:13:04<4:22:58, 30.23s/trial, best loss: 0.8391717593375025]"
     ]
    },
    {
     "name": "stderr",
     "output_type": "stream",
     "text": [
      "hyperopt.tpe INFO  build_posterior_wrapper took 0.000000 seconds\n",
      "hyperopt.tpe INFO  TPE using 496/496 trials with best loss 0.839172\n",
      "py4j.clientserver INFO  Closing down clientserver connection\n"
     ]
    },
    {
     "name": "stdout",
     "output_type": "stream",
     "text": [
      " 48%|████▊     | 479/1000 [7:14:04<5:36:10, 38.72s/trial, best loss: 0.8391717593375025]"
     ]
    },
    {
     "name": "stderr",
     "output_type": "stream",
     "text": [
      "hyperopt.tpe INFO  build_posterior_wrapper took 0.000000 seconds\n",
      "hyperopt.tpe INFO  TPE using 497/497 trials with best loss 0.839172\n",
      "py4j.clientserver INFO  Closing down clientserver connection\n"
     ]
    },
    {
     "name": "stdout",
     "output_type": "stream",
     "text": [
      " 48%|████▊     | 480/1000 [7:14:20<4:38:32, 32.14s/trial, best loss: 0.8391717593375025]"
     ]
    },
    {
     "name": "stderr",
     "output_type": "stream",
     "text": [
      "hyperopt.tpe INFO  build_posterior_wrapper took 0.000000 seconds\n",
      "hyperopt.tpe INFO  TPE using 498/498 trials with best loss 0.839172\n",
      "py4j.clientserver INFO  Closing down clientserver connection\n"
     ]
    },
    {
     "name": "stdout",
     "output_type": "stream",
     "text": [
      " 48%|████▊     | 481/1000 [7:14:26<3:31:46, 24.48s/trial, best loss: 0.8391717593375025]"
     ]
    },
    {
     "name": "stderr",
     "output_type": "stream",
     "text": [
      "hyperopt.tpe INFO  build_posterior_wrapper took 0.000000 seconds\n",
      "hyperopt.tpe INFO  TPE using 499/499 trials with best loss 0.839172\n",
      "py4j.clientserver INFO  Closing down clientserver connection\n"
     ]
    },
    {
     "name": "stdout",
     "output_type": "stream",
     "text": [
      " 48%|████▊     | 482/1000 [7:14:28<2:34:14, 17.87s/trial, best loss: 0.8391717593375025]"
     ]
    },
    {
     "name": "stderr",
     "output_type": "stream",
     "text": [
      "hyperopt.tpe INFO  build_posterior_wrapper took 0.000000 seconds\n",
      "hyperopt.tpe INFO  TPE using 500/500 trials with best loss 0.839172\n",
      "py4j.clientserver INFO  Closing down clientserver connection\n"
     ]
    },
    {
     "name": "stdout",
     "output_type": "stream",
     "text": [
      " 48%|████▊     | 483/1000 [7:14:55<2:58:10, 20.68s/trial, best loss: 0.8391717593375025]"
     ]
    },
    {
     "name": "stderr",
     "output_type": "stream",
     "text": [
      "hyperopt.tpe INFO  build_posterior_wrapper took 0.000000 seconds\n",
      "hyperopt.tpe INFO  TPE using 501/501 trials with best loss 0.839172\n",
      "py4j.clientserver INFO  Closing down clientserver connection\n"
     ]
    },
    {
     "name": "stdout",
     "output_type": "stream",
     "text": [
      " 48%|████▊     | 484/1000 [7:16:07<5:08:18, 35.85s/trial, best loss: 0.8391717593375025]"
     ]
    },
    {
     "name": "stderr",
     "output_type": "stream",
     "text": [
      "hyperopt.tpe INFO  build_posterior_wrapper took 0.000000 seconds\n",
      "hyperopt.tpe INFO  TPE using 502/502 trials with best loss 0.839172\n",
      "py4j.clientserver INFO  Closing down clientserver connection\n"
     ]
    },
    {
     "name": "stdout",
     "output_type": "stream",
     "text": [
      " 48%|████▊     | 485/1000 [7:16:18<4:04:28, 28.48s/trial, best loss: 0.8391717593375025]"
     ]
    },
    {
     "name": "stderr",
     "output_type": "stream",
     "text": [
      "hyperopt.tpe INFO  build_posterior_wrapper took 0.000000 seconds\n",
      "hyperopt.tpe INFO  TPE using 503/503 trials with best loss 0.839172\n",
      "py4j.clientserver INFO  Closing down clientserver connection\n"
     ]
    },
    {
     "name": "stdout",
     "output_type": "stream",
     "text": [
      " 49%|████▊     | 486/1000 [7:17:10<5:02:46, 35.34s/trial, best loss: 0.8391717593375025]"
     ]
    },
    {
     "name": "stderr",
     "output_type": "stream",
     "text": [
      "hyperopt.tpe INFO  build_posterior_wrapper took 0.000000 seconds\n",
      "hyperopt.tpe INFO  TPE using 504/504 trials with best loss 0.839172\n",
      "py4j.clientserver INFO  Closing down clientserver connection\n"
     ]
    },
    {
     "name": "stdout",
     "output_type": "stream",
     "text": [
      " 49%|████▊     | 487/1000 [7:30:45<38:19:53, 268.99s/trial, best loss: 0.8391717593375025]"
     ]
    },
    {
     "name": "stderr",
     "output_type": "stream",
     "text": [
      "hyperopt.tpe INFO  build_posterior_wrapper took 0.000000 seconds\n",
      "hyperopt.tpe INFO  TPE using 505/505 trials with best loss 0.839172\n",
      "py4j.clientserver INFO  Closing down clientserver connection\n"
     ]
    },
    {
     "name": "stdout",
     "output_type": "stream",
     "text": [
      " 49%|████▉     | 488/1000 [7:31:50<29:32:35, 207.73s/trial, best loss: 0.8391717593375025]"
     ]
    },
    {
     "name": "stderr",
     "output_type": "stream",
     "text": [
      "hyperopt.tpe INFO  build_posterior_wrapper took 0.000000 seconds\n",
      "hyperopt.tpe INFO  TPE using 506/506 trials with best loss 0.839172\n",
      "py4j.clientserver INFO  Closing down clientserver connection\n"
     ]
    },
    {
     "name": "stdout",
     "output_type": "stream",
     "text": [
      " 49%|████▉     | 489/1000 [7:32:13<21:38:22, 152.45s/trial, best loss: 0.8391717593375025]"
     ]
    },
    {
     "name": "stderr",
     "output_type": "stream",
     "text": [
      "hyperopt.tpe INFO  build_posterior_wrapper took 0.000000 seconds\n",
      "hyperopt.tpe INFO  TPE using 507/507 trials with best loss 0.839172\n",
      "py4j.clientserver INFO  Closing down clientserver connection\n"
     ]
    },
    {
     "name": "stdout",
     "output_type": "stream",
     "text": [
      " 49%|████▉     | 490/1000 [7:32:33<15:58:57, 112.82s/trial, best loss: 0.8391717593375025]"
     ]
    },
    {
     "name": "stderr",
     "output_type": "stream",
     "text": [
      "hyperopt.tpe INFO  build_posterior_wrapper took 0.000000 seconds\n",
      "hyperopt.tpe INFO  TPE using 508/508 trials with best loss 0.839172\n",
      "py4j.clientserver INFO  Closing down clientserver connection\n"
     ]
    },
    {
     "name": "stdout",
     "output_type": "stream",
     "text": [
      " 49%|████▉     | 491/1000 [7:32:40<11:25:47, 80.84s/trial, best loss: 0.8391717593375025] "
     ]
    },
    {
     "name": "stderr",
     "output_type": "stream",
     "text": [
      "hyperopt.tpe INFO  build_posterior_wrapper took 0.000000 seconds\n",
      "hyperopt.tpe INFO  TPE using 509/509 trials with best loss 0.839172\n",
      "py4j.clientserver INFO  Closing down clientserver connection\n"
     ]
    },
    {
     "name": "stdout",
     "output_type": "stream",
     "text": [
      " 49%|████▉     | 492/1000 [7:32:50<8:25:05, 59.66s/trial, best loss: 0.8391717593375025] "
     ]
    },
    {
     "name": "stderr",
     "output_type": "stream",
     "text": [
      "hyperopt.tpe INFO  build_posterior_wrapper took 0.000000 seconds\n",
      "hyperopt.tpe INFO  TPE using 510/510 trials with best loss 0.839172\n",
      "py4j.clientserver INFO  Closing down clientserver connection\n"
     ]
    },
    {
     "name": "stdout",
     "output_type": "stream",
     "text": [
      " 49%|████▉     | 493/1000 [7:32:55<6:06:03, 43.32s/trial, best loss: 0.8391717593375025]"
     ]
    },
    {
     "name": "stderr",
     "output_type": "stream",
     "text": [
      "hyperopt.tpe INFO  build_posterior_wrapper took 0.000000 seconds\n",
      "hyperopt.tpe INFO  TPE using 511/511 trials with best loss 0.839172\n",
      "py4j.clientserver INFO  Closing down clientserver connection\n"
     ]
    },
    {
     "name": "stdout",
     "output_type": "stream",
     "text": [
      " 49%|████▉     | 494/1000 [7:33:05<4:41:28, 33.38s/trial, best loss: 0.8391717593375025]"
     ]
    },
    {
     "name": "stderr",
     "output_type": "stream",
     "text": [
      "hyperopt.tpe INFO  build_posterior_wrapper took 0.000000 seconds\n",
      "hyperopt.tpe INFO  TPE using 512/512 trials with best loss 0.839172\n",
      "py4j.clientserver INFO  Closing down clientserver connection\n"
     ]
    },
    {
     "name": "stdout",
     "output_type": "stream",
     "text": [
      " 50%|████▉     | 495/1000 [7:33:18<3:50:04, 27.34s/trial, best loss: 0.8391717593375025]"
     ]
    },
    {
     "name": "stderr",
     "output_type": "stream",
     "text": [
      "hyperopt.tpe INFO  build_posterior_wrapper took 0.000000 seconds\n",
      "hyperopt.tpe INFO  TPE using 513/513 trials with best loss 0.839172\n",
      "py4j.clientserver INFO  Closing down clientserver connection\n"
     ]
    },
    {
     "name": "stdout",
     "output_type": "stream",
     "text": [
      " 50%|████▉     | 496/1000 [7:33:40<3:34:20, 25.52s/trial, best loss: 0.8391717593375025]"
     ]
    },
    {
     "name": "stderr",
     "output_type": "stream",
     "text": [
      "hyperopt.tpe INFO  build_posterior_wrapper took 0.000000 seconds\n",
      "hyperopt.tpe INFO  TPE using 514/514 trials with best loss 0.839172\n",
      "py4j.clientserver INFO  Closing down clientserver connection\n"
     ]
    },
    {
     "name": "stdout",
     "output_type": "stream",
     "text": [
      " 50%|████▉     | 497/1000 [7:34:53<5:34:43, 39.93s/trial, best loss: 0.8391717593375025]"
     ]
    },
    {
     "name": "stderr",
     "output_type": "stream",
     "text": [
      "hyperopt.tpe INFO  build_posterior_wrapper took 0.000000 seconds\n",
      "hyperopt.tpe INFO  TPE using 515/515 trials with best loss 0.839172\n",
      "py4j.clientserver INFO  Closing down clientserver connection\n"
     ]
    },
    {
     "name": "stdout",
     "output_type": "stream",
     "text": [
      " 50%|████▉     | 498/1000 [7:34:57<4:04:20, 29.20s/trial, best loss: 0.8391717593375025]"
     ]
    },
    {
     "name": "stderr",
     "output_type": "stream",
     "text": [
      "hyperopt.tpe INFO  build_posterior_wrapper took 0.000000 seconds\n",
      "hyperopt.tpe INFO  TPE using 516/516 trials with best loss 0.839172\n",
      "py4j.clientserver INFO  Closing down clientserver connection\n"
     ]
    },
    {
     "name": "stdout",
     "output_type": "stream",
     "text": [
      " 50%|████▉     | 499/1000 [7:35:15<3:33:51, 25.61s/trial, best loss: 0.8391717593375025]"
     ]
    },
    {
     "name": "stderr",
     "output_type": "stream",
     "text": [
      "hyperopt.tpe INFO  build_posterior_wrapper took 0.000000 seconds\n",
      "hyperopt.tpe INFO  TPE using 517/517 trials with best loss 0.839172\n",
      "py4j.clientserver INFO  Closing down clientserver connection\n"
     ]
    },
    {
     "name": "stdout",
     "output_type": "stream",
     "text": [
      " 50%|█████     | 500/1000 [7:35:24<2:52:25, 20.69s/trial, best loss: 0.8391717593375025]"
     ]
    },
    {
     "name": "stderr",
     "output_type": "stream",
     "text": [
      "hyperopt.tpe INFO  build_posterior_wrapper took 0.000000 seconds\n",
      "hyperopt.tpe INFO  TPE using 518/518 trials with best loss 0.839172\n",
      "py4j.clientserver INFO  Closing down clientserver connection\n"
     ]
    },
    {
     "name": "stdout",
     "output_type": "stream",
     "text": [
      " 50%|█████     | 501/1000 [7:35:33<2:23:20, 17.24s/trial, best loss: 0.8391717593375025]"
     ]
    },
    {
     "name": "stderr",
     "output_type": "stream",
     "text": [
      "hyperopt.tpe INFO  build_posterior_wrapper took 0.000000 seconds\n",
      "hyperopt.tpe INFO  TPE using 519/519 trials with best loss 0.839172\n",
      "py4j.clientserver INFO  Closing down clientserver connection\n"
     ]
    },
    {
     "name": "stdout",
     "output_type": "stream",
     "text": [
      " 50%|█████     | 502/1000 [7:36:42<4:30:40, 32.61s/trial, best loss: 0.8391717593375025]"
     ]
    },
    {
     "name": "stderr",
     "output_type": "stream",
     "text": [
      "hyperopt.tpe INFO  build_posterior_wrapper took 0.000000 seconds\n",
      "hyperopt.tpe INFO  TPE using 520/520 trials with best loss 0.839172\n",
      "py4j.clientserver INFO  Closing down clientserver connection\n"
     ]
    },
    {
     "name": "stdout",
     "output_type": "stream",
     "text": [
      " 50%|█████     | 503/1000 [7:37:28<5:04:25, 36.75s/trial, best loss: 0.8391717593375025]"
     ]
    },
    {
     "name": "stderr",
     "output_type": "stream",
     "text": [
      "hyperopt.tpe INFO  build_posterior_wrapper took 0.000000 seconds\n",
      "hyperopt.tpe INFO  TPE using 521/521 trials with best loss 0.839172\n",
      "py4j.clientserver INFO  Closing down clientserver connection\n"
     ]
    },
    {
     "name": "stdout",
     "output_type": "stream",
     "text": [
      " 50%|█████     | 504/1000 [7:37:43<4:10:29, 30.30s/trial, best loss: 0.8391717593375025]"
     ]
    },
    {
     "name": "stderr",
     "output_type": "stream",
     "text": [
      "hyperopt.tpe INFO  build_posterior_wrapper took 0.000000 seconds\n",
      "hyperopt.tpe INFO  TPE using 522/522 trials with best loss 0.839172\n",
      "py4j.clientserver INFO  Closing down clientserver connection\n"
     ]
    },
    {
     "name": "stdout",
     "output_type": "stream",
     "text": [
      " 50%|█████     | 505/1000 [7:51:38<37:20:01, 271.52s/trial, best loss: 0.8391717593375025]"
     ]
    },
    {
     "name": "stderr",
     "output_type": "stream",
     "text": [
      "hyperopt.tpe INFO  build_posterior_wrapper took 0.000000 seconds\n",
      "hyperopt.tpe INFO  TPE using 523/523 trials with best loss 0.839172\n",
      "py4j.clientserver INFO  Closing down clientserver connection\n"
     ]
    },
    {
     "name": "stdout",
     "output_type": "stream",
     "text": [
      " 51%|█████     | 506/1000 [7:52:34<28:24:19, 207.00s/trial, best loss: 0.8391717593375025]"
     ]
    },
    {
     "name": "stderr",
     "output_type": "stream",
     "text": [
      "hyperopt.tpe INFO  build_posterior_wrapper took 0.000000 seconds\n",
      "hyperopt.tpe INFO  TPE using 524/524 trials with best loss 0.839172\n",
      "py4j.clientserver INFO  Closing down clientserver connection\n"
     ]
    },
    {
     "name": "stdout",
     "output_type": "stream",
     "text": [
      " 51%|█████     | 507/1000 [7:52:45<20:18:10, 148.26s/trial, best loss: 0.8391717593375025]"
     ]
    },
    {
     "name": "stderr",
     "output_type": "stream",
     "text": [
      "hyperopt.tpe INFO  build_posterior_wrapper took 0.000000 seconds\n",
      "hyperopt.tpe INFO  TPE using 525/525 trials with best loss 0.839172\n",
      "py4j.clientserver INFO  Closing down clientserver connection\n"
     ]
    },
    {
     "name": "stdout",
     "output_type": "stream",
     "text": [
      " 51%|█████     | 508/1000 [7:52:59<14:46:01, 108.05s/trial, best loss: 0.8391717593375025]"
     ]
    },
    {
     "name": "stderr",
     "output_type": "stream",
     "text": [
      "hyperopt.tpe INFO  build_posterior_wrapper took 0.000000 seconds\n",
      "hyperopt.tpe INFO  TPE using 526/526 trials with best loss 0.839172\n",
      "py4j.clientserver INFO  Closing down clientserver connection\n"
     ]
    },
    {
     "name": "stdout",
     "output_type": "stream",
     "text": [
      " 51%|█████     | 509/1000 [7:53:24<11:18:33, 82.92s/trial, best loss: 0.8391717593375025] "
     ]
    },
    {
     "name": "stderr",
     "output_type": "stream",
     "text": [
      "hyperopt.tpe INFO  build_posterior_wrapper took 0.000000 seconds\n",
      "hyperopt.tpe INFO  TPE using 527/527 trials with best loss 0.839172\n",
      "py4j.clientserver INFO  Closing down clientserver connection\n"
     ]
    },
    {
     "name": "stdout",
     "output_type": "stream",
     "text": [
      " 51%|█████     | 510/1000 [7:53:29<8:06:42, 59.60s/trial, best loss: 0.8391717593375025] "
     ]
    },
    {
     "name": "stderr",
     "output_type": "stream",
     "text": [
      "hyperopt.tpe INFO  build_posterior_wrapper took 0.000000 seconds\n",
      "hyperopt.tpe INFO  TPE using 528/528 trials with best loss 0.839172\n",
      "py4j.clientserver INFO  Closing down clientserver connection\n"
     ]
    },
    {
     "name": "stdout",
     "output_type": "stream",
     "text": [
      " 51%|█████     | 511/1000 [7:53:33<5:50:14, 42.97s/trial, best loss: 0.8391717593375025]"
     ]
    },
    {
     "name": "stderr",
     "output_type": "stream",
     "text": [
      "hyperopt.tpe INFO  build_posterior_wrapper took 0.000000 seconds\n",
      "hyperopt.tpe INFO  TPE using 529/529 trials with best loss 0.839172\n",
      "py4j.clientserver INFO  Closing down clientserver connection\n"
     ]
    },
    {
     "name": "stdout",
     "output_type": "stream",
     "text": [
      " 51%|█████     | 512/1000 [7:53:41<4:24:39, 32.54s/trial, best loss: 0.8391717593375025]"
     ]
    },
    {
     "name": "stderr",
     "output_type": "stream",
     "text": [
      "hyperopt.tpe INFO  build_posterior_wrapper took 0.000000 seconds\n",
      "hyperopt.tpe INFO  TPE using 530/530 trials with best loss 0.839172\n",
      "py4j.clientserver INFO  Closing down clientserver connection\n"
     ]
    },
    {
     "name": "stdout",
     "output_type": "stream",
     "text": [
      " 51%|█████▏    | 513/1000 [7:53:51<3:29:44, 25.84s/trial, best loss: 0.8391717593375025]"
     ]
    },
    {
     "name": "stderr",
     "output_type": "stream",
     "text": [
      "hyperopt.tpe INFO  build_posterior_wrapper took 0.000000 seconds\n",
      "hyperopt.tpe INFO  TPE using 531/531 trials with best loss 0.839172\n",
      "py4j.clientserver INFO  Closing down clientserver connection\n"
     ]
    },
    {
     "name": "stdout",
     "output_type": "stream",
     "text": [
      " 51%|█████▏    | 514/1000 [7:54:10<3:10:50, 23.56s/trial, best loss: 0.8391717593375025]"
     ]
    },
    {
     "name": "stderr",
     "output_type": "stream",
     "text": [
      "hyperopt.tpe INFO  build_posterior_wrapper took 0.000000 seconds\n",
      "hyperopt.tpe INFO  TPE using 532/532 trials with best loss 0.839172\n",
      "py4j.clientserver INFO  Closing down clientserver connection\n"
     ]
    },
    {
     "name": "stdout",
     "output_type": "stream",
     "text": [
      " 52%|█████▏    | 515/1000 [7:55:27<5:21:31, 39.78s/trial, best loss: 0.8391717593375025]"
     ]
    },
    {
     "name": "stderr",
     "output_type": "stream",
     "text": [
      "hyperopt.tpe INFO  build_posterior_wrapper took 0.000000 seconds\n",
      "hyperopt.tpe INFO  TPE using 533/533 trials with best loss 0.839172\n",
      "py4j.clientserver INFO  Closing down clientserver connection\n",
      "py4j.clientserver INFO  Closing down clientserver connection\n"
     ]
    },
    {
     "name": "stdout",
     "output_type": "stream",
     "text": [
      " 52%|█████▏    | 517/1000 [7:56:00<3:52:27, 28.88s/trial, best loss: 0.8391717593375025]"
     ]
    },
    {
     "name": "stderr",
     "output_type": "stream",
     "text": [
      "hyperopt.tpe INFO  build_posterior_wrapper took 0.000000 seconds\n",
      "hyperopt.tpe INFO  TPE using 534/534 trials with best loss 0.839172\n",
      "hyperopt.tpe INFO  build_posterior_wrapper took 0.000000 seconds\n",
      "hyperopt.tpe INFO  TPE using 535/535 trials with best loss 0.839172\n",
      "py4j.clientserver INFO  Closing down clientserver connection\n"
     ]
    },
    {
     "name": "stdout",
     "output_type": "stream",
     "text": [
      " 52%|█████▏    | 518/1000 [7:56:20<3:35:11, 26.79s/trial, best loss: 0.8391717593375025]"
     ]
    },
    {
     "name": "stderr",
     "output_type": "stream",
     "text": [
      "hyperopt.tpe INFO  build_posterior_wrapper took 0.000000 seconds\n",
      "hyperopt.tpe INFO  TPE using 536/536 trials with best loss 0.839172\n",
      "py4j.clientserver INFO  Closing down clientserver connection\n"
     ]
    },
    {
     "name": "stdout",
     "output_type": "stream",
     "text": [
      " 52%|█████▏    | 519/1000 [7:56:24<2:47:18, 20.87s/trial, best loss: 0.8391717593375025]"
     ]
    },
    {
     "name": "stderr",
     "output_type": "stream",
     "text": [
      "hyperopt.tpe INFO  build_posterior_wrapper took 0.000000 seconds\n",
      "hyperopt.tpe INFO  TPE using 537/537 trials with best loss 0.839172\n",
      "py4j.clientserver INFO  Closing down clientserver connection\n"
     ]
    },
    {
     "name": "stdout",
     "output_type": "stream",
     "text": [
      " 52%|█████▏    | 520/1000 [7:57:12<3:44:45, 28.10s/trial, best loss: 0.8391717593375025]"
     ]
    },
    {
     "name": "stderr",
     "output_type": "stream",
     "text": [
      "hyperopt.tpe INFO  build_posterior_wrapper took 0.000000 seconds\n",
      "hyperopt.tpe INFO  TPE using 538/538 trials with best loss 0.839172\n",
      "py4j.clientserver INFO  Closing down clientserver connection\n"
     ]
    },
    {
     "name": "stdout",
     "output_type": "stream",
     "text": [
      " 52%|█████▏    | 521/1000 [7:57:54<4:16:12, 32.09s/trial, best loss: 0.8391717593375025]"
     ]
    },
    {
     "name": "stderr",
     "output_type": "stream",
     "text": [
      "hyperopt.tpe INFO  build_posterior_wrapper took 0.000000 seconds\n",
      "hyperopt.tpe INFO  TPE using 539/539 trials with best loss 0.839172\n",
      "py4j.clientserver INFO  Closing down clientserver connection\n"
     ]
    },
    {
     "name": "stdout",
     "output_type": "stream",
     "text": [
      " 52%|█████▏    | 522/1000 [7:58:07<3:32:40, 26.70s/trial, best loss: 0.8391717593375025]"
     ]
    },
    {
     "name": "stderr",
     "output_type": "stream",
     "text": [
      "hyperopt.tpe INFO  build_posterior_wrapper took 0.000000 seconds\n",
      "hyperopt.tpe INFO  TPE using 540/540 trials with best loss 0.839172\n",
      "py4j.clientserver INFO  Closing down clientserver connection\n"
     ]
    },
    {
     "name": "stdout",
     "output_type": "stream",
     "text": [
      " 52%|█████▏    | 523/1000 [8:11:59<34:27:54, 260.12s/trial, best loss: 0.8391717593375025]"
     ]
    },
    {
     "name": "stderr",
     "output_type": "stream",
     "text": [
      "hyperopt.tpe INFO  build_posterior_wrapper took 0.000000 seconds\n",
      "hyperopt.tpe INFO  TPE using 541/541 trials with best loss 0.839172\n",
      "py4j.clientserver INFO  Closing down clientserver connection\n"
     ]
    },
    {
     "name": "stdout",
     "output_type": "stream",
     "text": [
      " 52%|█████▏    | 524/1000 [8:13:03<26:46:58, 202.56s/trial, best loss: 0.8391717593375025]"
     ]
    },
    {
     "name": "stderr",
     "output_type": "stream",
     "text": [
      "hyperopt.tpe INFO  build_posterior_wrapper took 0.000000 seconds\n",
      "hyperopt.tpe INFO  TPE using 542/542 trials with best loss 0.839172\n",
      "py4j.clientserver INFO  Closing down clientserver connection\n"
     ]
    },
    {
     "name": "stdout",
     "output_type": "stream",
     "text": [
      " 52%|█████▎    | 525/1000 [8:13:17<19:23:56, 147.02s/trial, best loss: 0.8391717593375025]"
     ]
    },
    {
     "name": "stderr",
     "output_type": "stream",
     "text": [
      "hyperopt.tpe INFO  build_posterior_wrapper took 0.000000 seconds\n",
      "hyperopt.tpe INFO  TPE using 543/543 trials with best loss 0.839172\n",
      "py4j.clientserver INFO  Closing down clientserver connection\n"
     ]
    },
    {
     "name": "stdout",
     "output_type": "stream",
     "text": [
      " 53%|█████▎    | 526/1000 [8:13:30<14:05:54, 107.08s/trial, best loss: 0.8391717593375025]"
     ]
    },
    {
     "name": "stderr",
     "output_type": "stream",
     "text": [
      "hyperopt.tpe INFO  build_posterior_wrapper took 0.000000 seconds\n",
      "hyperopt.tpe INFO  TPE using 544/544 trials with best loss 0.839172\n",
      "py4j.clientserver INFO  Closing down clientserver connection\n"
     ]
    },
    {
     "name": "stdout",
     "output_type": "stream",
     "text": [
      " 53%|█████▎    | 527/1000 [8:13:57<10:57:05, 83.35s/trial, best loss: 0.8391717593375025] "
     ]
    },
    {
     "name": "stderr",
     "output_type": "stream",
     "text": [
      "hyperopt.tpe INFO  build_posterior_wrapper took 0.000000 seconds\n",
      "hyperopt.tpe INFO  TPE using 545/545 trials with best loss 0.839172\n",
      "py4j.clientserver INFO  Closing down clientserver connection\n"
     ]
    },
    {
     "name": "stdout",
     "output_type": "stream",
     "text": [
      " 53%|█████▎    | 528/1000 [8:14:03<7:54:34, 60.33s/trial, best loss: 0.8391717593375025] "
     ]
    },
    {
     "name": "stderr",
     "output_type": "stream",
     "text": [
      "hyperopt.tpe INFO  build_posterior_wrapper took 0.000000 seconds\n",
      "hyperopt.tpe INFO  TPE using 546/546 trials with best loss 0.839172\n",
      "py4j.clientserver INFO  Closing down clientserver connection\n"
     ]
    },
    {
     "name": "stdout",
     "output_type": "stream",
     "text": [
      " 53%|█████▎    | 529/1000 [8:14:06<5:39:30, 43.25s/trial, best loss: 0.8391717593375025]"
     ]
    },
    {
     "name": "stderr",
     "output_type": "stream",
     "text": [
      "hyperopt.tpe INFO  build_posterior_wrapper took 0.000000 seconds\n",
      "hyperopt.tpe INFO  TPE using 547/547 trials with best loss 0.839172\n",
      "py4j.clientserver INFO  Closing down clientserver connection\n"
     ]
    },
    {
     "name": "stdout",
     "output_type": "stream",
     "text": [
      " 53%|█████▎    | 530/1000 [8:14:10<4:07:09, 31.55s/trial, best loss: 0.8391717593375025]"
     ]
    },
    {
     "name": "stderr",
     "output_type": "stream",
     "text": [
      "hyperopt.tpe INFO  build_posterior_wrapper took 0.000000 seconds\n",
      "hyperopt.tpe INFO  TPE using 548/548 trials with best loss 0.839172\n",
      "py4j.clientserver INFO  Closing down clientserver connection\n"
     ]
    },
    {
     "name": "stdout",
     "output_type": "stream",
     "text": [
      " 53%|█████▎    | 531/1000 [8:14:24<3:23:48, 26.07s/trial, best loss: 0.8391717593375025]"
     ]
    },
    {
     "name": "stderr",
     "output_type": "stream",
     "text": [
      "hyperopt.tpe INFO  build_posterior_wrapper took 0.000000 seconds\n",
      "hyperopt.tpe INFO  TPE using 549/549 trials with best loss 0.839172\n",
      "py4j.clientserver INFO  Closing down clientserver connection\n"
     ]
    },
    {
     "name": "stdout",
     "output_type": "stream",
     "text": [
      " 53%|█████▎    | 532/1000 [8:14:54<3:33:16, 27.34s/trial, best loss: 0.8391717593375025]"
     ]
    },
    {
     "name": "stderr",
     "output_type": "stream",
     "text": [
      "hyperopt.tpe INFO  build_posterior_wrapper took 0.000000 seconds\n",
      "hyperopt.tpe INFO  TPE using 550/550 trials with best loss 0.839172\n",
      "py4j.clientserver INFO  Closing down clientserver connection\n"
     ]
    },
    {
     "name": "stdout",
     "output_type": "stream",
     "text": [
      " 53%|█████▎    | 533/1000 [8:15:49<4:38:27, 35.78s/trial, best loss: 0.8391717593375025]"
     ]
    },
    {
     "name": "stderr",
     "output_type": "stream",
     "text": [
      "hyperopt.tpe INFO  build_posterior_wrapper took 0.000000 seconds\n",
      "hyperopt.tpe INFO  TPE using 551/551 trials with best loss 0.839172\n",
      "py4j.clientserver INFO  Closing down clientserver connection\n"
     ]
    },
    {
     "name": "stdout",
     "output_type": "stream",
     "text": [
      " 53%|█████▎    | 534/1000 [8:16:20<4:25:17, 34.16s/trial, best loss: 0.8391717593375025]"
     ]
    },
    {
     "name": "stderr",
     "output_type": "stream",
     "text": [
      "hyperopt.tpe INFO  build_posterior_wrapper took 0.000000 seconds\n",
      "hyperopt.tpe INFO  TPE using 552/552 trials with best loss 0.839172\n",
      "py4j.clientserver INFO  Closing down clientserver connection\n"
     ]
    },
    {
     "name": "stdout",
     "output_type": "stream",
     "text": [
      " 54%|█████▎    | 535/1000 [8:16:28<3:24:21, 26.37s/trial, best loss: 0.8391717593375025]"
     ]
    },
    {
     "name": "stderr",
     "output_type": "stream",
     "text": [
      "hyperopt.tpe INFO  build_posterior_wrapper took 0.000000 seconds\n",
      "hyperopt.tpe INFO  TPE using 553/553 trials with best loss 0.839172\n",
      "py4j.clientserver INFO  Closing down clientserver connection\n"
     ]
    },
    {
     "name": "stdout",
     "output_type": "stream",
     "text": [
      " 54%|█████▎    | 536/1000 [8:16:45<3:02:48, 23.64s/trial, best loss: 0.8391717593375025]"
     ]
    },
    {
     "name": "stderr",
     "output_type": "stream",
     "text": [
      "hyperopt.tpe INFO  build_posterior_wrapper took 0.000000 seconds\n",
      "hyperopt.tpe INFO  TPE using 554/554 trials with best loss 0.839172\n",
      "py4j.clientserver INFO  Closing down clientserver connection\n"
     ]
    },
    {
     "name": "stdout",
     "output_type": "stream",
     "text": [
      " 54%|█████▎    | 537/1000 [8:16:52<2:24:19, 18.70s/trial, best loss: 0.8391717593375025]"
     ]
    },
    {
     "name": "stderr",
     "output_type": "stream",
     "text": [
      "hyperopt.tpe INFO  build_posterior_wrapper took 0.000000 seconds\n",
      "hyperopt.tpe INFO  TPE using 555/555 trials with best loss 0.839172\n",
      "py4j.clientserver INFO  Closing down clientserver connection\n"
     ]
    },
    {
     "name": "stdout",
     "output_type": "stream",
     "text": [
      " 54%|█████▍    | 538/1000 [8:17:37<3:23:24, 26.42s/trial, best loss: 0.8391717593375025]"
     ]
    },
    {
     "name": "stderr",
     "output_type": "stream",
     "text": [
      "hyperopt.tpe INFO  build_posterior_wrapper took 0.000000 seconds\n",
      "hyperopt.tpe INFO  TPE using 556/556 trials with best loss 0.839172\n",
      "py4j.clientserver INFO  Closing down clientserver connection\n"
     ]
    },
    {
     "name": "stdout",
     "output_type": "stream",
     "text": [
      " 54%|█████▍    | 539/1000 [8:18:16<3:52:51, 30.31s/trial, best loss: 0.8391717593375025]"
     ]
    },
    {
     "name": "stderr",
     "output_type": "stream",
     "text": [
      "hyperopt.tpe INFO  build_posterior_wrapper took 0.000000 seconds\n",
      "hyperopt.tpe INFO  TPE using 557/557 trials with best loss 0.839172\n",
      "py4j.clientserver INFO  Closing down clientserver connection\n"
     ]
    },
    {
     "name": "stdout",
     "output_type": "stream",
     "text": [
      " 54%|█████▍    | 540/1000 [8:18:30<3:15:22, 25.48s/trial, best loss: 0.8391717593375025]"
     ]
    },
    {
     "name": "stderr",
     "output_type": "stream",
     "text": [
      "hyperopt.tpe INFO  build_posterior_wrapper took 0.000000 seconds\n",
      "hyperopt.tpe INFO  TPE using 558/558 trials with best loss 0.839172\n",
      "py4j.clientserver INFO  Closing down clientserver connection\n"
     ]
    },
    {
     "name": "stdout",
     "output_type": "stream",
     "text": [
      " 54%|█████▍    | 541/1000 [8:32:23<34:08:00, 267.71s/trial, best loss: 0.8391717593375025]"
     ]
    },
    {
     "name": "stderr",
     "output_type": "stream",
     "text": [
      "hyperopt.tpe INFO  build_posterior_wrapper took 0.000000 seconds\n",
      "hyperopt.tpe INFO  TPE using 559/559 trials with best loss 0.839172\n",
      "py4j.clientserver INFO  Closing down clientserver connection\n"
     ]
    },
    {
     "name": "stdout",
     "output_type": "stream",
     "text": [
      " 54%|█████▍    | 542/1000 [8:33:30<26:22:59, 207.38s/trial, best loss: 0.8391717593375025]"
     ]
    },
    {
     "name": "stderr",
     "output_type": "stream",
     "text": [
      "hyperopt.tpe INFO  build_posterior_wrapper took 0.000000 seconds\n",
      "hyperopt.tpe INFO  TPE using 560/560 trials with best loss 0.839172\n",
      "py4j.clientserver INFO  Closing down clientserver connection\n"
     ]
    },
    {
     "name": "stdout",
     "output_type": "stream",
     "text": [
      " 54%|█████▍    | 543/1000 [8:33:50<19:12:00, 151.25s/trial, best loss: 0.8391717593375025]"
     ]
    },
    {
     "name": "stderr",
     "output_type": "stream",
     "text": [
      "hyperopt.tpe INFO  build_posterior_wrapper took 0.000000 seconds\n",
      "hyperopt.tpe INFO  TPE using 561/561 trials with best loss 0.839172\n",
      "py4j.clientserver INFO  Closing down clientserver connection\n"
     ]
    },
    {
     "name": "stdout",
     "output_type": "stream",
     "text": [
      " 54%|█████▍    | 544/1000 [8:34:35<15:05:47, 119.18s/trial, best loss: 0.8391717593375025]"
     ]
    },
    {
     "name": "stderr",
     "output_type": "stream",
     "text": [
      "hyperopt.tpe INFO  build_posterior_wrapper took 0.000000 seconds\n",
      "hyperopt.tpe INFO  TPE using 562/562 trials with best loss 0.839172\n",
      "py4j.clientserver INFO  Closing down clientserver connection\n"
     ]
    },
    {
     "name": "stdout",
     "output_type": "stream",
     "text": [
      " 55%|█████▍    | 545/1000 [8:34:42<10:48:59, 85.58s/trial, best loss: 0.8391717593375025] "
     ]
    },
    {
     "name": "stderr",
     "output_type": "stream",
     "text": [
      "hyperopt.tpe INFO  build_posterior_wrapper took 0.000000 seconds\n",
      "hyperopt.tpe INFO  TPE using 563/563 trials with best loss 0.839172\n",
      "py4j.clientserver INFO  Closing down clientserver connection\n"
     ]
    },
    {
     "name": "stdout",
     "output_type": "stream",
     "text": [
      " 55%|█████▍    | 546/1000 [8:34:45<7:40:29, 60.86s/trial, best loss: 0.8391717593375025] "
     ]
    },
    {
     "name": "stderr",
     "output_type": "stream",
     "text": [
      "hyperopt.tpe INFO  build_posterior_wrapper took 0.000000 seconds\n",
      "hyperopt.tpe INFO  TPE using 564/564 trials with best loss 0.839172\n",
      "py4j.clientserver INFO  Closing down clientserver connection\n"
     ]
    },
    {
     "name": "stdout",
     "output_type": "stream",
     "text": [
      " 55%|█████▍    | 547/1000 [8:34:56<5:47:02, 45.96s/trial, best loss: 0.8391717593375025]"
     ]
    },
    {
     "name": "stderr",
     "output_type": "stream",
     "text": [
      "hyperopt.tpe INFO  build_posterior_wrapper took 0.000000 seconds\n",
      "hyperopt.tpe INFO  TPE using 565/565 trials with best loss 0.839172\n",
      "py4j.clientserver INFO  Closing down clientserver connection\n"
     ]
    },
    {
     "name": "stdout",
     "output_type": "stream",
     "text": [
      " 55%|█████▍    | 548/1000 [8:35:11<4:36:49, 36.75s/trial, best loss: 0.8391717593375025]"
     ]
    },
    {
     "name": "stderr",
     "output_type": "stream",
     "text": [
      "hyperopt.tpe INFO  build_posterior_wrapper took 0.000000 seconds\n",
      "hyperopt.tpe INFO  TPE using 566/566 trials with best loss 0.839172\n",
      "py4j.clientserver INFO  Closing down clientserver connection\n",
      "py4j.clientserver INFO  Closing down clientserver connection\n"
     ]
    },
    {
     "name": "stdout",
     "output_type": "stream",
     "text": [
      " 55%|█████▌    | 550/1000 [8:35:21<2:44:20, 21.91s/trial, best loss: 0.8391717593375025]"
     ]
    },
    {
     "name": "stderr",
     "output_type": "stream",
     "text": [
      "hyperopt.tpe INFO  build_posterior_wrapper took 0.000000 seconds\n",
      "hyperopt.tpe INFO  TPE using 567/567 trials with best loss 0.839172\n",
      "hyperopt.tpe INFO  build_posterior_wrapper took 0.000000 seconds\n",
      "hyperopt.tpe INFO  TPE using 568/568 trials with best loss 0.839172\n",
      "py4j.clientserver INFO  Closing down clientserver connection\n"
     ]
    },
    {
     "name": "stdout",
     "output_type": "stream",
     "text": [
      " 55%|█████▌    | 551/1000 [8:36:13<3:40:58, 29.53s/trial, best loss: 0.8391717593375025]"
     ]
    },
    {
     "name": "stderr",
     "output_type": "stream",
     "text": [
      "hyperopt.tpe INFO  build_posterior_wrapper took 0.000000 seconds\n",
      "hyperopt.tpe INFO  TPE using 569/569 trials with best loss 0.839172\n",
      "py4j.clientserver INFO  Closing down clientserver connection\n"
     ]
    },
    {
     "name": "stdout",
     "output_type": "stream",
     "text": [
      " 55%|█████▌    | 552/1000 [8:36:41<3:36:13, 28.96s/trial, best loss: 0.8391717593375025]"
     ]
    },
    {
     "name": "stderr",
     "output_type": "stream",
     "text": [
      "hyperopt.tpe INFO  build_posterior_wrapper took 0.000000 seconds\n",
      "hyperopt.tpe INFO  TPE using 570/570 trials with best loss 0.839172\n",
      "py4j.clientserver INFO  Closing down clientserver connection\n"
     ]
    },
    {
     "name": "stdout",
     "output_type": "stream",
     "text": [
      " 55%|█████▌    | 553/1000 [8:37:16<3:48:44, 30.70s/trial, best loss: 0.8391717593375025]"
     ]
    },
    {
     "name": "stderr",
     "output_type": "stream",
     "text": [
      "hyperopt.tpe INFO  build_posterior_wrapper took 0.000000 seconds\n",
      "hyperopt.tpe INFO  TPE using 571/571 trials with best loss 0.839172\n",
      "py4j.clientserver INFO  Closing down clientserver connection\n"
     ]
    },
    {
     "name": "stdout",
     "output_type": "stream",
     "text": [
      " 55%|█████▌    | 554/1000 [8:37:26<3:05:36, 24.97s/trial, best loss: 0.8391717593375025]"
     ]
    },
    {
     "name": "stderr",
     "output_type": "stream",
     "text": [
      "hyperopt.tpe INFO  build_posterior_wrapper took 0.000000 seconds\n",
      "hyperopt.tpe INFO  TPE using 572/572 trials with best loss 0.839172\n",
      "py4j.clientserver INFO  Closing down clientserver connection\n"
     ]
    },
    {
     "name": "stdout",
     "output_type": "stream",
     "text": [
      " 56%|█████▌    | 555/1000 [8:37:41<2:44:39, 22.20s/trial, best loss: 0.8391717593375025]"
     ]
    },
    {
     "name": "stderr",
     "output_type": "stream",
     "text": [
      "hyperopt.tpe INFO  build_posterior_wrapper took 0.003586 seconds\n",
      "hyperopt.tpe INFO  TPE using 573/573 trials with best loss 0.839172\n",
      "py4j.clientserver INFO  Closing down clientserver connection\n"
     ]
    },
    {
     "name": "stdout",
     "output_type": "stream",
     "text": [
      " 56%|█████▌    | 556/1000 [8:38:34<3:49:10, 30.97s/trial, best loss: 0.8391717593375025]"
     ]
    },
    {
     "name": "stderr",
     "output_type": "stream",
     "text": [
      "hyperopt.tpe INFO  build_posterior_wrapper took 0.093765 seconds\n",
      "hyperopt.tpe INFO  TPE using 574/574 trials with best loss 0.839172\n",
      "py4j.clientserver INFO  Closing down clientserver connection\n"
     ]
    },
    {
     "name": "stdout",
     "output_type": "stream",
     "text": [
      " 56%|█████▌    | 557/1000 [8:39:29<4:41:49, 38.17s/trial, best loss: 0.8391717593375025]"
     ]
    },
    {
     "name": "stderr",
     "output_type": "stream",
     "text": [
      "hyperopt.tpe INFO  build_posterior_wrapper took 0.000000 seconds\n",
      "hyperopt.tpe INFO  TPE using 575/575 trials with best loss 0.839172\n",
      "py4j.clientserver INFO  Closing down clientserver connection\n"
     ]
    },
    {
     "name": "stdout",
     "output_type": "stream",
     "text": [
      " 56%|█████▌    | 558/1000 [8:39:47<3:55:47, 32.01s/trial, best loss: 0.8391717593375025]"
     ]
    },
    {
     "name": "stderr",
     "output_type": "stream",
     "text": [
      "hyperopt.tpe INFO  build_posterior_wrapper took 0.002506 seconds\n",
      "hyperopt.tpe INFO  TPE using 576/576 trials with best loss 0.839172\n",
      "py4j.clientserver INFO  Closing down clientserver connection\n"
     ]
    },
    {
     "name": "stdout",
     "output_type": "stream",
     "text": [
      " 56%|█████▌    | 559/1000 [8:52:54<31:21:32, 255.99s/trial, best loss: 0.8391717593375025]"
     ]
    },
    {
     "name": "stderr",
     "output_type": "stream",
     "text": [
      "hyperopt.tpe INFO  build_posterior_wrapper took 0.000000 seconds\n",
      "hyperopt.tpe INFO  TPE using 577/577 trials with best loss 0.839172\n",
      "py4j.clientserver INFO  Closing down clientserver connection\n"
     ]
    },
    {
     "name": "stdout",
     "output_type": "stream",
     "text": [
      " 56%|█████▌    | 560/1000 [8:54:26<25:18:58, 207.13s/trial, best loss: 0.8391717593375025]"
     ]
    },
    {
     "name": "stderr",
     "output_type": "stream",
     "text": [
      "hyperopt.tpe INFO  build_posterior_wrapper took 0.000000 seconds\n",
      "hyperopt.tpe INFO  TPE using 578/578 trials with best loss 0.839172\n",
      "py4j.clientserver INFO  Closing down clientserver connection\n"
     ]
    },
    {
     "name": "stdout",
     "output_type": "stream",
     "text": [
      " 56%|█████▌    | 561/1000 [8:54:37<18:08:03, 148.71s/trial, best loss: 0.8391717593375025]"
     ]
    },
    {
     "name": "stderr",
     "output_type": "stream",
     "text": [
      "hyperopt.tpe INFO  build_posterior_wrapper took 0.000000 seconds\n",
      "hyperopt.tpe INFO  TPE using 579/579 trials with best loss 0.839172\n",
      "py4j.clientserver INFO  Closing down clientserver connection\n"
     ]
    },
    {
     "name": "stdout",
     "output_type": "stream",
     "text": [
      " 56%|█████▌    | 562/1000 [8:55:06<13:43:04, 112.75s/trial, best loss: 0.8391717593375025]"
     ]
    },
    {
     "name": "stderr",
     "output_type": "stream",
     "text": [
      "hyperopt.tpe INFO  build_posterior_wrapper took 0.000000 seconds\n",
      "hyperopt.tpe INFO  TPE using 580/580 trials with best loss 0.839172\n",
      "py4j.clientserver INFO  Closing down clientserver connection\n"
     ]
    },
    {
     "name": "stdout",
     "output_type": "stream",
     "text": [
      " 56%|█████▋    | 563/1000 [8:55:15<9:55:39, 81.78s/trial, best loss: 0.8391717593375025]  "
     ]
    },
    {
     "name": "stderr",
     "output_type": "stream",
     "text": [
      "hyperopt.tpe INFO  build_posterior_wrapper took 0.000000 seconds\n",
      "hyperopt.tpe INFO  TPE using 581/581 trials with best loss 0.839172\n",
      "py4j.clientserver INFO  Closing down clientserver connection\n"
     ]
    },
    {
     "name": "stdout",
     "output_type": "stream",
     "text": [
      " 56%|█████▋    | 564/1000 [8:55:35<7:40:22, 63.36s/trial, best loss: 0.8391717593375025]"
     ]
    },
    {
     "name": "stderr",
     "output_type": "stream",
     "text": [
      "hyperopt.tpe INFO  build_posterior_wrapper took 0.000000 seconds\n",
      "hyperopt.tpe INFO  TPE using 582/582 trials with best loss 0.839172\n",
      "py4j.clientserver INFO  Closing down clientserver connection\n"
     ]
    },
    {
     "name": "stdout",
     "output_type": "stream",
     "text": [
      " 56%|█████▋    | 565/1000 [8:55:54<6:03:37, 50.16s/trial, best loss: 0.8391717593375025]"
     ]
    },
    {
     "name": "stderr",
     "output_type": "stream",
     "text": [
      "hyperopt.tpe INFO  build_posterior_wrapper took 0.000000 seconds\n",
      "hyperopt.tpe INFO  TPE using 583/583 trials with best loss 0.839172\n",
      "py4j.clientserver INFO  Closing down clientserver connection\n"
     ]
    },
    {
     "name": "stdout",
     "output_type": "stream",
     "text": [
      " 57%|█████▋    | 566/1000 [8:56:28<5:26:27, 45.13s/trial, best loss: 0.8391717593375025]"
     ]
    },
    {
     "name": "stderr",
     "output_type": "stream",
     "text": [
      "hyperopt.tpe INFO  build_posterior_wrapper took 0.000000 seconds\n",
      "hyperopt.tpe INFO  TPE using 584/584 trials with best loss 0.839172\n",
      "py4j.clientserver INFO  Closing down clientserver connection\n"
     ]
    },
    {
     "name": "stdout",
     "output_type": "stream",
     "text": [
      " 57%|█████▋    | 567/1000 [8:56:30<3:52:45, 32.25s/trial, best loss: 0.8391717593375025]"
     ]
    },
    {
     "name": "stderr",
     "output_type": "stream",
     "text": [
      "hyperopt.tpe INFO  build_posterior_wrapper took 0.000000 seconds\n",
      "hyperopt.tpe INFO  TPE using 585/585 trials with best loss 0.839172\n",
      "py4j.clientserver INFO  Closing down clientserver connection\n"
     ]
    },
    {
     "name": "stdout",
     "output_type": "stream",
     "text": [
      " 57%|█████▋    | 568/1000 [8:56:38<3:00:16, 25.04s/trial, best loss: 0.8391717593375025]"
     ]
    },
    {
     "name": "stderr",
     "output_type": "stream",
     "text": [
      "hyperopt.tpe INFO  build_posterior_wrapper took 0.002517 seconds\n",
      "hyperopt.tpe INFO  TPE using 586/586 trials with best loss 0.839172\n",
      "py4j.clientserver INFO  Closing down clientserver connection\n"
     ]
    },
    {
     "name": "stdout",
     "output_type": "stream",
     "text": [
      " 57%|█████▋    | 569/1000 [8:56:49<2:30:07, 20.90s/trial, best loss: 0.8391717593375025]"
     ]
    },
    {
     "name": "stderr",
     "output_type": "stream",
     "text": [
      "hyperopt.tpe INFO  build_posterior_wrapper took 0.000000 seconds\n",
      "hyperopt.tpe INFO  TPE using 587/587 trials with best loss 0.839172\n",
      "py4j.clientserver INFO  Closing down clientserver connection\n"
     ]
    },
    {
     "name": "stdout",
     "output_type": "stream",
     "text": [
      " 57%|█████▋    | 570/1000 [8:57:06<2:19:54, 19.52s/trial, best loss: 0.8391717593375025]"
     ]
    },
    {
     "name": "stderr",
     "output_type": "stream",
     "text": [
      "hyperopt.tpe INFO  build_posterior_wrapper took 0.000000 seconds\n",
      "hyperopt.tpe INFO  TPE using 588/588 trials with best loss 0.839172\n",
      "py4j.clientserver INFO  Closing down clientserver connection\n"
     ]
    },
    {
     "name": "stdout",
     "output_type": "stream",
     "text": [
      " 57%|█████▋    | 571/1000 [8:57:48<3:08:36, 26.38s/trial, best loss: 0.8391717593375025]"
     ]
    },
    {
     "name": "stderr",
     "output_type": "stream",
     "text": [
      "hyperopt.tpe INFO  build_posterior_wrapper took 0.000000 seconds\n",
      "hyperopt.tpe INFO  TPE using 589/589 trials with best loss 0.839172\n",
      "py4j.clientserver INFO  Closing down clientserver connection\n"
     ]
    },
    {
     "name": "stdout",
     "output_type": "stream",
     "text": [
      " 57%|█████▋    | 572/1000 [8:58:13<3:05:48, 26.05s/trial, best loss: 0.8391717593375025]"
     ]
    },
    {
     "name": "stderr",
     "output_type": "stream",
     "text": [
      "hyperopt.tpe INFO  build_posterior_wrapper took 0.005244 seconds\n",
      "hyperopt.tpe INFO  TPE using 590/590 trials with best loss 0.839172\n",
      "py4j.clientserver INFO  Closing down clientserver connection\n"
     ]
    },
    {
     "name": "stdout",
     "output_type": "stream",
     "text": [
      " 57%|█████▋    | 573/1000 [8:58:42<3:10:03, 26.71s/trial, best loss: 0.8391717593375025]"
     ]
    },
    {
     "name": "stderr",
     "output_type": "stream",
     "text": [
      "hyperopt.tpe INFO  build_posterior_wrapper took 0.000000 seconds\n",
      "hyperopt.tpe INFO  TPE using 591/591 trials with best loss 0.839172\n",
      "py4j.clientserver INFO  Closing down clientserver connection\n"
     ]
    },
    {
     "name": "stdout",
     "output_type": "stream",
     "text": [
      " 57%|█████▋    | 574/1000 [8:59:07<3:06:44, 26.30s/trial, best loss: 0.8391717593375025]"
     ]
    },
    {
     "name": "stderr",
     "output_type": "stream",
     "text": [
      "hyperopt.tpe INFO  build_posterior_wrapper took 0.000000 seconds\n",
      "hyperopt.tpe INFO  TPE using 592/592 trials with best loss 0.839172\n",
      "py4j.clientserver INFO  Closing down clientserver connection\n"
     ]
    },
    {
     "name": "stdout",
     "output_type": "stream",
     "text": [
      " 57%|█████▊    | 575/1000 [9:00:00<4:03:52, 34.43s/trial, best loss: 0.8391717593375025]"
     ]
    },
    {
     "name": "stderr",
     "output_type": "stream",
     "text": [
      "hyperopt.tpe INFO  build_posterior_wrapper took 0.000000 seconds\n",
      "hyperopt.tpe INFO  TPE using 593/593 trials with best loss 0.839172\n",
      "py4j.clientserver INFO  Closing down clientserver connection\n"
     ]
    },
    {
     "name": "stdout",
     "output_type": "stream",
     "text": [
      " 58%|█████▊    | 576/1000 [9:00:19<3:29:02, 29.58s/trial, best loss: 0.8391717593375025]"
     ]
    },
    {
     "name": "stderr",
     "output_type": "stream",
     "text": [
      "hyperopt.tpe INFO  build_posterior_wrapper took 0.000000 seconds\n",
      "hyperopt.tpe INFO  TPE using 594/594 trials with best loss 0.839172\n",
      "py4j.clientserver INFO  Closing down clientserver connection\n"
     ]
    },
    {
     "name": "stdout",
     "output_type": "stream",
     "text": [
      " 58%|█████▊    | 577/1000 [9:13:22<30:02:54, 255.73s/trial, best loss: 0.8391717593375025]"
     ]
    },
    {
     "name": "stderr",
     "output_type": "stream",
     "text": [
      "hyperopt.tpe INFO  build_posterior_wrapper took 0.003001 seconds\n",
      "hyperopt.tpe INFO  TPE using 595/595 trials with best loss 0.839172\n",
      "py4j.clientserver INFO  Closing down clientserver connection\n"
     ]
    },
    {
     "name": "stdout",
     "output_type": "stream",
     "text": [
      " 58%|█████▊    | 578/1000 [9:15:29<25:26:45, 217.08s/trial, best loss: 0.8391717593375025]"
     ]
    },
    {
     "name": "stderr",
     "output_type": "stream",
     "text": [
      "hyperopt.tpe INFO  build_posterior_wrapper took 0.000000 seconds\n",
      "hyperopt.tpe INFO  TPE using 596/596 trials with best loss 0.839172\n",
      "py4j.clientserver INFO  Closing down clientserver connection\n"
     ]
    },
    {
     "name": "stdout",
     "output_type": "stream",
     "text": [
      " 58%|█████▊    | 579/1000 [9:15:41<18:11:57, 155.62s/trial, best loss: 0.8391717593375025]"
     ]
    },
    {
     "name": "stderr",
     "output_type": "stream",
     "text": [
      "hyperopt.tpe INFO  build_posterior_wrapper took 0.000000 seconds\n",
      "hyperopt.tpe INFO  TPE using 597/597 trials with best loss 0.839172\n",
      "py4j.clientserver INFO  Closing down clientserver connection\n"
     ]
    },
    {
     "name": "stdout",
     "output_type": "stream",
     "text": [
      " 58%|█████▊    | 580/1000 [9:16:10<13:44:00, 117.71s/trial, best loss: 0.8391717593375025]"
     ]
    },
    {
     "name": "stderr",
     "output_type": "stream",
     "text": [
      "hyperopt.tpe INFO  build_posterior_wrapper took 0.000000 seconds\n",
      "hyperopt.tpe INFO  TPE using 598/598 trials with best loss 0.839172\n",
      "py4j.clientserver INFO  Closing down clientserver connection\n"
     ]
    },
    {
     "name": "stdout",
     "output_type": "stream",
     "text": [
      " 58%|█████▊    | 581/1000 [9:16:18<9:50:27, 84.55s/trial, best loss: 0.8391717593375025]  "
     ]
    },
    {
     "name": "stderr",
     "output_type": "stream",
     "text": [
      "hyperopt.tpe INFO  build_posterior_wrapper took 0.000000 seconds\n",
      "hyperopt.tpe INFO  TPE using 599/599 trials with best loss 0.839172\n",
      "py4j.clientserver INFO  Closing down clientserver connection\n"
     ]
    },
    {
     "name": "stdout",
     "output_type": "stream",
     "text": [
      " 58%|█████▊    | 582/1000 [9:16:37<7:32:36, 64.97s/trial, best loss: 0.8391717593375025]"
     ]
    },
    {
     "name": "stderr",
     "output_type": "stream",
     "text": [
      "hyperopt.tpe INFO  build_posterior_wrapper took 0.000000 seconds\n",
      "hyperopt.tpe INFO  TPE using 600/600 trials with best loss 0.839172\n",
      "py4j.clientserver INFO  Closing down clientserver connection\n"
     ]
    },
    {
     "name": "stdout",
     "output_type": "stream",
     "text": [
      " 58%|█████▊    | 583/1000 [9:16:57<5:58:15, 51.55s/trial, best loss: 0.8391717593375025]"
     ]
    },
    {
     "name": "stderr",
     "output_type": "stream",
     "text": [
      "hyperopt.tpe INFO  build_posterior_wrapper took 0.000000 seconds\n",
      "hyperopt.tpe INFO  TPE using 601/601 trials with best loss 0.839172\n",
      "py4j.clientserver INFO  Closing down clientserver connection\n"
     ]
    },
    {
     "name": "stdout",
     "output_type": "stream",
     "text": [
      " 58%|█████▊    | 584/1000 [9:17:05<4:27:19, 38.56s/trial, best loss: 0.8391717593375025]"
     ]
    },
    {
     "name": "stderr",
     "output_type": "stream",
     "text": [
      "hyperopt.tpe INFO  build_posterior_wrapper took 0.000000 seconds\n",
      "hyperopt.tpe INFO  TPE using 602/602 trials with best loss 0.839172\n",
      "py4j.clientserver INFO  Closing down clientserver connection\n"
     ]
    },
    {
     "name": "stdout",
     "output_type": "stream",
     "text": [
      " 58%|█████▊    | 585/1000 [9:17:16<3:27:53, 30.06s/trial, best loss: 0.8391717593375025]"
     ]
    },
    {
     "name": "stderr",
     "output_type": "stream",
     "text": [
      "hyperopt.tpe INFO  build_posterior_wrapper took 0.000000 seconds\n",
      "hyperopt.tpe INFO  TPE using 603/603 trials with best loss 0.839172\n",
      "py4j.clientserver INFO  Closing down clientserver connection\n"
     ]
    },
    {
     "name": "stdout",
     "output_type": "stream",
     "text": [
      " 59%|█████▊    | 586/1000 [9:17:32<2:58:47, 25.91s/trial, best loss: 0.8391717593375025]"
     ]
    },
    {
     "name": "stderr",
     "output_type": "stream",
     "text": [
      "hyperopt.tpe INFO  build_posterior_wrapper took 0.000000 seconds\n",
      "hyperopt.tpe INFO  TPE using 604/604 trials with best loss 0.839172\n",
      "py4j.clientserver INFO  Closing down clientserver connection\n"
     ]
    },
    {
     "name": "stdout",
     "output_type": "stream",
     "text": [
      " 59%|█████▊    | 587/1000 [9:17:39<2:19:42, 20.30s/trial, best loss: 0.8391717593375025]"
     ]
    },
    {
     "name": "stderr",
     "output_type": "stream",
     "text": [
      "hyperopt.tpe INFO  build_posterior_wrapper took 0.000000 seconds\n",
      "hyperopt.tpe INFO  TPE using 605/605 trials with best loss 0.839172\n",
      "py4j.clientserver INFO  Closing down clientserver connection\n"
     ]
    },
    {
     "name": "stdout",
     "output_type": "stream",
     "text": [
      " 59%|█████▉    | 588/1000 [9:18:09<2:39:59, 23.30s/trial, best loss: 0.8391717593375025]"
     ]
    },
    {
     "name": "stderr",
     "output_type": "stream",
     "text": [
      "hyperopt.tpe INFO  build_posterior_wrapper took 0.000000 seconds\n",
      "hyperopt.tpe INFO  TPE using 606/606 trials with best loss 0.839172\n",
      "py4j.clientserver INFO  Closing down clientserver connection\n"
     ]
    },
    {
     "name": "stdout",
     "output_type": "stream",
     "text": [
      " 59%|█████▉    | 589/1000 [9:18:43<3:00:28, 26.35s/trial, best loss: 0.8391717593375025]"
     ]
    },
    {
     "name": "stderr",
     "output_type": "stream",
     "text": [
      "hyperopt.tpe INFO  build_posterior_wrapper took 0.000000 seconds\n",
      "hyperopt.tpe INFO  TPE using 607/607 trials with best loss 0.839172\n",
      "py4j.clientserver INFO  Closing down clientserver connection\n"
     ]
    },
    {
     "name": "stdout",
     "output_type": "stream",
     "text": [
      " 59%|█████▉    | 590/1000 [9:19:33<3:49:23, 33.57s/trial, best loss: 0.8391717593375025]"
     ]
    },
    {
     "name": "stderr",
     "output_type": "stream",
     "text": [
      "hyperopt.tpe INFO  build_posterior_wrapper took 0.000000 seconds\n",
      "hyperopt.tpe INFO  TPE using 608/608 trials with best loss 0.839172\n",
      "py4j.clientserver INFO  Closing down clientserver connection\n"
     ]
    },
    {
     "name": "stdout",
     "output_type": "stream",
     "text": [
      " 59%|█████▉    | 591/1000 [9:19:42<2:59:03, 26.27s/trial, best loss: 0.8391717593375025]"
     ]
    },
    {
     "name": "stderr",
     "output_type": "stream",
     "text": [
      "hyperopt.tpe INFO  build_posterior_wrapper took 0.000000 seconds\n",
      "hyperopt.tpe INFO  TPE using 609/609 trials with best loss 0.839172\n",
      "py4j.clientserver INFO  Closing down clientserver connection\n"
     ]
    },
    {
     "name": "stdout",
     "output_type": "stream",
     "text": [
      " 59%|█████▉    | 592/1000 [9:20:05<2:50:34, 25.08s/trial, best loss: 0.8391717593375025]"
     ]
    },
    {
     "name": "stderr",
     "output_type": "stream",
     "text": [
      "hyperopt.tpe INFO  build_posterior_wrapper took 0.000000 seconds\n",
      "hyperopt.tpe INFO  TPE using 610/610 trials with best loss 0.839172\n",
      "py4j.clientserver INFO  Closing down clientserver connection\n"
     ]
    },
    {
     "name": "stdout",
     "output_type": "stream",
     "text": [
      " 59%|█████▉    | 593/1000 [9:21:34<5:01:33, 44.46s/trial, best loss: 0.8391717593375025]"
     ]
    },
    {
     "name": "stderr",
     "output_type": "stream",
     "text": [
      "hyperopt.tpe INFO  build_posterior_wrapper took 0.000000 seconds\n",
      "hyperopt.tpe INFO  TPE using 611/611 trials with best loss 0.839172\n",
      "py4j.clientserver INFO  Closing down clientserver connection\n"
     ]
    },
    {
     "name": "stdout",
     "output_type": "stream",
     "text": [
      " 59%|█████▉    | 594/1000 [9:21:58<4:17:53, 38.11s/trial, best loss: 0.836200136505083] "
     ]
    },
    {
     "name": "stderr",
     "output_type": "stream",
     "text": [
      "hyperopt.tpe INFO  build_posterior_wrapper took 0.000000 seconds\n",
      "hyperopt.tpe INFO  TPE using 612/612 trials with best loss 0.836200\n",
      "py4j.clientserver INFO  Closing down clientserver connection\n"
     ]
    },
    {
     "name": "stdout",
     "output_type": "stream",
     "text": [
      " 60%|█████▉    | 595/1000 [9:35:40<30:46:00, 273.48s/trial, best loss: 0.836200136505083]"
     ]
    },
    {
     "name": "stderr",
     "output_type": "stream",
     "text": [
      "hyperopt.tpe INFO  build_posterior_wrapper took 0.000000 seconds\n",
      "hyperopt.tpe INFO  TPE using 613/613 trials with best loss 0.836200\n",
      "py4j.clientserver INFO  Closing down clientserver connection\n"
     ]
    },
    {
     "name": "stdout",
     "output_type": "stream",
     "text": [
      " 60%|█████▉    | 596/1000 [9:35:58<22:03:56, 196.62s/trial, best loss: 0.836200136505083]"
     ]
    },
    {
     "name": "stderr",
     "output_type": "stream",
     "text": [
      "hyperopt.tpe INFO  build_posterior_wrapper took 0.000000 seconds\n",
      "hyperopt.tpe INFO  TPE using 614/614 trials with best loss 0.836200\n",
      "py4j.clientserver INFO  Closing down clientserver connection\n"
     ]
    },
    {
     "name": "stdout",
     "output_type": "stream",
     "text": [
      " 60%|█████▉    | 597/1000 [9:36:08<15:45:02, 140.70s/trial, best loss: 0.836200136505083]"
     ]
    },
    {
     "name": "stderr",
     "output_type": "stream",
     "text": [
      "hyperopt.tpe INFO  build_posterior_wrapper took 0.002839 seconds\n",
      "hyperopt.tpe INFO  TPE using 615/615 trials with best loss 0.836200\n",
      "py4j.clientserver INFO  Closing down clientserver connection\n"
     ]
    },
    {
     "name": "stdout",
     "output_type": "stream",
     "text": [
      " 60%|█████▉    | 598/1000 [9:36:36<11:57:00, 107.02s/trial, best loss: 0.836200136505083]"
     ]
    },
    {
     "name": "stderr",
     "output_type": "stream",
     "text": [
      "hyperopt.tpe INFO  build_posterior_wrapper took 0.000000 seconds\n",
      "hyperopt.tpe INFO  TPE using 616/616 trials with best loss 0.836200\n",
      "py4j.clientserver INFO  Closing down clientserver connection\n"
     ]
    },
    {
     "name": "stdout",
     "output_type": "stream",
     "text": [
      " 60%|█████▉    | 599/1000 [9:36:51<8:49:12, 79.18s/trial, best loss: 0.836200136505083]  "
     ]
    },
    {
     "name": "stderr",
     "output_type": "stream",
     "text": [
      "hyperopt.tpe INFO  build_posterior_wrapper took 0.000000 seconds\n",
      "hyperopt.tpe INFO  TPE using 617/617 trials with best loss 0.836200\n",
      "py4j.clientserver INFO  Closing down clientserver connection\n"
     ]
    },
    {
     "name": "stdout",
     "output_type": "stream",
     "text": [
      " 60%|██████    | 600/1000 [9:37:07<6:41:58, 60.30s/trial, best loss: 0.836200136505083]"
     ]
    },
    {
     "name": "stderr",
     "output_type": "stream",
     "text": [
      "hyperopt.tpe INFO  build_posterior_wrapper took 0.003192 seconds\n",
      "hyperopt.tpe INFO  TPE using 618/618 trials with best loss 0.836200\n",
      "py4j.clientserver INFO  Closing down clientserver connection\n"
     ]
    },
    {
     "name": "stdout",
     "output_type": "stream",
     "text": [
      " 60%|██████    | 601/1000 [9:37:30<5:27:11, 49.20s/trial, best loss: 0.836200136505083]"
     ]
    },
    {
     "name": "stderr",
     "output_type": "stream",
     "text": [
      "hyperopt.tpe INFO  build_posterior_wrapper took 0.000000 seconds\n",
      "hyperopt.tpe INFO  TPE using 619/619 trials with best loss 0.836200\n",
      "py4j.clientserver INFO  Closing down clientserver connection\n"
     ]
    },
    {
     "name": "stdout",
     "output_type": "stream",
     "text": [
      " 60%|██████    | 602/1000 [9:37:42<4:12:45, 38.11s/trial, best loss: 0.836200136505083]"
     ]
    },
    {
     "name": "stderr",
     "output_type": "stream",
     "text": [
      "hyperopt.tpe INFO  build_posterior_wrapper took 0.000000 seconds\n",
      "hyperopt.tpe INFO  TPE using 620/620 trials with best loss 0.836200\n",
      "py4j.clientserver INFO  Closing down clientserver connection\n"
     ]
    },
    {
     "name": "stdout",
     "output_type": "stream",
     "text": [
      " 60%|██████    | 603/1000 [9:37:58<3:26:47, 31.25s/trial, best loss: 0.836200136505083]"
     ]
    },
    {
     "name": "stderr",
     "output_type": "stream",
     "text": [
      "hyperopt.tpe INFO  build_posterior_wrapper took 0.000000 seconds\n",
      "hyperopt.tpe INFO  TPE using 621/621 trials with best loss 0.836200\n",
      "py4j.clientserver INFO  Closing down clientserver connection\n",
      "py4j.clientserver INFO  Closing down clientserver connection\n"
     ]
    },
    {
     "name": "stdout",
     "output_type": "stream",
     "text": [
      " 60%|██████    | 605/1000 [9:38:07<2:04:50, 18.96s/trial, best loss: 0.836200136505083]"
     ]
    },
    {
     "name": "stderr",
     "output_type": "stream",
     "text": [
      "hyperopt.tpe INFO  build_posterior_wrapper took 0.000000 seconds\n",
      "hyperopt.tpe INFO  TPE using 622/622 trials with best loss 0.836200\n",
      "hyperopt.tpe INFO  build_posterior_wrapper took 0.000000 seconds\n",
      "hyperopt.tpe INFO  TPE using 623/623 trials with best loss 0.836200\n",
      "py4j.clientserver INFO  Closing down clientserver connection\n"
     ]
    },
    {
     "name": "stdout",
     "output_type": "stream",
     "text": [
      " 61%|██████    | 606/1000 [9:39:11<3:17:14, 30.04s/trial, best loss: 0.836200136505083]"
     ]
    },
    {
     "name": "stderr",
     "output_type": "stream",
     "text": [
      "hyperopt.tpe INFO  build_posterior_wrapper took 0.000000 seconds\n",
      "hyperopt.tpe INFO  TPE using 624/624 trials with best loss 0.836200\n",
      "py4j.clientserver INFO  Closing down clientserver connection\n"
     ]
    },
    {
     "name": "stdout",
     "output_type": "stream",
     "text": [
      " 61%|██████    | 607/1000 [9:39:13<2:28:59, 22.75s/trial, best loss: 0.836200136505083]"
     ]
    },
    {
     "name": "stderr",
     "output_type": "stream",
     "text": [
      "hyperopt.tpe INFO  build_posterior_wrapper took 0.000000 seconds\n",
      "hyperopt.tpe INFO  TPE using 625/625 trials with best loss 0.836200\n",
      "py4j.clientserver INFO  Closing down clientserver connection\n"
     ]
    },
    {
     "name": "stdout",
     "output_type": "stream",
     "text": [
      " 61%|██████    | 608/1000 [9:40:00<3:12:30, 29.47s/trial, best loss: 0.836200136505083]"
     ]
    },
    {
     "name": "stderr",
     "output_type": "stream",
     "text": [
      "hyperopt.tpe INFO  build_posterior_wrapper took 0.000000 seconds\n",
      "hyperopt.tpe INFO  TPE using 626/626 trials with best loss 0.836200\n",
      "py4j.clientserver INFO  Closing down clientserver connection\n"
     ]
    },
    {
     "name": "stdout",
     "output_type": "stream",
     "text": [
      " 61%|██████    | 609/1000 [9:40:08<2:33:13, 23.51s/trial, best loss: 0.836200136505083]"
     ]
    },
    {
     "name": "stderr",
     "output_type": "stream",
     "text": [
      "hyperopt.tpe INFO  build_posterior_wrapper took 0.000000 seconds\n",
      "hyperopt.tpe INFO  TPE using 627/627 trials with best loss 0.836200\n",
      "py4j.clientserver INFO  Closing down clientserver connection\n"
     ]
    },
    {
     "name": "stdout",
     "output_type": "stream",
     "text": [
      " 61%|██████    | 610/1000 [9:41:05<3:34:00, 32.92s/trial, best loss: 0.836200136505083]"
     ]
    },
    {
     "name": "stderr",
     "output_type": "stream",
     "text": [
      "hyperopt.tpe INFO  build_posterior_wrapper took 0.000000 seconds\n",
      "hyperopt.tpe INFO  TPE using 628/628 trials with best loss 0.836200\n",
      "py4j.clientserver INFO  Closing down clientserver connection\n"
     ]
    },
    {
     "name": "stdout",
     "output_type": "stream",
     "text": [
      " 61%|██████    | 611/1000 [9:42:24<5:01:07, 46.45s/trial, best loss: 0.836200136505083]"
     ]
    },
    {
     "name": "stderr",
     "output_type": "stream",
     "text": [
      "hyperopt.tpe INFO  build_posterior_wrapper took 0.000000 seconds\n",
      "hyperopt.tpe INFO  TPE using 629/629 trials with best loss 0.836200\n",
      "py4j.clientserver INFO  Closing down clientserver connection\n"
     ]
    },
    {
     "name": "stdout",
     "output_type": "stream",
     "text": [
      " 61%|██████    | 612/1000 [9:42:40<4:01:20, 37.32s/trial, best loss: 0.836200136505083]"
     ]
    },
    {
     "name": "stderr",
     "output_type": "stream",
     "text": [
      "hyperopt.tpe INFO  build_posterior_wrapper took 0.000000 seconds\n",
      "hyperopt.tpe INFO  TPE using 630/630 trials with best loss 0.836200\n",
      "py4j.clientserver INFO  Closing down clientserver connection\n"
     ]
    },
    {
     "name": "stdout",
     "output_type": "stream",
     "text": [
      " 61%|██████▏   | 613/1000 [9:55:58<28:08:35, 261.80s/trial, best loss: 0.836200136505083]"
     ]
    },
    {
     "name": "stderr",
     "output_type": "stream",
     "text": [
      "hyperopt.tpe INFO  build_posterior_wrapper took 0.000000 seconds\n",
      "hyperopt.tpe INFO  TPE using 631/631 trials with best loss 0.836200\n",
      "py4j.clientserver INFO  Closing down clientserver connection\n"
     ]
    },
    {
     "name": "stdout",
     "output_type": "stream",
     "text": [
      " 61%|██████▏   | 614/1000 [9:56:57<21:36:27, 201.52s/trial, best loss: 0.836200136505083]"
     ]
    },
    {
     "name": "stderr",
     "output_type": "stream",
     "text": [
      "hyperopt.tpe INFO  build_posterior_wrapper took 0.000000 seconds\n",
      "hyperopt.tpe INFO  TPE using 632/632 trials with best loss 0.836200\n",
      "py4j.clientserver INFO  Closing down clientserver connection\n"
     ]
    },
    {
     "name": "stdout",
     "output_type": "stream",
     "text": [
      " 62%|██████▏   | 615/1000 [9:57:02<15:18:20, 143.12s/trial, best loss: 0.836200136505083]"
     ]
    },
    {
     "name": "stderr",
     "output_type": "stream",
     "text": [
      "hyperopt.tpe INFO  build_posterior_wrapper took 0.000000 seconds\n",
      "hyperopt.tpe INFO  TPE using 633/633 trials with best loss 0.836200\n",
      "py4j.clientserver INFO  Closing down clientserver connection\n"
     ]
    },
    {
     "name": "stdout",
     "output_type": "stream",
     "text": [
      " 62%|██████▏   | 616/1000 [9:57:28<11:33:07, 108.30s/trial, best loss: 0.836200136505083]"
     ]
    },
    {
     "name": "stderr",
     "output_type": "stream",
     "text": [
      "hyperopt.tpe INFO  build_posterior_wrapper took 0.000000 seconds\n",
      "hyperopt.tpe INFO  TPE using 634/634 trials with best loss 0.836200\n",
      "py4j.clientserver INFO  Closing down clientserver connection\n"
     ]
    },
    {
     "name": "stdout",
     "output_type": "stream",
     "text": [
      " 62%|██████▏   | 617/1000 [9:57:44<8:35:46, 80.80s/trial, best loss: 0.836200136505083]  "
     ]
    },
    {
     "name": "stderr",
     "output_type": "stream",
     "text": [
      "hyperopt.tpe INFO  build_posterior_wrapper took 0.000000 seconds\n",
      "hyperopt.tpe INFO  TPE using 635/635 trials with best loss 0.836200\n",
      "py4j.clientserver INFO  Closing down clientserver connection\n"
     ]
    },
    {
     "name": "stdout",
     "output_type": "stream",
     "text": [
      " 62%|██████▏   | 618/1000 [9:58:00<6:29:36, 61.19s/trial, best loss: 0.836200136505083]"
     ]
    },
    {
     "name": "stderr",
     "output_type": "stream",
     "text": [
      "hyperopt.tpe INFO  build_posterior_wrapper took 0.000000 seconds\n",
      "hyperopt.tpe INFO  TPE using 636/636 trials with best loss 0.836200\n",
      "py4j.clientserver INFO  Closing down clientserver connection\n"
     ]
    },
    {
     "name": "stdout",
     "output_type": "stream",
     "text": [
      " 62%|██████▏   | 619/1000 [9:58:09<4:49:46, 45.63s/trial, best loss: 0.836200136505083]"
     ]
    },
    {
     "name": "stderr",
     "output_type": "stream",
     "text": [
      "hyperopt.tpe INFO  build_posterior_wrapper took 0.005545 seconds\n",
      "hyperopt.tpe INFO  TPE using 637/637 trials with best loss 0.836200\n",
      "py4j.clientserver INFO  Closing down clientserver connection\n"
     ]
    },
    {
     "name": "stdout",
     "output_type": "stream",
     "text": [
      " 62%|██████▏   | 620/1000 [9:58:28<3:58:57, 37.73s/trial, best loss: 0.836200136505083]"
     ]
    },
    {
     "name": "stderr",
     "output_type": "stream",
     "text": [
      "hyperopt.tpe INFO  build_posterior_wrapper took 0.000000 seconds\n",
      "hyperopt.tpe INFO  TPE using 638/638 trials with best loss 0.836200\n",
      "py4j.clientserver INFO  Closing down clientserver connection\n"
     ]
    },
    {
     "name": "stdout",
     "output_type": "stream",
     "text": [
      " 62%|██████▏   | 621/1000 [9:59:10<4:05:18, 38.83s/trial, best loss: 0.836200136505083]"
     ]
    },
    {
     "name": "stderr",
     "output_type": "stream",
     "text": [
      "hyperopt.tpe INFO  build_posterior_wrapper took 0.000000 seconds\n",
      "hyperopt.tpe INFO  TPE using 639/639 trials with best loss 0.836200\n",
      "py4j.clientserver INFO  Closing down clientserver connection\n"
     ]
    },
    {
     "name": "stdout",
     "output_type": "stream",
     "text": [
      " 62%|██████▏   | 622/1000 [9:59:12<2:55:26, 27.85s/trial, best loss: 0.836200136505083]"
     ]
    },
    {
     "name": "stderr",
     "output_type": "stream",
     "text": [
      "hyperopt.tpe INFO  build_posterior_wrapper took 0.000000 seconds\n",
      "hyperopt.tpe INFO  TPE using 640/640 trials with best loss 0.836200\n",
      "py4j.clientserver INFO  Closing down clientserver connection\n"
     ]
    },
    {
     "name": "stdout",
     "output_type": "stream",
     "text": [
      " 62%|██████▏   | 623/1000 [9:59:14<2:06:36, 20.15s/trial, best loss: 0.836200136505083]"
     ]
    },
    {
     "name": "stderr",
     "output_type": "stream",
     "text": [
      "hyperopt.tpe INFO  build_posterior_wrapper took 0.000000 seconds\n",
      "hyperopt.tpe INFO  TPE using 641/641 trials with best loss 0.836200\n",
      "py4j.clientserver INFO  Closing down clientserver connection\n"
     ]
    },
    {
     "name": "stdout",
     "output_type": "stream",
     "text": [
      " 62%|██████▏   | 624/1000 [10:00:18<3:29:32, 33.44s/trial, best loss: 0.836200136505083]"
     ]
    },
    {
     "name": "stderr",
     "output_type": "stream",
     "text": [
      "py4j.clientserver INFO  Closing down clientserver connection\n"
     ]
    },
    {
     "name": "stdout",
     "output_type": "stream",
     "text": [
      " 62%|██████▎   | 625/1000 [10:00:19<2:28:10, 23.71s/trial, best loss: 0.836200136505083]"
     ]
    },
    {
     "name": "stderr",
     "output_type": "stream",
     "text": [
      "hyperopt.tpe INFO  build_posterior_wrapper took 0.000000 seconds\n",
      "hyperopt.tpe INFO  TPE using 642/642 trials with best loss 0.836200\n",
      "hyperopt.tpe INFO  build_posterior_wrapper took 0.000000 seconds\n",
      "hyperopt.tpe INFO  TPE using 643/643 trials with best loss 0.836200\n",
      "py4j.clientserver INFO  Closing down clientserver connection\n"
     ]
    },
    {
     "name": "stdout",
     "output_type": "stream",
     "text": [
      " 63%|██████▎   | 626/1000 [10:00:36<2:14:15, 21.54s/trial, best loss: 0.836200136505083]"
     ]
    },
    {
     "name": "stderr",
     "output_type": "stream",
     "text": [
      "hyperopt.tpe INFO  build_posterior_wrapper took 0.000000 seconds\n",
      "hyperopt.tpe INFO  TPE using 644/644 trials with best loss 0.836200\n",
      "py4j.clientserver INFO  Closing down clientserver connection\n"
     ]
    },
    {
     "name": "stdout",
     "output_type": "stream",
     "text": [
      " 63%|██████▎   | 627/1000 [10:01:03<2:24:38, 23.27s/trial, best loss: 0.836200136505083]"
     ]
    },
    {
     "name": "stderr",
     "output_type": "stream",
     "text": [
      "hyperopt.tpe INFO  build_posterior_wrapper took 0.000000 seconds\n",
      "hyperopt.tpe INFO  TPE using 645/645 trials with best loss 0.836200\n",
      "py4j.clientserver INFO  Closing down clientserver connection\n"
     ]
    },
    {
     "name": "stdout",
     "output_type": "stream",
     "text": [
      " 63%|██████▎   | 628/1000 [10:02:13<3:50:15, 37.14s/trial, best loss: 0.836200136505083]"
     ]
    },
    {
     "name": "stderr",
     "output_type": "stream",
     "text": [
      "hyperopt.tpe INFO  build_posterior_wrapper took 0.000000 seconds\n",
      "hyperopt.tpe INFO  TPE using 646/646 trials with best loss 0.836200\n",
      "py4j.clientserver INFO  Closing down clientserver connection\n"
     ]
    },
    {
     "name": "stdout",
     "output_type": "stream",
     "text": [
      " 63%|██████▎   | 629/1000 [10:03:12<4:31:15, 43.87s/trial, best loss: 0.836200136505083]"
     ]
    },
    {
     "name": "stderr",
     "output_type": "stream",
     "text": [
      "hyperopt.tpe INFO  build_posterior_wrapper took 0.000000 seconds\n",
      "hyperopt.tpe INFO  TPE using 647/647 trials with best loss 0.836200\n",
      "py4j.clientserver INFO  Closing down clientserver connection\n"
     ]
    },
    {
     "name": "stdout",
     "output_type": "stream",
     "text": [
      " 63%|██████▎   | 630/1000 [10:03:35<3:50:38, 37.40s/trial, best loss: 0.836200136505083]"
     ]
    },
    {
     "name": "stderr",
     "output_type": "stream",
     "text": [
      "hyperopt.tpe INFO  build_posterior_wrapper took 0.000000 seconds\n",
      "hyperopt.tpe INFO  TPE using 648/648 trials with best loss 0.836200\n",
      "py4j.clientserver INFO  Closing down clientserver connection\n"
     ]
    },
    {
     "name": "stdout",
     "output_type": "stream",
     "text": [
      " 63%|██████▎   | 631/1000 [10:16:32<26:35:48, 259.48s/trial, best loss: 0.836200136505083]"
     ]
    },
    {
     "name": "stderr",
     "output_type": "stream",
     "text": [
      "hyperopt.tpe INFO  build_posterior_wrapper took 0.000000 seconds\n",
      "hyperopt.tpe INFO  TPE using 649/649 trials with best loss 0.836200\n",
      "py4j.clientserver INFO  Closing down clientserver connection\n"
     ]
    },
    {
     "name": "stdout",
     "output_type": "stream",
     "text": [
      " 63%|██████▎   | 632/1000 [10:17:30<20:19:50, 198.89s/trial, best loss: 0.836200136505083]"
     ]
    },
    {
     "name": "stderr",
     "output_type": "stream",
     "text": [
      "hyperopt.tpe INFO  build_posterior_wrapper took 0.000000 seconds\n",
      "hyperopt.tpe INFO  TPE using 650/650 trials with best loss 0.836200\n",
      "py4j.clientserver INFO  Closing down clientserver connection\n"
     ]
    },
    {
     "name": "stdout",
     "output_type": "stream",
     "text": [
      " 63%|██████▎   | 633/1000 [10:18:00<15:07:14, 148.32s/trial, best loss: 0.836200136505083]"
     ]
    },
    {
     "name": "stderr",
     "output_type": "stream",
     "text": [
      "hyperopt.tpe INFO  build_posterior_wrapper took 0.000000 seconds\n",
      "hyperopt.tpe INFO  TPE using 651/651 trials with best loss 0.836200\n",
      "py4j.clientserver INFO  Closing down clientserver connection\n"
     ]
    },
    {
     "name": "stdout",
     "output_type": "stream",
     "text": [
      " 63%|██████▎   | 634/1000 [10:18:06<10:44:42, 105.69s/trial, best loss: 0.836200136505083]"
     ]
    },
    {
     "name": "stderr",
     "output_type": "stream",
     "text": [
      "hyperopt.tpe INFO  build_posterior_wrapper took 0.000000 seconds\n",
      "hyperopt.tpe INFO  TPE using 652/652 trials with best loss 0.836200\n",
      "py4j.clientserver INFO  Closing down clientserver connection\n"
     ]
    },
    {
     "name": "stdout",
     "output_type": "stream",
     "text": [
      " 64%|██████▎   | 635/1000 [10:18:11<7:39:31, 75.54s/trial, best loss: 0.836200136505083]  "
     ]
    },
    {
     "name": "stderr",
     "output_type": "stream",
     "text": [
      "hyperopt.tpe INFO  build_posterior_wrapper took 0.000000 seconds\n",
      "hyperopt.tpe INFO  TPE using 653/653 trials with best loss 0.836200\n",
      "py4j.clientserver INFO  Closing down clientserver connection\n"
     ]
    },
    {
     "name": "stdout",
     "output_type": "stream",
     "text": [
      " 64%|██████▎   | 636/1000 [10:18:59<6:47:09, 67.11s/trial, best loss: 0.836200136505083]"
     ]
    },
    {
     "name": "stderr",
     "output_type": "stream",
     "text": [
      "hyperopt.tpe INFO  build_posterior_wrapper took 0.000000 seconds\n",
      "hyperopt.tpe INFO  TPE using 654/654 trials with best loss 0.836200\n",
      "py4j.clientserver INFO  Closing down clientserver connection\n"
     ]
    },
    {
     "name": "stdout",
     "output_type": "stream",
     "text": [
      " 64%|██████▎   | 637/1000 [10:19:04<4:53:39, 48.54s/trial, best loss: 0.836200136505083]"
     ]
    },
    {
     "name": "stderr",
     "output_type": "stream",
     "text": [
      "hyperopt.tpe INFO  build_posterior_wrapper took 0.000000 seconds\n",
      "hyperopt.tpe INFO  TPE using 655/655 trials with best loss 0.836200\n",
      "py4j.clientserver INFO  Closing down clientserver connection\n"
     ]
    },
    {
     "name": "stdout",
     "output_type": "stream",
     "text": [
      " 64%|██████▍   | 638/1000 [10:19:13<3:41:41, 36.74s/trial, best loss: 0.836200136505083]"
     ]
    },
    {
     "name": "stderr",
     "output_type": "stream",
     "text": [
      "hyperopt.tpe INFO  build_posterior_wrapper took 0.000000 seconds\n",
      "hyperopt.tpe INFO  TPE using 656/656 trials with best loss 0.836200\n",
      "py4j.clientserver INFO  Closing down clientserver connection\n"
     ]
    },
    {
     "name": "stdout",
     "output_type": "stream",
     "text": [
      " 64%|██████▍   | 639/1000 [10:19:38<3:18:39, 33.02s/trial, best loss: 0.836200136505083]"
     ]
    },
    {
     "name": "stderr",
     "output_type": "stream",
     "text": [
      "hyperopt.tpe INFO  build_posterior_wrapper took 0.000000 seconds\n",
      "hyperopt.tpe INFO  TPE using 657/657 trials with best loss 0.836200\n",
      "py4j.clientserver INFO  Closing down clientserver connection\n"
     ]
    },
    {
     "name": "stdout",
     "output_type": "stream",
     "text": [
      " 64%|██████▍   | 640/1000 [10:19:40<2:22:38, 23.77s/trial, best loss: 0.836200136505083]"
     ]
    },
    {
     "name": "stderr",
     "output_type": "stream",
     "text": [
      "hyperopt.tpe INFO  build_posterior_wrapper took 0.002999 seconds\n",
      "hyperopt.tpe INFO  TPE using 658/658 trials with best loss 0.836200\n",
      "py4j.clientserver INFO  Closing down clientserver connection\n"
     ]
    },
    {
     "name": "stdout",
     "output_type": "stream",
     "text": [
      " 64%|██████▍   | 641/1000 [10:20:38<3:24:38, 34.20s/trial, best loss: 0.836200136505083]"
     ]
    },
    {
     "name": "stderr",
     "output_type": "stream",
     "text": [
      "hyperopt.tpe INFO  build_posterior_wrapper took 0.000000 seconds\n",
      "hyperopt.tpe INFO  TPE using 659/659 trials with best loss 0.836200\n",
      "py4j.clientserver INFO  Closing down clientserver connection\n"
     ]
    },
    {
     "name": "stdout",
     "output_type": "stream",
     "text": [
      " 64%|██████▍   | 642/1000 [10:21:04<3:08:06, 31.53s/trial, best loss: 0.836200136505083]"
     ]
    },
    {
     "name": "stderr",
     "output_type": "stream",
     "text": [
      "hyperopt.tpe INFO  build_posterior_wrapper took 0.000000 seconds\n",
      "hyperopt.tpe INFO  TPE using 660/660 trials with best loss 0.836200\n",
      "py4j.clientserver INFO  Closing down clientserver connection\n"
     ]
    },
    {
     "name": "stdout",
     "output_type": "stream",
     "text": [
      " 64%|██████▍   | 643/1000 [10:21:12<2:25:58, 24.53s/trial, best loss: 0.836200136505083]"
     ]
    },
    {
     "name": "stderr",
     "output_type": "stream",
     "text": [
      "hyperopt.tpe INFO  build_posterior_wrapper took 0.000000 seconds\n",
      "hyperopt.tpe INFO  TPE using 661/661 trials with best loss 0.836200\n",
      "py4j.clientserver INFO  Closing down clientserver connection\n"
     ]
    },
    {
     "name": "stdout",
     "output_type": "stream",
     "text": [
      " 64%|██████▍   | 644/1000 [10:21:22<2:00:09, 20.25s/trial, best loss: 0.836200136505083]"
     ]
    },
    {
     "name": "stderr",
     "output_type": "stream",
     "text": [
      "hyperopt.tpe INFO  build_posterior_wrapper took 0.000000 seconds\n",
      "hyperopt.tpe INFO  TPE using 662/662 trials with best loss 0.836200\n",
      "py4j.clientserver INFO  Closing down clientserver connection\n"
     ]
    },
    {
     "name": "stdout",
     "output_type": "stream",
     "text": [
      " 64%|██████▍   | 645/1000 [10:21:34<1:45:38, 17.86s/trial, best loss: 0.836200136505083]"
     ]
    },
    {
     "name": "stderr",
     "output_type": "stream",
     "text": [
      "hyperopt.tpe INFO  build_posterior_wrapper took 0.000000 seconds\n",
      "hyperopt.tpe INFO  TPE using 663/663 trials with best loss 0.836200\n",
      "py4j.clientserver INFO  Closing down clientserver connection\n"
     ]
    },
    {
     "name": "stdout",
     "output_type": "stream",
     "text": [
      " 65%|██████▍   | 646/1000 [10:22:33<2:57:21, 30.06s/trial, best loss: 0.836200136505083]"
     ]
    },
    {
     "name": "stderr",
     "output_type": "stream",
     "text": [
      "hyperopt.tpe INFO  build_posterior_wrapper took 0.000000 seconds\n",
      "hyperopt.tpe INFO  TPE using 664/664 trials with best loss 0.836200\n",
      "py4j.clientserver INFO  Closing down clientserver connection\n"
     ]
    },
    {
     "name": "stdout",
     "output_type": "stream",
     "text": [
      " 65%|██████▍   | 647/1000 [10:24:10<4:54:38, 50.08s/trial, best loss: 0.836200136505083]"
     ]
    },
    {
     "name": "stderr",
     "output_type": "stream",
     "text": [
      "hyperopt.tpe INFO  build_posterior_wrapper took 0.000000 seconds\n",
      "hyperopt.tpe INFO  TPE using 665/665 trials with best loss 0.836200\n",
      "py4j.clientserver INFO  Closing down clientserver connection\n"
     ]
    },
    {
     "name": "stdout",
     "output_type": "stream",
     "text": [
      " 65%|██████▍   | 648/1000 [10:24:19<3:41:53, 37.82s/trial, best loss: 0.836200136505083]"
     ]
    },
    {
     "name": "stderr",
     "output_type": "stream",
     "text": [
      "hyperopt.tpe INFO  build_posterior_wrapper took 0.000000 seconds\n",
      "hyperopt.tpe INFO  TPE using 666/666 trials with best loss 0.836200\n",
      "py4j.clientserver INFO  Closing down clientserver connection\n"
     ]
    },
    {
     "name": "stdout",
     "output_type": "stream",
     "text": [
      " 65%|██████▍   | 649/1000 [10:36:57<24:44:30, 253.76s/trial, best loss: 0.836200136505083]"
     ]
    },
    {
     "name": "stderr",
     "output_type": "stream",
     "text": [
      "hyperopt.tpe INFO  build_posterior_wrapper took 0.000000 seconds\n",
      "hyperopt.tpe INFO  TPE using 667/667 trials with best loss 0.836200\n",
      "py4j.clientserver INFO  Closing down clientserver connection\n"
     ]
    },
    {
     "name": "stdout",
     "output_type": "stream",
     "text": [
      " 65%|██████▌   | 650/1000 [10:38:25<19:51:20, 204.23s/trial, best loss: 0.836200136505083]"
     ]
    },
    {
     "name": "stderr",
     "output_type": "stream",
     "text": [
      "hyperopt.tpe INFO  build_posterior_wrapper took 0.000000 seconds\n",
      "hyperopt.tpe INFO  TPE using 668/668 trials with best loss 0.836200\n",
      "py4j.clientserver INFO  Closing down clientserver connection\n"
     ]
    },
    {
     "name": "stdout",
     "output_type": "stream",
     "text": [
      " 65%|██████▌   | 651/1000 [10:38:29<13:58:55, 144.23s/trial, best loss: 0.836200136505083]"
     ]
    },
    {
     "name": "stderr",
     "output_type": "stream",
     "text": [
      "hyperopt.tpe INFO  build_posterior_wrapper took 0.000000 seconds\n",
      "hyperopt.tpe INFO  TPE using 669/669 trials with best loss 0.836200\n",
      "py4j.clientserver INFO  Closing down clientserver connection\n"
     ]
    },
    {
     "name": "stdout",
     "output_type": "stream",
     "text": [
      " 65%|██████▌   | 652/1000 [10:38:34<9:52:53, 102.22s/trial, best loss: 0.836200136505083] "
     ]
    },
    {
     "name": "stderr",
     "output_type": "stream",
     "text": [
      "hyperopt.tpe INFO  build_posterior_wrapper took 0.000000 seconds\n",
      "hyperopt.tpe INFO  TPE using 670/670 trials with best loss 0.836200\n",
      "py4j.clientserver INFO  Closing down clientserver connection\n"
     ]
    },
    {
     "name": "stdout",
     "output_type": "stream",
     "text": [
      " 65%|██████▌   | 653/1000 [10:38:41<7:06:25, 73.73s/trial, best loss: 0.836200136505083] "
     ]
    },
    {
     "name": "stderr",
     "output_type": "stream",
     "text": [
      "hyperopt.tpe INFO  build_posterior_wrapper took 0.000000 seconds\n",
      "hyperopt.tpe INFO  TPE using 671/671 trials with best loss 0.836200\n",
      "py4j.clientserver INFO  Closing down clientserver connection\n"
     ]
    },
    {
     "name": "stdout",
     "output_type": "stream",
     "text": [
      " 65%|██████▌   | 654/1000 [10:40:01<7:15:18, 75.49s/trial, best loss: 0.836200136505083]"
     ]
    },
    {
     "name": "stderr",
     "output_type": "stream",
     "text": [
      "hyperopt.tpe INFO  build_posterior_wrapper took 0.000000 seconds\n",
      "hyperopt.tpe INFO  TPE using 672/672 trials with best loss 0.836200\n",
      "py4j.clientserver INFO  Closing down clientserver connection\n"
     ]
    },
    {
     "name": "stdout",
     "output_type": "stream",
     "text": [
      " 66%|██████▌   | 655/1000 [10:40:07<5:14:37, 54.72s/trial, best loss: 0.836200136505083]"
     ]
    },
    {
     "name": "stderr",
     "output_type": "stream",
     "text": [
      "hyperopt.tpe INFO  build_posterior_wrapper took 0.000000 seconds\n",
      "hyperopt.tpe INFO  TPE using 673/673 trials with best loss 0.836200\n",
      "py4j.clientserver INFO  Closing down clientserver connection\n"
     ]
    },
    {
     "name": "stdout",
     "output_type": "stream",
     "text": [
      " 66%|██████▌   | 656/1000 [10:40:09<3:43:21, 38.96s/trial, best loss: 0.836200136505083]"
     ]
    },
    {
     "name": "stderr",
     "output_type": "stream",
     "text": [
      "hyperopt.tpe INFO  build_posterior_wrapper took 0.000000 seconds\n",
      "hyperopt.tpe INFO  TPE using 674/674 trials with best loss 0.836200\n",
      "py4j.clientserver INFO  Closing down clientserver connection\n"
     ]
    },
    {
     "name": "stdout",
     "output_type": "stream",
     "text": [
      " 66%|██████▌   | 657/1000 [10:40:17<2:49:55, 29.73s/trial, best loss: 0.836200136505083]"
     ]
    },
    {
     "name": "stderr",
     "output_type": "stream",
     "text": [
      "hyperopt.tpe INFO  build_posterior_wrapper took 0.000000 seconds\n",
      "hyperopt.tpe INFO  TPE using 675/675 trials with best loss 0.836200\n",
      "py4j.clientserver INFO  Closing down clientserver connection\n"
     ]
    },
    {
     "name": "stdout",
     "output_type": "stream",
     "text": [
      " 66%|██████▌   | 658/1000 [10:40:33<2:26:26, 25.69s/trial, best loss: 0.836200136505083]"
     ]
    },
    {
     "name": "stderr",
     "output_type": "stream",
     "text": [
      "hyperopt.tpe INFO  build_posterior_wrapper took 0.006163 seconds\n",
      "hyperopt.tpe INFO  TPE using 676/676 trials with best loss 0.836200\n",
      "py4j.clientserver INFO  Closing down clientserver connection\n"
     ]
    },
    {
     "name": "stdout",
     "output_type": "stream",
     "text": [
      " 66%|██████▌   | 659/1000 [10:41:38<3:32:24, 37.37s/trial, best loss: 0.836200136505083]"
     ]
    },
    {
     "name": "stderr",
     "output_type": "stream",
     "text": [
      "hyperopt.tpe INFO  build_posterior_wrapper took 0.000000 seconds\n",
      "hyperopt.tpe INFO  TPE using 677/677 trials with best loss 0.836200\n",
      "py4j.clientserver INFO  Closing down clientserver connection\n"
     ]
    },
    {
     "name": "stdout",
     "output_type": "stream",
     "text": [
      " 66%|██████▌   | 660/1000 [10:41:39<2:30:17, 26.52s/trial, best loss: 0.836200136505083]"
     ]
    },
    {
     "name": "stderr",
     "output_type": "stream",
     "text": [
      "hyperopt.tpe INFO  build_posterior_wrapper took 0.000000 seconds\n",
      "hyperopt.tpe INFO  TPE using 678/678 trials with best loss 0.836200\n",
      "py4j.clientserver INFO  Closing down clientserver connection\n"
     ]
    },
    {
     "name": "stdout",
     "output_type": "stream",
     "text": [
      " 66%|██████▌   | 661/1000 [10:41:48<2:00:30, 21.33s/trial, best loss: 0.836200136505083]"
     ]
    },
    {
     "name": "stderr",
     "output_type": "stream",
     "text": [
      "hyperopt.tpe INFO  build_posterior_wrapper took 0.000000 seconds\n",
      "hyperopt.tpe INFO  TPE using 679/679 trials with best loss 0.836200\n",
      "py4j.clientserver INFO  Closing down clientserver connection\n"
     ]
    },
    {
     "name": "stdout",
     "output_type": "stream",
     "text": [
      " 66%|██████▌   | 662/1000 [10:42:08<1:56:38, 20.71s/trial, best loss: 0.836200136505083]"
     ]
    },
    {
     "name": "stderr",
     "output_type": "stream",
     "text": [
      "hyperopt.tpe INFO  build_posterior_wrapper took 0.002077 seconds\n",
      "hyperopt.tpe INFO  TPE using 680/680 trials with best loss 0.836200\n",
      "py4j.clientserver INFO  Closing down clientserver connection\n"
     ]
    },
    {
     "name": "stdout",
     "output_type": "stream",
     "text": [
      " 66%|██████▋   | 663/1000 [10:42:38<2:12:35, 23.61s/trial, best loss: 0.836200136505083]"
     ]
    },
    {
     "name": "stderr",
     "output_type": "stream",
     "text": [
      "hyperopt.tpe INFO  build_posterior_wrapper took 0.003998 seconds\n",
      "hyperopt.tpe INFO  TPE using 681/681 trials with best loss 0.836200\n",
      "py4j.clientserver INFO  Closing down clientserver connection\n"
     ]
    },
    {
     "name": "stdout",
     "output_type": "stream",
     "text": [
      " 66%|██████▋   | 664/1000 [10:43:32<3:02:22, 32.57s/trial, best loss: 0.836200136505083]"
     ]
    },
    {
     "name": "stderr",
     "output_type": "stream",
     "text": [
      "hyperopt.tpe INFO  build_posterior_wrapper took 0.000000 seconds\n",
      "hyperopt.tpe INFO  TPE using 682/682 trials with best loss 0.836200\n",
      "py4j.clientserver INFO  Closing down clientserver connection\n"
     ]
    },
    {
     "name": "stdout",
     "output_type": "stream",
     "text": [
      " 66%|██████▋   | 665/1000 [10:44:36<3:55:19, 42.15s/trial, best loss: 0.836200136505083]"
     ]
    },
    {
     "name": "stderr",
     "output_type": "stream",
     "text": [
      "hyperopt.tpe INFO  build_posterior_wrapper took 0.000000 seconds\n",
      "hyperopt.tpe INFO  TPE using 683/683 trials with best loss 0.836200\n",
      "py4j.clientserver INFO  Closing down clientserver connection\n"
     ]
    },
    {
     "name": "stdout",
     "output_type": "stream",
     "text": [
      " 67%|██████▋   | 666/1000 [10:45:19<3:55:07, 42.24s/trial, best loss: 0.836200136505083]"
     ]
    },
    {
     "name": "stderr",
     "output_type": "stream",
     "text": [
      "hyperopt.tpe INFO  build_posterior_wrapper took 0.000000 seconds\n",
      "hyperopt.tpe INFO  TPE using 684/684 trials with best loss 0.836200\n",
      "py4j.clientserver INFO  Closing down clientserver connection\n"
     ]
    },
    {
     "name": "stdout",
     "output_type": "stream",
     "text": [
      " 67%|██████▋   | 667/1000 [10:57:26<22:55:06, 247.77s/trial, best loss: 0.836200136505083]"
     ]
    },
    {
     "name": "stderr",
     "output_type": "stream",
     "text": [
      "hyperopt.tpe INFO  build_posterior_wrapper took 0.000000 seconds\n",
      "hyperopt.tpe INFO  TPE using 685/685 trials with best loss 0.836200\n",
      "py4j.clientserver INFO  Closing down clientserver connection\n"
     ]
    },
    {
     "name": "stdout",
     "output_type": "stream",
     "text": [
      " 67%|██████▋   | 668/1000 [10:58:58<18:32:08, 200.99s/trial, best loss: 0.836200136505083]"
     ]
    },
    {
     "name": "stderr",
     "output_type": "stream",
     "text": [
      "hyperopt.tpe INFO  build_posterior_wrapper took 0.000000 seconds\n",
      "hyperopt.tpe INFO  TPE using 686/686 trials with best loss 0.836200\n",
      "py4j.clientserver INFO  Closing down clientserver connection\n"
     ]
    },
    {
     "name": "stdout",
     "output_type": "stream",
     "text": [
      " 67%|██████▋   | 669/1000 [10:59:38<14:03:01, 152.81s/trial, best loss: 0.836200136505083]"
     ]
    },
    {
     "name": "stderr",
     "output_type": "stream",
     "text": [
      "hyperopt.tpe INFO  build_posterior_wrapper took 0.000000 seconds\n",
      "hyperopt.tpe INFO  TPE using 687/687 trials with best loss 0.836200\n",
      "py4j.clientserver INFO  Closing down clientserver connection\n"
     ]
    },
    {
     "name": "stdout",
     "output_type": "stream",
     "text": [
      " 67%|██████▋   | 670/1000 [10:59:43<9:56:53, 108.52s/trial, best loss: 0.836200136505083] "
     ]
    },
    {
     "name": "stderr",
     "output_type": "stream",
     "text": [
      "hyperopt.tpe INFO  build_posterior_wrapper took 0.000000 seconds\n",
      "hyperopt.tpe INFO  TPE using 688/688 trials with best loss 0.836200\n",
      "py4j.clientserver INFO  Closing down clientserver connection\n"
     ]
    },
    {
     "name": "stdout",
     "output_type": "stream",
     "text": [
      " 67%|██████▋   | 671/1000 [10:59:52<7:10:07, 78.44s/trial, best loss: 0.836200136505083] "
     ]
    },
    {
     "name": "stderr",
     "output_type": "stream",
     "text": [
      "hyperopt.tpe INFO  build_posterior_wrapper took 0.000000 seconds\n",
      "hyperopt.tpe INFO  TPE using 689/689 trials with best loss 0.836200\n",
      "py4j.clientserver INFO  Closing down clientserver connection\n"
     ]
    },
    {
     "name": "stdout",
     "output_type": "stream",
     "text": [
      " 67%|██████▋   | 672/1000 [11:00:26<5:56:34, 65.23s/trial, best loss: 0.836200136505083]"
     ]
    },
    {
     "name": "stderr",
     "output_type": "stream",
     "text": [
      "hyperopt.tpe INFO  build_posterior_wrapper took 0.000000 seconds\n",
      "hyperopt.tpe INFO  TPE using 690/690 trials with best loss 0.836200\n",
      "py4j.clientserver INFO  Closing down clientserver connection\n"
     ]
    },
    {
     "name": "stdout",
     "output_type": "stream",
     "text": [
      " 67%|██████▋   | 673/1000 [11:00:28<4:12:25, 46.32s/trial, best loss: 0.836200136505083]"
     ]
    },
    {
     "name": "stderr",
     "output_type": "stream",
     "text": [
      "hyperopt.tpe INFO  build_posterior_wrapper took 0.000000 seconds\n",
      "hyperopt.tpe INFO  TPE using 691/691 trials with best loss 0.836200\n",
      "py4j.clientserver INFO  Closing down clientserver connection\n"
     ]
    },
    {
     "name": "stdout",
     "output_type": "stream",
     "text": [
      " 67%|██████▋   | 674/1000 [11:00:55<3:39:09, 40.34s/trial, best loss: 0.836200136505083]"
     ]
    },
    {
     "name": "stderr",
     "output_type": "stream",
     "text": [
      "hyperopt.tpe INFO  build_posterior_wrapper took 0.005487 seconds\n",
      "hyperopt.tpe INFO  TPE using 692/692 trials with best loss 0.836200\n",
      "py4j.clientserver INFO  Closing down clientserver connection\n"
     ]
    },
    {
     "name": "stdout",
     "output_type": "stream",
     "text": [
      " 68%|██████▊   | 675/1000 [11:01:05<2:49:37, 31.32s/trial, best loss: 0.836200136505083]"
     ]
    },
    {
     "name": "stderr",
     "output_type": "stream",
     "text": [
      "hyperopt.tpe INFO  build_posterior_wrapper took 0.000000 seconds\n",
      "hyperopt.tpe INFO  TPE using 693/693 trials with best loss 0.836200\n",
      "py4j.clientserver INFO  Closing down clientserver connection\n"
     ]
    },
    {
     "name": "stdout",
     "output_type": "stream",
     "text": [
      " 68%|██████▊   | 676/1000 [11:01:13<2:11:43, 24.40s/trial, best loss: 0.836200136505083]"
     ]
    },
    {
     "name": "stderr",
     "output_type": "stream",
     "text": [
      "hyperopt.tpe INFO  build_posterior_wrapper took 0.000000 seconds\n",
      "hyperopt.tpe INFO  TPE using 694/694 trials with best loss 0.836200\n",
      "py4j.clientserver INFO  Closing down clientserver connection\n"
     ]
    },
    {
     "name": "stdout",
     "output_type": "stream",
     "text": [
      " 68%|██████▊   | 677/1000 [11:02:05<2:55:04, 32.52s/trial, best loss: 0.836200136505083]"
     ]
    },
    {
     "name": "stderr",
     "output_type": "stream",
     "text": [
      "hyperopt.tpe INFO  build_posterior_wrapper took 0.003581 seconds\n",
      "hyperopt.tpe INFO  TPE using 695/695 trials with best loss 0.836200\n",
      "py4j.clientserver INFO  Closing down clientserver connection\n"
     ]
    },
    {
     "name": "stdout",
     "output_type": "stream",
     "text": [
      " 68%|██████▊   | 678/1000 [11:02:17<2:21:52, 26.44s/trial, best loss: 0.836200136505083]"
     ]
    },
    {
     "name": "stderr",
     "output_type": "stream",
     "text": [
      "hyperopt.tpe INFO  build_posterior_wrapper took 0.000000 seconds\n",
      "hyperopt.tpe INFO  TPE using 696/696 trials with best loss 0.836200\n",
      "py4j.clientserver INFO  Closing down clientserver connection\n"
     ]
    },
    {
     "name": "stdout",
     "output_type": "stream",
     "text": [
      " 68%|██████▊   | 679/1000 [11:02:40<2:16:26, 25.50s/trial, best loss: 0.836200136505083]"
     ]
    },
    {
     "name": "stderr",
     "output_type": "stream",
     "text": [
      "hyperopt.tpe INFO  build_posterior_wrapper took 0.000000 seconds\n",
      "hyperopt.tpe INFO  TPE using 697/697 trials with best loss 0.836200\n",
      "py4j.clientserver INFO  Closing down clientserver connection\n"
     ]
    },
    {
     "name": "stdout",
     "output_type": "stream",
     "text": [
      " 68%|██████▊   | 680/1000 [11:03:01<2:09:15, 24.24s/trial, best loss: 0.836200136505083]"
     ]
    },
    {
     "name": "stderr",
     "output_type": "stream",
     "text": [
      "hyperopt.tpe INFO  build_posterior_wrapper took 0.000000 seconds\n",
      "hyperopt.tpe INFO  TPE using 698/698 trials with best loss 0.836200\n",
      "py4j.clientserver INFO  Closing down clientserver connection\n"
     ]
    },
    {
     "name": "stdout",
     "output_type": "stream",
     "text": [
      " 68%|██████▊   | 681/1000 [11:03:06<1:36:55, 18.23s/trial, best loss: 0.836200136505083]"
     ]
    },
    {
     "name": "stderr",
     "output_type": "stream",
     "text": [
      "hyperopt.tpe INFO  build_posterior_wrapper took 0.005774 seconds\n",
      "hyperopt.tpe INFO  TPE using 699/699 trials with best loss 0.836200\n",
      "py4j.clientserver INFO  Closing down clientserver connection\n"
     ]
    },
    {
     "name": "stdout",
     "output_type": "stream",
     "text": [
      " 68%|██████▊   | 682/1000 [11:04:37<3:33:36, 40.30s/trial, best loss: 0.836200136505083]"
     ]
    },
    {
     "name": "stderr",
     "output_type": "stream",
     "text": [
      "hyperopt.tpe INFO  build_posterior_wrapper took 0.000000 seconds\n",
      "hyperopt.tpe INFO  TPE using 700/700 trials with best loss 0.836200\n",
      "py4j.clientserver INFO  Closing down clientserver connection\n"
     ]
    },
    {
     "name": "stdout",
     "output_type": "stream",
     "text": [
      " 68%|██████▊   | 683/1000 [11:05:00<3:04:25, 34.91s/trial, best loss: 0.836200136505083]"
     ]
    },
    {
     "name": "stderr",
     "output_type": "stream",
     "text": [
      "hyperopt.tpe INFO  build_posterior_wrapper took 0.000000 seconds\n",
      "hyperopt.tpe INFO  TPE using 701/701 trials with best loss 0.836200\n",
      "py4j.clientserver INFO  Closing down clientserver connection\n"
     ]
    },
    {
     "name": "stdout",
     "output_type": "stream",
     "text": [
      " 68%|██████▊   | 684/1000 [11:06:50<5:03:41, 57.66s/trial, best loss: 0.836200136505083]"
     ]
    },
    {
     "name": "stderr",
     "output_type": "stream",
     "text": [
      "hyperopt.tpe INFO  build_posterior_wrapper took 0.000000 seconds\n",
      "hyperopt.tpe INFO  TPE using 702/702 trials with best loss 0.836200\n",
      "py4j.clientserver INFO  Closing down clientserver connection\n"
     ]
    },
    {
     "name": "stdout",
     "output_type": "stream",
     "text": [
      " 68%|██████▊   | 685/1000 [11:18:31<21:54:30, 250.38s/trial, best loss: 0.836200136505083]"
     ]
    },
    {
     "name": "stderr",
     "output_type": "stream",
     "text": [
      "hyperopt.tpe INFO  build_posterior_wrapper took 0.000000 seconds\n",
      "hyperopt.tpe INFO  TPE using 703/703 trials with best loss 0.836200\n",
      "py4j.clientserver INFO  Closing down clientserver connection\n"
     ]
    },
    {
     "name": "stdout",
     "output_type": "stream",
     "text": [
      " 69%|██████▊   | 686/1000 [11:19:32<16:53:49, 193.72s/trial, best loss: 0.836200136505083]"
     ]
    },
    {
     "name": "stderr",
     "output_type": "stream",
     "text": [
      "hyperopt.tpe INFO  build_posterior_wrapper took 0.000000 seconds\n",
      "hyperopt.tpe INFO  TPE using 704/704 trials with best loss 0.836200\n",
      "py4j.clientserver INFO  Closing down clientserver connection\n"
     ]
    },
    {
     "name": "stdout",
     "output_type": "stream",
     "text": [
      " 69%|██████▊   | 687/1000 [11:20:07<12:42:45, 146.22s/trial, best loss: 0.836200136505083]"
     ]
    },
    {
     "name": "stderr",
     "output_type": "stream",
     "text": [
      "hyperopt.tpe INFO  build_posterior_wrapper took 0.000899 seconds\n",
      "hyperopt.tpe INFO  TPE using 705/705 trials with best loss 0.836200\n",
      "py4j.clientserver INFO  Closing down clientserver connection\n"
     ]
    },
    {
     "name": "stdout",
     "output_type": "stream",
     "text": [
      " 69%|██████▉   | 688/1000 [11:20:42<9:45:49, 112.66s/trial, best loss: 0.836200136505083] "
     ]
    },
    {
     "name": "stderr",
     "output_type": "stream",
     "text": [
      "hyperopt.tpe INFO  build_posterior_wrapper took 0.000000 seconds\n",
      "hyperopt.tpe INFO  TPE using 706/706 trials with best loss 0.836200\n",
      "py4j.clientserver INFO  Closing down clientserver connection\n",
      "py4j.clientserver INFO  Closing down clientserver connection\n"
     ]
    },
    {
     "name": "stdout",
     "output_type": "stream",
     "text": [
      " 69%|██████▉   | 690/1000 [11:20:55<5:29:13, 63.72s/trial, best loss: 0.836200136505083] "
     ]
    },
    {
     "name": "stderr",
     "output_type": "stream",
     "text": [
      "hyperopt.tpe INFO  build_posterior_wrapper took 0.000000 seconds\n",
      "hyperopt.tpe INFO  TPE using 707/707 trials with best loss 0.836200\n",
      "hyperopt.tpe INFO  build_posterior_wrapper took 0.000000 seconds\n",
      "hyperopt.tpe INFO  TPE using 708/708 trials with best loss 0.836200\n",
      "py4j.clientserver INFO  Closing down clientserver connection\n"
     ]
    },
    {
     "name": "stdout",
     "output_type": "stream",
     "text": [
      " 69%|██████▉   | 691/1000 [11:21:26<4:45:54, 55.52s/trial, best loss: 0.836200136505083]"
     ]
    },
    {
     "name": "stderr",
     "output_type": "stream",
     "text": [
      "hyperopt.tpe INFO  build_posterior_wrapper took 0.000000 seconds\n",
      "hyperopt.tpe INFO  TPE using 709/709 trials with best loss 0.836200\n",
      "py4j.clientserver INFO  Closing down clientserver connection\n"
     ]
    },
    {
     "name": "stdout",
     "output_type": "stream",
     "text": [
      " 69%|██████▉   | 692/1000 [11:21:35<3:42:52, 43.42s/trial, best loss: 0.836200136505083]"
     ]
    },
    {
     "name": "stderr",
     "output_type": "stream",
     "text": [
      "hyperopt.tpe INFO  build_posterior_wrapper took 0.000000 seconds\n",
      "hyperopt.tpe INFO  TPE using 710/710 trials with best loss 0.836200\n",
      "py4j.clientserver INFO  Closing down clientserver connection\n"
     ]
    },
    {
     "name": "stdout",
     "output_type": "stream",
     "text": [
      " 69%|██████▉   | 693/1000 [11:21:49<3:01:33, 35.48s/trial, best loss: 0.836200136505083]"
     ]
    },
    {
     "name": "stderr",
     "output_type": "stream",
     "text": [
      "hyperopt.tpe INFO  build_posterior_wrapper took 0.000000 seconds\n",
      "hyperopt.tpe INFO  TPE using 711/711 trials with best loss 0.836200\n",
      "py4j.clientserver INFO  Closing down clientserver connection\n"
     ]
    },
    {
     "name": "stdout",
     "output_type": "stream",
     "text": [
      " 69%|██████▉   | 694/1000 [11:22:33<3:12:22, 37.72s/trial, best loss: 0.836200136505083]"
     ]
    },
    {
     "name": "stderr",
     "output_type": "stream",
     "text": [
      "hyperopt.tpe INFO  build_posterior_wrapper took 0.000000 seconds\n",
      "hyperopt.tpe INFO  TPE using 712/712 trials with best loss 0.836200\n",
      "py4j.clientserver INFO  Closing down clientserver connection\n"
     ]
    },
    {
     "name": "stdout",
     "output_type": "stream",
     "text": [
      " 70%|██████▉   | 695/1000 [11:22:36<2:21:39, 27.87s/trial, best loss: 0.836200136505083]"
     ]
    },
    {
     "name": "stderr",
     "output_type": "stream",
     "text": [
      "hyperopt.tpe INFO  build_posterior_wrapper took 0.000000 seconds\n",
      "hyperopt.tpe INFO  TPE using 713/713 trials with best loss 0.836200\n",
      "py4j.clientserver INFO  Closing down clientserver connection\n"
     ]
    },
    {
     "name": "stdout",
     "output_type": "stream",
     "text": [
      " 70%|██████▉   | 696/1000 [11:23:09<2:29:18, 29.47s/trial, best loss: 0.836200136505083]"
     ]
    },
    {
     "name": "stderr",
     "output_type": "stream",
     "text": [
      "hyperopt.tpe INFO  build_posterior_wrapper took 0.000000 seconds\n",
      "hyperopt.tpe INFO  TPE using 714/714 trials with best loss 0.836200\n",
      "py4j.clientserver INFO  Closing down clientserver connection\n"
     ]
    },
    {
     "name": "stdout",
     "output_type": "stream",
     "text": [
      " 70%|██████▉   | 697/1000 [11:23:40<2:30:07, 29.73s/trial, best loss: 0.836200136505083]"
     ]
    },
    {
     "name": "stderr",
     "output_type": "stream",
     "text": [
      "hyperopt.tpe INFO  build_posterior_wrapper took 0.000000 seconds\n",
      "hyperopt.tpe INFO  TPE using 715/715 trials with best loss 0.836200\n",
      "py4j.clientserver INFO  Closing down clientserver connection\n"
     ]
    },
    {
     "name": "stdout",
     "output_type": "stream",
     "text": [
      " 70%|██████▉   | 698/1000 [11:24:04<2:21:38, 28.14s/trial, best loss: 0.836200136505083]"
     ]
    },
    {
     "name": "stderr",
     "output_type": "stream",
     "text": [
      "hyperopt.tpe INFO  build_posterior_wrapper took 0.000000 seconds\n",
      "hyperopt.tpe INFO  TPE using 716/716 trials with best loss 0.836200\n",
      "py4j.clientserver INFO  Closing down clientserver connection\n"
     ]
    },
    {
     "name": "stdout",
     "output_type": "stream",
     "text": [
      " 70%|██████▉   | 699/1000 [11:24:13<1:53:04, 22.54s/trial, best loss: 0.836200136505083]"
     ]
    },
    {
     "name": "stderr",
     "output_type": "stream",
     "text": [
      "hyperopt.tpe INFO  build_posterior_wrapper took 0.000000 seconds\n",
      "hyperopt.tpe INFO  TPE using 717/717 trials with best loss 0.836200\n",
      "py4j.clientserver INFO  Closing down clientserver connection\n"
     ]
    },
    {
     "name": "stdout",
     "output_type": "stream",
     "text": [
      " 70%|███████   | 700/1000 [11:24:58<2:25:15, 29.05s/trial, best loss: 0.836200136505083]"
     ]
    },
    {
     "name": "stderr",
     "output_type": "stream",
     "text": [
      "hyperopt.tpe INFO  build_posterior_wrapper took 0.000000 seconds\n",
      "hyperopt.tpe INFO  TPE using 718/718 trials with best loss 0.836200\n",
      "py4j.clientserver INFO  Closing down clientserver connection\n"
     ]
    },
    {
     "name": "stdout",
     "output_type": "stream",
     "text": [
      " 70%|███████   | 701/1000 [11:25:24<2:20:44, 28.24s/trial, best loss: 0.836200136505083]"
     ]
    },
    {
     "name": "stderr",
     "output_type": "stream",
     "text": [
      "hyperopt.tpe INFO  build_posterior_wrapper took 0.000000 seconds\n",
      "hyperopt.tpe INFO  TPE using 719/719 trials with best loss 0.836200\n",
      "py4j.clientserver INFO  Closing down clientserver connection\n"
     ]
    },
    {
     "name": "stdout",
     "output_type": "stream",
     "text": [
      " 70%|███████   | 702/1000 [11:27:45<5:07:35, 61.93s/trial, best loss: 0.836200136505083]"
     ]
    },
    {
     "name": "stderr",
     "output_type": "stream",
     "text": [
      "hyperopt.tpe INFO  build_posterior_wrapper took 0.000000 seconds\n",
      "hyperopt.tpe INFO  TPE using 720/720 trials with best loss 0.836200\n",
      "py4j.clientserver INFO  Closing down clientserver connection\n"
     ]
    },
    {
     "name": "stdout",
     "output_type": "stream",
     "text": [
      " 70%|███████   | 703/1000 [11:39:28<20:55:40, 253.67s/trial, best loss: 0.836200136505083]"
     ]
    },
    {
     "name": "stderr",
     "output_type": "stream",
     "text": [
      "hyperopt.tpe INFO  build_posterior_wrapper took 0.001740 seconds\n",
      "hyperopt.tpe INFO  TPE using 721/721 trials with best loss 0.836200\n",
      "py4j.clientserver INFO  Closing down clientserver connection\n"
     ]
    },
    {
     "name": "stdout",
     "output_type": "stream",
     "text": [
      " 70%|███████   | 704/1000 [11:40:02<15:27:38, 188.04s/trial, best loss: 0.836200136505083]"
     ]
    },
    {
     "name": "stderr",
     "output_type": "stream",
     "text": [
      "hyperopt.tpe INFO  build_posterior_wrapper took 0.000000 seconds\n",
      "hyperopt.tpe INFO  TPE using 722/722 trials with best loss 0.836200\n",
      "py4j.clientserver INFO  Closing down clientserver connection\n"
     ]
    },
    {
     "name": "stdout",
     "output_type": "stream",
     "text": [
      " 70%|███████   | 705/1000 [11:40:32<11:30:48, 140.50s/trial, best loss: 0.836200136505083]"
     ]
    },
    {
     "name": "stderr",
     "output_type": "stream",
     "text": [
      "hyperopt.tpe INFO  build_posterior_wrapper took 0.000000 seconds\n",
      "hyperopt.tpe INFO  TPE using 723/723 trials with best loss 0.836200\n",
      "py4j.clientserver INFO  Closing down clientserver connection\n"
     ]
    },
    {
     "name": "stdout",
     "output_type": "stream",
     "text": [
      " 71%|███████   | 706/1000 [11:41:20<9:13:20, 112.93s/trial, best loss: 0.836200136505083] "
     ]
    },
    {
     "name": "stderr",
     "output_type": "stream",
     "text": [
      "hyperopt.tpe INFO  build_posterior_wrapper took 0.000000 seconds\n",
      "hyperopt.tpe INFO  TPE using 724/724 trials with best loss 0.836200\n",
      "py4j.clientserver INFO  Closing down clientserver connection\n"
     ]
    },
    {
     "name": "stdout",
     "output_type": "stream",
     "text": [
      " 71%|███████   | 707/1000 [11:41:21<6:27:54, 79.43s/trial, best loss: 0.836200136505083] "
     ]
    },
    {
     "name": "stderr",
     "output_type": "stream",
     "text": [
      "hyperopt.tpe INFO  build_posterior_wrapper took 0.000000 seconds\n",
      "hyperopt.tpe INFO  TPE using 725/725 trials with best loss 0.836200\n",
      "py4j.clientserver INFO  Closing down clientserver connection\n"
     ]
    },
    {
     "name": "stdout",
     "output_type": "stream",
     "text": [
      " 71%|███████   | 708/1000 [11:41:39<4:55:52, 60.80s/trial, best loss: 0.836200136505083]"
     ]
    },
    {
     "name": "stderr",
     "output_type": "stream",
     "text": [
      "hyperopt.tpe INFO  build_posterior_wrapper took 0.000000 seconds\n",
      "hyperopt.tpe INFO  TPE using 726/726 trials with best loss 0.836200\n",
      "py4j.clientserver INFO  Closing down clientserver connection\n"
     ]
    },
    {
     "name": "stdout",
     "output_type": "stream",
     "text": [
      " 71%|███████   | 709/1000 [11:41:56<3:51:36, 47.75s/trial, best loss: 0.836200136505083]"
     ]
    },
    {
     "name": "stderr",
     "output_type": "stream",
     "text": [
      "hyperopt.tpe INFO  build_posterior_wrapper took 0.000000 seconds\n",
      "hyperopt.tpe INFO  TPE using 727/727 trials with best loss 0.836200\n",
      "py4j.clientserver INFO  Closing down clientserver connection\n"
     ]
    },
    {
     "name": "stdout",
     "output_type": "stream",
     "text": [
      " 71%|███████   | 710/1000 [11:42:22<3:19:47, 41.34s/trial, best loss: 0.836200136505083]"
     ]
    },
    {
     "name": "stderr",
     "output_type": "stream",
     "text": [
      "hyperopt.tpe INFO  build_posterior_wrapper took 0.000000 seconds\n",
      "hyperopt.tpe INFO  TPE using 728/728 trials with best loss 0.836200\n",
      "py4j.clientserver INFO  Closing down clientserver connection\n"
     ]
    },
    {
     "name": "stdout",
     "output_type": "stream",
     "text": [
      " 71%|███████   | 711/1000 [11:42:50<2:58:53, 37.14s/trial, best loss: 0.836200136505083]"
     ]
    },
    {
     "name": "stderr",
     "output_type": "stream",
     "text": [
      "hyperopt.tpe INFO  build_posterior_wrapper took 0.000000 seconds\n",
      "hyperopt.tpe INFO  TPE using 729/729 trials with best loss 0.836200\n",
      "py4j.clientserver INFO  Closing down clientserver connection\n"
     ]
    },
    {
     "name": "stdout",
     "output_type": "stream",
     "text": [
      " 71%|███████   | 712/1000 [11:43:01<2:20:58, 29.37s/trial, best loss: 0.836200136505083]"
     ]
    },
    {
     "name": "stderr",
     "output_type": "stream",
     "text": [
      "hyperopt.tpe INFO  build_posterior_wrapper took 0.000000 seconds\n",
      "hyperopt.tpe INFO  TPE using 730/730 trials with best loss 0.836200\n",
      "py4j.clientserver INFO  Closing down clientserver connection\n"
     ]
    },
    {
     "name": "stdout",
     "output_type": "stream",
     "text": [
      " 71%|███████▏  | 713/1000 [11:43:32<2:23:23, 29.98s/trial, best loss: 0.836200136505083]"
     ]
    },
    {
     "name": "stderr",
     "output_type": "stream",
     "text": [
      "hyperopt.tpe INFO  build_posterior_wrapper took 0.000000 seconds\n",
      "hyperopt.tpe INFO  TPE using 731/731 trials with best loss 0.836200\n",
      "py4j.clientserver INFO  Closing down clientserver connection\n",
      "py4j.clientserver INFO  Closing down clientserver connection\n"
     ]
    },
    {
     "name": "stdout",
     "output_type": "stream",
     "text": [
      " 72%|███████▏  | 715/1000 [11:44:08<1:55:31, 24.32s/trial, best loss: 0.836200136505083]"
     ]
    },
    {
     "name": "stderr",
     "output_type": "stream",
     "text": [
      "hyperopt.tpe INFO  build_posterior_wrapper took 0.000000 seconds\n",
      "hyperopt.tpe INFO  TPE using 732/732 trials with best loss 0.836200\n",
      "hyperopt.tpe INFO  build_posterior_wrapper took 0.000000 seconds\n",
      "hyperopt.tpe INFO  TPE using 733/733 trials with best loss 0.836200\n",
      "py4j.clientserver INFO  Closing down clientserver connection\n"
     ]
    },
    {
     "name": "stdout",
     "output_type": "stream",
     "text": [
      " 72%|███████▏  | 716/1000 [11:44:28<1:50:40, 23.38s/trial, best loss: 0.836200136505083]"
     ]
    },
    {
     "name": "stderr",
     "output_type": "stream",
     "text": [
      "hyperopt.tpe INFO  build_posterior_wrapper took 0.003006 seconds\n",
      "hyperopt.tpe INFO  TPE using 734/734 trials with best loss 0.836200\n",
      "py4j.clientserver INFO  Closing down clientserver connection\n"
     ]
    },
    {
     "name": "stdout",
     "output_type": "stream",
     "text": [
      " 72%|███████▏  | 717/1000 [11:44:49<1:46:32, 22.59s/trial, best loss: 0.836200136505083]"
     ]
    },
    {
     "name": "stderr",
     "output_type": "stream",
     "text": [
      "hyperopt.tpe INFO  build_posterior_wrapper took 0.004945 seconds\n",
      "hyperopt.tpe INFO  TPE using 735/735 trials with best loss 0.836200\n",
      "py4j.clientserver INFO  Closing down clientserver connection\n"
     ]
    },
    {
     "name": "stdout",
     "output_type": "stream",
     "text": [
      " 72%|███████▏  | 718/1000 [11:45:24<2:02:33, 26.07s/trial, best loss: 0.836200136505083]"
     ]
    },
    {
     "name": "stderr",
     "output_type": "stream",
     "text": [
      "hyperopt.tpe INFO  build_posterior_wrapper took 0.000000 seconds\n",
      "hyperopt.tpe INFO  TPE using 736/736 trials with best loss 0.836200\n",
      "py4j.clientserver INFO  Closing down clientserver connection\n"
     ]
    },
    {
     "name": "stdout",
     "output_type": "stream",
     "text": [
      " 72%|███████▏  | 719/1000 [11:45:47<1:58:32, 25.31s/trial, best loss: 0.836200136505083]"
     ]
    },
    {
     "name": "stderr",
     "output_type": "stream",
     "text": [
      "hyperopt.tpe INFO  build_posterior_wrapper took 0.000000 seconds\n",
      "hyperopt.tpe INFO  TPE using 737/737 trials with best loss 0.836200\n",
      "py4j.clientserver INFO  Closing down clientserver connection\n"
     ]
    },
    {
     "name": "stdout",
     "output_type": "stream",
     "text": [
      " 72%|███████▏  | 720/1000 [11:48:54<5:32:42, 71.29s/trial, best loss: 0.836200136505083]"
     ]
    },
    {
     "name": "stderr",
     "output_type": "stream",
     "text": [
      "hyperopt.tpe INFO  build_posterior_wrapper took 0.000000 seconds\n",
      "hyperopt.tpe INFO  TPE using 738/738 trials with best loss 0.836200\n",
      "py4j.clientserver INFO  Closing down clientserver connection\n"
     ]
    },
    {
     "name": "stdout",
     "output_type": "stream",
     "text": [
      " 72%|███████▏  | 721/1000 [12:00:35<19:40:05, 253.78s/trial, best loss: 0.836200136505083]"
     ]
    },
    {
     "name": "stderr",
     "output_type": "stream",
     "text": [
      "hyperopt.tpe INFO  build_posterior_wrapper took 0.000000 seconds\n",
      "hyperopt.tpe INFO  TPE using 739/739 trials with best loss 0.836200\n",
      "py4j.clientserver INFO  Closing down clientserver connection\n"
     ]
    },
    {
     "name": "stdout",
     "output_type": "stream",
     "text": [
      " 72%|███████▏  | 722/1000 [12:00:39<13:57:19, 180.72s/trial, best loss: 0.836200136505083]"
     ]
    },
    {
     "name": "stderr",
     "output_type": "stream",
     "text": [
      "hyperopt.tpe INFO  build_posterior_wrapper took 0.000000 seconds\n",
      "hyperopt.tpe INFO  TPE using 740/740 trials with best loss 0.836200\n",
      "py4j.clientserver INFO  Closing down clientserver connection\n"
     ]
    },
    {
     "name": "stdout",
     "output_type": "stream",
     "text": [
      " 72%|███████▏  | 723/1000 [12:01:03<10:21:25, 134.60s/trial, best loss: 0.836200136505083]"
     ]
    },
    {
     "name": "stderr",
     "output_type": "stream",
     "text": [
      "hyperopt.tpe INFO  build_posterior_wrapper took 0.000000 seconds\n",
      "hyperopt.tpe INFO  TPE using 741/741 trials with best loss 0.836200\n",
      "py4j.clientserver INFO  Closing down clientserver connection\n"
     ]
    },
    {
     "name": "stdout",
     "output_type": "stream",
     "text": [
      " 72%|███████▏  | 724/1000 [12:01:53<8:23:06, 109.37s/trial, best loss: 0.836200136505083] "
     ]
    },
    {
     "name": "stderr",
     "output_type": "stream",
     "text": [
      "hyperopt.tpe INFO  build_posterior_wrapper took 0.000000 seconds\n",
      "hyperopt.tpe INFO  TPE using 742/742 trials with best loss 0.836200\n",
      "py4j.clientserver INFO  Closing down clientserver connection\n"
     ]
    },
    {
     "name": "stdout",
     "output_type": "stream",
     "text": [
      " 72%|███████▎  | 725/1000 [12:02:11<6:17:05, 82.27s/trial, best loss: 0.836200136505083] "
     ]
    },
    {
     "name": "stderr",
     "output_type": "stream",
     "text": [
      "hyperopt.tpe INFO  build_posterior_wrapper took 0.000000 seconds\n",
      "hyperopt.tpe INFO  TPE using 743/743 trials with best loss 0.836200\n",
      "py4j.clientserver INFO  Closing down clientserver connection\n"
     ]
    },
    {
     "name": "stdout",
     "output_type": "stream",
     "text": [
      " 73%|███████▎  | 726/1000 [12:02:25<4:43:10, 62.01s/trial, best loss: 0.836200136505083]"
     ]
    },
    {
     "name": "stderr",
     "output_type": "stream",
     "text": [
      "py4j.clientserver INFO  Closing down clientserver connection\n"
     ]
    },
    {
     "name": "stdout",
     "output_type": "stream",
     "text": [
      " 73%|███████▎  | 727/1000 [12:02:26<3:19:13, 43.78s/trial, best loss: 0.836200136505083]"
     ]
    },
    {
     "name": "stderr",
     "output_type": "stream",
     "text": [
      "hyperopt.tpe INFO  build_posterior_wrapper took 0.000000 seconds\n",
      "hyperopt.tpe INFO  TPE using 744/744 trials with best loss 0.836200\n",
      "hyperopt.tpe INFO  build_posterior_wrapper took 0.000000 seconds\n",
      "hyperopt.tpe INFO  TPE using 745/745 trials with best loss 0.836200\n",
      "py4j.clientserver INFO  Closing down clientserver connection\n"
     ]
    },
    {
     "name": "stdout",
     "output_type": "stream",
     "text": [
      " 73%|███████▎  | 728/1000 [12:03:18<3:29:16, 46.16s/trial, best loss: 0.836200136505083]"
     ]
    },
    {
     "name": "stderr",
     "output_type": "stream",
     "text": [
      "hyperopt.tpe INFO  build_posterior_wrapper took 0.000000 seconds\n",
      "hyperopt.tpe INFO  TPE using 746/746 trials with best loss 0.836200\n",
      "py4j.clientserver INFO  Closing down clientserver connection\n"
     ]
    },
    {
     "name": "stdout",
     "output_type": "stream",
     "text": [
      " 73%|███████▎  | 729/1000 [12:03:23<2:33:08, 33.91s/trial, best loss: 0.836200136505083]"
     ]
    },
    {
     "name": "stderr",
     "output_type": "stream",
     "text": [
      "hyperopt.tpe INFO  build_posterior_wrapper took 0.000000 seconds\n",
      "hyperopt.tpe INFO  TPE using 747/747 trials with best loss 0.836200\n",
      "py4j.clientserver INFO  Closing down clientserver connection\n"
     ]
    },
    {
     "name": "stdout",
     "output_type": "stream",
     "text": [
      " 73%|███████▎  | 730/1000 [12:03:26<1:49:48, 24.40s/trial, best loss: 0.836200136505083]"
     ]
    },
    {
     "name": "stderr",
     "output_type": "stream",
     "text": [
      "hyperopt.tpe INFO  build_posterior_wrapper took 0.000000 seconds\n",
      "hyperopt.tpe INFO  TPE using 748/748 trials with best loss 0.836200\n",
      "py4j.clientserver INFO  Closing down clientserver connection\n"
     ]
    },
    {
     "name": "stdout",
     "output_type": "stream",
     "text": [
      " 73%|███████▎  | 731/1000 [12:04:01<2:04:06, 27.68s/trial, best loss: 0.836200136505083]"
     ]
    },
    {
     "name": "stderr",
     "output_type": "stream",
     "text": [
      "hyperopt.tpe INFO  build_posterior_wrapper took 0.000000 seconds\n",
      "hyperopt.tpe INFO  TPE using 749/749 trials with best loss 0.836200\n",
      "py4j.clientserver INFO  Closing down clientserver connection\n"
     ]
    },
    {
     "name": "stdout",
     "output_type": "stream",
     "text": [
      " 73%|███████▎  | 732/1000 [12:04:33<2:09:57, 29.10s/trial, best loss: 0.836200136505083]"
     ]
    },
    {
     "name": "stderr",
     "output_type": "stream",
     "text": [
      "hyperopt.tpe INFO  build_posterior_wrapper took 0.000000 seconds\n",
      "hyperopt.tpe INFO  TPE using 750/750 trials with best loss 0.836200\n",
      "py4j.clientserver INFO  Closing down clientserver connection\n"
     ]
    },
    {
     "name": "stdout",
     "output_type": "stream",
     "text": [
      " 73%|███████▎  | 733/1000 [12:04:59<2:04:31, 27.98s/trial, best loss: 0.836200136505083]"
     ]
    },
    {
     "name": "stderr",
     "output_type": "stream",
     "text": [
      "hyperopt.tpe INFO  build_posterior_wrapper took 0.000000 seconds\n",
      "hyperopt.tpe INFO  TPE using 751/751 trials with best loss 0.836200\n",
      "py4j.clientserver INFO  Closing down clientserver connection\n"
     ]
    },
    {
     "name": "stdout",
     "output_type": "stream",
     "text": [
      " 73%|███████▎  | 734/1000 [12:05:22<1:57:51, 26.58s/trial, best loss: 0.836200136505083]"
     ]
    },
    {
     "name": "stderr",
     "output_type": "stream",
     "text": [
      "hyperopt.tpe INFO  build_posterior_wrapper took 0.000000 seconds\n",
      "hyperopt.tpe INFO  TPE using 752/752 trials with best loss 0.836200\n",
      "py4j.clientserver INFO  Closing down clientserver connection\n"
     ]
    },
    {
     "name": "stdout",
     "output_type": "stream",
     "text": [
      " 74%|███████▎  | 735/1000 [12:05:46<1:54:22, 25.90s/trial, best loss: 0.836200136505083]"
     ]
    },
    {
     "name": "stderr",
     "output_type": "stream",
     "text": [
      "hyperopt.tpe INFO  build_posterior_wrapper took 0.000000 seconds\n",
      "hyperopt.tpe INFO  TPE using 753/753 trials with best loss 0.836200\n",
      "py4j.clientserver INFO  Closing down clientserver connection\n"
     ]
    },
    {
     "name": "stdout",
     "output_type": "stream",
     "text": [
      " 74%|███████▎  | 736/1000 [12:06:08<1:47:54, 24.53s/trial, best loss: 0.836200136505083]"
     ]
    },
    {
     "name": "stderr",
     "output_type": "stream",
     "text": [
      "hyperopt.tpe INFO  build_posterior_wrapper took 0.000000 seconds\n",
      "hyperopt.tpe INFO  TPE using 754/754 trials with best loss 0.836200\n",
      "py4j.clientserver INFO  Closing down clientserver connection\n"
     ]
    },
    {
     "name": "stdout",
     "output_type": "stream",
     "text": [
      " 74%|███████▎  | 737/1000 [12:06:15<1:24:45, 19.33s/trial, best loss: 0.836200136505083]"
     ]
    },
    {
     "name": "stderr",
     "output_type": "stream",
     "text": [
      "hyperopt.tpe INFO  build_posterior_wrapper took 0.000000 seconds\n",
      "hyperopt.tpe INFO  TPE using 755/755 trials with best loss 0.836200\n",
      "py4j.clientserver INFO  Closing down clientserver connection\n"
     ]
    },
    {
     "name": "stdout",
     "output_type": "stream",
     "text": [
      " 74%|███████▍  | 738/1000 [12:09:25<5:08:23, 70.62s/trial, best loss: 0.836200136505083]"
     ]
    },
    {
     "name": "stderr",
     "output_type": "stream",
     "text": [
      "hyperopt.tpe INFO  build_posterior_wrapper took 0.000000 seconds\n",
      "hyperopt.tpe INFO  TPE using 756/756 trials with best loss 0.836200\n",
      "py4j.clientserver INFO  Closing down clientserver connection\n"
     ]
    },
    {
     "name": "stdout",
     "output_type": "stream",
     "text": [
      " 74%|███████▍  | 739/1000 [12:21:12<18:57:37, 261.52s/trial, best loss: 0.836200136505083]"
     ]
    },
    {
     "name": "stderr",
     "output_type": "stream",
     "text": [
      "hyperopt.tpe INFO  build_posterior_wrapper took 0.000000 seconds\n",
      "hyperopt.tpe INFO  TPE using 757/757 trials with best loss 0.836200\n",
      "py4j.clientserver INFO  Closing down clientserver connection\n"
     ]
    },
    {
     "name": "stdout",
     "output_type": "stream",
     "text": [
      " 74%|███████▍  | 740/1000 [12:21:23<13:27:55, 186.44s/trial, best loss: 0.836200136505083]"
     ]
    },
    {
     "name": "stderr",
     "output_type": "stream",
     "text": [
      "hyperopt.tpe INFO  build_posterior_wrapper took 0.000000 seconds\n",
      "hyperopt.tpe INFO  TPE using 758/758 trials with best loss 0.836200\n",
      "py4j.clientserver INFO  Closing down clientserver connection\n"
     ]
    },
    {
     "name": "stdout",
     "output_type": "stream",
     "text": [
      " 74%|███████▍  | 741/1000 [12:22:21<10:37:48, 147.76s/trial, best loss: 0.836200136505083]"
     ]
    },
    {
     "name": "stderr",
     "output_type": "stream",
     "text": [
      "hyperopt.tpe INFO  build_posterior_wrapper took 0.000000 seconds\n",
      "hyperopt.tpe INFO  TPE using 759/759 trials with best loss 0.836200\n",
      "py4j.clientserver INFO  Closing down clientserver connection\n"
     ]
    },
    {
     "name": "stdout",
     "output_type": "stream",
     "text": [
      " 74%|███████▍  | 742/1000 [12:22:39<7:48:23, 108.93s/trial, best loss: 0.836200136505083] "
     ]
    },
    {
     "name": "stderr",
     "output_type": "stream",
     "text": [
      "hyperopt.tpe INFO  build_posterior_wrapper took 0.000000 seconds\n",
      "hyperopt.tpe INFO  TPE using 760/760 trials with best loss 0.836200\n",
      "py4j.clientserver INFO  Closing down clientserver connection\n"
     ]
    },
    {
     "name": "stdout",
     "output_type": "stream",
     "text": [
      " 74%|███████▍  | 743/1000 [12:22:40<5:28:09, 76.61s/trial, best loss: 0.836200136505083] "
     ]
    },
    {
     "name": "stderr",
     "output_type": "stream",
     "text": [
      "hyperopt.tpe INFO  build_posterior_wrapper took 0.000000 seconds\n",
      "hyperopt.tpe INFO  TPE using 761/761 trials with best loss 0.836200\n",
      "py4j.clientserver INFO  Closing down clientserver connection\n"
     ]
    },
    {
     "name": "stdout",
     "output_type": "stream",
     "text": [
      " 74%|███████▍  | 744/1000 [12:22:52<4:03:11, 57.00s/trial, best loss: 0.836200136505083]"
     ]
    },
    {
     "name": "stderr",
     "output_type": "stream",
     "text": [
      "hyperopt.tpe INFO  build_posterior_wrapper took 0.000000 seconds\n",
      "hyperopt.tpe INFO  TPE using 762/762 trials with best loss 0.836200\n",
      "py4j.clientserver INFO  Closing down clientserver connection\n"
     ]
    },
    {
     "name": "stdout",
     "output_type": "stream",
     "text": [
      " 74%|███████▍  | 745/1000 [12:23:01<3:01:23, 42.68s/trial, best loss: 0.836200136505083]"
     ]
    },
    {
     "name": "stderr",
     "output_type": "stream",
     "text": [
      "hyperopt.tpe INFO  build_posterior_wrapper took 0.000000 seconds\n",
      "hyperopt.tpe INFO  TPE using 763/763 trials with best loss 0.836200\n",
      "py4j.clientserver INFO  Closing down clientserver connection\n"
     ]
    },
    {
     "name": "stdout",
     "output_type": "stream",
     "text": [
      " 75%|███████▍  | 746/1000 [12:23:57<3:18:12, 46.82s/trial, best loss: 0.836200136505083]"
     ]
    },
    {
     "name": "stderr",
     "output_type": "stream",
     "text": [
      "hyperopt.tpe INFO  build_posterior_wrapper took 0.001884 seconds\n",
      "hyperopt.tpe INFO  TPE using 764/764 trials with best loss 0.836200\n",
      "py4j.clientserver INFO  Closing down clientserver connection\n"
     ]
    },
    {
     "name": "stdout",
     "output_type": "stream",
     "text": [
      " 75%|███████▍  | 747/1000 [12:24:00<2:21:00, 33.44s/trial, best loss: 0.836200136505083]"
     ]
    },
    {
     "name": "stderr",
     "output_type": "stream",
     "text": [
      "hyperopt.tpe INFO  build_posterior_wrapper took 0.000000 seconds\n",
      "hyperopt.tpe INFO  TPE using 765/765 trials with best loss 0.836200\n",
      "py4j.clientserver INFO  Closing down clientserver connection\n"
     ]
    },
    {
     "name": "stdout",
     "output_type": "stream",
     "text": [
      " 75%|███████▍  | 748/1000 [12:24:32<2:19:11, 33.14s/trial, best loss: 0.836200136505083]"
     ]
    },
    {
     "name": "stderr",
     "output_type": "stream",
     "text": [
      "hyperopt.tpe INFO  build_posterior_wrapper took 0.004002 seconds\n",
      "hyperopt.tpe INFO  TPE using 766/766 trials with best loss 0.836200\n",
      "py4j.clientserver INFO  Closing down clientserver connection\n"
     ]
    },
    {
     "name": "stdout",
     "output_type": "stream",
     "text": [
      " 75%|███████▍  | 749/1000 [12:24:45<1:53:51, 27.22s/trial, best loss: 0.836200136505083]"
     ]
    },
    {
     "name": "stderr",
     "output_type": "stream",
     "text": [
      "hyperopt.tpe INFO  build_posterior_wrapper took 0.002000 seconds\n",
      "hyperopt.tpe INFO  TPE using 767/767 trials with best loss 0.836200\n",
      "py4j.clientserver INFO  Closing down clientserver connection\n"
     ]
    },
    {
     "name": "stdout",
     "output_type": "stream",
     "text": [
      " 75%|███████▌  | 750/1000 [12:25:06<1:44:58, 25.19s/trial, best loss: 0.836200136505083]"
     ]
    },
    {
     "name": "stderr",
     "output_type": "stream",
     "text": [
      "hyperopt.tpe INFO  build_posterior_wrapper took 0.125998 seconds\n",
      "hyperopt.tpe INFO  TPE using 768/768 trials with best loss 0.836200\n",
      "py4j.clientserver INFO  Closing down clientserver connection\n"
     ]
    },
    {
     "name": "stdout",
     "output_type": "stream",
     "text": [
      " 75%|███████▌  | 751/1000 [12:25:30<1:42:35, 24.72s/trial, best loss: 0.836200136505083]"
     ]
    },
    {
     "name": "stderr",
     "output_type": "stream",
     "text": [
      "hyperopt.tpe INFO  build_posterior_wrapper took 0.003002 seconds\n",
      "hyperopt.tpe INFO  TPE using 769/769 trials with best loss 0.836200\n",
      "py4j.clientserver INFO  Closing down clientserver connection\n"
     ]
    },
    {
     "name": "stdout",
     "output_type": "stream",
     "text": [
      " 75%|███████▌  | 752/1000 [12:26:06<1:57:00, 28.31s/trial, best loss: 0.836200136505083]"
     ]
    },
    {
     "name": "stderr",
     "output_type": "stream",
     "text": [
      "hyperopt.tpe INFO  build_posterior_wrapper took 0.002999 seconds\n",
      "hyperopt.tpe INFO  TPE using 770/770 trials with best loss 0.836200\n",
      "py4j.clientserver INFO  Closing down clientserver connection\n"
     ]
    },
    {
     "name": "stdout",
     "output_type": "stream",
     "text": [
      " 75%|███████▌  | 753/1000 [12:26:27<1:46:50, 25.95s/trial, best loss: 0.836200136505083]"
     ]
    },
    {
     "name": "stderr",
     "output_type": "stream",
     "text": [
      "hyperopt.tpe INFO  build_posterior_wrapper took 0.004003 seconds\n",
      "hyperopt.tpe INFO  TPE using 771/771 trials with best loss 0.836200\n",
      "py4j.clientserver INFO  Closing down clientserver connection\n"
     ]
    },
    {
     "name": "stdout",
     "output_type": "stream",
     "text": [
      " 75%|███████▌  | 754/1000 [12:26:49<1:42:09, 24.92s/trial, best loss: 0.836200136505083]"
     ]
    },
    {
     "name": "stderr",
     "output_type": "stream",
     "text": [
      "hyperopt.tpe INFO  build_posterior_wrapper took 0.002999 seconds\n",
      "hyperopt.tpe INFO  TPE using 772/772 trials with best loss 0.836200\n",
      "py4j.clientserver INFO  Closing down clientserver connection\n"
     ]
    },
    {
     "name": "stdout",
     "output_type": "stream",
     "text": [
      " 76%|███████▌  | 755/1000 [12:27:23<1:52:26, 27.54s/trial, best loss: 0.836200136505083]"
     ]
    },
    {
     "name": "stderr",
     "output_type": "stream",
     "text": [
      "hyperopt.tpe INFO  build_posterior_wrapper took 0.003999 seconds\n",
      "hyperopt.tpe INFO  TPE using 773/773 trials with best loss 0.836200\n",
      "py4j.clientserver INFO  Closing down clientserver connection\n"
     ]
    },
    {
     "name": "stdout",
     "output_type": "stream",
     "text": [
      " 76%|███████▌  | 756/1000 [12:30:51<5:32:14, 81.70s/trial, best loss: 0.836200136505083]"
     ]
    },
    {
     "name": "stderr",
     "output_type": "stream",
     "text": [
      "hyperopt.tpe INFO  build_posterior_wrapper took 0.000000 seconds\n",
      "hyperopt.tpe INFO  TPE using 774/774 trials with best loss 0.836200\n",
      "py4j.clientserver INFO  Closing down clientserver connection\n"
     ]
    },
    {
     "name": "stdout",
     "output_type": "stream",
     "text": [
      " 76%|███████▌  | 757/1000 [12:41:50<17:12:36, 254.96s/trial, best loss: 0.836200136505083]"
     ]
    },
    {
     "name": "stderr",
     "output_type": "stream",
     "text": [
      "hyperopt.tpe INFO  build_posterior_wrapper took 0.000000 seconds\n",
      "hyperopt.tpe INFO  TPE using 775/775 trials with best loss 0.836200\n",
      "py4j.clientserver INFO  Closing down clientserver connection\n"
     ]
    },
    {
     "name": "stdout",
     "output_type": "stream",
     "text": [
      " 76%|███████▌  | 758/1000 [12:42:41<13:01:00, 193.64s/trial, best loss: 0.836200136505083]"
     ]
    },
    {
     "name": "stderr",
     "output_type": "stream",
     "text": [
      "hyperopt.tpe INFO  build_posterior_wrapper took 0.000000 seconds\n",
      "hyperopt.tpe INFO  TPE using 776/776 trials with best loss 0.836200\n",
      "py4j.clientserver INFO  Closing down clientserver connection\n"
     ]
    },
    {
     "name": "stdout",
     "output_type": "stream",
     "text": [
      " 76%|███████▌  | 759/1000 [12:43:23<9:55:35, 148.28s/trial, best loss: 0.836200136505083] "
     ]
    },
    {
     "name": "stderr",
     "output_type": "stream",
     "text": [
      "hyperopt.tpe INFO  build_posterior_wrapper took 0.000000 seconds\n",
      "hyperopt.tpe INFO  TPE using 777/777 trials with best loss 0.836200\n",
      "py4j.clientserver INFO  Closing down clientserver connection\n"
     ]
    },
    {
     "name": "stdout",
     "output_type": "stream",
     "text": [
      " 76%|███████▌  | 760/1000 [12:43:31<7:05:05, 106.27s/trial, best loss: 0.836200136505083]"
     ]
    },
    {
     "name": "stderr",
     "output_type": "stream",
     "text": [
      "hyperopt.tpe INFO  build_posterior_wrapper took 0.000105 seconds\n",
      "hyperopt.tpe INFO  TPE using 778/778 trials with best loss 0.836200\n",
      "py4j.clientserver INFO  Closing down clientserver connection\n"
     ]
    },
    {
     "name": "stdout",
     "output_type": "stream",
     "text": [
      " 76%|███████▌  | 761/1000 [12:43:39<5:05:01, 76.58s/trial, best loss: 0.836200136505083] "
     ]
    },
    {
     "name": "stderr",
     "output_type": "stream",
     "text": [
      "hyperopt.tpe INFO  build_posterior_wrapper took 0.000000 seconds\n",
      "hyperopt.tpe INFO  TPE using 779/779 trials with best loss 0.836200\n",
      "py4j.clientserver INFO  Closing down clientserver connection\n"
     ]
    },
    {
     "name": "stdout",
     "output_type": "stream",
     "text": [
      " 76%|███████▌  | 762/1000 [12:43:40<3:34:03, 53.97s/trial, best loss: 0.836200136505083]"
     ]
    },
    {
     "name": "stderr",
     "output_type": "stream",
     "text": [
      "hyperopt.tpe INFO  build_posterior_wrapper took 0.000000 seconds\n",
      "hyperopt.tpe INFO  TPE using 780/780 trials with best loss 0.836200\n",
      "py4j.clientserver INFO  Closing down clientserver connection\n"
     ]
    },
    {
     "name": "stdout",
     "output_type": "stream",
     "text": [
      " 76%|███████▋  | 763/1000 [12:43:58<2:50:53, 43.27s/trial, best loss: 0.836200136505083]"
     ]
    },
    {
     "name": "stderr",
     "output_type": "stream",
     "text": [
      "hyperopt.tpe INFO  build_posterior_wrapper took 0.000000 seconds\n",
      "hyperopt.tpe INFO  TPE using 781/781 trials with best loss 0.836200\n",
      "py4j.clientserver INFO  Closing down clientserver connection\n",
      "py4j.clientserver INFO  Closing down clientserver connection\n"
     ]
    },
    {
     "name": "stdout",
     "output_type": "stream",
     "text": [
      " 76%|███████▋  | 765/1000 [12:44:39<2:07:47, 32.63s/trial, best loss: 0.836200136505083]"
     ]
    },
    {
     "name": "stderr",
     "output_type": "stream",
     "text": [
      "hyperopt.tpe INFO  build_posterior_wrapper took 0.000000 seconds\n",
      "hyperopt.tpe INFO  TPE using 782/782 trials with best loss 0.836200\n",
      "hyperopt.tpe INFO  build_posterior_wrapper took 0.000000 seconds\n",
      "hyperopt.tpe INFO  TPE using 783/783 trials with best loss 0.836200\n",
      "py4j.clientserver INFO  Closing down clientserver connection\n"
     ]
    },
    {
     "name": "stdout",
     "output_type": "stream",
     "text": [
      " 77%|███████▋  | 766/1000 [12:45:49<2:43:19, 41.88s/trial, best loss: 0.836200136505083]"
     ]
    },
    {
     "name": "stderr",
     "output_type": "stream",
     "text": [
      "hyperopt.tpe INFO  build_posterior_wrapper took 0.000000 seconds\n",
      "hyperopt.tpe INFO  TPE using 784/784 trials with best loss 0.836200\n",
      "py4j.clientserver INFO  Closing down clientserver connection\n"
     ]
    },
    {
     "name": "stdout",
     "output_type": "stream",
     "text": [
      " 77%|███████▋  | 767/1000 [12:45:55<2:06:25, 32.55s/trial, best loss: 0.836200136505083]"
     ]
    },
    {
     "name": "stderr",
     "output_type": "stream",
     "text": [
      "hyperopt.tpe INFO  build_posterior_wrapper took 0.000000 seconds\n",
      "hyperopt.tpe INFO  TPE using 785/785 trials with best loss 0.836200\n",
      "py4j.clientserver INFO  Closing down clientserver connection\n"
     ]
    },
    {
     "name": "stdout",
     "output_type": "stream",
     "text": [
      " 77%|███████▋  | 768/1000 [12:45:57<1:33:58, 24.30s/trial, best loss: 0.836200136505083]"
     ]
    },
    {
     "name": "stderr",
     "output_type": "stream",
     "text": [
      "hyperopt.tpe INFO  build_posterior_wrapper took 0.009886 seconds\n",
      "hyperopt.tpe INFO  TPE using 786/786 trials with best loss 0.836200\n",
      "py4j.clientserver INFO  Closing down clientserver connection\n"
     ]
    },
    {
     "name": "stdout",
     "output_type": "stream",
     "text": [
      " 77%|███████▋  | 769/1000 [12:46:18<1:30:19, 23.46s/trial, best loss: 0.836200136505083]"
     ]
    },
    {
     "name": "stderr",
     "output_type": "stream",
     "text": [
      "hyperopt.tpe INFO  build_posterior_wrapper took 0.000000 seconds\n",
      "hyperopt.tpe INFO  TPE using 787/787 trials with best loss 0.836200\n",
      "py4j.clientserver INFO  Closing down clientserver connection\n"
     ]
    },
    {
     "name": "stdout",
     "output_type": "stream",
     "text": [
      " 77%|███████▋  | 770/1000 [12:47:28<2:20:29, 36.65s/trial, best loss: 0.836200136505083]"
     ]
    },
    {
     "name": "stderr",
     "output_type": "stream",
     "text": [
      "hyperopt.tpe INFO  build_posterior_wrapper took 0.000000 seconds\n",
      "hyperopt.tpe INFO  TPE using 788/788 trials with best loss 0.836200\n",
      "py4j.clientserver INFO  Closing down clientserver connection\n"
     ]
    },
    {
     "name": "stdout",
     "output_type": "stream",
     "text": [
      " 77%|███████▋  | 771/1000 [12:47:41<1:54:01, 29.88s/trial, best loss: 0.836200136505083]"
     ]
    },
    {
     "name": "stderr",
     "output_type": "stream",
     "text": [
      "hyperopt.tpe INFO  build_posterior_wrapper took 0.000000 seconds\n",
      "hyperopt.tpe INFO  TPE using 789/789 trials with best loss 0.836200\n",
      "py4j.clientserver INFO  Closing down clientserver connection\n"
     ]
    },
    {
     "name": "stdout",
     "output_type": "stream",
     "text": [
      " 77%|███████▋  | 772/1000 [12:47:46<1:26:09, 22.67s/trial, best loss: 0.836200136505083]"
     ]
    },
    {
     "name": "stderr",
     "output_type": "stream",
     "text": [
      "hyperopt.tpe INFO  build_posterior_wrapper took 0.000000 seconds\n",
      "hyperopt.tpe INFO  TPE using 790/790 trials with best loss 0.836200\n",
      "py4j.clientserver INFO  Closing down clientserver connection\n"
     ]
    },
    {
     "name": "stdout",
     "output_type": "stream",
     "text": [
      " 77%|███████▋  | 773/1000 [12:48:11<1:27:37, 23.16s/trial, best loss: 0.836200136505083]"
     ]
    },
    {
     "name": "stderr",
     "output_type": "stream",
     "text": [
      "hyperopt.tpe INFO  build_posterior_wrapper took 0.000000 seconds\n",
      "hyperopt.tpe INFO  TPE using 791/791 trials with best loss 0.836200\n",
      "py4j.clientserver INFO  Closing down clientserver connection\n"
     ]
    },
    {
     "name": "stdout",
     "output_type": "stream",
     "text": [
      " 77%|███████▋  | 774/1000 [12:51:15<4:26:58, 70.88s/trial, best loss: 0.836200136505083]"
     ]
    },
    {
     "name": "stderr",
     "output_type": "stream",
     "text": [
      "hyperopt.tpe INFO  build_posterior_wrapper took 0.000000 seconds\n",
      "hyperopt.tpe INFO  TPE using 792/792 trials with best loss 0.836200\n",
      "py4j.clientserver INFO  Closing down clientserver connection\n"
     ]
    },
    {
     "name": "stdout",
     "output_type": "stream",
     "text": [
      " 78%|███████▊  | 775/1000 [13:02:52<16:04:50, 257.29s/trial, best loss: 0.836200136505083]"
     ]
    },
    {
     "name": "stderr",
     "output_type": "stream",
     "text": [
      "hyperopt.tpe INFO  build_posterior_wrapper took 0.000000 seconds\n",
      "hyperopt.tpe INFO  TPE using 793/793 trials with best loss 0.836200\n",
      "py4j.clientserver INFO  Closing down clientserver connection\n"
     ]
    },
    {
     "name": "stdout",
     "output_type": "stream",
     "text": [
      " 78%|███████▊  | 776/1000 [13:03:06<11:28:55, 184.53s/trial, best loss: 0.836200136505083]"
     ]
    },
    {
     "name": "stderr",
     "output_type": "stream",
     "text": [
      "hyperopt.tpe INFO  build_posterior_wrapper took 0.000000 seconds\n",
      "hyperopt.tpe INFO  TPE using 794/794 trials with best loss 0.836200\n",
      "py4j.clientserver INFO  Closing down clientserver connection\n"
     ]
    },
    {
     "name": "stdout",
     "output_type": "stream",
     "text": [
      " 78%|███████▊  | 777/1000 [13:03:46<8:45:53, 141.50s/trial, best loss: 0.836200136505083] "
     ]
    },
    {
     "name": "stderr",
     "output_type": "stream",
     "text": [
      "hyperopt.tpe INFO  build_posterior_wrapper took 0.000000 seconds\n",
      "hyperopt.tpe INFO  TPE using 795/795 trials with best loss 0.836200\n",
      "py4j.clientserver INFO  Closing down clientserver connection\n"
     ]
    },
    {
     "name": "stdout",
     "output_type": "stream",
     "text": [
      " 78%|███████▊  | 778/1000 [13:04:09<6:31:38, 105.85s/trial, best loss: 0.836200136505083]"
     ]
    },
    {
     "name": "stderr",
     "output_type": "stream",
     "text": [
      "hyperopt.tpe INFO  build_posterior_wrapper took 0.000000 seconds\n",
      "hyperopt.tpe INFO  TPE using 796/796 trials with best loss 0.836200\n",
      "py4j.clientserver INFO  Closing down clientserver connection\n"
     ]
    },
    {
     "name": "stdout",
     "output_type": "stream",
     "text": [
      " 78%|███████▊  | 779/1000 [13:04:25<4:51:06, 79.04s/trial, best loss: 0.836200136505083] "
     ]
    },
    {
     "name": "stderr",
     "output_type": "stream",
     "text": [
      "hyperopt.tpe INFO  build_posterior_wrapper took 0.000000 seconds\n",
      "hyperopt.tpe INFO  TPE using 797/797 trials with best loss 0.836200\n",
      "py4j.clientserver INFO  Closing down clientserver connection\n"
     ]
    },
    {
     "name": "stdout",
     "output_type": "stream",
     "text": [
      " 78%|███████▊  | 780/1000 [13:04:50<3:50:51, 62.96s/trial, best loss: 0.836200136505083]"
     ]
    },
    {
     "name": "stderr",
     "output_type": "stream",
     "text": [
      "hyperopt.tpe INFO  build_posterior_wrapper took 0.000000 seconds\n",
      "hyperopt.tpe INFO  TPE using 798/798 trials with best loss 0.836200\n",
      "py4j.clientserver INFO  Closing down clientserver connection\n",
      "py4j.clientserver INFO  Closing down clientserver connection\n"
     ]
    },
    {
     "name": "stdout",
     "output_type": "stream",
     "text": [
      " 78%|███████▊  | 782/1000 [13:05:06<2:16:04, 37.45s/trial, best loss: 0.836200136505083]"
     ]
    },
    {
     "name": "stderr",
     "output_type": "stream",
     "text": [
      "hyperopt.tpe INFO  build_posterior_wrapper took 0.000000 seconds\n",
      "hyperopt.tpe INFO  TPE using 799/799 trials with best loss 0.836200\n",
      "hyperopt.tpe INFO  build_posterior_wrapper took 0.000000 seconds\n",
      "hyperopt.tpe INFO  TPE using 800/800 trials with best loss 0.836200\n",
      "py4j.clientserver INFO  Closing down clientserver connection\n"
     ]
    },
    {
     "name": "stdout",
     "output_type": "stream",
     "text": [
      " 78%|███████▊  | 783/1000 [13:05:22<1:56:41, 32.26s/trial, best loss: 0.836200136505083]"
     ]
    },
    {
     "name": "stderr",
     "output_type": "stream",
     "text": [
      "hyperopt.tpe INFO  build_posterior_wrapper took 0.000000 seconds\n",
      "hyperopt.tpe INFO  TPE using 801/801 trials with best loss 0.836200\n",
      "py4j.clientserver INFO  Closing down clientserver connection\n"
     ]
    },
    {
     "name": "stdout",
     "output_type": "stream",
     "text": [
      " 78%|███████▊  | 784/1000 [13:06:20<2:19:55, 38.87s/trial, best loss: 0.836200136505083]"
     ]
    },
    {
     "name": "stderr",
     "output_type": "stream",
     "text": [
      "hyperopt.tpe INFO  build_posterior_wrapper took 0.000000 seconds\n",
      "hyperopt.tpe INFO  TPE using 802/802 trials with best loss 0.836200\n",
      "py4j.clientserver INFO  Closing down clientserver connection\n"
     ]
    },
    {
     "name": "stdout",
     "output_type": "stream",
     "text": [
      " 78%|███████▊  | 785/1000 [13:06:27<1:48:28, 30.27s/trial, best loss: 0.836200136505083]"
     ]
    },
    {
     "name": "stderr",
     "output_type": "stream",
     "text": [
      "hyperopt.tpe INFO  build_posterior_wrapper took 0.000000 seconds\n",
      "hyperopt.tpe INFO  TPE using 803/803 trials with best loss 0.836200\n",
      "py4j.clientserver INFO  Closing down clientserver connection\n"
     ]
    },
    {
     "name": "stdout",
     "output_type": "stream",
     "text": [
      " 79%|███████▊  | 786/1000 [13:07:02<1:53:04, 31.70s/trial, best loss: 0.836200136505083]"
     ]
    },
    {
     "name": "stderr",
     "output_type": "stream",
     "text": [
      "hyperopt.tpe INFO  build_posterior_wrapper took 0.000000 seconds\n",
      "hyperopt.tpe INFO  TPE using 804/804 trials with best loss 0.836200\n",
      "py4j.clientserver INFO  Closing down clientserver connection\n"
     ]
    },
    {
     "name": "stdout",
     "output_type": "stream",
     "text": [
      " 79%|███████▊  | 787/1000 [13:07:22<1:39:56, 28.15s/trial, best loss: 0.836200136505083]"
     ]
    },
    {
     "name": "stderr",
     "output_type": "stream",
     "text": [
      "hyperopt.tpe INFO  build_posterior_wrapper took 0.000000 seconds\n",
      "hyperopt.tpe INFO  TPE using 805/805 trials with best loss 0.836200\n",
      "py4j.clientserver INFO  Closing down clientserver connection\n"
     ]
    },
    {
     "name": "stdout",
     "output_type": "stream",
     "text": [
      " 79%|███████▉  | 788/1000 [13:08:06<1:56:08, 32.87s/trial, best loss: 0.836200136505083]"
     ]
    },
    {
     "name": "stderr",
     "output_type": "stream",
     "text": [
      "hyperopt.tpe INFO  build_posterior_wrapper took 0.000000 seconds\n",
      "hyperopt.tpe INFO  TPE using 806/806 trials with best loss 0.836200\n",
      "py4j.clientserver INFO  Closing down clientserver connection\n"
     ]
    },
    {
     "name": "stdout",
     "output_type": "stream",
     "text": [
      " 79%|███████▉  | 789/1000 [13:08:42<1:59:15, 33.91s/trial, best loss: 0.836200136505083]"
     ]
    },
    {
     "name": "stderr",
     "output_type": "stream",
     "text": [
      "hyperopt.tpe INFO  build_posterior_wrapper took 0.000000 seconds\n",
      "hyperopt.tpe INFO  TPE using 807/807 trials with best loss 0.836200\n",
      "py4j.clientserver INFO  Closing down clientserver connection\n"
     ]
    },
    {
     "name": "stdout",
     "output_type": "stream",
     "text": [
      " 79%|███████▉  | 790/1000 [13:08:45<1:25:59, 24.57s/trial, best loss: 0.8355765620042895]"
     ]
    },
    {
     "name": "stderr",
     "output_type": "stream",
     "text": [
      "hyperopt.tpe INFO  build_posterior_wrapper took 0.000000 seconds\n",
      "hyperopt.tpe INFO  TPE using 808/808 trials with best loss 0.835577\n",
      "py4j.clientserver INFO  Closing down clientserver connection\n"
     ]
    },
    {
     "name": "stdout",
     "output_type": "stream",
     "text": [
      " 79%|███████▉  | 791/1000 [13:08:53<1:08:47, 19.75s/trial, best loss: 0.8355765620042895]"
     ]
    },
    {
     "name": "stderr",
     "output_type": "stream",
     "text": [
      "hyperopt.tpe INFO  build_posterior_wrapper took 0.000000 seconds\n",
      "hyperopt.tpe INFO  TPE using 809/809 trials with best loss 0.835577\n",
      "py4j.clientserver INFO  Closing down clientserver connection\n"
     ]
    },
    {
     "name": "stdout",
     "output_type": "stream",
     "text": [
      " 79%|███████▉  | 792/1000 [13:12:24<4:26:13, 76.79s/trial, best loss: 0.8355765620042895]"
     ]
    },
    {
     "name": "stderr",
     "output_type": "stream",
     "text": [
      "hyperopt.tpe INFO  build_posterior_wrapper took 0.000000 seconds\n",
      "hyperopt.tpe INFO  TPE using 810/810 trials with best loss 0.835577\n",
      "py4j.clientserver INFO  Closing down clientserver connection\n"
     ]
    },
    {
     "name": "stdout",
     "output_type": "stream",
     "text": [
      " 79%|███████▉  | 793/1000 [13:23:37<14:37:49, 254.44s/trial, best loss: 0.8355765620042895]"
     ]
    },
    {
     "name": "stderr",
     "output_type": "stream",
     "text": [
      "hyperopt.tpe INFO  build_posterior_wrapper took 0.000000 seconds\n",
      "hyperopt.tpe INFO  TPE using 811/811 trials with best loss 0.835577\n",
      "py4j.clientserver INFO  Closing down clientserver connection\n"
     ]
    },
    {
     "name": "stdout",
     "output_type": "stream",
     "text": [
      " 79%|███████▉  | 794/1000 [13:23:49<10:25:13, 182.11s/trial, best loss: 0.8355765620042895]"
     ]
    },
    {
     "name": "stderr",
     "output_type": "stream",
     "text": [
      "hyperopt.tpe INFO  build_posterior_wrapper took 0.000000 seconds\n",
      "hyperopt.tpe INFO  TPE using 812/812 trials with best loss 0.835577\n",
      "py4j.clientserver INFO  Closing down clientserver connection\n"
     ]
    },
    {
     "name": "stdout",
     "output_type": "stream",
     "text": [
      " 80%|███████▉  | 795/1000 [13:24:49<8:17:03, 145.48s/trial, best loss: 0.8355765620042895] "
     ]
    },
    {
     "name": "stderr",
     "output_type": "stream",
     "text": [
      "hyperopt.tpe INFO  build_posterior_wrapper took 0.003999 seconds\n",
      "hyperopt.tpe INFO  TPE using 813/813 trials with best loss 0.835577\n",
      "py4j.clientserver INFO  Closing down clientserver connection\n"
     ]
    },
    {
     "name": "stdout",
     "output_type": "stream",
     "text": [
      " 80%|███████▉  | 796/1000 [13:25:09<6:07:18, 108.03s/trial, best loss: 0.8355765620042895]"
     ]
    },
    {
     "name": "stderr",
     "output_type": "stream",
     "text": [
      "hyperopt.tpe INFO  build_posterior_wrapper took 0.000000 seconds\n",
      "hyperopt.tpe INFO  TPE using 814/814 trials with best loss 0.835577\n",
      "py4j.clientserver INFO  Closing down clientserver connection\n"
     ]
    },
    {
     "name": "stdout",
     "output_type": "stream",
     "text": [
      " 80%|███████▉  | 797/1000 [13:25:46<4:52:59, 86.60s/trial, best loss: 0.8355765620042895] "
     ]
    },
    {
     "name": "stderr",
     "output_type": "stream",
     "text": [
      "hyperopt.tpe INFO  build_posterior_wrapper took 0.000000 seconds\n",
      "hyperopt.tpe INFO  TPE using 815/815 trials with best loss 0.835577\n",
      "py4j.clientserver INFO  Closing down clientserver connection\n"
     ]
    },
    {
     "name": "stdout",
     "output_type": "stream",
     "text": [
      " 80%|███████▉  | 798/1000 [13:25:47<3:25:25, 61.02s/trial, best loss: 0.8355765620042895]"
     ]
    },
    {
     "name": "stderr",
     "output_type": "stream",
     "text": [
      "hyperopt.tpe INFO  build_posterior_wrapper took 0.000000 seconds\n",
      "hyperopt.tpe INFO  TPE using 816/816 trials with best loss 0.835577\n",
      "py4j.clientserver INFO  Closing down clientserver connection\n"
     ]
    },
    {
     "name": "stdout",
     "output_type": "stream",
     "text": [
      " 80%|███████▉  | 799/1000 [13:26:08<2:44:33, 49.12s/trial, best loss: 0.8355765620042895]"
     ]
    },
    {
     "name": "stderr",
     "output_type": "stream",
     "text": [
      "hyperopt.tpe INFO  build_posterior_wrapper took 0.000000 seconds\n",
      "hyperopt.tpe INFO  TPE using 817/817 trials with best loss 0.835577\n",
      "py4j.clientserver INFO  Closing down clientserver connection\n"
     ]
    },
    {
     "name": "stdout",
     "output_type": "stream",
     "text": [
      " 80%|████████  | 800/1000 [13:26:14<1:59:53, 35.97s/trial, best loss: 0.8355765620042895]"
     ]
    },
    {
     "name": "stderr",
     "output_type": "stream",
     "text": [
      "hyperopt.tpe INFO  build_posterior_wrapper took 0.000000 seconds\n",
      "hyperopt.tpe INFO  TPE using 818/818 trials with best loss 0.835577\n",
      "py4j.clientserver INFO  Closing down clientserver connection\n"
     ]
    },
    {
     "name": "stdout",
     "output_type": "stream",
     "text": [
      " 80%|████████  | 801/1000 [13:26:36<1:45:49, 31.91s/trial, best loss: 0.8355765620042895]"
     ]
    },
    {
     "name": "stderr",
     "output_type": "stream",
     "text": [
      "hyperopt.tpe INFO  build_posterior_wrapper took 0.000000 seconds\n",
      "hyperopt.tpe INFO  TPE using 819/819 trials with best loss 0.835577\n",
      "py4j.clientserver INFO  Closing down clientserver connection\n"
     ]
    },
    {
     "name": "stdout",
     "output_type": "stream",
     "text": [
      " 80%|████████  | 802/1000 [13:27:10<1:46:51, 32.38s/trial, best loss: 0.8355765620042895]"
     ]
    },
    {
     "name": "stderr",
     "output_type": "stream",
     "text": [
      "hyperopt.tpe INFO  build_posterior_wrapper took 0.000000 seconds\n",
      "hyperopt.tpe INFO  TPE using 820/820 trials with best loss 0.835577\n",
      "py4j.clientserver INFO  Closing down clientserver connection\n"
     ]
    },
    {
     "name": "stdout",
     "output_type": "stream",
     "text": [
      " 80%|████████  | 803/1000 [13:27:26<1:30:28, 27.56s/trial, best loss: 0.8355765620042895]"
     ]
    },
    {
     "name": "stderr",
     "output_type": "stream",
     "text": [
      "hyperopt.tpe INFO  build_posterior_wrapper took 0.000000 seconds\n",
      "hyperopt.tpe INFO  TPE using 821/821 trials with best loss 0.835577\n",
      "py4j.clientserver INFO  Closing down clientserver connection\n"
     ]
    },
    {
     "name": "stdout",
     "output_type": "stream",
     "text": [
      " 80%|████████  | 804/1000 [13:28:19<1:55:29, 35.35s/trial, best loss: 0.8355765620042895]"
     ]
    },
    {
     "name": "stderr",
     "output_type": "stream",
     "text": [
      "hyperopt.tpe INFO  build_posterior_wrapper took 0.000000 seconds\n",
      "hyperopt.tpe INFO  TPE using 822/822 trials with best loss 0.835577\n",
      "py4j.clientserver INFO  Closing down clientserver connection\n"
     ]
    },
    {
     "name": "stdout",
     "output_type": "stream",
     "text": [
      " 80%|████████  | 805/1000 [13:28:45<1:45:12, 32.37s/trial, best loss: 0.8355765620042895]"
     ]
    },
    {
     "name": "stderr",
     "output_type": "stream",
     "text": [
      "hyperopt.tpe INFO  build_posterior_wrapper took 0.000000 seconds\n",
      "hyperopt.tpe INFO  TPE using 823/823 trials with best loss 0.835577\n",
      "py4j.clientserver INFO  Closing down clientserver connection\n"
     ]
    },
    {
     "name": "stdout",
     "output_type": "stream",
     "text": [
      " 81%|████████  | 806/1000 [13:28:49<1:17:24, 23.94s/trial, best loss: 0.8355765620042895]"
     ]
    },
    {
     "name": "stderr",
     "output_type": "stream",
     "text": [
      "hyperopt.tpe INFO  build_posterior_wrapper took 0.000000 seconds\n",
      "hyperopt.tpe INFO  TPE using 824/824 trials with best loss 0.835577\n",
      "py4j.clientserver INFO  Closing down clientserver connection\n"
     ]
    },
    {
     "name": "stdout",
     "output_type": "stream",
     "text": [
      " 81%|████████  | 807/1000 [13:29:30<1:33:54, 29.19s/trial, best loss: 0.8355765620042895]"
     ]
    },
    {
     "name": "stderr",
     "output_type": "stream",
     "text": [
      "hyperopt.tpe INFO  build_posterior_wrapper took 0.000000 seconds\n",
      "hyperopt.tpe INFO  TPE using 825/825 trials with best loss 0.835577\n",
      "py4j.clientserver INFO  Closing down clientserver connection\n"
     ]
    },
    {
     "name": "stdout",
     "output_type": "stream",
     "text": [
      " 81%|████████  | 808/1000 [13:29:37<1:11:24, 22.31s/trial, best loss: 0.8355765620042895]"
     ]
    },
    {
     "name": "stderr",
     "output_type": "stream",
     "text": [
      "hyperopt.tpe INFO  build_posterior_wrapper took 0.000000 seconds\n",
      "hyperopt.tpe INFO  TPE using 826/826 trials with best loss 0.835577\n",
      "py4j.clientserver INFO  Closing down clientserver connection\n"
     ]
    },
    {
     "name": "stdout",
     "output_type": "stream",
     "text": [
      " 81%|████████  | 809/1000 [13:29:59<1:11:05, 22.33s/trial, best loss: 0.8355765620042895]"
     ]
    },
    {
     "name": "stderr",
     "output_type": "stream",
     "text": [
      "hyperopt.tpe INFO  build_posterior_wrapper took 0.000000 seconds\n",
      "hyperopt.tpe INFO  TPE using 827/827 trials with best loss 0.835577\n",
      "py4j.clientserver INFO  Closing down clientserver connection\n"
     ]
    },
    {
     "name": "stdout",
     "output_type": "stream",
     "text": [
      " 81%|████████  | 810/1000 [13:33:14<3:54:27, 74.04s/trial, best loss: 0.8355765620042895]"
     ]
    },
    {
     "name": "stderr",
     "output_type": "stream",
     "text": [
      "hyperopt.tpe INFO  build_posterior_wrapper took 0.109369 seconds\n",
      "hyperopt.tpe INFO  TPE using 828/828 trials with best loss 0.835577\n",
      "py4j.clientserver INFO  Closing down clientserver connection\n"
     ]
    },
    {
     "name": "stdout",
     "output_type": "stream",
     "text": [
      " 81%|████████  | 811/1000 [13:44:50<13:41:09, 260.69s/trial, best loss: 0.8355765620042895]"
     ]
    },
    {
     "name": "stderr",
     "output_type": "stream",
     "text": [
      "hyperopt.tpe INFO  build_posterior_wrapper took 0.000000 seconds\n",
      "hyperopt.tpe INFO  TPE using 829/829 trials with best loss 0.835577\n",
      "py4j.clientserver INFO  Closing down clientserver connection\n"
     ]
    },
    {
     "name": "stdout",
     "output_type": "stream",
     "text": [
      " 81%|████████  | 812/1000 [13:45:44<10:22:11, 198.57s/trial, best loss: 0.8355765620042895]"
     ]
    },
    {
     "name": "stderr",
     "output_type": "stream",
     "text": [
      "hyperopt.tpe INFO  build_posterior_wrapper took 0.000000 seconds\n",
      "hyperopt.tpe INFO  TPE using 830/830 trials with best loss 0.835577\n",
      "py4j.clientserver INFO  Closing down clientserver connection\n"
     ]
    },
    {
     "name": "stdout",
     "output_type": "stream",
     "text": [
      " 81%|████████▏ | 813/1000 [13:46:01<7:29:26, 144.21s/trial, best loss: 0.8355765620042895] "
     ]
    },
    {
     "name": "stderr",
     "output_type": "stream",
     "text": [
      "hyperopt.tpe INFO  build_posterior_wrapper took 0.000000 seconds\n",
      "hyperopt.tpe INFO  TPE using 831/831 trials with best loss 0.835577\n",
      "py4j.clientserver INFO  Closing down clientserver connection\n"
     ]
    },
    {
     "name": "stdout",
     "output_type": "stream",
     "text": [
      " 81%|████████▏ | 814/1000 [13:46:16<5:27:11, 105.55s/trial, best loss: 0.8355765620042895]"
     ]
    },
    {
     "name": "stderr",
     "output_type": "stream",
     "text": [
      "hyperopt.tpe INFO  build_posterior_wrapper took 0.000000 seconds\n",
      "hyperopt.tpe INFO  TPE using 832/832 trials with best loss 0.835577\n",
      "py4j.clientserver INFO  Closing down clientserver connection\n"
     ]
    },
    {
     "name": "stdout",
     "output_type": "stream",
     "text": [
      " 82%|████████▏ | 815/1000 [13:46:55<4:23:26, 85.44s/trial, best loss: 0.8355765620042895] "
     ]
    },
    {
     "name": "stderr",
     "output_type": "stream",
     "text": [
      "hyperopt.tpe INFO  build_posterior_wrapper took 0.000000 seconds\n",
      "hyperopt.tpe INFO  TPE using 833/833 trials with best loss 0.835577\n",
      "py4j.clientserver INFO  Closing down clientserver connection\n"
     ]
    },
    {
     "name": "stdout",
     "output_type": "stream",
     "text": [
      " 82%|████████▏ | 816/1000 [13:47:06<3:13:49, 63.20s/trial, best loss: 0.8355765620042895]"
     ]
    },
    {
     "name": "stderr",
     "output_type": "stream",
     "text": [
      "hyperopt.tpe INFO  build_posterior_wrapper took 0.000000 seconds\n",
      "hyperopt.tpe INFO  TPE using 834/834 trials with best loss 0.835577\n",
      "py4j.clientserver INFO  Closing down clientserver connection\n"
     ]
    },
    {
     "name": "stdout",
     "output_type": "stream",
     "text": [
      " 82%|████████▏ | 817/1000 [13:47:20<2:27:08, 48.24s/trial, best loss: 0.8355765620042895]"
     ]
    },
    {
     "name": "stderr",
     "output_type": "stream",
     "text": [
      "hyperopt.tpe INFO  build_posterior_wrapper took 0.000000 seconds\n",
      "hyperopt.tpe INFO  TPE using 835/835 trials with best loss 0.835577\n",
      "py4j.clientserver INFO  Closing down clientserver connection\n"
     ]
    },
    {
     "name": "stdout",
     "output_type": "stream",
     "text": [
      " 82%|████████▏ | 818/1000 [13:47:27<1:49:03, 35.95s/trial, best loss: 0.8355765620042895]"
     ]
    },
    {
     "name": "stderr",
     "output_type": "stream",
     "text": [
      "hyperopt.tpe INFO  build_posterior_wrapper took 0.004002 seconds\n",
      "hyperopt.tpe INFO  TPE using 836/836 trials with best loss 0.835577\n",
      "py4j.clientserver INFO  Closing down clientserver connection\n"
     ]
    },
    {
     "name": "stdout",
     "output_type": "stream",
     "text": [
      " 82%|████████▏ | 819/1000 [13:47:57<1:43:27, 34.30s/trial, best loss: 0.8355765620042895]"
     ]
    },
    {
     "name": "stderr",
     "output_type": "stream",
     "text": [
      "hyperopt.tpe INFO  build_posterior_wrapper took 0.001085 seconds\n",
      "hyperopt.tpe INFO  TPE using 837/837 trials with best loss 0.835577\n",
      "py4j.clientserver INFO  Closing down clientserver connection\n"
     ]
    },
    {
     "name": "stdout",
     "output_type": "stream",
     "text": [
      " 82%|████████▏ | 820/1000 [13:48:35<1:45:49, 35.28s/trial, best loss: 0.8355765620042895]"
     ]
    },
    {
     "name": "stderr",
     "output_type": "stream",
     "text": [
      "hyperopt.tpe INFO  build_posterior_wrapper took 0.000000 seconds\n",
      "hyperopt.tpe INFO  TPE using 838/838 trials with best loss 0.835577\n",
      "py4j.clientserver INFO  Closing down clientserver connection\n"
     ]
    },
    {
     "name": "stdout",
     "output_type": "stream",
     "text": [
      " 82%|████████▏ | 821/1000 [13:49:00<1:36:26, 32.33s/trial, best loss: 0.8355765620042895]"
     ]
    },
    {
     "name": "stderr",
     "output_type": "stream",
     "text": [
      "hyperopt.tpe INFO  build_posterior_wrapper took 0.000000 seconds\n",
      "hyperopt.tpe INFO  TPE using 839/839 trials with best loss 0.835577\n",
      "py4j.clientserver INFO  Closing down clientserver connection\n"
     ]
    },
    {
     "name": "stdout",
     "output_type": "stream",
     "text": [
      " 82%|████████▏ | 822/1000 [13:50:09<2:08:18, 43.25s/trial, best loss: 0.8355765620042895]"
     ]
    },
    {
     "name": "stderr",
     "output_type": "stream",
     "text": [
      "hyperopt.tpe INFO  build_posterior_wrapper took 0.000000 seconds\n",
      "hyperopt.tpe INFO  TPE using 840/840 trials with best loss 0.835577\n",
      "py4j.clientserver INFO  Closing down clientserver connection\n"
     ]
    },
    {
     "name": "stdout",
     "output_type": "stream",
     "text": [
      " 82%|████████▏ | 823/1000 [13:50:35<1:52:40, 38.19s/trial, best loss: 0.8355765620042895]"
     ]
    },
    {
     "name": "stderr",
     "output_type": "stream",
     "text": [
      "hyperopt.tpe INFO  build_posterior_wrapper took 0.000000 seconds\n",
      "hyperopt.tpe INFO  TPE using 841/841 trials with best loss 0.835577\n",
      "py4j.clientserver INFO  Closing down clientserver connection\n"
     ]
    },
    {
     "name": "stdout",
     "output_type": "stream",
     "text": [
      " 82%|████████▏ | 824/1000 [13:50:40<1:22:12, 28.02s/trial, best loss: 0.8355765620042895]"
     ]
    },
    {
     "name": "stderr",
     "output_type": "stream",
     "text": [
      "hyperopt.tpe INFO  build_posterior_wrapper took 0.000000 seconds\n",
      "hyperopt.tpe INFO  TPE using 842/842 trials with best loss 0.835577\n",
      "py4j.clientserver INFO  Closing down clientserver connection\n"
     ]
    },
    {
     "name": "stdout",
     "output_type": "stream",
     "text": [
      " 82%|████████▎ | 825/1000 [13:50:57<1:12:23, 24.82s/trial, best loss: 0.8355765620042895]"
     ]
    },
    {
     "name": "stderr",
     "output_type": "stream",
     "text": [
      "hyperopt.tpe INFO  build_posterior_wrapper took 0.000000 seconds\n",
      "hyperopt.tpe INFO  TPE using 843/843 trials with best loss 0.835577\n",
      "py4j.clientserver INFO  Closing down clientserver connection\n"
     ]
    },
    {
     "name": "stdout",
     "output_type": "stream",
     "text": [
      " 83%|████████▎ | 826/1000 [13:51:15<1:06:21, 22.88s/trial, best loss: 0.8355765620042895]"
     ]
    },
    {
     "name": "stderr",
     "output_type": "stream",
     "text": [
      "hyperopt.tpe INFO  build_posterior_wrapper took 0.000000 seconds\n",
      "hyperopt.tpe INFO  TPE using 844/844 trials with best loss 0.835577\n",
      "py4j.clientserver INFO  Closing down clientserver connection\n"
     ]
    },
    {
     "name": "stdout",
     "output_type": "stream",
     "text": [
      " 83%|████████▎ | 827/1000 [13:52:00<1:24:42, 29.38s/trial, best loss: 0.8355765620042895]"
     ]
    },
    {
     "name": "stderr",
     "output_type": "stream",
     "text": [
      "hyperopt.tpe INFO  build_posterior_wrapper took 0.000000 seconds\n",
      "hyperopt.tpe INFO  TPE using 845/845 trials with best loss 0.835577\n",
      "py4j.clientserver INFO  Closing down clientserver connection\n"
     ]
    },
    {
     "name": "stdout",
     "output_type": "stream",
     "text": [
      " 83%|████████▎ | 828/1000 [13:55:08<3:40:22, 76.88s/trial, best loss: 0.8355765620042895]"
     ]
    },
    {
     "name": "stderr",
     "output_type": "stream",
     "text": [
      "hyperopt.tpe INFO  build_posterior_wrapper took 0.000000 seconds\n",
      "hyperopt.tpe INFO  TPE using 846/846 trials with best loss 0.835577\n",
      "py4j.clientserver INFO  Closing down clientserver connection\n"
     ]
    },
    {
     "name": "stdout",
     "output_type": "stream",
     "text": [
      " 83%|████████▎ | 829/1000 [14:06:59<12:41:52, 267.33s/trial, best loss: 0.8355765620042895]"
     ]
    },
    {
     "name": "stderr",
     "output_type": "stream",
     "text": [
      "hyperopt.tpe INFO  build_posterior_wrapper took 0.000000 seconds\n",
      "hyperopt.tpe INFO  TPE using 847/847 trials with best loss 0.835577\n",
      "py4j.clientserver INFO  Closing down clientserver connection\n"
     ]
    },
    {
     "name": "stdout",
     "output_type": "stream",
     "text": [
      " 83%|████████▎ | 830/1000 [14:07:19<9:06:40, 192.95s/trial, best loss: 0.8355765620042895] "
     ]
    },
    {
     "name": "stderr",
     "output_type": "stream",
     "text": [
      "hyperopt.tpe INFO  build_posterior_wrapper took 0.000000 seconds\n",
      "hyperopt.tpe INFO  TPE using 848/848 trials with best loss 0.835577\n",
      "py4j.clientserver INFO  Closing down clientserver connection\n"
     ]
    },
    {
     "name": "stdout",
     "output_type": "stream",
     "text": [
      " 83%|████████▎ | 831/1000 [14:07:35<6:34:14, 139.97s/trial, best loss: 0.8355765620042895]"
     ]
    },
    {
     "name": "stderr",
     "output_type": "stream",
     "text": [
      "hyperopt.tpe INFO  build_posterior_wrapper took 0.000000 seconds\n",
      "hyperopt.tpe INFO  TPE using 849/849 trials with best loss 0.835577\n",
      "py4j.clientserver INFO  Closing down clientserver connection\n"
     ]
    },
    {
     "name": "stdout",
     "output_type": "stream",
     "text": [
      " 83%|████████▎ | 832/1000 [14:08:28<5:18:37, 113.79s/trial, best loss: 0.8355765620042895]"
     ]
    },
    {
     "name": "stderr",
     "output_type": "stream",
     "text": [
      "hyperopt.tpe INFO  build_posterior_wrapper took 0.000000 seconds\n",
      "hyperopt.tpe INFO  TPE using 850/850 trials with best loss 0.835577\n",
      "py4j.clientserver INFO  Closing down clientserver connection\n"
     ]
    },
    {
     "name": "stdout",
     "output_type": "stream",
     "text": [
      " 83%|████████▎ | 833/1000 [14:08:38<3:50:19, 82.75s/trial, best loss: 0.8355765620042895] "
     ]
    },
    {
     "name": "stderr",
     "output_type": "stream",
     "text": [
      "hyperopt.tpe INFO  build_posterior_wrapper took 0.000000 seconds\n",
      "hyperopt.tpe INFO  TPE using 851/851 trials with best loss 0.835577\n",
      "py4j.clientserver INFO  Closing down clientserver connection\n"
     ]
    },
    {
     "name": "stdout",
     "output_type": "stream",
     "text": [
      " 83%|████████▎ | 834/1000 [14:08:49<2:49:38, 61.32s/trial, best loss: 0.8355765620042895]"
     ]
    },
    {
     "name": "stderr",
     "output_type": "stream",
     "text": [
      "hyperopt.tpe INFO  build_posterior_wrapper took 0.000000 seconds\n",
      "hyperopt.tpe INFO  TPE using 852/852 trials with best loss 0.835577\n",
      "py4j.clientserver INFO  Closing down clientserver connection\n"
     ]
    },
    {
     "name": "stdout",
     "output_type": "stream",
     "text": [
      " 84%|████████▎ | 835/1000 [14:09:08<2:13:12, 48.44s/trial, best loss: 0.8355765620042895]"
     ]
    },
    {
     "name": "stderr",
     "output_type": "stream",
     "text": [
      "hyperopt.tpe INFO  build_posterior_wrapper took 0.000000 seconds\n",
      "hyperopt.tpe INFO  TPE using 853/853 trials with best loss 0.835577\n",
      "py4j.clientserver INFO  Closing down clientserver connection\n"
     ]
    },
    {
     "name": "stdout",
     "output_type": "stream",
     "text": [
      " 84%|████████▎ | 836/1000 [14:09:14<1:37:50, 35.80s/trial, best loss: 0.8355765620042895]"
     ]
    },
    {
     "name": "stderr",
     "output_type": "stream",
     "text": [
      "hyperopt.tpe INFO  build_posterior_wrapper took 0.000000 seconds\n",
      "hyperopt.tpe INFO  TPE using 854/854 trials with best loss 0.835577\n",
      "py4j.clientserver INFO  Closing down clientserver connection\n"
     ]
    },
    {
     "name": "stdout",
     "output_type": "stream",
     "text": [
      " 84%|████████▎ | 837/1000 [14:09:32<1:23:03, 30.57s/trial, best loss: 0.8355765620042895]"
     ]
    },
    {
     "name": "stderr",
     "output_type": "stream",
     "text": [
      "hyperopt.tpe INFO  build_posterior_wrapper took 0.000000 seconds\n",
      "hyperopt.tpe INFO  TPE using 855/855 trials with best loss 0.835577\n",
      "py4j.clientserver INFO  Closing down clientserver connection\n"
     ]
    },
    {
     "name": "stdout",
     "output_type": "stream",
     "text": [
      " 84%|████████▍ | 838/1000 [14:10:27<1:42:09, 37.84s/trial, best loss: 0.8355765620042895]"
     ]
    },
    {
     "name": "stderr",
     "output_type": "stream",
     "text": [
      "hyperopt.tpe INFO  build_posterior_wrapper took 0.000000 seconds\n",
      "hyperopt.tpe INFO  TPE using 856/856 trials with best loss 0.835577\n",
      "py4j.clientserver INFO  Closing down clientserver connection\n"
     ]
    },
    {
     "name": "stdout",
     "output_type": "stream",
     "text": [
      " 84%|████████▍ | 839/1000 [14:10:40<1:20:58, 30.18s/trial, best loss: 0.8355765620042895]"
     ]
    },
    {
     "name": "stderr",
     "output_type": "stream",
     "text": [
      "hyperopt.tpe INFO  build_posterior_wrapper took 0.000000 seconds\n",
      "hyperopt.tpe INFO  TPE using 857/857 trials with best loss 0.835577\n",
      "py4j.clientserver INFO  Closing down clientserver connection\n"
     ]
    },
    {
     "name": "stdout",
     "output_type": "stream",
     "text": [
      " 84%|████████▍ | 840/1000 [14:12:12<2:10:33, 48.96s/trial, best loss: 0.8355765620042895]"
     ]
    },
    {
     "name": "stderr",
     "output_type": "stream",
     "text": [
      "hyperopt.tpe INFO  build_posterior_wrapper took 0.000000 seconds\n",
      "hyperopt.tpe INFO  TPE using 858/858 trials with best loss 0.835577\n",
      "py4j.clientserver INFO  Closing down clientserver connection\n"
     ]
    },
    {
     "name": "stdout",
     "output_type": "stream",
     "text": [
      " 84%|████████▍ | 841/1000 [14:12:24<1:39:47, 37.66s/trial, best loss: 0.8355765620042895]"
     ]
    },
    {
     "name": "stderr",
     "output_type": "stream",
     "text": [
      "hyperopt.tpe INFO  build_posterior_wrapper took 0.000000 seconds\n",
      "hyperopt.tpe INFO  TPE using 859/859 trials with best loss 0.835577\n",
      "py4j.clientserver INFO  Closing down clientserver connection\n"
     ]
    },
    {
     "name": "stdout",
     "output_type": "stream",
     "text": [
      " 84%|████████▍ | 842/1000 [14:12:29<1:13:36, 27.95s/trial, best loss: 0.8355765620042895]"
     ]
    },
    {
     "name": "stderr",
     "output_type": "stream",
     "text": [
      "hyperopt.tpe INFO  build_posterior_wrapper took 0.000000 seconds\n",
      "hyperopt.tpe INFO  TPE using 860/860 trials with best loss 0.835577\n",
      "py4j.clientserver INFO  Closing down clientserver connection\n"
     ]
    },
    {
     "name": "stdout",
     "output_type": "stream",
     "text": [
      " 84%|████████▍ | 843/1000 [14:12:37<57:43, 22.06s/trial, best loss: 0.8355765620042895]  "
     ]
    },
    {
     "name": "stderr",
     "output_type": "stream",
     "text": [
      "hyperopt.tpe INFO  build_posterior_wrapper took 0.000000 seconds\n",
      "hyperopt.tpe INFO  TPE using 861/861 trials with best loss 0.835577\n",
      "py4j.clientserver INFO  Closing down clientserver connection\n"
     ]
    },
    {
     "name": "stdout",
     "output_type": "stream",
     "text": [
      " 84%|████████▍ | 844/1000 [14:13:00<57:36, 22.16s/trial, best loss: 0.8355765620042895]"
     ]
    },
    {
     "name": "stderr",
     "output_type": "stream",
     "text": [
      "hyperopt.tpe INFO  build_posterior_wrapper took 0.000000 seconds\n",
      "hyperopt.tpe INFO  TPE using 862/862 trials with best loss 0.835577\n",
      "py4j.clientserver INFO  Closing down clientserver connection\n"
     ]
    },
    {
     "name": "stdout",
     "output_type": "stream",
     "text": [
      " 84%|████████▍ | 845/1000 [14:14:49<2:04:35, 48.23s/trial, best loss: 0.8355765620042895]"
     ]
    },
    {
     "name": "stderr",
     "output_type": "stream",
     "text": [
      "hyperopt.tpe INFO  build_posterior_wrapper took 0.000000 seconds\n",
      "hyperopt.tpe INFO  TPE using 863/863 trials with best loss 0.835577\n",
      "py4j.clientserver INFO  Closing down clientserver connection\n"
     ]
    },
    {
     "name": "stdout",
     "output_type": "stream",
     "text": [
      " 85%|████████▍ | 846/1000 [14:16:42<2:53:38, 67.65s/trial, best loss: 0.8355765620042895]"
     ]
    },
    {
     "name": "stderr",
     "output_type": "stream",
     "text": [
      "hyperopt.tpe INFO  build_posterior_wrapper took 0.000000 seconds\n",
      "hyperopt.tpe INFO  TPE using 864/864 trials with best loss 0.835577\n",
      "py4j.clientserver INFO  Closing down clientserver connection\n"
     ]
    },
    {
     "name": "stdout",
     "output_type": "stream",
     "text": [
      " 85%|████████▍ | 847/1000 [14:28:02<10:41:17, 251.49s/trial, best loss: 0.8355765620042895]"
     ]
    },
    {
     "name": "stderr",
     "output_type": "stream",
     "text": [
      "hyperopt.tpe INFO  build_posterior_wrapper took 0.000000 seconds\n",
      "hyperopt.tpe INFO  TPE using 865/865 trials with best loss 0.835577\n",
      "py4j.clientserver INFO  Closing down clientserver connection\n"
     ]
    },
    {
     "name": "stdout",
     "output_type": "stream",
     "text": [
      " 85%|████████▍ | 848/1000 [14:28:21<7:40:40, 181.85s/trial, best loss: 0.8355765620042895] "
     ]
    },
    {
     "name": "stderr",
     "output_type": "stream",
     "text": [
      "hyperopt.tpe INFO  build_posterior_wrapper took 0.000000 seconds\n",
      "hyperopt.tpe INFO  TPE using 866/866 trials with best loss 0.835577\n",
      "py4j.clientserver INFO  Closing down clientserver connection\n"
     ]
    },
    {
     "name": "stdout",
     "output_type": "stream",
     "text": [
      " 85%|████████▍ | 849/1000 [14:28:40<5:34:12, 132.80s/trial, best loss: 0.8355765620042895]"
     ]
    },
    {
     "name": "stderr",
     "output_type": "stream",
     "text": [
      "hyperopt.tpe INFO  build_posterior_wrapper took 0.000000 seconds\n",
      "hyperopt.tpe INFO  TPE using 867/867 trials with best loss 0.835577\n",
      "py4j.clientserver INFO  Closing down clientserver connection\n"
     ]
    },
    {
     "name": "stdout",
     "output_type": "stream",
     "text": [
      " 85%|████████▌ | 850/1000 [14:29:35<4:34:03, 109.62s/trial, best loss: 0.8355765620042895]"
     ]
    },
    {
     "name": "stderr",
     "output_type": "stream",
     "text": [
      "hyperopt.tpe INFO  build_posterior_wrapper took 0.000000 seconds\n",
      "hyperopt.tpe INFO  TPE using 868/868 trials with best loss 0.835577\n",
      "py4j.clientserver INFO  Closing down clientserver connection\n"
     ]
    },
    {
     "name": "stdout",
     "output_type": "stream",
     "text": [
      " 85%|████████▌ | 851/1000 [14:29:47<3:18:59, 80.13s/trial, best loss: 0.8355765620042895] "
     ]
    },
    {
     "name": "stderr",
     "output_type": "stream",
     "text": [
      "hyperopt.tpe INFO  build_posterior_wrapper took 0.000000 seconds\n",
      "hyperopt.tpe INFO  TPE using 869/869 trials with best loss 0.835577\n",
      "py4j.clientserver INFO  Closing down clientserver connection\n"
     ]
    },
    {
     "name": "stdout",
     "output_type": "stream",
     "text": [
      " 85%|████████▌ | 852/1000 [14:30:02<2:29:42, 60.69s/trial, best loss: 0.8355765620042895]"
     ]
    },
    {
     "name": "stderr",
     "output_type": "stream",
     "text": [
      "hyperopt.tpe INFO  build_posterior_wrapper took 0.000000 seconds\n",
      "hyperopt.tpe INFO  TPE using 870/870 trials with best loss 0.835577\n",
      "py4j.clientserver INFO  Closing down clientserver connection\n"
     ]
    },
    {
     "name": "stdout",
     "output_type": "stream",
     "text": [
      " 85%|████████▌ | 853/1000 [14:30:36<2:09:22, 52.80s/trial, best loss: 0.8355765620042895]"
     ]
    },
    {
     "name": "stderr",
     "output_type": "stream",
     "text": [
      "hyperopt.tpe INFO  build_posterior_wrapper took 0.000000 seconds\n",
      "hyperopt.tpe INFO  TPE using 871/871 trials with best loss 0.835577\n",
      "py4j.clientserver INFO  Closing down clientserver connection\n"
     ]
    },
    {
     "name": "stdout",
     "output_type": "stream",
     "text": [
      " 85%|████████▌ | 854/1000 [14:30:40<1:32:19, 37.94s/trial, best loss: 0.8355765620042895]"
     ]
    },
    {
     "name": "stderr",
     "output_type": "stream",
     "text": [
      "hyperopt.tpe INFO  build_posterior_wrapper took 0.000000 seconds\n",
      "hyperopt.tpe INFO  TPE using 872/872 trials with best loss 0.835577\n",
      "py4j.clientserver INFO  Closing down clientserver connection\n"
     ]
    },
    {
     "name": "stdout",
     "output_type": "stream",
     "text": [
      " 86%|████████▌ | 855/1000 [14:30:58<1:17:28, 32.06s/trial, best loss: 0.8355765620042895]"
     ]
    },
    {
     "name": "stderr",
     "output_type": "stream",
     "text": [
      "hyperopt.tpe INFO  build_posterior_wrapper took 0.000000 seconds\n",
      "hyperopt.tpe INFO  TPE using 873/873 trials with best loss 0.835577\n",
      "py4j.clientserver INFO  Closing down clientserver connection\n"
     ]
    },
    {
     "name": "stdout",
     "output_type": "stream",
     "text": [
      " 86%|████████▌ | 856/1000 [14:31:14<1:05:36, 27.34s/trial, best loss: 0.8355765620042895]"
     ]
    },
    {
     "name": "stderr",
     "output_type": "stream",
     "text": [
      "hyperopt.tpe INFO  build_posterior_wrapper took 0.000000 seconds\n",
      "hyperopt.tpe INFO  TPE using 874/874 trials with best loss 0.835577\n",
      "py4j.clientserver INFO  Closing down clientserver connection\n"
     ]
    },
    {
     "name": "stdout",
     "output_type": "stream",
     "text": [
      " 86%|████████▌ | 857/1000 [14:31:58<1:16:41, 32.18s/trial, best loss: 0.8355765620042895]"
     ]
    },
    {
     "name": "stderr",
     "output_type": "stream",
     "text": [
      "hyperopt.tpe INFO  build_posterior_wrapper took 0.000000 seconds\n",
      "hyperopt.tpe INFO  TPE using 875/875 trials with best loss 0.835577\n",
      "py4j.clientserver INFO  Closing down clientserver connection\n"
     ]
    },
    {
     "name": "stdout",
     "output_type": "stream",
     "text": [
      " 86%|████████▌ | 858/1000 [14:32:49<1:29:55, 38.00s/trial, best loss: 0.8355765620042895]"
     ]
    },
    {
     "name": "stderr",
     "output_type": "stream",
     "text": [
      "hyperopt.tpe INFO  build_posterior_wrapper took 0.000000 seconds\n",
      "hyperopt.tpe INFO  TPE using 876/876 trials with best loss 0.835577\n",
      "py4j.clientserver INFO  Closing down clientserver connection\n"
     ]
    },
    {
     "name": "stdout",
     "output_type": "stream",
     "text": [
      " 86%|████████▌ | 859/1000 [14:33:25<1:27:27, 37.22s/trial, best loss: 0.8355765620042895]"
     ]
    },
    {
     "name": "stderr",
     "output_type": "stream",
     "text": [
      "hyperopt.tpe INFO  build_posterior_wrapper took 0.000000 seconds\n",
      "hyperopt.tpe INFO  TPE using 877/877 trials with best loss 0.835577\n",
      "py4j.clientserver INFO  Closing down clientserver connection\n"
     ]
    },
    {
     "name": "stdout",
     "output_type": "stream",
     "text": [
      " 86%|████████▌ | 860/1000 [14:33:33<1:06:35, 28.54s/trial, best loss: 0.8355765620042895]"
     ]
    },
    {
     "name": "stderr",
     "output_type": "stream",
     "text": [
      "hyperopt.tpe INFO  build_posterior_wrapper took 0.000000 seconds\n",
      "hyperopt.tpe INFO  TPE using 878/878 trials with best loss 0.835577\n",
      "py4j.clientserver INFO  Closing down clientserver connection\n"
     ]
    },
    {
     "name": "stdout",
     "output_type": "stream",
     "text": [
      " 86%|████████▌ | 861/1000 [14:33:40<51:20, 22.16s/trial, best loss: 0.8355765620042895]  "
     ]
    },
    {
     "name": "stderr",
     "output_type": "stream",
     "text": [
      "hyperopt.tpe INFO  build_posterior_wrapper took 0.000000 seconds\n",
      "hyperopt.tpe INFO  TPE using 879/879 trials with best loss 0.835577\n",
      "py4j.clientserver INFO  Closing down clientserver connection\n"
     ]
    },
    {
     "name": "stdout",
     "output_type": "stream",
     "text": [
      " 86%|████████▌ | 862/1000 [14:33:44<37:55, 16.49s/trial, best loss: 0.8355765620042895]"
     ]
    },
    {
     "name": "stderr",
     "output_type": "stream",
     "text": [
      "hyperopt.tpe INFO  build_posterior_wrapper took 0.000000 seconds\n",
      "hyperopt.tpe INFO  TPE using 880/880 trials with best loss 0.835577\n",
      "py4j.clientserver INFO  Closing down clientserver connection\n"
     ]
    },
    {
     "name": "stdout",
     "output_type": "stream",
     "text": [
      " 86%|████████▋ | 863/1000 [14:35:15<1:29:12, 39.07s/trial, best loss: 0.8355765620042895]"
     ]
    },
    {
     "name": "stderr",
     "output_type": "stream",
     "text": [
      "hyperopt.tpe INFO  build_posterior_wrapper took 0.000000 seconds\n",
      "hyperopt.tpe INFO  TPE using 881/881 trials with best loss 0.835577\n",
      "py4j.clientserver INFO  Closing down clientserver connection\n"
     ]
    },
    {
     "name": "stdout",
     "output_type": "stream",
     "text": [
      " 86%|████████▋ | 864/1000 [14:37:12<2:21:27, 62.41s/trial, best loss: 0.8355765620042895]"
     ]
    },
    {
     "name": "stderr",
     "output_type": "stream",
     "text": [
      "hyperopt.tpe INFO  build_posterior_wrapper took 0.000000 seconds\n",
      "hyperopt.tpe INFO  TPE using 882/882 trials with best loss 0.835577\n",
      "py4j.clientserver INFO  Closing down clientserver connection\n"
     ]
    },
    {
     "name": "stdout",
     "output_type": "stream",
     "text": [
      " 86%|████████▋ | 865/1000 [14:48:29<9:15:24, 246.85s/trial, best loss: 0.8355765620042895]"
     ]
    },
    {
     "name": "stderr",
     "output_type": "stream",
     "text": [
      "hyperopt.tpe INFO  build_posterior_wrapper took 0.000000 seconds\n",
      "hyperopt.tpe INFO  TPE using 883/883 trials with best loss 0.835577\n",
      "py4j.clientserver INFO  Closing down clientserver connection\n"
     ]
    },
    {
     "name": "stdout",
     "output_type": "stream",
     "text": [
      " 87%|████████▋ | 866/1000 [14:49:25<7:03:05, 189.44s/trial, best loss: 0.8355765620042895]"
     ]
    },
    {
     "name": "stderr",
     "output_type": "stream",
     "text": [
      "hyperopt.tpe INFO  build_posterior_wrapper took 0.000000 seconds\n",
      "hyperopt.tpe INFO  TPE using 884/884 trials with best loss 0.835577\n",
      "py4j.clientserver INFO  Closing down clientserver connection\n"
     ]
    },
    {
     "name": "stdout",
     "output_type": "stream",
     "text": [
      " 87%|████████▋ | 867/1000 [14:49:38<5:02:49, 136.61s/trial, best loss: 0.8355765620042895]"
     ]
    },
    {
     "name": "stderr",
     "output_type": "stream",
     "text": [
      "hyperopt.tpe INFO  build_posterior_wrapper took 0.000000 seconds\n",
      "hyperopt.tpe INFO  TPE using 885/885 trials with best loss 0.835577\n",
      "py4j.clientserver INFO  Closing down clientserver connection\n"
     ]
    },
    {
     "name": "stdout",
     "output_type": "stream",
     "text": [
      " 87%|████████▋ | 868/1000 [14:50:00<3:44:28, 102.03s/trial, best loss: 0.8355765620042895]"
     ]
    },
    {
     "name": "stderr",
     "output_type": "stream",
     "text": [
      "hyperopt.tpe INFO  build_posterior_wrapper took 0.000000 seconds\n",
      "hyperopt.tpe INFO  TPE using 886/886 trials with best loss 0.835577\n",
      "py4j.clientserver INFO  Closing down clientserver connection\n"
     ]
    },
    {
     "name": "stdout",
     "output_type": "stream",
     "text": [
      " 87%|████████▋ | 869/1000 [14:50:09<2:42:02, 74.22s/trial, best loss: 0.8355765620042895] "
     ]
    },
    {
     "name": "stderr",
     "output_type": "stream",
     "text": [
      "hyperopt.tpe INFO  build_posterior_wrapper took 0.000000 seconds\n",
      "hyperopt.tpe INFO  TPE using 887/887 trials with best loss 0.835577\n",
      "py4j.clientserver INFO  Closing down clientserver connection\n"
     ]
    },
    {
     "name": "stdout",
     "output_type": "stream",
     "text": [
      " 87%|████████▋ | 870/1000 [14:50:33<2:08:24, 59.27s/trial, best loss: 0.8355765620042895]"
     ]
    },
    {
     "name": "stderr",
     "output_type": "stream",
     "text": [
      "hyperopt.tpe INFO  build_posterior_wrapper took 0.093741 seconds\n",
      "hyperopt.tpe INFO  TPE using 888/888 trials with best loss 0.835577\n",
      "py4j.clientserver INFO  Closing down clientserver connection\n"
     ]
    },
    {
     "name": "stdout",
     "output_type": "stream",
     "text": [
      " 87%|████████▋ | 871/1000 [14:51:02<1:47:31, 50.01s/trial, best loss: 0.8355765620042895]"
     ]
    },
    {
     "name": "stderr",
     "output_type": "stream",
     "text": [
      "py4j.clientserver INFO  Closing down clientserver connection\n"
     ]
    },
    {
     "name": "stdout",
     "output_type": "stream",
     "text": [
      " 87%|████████▋ | 872/1000 [14:51:03<1:15:19, 35.31s/trial, best loss: 0.8355765620042895]"
     ]
    },
    {
     "name": "stderr",
     "output_type": "stream",
     "text": [
      "hyperopt.tpe INFO  build_posterior_wrapper took 0.000000 seconds\n",
      "hyperopt.tpe INFO  TPE using 889/889 trials with best loss 0.835577\n",
      "hyperopt.tpe INFO  build_posterior_wrapper took 0.000000 seconds\n",
      "hyperopt.tpe INFO  TPE using 890/890 trials with best loss 0.835577\n",
      "py4j.clientserver INFO  Closing down clientserver connection\n"
     ]
    },
    {
     "name": "stdout",
     "output_type": "stream",
     "text": [
      " 87%|████████▋ | 873/1000 [14:51:24<1:06:03, 31.21s/trial, best loss: 0.8355765620042895]"
     ]
    },
    {
     "name": "stderr",
     "output_type": "stream",
     "text": [
      "hyperopt.tpe INFO  build_posterior_wrapper took 0.000000 seconds\n",
      "hyperopt.tpe INFO  TPE using 891/891 trials with best loss 0.835577\n",
      "py4j.clientserver INFO  Closing down clientserver connection\n"
     ]
    },
    {
     "name": "stdout",
     "output_type": "stream",
     "text": [
      " 87%|████████▋ | 874/1000 [14:51:34<51:45, 24.65s/trial, best loss: 0.8355765620042895]  "
     ]
    },
    {
     "name": "stderr",
     "output_type": "stream",
     "text": [
      "hyperopt.tpe INFO  build_posterior_wrapper took 0.000000 seconds\n",
      "hyperopt.tpe INFO  TPE using 892/892 trials with best loss 0.835577\n",
      "py4j.clientserver INFO  Closing down clientserver connection\n"
     ]
    },
    {
     "name": "stdout",
     "output_type": "stream",
     "text": [
      " 88%|████████▊ | 875/1000 [14:52:54<1:26:21, 41.45s/trial, best loss: 0.8355765620042895]"
     ]
    },
    {
     "name": "stderr",
     "output_type": "stream",
     "text": [
      "hyperopt.tpe INFO  build_posterior_wrapper took 0.000000 seconds\n",
      "hyperopt.tpe INFO  TPE using 893/893 trials with best loss 0.835577\n",
      "py4j.clientserver INFO  Closing down clientserver connection\n"
     ]
    },
    {
     "name": "stdout",
     "output_type": "stream",
     "text": [
      " 88%|████████▊ | 876/1000 [14:53:46<1:31:55, 44.48s/trial, best loss: 0.8355765620042895]"
     ]
    },
    {
     "name": "stderr",
     "output_type": "stream",
     "text": [
      "hyperopt.tpe INFO  build_posterior_wrapper took 0.000000 seconds\n",
      "hyperopt.tpe INFO  TPE using 894/894 trials with best loss 0.835577\n",
      "py4j.clientserver INFO  Closing down clientserver connection\n"
     ]
    },
    {
     "name": "stdout",
     "output_type": "stream",
     "text": [
      " 88%|████████▊ | 877/1000 [14:53:50<1:06:27, 32.42s/trial, best loss: 0.8355765620042895]"
     ]
    },
    {
     "name": "stderr",
     "output_type": "stream",
     "text": [
      "hyperopt.tpe INFO  build_posterior_wrapper took 0.000000 seconds\n",
      "hyperopt.tpe INFO  TPE using 895/895 trials with best loss 0.835577\n",
      "py4j.clientserver INFO  Closing down clientserver connection\n"
     ]
    },
    {
     "name": "stdout",
     "output_type": "stream",
     "text": [
      " 88%|████████▊ | 878/1000 [14:53:53<48:08, 23.67s/trial, best loss: 0.8355765620042895]  "
     ]
    },
    {
     "name": "stderr",
     "output_type": "stream",
     "text": [
      "hyperopt.tpe INFO  build_posterior_wrapper took 0.000000 seconds\n",
      "hyperopt.tpe INFO  TPE using 896/896 trials with best loss 0.835577\n",
      "py4j.clientserver INFO  Closing down clientserver connection\n"
     ]
    },
    {
     "name": "stdout",
     "output_type": "stream",
     "text": [
      " 88%|████████▊ | 879/1000 [14:54:08<42:05, 20.87s/trial, best loss: 0.8355765620042895]"
     ]
    },
    {
     "name": "stderr",
     "output_type": "stream",
     "text": [
      "hyperopt.tpe INFO  build_posterior_wrapper took 0.000000 seconds\n",
      "hyperopt.tpe INFO  TPE using 897/897 trials with best loss 0.835577\n",
      "py4j.clientserver INFO  Closing down clientserver connection\n"
     ]
    },
    {
     "name": "stdout",
     "output_type": "stream",
     "text": [
      " 88%|████████▊ | 880/1000 [14:54:10<30:34, 15.29s/trial, best loss: 0.8355765620042895]"
     ]
    },
    {
     "name": "stderr",
     "output_type": "stream",
     "text": [
      "hyperopt.tpe INFO  build_posterior_wrapper took 0.000000 seconds\n",
      "hyperopt.tpe INFO  TPE using 898/898 trials with best loss 0.835577\n",
      "py4j.clientserver INFO  Closing down clientserver connection\n"
     ]
    },
    {
     "name": "stdout",
     "output_type": "stream",
     "text": [
      " 88%|████████▊ | 881/1000 [14:55:38<1:13:21, 36.98s/trial, best loss: 0.8355765620042895]"
     ]
    },
    {
     "name": "stderr",
     "output_type": "stream",
     "text": [
      "hyperopt.tpe INFO  build_posterior_wrapper took 0.000000 seconds\n",
      "hyperopt.tpe INFO  TPE using 899/899 trials with best loss 0.835577\n",
      "py4j.clientserver INFO  Closing down clientserver connection\n"
     ]
    },
    {
     "name": "stdout",
     "output_type": "stream",
     "text": [
      " 88%|████████▊ | 882/1000 [14:57:49<2:08:12, 65.19s/trial, best loss: 0.8355765620042895]"
     ]
    },
    {
     "name": "stderr",
     "output_type": "stream",
     "text": [
      "hyperopt.tpe INFO  build_posterior_wrapper took 0.000000 seconds\n",
      "hyperopt.tpe INFO  TPE using 900/900 trials with best loss 0.835577\n",
      "py4j.clientserver INFO  Closing down clientserver connection\n"
     ]
    },
    {
     "name": "stdout",
     "output_type": "stream",
     "text": [
      " 88%|████████▊ | 883/1000 [15:09:07<8:06:04, 249.27s/trial, best loss: 0.8355765620042895]"
     ]
    },
    {
     "name": "stderr",
     "output_type": "stream",
     "text": [
      "hyperopt.tpe INFO  build_posterior_wrapper took 0.000000 seconds\n",
      "hyperopt.tpe INFO  TPE using 901/901 trials with best loss 0.835577\n",
      "py4j.clientserver INFO  Closing down clientserver connection\n"
     ]
    },
    {
     "name": "stdout",
     "output_type": "stream",
     "text": [
      " 88%|████████▊ | 884/1000 [15:10:03<6:09:35, 191.17s/trial, best loss: 0.8355765620042895]"
     ]
    },
    {
     "name": "stderr",
     "output_type": "stream",
     "text": [
      "hyperopt.tpe INFO  build_posterior_wrapper took 0.000000 seconds\n",
      "hyperopt.tpe INFO  TPE using 902/902 trials with best loss 0.835577\n",
      "py4j.clientserver INFO  Closing down clientserver connection\n"
     ]
    },
    {
     "name": "stdout",
     "output_type": "stream",
     "text": [
      " 88%|████████▊ | 885/1000 [15:10:33<4:33:25, 142.66s/trial, best loss: 0.8355765620042895]"
     ]
    },
    {
     "name": "stderr",
     "output_type": "stream",
     "text": [
      "hyperopt.tpe INFO  build_posterior_wrapper took 0.000000 seconds\n",
      "hyperopt.tpe INFO  TPE using 903/903 trials with best loss 0.835577\n",
      "py4j.clientserver INFO  Closing down clientserver connection\n"
     ]
    },
    {
     "name": "stdout",
     "output_type": "stream",
     "text": [
      " 89%|████████▊ | 886/1000 [15:10:53<3:21:22, 105.99s/trial, best loss: 0.8355765620042895]"
     ]
    },
    {
     "name": "stderr",
     "output_type": "stream",
     "text": [
      "hyperopt.tpe INFO  build_posterior_wrapper took 0.000000 seconds\n",
      "hyperopt.tpe INFO  TPE using 904/904 trials with best loss 0.835577\n",
      "py4j.clientserver INFO  Closing down clientserver connection\n"
     ]
    },
    {
     "name": "stdout",
     "output_type": "stream",
     "text": [
      " 89%|████████▊ | 887/1000 [15:11:05<2:26:42, 77.89s/trial, best loss: 0.8355765620042895] "
     ]
    },
    {
     "name": "stderr",
     "output_type": "stream",
     "text": [
      "hyperopt.tpe INFO  build_posterior_wrapper took 0.000000 seconds\n",
      "hyperopt.tpe INFO  TPE using 905/905 trials with best loss 0.835577\n",
      "py4j.clientserver INFO  Closing down clientserver connection\n"
     ]
    },
    {
     "name": "stdout",
     "output_type": "stream",
     "text": [
      " 89%|████████▉ | 888/1000 [15:12:04<2:14:38, 72.13s/trial, best loss: 0.8355765620042895]"
     ]
    },
    {
     "name": "stderr",
     "output_type": "stream",
     "text": [
      "hyperopt.tpe INFO  build_posterior_wrapper took 0.000000 seconds\n",
      "hyperopt.tpe INFO  TPE using 906/906 trials with best loss 0.835577\n",
      "py4j.clientserver INFO  Closing down clientserver connection\n"
     ]
    },
    {
     "name": "stdout",
     "output_type": "stream",
     "text": [
      " 89%|████████▉ | 889/1000 [15:12:10<1:36:53, 52.37s/trial, best loss: 0.8355765620042895]"
     ]
    },
    {
     "name": "stderr",
     "output_type": "stream",
     "text": [
      "hyperopt.tpe INFO  build_posterior_wrapper took 0.000000 seconds\n",
      "hyperopt.tpe INFO  TPE using 907/907 trials with best loss 0.835577\n",
      "py4j.clientserver INFO  Closing down clientserver connection\n"
     ]
    },
    {
     "name": "stdout",
     "output_type": "stream",
     "text": [
      " 89%|████████▉ | 890/1000 [15:12:33<1:19:30, 43.37s/trial, best loss: 0.8355765620042895]"
     ]
    },
    {
     "name": "stderr",
     "output_type": "stream",
     "text": [
      "hyperopt.tpe INFO  build_posterior_wrapper took 0.004001 seconds\n",
      "hyperopt.tpe INFO  TPE using 908/908 trials with best loss 0.835577\n",
      "py4j.clientserver INFO  Closing down clientserver connection\n"
     ]
    },
    {
     "name": "stdout",
     "output_type": "stream",
     "text": [
      " 89%|████████▉ | 891/1000 [15:12:46<1:02:26, 34.37s/trial, best loss: 0.8355765620042895]"
     ]
    },
    {
     "name": "stderr",
     "output_type": "stream",
     "text": [
      "hyperopt.tpe INFO  build_posterior_wrapper took 0.000000 seconds\n",
      "hyperopt.tpe INFO  TPE using 909/909 trials with best loss 0.835577\n",
      "py4j.clientserver INFO  Closing down clientserver connection\n"
     ]
    },
    {
     "name": "stdout",
     "output_type": "stream",
     "text": [
      " 89%|████████▉ | 892/1000 [15:12:59<50:31, 28.07s/trial, best loss: 0.8355765620042895]  "
     ]
    },
    {
     "name": "stderr",
     "output_type": "stream",
     "text": [
      "hyperopt.tpe INFO  build_posterior_wrapper took 0.000000 seconds\n",
      "hyperopt.tpe INFO  TPE using 910/910 trials with best loss 0.835577\n",
      "py4j.clientserver INFO  Closing down clientserver connection\n"
     ]
    },
    {
     "name": "stdout",
     "output_type": "stream",
     "text": [
      " 89%|████████▉ | 893/1000 [15:13:54<1:04:15, 36.03s/trial, best loss: 0.8355765620042895]"
     ]
    },
    {
     "name": "stderr",
     "output_type": "stream",
     "text": [
      "hyperopt.tpe INFO  build_posterior_wrapper took 0.000000 seconds\n",
      "hyperopt.tpe INFO  TPE using 911/911 trials with best loss 0.835577\n",
      "py4j.clientserver INFO  Closing down clientserver connection\n",
      "py4j.clientserver INFO  Closing down clientserver connection\n"
     ]
    },
    {
     "name": "stdout",
     "output_type": "stream",
     "text": [
      " 90%|████████▉ | 895/1000 [15:14:53<57:41, 32.97s/trial, best loss: 0.8355765620042895]  "
     ]
    },
    {
     "name": "stderr",
     "output_type": "stream",
     "text": [
      "hyperopt.tpe INFO  build_posterior_wrapper took 0.000000 seconds\n",
      "hyperopt.tpe INFO  TPE using 912/912 trials with best loss 0.835577\n",
      "py4j.clientserver INFO  Closing down clientserver connection\n"
     ]
    },
    {
     "name": "stdout",
     "output_type": "stream",
     "text": [
      " 90%|████████▉ | 896/1000 [15:14:54<43:30, 25.10s/trial, best loss: 0.8355765620042895]"
     ]
    },
    {
     "name": "stderr",
     "output_type": "stream",
     "text": [
      "hyperopt.tpe INFO  build_posterior_wrapper took 0.000000 seconds\n",
      "hyperopt.tpe INFO  TPE using 913/913 trials with best loss 0.835577\n",
      "hyperopt.tpe INFO  build_posterior_wrapper took 0.000000 seconds\n",
      "hyperopt.tpe INFO  TPE using 914/914 trials with best loss 0.835577\n",
      "py4j.clientserver INFO  Closing down clientserver connection\n"
     ]
    },
    {
     "name": "stdout",
     "output_type": "stream",
     "text": [
      " 90%|████████▉ | 897/1000 [15:15:11<39:17, 22.89s/trial, best loss: 0.8355765620042895]"
     ]
    },
    {
     "name": "stderr",
     "output_type": "stream",
     "text": [
      "hyperopt.tpe INFO  build_posterior_wrapper took 0.000000 seconds\n",
      "hyperopt.tpe INFO  TPE using 915/915 trials with best loss 0.835577\n",
      "py4j.clientserver INFO  Closing down clientserver connection\n"
     ]
    },
    {
     "name": "stdout",
     "output_type": "stream",
     "text": [
      " 90%|████████▉ | 898/1000 [15:15:14<29:50, 17.56s/trial, best loss: 0.8355765620042895]"
     ]
    },
    {
     "name": "stderr",
     "output_type": "stream",
     "text": [
      "hyperopt.tpe INFO  build_posterior_wrapper took 0.000000 seconds\n",
      "hyperopt.tpe INFO  TPE using 916/916 trials with best loss 0.835577\n",
      "py4j.clientserver INFO  Closing down clientserver connection\n"
     ]
    },
    {
     "name": "stdout",
     "output_type": "stream",
     "text": [
      " 90%|████████▉ | 899/1000 [15:17:21<1:21:11, 48.23s/trial, best loss: 0.8355765620042895]"
     ]
    },
    {
     "name": "stderr",
     "output_type": "stream",
     "text": [
      "hyperopt.tpe INFO  build_posterior_wrapper took 0.000000 seconds\n",
      "hyperopt.tpe INFO  TPE using 917/917 trials with best loss 0.835577\n",
      "py4j.clientserver INFO  Closing down clientserver connection\n"
     ]
    },
    {
     "name": "stdout",
     "output_type": "stream",
     "text": [
      " 90%|█████████ | 900/1000 [15:18:59<1:44:05, 62.46s/trial, best loss: 0.8355765620042895]"
     ]
    },
    {
     "name": "stderr",
     "output_type": "stream",
     "text": [
      "hyperopt.tpe INFO  build_posterior_wrapper took 0.000000 seconds\n",
      "hyperopt.tpe INFO  TPE using 918/918 trials with best loss 0.835577\n",
      "py4j.clientserver INFO  Closing down clientserver connection\n"
     ]
    },
    {
     "name": "stdout",
     "output_type": "stream",
     "text": [
      " 90%|█████████ | 901/1000 [15:30:37<6:46:57, 246.64s/trial, best loss: 0.8355765620042895]"
     ]
    },
    {
     "name": "stderr",
     "output_type": "stream",
     "text": [
      "hyperopt.tpe INFO  build_posterior_wrapper took 0.000000 seconds\n",
      "hyperopt.tpe INFO  TPE using 919/919 trials with best loss 0.835577\n",
      "py4j.clientserver INFO  Closing down clientserver connection\n"
     ]
    },
    {
     "name": "stdout",
     "output_type": "stream",
     "text": [
      " 90%|█████████ | 902/1000 [15:32:10<5:29:23, 201.67s/trial, best loss: 0.8355765620042895]"
     ]
    },
    {
     "name": "stderr",
     "output_type": "stream",
     "text": [
      "hyperopt.tpe INFO  build_posterior_wrapper took 0.000000 seconds\n",
      "hyperopt.tpe INFO  TPE using 920/920 trials with best loss 0.835577\n",
      "py4j.clientserver INFO  Closing down clientserver connection\n"
     ]
    },
    {
     "name": "stdout",
     "output_type": "stream",
     "text": [
      " 90%|█████████ | 903/1000 [15:32:35<4:01:33, 149.42s/trial, best loss: 0.8355765620042895]"
     ]
    },
    {
     "name": "stderr",
     "output_type": "stream",
     "text": [
      "hyperopt.tpe INFO  build_posterior_wrapper took 0.000000 seconds\n",
      "hyperopt.tpe INFO  TPE using 921/921 trials with best loss 0.835577\n",
      "py4j.clientserver INFO  Closing down clientserver connection\n"
     ]
    },
    {
     "name": "stdout",
     "output_type": "stream",
     "text": [
      " 90%|█████████ | 904/1000 [15:32:44<2:52:37, 107.89s/trial, best loss: 0.8355765620042895]"
     ]
    },
    {
     "name": "stderr",
     "output_type": "stream",
     "text": [
      "hyperopt.tpe INFO  build_posterior_wrapper took 0.000000 seconds\n",
      "hyperopt.tpe INFO  TPE using 922/922 trials with best loss 0.835577\n",
      "py4j.clientserver INFO  Closing down clientserver connection\n"
     ]
    },
    {
     "name": "stdout",
     "output_type": "stream",
     "text": [
      " 90%|█████████ | 905/1000 [15:32:55<2:05:21, 79.18s/trial, best loss: 0.8355765620042895] "
     ]
    },
    {
     "name": "stderr",
     "output_type": "stream",
     "text": [
      "hyperopt.tpe INFO  build_posterior_wrapper took 0.000000 seconds\n",
      "hyperopt.tpe INFO  TPE using 923/923 trials with best loss 0.835577\n",
      "py4j.clientserver INFO  Closing down clientserver connection\n"
     ]
    },
    {
     "name": "stdout",
     "output_type": "stream",
     "text": [
      " 91%|█████████ | 906/1000 [15:33:49<1:52:04, 71.54s/trial, best loss: 0.8355765620042895]"
     ]
    },
    {
     "name": "stderr",
     "output_type": "stream",
     "text": [
      "hyperopt.tpe INFO  build_posterior_wrapper took 0.000000 seconds\n",
      "hyperopt.tpe INFO  TPE using 924/924 trials with best loss 0.835577\n",
      "py4j.clientserver INFO  Closing down clientserver connection\n"
     ]
    },
    {
     "name": "stdout",
     "output_type": "stream",
     "text": [
      " 91%|█████████ | 907/1000 [15:33:52<1:19:17, 51.15s/trial, best loss: 0.8355765620042895]"
     ]
    },
    {
     "name": "stderr",
     "output_type": "stream",
     "text": [
      "hyperopt.tpe INFO  build_posterior_wrapper took 0.000000 seconds\n",
      "hyperopt.tpe INFO  TPE using 925/925 trials with best loss 0.835577\n",
      "py4j.clientserver INFO  Closing down clientserver connection\n"
     ]
    },
    {
     "name": "stdout",
     "output_type": "stream",
     "text": [
      " 91%|█████████ | 908/1000 [15:34:27<1:10:47, 46.17s/trial, best loss: 0.8355765620042895]"
     ]
    },
    {
     "name": "stderr",
     "output_type": "stream",
     "text": [
      "hyperopt.tpe INFO  build_posterior_wrapper took 0.000000 seconds\n",
      "hyperopt.tpe INFO  TPE using 926/926 trials with best loss 0.835577\n",
      "py4j.clientserver INFO  Closing down clientserver connection\n"
     ]
    },
    {
     "name": "stdout",
     "output_type": "stream",
     "text": [
      " 91%|█████████ | 909/1000 [15:34:52<1:00:38, 39.98s/trial, best loss: 0.8355765620042895]"
     ]
    },
    {
     "name": "stderr",
     "output_type": "stream",
     "text": [
      "hyperopt.tpe INFO  build_posterior_wrapper took 0.000000 seconds\n",
      "hyperopt.tpe INFO  TPE using 927/927 trials with best loss 0.835577\n",
      "py4j.clientserver INFO  Closing down clientserver connection\n"
     ]
    },
    {
     "name": "stdout",
     "output_type": "stream",
     "text": [
      " 91%|█████████ | 910/1000 [15:35:24<56:10, 37.45s/trial, best loss: 0.8355765620042895]  "
     ]
    },
    {
     "name": "stderr",
     "output_type": "stream",
     "text": [
      "hyperopt.tpe INFO  build_posterior_wrapper took 0.000000 seconds\n",
      "hyperopt.tpe INFO  TPE using 928/928 trials with best loss 0.835577\n",
      "py4j.clientserver INFO  Closing down clientserver connection\n"
     ]
    },
    {
     "name": "stdout",
     "output_type": "stream",
     "text": [
      " 91%|█████████ | 911/1000 [15:35:44<47:57, 32.34s/trial, best loss: 0.8355765620042895]"
     ]
    },
    {
     "name": "stderr",
     "output_type": "stream",
     "text": [
      "hyperopt.tpe INFO  build_posterior_wrapper took 0.000000 seconds\n",
      "hyperopt.tpe INFO  TPE using 929/929 trials with best loss 0.835577\n",
      "py4j.clientserver INFO  Closing down clientserver connection\n"
     ]
    },
    {
     "name": "stdout",
     "output_type": "stream",
     "text": [
      " 91%|█████████ | 912/1000 [15:36:40<57:41, 39.34s/trial, best loss: 0.8355765620042895]"
     ]
    },
    {
     "name": "stderr",
     "output_type": "stream",
     "text": [
      "hyperopt.tpe INFO  build_posterior_wrapper took 0.000000 seconds\n",
      "hyperopt.tpe INFO  TPE using 930/930 trials with best loss 0.835577\n",
      "py4j.clientserver INFO  Closing down clientserver connection\n"
     ]
    },
    {
     "name": "stdout",
     "output_type": "stream",
     "text": [
      " 91%|█████████▏| 913/1000 [15:36:44<41:47, 28.82s/trial, best loss: 0.8355765620042895]"
     ]
    },
    {
     "name": "stderr",
     "output_type": "stream",
     "text": [
      "py4j.clientserver INFO  Closing down clientserver connection\n"
     ]
    },
    {
     "name": "stdout",
     "output_type": "stream",
     "text": [
      " 91%|█████████▏| 914/1000 [15:36:45<29:20, 20.48s/trial, best loss: 0.8355765620042895]"
     ]
    },
    {
     "name": "stderr",
     "output_type": "stream",
     "text": [
      "hyperopt.tpe INFO  build_posterior_wrapper took 0.000000 seconds\n",
      "hyperopt.tpe INFO  TPE using 931/931 trials with best loss 0.835577\n",
      "hyperopt.tpe INFO  build_posterior_wrapper took 0.000000 seconds\n",
      "hyperopt.tpe INFO  TPE using 932/932 trials with best loss 0.835577\n",
      "py4j.clientserver INFO  Closing down clientserver connection\n"
     ]
    },
    {
     "name": "stdout",
     "output_type": "stream",
     "text": [
      " 92%|█████████▏| 915/1000 [15:36:57<25:14, 17.81s/trial, best loss: 0.8355765620042895]"
     ]
    },
    {
     "name": "stderr",
     "output_type": "stream",
     "text": [
      "hyperopt.tpe INFO  build_posterior_wrapper took 0.000000 seconds\n",
      "hyperopt.tpe INFO  TPE using 933/933 trials with best loss 0.835577\n",
      "py4j.clientserver INFO  Closing down clientserver connection\n"
     ]
    },
    {
     "name": "stdout",
     "output_type": "stream",
     "text": [
      " 92%|█████████▏| 916/1000 [15:37:10<23:04, 16.48s/trial, best loss: 0.8355765620042895]"
     ]
    },
    {
     "name": "stderr",
     "output_type": "stream",
     "text": [
      "hyperopt.tpe INFO  build_posterior_wrapper took 0.000000 seconds\n",
      "hyperopt.tpe INFO  TPE using 934/934 trials with best loss 0.835577\n",
      "py4j.clientserver INFO  Closing down clientserver connection\n"
     ]
    },
    {
     "name": "stdout",
     "output_type": "stream",
     "text": [
      " 92%|█████████▏| 917/1000 [15:39:02<1:02:23, 45.10s/trial, best loss: 0.8355765620042895]"
     ]
    },
    {
     "name": "stderr",
     "output_type": "stream",
     "text": [
      "hyperopt.tpe INFO  build_posterior_wrapper took 0.000000 seconds\n",
      "hyperopt.tpe INFO  TPE using 935/935 trials with best loss 0.835577\n",
      "py4j.clientserver INFO  Closing down clientserver connection\n"
     ]
    },
    {
     "name": "stdout",
     "output_type": "stream",
     "text": [
      " 92%|█████████▏| 918/1000 [15:40:36<1:21:39, 59.74s/trial, best loss: 0.8355765620042895]"
     ]
    },
    {
     "name": "stderr",
     "output_type": "stream",
     "text": [
      "hyperopt.tpe INFO  build_posterior_wrapper took 0.000000 seconds\n",
      "hyperopt.tpe INFO  TPE using 936/936 trials with best loss 0.835577\n",
      "py4j.clientserver INFO  Closing down clientserver connection\n"
     ]
    },
    {
     "name": "stdout",
     "output_type": "stream",
     "text": [
      " 92%|█████████▏| 919/1000 [15:51:50<5:29:27, 244.04s/trial, best loss: 0.8355765620042895]"
     ]
    },
    {
     "name": "stderr",
     "output_type": "stream",
     "text": [
      "hyperopt.tpe INFO  build_posterior_wrapper took 0.000000 seconds\n",
      "hyperopt.tpe INFO  TPE using 937/937 trials with best loss 0.835577\n",
      "py4j.clientserver INFO  Closing down clientserver connection\n"
     ]
    },
    {
     "name": "stdout",
     "output_type": "stream",
     "text": [
      " 92%|█████████▏| 920/1000 [15:53:26<4:26:09, 199.62s/trial, best loss: 0.8355765620042895]"
     ]
    },
    {
     "name": "stderr",
     "output_type": "stream",
     "text": [
      "hyperopt.tpe INFO  build_posterior_wrapper took 0.000000 seconds\n",
      "hyperopt.tpe INFO  TPE using 938/938 trials with best loss 0.835577\n",
      "py4j.clientserver INFO  Closing down clientserver connection\n"
     ]
    },
    {
     "name": "stdout",
     "output_type": "stream",
     "text": [
      " 92%|█████████▏| 921/1000 [15:53:33<3:06:53, 141.94s/trial, best loss: 0.8355765620042895]"
     ]
    },
    {
     "name": "stderr",
     "output_type": "stream",
     "text": [
      "hyperopt.tpe INFO  build_posterior_wrapper took 0.000000 seconds\n",
      "hyperopt.tpe INFO  TPE using 939/939 trials with best loss 0.835577\n",
      "py4j.clientserver INFO  Closing down clientserver connection\n"
     ]
    },
    {
     "name": "stdout",
     "output_type": "stream",
     "text": [
      " 92%|█████████▏| 922/1000 [15:53:58<2:18:41, 106.69s/trial, best loss: 0.8355765620042895]"
     ]
    },
    {
     "name": "stderr",
     "output_type": "stream",
     "text": [
      "hyperopt.tpe INFO  build_posterior_wrapper took 0.002094 seconds\n",
      "hyperopt.tpe INFO  TPE using 940/940 trials with best loss 0.835577\n",
      "py4j.clientserver INFO  Closing down clientserver connection\n"
     ]
    },
    {
     "name": "stdout",
     "output_type": "stream",
     "text": [
      " 92%|█████████▏| 923/1000 [15:54:26<1:46:48, 83.22s/trial, best loss: 0.8355765620042895] "
     ]
    },
    {
     "name": "stderr",
     "output_type": "stream",
     "text": [
      "hyperopt.tpe INFO  build_posterior_wrapper took 0.000000 seconds\n",
      "hyperopt.tpe INFO  TPE using 941/941 trials with best loss 0.835577\n",
      "py4j.clientserver INFO  Closing down clientserver connection\n"
     ]
    },
    {
     "name": "stdout",
     "output_type": "stream",
     "text": [
      " 92%|█████████▏| 924/1000 [15:54:49<1:22:18, 64.98s/trial, best loss: 0.8355765620042895]"
     ]
    },
    {
     "name": "stderr",
     "output_type": "stream",
     "text": [
      "hyperopt.tpe INFO  build_posterior_wrapper took 0.000000 seconds\n",
      "hyperopt.tpe INFO  TPE using 942/942 trials with best loss 0.835577\n",
      "py4j.clientserver INFO  Closing down clientserver connection\n"
     ]
    },
    {
     "name": "stdout",
     "output_type": "stream",
     "text": [
      " 92%|█████████▎| 925/1000 [15:54:54<58:50, 47.07s/trial, best loss: 0.8355765620042895]  "
     ]
    },
    {
     "name": "stderr",
     "output_type": "stream",
     "text": [
      "hyperopt.tpe INFO  build_posterior_wrapper took 0.000000 seconds\n",
      "hyperopt.tpe INFO  TPE using 943/943 trials with best loss 0.835577\n",
      "py4j.clientserver INFO  Closing down clientserver connection\n"
     ]
    },
    {
     "name": "stdout",
     "output_type": "stream",
     "text": [
      " 93%|█████████▎| 926/1000 [15:55:22<51:09, 41.48s/trial, best loss: 0.8355765620042895]"
     ]
    },
    {
     "name": "stderr",
     "output_type": "stream",
     "text": [
      "hyperopt.tpe INFO  build_posterior_wrapper took 0.000000 seconds\n",
      "hyperopt.tpe INFO  TPE using 944/944 trials with best loss 0.835577\n",
      "py4j.clientserver INFO  Closing down clientserver connection\n"
     ]
    },
    {
     "name": "stdout",
     "output_type": "stream",
     "text": [
      " 93%|█████████▎| 927/1000 [15:56:31<1:00:26, 49.67s/trial, best loss: 0.8355765620042895]"
     ]
    },
    {
     "name": "stderr",
     "output_type": "stream",
     "text": [
      "hyperopt.tpe INFO  build_posterior_wrapper took 0.000000 seconds\n",
      "hyperopt.tpe INFO  TPE using 945/945 trials with best loss 0.835577\n",
      "py4j.clientserver INFO  Closing down clientserver connection\n"
     ]
    },
    {
     "name": "stdout",
     "output_type": "stream",
     "text": [
      " 93%|█████████▎| 928/1000 [15:56:57<50:54, 42.42s/trial, best loss: 0.8355765620042895]  "
     ]
    },
    {
     "name": "stderr",
     "output_type": "stream",
     "text": [
      "hyperopt.tpe INFO  build_posterior_wrapper took 0.000828 seconds\n",
      "hyperopt.tpe INFO  TPE using 946/946 trials with best loss 0.835577\n",
      "py4j.clientserver INFO  Closing down clientserver connection\n"
     ]
    },
    {
     "name": "stdout",
     "output_type": "stream",
     "text": [
      " 93%|█████████▎| 929/1000 [15:57:19<43:06, 36.43s/trial, best loss: 0.8355765620042895]"
     ]
    },
    {
     "name": "stderr",
     "output_type": "stream",
     "text": [
      "hyperopt.tpe INFO  build_posterior_wrapper took 0.000000 seconds\n",
      "hyperopt.tpe INFO  TPE using 947/947 trials with best loss 0.835577\n",
      "py4j.clientserver INFO  Closing down clientserver connection\n"
     ]
    },
    {
     "name": "stdout",
     "output_type": "stream",
     "text": [
      " 93%|█████████▎| 930/1000 [15:57:48<39:45, 34.08s/trial, best loss: 0.8355765620042895]"
     ]
    },
    {
     "name": "stderr",
     "output_type": "stream",
     "text": [
      "hyperopt.tpe INFO  build_posterior_wrapper took 0.116504 seconds\n",
      "hyperopt.tpe INFO  TPE using 948/948 trials with best loss 0.835577\n",
      "py4j.clientserver INFO  Closing down clientserver connection\n"
     ]
    },
    {
     "name": "stdout",
     "output_type": "stream",
     "text": [
      " 93%|█████████▎| 931/1000 [15:57:58<31:02, 26.99s/trial, best loss: 0.8355765620042895]"
     ]
    },
    {
     "name": "stderr",
     "output_type": "stream",
     "text": [
      "hyperopt.tpe INFO  build_posterior_wrapper took 0.000000 seconds\n",
      "hyperopt.tpe INFO  TPE using 949/949 trials with best loss 0.835577\n",
      "py4j.clientserver INFO  Closing down clientserver connection\n"
     ]
    },
    {
     "name": "stdout",
     "output_type": "stream",
     "text": [
      " 93%|█████████▎| 932/1000 [15:58:10<25:36, 22.60s/trial, best loss: 0.8355765620042895]"
     ]
    },
    {
     "name": "stderr",
     "output_type": "stream",
     "text": [
      "hyperopt.tpe INFO  build_posterior_wrapper took 0.000000 seconds\n",
      "hyperopt.tpe INFO  TPE using 950/950 trials with best loss 0.835577\n",
      "py4j.clientserver INFO  Closing down clientserver connection\n"
     ]
    },
    {
     "name": "stdout",
     "output_type": "stream",
     "text": [
      " 93%|█████████▎| 933/1000 [15:59:04<35:36, 31.89s/trial, best loss: 0.8355765620042895]"
     ]
    },
    {
     "name": "stderr",
     "output_type": "stream",
     "text": [
      "hyperopt.tpe INFO  build_posterior_wrapper took 0.001692 seconds\n",
      "hyperopt.tpe INFO  TPE using 951/951 trials with best loss 0.835577\n",
      "py4j.clientserver INFO  Closing down clientserver connection\n"
     ]
    },
    {
     "name": "stdout",
     "output_type": "stream",
     "text": [
      " 93%|█████████▎| 934/1000 [15:59:29<32:38, 29.68s/trial, best loss: 0.8355765620042895]"
     ]
    },
    {
     "name": "stderr",
     "output_type": "stream",
     "text": [
      "hyperopt.tpe INFO  build_posterior_wrapper took 0.004001 seconds\n",
      "hyperopt.tpe INFO  TPE using 952/952 trials with best loss 0.835577\n",
      "py4j.clientserver INFO  Closing down clientserver connection\n"
     ]
    },
    {
     "name": "stdout",
     "output_type": "stream",
     "text": [
      " 94%|█████████▎| 935/1000 [16:00:16<37:58, 35.06s/trial, best loss: 0.8355765620042895]"
     ]
    },
    {
     "name": "stderr",
     "output_type": "stream",
     "text": [
      "hyperopt.tpe INFO  build_posterior_wrapper took 0.000000 seconds\n",
      "hyperopt.tpe INFO  TPE using 953/953 trials with best loss 0.835577\n",
      "py4j.clientserver INFO  Closing down clientserver connection\n"
     ]
    },
    {
     "name": "stdout",
     "output_type": "stream",
     "text": [
      " 94%|█████████▎| 936/1000 [16:01:59<59:06, 55.41s/trial, best loss: 0.8355765620042895]"
     ]
    },
    {
     "name": "stderr",
     "output_type": "stream",
     "text": [
      "hyperopt.tpe INFO  build_posterior_wrapper took 0.000000 seconds\n",
      "hyperopt.tpe INFO  TPE using 954/954 trials with best loss 0.835577\n",
      "py4j.clientserver INFO  Closing down clientserver connection\n"
     ]
    },
    {
     "name": "stdout",
     "output_type": "stream",
     "text": [
      " 94%|█████████▎| 937/1000 [16:13:00<4:08:56, 237.08s/trial, best loss: 0.8355765620042895]"
     ]
    },
    {
     "name": "stderr",
     "output_type": "stream",
     "text": [
      "hyperopt.tpe INFO  build_posterior_wrapper took 0.004129 seconds\n",
      "hyperopt.tpe INFO  TPE using 955/955 trials with best loss 0.835577\n",
      "py4j.clientserver INFO  Closing down clientserver connection\n"
     ]
    },
    {
     "name": "stdout",
     "output_type": "stream",
     "text": [
      " 94%|█████████▍| 938/1000 [16:14:41<3:22:49, 196.28s/trial, best loss: 0.8355765620042895]"
     ]
    },
    {
     "name": "stderr",
     "output_type": "stream",
     "text": [
      "hyperopt.tpe INFO  build_posterior_wrapper took 0.000000 seconds\n",
      "hyperopt.tpe INFO  TPE using 956/956 trials with best loss 0.835577\n",
      "py4j.clientserver INFO  Closing down clientserver connection\n"
     ]
    },
    {
     "name": "stdout",
     "output_type": "stream",
     "text": [
      " 94%|█████████▍| 939/1000 [16:14:51<2:22:50, 140.50s/trial, best loss: 0.8355765620042895]"
     ]
    },
    {
     "name": "stderr",
     "output_type": "stream",
     "text": [
      "hyperopt.tpe INFO  build_posterior_wrapper took 0.000000 seconds\n",
      "hyperopt.tpe INFO  TPE using 957/957 trials with best loss 0.835577\n",
      "py4j.clientserver INFO  Closing down clientserver connection\n"
     ]
    },
    {
     "name": "stdout",
     "output_type": "stream",
     "text": [
      " 94%|█████████▍| 940/1000 [16:15:19<1:46:35, 106.59s/trial, best loss: 0.8355765620042895]"
     ]
    },
    {
     "name": "stderr",
     "output_type": "stream",
     "text": [
      "hyperopt.tpe INFO  build_posterior_wrapper took 0.003000 seconds\n",
      "hyperopt.tpe INFO  TPE using 958/958 trials with best loss 0.835577\n",
      "py4j.clientserver INFO  Closing down clientserver connection\n"
     ]
    },
    {
     "name": "stdout",
     "output_type": "stream",
     "text": [
      " 94%|█████████▍| 941/1000 [16:15:41<1:20:00, 81.36s/trial, best loss: 0.8355765620042895] "
     ]
    },
    {
     "name": "stderr",
     "output_type": "stream",
     "text": [
      "hyperopt.tpe INFO  build_posterior_wrapper took 0.004081 seconds\n",
      "hyperopt.tpe INFO  TPE using 959/959 trials with best loss 0.835577\n",
      "py4j.clientserver INFO  Closing down clientserver connection\n"
     ]
    },
    {
     "name": "stdout",
     "output_type": "stream",
     "text": [
      " 94%|█████████▍| 942/1000 [16:16:09<1:03:01, 65.20s/trial, best loss: 0.8355765620042895]"
     ]
    },
    {
     "name": "stderr",
     "output_type": "stream",
     "text": [
      "py4j.clientserver INFO  Closing down clientserver connection\n"
     ]
    },
    {
     "name": "stdout",
     "output_type": "stream",
     "text": [
      " 94%|█████████▍| 943/1000 [16:16:10<43:38, 45.94s/trial, best loss: 0.8355765620042895]  "
     ]
    },
    {
     "name": "stderr",
     "output_type": "stream",
     "text": [
      "hyperopt.tpe INFO  build_posterior_wrapper took 0.006422 seconds\n",
      "hyperopt.tpe INFO  TPE using 960/960 trials with best loss 0.835577\n",
      "hyperopt.tpe INFO  build_posterior_wrapper took 0.000000 seconds\n",
      "hyperopt.tpe INFO  TPE using 961/961 trials with best loss 0.835577\n",
      "py4j.clientserver INFO  Closing down clientserver connection\n"
     ]
    },
    {
     "name": "stdout",
     "output_type": "stream",
     "text": [
      " 94%|█████████▍| 944/1000 [16:17:08<46:13, 49.53s/trial, best loss: 0.8355765620042895]"
     ]
    },
    {
     "name": "stderr",
     "output_type": "stream",
     "text": [
      "hyperopt.tpe INFO  build_posterior_wrapper took 0.007959 seconds\n",
      "hyperopt.tpe INFO  TPE using 962/962 trials with best loss 0.835577\n",
      "py4j.clientserver INFO  Closing down clientserver connection\n"
     ]
    },
    {
     "name": "stdout",
     "output_type": "stream",
     "text": [
      " 94%|█████████▍| 945/1000 [16:18:13<49:50, 54.37s/trial, best loss: 0.8355765620042895]"
     ]
    },
    {
     "name": "stderr",
     "output_type": "stream",
     "text": [
      "hyperopt.tpe INFO  build_posterior_wrapper took 0.006826 seconds\n",
      "hyperopt.tpe INFO  TPE using 963/963 trials with best loss 0.835577\n",
      "py4j.clientserver INFO  Closing down clientserver connection\n"
     ]
    },
    {
     "name": "stdout",
     "output_type": "stream",
     "text": [
      " 95%|█████████▍| 946/1000 [16:18:21<36:13, 40.25s/trial, best loss: 0.8355765620042895]"
     ]
    },
    {
     "name": "stderr",
     "output_type": "stream",
     "text": [
      "hyperopt.tpe INFO  build_posterior_wrapper took 0.000000 seconds\n",
      "hyperopt.tpe INFO  TPE using 964/964 trials with best loss 0.835577\n",
      "py4j.clientserver INFO  Closing down clientserver connection\n"
     ]
    },
    {
     "name": "stdout",
     "output_type": "stream",
     "text": [
      " 95%|█████████▍| 947/1000 [16:18:22<25:13, 28.55s/trial, best loss: 0.8355765620042895]"
     ]
    },
    {
     "name": "stderr",
     "output_type": "stream",
     "text": [
      "hyperopt.tpe INFO  build_posterior_wrapper took 0.000000 seconds\n",
      "hyperopt.tpe INFO  TPE using 965/965 trials with best loss 0.835577\n",
      "py4j.clientserver INFO  Closing down clientserver connection\n"
     ]
    },
    {
     "name": "stdout",
     "output_type": "stream",
     "text": [
      " 95%|█████████▍| 948/1000 [16:18:48<23:56, 27.62s/trial, best loss: 0.8355765620042895]"
     ]
    },
    {
     "name": "stderr",
     "output_type": "stream",
     "text": [
      "hyperopt.tpe INFO  build_posterior_wrapper took 0.000000 seconds\n",
      "hyperopt.tpe INFO  TPE using 966/966 trials with best loss 0.835577\n",
      "py4j.clientserver INFO  Closing down clientserver connection\n"
     ]
    },
    {
     "name": "stdout",
     "output_type": "stream",
     "text": [
      " 95%|█████████▍| 949/1000 [16:19:19<24:27, 28.78s/trial, best loss: 0.8355765620042895]"
     ]
    },
    {
     "name": "stderr",
     "output_type": "stream",
     "text": [
      "hyperopt.tpe INFO  build_posterior_wrapper took 0.000000 seconds\n",
      "hyperopt.tpe INFO  TPE using 967/967 trials with best loss 0.835577\n",
      "py4j.clientserver INFO  Closing down clientserver connection\n"
     ]
    },
    {
     "name": "stdout",
     "output_type": "stream",
     "text": [
      " 95%|█████████▌| 950/1000 [16:20:21<32:12, 38.64s/trial, best loss: 0.8355389565211123]"
     ]
    },
    {
     "name": "stderr",
     "output_type": "stream",
     "text": [
      "hyperopt.tpe INFO  build_posterior_wrapper took 0.000000 seconds\n",
      "hyperopt.tpe INFO  TPE using 968/968 trials with best loss 0.835539\n",
      "py4j.clientserver INFO  Closing down clientserver connection\n"
     ]
    },
    {
     "name": "stdout",
     "output_type": "stream",
     "text": [
      " 95%|█████████▌| 951/1000 [16:20:29<24:08, 29.56s/trial, best loss: 0.8355389565211123]"
     ]
    },
    {
     "name": "stderr",
     "output_type": "stream",
     "text": [
      "hyperopt.tpe INFO  build_posterior_wrapper took 0.000000 seconds\n",
      "hyperopt.tpe INFO  TPE using 969/969 trials with best loss 0.835539\n",
      "py4j.clientserver INFO  Closing down clientserver connection\n"
     ]
    },
    {
     "name": "stdout",
     "output_type": "stream",
     "text": [
      " 95%|█████████▌| 952/1000 [16:20:55<22:40, 28.34s/trial, best loss: 0.8355389565211123]"
     ]
    },
    {
     "name": "stderr",
     "output_type": "stream",
     "text": [
      "hyperopt.tpe INFO  build_posterior_wrapper took 0.000000 seconds\n",
      "hyperopt.tpe INFO  TPE using 970/970 trials with best loss 0.835539\n",
      "py4j.clientserver INFO  Closing down clientserver connection\n"
     ]
    },
    {
     "name": "stdout",
     "output_type": "stream",
     "text": [
      " 95%|█████████▌| 953/1000 [16:21:16<20:34, 26.26s/trial, best loss: 0.8355389565211123]"
     ]
    },
    {
     "name": "stderr",
     "output_type": "stream",
     "text": [
      "hyperopt.tpe INFO  build_posterior_wrapper took 0.000000 seconds\n",
      "hyperopt.tpe INFO  TPE using 971/971 trials with best loss 0.835539\n",
      "py4j.clientserver INFO  Closing down clientserver connection\n"
     ]
    },
    {
     "name": "stdout",
     "output_type": "stream",
     "text": [
      " 95%|█████████▌| 954/1000 [16:23:33<45:39, 59.55s/trial, best loss: 0.8355389565211123]"
     ]
    },
    {
     "name": "stderr",
     "output_type": "stream",
     "text": [
      "hyperopt.tpe INFO  build_posterior_wrapper took 0.000000 seconds\n",
      "hyperopt.tpe INFO  TPE using 972/972 trials with best loss 0.835539\n",
      "py4j.clientserver INFO  Closing down clientserver connection\n"
     ]
    },
    {
     "name": "stdout",
     "output_type": "stream",
     "text": [
      " 96%|█████████▌| 955/1000 [16:33:46<2:49:13, 225.64s/trial, best loss: 0.8355389565211123]"
     ]
    },
    {
     "name": "stderr",
     "output_type": "stream",
     "text": [
      "hyperopt.tpe INFO  build_posterior_wrapper took 0.000000 seconds\n",
      "hyperopt.tpe INFO  TPE using 973/973 trials with best loss 0.835539\n",
      "py4j.clientserver INFO  Closing down clientserver connection\n"
     ]
    },
    {
     "name": "stdout",
     "output_type": "stream",
     "text": [
      " 96%|█████████▌| 956/1000 [16:36:03<2:25:49, 198.84s/trial, best loss: 0.8355389565211123]"
     ]
    },
    {
     "name": "stderr",
     "output_type": "stream",
     "text": [
      "hyperopt.tpe INFO  build_posterior_wrapper took 0.000000 seconds\n",
      "hyperopt.tpe INFO  TPE using 974/974 trials with best loss 0.835539\n",
      "py4j.clientserver INFO  Closing down clientserver connection\n"
     ]
    },
    {
     "name": "stdout",
     "output_type": "stream",
     "text": [
      " 96%|█████████▌| 957/1000 [16:36:12<1:41:45, 141.98s/trial, best loss: 0.8355389565211123]"
     ]
    },
    {
     "name": "stderr",
     "output_type": "stream",
     "text": [
      "hyperopt.tpe INFO  build_posterior_wrapper took 0.000000 seconds\n",
      "hyperopt.tpe INFO  TPE using 975/975 trials with best loss 0.835539\n",
      "py4j.clientserver INFO  Closing down clientserver connection\n"
     ]
    },
    {
     "name": "stdout",
     "output_type": "stream",
     "text": [
      " 96%|█████████▌| 958/1000 [16:36:48<1:17:02, 110.06s/trial, best loss: 0.8355389565211123]"
     ]
    },
    {
     "name": "stderr",
     "output_type": "stream",
     "text": [
      "hyperopt.tpe INFO  build_posterior_wrapper took 0.000000 seconds\n",
      "hyperopt.tpe INFO  TPE using 976/976 trials with best loss 0.835539\n",
      "py4j.clientserver INFO  Closing down clientserver connection\n"
     ]
    },
    {
     "name": "stdout",
     "output_type": "stream",
     "text": [
      " 96%|█████████▌| 959/1000 [16:36:50<53:06, 77.73s/trial, best loss: 0.8355389565211123]   "
     ]
    },
    {
     "name": "stderr",
     "output_type": "stream",
     "text": [
      "hyperopt.tpe INFO  build_posterior_wrapper took 0.015983 seconds\n",
      "hyperopt.tpe INFO  TPE using 977/977 trials with best loss 0.835539\n",
      "py4j.clientserver INFO  Closing down clientserver connection\n"
     ]
    },
    {
     "name": "stdout",
     "output_type": "stream",
     "text": [
      " 96%|█████████▌| 960/1000 [16:37:01<38:32, 57.81s/trial, best loss: 0.8355389565211123]"
     ]
    },
    {
     "name": "stderr",
     "output_type": "stream",
     "text": [
      "hyperopt.tpe INFO  build_posterior_wrapper took 0.000000 seconds\n",
      "hyperopt.tpe INFO  TPE using 978/978 trials with best loss 0.835539\n",
      "py4j.clientserver INFO  Closing down clientserver connection\n"
     ]
    },
    {
     "name": "stdout",
     "output_type": "stream",
     "text": [
      " 96%|█████████▌| 961/1000 [16:37:46<35:00, 53.86s/trial, best loss: 0.8355389565211123]"
     ]
    },
    {
     "name": "stderr",
     "output_type": "stream",
     "text": [
      "hyperopt.tpe INFO  build_posterior_wrapper took 0.000000 seconds\n",
      "hyperopt.tpe INFO  TPE using 979/979 trials with best loss 0.835539\n",
      "py4j.clientserver INFO  Closing down clientserver connection\n"
     ]
    },
    {
     "name": "stdout",
     "output_type": "stream",
     "text": [
      " 96%|█████████▌| 962/1000 [16:38:43<34:49, 54.99s/trial, best loss: 0.8355389565211123]"
     ]
    },
    {
     "name": "stderr",
     "output_type": "stream",
     "text": [
      "hyperopt.tpe INFO  build_posterior_wrapper took 0.000000 seconds\n",
      "hyperopt.tpe INFO  TPE using 980/980 trials with best loss 0.835539\n",
      "py4j.clientserver INFO  Closing down clientserver connection\n"
     ]
    },
    {
     "name": "stdout",
     "output_type": "stream",
     "text": [
      " 96%|█████████▋| 963/1000 [16:39:24<31:14, 50.66s/trial, best loss: 0.8355389565211123]"
     ]
    },
    {
     "name": "stderr",
     "output_type": "stream",
     "text": [
      "hyperopt.tpe INFO  build_posterior_wrapper took 0.003062 seconds\n",
      "hyperopt.tpe INFO  TPE using 981/981 trials with best loss 0.835539\n",
      "py4j.clientserver INFO  Closing down clientserver connection\n"
     ]
    },
    {
     "name": "stdout",
     "output_type": "stream",
     "text": [
      " 96%|█████████▋| 964/1000 [16:39:56<27:07, 45.22s/trial, best loss: 0.8355389565211123]"
     ]
    },
    {
     "name": "stderr",
     "output_type": "stream",
     "text": [
      "hyperopt.tpe INFO  build_posterior_wrapper took 0.002999 seconds\n",
      "hyperopt.tpe INFO  TPE using 982/982 trials with best loss 0.835539\n",
      "py4j.clientserver INFO  Closing down clientserver connection\n"
     ]
    },
    {
     "name": "stdout",
     "output_type": "stream",
     "text": [
      " 96%|█████████▋| 965/1000 [16:40:03<19:33, 33.54s/trial, best loss: 0.8355389565211123]"
     ]
    },
    {
     "name": "stderr",
     "output_type": "stream",
     "text": [
      "hyperopt.tpe INFO  build_posterior_wrapper took 0.000000 seconds\n",
      "hyperopt.tpe INFO  TPE using 983/983 trials with best loss 0.835539\n",
      "py4j.clientserver INFO  Closing down clientserver connection\n"
     ]
    },
    {
     "name": "stdout",
     "output_type": "stream",
     "text": [
      " 97%|█████████▋| 966/1000 [16:40:18<15:55, 28.09s/trial, best loss: 0.8355389565211123]"
     ]
    },
    {
     "name": "stderr",
     "output_type": "stream",
     "text": [
      "hyperopt.tpe INFO  build_posterior_wrapper took 0.003000 seconds\n",
      "hyperopt.tpe INFO  TPE using 984/984 trials with best loss 0.835539\n",
      "py4j.clientserver INFO  Closing down clientserver connection\n"
     ]
    },
    {
     "name": "stdout",
     "output_type": "stream",
     "text": [
      " 97%|█████████▋| 967/1000 [16:40:55<16:51, 30.64s/trial, best loss: 0.8355389565211123]"
     ]
    },
    {
     "name": "stderr",
     "output_type": "stream",
     "text": [
      "hyperopt.tpe INFO  build_posterior_wrapper took 0.002000 seconds\n",
      "hyperopt.tpe INFO  TPE using 985/985 trials with best loss 0.835539\n",
      "py4j.clientserver INFO  Closing down clientserver connection\n"
     ]
    },
    {
     "name": "stdout",
     "output_type": "stream",
     "text": [
      " 97%|█████████▋| 968/1000 [16:41:21<15:41, 29.41s/trial, best loss: 0.8355389565211123]"
     ]
    },
    {
     "name": "stderr",
     "output_type": "stream",
     "text": [
      "hyperopt.tpe INFO  build_posterior_wrapper took 0.002002 seconds\n",
      "hyperopt.tpe INFO  TPE using 986/986 trials with best loss 0.835539\n",
      "py4j.clientserver INFO  Closing down clientserver connection\n"
     ]
    },
    {
     "name": "stdout",
     "output_type": "stream",
     "text": [
      " 97%|█████████▋| 969/1000 [16:41:53<15:30, 30.03s/trial, best loss: 0.8355389565211123]"
     ]
    },
    {
     "name": "stderr",
     "output_type": "stream",
     "text": [
      "py4j.clientserver INFO  Closing down clientserver connection\n"
     ]
    },
    {
     "name": "stdout",
     "output_type": "stream",
     "text": [
      " 97%|█████████▋| 970/1000 [16:41:54<10:39, 21.32s/trial, best loss: 0.8355389565211123]"
     ]
    },
    {
     "name": "stderr",
     "output_type": "stream",
     "text": [
      "hyperopt.tpe INFO  build_posterior_wrapper took 0.000000 seconds\n",
      "hyperopt.tpe INFO  TPE using 987/987 trials with best loss 0.835539\n",
      "hyperopt.tpe INFO  build_posterior_wrapper took 0.000000 seconds\n",
      "hyperopt.tpe INFO  TPE using 988/988 trials with best loss 0.835539\n",
      "py4j.clientserver INFO  Closing down clientserver connection\n"
     ]
    },
    {
     "name": "stdout",
     "output_type": "stream",
     "text": [
      " 97%|█████████▋| 971/1000 [16:42:08<09:20, 19.32s/trial, best loss: 0.8355389565211123]"
     ]
    },
    {
     "name": "stderr",
     "output_type": "stream",
     "text": [
      "hyperopt.tpe INFO  build_posterior_wrapper took 0.000000 seconds\n",
      "hyperopt.tpe INFO  TPE using 989/989 trials with best loss 0.835539\n",
      "py4j.clientserver INFO  Closing down clientserver connection\n"
     ]
    },
    {
     "name": "stdout",
     "output_type": "stream",
     "text": [
      " 97%|█████████▋| 972/1000 [16:44:32<26:20, 56.45s/trial, best loss: 0.8355389565211123]"
     ]
    },
    {
     "name": "stderr",
     "output_type": "stream",
     "text": [
      "hyperopt.tpe INFO  build_posterior_wrapper took 0.000000 seconds\n",
      "hyperopt.tpe INFO  TPE using 990/990 trials with best loss 0.835539\n",
      "py4j.clientserver INFO  Closing down clientserver connection\n"
     ]
    },
    {
     "name": "stdout",
     "output_type": "stream",
     "text": [
      " 97%|█████████▋| 973/1000 [16:54:38<1:39:40, 221.50s/trial, best loss: 0.8355389565211123]"
     ]
    },
    {
     "name": "stderr",
     "output_type": "stream",
     "text": [
      "hyperopt.tpe INFO  build_posterior_wrapper took 0.000000 seconds\n",
      "hyperopt.tpe INFO  TPE using 991/991 trials with best loss 0.835539\n",
      "py4j.clientserver INFO  Closing down clientserver connection\n"
     ]
    },
    {
     "name": "stdout",
     "output_type": "stream",
     "text": [
      " 97%|█████████▋| 974/1000 [16:56:55<1:25:00, 196.18s/trial, best loss: 0.8355389565211123]"
     ]
    },
    {
     "name": "stderr",
     "output_type": "stream",
     "text": [
      "hyperopt.tpe INFO  build_posterior_wrapper took 0.000000 seconds\n",
      "hyperopt.tpe INFO  TPE using 992/992 trials with best loss 0.835539\n",
      "py4j.clientserver INFO  Closing down clientserver connection\n"
     ]
    },
    {
     "name": "stdout",
     "output_type": "stream",
     "text": [
      " 98%|█████████▊| 975/1000 [16:57:17<59:53, 143.75s/trial, best loss: 0.8355389565211123]  "
     ]
    },
    {
     "name": "stderr",
     "output_type": "stream",
     "text": [
      "hyperopt.tpe INFO  build_posterior_wrapper took 0.000000 seconds\n",
      "hyperopt.tpe INFO  TPE using 993/993 trials with best loss 0.835539\n",
      "py4j.clientserver INFO  Closing down clientserver connection\n"
     ]
    },
    {
     "name": "stdout",
     "output_type": "stream",
     "text": [
      " 98%|█████████▊| 976/1000 [16:57:28<41:36, 104.03s/trial, best loss: 0.8355389565211123]"
     ]
    },
    {
     "name": "stderr",
     "output_type": "stream",
     "text": [
      "hyperopt.tpe INFO  build_posterior_wrapper took 0.000000 seconds\n",
      "hyperopt.tpe INFO  TPE using 994/994 trials with best loss 0.835539\n",
      "py4j.clientserver INFO  Closing down clientserver connection\n"
     ]
    },
    {
     "name": "stdout",
     "output_type": "stream",
     "text": [
      " 98%|█████████▊| 977/1000 [16:57:37<28:59, 75.62s/trial, best loss: 0.8355389565211123] "
     ]
    },
    {
     "name": "stderr",
     "output_type": "stream",
     "text": [
      "hyperopt.tpe INFO  build_posterior_wrapper took 0.000000 seconds\n",
      "hyperopt.tpe INFO  TPE using 995/995 trials with best loss 0.835539\n",
      "py4j.clientserver INFO  Closing down clientserver connection\n"
     ]
    },
    {
     "name": "stdout",
     "output_type": "stream",
     "text": [
      " 98%|█████████▊| 978/1000 [16:58:03<22:12, 60.55s/trial, best loss: 0.8355389565211123]"
     ]
    },
    {
     "name": "stderr",
     "output_type": "stream",
     "text": [
      "hyperopt.tpe INFO  build_posterior_wrapper took 0.000000 seconds\n",
      "hyperopt.tpe INFO  TPE using 996/996 trials with best loss 0.835539\n"
     ]
    },
    {
     "name": "stdout",
     "output_type": "stream",
     "text": [
      " 98%|█████████▊| 979/1000 [16:58:59<20:46, 59.37s/trial, best loss: 0.8355389565211123]"
     ]
    },
    {
     "name": "stderr",
     "output_type": "stream",
     "text": [
      "py4j.clientserver INFO  Closing down clientserver connection\n",
      "--- Logging error ---\n",
      "\n",
      "Traceback (most recent call last):\n",
      "\n",
      "  File \"C:\\Users\\Team Epoch A\\Documents\\Epoch III\\citylearn-2022-starter-kit\\venv\\lib\\site-packages\\ipykernel\\iostream.py\", line 94, in _event_pipe\n",
      "    event_pipe = self._local.event_pipe\n",
      "\n",
      "AttributeError: '_thread._local' object has no attribute 'event_pipe'\n",
      "\n",
      "\n",
      "During handling of the above exception, another exception occurred:\n",
      "\n",
      "\n",
      "Traceback (most recent call last):\n",
      "\n",
      "  File \"C:\\Users\\Team Epoch A\\AppData\\Local\\Programs\\Python\\Python39\\lib\\logging\\__init__.py\", line 1086, in emit\n",
      "    stream.write(msg + self.terminator)\n",
      "\n",
      "  File \"C:\\Users\\Team Epoch A\\Documents\\Epoch III\\citylearn-2022-starter-kit\\venv\\lib\\site-packages\\ipykernel\\iostream.py\", line 555, in write\n",
      "    self._schedule_flush()\n",
      "\n",
      "  File \"C:\\Users\\Team Epoch A\\Documents\\Epoch III\\citylearn-2022-starter-kit\\venv\\lib\\site-packages\\ipykernel\\iostream.py\", line 461, in _schedule_flush\n",
      "    self.pub_thread.schedule(_schedule_in_thread)\n",
      "\n",
      "  File \"C:\\Users\\Team Epoch A\\Documents\\Epoch III\\citylearn-2022-starter-kit\\venv\\lib\\site-packages\\ipykernel\\iostream.py\", line 210, in schedule\n",
      "    self._event_pipe.send(b\"\")\n",
      "\n",
      "  File \"C:\\Users\\Team Epoch A\\Documents\\Epoch III\\citylearn-2022-starter-kit\\venv\\lib\\site-packages\\ipykernel\\iostream.py\", line 98, in _event_pipe\n",
      "    event_pipe = ctx.socket(zmq.PUSH)\n",
      "\n",
      "  File \"C:\\Users\\Team Epoch A\\Documents\\Epoch III\\citylearn-2022-starter-kit\\venv\\lib\\site-packages\\zmq\\sugar\\context.py\", line 291, in socket\n",
      "    s: ST = self._socket_class(  # set PYTHONTRACEMALLOC=2 to get the calling frame\n",
      "\n",
      "  File \"C:\\Users\\Team Epoch A\\Documents\\Epoch III\\citylearn-2022-starter-kit\\venv\\lib\\site-packages\\zmq\\sugar\\socket.py\", line 94, in __init__\n",
      "    super().__init__(*a, **kw)\n",
      "\n",
      "  File \"zmq\\backend\\cython\\socket.pyx\", line 336, in zmq.backend.cython.socket.Socket.__init__\n",
      "\n",
      "zmq.error.ZMQError: Too many open files\n",
      "\n",
      "Call stack:\n",
      "\n",
      "  File \"C:\\Users\\Team Epoch A\\Documents\\Epoch III\\citylearn-2022-starter-kit\\venv\\lib\\site-packages\\py4j\\clientserver.py\", line 646, in __del__\n",
      "    self.close()\n",
      "\n",
      "  File \"C:\\Users\\Team Epoch A\\Documents\\Epoch III\\citylearn-2022-starter-kit\\venv\\lib\\site-packages\\py4j\\clientserver.py\", line 543, in close\n",
      "    logger.info(\"Closing down clientserver connection\")\n",
      "\n",
      "Message: 'Closing down clientserver connection'\n",
      "Arguments: ()\n",
      "\n",
      "hyperopt.tpe INFO  build_posterior_wrapper took 0.000000 seconds\n",
      "hyperopt.tpe INFO  TPE using 997/997 trials with best loss 0.835539\n"
     ]
    },
    {
     "name": "stdout",
     "output_type": "stream",
     "text": [
      " 98%|█████████▊| 980/1000 [16:59:15<15:23, 46.16s/trial, best loss: 0.8355389565211123]"
     ]
    },
    {
     "name": "stderr",
     "output_type": "stream",
     "text": [
      "py4j.clientserver INFO  Closing down clientserver connection\n",
      "--- Logging error ---\n",
      "\n",
      "Traceback (most recent call last):\n",
      "\n",
      "  File \"C:\\Users\\Team Epoch A\\Documents\\Epoch III\\citylearn-2022-starter-kit\\venv\\lib\\site-packages\\ipykernel\\iostream.py\", line 94, in _event_pipe\n",
      "    event_pipe = self._local.event_pipe\n",
      "\n",
      "AttributeError: '_thread._local' object has no attribute 'event_pipe'\n",
      "\n",
      "\n",
      "During handling of the above exception, another exception occurred:\n",
      "\n",
      "\n",
      "Traceback (most recent call last):\n",
      "\n",
      "  File \"C:\\Users\\Team Epoch A\\AppData\\Local\\Programs\\Python\\Python39\\lib\\logging\\__init__.py\", line 1086, in emit\n",
      "    stream.write(msg + self.terminator)\n",
      "\n",
      "  File \"C:\\Users\\Team Epoch A\\Documents\\Epoch III\\citylearn-2022-starter-kit\\venv\\lib\\site-packages\\ipykernel\\iostream.py\", line 555, in write\n",
      "    self._schedule_flush()\n",
      "\n",
      "  File \"C:\\Users\\Team Epoch A\\Documents\\Epoch III\\citylearn-2022-starter-kit\\venv\\lib\\site-packages\\ipykernel\\iostream.py\", line 461, in _schedule_flush\n",
      "    self.pub_thread.schedule(_schedule_in_thread)\n",
      "\n",
      "  File \"C:\\Users\\Team Epoch A\\Documents\\Epoch III\\citylearn-2022-starter-kit\\venv\\lib\\site-packages\\ipykernel\\iostream.py\", line 210, in schedule\n",
      "    self._event_pipe.send(b\"\")\n",
      "\n",
      "  File \"C:\\Users\\Team Epoch A\\Documents\\Epoch III\\citylearn-2022-starter-kit\\venv\\lib\\site-packages\\ipykernel\\iostream.py\", line 98, in _event_pipe\n",
      "    event_pipe = ctx.socket(zmq.PUSH)\n",
      "\n",
      "  File \"C:\\Users\\Team Epoch A\\Documents\\Epoch III\\citylearn-2022-starter-kit\\venv\\lib\\site-packages\\zmq\\sugar\\context.py\", line 291, in socket\n",
      "    s: ST = self._socket_class(  # set PYTHONTRACEMALLOC=2 to get the calling frame\n",
      "\n",
      "  File \"C:\\Users\\Team Epoch A\\Documents\\Epoch III\\citylearn-2022-starter-kit\\venv\\lib\\site-packages\\zmq\\sugar\\socket.py\", line 94, in __init__\n",
      "    super().__init__(*a, **kw)\n",
      "\n",
      "  File \"zmq\\backend\\cython\\socket.pyx\", line 336, in zmq.backend.cython.socket.Socket.__init__\n",
      "\n",
      "zmq.error.ZMQError: Too many open files\n",
      "\n",
      "Call stack:\n",
      "\n",
      "  File \"C:\\Users\\Team Epoch A\\Documents\\Epoch III\\citylearn-2022-starter-kit\\venv\\lib\\site-packages\\py4j\\clientserver.py\", line 646, in __del__\n",
      "    self.close()\n",
      "\n",
      "  File \"C:\\Users\\Team Epoch A\\Documents\\Epoch III\\citylearn-2022-starter-kit\\venv\\lib\\site-packages\\py4j\\clientserver.py\", line 543, in close\n",
      "    logger.info(\"Closing down clientserver connection\")\n",
      "\n",
      "Message: 'Closing down clientserver connection'\n",
      "Arguments: ()\n",
      "\n",
      "hyperopt.tpe INFO  build_posterior_wrapper took 0.000000 seconds\n",
      "hyperopt.tpe INFO  TPE using 998/998 trials with best loss 0.835539\n"
     ]
    },
    {
     "name": "stdout",
     "output_type": "stream",
     "text": [
      " 98%|█████████▊| 981/1000 [17:00:03<14:50, 46.88s/trial, best loss: 0.8355389565211123]"
     ]
    },
    {
     "name": "stderr",
     "output_type": "stream",
     "text": [
      "py4j.clientserver INFO  Closing down clientserver connection\n",
      "--- Logging error ---\n",
      "\n",
      "Traceback (most recent call last):\n",
      "\n",
      "  File \"C:\\Users\\Team Epoch A\\Documents\\Epoch III\\citylearn-2022-starter-kit\\venv\\lib\\site-packages\\ipykernel\\iostream.py\", line 94, in _event_pipe\n",
      "    event_pipe = self._local.event_pipe\n",
      "\n",
      "AttributeError: '_thread._local' object has no attribute 'event_pipe'\n",
      "\n",
      "\n",
      "During handling of the above exception, another exception occurred:\n",
      "\n",
      "\n",
      "Traceback (most recent call last):\n",
      "\n",
      "  File \"C:\\Users\\Team Epoch A\\AppData\\Local\\Programs\\Python\\Python39\\lib\\logging\\__init__.py\", line 1086, in emit\n",
      "    stream.write(msg + self.terminator)\n",
      "\n",
      "  File \"C:\\Users\\Team Epoch A\\Documents\\Epoch III\\citylearn-2022-starter-kit\\venv\\lib\\site-packages\\ipykernel\\iostream.py\", line 555, in write\n",
      "    self._schedule_flush()\n",
      "\n",
      "  File \"C:\\Users\\Team Epoch A\\Documents\\Epoch III\\citylearn-2022-starter-kit\\venv\\lib\\site-packages\\ipykernel\\iostream.py\", line 461, in _schedule_flush\n",
      "    self.pub_thread.schedule(_schedule_in_thread)\n",
      "\n",
      "  File \"C:\\Users\\Team Epoch A\\Documents\\Epoch III\\citylearn-2022-starter-kit\\venv\\lib\\site-packages\\ipykernel\\iostream.py\", line 210, in schedule\n",
      "    self._event_pipe.send(b\"\")\n",
      "\n",
      "  File \"C:\\Users\\Team Epoch A\\Documents\\Epoch III\\citylearn-2022-starter-kit\\venv\\lib\\site-packages\\ipykernel\\iostream.py\", line 98, in _event_pipe\n",
      "    event_pipe = ctx.socket(zmq.PUSH)\n",
      "\n",
      "  File \"C:\\Users\\Team Epoch A\\Documents\\Epoch III\\citylearn-2022-starter-kit\\venv\\lib\\site-packages\\zmq\\sugar\\context.py\", line 291, in socket\n",
      "    s: ST = self._socket_class(  # set PYTHONTRACEMALLOC=2 to get the calling frame\n",
      "\n",
      "  File \"C:\\Users\\Team Epoch A\\Documents\\Epoch III\\citylearn-2022-starter-kit\\venv\\lib\\site-packages\\zmq\\sugar\\socket.py\", line 94, in __init__\n",
      "    super().__init__(*a, **kw)\n",
      "\n",
      "  File \"zmq\\backend\\cython\\socket.pyx\", line 336, in zmq.backend.cython.socket.Socket.__init__\n",
      "\n",
      "zmq.error.ZMQError: Too many open files\n",
      "\n",
      "Call stack:\n",
      "\n",
      "  File \"C:\\Users\\Team Epoch A\\Documents\\Epoch III\\citylearn-2022-starter-kit\\venv\\lib\\site-packages\\py4j\\clientserver.py\", line 646, in __del__\n",
      "    self.close()\n",
      "\n",
      "  File \"C:\\Users\\Team Epoch A\\Documents\\Epoch III\\citylearn-2022-starter-kit\\venv\\lib\\site-packages\\py4j\\clientserver.py\", line 543, in close\n",
      "    logger.info(\"Closing down clientserver connection\")\n",
      "\n",
      "Message: 'Closing down clientserver connection'\n",
      "Arguments: ()\n",
      "\n",
      "hyperopt.tpe INFO  build_posterior_wrapper took 0.000000 seconds\n",
      "hyperopt.tpe INFO  TPE using 999/999 trials with best loss 0.835539\n"
     ]
    },
    {
     "name": "stdout",
     "output_type": "stream",
     "text": [
      " 98%|█████████▊| 982/1000 [17:00:32<12:24, 41.33s/trial, best loss: 0.8355389565211123]"
     ]
    },
    {
     "name": "stderr",
     "output_type": "stream",
     "text": [
      "py4j.clientserver INFO  Closing down clientserver connection\n",
      "--- Logging error ---\n",
      "\n",
      "Traceback (most recent call last):\n",
      "\n",
      "  File \"C:\\Users\\Team Epoch A\\Documents\\Epoch III\\citylearn-2022-starter-kit\\venv\\lib\\site-packages\\ipykernel\\iostream.py\", line 94, in _event_pipe\n",
      "    event_pipe = self._local.event_pipe\n",
      "\n",
      "AttributeError: '_thread._local' object has no attribute 'event_pipe'\n",
      "\n",
      "\n",
      "During handling of the above exception, another exception occurred:\n",
      "\n",
      "\n",
      "Traceback (most recent call last):\n",
      "\n",
      "  File \"C:\\Users\\Team Epoch A\\AppData\\Local\\Programs\\Python\\Python39\\lib\\logging\\__init__.py\", line 1086, in emit\n",
      "    stream.write(msg + self.terminator)\n",
      "\n",
      "  File \"C:\\Users\\Team Epoch A\\Documents\\Epoch III\\citylearn-2022-starter-kit\\venv\\lib\\site-packages\\ipykernel\\iostream.py\", line 555, in write\n",
      "    self._schedule_flush()\n",
      "\n",
      "  File \"C:\\Users\\Team Epoch A\\Documents\\Epoch III\\citylearn-2022-starter-kit\\venv\\lib\\site-packages\\ipykernel\\iostream.py\", line 461, in _schedule_flush\n",
      "    self.pub_thread.schedule(_schedule_in_thread)\n",
      "\n",
      "  File \"C:\\Users\\Team Epoch A\\Documents\\Epoch III\\citylearn-2022-starter-kit\\venv\\lib\\site-packages\\ipykernel\\iostream.py\", line 210, in schedule\n",
      "    self._event_pipe.send(b\"\")\n",
      "\n",
      "  File \"C:\\Users\\Team Epoch A\\Documents\\Epoch III\\citylearn-2022-starter-kit\\venv\\lib\\site-packages\\ipykernel\\iostream.py\", line 98, in _event_pipe\n",
      "    event_pipe = ctx.socket(zmq.PUSH)\n",
      "\n",
      "  File \"C:\\Users\\Team Epoch A\\Documents\\Epoch III\\citylearn-2022-starter-kit\\venv\\lib\\site-packages\\zmq\\sugar\\context.py\", line 291, in socket\n",
      "    s: ST = self._socket_class(  # set PYTHONTRACEMALLOC=2 to get the calling frame\n",
      "\n",
      "  File \"C:\\Users\\Team Epoch A\\Documents\\Epoch III\\citylearn-2022-starter-kit\\venv\\lib\\site-packages\\zmq\\sugar\\socket.py\", line 94, in __init__\n",
      "    super().__init__(*a, **kw)\n",
      "\n",
      "  File \"zmq\\backend\\cython\\socket.pyx\", line 336, in zmq.backend.cython.socket.Socket.__init__\n",
      "\n",
      "zmq.error.ZMQError: Too many open files\n",
      "\n",
      "Call stack:\n",
      "\n",
      "  File \"C:\\Users\\Team Epoch A\\Documents\\Epoch III\\citylearn-2022-starter-kit\\venv\\lib\\site-packages\\py4j\\clientserver.py\", line 646, in __del__\n",
      "    self.close()\n",
      "\n",
      "  File \"C:\\Users\\Team Epoch A\\Documents\\Epoch III\\citylearn-2022-starter-kit\\venv\\lib\\site-packages\\py4j\\clientserver.py\", line 543, in close\n",
      "    logger.info(\"Closing down clientserver connection\")\n",
      "\n",
      "Message: 'Closing down clientserver connection'\n",
      "Arguments: ()\n",
      "\n"
     ]
    },
    {
     "name": "stdout",
     "output_type": "stream",
     "text": [
      " 98%|█████████▊| 983/1000 [17:00:39<08:47, 31.05s/trial, best loss: 0.8355389565211123]"
     ]
    },
    {
     "name": "stderr",
     "output_type": "stream",
     "text": [
      "py4j.clientserver INFO  Closing down clientserver connection\n",
      "--- Logging error ---\n",
      "\n",
      "Traceback (most recent call last):\n",
      "\n",
      "  File \"C:\\Users\\Team Epoch A\\Documents\\Epoch III\\citylearn-2022-starter-kit\\venv\\lib\\site-packages\\ipykernel\\iostream.py\", line 94, in _event_pipe\n",
      "    event_pipe = self._local.event_pipe\n",
      "\n",
      "AttributeError: '_thread._local' object has no attribute 'event_pipe'\n",
      "\n",
      "\n",
      "During handling of the above exception, another exception occurred:\n",
      "\n",
      "\n",
      "Traceback (most recent call last):\n",
      "\n",
      "  File \"C:\\Users\\Team Epoch A\\AppData\\Local\\Programs\\Python\\Python39\\lib\\logging\\__init__.py\", line 1086, in emit\n",
      "    stream.write(msg + self.terminator)\n",
      "\n",
      "  File \"C:\\Users\\Team Epoch A\\Documents\\Epoch III\\citylearn-2022-starter-kit\\venv\\lib\\site-packages\\ipykernel\\iostream.py\", line 555, in write\n",
      "    self._schedule_flush()\n",
      "\n",
      "  File \"C:\\Users\\Team Epoch A\\Documents\\Epoch III\\citylearn-2022-starter-kit\\venv\\lib\\site-packages\\ipykernel\\iostream.py\", line 461, in _schedule_flush\n",
      "    self.pub_thread.schedule(_schedule_in_thread)\n",
      "\n",
      "  File \"C:\\Users\\Team Epoch A\\Documents\\Epoch III\\citylearn-2022-starter-kit\\venv\\lib\\site-packages\\ipykernel\\iostream.py\", line 210, in schedule\n",
      "    self._event_pipe.send(b\"\")\n",
      "\n",
      "  File \"C:\\Users\\Team Epoch A\\Documents\\Epoch III\\citylearn-2022-starter-kit\\venv\\lib\\site-packages\\ipykernel\\iostream.py\", line 98, in _event_pipe\n",
      "    event_pipe = ctx.socket(zmq.PUSH)\n",
      "\n",
      "  File \"C:\\Users\\Team Epoch A\\Documents\\Epoch III\\citylearn-2022-starter-kit\\venv\\lib\\site-packages\\zmq\\sugar\\context.py\", line 291, in socket\n",
      "    s: ST = self._socket_class(  # set PYTHONTRACEMALLOC=2 to get the calling frame\n",
      "\n",
      "  File \"C:\\Users\\Team Epoch A\\Documents\\Epoch III\\citylearn-2022-starter-kit\\venv\\lib\\site-packages\\zmq\\sugar\\socket.py\", line 94, in __init__\n",
      "    super().__init__(*a, **kw)\n",
      "\n",
      "  File \"zmq\\backend\\cython\\socket.pyx\", line 336, in zmq.backend.cython.socket.Socket.__init__\n",
      "\n",
      "zmq.error.ZMQError: Too many open files\n",
      "\n",
      "Call stack:\n",
      "\n",
      "  File \"C:\\Users\\Team Epoch A\\Documents\\Epoch III\\citylearn-2022-starter-kit\\venv\\lib\\site-packages\\py4j\\clientserver.py\", line 646, in __del__\n",
      "    self.close()\n",
      "\n",
      "  File \"C:\\Users\\Team Epoch A\\Documents\\Epoch III\\citylearn-2022-starter-kit\\venv\\lib\\site-packages\\py4j\\clientserver.py\", line 543, in close\n",
      "    logger.info(\"Closing down clientserver connection\")\n",
      "\n",
      "Message: 'Closing down clientserver connection'\n",
      "Arguments: ()\n",
      "\n"
     ]
    },
    {
     "name": "stdout",
     "output_type": "stream",
     "text": [
      " 98%|█████████▊| 984/1000 [17:01:09<08:12, 30.79s/trial, best loss: 0.8355389565211123]"
     ]
    },
    {
     "name": "stderr",
     "output_type": "stream",
     "text": [
      "py4j.clientserver INFO  Closing down clientserver connection\n",
      "--- Logging error ---\n",
      "\n",
      "Traceback (most recent call last):\n",
      "\n",
      "  File \"C:\\Users\\Team Epoch A\\Documents\\Epoch III\\citylearn-2022-starter-kit\\venv\\lib\\site-packages\\ipykernel\\iostream.py\", line 94, in _event_pipe\n",
      "    event_pipe = self._local.event_pipe\n",
      "\n",
      "AttributeError: '_thread._local' object has no attribute 'event_pipe'\n",
      "\n",
      "\n",
      "During handling of the above exception, another exception occurred:\n",
      "\n",
      "\n",
      "Traceback (most recent call last):\n",
      "\n",
      "  File \"C:\\Users\\Team Epoch A\\AppData\\Local\\Programs\\Python\\Python39\\lib\\logging\\__init__.py\", line 1086, in emit\n",
      "    stream.write(msg + self.terminator)\n",
      "\n",
      "  File \"C:\\Users\\Team Epoch A\\Documents\\Epoch III\\citylearn-2022-starter-kit\\venv\\lib\\site-packages\\ipykernel\\iostream.py\", line 555, in write\n",
      "    self._schedule_flush()\n",
      "\n",
      "  File \"C:\\Users\\Team Epoch A\\Documents\\Epoch III\\citylearn-2022-starter-kit\\venv\\lib\\site-packages\\ipykernel\\iostream.py\", line 461, in _schedule_flush\n",
      "    self.pub_thread.schedule(_schedule_in_thread)\n",
      "\n",
      "  File \"C:\\Users\\Team Epoch A\\Documents\\Epoch III\\citylearn-2022-starter-kit\\venv\\lib\\site-packages\\ipykernel\\iostream.py\", line 210, in schedule\n",
      "    self._event_pipe.send(b\"\")\n",
      "\n",
      "  File \"C:\\Users\\Team Epoch A\\Documents\\Epoch III\\citylearn-2022-starter-kit\\venv\\lib\\site-packages\\ipykernel\\iostream.py\", line 98, in _event_pipe\n",
      "    event_pipe = ctx.socket(zmq.PUSH)\n",
      "\n",
      "  File \"C:\\Users\\Team Epoch A\\Documents\\Epoch III\\citylearn-2022-starter-kit\\venv\\lib\\site-packages\\zmq\\sugar\\context.py\", line 291, in socket\n",
      "    s: ST = self._socket_class(  # set PYTHONTRACEMALLOC=2 to get the calling frame\n",
      "\n",
      "  File \"C:\\Users\\Team Epoch A\\Documents\\Epoch III\\citylearn-2022-starter-kit\\venv\\lib\\site-packages\\zmq\\sugar\\socket.py\", line 94, in __init__\n",
      "    super().__init__(*a, **kw)\n",
      "\n",
      "  File \"zmq\\backend\\cython\\socket.pyx\", line 336, in zmq.backend.cython.socket.Socket.__init__\n",
      "\n",
      "zmq.error.ZMQError: Too many open files\n",
      "\n",
      "Call stack:\n",
      "\n",
      "  File \"C:\\Users\\Team Epoch A\\Documents\\Epoch III\\citylearn-2022-starter-kit\\venv\\lib\\site-packages\\py4j\\clientserver.py\", line 646, in __del__\n",
      "    self.close()\n",
      "\n",
      "  File \"C:\\Users\\Team Epoch A\\Documents\\Epoch III\\citylearn-2022-starter-kit\\venv\\lib\\site-packages\\py4j\\clientserver.py\", line 543, in close\n",
      "    logger.info(\"Closing down clientserver connection\")\n",
      "\n",
      "Message: 'Closing down clientserver connection'\n",
      "Arguments: ()\n",
      "\n"
     ]
    },
    {
     "name": "stdout",
     "output_type": "stream",
     "text": [
      " 98%|█████████▊| 985/1000 [17:02:01<09:18, 37.23s/trial, best loss: 0.8355389565211123]"
     ]
    },
    {
     "name": "stderr",
     "output_type": "stream",
     "text": [
      "py4j.clientserver INFO  Closing down clientserver connection\n",
      "--- Logging error ---\n",
      "\n",
      "Traceback (most recent call last):\n",
      "\n",
      "  File \"C:\\Users\\Team Epoch A\\Documents\\Epoch III\\citylearn-2022-starter-kit\\venv\\lib\\site-packages\\ipykernel\\iostream.py\", line 94, in _event_pipe\n",
      "    event_pipe = self._local.event_pipe\n",
      "\n",
      "AttributeError: '_thread._local' object has no attribute 'event_pipe'\n",
      "\n",
      "\n",
      "During handling of the above exception, another exception occurred:\n",
      "\n",
      "\n",
      "Traceback (most recent call last):\n",
      "\n",
      "  File \"C:\\Users\\Team Epoch A\\AppData\\Local\\Programs\\Python\\Python39\\lib\\logging\\__init__.py\", line 1086, in emit\n",
      "    stream.write(msg + self.terminator)\n",
      "\n",
      "  File \"C:\\Users\\Team Epoch A\\Documents\\Epoch III\\citylearn-2022-starter-kit\\venv\\lib\\site-packages\\ipykernel\\iostream.py\", line 555, in write\n",
      "    self._schedule_flush()\n",
      "\n",
      "  File \"C:\\Users\\Team Epoch A\\Documents\\Epoch III\\citylearn-2022-starter-kit\\venv\\lib\\site-packages\\ipykernel\\iostream.py\", line 461, in _schedule_flush\n",
      "    self.pub_thread.schedule(_schedule_in_thread)\n",
      "\n",
      "  File \"C:\\Users\\Team Epoch A\\Documents\\Epoch III\\citylearn-2022-starter-kit\\venv\\lib\\site-packages\\ipykernel\\iostream.py\", line 210, in schedule\n",
      "    self._event_pipe.send(b\"\")\n",
      "\n",
      "  File \"C:\\Users\\Team Epoch A\\Documents\\Epoch III\\citylearn-2022-starter-kit\\venv\\lib\\site-packages\\ipykernel\\iostream.py\", line 98, in _event_pipe\n",
      "    event_pipe = ctx.socket(zmq.PUSH)\n",
      "\n",
      "  File \"C:\\Users\\Team Epoch A\\Documents\\Epoch III\\citylearn-2022-starter-kit\\venv\\lib\\site-packages\\zmq\\sugar\\context.py\", line 291, in socket\n",
      "    s: ST = self._socket_class(  # set PYTHONTRACEMALLOC=2 to get the calling frame\n",
      "\n",
      "  File \"C:\\Users\\Team Epoch A\\Documents\\Epoch III\\citylearn-2022-starter-kit\\venv\\lib\\site-packages\\zmq\\sugar\\socket.py\", line 94, in __init__\n",
      "    super().__init__(*a, **kw)\n",
      "\n",
      "  File \"zmq\\backend\\cython\\socket.pyx\", line 336, in zmq.backend.cython.socket.Socket.__init__\n",
      "\n",
      "zmq.error.ZMQError: Too many open files\n",
      "\n",
      "Call stack:\n",
      "\n",
      "  File \"C:\\Users\\Team Epoch A\\Documents\\Epoch III\\citylearn-2022-starter-kit\\venv\\lib\\site-packages\\py4j\\clientserver.py\", line 646, in __del__\n",
      "    self.close()\n",
      "\n",
      "  File \"C:\\Users\\Team Epoch A\\Documents\\Epoch III\\citylearn-2022-starter-kit\\venv\\lib\\site-packages\\py4j\\clientserver.py\", line 543, in close\n",
      "    logger.info(\"Closing down clientserver connection\")\n",
      "\n",
      "Message: 'Closing down clientserver connection'\n",
      "Arguments: ()\n",
      "\n"
     ]
    },
    {
     "name": "stdout",
     "output_type": "stream",
     "text": [
      " 99%|█████████▊| 986/1000 [17:02:07<06:30, 27.88s/trial, best loss: 0.8355389565211123]"
     ]
    },
    {
     "name": "stderr",
     "output_type": "stream",
     "text": [
      "py4j.clientserver INFO  Closing down clientserver connection\n",
      "--- Logging error ---\n",
      "\n",
      "Traceback (most recent call last):\n",
      "\n",
      "  File \"C:\\Users\\Team Epoch A\\Documents\\Epoch III\\citylearn-2022-starter-kit\\venv\\lib\\site-packages\\ipykernel\\iostream.py\", line 94, in _event_pipe\n",
      "    event_pipe = self._local.event_pipe\n",
      "\n",
      "AttributeError: '_thread._local' object has no attribute 'event_pipe'\n",
      "\n",
      "\n",
      "During handling of the above exception, another exception occurred:\n",
      "\n",
      "\n",
      "Traceback (most recent call last):\n",
      "\n",
      "  File \"C:\\Users\\Team Epoch A\\AppData\\Local\\Programs\\Python\\Python39\\lib\\logging\\__init__.py\", line 1086, in emit\n",
      "    stream.write(msg + self.terminator)\n",
      "\n",
      "  File \"C:\\Users\\Team Epoch A\\Documents\\Epoch III\\citylearn-2022-starter-kit\\venv\\lib\\site-packages\\ipykernel\\iostream.py\", line 555, in write\n",
      "    self._schedule_flush()\n",
      "\n",
      "  File \"C:\\Users\\Team Epoch A\\Documents\\Epoch III\\citylearn-2022-starter-kit\\venv\\lib\\site-packages\\ipykernel\\iostream.py\", line 461, in _schedule_flush\n",
      "    self.pub_thread.schedule(_schedule_in_thread)\n",
      "\n",
      "  File \"C:\\Users\\Team Epoch A\\Documents\\Epoch III\\citylearn-2022-starter-kit\\venv\\lib\\site-packages\\ipykernel\\iostream.py\", line 210, in schedule\n",
      "    self._event_pipe.send(b\"\")\n",
      "\n",
      "  File \"C:\\Users\\Team Epoch A\\Documents\\Epoch III\\citylearn-2022-starter-kit\\venv\\lib\\site-packages\\ipykernel\\iostream.py\", line 98, in _event_pipe\n",
      "    event_pipe = ctx.socket(zmq.PUSH)\n",
      "\n",
      "  File \"C:\\Users\\Team Epoch A\\Documents\\Epoch III\\citylearn-2022-starter-kit\\venv\\lib\\site-packages\\zmq\\sugar\\context.py\", line 291, in socket\n",
      "    s: ST = self._socket_class(  # set PYTHONTRACEMALLOC=2 to get the calling frame\n",
      "\n",
      "  File \"C:\\Users\\Team Epoch A\\Documents\\Epoch III\\citylearn-2022-starter-kit\\venv\\lib\\site-packages\\zmq\\sugar\\socket.py\", line 94, in __init__\n",
      "    super().__init__(*a, **kw)\n",
      "\n",
      "  File \"zmq\\backend\\cython\\socket.pyx\", line 336, in zmq.backend.cython.socket.Socket.__init__\n",
      "\n",
      "zmq.error.ZMQError: Too many open files\n",
      "\n",
      "Call stack:\n",
      "\n",
      "  File \"C:\\Users\\Team Epoch A\\Documents\\Epoch III\\citylearn-2022-starter-kit\\venv\\lib\\site-packages\\py4j\\clientserver.py\", line 646, in __del__\n",
      "    self.close()\n",
      "\n",
      "  File \"C:\\Users\\Team Epoch A\\Documents\\Epoch III\\citylearn-2022-starter-kit\\venv\\lib\\site-packages\\py4j\\clientserver.py\", line 543, in close\n",
      "    logger.info(\"Closing down clientserver connection\")\n",
      "\n",
      "Message: 'Closing down clientserver connection'\n",
      "Arguments: ()\n",
      "\n"
     ]
    },
    {
     "name": "stdout",
     "output_type": "stream",
     "text": [
      " 99%|█████████▊| 987/1000 [17:02:24<05:20, 24.64s/trial, best loss: 0.8355389565211123]"
     ]
    },
    {
     "name": "stderr",
     "output_type": "stream",
     "text": [
      "py4j.clientserver INFO  Closing down clientserver connection\n",
      "--- Logging error ---\n",
      "\n",
      "Traceback (most recent call last):\n",
      "\n",
      "  File \"C:\\Users\\Team Epoch A\\Documents\\Epoch III\\citylearn-2022-starter-kit\\venv\\lib\\site-packages\\ipykernel\\iostream.py\", line 94, in _event_pipe\n",
      "    event_pipe = self._local.event_pipe\n",
      "\n",
      "AttributeError: '_thread._local' object has no attribute 'event_pipe'\n",
      "\n",
      "\n",
      "During handling of the above exception, another exception occurred:\n",
      "\n",
      "\n",
      "Traceback (most recent call last):\n",
      "\n",
      "  File \"C:\\Users\\Team Epoch A\\AppData\\Local\\Programs\\Python\\Python39\\lib\\logging\\__init__.py\", line 1086, in emit\n",
      "    stream.write(msg + self.terminator)\n",
      "\n",
      "  File \"C:\\Users\\Team Epoch A\\Documents\\Epoch III\\citylearn-2022-starter-kit\\venv\\lib\\site-packages\\ipykernel\\iostream.py\", line 555, in write\n",
      "    self._schedule_flush()\n",
      "\n",
      "  File \"C:\\Users\\Team Epoch A\\Documents\\Epoch III\\citylearn-2022-starter-kit\\venv\\lib\\site-packages\\ipykernel\\iostream.py\", line 461, in _schedule_flush\n",
      "    self.pub_thread.schedule(_schedule_in_thread)\n",
      "\n",
      "  File \"C:\\Users\\Team Epoch A\\Documents\\Epoch III\\citylearn-2022-starter-kit\\venv\\lib\\site-packages\\ipykernel\\iostream.py\", line 210, in schedule\n",
      "    self._event_pipe.send(b\"\")\n",
      "\n",
      "  File \"C:\\Users\\Team Epoch A\\Documents\\Epoch III\\citylearn-2022-starter-kit\\venv\\lib\\site-packages\\ipykernel\\iostream.py\", line 98, in _event_pipe\n",
      "    event_pipe = ctx.socket(zmq.PUSH)\n",
      "\n",
      "  File \"C:\\Users\\Team Epoch A\\Documents\\Epoch III\\citylearn-2022-starter-kit\\venv\\lib\\site-packages\\zmq\\sugar\\context.py\", line 291, in socket\n",
      "    s: ST = self._socket_class(  # set PYTHONTRACEMALLOC=2 to get the calling frame\n",
      "\n",
      "  File \"C:\\Users\\Team Epoch A\\Documents\\Epoch III\\citylearn-2022-starter-kit\\venv\\lib\\site-packages\\zmq\\sugar\\socket.py\", line 94, in __init__\n",
      "    super().__init__(*a, **kw)\n",
      "\n",
      "  File \"zmq\\backend\\cython\\socket.pyx\", line 336, in zmq.backend.cython.socket.Socket.__init__\n",
      "\n",
      "zmq.error.ZMQError: Too many open files\n",
      "\n",
      "Call stack:\n",
      "\n",
      "  File \"C:\\Users\\Team Epoch A\\Documents\\Epoch III\\citylearn-2022-starter-kit\\venv\\lib\\site-packages\\py4j\\clientserver.py\", line 646, in __del__\n",
      "    self.close()\n",
      "\n",
      "  File \"C:\\Users\\Team Epoch A\\Documents\\Epoch III\\citylearn-2022-starter-kit\\venv\\lib\\site-packages\\py4j\\clientserver.py\", line 543, in close\n",
      "    logger.info(\"Closing down clientserver connection\")\n",
      "\n",
      "Message: 'Closing down clientserver connection'\n",
      "Arguments: ()\n",
      "\n"
     ]
    },
    {
     "name": "stdout",
     "output_type": "stream",
     "text": [
      " 99%|█████████▉| 988/1000 [17:02:55<05:19, 26.61s/trial, best loss: 0.8355389565211123]"
     ]
    },
    {
     "name": "stderr",
     "output_type": "stream",
     "text": [
      "py4j.clientserver INFO  Closing down clientserver connection\n",
      "--- Logging error ---\n",
      "\n",
      "Traceback (most recent call last):\n",
      "\n",
      "  File \"C:\\Users\\Team Epoch A\\Documents\\Epoch III\\citylearn-2022-starter-kit\\venv\\lib\\site-packages\\ipykernel\\iostream.py\", line 94, in _event_pipe\n",
      "    event_pipe = self._local.event_pipe\n",
      "\n",
      "AttributeError: '_thread._local' object has no attribute 'event_pipe'\n",
      "\n",
      "\n",
      "During handling of the above exception, another exception occurred:\n",
      "\n",
      "\n",
      "Traceback (most recent call last):\n",
      "\n",
      "  File \"C:\\Users\\Team Epoch A\\AppData\\Local\\Programs\\Python\\Python39\\lib\\logging\\__init__.py\", line 1086, in emit\n",
      "    stream.write(msg + self.terminator)\n",
      "\n",
      "  File \"C:\\Users\\Team Epoch A\\Documents\\Epoch III\\citylearn-2022-starter-kit\\venv\\lib\\site-packages\\ipykernel\\iostream.py\", line 555, in write\n",
      "    self._schedule_flush()\n",
      "\n",
      "  File \"C:\\Users\\Team Epoch A\\Documents\\Epoch III\\citylearn-2022-starter-kit\\venv\\lib\\site-packages\\ipykernel\\iostream.py\", line 461, in _schedule_flush\n",
      "    self.pub_thread.schedule(_schedule_in_thread)\n",
      "\n",
      "  File \"C:\\Users\\Team Epoch A\\Documents\\Epoch III\\citylearn-2022-starter-kit\\venv\\lib\\site-packages\\ipykernel\\iostream.py\", line 210, in schedule\n",
      "    self._event_pipe.send(b\"\")\n",
      "\n",
      "  File \"C:\\Users\\Team Epoch A\\Documents\\Epoch III\\citylearn-2022-starter-kit\\venv\\lib\\site-packages\\ipykernel\\iostream.py\", line 98, in _event_pipe\n",
      "    event_pipe = ctx.socket(zmq.PUSH)\n",
      "\n",
      "  File \"C:\\Users\\Team Epoch A\\Documents\\Epoch III\\citylearn-2022-starter-kit\\venv\\lib\\site-packages\\zmq\\sugar\\context.py\", line 291, in socket\n",
      "    s: ST = self._socket_class(  # set PYTHONTRACEMALLOC=2 to get the calling frame\n",
      "\n",
      "  File \"C:\\Users\\Team Epoch A\\Documents\\Epoch III\\citylearn-2022-starter-kit\\venv\\lib\\site-packages\\zmq\\sugar\\socket.py\", line 94, in __init__\n",
      "    super().__init__(*a, **kw)\n",
      "\n",
      "  File \"zmq\\backend\\cython\\socket.pyx\", line 336, in zmq.backend.cython.socket.Socket.__init__\n",
      "\n",
      "zmq.error.ZMQError: Too many open files\n",
      "\n",
      "Call stack:\n",
      "\n",
      "  File \"C:\\Users\\Team Epoch A\\Documents\\Epoch III\\citylearn-2022-starter-kit\\venv\\lib\\site-packages\\py4j\\clientserver.py\", line 646, in __del__\n",
      "    self.close()\n",
      "\n",
      "  File \"C:\\Users\\Team Epoch A\\Documents\\Epoch III\\citylearn-2022-starter-kit\\venv\\lib\\site-packages\\py4j\\clientserver.py\", line 543, in close\n",
      "    logger.info(\"Closing down clientserver connection\")\n",
      "\n",
      "Message: 'Closing down clientserver connection'\n",
      "Arguments: ()\n",
      "\n"
     ]
    },
    {
     "name": "stdout",
     "output_type": "stream",
     "text": [
      " 99%|█████████▉| 989/1000 [17:03:31<05:21, 29.20s/trial, best loss: 0.8355389565211123]"
     ]
    },
    {
     "name": "stderr",
     "output_type": "stream",
     "text": [
      "py4j.clientserver INFO  Closing down clientserver connection\n",
      "--- Logging error ---\n",
      "\n",
      "Traceback (most recent call last):\n",
      "\n",
      "  File \"C:\\Users\\Team Epoch A\\Documents\\Epoch III\\citylearn-2022-starter-kit\\venv\\lib\\site-packages\\ipykernel\\iostream.py\", line 94, in _event_pipe\n",
      "    event_pipe = self._local.event_pipe\n",
      "\n",
      "AttributeError: '_thread._local' object has no attribute 'event_pipe'\n",
      "\n",
      "\n",
      "During handling of the above exception, another exception occurred:\n",
      "\n",
      "\n",
      "Traceback (most recent call last):\n",
      "\n",
      "  File \"C:\\Users\\Team Epoch A\\AppData\\Local\\Programs\\Python\\Python39\\lib\\logging\\__init__.py\", line 1086, in emit\n",
      "    stream.write(msg + self.terminator)\n",
      "\n",
      "  File \"C:\\Users\\Team Epoch A\\Documents\\Epoch III\\citylearn-2022-starter-kit\\venv\\lib\\site-packages\\ipykernel\\iostream.py\", line 555, in write\n",
      "    self._schedule_flush()\n",
      "\n",
      "  File \"C:\\Users\\Team Epoch A\\Documents\\Epoch III\\citylearn-2022-starter-kit\\venv\\lib\\site-packages\\ipykernel\\iostream.py\", line 461, in _schedule_flush\n",
      "    self.pub_thread.schedule(_schedule_in_thread)\n",
      "\n",
      "  File \"C:\\Users\\Team Epoch A\\Documents\\Epoch III\\citylearn-2022-starter-kit\\venv\\lib\\site-packages\\ipykernel\\iostream.py\", line 210, in schedule\n",
      "    self._event_pipe.send(b\"\")\n",
      "\n",
      "  File \"C:\\Users\\Team Epoch A\\Documents\\Epoch III\\citylearn-2022-starter-kit\\venv\\lib\\site-packages\\ipykernel\\iostream.py\", line 98, in _event_pipe\n",
      "    event_pipe = ctx.socket(zmq.PUSH)\n",
      "\n",
      "  File \"C:\\Users\\Team Epoch A\\Documents\\Epoch III\\citylearn-2022-starter-kit\\venv\\lib\\site-packages\\zmq\\sugar\\context.py\", line 291, in socket\n",
      "    s: ST = self._socket_class(  # set PYTHONTRACEMALLOC=2 to get the calling frame\n",
      "\n",
      "  File \"C:\\Users\\Team Epoch A\\Documents\\Epoch III\\citylearn-2022-starter-kit\\venv\\lib\\site-packages\\zmq\\sugar\\socket.py\", line 94, in __init__\n",
      "    super().__init__(*a, **kw)\n",
      "\n",
      "  File \"zmq\\backend\\cython\\socket.pyx\", line 336, in zmq.backend.cython.socket.Socket.__init__\n",
      "\n",
      "zmq.error.ZMQError: Too many open files\n",
      "\n",
      "Call stack:\n",
      "\n",
      "  File \"C:\\Users\\Team Epoch A\\Documents\\Epoch III\\citylearn-2022-starter-kit\\venv\\lib\\site-packages\\py4j\\clientserver.py\", line 646, in __del__\n",
      "    self.close()\n",
      "\n",
      "  File \"C:\\Users\\Team Epoch A\\Documents\\Epoch III\\citylearn-2022-starter-kit\\venv\\lib\\site-packages\\py4j\\clientserver.py\", line 543, in close\n",
      "    logger.info(\"Closing down clientserver connection\")\n",
      "\n",
      "Message: 'Closing down clientserver connection'\n",
      "Arguments: ()\n",
      "\n"
     ]
    },
    {
     "name": "stdout",
     "output_type": "stream",
     "text": [
      " 99%|█████████▉| 990/1000 [17:04:24<06:04, 36.46s/trial, best loss: 0.8355389565211123]"
     ]
    },
    {
     "name": "stderr",
     "output_type": "stream",
     "text": [
      "py4j.clientserver INFO  Closing down clientserver connection\n",
      "--- Logging error ---\n",
      "\n",
      "Traceback (most recent call last):\n",
      "\n",
      "  File \"C:\\Users\\Team Epoch A\\Documents\\Epoch III\\citylearn-2022-starter-kit\\venv\\lib\\site-packages\\ipykernel\\iostream.py\", line 94, in _event_pipe\n",
      "    event_pipe = self._local.event_pipe\n",
      "\n",
      "AttributeError: '_thread._local' object has no attribute 'event_pipe'\n",
      "\n",
      "\n",
      "During handling of the above exception, another exception occurred:\n",
      "\n",
      "\n",
      "Traceback (most recent call last):\n",
      "\n",
      "  File \"C:\\Users\\Team Epoch A\\AppData\\Local\\Programs\\Python\\Python39\\lib\\logging\\__init__.py\", line 1086, in emit\n",
      "    stream.write(msg + self.terminator)\n",
      "\n",
      "  File \"C:\\Users\\Team Epoch A\\Documents\\Epoch III\\citylearn-2022-starter-kit\\venv\\lib\\site-packages\\ipykernel\\iostream.py\", line 555, in write\n",
      "    self._schedule_flush()\n",
      "\n",
      "  File \"C:\\Users\\Team Epoch A\\Documents\\Epoch III\\citylearn-2022-starter-kit\\venv\\lib\\site-packages\\ipykernel\\iostream.py\", line 461, in _schedule_flush\n",
      "    self.pub_thread.schedule(_schedule_in_thread)\n",
      "\n",
      "  File \"C:\\Users\\Team Epoch A\\Documents\\Epoch III\\citylearn-2022-starter-kit\\venv\\lib\\site-packages\\ipykernel\\iostream.py\", line 210, in schedule\n",
      "    self._event_pipe.send(b\"\")\n",
      "\n",
      "  File \"C:\\Users\\Team Epoch A\\Documents\\Epoch III\\citylearn-2022-starter-kit\\venv\\lib\\site-packages\\ipykernel\\iostream.py\", line 98, in _event_pipe\n",
      "    event_pipe = ctx.socket(zmq.PUSH)\n",
      "\n",
      "  File \"C:\\Users\\Team Epoch A\\Documents\\Epoch III\\citylearn-2022-starter-kit\\venv\\lib\\site-packages\\zmq\\sugar\\context.py\", line 291, in socket\n",
      "    s: ST = self._socket_class(  # set PYTHONTRACEMALLOC=2 to get the calling frame\n",
      "\n",
      "  File \"C:\\Users\\Team Epoch A\\Documents\\Epoch III\\citylearn-2022-starter-kit\\venv\\lib\\site-packages\\zmq\\sugar\\socket.py\", line 94, in __init__\n",
      "    super().__init__(*a, **kw)\n",
      "\n",
      "  File \"zmq\\backend\\cython\\socket.pyx\", line 336, in zmq.backend.cython.socket.Socket.__init__\n",
      "\n",
      "zmq.error.ZMQError: Too many open files\n",
      "\n",
      "Call stack:\n",
      "\n",
      "  File \"C:\\Users\\Team Epoch A\\Documents\\Epoch III\\citylearn-2022-starter-kit\\venv\\lib\\site-packages\\py4j\\clientserver.py\", line 646, in __del__\n",
      "    self.close()\n",
      "\n",
      "  File \"C:\\Users\\Team Epoch A\\Documents\\Epoch III\\citylearn-2022-starter-kit\\venv\\lib\\site-packages\\py4j\\clientserver.py\", line 543, in close\n",
      "    logger.info(\"Closing down clientserver connection\")\n",
      "\n",
      "Message: 'Closing down clientserver connection'\n",
      "Arguments: ()\n",
      "\n"
     ]
    },
    {
     "name": "stdout",
     "output_type": "stream",
     "text": [
      " 99%|█████████▉| 991/1000 [17:12:17<25:07, 167.54s/trial, best loss: 0.8355389565211123]"
     ]
    },
    {
     "name": "stderr",
     "output_type": "stream",
     "text": [
      "py4j.clientserver INFO  Closing down clientserver connection\n",
      "--- Logging error ---\n",
      "\n",
      "Traceback (most recent call last):\n",
      "\n",
      "  File \"C:\\Users\\Team Epoch A\\Documents\\Epoch III\\citylearn-2022-starter-kit\\venv\\lib\\site-packages\\ipykernel\\iostream.py\", line 94, in _event_pipe\n",
      "    event_pipe = self._local.event_pipe\n",
      "\n",
      "AttributeError: '_thread._local' object has no attribute 'event_pipe'\n",
      "\n",
      "\n",
      "During handling of the above exception, another exception occurred:\n",
      "\n",
      "\n",
      "Traceback (most recent call last):\n",
      "\n",
      "  File \"C:\\Users\\Team Epoch A\\AppData\\Local\\Programs\\Python\\Python39\\lib\\logging\\__init__.py\", line 1086, in emit\n",
      "    stream.write(msg + self.terminator)\n",
      "\n",
      "  File \"C:\\Users\\Team Epoch A\\Documents\\Epoch III\\citylearn-2022-starter-kit\\venv\\lib\\site-packages\\ipykernel\\iostream.py\", line 555, in write\n",
      "    self._schedule_flush()\n",
      "\n",
      "  File \"C:\\Users\\Team Epoch A\\Documents\\Epoch III\\citylearn-2022-starter-kit\\venv\\lib\\site-packages\\ipykernel\\iostream.py\", line 461, in _schedule_flush\n",
      "    self.pub_thread.schedule(_schedule_in_thread)\n",
      "\n",
      "  File \"C:\\Users\\Team Epoch A\\Documents\\Epoch III\\citylearn-2022-starter-kit\\venv\\lib\\site-packages\\ipykernel\\iostream.py\", line 210, in schedule\n",
      "    self._event_pipe.send(b\"\")\n",
      "\n",
      "  File \"C:\\Users\\Team Epoch A\\Documents\\Epoch III\\citylearn-2022-starter-kit\\venv\\lib\\site-packages\\ipykernel\\iostream.py\", line 98, in _event_pipe\n",
      "    event_pipe = ctx.socket(zmq.PUSH)\n",
      "\n",
      "  File \"C:\\Users\\Team Epoch A\\Documents\\Epoch III\\citylearn-2022-starter-kit\\venv\\lib\\site-packages\\zmq\\sugar\\context.py\", line 291, in socket\n",
      "    s: ST = self._socket_class(  # set PYTHONTRACEMALLOC=2 to get the calling frame\n",
      "\n",
      "  File \"C:\\Users\\Team Epoch A\\Documents\\Epoch III\\citylearn-2022-starter-kit\\venv\\lib\\site-packages\\zmq\\sugar\\socket.py\", line 94, in __init__\n",
      "    super().__init__(*a, **kw)\n",
      "\n",
      "  File \"zmq\\backend\\cython\\socket.pyx\", line 336, in zmq.backend.cython.socket.Socket.__init__\n",
      "\n",
      "zmq.error.ZMQError: Too many open files\n",
      "\n",
      "Call stack:\n",
      "\n",
      "  File \"C:\\Users\\Team Epoch A\\Documents\\Epoch III\\citylearn-2022-starter-kit\\venv\\lib\\site-packages\\py4j\\clientserver.py\", line 646, in __del__\n",
      "    self.close()\n",
      "\n",
      "  File \"C:\\Users\\Team Epoch A\\Documents\\Epoch III\\citylearn-2022-starter-kit\\venv\\lib\\site-packages\\py4j\\clientserver.py\", line 543, in close\n",
      "    logger.info(\"Closing down clientserver connection\")\n",
      "\n",
      "Message: 'Closing down clientserver connection'\n",
      "Arguments: ()\n",
      "\n"
     ]
    },
    {
     "name": "stdout",
     "output_type": "stream",
     "text": [
      " 99%|█████████▉| 992/1000 [17:13:47<19:13, 144.17s/trial, best loss: 0.8355389565211123]"
     ]
    },
    {
     "name": "stderr",
     "output_type": "stream",
     "text": [
      "py4j.clientserver INFO  Closing down clientserver connection\n",
      "--- Logging error ---\n",
      "\n",
      "Traceback (most recent call last):\n",
      "\n",
      "  File \"C:\\Users\\Team Epoch A\\Documents\\Epoch III\\citylearn-2022-starter-kit\\venv\\lib\\site-packages\\ipykernel\\iostream.py\", line 94, in _event_pipe\n",
      "    event_pipe = self._local.event_pipe\n",
      "\n",
      "AttributeError: '_thread._local' object has no attribute 'event_pipe'\n",
      "\n",
      "\n",
      "During handling of the above exception, another exception occurred:\n",
      "\n",
      "\n",
      "Traceback (most recent call last):\n",
      "\n",
      "  File \"C:\\Users\\Team Epoch A\\AppData\\Local\\Programs\\Python\\Python39\\lib\\logging\\__init__.py\", line 1086, in emit\n",
      "    stream.write(msg + self.terminator)\n",
      "\n",
      "  File \"C:\\Users\\Team Epoch A\\Documents\\Epoch III\\citylearn-2022-starter-kit\\venv\\lib\\site-packages\\ipykernel\\iostream.py\", line 555, in write\n",
      "    self._schedule_flush()\n",
      "\n",
      "  File \"C:\\Users\\Team Epoch A\\Documents\\Epoch III\\citylearn-2022-starter-kit\\venv\\lib\\site-packages\\ipykernel\\iostream.py\", line 461, in _schedule_flush\n",
      "    self.pub_thread.schedule(_schedule_in_thread)\n",
      "\n",
      "  File \"C:\\Users\\Team Epoch A\\Documents\\Epoch III\\citylearn-2022-starter-kit\\venv\\lib\\site-packages\\ipykernel\\iostream.py\", line 210, in schedule\n",
      "    self._event_pipe.send(b\"\")\n",
      "\n",
      "  File \"C:\\Users\\Team Epoch A\\Documents\\Epoch III\\citylearn-2022-starter-kit\\venv\\lib\\site-packages\\ipykernel\\iostream.py\", line 98, in _event_pipe\n",
      "    event_pipe = ctx.socket(zmq.PUSH)\n",
      "\n",
      "  File \"C:\\Users\\Team Epoch A\\Documents\\Epoch III\\citylearn-2022-starter-kit\\venv\\lib\\site-packages\\zmq\\sugar\\context.py\", line 291, in socket\n",
      "    s: ST = self._socket_class(  # set PYTHONTRACEMALLOC=2 to get the calling frame\n",
      "\n",
      "  File \"C:\\Users\\Team Epoch A\\Documents\\Epoch III\\citylearn-2022-starter-kit\\venv\\lib\\site-packages\\zmq\\sugar\\socket.py\", line 94, in __init__\n",
      "    super().__init__(*a, **kw)\n",
      "\n",
      "  File \"zmq\\backend\\cython\\socket.pyx\", line 336, in zmq.backend.cython.socket.Socket.__init__\n",
      "\n",
      "zmq.error.ZMQError: Too many open files\n",
      "\n",
      "Call stack:\n",
      "\n",
      "  File \"C:\\Users\\Team Epoch A\\Documents\\Epoch III\\citylearn-2022-starter-kit\\venv\\lib\\site-packages\\py4j\\clientserver.py\", line 646, in __del__\n",
      "    self.close()\n",
      "\n",
      "  File \"C:\\Users\\Team Epoch A\\Documents\\Epoch III\\citylearn-2022-starter-kit\\venv\\lib\\site-packages\\py4j\\clientserver.py\", line 543, in close\n",
      "    logger.info(\"Closing down clientserver connection\")\n",
      "\n",
      "Message: 'Closing down clientserver connection'\n",
      "Arguments: ()\n",
      "\n"
     ]
    },
    {
     "name": "stdout",
     "output_type": "stream",
     "text": [
      " 99%|█████████▉| 993/1000 [17:14:12<12:39, 108.48s/trial, best loss: 0.8355389565211123]"
     ]
    },
    {
     "name": "stderr",
     "output_type": "stream",
     "text": [
      "py4j.clientserver INFO  Closing down clientserver connection\n",
      "--- Logging error ---\n",
      "\n",
      "Traceback (most recent call last):\n",
      "\n",
      "  File \"C:\\Users\\Team Epoch A\\Documents\\Epoch III\\citylearn-2022-starter-kit\\venv\\lib\\site-packages\\ipykernel\\iostream.py\", line 94, in _event_pipe\n",
      "    event_pipe = self._local.event_pipe\n",
      "\n",
      "AttributeError: '_thread._local' object has no attribute 'event_pipe'\n",
      "\n",
      "\n",
      "During handling of the above exception, another exception occurred:\n",
      "\n",
      "\n",
      "Traceback (most recent call last):\n",
      "\n",
      "  File \"C:\\Users\\Team Epoch A\\AppData\\Local\\Programs\\Python\\Python39\\lib\\logging\\__init__.py\", line 1086, in emit\n",
      "    stream.write(msg + self.terminator)\n",
      "\n",
      "  File \"C:\\Users\\Team Epoch A\\Documents\\Epoch III\\citylearn-2022-starter-kit\\venv\\lib\\site-packages\\ipykernel\\iostream.py\", line 555, in write\n",
      "    self._schedule_flush()\n",
      "\n",
      "  File \"C:\\Users\\Team Epoch A\\Documents\\Epoch III\\citylearn-2022-starter-kit\\venv\\lib\\site-packages\\ipykernel\\iostream.py\", line 461, in _schedule_flush\n",
      "    self.pub_thread.schedule(_schedule_in_thread)\n",
      "\n",
      "  File \"C:\\Users\\Team Epoch A\\Documents\\Epoch III\\citylearn-2022-starter-kit\\venv\\lib\\site-packages\\ipykernel\\iostream.py\", line 210, in schedule\n",
      "    self._event_pipe.send(b\"\")\n",
      "\n",
      "  File \"C:\\Users\\Team Epoch A\\Documents\\Epoch III\\citylearn-2022-starter-kit\\venv\\lib\\site-packages\\ipykernel\\iostream.py\", line 98, in _event_pipe\n",
      "    event_pipe = ctx.socket(zmq.PUSH)\n",
      "\n",
      "  File \"C:\\Users\\Team Epoch A\\Documents\\Epoch III\\citylearn-2022-starter-kit\\venv\\lib\\site-packages\\zmq\\sugar\\context.py\", line 291, in socket\n",
      "    s: ST = self._socket_class(  # set PYTHONTRACEMALLOC=2 to get the calling frame\n",
      "\n",
      "  File \"C:\\Users\\Team Epoch A\\Documents\\Epoch III\\citylearn-2022-starter-kit\\venv\\lib\\site-packages\\zmq\\sugar\\socket.py\", line 94, in __init__\n",
      "    super().__init__(*a, **kw)\n",
      "\n",
      "  File \"zmq\\backend\\cython\\socket.pyx\", line 336, in zmq.backend.cython.socket.Socket.__init__\n",
      "\n",
      "zmq.error.ZMQError: Too many open files\n",
      "\n",
      "Call stack:\n",
      "\n",
      "  File \"C:\\Users\\Team Epoch A\\Documents\\Epoch III\\citylearn-2022-starter-kit\\venv\\lib\\site-packages\\py4j\\clientserver.py\", line 646, in __del__\n",
      "    self.close()\n",
      "\n",
      "  File \"C:\\Users\\Team Epoch A\\Documents\\Epoch III\\citylearn-2022-starter-kit\\venv\\lib\\site-packages\\py4j\\clientserver.py\", line 543, in close\n",
      "    logger.info(\"Closing down clientserver connection\")\n",
      "\n",
      "Message: 'Closing down clientserver connection'\n",
      "Arguments: ()\n",
      "\n"
     ]
    },
    {
     "name": "stdout",
     "output_type": "stream",
     "text": [
      " 99%|█████████▉| 994/1000 [17:14:18<07:46, 77.75s/trial, best loss: 0.8355389565211123] "
     ]
    },
    {
     "name": "stderr",
     "output_type": "stream",
     "text": [
      "py4j.clientserver INFO  Closing down clientserver connection\n",
      "--- Logging error ---\n",
      "\n",
      "Traceback (most recent call last):\n",
      "\n",
      "  File \"C:\\Users\\Team Epoch A\\Documents\\Epoch III\\citylearn-2022-starter-kit\\venv\\lib\\site-packages\\ipykernel\\iostream.py\", line 94, in _event_pipe\n",
      "    event_pipe = self._local.event_pipe\n",
      "\n",
      "AttributeError: '_thread._local' object has no attribute 'event_pipe'\n",
      "\n",
      "\n",
      "During handling of the above exception, another exception occurred:\n",
      "\n",
      "\n",
      "Traceback (most recent call last):\n",
      "\n",
      "  File \"C:\\Users\\Team Epoch A\\AppData\\Local\\Programs\\Python\\Python39\\lib\\logging\\__init__.py\", line 1086, in emit\n",
      "    stream.write(msg + self.terminator)\n",
      "\n",
      "  File \"C:\\Users\\Team Epoch A\\Documents\\Epoch III\\citylearn-2022-starter-kit\\venv\\lib\\site-packages\\ipykernel\\iostream.py\", line 555, in write\n",
      "    self._schedule_flush()\n",
      "\n",
      "  File \"C:\\Users\\Team Epoch A\\Documents\\Epoch III\\citylearn-2022-starter-kit\\venv\\lib\\site-packages\\ipykernel\\iostream.py\", line 461, in _schedule_flush\n",
      "    self.pub_thread.schedule(_schedule_in_thread)\n",
      "\n",
      "  File \"C:\\Users\\Team Epoch A\\Documents\\Epoch III\\citylearn-2022-starter-kit\\venv\\lib\\site-packages\\ipykernel\\iostream.py\", line 210, in schedule\n",
      "    self._event_pipe.send(b\"\")\n",
      "\n",
      "  File \"C:\\Users\\Team Epoch A\\Documents\\Epoch III\\citylearn-2022-starter-kit\\venv\\lib\\site-packages\\ipykernel\\iostream.py\", line 98, in _event_pipe\n",
      "    event_pipe = ctx.socket(zmq.PUSH)\n",
      "\n",
      "  File \"C:\\Users\\Team Epoch A\\Documents\\Epoch III\\citylearn-2022-starter-kit\\venv\\lib\\site-packages\\zmq\\sugar\\context.py\", line 291, in socket\n",
      "    s: ST = self._socket_class(  # set PYTHONTRACEMALLOC=2 to get the calling frame\n",
      "\n",
      "  File \"C:\\Users\\Team Epoch A\\Documents\\Epoch III\\citylearn-2022-starter-kit\\venv\\lib\\site-packages\\zmq\\sugar\\socket.py\", line 94, in __init__\n",
      "    super().__init__(*a, **kw)\n",
      "\n",
      "  File \"zmq\\backend\\cython\\socket.pyx\", line 336, in zmq.backend.cython.socket.Socket.__init__\n",
      "\n",
      "zmq.error.ZMQError: Too many open files\n",
      "\n",
      "Call stack:\n",
      "\n",
      "  File \"C:\\Users\\Team Epoch A\\Documents\\Epoch III\\citylearn-2022-starter-kit\\venv\\lib\\site-packages\\py4j\\clientserver.py\", line 646, in __del__\n",
      "    self.close()\n",
      "\n",
      "  File \"C:\\Users\\Team Epoch A\\Documents\\Epoch III\\citylearn-2022-starter-kit\\venv\\lib\\site-packages\\py4j\\clientserver.py\", line 543, in close\n",
      "    logger.info(\"Closing down clientserver connection\")\n",
      "\n",
      "Message: 'Closing down clientserver connection'\n",
      "Arguments: ()\n",
      "\n"
     ]
    },
    {
     "name": "stdout",
     "output_type": "stream",
     "text": [
      "100%|█████████▉| 995/1000 [17:14:20<04:35, 55.03s/trial, best loss: 0.8355389565211123]"
     ]
    },
    {
     "name": "stderr",
     "output_type": "stream",
     "text": [
      "py4j.clientserver INFO  Closing down clientserver connection\n",
      "--- Logging error ---\n",
      "\n",
      "Traceback (most recent call last):\n",
      "\n",
      "  File \"C:\\Users\\Team Epoch A\\Documents\\Epoch III\\citylearn-2022-starter-kit\\venv\\lib\\site-packages\\ipykernel\\iostream.py\", line 94, in _event_pipe\n",
      "    event_pipe = self._local.event_pipe\n",
      "\n",
      "AttributeError: '_thread._local' object has no attribute 'event_pipe'\n",
      "\n",
      "\n",
      "During handling of the above exception, another exception occurred:\n",
      "\n",
      "\n",
      "Traceback (most recent call last):\n",
      "\n",
      "  File \"C:\\Users\\Team Epoch A\\AppData\\Local\\Programs\\Python\\Python39\\lib\\logging\\__init__.py\", line 1086, in emit\n",
      "    stream.write(msg + self.terminator)\n",
      "\n",
      "  File \"C:\\Users\\Team Epoch A\\Documents\\Epoch III\\citylearn-2022-starter-kit\\venv\\lib\\site-packages\\ipykernel\\iostream.py\", line 555, in write\n",
      "    self._schedule_flush()\n",
      "\n",
      "  File \"C:\\Users\\Team Epoch A\\Documents\\Epoch III\\citylearn-2022-starter-kit\\venv\\lib\\site-packages\\ipykernel\\iostream.py\", line 461, in _schedule_flush\n",
      "    self.pub_thread.schedule(_schedule_in_thread)\n",
      "\n",
      "  File \"C:\\Users\\Team Epoch A\\Documents\\Epoch III\\citylearn-2022-starter-kit\\venv\\lib\\site-packages\\ipykernel\\iostream.py\", line 210, in schedule\n",
      "    self._event_pipe.send(b\"\")\n",
      "\n",
      "  File \"C:\\Users\\Team Epoch A\\Documents\\Epoch III\\citylearn-2022-starter-kit\\venv\\lib\\site-packages\\ipykernel\\iostream.py\", line 98, in _event_pipe\n",
      "    event_pipe = ctx.socket(zmq.PUSH)\n",
      "\n",
      "  File \"C:\\Users\\Team Epoch A\\Documents\\Epoch III\\citylearn-2022-starter-kit\\venv\\lib\\site-packages\\zmq\\sugar\\context.py\", line 291, in socket\n",
      "    s: ST = self._socket_class(  # set PYTHONTRACEMALLOC=2 to get the calling frame\n",
      "\n",
      "  File \"C:\\Users\\Team Epoch A\\Documents\\Epoch III\\citylearn-2022-starter-kit\\venv\\lib\\site-packages\\zmq\\sugar\\socket.py\", line 94, in __init__\n",
      "    super().__init__(*a, **kw)\n",
      "\n",
      "  File \"zmq\\backend\\cython\\socket.pyx\", line 336, in zmq.backend.cython.socket.Socket.__init__\n",
      "\n",
      "zmq.error.ZMQError: Too many open files\n",
      "\n",
      "Call stack:\n",
      "\n",
      "  File \"C:\\Users\\Team Epoch A\\Documents\\Epoch III\\citylearn-2022-starter-kit\\venv\\lib\\site-packages\\py4j\\clientserver.py\", line 646, in __del__\n",
      "    self.close()\n",
      "\n",
      "  File \"C:\\Users\\Team Epoch A\\Documents\\Epoch III\\citylearn-2022-starter-kit\\venv\\lib\\site-packages\\py4j\\clientserver.py\", line 543, in close\n",
      "    logger.info(\"Closing down clientserver connection\")\n",
      "\n",
      "Message: 'Closing down clientserver connection'\n",
      "Arguments: ()\n",
      "\n"
     ]
    },
    {
     "name": "stdout",
     "output_type": "stream",
     "text": [
      "100%|█████████▉| 996/1000 [17:14:37<02:54, 43.65s/trial, best loss: 0.8355389565211123]"
     ]
    },
    {
     "name": "stderr",
     "output_type": "stream",
     "text": [
      "py4j.clientserver INFO  Closing down clientserver connection\n",
      "--- Logging error ---\n",
      "\n",
      "Traceback (most recent call last):\n",
      "\n",
      "  File \"C:\\Users\\Team Epoch A\\Documents\\Epoch III\\citylearn-2022-starter-kit\\venv\\lib\\site-packages\\ipykernel\\iostream.py\", line 94, in _event_pipe\n",
      "    event_pipe = self._local.event_pipe\n",
      "\n",
      "AttributeError: '_thread._local' object has no attribute 'event_pipe'\n",
      "\n",
      "\n",
      "During handling of the above exception, another exception occurred:\n",
      "\n",
      "\n",
      "Traceback (most recent call last):\n",
      "\n",
      "  File \"C:\\Users\\Team Epoch A\\AppData\\Local\\Programs\\Python\\Python39\\lib\\logging\\__init__.py\", line 1086, in emit\n",
      "    stream.write(msg + self.terminator)\n",
      "\n",
      "  File \"C:\\Users\\Team Epoch A\\Documents\\Epoch III\\citylearn-2022-starter-kit\\venv\\lib\\site-packages\\ipykernel\\iostream.py\", line 555, in write\n",
      "    self._schedule_flush()\n",
      "\n",
      "  File \"C:\\Users\\Team Epoch A\\Documents\\Epoch III\\citylearn-2022-starter-kit\\venv\\lib\\site-packages\\ipykernel\\iostream.py\", line 461, in _schedule_flush\n",
      "    self.pub_thread.schedule(_schedule_in_thread)\n",
      "\n",
      "  File \"C:\\Users\\Team Epoch A\\Documents\\Epoch III\\citylearn-2022-starter-kit\\venv\\lib\\site-packages\\ipykernel\\iostream.py\", line 210, in schedule\n",
      "    self._event_pipe.send(b\"\")\n",
      "\n",
      "  File \"C:\\Users\\Team Epoch A\\Documents\\Epoch III\\citylearn-2022-starter-kit\\venv\\lib\\site-packages\\ipykernel\\iostream.py\", line 98, in _event_pipe\n",
      "    event_pipe = ctx.socket(zmq.PUSH)\n",
      "\n",
      "  File \"C:\\Users\\Team Epoch A\\Documents\\Epoch III\\citylearn-2022-starter-kit\\venv\\lib\\site-packages\\zmq\\sugar\\context.py\", line 291, in socket\n",
      "    s: ST = self._socket_class(  # set PYTHONTRACEMALLOC=2 to get the calling frame\n",
      "\n",
      "  File \"C:\\Users\\Team Epoch A\\Documents\\Epoch III\\citylearn-2022-starter-kit\\venv\\lib\\site-packages\\zmq\\sugar\\socket.py\", line 94, in __init__\n",
      "    super().__init__(*a, **kw)\n",
      "\n",
      "  File \"zmq\\backend\\cython\\socket.pyx\", line 336, in zmq.backend.cython.socket.Socket.__init__\n",
      "\n",
      "zmq.error.ZMQError: Too many open files\n",
      "\n",
      "Call stack:\n",
      "\n",
      "  File \"C:\\Users\\Team Epoch A\\Documents\\Epoch III\\citylearn-2022-starter-kit\\venv\\lib\\site-packages\\py4j\\clientserver.py\", line 646, in __del__\n",
      "    self.close()\n",
      "\n",
      "  File \"C:\\Users\\Team Epoch A\\Documents\\Epoch III\\citylearn-2022-starter-kit\\venv\\lib\\site-packages\\py4j\\clientserver.py\", line 543, in close\n",
      "    logger.info(\"Closing down clientserver connection\")\n",
      "\n",
      "Message: 'Closing down clientserver connection'\n",
      "Arguments: ()\n",
      "\n"
     ]
    },
    {
     "name": "stdout",
     "output_type": "stream",
     "text": [
      "100%|█████████▉| 997/1000 [17:15:58<02:44, 54.74s/trial, best loss: 0.8355389565211123]"
     ]
    },
    {
     "name": "stderr",
     "output_type": "stream",
     "text": [
      "py4j.clientserver INFO  Closing down clientserver connection\n",
      "--- Logging error ---\n",
      "\n",
      "Traceback (most recent call last):\n",
      "\n",
      "  File \"C:\\Users\\Team Epoch A\\Documents\\Epoch III\\citylearn-2022-starter-kit\\venv\\lib\\site-packages\\ipykernel\\iostream.py\", line 94, in _event_pipe\n",
      "    event_pipe = self._local.event_pipe\n",
      "\n",
      "AttributeError: '_thread._local' object has no attribute 'event_pipe'\n",
      "\n",
      "\n",
      "During handling of the above exception, another exception occurred:\n",
      "\n",
      "\n",
      "Traceback (most recent call last):\n",
      "\n",
      "  File \"C:\\Users\\Team Epoch A\\AppData\\Local\\Programs\\Python\\Python39\\lib\\logging\\__init__.py\", line 1086, in emit\n",
      "    stream.write(msg + self.terminator)\n",
      "\n",
      "  File \"C:\\Users\\Team Epoch A\\Documents\\Epoch III\\citylearn-2022-starter-kit\\venv\\lib\\site-packages\\ipykernel\\iostream.py\", line 555, in write\n",
      "    self._schedule_flush()\n",
      "\n",
      "  File \"C:\\Users\\Team Epoch A\\Documents\\Epoch III\\citylearn-2022-starter-kit\\venv\\lib\\site-packages\\ipykernel\\iostream.py\", line 461, in _schedule_flush\n",
      "    self.pub_thread.schedule(_schedule_in_thread)\n",
      "\n",
      "  File \"C:\\Users\\Team Epoch A\\Documents\\Epoch III\\citylearn-2022-starter-kit\\venv\\lib\\site-packages\\ipykernel\\iostream.py\", line 210, in schedule\n",
      "    self._event_pipe.send(b\"\")\n",
      "\n",
      "  File \"C:\\Users\\Team Epoch A\\Documents\\Epoch III\\citylearn-2022-starter-kit\\venv\\lib\\site-packages\\ipykernel\\iostream.py\", line 98, in _event_pipe\n",
      "    event_pipe = ctx.socket(zmq.PUSH)\n",
      "\n",
      "  File \"C:\\Users\\Team Epoch A\\Documents\\Epoch III\\citylearn-2022-starter-kit\\venv\\lib\\site-packages\\zmq\\sugar\\context.py\", line 291, in socket\n",
      "    s: ST = self._socket_class(  # set PYTHONTRACEMALLOC=2 to get the calling frame\n",
      "\n",
      "  File \"C:\\Users\\Team Epoch A\\Documents\\Epoch III\\citylearn-2022-starter-kit\\venv\\lib\\site-packages\\zmq\\sugar\\socket.py\", line 94, in __init__\n",
      "    super().__init__(*a, **kw)\n",
      "\n",
      "  File \"zmq\\backend\\cython\\socket.pyx\", line 336, in zmq.backend.cython.socket.Socket.__init__\n",
      "\n",
      "zmq.error.ZMQError: Too many open files\n",
      "\n",
      "Call stack:\n",
      "\n",
      "  File \"C:\\Users\\Team Epoch A\\Documents\\Epoch III\\citylearn-2022-starter-kit\\venv\\lib\\site-packages\\py4j\\clientserver.py\", line 646, in __del__\n",
      "    self.close()\n",
      "\n",
      "  File \"C:\\Users\\Team Epoch A\\Documents\\Epoch III\\citylearn-2022-starter-kit\\venv\\lib\\site-packages\\py4j\\clientserver.py\", line 543, in close\n",
      "    logger.info(\"Closing down clientserver connection\")\n",
      "\n",
      "Message: 'Closing down clientserver connection'\n",
      "Arguments: ()\n",
      "\n"
     ]
    },
    {
     "name": "stdout",
     "output_type": "stream",
     "text": [
      "100%|█████████▉| 998/1000 [17:16:05<01:20, 40.43s/trial, best loss: 0.8355389565211123]"
     ]
    },
    {
     "name": "stderr",
     "output_type": "stream",
     "text": [
      "py4j.clientserver INFO  Closing down clientserver connection\n",
      "--- Logging error ---\n",
      "\n",
      "Traceback (most recent call last):\n",
      "\n",
      "  File \"C:\\Users\\Team Epoch A\\Documents\\Epoch III\\citylearn-2022-starter-kit\\venv\\lib\\site-packages\\ipykernel\\iostream.py\", line 94, in _event_pipe\n",
      "    event_pipe = self._local.event_pipe\n",
      "\n",
      "AttributeError: '_thread._local' object has no attribute 'event_pipe'\n",
      "\n",
      "\n",
      "During handling of the above exception, another exception occurred:\n",
      "\n",
      "\n",
      "Traceback (most recent call last):\n",
      "\n",
      "  File \"C:\\Users\\Team Epoch A\\AppData\\Local\\Programs\\Python\\Python39\\lib\\logging\\__init__.py\", line 1086, in emit\n",
      "    stream.write(msg + self.terminator)\n",
      "\n",
      "  File \"C:\\Users\\Team Epoch A\\Documents\\Epoch III\\citylearn-2022-starter-kit\\venv\\lib\\site-packages\\ipykernel\\iostream.py\", line 555, in write\n",
      "    self._schedule_flush()\n",
      "\n",
      "  File \"C:\\Users\\Team Epoch A\\Documents\\Epoch III\\citylearn-2022-starter-kit\\venv\\lib\\site-packages\\ipykernel\\iostream.py\", line 461, in _schedule_flush\n",
      "    self.pub_thread.schedule(_schedule_in_thread)\n",
      "\n",
      "  File \"C:\\Users\\Team Epoch A\\Documents\\Epoch III\\citylearn-2022-starter-kit\\venv\\lib\\site-packages\\ipykernel\\iostream.py\", line 210, in schedule\n",
      "    self._event_pipe.send(b\"\")\n",
      "\n",
      "  File \"C:\\Users\\Team Epoch A\\Documents\\Epoch III\\citylearn-2022-starter-kit\\venv\\lib\\site-packages\\ipykernel\\iostream.py\", line 98, in _event_pipe\n",
      "    event_pipe = ctx.socket(zmq.PUSH)\n",
      "\n",
      "  File \"C:\\Users\\Team Epoch A\\Documents\\Epoch III\\citylearn-2022-starter-kit\\venv\\lib\\site-packages\\zmq\\sugar\\context.py\", line 291, in socket\n",
      "    s: ST = self._socket_class(  # set PYTHONTRACEMALLOC=2 to get the calling frame\n",
      "\n",
      "  File \"C:\\Users\\Team Epoch A\\Documents\\Epoch III\\citylearn-2022-starter-kit\\venv\\lib\\site-packages\\zmq\\sugar\\socket.py\", line 94, in __init__\n",
      "    super().__init__(*a, **kw)\n",
      "\n",
      "  File \"zmq\\backend\\cython\\socket.pyx\", line 336, in zmq.backend.cython.socket.Socket.__init__\n",
      "\n",
      "zmq.error.ZMQError: Too many open files\n",
      "\n",
      "Call stack:\n",
      "\n",
      "  File \"C:\\Users\\Team Epoch A\\Documents\\Epoch III\\citylearn-2022-starter-kit\\venv\\lib\\site-packages\\py4j\\clientserver.py\", line 646, in __del__\n",
      "    self.close()\n",
      "\n",
      "  File \"C:\\Users\\Team Epoch A\\Documents\\Epoch III\\citylearn-2022-starter-kit\\venv\\lib\\site-packages\\py4j\\clientserver.py\", line 543, in close\n",
      "    logger.info(\"Closing down clientserver connection\")\n",
      "\n",
      "Message: 'Closing down clientserver connection'\n",
      "Arguments: ()\n",
      "\n"
     ]
    },
    {
     "name": "stdout",
     "output_type": "stream",
     "text": [
      "100%|█████████▉| 999/1000 [17:16:23<00:33, 33.74s/trial, best loss: 0.8355389565211123]"
     ]
    },
    {
     "name": "stderr",
     "output_type": "stream",
     "text": [
      "py4j.clientserver INFO  Closing down clientserver connection\n",
      "--- Logging error ---\n",
      "\n",
      "Traceback (most recent call last):\n",
      "\n",
      "  File \"C:\\Users\\Team Epoch A\\Documents\\Epoch III\\citylearn-2022-starter-kit\\venv\\lib\\site-packages\\ipykernel\\iostream.py\", line 94, in _event_pipe\n",
      "    event_pipe = self._local.event_pipe\n",
      "\n",
      "AttributeError: '_thread._local' object has no attribute 'event_pipe'\n",
      "\n",
      "\n",
      "During handling of the above exception, another exception occurred:\n",
      "\n",
      "\n",
      "Traceback (most recent call last):\n",
      "\n",
      "  File \"C:\\Users\\Team Epoch A\\AppData\\Local\\Programs\\Python\\Python39\\lib\\logging\\__init__.py\", line 1086, in emit\n",
      "    stream.write(msg + self.terminator)\n",
      "\n",
      "  File \"C:\\Users\\Team Epoch A\\Documents\\Epoch III\\citylearn-2022-starter-kit\\venv\\lib\\site-packages\\ipykernel\\iostream.py\", line 555, in write\n",
      "    self._schedule_flush()\n",
      "\n",
      "  File \"C:\\Users\\Team Epoch A\\Documents\\Epoch III\\citylearn-2022-starter-kit\\venv\\lib\\site-packages\\ipykernel\\iostream.py\", line 461, in _schedule_flush\n",
      "    self.pub_thread.schedule(_schedule_in_thread)\n",
      "\n",
      "  File \"C:\\Users\\Team Epoch A\\Documents\\Epoch III\\citylearn-2022-starter-kit\\venv\\lib\\site-packages\\ipykernel\\iostream.py\", line 210, in schedule\n",
      "    self._event_pipe.send(b\"\")\n",
      "\n",
      "  File \"C:\\Users\\Team Epoch A\\Documents\\Epoch III\\citylearn-2022-starter-kit\\venv\\lib\\site-packages\\ipykernel\\iostream.py\", line 98, in _event_pipe\n",
      "    event_pipe = ctx.socket(zmq.PUSH)\n",
      "\n",
      "  File \"C:\\Users\\Team Epoch A\\Documents\\Epoch III\\citylearn-2022-starter-kit\\venv\\lib\\site-packages\\zmq\\sugar\\context.py\", line 291, in socket\n",
      "    s: ST = self._socket_class(  # set PYTHONTRACEMALLOC=2 to get the calling frame\n",
      "\n",
      "  File \"C:\\Users\\Team Epoch A\\Documents\\Epoch III\\citylearn-2022-starter-kit\\venv\\lib\\site-packages\\zmq\\sugar\\socket.py\", line 94, in __init__\n",
      "    super().__init__(*a, **kw)\n",
      "\n",
      "  File \"zmq\\backend\\cython\\socket.pyx\", line 336, in zmq.backend.cython.socket.Socket.__init__\n",
      "\n",
      "zmq.error.ZMQError: Too many open files\n",
      "\n",
      "Call stack:\n",
      "\n",
      "  File \"C:\\Users\\Team Epoch A\\Documents\\Epoch III\\citylearn-2022-starter-kit\\venv\\lib\\site-packages\\py4j\\clientserver.py\", line 646, in __del__\n",
      "    self.close()\n",
      "\n",
      "  File \"C:\\Users\\Team Epoch A\\Documents\\Epoch III\\citylearn-2022-starter-kit\\venv\\lib\\site-packages\\py4j\\clientserver.py\", line 543, in close\n",
      "    logger.info(\"Closing down clientserver connection\")\n",
      "\n",
      "Message: 'Closing down clientserver connection'\n",
      "Arguments: ()\n",
      "\n"
     ]
    },
    {
     "name": "stdout",
     "output_type": "stream",
     "text": [
      "100%|██████████| 1000/1000 [17:16:26<00:00, 62.19s/trial, best loss: 0.8355389565211123]"
     ]
    },
    {
     "name": "stderr",
     "output_type": "stream",
     "text": [
      "py4j.clientserver INFO  Closing down clientserver connection\n",
      "--- Logging error ---\n",
      "\n",
      "Traceback (most recent call last):\n",
      "\n",
      "  File \"C:\\Users\\Team Epoch A\\Documents\\Epoch III\\citylearn-2022-starter-kit\\venv\\lib\\site-packages\\ipykernel\\iostream.py\", line 94, in _event_pipe\n",
      "    event_pipe = self._local.event_pipe\n",
      "\n",
      "AttributeError: '_thread._local' object has no attribute 'event_pipe'\n",
      "\n",
      "\n",
      "During handling of the above exception, another exception occurred:\n",
      "\n",
      "\n",
      "Traceback (most recent call last):\n",
      "\n",
      "  File \"C:\\Users\\Team Epoch A\\AppData\\Local\\Programs\\Python\\Python39\\lib\\logging\\__init__.py\", line 1086, in emit\n",
      "    stream.write(msg + self.terminator)\n",
      "\n",
      "  File \"C:\\Users\\Team Epoch A\\Documents\\Epoch III\\citylearn-2022-starter-kit\\venv\\lib\\site-packages\\ipykernel\\iostream.py\", line 555, in write\n",
      "    self._schedule_flush()\n",
      "\n",
      "  File \"C:\\Users\\Team Epoch A\\Documents\\Epoch III\\citylearn-2022-starter-kit\\venv\\lib\\site-packages\\ipykernel\\iostream.py\", line 461, in _schedule_flush\n",
      "    self.pub_thread.schedule(_schedule_in_thread)\n",
      "\n",
      "  File \"C:\\Users\\Team Epoch A\\Documents\\Epoch III\\citylearn-2022-starter-kit\\venv\\lib\\site-packages\\ipykernel\\iostream.py\", line 210, in schedule\n",
      "    self._event_pipe.send(b\"\")\n",
      "\n",
      "  File \"C:\\Users\\Team Epoch A\\Documents\\Epoch III\\citylearn-2022-starter-kit\\venv\\lib\\site-packages\\ipykernel\\iostream.py\", line 98, in _event_pipe\n",
      "    event_pipe = ctx.socket(zmq.PUSH)\n",
      "\n",
      "  File \"C:\\Users\\Team Epoch A\\Documents\\Epoch III\\citylearn-2022-starter-kit\\venv\\lib\\site-packages\\zmq\\sugar\\context.py\", line 291, in socket\n",
      "    s: ST = self._socket_class(  # set PYTHONTRACEMALLOC=2 to get the calling frame\n",
      "\n",
      "  File \"C:\\Users\\Team Epoch A\\Documents\\Epoch III\\citylearn-2022-starter-kit\\venv\\lib\\site-packages\\zmq\\sugar\\socket.py\", line 94, in __init__\n",
      "    super().__init__(*a, **kw)\n",
      "\n",
      "  File \"zmq\\backend\\cython\\socket.pyx\", line 336, in zmq.backend.cython.socket.Socket.__init__\n",
      "\n",
      "zmq.error.ZMQError: Too many open files\n",
      "\n",
      "Call stack:\n",
      "\n",
      "  File \"C:\\Users\\Team Epoch A\\Documents\\Epoch III\\citylearn-2022-starter-kit\\venv\\lib\\site-packages\\py4j\\clientserver.py\", line 646, in __del__\n",
      "    self.close()\n",
      "\n",
      "  File \"C:\\Users\\Team Epoch A\\Documents\\Epoch III\\citylearn-2022-starter-kit\\venv\\lib\\site-packages\\py4j\\clientserver.py\", line 543, in close\n",
      "    logger.info(\"Closing down clientserver connection\")\n",
      "\n",
      "Message: 'Closing down clientserver connection'\n",
      "Arguments: ()\n",
      "\n",
      "hyperopt.fmin INFO  Queue empty, exiting run.\n"
     ]
    },
    {
     "name": "stdout",
     "output_type": "stream",
     "text": [
      "\n"
     ]
    },
    {
     "name": "stderr",
     "output_type": "stream",
     "text": [
      "py4j.clientserver INFO  Closing down clientserver connection\n",
      "--- Logging error ---\n",
      "Traceback (most recent call last):\n",
      "  File \"C:\\Users\\Team Epoch A\\Documents\\Epoch III\\citylearn-2022-starter-kit\\venv\\lib\\site-packages\\ipykernel\\iostream.py\", line 94, in _event_pipe\n",
      "    event_pipe = self._local.event_pipe\n",
      "AttributeError: '_thread._local' object has no attribute 'event_pipe'\n",
      "\n",
      "During handling of the above exception, another exception occurred:\n",
      "\n",
      "Traceback (most recent call last):\n",
      "  File \"C:\\Users\\Team Epoch A\\AppData\\Local\\Programs\\Python\\Python39\\lib\\logging\\__init__.py\", line 1086, in emit\n",
      "    stream.write(msg + self.terminator)\n",
      "  File \"C:\\Users\\Team Epoch A\\Documents\\Epoch III\\citylearn-2022-starter-kit\\venv\\lib\\site-packages\\ipykernel\\iostream.py\", line 555, in write\n",
      "    self._schedule_flush()\n",
      "  File \"C:\\Users\\Team Epoch A\\Documents\\Epoch III\\citylearn-2022-starter-kit\\venv\\lib\\site-packages\\ipykernel\\iostream.py\", line 461, in _schedule_flush\n",
      "    self.pub_thread.schedule(_schedule_in_thread)\n",
      "  File \"C:\\Users\\Team Epoch A\\Documents\\Epoch III\\citylearn-2022-starter-kit\\venv\\lib\\site-packages\\ipykernel\\iostream.py\", line 210, in schedule\n",
      "    self._event_pipe.send(b\"\")\n",
      "  File \"C:\\Users\\Team Epoch A\\Documents\\Epoch III\\citylearn-2022-starter-kit\\venv\\lib\\site-packages\\ipykernel\\iostream.py\", line 98, in _event_pipe\n",
      "    event_pipe = ctx.socket(zmq.PUSH)\n",
      "  File \"C:\\Users\\Team Epoch A\\Documents\\Epoch III\\citylearn-2022-starter-kit\\venv\\lib\\site-packages\\zmq\\sugar\\context.py\", line 291, in socket\n",
      "    s: ST = self._socket_class(  # set PYTHONTRACEMALLOC=2 to get the calling frame\n",
      "  File \"C:\\Users\\Team Epoch A\\Documents\\Epoch III\\citylearn-2022-starter-kit\\venv\\lib\\site-packages\\zmq\\sugar\\socket.py\", line 94, in __init__\n",
      "    super().__init__(*a, **kw)\n",
      "  File \"zmq\\backend\\cython\\socket.pyx\", line 336, in zmq.backend.cython.socket.Socket.__init__\n",
      "zmq.error.ZMQError: Too many open files\n",
      "Call stack:\n",
      "  File \"C:\\Users\\Team Epoch A\\Documents\\Epoch III\\citylearn-2022-starter-kit\\venv\\lib\\site-packages\\py4j\\clientserver.py\", line 646, in __del__\n",
      "    self.close()\n",
      "  File \"C:\\Users\\Team Epoch A\\Documents\\Epoch III\\citylearn-2022-starter-kit\\venv\\lib\\site-packages\\py4j\\clientserver.py\", line 543, in close\n",
      "    logger.info(\"Closing down clientserver connection\")\n",
      "Message: 'Closing down clientserver connection'\n",
      "Arguments: ()\n",
      "Total Trials: 1000: 1000 succeeded, 0 failed, 0 cancelled.\n",
      "hyperopt-spark INFO  Total Trials: 1000: 1000 succeeded, 0 failed, 0 cancelled.\n"
     ]
    },
    {
     "data": {
      "text/plain": "{'action_0': -0.1128062526260234,\n 'action_1': -0.16072413878956368,\n 'action_2': -0.18971948710783168,\n 'action_3': -0.3063577960626488,\n 'action_4': 0.015385972703209634,\n 'hour_0': 20.0,\n 'hour_1': 18.0,\n 'hour_2': 5.0,\n 'hour_3': 5.0,\n 'hour_4': 18.0}"
     },
     "execution_count": 6,
     "metadata": {},
     "output_type": "execute_result"
    }
   ],
   "source": [
    "from traineval.evaluation.tune_evaluation import evaluate\n",
    "\n",
    "best_params = fmin(\n",
    "    fn=evaluate,\n",
    "    space=get_params(),\n",
    "    algo=tpe.suggest,  # NOTE: You cannot use atpe.suggest with SparkTrials, then use tpe.suggest\n",
    "    max_evals=1000,\n",
    "    trials=SparkTrials(18),\n",
    "    # early_stop_fn=no_progress_loss(400)\n",
    ")\n",
    "best_params"
   ],
   "metadata": {
    "collapsed": false
   }
  },
  {
   "cell_type": "code",
   "execution_count": 7,
   "outputs": [
    {
     "data": {
      "text/plain": "{'action_0': -0.1128062526260234,\n 'action_1': -0.16072413878956368,\n 'action_2': -0.18971948710783168,\n 'action_3': -0.3063577960626488,\n 'action_4': 0.015385972703209634,\n 'hour_0': 20.0,\n 'hour_1': 18.0,\n 'hour_2': 5.0,\n 'hour_3': 5.0,\n 'hour_4': 18.0}"
     },
     "execution_count": 7,
     "metadata": {},
     "output_type": "execute_result"
    }
   ],
   "source": [
    "best_params"
   ],
   "metadata": {
    "collapsed": false
   }
  },
  {
   "cell_type": "code",
   "execution_count": null,
   "outputs": [],
   "source": [
    "# 10, 23"
   ],
   "metadata": {
    "collapsed": false
   }
  }
 ],
 "metadata": {
  "kernelspec": {
   "display_name": "Python 3",
   "language": "python",
   "name": "python3"
  },
  "language_info": {
   "codemirror_mode": {
    "name": "ipython",
    "version": 2
   },
   "file_extension": ".py",
   "mimetype": "text/x-python",
   "name": "python",
   "nbconvert_exporter": "python",
   "pygments_lexer": "ipython2",
   "version": "2.7.6"
  }
 },
 "nbformat": 4,
 "nbformat_minor": 0
}
