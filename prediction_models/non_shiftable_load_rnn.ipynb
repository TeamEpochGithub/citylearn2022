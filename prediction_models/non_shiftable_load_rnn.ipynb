{
 "cells": [
  {
   "cell_type": "code",
   "execution_count": 262,
   "metadata": {
    "collapsed": true,
    "pycharm": {
     "name": "#%%\n"
    }
   },
   "outputs": [],
   "source": [
    "from pandas import read_csv\n",
    "import numpy as np\n",
    "from tensorflow import keras\n",
    "from keras.models import Sequential\n",
    "from keras.layers import Dense, SimpleRNN\n",
    "from sklearn.preprocessing import MinMaxScaler\n",
    "from sklearn.metrics import mean_squared_error\n",
    "import math\n",
    "import matplotlib.pyplot as plt\n"
   ]
  },
  {
   "cell_type": "code",
   "execution_count": 263,
   "outputs": [],
   "source": [
    "import pandas as pd\n",
    "from data import citylearn_challenge_2022_phase_1 as competition_data\n",
    "import os.path as osp\n",
    "\n",
    "nsload_data_path = osp.join(osp.dirname(competition_data.__file__), \"load_data.csv\")\n",
    "nsload_data = pd.read_csv(nsload_data_path)\n",
    "\n",
    "# for i in range(5):\n",
    "#     plt.plot(nsload_data[\"non_shiftable_load\"][i*8760 : 8760 + i*8760])\n",
    "#     plt.show()"
   ],
   "metadata": {
    "collapsed": false,
    "pycharm": {
     "name": "#%%\n"
    }
   }
  },
  {
   "cell_type": "code",
   "execution_count": 264,
   "outputs": [],
   "source": [
    "selected_params = [\"outdoor_dry_bulb\", \"non_shiftable_load\", \"non_shiftable_load_future\"] # \"outdoor_dry_bulb\", \"outdoor_relative_humidity\",\n",
    "nsload_data = nsload_data[selected_params]"
   ],
   "metadata": {
    "collapsed": false,
    "pycharm": {
     "name": "#%%\n"
    }
   }
  },
  {
   "cell_type": "code",
   "execution_count": 265,
   "outputs": [
    {
     "data": {
      "text/plain": "       outdoor_dry_bulb  non_shiftable_load  non_shiftable_load_future\n0                  20.1            0.851167                   0.834600\n1                  19.7            0.834600                   0.838167\n2                  19.3            0.838167                   1.478433\n3                  18.9            1.478433                   1.256200\n4                  18.3            1.256200                   1.869517\n...                 ...                 ...                        ...\n43785              21.1            3.964600                   2.730183\n43786              20.6            2.730183                   0.935833\n43787              21.1            0.935833                   2.155017\n43788              21.7            2.155017                   2.316400\n43789              21.3            2.316400                   1.212400\n\n[43790 rows x 3 columns]",
      "text/html": "<div>\n<style scoped>\n    .dataframe tbody tr th:only-of-type {\n        vertical-align: middle;\n    }\n\n    .dataframe tbody tr th {\n        vertical-align: top;\n    }\n\n    .dataframe thead th {\n        text-align: right;\n    }\n</style>\n<table border=\"1\" class=\"dataframe\">\n  <thead>\n    <tr style=\"text-align: right;\">\n      <th></th>\n      <th>outdoor_dry_bulb</th>\n      <th>non_shiftable_load</th>\n      <th>non_shiftable_load_future</th>\n    </tr>\n  </thead>\n  <tbody>\n    <tr>\n      <th>0</th>\n      <td>20.1</td>\n      <td>0.851167</td>\n      <td>0.834600</td>\n    </tr>\n    <tr>\n      <th>1</th>\n      <td>19.7</td>\n      <td>0.834600</td>\n      <td>0.838167</td>\n    </tr>\n    <tr>\n      <th>2</th>\n      <td>19.3</td>\n      <td>0.838167</td>\n      <td>1.478433</td>\n    </tr>\n    <tr>\n      <th>3</th>\n      <td>18.9</td>\n      <td>1.478433</td>\n      <td>1.256200</td>\n    </tr>\n    <tr>\n      <th>4</th>\n      <td>18.3</td>\n      <td>1.256200</td>\n      <td>1.869517</td>\n    </tr>\n    <tr>\n      <th>...</th>\n      <td>...</td>\n      <td>...</td>\n      <td>...</td>\n    </tr>\n    <tr>\n      <th>43785</th>\n      <td>21.1</td>\n      <td>3.964600</td>\n      <td>2.730183</td>\n    </tr>\n    <tr>\n      <th>43786</th>\n      <td>20.6</td>\n      <td>2.730183</td>\n      <td>0.935833</td>\n    </tr>\n    <tr>\n      <th>43787</th>\n      <td>21.1</td>\n      <td>0.935833</td>\n      <td>2.155017</td>\n    </tr>\n    <tr>\n      <th>43788</th>\n      <td>21.7</td>\n      <td>2.155017</td>\n      <td>2.316400</td>\n    </tr>\n    <tr>\n      <th>43789</th>\n      <td>21.3</td>\n      <td>2.316400</td>\n      <td>1.212400</td>\n    </tr>\n  </tbody>\n</table>\n<p>43790 rows × 3 columns</p>\n</div>"
     },
     "execution_count": 265,
     "metadata": {},
     "output_type": "execute_result"
    }
   ],
   "source": [
    "nsload_data"
   ],
   "metadata": {
    "collapsed": false,
    "pycharm": {
     "name": "#%%\n"
    }
   }
  },
  {
   "cell_type": "code",
   "execution_count": 266,
   "outputs": [
    {
     "name": "stdout",
     "output_type": "stream",
     "text": [
      "[[ 0.91549546 -0.24193832]\n",
      " [ 0.80328076 -0.26057443]\n",
      " [ 0.69106605 -0.25656223]\n",
      " ...\n",
      " [ 1.19603224 -0.14669546]\n",
      " [ 1.3643543   1.22478309]\n",
      " [ 1.25213959  1.40632574]]\n",
      "(43790, 2)\n",
      "(43790, 1)\n"
     ]
    }
   ],
   "source": [
    "from sklearn.preprocessing import StandardScaler\n",
    "sc = StandardScaler()\n",
    "# nsload_data = nsload_data[0:8760]\n",
    "df_load_scaled = sc.fit_transform(nsload_data)\n",
    "df_load_scaled = np.delete(df_load_scaled, -1, axis=1)\n",
    "print(df_load_scaled)\n",
    "print(df_load_scaled.shape)\n",
    "\n",
    "sc2 = StandardScaler()\n",
    "df_load_scaled_y = sc2.fit_transform(nsload_data[[\"non_shiftable_load_future\"]])\n",
    "print(df_load_scaled_y.shape)"
   ],
   "metadata": {
    "collapsed": false,
    "pycharm": {
     "name": "#%%\n"
    }
   }
  },
  {
   "cell_type": "code",
   "execution_count": 267,
   "outputs": [
    {
     "name": "stdout",
     "output_type": "stream",
     "text": [
      "(43766, 24, 2)\n",
      "(43766,)\n"
     ]
    }
   ],
   "source": [
    "hops = 24\n",
    "no_records = df_load_scaled_y.shape[0]\n",
    "no_cols = len(selected_params) - 1\n",
    "X_train = []\n",
    "y_train = []\n",
    "for i in range(hops, no_records):\n",
    "    X_train.append(df_load_scaled[i-hops:i])\n",
    "    y_train.append(df_load_scaled_y[i][0])\n",
    "X_train, y_train = np.array(X_train), np.array(y_train)\n",
    "\n",
    "print(X_train.shape)\n",
    "print(y_train.shape)"
   ],
   "metadata": {
    "collapsed": false,
    "pycharm": {
     "name": "#%%\n"
    }
   }
  },
  {
   "cell_type": "code",
   "execution_count": 268,
   "outputs": [],
   "source": [
    "X_train_reshaped = np.reshape(X_train, (X_train.shape[0], X_train.shape[1], X_train.shape[2]))"
   ],
   "metadata": {
    "collapsed": false,
    "pycharm": {
     "name": "#%%\n"
    }
   }
  },
  {
   "cell_type": "code",
   "execution_count": 269,
   "outputs": [
    {
     "data": {
      "text/plain": "(43766, 24, 2)"
     },
     "execution_count": 269,
     "metadata": {},
     "output_type": "execute_result"
    }
   ],
   "source": [
    "X_train_reshaped.shape"
   ],
   "metadata": {
    "collapsed": false,
    "pycharm": {
     "name": "#%%\n"
    }
   }
  },
  {
   "cell_type": "code",
   "execution_count": 270,
   "outputs": [],
   "source": [
    "from keras.models import Sequential\n",
    "from keras.layers import Dense, LSTM, Dropout\n",
    "\n",
    "model=Sequential()\n",
    "model.add(LSTM(units=64, return_sequences=True, input_shape=(hops,no_cols)))\n",
    "model.add(Dropout(0.2))\n",
    "model.add(LSTM(units=64))\n",
    "model.add(Dropout(0.2))\n",
    "model.add(Dense(1))\n",
    "model.compile(optimizer='adam', loss='mean_squared_error')"
   ],
   "metadata": {
    "collapsed": false,
    "pycharm": {
     "name": "#%%\n"
    }
   }
  },
  {
   "cell_type": "code",
   "execution_count": 272,
   "outputs": [
    {
     "name": "stdout",
     "output_type": "stream",
     "text": [
      "Epoch 1/32\n",
      "912/912 [==============================] - 53s 58ms/step - loss: 0.2522 - val_loss: 0.8274\n",
      "Epoch 2/32\n",
      "912/912 [==============================] - 52s 58ms/step - loss: 0.2493 - val_loss: 0.8175\n",
      "Epoch 3/32\n",
      "912/912 [==============================] - 52s 58ms/step - loss: 0.2432 - val_loss: 0.8269\n",
      "Epoch 4/32\n",
      "912/912 [==============================] - 53s 58ms/step - loss: 0.2477 - val_loss: 0.8287\n",
      "Epoch 5/32\n",
      "912/912 [==============================] - 54s 59ms/step - loss: 0.2395 - val_loss: 0.8563\n",
      "Epoch 6/32\n",
      "912/912 [==============================] - 53s 58ms/step - loss: 0.2426 - val_loss: 0.8402\n",
      "Epoch 7/32\n",
      "912/912 [==============================] - 53s 58ms/step - loss: 0.2415 - val_loss: 0.8195\n",
      "Epoch 8/32\n",
      "912/912 [==============================] - 53s 58ms/step - loss: 0.2340 - val_loss: 0.8303\n",
      "Epoch 9/32\n",
      "912/912 [==============================] - 53s 58ms/step - loss: 0.2305 - val_loss: 0.8154\n",
      "Epoch 10/32\n",
      "912/912 [==============================] - 53s 58ms/step - loss: 0.2378 - val_loss: 0.8534\n",
      "Epoch 11/32\n",
      "912/912 [==============================] - 53s 58ms/step - loss: 0.2322 - val_loss: 0.8311\n",
      "Epoch 12/32\n",
      "912/912 [==============================] - 53s 58ms/step - loss: 0.2384 - val_loss: 0.8435\n",
      "Epoch 13/32\n",
      "912/912 [==============================] - 53s 58ms/step - loss: 0.2266 - val_loss: 0.8587\n",
      "Epoch 14/32\n",
      "912/912 [==============================] - 53s 58ms/step - loss: 0.2221 - val_loss: 0.8769\n",
      "Epoch 15/32\n",
      "912/912 [==============================] - 54s 59ms/step - loss: 0.2257 - val_loss: 0.8389\n",
      "Epoch 16/32\n",
      "912/912 [==============================] - 54s 59ms/step - loss: 0.2281 - val_loss: 0.8678\n",
      "Epoch 17/32\n",
      "912/912 [==============================] - 54s 59ms/step - loss: 0.2279 - val_loss: 0.8715\n",
      "Epoch 18/32\n",
      "912/912 [==============================] - 54s 59ms/step - loss: 0.2199 - val_loss: 0.9002\n",
      "Epoch 19/32\n",
      "912/912 [==============================] - 54s 59ms/step - loss: 0.2192 - val_loss: 0.8753\n",
      "Epoch 20/32\n",
      "912/912 [==============================] - 54s 59ms/step - loss: 0.2208 - val_loss: 0.8629\n",
      "Epoch 21/32\n",
      "912/912 [==============================] - 54s 60ms/step - loss: 0.2159 - val_loss: 0.8449\n",
      "Epoch 22/32\n",
      "912/912 [==============================] - 54s 59ms/step - loss: 0.2169 - val_loss: 0.8205\n",
      "Epoch 23/32\n",
      "912/912 [==============================] - 54s 59ms/step - loss: 0.2116 - val_loss: 0.8267\n",
      "Epoch 24/32\n",
      "912/912 [==============================] - 54s 59ms/step - loss: 0.2116 - val_loss: 0.8439\n",
      "Epoch 25/32\n",
      "912/912 [==============================] - 54s 59ms/step - loss: 0.2152 - val_loss: 0.7890\n",
      "Epoch 26/32\n",
      "912/912 [==============================] - 54s 59ms/step - loss: 0.2109 - val_loss: 0.8223\n",
      "Epoch 27/32\n",
      "912/912 [==============================] - 54s 59ms/step - loss: 0.2058 - val_loss: 0.8458\n",
      "Epoch 28/32\n",
      "912/912 [==============================] - 54s 59ms/step - loss: 0.2167 - val_loss: 0.8240\n",
      "Epoch 29/32\n",
      "912/912 [==============================] - 54s 59ms/step - loss: 0.2091 - val_loss: 0.8238\n",
      "Epoch 30/32\n",
      "912/912 [==============================] - 54s 59ms/step - loss: 0.1985 - val_loss: 0.8503\n",
      "Epoch 31/32\n",
      "912/912 [==============================] - 54s 59ms/step - loss: 0.2056 - val_loss: 0.8323\n",
      "Epoch 32/32\n",
      "912/912 [==============================] - 54s 59ms/step - loss: 0.2014 - val_loss: 0.8437\n"
     ]
    },
    {
     "data": {
      "text/plain": "<keras.callbacks.History at 0x1a059429c10>"
     },
     "execution_count": 272,
     "metadata": {},
     "output_type": "execute_result"
    }
   ],
   "source": [
    "model.fit(X_train_reshaped, y_train, validation_split=0.5, epochs=32, batch_size=24, shuffle=True, workers=24, use_multiprocessing=True)"
   ],
   "metadata": {
    "collapsed": false
   }
  },
  {
   "cell_type": "code",
   "execution_count": 273,
   "outputs": [],
   "source": [
    "from pickle import dump\n",
    "model.save(\"non_shiftable_load_model.h5\")\n",
    "dump(sc, open(\"non_shiftable_load_scaler.pkl\", \"wb\"))"
   ],
   "metadata": {
    "collapsed": false,
    "pycharm": {
     "name": "#%%\n"
    }
   }
  },
  {
   "cell_type": "code",
   "execution_count": 251,
   "outputs": [],
   "source": [],
   "metadata": {
    "collapsed": false,
    "pycharm": {
     "name": "#%%\n"
    }
   }
  },
  {
   "cell_type": "code",
   "execution_count": null,
   "outputs": [],
   "source": [],
   "metadata": {
    "collapsed": false,
    "pycharm": {
     "name": "#%%\n"
    }
   }
  },
  {
   "cell_type": "code",
   "execution_count": null,
   "outputs": [],
   "source": [],
   "metadata": {
    "collapsed": false,
    "pycharm": {
     "name": "#%%\n"
    }
   }
  },
  {
   "cell_type": "code",
   "execution_count": null,
   "outputs": [],
   "source": [],
   "metadata": {
    "collapsed": false,
    "pycharm": {
     "name": "#%%\n"
    }
   }
  },
  {
   "cell_type": "code",
   "execution_count": null,
   "outputs": [],
   "source": [],
   "metadata": {
    "collapsed": false,
    "pycharm": {
     "name": "#%%\n"
    }
   }
  },
  {
   "cell_type": "code",
   "execution_count": null,
   "outputs": [],
   "source": [],
   "metadata": {
    "collapsed": false,
    "pycharm": {
     "name": "#%%\n"
    }
   }
  },
  {
   "cell_type": "code",
   "execution_count": null,
   "outputs": [],
   "source": [],
   "metadata": {
    "collapsed": false,
    "pycharm": {
     "name": "#%%\n"
    }
   }
  },
  {
   "cell_type": "code",
   "execution_count": null,
   "outputs": [],
   "source": [],
   "metadata": {
    "collapsed": false,
    "pycharm": {
     "name": "#%%\n"
    }
   }
  },
  {
   "cell_type": "code",
   "execution_count": null,
   "outputs": [],
   "source": [],
   "metadata": {
    "collapsed": false,
    "pycharm": {
     "name": "#%%\n"
    }
   }
  },
  {
   "cell_type": "code",
   "execution_count": null,
   "outputs": [],
   "source": [],
   "metadata": {
    "collapsed": false,
    "pycharm": {
     "name": "#%%\n"
    }
   }
  },
  {
   "cell_type": "code",
   "execution_count": null,
   "outputs": [],
   "source": [],
   "metadata": {
    "collapsed": false,
    "pycharm": {
     "name": "#%%\n"
    }
   }
  },
  {
   "cell_type": "code",
   "execution_count": null,
   "outputs": [],
   "source": [],
   "metadata": {
    "collapsed": false,
    "pycharm": {
     "name": "#%%\n"
    }
   }
  },
  {
   "cell_type": "code",
   "execution_count": 60,
   "outputs": [],
   "source": [
    "# units = dimensionality of the output space\n",
    "\n",
    "\n",
    "def create_RNN(hidden_units, dense_units, input_shape, activation):\n",
    "    model = Sequential()\n",
    "    model.add(SimpleRNN(hidden_units, input_shape=input_shape,\n",
    "                        activation=activation[0]))\n",
    "    model.add(Dense(units=dense_units, activation=activation[1]))\n",
    "    model.compile(loss='mean_squared_error', optimizer='adam')\n",
    "    return model\n",
    "\n",
    "demo_model = create_RNN(hidden_units=2, dense_units=1, input_shape=(3,1), activation=['relu', 'relu'])"
   ],
   "metadata": {
    "collapsed": false,
    "pycharm": {
     "name": "#%%\n"
    }
   }
  },
  {
   "cell_type": "code",
   "execution_count": null,
   "outputs": [],
   "source": [],
   "metadata": {
    "collapsed": false,
    "pycharm": {
     "name": "#%%\n"
    }
   }
  }
 ],
 "metadata": {
  "kernelspec": {
   "display_name": "Python 3",
   "language": "python",
   "name": "python3"
  },
  "language_info": {
   "codemirror_mode": {
    "name": "ipython",
    "version": 2
   },
   "file_extension": ".py",
   "mimetype": "text/x-python",
   "name": "python",
   "nbconvert_exporter": "python",
   "pygments_lexer": "ipython2",
   "version": "2.7.6"
  }
 },
 "nbformat": 4,
 "nbformat_minor": 0
}
