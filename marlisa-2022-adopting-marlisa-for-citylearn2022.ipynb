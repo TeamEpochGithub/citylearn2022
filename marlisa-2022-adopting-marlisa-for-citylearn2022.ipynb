{
 "cells": [
  {
   "cell_type": "markdown",
   "metadata": {
    "pycharm": {
     "name": "#%% md\n"
    }
   },
   "source": [
    "# CityLearn MARLISA 2022\n",
    "\n",
    "```\n",
    "Author: Chia E Tungom\n",
    "Email: bamtungom@protonmail.com\n",
    "Date: Aug-11-2022\n",
    "```\n",
    "\n",
    "In this Notebook we outline how the Multiagent Reinforcement Learning Algorithm MARLISA can be modified for the 2022 CityLearn Challenge.\n",
    "For details on how MARLISA works, refer to the [study]() and for the orignal implementation refer to the [CityLearn git repository](https://github.com/intelligent-environments-lab/CityLearn/blob/master/agents/marlisa.py).\n",
    "\n",
    "A brief of what the algorithm aims to achieve is a follows \n",
    "1. Implement a Multi-agent version of Soft-Actor Critic (SAC) algorithm\n",
    "    - Design a reward function with individual and collective goals\n",
    "    - Agents share information amongs each other using a leader-follower scheme\n",
    "        - Each building has it's own RL agent\n",
    "2. Use the algorithm to\n",
    "    - Plan and Control energy storage of a diverse set of buildings\n",
    "    - Aim to reshape the aggregated curve of electricity demand\n",
    "    - Decide how much heating and cooling is stored or released at any time\n",
    "3. Measure performance on the following metric\n",
    "    - Annual net electricity consumption in the district\n",
    "    - Average daily peak demand\n",
    "    - Annual peak demand \n",
    "    - Ramping \n",
    "\n",
    "Unlike the CityLearn environment where MARLISA was implemented in, the 2022 CityLearn Challenge environment has different environmnet features and optimization objective. \n",
    "In this Notebook we aim to show how MARLISA can be adapted to the 2022 CityLearn Challenge. We do so by doing the following \n",
    "1. Setting Up the CityLearn 2022 Environment\n",
    "2. Getting Building information (should be MARLISA compatible)\n",
    "3. Some Data Overview\n",
    "4. Generate Building State Actions requirements\n",
    "5. Outline Modifications of MARLISA code\n",
    "6. Run `MARLISA2022`\n",
    "\n",
    "__Note:__ I only aim to make it easier for those who want to get started with MARL(ISA)\n",
    "\n",
    "To Run this Notebook, you will need to have the started git repo with the following folder\n",
    "- Get the MARLISA python file from the [intelligent-environments-lab](https://github.com/intelligent-environments-lab/CityLearn/blob/master/agents/marlisa.py) git hub repo and place in the agents folder \n",
    "- Get the common folder from the [intelligent-environments-lab](https://github.com/intelligent-environments-lab/CityLearn/tree/master/common) and place in the root folder of ur starter git folder\n",
    "- Place this Notebook in the root folder as well\n",
    "- __YOU ARE GOOD TO GO !!!!__\n",
    "\n",
    "__This Notebook was made while listening to [MONALISA](https://www.youtube.com/watch?v=to8nQNGarRw). Enjoy!!! __\n",
    "\n",
    "__Lets Gooooooooooo!!!__"
   ]
  },
  {
   "cell_type": "markdown",
   "metadata": {
    "pycharm": {
     "name": "#%% md\n"
    }
   },
   "source": [
    "## 1. Load Environment \n",
    "\n",
    "We beginning by setting Up our RL environment for CityLearn2022. Some of the code in this section  was  taken from the local evaluation python file in the starter kit repo"
   ]
  },
  {
   "cell_type": "code",
   "execution_count": 11,
   "metadata": {
    "pycharm": {
     "name": "#%%\n"
    }
   },
   "outputs": [
    {
     "name": "stderr",
     "output_type": "stream",
     "text": [
      "Warning: Gym version v0.24.1 has a number of critical issues with `gym.make` such that environment observation and action spaces are incorrectly evaluated, raising incorrect errors and warning . It is recommend to downgrading to v0.23.1 or upgrading to v0.25.1\n"
     ]
    }
   ],
   "source": [
    "# from citylearn import CityLearn\n",
    "# !pip3 install sklearn\n",
    "import matplotlib.pyplot as plt\n",
    "from pathlib import Path\n",
    "from agents.marlisa import MARLISA\n",
    "import numpy as np\n",
    "from tqdm import tqdm\n",
    "import time\n",
    "from citylearn.citylearn import CityLearnEnv\n",
    "\n",
    "# Custom configure enviroment \n",
    "class Constants:\n",
    "    episodes = 3\n",
    "    schema_path = './data/citylearn_challenge_2022_phase_1/schema.json'\n",
    "\n",
    "def action_space_to_dict(aspace):\n",
    "    \"\"\" Only for box space \"\"\"\n",
    "    return { \"high\": aspace.high,\n",
    "             \"low\": aspace.low,\n",
    "             \"shape\": aspace.shape,\n",
    "             \"dtype\": str(aspace.dtype)\n",
    "    }\n",
    "\n",
    "def env_reset(env):\n",
    "    observations = env.reset()\n",
    "    action_space = env.action_space\n",
    "    observation_space = env.observation_space\n",
    "    building_info = env.get_building_information()\n",
    "    building_info = list(building_info.values())\n",
    "    action_space_dicts = [action_space_to_dict(asp) for asp in action_space]\n",
    "    observation_space_dicts = [action_space_to_dict(osp) for osp in observation_space]\n",
    "    obs_dict = {\"action_space\": action_space_dicts,\n",
    "                \"observation_space\": observation_space_dicts,\n",
    "                \"building_info\": building_info,\n",
    "                \"observation\": observations }\n",
    "    return obs_dict\n",
    "\n",
    "env = CityLearnEnv(schema=Constants.schema_path)"
   ]
  },
  {
   "cell_type": "markdown",
   "metadata": {
    "pycharm": {
     "name": "#%% md\n"
    }
   },
   "source": [
    "## 2. Get Building Information\n",
    "\n",
    "Building Information is needed as input in the MARLISA algorithm. Building information contains information like \n",
    "- A buildings solar power storage capacity\n",
    "- A buildings annual demand for cooling, heating  and dhw (deep hot water)\n",
    "- And other information\n",
    "\n",
    "To get building information, you can run the command `env.get_building_information()`. The information we get does not contain keys like Building_1 which as needed but rather some sequence of random letters and numbers. We make modifications to rename the buildings in the order they appear (I am not sure this renaming is proper and if you have an idea please leave a comment below).\n",
    "\n",
    "The Buildings are renamed the same way buildings are named in the CityLearn environment."
   ]
  },
  {
   "cell_type": "code",
   "execution_count": 13,
   "metadata": {
    "pycharm": {
     "name": "#%%\n"
    }
   },
   "outputs": [
    {
     "data": {
      "text/plain": "{'solar_power': 4.0,\n 'annual_dhw_demand': 0.0,\n 'annual_cooling_demand': 0.0,\n 'annual_heating_demand': 0.0,\n 'annual_nonshiftable_electrical_demand': 0.001,\n 'correlations_dhw': {'0678f42c50f746018ac6bf05e4106df8': nan,\n  '04866a526ece42df8b6bf3bd4155c98b': nan,\n  'b7ef164a4f5045aaad5395aab4dd5b77': nan,\n  '9c82a0f02fc440bf906240752b9d7517': nan},\n 'correlations_cooling_demand': {'0678f42c50f746018ac6bf05e4106df8': nan,\n  '04866a526ece42df8b6bf3bd4155c98b': nan,\n  'b7ef164a4f5045aaad5395aab4dd5b77': nan,\n  '9c82a0f02fc440bf906240752b9d7517': nan},\n 'correlations_heating_demand': {'0678f42c50f746018ac6bf05e4106df8': nan,\n  '04866a526ece42df8b6bf3bd4155c98b': nan,\n  'b7ef164a4f5045aaad5395aab4dd5b77': nan,\n  '9c82a0f02fc440bf906240752b9d7517': nan},\n 'correlations_non_shiftable_load': {'0678f42c50f746018ac6bf05e4106df8': 0.196,\n  '04866a526ece42df8b6bf3bd4155c98b': 0.192,\n  'b7ef164a4f5045aaad5395aab4dd5b77': 0.166,\n  '9c82a0f02fc440bf906240752b9d7517': 0.25}}"
     },
     "execution_count": 13,
     "metadata": {},
     "output_type": "execute_result"
    }
   ],
   "source": [
    "observations_spaces, actions_spaces = env.observation_space, env.action_space\n",
    "\n",
    "building_info = env.get_building_information()\n",
    "\n",
    "def RenameBuilding(Building_Info):\n",
    "    newB = {}\n",
    "    for i, building in enumerate(Building_Info):\n",
    "        newB[\"Building_\"+str(i+1)] = building_info[building]\n",
    "    return newB\n",
    "\n",
    "building_info = RenameBuilding(building_info)\n",
    "building_info['Building_1']"
   ]
  },
  {
   "cell_type": "markdown",
   "metadata": {
    "pycharm": {
     "name": "#%% md\n"
    }
   },
   "source": [
    "## 3. A Look at Building Data\n",
    "\n",
    "Taking a Look at Building Data we see that the observations\n",
    "\n",
    "- `Indoor Temperature [C]`, `Average Unmet Cooling Setpoint Difference [C]` and `Indoor Relative Humidity [%]`: All have NaN values \t\n",
    "- `DHW Heating [kWh]`, `Cooling Load [kWh]` and `Heating Load [kWh]`: \tAll have values 0\n",
    "\n",
    "If this is the case when sampled in the environmet, we don't need this variables for learning a model as they don't provide any information about a building  or state.\n",
    "\n",
    "This is useful because inside MARLISA we can set which observations to be removed if need be"
   ]
  },
  {
   "cell_type": "code",
   "execution_count": 14,
   "metadata": {
    "pycharm": {
     "name": "#%%\n"
    }
   },
   "outputs": [
    {
     "name": "stderr",
     "output_type": "stream",
     "text": [
      "C:\\Users\\philip\\Storage\\Epoch\\citylearn-2022-starter-kit\\venv\\lib\\site-packages\\plotly\\io\\_renderers.py:395: DeprecationWarning:\n",
      "\n",
      "distutils Version classes are deprecated. Use packaging.version instead.\n",
      "\n"
     ]
    },
    {
     "data": {
      "application/vnd.plotly.v1+json": {
       "data": [
        {
         "alignmentgroup": "True",
         "hovertemplate": "color=Month<br>x=%{x}<br>y=%{y}<extra></extra>",
         "legendgroup": "Month",
         "marker": {
          "color": "#636efa",
          "pattern": {
           "shape": ""
          }
         },
         "name": "Month",
         "offsetgroup": "Month",
         "orientation": "v",
         "showlegend": true,
         "textposition": "auto",
         "x": [
          "Month"
         ],
         "xaxis": "x",
         "y": [
          0
         ],
         "yaxis": "y",
         "type": "bar"
        },
        {
         "alignmentgroup": "True",
         "hovertemplate": "color=Hour<br>x=%{x}<br>y=%{y}<extra></extra>",
         "legendgroup": "Hour",
         "marker": {
          "color": "#EF553B",
          "pattern": {
           "shape": ""
          }
         },
         "name": "Hour",
         "offsetgroup": "Hour",
         "orientation": "v",
         "showlegend": true,
         "textposition": "auto",
         "x": [
          "Hour"
         ],
         "xaxis": "x",
         "y": [
          0
         ],
         "yaxis": "y",
         "type": "bar"
        },
        {
         "alignmentgroup": "True",
         "hovertemplate": "color=Day Type<br>x=%{x}<br>y=%{y}<extra></extra>",
         "legendgroup": "Day Type",
         "marker": {
          "color": "#00cc96",
          "pattern": {
           "shape": ""
          }
         },
         "name": "Day Type",
         "offsetgroup": "Day Type",
         "orientation": "v",
         "showlegend": true,
         "textposition": "auto",
         "x": [
          "Day Type"
         ],
         "xaxis": "x",
         "y": [
          0
         ],
         "yaxis": "y",
         "type": "bar"
        },
        {
         "alignmentgroup": "True",
         "hovertemplate": "color=Daylight Savings Status<br>x=%{x}<br>y=%{y}<extra></extra>",
         "legendgroup": "Daylight Savings Status",
         "marker": {
          "color": "#ab63fa",
          "pattern": {
           "shape": ""
          }
         },
         "name": "Daylight Savings Status",
         "offsetgroup": "Daylight Savings Status",
         "orientation": "v",
         "showlegend": true,
         "textposition": "auto",
         "x": [
          "Daylight Savings Status"
         ],
         "xaxis": "x",
         "y": [
          0
         ],
         "yaxis": "y",
         "type": "bar"
        },
        {
         "alignmentgroup": "True",
         "hovertemplate": "color=Indoor Temperature [C]<br>x=%{x}<br>y=%{y}<extra></extra>",
         "legendgroup": "Indoor Temperature [C]",
         "marker": {
          "color": "#FFA15A",
          "pattern": {
           "shape": ""
          }
         },
         "name": "Indoor Temperature [C]",
         "offsetgroup": "Indoor Temperature [C]",
         "orientation": "v",
         "showlegend": true,
         "textposition": "auto",
         "x": [
          "Indoor Temperature [C]"
         ],
         "xaxis": "x",
         "y": [
          8760
         ],
         "yaxis": "y",
         "type": "bar"
        },
        {
         "alignmentgroup": "True",
         "hovertemplate": "color=Average Unmet Cooling Setpoint Difference [C]<br>x=%{x}<br>y=%{y}<extra></extra>",
         "legendgroup": "Average Unmet Cooling Setpoint Difference [C]",
         "marker": {
          "color": "#19d3f3",
          "pattern": {
           "shape": ""
          }
         },
         "name": "Average Unmet Cooling Setpoint Difference [C]",
         "offsetgroup": "Average Unmet Cooling Setpoint Difference [C]",
         "orientation": "v",
         "showlegend": true,
         "textposition": "auto",
         "x": [
          "Average Unmet Cooling Setpoint Difference [C]"
         ],
         "xaxis": "x",
         "y": [
          8760
         ],
         "yaxis": "y",
         "type": "bar"
        },
        {
         "alignmentgroup": "True",
         "hovertemplate": "color=Indoor Relative Humidity [%]<br>x=%{x}<br>y=%{y}<extra></extra>",
         "legendgroup": "Indoor Relative Humidity [%]",
         "marker": {
          "color": "#FF6692",
          "pattern": {
           "shape": ""
          }
         },
         "name": "Indoor Relative Humidity [%]",
         "offsetgroup": "Indoor Relative Humidity [%]",
         "orientation": "v",
         "showlegend": true,
         "textposition": "auto",
         "x": [
          "Indoor Relative Humidity [%]"
         ],
         "xaxis": "x",
         "y": [
          8760
         ],
         "yaxis": "y",
         "type": "bar"
        },
        {
         "alignmentgroup": "True",
         "hovertemplate": "color=Equipment Electric Power [kWh]<br>x=%{x}<br>y=%{y}<extra></extra>",
         "legendgroup": "Equipment Electric Power [kWh]",
         "marker": {
          "color": "#B6E880",
          "pattern": {
           "shape": ""
          }
         },
         "name": "Equipment Electric Power [kWh]",
         "offsetgroup": "Equipment Electric Power [kWh]",
         "orientation": "v",
         "showlegend": true,
         "textposition": "auto",
         "x": [
          "Equipment Electric Power [kWh]"
         ],
         "xaxis": "x",
         "y": [
          0
         ],
         "yaxis": "y",
         "type": "bar"
        },
        {
         "alignmentgroup": "True",
         "hovertemplate": "color=DHW Heating [kWh]<br>x=%{x}<br>y=%{y}<extra></extra>",
         "legendgroup": "DHW Heating [kWh]",
         "marker": {
          "color": "#FF97FF",
          "pattern": {
           "shape": ""
          }
         },
         "name": "DHW Heating [kWh]",
         "offsetgroup": "DHW Heating [kWh]",
         "orientation": "v",
         "showlegend": true,
         "textposition": "auto",
         "x": [
          "DHW Heating [kWh]"
         ],
         "xaxis": "x",
         "y": [
          0
         ],
         "yaxis": "y",
         "type": "bar"
        },
        {
         "alignmentgroup": "True",
         "hovertemplate": "color=Cooling Load [kWh]<br>x=%{x}<br>y=%{y}<extra></extra>",
         "legendgroup": "Cooling Load [kWh]",
         "marker": {
          "color": "#FECB52",
          "pattern": {
           "shape": ""
          }
         },
         "name": "Cooling Load [kWh]",
         "offsetgroup": "Cooling Load [kWh]",
         "orientation": "v",
         "showlegend": true,
         "textposition": "auto",
         "x": [
          "Cooling Load [kWh]"
         ],
         "xaxis": "x",
         "y": [
          0
         ],
         "yaxis": "y",
         "type": "bar"
        },
        {
         "alignmentgroup": "True",
         "hovertemplate": "color=Heating Load [kWh]<br>x=%{x}<br>y=%{y}<extra></extra>",
         "legendgroup": "Heating Load [kWh]",
         "marker": {
          "color": "#636efa",
          "pattern": {
           "shape": ""
          }
         },
         "name": "Heating Load [kWh]",
         "offsetgroup": "Heating Load [kWh]",
         "orientation": "v",
         "showlegend": true,
         "textposition": "auto",
         "x": [
          "Heating Load [kWh]"
         ],
         "xaxis": "x",
         "y": [
          0
         ],
         "yaxis": "y",
         "type": "bar"
        },
        {
         "alignmentgroup": "True",
         "hovertemplate": "color=Solar Generation [W/kW]<br>x=%{x}<br>y=%{y}<extra></extra>",
         "legendgroup": "Solar Generation [W/kW]",
         "marker": {
          "color": "#EF553B",
          "pattern": {
           "shape": ""
          }
         },
         "name": "Solar Generation [W/kW]",
         "offsetgroup": "Solar Generation [W/kW]",
         "orientation": "v",
         "showlegend": true,
         "textposition": "auto",
         "x": [
          "Solar Generation [W/kW]"
         ],
         "xaxis": "x",
         "y": [
          0
         ],
         "yaxis": "y",
         "type": "bar"
        }
       ],
       "layout": {
        "template": {
         "data": {
          "histogram2dcontour": [
           {
            "type": "histogram2dcontour",
            "colorbar": {
             "outlinewidth": 0,
             "ticks": ""
            },
            "colorscale": [
             [
              0.0,
              "#0d0887"
             ],
             [
              0.1111111111111111,
              "#46039f"
             ],
             [
              0.2222222222222222,
              "#7201a8"
             ],
             [
              0.3333333333333333,
              "#9c179e"
             ],
             [
              0.4444444444444444,
              "#bd3786"
             ],
             [
              0.5555555555555556,
              "#d8576b"
             ],
             [
              0.6666666666666666,
              "#ed7953"
             ],
             [
              0.7777777777777778,
              "#fb9f3a"
             ],
             [
              0.8888888888888888,
              "#fdca26"
             ],
             [
              1.0,
              "#f0f921"
             ]
            ]
           }
          ],
          "choropleth": [
           {
            "type": "choropleth",
            "colorbar": {
             "outlinewidth": 0,
             "ticks": ""
            }
           }
          ],
          "histogram2d": [
           {
            "type": "histogram2d",
            "colorbar": {
             "outlinewidth": 0,
             "ticks": ""
            },
            "colorscale": [
             [
              0.0,
              "#0d0887"
             ],
             [
              0.1111111111111111,
              "#46039f"
             ],
             [
              0.2222222222222222,
              "#7201a8"
             ],
             [
              0.3333333333333333,
              "#9c179e"
             ],
             [
              0.4444444444444444,
              "#bd3786"
             ],
             [
              0.5555555555555556,
              "#d8576b"
             ],
             [
              0.6666666666666666,
              "#ed7953"
             ],
             [
              0.7777777777777778,
              "#fb9f3a"
             ],
             [
              0.8888888888888888,
              "#fdca26"
             ],
             [
              1.0,
              "#f0f921"
             ]
            ]
           }
          ],
          "heatmap": [
           {
            "type": "heatmap",
            "colorbar": {
             "outlinewidth": 0,
             "ticks": ""
            },
            "colorscale": [
             [
              0.0,
              "#0d0887"
             ],
             [
              0.1111111111111111,
              "#46039f"
             ],
             [
              0.2222222222222222,
              "#7201a8"
             ],
             [
              0.3333333333333333,
              "#9c179e"
             ],
             [
              0.4444444444444444,
              "#bd3786"
             ],
             [
              0.5555555555555556,
              "#d8576b"
             ],
             [
              0.6666666666666666,
              "#ed7953"
             ],
             [
              0.7777777777777778,
              "#fb9f3a"
             ],
             [
              0.8888888888888888,
              "#fdca26"
             ],
             [
              1.0,
              "#f0f921"
             ]
            ]
           }
          ],
          "heatmapgl": [
           {
            "type": "heatmapgl",
            "colorbar": {
             "outlinewidth": 0,
             "ticks": ""
            },
            "colorscale": [
             [
              0.0,
              "#0d0887"
             ],
             [
              0.1111111111111111,
              "#46039f"
             ],
             [
              0.2222222222222222,
              "#7201a8"
             ],
             [
              0.3333333333333333,
              "#9c179e"
             ],
             [
              0.4444444444444444,
              "#bd3786"
             ],
             [
              0.5555555555555556,
              "#d8576b"
             ],
             [
              0.6666666666666666,
              "#ed7953"
             ],
             [
              0.7777777777777778,
              "#fb9f3a"
             ],
             [
              0.8888888888888888,
              "#fdca26"
             ],
             [
              1.0,
              "#f0f921"
             ]
            ]
           }
          ],
          "contourcarpet": [
           {
            "type": "contourcarpet",
            "colorbar": {
             "outlinewidth": 0,
             "ticks": ""
            }
           }
          ],
          "contour": [
           {
            "type": "contour",
            "colorbar": {
             "outlinewidth": 0,
             "ticks": ""
            },
            "colorscale": [
             [
              0.0,
              "#0d0887"
             ],
             [
              0.1111111111111111,
              "#46039f"
             ],
             [
              0.2222222222222222,
              "#7201a8"
             ],
             [
              0.3333333333333333,
              "#9c179e"
             ],
             [
              0.4444444444444444,
              "#bd3786"
             ],
             [
              0.5555555555555556,
              "#d8576b"
             ],
             [
              0.6666666666666666,
              "#ed7953"
             ],
             [
              0.7777777777777778,
              "#fb9f3a"
             ],
             [
              0.8888888888888888,
              "#fdca26"
             ],
             [
              1.0,
              "#f0f921"
             ]
            ]
           }
          ],
          "surface": [
           {
            "type": "surface",
            "colorbar": {
             "outlinewidth": 0,
             "ticks": ""
            },
            "colorscale": [
             [
              0.0,
              "#0d0887"
             ],
             [
              0.1111111111111111,
              "#46039f"
             ],
             [
              0.2222222222222222,
              "#7201a8"
             ],
             [
              0.3333333333333333,
              "#9c179e"
             ],
             [
              0.4444444444444444,
              "#bd3786"
             ],
             [
              0.5555555555555556,
              "#d8576b"
             ],
             [
              0.6666666666666666,
              "#ed7953"
             ],
             [
              0.7777777777777778,
              "#fb9f3a"
             ],
             [
              0.8888888888888888,
              "#fdca26"
             ],
             [
              1.0,
              "#f0f921"
             ]
            ]
           }
          ],
          "mesh3d": [
           {
            "type": "mesh3d",
            "colorbar": {
             "outlinewidth": 0,
             "ticks": ""
            }
           }
          ],
          "scatter": [
           {
            "fillpattern": {
             "fillmode": "overlay",
             "size": 10,
             "solidity": 0.2
            },
            "type": "scatter"
           }
          ],
          "parcoords": [
           {
            "type": "parcoords",
            "line": {
             "colorbar": {
              "outlinewidth": 0,
              "ticks": ""
             }
            }
           }
          ],
          "scatterpolargl": [
           {
            "type": "scatterpolargl",
            "marker": {
             "colorbar": {
              "outlinewidth": 0,
              "ticks": ""
             }
            }
           }
          ],
          "bar": [
           {
            "error_x": {
             "color": "#2a3f5f"
            },
            "error_y": {
             "color": "#2a3f5f"
            },
            "marker": {
             "line": {
              "color": "#E5ECF6",
              "width": 0.5
             },
             "pattern": {
              "fillmode": "overlay",
              "size": 10,
              "solidity": 0.2
             }
            },
            "type": "bar"
           }
          ],
          "scattergeo": [
           {
            "type": "scattergeo",
            "marker": {
             "colorbar": {
              "outlinewidth": 0,
              "ticks": ""
             }
            }
           }
          ],
          "scatterpolar": [
           {
            "type": "scatterpolar",
            "marker": {
             "colorbar": {
              "outlinewidth": 0,
              "ticks": ""
             }
            }
           }
          ],
          "histogram": [
           {
            "marker": {
             "pattern": {
              "fillmode": "overlay",
              "size": 10,
              "solidity": 0.2
             }
            },
            "type": "histogram"
           }
          ],
          "scattergl": [
           {
            "type": "scattergl",
            "marker": {
             "colorbar": {
              "outlinewidth": 0,
              "ticks": ""
             }
            }
           }
          ],
          "scatter3d": [
           {
            "type": "scatter3d",
            "line": {
             "colorbar": {
              "outlinewidth": 0,
              "ticks": ""
             }
            },
            "marker": {
             "colorbar": {
              "outlinewidth": 0,
              "ticks": ""
             }
            }
           }
          ],
          "scattermapbox": [
           {
            "type": "scattermapbox",
            "marker": {
             "colorbar": {
              "outlinewidth": 0,
              "ticks": ""
             }
            }
           }
          ],
          "scatterternary": [
           {
            "type": "scatterternary",
            "marker": {
             "colorbar": {
              "outlinewidth": 0,
              "ticks": ""
             }
            }
           }
          ],
          "scattercarpet": [
           {
            "type": "scattercarpet",
            "marker": {
             "colorbar": {
              "outlinewidth": 0,
              "ticks": ""
             }
            }
           }
          ],
          "carpet": [
           {
            "aaxis": {
             "endlinecolor": "#2a3f5f",
             "gridcolor": "white",
             "linecolor": "white",
             "minorgridcolor": "white",
             "startlinecolor": "#2a3f5f"
            },
            "baxis": {
             "endlinecolor": "#2a3f5f",
             "gridcolor": "white",
             "linecolor": "white",
             "minorgridcolor": "white",
             "startlinecolor": "#2a3f5f"
            },
            "type": "carpet"
           }
          ],
          "table": [
           {
            "cells": {
             "fill": {
              "color": "#EBF0F8"
             },
             "line": {
              "color": "white"
             }
            },
            "header": {
             "fill": {
              "color": "#C8D4E3"
             },
             "line": {
              "color": "white"
             }
            },
            "type": "table"
           }
          ],
          "barpolar": [
           {
            "marker": {
             "line": {
              "color": "#E5ECF6",
              "width": 0.5
             },
             "pattern": {
              "fillmode": "overlay",
              "size": 10,
              "solidity": 0.2
             }
            },
            "type": "barpolar"
           }
          ],
          "pie": [
           {
            "automargin": true,
            "type": "pie"
           }
          ]
         },
         "layout": {
          "autotypenumbers": "strict",
          "colorway": [
           "#636efa",
           "#EF553B",
           "#00cc96",
           "#ab63fa",
           "#FFA15A",
           "#19d3f3",
           "#FF6692",
           "#B6E880",
           "#FF97FF",
           "#FECB52"
          ],
          "font": {
           "color": "#2a3f5f"
          },
          "hovermode": "closest",
          "hoverlabel": {
           "align": "left"
          },
          "paper_bgcolor": "white",
          "plot_bgcolor": "#E5ECF6",
          "polar": {
           "bgcolor": "#E5ECF6",
           "angularaxis": {
            "gridcolor": "white",
            "linecolor": "white",
            "ticks": ""
           },
           "radialaxis": {
            "gridcolor": "white",
            "linecolor": "white",
            "ticks": ""
           }
          },
          "ternary": {
           "bgcolor": "#E5ECF6",
           "aaxis": {
            "gridcolor": "white",
            "linecolor": "white",
            "ticks": ""
           },
           "baxis": {
            "gridcolor": "white",
            "linecolor": "white",
            "ticks": ""
           },
           "caxis": {
            "gridcolor": "white",
            "linecolor": "white",
            "ticks": ""
           }
          },
          "coloraxis": {
           "colorbar": {
            "outlinewidth": 0,
            "ticks": ""
           }
          },
          "colorscale": {
           "sequential": [
            [
             0.0,
             "#0d0887"
            ],
            [
             0.1111111111111111,
             "#46039f"
            ],
            [
             0.2222222222222222,
             "#7201a8"
            ],
            [
             0.3333333333333333,
             "#9c179e"
            ],
            [
             0.4444444444444444,
             "#bd3786"
            ],
            [
             0.5555555555555556,
             "#d8576b"
            ],
            [
             0.6666666666666666,
             "#ed7953"
            ],
            [
             0.7777777777777778,
             "#fb9f3a"
            ],
            [
             0.8888888888888888,
             "#fdca26"
            ],
            [
             1.0,
             "#f0f921"
            ]
           ],
           "sequentialminus": [
            [
             0.0,
             "#0d0887"
            ],
            [
             0.1111111111111111,
             "#46039f"
            ],
            [
             0.2222222222222222,
             "#7201a8"
            ],
            [
             0.3333333333333333,
             "#9c179e"
            ],
            [
             0.4444444444444444,
             "#bd3786"
            ],
            [
             0.5555555555555556,
             "#d8576b"
            ],
            [
             0.6666666666666666,
             "#ed7953"
            ],
            [
             0.7777777777777778,
             "#fb9f3a"
            ],
            [
             0.8888888888888888,
             "#fdca26"
            ],
            [
             1.0,
             "#f0f921"
            ]
           ],
           "diverging": [
            [
             0,
             "#8e0152"
            ],
            [
             0.1,
             "#c51b7d"
            ],
            [
             0.2,
             "#de77ae"
            ],
            [
             0.3,
             "#f1b6da"
            ],
            [
             0.4,
             "#fde0ef"
            ],
            [
             0.5,
             "#f7f7f7"
            ],
            [
             0.6,
             "#e6f5d0"
            ],
            [
             0.7,
             "#b8e186"
            ],
            [
             0.8,
             "#7fbc41"
            ],
            [
             0.9,
             "#4d9221"
            ],
            [
             1,
             "#276419"
            ]
           ]
          },
          "xaxis": {
           "gridcolor": "white",
           "linecolor": "white",
           "ticks": "",
           "title": {
            "standoff": 15
           },
           "zerolinecolor": "white",
           "automargin": true,
           "zerolinewidth": 2
          },
          "yaxis": {
           "gridcolor": "white",
           "linecolor": "white",
           "ticks": "",
           "title": {
            "standoff": 15
           },
           "zerolinecolor": "white",
           "automargin": true,
           "zerolinewidth": 2
          },
          "scene": {
           "xaxis": {
            "backgroundcolor": "#E5ECF6",
            "gridcolor": "white",
            "linecolor": "white",
            "showbackground": true,
            "ticks": "",
            "zerolinecolor": "white",
            "gridwidth": 2
           },
           "yaxis": {
            "backgroundcolor": "#E5ECF6",
            "gridcolor": "white",
            "linecolor": "white",
            "showbackground": true,
            "ticks": "",
            "zerolinecolor": "white",
            "gridwidth": 2
           },
           "zaxis": {
            "backgroundcolor": "#E5ECF6",
            "gridcolor": "white",
            "linecolor": "white",
            "showbackground": true,
            "ticks": "",
            "zerolinecolor": "white",
            "gridwidth": 2
           }
          },
          "shapedefaults": {
           "line": {
            "color": "#2a3f5f"
           }
          },
          "annotationdefaults": {
           "arrowcolor": "#2a3f5f",
           "arrowhead": 0,
           "arrowwidth": 1
          },
          "geo": {
           "bgcolor": "white",
           "landcolor": "#E5ECF6",
           "subunitcolor": "white",
           "showland": true,
           "showlakes": true,
           "lakecolor": "white"
          },
          "title": {
           "x": 0.05
          },
          "mapbox": {
           "style": "light"
          }
         }
        },
        "xaxis": {
         "anchor": "y",
         "domain": [
          0.0,
          1.0
         ],
         "title": {
          "text": "x"
         }
        },
        "yaxis": {
         "anchor": "x",
         "domain": [
          0.0,
          1.0
         ],
         "title": {
          "text": "y"
         }
        },
        "legend": {
         "title": {
          "text": "color"
         },
         "tracegroupgap": 0
        },
        "title": {
         "text": "Count of Missing Data"
        },
        "barmode": "relative"
       },
       "config": {
        "plotlyServerURL": "https://plot.ly"
       }
      },
      "text/html": "<div>                            <div id=\"9f1cc1dd-1134-4526-8171-8f6ccd606b76\" class=\"plotly-graph-div\" style=\"height:525px; width:100%;\"></div>            <script type=\"text/javascript\">                require([\"plotly\"], function(Plotly) {                    window.PLOTLYENV=window.PLOTLYENV || {};                                    if (document.getElementById(\"9f1cc1dd-1134-4526-8171-8f6ccd606b76\")) {                    Plotly.newPlot(                        \"9f1cc1dd-1134-4526-8171-8f6ccd606b76\",                        [{\"alignmentgroup\":\"True\",\"hovertemplate\":\"color=Month<br>x=%{x}<br>y=%{y}<extra></extra>\",\"legendgroup\":\"Month\",\"marker\":{\"color\":\"#636efa\",\"pattern\":{\"shape\":\"\"}},\"name\":\"Month\",\"offsetgroup\":\"Month\",\"orientation\":\"v\",\"showlegend\":true,\"textposition\":\"auto\",\"x\":[\"Month\"],\"xaxis\":\"x\",\"y\":[0],\"yaxis\":\"y\",\"type\":\"bar\"},{\"alignmentgroup\":\"True\",\"hovertemplate\":\"color=Hour<br>x=%{x}<br>y=%{y}<extra></extra>\",\"legendgroup\":\"Hour\",\"marker\":{\"color\":\"#EF553B\",\"pattern\":{\"shape\":\"\"}},\"name\":\"Hour\",\"offsetgroup\":\"Hour\",\"orientation\":\"v\",\"showlegend\":true,\"textposition\":\"auto\",\"x\":[\"Hour\"],\"xaxis\":\"x\",\"y\":[0],\"yaxis\":\"y\",\"type\":\"bar\"},{\"alignmentgroup\":\"True\",\"hovertemplate\":\"color=Day Type<br>x=%{x}<br>y=%{y}<extra></extra>\",\"legendgroup\":\"Day Type\",\"marker\":{\"color\":\"#00cc96\",\"pattern\":{\"shape\":\"\"}},\"name\":\"Day Type\",\"offsetgroup\":\"Day Type\",\"orientation\":\"v\",\"showlegend\":true,\"textposition\":\"auto\",\"x\":[\"Day Type\"],\"xaxis\":\"x\",\"y\":[0],\"yaxis\":\"y\",\"type\":\"bar\"},{\"alignmentgroup\":\"True\",\"hovertemplate\":\"color=Daylight Savings Status<br>x=%{x}<br>y=%{y}<extra></extra>\",\"legendgroup\":\"Daylight Savings Status\",\"marker\":{\"color\":\"#ab63fa\",\"pattern\":{\"shape\":\"\"}},\"name\":\"Daylight Savings Status\",\"offsetgroup\":\"Daylight Savings Status\",\"orientation\":\"v\",\"showlegend\":true,\"textposition\":\"auto\",\"x\":[\"Daylight Savings Status\"],\"xaxis\":\"x\",\"y\":[0],\"yaxis\":\"y\",\"type\":\"bar\"},{\"alignmentgroup\":\"True\",\"hovertemplate\":\"color=Indoor Temperature [C]<br>x=%{x}<br>y=%{y}<extra></extra>\",\"legendgroup\":\"Indoor Temperature [C]\",\"marker\":{\"color\":\"#FFA15A\",\"pattern\":{\"shape\":\"\"}},\"name\":\"Indoor Temperature [C]\",\"offsetgroup\":\"Indoor Temperature [C]\",\"orientation\":\"v\",\"showlegend\":true,\"textposition\":\"auto\",\"x\":[\"Indoor Temperature [C]\"],\"xaxis\":\"x\",\"y\":[8760],\"yaxis\":\"y\",\"type\":\"bar\"},{\"alignmentgroup\":\"True\",\"hovertemplate\":\"color=Average Unmet Cooling Setpoint Difference [C]<br>x=%{x}<br>y=%{y}<extra></extra>\",\"legendgroup\":\"Average Unmet Cooling Setpoint Difference [C]\",\"marker\":{\"color\":\"#19d3f3\",\"pattern\":{\"shape\":\"\"}},\"name\":\"Average Unmet Cooling Setpoint Difference [C]\",\"offsetgroup\":\"Average Unmet Cooling Setpoint Difference [C]\",\"orientation\":\"v\",\"showlegend\":true,\"textposition\":\"auto\",\"x\":[\"Average Unmet Cooling Setpoint Difference [C]\"],\"xaxis\":\"x\",\"y\":[8760],\"yaxis\":\"y\",\"type\":\"bar\"},{\"alignmentgroup\":\"True\",\"hovertemplate\":\"color=Indoor Relative Humidity [%]<br>x=%{x}<br>y=%{y}<extra></extra>\",\"legendgroup\":\"Indoor Relative Humidity [%]\",\"marker\":{\"color\":\"#FF6692\",\"pattern\":{\"shape\":\"\"}},\"name\":\"Indoor Relative Humidity [%]\",\"offsetgroup\":\"Indoor Relative Humidity [%]\",\"orientation\":\"v\",\"showlegend\":true,\"textposition\":\"auto\",\"x\":[\"Indoor Relative Humidity [%]\"],\"xaxis\":\"x\",\"y\":[8760],\"yaxis\":\"y\",\"type\":\"bar\"},{\"alignmentgroup\":\"True\",\"hovertemplate\":\"color=Equipment Electric Power [kWh]<br>x=%{x}<br>y=%{y}<extra></extra>\",\"legendgroup\":\"Equipment Electric Power [kWh]\",\"marker\":{\"color\":\"#B6E880\",\"pattern\":{\"shape\":\"\"}},\"name\":\"Equipment Electric Power [kWh]\",\"offsetgroup\":\"Equipment Electric Power [kWh]\",\"orientation\":\"v\",\"showlegend\":true,\"textposition\":\"auto\",\"x\":[\"Equipment Electric Power [kWh]\"],\"xaxis\":\"x\",\"y\":[0],\"yaxis\":\"y\",\"type\":\"bar\"},{\"alignmentgroup\":\"True\",\"hovertemplate\":\"color=DHW Heating [kWh]<br>x=%{x}<br>y=%{y}<extra></extra>\",\"legendgroup\":\"DHW Heating [kWh]\",\"marker\":{\"color\":\"#FF97FF\",\"pattern\":{\"shape\":\"\"}},\"name\":\"DHW Heating [kWh]\",\"offsetgroup\":\"DHW Heating [kWh]\",\"orientation\":\"v\",\"showlegend\":true,\"textposition\":\"auto\",\"x\":[\"DHW Heating [kWh]\"],\"xaxis\":\"x\",\"y\":[0],\"yaxis\":\"y\",\"type\":\"bar\"},{\"alignmentgroup\":\"True\",\"hovertemplate\":\"color=Cooling Load [kWh]<br>x=%{x}<br>y=%{y}<extra></extra>\",\"legendgroup\":\"Cooling Load [kWh]\",\"marker\":{\"color\":\"#FECB52\",\"pattern\":{\"shape\":\"\"}},\"name\":\"Cooling Load [kWh]\",\"offsetgroup\":\"Cooling Load [kWh]\",\"orientation\":\"v\",\"showlegend\":true,\"textposition\":\"auto\",\"x\":[\"Cooling Load [kWh]\"],\"xaxis\":\"x\",\"y\":[0],\"yaxis\":\"y\",\"type\":\"bar\"},{\"alignmentgroup\":\"True\",\"hovertemplate\":\"color=Heating Load [kWh]<br>x=%{x}<br>y=%{y}<extra></extra>\",\"legendgroup\":\"Heating Load [kWh]\",\"marker\":{\"color\":\"#636efa\",\"pattern\":{\"shape\":\"\"}},\"name\":\"Heating Load [kWh]\",\"offsetgroup\":\"Heating Load [kWh]\",\"orientation\":\"v\",\"showlegend\":true,\"textposition\":\"auto\",\"x\":[\"Heating Load [kWh]\"],\"xaxis\":\"x\",\"y\":[0],\"yaxis\":\"y\",\"type\":\"bar\"},{\"alignmentgroup\":\"True\",\"hovertemplate\":\"color=Solar Generation [W/kW]<br>x=%{x}<br>y=%{y}<extra></extra>\",\"legendgroup\":\"Solar Generation [W/kW]\",\"marker\":{\"color\":\"#EF553B\",\"pattern\":{\"shape\":\"\"}},\"name\":\"Solar Generation [W/kW]\",\"offsetgroup\":\"Solar Generation [W/kW]\",\"orientation\":\"v\",\"showlegend\":true,\"textposition\":\"auto\",\"x\":[\"Solar Generation [W/kW]\"],\"xaxis\":\"x\",\"y\":[0],\"yaxis\":\"y\",\"type\":\"bar\"}],                        {\"template\":{\"data\":{\"histogram2dcontour\":[{\"type\":\"histogram2dcontour\",\"colorbar\":{\"outlinewidth\":0,\"ticks\":\"\"},\"colorscale\":[[0.0,\"#0d0887\"],[0.1111111111111111,\"#46039f\"],[0.2222222222222222,\"#7201a8\"],[0.3333333333333333,\"#9c179e\"],[0.4444444444444444,\"#bd3786\"],[0.5555555555555556,\"#d8576b\"],[0.6666666666666666,\"#ed7953\"],[0.7777777777777778,\"#fb9f3a\"],[0.8888888888888888,\"#fdca26\"],[1.0,\"#f0f921\"]]}],\"choropleth\":[{\"type\":\"choropleth\",\"colorbar\":{\"outlinewidth\":0,\"ticks\":\"\"}}],\"histogram2d\":[{\"type\":\"histogram2d\",\"colorbar\":{\"outlinewidth\":0,\"ticks\":\"\"},\"colorscale\":[[0.0,\"#0d0887\"],[0.1111111111111111,\"#46039f\"],[0.2222222222222222,\"#7201a8\"],[0.3333333333333333,\"#9c179e\"],[0.4444444444444444,\"#bd3786\"],[0.5555555555555556,\"#d8576b\"],[0.6666666666666666,\"#ed7953\"],[0.7777777777777778,\"#fb9f3a\"],[0.8888888888888888,\"#fdca26\"],[1.0,\"#f0f921\"]]}],\"heatmap\":[{\"type\":\"heatmap\",\"colorbar\":{\"outlinewidth\":0,\"ticks\":\"\"},\"colorscale\":[[0.0,\"#0d0887\"],[0.1111111111111111,\"#46039f\"],[0.2222222222222222,\"#7201a8\"],[0.3333333333333333,\"#9c179e\"],[0.4444444444444444,\"#bd3786\"],[0.5555555555555556,\"#d8576b\"],[0.6666666666666666,\"#ed7953\"],[0.7777777777777778,\"#fb9f3a\"],[0.8888888888888888,\"#fdca26\"],[1.0,\"#f0f921\"]]}],\"heatmapgl\":[{\"type\":\"heatmapgl\",\"colorbar\":{\"outlinewidth\":0,\"ticks\":\"\"},\"colorscale\":[[0.0,\"#0d0887\"],[0.1111111111111111,\"#46039f\"],[0.2222222222222222,\"#7201a8\"],[0.3333333333333333,\"#9c179e\"],[0.4444444444444444,\"#bd3786\"],[0.5555555555555556,\"#d8576b\"],[0.6666666666666666,\"#ed7953\"],[0.7777777777777778,\"#fb9f3a\"],[0.8888888888888888,\"#fdca26\"],[1.0,\"#f0f921\"]]}],\"contourcarpet\":[{\"type\":\"contourcarpet\",\"colorbar\":{\"outlinewidth\":0,\"ticks\":\"\"}}],\"contour\":[{\"type\":\"contour\",\"colorbar\":{\"outlinewidth\":0,\"ticks\":\"\"},\"colorscale\":[[0.0,\"#0d0887\"],[0.1111111111111111,\"#46039f\"],[0.2222222222222222,\"#7201a8\"],[0.3333333333333333,\"#9c179e\"],[0.4444444444444444,\"#bd3786\"],[0.5555555555555556,\"#d8576b\"],[0.6666666666666666,\"#ed7953\"],[0.7777777777777778,\"#fb9f3a\"],[0.8888888888888888,\"#fdca26\"],[1.0,\"#f0f921\"]]}],\"surface\":[{\"type\":\"surface\",\"colorbar\":{\"outlinewidth\":0,\"ticks\":\"\"},\"colorscale\":[[0.0,\"#0d0887\"],[0.1111111111111111,\"#46039f\"],[0.2222222222222222,\"#7201a8\"],[0.3333333333333333,\"#9c179e\"],[0.4444444444444444,\"#bd3786\"],[0.5555555555555556,\"#d8576b\"],[0.6666666666666666,\"#ed7953\"],[0.7777777777777778,\"#fb9f3a\"],[0.8888888888888888,\"#fdca26\"],[1.0,\"#f0f921\"]]}],\"mesh3d\":[{\"type\":\"mesh3d\",\"colorbar\":{\"outlinewidth\":0,\"ticks\":\"\"}}],\"scatter\":[{\"fillpattern\":{\"fillmode\":\"overlay\",\"size\":10,\"solidity\":0.2},\"type\":\"scatter\"}],\"parcoords\":[{\"type\":\"parcoords\",\"line\":{\"colorbar\":{\"outlinewidth\":0,\"ticks\":\"\"}}}],\"scatterpolargl\":[{\"type\":\"scatterpolargl\",\"marker\":{\"colorbar\":{\"outlinewidth\":0,\"ticks\":\"\"}}}],\"bar\":[{\"error_x\":{\"color\":\"#2a3f5f\"},\"error_y\":{\"color\":\"#2a3f5f\"},\"marker\":{\"line\":{\"color\":\"#E5ECF6\",\"width\":0.5},\"pattern\":{\"fillmode\":\"overlay\",\"size\":10,\"solidity\":0.2}},\"type\":\"bar\"}],\"scattergeo\":[{\"type\":\"scattergeo\",\"marker\":{\"colorbar\":{\"outlinewidth\":0,\"ticks\":\"\"}}}],\"scatterpolar\":[{\"type\":\"scatterpolar\",\"marker\":{\"colorbar\":{\"outlinewidth\":0,\"ticks\":\"\"}}}],\"histogram\":[{\"marker\":{\"pattern\":{\"fillmode\":\"overlay\",\"size\":10,\"solidity\":0.2}},\"type\":\"histogram\"}],\"scattergl\":[{\"type\":\"scattergl\",\"marker\":{\"colorbar\":{\"outlinewidth\":0,\"ticks\":\"\"}}}],\"scatter3d\":[{\"type\":\"scatter3d\",\"line\":{\"colorbar\":{\"outlinewidth\":0,\"ticks\":\"\"}},\"marker\":{\"colorbar\":{\"outlinewidth\":0,\"ticks\":\"\"}}}],\"scattermapbox\":[{\"type\":\"scattermapbox\",\"marker\":{\"colorbar\":{\"outlinewidth\":0,\"ticks\":\"\"}}}],\"scatterternary\":[{\"type\":\"scatterternary\",\"marker\":{\"colorbar\":{\"outlinewidth\":0,\"ticks\":\"\"}}}],\"scattercarpet\":[{\"type\":\"scattercarpet\",\"marker\":{\"colorbar\":{\"outlinewidth\":0,\"ticks\":\"\"}}}],\"carpet\":[{\"aaxis\":{\"endlinecolor\":\"#2a3f5f\",\"gridcolor\":\"white\",\"linecolor\":\"white\",\"minorgridcolor\":\"white\",\"startlinecolor\":\"#2a3f5f\"},\"baxis\":{\"endlinecolor\":\"#2a3f5f\",\"gridcolor\":\"white\",\"linecolor\":\"white\",\"minorgridcolor\":\"white\",\"startlinecolor\":\"#2a3f5f\"},\"type\":\"carpet\"}],\"table\":[{\"cells\":{\"fill\":{\"color\":\"#EBF0F8\"},\"line\":{\"color\":\"white\"}},\"header\":{\"fill\":{\"color\":\"#C8D4E3\"},\"line\":{\"color\":\"white\"}},\"type\":\"table\"}],\"barpolar\":[{\"marker\":{\"line\":{\"color\":\"#E5ECF6\",\"width\":0.5},\"pattern\":{\"fillmode\":\"overlay\",\"size\":10,\"solidity\":0.2}},\"type\":\"barpolar\"}],\"pie\":[{\"automargin\":true,\"type\":\"pie\"}]},\"layout\":{\"autotypenumbers\":\"strict\",\"colorway\":[\"#636efa\",\"#EF553B\",\"#00cc96\",\"#ab63fa\",\"#FFA15A\",\"#19d3f3\",\"#FF6692\",\"#B6E880\",\"#FF97FF\",\"#FECB52\"],\"font\":{\"color\":\"#2a3f5f\"},\"hovermode\":\"closest\",\"hoverlabel\":{\"align\":\"left\"},\"paper_bgcolor\":\"white\",\"plot_bgcolor\":\"#E5ECF6\",\"polar\":{\"bgcolor\":\"#E5ECF6\",\"angularaxis\":{\"gridcolor\":\"white\",\"linecolor\":\"white\",\"ticks\":\"\"},\"radialaxis\":{\"gridcolor\":\"white\",\"linecolor\":\"white\",\"ticks\":\"\"}},\"ternary\":{\"bgcolor\":\"#E5ECF6\",\"aaxis\":{\"gridcolor\":\"white\",\"linecolor\":\"white\",\"ticks\":\"\"},\"baxis\":{\"gridcolor\":\"white\",\"linecolor\":\"white\",\"ticks\":\"\"},\"caxis\":{\"gridcolor\":\"white\",\"linecolor\":\"white\",\"ticks\":\"\"}},\"coloraxis\":{\"colorbar\":{\"outlinewidth\":0,\"ticks\":\"\"}},\"colorscale\":{\"sequential\":[[0.0,\"#0d0887\"],[0.1111111111111111,\"#46039f\"],[0.2222222222222222,\"#7201a8\"],[0.3333333333333333,\"#9c179e\"],[0.4444444444444444,\"#bd3786\"],[0.5555555555555556,\"#d8576b\"],[0.6666666666666666,\"#ed7953\"],[0.7777777777777778,\"#fb9f3a\"],[0.8888888888888888,\"#fdca26\"],[1.0,\"#f0f921\"]],\"sequentialminus\":[[0.0,\"#0d0887\"],[0.1111111111111111,\"#46039f\"],[0.2222222222222222,\"#7201a8\"],[0.3333333333333333,\"#9c179e\"],[0.4444444444444444,\"#bd3786\"],[0.5555555555555556,\"#d8576b\"],[0.6666666666666666,\"#ed7953\"],[0.7777777777777778,\"#fb9f3a\"],[0.8888888888888888,\"#fdca26\"],[1.0,\"#f0f921\"]],\"diverging\":[[0,\"#8e0152\"],[0.1,\"#c51b7d\"],[0.2,\"#de77ae\"],[0.3,\"#f1b6da\"],[0.4,\"#fde0ef\"],[0.5,\"#f7f7f7\"],[0.6,\"#e6f5d0\"],[0.7,\"#b8e186\"],[0.8,\"#7fbc41\"],[0.9,\"#4d9221\"],[1,\"#276419\"]]},\"xaxis\":{\"gridcolor\":\"white\",\"linecolor\":\"white\",\"ticks\":\"\",\"title\":{\"standoff\":15},\"zerolinecolor\":\"white\",\"automargin\":true,\"zerolinewidth\":2},\"yaxis\":{\"gridcolor\":\"white\",\"linecolor\":\"white\",\"ticks\":\"\",\"title\":{\"standoff\":15},\"zerolinecolor\":\"white\",\"automargin\":true,\"zerolinewidth\":2},\"scene\":{\"xaxis\":{\"backgroundcolor\":\"#E5ECF6\",\"gridcolor\":\"white\",\"linecolor\":\"white\",\"showbackground\":true,\"ticks\":\"\",\"zerolinecolor\":\"white\",\"gridwidth\":2},\"yaxis\":{\"backgroundcolor\":\"#E5ECF6\",\"gridcolor\":\"white\",\"linecolor\":\"white\",\"showbackground\":true,\"ticks\":\"\",\"zerolinecolor\":\"white\",\"gridwidth\":2},\"zaxis\":{\"backgroundcolor\":\"#E5ECF6\",\"gridcolor\":\"white\",\"linecolor\":\"white\",\"showbackground\":true,\"ticks\":\"\",\"zerolinecolor\":\"white\",\"gridwidth\":2}},\"shapedefaults\":{\"line\":{\"color\":\"#2a3f5f\"}},\"annotationdefaults\":{\"arrowcolor\":\"#2a3f5f\",\"arrowhead\":0,\"arrowwidth\":1},\"geo\":{\"bgcolor\":\"white\",\"landcolor\":\"#E5ECF6\",\"subunitcolor\":\"white\",\"showland\":true,\"showlakes\":true,\"lakecolor\":\"white\"},\"title\":{\"x\":0.05},\"mapbox\":{\"style\":\"light\"}}},\"xaxis\":{\"anchor\":\"y\",\"domain\":[0.0,1.0],\"title\":{\"text\":\"x\"}},\"yaxis\":{\"anchor\":\"x\",\"domain\":[0.0,1.0],\"title\":{\"text\":\"y\"}},\"legend\":{\"title\":{\"text\":\"color\"},\"tracegroupgap\":0},\"title\":{\"text\":\"Count of Missing Data\"},\"barmode\":\"relative\"},                        {\"responsive\": true}                    ).then(function(){\n                            \nvar gd = document.getElementById('9f1cc1dd-1134-4526-8171-8f6ccd606b76');\nvar x = new MutationObserver(function (mutations, observer) {{\n        var display = window.getComputedStyle(gd).display;\n        if (!display || display === 'none') {{\n            console.log([gd, 'removed!']);\n            Plotly.purge(gd);\n            observer.disconnect();\n        }}\n}});\n\n// Listen for the removal of the full notebook cells\nvar notebookContainer = gd.closest('#notebook-container');\nif (notebookContainer) {{\n    x.observe(notebookContainer, {childList: true});\n}}\n\n// Listen for the clearing of the current output cell\nvar outputEl = gd.closest('.output');\nif (outputEl) {{\n    x.observe(outputEl, {childList: true});\n}}\n\n                        })                };                });            </script>        </div>"
     },
     "metadata": {},
     "output_type": "display_data"
    }
   ],
   "source": [
    "import pandas as pd\n",
    "import plotly.express as px\n",
    "\n",
    "data = pd.read_csv('data/citylearn_challenge_2022_phase_1/Building_1.csv')\n",
    "Missing = data.isnull().sum()\n",
    "\n",
    "long_df = px.data.medals_long()\n",
    " \n",
    "fig = px.bar(x = Missing.index, y = Missing.values,\n",
    "             color = Missing.index, title = \"Count of Missing Data\")\n",
    "fig.show()"
   ]
  },
  {
   "cell_type": "code",
   "execution_count": 15,
   "metadata": {
    "pycharm": {
     "name": "#%%\n"
    }
   },
   "outputs": [
    {
     "data": {
      "text/plain": "             Month         Hour     Day Type  Daylight Savings Status  \\\ncount  8760.000000  8760.000000  8760.000000                   8760.0   \nmean      6.526027    12.500000     3.992466                      0.0   \nstd       3.448048     6.922582     2.003522                      0.0   \nmin       1.000000     1.000000     1.000000                      0.0   \n25%       4.000000     6.750000     2.000000                      0.0   \n50%       7.000000    12.500000     4.000000                      0.0   \n75%      10.000000    18.250000     6.000000                      0.0   \nmax      12.000000    24.000000     7.000000                      0.0   \n\n       Indoor Temperature [C]  Average Unmet Cooling Setpoint Difference [C]  \\\ncount                     0.0                                            0.0   \nmean                      NaN                                            NaN   \nstd                       NaN                                            NaN   \nmin                       NaN                                            NaN   \n25%                       NaN                                            NaN   \n50%                       NaN                                            NaN   \n75%                       NaN                                            NaN   \nmax                       NaN                                            NaN   \n\n       Indoor Relative Humidity [%]  Equipment Electric Power [kWh]  \\\ncount                           0.0                     8760.000000   \nmean                            NaN                        1.208145   \nstd                             NaN                        0.968270   \nmin                             NaN                        0.057000   \n25%                             NaN                        0.570167   \n50%                             NaN                        0.812079   \n75%                             NaN                        1.530529   \nmax                             NaN                        7.987483   \n\n       DHW Heating [kWh]  Cooling Load [kWh]  Heating Load [kWh]  \\\ncount             8760.0              8760.0              8760.0   \nmean                 0.0                 0.0                 0.0   \nstd                  0.0                 0.0                 0.0   \nmin                  0.0                 0.0                 0.0   \n25%                  0.0                 0.0                 0.0   \n50%                  0.0                 0.0                 0.0   \n75%                  0.0                 0.0                 0.0   \nmax                  0.0                 0.0                 0.0   \n\n       Solar Generation [W/kW]  \ncount              8760.000000  \nmean                205.836089  \nstd                 290.977786  \nmin                   0.000000  \n25%                   0.000000  \n50%                   0.000000  \n75%                 412.108333  \nmax                 976.250000  ",
      "text/html": "<div>\n<style scoped>\n    .dataframe tbody tr th:only-of-type {\n        vertical-align: middle;\n    }\n\n    .dataframe tbody tr th {\n        vertical-align: top;\n    }\n\n    .dataframe thead th {\n        text-align: right;\n    }\n</style>\n<table border=\"1\" class=\"dataframe\">\n  <thead>\n    <tr style=\"text-align: right;\">\n      <th></th>\n      <th>Month</th>\n      <th>Hour</th>\n      <th>Day Type</th>\n      <th>Daylight Savings Status</th>\n      <th>Indoor Temperature [C]</th>\n      <th>Average Unmet Cooling Setpoint Difference [C]</th>\n      <th>Indoor Relative Humidity [%]</th>\n      <th>Equipment Electric Power [kWh]</th>\n      <th>DHW Heating [kWh]</th>\n      <th>Cooling Load [kWh]</th>\n      <th>Heating Load [kWh]</th>\n      <th>Solar Generation [W/kW]</th>\n    </tr>\n  </thead>\n  <tbody>\n    <tr>\n      <th>count</th>\n      <td>8760.000000</td>\n      <td>8760.000000</td>\n      <td>8760.000000</td>\n      <td>8760.0</td>\n      <td>0.0</td>\n      <td>0.0</td>\n      <td>0.0</td>\n      <td>8760.000000</td>\n      <td>8760.0</td>\n      <td>8760.0</td>\n      <td>8760.0</td>\n      <td>8760.000000</td>\n    </tr>\n    <tr>\n      <th>mean</th>\n      <td>6.526027</td>\n      <td>12.500000</td>\n      <td>3.992466</td>\n      <td>0.0</td>\n      <td>NaN</td>\n      <td>NaN</td>\n      <td>NaN</td>\n      <td>1.208145</td>\n      <td>0.0</td>\n      <td>0.0</td>\n      <td>0.0</td>\n      <td>205.836089</td>\n    </tr>\n    <tr>\n      <th>std</th>\n      <td>3.448048</td>\n      <td>6.922582</td>\n      <td>2.003522</td>\n      <td>0.0</td>\n      <td>NaN</td>\n      <td>NaN</td>\n      <td>NaN</td>\n      <td>0.968270</td>\n      <td>0.0</td>\n      <td>0.0</td>\n      <td>0.0</td>\n      <td>290.977786</td>\n    </tr>\n    <tr>\n      <th>min</th>\n      <td>1.000000</td>\n      <td>1.000000</td>\n      <td>1.000000</td>\n      <td>0.0</td>\n      <td>NaN</td>\n      <td>NaN</td>\n      <td>NaN</td>\n      <td>0.057000</td>\n      <td>0.0</td>\n      <td>0.0</td>\n      <td>0.0</td>\n      <td>0.000000</td>\n    </tr>\n    <tr>\n      <th>25%</th>\n      <td>4.000000</td>\n      <td>6.750000</td>\n      <td>2.000000</td>\n      <td>0.0</td>\n      <td>NaN</td>\n      <td>NaN</td>\n      <td>NaN</td>\n      <td>0.570167</td>\n      <td>0.0</td>\n      <td>0.0</td>\n      <td>0.0</td>\n      <td>0.000000</td>\n    </tr>\n    <tr>\n      <th>50%</th>\n      <td>7.000000</td>\n      <td>12.500000</td>\n      <td>4.000000</td>\n      <td>0.0</td>\n      <td>NaN</td>\n      <td>NaN</td>\n      <td>NaN</td>\n      <td>0.812079</td>\n      <td>0.0</td>\n      <td>0.0</td>\n      <td>0.0</td>\n      <td>0.000000</td>\n    </tr>\n    <tr>\n      <th>75%</th>\n      <td>10.000000</td>\n      <td>18.250000</td>\n      <td>6.000000</td>\n      <td>0.0</td>\n      <td>NaN</td>\n      <td>NaN</td>\n      <td>NaN</td>\n      <td>1.530529</td>\n      <td>0.0</td>\n      <td>0.0</td>\n      <td>0.0</td>\n      <td>412.108333</td>\n    </tr>\n    <tr>\n      <th>max</th>\n      <td>12.000000</td>\n      <td>24.000000</td>\n      <td>7.000000</td>\n      <td>0.0</td>\n      <td>NaN</td>\n      <td>NaN</td>\n      <td>NaN</td>\n      <td>7.987483</td>\n      <td>0.0</td>\n      <td>0.0</td>\n      <td>0.0</td>\n      <td>976.250000</td>\n    </tr>\n  </tbody>\n</table>\n</div>"
     },
     "execution_count": 15,
     "metadata": {},
     "output_type": "execute_result"
    }
   ],
   "source": [
    "data.describe()"
   ]
  },
  {
   "cell_type": "markdown",
   "metadata": {
    "pycharm": {
     "name": "#%% md\n"
    }
   },
   "source": [
    "## 4. Generate Building States  Action Requirements \n",
    "\n",
    "This is an input to the MARLISA algorithm and is used to determine which states or actions are needed for each building. Unlike in the 2020 MARLISA where a buildings requirements file is nicely provided, the information in the 2022 challenge is in the schema.json file. The Requirements for each building state and action is provided (I assume it is same for all buildings) but we need to  modify it for our inpute to suit the algorithm. \n",
    "\n",
    "In the file a state with value True means it's required  for the given building and an action with value True means that action needs to be taken for that building and False otherwise.\n",
    "\n",
    "We see that only action `electrial storage` is needed.\n",
    "\n",
    "__NOTE: The order  of  the states is same as the order of the observations i.e if month is first then in observation it's in index 0. e.g Hour comes third which mean it's found in index 2__: \n",
    "\n",
    "After generating the file, you can save it in Json format for usage as input or give to your algorithm in the dictionary format. Here we use the latter. If you use the latter, comment `line [37-38]` where the file is read in."
   ]
  },
  {
   "cell_type": "code",
   "execution_count": 21,
   "metadata": {
    "pycharm": {
     "name": "#%%\n"
    }
   },
   "outputs": [
    {
     "data": {
      "text/plain": "{'month': True,\n 'day_type': True,\n 'hour': True,\n 'outdoor_dry_bulb_temperature': True,\n 'outdoor_dry_bulb_temperature_predicted_6h': True,\n 'outdoor_dry_bulb_temperature_predicted_12h': True,\n 'outdoor_dry_bulb_temperature_predicted_24h': True,\n 'outdoor_relative_humidity': True,\n 'outdoor_relative_humidity_predicted_6h': True,\n 'outdoor_relative_humidity_predicted_12h': True,\n 'outdoor_relative_humidity_predicted_24h': True,\n 'diffuse_solar_irradiance': True,\n 'diffuse_solar_irradiance_predicted_6h': True,\n 'diffuse_solar_irradiance_predicted_12h': True,\n 'diffuse_solar_irradiance_predicted_24h': True,\n 'direct_solar_irradiance': True,\n 'direct_solar_irradiance_predicted_6h': True,\n 'direct_solar_irradiance_predicted_12h': True,\n 'direct_solar_irradiance_predicted_24h': True,\n 'carbon_intensity': True,\n 'non_shiftable_load': True,\n 'solar_generation': True,\n 'electrical_storage_soc': True,\n 'net_electricity_consumption': True,\n 'electricity_pricing': True,\n 'electricity_pricing_predicted_6h': True,\n 'electricity_pricing_predicted_12h': True,\n 'electricity_pricing_predicted_24h': True}"
     },
     "execution_count": 21,
     "metadata": {},
     "output_type": "execute_result"
    }
   ],
   "source": [
    "import json\n",
    "\n",
    "def GenStateActionFromJson(JsonPath, BuildingCount = 5):\n",
    "\n",
    "    with open(JsonPath) as json_file:\n",
    "        buildings_states_actions = json.load(json_file)\n",
    "\n",
    "    States = buildings_states_actions['observations']\n",
    "    Actions = buildings_states_actions['actions']\n",
    "\n",
    "    StateINFo = {}\n",
    "    ActionINFo = {}\n",
    "    INFos = {}\n",
    "    \n",
    "    for var, ins in States.items():\n",
    "        #print(var, \" <><> \", ins)\n",
    "        if ins['active']:\n",
    "            StateINFo[var] = ins['active']\n",
    "    for act, ins  in Actions.items():\n",
    "        if ins['active']:\n",
    "            ActionINFo[act] = ins['active']\n",
    "\n",
    "    INFos[\"states\"] = StateINFo\n",
    "    INFos[\"action\"] = ActionINFo\n",
    "\n",
    "    return {\"Building_\" + str(key): INFos for key in range(1,BuildingCount+1)}\n",
    "\n",
    "\n",
    "JsonFile = 'data/citylearn_challenge_2022_phase_1/schema.json'\n",
    "BuildingsStatesActions = GenStateActionFromJson(JsonFile, BuildingCount = 5)\n",
    "\n",
    "BuildingsStatesActions[\"Building_1\"][\"states\"]"
   ]
  },
  {
   "cell_type": "markdown",
   "metadata": {
    "pycharm": {
     "name": "#%% md\n"
    }
   },
   "source": [
    "## 5. Internal MARLISA Modification\n",
    "\n",
    "MARLISA CODE Tips for modification for 2022 challenge\n",
    "\n",
    "### 5.1. Initialization (__init__ body) \n",
    "\n",
    "`[Line 58 to 65]` abstract information to individual buildings\n",
    "\n",
    "`[Line 75-83]` Energy size coefficient for every building (Not Needed in 2022)\n",
    "\n",
    "`[Line 86-111]` __Define Encoder__: Set Regression Learner for every building, define Encoding for every observation (think of it as data column) and set target variable to be removed __MODIFY ACCORDING TO THE CURRENT DATASET__\n",
    "\n",
    "`[Line 131-145]` __Define Regression Encoder__: for transforming states in regression model __MODIFY ACCORDING TO THE CURRENT DATASET__\n",
    "\n",
    "`[Line 149-164]` __Solar Capacity (remove variables if no solar PV)__: removes solar radiation related variables for houses without PV __COMMENT THIS SECTION__\n",
    "\n",
    "\n",
    "### 5.2. Select Action (MARLISA method or function)\n",
    "\n",
    "- Takes as inputs `states` and `deterministic`\n",
    "    - `states`: the states of the buildings\n",
    "    - `deterministic`: boolean can be true or false\n",
    "\n",
    "`**[Line 222-226]` __Initialize coordination variables__: coordination variables are two dimesional for every building. __MODIFY ACCORDING TO THE CURRENT DATASET (in 2022 we are asked to optimize for electricty cost and carbon emission)__\n",
    "- `Capacity  Dispatched:` This is the total amount of electricity already dispatched. it is related to the energy size coefficient at every time step\n",
    "- `**Electrical Demand`: Related to the total electricity demand estimated by a prediction algorithm. __Different in Information Sharing and Non Info Sharing Cases__\n",
    "\n",
    "\n",
    "AFTER the recommended modifications you can make a trial run as shown next\n",
    "\n",
    "The __REWARD FUNCTION can also be modified__"
   ]
  },
  {
   "cell_type": "markdown",
   "metadata": {
    "pycharm": {
     "name": "#%% md\n"
    }
   },
   "source": [
    "## 6. RUN MARLISA 2022\n",
    "\n",
    "To run Marlisa, we need to give it parameters that influence it's learning \n",
    "\n",
    "The MARLISA Algorithm takes inputs that we can be classified into two categories\n",
    "\n",
    "### 6.1. Environment Parameters\n",
    "\n",
    "These are parameters specific to the reinforcement learning environment (CityLearn Version). They give information about the simulation environment that will be used. details about these environmental variables are explored above, to understanding the [2022 citylearn environment, check this notebook](https://www.aicrowd.com/showcase/baby-steps-5fd2bef3-19a6-4ba6-887a-6bbe957a4e33). A summary explanation can be laid down as follows.\n",
    "\n",
    "- __'building_ids':__ These are the buildings identities in the environment written in the form `\"Building_id\"` where id is a building number a building_id can look as follows\n",
    "    - `[\"Building_1\", \"Building_2\", ... , \"Building_n\"]`\n",
    "- __'buildings_states_actions':__ This is a json file defining the different states and actions possible for a building e.g If a building has a \n",
    "    - `states {day :  False,  temp: True}` it means there will be information for temp but not for day\n",
    "    - `\"actions\": {\"cooling_storage\": true, \"dhw_storage\": true, \"electrical_storage\": false}`. this means there will be no action required or electric storage is absent in the building\n",
    "- __'building_info':__ Gives valuable information about a building like\n",
    "    - `solar_power_capacity (kW)`\n",
    "    - `Annual_DHW_demand (kWh)`\n",
    "    - `Annual_cooling_demand (kWh)`\n",
    "    - `Annual_nonshiftable_electrical_demand (kWh)`\n",
    "    - `etc`\n",
    "- __'observation_spaces':__ This is information about the observation space of every building in the environment. \n",
    "    - It contains n arrays where n is the number of buildings\n",
    "    - Each array contains the lower and upper bound for the building observation along with it's dimension and datatype\n",
    "- __'action_spaces':__ This is information about the actions_spaces of every building in the environment\n",
    "    - It contains n arrays where n is the number of buildings\n",
    "    - Each array contains the lower and upper bound for the building action along with it's dimension and datatype\n",
    "\n",
    "\n",
    "### 6.2. Algorithm Parameters\n",
    "\n",
    "These are parameters specific to our reinforcement learning algorithm. Details about these parameters can be found in the [paper](https://dl.acm.org/doi/10.1145/3408308.3427604). The settings below  are as provided in the original MARLISA implementation found [here](https://github.com/intelligent-environments-lab/CityLearn/blob/master/examples/example_marlisa.ipynb)\n",
    "\n",
    "- `hidden_dim`:[256,256], \n",
    "- `discount`:0.99, \n",
    "- `tau`:5e-3, \n",
    "- `lr`:3e-4, \n",
    "- `batch_size`:256, \n",
    "- `replay_buffer_capacity`:1e5, \n",
    "- `regression_buffer_capacity`:3e4, \n",
    "- `start_training`:600, # Start updating actor-critic networks\n",
    "- `exploration_period`:7500, # Just taking random actions\n",
    "- `start_regression`:500, # Start training the regression model\n",
    "- `information_sharing`:True, # If True -> set the appropriate 'reward_function_ma' in reward_function.py\n",
    "- `pca_compression`:.95, \n",
    "- `action_scaling_coef`:0.5, # Actions are multiplied by this factor to prevent too aggressive actions\n",
    "- `reward_scaling`:5., # Rewards are normalized and multiplied by this factor\n",
    "- `update_per_step`:2, # How many times the actor-critic networks are updated every hourly time-step\n",
    "- `iterations_as`:2,# Iterations of the iterative action selection (see MARLISA paper for more info)\n",
    "- `safe_exploration`:True\n",
    "\n",
    "__NOTE: Set the appropriate number of buildings as the environment. Ensure the BuildingsStatesActions generated have same number of buildings as the given environment__"
   ]
  },
  {
   "cell_type": "code",
   "execution_count": 19,
   "metadata": {
    "pycharm": {
     "name": "#%%\n"
    }
   },
   "outputs": [
    {
     "ename": "TypeError",
     "evalue": "expected str, bytes or os.PathLike object, not dict",
     "output_type": "error",
     "traceback": [
      "\u001B[1;31m---------------------------------------------------------------------------\u001B[0m",
      "\u001B[1;31mTypeError\u001B[0m                                 Traceback (most recent call last)",
      "Cell \u001B[1;32mIn [19], line 25\u001B[0m\n\u001B[0;32m      1\u001B[0m params_agent \u001B[38;5;241m=\u001B[39m {\u001B[38;5;124m'\u001B[39m\u001B[38;5;124mbuilding_ids\u001B[39m\u001B[38;5;124m'\u001B[39m:[\u001B[38;5;124m\"\u001B[39m\u001B[38;5;124mBuilding_\u001B[39m\u001B[38;5;124m\"\u001B[39m\u001B[38;5;241m+\u001B[39m\u001B[38;5;28mstr\u001B[39m(i) \u001B[38;5;28;01mfor\u001B[39;00m i \u001B[38;5;129;01min\u001B[39;00m [\u001B[38;5;241m1\u001B[39m,\u001B[38;5;241m2\u001B[39m,\u001B[38;5;241m3\u001B[39m,\u001B[38;5;241m4\u001B[39m,\u001B[38;5;241m5\u001B[39m]],\n\u001B[0;32m      2\u001B[0m                  \u001B[38;5;124m'\u001B[39m\u001B[38;5;124mbuildings_states_actions\u001B[39m\u001B[38;5;124m'\u001B[39m:BuildingsStatesActions, \n\u001B[0;32m      3\u001B[0m                  \u001B[38;5;124m'\u001B[39m\u001B[38;5;124mbuilding_info\u001B[39m\u001B[38;5;124m'\u001B[39m:building_info,\n\u001B[1;32m   (...)\u001B[0m\n\u001B[0;32m     21\u001B[0m                  \u001B[38;5;124m'\u001B[39m\u001B[38;5;124miterations_as\u001B[39m\u001B[38;5;124m'\u001B[39m:\u001B[38;5;241m2\u001B[39m,\u001B[38;5;66;03m# Iterations of the iterative action selection (see MARLISA paper for more info)\u001B[39;00m\n\u001B[0;32m     22\u001B[0m                  \u001B[38;5;124m'\u001B[39m\u001B[38;5;124msafe_exploration\u001B[39m\u001B[38;5;124m'\u001B[39m:\u001B[38;5;28;01mTrue\u001B[39;00m} \n\u001B[0;32m     24\u001B[0m \u001B[38;5;66;03m# Instantiating the control agent(s)\u001B[39;00m\n\u001B[1;32m---> 25\u001B[0m agents \u001B[38;5;241m=\u001B[39m MARLISA(\u001B[38;5;241m*\u001B[39m\u001B[38;5;241m*\u001B[39mparams_agent)\n\u001B[0;32m     27\u001B[0m RUNTIME \u001B[38;5;241m=\u001B[39m \u001B[38;5;241m30\u001B[39m\u001B[38;5;241m*\u001B[39m\u001B[38;5;241m24\u001B[39m\n\u001B[0;32m     28\u001B[0m shortcut \u001B[38;5;241m=\u001B[39m \u001B[38;5;28;01mTrue\u001B[39;00m\n",
      "File \u001B[1;32m~\\Storage\\Epoch\\citylearn-2022-starter-kit\\agents\\marlisa.py:38\u001B[0m, in \u001B[0;36mMARLISA.__init__\u001B[1;34m(self, building_ids, buildings_states_actions, building_info, observation_spaces, action_spaces, hidden_dim, discount, tau, lr, batch_size, replay_buffer_capacity, regression_buffer_capacity, start_training, exploration_period, start_regression, information_sharing, pca_compression, action_scaling_coef, reward_scaling, update_per_step, iterations_as, safe_exploration, seed)\u001B[0m\n\u001B[0;32m     12\u001B[0m \u001B[38;5;28;01mdef\u001B[39;00m \u001B[38;5;21m__init__\u001B[39m(\u001B[38;5;28mself\u001B[39m, building_ids,\n\u001B[0;32m     13\u001B[0m              buildings_states_actions,\n\u001B[0;32m     14\u001B[0m              building_info,\n\u001B[1;32m   (...)\u001B[0m\n\u001B[0;32m     33\u001B[0m              safe_exploration\u001B[38;5;241m=\u001B[39m\u001B[38;5;28;01mFalse\u001B[39;00m,\n\u001B[0;32m     34\u001B[0m              seed\u001B[38;5;241m=\u001B[39m\u001B[38;5;241m0\u001B[39m):\n\u001B[0;32m     36\u001B[0m     \u001B[38;5;28;01massert\u001B[39;00m start_training \u001B[38;5;241m>\u001B[39m start_regression, \u001B[38;5;124m'\u001B[39m\u001B[38;5;124mstart_training must be greater than start_regression\u001B[39m\u001B[38;5;124m'\u001B[39m\n\u001B[1;32m---> 38\u001B[0m     \u001B[38;5;28;01mwith\u001B[39;00m \u001B[38;5;28;43mopen\u001B[39;49m\u001B[43m(\u001B[49m\u001B[43mbuildings_states_actions\u001B[49m\u001B[43m)\u001B[49m \u001B[38;5;28;01mas\u001B[39;00m json_file:\n\u001B[0;32m     39\u001B[0m         \u001B[38;5;28mself\u001B[39m\u001B[38;5;241m.\u001B[39mbuildings_states_actions \u001B[38;5;241m=\u001B[39m json\u001B[38;5;241m.\u001B[39mload(json_file)\n\u001B[0;32m     41\u001B[0m     \u001B[38;5;28mself\u001B[39m\u001B[38;5;241m.\u001B[39mbuilding_ids \u001B[38;5;241m=\u001B[39m building_ids\n",
      "\u001B[1;31mTypeError\u001B[0m: expected str, bytes or os.PathLike object, not dict"
     ]
    }
   ],
   "source": [
    "params_agent = {'building_ids':[\"Building_\"+str(i) for i in [1,2,3,4,5]],\n",
    "                 'buildings_states_actions':BuildingsStatesActions, \n",
    "                 'building_info':building_info,\n",
    "                 'observation_spaces':observations_spaces, \n",
    "                 'action_spaces':actions_spaces, \n",
    "                 'hidden_dim':[256,256], \n",
    "                 'discount':1/12, \n",
    "                 'tau':5e-3, \n",
    "                 'lr':3e-4, \n",
    "                 'batch_size':256, \n",
    "                 'replay_buffer_capacity':1e5, \n",
    "                 'regression_buffer_capacity':3e4, \n",
    "                 'start_training':600, # Start updating actor-critic networks\n",
    "                 'exploration_period':7500, # Just taking random actions\n",
    "                 'start_regression':500, # Start training the regression model\n",
    "                 'information_sharing':True, # If True -> set the appropriate 'reward_function_ma' in reward_function.py\n",
    "                 'pca_compression':.95, \n",
    "                 'action_scaling_coef':0.5, # Actions are multiplied by this factor to prevent too aggressive actions\n",
    "                 'reward_scaling':5., # Rewards are normalized and multiplied by this factor\n",
    "                 'update_per_step':2, # How many times the actor-critic networks are updated every hourly time-step\n",
    "                 'iterations_as':2,# Iterations of the iterative action selection (see MARLISA paper for more info)\n",
    "                 'safe_exploration':True} \n",
    "\n",
    "# Instantiating the control agent(s)\n",
    "agents = MARLISA(**params_agent)\n",
    "\n",
    "RUNTIME = 30*24\n",
    "shortcut = True\n",
    "cutshort = True\n",
    "# We will use 1 episode if we intend to simulate a real-time RL controller (like in the CityLearn Challenge)\n",
    "# In climate zone 5, 1 episode contains 5 years of data, or 8760*5 time-steps.\n",
    "n_episodes = 1\n",
    "start = time.time()\n",
    "for e in tqdm(range(n_episodes)): \n",
    "    state = env.reset()\n",
    "    done = False\n",
    "    \n",
    "    j = 0\n",
    "    is_evaluating = False\n",
    "    action, coordination_vars = agents.select_action(state, deterministic=is_evaluating)\n",
    "\n",
    "    while (not done) and shortcut:\n",
    "        next_state, reward, done, _ = env.step(action)\n",
    "        action_next, coordination_vars_next = agents.select_action(next_state, deterministic=is_evaluating)\n",
    "        agents.add_to_buffer(state, action, reward, next_state, done, coordination_vars, coordination_vars_next)\n",
    "        coordination_vars = coordination_vars_next\n",
    "        state = next_state\n",
    "        action = action_next\n",
    "\n",
    "        if j%(24*30) == 0:\n",
    "            print(f' We are now in step <><><> {j}, with score >> {env.evaluate()}')\n",
    "        # if cutshort:\n",
    "        #     is_evaluating = (j > (3*RUNTIME)/2)\n",
    "        #     j += 1\n",
    "        \n",
    "        is_evaluating = (j > 3*8760)\n",
    "        j += 1\n",
    "        \n",
    "        # if j >= RUNTIME:\n",
    "        #     shortcut = False\n",
    "        \n",
    "    print('Loss -',env.evaluate(), 'Simulation time (min) -',(time.time()-start)/60.0)\n",
    "    # CPU training for 603mins "
   ]
  },
  {
   "cell_type": "markdown",
   "source": [
    "#### HOPE U LIKED THE SONG\n",
    "\n",
    "Leave a comment for any questions, doubts or corrections"
   ],
   "metadata": {
    "collapsed": false,
    "pycharm": {
     "name": "#%% md\n"
    }
   }
  },
  {
   "cell_type": "code",
   "execution_count": null,
   "outputs": [],
   "source": [],
   "metadata": {
    "collapsed": false,
    "pycharm": {
     "name": "#%%\n"
    }
   }
  }
 ],
 "metadata": {
  "interpreter": {
   "hash": "15c682508d24c5a67d5fbbe2fea073172b3a3ca9fabad277d65ba1c57669360a"
  },
  "kernelspec": {
   "display_name": "Python 3.7.13 ('CityLearn2022')",
   "language": "python",
   "name": "python3"
  },
  "language_info": {
   "codemirror_mode": {
    "name": "ipython",
    "version": 3
   },
   "file_extension": ".py",
   "mimetype": "text/x-python",
   "name": "python",
   "nbconvert_exporter": "python",
   "pygments_lexer": "ipython3",
   "version": "3.7.13"
  }
 },
 "nbformat": 4,
 "nbformat_minor": 4
}