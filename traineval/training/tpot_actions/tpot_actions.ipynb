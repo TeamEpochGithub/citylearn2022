{
 "cells": [
  {
   "cell_type": "code",
   "execution_count": 7,
   "metadata": {
    "collapsed": true,
    "pycharm": {
     "name": "#%%\n"
    }
   },
   "outputs": [],
   "source": [
    "import os.path as osp\n",
    "import data.citylearn_challenge_2022_phase_1 as competition_data\n",
    "import pandas as pd"
   ]
  },
  {
   "cell_type": "code",
   "execution_count": 8,
   "outputs": [],
   "source": [
    "import csv\n",
    "action_file_path = osp.join(osp.dirname(competition_data.__file__), 'perfect_actions.csv')\n",
    "\n",
    "col_names = [\"month\",\n",
    "    \"day_type\",\n",
    "    \"hour\",\n",
    "    \"outdoor_dry_bulb_temperature\",\n",
    "    \"outdoor_dry_bulb_temperature_predicted_6h\",\n",
    "    \"outdoor_dry_bulb_temperature_predicted_12h\",\n",
    "    \"outdoor_dry_bulb_temperature_predicted_24h\",\n",
    "    \"outdoor_relative_humidity\",\n",
    "    \"outdoor_relative_humidity_predicted_6h\",\n",
    "    \"outdoor_relative_humidity_predicted_12h\",\n",
    "    \"outdoor_relative_humidity_predicted_24h\",\n",
    "    \"diffuse_solar_irradiance\",\n",
    "    \"diffuse_solar_irradiance_predicted_6h\",\n",
    "    \"diffuse_solar_irradiance_predicted_12h\",\n",
    "    \"diffuse_solar_irradiance_predicted_24h\",\n",
    "    \"direct_solar_irradiance\",\n",
    "    \"direct_solar_irradiance_predicted_6h\",\n",
    "    \"direct_solar_irradiance_predicted_12h\",\n",
    "    \"direct_solar_irradiance_predicted_24h\",\n",
    "    \"carbon_intensity\",\n",
    "    \"non_shiftable_load\",\n",
    "    \"solar_generation\",\n",
    "    \"electrical_storage_soc\",\n",
    "    \"net_electricity_consumption\",\n",
    "    \"electricity_pricing\",\n",
    "    \"electricity_pricing_predicted_6h\",\n",
    "    \"electricity_pricing_predicted_12h\",\n",
    "    \"electricity_pricing_predicted_24h\",\n",
    "    \"action\"]\n",
    "\n",
    "with open(action_file_path,newline='') as f:\n",
    "    r = csv.reader(f)\n",
    "    data = [line for line in r]\n",
    "with open(action_file_path,'w',newline='') as f:\n",
    "    w = csv.writer(f)\n",
    "    w.writerow(col_names)\n",
    "    w.writerows(data)\n",
    "\n"
   ],
   "metadata": {
    "collapsed": false,
    "pycharm": {
     "name": "#%%\n"
    }
   }
  },
  {
   "cell_type": "code",
   "execution_count": 9,
   "outputs": [
    {
     "data": {
      "text/plain": "    month  day_type  hour  outdoor_dry_bulb_temperature  \\\n0       7         7    24                          20.0   \n1       7         7    24                          20.0   \n2       7         7    24                          20.0   \n3       7         7    24                          20.0   \n4       7         7    24                          20.0   \n5       8         1     1                          20.1   \n6       8         1     1                          20.1   \n7       8         1     1                          20.1   \n8       8         1     1                          20.1   \n9       8         1     1                          20.1   \n10      8         1     2                          19.7   \n11      8         1     2                          19.7   \n12      8         1     2                          19.7   \n13      8         1     2                          19.7   \n14      8         1     2                          19.7   \n15      8         1     3                          19.3   \n16      8         1     3                          19.3   \n17      8         1     3                          19.3   \n18      8         1     3                          19.3   \n19      8         1     3                          19.3   \n\n    outdoor_dry_bulb_temperature_predicted_6h  \\\n0                                        18.3   \n1                                        18.3   \n2                                        18.3   \n3                                        18.3   \n4                                        18.3   \n5                                        19.4   \n6                                        19.4   \n7                                        19.4   \n8                                        19.4   \n9                                        19.4   \n10                                       21.1   \n11                                       21.1   \n12                                       21.1   \n13                                       21.1   \n14                                       21.1   \n15                                       22.2   \n16                                       22.2   \n17                                       22.2   \n18                                       22.2   \n19                                       22.2   \n\n    outdoor_dry_bulb_temperature_predicted_12h  \\\n0                                         22.8   \n1                                         22.8   \n2                                         22.8   \n3                                         22.8   \n4                                         22.8   \n5                                         22.8   \n6                                         22.8   \n7                                         22.8   \n8                                         22.8   \n9                                         22.8   \n10                                        22.2   \n11                                        22.2   \n12                                        22.2   \n13                                        22.2   \n14                                        22.2   \n15                                        22.8   \n16                                        22.8   \n17                                        22.8   \n18                                        22.8   \n19                                        22.8   \n\n    outdoor_dry_bulb_temperature_predicted_24h  outdoor_relative_humidity  \\\n0                                         20.0                       84.0   \n1                                         20.0                       84.0   \n2                                         20.0                       84.0   \n3                                         20.0                       84.0   \n4                                         20.0                       84.0   \n5                                         19.4                       79.0   \n6                                         19.4                       79.0   \n7                                         19.4                       79.0   \n8                                         19.4                       79.0   \n9                                         19.4                       79.0   \n10                                        19.4                       78.0   \n11                                        19.4                       78.0   \n12                                        19.4                       78.0   \n13                                        19.4                       78.0   \n14                                        19.4                       78.0   \n15                                        19.4                       78.0   \n16                                        19.4                       78.0   \n17                                        19.4                       78.0   \n18                                        19.4                       78.0   \n19                                        19.4                       78.0   \n\n    outdoor_relative_humidity_predicted_6h  \\\n0                                     81.0   \n1                                     81.0   \n2                                     81.0   \n3                                     81.0   \n4                                     81.0   \n5                                     79.0   \n6                                     79.0   \n7                                     79.0   \n8                                     79.0   \n9                                     79.0   \n10                                    73.0   \n11                                    73.0   \n12                                    73.0   \n13                                    73.0   \n14                                    73.0   \n15                                    71.0   \n16                                    71.0   \n17                                    71.0   \n18                                    71.0   \n19                                    71.0   \n\n    outdoor_relative_humidity_predicted_12h  ...  carbon_intensity  \\\n0                                      68.0  ...          0.170724   \n1                                      68.0  ...          0.170724   \n2                                      68.0  ...          0.170724   \n3                                      68.0  ...          0.170724   \n4                                      68.0  ...          0.170724   \n5                                      71.0  ...          0.157319   \n6                                      71.0  ...          0.157319   \n7                                      71.0  ...          0.157319   \n8                                      71.0  ...          0.157319   \n9                                      71.0  ...          0.157319   \n10                                     73.0  ...          0.154503   \n11                                     73.0  ...          0.154503   \n12                                     73.0  ...          0.154503   \n13                                     73.0  ...          0.154503   \n14                                     73.0  ...          0.154503   \n15                                     71.0  ...          0.150945   \n16                                     71.0  ...          0.150945   \n17                                     71.0  ...          0.150945   \n18                                     71.0  ...          0.150945   \n19                                     71.0  ...          0.150945   \n\n    non_shiftable_load  solar_generation  electrical_storage_soc  \\\n0         2.275800e+00               0.0                     0.0   \n1         2.188750e+00               0.0                     0.0   \n2         1.009623e-07               0.0                     0.0   \n3         2.819150e+00               0.0                     0.0   \n4         7.714333e-01               0.0                     0.0   \n5         8.511667e-01               0.0                     0.0   \n6         1.370667e+00               0.0                     0.0   \n7         1.018524e-07               0.0                     0.0   \n8         1.928167e+00               0.0                     0.0   \n9         5.158833e-01               0.0                     0.0   \n10        8.346000e-01               0.0                     0.0   \n11        1.101250e+00               0.0                     0.0   \n12        1.008352e-07               0.0                     0.0   \n13        4.758167e-01               0.0                     0.0   \n14        5.030500e-01               0.0                     0.0   \n15        8.381667e-01               0.0                     0.0   \n16        5.432167e-01               0.0                     0.0   \n17        1.007080e-07               0.0                     0.0   \n18        4.582333e-01               0.0                     0.0   \n19        5.359500e-01               0.0                     0.0   \n\n    net_electricity_consumption  electricity_pricing  \\\n0                  2.275800e+00                 0.22   \n1                  2.188750e+00                 0.22   \n2                  1.009623e-07                 0.22   \n3                  2.819150e+00                 0.22   \n4                  7.714333e-01                 0.22   \n5                  8.511667e-01                 0.22   \n6                  1.370667e+00                 0.22   \n7                  1.018524e-07                 0.22   \n8                  1.928167e+00                 0.22   \n9                  5.158833e-01                 0.22   \n10                 8.346000e-01                 0.22   \n11                 1.101250e+00                 0.22   \n12                 1.008352e-07                 0.22   \n13                 4.758167e-01                 0.22   \n14                 5.030500e-01                 0.22   \n15                 8.381667e-01                 0.22   \n16                 5.432167e-01                 0.22   \n17                 1.007080e-07                 0.22   \n18                 4.582333e-01                 0.22   \n19                 5.359500e-01                 0.22   \n\n    electricity_pricing_predicted_6h  electricity_pricing_predicted_12h  \\\n0                               0.22                               0.22   \n1                               0.22                               0.22   \n2                               0.22                               0.22   \n3                               0.22                               0.22   \n4                               0.22                               0.22   \n5                               0.22                               0.22   \n6                               0.22                               0.22   \n7                               0.22                               0.22   \n8                               0.22                               0.22   \n9                               0.22                               0.22   \n10                              0.22                               0.22   \n11                              0.22                               0.22   \n12                              0.22                               0.22   \n13                              0.22                               0.22   \n14                              0.22                               0.22   \n15                              0.22                               0.22   \n16                              0.22                               0.22   \n17                              0.22                               0.22   \n18                              0.22                               0.22   \n19                              0.22                               0.22   \n\n    electricity_pricing_predicted_24h    action  \n0                                0.22 -0.145809  \n1                                0.22 -0.145809  \n2                                0.22 -0.145809  \n3                                0.22 -0.145809  \n4                                0.22 -0.145809  \n5                                0.22 -0.091085  \n6                                0.22 -0.091085  \n7                                0.22 -0.091085  \n8                                0.22 -0.091085  \n9                                0.22 -0.091085  \n10                               0.22 -0.074236  \n11                               0.22 -0.074236  \n12                               0.22 -0.074236  \n13                               0.22 -0.074236  \n14                               0.22 -0.074236  \n15                               0.22 -0.093122  \n16                               0.22 -0.093122  \n17                               0.22 -0.093122  \n18                               0.22 -0.093122  \n19                               0.22 -0.093122  \n\n[20 rows x 29 columns]",
      "text/html": "<div>\n<style scoped>\n    .dataframe tbody tr th:only-of-type {\n        vertical-align: middle;\n    }\n\n    .dataframe tbody tr th {\n        vertical-align: top;\n    }\n\n    .dataframe thead th {\n        text-align: right;\n    }\n</style>\n<table border=\"1\" class=\"dataframe\">\n  <thead>\n    <tr style=\"text-align: right;\">\n      <th></th>\n      <th>month</th>\n      <th>day_type</th>\n      <th>hour</th>\n      <th>outdoor_dry_bulb_temperature</th>\n      <th>outdoor_dry_bulb_temperature_predicted_6h</th>\n      <th>outdoor_dry_bulb_temperature_predicted_12h</th>\n      <th>outdoor_dry_bulb_temperature_predicted_24h</th>\n      <th>outdoor_relative_humidity</th>\n      <th>outdoor_relative_humidity_predicted_6h</th>\n      <th>outdoor_relative_humidity_predicted_12h</th>\n      <th>...</th>\n      <th>carbon_intensity</th>\n      <th>non_shiftable_load</th>\n      <th>solar_generation</th>\n      <th>electrical_storage_soc</th>\n      <th>net_electricity_consumption</th>\n      <th>electricity_pricing</th>\n      <th>electricity_pricing_predicted_6h</th>\n      <th>electricity_pricing_predicted_12h</th>\n      <th>electricity_pricing_predicted_24h</th>\n      <th>action</th>\n    </tr>\n  </thead>\n  <tbody>\n    <tr>\n      <th>0</th>\n      <td>7</td>\n      <td>7</td>\n      <td>24</td>\n      <td>20.0</td>\n      <td>18.3</td>\n      <td>22.8</td>\n      <td>20.0</td>\n      <td>84.0</td>\n      <td>81.0</td>\n      <td>68.0</td>\n      <td>...</td>\n      <td>0.170724</td>\n      <td>2.275800e+00</td>\n      <td>0.0</td>\n      <td>0.0</td>\n      <td>2.275800e+00</td>\n      <td>0.22</td>\n      <td>0.22</td>\n      <td>0.22</td>\n      <td>0.22</td>\n      <td>-0.145809</td>\n    </tr>\n    <tr>\n      <th>1</th>\n      <td>7</td>\n      <td>7</td>\n      <td>24</td>\n      <td>20.0</td>\n      <td>18.3</td>\n      <td>22.8</td>\n      <td>20.0</td>\n      <td>84.0</td>\n      <td>81.0</td>\n      <td>68.0</td>\n      <td>...</td>\n      <td>0.170724</td>\n      <td>2.188750e+00</td>\n      <td>0.0</td>\n      <td>0.0</td>\n      <td>2.188750e+00</td>\n      <td>0.22</td>\n      <td>0.22</td>\n      <td>0.22</td>\n      <td>0.22</td>\n      <td>-0.145809</td>\n    </tr>\n    <tr>\n      <th>2</th>\n      <td>7</td>\n      <td>7</td>\n      <td>24</td>\n      <td>20.0</td>\n      <td>18.3</td>\n      <td>22.8</td>\n      <td>20.0</td>\n      <td>84.0</td>\n      <td>81.0</td>\n      <td>68.0</td>\n      <td>...</td>\n      <td>0.170724</td>\n      <td>1.009623e-07</td>\n      <td>0.0</td>\n      <td>0.0</td>\n      <td>1.009623e-07</td>\n      <td>0.22</td>\n      <td>0.22</td>\n      <td>0.22</td>\n      <td>0.22</td>\n      <td>-0.145809</td>\n    </tr>\n    <tr>\n      <th>3</th>\n      <td>7</td>\n      <td>7</td>\n      <td>24</td>\n      <td>20.0</td>\n      <td>18.3</td>\n      <td>22.8</td>\n      <td>20.0</td>\n      <td>84.0</td>\n      <td>81.0</td>\n      <td>68.0</td>\n      <td>...</td>\n      <td>0.170724</td>\n      <td>2.819150e+00</td>\n      <td>0.0</td>\n      <td>0.0</td>\n      <td>2.819150e+00</td>\n      <td>0.22</td>\n      <td>0.22</td>\n      <td>0.22</td>\n      <td>0.22</td>\n      <td>-0.145809</td>\n    </tr>\n    <tr>\n      <th>4</th>\n      <td>7</td>\n      <td>7</td>\n      <td>24</td>\n      <td>20.0</td>\n      <td>18.3</td>\n      <td>22.8</td>\n      <td>20.0</td>\n      <td>84.0</td>\n      <td>81.0</td>\n      <td>68.0</td>\n      <td>...</td>\n      <td>0.170724</td>\n      <td>7.714333e-01</td>\n      <td>0.0</td>\n      <td>0.0</td>\n      <td>7.714333e-01</td>\n      <td>0.22</td>\n      <td>0.22</td>\n      <td>0.22</td>\n      <td>0.22</td>\n      <td>-0.145809</td>\n    </tr>\n    <tr>\n      <th>5</th>\n      <td>8</td>\n      <td>1</td>\n      <td>1</td>\n      <td>20.1</td>\n      <td>19.4</td>\n      <td>22.8</td>\n      <td>19.4</td>\n      <td>79.0</td>\n      <td>79.0</td>\n      <td>71.0</td>\n      <td>...</td>\n      <td>0.157319</td>\n      <td>8.511667e-01</td>\n      <td>0.0</td>\n      <td>0.0</td>\n      <td>8.511667e-01</td>\n      <td>0.22</td>\n      <td>0.22</td>\n      <td>0.22</td>\n      <td>0.22</td>\n      <td>-0.091085</td>\n    </tr>\n    <tr>\n      <th>6</th>\n      <td>8</td>\n      <td>1</td>\n      <td>1</td>\n      <td>20.1</td>\n      <td>19.4</td>\n      <td>22.8</td>\n      <td>19.4</td>\n      <td>79.0</td>\n      <td>79.0</td>\n      <td>71.0</td>\n      <td>...</td>\n      <td>0.157319</td>\n      <td>1.370667e+00</td>\n      <td>0.0</td>\n      <td>0.0</td>\n      <td>1.370667e+00</td>\n      <td>0.22</td>\n      <td>0.22</td>\n      <td>0.22</td>\n      <td>0.22</td>\n      <td>-0.091085</td>\n    </tr>\n    <tr>\n      <th>7</th>\n      <td>8</td>\n      <td>1</td>\n      <td>1</td>\n      <td>20.1</td>\n      <td>19.4</td>\n      <td>22.8</td>\n      <td>19.4</td>\n      <td>79.0</td>\n      <td>79.0</td>\n      <td>71.0</td>\n      <td>...</td>\n      <td>0.157319</td>\n      <td>1.018524e-07</td>\n      <td>0.0</td>\n      <td>0.0</td>\n      <td>1.018524e-07</td>\n      <td>0.22</td>\n      <td>0.22</td>\n      <td>0.22</td>\n      <td>0.22</td>\n      <td>-0.091085</td>\n    </tr>\n    <tr>\n      <th>8</th>\n      <td>8</td>\n      <td>1</td>\n      <td>1</td>\n      <td>20.1</td>\n      <td>19.4</td>\n      <td>22.8</td>\n      <td>19.4</td>\n      <td>79.0</td>\n      <td>79.0</td>\n      <td>71.0</td>\n      <td>...</td>\n      <td>0.157319</td>\n      <td>1.928167e+00</td>\n      <td>0.0</td>\n      <td>0.0</td>\n      <td>1.928167e+00</td>\n      <td>0.22</td>\n      <td>0.22</td>\n      <td>0.22</td>\n      <td>0.22</td>\n      <td>-0.091085</td>\n    </tr>\n    <tr>\n      <th>9</th>\n      <td>8</td>\n      <td>1</td>\n      <td>1</td>\n      <td>20.1</td>\n      <td>19.4</td>\n      <td>22.8</td>\n      <td>19.4</td>\n      <td>79.0</td>\n      <td>79.0</td>\n      <td>71.0</td>\n      <td>...</td>\n      <td>0.157319</td>\n      <td>5.158833e-01</td>\n      <td>0.0</td>\n      <td>0.0</td>\n      <td>5.158833e-01</td>\n      <td>0.22</td>\n      <td>0.22</td>\n      <td>0.22</td>\n      <td>0.22</td>\n      <td>-0.091085</td>\n    </tr>\n    <tr>\n      <th>10</th>\n      <td>8</td>\n      <td>1</td>\n      <td>2</td>\n      <td>19.7</td>\n      <td>21.1</td>\n      <td>22.2</td>\n      <td>19.4</td>\n      <td>78.0</td>\n      <td>73.0</td>\n      <td>73.0</td>\n      <td>...</td>\n      <td>0.154503</td>\n      <td>8.346000e-01</td>\n      <td>0.0</td>\n      <td>0.0</td>\n      <td>8.346000e-01</td>\n      <td>0.22</td>\n      <td>0.22</td>\n      <td>0.22</td>\n      <td>0.22</td>\n      <td>-0.074236</td>\n    </tr>\n    <tr>\n      <th>11</th>\n      <td>8</td>\n      <td>1</td>\n      <td>2</td>\n      <td>19.7</td>\n      <td>21.1</td>\n      <td>22.2</td>\n      <td>19.4</td>\n      <td>78.0</td>\n      <td>73.0</td>\n      <td>73.0</td>\n      <td>...</td>\n      <td>0.154503</td>\n      <td>1.101250e+00</td>\n      <td>0.0</td>\n      <td>0.0</td>\n      <td>1.101250e+00</td>\n      <td>0.22</td>\n      <td>0.22</td>\n      <td>0.22</td>\n      <td>0.22</td>\n      <td>-0.074236</td>\n    </tr>\n    <tr>\n      <th>12</th>\n      <td>8</td>\n      <td>1</td>\n      <td>2</td>\n      <td>19.7</td>\n      <td>21.1</td>\n      <td>22.2</td>\n      <td>19.4</td>\n      <td>78.0</td>\n      <td>73.0</td>\n      <td>73.0</td>\n      <td>...</td>\n      <td>0.154503</td>\n      <td>1.008352e-07</td>\n      <td>0.0</td>\n      <td>0.0</td>\n      <td>1.008352e-07</td>\n      <td>0.22</td>\n      <td>0.22</td>\n      <td>0.22</td>\n      <td>0.22</td>\n      <td>-0.074236</td>\n    </tr>\n    <tr>\n      <th>13</th>\n      <td>8</td>\n      <td>1</td>\n      <td>2</td>\n      <td>19.7</td>\n      <td>21.1</td>\n      <td>22.2</td>\n      <td>19.4</td>\n      <td>78.0</td>\n      <td>73.0</td>\n      <td>73.0</td>\n      <td>...</td>\n      <td>0.154503</td>\n      <td>4.758167e-01</td>\n      <td>0.0</td>\n      <td>0.0</td>\n      <td>4.758167e-01</td>\n      <td>0.22</td>\n      <td>0.22</td>\n      <td>0.22</td>\n      <td>0.22</td>\n      <td>-0.074236</td>\n    </tr>\n    <tr>\n      <th>14</th>\n      <td>8</td>\n      <td>1</td>\n      <td>2</td>\n      <td>19.7</td>\n      <td>21.1</td>\n      <td>22.2</td>\n      <td>19.4</td>\n      <td>78.0</td>\n      <td>73.0</td>\n      <td>73.0</td>\n      <td>...</td>\n      <td>0.154503</td>\n      <td>5.030500e-01</td>\n      <td>0.0</td>\n      <td>0.0</td>\n      <td>5.030500e-01</td>\n      <td>0.22</td>\n      <td>0.22</td>\n      <td>0.22</td>\n      <td>0.22</td>\n      <td>-0.074236</td>\n    </tr>\n    <tr>\n      <th>15</th>\n      <td>8</td>\n      <td>1</td>\n      <td>3</td>\n      <td>19.3</td>\n      <td>22.2</td>\n      <td>22.8</td>\n      <td>19.4</td>\n      <td>78.0</td>\n      <td>71.0</td>\n      <td>71.0</td>\n      <td>...</td>\n      <td>0.150945</td>\n      <td>8.381667e-01</td>\n      <td>0.0</td>\n      <td>0.0</td>\n      <td>8.381667e-01</td>\n      <td>0.22</td>\n      <td>0.22</td>\n      <td>0.22</td>\n      <td>0.22</td>\n      <td>-0.093122</td>\n    </tr>\n    <tr>\n      <th>16</th>\n      <td>8</td>\n      <td>1</td>\n      <td>3</td>\n      <td>19.3</td>\n      <td>22.2</td>\n      <td>22.8</td>\n      <td>19.4</td>\n      <td>78.0</td>\n      <td>71.0</td>\n      <td>71.0</td>\n      <td>...</td>\n      <td>0.150945</td>\n      <td>5.432167e-01</td>\n      <td>0.0</td>\n      <td>0.0</td>\n      <td>5.432167e-01</td>\n      <td>0.22</td>\n      <td>0.22</td>\n      <td>0.22</td>\n      <td>0.22</td>\n      <td>-0.093122</td>\n    </tr>\n    <tr>\n      <th>17</th>\n      <td>8</td>\n      <td>1</td>\n      <td>3</td>\n      <td>19.3</td>\n      <td>22.2</td>\n      <td>22.8</td>\n      <td>19.4</td>\n      <td>78.0</td>\n      <td>71.0</td>\n      <td>71.0</td>\n      <td>...</td>\n      <td>0.150945</td>\n      <td>1.007080e-07</td>\n      <td>0.0</td>\n      <td>0.0</td>\n      <td>1.007080e-07</td>\n      <td>0.22</td>\n      <td>0.22</td>\n      <td>0.22</td>\n      <td>0.22</td>\n      <td>-0.093122</td>\n    </tr>\n    <tr>\n      <th>18</th>\n      <td>8</td>\n      <td>1</td>\n      <td>3</td>\n      <td>19.3</td>\n      <td>22.2</td>\n      <td>22.8</td>\n      <td>19.4</td>\n      <td>78.0</td>\n      <td>71.0</td>\n      <td>71.0</td>\n      <td>...</td>\n      <td>0.150945</td>\n      <td>4.582333e-01</td>\n      <td>0.0</td>\n      <td>0.0</td>\n      <td>4.582333e-01</td>\n      <td>0.22</td>\n      <td>0.22</td>\n      <td>0.22</td>\n      <td>0.22</td>\n      <td>-0.093122</td>\n    </tr>\n    <tr>\n      <th>19</th>\n      <td>8</td>\n      <td>1</td>\n      <td>3</td>\n      <td>19.3</td>\n      <td>22.2</td>\n      <td>22.8</td>\n      <td>19.4</td>\n      <td>78.0</td>\n      <td>71.0</td>\n      <td>71.0</td>\n      <td>...</td>\n      <td>0.150945</td>\n      <td>5.359500e-01</td>\n      <td>0.0</td>\n      <td>0.0</td>\n      <td>5.359500e-01</td>\n      <td>0.22</td>\n      <td>0.22</td>\n      <td>0.22</td>\n      <td>0.22</td>\n      <td>-0.093122</td>\n    </tr>\n  </tbody>\n</table>\n<p>20 rows × 29 columns</p>\n</div>"
     },
     "execution_count": 9,
     "metadata": {},
     "output_type": "execute_result"
    }
   ],
   "source": [
    "df = pd.read_csv(action_file_path)\n",
    "df.head()\n",
    "df[:20]"
   ],
   "metadata": {
    "collapsed": false,
    "pycharm": {
     "name": "#%%\n"
    }
   }
  },
  {
   "cell_type": "code",
   "execution_count": 3,
   "outputs": [],
   "source": [
    "# tpot.TPOTRegressor(generations=100, population_size=100,\n",
    "#                      offspring_size=None, mutation_rate=0.9,\n",
    "#                      crossover_rate=0.1,\n",
    "#                      scoring='neg_mean_squared_error', cv=5,\n",
    "#                      subsample=1.0, n_jobs=1,\n",
    "#                      max_time_mins=None, max_eval_time_mins=5,\n",
    "#                      random_state=None, config_dict=None,\n",
    "#                      template=None,\n",
    "#                      warm_start=False,\n",
    "#                      memory=None,\n",
    "#                      use_dask=False,\n",
    "#                      periodic_checkpoint_folder=None,\n",
    "#                      early_stop=None,\n",
    "#                      verbosity=0,\n",
    "#                      disable_update_check=False)"
   ],
   "metadata": {
    "collapsed": false,
    "pycharm": {
     "name": "#%%\n"
    }
   }
  },
  {
   "cell_type": "code",
   "execution_count": 4,
   "outputs": [
    {
     "data": {
      "text/plain": "Optimization Progress:   0%|          | 0/550 [00:00<?, ?pipeline/s]",
      "application/vnd.jupyter.widget-view+json": {
       "version_major": 2,
       "version_minor": 0,
       "model_id": "eb451e116ffb4379b17d1daf6952e435"
      }
     },
     "metadata": {},
     "output_type": "display_data"
    },
    {
     "name": "stdout",
     "output_type": "stream",
     "text": [
      "\n",
      "Generation 1 - Current best internal CV score: -0.0008231093409649094\n",
      "\n",
      "Generation 2 - Current best internal CV score: -0.0004657711155118947\n",
      "\n",
      "Generation 3 - Current best internal CV score: -0.00026331833497608774\n",
      "\n",
      "Generation 4 - Current best internal CV score: -0.00026331833497608774\n",
      "\n",
      "Generation 5 - Current best internal CV score: -0.00026331833497608774\n",
      "\n",
      "Generation 6 - Current best internal CV score: -0.00026263161840011723\n",
      "\n",
      "Generation 7 - Current best internal CV score: -0.00026146059702614763\n",
      "\n",
      "Generation 8 - Current best internal CV score: -0.00026146059702614763\n",
      "\n",
      "Generation 9 - Current best internal CV score: -0.00026146059702614763\n",
      "\n",
      "Generation 10 - Current best internal CV score: -0.0002613516137840111\n",
      "\n",
      "Best pipeline: KNeighborsRegressor(LassoLarsCV(XGBRegressor(input_matrix, learning_rate=1.0, max_depth=4, min_child_weight=7, n_estimators=100, n_jobs=1, objective=reg:squarederror, subsample=0.5, verbosity=0), normalize=True), n_neighbors=4, p=1, weights=distance)\n"
     ]
    },
    {
     "name": "stderr",
     "output_type": "stream",
     "text": [
      "C:\\Users\\Team Epoch A\\Documents\\Epoch III\\citylearn-2022-starter-kit\\venv\\lib\\site-packages\\sklearn\\metrics\\_scorer.py:765: FutureWarning: sklearn.metrics.SCORERS is deprecated and will be removed in v1.3. Please use sklearn.metrics.get_scorer_names to get a list of available scorers and sklearn.metrics.get_metric to get scorer.\n",
      "  warnings.warn(\n"
     ]
    },
    {
     "name": "stdout",
     "output_type": "stream",
     "text": [
      "-1.8078696590314306e-05\n"
     ]
    }
   ],
   "source": [
    "from tpot import TPOTRegressor\n",
    "from sklearn.model_selection import train_test_split\n",
    "\n",
    "y = df.iloc[: , -1]\n",
    "X = df.iloc[: , :-1]\n",
    "\n",
    "X_train, X_test, y_train, y_test = train_test_split(X, y, train_size=0.75, test_size=0.25)\n",
    "\n",
    "tpot_regressor = TPOTRegressor(generations=10, population_size=50, verbosity=2, n_jobs=-1)\n",
    "tpot_regressor.fit(X_train, y_train)\n",
    "print(tpot_regressor.score(X_test, y_test))"
   ],
   "metadata": {
    "collapsed": false,
    "pycharm": {
     "name": "#%%\n"
    }
   }
  },
  {
   "cell_type": "code",
   "execution_count": null,
   "outputs": [],
   "source": [
    "tpot_regressor.export('tpot_exported_pipeline.py')"
   ],
   "metadata": {
    "collapsed": false,
    "pycharm": {
     "name": "#%%\n"
    }
   }
  },
  {
   "cell_type": "code",
   "execution_count": null,
   "outputs": [],
   "source": [],
   "metadata": {
    "collapsed": false,
    "pycharm": {
     "name": "#%%\n"
    }
   }
  },
  {
   "cell_type": "code",
   "execution_count": null,
   "outputs": [],
   "source": [],
   "metadata": {
    "collapsed": false,
    "pycharm": {
     "name": "#%%\n"
    }
   }
  }
 ],
 "metadata": {
  "kernelspec": {
   "display_name": "Python 3",
   "language": "python",
   "name": "python3"
  },
  "language_info": {
   "codemirror_mode": {
    "name": "ipython",
    "version": 2
   },
   "file_extension": ".py",
   "mimetype": "text/x-python",
   "name": "python",
   "nbconvert_exporter": "python",
   "pygments_lexer": "ipython2",
   "version": "2.7.6"
  }
 },
 "nbformat": 4,
 "nbformat_minor": 0
}