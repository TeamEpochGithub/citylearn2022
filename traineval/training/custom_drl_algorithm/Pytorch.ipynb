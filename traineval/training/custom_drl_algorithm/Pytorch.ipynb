{
 "nbformat": 4,
 "nbformat_minor": 0,
 "metadata": {
  "colab": {
   "provenance": []
  },
  "kernelspec": {
   "name": "python3",
   "display_name": "Python 3"
  },
  "language_info": {
   "name": "python"
  }
 },
 "cells": [
  {
   "cell_type": "code",
   "execution_count": null,
   "metadata": {
    "id": "HTaTY0lChe-4",
    "pycharm": {
     "name": "#%%\n"
    }
   },
   "outputs": [],
   "source": [
    "import torch\n",
    "import numpy as np"
   ]
  },
  {
   "cell_type": "code",
   "source": [
    "input = np.array([1,2,3])\n",
    "model = np.array([0.1,0.2,0.3])\n",
    "result = 10\n",
    "pred = input@model\n",
    "\n",
    "np.power(result - pred,2)"
   ],
   "metadata": {
    "colab": {
     "base_uri": "https://localhost:8080/"
    },
    "id": "McDBzAVwhsPJ",
    "outputId": "ecf03544-5043-4df0-b7ea-2a0d0392e73a",
    "pycharm": {
     "name": "#%%\n"
    }
   },
   "execution_count": null,
   "outputs": [
    {
     "output_type": "execute_result",
     "data": {
      "text/plain": [
       "73.96"
      ]
     },
     "metadata": {},
     "execution_count": 35
    }
   ]
  },
  {
   "cell_type": "markdown",
   "source": [
    "#Reinforcemet learning"
   ],
   "metadata": {
    "id": "oBnNfsAsjdHV",
    "pycharm": {
     "name": "#%% md\n"
    }
   }
  },
  {
   "cell_type": "code",
   "source": [
    "model = np.array([-0.50191485,  0.84416303,  0.67852961])"
   ],
   "metadata": {
    "id": "YrpiPke8jOgN",
    "pycharm": {
     "name": "#%%\n"
    }
   },
   "execution_count": null,
   "outputs": []
  },
  {
   "cell_type": "code",
   "source": [
    "for i in range(5):\n",
    "  random = np.random.random(3)-0.5\n",
    "  evolution = model + random\n",
    "  pred = input@evolution\n",
    "  print(evolution)\n",
    "  print(np.power(result - pred,2))\n"
   ],
   "metadata": {
    "colab": {
     "base_uri": "https://localhost:8080/"
    },
    "id": "ho9dbGoVip2d",
    "outputId": "774c261a-c458-43da-d07e-b07a7930e3b1",
    "pycharm": {
     "name": "#%%\n"
    }
   },
   "execution_count": null,
   "outputs": [
    {
     "output_type": "stream",
     "name": "stdout",
     "text": [
      "[-0.77886883  0.49944948  1.12666052]\n",
      "40.959850098708706\n",
      "[-0.01934433  0.56514559  0.39547204]\n",
      "59.33061694718393\n",
      "[-0.52258396  1.04628781  1.01455704]\n",
      "29.01262877119636\n",
      "[-0.0545801   1.26240389  0.68634383]\n",
      "29.92900531650941\n",
      "[-0.97610286  0.86778555  0.42981174]\n",
      "63.21993647204063\n"
     ]
    }
   ]
  },
  {
   "cell_type": "markdown",
   "source": [
    "#For kids"
   ],
   "metadata": {
    "id": "9w0LMRVfjw7k",
    "pycharm": {
     "name": "#%% md\n"
    }
   }
  },
  {
   "cell_type": "markdown",
   "source": [
    "x*1+2*y+3*z=10"
   ],
   "metadata": {
    "id": "vRSAd83Rjj-f",
    "pycharm": {
     "name": "#%% md\n"
    }
   }
  },
  {
   "cell_type": "code",
   "source": [
    "input"
   ],
   "metadata": {
    "colab": {
     "base_uri": "https://localhost:8080/"
    },
    "id": "15ZMWdANitRb",
    "outputId": "ad799f6c-e6f8-402c-8335-31797e147f80",
    "pycharm": {
     "name": "#%%\n"
    }
   },
   "execution_count": null,
   "outputs": [
    {
     "output_type": "execute_result",
     "data": {
      "text/plain": [
       "array([1, 2, 3])"
      ]
     },
     "metadata": {},
     "execution_count": 22
    }
   ]
  },
  {
   "cell_type": "code",
   "source": [
    "ten_input = torch.from_numpy(input.astype(np.float32))\n",
    "model_input = torch.nn.Parameter(torch.from_numpy(model))"
   ],
   "metadata": {
    "id": "8jJ7tmNxjlpd",
    "pycharm": {
     "name": "#%%\n"
    }
   },
   "execution_count": null,
   "outputs": []
  },
  {
   "cell_type": "code",
   "source": [
    "model_input = torch.nn.Parameter(model_input)\n",
    "\n",
    "class Net(torch.nn.Module):\n",
    "  def __init__(self, model_input,result=10):\n",
    "    super().__init__()\n",
    "    self.layer = torch.nn.Linear(3, 1)\n",
    "    self.result = result\n",
    "  def forward(self, observation):\n",
    "    x = self.layer(observation)\n",
    "    loss = torch.pow( self.result - x,2)\n",
    "    return loss\n",
    "mod_torch = Net(torch.from_numpy(model))\n",
    "gen = iter(mod_torch.layer.parameters())\n",
    "print(next(gen))\n",
    "optimizer = torch.optim.SGD(mod_torch.parameters(), lr=0.01, momentum=0.9)"
   ],
   "metadata": {
    "colab": {
     "base_uri": "https://localhost:8080/"
    },
    "id": "3RcLwzmnkIge",
    "outputId": "af09f1ac-5c17-420b-f74d-47cfa80387b4",
    "pycharm": {
     "name": "#%%\n"
    }
   },
   "execution_count": null,
   "outputs": [
    {
     "output_type": "stream",
     "name": "stdout",
     "text": [
      "Parameter containing:\n",
      "tensor([[-0.3886, -0.4944,  0.5726]], requires_grad=True)\n"
     ]
    }
   ]
  },
  {
   "cell_type": "code",
   "source": [
    "\n",
    "class Consumption(torch.nn.Module):\n",
    "  def __init__(self):\n",
    "    super().__init__()\n",
    "    "
   ],
   "metadata": {
    "id": "yyCofAVHu-Yu",
    "pycharm": {
     "name": "#%%\n"
    }
   },
   "execution_count": null,
   "outputs": []
  },
  {
   "cell_type": "code",
   "source": [
    "gen = iter(mod_torch.layer.parameters())\n",
    "print(next(gen))"
   ],
   "metadata": {
    "colab": {
     "base_uri": "https://localhost:8080/"
    },
    "id": "Kb0ioiR6tVB0",
    "outputId": "abadb68f-63b7-47d8-ff67-4288bbf9b27b",
    "pycharm": {
     "name": "#%%\n"
    }
   },
   "execution_count": null,
   "outputs": [
    {
     "output_type": "stream",
     "name": "stdout",
     "text": [
      "Parameter containing:\n",
      "tensor([[-0.2030, -0.1231,  1.1295]], requires_grad=True)\n"
     ]
    }
   ]
  },
  {
   "cell_type": "code",
   "source": [
    "optimizer.zero_grad()"
   ],
   "metadata": {
    "id": "A7hIdP61tcZ7",
    "pycharm": {
     "name": "#%%\n"
    }
   },
   "execution_count": null,
   "outputs": []
  },
  {
   "cell_type": "code",
   "source": [
    "pred = mod_torch(ten_input)\n",
    "print(pred)\n",
    "loss = torch.pow(result - pred,2)\n",
    "print(loss)"
   ],
   "metadata": {
    "colab": {
     "base_uri": "https://localhost:8080/"
    },
    "id": "JBK_LL3DkQVm",
    "outputId": "be8eb623-5fbe-4b97-8240-0ffe8a749925",
    "pycharm": {
     "name": "#%%\n"
    }
   },
   "execution_count": null,
   "outputs": [
    {
     "output_type": "stream",
     "name": "stdout",
     "text": [
      "tensor([6.7326], grad_fn=<AddBackward0>)\n",
      "tensor([10.6762], grad_fn=<PowBackward0>)\n"
     ]
    }
   ]
  },
  {
   "cell_type": "code",
   "source": [
    "loss.backward()\n",
    "optimizer.step()"
   ],
   "metadata": {
    "id": "pwjerRillp3N",
    "pycharm": {
     "name": "#%%\n"
    }
   },
   "execution_count": null,
   "outputs": []
  },
  {
   "cell_type": "code",
   "source": [
    "hours = list()\n",
    "for i in range(24):\n",
    "  obs = np.random.random(5)\n",
    "  hours.append(obs)"
   ],
   "metadata": {
    "id": "OQVvyLJyotZT",
    "pycharm": {
     "name": "#%%\n"
    }
   },
   "execution_count": null,
   "outputs": []
  },
  {
   "cell_type": "code",
   "source": [
    "\n",
    "class Consumption_model(torch.nn.Module):\n",
    "  def __init__(self):\n",
    "    super().__init__()\n",
    "    self.layer1 = torch.nn.Linear(5, 2)\n",
    "    self.layer2 = torch.nn.Linear(2, 1)\n",
    "\n",
    "  def forward(self, observations):\n",
    "    x = self.layer1(observations)\n",
    "    action = self.layer2(x)\n",
    "    return action  \n",
    "\n",
    "cons_model = Consumption_model()\n",
    "optimizer = torch.optim.SGD(cons_model.parameters(), lr=0.0001, momentum=0.9)"
   ],
   "metadata": {
    "id": "WD0OZ8PpzWGL",
    "pycharm": {
     "name": "#%%\n"
    }
   },
   "execution_count": null,
   "outputs": []
  },
  {
   "cell_type": "code",
   "source": [
    "actions = list()\n",
    "for obs in hours:\n",
    "  obs_torch = torch.from_numpy(obs.astype(np.float32))\n",
    "  action = cons_model(obs_torch)\n",
    "  actions.append(action)\n",
    "\n",
    "def cost_func(actions):\n",
    "  cost = 0\n",
    "  for i in actions:\n",
    "    cost+=i\n",
    "  return torch.pow(cost,2)\n",
    "cost = cost_func(actions)\n",
    "cost"
   ],
   "metadata": {
    "colab": {
     "base_uri": "https://localhost:8080/"
    },
    "id": "F-bmHO-GzMEu",
    "outputId": "d7b6ce9c-3d0f-4dfa-e0cc-0bbc4f63555a",
    "pycharm": {
     "name": "#%%\n"
    }
   },
   "execution_count": null,
   "outputs": [
    {
     "output_type": "execute_result",
     "data": {
      "text/plain": [
       "tensor([0.0558], grad_fn=<PowBackward0>)"
      ]
     },
     "metadata": {},
     "execution_count": 231
    }
   ]
  },
  {
   "cell_type": "code",
   "source": [
    "cost.backward()\n",
    "optimizer.step()\n",
    "optimizer.zero_grad()"
   ],
   "metadata": {
    "id": "qs8JWUUizNSA",
    "pycharm": {
     "name": "#%%\n"
    }
   },
   "execution_count": null,
   "outputs": []
  },
  {
   "cell_type": "code",
   "source": [],
   "metadata": {
    "id": "6Tn4M0XA1rkR",
    "pycharm": {
     "name": "#%%\n"
    }
   },
   "execution_count": null,
   "outputs": []
  },
  {
   "cell_type": "code",
   "source": [],
   "metadata": {
    "id": "pdfHX_YD1yiO",
    "pycharm": {
     "name": "#%%\n"
    }
   },
   "execution_count": null,
   "outputs": []
  }
 ]
}