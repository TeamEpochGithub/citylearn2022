{
 "cells": [
  {
   "cell_type": "code",
   "execution_count": 1,
   "metadata": {
    "collapsed": true
   },
   "outputs": [],
   "source": [
    "from hyperopt import fmin, hp, tpe, SparkTrials, STATUS_OK\n",
    "from hyperopt.early_stop import no_progress_loss\n",
    "\n",
    "# from hpsklearn import any_regressor, any_preprocessing\n",
    "# import sklearn.preprocessing\n",
    "from sklearn.linear_model import LinearRegression\n",
    "\n",
    "from lightgbm import LGBMRegressor\n",
    "from xgboost.sklearn import XGBRegressor\n",
    "from catboost import CatBoostRegressor\n",
    "from sklearn.linear_model import SGDRegressor\n",
    "from sklearn.kernel_ridge import KernelRidge\n",
    "from sklearn.linear_model import ElasticNet\n",
    "from sklearn.linear_model import BayesianRidge\n",
    "from sklearn.linear_model import Ridge\n",
    "\n",
    "from sklearn.ensemble import GradientBoostingRegressor\n",
    "from sklearn.svm import SVR\n"
   ]
  },
  {
   "cell_type": "code",
   "execution_count": 2,
   "outputs": [],
   "source": [
    "lag_options = [ [1], [1, 2], [1, 2, 3], [1, 2, 3, 4], [1, 2, 3, 4, 5], [1, 2, 3, 4, 5, 6], [1, 2, 3, 4, 5, 6, 7], [1, 2, 3, 4, 5, 6, 7, 8], [1, 2, 3, 4, 5, 6, 7, 8, 9], [1, 25], [1, 2, 25, 26], [1, 2, 3, 25, 26, 27], [1, 2, 3, 4, 25, 26, 27, 28], [1, 2, 3, 4, 5, 25, 26, 27, 28, 29], [1, 2, 3, 4, 5, 6, 25, 26, 27, 28, 29, 30], [1, 2, 3, 4, 5, 6, 7, 25, 26, 27, 28, 29, 30, 31], [1, 2, 3, 4, 5, 6, 7, 8, 25, 26, 27, 28, 29, 30, 31, 32], [1, 2, 3, 4, 5, 6, 7, 8, 9, 25, 26, 27, 28, 29, 30, 31, 32, 33], [1, 25, 49], [1, 2, 25, 26, 49, 50], [1, 2, 3, 25, 26, 27, 49, 50, 51], [1, 2, 3, 4, 25, 26, 27, 28, 49, 50, 51, 52], [1, 2, 3, 4, 5, 25, 26, 27, 28, 29, 49, 50, 51, 52, 53], [1, 2, 3, 4, 5, 6, 25, 26, 27, 28, 29, 30, 49, 50, 51, 52, 53, 54], [1, 2, 3, 4, 5, 6, 7, 25, 26, 27, 28, 29, 30, 31, 49, 50, 51, 52, 53, 54, 55], [1, 2, 3, 4, 5, 6, 7, 8, 25, 26, 27, 28, 29, 30, 31, 32, 49, 50, 51, 52, 53, 54, 55, 56], [1, 2, 3, 4, 5, 6, 7, 8, 9, 25, 26, 27, 28, 29, 30, 31, 32, 33, 49, 50, 51, 52, 53, 54, 55, 56, 57]]"
   ],
   "metadata": {
    "collapsed": false
   }
  },
  {
   "cell_type": "code",
   "execution_count": 3,
   "outputs": [],
   "source": [
    "linreg = LinearRegression()\n",
    "lgbm = LGBMRegressor()\n",
    "# xgb = XGBRegressor()\n",
    "catboost = CatBoostRegressor()\n",
    "sgd = SGDRegressor()\n",
    "kernelridge = KernelRidge()\n",
    "elastic = ElasticNet()\n",
    "bayesianridge = BayesianRidge()\n",
    "# gradientboosting = GradientBoostingRegressor(n_estimators=100)\n",
    "svr = SVR()\n",
    "ridge = Ridge()\n",
    "\n",
    "# all_regressors = [linreg, lgbm, xgb, catboost, sgd, kernelridge, elastic, bayesianridge, gradientboosting, svr]\n",
    "all_regressors = [linreg, lgbm, catboost, sgd, kernelridge, elastic, bayesianridge, svr]\n",
    "\n",
    "def get_params():\n",
    "    search_space = {#\"price_1\": hp.uniform(\"price_1\", -1, 1),\n",
    "                    # \"cap_learning_data\": hp.quniform(\"cap_learning_data\", 300, 800, 100),\n",
    "                    # \"update_learner_interval\": hp.quniform(\"update_learner_interval\", 1, 4, 1),\n",
    "                    \"cap_learning_data\": hp.choice(\"cap_learning_data\", [500]),\n",
    "                    \"update_learner_interval\": hp.choice(\"update_learner_interval\", [4]),\n",
    "                    \"load_lags\": hp.choice(\"load_lags\", lag_options),\n",
    "                    \"solar_lags\": hp.choice(\"solar_lags\", lag_options),\n",
    "                    # \"load_regressor\": hp.choice(\"load_regressor\", [ridge]),\n",
    "                    # \"solar_regressor\": hp.choice(\"solar_regressor\", [ridge]),\n",
    "\n",
    "                    # \"load_regressor\": any_regressor(\"my_reg1\"),\n",
    "                    # \"solar_regressor\": any_regressor(\"my_reg2\"),\n",
    "                    # \"load_transformer\": any_preprocessing(\"my_pre1\"),\n",
    "                    # \"solar_transformer\": any_preprocessing(\"my_pre2\")\n",
    "                    }\n",
    "    return search_space"
   ],
   "metadata": {
    "collapsed": false
   }
  },
  {
   "cell_type": "code",
   "execution_count": null,
   "outputs": [
    {
     "name": "stderr",
     "output_type": "stream",
     "text": [
      "Warning: Gym version v0.24.1 has a number of critical issues with `gym.make` such that environment observation and action spaces are incorrectly evaluated, raising incorrect errors and warning . It is recommend to downgrading to v0.23.1 or upgrading to v0.25.1\n"
     ]
    },
    {
     "name": "stdout",
     "output_type": "stream",
     "text": [
      "  0%|          | 0/1000 [00:00<?, ?trial/s, best loss=?]"
     ]
    },
    {
     "name": "stderr",
     "output_type": "stream",
     "text": [
      "hyperopt.tpe INFO  build_posterior_wrapper took 0.000000 seconds\n",
      "hyperopt.tpe INFO  TPE using 0 trials\n",
      "hyperopt.tpe INFO  build_posterior_wrapper took 0.078125 seconds\n",
      "hyperopt.tpe INFO  TPE using 1/1 trials with best loss inf\n",
      "hyperopt.tpe INFO  build_posterior_wrapper took 0.015630 seconds\n",
      "hyperopt.tpe INFO  TPE using 2/2 trials with best loss inf\n",
      "hyperopt.tpe INFO  build_posterior_wrapper took 0.000000 seconds\n",
      "hyperopt.tpe INFO  TPE using 3/3 trials with best loss inf\n",
      "hyperopt.tpe INFO  build_posterior_wrapper took 0.000000 seconds\n",
      "hyperopt.tpe INFO  TPE using 4/4 trials with best loss inf\n",
      "hyperopt.tpe INFO  build_posterior_wrapper took 0.000000 seconds\n",
      "hyperopt.tpe INFO  TPE using 5/5 trials with best loss inf\n",
      "hyperopt.tpe INFO  build_posterior_wrapper took 0.000000 seconds\n",
      "hyperopt.tpe INFO  TPE using 6/6 trials with best loss inf\n",
      "hyperopt.tpe INFO  build_posterior_wrapper took 0.078140 seconds\n",
      "hyperopt.tpe INFO  TPE using 7/7 trials with best loss inf\n",
      "hyperopt.tpe INFO  build_posterior_wrapper took 0.000000 seconds\n",
      "hyperopt.tpe INFO  TPE using 8/8 trials with best loss inf\n",
      "hyperopt.tpe INFO  build_posterior_wrapper took 0.000000 seconds\n",
      "hyperopt.tpe INFO  TPE using 9/9 trials with best loss inf\n",
      "hyperopt.tpe INFO  build_posterior_wrapper took 0.015624 seconds\n",
      "hyperopt.tpe INFO  TPE using 10/10 trials with best loss inf\n",
      "hyperopt.tpe INFO  build_posterior_wrapper took 0.015625 seconds\n",
      "hyperopt.tpe INFO  TPE using 11/11 trials with best loss inf\n",
      "hyperopt.tpe INFO  build_posterior_wrapper took 0.015619 seconds\n",
      "hyperopt.tpe INFO  TPE using 12/12 trials with best loss inf\n",
      "hyperopt.tpe INFO  build_posterior_wrapper took 0.000000 seconds\n",
      "hyperopt.tpe INFO  TPE using 13/13 trials with best loss inf\n",
      "hyperopt.tpe INFO  build_posterior_wrapper took 0.078122 seconds\n",
      "hyperopt.tpe INFO  TPE using 14/14 trials with best loss inf\n",
      "hyperopt.tpe INFO  build_posterior_wrapper took 0.000000 seconds\n",
      "hyperopt.tpe INFO  TPE using 15/15 trials with best loss inf\n",
      "hyperopt.tpe INFO  build_posterior_wrapper took 0.015625 seconds\n",
      "hyperopt.tpe INFO  TPE using 16/16 trials with best loss inf\n",
      "hyperopt.tpe INFO  build_posterior_wrapper took 0.015632 seconds\n",
      "hyperopt.tpe INFO  TPE using 17/17 trials with best loss inf\n",
      "hyperopt.tpe INFO  build_posterior_wrapper took 0.000000 seconds\n",
      "hyperopt.tpe INFO  TPE using 18/18 trials with best loss inf\n",
      "py4j.clientserver INFO  Closing down clientserver connection\n"
     ]
    },
    {
     "name": "stdout",
     "output_type": "stream",
     "text": [
      "  0%|          | 1/1000 [06:29<108:09:07, 389.74s/trial, best loss: 0.9226396885252065]"
     ]
    },
    {
     "name": "stderr",
     "output_type": "stream",
     "text": [
      "hyperopt.tpe INFO  build_posterior_wrapper took 0.000000 seconds\n",
      "hyperopt.tpe INFO  TPE using 19/19 trials with best loss 0.922640\n",
      "py4j.clientserver INFO  Closing down clientserver connection\n",
      "py4j.clientserver INFO  Closing down clientserver connection\n"
     ]
    },
    {
     "name": "stdout",
     "output_type": "stream",
     "text": [
      "  0%|          | 3/1000 [06:31<28:11:28, 101.79s/trial, best loss: 0.9226396885252065] "
     ]
    },
    {
     "name": "stderr",
     "output_type": "stream",
     "text": [
      "py4j.clientserver INFO  Closing down clientserver connection\n"
     ]
    },
    {
     "name": "stdout",
     "output_type": "stream",
     "text": [
      "  0%|          | 4/1000 [06:32<18:30:50, 66.92s/trial, best loss: 0.9226396885252065] "
     ]
    },
    {
     "name": "stderr",
     "output_type": "stream",
     "text": [
      "hyperopt.tpe INFO  build_posterior_wrapper took 0.094084 seconds\n",
      "hyperopt.tpe INFO  TPE using 20/20 trials with best loss 0.922640\n",
      "py4j.clientserver INFO  Closing down clientserver connection\n",
      "py4j.clientserver INFO  Closing down clientserver connection\n"
     ]
    },
    {
     "name": "stdout",
     "output_type": "stream",
     "text": [
      "  1%|          | 6/1000 [06:33<9:21:59, 33.92s/trial, best loss: 0.9226396885252065] "
     ]
    },
    {
     "name": "stderr",
     "output_type": "stream",
     "text": [
      "hyperopt.tpe INFO  build_posterior_wrapper took 0.000000 seconds\n",
      "hyperopt.tpe INFO  TPE using 21/21 trials with best loss 0.922640\n",
      "py4j.clientserver INFO  Closing down clientserver connection\n"
     ]
    },
    {
     "name": "stdout",
     "output_type": "stream",
     "text": [
      "  1%|          | 7/1000 [06:34<6:58:45, 25.30s/trial, best loss: 0.9226396885252065]"
     ]
    },
    {
     "name": "stderr",
     "output_type": "stream",
     "text": [
      "hyperopt.tpe INFO  build_posterior_wrapper took 0.015620 seconds\n",
      "hyperopt.tpe INFO  TPE using 22/22 trials with best loss 0.922640\n",
      "py4j.clientserver INFO  Closing down clientserver connection\n"
     ]
    },
    {
     "name": "stdout",
     "output_type": "stream",
     "text": [
      "  1%|          | 8/1000 [06:36<5:13:30, 18.96s/trial, best loss: 0.9226396885252065]"
     ]
    },
    {
     "name": "stderr",
     "output_type": "stream",
     "text": [
      "hyperopt.tpe INFO  build_posterior_wrapper took 0.015628 seconds\n",
      "hyperopt.tpe INFO  TPE using 23/23 trials with best loss 0.922640\n",
      "py4j.clientserver INFO  Closing down clientserver connection\n"
     ]
    },
    {
     "name": "stdout",
     "output_type": "stream",
     "text": [
      "  1%|          | 9/1000 [06:37<3:50:10, 13.94s/trial, best loss: 0.9226396885252065]"
     ]
    },
    {
     "name": "stderr",
     "output_type": "stream",
     "text": [
      "hyperopt.tpe INFO  build_posterior_wrapper took 0.000000 seconds\n",
      "hyperopt.tpe INFO  TPE using 24/24 trials with best loss 0.922640\n",
      "hyperopt.tpe INFO  build_posterior_wrapper took 0.015624 seconds\n",
      "hyperopt.tpe INFO  TPE using 25/25 trials with best loss 0.922640\n",
      "py4j.clientserver INFO  Closing down clientserver connection\n"
     ]
    },
    {
     "name": "stdout",
     "output_type": "stream",
     "text": [
      "  1%|          | 10/1000 [06:40<2:58:39, 10.83s/trial, best loss: 0.9221568092194604]"
     ]
    },
    {
     "name": "stderr",
     "output_type": "stream",
     "text": [
      "hyperopt.tpe INFO  build_posterior_wrapper took 0.124999 seconds\n",
      "hyperopt.tpe INFO  TPE using 26/26 trials with best loss 0.922157\n",
      "py4j.clientserver INFO  Closing down clientserver connection\n",
      "py4j.clientserver INFO  Closing down clientserver connection\n",
      "py4j.clientserver INFO  Closing down clientserver connection\n"
     ]
    },
    {
     "name": "stdout",
     "output_type": "stream",
     "text": [
      "  1%|▏         | 13/1000 [06:42<1:23:30,  5.08s/trial, best loss: 0.9221568092194604]"
     ]
    },
    {
     "name": "stderr",
     "output_type": "stream",
     "text": [
      "hyperopt.tpe INFO  build_posterior_wrapper took 0.015658 seconds\n",
      "hyperopt.tpe INFO  TPE using 27/27 trials with best loss 0.922157\n",
      "py4j.clientserver INFO  Closing down clientserver connection\n"
     ]
    },
    {
     "name": "stdout",
     "output_type": "stream",
     "text": [
      "  1%|▏         | 14/1000 [06:43<1:09:39,  4.24s/trial, best loss: 0.9221568092194604]"
     ]
    },
    {
     "name": "stderr",
     "output_type": "stream",
     "text": [
      "hyperopt.tpe INFO  build_posterior_wrapper took 0.015627 seconds\n",
      "hyperopt.tpe INFO  TPE using 28/28 trials with best loss 0.922157\n",
      "hyperopt.tpe INFO  build_posterior_wrapper took 0.000000 seconds\n",
      "hyperopt.tpe INFO  TPE using 29/29 trials with best loss 0.922157\n",
      "py4j.clientserver INFO  Closing down clientserver connection\n"
     ]
    },
    {
     "name": "stdout",
     "output_type": "stream",
     "text": [
      "  2%|▏         | 15/1000 [06:45<1:01:22,  3.74s/trial, best loss: 0.9221568092194604]"
     ]
    },
    {
     "name": "stderr",
     "output_type": "stream",
     "text": [
      "hyperopt.tpe INFO  build_posterior_wrapper took 0.015626 seconds\n",
      "hyperopt.tpe INFO  TPE using 30/30 trials with best loss 0.922157\n",
      "py4j.clientserver INFO  Closing down clientserver connection\n",
      "py4j.clientserver INFO  Closing down clientserver connection\n",
      "py4j.clientserver INFO  Closing down clientserver connection\n"
     ]
    },
    {
     "name": "stdout",
     "output_type": "stream",
     "text": [
      "  2%|▏         | 18/1000 [06:46<33:40,  2.06s/trial, best loss: 0.9220165735796132]  "
     ]
    },
    {
     "name": "stderr",
     "output_type": "stream",
     "text": [
      "hyperopt.tpe INFO  build_posterior_wrapper took 0.000000 seconds\n",
      "hyperopt.tpe INFO  TPE using 31/31 trials with best loss 0.922017\n",
      "hyperopt.tpe INFO  build_posterior_wrapper took 0.015628 seconds\n",
      "hyperopt.tpe INFO  TPE using 32/32 trials with best loss 0.922017\n",
      "hyperopt.tpe INFO  build_posterior_wrapper took 0.078124 seconds\n",
      "hyperopt.tpe INFO  TPE using 33/33 trials with best loss 0.922017\n",
      "hyperopt.tpe INFO  build_posterior_wrapper took 0.015620 seconds\n",
      "hyperopt.tpe INFO  TPE using 34/34 trials with best loss 0.922017\n",
      "hyperopt.tpe INFO  build_posterior_wrapper took 0.015628 seconds\n",
      "hyperopt.tpe INFO  TPE using 35/35 trials with best loss 0.922017\n",
      "hyperopt.tpe INFO  build_posterior_wrapper took 0.000000 seconds\n",
      "hyperopt.tpe INFO  TPE using 36/36 trials with best loss 0.922017\n",
      "py4j.clientserver INFO  Closing down clientserver connection\n"
     ]
    },
    {
     "name": "stdout",
     "output_type": "stream",
     "text": [
      "  2%|▏         | 19/1000 [12:53<19:32:50, 71.73s/trial, best loss: 0.9220165735796132]"
     ]
    },
    {
     "name": "stderr",
     "output_type": "stream",
     "text": [
      "hyperopt.tpe INFO  build_posterior_wrapper took 0.000000 seconds\n",
      "hyperopt.tpe INFO  TPE using 37/37 trials with best loss 0.922017\n",
      "py4j.clientserver INFO  Closing down clientserver connection\n"
     ]
    },
    {
     "name": "stdout",
     "output_type": "stream",
     "text": [
      "  2%|▏         | 20/1000 [13:01<15:49:01, 58.10s/trial, best loss: 0.9220165735796132]"
     ]
    },
    {
     "name": "stderr",
     "output_type": "stream",
     "text": [
      "hyperopt.tpe INFO  build_posterior_wrapper took 0.015617 seconds\n",
      "hyperopt.tpe INFO  TPE using 38/38 trials with best loss 0.922017\n",
      "py4j.clientserver INFO  Closing down clientserver connection\n"
     ]
    },
    {
     "name": "stdout",
     "output_type": "stream",
     "text": [
      "  2%|▏         | 21/1000 [13:03<12:13:45, 44.97s/trial, best loss: 0.9220165735796132]"
     ]
    },
    {
     "name": "stderr",
     "output_type": "stream",
     "text": [
      "py4j.clientserver INFO  Closing down clientserver connection\n",
      "py4j.clientserver INFO  Closing down clientserver connection\n"
     ]
    },
    {
     "name": "stdout",
     "output_type": "stream",
     "text": [
      "  2%|▏         | 23/1000 [13:04<7:21:55, 27.14s/trial, best loss: 0.9220165735796132] "
     ]
    },
    {
     "name": "stderr",
     "output_type": "stream",
     "text": [
      "hyperopt.tpe INFO  build_posterior_wrapper took 0.093760 seconds\n",
      "hyperopt.tpe INFO  TPE using 39/39 trials with best loss 0.922017\n",
      "hyperopt.tpe INFO  build_posterior_wrapper took 0.015633 seconds\n",
      "hyperopt.tpe INFO  TPE using 40/40 trials with best loss 0.922017\n",
      "hyperopt.tpe INFO  build_posterior_wrapper took 0.015622 seconds\n",
      "hyperopt.tpe INFO  TPE using 41/41 trials with best loss 0.922017\n",
      "py4j.clientserver INFO  Closing down clientserver connection\n",
      "py4j.clientserver INFO  Closing down clientserver connection\n"
     ]
    },
    {
     "name": "stdout",
     "output_type": "stream",
     "text": [
      "  2%|▎         | 25/1000 [13:08<4:52:43, 18.01s/trial, best loss: 0.921527006954263] "
     ]
    },
    {
     "name": "stderr",
     "output_type": "stream",
     "text": [
      "hyperopt.tpe INFO  build_posterior_wrapper took 0.000000 seconds\n",
      "hyperopt.tpe INFO  TPE using 42/42 trials with best loss 0.921527\n",
      "hyperopt.tpe INFO  build_posterior_wrapper took 0.015610 seconds\n",
      "hyperopt.tpe INFO  TPE using 43/43 trials with best loss 0.921527\n",
      "py4j.clientserver INFO  Closing down clientserver connection\n"
     ]
    },
    {
     "name": "stdout",
     "output_type": "stream",
     "text": [
      "  3%|▎         | 26/1000 [13:12<4:05:37, 15.13s/trial, best loss: 0.921527006954263]"
     ]
    },
    {
     "name": "stderr",
     "output_type": "stream",
     "text": [
      "py4j.clientserver INFO  Closing down clientserver connection\n",
      "py4j.clientserver INFO  Closing down clientserver connection\n"
     ]
    },
    {
     "name": "stdout",
     "output_type": "stream",
     "text": [
      "  3%|▎         | 28/1000 [13:13<2:37:13,  9.71s/trial, best loss: 0.921527006954263]"
     ]
    },
    {
     "name": "stderr",
     "output_type": "stream",
     "text": [
      "hyperopt.tpe INFO  build_posterior_wrapper took 0.000000 seconds\n",
      "hyperopt.tpe INFO  TPE using 44/44 trials with best loss 0.921527\n",
      "py4j.clientserver INFO  Closing down clientserver connection\n"
     ]
    },
    {
     "name": "stdout",
     "output_type": "stream",
     "text": [
      "  3%|▎         | 29/1000 [13:14<2:07:37,  7.89s/trial, best loss: 0.921527006954263]"
     ]
    },
    {
     "name": "stderr",
     "output_type": "stream",
     "text": [
      "hyperopt.tpe INFO  build_posterior_wrapper took 0.093751 seconds\n",
      "hyperopt.tpe INFO  TPE using 45/45 trials with best loss 0.921527\n",
      "hyperopt.tpe INFO  build_posterior_wrapper took 0.015630 seconds\n",
      "hyperopt.tpe INFO  TPE using 46/46 trials with best loss 0.921527\n",
      "py4j.clientserver INFO  Closing down clientserver connection\n"
     ]
    },
    {
     "name": "stdout",
     "output_type": "stream",
     "text": [
      "  3%|▎         | 30/1000 [13:17<1:46:02,  6.56s/trial, best loss: 0.921527006954263]"
     ]
    },
    {
     "name": "stderr",
     "output_type": "stream",
     "text": [
      "hyperopt.tpe INFO  build_posterior_wrapper took 0.015619 seconds\n",
      "hyperopt.tpe INFO  TPE using 47/47 trials with best loss 0.921527\n",
      "py4j.clientserver INFO  Closing down clientserver connection\n"
     ]
    },
    {
     "name": "stdout",
     "output_type": "stream",
     "text": [
      "  3%|▎         | 31/1000 [13:18<1:23:49,  5.19s/trial, best loss: 0.9210151705701292]"
     ]
    },
    {
     "name": "stderr",
     "output_type": "stream",
     "text": [
      "hyperopt.tpe INFO  build_posterior_wrapper took 0.015626 seconds\n",
      "hyperopt.tpe INFO  TPE using 48/48 trials with best loss 0.921015\n",
      "hyperopt.tpe INFO  build_posterior_wrapper took 0.015630 seconds\n",
      "hyperopt.tpe INFO  TPE using 49/49 trials with best loss 0.921015\n",
      "py4j.clientserver INFO  Closing down clientserver connection\n",
      "py4j.clientserver INFO  Closing down clientserver connection\n"
     ]
    },
    {
     "name": "stdout",
     "output_type": "stream",
     "text": [
      "  3%|▎         | 33/1000 [13:20<55:50,  3.46s/trial, best loss: 0.9201391937549245]  "
     ]
    },
    {
     "name": "stderr",
     "output_type": "stream",
     "text": [
      "hyperopt.tpe INFO  build_posterior_wrapper took 0.015625 seconds\n",
      "hyperopt.tpe INFO  TPE using 50/50 trials with best loss 0.920139\n",
      "hyperopt.tpe INFO  build_posterior_wrapper took 0.015620 seconds\n",
      "hyperopt.tpe INFO  TPE using 51/51 trials with best loss 0.920139\n",
      "py4j.clientserver INFO  Closing down clientserver connection\n"
     ]
    },
    {
     "name": "stdout",
     "output_type": "stream",
     "text": [
      "  3%|▎         | 34/1000 [13:24<58:00,  3.60s/trial, best loss: 0.9201391937549245]"
     ]
    },
    {
     "name": "stderr",
     "output_type": "stream",
     "text": [
      "hyperopt.tpe INFO  build_posterior_wrapper took 0.093745 seconds\n",
      "hyperopt.tpe INFO  TPE using 52/52 trials with best loss 0.920139\n",
      "py4j.clientserver INFO  Closing down clientserver connection\n",
      "py4j.clientserver INFO  Closing down clientserver connection\n"
     ]
    },
    {
     "name": "stdout",
     "output_type": "stream",
     "text": [
      "  4%|▎         | 36/1000 [13:28<48:08,  3.00s/trial, best loss: 0.9201391937549245]"
     ]
    },
    {
     "name": "stderr",
     "output_type": "stream",
     "text": [
      "hyperopt.tpe INFO  build_posterior_wrapper took 0.015633 seconds\n",
      "hyperopt.tpe INFO  TPE using 53/53 trials with best loss 0.920139\n",
      "hyperopt.tpe INFO  build_posterior_wrapper took 0.015610 seconds\n",
      "hyperopt.tpe INFO  TPE using 54/54 trials with best loss 0.920139\n",
      "py4j.clientserver INFO  Closing down clientserver connection\n"
     ]
    },
    {
     "name": "stdout",
     "output_type": "stream",
     "text": [
      "  4%|▎         | 37/1000 [19:37<22:20:50, 83.54s/trial, best loss: 0.9201391937549245]"
     ]
    },
    {
     "name": "stderr",
     "output_type": "stream",
     "text": [
      "hyperopt.tpe INFO  build_posterior_wrapper took 0.015633 seconds\n",
      "hyperopt.tpe INFO  TPE using 55/55 trials with best loss 0.920139\n",
      "py4j.clientserver INFO  Closing down clientserver connection\n",
      "py4j.clientserver INFO  Closing down clientserver connection\n",
      "py4j.clientserver INFO  Closing down clientserver connection\n"
     ]
    },
    {
     "name": "stdout",
     "output_type": "stream",
     "text": [
      "  4%|▍         | 40/1000 [19:41<11:38:27, 43.65s/trial, best loss: 0.9201391937549245]"
     ]
    },
    {
     "name": "stderr",
     "output_type": "stream",
     "text": [
      "hyperopt.tpe INFO  build_posterior_wrapper took 0.015629 seconds\n",
      "hyperopt.tpe INFO  TPE using 56/56 trials with best loss 0.920139\n",
      "hyperopt.tpe INFO  build_posterior_wrapper took 0.015623 seconds\n",
      "hyperopt.tpe INFO  TPE using 57/57 trials with best loss 0.920139\n",
      "hyperopt.tpe INFO  build_posterior_wrapper took 0.109377 seconds\n",
      "hyperopt.tpe INFO  TPE using 58/58 trials with best loss 0.920139\n",
      "py4j.clientserver INFO  Closing down clientserver connection\n"
     ]
    },
    {
     "name": "stdout",
     "output_type": "stream",
     "text": [
      "  4%|▍         | 41/1000 [19:46<9:42:15, 36.43s/trial, best loss: 0.9201391937549245] "
     ]
    },
    {
     "name": "stderr",
     "output_type": "stream",
     "text": [
      "hyperopt.tpe INFO  build_posterior_wrapper took 0.015626 seconds\n",
      "hyperopt.tpe INFO  TPE using 59/59 trials with best loss 0.920139\n",
      "py4j.clientserver INFO  Closing down clientserver connection\n"
     ]
    },
    {
     "name": "stdout",
     "output_type": "stream",
     "text": [
      "  4%|▍         | 42/1000 [19:48<7:45:29, 29.15s/trial, best loss: 0.9201391937549245]"
     ]
    },
    {
     "name": "stderr",
     "output_type": "stream",
     "text": [
      "hyperopt.tpe INFO  build_posterior_wrapper took 0.015631 seconds\n",
      "hyperopt.tpe INFO  TPE using 60/60 trials with best loss 0.920139\n",
      "py4j.clientserver INFO  Closing down clientserver connection\n",
      "py4j.clientserver INFO  Closing down clientserver connection\n"
     ]
    },
    {
     "name": "stdout",
     "output_type": "stream",
     "text": [
      "  4%|▍         | 44/1000 [19:50<4:55:40, 18.56s/trial, best loss: 0.9201391937549245]"
     ]
    },
    {
     "name": "stderr",
     "output_type": "stream",
     "text": [
      "hyperopt.tpe INFO  build_posterior_wrapper took 0.000000 seconds\n",
      "hyperopt.tpe INFO  TPE using 61/61 trials with best loss 0.920139\n",
      "py4j.clientserver INFO  Closing down clientserver connection\n"
     ]
    },
    {
     "name": "stdout",
     "output_type": "stream",
     "text": [
      "  4%|▍         | 45/1000 [19:51<3:56:12, 14.84s/trial, best loss: 0.9201391937549245]"
     ]
    },
    {
     "name": "stderr",
     "output_type": "stream",
     "text": [
      "hyperopt.tpe INFO  build_posterior_wrapper took 0.015622 seconds\n",
      "hyperopt.tpe INFO  TPE using 62/62 trials with best loss 0.920139\n",
      "hyperopt.tpe INFO  build_posterior_wrapper took 0.015621 seconds\n",
      "hyperopt.tpe INFO  TPE using 63/63 trials with best loss 0.920139\n",
      "py4j.clientserver INFO  Closing down clientserver connection\n"
     ]
    },
    {
     "name": "stdout",
     "output_type": "stream",
     "text": [
      "  5%|▍         | 46/1000 [19:54<3:12:22, 12.10s/trial, best loss: 0.9201391937549245]"
     ]
    },
    {
     "name": "stderr",
     "output_type": "stream",
     "text": [
      "hyperopt.tpe INFO  build_posterior_wrapper took 0.093742 seconds\n",
      "hyperopt.tpe INFO  TPE using 64/64 trials with best loss 0.920139\n",
      "py4j.clientserver INFO  Closing down clientserver connection\n"
     ]
    },
    {
     "name": "stdout",
     "output_type": "stream",
     "text": [
      "  5%|▍         | 47/1000 [19:55<2:28:41,  9.36s/trial, best loss: 0.9201391937549245]"
     ]
    },
    {
     "name": "stderr",
     "output_type": "stream",
     "text": [
      "py4j.clientserver INFO  Closing down clientserver connection\n",
      "py4j.clientserver INFO  Closing down clientserver connection\n"
     ]
    },
    {
     "name": "stdout",
     "output_type": "stream",
     "text": [
      "  5%|▍         | 49/1000 [19:56<1:29:58,  5.68s/trial, best loss: 0.9201391937549245]"
     ]
    },
    {
     "name": "stderr",
     "output_type": "stream",
     "text": [
      "hyperopt.tpe INFO  build_posterior_wrapper took 0.015627 seconds\n",
      "hyperopt.tpe INFO  TPE using 65/65 trials with best loss 0.920139\n",
      "py4j.clientserver INFO  Closing down clientserver connection\n"
     ]
    },
    {
     "name": "stdout",
     "output_type": "stream",
     "text": [
      "  5%|▌         | 50/1000 [19:57<1:13:01,  4.61s/trial, best loss: 0.9201391937549245]"
     ]
    },
    {
     "name": "stderr",
     "output_type": "stream",
     "text": [
      "hyperopt.tpe INFO  build_posterior_wrapper took 0.015628 seconds\n",
      "hyperopt.tpe INFO  TPE using 66/66 trials with best loss 0.920139\n",
      "hyperopt.tpe INFO  build_posterior_wrapper took 0.015626 seconds\n",
      "hyperopt.tpe INFO  TPE using 67/67 trials with best loss 0.920139\n",
      "py4j.clientserver INFO  Closing down clientserver connection\n"
     ]
    },
    {
     "name": "stdout",
     "output_type": "stream",
     "text": [
      "  5%|▌         | 51/1000 [19:59<1:02:58,  3.98s/trial, best loss: 0.9201391937549245]"
     ]
    },
    {
     "name": "stderr",
     "output_type": "stream",
     "text": [
      "hyperopt.tpe INFO  build_posterior_wrapper took 0.000000 seconds\n",
      "hyperopt.tpe INFO  TPE using 68/68 trials with best loss 0.920139\n",
      "py4j.clientserver INFO  Closing down clientserver connection\n"
     ]
    },
    {
     "name": "stdout",
     "output_type": "stream",
     "text": [
      "  5%|▌         | 52/1000 [20:01<50:44,  3.21s/trial, best loss: 0.9201391937549245]  "
     ]
    },
    {
     "name": "stderr",
     "output_type": "stream",
     "text": [
      "hyperopt.tpe INFO  build_posterior_wrapper took 0.015625 seconds\n",
      "hyperopt.tpe INFO  TPE using 69/69 trials with best loss 0.920139\n",
      "py4j.clientserver INFO  Closing down clientserver connection\n"
     ]
    },
    {
     "name": "stdout",
     "output_type": "stream",
     "text": [
      "  5%|▌         | 53/1000 [20:02<41:19,  2.62s/trial, best loss: 0.9201391937549245]"
     ]
    },
    {
     "name": "stderr",
     "output_type": "stream",
     "text": [
      "hyperopt.tpe INFO  build_posterior_wrapper took 0.000000 seconds\n",
      "hyperopt.tpe INFO  TPE using 70/70 trials with best loss 0.920139\n",
      "py4j.clientserver INFO  Closing down clientserver connection\n"
     ]
    },
    {
     "name": "stdout",
     "output_type": "stream",
     "text": [
      "  5%|▌         | 54/1000 [20:03<34:15,  2.17s/trial, best loss: 0.9201391937549245]"
     ]
    },
    {
     "name": "stderr",
     "output_type": "stream",
     "text": [
      "hyperopt.tpe INFO  build_posterior_wrapper took 0.112487 seconds\n",
      "hyperopt.tpe INFO  TPE using 71/71 trials with best loss 0.920139\n",
      "hyperopt.tpe INFO  build_posterior_wrapper took 0.015627 seconds\n",
      "hyperopt.tpe INFO  TPE using 72/72 trials with best loss 0.920139\n",
      "py4j.clientserver INFO  Closing down clientserver connection\n",
      "py4j.clientserver INFO  Closing down clientserver connection\n"
     ]
    },
    {
     "name": "stdout",
     "output_type": "stream",
     "text": [
      "  6%|▌         | 56/1000 [26:11<21:45:29, 82.98s/trial, best loss: 0.9201391937549245]"
     ]
    },
    {
     "name": "stderr",
     "output_type": "stream",
     "text": [
      "hyperopt.tpe INFO  build_posterior_wrapper took 0.015612 seconds\n",
      "hyperopt.tpe INFO  TPE using 73/73 trials with best loss 0.920139\n",
      "hyperopt.tpe INFO  build_posterior_wrapper took 0.015630 seconds\n",
      "hyperopt.tpe INFO  TPE using 74/74 trials with best loss 0.920139\n",
      "py4j.clientserver INFO  Closing down clientserver connection\n",
      "py4j.clientserver INFO  Closing down clientserver connection\n",
      "py4j.clientserver INFO  Closing down clientserver connection\n"
     ]
    },
    {
     "name": "stdout",
     "output_type": "stream",
     "text": [
      "  6%|▌         | 59/1000 [26:19<11:27:33, 43.84s/trial, best loss: 0.9201391937549245]"
     ]
    },
    {
     "name": "stderr",
     "output_type": "stream",
     "text": [
      "py4j.clientserver INFO  Closing down clientserver connection\n"
     ]
    },
    {
     "name": "stdout",
     "output_type": "stream",
     "text": [
      "  6%|▌         | 60/1000 [26:20<9:20:25, 35.77s/trial, best loss: 0.9201391937549245] "
     ]
    },
    {
     "name": "stderr",
     "output_type": "stream",
     "text": [
      "hyperopt.tpe INFO  build_posterior_wrapper took 0.000000 seconds\n",
      "hyperopt.tpe INFO  TPE using 75/75 trials with best loss 0.920139\n",
      "py4j.clientserver INFO  Closing down clientserver connection\n"
     ]
    },
    {
     "name": "stdout",
     "output_type": "stream",
     "text": [
      "  6%|▌         | 61/1000 [26:21<7:24:30, 28.40s/trial, best loss: 0.9201391937549245]"
     ]
    },
    {
     "name": "stderr",
     "output_type": "stream",
     "text": [
      "hyperopt.tpe INFO  build_posterior_wrapper took 0.000000 seconds\n",
      "hyperopt.tpe INFO  TPE using 76/76 trials with best loss 0.920139\n",
      "hyperopt.tpe INFO  build_posterior_wrapper took 0.109382 seconds\n",
      "hyperopt.tpe INFO  TPE using 77/77 trials with best loss 0.920139\n",
      "py4j.clientserver INFO  Closing down clientserver connection\n"
     ]
    },
    {
     "name": "stdout",
     "output_type": "stream",
     "text": [
      "  6%|▌         | 62/1000 [26:23<5:48:34, 22.30s/trial, best loss: 0.9201391937549245]"
     ]
    },
    {
     "name": "stderr",
     "output_type": "stream",
     "text": [
      "hyperopt.tpe INFO  build_posterior_wrapper took 0.000000 seconds\n",
      "hyperopt.tpe INFO  TPE using 78/78 trials with best loss 0.920139\n",
      "hyperopt.tpe INFO  build_posterior_wrapper took 0.000000 seconds\n",
      "hyperopt.tpe INFO  TPE using 79/79 trials with best loss 0.920139\n",
      "py4j.clientserver INFO  Closing down clientserver connection\n"
     ]
    },
    {
     "name": "stdout",
     "output_type": "stream",
     "text": [
      "  6%|▋         | 63/1000 [26:25<4:29:21, 17.25s/trial, best loss: 0.9201391937549245]"
     ]
    },
    {
     "name": "stderr",
     "output_type": "stream",
     "text": [
      "hyperopt.tpe INFO  build_posterior_wrapper took 0.015631 seconds\n",
      "hyperopt.tpe INFO  TPE using 80/80 trials with best loss 0.920139\n",
      "py4j.clientserver INFO  Closing down clientserver connection\n"
     ]
    },
    {
     "name": "stdout",
     "output_type": "stream",
     "text": [
      "  6%|▋         | 64/1000 [26:26<3:22:34, 12.99s/trial, best loss: 0.9201391937549245]"
     ]
    },
    {
     "name": "stderr",
     "output_type": "stream",
     "text": [
      "hyperopt.tpe INFO  build_posterior_wrapper took 0.015629 seconds\n",
      "hyperopt.tpe INFO  TPE using 81/81 trials with best loss 0.920139\n",
      "hyperopt.tpe INFO  build_posterior_wrapper took 0.015624 seconds\n",
      "hyperopt.tpe INFO  TPE using 82/82 trials with best loss 0.920139\n",
      "py4j.clientserver INFO  Closing down clientserver connection\n",
      "py4j.clientserver INFO  Closing down clientserver connection\n",
      "py4j.clientserver INFO  Closing down clientserver connection\n",
      "py4j.clientserver INFO  Closing down clientserver connection\n"
     ]
    },
    {
     "name": "stdout",
     "output_type": "stream",
     "text": [
      "  7%|▋         | 68/1000 [26:28<1:25:26,  5.50s/trial, best loss: 0.9201391937549245]"
     ]
    },
    {
     "name": "stderr",
     "output_type": "stream",
     "text": [
      "py4j.clientserver INFO  Closing down clientserver connection\n"
     ]
    },
    {
     "name": "stdout",
     "output_type": "stream",
     "text": [
      "  7%|▋         | 69/1000 [26:29<1:13:03,  4.71s/trial, best loss: 0.9201391937549245]"
     ]
    },
    {
     "name": "stderr",
     "output_type": "stream",
     "text": [
      "hyperopt.tpe INFO  build_posterior_wrapper took 0.078115 seconds\n",
      "hyperopt.tpe INFO  TPE using 83/83 trials with best loss 0.920139\n",
      "py4j.clientserver INFO  Closing down clientserver connection\n"
     ]
    },
    {
     "name": "stdout",
     "output_type": "stream",
     "text": [
      "  7%|▋         | 70/1000 [26:31<1:01:41,  3.98s/trial, best loss: 0.9201391937549245]"
     ]
    },
    {
     "name": "stderr",
     "output_type": "stream",
     "text": [
      "hyperopt.tpe INFO  build_posterior_wrapper took 0.015631 seconds\n",
      "hyperopt.tpe INFO  TPE using 84/84 trials with best loss 0.920139\n",
      "hyperopt.tpe INFO  build_posterior_wrapper took 0.015625 seconds\n",
      "hyperopt.tpe INFO  TPE using 85/85 trials with best loss 0.920139\n",
      "py4j.clientserver INFO  Closing down clientserver connection\n"
     ]
    },
    {
     "name": "stdout",
     "output_type": "stream",
     "text": [
      "  7%|▋         | 71/1000 [26:33<54:55,  3.55s/trial, best loss: 0.9201391937549245]  "
     ]
    },
    {
     "name": "stderr",
     "output_type": "stream",
     "text": [
      "hyperopt.tpe INFO  build_posterior_wrapper took 0.000000 seconds\n",
      "hyperopt.tpe INFO  TPE using 86/86 trials with best loss 0.920139\n",
      "hyperopt.tpe INFO  build_posterior_wrapper took 0.015606 seconds\n",
      "hyperopt.tpe INFO  TPE using 87/87 trials with best loss 0.920139\n",
      "hyperopt.tpe INFO  build_posterior_wrapper took 0.015609 seconds\n",
      "hyperopt.tpe INFO  TPE using 88/88 trials with best loss 0.920139\n",
      "hyperopt.tpe INFO  build_posterior_wrapper took 0.015623 seconds\n",
      "hyperopt.tpe INFO  TPE using 89/89 trials with best loss 0.920139\n",
      "py4j.clientserver INFO  Closing down clientserver connection\n"
     ]
    },
    {
     "name": "stdout",
     "output_type": "stream",
     "text": [
      "  7%|▋         | 72/1000 [26:44<1:23:14,  5.38s/trial, best loss: 0.9201391937549245]"
     ]
    },
    {
     "name": "stderr",
     "output_type": "stream",
     "text": [
      "hyperopt.tpe INFO  build_posterior_wrapper took 0.109375 seconds\n",
      "hyperopt.tpe INFO  TPE using 90/90 trials with best loss 0.920139\n",
      "py4j.clientserver INFO  Closing down clientserver connection\n"
     ]
    },
    {
     "name": "stdout",
     "output_type": "stream",
     "text": [
      "  7%|▋         | 73/1000 [32:47<25:02:49, 97.27s/trial, best loss: 0.9201391937549245]"
     ]
    },
    {
     "name": "stderr",
     "output_type": "stream",
     "text": [
      "hyperopt.tpe INFO  build_posterior_wrapper took 0.015626 seconds\n",
      "hyperopt.tpe INFO  TPE using 91/91 trials with best loss 0.920139\n",
      "py4j.clientserver INFO  Closing down clientserver connection\n"
     ]
    },
    {
     "name": "stdout",
     "output_type": "stream",
     "text": [
      "  7%|▋         | 74/1000 [32:54<18:47:35, 73.06s/trial, best loss: 0.9201391937549245]"
     ]
    },
    {
     "name": "stderr",
     "output_type": "stream",
     "text": [
      "hyperopt.tpe INFO  build_posterior_wrapper took 0.015626 seconds\n",
      "hyperopt.tpe INFO  TPE using 92/92 trials with best loss 0.920139\n",
      "py4j.clientserver INFO  Closing down clientserver connection\n",
      "py4j.clientserver INFO  Closing down clientserver connection\n"
     ]
    },
    {
     "name": "stdout",
     "output_type": "stream",
     "text": [
      "  8%|▊         | 76/1000 [32:57<10:46:58, 42.01s/trial, best loss: 0.9201391937549245]"
     ]
    },
    {
     "name": "stderr",
     "output_type": "stream",
     "text": [
      "hyperopt.tpe INFO  build_posterior_wrapper took 0.015636 seconds\n",
      "hyperopt.tpe INFO  TPE using 93/93 trials with best loss 0.920139\n",
      "hyperopt.tpe INFO  build_posterior_wrapper took 0.015637 seconds\n",
      "hyperopt.tpe INFO  TPE using 94/94 trials with best loss 0.920139\n",
      "py4j.clientserver INFO  Closing down clientserver connection\n"
     ]
    },
    {
     "name": "stdout",
     "output_type": "stream",
     "text": [
      "  8%|▊         | 77/1000 [33:02<8:31:50, 33.27s/trial, best loss: 0.9201391937549245] "
     ]
    },
    {
     "name": "stderr",
     "output_type": "stream",
     "text": [
      "hyperopt.tpe INFO  build_posterior_wrapper took 0.000000 seconds\n",
      "hyperopt.tpe INFO  TPE using 95/95 trials with best loss 0.920139\n",
      "py4j.clientserver INFO  Closing down clientserver connection\n"
     ]
    },
    {
     "name": "stdout",
     "output_type": "stream",
     "text": [
      "  8%|▊         | 78/1000 [33:04<6:29:57, 25.38s/trial, best loss: 0.9201391937549245]"
     ]
    },
    {
     "name": "stderr",
     "output_type": "stream",
     "text": [
      "py4j.clientserver INFO  Closing down clientserver connection\n"
     ]
    },
    {
     "name": "stdout",
     "output_type": "stream",
     "text": [
      "  8%|▊         | 79/1000 [33:05<4:50:19, 18.91s/trial, best loss: 0.9201391937549245]"
     ]
    },
    {
     "name": "stderr",
     "output_type": "stream",
     "text": [
      "hyperopt.tpe INFO  build_posterior_wrapper took 0.000000 seconds\n",
      "hyperopt.tpe INFO  TPE using 96/96 trials with best loss 0.920139\n",
      "py4j.clientserver INFO  Closing down clientserver connection\n"
     ]
    },
    {
     "name": "stdout",
     "output_type": "stream",
     "text": [
      "  8%|▊         | 80/1000 [33:06<3:34:36, 14.00s/trial, best loss: 0.9201391937549245]"
     ]
    },
    {
     "name": "stderr",
     "output_type": "stream",
     "text": [
      "hyperopt.tpe INFO  build_posterior_wrapper took 0.111171 seconds\n",
      "hyperopt.tpe INFO  TPE using 97/97 trials with best loss 0.920139\n",
      "py4j.clientserver INFO  Closing down clientserver connection\n",
      "py4j.clientserver INFO  Closing down clientserver connection\n"
     ]
    },
    {
     "name": "stdout",
     "output_type": "stream",
     "text": [
      "  8%|▊         | 82/1000 [33:07<2:03:43,  8.09s/trial, best loss: 0.9201391937549245]"
     ]
    },
    {
     "name": "stderr",
     "output_type": "stream",
     "text": [
      "hyperopt.tpe INFO  build_posterior_wrapper took 0.015625 seconds\n",
      "hyperopt.tpe INFO  TPE using 98/98 trials with best loss 0.920139\n",
      "hyperopt.tpe INFO  build_posterior_wrapper took 0.015625 seconds\n",
      "hyperopt.tpe INFO  TPE using 99/99 trials with best loss 0.920139\n",
      "hyperopt.tpe INFO  build_posterior_wrapper took 0.015626 seconds\n",
      "hyperopt.tpe INFO  TPE using 100/100 trials with best loss 0.920139\n",
      "py4j.clientserver INFO  Closing down clientserver connection\n",
      "py4j.clientserver INFO  Closing down clientserver connection\n"
     ]
    },
    {
     "name": "stdout",
     "output_type": "stream",
     "text": [
      "  8%|▊         | 84/1000 [33:10<1:24:49,  5.56s/trial, best loss: 0.9201391937549245]"
     ]
    },
    {
     "name": "stderr",
     "output_type": "stream",
     "text": [
      "py4j.clientserver INFO  Closing down clientserver connection\n",
      "py4j.clientserver INFO  Closing down clientserver connection\n"
     ]
    },
    {
     "name": "stdout",
     "output_type": "stream",
     "text": [
      "  9%|▊         | 86/1000 [33:11<57:17,  3.76s/trial, best loss: 0.9201391937549245]  "
     ]
    },
    {
     "name": "stderr",
     "output_type": "stream",
     "text": [
      "hyperopt.tpe INFO  build_posterior_wrapper took 0.000000 seconds\n",
      "hyperopt.tpe INFO  TPE using 101/101 trials with best loss 0.920139\n",
      "py4j.clientserver INFO  Closing down clientserver connection\n",
      "py4j.clientserver INFO  Closing down clientserver connection\n"
     ]
    },
    {
     "name": "stdout",
     "output_type": "stream",
     "text": [
      "  9%|▉         | 88/1000 [33:12<40:32,  2.67s/trial, best loss: 0.9201391937549245]"
     ]
    },
    {
     "name": "stderr",
     "output_type": "stream",
     "text": [
      "hyperopt.tpe INFO  build_posterior_wrapper took 0.015628 seconds\n",
      "hyperopt.tpe INFO  TPE using 102/102 trials with best loss 0.920139\n",
      "py4j.clientserver INFO  Closing down clientserver connection\n"
     ]
    },
    {
     "name": "stdout",
     "output_type": "stream",
     "text": [
      "  9%|▉         | 89/1000 [33:13<35:41,  2.35s/trial, best loss: 0.9201391937549245]"
     ]
    },
    {
     "name": "stderr",
     "output_type": "stream",
     "text": [
      "hyperopt.tpe INFO  build_posterior_wrapper took 0.093737 seconds\n",
      "hyperopt.tpe INFO  TPE using 103/103 trials with best loss 0.920139\n",
      "hyperopt.tpe INFO  build_posterior_wrapper took 0.000000 seconds\n",
      "hyperopt.tpe INFO  TPE using 104/104 trials with best loss 0.920139\n",
      "hyperopt.tpe INFO  build_posterior_wrapper took 0.015627 seconds\n",
      "hyperopt.tpe INFO  TPE using 105/105 trials with best loss 0.920139\n",
      "hyperopt.tpe INFO  build_posterior_wrapper took 0.015622 seconds\n",
      "hyperopt.tpe INFO  TPE using 106/106 trials with best loss 0.920139\n",
      "hyperopt.tpe INFO  build_posterior_wrapper took 0.015625 seconds\n",
      "hyperopt.tpe INFO  TPE using 107/107 trials with best loss 0.920139\n",
      "py4j.clientserver INFO  Closing down clientserver connection\n"
     ]
    },
    {
     "name": "stdout",
     "output_type": "stream",
     "text": [
      "  9%|▉         | 90/1000 [33:22<54:58,  3.62s/trial, best loss: 0.9201391937549245]"
     ]
    },
    {
     "name": "stderr",
     "output_type": "stream",
     "text": [
      "hyperopt.tpe INFO  build_posterior_wrapper took 0.019557 seconds\n",
      "hyperopt.tpe INFO  TPE using 108/108 trials with best loss 0.920139\n",
      "py4j.clientserver INFO  Closing down clientserver connection\n"
     ]
    },
    {
     "name": "stdout",
     "output_type": "stream",
     "text": [
      "  9%|▉         | 91/1000 [39:29<22:38:40, 89.68s/trial, best loss: 0.9201391937549245]"
     ]
    },
    {
     "name": "stderr",
     "output_type": "stream",
     "text": [
      "hyperopt.tpe INFO  build_posterior_wrapper took 0.109365 seconds\n",
      "hyperopt.tpe INFO  TPE using 109/109 trials with best loss 0.920139\n",
      "py4j.clientserver INFO  Closing down clientserver connection\n",
      "py4j.clientserver INFO  Closing down clientserver connection\n",
      "py4j.clientserver INFO  Closing down clientserver connection\n"
     ]
    },
    {
     "name": "stdout",
     "output_type": "stream",
     "text": [
      "  9%|▉         | 94/1000 [39:36<11:30:37, 45.74s/trial, best loss: 0.9201391937549245]"
     ]
    },
    {
     "name": "stderr",
     "output_type": "stream",
     "text": [
      "hyperopt.tpe INFO  build_posterior_wrapper took 0.020999 seconds\n",
      "hyperopt.tpe INFO  TPE using 110/110 trials with best loss 0.920139\n",
      "hyperopt.tpe INFO  build_posterior_wrapper took 0.020103 seconds\n",
      "hyperopt.tpe INFO  TPE using 111/111 trials with best loss 0.920139\n",
      "hyperopt.tpe INFO  build_posterior_wrapper took 0.021999 seconds\n",
      "hyperopt.tpe INFO  TPE using 112/112 trials with best loss 0.920139\n",
      "py4j.clientserver INFO  Closing down clientserver connection\n",
      "py4j.clientserver INFO  Closing down clientserver connection\n",
      "py4j.clientserver INFO  Closing down clientserver connection\n"
     ]
    },
    {
     "name": "stdout",
     "output_type": "stream",
     "text": [
      " 10%|▉         | 97/1000 [39:42<6:53:17, 27.46s/trial, best loss: 0.9201391937549245] "
     ]
    },
    {
     "name": "stderr",
     "output_type": "stream",
     "text": [
      "hyperopt.tpe INFO  build_posterior_wrapper took 0.015621 seconds\n",
      "hyperopt.tpe INFO  TPE using 113/113 trials with best loss 0.920139\n",
      "hyperopt.tpe INFO  build_posterior_wrapper took 0.015629 seconds\n",
      "hyperopt.tpe INFO  TPE using 114/114 trials with best loss 0.920139\n",
      "py4j.clientserver INFO  Closing down clientserver connection\n"
     ]
    },
    {
     "name": "stdout",
     "output_type": "stream",
     "text": [
      " 10%|▉         | 98/1000 [39:44<5:49:22, 23.24s/trial, best loss: 0.9201391937549245]"
     ]
    },
    {
     "name": "stderr",
     "output_type": "stream",
     "text": [
      "hyperopt.tpe INFO  build_posterior_wrapper took 0.015630 seconds\n",
      "hyperopt.tpe INFO  TPE using 115/115 trials with best loss 0.920139\n",
      "hyperopt.tpe INFO  build_posterior_wrapper took 0.093753 seconds\n",
      "hyperopt.tpe INFO  TPE using 116/116 trials with best loss 0.920139\n",
      "py4j.clientserver INFO  Closing down clientserver connection\n"
     ]
    },
    {
     "name": "stdout",
     "output_type": "stream",
     "text": [
      " 10%|▉         | 99/1000 [39:48<4:51:06, 19.39s/trial, best loss: 0.9201391937549245]"
     ]
    },
    {
     "name": "stderr",
     "output_type": "stream",
     "text": [
      "hyperopt.tpe INFO  build_posterior_wrapper took 0.015627 seconds\n",
      "hyperopt.tpe INFO  TPE using 117/117 trials with best loss 0.920139\n",
      "py4j.clientserver INFO  Closing down clientserver connection\n"
     ]
    },
    {
     "name": "stdout",
     "output_type": "stream",
     "text": [
      " 10%|█         | 100/1000 [39:51<3:58:06, 15.87s/trial, best loss: 0.9201391937549245]"
     ]
    },
    {
     "name": "stderr",
     "output_type": "stream",
     "text": [
      "hyperopt.tpe INFO  build_posterior_wrapper took 0.000000 seconds\n",
      "hyperopt.tpe INFO  TPE using 118/118 trials with best loss 0.920139\n",
      "py4j.clientserver INFO  Closing down clientserver connection\n",
      "py4j.clientserver INFO  Closing down clientserver connection\n"
     ]
    },
    {
     "name": "stdout",
     "output_type": "stream",
     "text": [
      " 10%|█         | 102/1000 [39:52<2:30:04, 10.03s/trial, best loss: 0.9201391937549245]"
     ]
    },
    {
     "name": "stderr",
     "output_type": "stream",
     "text": [
      "hyperopt.tpe INFO  build_posterior_wrapper took 0.000000 seconds\n",
      "hyperopt.tpe INFO  TPE using 119/119 trials with best loss 0.920139\n",
      "hyperopt.tpe INFO  build_posterior_wrapper took 0.015623 seconds\n",
      "hyperopt.tpe INFO  TPE using 120/120 trials with best loss 0.920139\n",
      "py4j.clientserver INFO  Closing down clientserver connection\n"
     ]
    },
    {
     "name": "stdout",
     "output_type": "stream",
     "text": [
      " 10%|█         | 103/1000 [39:58<2:17:15,  9.18s/trial, best loss: 0.9201391937549245]"
     ]
    },
    {
     "name": "stderr",
     "output_type": "stream",
     "text": [
      "hyperopt.tpe INFO  build_posterior_wrapper took 0.000000 seconds\n",
      "hyperopt.tpe INFO  TPE using 121/121 trials with best loss 0.920139\n",
      "py4j.clientserver INFO  Closing down clientserver connection\n"
     ]
    },
    {
     "name": "stdout",
     "output_type": "stream",
     "text": [
      " 10%|█         | 104/1000 [40:01<1:55:40,  7.75s/trial, best loss: 0.9201391937549245]"
     ]
    },
    {
     "name": "stderr",
     "output_type": "stream",
     "text": [
      "hyperopt.tpe INFO  build_posterior_wrapper took 0.109374 seconds\n",
      "hyperopt.tpe INFO  TPE using 122/122 trials with best loss 0.920139\n",
      "py4j.clientserver INFO  Closing down clientserver connection\n",
      "py4j.clientserver INFO  Closing down clientserver connection\n"
     ]
    },
    {
     "name": "stdout",
     "output_type": "stream",
     "text": [
      " 11%|█         | 106/1000 [40:03<1:15:30,  5.07s/trial, best loss: 0.9201391937549245]"
     ]
    },
    {
     "name": "stderr",
     "output_type": "stream",
     "text": [
      "hyperopt.tpe INFO  build_posterior_wrapper took 0.015612 seconds\n",
      "hyperopt.tpe INFO  TPE using 123/123 trials with best loss 0.920139\n",
      "hyperopt.tpe INFO  build_posterior_wrapper took 0.015613 seconds\n",
      "hyperopt.tpe INFO  TPE using 124/124 trials with best loss 0.920139\n",
      "py4j.clientserver INFO  Closing down clientserver connection\n"
     ]
    },
    {
     "name": "stdout",
     "output_type": "stream",
     "text": [
      " 11%|█         | 107/1000 [40:06<1:08:45,  4.62s/trial, best loss: 0.9201391937549245]"
     ]
    },
    {
     "name": "stderr",
     "output_type": "stream",
     "text": [
      "hyperopt.tpe INFO  build_posterior_wrapper took 0.015620 seconds\n",
      "hyperopt.tpe INFO  TPE using 125/125 trials with best loss 0.920139\n",
      "py4j.clientserver INFO  Closing down clientserver connection\n"
     ]
    },
    {
     "name": "stdout",
     "output_type": "stream",
     "text": [
      " 11%|█         | 108/1000 [40:08<59:26,  4.00s/trial, best loss: 0.9201391937549245]  "
     ]
    },
    {
     "name": "stderr",
     "output_type": "stream",
     "text": [
      "hyperopt.tpe INFO  build_posterior_wrapper took 0.000000 seconds\n",
      "hyperopt.tpe INFO  TPE using 126/126 trials with best loss 0.920139\n",
      "py4j.clientserver INFO  Closing down clientserver connection\n"
     ]
    },
    {
     "name": "stdout",
     "output_type": "stream",
     "text": [
      " 11%|█         | 109/1000 [46:13<23:54:16, 96.58s/trial, best loss: 0.9201391937549245]"
     ]
    },
    {
     "name": "stderr",
     "output_type": "stream",
     "text": [
      "hyperopt.tpe INFO  build_posterior_wrapper took 0.015624 seconds\n",
      "hyperopt.tpe INFO  TPE using 127/127 trials with best loss 0.920139\n",
      "py4j.clientserver INFO  Closing down clientserver connection\n"
     ]
    },
    {
     "name": "stdout",
     "output_type": "stream",
     "text": [
      " 11%|█         | 110/1000 [46:14<17:32:50, 70.98s/trial, best loss: 0.9201391937549245]"
     ]
    },
    {
     "name": "stderr",
     "output_type": "stream",
     "text": [
      "py4j.clientserver INFO  Closing down clientserver connection\n"
     ]
    },
    {
     "name": "stdout",
     "output_type": "stream",
     "text": [
      " 11%|█         | 111/1000 [46:15<12:44:38, 51.61s/trial, best loss: 0.9201391937549245]"
     ]
    },
    {
     "name": "stderr",
     "output_type": "stream",
     "text": [
      "hyperopt.tpe INFO  build_posterior_wrapper took 0.093751 seconds\n",
      "hyperopt.tpe INFO  TPE using 128/128 trials with best loss 0.920139\n",
      "py4j.clientserver INFO  Closing down clientserver connection\n"
     ]
    },
    {
     "name": "stdout",
     "output_type": "stream",
     "text": [
      " 11%|█         | 112/1000 [46:16<9:11:59, 37.30s/trial, best loss: 0.9201391937549245] "
     ]
    },
    {
     "name": "stderr",
     "output_type": "stream",
     "text": [
      "hyperopt.tpe INFO  build_posterior_wrapper took 0.000000 seconds\n",
      "hyperopt.tpe INFO  TPE using 129/129 trials with best loss 0.920139\n",
      "hyperopt.tpe INFO  build_posterior_wrapper took 0.015625 seconds\n",
      "hyperopt.tpe INFO  TPE using 130/130 trials with best loss 0.920139\n",
      "py4j.clientserver INFO  Closing down clientserver connection\n",
      "py4j.clientserver INFO  Closing down clientserver connection\n"
     ]
    },
    {
     "name": "stdout",
     "output_type": "stream",
     "text": [
      " 11%|█▏        | 114/1000 [46:22<5:24:22, 21.97s/trial, best loss: 0.9201391937549245]"
     ]
    },
    {
     "name": "stderr",
     "output_type": "stream",
     "text": [
      "hyperopt.tpe INFO  build_posterior_wrapper took 0.015623 seconds\n",
      "hyperopt.tpe INFO  TPE using 131/131 trials with best loss 0.920139\n",
      "py4j.clientserver INFO  Closing down clientserver connection\n"
     ]
    },
    {
     "name": "stdout",
     "output_type": "stream",
     "text": [
      " 12%|█▏        | 115/1000 [46:24<4:12:50, 17.14s/trial, best loss: 0.9201391937549245]"
     ]
    },
    {
     "name": "stderr",
     "output_type": "stream",
     "text": [
      "hyperopt.tpe INFO  build_posterior_wrapper took 0.015630 seconds\n",
      "hyperopt.tpe INFO  TPE using 132/132 trials with best loss 0.920139\n",
      "py4j.clientserver INFO  Closing down clientserver connection\n",
      "py4j.clientserver INFO  Closing down clientserver connection\n"
     ]
    },
    {
     "name": "stdout",
     "output_type": "stream",
     "text": [
      " 12%|█▏        | 117/1000 [46:26<2:32:11, 10.34s/trial, best loss: 0.9201391937549245]"
     ]
    },
    {
     "name": "stderr",
     "output_type": "stream",
     "text": [
      "hyperopt.tpe INFO  build_posterior_wrapper took 0.000000 seconds\n",
      "hyperopt.tpe INFO  TPE using 133/133 trials with best loss 0.920139\n",
      "hyperopt.tpe INFO  build_posterior_wrapper took 0.015631 seconds\n",
      "hyperopt.tpe INFO  TPE using 134/134 trials with best loss 0.920139\n",
      "hyperopt.tpe INFO  build_posterior_wrapper took 0.093752 seconds\n",
      "hyperopt.tpe INFO  TPE using 135/135 trials with best loss 0.920139\n",
      "py4j.clientserver INFO  Closing down clientserver connection\n"
     ]
    },
    {
     "name": "stdout",
     "output_type": "stream",
     "text": [
      " 12%|█▏        | 118/1000 [46:33<2:21:34,  9.63s/trial, best loss: 0.9201391937549245]"
     ]
    },
    {
     "name": "stderr",
     "output_type": "stream",
     "text": [
      "hyperopt.tpe INFO  build_posterior_wrapper took 0.015626 seconds\n",
      "hyperopt.tpe INFO  TPE using 136/136 trials with best loss 0.920139\n",
      "py4j.clientserver INFO  Closing down clientserver connection\n"
     ]
    },
    {
     "name": "stdout",
     "output_type": "stream",
     "text": [
      " 12%|█▏        | 119/1000 [46:35<1:54:09,  7.78s/trial, best loss: 0.9201391937549245]"
     ]
    },
    {
     "name": "stderr",
     "output_type": "stream",
     "text": [
      "hyperopt.tpe INFO  build_posterior_wrapper took 0.015626 seconds\n",
      "hyperopt.tpe INFO  TPE using 137/137 trials with best loss 0.920139\n",
      "py4j.clientserver INFO  Closing down clientserver connection\n"
     ]
    },
    {
     "name": "stdout",
     "output_type": "stream",
     "text": [
      " 12%|█▏        | 120/1000 [46:36<1:28:28,  6.03s/trial, best loss: 0.9201391937549245]"
     ]
    },
    {
     "name": "stderr",
     "output_type": "stream",
     "text": [
      "hyperopt.tpe INFO  build_posterior_wrapper took 0.008109 seconds\n",
      "hyperopt.tpe INFO  TPE using 138/138 trials with best loss 0.920139\n",
      "py4j.clientserver INFO  Closing down clientserver connection\n",
      "py4j.clientserver INFO  Closing down clientserver connection\n"
     ]
    },
    {
     "name": "stdout",
     "output_type": "stream",
     "text": [
      " 12%|█▏        | 122/1000 [46:41<1:06:36,  4.55s/trial, best loss: 0.9201391937549245]"
     ]
    },
    {
     "name": "stderr",
     "output_type": "stream",
     "text": [
      "hyperopt.tpe INFO  build_posterior_wrapper took 0.015629 seconds\n",
      "hyperopt.tpe INFO  TPE using 139/139 trials with best loss 0.920139\n",
      "py4j.clientserver INFO  Closing down clientserver connection\n"
     ]
    },
    {
     "name": "stdout",
     "output_type": "stream",
     "text": [
      " 12%|█▏        | 123/1000 [46:42<54:31,  3.73s/trial, best loss: 0.9201391937549245]  "
     ]
    },
    {
     "name": "stderr",
     "output_type": "stream",
     "text": [
      "hyperopt.tpe INFO  build_posterior_wrapper took 0.015626 seconds\n",
      "hyperopt.tpe INFO  TPE using 140/140 trials with best loss 0.920139\n",
      "hyperopt.tpe INFO  build_posterior_wrapper took 0.109384 seconds\n",
      "hyperopt.tpe INFO  TPE using 141/141 trials with best loss 0.920139\n",
      "py4j.clientserver INFO  Closing down clientserver connection\n"
     ]
    },
    {
     "name": "stdout",
     "output_type": "stream",
     "text": [
      " 12%|█▏        | 124/1000 [46:45<52:23,  3.59s/trial, best loss: 0.9201391937549245]"
     ]
    },
    {
     "name": "stderr",
     "output_type": "stream",
     "text": [
      "py4j.clientserver INFO  Closing down clientserver connection\n"
     ]
    },
    {
     "name": "stdout",
     "output_type": "stream",
     "text": [
      " 12%|█▎        | 125/1000 [46:46<42:24,  2.91s/trial, best loss: 0.9201391937549245]"
     ]
    },
    {
     "name": "stderr",
     "output_type": "stream",
     "text": [
      "hyperopt.tpe INFO  build_posterior_wrapper took 0.015625 seconds\n",
      "hyperopt.tpe INFO  TPE using 142/142 trials with best loss 0.920139\n",
      "py4j.clientserver INFO  Closing down clientserver connection\n"
     ]
    },
    {
     "name": "stdout",
     "output_type": "stream",
     "text": [
      " 13%|█▎        | 126/1000 [46:47<34:56,  2.40s/trial, best loss: 0.9201391937549245]"
     ]
    },
    {
     "name": "stderr",
     "output_type": "stream",
     "text": [
      "hyperopt.tpe INFO  build_posterior_wrapper took 0.015630 seconds\n",
      "hyperopt.tpe INFO  TPE using 143/143 trials with best loss 0.920139\n",
      "hyperopt.tpe INFO  build_posterior_wrapper took 0.015630 seconds\n",
      "hyperopt.tpe INFO  TPE using 144/144 trials with best loss 0.920139\n"
     ]
    }
   ],
   "source": [
    "from traineval.evaluation.tune_evaluation import evaluate\n",
    "\n",
    "best_params = fmin(\n",
    "    fn=evaluate,\n",
    "    space=get_params(),\n",
    "    algo=tpe.suggest,  # NOTE: You cannot use atpe.suggest with SparkTrials, then use tpe.suggest\n",
    "    max_evals=1000,\n",
    "    trials=SparkTrials(18),\n",
    "    # early_stop_fn=no_progress_loss(400)\n",
    ")\n",
    "best_params"
   ],
   "metadata": {
    "collapsed": false,
    "pycharm": {
     "is_executing": true
    }
   }
  },
  {
   "cell_type": "code",
   "execution_count": null,
   "outputs": [],
   "source": [
    "best_params"
   ],
   "metadata": {
    "collapsed": false
   }
  },
  {
   "cell_type": "code",
   "execution_count": null,
   "outputs": [],
   "source": [],
   "metadata": {
    "collapsed": false
   }
  }
 ],
 "metadata": {
  "kernelspec": {
   "display_name": "Python 3",
   "language": "python",
   "name": "python3"
  },
  "language_info": {
   "codemirror_mode": {
    "name": "ipython",
    "version": 2
   },
   "file_extension": ".py",
   "mimetype": "text/x-python",
   "name": "python",
   "nbconvert_exporter": "python",
   "pygments_lexer": "ipython2",
   "version": "2.7.6"
  }
 },
 "nbformat": 4,
 "nbformat_minor": 0
}
