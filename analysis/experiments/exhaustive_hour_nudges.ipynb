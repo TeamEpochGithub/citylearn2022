{
 "cells": [
  {
   "cell_type": "code",
   "execution_count": 1,
   "outputs": [
    {
     "name": "stdout",
     "output_type": "stream",
     "text": [
      "{'hour_0': range(1, 25), 'action_0': [-0.1, -0.08, -0.06, -0.04, -0.02, 0.0, 0.02, 0.04, 0.06, 0.08]}\n"
     ]
    }
   ],
   "source": [
    "search_space = {\n",
    "    \"hour_0\": range(1, 25),\n",
    "    # \"hour_1\": range(1, 25),\n",
    "    # \"hour_2\": range(1, 25),\n",
    "    # \"hour_3\": range(1, 25),\n",
    "    \"action_0\": [x / 50.0 for x in range(-20, 20, 1)[15:25]],\n",
    "    # \"action_1\": [x / 50.0 for x in range(-20, 20, 1)[15:25]],\n",
    "    # \"action_2\": [x / 50.0 for x in range(-20, 20, 1)[15:25]],\n",
    "    # \"action_3\": [x / 50.0 for x in range(-20, 20, 1)[15:25]],\n",
    "}\n",
    "print(search_space)"
   ],
   "metadata": {
    "collapsed": false,
    "pycharm": {
     "name": "#%%\n"
    }
   }
  },
  {
   "cell_type": "code",
   "execution_count": 5,
   "outputs": [
    {
     "name": "stdout",
     "output_type": "stream",
     "text": [
      "{'hour_0': range(1, 25), 'action_0': [-0.1, -0.08, -0.06, -0.04, -0.02, 0.0, 0.02, 0.04, 0.06, 0.08]}\n"
     ]
    },
    {
     "ename": "TypeError",
     "evalue": "string indices must be integers",
     "output_type": "error",
     "traceback": [
      "\u001B[1;31m---------------------------------------------------------------------------\u001B[0m",
      "\u001B[1;31mRemoteTraceback\u001B[0m                           Traceback (most recent call last)",
      "\u001B[1;31mRemoteTraceback\u001B[0m: \n\"\"\"\nTraceback (most recent call last):\n  File \"C:\\Program Files\\Python\\lib\\multiprocessing\\pool.py\", line 125, in worker\n    result = (True, func(*args, **kwds))\n  File \"C:\\Users\\philip\\Storage\\Epoch\\citylearn-2022-starter-kit\\traineval\\evaluation\\tune_evaluation.py\", line 108, in evaluate\n    actions = agent.compute_action(observations)\n  File \"C:\\Users\\philip\\Storage\\Epoch\\citylearn-2022-starter-kit\\agents\\tunable_agents\\tuning_wrapper.py\", line 62, in compute_action\n    actions.append(self.agent.compute_action(observation, agent_id))\n  File \"C:\\Users\\philip\\Storage\\Epoch\\citylearn-2022-starter-kit\\agents\\tunable_agents\\tunable_timestep_pred_consumption_agent_peak.py\", line 208, in compute_action\n    self.pred_consumption_policy(observation, building_timestep, agent_id,\n  File \"C:\\Users\\philip\\Storage\\Epoch\\citylearn-2022-starter-kit\\agents\\tunable_agents\\tunable_timestep_pred_consumption_agent_peak.py\", line 265, in pred_consumption_policy\n    action += self.nudge_action(observation[2])\n  File \"C:\\Users\\philip\\Storage\\Epoch\\citylearn-2022-starter-kit\\agents\\tunable_agents\\tunable_timestep_pred_consumption_agent_peak.py\", line 305, in nudge_action\n    if hour == self.params[\"hour_0\"]:\nTypeError: string indices must be integers\n\"\"\"",
      "\nThe above exception was the direct cause of the following exception:\n",
      "\u001B[1;31mTypeError\u001B[0m                                 Traceback (most recent call last)",
      "Cell \u001B[1;32mIn [5], line 17\u001B[0m\n\u001B[0;32m     14\u001B[0m         params \u001B[38;5;241m=\u001B[39m {\u001B[38;5;124m\"\u001B[39m\u001B[38;5;124mhour_0\u001B[39m\u001B[38;5;124m\"\u001B[39m: hours[i],\n\u001B[0;32m     15\u001B[0m                   \u001B[38;5;124m\"\u001B[39m\u001B[38;5;124maction_0\u001B[39m\u001B[38;5;124m\"\u001B[39m: actions[j]}\n\u001B[0;32m     16\u001B[0m         results \u001B[38;5;241m=\u001B[39m pool\u001B[38;5;241m.\u001B[39mapply_async(evaluate, args\u001B[38;5;241m=\u001B[39mparams)\n\u001B[1;32m---> 17\u001B[0m         result \u001B[38;5;241m=\u001B[39m \u001B[43mresults\u001B[49m\u001B[38;5;241;43m.\u001B[39;49m\u001B[43mget\u001B[49m\u001B[43m(\u001B[49m\u001B[43m)\u001B[49m\n\u001B[0;32m     18\u001B[0m         all_scores[\u001B[38;5;28mstr\u001B[39m(params)] \u001B[38;5;241m=\u001B[39m result\n\u001B[0;32m     19\u001B[0m pool\u001B[38;5;241m.\u001B[39mclose()\n",
      "File \u001B[1;32mC:\\Program Files\\Python\\lib\\multiprocessing\\pool.py:771\u001B[0m, in \u001B[0;36mApplyResult.get\u001B[1;34m(self, timeout)\u001B[0m\n\u001B[0;32m    769\u001B[0m     \u001B[38;5;28;01mreturn\u001B[39;00m \u001B[38;5;28mself\u001B[39m\u001B[38;5;241m.\u001B[39m_value\n\u001B[0;32m    770\u001B[0m \u001B[38;5;28;01melse\u001B[39;00m:\n\u001B[1;32m--> 771\u001B[0m     \u001B[38;5;28;01mraise\u001B[39;00m \u001B[38;5;28mself\u001B[39m\u001B[38;5;241m.\u001B[39m_value\n",
      "\u001B[1;31mTypeError\u001B[0m: string indices must be integers"
     ]
    }
   ],
   "source": [
    "print(search_space)\n",
    "from traineval.evaluation.tune_evaluation import evaluate\n",
    "\n",
    "hours = range(1, 25)\n",
    "actions = [x / 50.0 for x in range(-20, 20, 1)[15:25]]\n",
    "\n",
    "from multiprocessing import Pool, cpu_count\n",
    "\n",
    "all_scores = {}\n",
    "with Pool(processes=(cpu_count() - 6)) as pool:\n",
    "    for i in range(len(hours)):\n",
    "        for j in range(len(actions)):\n",
    "            params = {\"hour_0\": hours[i],\n",
    "                      \"action_0\": actions[j]}\n",
    "            async_result = pool.map_async(evaluate, args=params)\n",
    "            results = async_result.get()\n",
    "            all_scores[str(params)] = results\n",
    "\n",
    "# for i in range(len(hours)):\n",
    "#     for j in range(len(actions)):\n",
    "#         params = {\"hour_0\": hours[i],\n",
    "#                   \"action_0\": actions[j]}\n",
    "#         loss = evaluate(params)\n",
    "#         all_scores[str(params)] = loss\n",
    "#         print(str(params))\n",
    "#         print(loss)\n",
    "\n",
    "all_scores"
   ],
   "metadata": {
    "collapsed": false,
    "pycharm": {
     "name": "#%%\n"
    }
   }
  },
  {
   "cell_type": "code",
   "execution_count": 12,
   "outputs": [],
   "source": [
    "results = {\"{'hour_0': 16, 'action_0': -0.1}\": 0.8468023883433116,\n",
    " \"{'hour_0': 16, 'action_0': -0.08}\": 0.8414692694700147,\n",
    " \"{'hour_0': 16, 'action_0': -0.06}\": 0.8371502482914522,\n",
    " \"{'hour_0': 16, 'action_0': -0.04}\": 0.834189186557993,\n",
    " \"{'hour_0': 16, 'action_0': -0.02}\": 0.8326351239033473,\n",
    " \"{'hour_0': 16, 'action_0': 0.0}\": 0.8327754494480865,\n",
    "\"{'hour_0': 16, 'action_0': 0.02}\": 0.8350209437928032,\n",
    "\"{'hour_0': 16, 'action_0': 0.04}\": 0.8385487411188656,\n",
    "\"{'hour_0': 16, 'action_0': 0.06}\": 0.8431177191980478,\n",
    "\"{'hour_0': 16, 'action_0': 0.08}\": 0.8479832698399682,\n",
    "\"{'hour_0': 17, 'action_0': -0.1}\": 0.8448993061225774,\n",
    "\"{'hour_0': 17, 'action_0': -0.08}\": 0.8400439392245286,\n",
    "\"{'hour_0': 17, 'action_0': -0.06}\": 0.8360974017152968,\n",
    "\"{'hour_0': 17, 'action_0': -0.04}\": 0.833399494583309,\n",
    "\"{'hour_0': 17, 'action_0': -0.02}\": 0.8321913721575743,\n",
    "\"{'hour_0': 17, 'action_0': 0.0}\": 0.8327754494480865,\n",
    "\"{'hour_0': 17, 'action_0': 0.02}\": 0.8357498875985762,\n",
    "\"{'hour_0': 17, 'action_0': 0.04}\": 0.840264919991614,\n",
    "\"{'hour_0': 17, 'action_0': 0.06}\": 0.8456289039041162,\n",
    "\"{'hour_0': 17, 'action_0': 0.08}\": 0.8517174322082326,\n",
    "\"{'hour_0': 18, 'action_0': -0.1}\": 0.8390028224840168,\n",
    "\"{'hour_0': 18, 'action_0': -0.08}\": 0.8354642030005168,\n",
    "\"{'hour_0': 18, 'action_0': -0.06}\": 0.8326602164772744,\n",
    "\"{'hour_0': 18, 'action_0': -0.04}\": 0.8310397284288591,\n",
    "\"{'hour_0': 18, 'action_0': -0.02}\": 0.8309426282082316,\n",
    "\"{'hour_0': 18, 'action_0': 0.0}\": 0.8327754494480865,\n",
    "\"{'hour_0': 18, 'action_0': 0.02}\": 0.8370441736451543,\n",
    "\"{'hour_0': 18, 'action_0': 0.04}\": 0.8433712686312326,\n",
    "\"{'hour_0': 18, 'action_0': 0.06}\": 0.8511831052340817,\n",
    "\"{'hour_0': 18, 'action_0': 0.08}\": 0.8597597280032933,\n",
    "\"{'hour_0': 19, 'action_0': -0.1}\": 0.8485948596995699,\n",
    "\"{'hour_0': 19, 'action_0': -0.08}\": 0.8439857278707589,\n",
    "\"{'hour_0': 19, 'action_0': -0.06}\": 0.839830044761862,\n",
    "\"{'hour_0': 19, 'action_0': -0.04}\": 0.8363139714380611,\n",
    "\"{'hour_0': 19, 'action_0': -0.02}\": 0.8338289045165821,\n",
    "\"{'hour_0': 19, 'action_0': 0.0}\": 0.8327754494480865,\n",
    "\"{'hour_0': 19, 'action_0': 0.02}\": 0.8337149916746016,\n",
    "\"{'hour_0': 19, 'action_0': 0.04}\": 0.8366509179441647,\n",
    "\"{'hour_0': 19, 'action_0': 0.06}\": 0.8416339536308731,\n",
    "\"{'hour_0': 19, 'action_0': 0.08}\": 0.8485557186450684,\n",
    "\"{'hour_0': 20, 'action_0': -0.1}\": 0.8401824639671557,\n",
    "\"{'hour_0': 20, 'action_0': -0.08}\": 0.8369173001317328,\n",
    "\"{'hour_0': 20, 'action_0': -0.06}\": 0.8342425062466243,\n",
    "\"{'hour_0': 20, 'action_0': -0.04}\": 0.8326167714463377,\n",
    "\"{'hour_0': 20, 'action_0': -0.02}\": 0.8320701202695644,\n",
    "\"{'hour_0': 20, 'action_0': 0.0}\": 0.8327754494480865,\n",
    "\"{'hour_0': 20, 'action_0': 0.02}\": 0.8355342193287051,\n",
    "\"{'hour_0': 20, 'action_0': 0.04}\": 0.839868935414303,\n",
    "\"{'hour_0': 20, 'action_0': 0.06}\": 0.8458224061376924,\n",
    "\"{'hour_0': 20, 'action_0': 0.08}\": 0.8525885357412647,\n",
    "\"{'hour_0': 21, 'action_0': -0.1}\": 0.8423518578629379,\n",
    "\"{'hour_0': 21, 'action_0': -0.08}\": 0.8389473611756831,\n",
    "\"{'hour_0': 21, 'action_0': -0.06}\": 0.8360374983718701,\n",
    "\"{'hour_0': 21, 'action_0': -0.04}\": 0.8339068898340166,\n",
    "\"{'hour_0': 21, 'action_0': -0.02}\": 0.8327728402962628,\n",
    "\"{'hour_0': 21, 'action_0': 0.0}\": 0.8327754494480865,\n",
    "\"{'hour_0': 21, 'action_0': 0.02}\": 0.8352624413195885,\n",
    "\"{'hour_0': 21, 'action_0': 0.04}\": 0.8394691888898879,\n",
    "\"{'hour_0': 21, 'action_0': 0.06}\": 0.8454335649562977,\n",
    "\"{'hour_0': 21, 'action_0': 0.08}\": 0.8523816792203348,\n",
    "\"{'hour_0': 22, 'action_0': -0.1}\": 0.8433264384955163,\n",
    "\"{'hour_0': 22, 'action_0': -0.08}\": 0.8399478230419567,\n",
    "\"{'hour_0': 22, 'action_0': -0.06}\": 0.8369444974934109,\n",
    "\"{'hour_0': 22, 'action_0': -0.04}\": 0.8345820342696801,\n",
    "\"{'hour_0': 22, 'action_0': -0.02}\": 0.8329915274570882,\n",
    "\"{'hour_0': 22, 'action_0': 0.0}\": 0.8327754494480865,\n",
    "\"{'hour_0': 22, 'action_0': 0.02}\": 0.8347818928786057,\n",
    "\"{'hour_0': 22, 'action_0': 0.04}\": 0.8385599724005196,\n",
    "\"{'hour_0': 22, 'action_0': 0.06}\": 0.8435873267814543,\n",
    "\"{'hour_0': 22, 'action_0': 0.08}\": 0.8497691766922065,\n",
    "\"{'hour_0': 23, 'action_0': -0.1}\": 0.8438942127613808,\n",
    "\"{'hour_0': 23, 'action_0': -0.08}\": 0.8407499278602416,\n",
    "\"{'hour_0': 23, 'action_0': -0.06}\": 0.837793049949194,\n",
    "\"{'hour_0': 23, 'action_0': -0.04}\": 0.8352906907802042,\n",
    "\"{'hour_0': 23, 'action_0': -0.02}\": 0.8334606035512732,\n",
    "\"{'hour_0': 23, 'action_0': 0.0}\": 0.8327754494480865,\n",
    "\"{'hour_0': 23, 'action_0': 0.02}\": 0.8352954918671912,\n",
    "\"{'hour_0': 23, 'action_0': 0.04}\": 0.8398469340261415,\n",
    "\"{'hour_0': 23, 'action_0': 0.06}\": 0.8456328169388252,\n",
    "\"{'hour_0': 23, 'action_0': 0.08}\": 0.8521485529976657,\n",
    "\"{'hour_0': 24, 'action_0': -0.1}\": 0.8457135181979584,\n",
    "\"{'hour_0': 24, 'action_0': -0.08}\": 0.8424331692134462,\n",
    "\"{'hour_0': 24, 'action_0': -0.06}\": 0.8392249147817478,\n",
    "\"{'hour_0': 24, 'action_0': -0.04}\": 0.8363521740641774,\n",
    "\"{'hour_0': 24, 'action_0': -0.02}\": 0.8339621524170945,\n",
    "\"{'hour_0': 24, 'action_0': 0.0}\": 0.8327754494480865,\n",
    "\"{'hour_0': 24, 'action_0': 0.02}\": 0.8342514017178834,\n",
    "\"{'hour_0': 24, 'action_0': 0.04}\": 0.8380818655381682,\n",
    "\"{'hour_0': 24, 'action_0': 0.06}\": 0.8430405117270453,\n",
    "\"{'hour_0': 24, 'action_0': 0.08}\": 0.8486123169647692}\n"
   ],
   "metadata": {
    "collapsed": false
   }
  },
  {
   "cell_type": "code",
   "execution_count": 13,
   "outputs": [
    {
     "data": {
      "text/plain": "{\"{'hour_0': 18, 'action_0': -0.02}\": 0.8309426282082316,\n \"{'hour_0': 18, 'action_0': -0.04}\": 0.8310397284288591,\n \"{'hour_0': 20, 'action_0': -0.02}\": 0.8320701202695644,\n \"{'hour_0': 17, 'action_0': -0.02}\": 0.8321913721575743,\n \"{'hour_0': 20, 'action_0': -0.04}\": 0.8326167714463377,\n \"{'hour_0': 16, 'action_0': -0.02}\": 0.8326351239033473,\n \"{'hour_0': 18, 'action_0': -0.06}\": 0.8326602164772744,\n \"{'hour_0': 21, 'action_0': -0.02}\": 0.8327728402962628,\n \"{'hour_0': 16, 'action_0': 0.0}\": 0.8327754494480865,\n \"{'hour_0': 17, 'action_0': 0.0}\": 0.8327754494480865,\n \"{'hour_0': 18, 'action_0': 0.0}\": 0.8327754494480865,\n \"{'hour_0': 19, 'action_0': 0.0}\": 0.8327754494480865,\n \"{'hour_0': 20, 'action_0': 0.0}\": 0.8327754494480865,\n \"{'hour_0': 21, 'action_0': 0.0}\": 0.8327754494480865,\n \"{'hour_0': 22, 'action_0': 0.0}\": 0.8327754494480865,\n \"{'hour_0': 23, 'action_0': 0.0}\": 0.8327754494480865,\n \"{'hour_0': 24, 'action_0': 0.0}\": 0.8327754494480865,\n \"{'hour_0': 22, 'action_0': -0.02}\": 0.8329915274570882,\n \"{'hour_0': 17, 'action_0': -0.04}\": 0.833399494583309,\n \"{'hour_0': 23, 'action_0': -0.02}\": 0.8334606035512732,\n \"{'hour_0': 19, 'action_0': 0.02}\": 0.8337149916746016,\n \"{'hour_0': 19, 'action_0': -0.02}\": 0.8338289045165821,\n \"{'hour_0': 21, 'action_0': -0.04}\": 0.8339068898340166,\n \"{'hour_0': 24, 'action_0': -0.02}\": 0.8339621524170945,\n \"{'hour_0': 16, 'action_0': -0.04}\": 0.834189186557993,\n \"{'hour_0': 20, 'action_0': -0.06}\": 0.8342425062466243,\n \"{'hour_0': 24, 'action_0': 0.02}\": 0.8342514017178834,\n \"{'hour_0': 22, 'action_0': -0.04}\": 0.8345820342696801,\n \"{'hour_0': 22, 'action_0': 0.02}\": 0.8347818928786057,\n \"{'hour_0': 16, 'action_0': 0.02}\": 0.8350209437928032,\n \"{'hour_0': 21, 'action_0': 0.02}\": 0.8352624413195885,\n \"{'hour_0': 23, 'action_0': -0.04}\": 0.8352906907802042,\n \"{'hour_0': 23, 'action_0': 0.02}\": 0.8352954918671912,\n \"{'hour_0': 18, 'action_0': -0.08}\": 0.8354642030005168,\n \"{'hour_0': 20, 'action_0': 0.02}\": 0.8355342193287051,\n \"{'hour_0': 17, 'action_0': 0.02}\": 0.8357498875985762,\n \"{'hour_0': 21, 'action_0': -0.06}\": 0.8360374983718701,\n \"{'hour_0': 17, 'action_0': -0.06}\": 0.8360974017152968,\n \"{'hour_0': 19, 'action_0': -0.04}\": 0.8363139714380611,\n \"{'hour_0': 24, 'action_0': -0.04}\": 0.8363521740641774,\n \"{'hour_0': 19, 'action_0': 0.04}\": 0.8366509179441647,\n \"{'hour_0': 20, 'action_0': -0.08}\": 0.8369173001317328,\n \"{'hour_0': 22, 'action_0': -0.06}\": 0.8369444974934109,\n \"{'hour_0': 18, 'action_0': 0.02}\": 0.8370441736451543,\n \"{'hour_0': 16, 'action_0': -0.06}\": 0.8371502482914522,\n \"{'hour_0': 23, 'action_0': -0.06}\": 0.837793049949194,\n \"{'hour_0': 24, 'action_0': 0.04}\": 0.8380818655381682,\n \"{'hour_0': 16, 'action_0': 0.04}\": 0.8385487411188656,\n \"{'hour_0': 22, 'action_0': 0.04}\": 0.8385599724005196,\n \"{'hour_0': 21, 'action_0': -0.08}\": 0.8389473611756831,\n \"{'hour_0': 18, 'action_0': -0.1}\": 0.8390028224840168,\n \"{'hour_0': 24, 'action_0': -0.06}\": 0.8392249147817478,\n \"{'hour_0': 21, 'action_0': 0.04}\": 0.8394691888898879,\n \"{'hour_0': 19, 'action_0': -0.06}\": 0.839830044761862,\n \"{'hour_0': 23, 'action_0': 0.04}\": 0.8398469340261415,\n \"{'hour_0': 20, 'action_0': 0.04}\": 0.839868935414303,\n \"{'hour_0': 22, 'action_0': -0.08}\": 0.8399478230419567,\n \"{'hour_0': 17, 'action_0': -0.08}\": 0.8400439392245286,\n \"{'hour_0': 20, 'action_0': -0.1}\": 0.8401824639671557,\n \"{'hour_0': 17, 'action_0': 0.04}\": 0.840264919991614,\n \"{'hour_0': 23, 'action_0': -0.08}\": 0.8407499278602416,\n \"{'hour_0': 16, 'action_0': -0.08}\": 0.8414692694700147,\n \"{'hour_0': 19, 'action_0': 0.06}\": 0.8416339536308731,\n \"{'hour_0': 21, 'action_0': -0.1}\": 0.8423518578629379,\n \"{'hour_0': 24, 'action_0': -0.08}\": 0.8424331692134462,\n \"{'hour_0': 24, 'action_0': 0.06}\": 0.8430405117270453,\n \"{'hour_0': 16, 'action_0': 0.06}\": 0.8431177191980478,\n \"{'hour_0': 22, 'action_0': -0.1}\": 0.8433264384955163,\n \"{'hour_0': 18, 'action_0': 0.04}\": 0.8433712686312326,\n \"{'hour_0': 22, 'action_0': 0.06}\": 0.8435873267814543,\n \"{'hour_0': 23, 'action_0': -0.1}\": 0.8438942127613808,\n \"{'hour_0': 19, 'action_0': -0.08}\": 0.8439857278707589,\n \"{'hour_0': 17, 'action_0': -0.1}\": 0.8448993061225774,\n \"{'hour_0': 21, 'action_0': 0.06}\": 0.8454335649562977,\n \"{'hour_0': 17, 'action_0': 0.06}\": 0.8456289039041162,\n \"{'hour_0': 23, 'action_0': 0.06}\": 0.8456328169388252,\n \"{'hour_0': 24, 'action_0': -0.1}\": 0.8457135181979584,\n \"{'hour_0': 20, 'action_0': 0.06}\": 0.8458224061376924,\n \"{'hour_0': 16, 'action_0': -0.1}\": 0.8468023883433116,\n \"{'hour_0': 16, 'action_0': 0.08}\": 0.8479832698399682,\n \"{'hour_0': 19, 'action_0': 0.08}\": 0.8485557186450684,\n \"{'hour_0': 19, 'action_0': -0.1}\": 0.8485948596995699,\n \"{'hour_0': 24, 'action_0': 0.08}\": 0.8486123169647692,\n \"{'hour_0': 22, 'action_0': 0.08}\": 0.8497691766922065,\n \"{'hour_0': 18, 'action_0': 0.06}\": 0.8511831052340817,\n \"{'hour_0': 17, 'action_0': 0.08}\": 0.8517174322082326,\n \"{'hour_0': 23, 'action_0': 0.08}\": 0.8521485529976657,\n \"{'hour_0': 21, 'action_0': 0.08}\": 0.8523816792203348,\n \"{'hour_0': 20, 'action_0': 0.08}\": 0.8525885357412647,\n \"{'hour_0': 18, 'action_0': 0.08}\": 0.8597597280032933}"
     },
     "execution_count": 13,
     "metadata": {},
     "output_type": "execute_result"
    }
   ],
   "source": [
    "{k: v for k, v in sorted(results.items(), key=lambda item: item[1])}"
   ],
   "metadata": {
    "collapsed": false
   }
  },
  {
   "cell_type": "code",
   "execution_count": null,
   "outputs": [],
   "source": [],
   "metadata": {
    "collapsed": false
   }
  }
 ],
 "metadata": {
  "kernelspec": {
   "display_name": "Python 3",
   "language": "python",
   "name": "python3"
  },
  "language_info": {
   "codemirror_mode": {
    "name": "ipython",
    "version": 2
   },
   "file_extension": ".py",
   "mimetype": "text/x-python",
   "name": "python",
   "nbconvert_exporter": "python",
   "pygments_lexer": "ipython2",
   "version": "2.7.6"
  }
 },
 "nbformat": 4,
 "nbformat_minor": 0
}
