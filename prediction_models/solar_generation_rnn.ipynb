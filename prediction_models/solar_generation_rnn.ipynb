{
 "cells": [
  {
   "cell_type": "code",
   "execution_count": 55,
   "metadata": {
    "collapsed": true
   },
   "outputs": [],
   "source": [
    "from pandas import read_csv\n",
    "import numpy as np\n",
    "from tensorflow import keras\n",
    "from keras.models import Sequential\n",
    "from keras.layers import Dense, SimpleRNN\n",
    "from sklearn.preprocessing import MinMaxScaler\n",
    "from sklearn.metrics import mean_squared_error\n",
    "import math\n",
    "import matplotlib.pyplot as plt\n"
   ]
  },
  {
   "cell_type": "code",
   "execution_count": 56,
   "outputs": [
    {
     "data": {
      "text/plain": "       month  day_type  hour  outdoor_dry_bulb  \\\n0        8.0       1.0   1.0              20.1   \n1        8.0       1.0   2.0              19.7   \n2        8.0       1.0   3.0              19.3   \n3        8.0       1.0   4.0              18.9   \n4        8.0       1.0   5.0              18.3   \n...      ...       ...   ...               ...   \n43785    7.0       1.0  18.0              21.1   \n43786    7.0       1.0  19.0              20.6   \n43787    7.0       1.0  20.0              21.1   \n43788    7.0       1.0  21.0              21.7   \n43789    7.0       1.0  22.0              21.3   \n\n       outdoor_dry_bulb_temperature_predicted_6h  \\\n0                                           19.4   \n1                                           21.1   \n2                                           22.2   \n3                                           21.7   \n4                                           22.2   \n...                                          ...   \n43785                                       20.0   \n43786                                       20.1   \n43787                                       19.7   \n43788                                       19.3   \n43789                                       18.9   \n\n       outdoor_dry_bulb_temperature_predicted_12h  \\\n0                                            22.8   \n1                                            22.2   \n2                                            22.8   \n3                                            22.2   \n4                                            21.1   \n...                                           ...   \n43785                                        18.3   \n43786                                        19.4   \n43787                                        21.1   \n43788                                        22.2   \n43789                                        21.7   \n\n       outdoor_dry_bulb_temperature_predicted_24h  outdoor_relative_humidity  \\\n0                                            19.4                       79.0   \n1                                            19.4                       78.0   \n2                                            19.4                       78.0   \n3                                            18.9                       78.0   \n4                                            18.3                       81.0   \n...                                           ...                        ...   \n43785                                        20.6                       81.0   \n43786                                        20.6                       84.0   \n43787                                        20.0                       81.0   \n43788                                        20.6                       79.0   \n43789                                        20.6                       76.0   \n\n       outdoor_relative_humidity_predicted_6h  \\\n0                                        79.0   \n1                                        73.0   \n2                                        71.0   \n3                                        73.0   \n4                                        71.0   \n...                                       ...   \n43785                                    84.0   \n43786                                    79.0   \n43787                                    78.0   \n43788                                    78.0   \n43789                                    78.0   \n\n       outdoor_relative_humidity_predicted_12h  ...  \\\n0                                         71.0  ...   \n1                                         73.0  ...   \n2                                         71.0  ...   \n3                                         71.0  ...   \n4                                         76.0  ...   \n...                                        ...  ...   \n43785                                     81.0  ...   \n43786                                     79.0  ...   \n43787                                     73.0  ...   \n43788                                     71.0  ...   \n43789                                     73.0  ...   \n\n       direct_solar_irradiance_predicted_6h  \\\n0                                     444.0   \n1                                     592.0   \n2                                     491.0   \n3                                     734.0   \n4                                     811.0   \n...                                     ...   \n43785                                   0.0   \n43786                                   0.0   \n43787                                   0.0   \n43788                                   0.0   \n43789                                   0.0   \n\n       direct_solar_irradiance_predicted_12h  \\\n0                                      747.0   \n1                                      291.0   \n2                                      153.0   \n3                                      174.0   \n4                                      396.0   \n...                                      ...   \n43785                                  100.0   \n43786                                  444.0   \n43787                                  592.0   \n43788                                  491.0   \n43789                                  734.0   \n\n       direct_solar_irradiance_predicted_24h  carbon_intensity  \\\n0                                        0.0          0.157319   \n1                                        0.0          0.154503   \n2                                        0.0          0.150945   \n3                                        0.0          0.151820   \n4                                        0.0          0.158088   \n...                                      ...               ...   \n43785                                  320.0          0.225739   \n43786                                  143.0          0.222553   \n43787                                    0.0          0.216094   \n43788                                    0.0          0.215501   \n43789                                    0.0          0.202315   \n\n       solar_generation  electricity_pricing  \\\n0              0.000000                 0.22   \n1              0.000000                 0.22   \n2              0.000000                 0.22   \n3              0.000000                 0.22   \n4              0.000000                 0.22   \n...                 ...                  ...   \n43785          0.124717                 0.54   \n43786          0.016283                 0.54   \n43787          0.000000                 0.54   \n43788          0.000000                 0.22   \n43789          0.000000                 0.22   \n\n       electricity_pricing_predicted_6h  electricity_pricing_predicted_12h  \\\n0                                  0.22                               0.22   \n1                                  0.22                               0.22   \n2                                  0.22                               0.22   \n3                                  0.22                               0.54   \n4                                  0.22                               0.54   \n...                                 ...                                ...   \n43785                              0.22                               0.22   \n43786                              0.22                               0.22   \n43787                              0.22                               0.22   \n43788                              0.22                               0.22   \n43789                              0.22                               0.22   \n\n       electricity_pricing_predicted_24h  solar_generation_future  \n0                                   0.22                 0.000000  \n1                                   0.22                 0.000000  \n2                                   0.22                 0.000000  \n3                                   0.22                 0.000000  \n4                                   0.22                 0.058017  \n...                                  ...                      ...  \n43785                               0.54                 0.016283  \n43786                               0.54                 0.000000  \n43787                               0.54                 0.000000  \n43788                               0.22                 0.000000  \n43789                               0.22                 0.000000  \n\n[43790 rows x 26 columns]",
      "text/html": "<div>\n<style scoped>\n    .dataframe tbody tr th:only-of-type {\n        vertical-align: middle;\n    }\n\n    .dataframe tbody tr th {\n        vertical-align: top;\n    }\n\n    .dataframe thead th {\n        text-align: right;\n    }\n</style>\n<table border=\"1\" class=\"dataframe\">\n  <thead>\n    <tr style=\"text-align: right;\">\n      <th></th>\n      <th>month</th>\n      <th>day_type</th>\n      <th>hour</th>\n      <th>outdoor_dry_bulb</th>\n      <th>outdoor_dry_bulb_temperature_predicted_6h</th>\n      <th>outdoor_dry_bulb_temperature_predicted_12h</th>\n      <th>outdoor_dry_bulb_temperature_predicted_24h</th>\n      <th>outdoor_relative_humidity</th>\n      <th>outdoor_relative_humidity_predicted_6h</th>\n      <th>outdoor_relative_humidity_predicted_12h</th>\n      <th>...</th>\n      <th>direct_solar_irradiance_predicted_6h</th>\n      <th>direct_solar_irradiance_predicted_12h</th>\n      <th>direct_solar_irradiance_predicted_24h</th>\n      <th>carbon_intensity</th>\n      <th>solar_generation</th>\n      <th>electricity_pricing</th>\n      <th>electricity_pricing_predicted_6h</th>\n      <th>electricity_pricing_predicted_12h</th>\n      <th>electricity_pricing_predicted_24h</th>\n      <th>solar_generation_future</th>\n    </tr>\n  </thead>\n  <tbody>\n    <tr>\n      <th>0</th>\n      <td>8.0</td>\n      <td>1.0</td>\n      <td>1.0</td>\n      <td>20.1</td>\n      <td>19.4</td>\n      <td>22.8</td>\n      <td>19.4</td>\n      <td>79.0</td>\n      <td>79.0</td>\n      <td>71.0</td>\n      <td>...</td>\n      <td>444.0</td>\n      <td>747.0</td>\n      <td>0.0</td>\n      <td>0.157319</td>\n      <td>0.000000</td>\n      <td>0.22</td>\n      <td>0.22</td>\n      <td>0.22</td>\n      <td>0.22</td>\n      <td>0.000000</td>\n    </tr>\n    <tr>\n      <th>1</th>\n      <td>8.0</td>\n      <td>1.0</td>\n      <td>2.0</td>\n      <td>19.7</td>\n      <td>21.1</td>\n      <td>22.2</td>\n      <td>19.4</td>\n      <td>78.0</td>\n      <td>73.0</td>\n      <td>73.0</td>\n      <td>...</td>\n      <td>592.0</td>\n      <td>291.0</td>\n      <td>0.0</td>\n      <td>0.154503</td>\n      <td>0.000000</td>\n      <td>0.22</td>\n      <td>0.22</td>\n      <td>0.22</td>\n      <td>0.22</td>\n      <td>0.000000</td>\n    </tr>\n    <tr>\n      <th>2</th>\n      <td>8.0</td>\n      <td>1.0</td>\n      <td>3.0</td>\n      <td>19.3</td>\n      <td>22.2</td>\n      <td>22.8</td>\n      <td>19.4</td>\n      <td>78.0</td>\n      <td>71.0</td>\n      <td>71.0</td>\n      <td>...</td>\n      <td>491.0</td>\n      <td>153.0</td>\n      <td>0.0</td>\n      <td>0.150945</td>\n      <td>0.000000</td>\n      <td>0.22</td>\n      <td>0.22</td>\n      <td>0.22</td>\n      <td>0.22</td>\n      <td>0.000000</td>\n    </tr>\n    <tr>\n      <th>3</th>\n      <td>8.0</td>\n      <td>1.0</td>\n      <td>4.0</td>\n      <td>18.9</td>\n      <td>21.7</td>\n      <td>22.2</td>\n      <td>18.9</td>\n      <td>78.0</td>\n      <td>73.0</td>\n      <td>71.0</td>\n      <td>...</td>\n      <td>734.0</td>\n      <td>174.0</td>\n      <td>0.0</td>\n      <td>0.151820</td>\n      <td>0.000000</td>\n      <td>0.22</td>\n      <td>0.22</td>\n      <td>0.54</td>\n      <td>0.22</td>\n      <td>0.000000</td>\n    </tr>\n    <tr>\n      <th>4</th>\n      <td>8.0</td>\n      <td>1.0</td>\n      <td>5.0</td>\n      <td>18.3</td>\n      <td>22.2</td>\n      <td>21.1</td>\n      <td>18.3</td>\n      <td>81.0</td>\n      <td>71.0</td>\n      <td>76.0</td>\n      <td>...</td>\n      <td>811.0</td>\n      <td>396.0</td>\n      <td>0.0</td>\n      <td>0.158088</td>\n      <td>0.000000</td>\n      <td>0.22</td>\n      <td>0.22</td>\n      <td>0.54</td>\n      <td>0.22</td>\n      <td>0.058017</td>\n    </tr>\n    <tr>\n      <th>...</th>\n      <td>...</td>\n      <td>...</td>\n      <td>...</td>\n      <td>...</td>\n      <td>...</td>\n      <td>...</td>\n      <td>...</td>\n      <td>...</td>\n      <td>...</td>\n      <td>...</td>\n      <td>...</td>\n      <td>...</td>\n      <td>...</td>\n      <td>...</td>\n      <td>...</td>\n      <td>...</td>\n      <td>...</td>\n      <td>...</td>\n      <td>...</td>\n      <td>...</td>\n      <td>...</td>\n    </tr>\n    <tr>\n      <th>43785</th>\n      <td>7.0</td>\n      <td>1.0</td>\n      <td>18.0</td>\n      <td>21.1</td>\n      <td>20.0</td>\n      <td>18.3</td>\n      <td>20.6</td>\n      <td>81.0</td>\n      <td>84.0</td>\n      <td>81.0</td>\n      <td>...</td>\n      <td>0.0</td>\n      <td>100.0</td>\n      <td>320.0</td>\n      <td>0.225739</td>\n      <td>0.124717</td>\n      <td>0.54</td>\n      <td>0.22</td>\n      <td>0.22</td>\n      <td>0.54</td>\n      <td>0.016283</td>\n    </tr>\n    <tr>\n      <th>43786</th>\n      <td>7.0</td>\n      <td>1.0</td>\n      <td>19.0</td>\n      <td>20.6</td>\n      <td>20.1</td>\n      <td>19.4</td>\n      <td>20.6</td>\n      <td>84.0</td>\n      <td>79.0</td>\n      <td>79.0</td>\n      <td>...</td>\n      <td>0.0</td>\n      <td>444.0</td>\n      <td>143.0</td>\n      <td>0.222553</td>\n      <td>0.016283</td>\n      <td>0.54</td>\n      <td>0.22</td>\n      <td>0.22</td>\n      <td>0.54</td>\n      <td>0.000000</td>\n    </tr>\n    <tr>\n      <th>43787</th>\n      <td>7.0</td>\n      <td>1.0</td>\n      <td>20.0</td>\n      <td>21.1</td>\n      <td>19.7</td>\n      <td>21.1</td>\n      <td>20.0</td>\n      <td>81.0</td>\n      <td>78.0</td>\n      <td>73.0</td>\n      <td>...</td>\n      <td>0.0</td>\n      <td>592.0</td>\n      <td>0.0</td>\n      <td>0.216094</td>\n      <td>0.000000</td>\n      <td>0.54</td>\n      <td>0.22</td>\n      <td>0.22</td>\n      <td>0.54</td>\n      <td>0.000000</td>\n    </tr>\n    <tr>\n      <th>43788</th>\n      <td>7.0</td>\n      <td>1.0</td>\n      <td>21.0</td>\n      <td>21.7</td>\n      <td>19.3</td>\n      <td>22.2</td>\n      <td>20.6</td>\n      <td>79.0</td>\n      <td>78.0</td>\n      <td>71.0</td>\n      <td>...</td>\n      <td>0.0</td>\n      <td>491.0</td>\n      <td>0.0</td>\n      <td>0.215501</td>\n      <td>0.000000</td>\n      <td>0.22</td>\n      <td>0.22</td>\n      <td>0.22</td>\n      <td>0.22</td>\n      <td>0.000000</td>\n    </tr>\n    <tr>\n      <th>43789</th>\n      <td>7.0</td>\n      <td>1.0</td>\n      <td>22.0</td>\n      <td>21.3</td>\n      <td>18.9</td>\n      <td>21.7</td>\n      <td>20.6</td>\n      <td>76.0</td>\n      <td>78.0</td>\n      <td>73.0</td>\n      <td>...</td>\n      <td>0.0</td>\n      <td>734.0</td>\n      <td>0.0</td>\n      <td>0.202315</td>\n      <td>0.000000</td>\n      <td>0.22</td>\n      <td>0.22</td>\n      <td>0.22</td>\n      <td>0.22</td>\n      <td>0.000000</td>\n    </tr>\n  </tbody>\n</table>\n<p>43790 rows × 26 columns</p>\n</div>"
     },
     "execution_count": 56,
     "metadata": {},
     "output_type": "execute_result"
    }
   ],
   "source": [
    "import pandas as pd\n",
    "from data import citylearn_challenge_2022_phase_1 as competition_data\n",
    "import os.path as osp\n",
    "\n",
    "solargen_data_path = osp.join(osp.dirname(competition_data.__file__), \"solar_data.csv\")\n",
    "solargen_data = pd.read_csv(solargen_data_path)\n",
    "\n",
    "# for i in range(5):\n",
    "#     plt.plot(solargen_data[\"non_shiftable_load\"][i*8760 : 8760 + i*8760])\n",
    "#     plt.show()\n",
    "solargen_data"
   ],
   "metadata": {
    "collapsed": false
   }
  },
  {
   "cell_type": "code",
   "execution_count": 57,
   "outputs": [],
   "source": [
    "selected_params = [\"diffuse_solar_irradiance\", \"direct_solar_irradiance\", \"solar_generation\", \"solar_generation_future\"] # \"outdoor_dry_bulb\", \"outdoor_relative_humidity\",\n",
    "solargen_data = solargen_data[selected_params]"
   ],
   "metadata": {
    "collapsed": false
   }
  },
  {
   "cell_type": "code",
   "execution_count": 58,
   "outputs": [
    {
     "data": {
      "text/plain": "       diffuse_solar_irradiance  direct_solar_irradiance  solar_generation  \\\n0                           0.0                      0.0          0.000000   \n1                           0.0                      0.0          0.000000   \n2                           0.0                      0.0          0.000000   \n3                           0.0                      0.0          0.000000   \n4                           0.0                      0.0          0.000000   \n...                         ...                      ...               ...   \n43785                     218.0                    289.0          0.124717   \n43786                      26.0                    130.0          0.016283   \n43787                       0.0                      0.0          0.000000   \n43788                       0.0                      0.0          0.000000   \n43789                       0.0                      0.0          0.000000   \n\n       solar_generation_future  \n0                     0.000000  \n1                     0.000000  \n2                     0.000000  \n3                     0.000000  \n4                     0.058017  \n...                        ...  \n43785                 0.016283  \n43786                 0.000000  \n43787                 0.000000  \n43788                 0.000000  \n43789                 0.000000  \n\n[43790 rows x 4 columns]",
      "text/html": "<div>\n<style scoped>\n    .dataframe tbody tr th:only-of-type {\n        vertical-align: middle;\n    }\n\n    .dataframe tbody tr th {\n        vertical-align: top;\n    }\n\n    .dataframe thead th {\n        text-align: right;\n    }\n</style>\n<table border=\"1\" class=\"dataframe\">\n  <thead>\n    <tr style=\"text-align: right;\">\n      <th></th>\n      <th>diffuse_solar_irradiance</th>\n      <th>direct_solar_irradiance</th>\n      <th>solar_generation</th>\n      <th>solar_generation_future</th>\n    </tr>\n  </thead>\n  <tbody>\n    <tr>\n      <th>0</th>\n      <td>0.0</td>\n      <td>0.0</td>\n      <td>0.000000</td>\n      <td>0.000000</td>\n    </tr>\n    <tr>\n      <th>1</th>\n      <td>0.0</td>\n      <td>0.0</td>\n      <td>0.000000</td>\n      <td>0.000000</td>\n    </tr>\n    <tr>\n      <th>2</th>\n      <td>0.0</td>\n      <td>0.0</td>\n      <td>0.000000</td>\n      <td>0.000000</td>\n    </tr>\n    <tr>\n      <th>3</th>\n      <td>0.0</td>\n      <td>0.0</td>\n      <td>0.000000</td>\n      <td>0.000000</td>\n    </tr>\n    <tr>\n      <th>4</th>\n      <td>0.0</td>\n      <td>0.0</td>\n      <td>0.000000</td>\n      <td>0.058017</td>\n    </tr>\n    <tr>\n      <th>...</th>\n      <td>...</td>\n      <td>...</td>\n      <td>...</td>\n      <td>...</td>\n    </tr>\n    <tr>\n      <th>43785</th>\n      <td>218.0</td>\n      <td>289.0</td>\n      <td>0.124717</td>\n      <td>0.016283</td>\n    </tr>\n    <tr>\n      <th>43786</th>\n      <td>26.0</td>\n      <td>130.0</td>\n      <td>0.016283</td>\n      <td>0.000000</td>\n    </tr>\n    <tr>\n      <th>43787</th>\n      <td>0.0</td>\n      <td>0.0</td>\n      <td>0.000000</td>\n      <td>0.000000</td>\n    </tr>\n    <tr>\n      <th>43788</th>\n      <td>0.0</td>\n      <td>0.0</td>\n      <td>0.000000</td>\n      <td>0.000000</td>\n    </tr>\n    <tr>\n      <th>43789</th>\n      <td>0.0</td>\n      <td>0.0</td>\n      <td>0.000000</td>\n      <td>0.000000</td>\n    </tr>\n  </tbody>\n</table>\n<p>43790 rows × 4 columns</p>\n</div>"
     },
     "execution_count": 58,
     "metadata": {},
     "output_type": "execute_result"
    }
   ],
   "source": [
    "solargen_data"
   ],
   "metadata": {
    "collapsed": false
   }
  },
  {
   "cell_type": "code",
   "execution_count": 59,
   "outputs": [
    {
     "name": "stdout",
     "output_type": "stream",
     "text": [
      "(43790, 3)\n",
      "(43790, 1)\n"
     ]
    }
   ],
   "source": [
    "from sklearn.preprocessing import StandardScaler\n",
    "sc = StandardScaler()\n",
    "# solargen_data = solargen_data[0:8760]\n",
    "df_load_scaled = sc.fit_transform(solargen_data)\n",
    "df_load_scaled = np.delete(df_load_scaled, -1, axis=1)\n",
    "print(df_load_scaled.shape)\n",
    "\n",
    "sc2 = StandardScaler()\n",
    "df_load_scaled_y = sc2.fit_transform(solargen_data[[\"solar_generation_future\"]])\n",
    "print(df_load_scaled_y.shape)"
   ],
   "metadata": {
    "collapsed": false,
    "pycharm": {
     "name": "#%%\n"
    }
   }
  },
  {
   "cell_type": "code",
   "execution_count": 60,
   "outputs": [
    {
     "name": "stdout",
     "output_type": "stream",
     "text": [
      "(43766, 24, 3)\n",
      "(43766,)\n"
     ]
    }
   ],
   "source": [
    "hops = 24\n",
    "no_records = df_load_scaled_y.shape[0]\n",
    "no_cols = len(selected_params) - 1\n",
    "X_train = []\n",
    "y_train = []\n",
    "for i in range(hops, no_records):\n",
    "    X_train.append(df_load_scaled[i-hops:i])\n",
    "    y_train.append(df_load_scaled_y[i][0])\n",
    "X_train, y_train = np.array(X_train), np.array(y_train)\n",
    "\n",
    "print(X_train.shape)\n",
    "print(y_train.shape)"
   ],
   "metadata": {
    "collapsed": false,
    "pycharm": {
     "name": "#%%\n"
    }
   }
  },
  {
   "cell_type": "code",
   "execution_count": 61,
   "outputs": [],
   "source": [
    "X_train_reshaped = np.reshape(X_train, (X_train.shape[0], X_train.shape[1], X_train.shape[2]))"
   ],
   "metadata": {
    "collapsed": false
   }
  },
  {
   "cell_type": "code",
   "execution_count": 62,
   "outputs": [
    {
     "data": {
      "text/plain": "(43766, 24, 3)"
     },
     "execution_count": 62,
     "metadata": {},
     "output_type": "execute_result"
    }
   ],
   "source": [
    "X_train_reshaped.shape"
   ],
   "metadata": {
    "collapsed": false
   }
  },
  {
   "cell_type": "code",
   "execution_count": 63,
   "outputs": [],
   "source": [
    "from keras.models import Sequential\n",
    "from keras.layers import Dense, LSTM, Dropout\n",
    "\n",
    "model=Sequential()\n",
    "model.add(LSTM(units=64, return_sequences=True, input_shape=(hops,no_cols)))\n",
    "model.add(Dropout(0.2))\n",
    "model.add(LSTM(units=64))\n",
    "model.add(Dropout(0.2))\n",
    "model.add(Dense(1))\n",
    "model.compile(optimizer='adam', loss='mean_squared_error')"
   ],
   "metadata": {
    "collapsed": false
   }
  },
  {
   "cell_type": "code",
   "execution_count": 64,
   "outputs": [
    {
     "name": "stdout",
     "output_type": "stream",
     "text": [
      "Epoch 1/200\n",
      "912/912 [==============================] - 52s 55ms/step - loss: 0.1357 - val_loss: 0.0767\n",
      "Epoch 2/200\n",
      "912/912 [==============================] - 50s 54ms/step - loss: 0.0846 - val_loss: 0.0686\n",
      "Epoch 3/200\n",
      "912/912 [==============================] - 50s 55ms/step - loss: 0.0759 - val_loss: 0.0647\n",
      "Epoch 4/200\n",
      "912/912 [==============================] - 50s 54ms/step - loss: 0.0711 - val_loss: 0.0618\n",
      "Epoch 5/200\n",
      "912/912 [==============================] - 50s 55ms/step - loss: 0.0680 - val_loss: 0.0642\n",
      "Epoch 6/200\n",
      "912/912 [==============================] - 50s 55ms/step - loss: 0.0667 - val_loss: 0.0584\n",
      "Epoch 7/200\n",
      "912/912 [==============================] - 50s 55ms/step - loss: 0.0647 - val_loss: 0.0613\n",
      "Epoch 8/200\n",
      "912/912 [==============================] - 50s 55ms/step - loss: 0.0632 - val_loss: 0.0607\n",
      "Epoch 9/200\n",
      "912/912 [==============================] - 50s 55ms/step - loss: 0.0641 - val_loss: 0.0583\n",
      "Epoch 10/200\n",
      "912/912 [==============================] - 50s 55ms/step - loss: 0.0626 - val_loss: 0.0597\n",
      "Epoch 11/200\n",
      "912/912 [==============================] - 50s 54ms/step - loss: 0.0602 - val_loss: 0.0561\n",
      "Epoch 12/200\n",
      "912/912 [==============================] - 49s 54ms/step - loss: 0.0608 - val_loss: 0.0559\n",
      "Epoch 13/200\n",
      "912/912 [==============================] - 49s 54ms/step - loss: 0.0602 - val_loss: 0.0579\n",
      "Epoch 14/200\n",
      "912/912 [==============================] - 49s 54ms/step - loss: 0.0595 - val_loss: 0.0590\n",
      "Epoch 15/200\n",
      "912/912 [==============================] - 49s 54ms/step - loss: 0.0583 - val_loss: 0.0532\n",
      "Epoch 16/200\n",
      "912/912 [==============================] - 49s 54ms/step - loss: 0.0572 - val_loss: 0.0540\n",
      "Epoch 17/200\n",
      "912/912 [==============================] - 49s 54ms/step - loss: 0.0566 - val_loss: 0.0555\n",
      "Epoch 18/200\n",
      "912/912 [==============================] - 50s 54ms/step - loss: 0.0558 - val_loss: 0.0549\n",
      "Epoch 19/200\n",
      "912/912 [==============================] - 49s 54ms/step - loss: 0.0552 - val_loss: 0.0585\n",
      "Epoch 20/200\n",
      "912/912 [==============================] - 49s 54ms/step - loss: 0.0551 - val_loss: 0.0551\n",
      "Epoch 21/200\n",
      "912/912 [==============================] - 49s 54ms/step - loss: 0.0548 - val_loss: 0.0507\n",
      "Epoch 22/200\n",
      "912/912 [==============================] - 49s 54ms/step - loss: 0.0538 - val_loss: 0.0541\n",
      "Epoch 23/200\n",
      "912/912 [==============================] - 49s 54ms/step - loss: 0.0529 - val_loss: 0.0516\n",
      "Epoch 24/200\n",
      "912/912 [==============================] - 49s 54ms/step - loss: 0.0526 - val_loss: 0.0535\n",
      "Epoch 25/200\n",
      "912/912 [==============================] - 49s 54ms/step - loss: 0.0528 - val_loss: 0.0509\n",
      "Epoch 26/200\n",
      "912/912 [==============================] - 45s 49ms/step - loss: 0.0515 - val_loss: 0.0536\n",
      "Epoch 27/200\n",
      "912/912 [==============================] - 45s 49ms/step - loss: 0.0516 - val_loss: 0.0516\n",
      "Epoch 28/200\n",
      "912/912 [==============================] - 45s 49ms/step - loss: 0.0511 - val_loss: 0.0511\n",
      "Epoch 29/200\n",
      "912/912 [==============================] - 45s 49ms/step - loss: 0.0498 - val_loss: 0.0458\n",
      "Epoch 30/200\n",
      "912/912 [==============================] - 45s 49ms/step - loss: 0.0500 - val_loss: 0.0504\n",
      "Epoch 31/200\n",
      "912/912 [==============================] - 45s 49ms/step - loss: 0.0485 - val_loss: 0.0497\n",
      "Epoch 32/200\n",
      "912/912 [==============================] - 45s 49ms/step - loss: 0.0487 - val_loss: 0.0484\n",
      "Epoch 33/200\n",
      "912/912 [==============================] - 45s 49ms/step - loss: 0.0482 - val_loss: 0.0497\n",
      "Epoch 34/200\n",
      "912/912 [==============================] - 45s 49ms/step - loss: 0.0469 - val_loss: 0.0441\n",
      "Epoch 35/200\n",
      "912/912 [==============================] - 45s 49ms/step - loss: 0.0476 - val_loss: 0.0455\n",
      "Epoch 36/200\n",
      "912/912 [==============================] - 45s 49ms/step - loss: 0.0463 - val_loss: 0.0448\n",
      "Epoch 37/200\n",
      "912/912 [==============================] - 46s 50ms/step - loss: 0.0464 - val_loss: 0.0479\n",
      "Epoch 38/200\n",
      "912/912 [==============================] - 46s 50ms/step - loss: 0.0449 - val_loss: 0.0464\n",
      "Epoch 39/200\n",
      "912/912 [==============================] - 46s 50ms/step - loss: 0.0437 - val_loss: 0.0436\n",
      "Epoch 40/200\n",
      "912/912 [==============================] - 46s 50ms/step - loss: 0.0435 - val_loss: 0.0457\n",
      "Epoch 41/200\n",
      "912/912 [==============================] - 46s 50ms/step - loss: 0.0428 - val_loss: 0.0410\n",
      "Epoch 42/200\n",
      "912/912 [==============================] - 46s 51ms/step - loss: 0.0417 - val_loss: 0.0488\n",
      "Epoch 43/200\n",
      "912/912 [==============================] - 46s 51ms/step - loss: 0.0424 - val_loss: 0.0433\n",
      "Epoch 44/200\n",
      "912/912 [==============================] - 46s 51ms/step - loss: 0.0405 - val_loss: 0.0433\n",
      "Epoch 45/200\n",
      "912/912 [==============================] - 46s 51ms/step - loss: 0.0401 - val_loss: 0.0416\n",
      "Epoch 46/200\n",
      "912/912 [==============================] - 46s 51ms/step - loss: 0.0402 - val_loss: 0.0486\n",
      "Epoch 47/200\n",
      "912/912 [==============================] - 46s 51ms/step - loss: 0.0384 - val_loss: 0.0423\n",
      "Epoch 48/200\n",
      "912/912 [==============================] - 47s 51ms/step - loss: 0.0376 - val_loss: 0.0412\n",
      "Epoch 49/200\n",
      "912/912 [==============================] - 47s 51ms/step - loss: 0.0381 - val_loss: 0.0415\n",
      "Epoch 50/200\n",
      "912/912 [==============================] - 47s 51ms/step - loss: 0.0366 - val_loss: 0.0452\n",
      "Epoch 51/200\n",
      "912/912 [==============================] - 47s 51ms/step - loss: 0.0363 - val_loss: 0.0416\n",
      "Epoch 52/200\n",
      "912/912 [==============================] - 47s 51ms/step - loss: 0.0352 - val_loss: 0.0393\n",
      "Epoch 53/200\n",
      "912/912 [==============================] - 47s 52ms/step - loss: 0.0348 - val_loss: 0.0410\n",
      "Epoch 54/200\n",
      "912/912 [==============================] - 47s 51ms/step - loss: 0.0352 - val_loss: 0.0375\n",
      "Epoch 55/200\n",
      "912/912 [==============================] - 47s 52ms/step - loss: 0.0342 - val_loss: 0.0383\n",
      "Epoch 56/200\n",
      "912/912 [==============================] - 47s 52ms/step - loss: 0.0344 - val_loss: 0.0409\n",
      "Epoch 57/200\n",
      "912/912 [==============================] - 47s 51ms/step - loss: 0.0332 - val_loss: 0.0353\n",
      "Epoch 58/200\n",
      "912/912 [==============================] - 47s 51ms/step - loss: 0.0328 - val_loss: 0.0359\n",
      "Epoch 59/200\n",
      "912/912 [==============================] - 47s 51ms/step - loss: 0.0319 - val_loss: 0.0457\n",
      "Epoch 60/200\n",
      "912/912 [==============================] - 47s 51ms/step - loss: 0.0328 - val_loss: 0.0371\n",
      "Epoch 61/200\n",
      "912/912 [==============================] - 47s 51ms/step - loss: 0.0311 - val_loss: 0.0429\n",
      "Epoch 62/200\n",
      "912/912 [==============================] - 47s 51ms/step - loss: 0.0318 - val_loss: 0.0376\n",
      "Epoch 63/200\n",
      "912/912 [==============================] - 47s 51ms/step - loss: 0.0297 - val_loss: 0.0390\n",
      "Epoch 64/200\n",
      "912/912 [==============================] - 47s 52ms/step - loss: 0.0300 - val_loss: 0.0382\n",
      "Epoch 65/200\n",
      "912/912 [==============================] - 47s 52ms/step - loss: 0.0305 - val_loss: 0.0367\n",
      "Epoch 66/200\n",
      "912/912 [==============================] - 47s 52ms/step - loss: 0.0296 - val_loss: 0.0392\n",
      "Epoch 67/200\n",
      "912/912 [==============================] - 48s 52ms/step - loss: 0.0290 - val_loss: 0.0367\n",
      "Epoch 68/200\n",
      "912/912 [==============================] - 47s 52ms/step - loss: 0.0299 - val_loss: 0.0375\n",
      "Epoch 69/200\n",
      "912/912 [==============================] - 47s 52ms/step - loss: 0.0286 - val_loss: 0.0359\n",
      "Epoch 70/200\n",
      "912/912 [==============================] - 47s 52ms/step - loss: 0.0284 - val_loss: 0.0375\n",
      "Epoch 71/200\n",
      "912/912 [==============================] - 47s 52ms/step - loss: 0.0282 - val_loss: 0.0368\n",
      "Epoch 72/200\n",
      "912/912 [==============================] - 47s 52ms/step - loss: 0.0276 - val_loss: 0.0382\n",
      "Epoch 73/200\n",
      "912/912 [==============================] - 47s 52ms/step - loss: 0.0275 - val_loss: 0.0375\n",
      "Epoch 74/200\n",
      "912/912 [==============================] - 47s 52ms/step - loss: 0.0281 - val_loss: 0.0329\n",
      "Epoch 75/200\n",
      "912/912 [==============================] - 47s 52ms/step - loss: 0.0268 - val_loss: 0.0378\n",
      "Epoch 76/200\n",
      "912/912 [==============================] - 47s 52ms/step - loss: 0.0266 - val_loss: 0.0360\n",
      "Epoch 77/200\n",
      "912/912 [==============================] - 47s 52ms/step - loss: 0.0265 - val_loss: 0.0419\n",
      "Epoch 78/200\n",
      "912/912 [==============================] - 47s 52ms/step - loss: 0.0249 - val_loss: 0.0399\n",
      "Epoch 79/200\n",
      "912/912 [==============================] - 47s 52ms/step - loss: 0.0256 - val_loss: 0.0373\n",
      "Epoch 80/200\n",
      "912/912 [==============================] - 47s 52ms/step - loss: 0.0252 - val_loss: 0.0333\n",
      "Epoch 81/200\n",
      "912/912 [==============================] - 47s 52ms/step - loss: 0.0264 - val_loss: 0.0387\n",
      "Epoch 82/200\n",
      "912/912 [==============================] - 47s 52ms/step - loss: 0.0259 - val_loss: 0.0365\n",
      "Epoch 83/200\n",
      "912/912 [==============================] - 47s 52ms/step - loss: 0.0241 - val_loss: 0.0360\n",
      "Epoch 84/200\n",
      "912/912 [==============================] - 47s 52ms/step - loss: 0.0242 - val_loss: 0.0355\n",
      "Epoch 85/200\n",
      "912/912 [==============================] - 47s 52ms/step - loss: 0.0244 - val_loss: 0.0365\n",
      "Epoch 86/200\n",
      "912/912 [==============================] - 47s 52ms/step - loss: 0.0238 - val_loss: 0.0345\n",
      "Epoch 87/200\n",
      "912/912 [==============================] - 47s 52ms/step - loss: 0.0227 - val_loss: 0.0340\n",
      "Epoch 88/200\n",
      "912/912 [==============================] - 50s 54ms/step - loss: 0.0236 - val_loss: 0.0374\n",
      "Epoch 89/200\n",
      "912/912 [==============================] - 51s 55ms/step - loss: 0.0235 - val_loss: 0.0351\n",
      "Epoch 90/200\n",
      "912/912 [==============================] - 51s 56ms/step - loss: 0.0234 - val_loss: 0.0395\n",
      "Epoch 91/200\n",
      "912/912 [==============================] - 51s 55ms/step - loss: 0.0226 - val_loss: 0.0366\n",
      "Epoch 92/200\n",
      "912/912 [==============================] - 51s 56ms/step - loss: 0.0221 - val_loss: 0.0325\n",
      "Epoch 93/200\n",
      "912/912 [==============================] - 51s 56ms/step - loss: 0.0229 - val_loss: 0.0342\n",
      "Epoch 94/200\n",
      "912/912 [==============================] - 52s 57ms/step - loss: 0.0217 - val_loss: 0.0362\n",
      "Epoch 95/200\n",
      "912/912 [==============================] - 51s 56ms/step - loss: 0.0217 - val_loss: 0.0327\n",
      "Epoch 96/200\n",
      "912/912 [==============================] - 51s 56ms/step - loss: 0.0217 - val_loss: 0.0349\n",
      "Epoch 97/200\n",
      "912/912 [==============================] - 51s 56ms/step - loss: 0.0218 - val_loss: 0.0328\n",
      "Epoch 98/200\n",
      "912/912 [==============================] - 51s 56ms/step - loss: 0.0213 - val_loss: 0.0362\n",
      "Epoch 99/200\n",
      "912/912 [==============================] - 51s 56ms/step - loss: 0.0211 - val_loss: 0.0404\n",
      "Epoch 100/200\n",
      "912/912 [==============================] - 51s 56ms/step - loss: 0.0215 - val_loss: 0.0373\n",
      "Epoch 101/200\n",
      "912/912 [==============================] - 51s 56ms/step - loss: 0.0205 - val_loss: 0.0349\n",
      "Epoch 102/200\n",
      "912/912 [==============================] - 51s 56ms/step - loss: 0.0201 - val_loss: 0.0353\n",
      "Epoch 103/200\n",
      "912/912 [==============================] - 51s 56ms/step - loss: 0.0203 - val_loss: 0.0334\n",
      "Epoch 104/200\n",
      "912/912 [==============================] - 52s 57ms/step - loss: 0.0205 - val_loss: 0.0361\n",
      "Epoch 105/200\n",
      "912/912 [==============================] - 52s 57ms/step - loss: 0.0197 - val_loss: 0.0314\n",
      "Epoch 106/200\n",
      "912/912 [==============================] - 52s 57ms/step - loss: 0.0204 - val_loss: 0.0324\n",
      "Epoch 107/200\n",
      "912/912 [==============================] - 52s 57ms/step - loss: 0.0195 - val_loss: 0.0341\n",
      "Epoch 108/200\n",
      "912/912 [==============================] - 52s 57ms/step - loss: 0.0194 - val_loss: 0.0335\n",
      "Epoch 109/200\n",
      "912/912 [==============================] - 52s 57ms/step - loss: 0.0191 - val_loss: 0.0335\n",
      "Epoch 110/200\n",
      "912/912 [==============================] - 52s 57ms/step - loss: 0.0192 - val_loss: 0.0344\n",
      "Epoch 111/200\n",
      "912/912 [==============================] - 52s 57ms/step - loss: 0.0190 - val_loss: 0.0351\n",
      "Epoch 112/200\n",
      "912/912 [==============================] - 52s 57ms/step - loss: 0.0192 - val_loss: 0.0327\n",
      "Epoch 113/200\n",
      "912/912 [==============================] - 52s 57ms/step - loss: 0.0191 - val_loss: 0.0358\n",
      "Epoch 114/200\n",
      "912/912 [==============================] - 52s 57ms/step - loss: 0.0197 - val_loss: 0.0311\n",
      "Epoch 115/200\n",
      "912/912 [==============================] - 52s 57ms/step - loss: 0.0176 - val_loss: 0.0334\n",
      "Epoch 116/200\n",
      "912/912 [==============================] - 52s 57ms/step - loss: 0.0184 - val_loss: 0.0336\n",
      "Epoch 117/200\n",
      "912/912 [==============================] - 52s 57ms/step - loss: 0.0182 - val_loss: 0.0370\n",
      "Epoch 118/200\n",
      "912/912 [==============================] - 52s 57ms/step - loss: 0.0178 - val_loss: 0.0317\n",
      "Epoch 119/200\n",
      "912/912 [==============================] - 52s 57ms/step - loss: 0.0179 - val_loss: 0.0371\n",
      "Epoch 120/200\n",
      "912/912 [==============================] - 52s 57ms/step - loss: 0.0184 - val_loss: 0.0331\n",
      "Epoch 121/200\n",
      "912/912 [==============================] - 52s 57ms/step - loss: 0.0172 - val_loss: 0.0436\n",
      "Epoch 122/200\n",
      "912/912 [==============================] - 52s 57ms/step - loss: 0.0170 - val_loss: 0.0323\n",
      "Epoch 123/200\n",
      "912/912 [==============================] - 49s 53ms/step - loss: 0.0175 - val_loss: 0.0325\n",
      "Epoch 124/200\n",
      "912/912 [==============================] - 48s 53ms/step - loss: 0.0176 - val_loss: 0.0323\n",
      "Epoch 125/200\n",
      "912/912 [==============================] - 48s 53ms/step - loss: 0.0171 - val_loss: 0.0339\n",
      "Epoch 126/200\n",
      "912/912 [==============================] - 48s 53ms/step - loss: 0.0169 - val_loss: 0.0329\n",
      "Epoch 127/200\n",
      "912/912 [==============================] - 48s 52ms/step - loss: 0.0168 - val_loss: 0.0336\n",
      "Epoch 128/200\n",
      "912/912 [==============================] - 48s 52ms/step - loss: 0.0163 - val_loss: 0.0321\n",
      "Epoch 129/200\n",
      "912/912 [==============================] - 47s 52ms/step - loss: 0.0164 - val_loss: 0.0324\n",
      "Epoch 130/200\n",
      "912/912 [==============================] - 48s 53ms/step - loss: 0.0164 - val_loss: 0.0397\n",
      "Epoch 131/200\n",
      "912/912 [==============================] - 48s 52ms/step - loss: 0.0169 - val_loss: 0.0332\n",
      "Epoch 132/200\n",
      "912/912 [==============================] - 48s 52ms/step - loss: 0.0167 - val_loss: 0.0357\n",
      "Epoch 133/200\n",
      "912/912 [==============================] - 48s 53ms/step - loss: 0.0166 - val_loss: 0.0324\n",
      "Epoch 134/200\n",
      "912/912 [==============================] - 48s 52ms/step - loss: 0.0164 - val_loss: 0.0330\n",
      "Epoch 135/200\n",
      "912/912 [==============================] - 48s 53ms/step - loss: 0.0166 - val_loss: 0.0332\n",
      "Epoch 136/200\n",
      "912/912 [==============================] - 48s 53ms/step - loss: 0.0158 - val_loss: 0.0349\n",
      "Epoch 137/200\n",
      "912/912 [==============================] - 48s 52ms/step - loss: 0.0159 - val_loss: 0.0324\n",
      "Epoch 138/200\n",
      "912/912 [==============================] - 48s 52ms/step - loss: 0.0155 - val_loss: 0.0350\n",
      "Epoch 139/200\n",
      "912/912 [==============================] - 46s 50ms/step - loss: 0.0155 - val_loss: 0.0344\n",
      "Epoch 140/200\n",
      "912/912 [==============================] - 42s 46ms/step - loss: 0.0167 - val_loss: 0.0353\n",
      "Epoch 141/200\n",
      "912/912 [==============================] - 42s 46ms/step - loss: 0.0152 - val_loss: 0.0356\n",
      "Epoch 142/200\n",
      "912/912 [==============================] - 42s 46ms/step - loss: 0.0158 - val_loss: 0.0328\n",
      "Epoch 143/200\n",
      "912/912 [==============================] - 42s 46ms/step - loss: 0.0149 - val_loss: 0.0296\n",
      "Epoch 144/200\n",
      "912/912 [==============================] - 42s 46ms/step - loss: 0.0159 - val_loss: 0.0366\n",
      "Epoch 145/200\n",
      "912/912 [==============================] - 42s 46ms/step - loss: 0.0151 - val_loss: 0.0351\n",
      "Epoch 146/200\n",
      "912/912 [==============================] - 42s 46ms/step - loss: 0.0155 - val_loss: 0.0319\n",
      "Epoch 147/200\n",
      "912/912 [==============================] - 42s 46ms/step - loss: 0.0146 - val_loss: 0.0326\n",
      "Epoch 148/200\n",
      "912/912 [==============================] - 42s 46ms/step - loss: 0.0156 - val_loss: 0.0340\n",
      "Epoch 149/200\n",
      "912/912 [==============================] - 42s 46ms/step - loss: 0.0157 - val_loss: 0.0317\n",
      "Epoch 150/200\n",
      "912/912 [==============================] - 42s 46ms/step - loss: 0.0150 - val_loss: 0.0346\n",
      "Epoch 151/200\n",
      "912/912 [==============================] - 42s 46ms/step - loss: 0.0149 - val_loss: 0.0351\n",
      "Epoch 152/200\n",
      "912/912 [==============================] - 42s 46ms/step - loss: 0.0144 - val_loss: 0.0347\n",
      "Epoch 153/200\n",
      "912/912 [==============================] - 42s 46ms/step - loss: 0.0150 - val_loss: 0.0381\n",
      "Epoch 154/200\n",
      "912/912 [==============================] - 42s 46ms/step - loss: 0.0151 - val_loss: 0.0319\n",
      "Epoch 155/200\n",
      "912/912 [==============================] - 42s 46ms/step - loss: 0.0151 - val_loss: 0.0332\n",
      "Epoch 156/200\n",
      "912/912 [==============================] - 42s 46ms/step - loss: 0.0153 - val_loss: 0.0288\n",
      "Epoch 157/200\n",
      "912/912 [==============================] - 42s 47ms/step - loss: 0.0144 - val_loss: 0.0337\n",
      "Epoch 158/200\n",
      "912/912 [==============================] - 42s 46ms/step - loss: 0.0140 - val_loss: 0.0343\n",
      "Epoch 159/200\n",
      "912/912 [==============================] - 42s 46ms/step - loss: 0.0143 - val_loss: 0.0281\n",
      "Epoch 160/200\n",
      "912/912 [==============================] - 42s 46ms/step - loss: 0.0141 - val_loss: 0.0286\n",
      "Epoch 161/200\n",
      "912/912 [==============================] - 42s 46ms/step - loss: 0.0143 - val_loss: 0.0394\n",
      "Epoch 162/200\n",
      "912/912 [==============================] - 42s 46ms/step - loss: 0.0140 - val_loss: 0.0337\n",
      "Epoch 163/200\n",
      "912/912 [==============================] - 42s 46ms/step - loss: 0.0142 - val_loss: 0.0366\n",
      "Epoch 164/200\n",
      "912/912 [==============================] - 42s 46ms/step - loss: 0.0140 - val_loss: 0.0360\n",
      "Epoch 165/200\n",
      "912/912 [==============================] - 42s 46ms/step - loss: 0.0138 - val_loss: 0.0346\n",
      "Epoch 166/200\n",
      "912/912 [==============================] - 42s 46ms/step - loss: 0.0136 - val_loss: 0.0300\n",
      "Epoch 167/200\n",
      "912/912 [==============================] - 42s 46ms/step - loss: 0.0142 - val_loss: 0.0315\n",
      "Epoch 168/200\n",
      "912/912 [==============================] - 42s 46ms/step - loss: 0.0140 - val_loss: 0.0334\n",
      "Epoch 169/200\n",
      "912/912 [==============================] - 42s 46ms/step - loss: 0.0134 - val_loss: 0.0352\n",
      "Epoch 170/200\n",
      "912/912 [==============================] - 42s 46ms/step - loss: 0.0138 - val_loss: 0.0302\n",
      "Epoch 171/200\n",
      "912/912 [==============================] - 42s 46ms/step - loss: 0.0136 - val_loss: 0.0345\n",
      "Epoch 172/200\n",
      "912/912 [==============================] - 42s 46ms/step - loss: 0.0140 - val_loss: 0.0285\n",
      "Epoch 173/200\n",
      "912/912 [==============================] - 42s 46ms/step - loss: 0.0131 - val_loss: 0.0331\n",
      "Epoch 174/200\n",
      "912/912 [==============================] - 42s 46ms/step - loss: 0.0139 - val_loss: 0.0319\n",
      "Epoch 175/200\n",
      "912/912 [==============================] - 42s 46ms/step - loss: 0.0137 - val_loss: 0.0345\n",
      "Epoch 176/200\n",
      "912/912 [==============================] - 42s 46ms/step - loss: 0.0130 - val_loss: 0.0337\n",
      "Epoch 177/200\n",
      "912/912 [==============================] - 42s 46ms/step - loss: 0.0134 - val_loss: 0.0324\n",
      "Epoch 178/200\n",
      "912/912 [==============================] - 42s 46ms/step - loss: 0.0136 - val_loss: 0.0347\n",
      "Epoch 179/200\n",
      "912/912 [==============================] - 42s 47ms/step - loss: 0.0136 - val_loss: 0.0306\n",
      "Epoch 180/200\n",
      "912/912 [==============================] - 42s 46ms/step - loss: 0.0132 - val_loss: 0.0325\n",
      "Epoch 181/200\n",
      "912/912 [==============================] - 42s 46ms/step - loss: 0.0132 - val_loss: 0.0333\n",
      "Epoch 182/200\n",
      "912/912 [==============================] - 42s 46ms/step - loss: 0.0135 - val_loss: 0.0268\n",
      "Epoch 183/200\n",
      "912/912 [==============================] - 42s 46ms/step - loss: 0.0132 - val_loss: 0.0333\n",
      "Epoch 184/200\n",
      "912/912 [==============================] - 42s 47ms/step - loss: 0.0133 - val_loss: 0.0313\n",
      "Epoch 185/200\n",
      "912/912 [==============================] - 42s 46ms/step - loss: 0.0135 - val_loss: 0.0357\n",
      "Epoch 186/200\n",
      "912/912 [==============================] - 42s 46ms/step - loss: 0.0133 - val_loss: 0.0303\n",
      "Epoch 187/200\n",
      "912/912 [==============================] - 42s 46ms/step - loss: 0.0127 - val_loss: 0.0345\n",
      "Epoch 188/200\n",
      "912/912 [==============================] - 42s 47ms/step - loss: 0.0128 - val_loss: 0.0334\n",
      "Epoch 189/200\n",
      "912/912 [==============================] - 42s 46ms/step - loss: 0.0134 - val_loss: 0.0309\n",
      "Epoch 190/200\n",
      "912/912 [==============================] - 42s 46ms/step - loss: 0.0126 - val_loss: 0.0313\n",
      "Epoch 191/200\n",
      "912/912 [==============================] - 42s 46ms/step - loss: 0.0130 - val_loss: 0.0363\n",
      "Epoch 192/200\n",
      "912/912 [==============================] - 42s 47ms/step - loss: 0.0128 - val_loss: 0.0307\n",
      "Epoch 193/200\n",
      "912/912 [==============================] - 42s 46ms/step - loss: 0.0136 - val_loss: 0.0314\n",
      "Epoch 194/200\n",
      "912/912 [==============================] - 43s 47ms/step - loss: 0.0127 - val_loss: 0.0334\n",
      "Epoch 195/200\n",
      "912/912 [==============================] - 42s 47ms/step - loss: 0.0129 - val_loss: 0.0357\n",
      "Epoch 196/200\n",
      "912/912 [==============================] - 42s 47ms/step - loss: 0.0124 - val_loss: 0.0312\n",
      "Epoch 197/200\n",
      "912/912 [==============================] - 43s 47ms/step - loss: 0.0125 - val_loss: 0.0398\n",
      "Epoch 198/200\n",
      "912/912 [==============================] - 42s 46ms/step - loss: 0.0125 - val_loss: 0.0330\n",
      "Epoch 199/200\n",
      "912/912 [==============================] - 42s 46ms/step - loss: 0.0130 - val_loss: 0.0313\n",
      "Epoch 200/200\n",
      "912/912 [==============================] - 43s 47ms/step - loss: 0.0122 - val_loss: 0.0317\n"
     ]
    },
    {
     "data": {
      "text/plain": "<keras.callbacks.History at 0x20c8caedd00>"
     },
     "execution_count": 64,
     "metadata": {},
     "output_type": "execute_result"
    }
   ],
   "source": [
    "model.fit(X_train_reshaped, y_train, validation_split=0.5, epochs=200, batch_size=24, shuffle=True, workers=24, use_multiprocessing=True)"
   ],
   "metadata": {
    "collapsed": false,
    "pycharm": {
     "name": "#%%\n"
    }
   }
  },
  {
   "cell_type": "code",
   "execution_count": 65,
   "outputs": [],
   "source": [
    "from pickle import dump\n",
    "model.save(\"solar_generation_model.h5\")\n",
    "dump(sc, open(\"solar_generation_scaler.pkl\", \"wb\"))\n"
   ],
   "metadata": {
    "collapsed": false,
    "pycharm": {
     "name": "#%%\n"
    }
   }
  },
  {
   "cell_type": "code",
   "execution_count": null,
   "outputs": [],
   "source": [],
   "metadata": {
    "collapsed": false
   }
  },
  {
   "cell_type": "code",
   "execution_count": null,
   "outputs": [],
   "source": [],
   "metadata": {
    "collapsed": false
   }
  },
  {
   "cell_type": "code",
   "execution_count": null,
   "outputs": [],
   "source": [],
   "metadata": {
    "collapsed": false
   }
  },
  {
   "cell_type": "code",
   "execution_count": null,
   "outputs": [],
   "source": [],
   "metadata": {
    "collapsed": false
   }
  },
  {
   "cell_type": "code",
   "execution_count": null,
   "outputs": [],
   "source": [],
   "metadata": {
    "collapsed": false
   }
  },
  {
   "cell_type": "code",
   "execution_count": null,
   "outputs": [],
   "source": [],
   "metadata": {
    "collapsed": false
   }
  },
  {
   "cell_type": "code",
   "execution_count": null,
   "outputs": [],
   "source": [],
   "metadata": {
    "collapsed": false
   }
  },
  {
   "cell_type": "code",
   "execution_count": null,
   "outputs": [],
   "source": [],
   "metadata": {
    "collapsed": false
   }
  },
  {
   "cell_type": "code",
   "execution_count": null,
   "outputs": [],
   "source": [],
   "metadata": {
    "collapsed": false
   }
  },
  {
   "cell_type": "code",
   "execution_count": null,
   "outputs": [],
   "source": [],
   "metadata": {
    "collapsed": false
   }
  },
  {
   "cell_type": "code",
   "execution_count": null,
   "outputs": [],
   "source": [],
   "metadata": {
    "collapsed": false
   }
  },
  {
   "cell_type": "code",
   "execution_count": null,
   "outputs": [],
   "source": [],
   "metadata": {
    "collapsed": false
   }
  },
  {
   "cell_type": "code",
   "execution_count": 60,
   "outputs": [],
   "source": [
    "# units = dimensionality of the output space\n",
    "\n",
    "\n",
    "def create_RNN(hidden_units, dense_units, input_shape, activation):\n",
    "    model = Sequential()\n",
    "    model.add(SimpleRNN(hidden_units, input_shape=input_shape,\n",
    "                        activation=activation[0]))\n",
    "    model.add(Dense(units=dense_units, activation=activation[1]))\n",
    "    model.compile(loss='mean_squared_error', optimizer='adam')\n",
    "    return model\n",
    "\n",
    "demo_model = create_RNN(hidden_units=2, dense_units=1, input_shape=(3,1), activation=['relu', 'relu'])"
   ],
   "metadata": {
    "collapsed": false
   }
  },
  {
   "cell_type": "code",
   "execution_count": null,
   "outputs": [],
   "source": [],
   "metadata": {
    "collapsed": false
   }
  }
 ],
 "metadata": {
  "kernelspec": {
   "display_name": "Python 3",
   "language": "python",
   "name": "python3"
  },
  "language_info": {
   "codemirror_mode": {
    "name": "ipython",
    "version": 2
   },
   "file_extension": ".py",
   "mimetype": "text/x-python",
   "name": "python",
   "nbconvert_exporter": "python",
   "pygments_lexer": "ipython2",
   "version": "2.7.6"
  }
 },
 "nbformat": 4,
 "nbformat_minor": 0
}
