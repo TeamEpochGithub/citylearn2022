{
 "cells": [
  {
   "cell_type": "code",
   "execution_count": 2,
   "metadata": {
    "collapsed": true
   },
   "outputs": [],
   "source": [
    "from pandas import read_csv\n",
    "import numpy as np\n",
    "from tensorflow import keras\n",
    "from keras.models import Sequential\n",
    "from keras.layers import Dense, SimpleRNN\n",
    "from sklearn.preprocessing import MinMaxScaler\n",
    "from sklearn.metrics import mean_squared_error\n",
    "import math\n",
    "import matplotlib.pyplot as plt\n"
   ]
  },
  {
   "cell_type": "code",
   "execution_count": 3,
   "outputs": [
    {
     "data": {
      "text/plain": "       month  day_type  hour  outdoor_dry_bulb  \\\n0        8.0       1.0   1.0              20.1   \n1        8.0       1.0   2.0              19.7   \n2        8.0       1.0   3.0              19.3   \n3        8.0       1.0   4.0              18.9   \n4        8.0       1.0   5.0              18.3   \n...      ...       ...   ...               ...   \n43785    7.0       1.0  18.0              21.1   \n43786    7.0       1.0  19.0              20.6   \n43787    7.0       1.0  20.0              21.1   \n43788    7.0       1.0  21.0              21.7   \n43789    7.0       1.0  22.0              21.3   \n\n       outdoor_dry_bulb_temperature_predicted_6h  \\\n0                                           19.4   \n1                                           21.1   \n2                                           22.2   \n3                                           21.7   \n4                                           22.2   \n...                                          ...   \n43785                                       20.0   \n43786                                       20.1   \n43787                                       19.7   \n43788                                       19.3   \n43789                                       18.9   \n\n       outdoor_dry_bulb_temperature_predicted_12h  \\\n0                                            22.8   \n1                                            22.2   \n2                                            22.8   \n3                                            22.2   \n4                                            21.1   \n...                                           ...   \n43785                                        18.3   \n43786                                        19.4   \n43787                                        21.1   \n43788                                        22.2   \n43789                                        21.7   \n\n       outdoor_dry_bulb_temperature_predicted_24h  outdoor_relative_humidity  \\\n0                                            19.4                       79.0   \n1                                            19.4                       78.0   \n2                                            19.4                       78.0   \n3                                            18.9                       78.0   \n4                                            18.3                       81.0   \n...                                           ...                        ...   \n43785                                        20.6                       81.0   \n43786                                        20.6                       84.0   \n43787                                        20.0                       81.0   \n43788                                        20.6                       79.0   \n43789                                        20.6                       76.0   \n\n       outdoor_relative_humidity_predicted_6h  \\\n0                                        79.0   \n1                                        73.0   \n2                                        71.0   \n3                                        73.0   \n4                                        71.0   \n...                                       ...   \n43785                                    84.0   \n43786                                    79.0   \n43787                                    78.0   \n43788                                    78.0   \n43789                                    78.0   \n\n       outdoor_relative_humidity_predicted_12h  ...  \\\n0                                         71.0  ...   \n1                                         73.0  ...   \n2                                         71.0  ...   \n3                                         71.0  ...   \n4                                         76.0  ...   \n...                                        ...  ...   \n43785                                     81.0  ...   \n43786                                     79.0  ...   \n43787                                     73.0  ...   \n43788                                     71.0  ...   \n43789                                     73.0  ...   \n\n       direct_solar_irradiance_predicted_6h  \\\n0                                     444.0   \n1                                     592.0   \n2                                     491.0   \n3                                     734.0   \n4                                     811.0   \n...                                     ...   \n43785                                   0.0   \n43786                                   0.0   \n43787                                   0.0   \n43788                                   0.0   \n43789                                   0.0   \n\n       direct_solar_irradiance_predicted_12h  \\\n0                                      747.0   \n1                                      291.0   \n2                                      153.0   \n3                                      174.0   \n4                                      396.0   \n...                                      ...   \n43785                                  100.0   \n43786                                  444.0   \n43787                                  592.0   \n43788                                  491.0   \n43789                                  734.0   \n\n       direct_solar_irradiance_predicted_24h  carbon_intensity  \\\n0                                        0.0          0.157319   \n1                                        0.0          0.154503   \n2                                        0.0          0.150945   \n3                                        0.0          0.151820   \n4                                        0.0          0.158088   \n...                                      ...               ...   \n43785                                  320.0          0.225739   \n43786                                  143.0          0.222553   \n43787                                    0.0          0.216094   \n43788                                    0.0          0.215501   \n43789                                    0.0          0.202315   \n\n       solar_generation  electricity_pricing  \\\n0              0.000000                 0.22   \n1              0.000000                 0.22   \n2              0.000000                 0.22   \n3              0.000000                 0.22   \n4              0.000000                 0.22   \n...                 ...                  ...   \n43785          0.124717                 0.54   \n43786          0.016283                 0.54   \n43787          0.000000                 0.54   \n43788          0.000000                 0.22   \n43789          0.000000                 0.22   \n\n       electricity_pricing_predicted_6h  electricity_pricing_predicted_12h  \\\n0                                  0.22                               0.22   \n1                                  0.22                               0.22   \n2                                  0.22                               0.22   \n3                                  0.22                               0.54   \n4                                  0.22                               0.54   \n...                                 ...                                ...   \n43785                              0.22                               0.22   \n43786                              0.22                               0.22   \n43787                              0.22                               0.22   \n43788                              0.22                               0.22   \n43789                              0.22                               0.22   \n\n       electricity_pricing_predicted_24h  solar_generation_future  \n0                                   0.22                 0.000000  \n1                                   0.22                 0.000000  \n2                                   0.22                 0.000000  \n3                                   0.22                 0.000000  \n4                                   0.22                 0.058017  \n...                                  ...                      ...  \n43785                               0.54                 0.016283  \n43786                               0.54                 0.000000  \n43787                               0.54                 0.000000  \n43788                               0.22                 0.000000  \n43789                               0.22                 0.000000  \n\n[43790 rows x 26 columns]",
      "text/html": "<div>\n<style scoped>\n    .dataframe tbody tr th:only-of-type {\n        vertical-align: middle;\n    }\n\n    .dataframe tbody tr th {\n        vertical-align: top;\n    }\n\n    .dataframe thead th {\n        text-align: right;\n    }\n</style>\n<table border=\"1\" class=\"dataframe\">\n  <thead>\n    <tr style=\"text-align: right;\">\n      <th></th>\n      <th>month</th>\n      <th>day_type</th>\n      <th>hour</th>\n      <th>outdoor_dry_bulb</th>\n      <th>outdoor_dry_bulb_temperature_predicted_6h</th>\n      <th>outdoor_dry_bulb_temperature_predicted_12h</th>\n      <th>outdoor_dry_bulb_temperature_predicted_24h</th>\n      <th>outdoor_relative_humidity</th>\n      <th>outdoor_relative_humidity_predicted_6h</th>\n      <th>outdoor_relative_humidity_predicted_12h</th>\n      <th>...</th>\n      <th>direct_solar_irradiance_predicted_6h</th>\n      <th>direct_solar_irradiance_predicted_12h</th>\n      <th>direct_solar_irradiance_predicted_24h</th>\n      <th>carbon_intensity</th>\n      <th>solar_generation</th>\n      <th>electricity_pricing</th>\n      <th>electricity_pricing_predicted_6h</th>\n      <th>electricity_pricing_predicted_12h</th>\n      <th>electricity_pricing_predicted_24h</th>\n      <th>solar_generation_future</th>\n    </tr>\n  </thead>\n  <tbody>\n    <tr>\n      <th>0</th>\n      <td>8.0</td>\n      <td>1.0</td>\n      <td>1.0</td>\n      <td>20.1</td>\n      <td>19.4</td>\n      <td>22.8</td>\n      <td>19.4</td>\n      <td>79.0</td>\n      <td>79.0</td>\n      <td>71.0</td>\n      <td>...</td>\n      <td>444.0</td>\n      <td>747.0</td>\n      <td>0.0</td>\n      <td>0.157319</td>\n      <td>0.000000</td>\n      <td>0.22</td>\n      <td>0.22</td>\n      <td>0.22</td>\n      <td>0.22</td>\n      <td>0.000000</td>\n    </tr>\n    <tr>\n      <th>1</th>\n      <td>8.0</td>\n      <td>1.0</td>\n      <td>2.0</td>\n      <td>19.7</td>\n      <td>21.1</td>\n      <td>22.2</td>\n      <td>19.4</td>\n      <td>78.0</td>\n      <td>73.0</td>\n      <td>73.0</td>\n      <td>...</td>\n      <td>592.0</td>\n      <td>291.0</td>\n      <td>0.0</td>\n      <td>0.154503</td>\n      <td>0.000000</td>\n      <td>0.22</td>\n      <td>0.22</td>\n      <td>0.22</td>\n      <td>0.22</td>\n      <td>0.000000</td>\n    </tr>\n    <tr>\n      <th>2</th>\n      <td>8.0</td>\n      <td>1.0</td>\n      <td>3.0</td>\n      <td>19.3</td>\n      <td>22.2</td>\n      <td>22.8</td>\n      <td>19.4</td>\n      <td>78.0</td>\n      <td>71.0</td>\n      <td>71.0</td>\n      <td>...</td>\n      <td>491.0</td>\n      <td>153.0</td>\n      <td>0.0</td>\n      <td>0.150945</td>\n      <td>0.000000</td>\n      <td>0.22</td>\n      <td>0.22</td>\n      <td>0.22</td>\n      <td>0.22</td>\n      <td>0.000000</td>\n    </tr>\n    <tr>\n      <th>3</th>\n      <td>8.0</td>\n      <td>1.0</td>\n      <td>4.0</td>\n      <td>18.9</td>\n      <td>21.7</td>\n      <td>22.2</td>\n      <td>18.9</td>\n      <td>78.0</td>\n      <td>73.0</td>\n      <td>71.0</td>\n      <td>...</td>\n      <td>734.0</td>\n      <td>174.0</td>\n      <td>0.0</td>\n      <td>0.151820</td>\n      <td>0.000000</td>\n      <td>0.22</td>\n      <td>0.22</td>\n      <td>0.54</td>\n      <td>0.22</td>\n      <td>0.000000</td>\n    </tr>\n    <tr>\n      <th>4</th>\n      <td>8.0</td>\n      <td>1.0</td>\n      <td>5.0</td>\n      <td>18.3</td>\n      <td>22.2</td>\n      <td>21.1</td>\n      <td>18.3</td>\n      <td>81.0</td>\n      <td>71.0</td>\n      <td>76.0</td>\n      <td>...</td>\n      <td>811.0</td>\n      <td>396.0</td>\n      <td>0.0</td>\n      <td>0.158088</td>\n      <td>0.000000</td>\n      <td>0.22</td>\n      <td>0.22</td>\n      <td>0.54</td>\n      <td>0.22</td>\n      <td>0.058017</td>\n    </tr>\n    <tr>\n      <th>...</th>\n      <td>...</td>\n      <td>...</td>\n      <td>...</td>\n      <td>...</td>\n      <td>...</td>\n      <td>...</td>\n      <td>...</td>\n      <td>...</td>\n      <td>...</td>\n      <td>...</td>\n      <td>...</td>\n      <td>...</td>\n      <td>...</td>\n      <td>...</td>\n      <td>...</td>\n      <td>...</td>\n      <td>...</td>\n      <td>...</td>\n      <td>...</td>\n      <td>...</td>\n      <td>...</td>\n    </tr>\n    <tr>\n      <th>43785</th>\n      <td>7.0</td>\n      <td>1.0</td>\n      <td>18.0</td>\n      <td>21.1</td>\n      <td>20.0</td>\n      <td>18.3</td>\n      <td>20.6</td>\n      <td>81.0</td>\n      <td>84.0</td>\n      <td>81.0</td>\n      <td>...</td>\n      <td>0.0</td>\n      <td>100.0</td>\n      <td>320.0</td>\n      <td>0.225739</td>\n      <td>0.124717</td>\n      <td>0.54</td>\n      <td>0.22</td>\n      <td>0.22</td>\n      <td>0.54</td>\n      <td>0.016283</td>\n    </tr>\n    <tr>\n      <th>43786</th>\n      <td>7.0</td>\n      <td>1.0</td>\n      <td>19.0</td>\n      <td>20.6</td>\n      <td>20.1</td>\n      <td>19.4</td>\n      <td>20.6</td>\n      <td>84.0</td>\n      <td>79.0</td>\n      <td>79.0</td>\n      <td>...</td>\n      <td>0.0</td>\n      <td>444.0</td>\n      <td>143.0</td>\n      <td>0.222553</td>\n      <td>0.016283</td>\n      <td>0.54</td>\n      <td>0.22</td>\n      <td>0.22</td>\n      <td>0.54</td>\n      <td>0.000000</td>\n    </tr>\n    <tr>\n      <th>43787</th>\n      <td>7.0</td>\n      <td>1.0</td>\n      <td>20.0</td>\n      <td>21.1</td>\n      <td>19.7</td>\n      <td>21.1</td>\n      <td>20.0</td>\n      <td>81.0</td>\n      <td>78.0</td>\n      <td>73.0</td>\n      <td>...</td>\n      <td>0.0</td>\n      <td>592.0</td>\n      <td>0.0</td>\n      <td>0.216094</td>\n      <td>0.000000</td>\n      <td>0.54</td>\n      <td>0.22</td>\n      <td>0.22</td>\n      <td>0.54</td>\n      <td>0.000000</td>\n    </tr>\n    <tr>\n      <th>43788</th>\n      <td>7.0</td>\n      <td>1.0</td>\n      <td>21.0</td>\n      <td>21.7</td>\n      <td>19.3</td>\n      <td>22.2</td>\n      <td>20.6</td>\n      <td>79.0</td>\n      <td>78.0</td>\n      <td>71.0</td>\n      <td>...</td>\n      <td>0.0</td>\n      <td>491.0</td>\n      <td>0.0</td>\n      <td>0.215501</td>\n      <td>0.000000</td>\n      <td>0.22</td>\n      <td>0.22</td>\n      <td>0.22</td>\n      <td>0.22</td>\n      <td>0.000000</td>\n    </tr>\n    <tr>\n      <th>43789</th>\n      <td>7.0</td>\n      <td>1.0</td>\n      <td>22.0</td>\n      <td>21.3</td>\n      <td>18.9</td>\n      <td>21.7</td>\n      <td>20.6</td>\n      <td>76.0</td>\n      <td>78.0</td>\n      <td>73.0</td>\n      <td>...</td>\n      <td>0.0</td>\n      <td>734.0</td>\n      <td>0.0</td>\n      <td>0.202315</td>\n      <td>0.000000</td>\n      <td>0.22</td>\n      <td>0.22</td>\n      <td>0.22</td>\n      <td>0.22</td>\n      <td>0.000000</td>\n    </tr>\n  </tbody>\n</table>\n<p>43790 rows × 26 columns</p>\n</div>"
     },
     "execution_count": 3,
     "metadata": {},
     "output_type": "execute_result"
    }
   ],
   "source": [
    "import pandas as pd\n",
    "from data import citylearn_challenge_2022_phase_1 as competition_data\n",
    "import os.path as osp\n",
    "\n",
    "solargen_data_path = osp.join(osp.dirname(competition_data.__file__), \"solar_data.csv\")\n",
    "solargen_data = pd.read_csv(solargen_data_path)\n",
    "\n",
    "# for i in range(5):\n",
    "#     plt.plot(solargen_data[\"non_shiftable_load\"][i*8760 : 8760 + i*8760])\n",
    "#     plt.show()\n",
    "solargen_data"
   ],
   "metadata": {
    "collapsed": false
   }
  },
  {
   "cell_type": "code",
   "execution_count": 4,
   "outputs": [],
   "source": [
    "selected_params = [\"diffuse_solar_irradiance\", \"direct_solar_irradiance\", \"solar_generation\", \"solar_generation_future\"] # \"outdoor_dry_bulb\", \"outdoor_relative_humidity\",\n",
    "solargen_data = solargen_data[selected_params]"
   ],
   "metadata": {
    "collapsed": false
   }
  },
  {
   "cell_type": "code",
   "execution_count": 5,
   "outputs": [
    {
     "data": {
      "text/plain": "       diffuse_solar_irradiance  direct_solar_irradiance  solar_generation  \\\n0                           0.0                      0.0          0.000000   \n1                           0.0                      0.0          0.000000   \n2                           0.0                      0.0          0.000000   \n3                           0.0                      0.0          0.000000   \n4                           0.0                      0.0          0.000000   \n...                         ...                      ...               ...   \n43785                     218.0                    289.0          0.124717   \n43786                      26.0                    130.0          0.016283   \n43787                       0.0                      0.0          0.000000   \n43788                       0.0                      0.0          0.000000   \n43789                       0.0                      0.0          0.000000   \n\n       solar_generation_future  \n0                     0.000000  \n1                     0.000000  \n2                     0.000000  \n3                     0.000000  \n4                     0.058017  \n...                        ...  \n43785                 0.016283  \n43786                 0.000000  \n43787                 0.000000  \n43788                 0.000000  \n43789                 0.000000  \n\n[43790 rows x 4 columns]",
      "text/html": "<div>\n<style scoped>\n    .dataframe tbody tr th:only-of-type {\n        vertical-align: middle;\n    }\n\n    .dataframe tbody tr th {\n        vertical-align: top;\n    }\n\n    .dataframe thead th {\n        text-align: right;\n    }\n</style>\n<table border=\"1\" class=\"dataframe\">\n  <thead>\n    <tr style=\"text-align: right;\">\n      <th></th>\n      <th>diffuse_solar_irradiance</th>\n      <th>direct_solar_irradiance</th>\n      <th>solar_generation</th>\n      <th>solar_generation_future</th>\n    </tr>\n  </thead>\n  <tbody>\n    <tr>\n      <th>0</th>\n      <td>0.0</td>\n      <td>0.0</td>\n      <td>0.000000</td>\n      <td>0.000000</td>\n    </tr>\n    <tr>\n      <th>1</th>\n      <td>0.0</td>\n      <td>0.0</td>\n      <td>0.000000</td>\n      <td>0.000000</td>\n    </tr>\n    <tr>\n      <th>2</th>\n      <td>0.0</td>\n      <td>0.0</td>\n      <td>0.000000</td>\n      <td>0.000000</td>\n    </tr>\n    <tr>\n      <th>3</th>\n      <td>0.0</td>\n      <td>0.0</td>\n      <td>0.000000</td>\n      <td>0.000000</td>\n    </tr>\n    <tr>\n      <th>4</th>\n      <td>0.0</td>\n      <td>0.0</td>\n      <td>0.000000</td>\n      <td>0.058017</td>\n    </tr>\n    <tr>\n      <th>...</th>\n      <td>...</td>\n      <td>...</td>\n      <td>...</td>\n      <td>...</td>\n    </tr>\n    <tr>\n      <th>43785</th>\n      <td>218.0</td>\n      <td>289.0</td>\n      <td>0.124717</td>\n      <td>0.016283</td>\n    </tr>\n    <tr>\n      <th>43786</th>\n      <td>26.0</td>\n      <td>130.0</td>\n      <td>0.016283</td>\n      <td>0.000000</td>\n    </tr>\n    <tr>\n      <th>43787</th>\n      <td>0.0</td>\n      <td>0.0</td>\n      <td>0.000000</td>\n      <td>0.000000</td>\n    </tr>\n    <tr>\n      <th>43788</th>\n      <td>0.0</td>\n      <td>0.0</td>\n      <td>0.000000</td>\n      <td>0.000000</td>\n    </tr>\n    <tr>\n      <th>43789</th>\n      <td>0.0</td>\n      <td>0.0</td>\n      <td>0.000000</td>\n      <td>0.000000</td>\n    </tr>\n  </tbody>\n</table>\n<p>43790 rows × 4 columns</p>\n</div>"
     },
     "execution_count": 5,
     "metadata": {},
     "output_type": "execute_result"
    }
   ],
   "source": [
    "solargen_data"
   ],
   "metadata": {
    "collapsed": false
   }
  },
  {
   "cell_type": "code",
   "execution_count": 6,
   "outputs": [
    {
     "name": "stdout",
     "output_type": "stream",
     "text": [
      "(43790, 3)\n",
      "(43790, 1)\n"
     ]
    }
   ],
   "source": [
    "from sklearn.preprocessing import StandardScaler\n",
    "sc = StandardScaler()\n",
    "# solargen_data = solargen_data[0:8760]\n",
    "df_load_scaled = sc.fit_transform(solargen_data)\n",
    "df_load_scaled = np.delete(df_load_scaled, -1, axis=1)\n",
    "print(df_load_scaled.shape)\n",
    "\n",
    "sc2 = StandardScaler()\n",
    "df_load_scaled_y = sc2.fit_transform(solargen_data[[\"solar_generation_future\"]])\n",
    "print(df_load_scaled_y.shape)"
   ],
   "metadata": {
    "collapsed": false,
    "pycharm": {
     "name": "#%%\n"
    }
   }
  },
  {
   "cell_type": "code",
   "execution_count": 7,
   "outputs": [
    {
     "name": "stdout",
     "output_type": "stream",
     "text": [
      "(43766, 24, 3)\n",
      "(43766,)\n"
     ]
    }
   ],
   "source": [
    "hops = 24\n",
    "no_records = df_load_scaled_y.shape[0]\n",
    "no_cols = len(selected_params) - 1\n",
    "X_train = []\n",
    "y_train = []\n",
    "for i in range(hops, no_records):\n",
    "    X_train.append(df_load_scaled[i-hops:i])\n",
    "    y_train.append(df_load_scaled_y[i][0])\n",
    "X_train, y_train = np.array(X_train), np.array(y_train)\n",
    "\n",
    "print(X_train.shape)\n",
    "print(y_train.shape)"
   ],
   "metadata": {
    "collapsed": false,
    "pycharm": {
     "name": "#%%\n"
    }
   }
  },
  {
   "cell_type": "code",
   "execution_count": 8,
   "outputs": [],
   "source": [
    "X_train_reshaped = np.reshape(X_train, (X_train.shape[0], X_train.shape[1], X_train.shape[2]))"
   ],
   "metadata": {
    "collapsed": false
   }
  },
  {
   "cell_type": "code",
   "execution_count": 9,
   "outputs": [
    {
     "data": {
      "text/plain": "(43766, 24, 3)"
     },
     "execution_count": 9,
     "metadata": {},
     "output_type": "execute_result"
    }
   ],
   "source": [
    "X_train_reshaped.shape"
   ],
   "metadata": {
    "collapsed": false
   }
  },
  {
   "cell_type": "code",
   "execution_count": 10,
   "outputs": [],
   "source": [
    "from keras.models import Sequential\n",
    "from keras.layers import Dense, LSTM, Dropout\n",
    "\n",
    "model=Sequential()\n",
    "model.add(LSTM(units=64, return_sequences=True, input_shape=(hops,no_cols)))\n",
    "model.add(Dropout(0.2))\n",
    "model.add(LSTM(units=64))\n",
    "model.add(Dropout(0.2))\n",
    "model.add(Dense(1))\n",
    "model.compile(optimizer='adam', loss='mean_squared_error')"
   ],
   "metadata": {
    "collapsed": false
   }
  },
  {
   "cell_type": "code",
   "execution_count": 11,
   "outputs": [
    {
     "name": "stdout",
     "output_type": "stream",
     "text": [
      "Epoch 1/200\n",
      "912/912 [==============================] - 53s 49ms/step - loss: 0.1383 - val_loss: 0.0857\n",
      "Epoch 2/200\n",
      "912/912 [==============================] - 50s 54ms/step - loss: 0.0853 - val_loss: 0.0652\n",
      "Epoch 3/200\n",
      "912/912 [==============================] - 53s 58ms/step - loss: 0.0771 - val_loss: 0.0609\n",
      "Epoch 4/200\n",
      "912/912 [==============================] - 52s 57ms/step - loss: 0.0715 - val_loss: 0.0614\n",
      "Epoch 5/200\n",
      "912/912 [==============================] - 87s 95ms/step - loss: 0.0690 - val_loss: 0.0574\n",
      "Epoch 6/200\n",
      "912/912 [==============================] - 78s 86ms/step - loss: 0.0666 - val_loss: 0.0632\n",
      "Epoch 7/200\n",
      "912/912 [==============================] - 82s 90ms/step - loss: 0.0664 - val_loss: 0.0608\n",
      "Epoch 8/200\n",
      "912/912 [==============================] - 93s 103ms/step - loss: 0.0635 - val_loss: 0.0622\n",
      "Epoch 9/200\n",
      "912/912 [==============================] - 95s 104ms/step - loss: 0.0634 - val_loss: 0.0559\n",
      "Epoch 10/200\n",
      "912/912 [==============================] - 97s 106ms/step - loss: 0.0627 - val_loss: 0.0561\n",
      "Epoch 11/200\n",
      "912/912 [==============================] - 97s 106ms/step - loss: 0.0615 - val_loss: 0.0571\n",
      "Epoch 12/200\n",
      "912/912 [==============================] - 100s 110ms/step - loss: 0.0611 - val_loss: 0.0550\n",
      "Epoch 13/200\n",
      "912/912 [==============================] - 99s 108ms/step - loss: 0.0597 - val_loss: 0.0583\n",
      "Epoch 14/200\n",
      "912/912 [==============================] - 82s 90ms/step - loss: 0.0587 - val_loss: 0.0582\n",
      "Epoch 15/200\n",
      "912/912 [==============================] - 52s 57ms/step - loss: 0.0585 - val_loss: 0.0551\n",
      "Epoch 16/200\n",
      "912/912 [==============================] - 48s 53ms/step - loss: 0.0572 - val_loss: 0.0521\n",
      "Epoch 17/200\n",
      "912/912 [==============================] - 47s 52ms/step - loss: 0.0574 - val_loss: 0.0557\n",
      "Epoch 18/200\n",
      "912/912 [==============================] - 47s 51ms/step - loss: 0.0575 - val_loss: 0.0564\n",
      "Epoch 19/200\n",
      "912/912 [==============================] - 47s 52ms/step - loss: 0.0563 - val_loss: 0.0539\n",
      "Epoch 20/200\n",
      "912/912 [==============================] - 48s 53ms/step - loss: 0.0550 - val_loss: 0.0512\n",
      "Epoch 21/200\n",
      "912/912 [==============================] - 47s 52ms/step - loss: 0.0551 - val_loss: 0.0513\n",
      "Epoch 22/200\n",
      "912/912 [==============================] - 47s 52ms/step - loss: 0.0546 - val_loss: 0.0543\n",
      "Epoch 23/200\n",
      "912/912 [==============================] - 48s 53ms/step - loss: 0.0534 - val_loss: 0.0512\n",
      "Epoch 24/200\n",
      "912/912 [==============================] - 48s 52ms/step - loss: 0.0529 - val_loss: 0.0510\n",
      "Epoch 25/200\n",
      "912/912 [==============================] - 48s 53ms/step - loss: 0.0527 - val_loss: 0.0524\n",
      "Epoch 26/200\n",
      "912/912 [==============================] - 49s 54ms/step - loss: 0.0532 - val_loss: 0.0501\n",
      "Epoch 27/200\n",
      "912/912 [==============================] - 49s 53ms/step - loss: 0.0521 - val_loss: 0.0513\n",
      "Epoch 28/200\n",
      "912/912 [==============================] - 49s 53ms/step - loss: 0.0515 - val_loss: 0.0494\n",
      "Epoch 29/200\n",
      "912/912 [==============================] - 49s 53ms/step - loss: 0.0510 - val_loss: 0.0479\n",
      "Epoch 30/200\n",
      "912/912 [==============================] - 49s 54ms/step - loss: 0.0506 - val_loss: 0.0494\n",
      "Epoch 31/200\n",
      "912/912 [==============================] - 49s 54ms/step - loss: 0.0499 - val_loss: 0.0496\n",
      "Epoch 32/200\n",
      "912/912 [==============================] - 50s 54ms/step - loss: 0.0488 - val_loss: 0.0473\n",
      "Epoch 33/200\n",
      "912/912 [==============================] - 50s 55ms/step - loss: 0.0491 - val_loss: 0.0477\n",
      "Epoch 34/200\n",
      "912/912 [==============================] - 50s 54ms/step - loss: 0.0483 - val_loss: 0.0448\n",
      "Epoch 35/200\n",
      "912/912 [==============================] - 50s 55ms/step - loss: 0.0480 - val_loss: 0.0455\n",
      "Epoch 36/200\n",
      "912/912 [==============================] - 50s 55ms/step - loss: 0.0469 - val_loss: 0.0543\n",
      "Epoch 37/200\n",
      "912/912 [==============================] - 51s 56ms/step - loss: 0.0467 - val_loss: 0.0482\n",
      "Epoch 38/200\n",
      "912/912 [==============================] - 51s 55ms/step - loss: 0.0453 - val_loss: 0.0477\n",
      "Epoch 39/200\n",
      "912/912 [==============================] - 51s 56ms/step - loss: 0.0450 - val_loss: 0.0524\n",
      "Epoch 40/200\n",
      "912/912 [==============================] - 51s 56ms/step - loss: 0.0442 - val_loss: 0.0461\n",
      "Epoch 41/200\n",
      "912/912 [==============================] - 51s 56ms/step - loss: 0.0435 - val_loss: 0.0449\n",
      "Epoch 42/200\n",
      "912/912 [==============================] - 52s 57ms/step - loss: 0.0425 - val_loss: 0.0448\n",
      "Epoch 43/200\n",
      "912/912 [==============================] - 53s 58ms/step - loss: 0.0421 - val_loss: 0.0414\n",
      "Epoch 44/200\n",
      "912/912 [==============================] - 54s 59ms/step - loss: 0.0415 - val_loss: 0.0450\n",
      "Epoch 45/200\n",
      "912/912 [==============================] - 54s 59ms/step - loss: 0.0408 - val_loss: 0.0400\n",
      "Epoch 46/200\n",
      "912/912 [==============================] - 55s 60ms/step - loss: 0.0399 - val_loss: 0.0414\n",
      "Epoch 47/200\n",
      "912/912 [==============================] - 84s 92ms/step - loss: 0.0394 - val_loss: 0.0420\n",
      "Epoch 48/200\n",
      " 13/912 [..............................] - ETA: 1:08 - loss: 0.0314"
     ]
    },
    {
     "name": "stderr",
     "output_type": "stream",
     "text": [
      "\n",
      "KeyboardInterrupt\n",
      "\n"
     ]
    }
   ],
   "source": [
    "model.fit(X_train_reshaped, y_train, validation_split=0.5, epochs=200, batch_size=24, shuffle=True, workers=24, use_multiprocessing=True)"
   ],
   "metadata": {
    "collapsed": false,
    "pycharm": {
     "name": "#%%\n"
    }
   }
  },
  {
   "cell_type": "code",
   "execution_count": null,
   "outputs": [],
   "source": [
    "from pickle import dump\n",
    "model.save(\"solar_generation_model.h5\")\n",
    "dump(sc, open(\"solar_generation_scaler.pkl\", \"wb\"))\n"
   ],
   "metadata": {
    "collapsed": false,
    "pycharm": {
     "name": "#%%\n"
    }
   }
  },
  {
   "cell_type": "code",
   "execution_count": null,
   "outputs": [],
   "source": [],
   "metadata": {
    "collapsed": false
   }
  },
  {
   "cell_type": "code",
   "execution_count": null,
   "outputs": [],
   "source": [],
   "metadata": {
    "collapsed": false
   }
  },
  {
   "cell_type": "code",
   "execution_count": null,
   "outputs": [],
   "source": [],
   "metadata": {
    "collapsed": false
   }
  },
  {
   "cell_type": "code",
   "execution_count": null,
   "outputs": [],
   "source": [],
   "metadata": {
    "collapsed": false
   }
  },
  {
   "cell_type": "code",
   "execution_count": null,
   "outputs": [],
   "source": [],
   "metadata": {
    "collapsed": false
   }
  },
  {
   "cell_type": "code",
   "execution_count": null,
   "outputs": [],
   "source": [],
   "metadata": {
    "collapsed": false
   }
  },
  {
   "cell_type": "code",
   "execution_count": null,
   "outputs": [],
   "source": [],
   "metadata": {
    "collapsed": false
   }
  },
  {
   "cell_type": "code",
   "execution_count": null,
   "outputs": [],
   "source": [],
   "metadata": {
    "collapsed": false
   }
  },
  {
   "cell_type": "code",
   "execution_count": null,
   "outputs": [],
   "source": [],
   "metadata": {
    "collapsed": false
   }
  },
  {
   "cell_type": "code",
   "execution_count": null,
   "outputs": [],
   "source": [],
   "metadata": {
    "collapsed": false
   }
  },
  {
   "cell_type": "code",
   "execution_count": null,
   "outputs": [],
   "source": [],
   "metadata": {
    "collapsed": false
   }
  },
  {
   "cell_type": "code",
   "execution_count": null,
   "outputs": [],
   "source": [],
   "metadata": {
    "collapsed": false
   }
  },
  {
   "cell_type": "code",
   "execution_count": 60,
   "outputs": [],
   "source": [
    "# units = dimensionality of the output space\n",
    "\n",
    "\n",
    "def create_RNN(hidden_units, dense_units, input_shape, activation):\n",
    "    model = Sequential()\n",
    "    model.add(SimpleRNN(hidden_units, input_shape=input_shape,\n",
    "                        activation=activation[0]))\n",
    "    model.add(Dense(units=dense_units, activation=activation[1]))\n",
    "    model.compile(loss='mean_squared_error', optimizer='adam')\n",
    "    return model\n",
    "\n",
    "demo_model = create_RNN(hidden_units=2, dense_units=1, input_shape=(3,1), activation=['relu', 'relu'])"
   ],
   "metadata": {
    "collapsed": false
   }
  },
  {
   "cell_type": "code",
   "execution_count": null,
   "outputs": [],
   "source": [],
   "metadata": {
    "collapsed": false
   }
  }
 ],
 "metadata": {
  "kernelspec": {
   "display_name": "Python 3",
   "language": "python",
   "name": "python3"
  },
  "language_info": {
   "codemirror_mode": {
    "name": "ipython",
    "version": 2
   },
   "file_extension": ".py",
   "mimetype": "text/x-python",
   "name": "python",
   "nbconvert_exporter": "python",
   "pygments_lexer": "ipython2",
   "version": "2.7.6"
  }
 },
 "nbformat": 4,
 "nbformat_minor": 0
}