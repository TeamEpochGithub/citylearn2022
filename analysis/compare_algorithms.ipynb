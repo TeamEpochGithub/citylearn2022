{
 "cells": [
  {
   "cell_type": "code",
   "execution_count": null,
   "metadata": {
    "collapsed": true,
    "pycharm": {
     "name": "#%%\n"
    }
   },
   "outputs": [],
   "source": [
    "from traineval.train_eval import TrainerEvaluator\n",
    "\n",
    "\n"
   ]
  },
  {
   "cell_type": "code",
   "execution_count": null,
   "outputs": [],
   "source": [
    "from traineval.utils.convert_arguments import get_environment_arguments\n",
    "\n",
    "district_args = [\"hour\",\n",
    "                 \"month\",\n",
    "                 \"carbon_intensity\",\n",
    "                 \"electricity_pricing\"]\n",
    "\n",
    "building_args = [\"non_shiftable_load\",\n",
    "                 \"solar_generation\",\n",
    "                 \"electrical_storage_soc\",\n",
    "                 \"net_electricity_consumption\"]\n",
    "\n",
    "environment_arguments = get_environment_arguments(district_args, building_args)\n",
    "\n",
    "trainer_evaluator = TrainerEvaluator(epochs=100)\n",
    "# trainer = trainer_evaluator.setup_trainer(environment_arguments=environment_arguments)\n",
    "# trainer_evaluator.run_trainer(trainer)\n",
    "\n",
    "averaged_score = trainer_evaluator.run_evaluation(environment_arguments=environment_arguments,\n",
    "                                                  model_type=\"ppo\", model_seed=\"0\", model_iteration=\"3\")\n",
    "print(averaged_score)"
   ],
   "metadata": {
    "collapsed": false,
    "pycharm": {
     "name": "#%%\n"
    }
   }
  },
  {
   "cell_type": "code",
   "execution_count": null,
   "outputs": [],
   "source": [],
   "metadata": {
    "collapsed": false,
    "pycharm": {
     "name": "#%%\n"
    }
   }
  }
 ],
 "metadata": {
  "kernelspec": {
   "display_name": "Python 3",
   "language": "python",
   "name": "python3"
  },
  "language_info": {
   "codemirror_mode": {
    "name": "ipython",
    "version": 2
   },
   "file_extension": ".py",
   "mimetype": "text/x-python",
   "name": "python",
   "nbconvert_exporter": "python",
   "pygments_lexer": "ipython2",
   "version": "2.7.6"
  }
 },
 "nbformat": 4,
 "nbformat_minor": 0
}