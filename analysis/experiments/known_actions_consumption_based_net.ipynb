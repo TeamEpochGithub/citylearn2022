{
 "cells": [
  {
   "cell_type": "code",
   "execution_count": 109,
   "metadata": {
    "collapsed": true
   },
   "outputs": [],
   "source": [
    "import tensorflow as tf\n",
    "import os.path as osp\n",
    "from analysis import analysis_data\n",
    "import pandas as pd"
   ]
  },
  {
   "cell_type": "code",
   "execution_count": 110,
   "outputs": [],
   "source": [
    "known_data_path = osp.join(osp.dirname(analysis_data.__file__), \"known_consumption_performance.csv\")\n",
    "df_known = pd.read_csv(known_data_path)\n",
    "\n",
    "historic_consumptions_data_path = osp.join(osp.dirname(analysis_data.__file__), \"historic_consumptions.csv\")\n",
    "df_historic_consumptions = pd.read_csv(historic_consumptions_data_path)\n"
   ],
   "metadata": {
    "collapsed": false
   }
  },
  {
   "cell_type": "code",
   "execution_count": 111,
   "outputs": [],
   "source": [
    "df_known = pd.concat([df_known, df_historic_consumptions], axis=1)"
   ],
   "metadata": {
    "collapsed": false
   }
  },
  {
   "cell_type": "code",
   "execution_count": 112,
   "outputs": [
    {
     "data": {
      "text/plain": "    0  -0.13299479166666672  0.0        2.2758      2.2758.1  0.0.1  \\\n0   1         -2.141667e-01  0.0  2.188750e+00  2.188750e+00    0.0   \n1   2         -1.591444e-08  0.0  1.009623e-07  1.009623e-07    0.0   \n2   3         -3.012760e-01  0.0  2.819150e+00  2.819150e+00    0.0   \n3   4         -8.060677e-02  0.0  7.714333e-01  7.714333e-01    0.0   \n4   0         -1.304063e-01  0.0  8.511667e-01  8.511667e-01    0.0   \n5   1         -1.720703e-01  0.0  1.370667e+00  1.370667e+00    0.0   \n6   2         -1.575549e-08  0.0  1.018524e-07  1.018524e-07    0.0   \n7   3         -7.434635e-02  0.0  1.928167e+00  1.928167e+00    0.0   \n8   4         -7.860156e-02  0.0  5.158833e-01  5.158833e-01    0.0   \n9   0         -1.309635e-01  0.0  8.346000e-01  8.346000e-01    0.0   \n10  1         -8.487760e-02  0.0  1.101250e+00  1.101250e+00    0.0   \n11  2         -1.573563e-08  0.0  1.008352e-07  1.008352e-07    0.0   \n12  3         -7.159896e-02  0.0  4.758167e-01  4.758167e-01    0.0   \n13  4         -8.374219e-02  0.0  5.030500e-01  5.030500e-01    0.0   \n14  0         -2.310052e-01  0.0  8.381667e-01  8.381667e-01    0.0   \n15  1         -8.481771e-02  0.0  5.432167e-01  5.432167e-01    0.0   \n16  2         -1.587470e-08  0.0  1.007080e-07  1.007080e-07    0.0   \n17  3         -6.969010e-02  0.0  4.582333e-01  4.582333e-01    0.0   \n18  4         -8.009635e-02  0.0  5.359500e-01  5.359500e-01    0.0   \n19  0         -1.962812e-01  0.0  1.478433e+00  1.478433e+00    0.0   \n\n    0.1707244126403808  0.22             0           0.1       0.2  0.3  0.4  \\\n0             0.170724  0.22  0.000000e+00  0.000000e+00  0.000000  0.0  0.0   \n1             0.170724  0.22  0.000000e+00  0.000000e+00  0.000000  0.0  0.0   \n2             0.170724  0.22  0.000000e+00  0.000000e+00  0.000000  0.0  0.0   \n3             0.170724  0.22  0.000000e+00  0.000000e+00  0.000000  0.0  0.0   \n4             0.157319  0.22  0.000000e+00  0.000000e+00  0.000000  0.0  0.0   \n5             0.157319  0.22  0.000000e+00  0.000000e+00  0.000000  0.0  0.0   \n6             0.157319  0.22  0.000000e+00  0.000000e+00  0.000000  0.0  0.0   \n7             0.157319  0.22  0.000000e+00  0.000000e+00  0.000000  0.0  0.0   \n8             0.157319  0.22  0.000000e+00  0.000000e+00  0.000000  0.0  0.0   \n9             0.154503  0.22  8.511667e-01  0.000000e+00  0.000000  0.0  0.0   \n10            0.154503  0.22  1.370667e+00  0.000000e+00  0.000000  0.0  0.0   \n11            0.154503  0.22  1.018524e-07  0.000000e+00  0.000000  0.0  0.0   \n12            0.154503  0.22  1.928167e+00  0.000000e+00  0.000000  0.0  0.0   \n13            0.154503  0.22  5.158833e-01  0.000000e+00  0.000000  0.0  0.0   \n14            0.150945  0.22  8.346000e-01  8.511667e-01  0.000000  0.0  0.0   \n15            0.150945  0.22  1.101250e+00  1.370667e+00  0.000000  0.0  0.0   \n16            0.150945  0.22  1.008352e-07  1.018524e-07  0.000000  0.0  0.0   \n17            0.150945  0.22  4.758167e-01  1.928167e+00  0.000000  0.0  0.0   \n18            0.150945  0.22  5.030500e-01  5.158833e-01  0.000000  0.0  0.0   \n19            0.151820  0.22  8.381667e-01  8.346000e-01  0.851167  0.0  0.0   \n\n    0.5  0.6  0.7  0.8  0.9  \n0   0.0  0.0  0.0  0.0  0.0  \n1   0.0  0.0  0.0  0.0  0.0  \n2   0.0  0.0  0.0  0.0  0.0  \n3   0.0  0.0  0.0  0.0  0.0  \n4   0.0  0.0  0.0  0.0  0.0  \n5   0.0  0.0  0.0  0.0  0.0  \n6   0.0  0.0  0.0  0.0  0.0  \n7   0.0  0.0  0.0  0.0  0.0  \n8   0.0  0.0  0.0  0.0  0.0  \n9   0.0  0.0  0.0  0.0  0.0  \n10  0.0  0.0  0.0  0.0  0.0  \n11  0.0  0.0  0.0  0.0  0.0  \n12  0.0  0.0  0.0  0.0  0.0  \n13  0.0  0.0  0.0  0.0  0.0  \n14  0.0  0.0  0.0  0.0  0.0  \n15  0.0  0.0  0.0  0.0  0.0  \n16  0.0  0.0  0.0  0.0  0.0  \n17  0.0  0.0  0.0  0.0  0.0  \n18  0.0  0.0  0.0  0.0  0.0  \n19  0.0  0.0  0.0  0.0  0.0  ",
      "text/html": "<div>\n<style scoped>\n    .dataframe tbody tr th:only-of-type {\n        vertical-align: middle;\n    }\n\n    .dataframe tbody tr th {\n        vertical-align: top;\n    }\n\n    .dataframe thead th {\n        text-align: right;\n    }\n</style>\n<table border=\"1\" class=\"dataframe\">\n  <thead>\n    <tr style=\"text-align: right;\">\n      <th></th>\n      <th>0</th>\n      <th>-0.13299479166666672</th>\n      <th>0.0</th>\n      <th>2.2758</th>\n      <th>2.2758.1</th>\n      <th>0.0.1</th>\n      <th>0.1707244126403808</th>\n      <th>0.22</th>\n      <th>0</th>\n      <th>0.1</th>\n      <th>0.2</th>\n      <th>0.3</th>\n      <th>0.4</th>\n      <th>0.5</th>\n      <th>0.6</th>\n      <th>0.7</th>\n      <th>0.8</th>\n      <th>0.9</th>\n    </tr>\n  </thead>\n  <tbody>\n    <tr>\n      <th>0</th>\n      <td>1</td>\n      <td>-2.141667e-01</td>\n      <td>0.0</td>\n      <td>2.188750e+00</td>\n      <td>2.188750e+00</td>\n      <td>0.0</td>\n      <td>0.170724</td>\n      <td>0.22</td>\n      <td>0.000000e+00</td>\n      <td>0.000000e+00</td>\n      <td>0.000000</td>\n      <td>0.0</td>\n      <td>0.0</td>\n      <td>0.0</td>\n      <td>0.0</td>\n      <td>0.0</td>\n      <td>0.0</td>\n      <td>0.0</td>\n    </tr>\n    <tr>\n      <th>1</th>\n      <td>2</td>\n      <td>-1.591444e-08</td>\n      <td>0.0</td>\n      <td>1.009623e-07</td>\n      <td>1.009623e-07</td>\n      <td>0.0</td>\n      <td>0.170724</td>\n      <td>0.22</td>\n      <td>0.000000e+00</td>\n      <td>0.000000e+00</td>\n      <td>0.000000</td>\n      <td>0.0</td>\n      <td>0.0</td>\n      <td>0.0</td>\n      <td>0.0</td>\n      <td>0.0</td>\n      <td>0.0</td>\n      <td>0.0</td>\n    </tr>\n    <tr>\n      <th>2</th>\n      <td>3</td>\n      <td>-3.012760e-01</td>\n      <td>0.0</td>\n      <td>2.819150e+00</td>\n      <td>2.819150e+00</td>\n      <td>0.0</td>\n      <td>0.170724</td>\n      <td>0.22</td>\n      <td>0.000000e+00</td>\n      <td>0.000000e+00</td>\n      <td>0.000000</td>\n      <td>0.0</td>\n      <td>0.0</td>\n      <td>0.0</td>\n      <td>0.0</td>\n      <td>0.0</td>\n      <td>0.0</td>\n      <td>0.0</td>\n    </tr>\n    <tr>\n      <th>3</th>\n      <td>4</td>\n      <td>-8.060677e-02</td>\n      <td>0.0</td>\n      <td>7.714333e-01</td>\n      <td>7.714333e-01</td>\n      <td>0.0</td>\n      <td>0.170724</td>\n      <td>0.22</td>\n      <td>0.000000e+00</td>\n      <td>0.000000e+00</td>\n      <td>0.000000</td>\n      <td>0.0</td>\n      <td>0.0</td>\n      <td>0.0</td>\n      <td>0.0</td>\n      <td>0.0</td>\n      <td>0.0</td>\n      <td>0.0</td>\n    </tr>\n    <tr>\n      <th>4</th>\n      <td>0</td>\n      <td>-1.304063e-01</td>\n      <td>0.0</td>\n      <td>8.511667e-01</td>\n      <td>8.511667e-01</td>\n      <td>0.0</td>\n      <td>0.157319</td>\n      <td>0.22</td>\n      <td>0.000000e+00</td>\n      <td>0.000000e+00</td>\n      <td>0.000000</td>\n      <td>0.0</td>\n      <td>0.0</td>\n      <td>0.0</td>\n      <td>0.0</td>\n      <td>0.0</td>\n      <td>0.0</td>\n      <td>0.0</td>\n    </tr>\n    <tr>\n      <th>5</th>\n      <td>1</td>\n      <td>-1.720703e-01</td>\n      <td>0.0</td>\n      <td>1.370667e+00</td>\n      <td>1.370667e+00</td>\n      <td>0.0</td>\n      <td>0.157319</td>\n      <td>0.22</td>\n      <td>0.000000e+00</td>\n      <td>0.000000e+00</td>\n      <td>0.000000</td>\n      <td>0.0</td>\n      <td>0.0</td>\n      <td>0.0</td>\n      <td>0.0</td>\n      <td>0.0</td>\n      <td>0.0</td>\n      <td>0.0</td>\n    </tr>\n    <tr>\n      <th>6</th>\n      <td>2</td>\n      <td>-1.575549e-08</td>\n      <td>0.0</td>\n      <td>1.018524e-07</td>\n      <td>1.018524e-07</td>\n      <td>0.0</td>\n      <td>0.157319</td>\n      <td>0.22</td>\n      <td>0.000000e+00</td>\n      <td>0.000000e+00</td>\n      <td>0.000000</td>\n      <td>0.0</td>\n      <td>0.0</td>\n      <td>0.0</td>\n      <td>0.0</td>\n      <td>0.0</td>\n      <td>0.0</td>\n      <td>0.0</td>\n    </tr>\n    <tr>\n      <th>7</th>\n      <td>3</td>\n      <td>-7.434635e-02</td>\n      <td>0.0</td>\n      <td>1.928167e+00</td>\n      <td>1.928167e+00</td>\n      <td>0.0</td>\n      <td>0.157319</td>\n      <td>0.22</td>\n      <td>0.000000e+00</td>\n      <td>0.000000e+00</td>\n      <td>0.000000</td>\n      <td>0.0</td>\n      <td>0.0</td>\n      <td>0.0</td>\n      <td>0.0</td>\n      <td>0.0</td>\n      <td>0.0</td>\n      <td>0.0</td>\n    </tr>\n    <tr>\n      <th>8</th>\n      <td>4</td>\n      <td>-7.860156e-02</td>\n      <td>0.0</td>\n      <td>5.158833e-01</td>\n      <td>5.158833e-01</td>\n      <td>0.0</td>\n      <td>0.157319</td>\n      <td>0.22</td>\n      <td>0.000000e+00</td>\n      <td>0.000000e+00</td>\n      <td>0.000000</td>\n      <td>0.0</td>\n      <td>0.0</td>\n      <td>0.0</td>\n      <td>0.0</td>\n      <td>0.0</td>\n      <td>0.0</td>\n      <td>0.0</td>\n    </tr>\n    <tr>\n      <th>9</th>\n      <td>0</td>\n      <td>-1.309635e-01</td>\n      <td>0.0</td>\n      <td>8.346000e-01</td>\n      <td>8.346000e-01</td>\n      <td>0.0</td>\n      <td>0.154503</td>\n      <td>0.22</td>\n      <td>8.511667e-01</td>\n      <td>0.000000e+00</td>\n      <td>0.000000</td>\n      <td>0.0</td>\n      <td>0.0</td>\n      <td>0.0</td>\n      <td>0.0</td>\n      <td>0.0</td>\n      <td>0.0</td>\n      <td>0.0</td>\n    </tr>\n    <tr>\n      <th>10</th>\n      <td>1</td>\n      <td>-8.487760e-02</td>\n      <td>0.0</td>\n      <td>1.101250e+00</td>\n      <td>1.101250e+00</td>\n      <td>0.0</td>\n      <td>0.154503</td>\n      <td>0.22</td>\n      <td>1.370667e+00</td>\n      <td>0.000000e+00</td>\n      <td>0.000000</td>\n      <td>0.0</td>\n      <td>0.0</td>\n      <td>0.0</td>\n      <td>0.0</td>\n      <td>0.0</td>\n      <td>0.0</td>\n      <td>0.0</td>\n    </tr>\n    <tr>\n      <th>11</th>\n      <td>2</td>\n      <td>-1.573563e-08</td>\n      <td>0.0</td>\n      <td>1.008352e-07</td>\n      <td>1.008352e-07</td>\n      <td>0.0</td>\n      <td>0.154503</td>\n      <td>0.22</td>\n      <td>1.018524e-07</td>\n      <td>0.000000e+00</td>\n      <td>0.000000</td>\n      <td>0.0</td>\n      <td>0.0</td>\n      <td>0.0</td>\n      <td>0.0</td>\n      <td>0.0</td>\n      <td>0.0</td>\n      <td>0.0</td>\n    </tr>\n    <tr>\n      <th>12</th>\n      <td>3</td>\n      <td>-7.159896e-02</td>\n      <td>0.0</td>\n      <td>4.758167e-01</td>\n      <td>4.758167e-01</td>\n      <td>0.0</td>\n      <td>0.154503</td>\n      <td>0.22</td>\n      <td>1.928167e+00</td>\n      <td>0.000000e+00</td>\n      <td>0.000000</td>\n      <td>0.0</td>\n      <td>0.0</td>\n      <td>0.0</td>\n      <td>0.0</td>\n      <td>0.0</td>\n      <td>0.0</td>\n      <td>0.0</td>\n    </tr>\n    <tr>\n      <th>13</th>\n      <td>4</td>\n      <td>-8.374219e-02</td>\n      <td>0.0</td>\n      <td>5.030500e-01</td>\n      <td>5.030500e-01</td>\n      <td>0.0</td>\n      <td>0.154503</td>\n      <td>0.22</td>\n      <td>5.158833e-01</td>\n      <td>0.000000e+00</td>\n      <td>0.000000</td>\n      <td>0.0</td>\n      <td>0.0</td>\n      <td>0.0</td>\n      <td>0.0</td>\n      <td>0.0</td>\n      <td>0.0</td>\n      <td>0.0</td>\n    </tr>\n    <tr>\n      <th>14</th>\n      <td>0</td>\n      <td>-2.310052e-01</td>\n      <td>0.0</td>\n      <td>8.381667e-01</td>\n      <td>8.381667e-01</td>\n      <td>0.0</td>\n      <td>0.150945</td>\n      <td>0.22</td>\n      <td>8.346000e-01</td>\n      <td>8.511667e-01</td>\n      <td>0.000000</td>\n      <td>0.0</td>\n      <td>0.0</td>\n      <td>0.0</td>\n      <td>0.0</td>\n      <td>0.0</td>\n      <td>0.0</td>\n      <td>0.0</td>\n    </tr>\n    <tr>\n      <th>15</th>\n      <td>1</td>\n      <td>-8.481771e-02</td>\n      <td>0.0</td>\n      <td>5.432167e-01</td>\n      <td>5.432167e-01</td>\n      <td>0.0</td>\n      <td>0.150945</td>\n      <td>0.22</td>\n      <td>1.101250e+00</td>\n      <td>1.370667e+00</td>\n      <td>0.000000</td>\n      <td>0.0</td>\n      <td>0.0</td>\n      <td>0.0</td>\n      <td>0.0</td>\n      <td>0.0</td>\n      <td>0.0</td>\n      <td>0.0</td>\n    </tr>\n    <tr>\n      <th>16</th>\n      <td>2</td>\n      <td>-1.587470e-08</td>\n      <td>0.0</td>\n      <td>1.007080e-07</td>\n      <td>1.007080e-07</td>\n      <td>0.0</td>\n      <td>0.150945</td>\n      <td>0.22</td>\n      <td>1.008352e-07</td>\n      <td>1.018524e-07</td>\n      <td>0.000000</td>\n      <td>0.0</td>\n      <td>0.0</td>\n      <td>0.0</td>\n      <td>0.0</td>\n      <td>0.0</td>\n      <td>0.0</td>\n      <td>0.0</td>\n    </tr>\n    <tr>\n      <th>17</th>\n      <td>3</td>\n      <td>-6.969010e-02</td>\n      <td>0.0</td>\n      <td>4.582333e-01</td>\n      <td>4.582333e-01</td>\n      <td>0.0</td>\n      <td>0.150945</td>\n      <td>0.22</td>\n      <td>4.758167e-01</td>\n      <td>1.928167e+00</td>\n      <td>0.000000</td>\n      <td>0.0</td>\n      <td>0.0</td>\n      <td>0.0</td>\n      <td>0.0</td>\n      <td>0.0</td>\n      <td>0.0</td>\n      <td>0.0</td>\n    </tr>\n    <tr>\n      <th>18</th>\n      <td>4</td>\n      <td>-8.009635e-02</td>\n      <td>0.0</td>\n      <td>5.359500e-01</td>\n      <td>5.359500e-01</td>\n      <td>0.0</td>\n      <td>0.150945</td>\n      <td>0.22</td>\n      <td>5.030500e-01</td>\n      <td>5.158833e-01</td>\n      <td>0.000000</td>\n      <td>0.0</td>\n      <td>0.0</td>\n      <td>0.0</td>\n      <td>0.0</td>\n      <td>0.0</td>\n      <td>0.0</td>\n      <td>0.0</td>\n    </tr>\n    <tr>\n      <th>19</th>\n      <td>0</td>\n      <td>-1.962812e-01</td>\n      <td>0.0</td>\n      <td>1.478433e+00</td>\n      <td>1.478433e+00</td>\n      <td>0.0</td>\n      <td>0.151820</td>\n      <td>0.22</td>\n      <td>8.381667e-01</td>\n      <td>8.346000e-01</td>\n      <td>0.851167</td>\n      <td>0.0</td>\n      <td>0.0</td>\n      <td>0.0</td>\n      <td>0.0</td>\n      <td>0.0</td>\n      <td>0.0</td>\n      <td>0.0</td>\n    </tr>\n  </tbody>\n</table>\n</div>"
     },
     "execution_count": 112,
     "metadata": {},
     "output_type": "execute_result"
    }
   ],
   "source": [
    "col_names = [\"agent_id\",\n",
    "            \"label\", # action\n",
    "            \"electrical_storage_soc\",\n",
    "            \"net_electricity_consumption\",\n",
    "            \"non_shiftable_load\",\n",
    "            \"solar_generation\",\n",
    "            \"carbon_intensity\",\n",
    "            \"electricity_pricing\"]\n",
    "\n",
    "historic_col_names = []\n",
    "for i in range(10):\n",
    "    historic_col_names.append(f\"consumption_{i + 1}hours_ago\")\n",
    "\n",
    "df_historic_consumptions.columns = historic_col_names\n",
    "df_known[:20]"
   ],
   "metadata": {
    "collapsed": false
   }
  },
  {
   "cell_type": "code",
   "execution_count": 113,
   "outputs": [],
   "source": [
    "df_slopes_09 = (df_historic_consumptions[historic_col_names[0]] - df_historic_consumptions[historic_col_names[9]]) / 10\n",
    "df_slopes_03 = (df_historic_consumptions[historic_col_names[0]] - df_historic_consumptions[historic_col_names[3]]) / 4\n",
    "slope_names = [\"slope_1_10\", \"slope_1_4\"]"
   ],
   "metadata": {
    "collapsed": false
   }
  },
  {
   "cell_type": "code",
   "execution_count": 114,
   "outputs": [
    {
     "data": {
      "text/plain": "   agent_id         label  electrical_storage_soc  \\\n0         1 -2.141667e-01                     0.0   \n1         2 -1.591444e-08                     0.0   \n2         3 -3.012760e-01                     0.0   \n3         4 -8.060677e-02                     0.0   \n4         0 -1.304063e-01                     0.0   \n\n   net_electricity_consumption  non_shiftable_load  solar_generation  \\\n0                 2.188750e+00        2.188750e+00               0.0   \n1                 1.009623e-07        1.009623e-07               0.0   \n2                 2.819150e+00        2.819150e+00               0.0   \n3                 7.714333e-01        7.714333e-01               0.0   \n4                 8.511667e-01        8.511667e-01               0.0   \n\n   carbon_intensity  electricity_pricing  consumption_1hours_ago  \\\n0          0.170724                 0.22                     0.0   \n1          0.170724                 0.22                     0.0   \n2          0.170724                 0.22                     0.0   \n3          0.170724                 0.22                     0.0   \n4          0.157319                 0.22                     0.0   \n\n   consumption_2hours_ago  consumption_3hours_ago  consumption_4hours_ago  \\\n0                     0.0                     0.0                     0.0   \n1                     0.0                     0.0                     0.0   \n2                     0.0                     0.0                     0.0   \n3                     0.0                     0.0                     0.0   \n4                     0.0                     0.0                     0.0   \n\n   consumption_5hours_ago  consumption_6hours_ago  consumption_7hours_ago  \\\n0                     0.0                     0.0                     0.0   \n1                     0.0                     0.0                     0.0   \n2                     0.0                     0.0                     0.0   \n3                     0.0                     0.0                     0.0   \n4                     0.0                     0.0                     0.0   \n\n   consumption_8hours_ago  consumption_9hours_ago  consumption_10hours_ago  \\\n0                     0.0                     0.0                      0.0   \n1                     0.0                     0.0                      0.0   \n2                     0.0                     0.0                      0.0   \n3                     0.0                     0.0                      0.0   \n4                     0.0                     0.0                      0.0   \n\n   slope_1_10  slope_1_4  \n0         0.0        0.0  \n1         0.0        0.0  \n2         0.0        0.0  \n3         0.0        0.0  \n4         0.0        0.0  ",
      "text/html": "<div>\n<style scoped>\n    .dataframe tbody tr th:only-of-type {\n        vertical-align: middle;\n    }\n\n    .dataframe tbody tr th {\n        vertical-align: top;\n    }\n\n    .dataframe thead th {\n        text-align: right;\n    }\n</style>\n<table border=\"1\" class=\"dataframe\">\n  <thead>\n    <tr style=\"text-align: right;\">\n      <th></th>\n      <th>agent_id</th>\n      <th>label</th>\n      <th>electrical_storage_soc</th>\n      <th>net_electricity_consumption</th>\n      <th>non_shiftable_load</th>\n      <th>solar_generation</th>\n      <th>carbon_intensity</th>\n      <th>electricity_pricing</th>\n      <th>consumption_1hours_ago</th>\n      <th>consumption_2hours_ago</th>\n      <th>consumption_3hours_ago</th>\n      <th>consumption_4hours_ago</th>\n      <th>consumption_5hours_ago</th>\n      <th>consumption_6hours_ago</th>\n      <th>consumption_7hours_ago</th>\n      <th>consumption_8hours_ago</th>\n      <th>consumption_9hours_ago</th>\n      <th>consumption_10hours_ago</th>\n      <th>slope_1_10</th>\n      <th>slope_1_4</th>\n    </tr>\n  </thead>\n  <tbody>\n    <tr>\n      <th>0</th>\n      <td>1</td>\n      <td>-2.141667e-01</td>\n      <td>0.0</td>\n      <td>2.188750e+00</td>\n      <td>2.188750e+00</td>\n      <td>0.0</td>\n      <td>0.170724</td>\n      <td>0.22</td>\n      <td>0.0</td>\n      <td>0.0</td>\n      <td>0.0</td>\n      <td>0.0</td>\n      <td>0.0</td>\n      <td>0.0</td>\n      <td>0.0</td>\n      <td>0.0</td>\n      <td>0.0</td>\n      <td>0.0</td>\n      <td>0.0</td>\n      <td>0.0</td>\n    </tr>\n    <tr>\n      <th>1</th>\n      <td>2</td>\n      <td>-1.591444e-08</td>\n      <td>0.0</td>\n      <td>1.009623e-07</td>\n      <td>1.009623e-07</td>\n      <td>0.0</td>\n      <td>0.170724</td>\n      <td>0.22</td>\n      <td>0.0</td>\n      <td>0.0</td>\n      <td>0.0</td>\n      <td>0.0</td>\n      <td>0.0</td>\n      <td>0.0</td>\n      <td>0.0</td>\n      <td>0.0</td>\n      <td>0.0</td>\n      <td>0.0</td>\n      <td>0.0</td>\n      <td>0.0</td>\n    </tr>\n    <tr>\n      <th>2</th>\n      <td>3</td>\n      <td>-3.012760e-01</td>\n      <td>0.0</td>\n      <td>2.819150e+00</td>\n      <td>2.819150e+00</td>\n      <td>0.0</td>\n      <td>0.170724</td>\n      <td>0.22</td>\n      <td>0.0</td>\n      <td>0.0</td>\n      <td>0.0</td>\n      <td>0.0</td>\n      <td>0.0</td>\n      <td>0.0</td>\n      <td>0.0</td>\n      <td>0.0</td>\n      <td>0.0</td>\n      <td>0.0</td>\n      <td>0.0</td>\n      <td>0.0</td>\n    </tr>\n    <tr>\n      <th>3</th>\n      <td>4</td>\n      <td>-8.060677e-02</td>\n      <td>0.0</td>\n      <td>7.714333e-01</td>\n      <td>7.714333e-01</td>\n      <td>0.0</td>\n      <td>0.170724</td>\n      <td>0.22</td>\n      <td>0.0</td>\n      <td>0.0</td>\n      <td>0.0</td>\n      <td>0.0</td>\n      <td>0.0</td>\n      <td>0.0</td>\n      <td>0.0</td>\n      <td>0.0</td>\n      <td>0.0</td>\n      <td>0.0</td>\n      <td>0.0</td>\n      <td>0.0</td>\n    </tr>\n    <tr>\n      <th>4</th>\n      <td>0</td>\n      <td>-1.304063e-01</td>\n      <td>0.0</td>\n      <td>8.511667e-01</td>\n      <td>8.511667e-01</td>\n      <td>0.0</td>\n      <td>0.157319</td>\n      <td>0.22</td>\n      <td>0.0</td>\n      <td>0.0</td>\n      <td>0.0</td>\n      <td>0.0</td>\n      <td>0.0</td>\n      <td>0.0</td>\n      <td>0.0</td>\n      <td>0.0</td>\n      <td>0.0</td>\n      <td>0.0</td>\n      <td>0.0</td>\n      <td>0.0</td>\n    </tr>\n  </tbody>\n</table>\n</div>"
     },
     "execution_count": 114,
     "metadata": {},
     "output_type": "execute_result"
    }
   ],
   "source": [
    "df_known = pd.concat([df_known, df_slopes_09, df_slopes_03], axis=1)\n",
    "df_known.columns = col_names + historic_col_names + slope_names\n",
    "df_known.head()"
   ],
   "metadata": {
    "collapsed": false
   }
  },
  {
   "cell_type": "code",
   "execution_count": 115,
   "outputs": [
    {
     "data": {
      "text/plain": "              label  net_electricity_consumption  slope_1_10  slope_1_4\n0     -2.141667e-01                 2.188750e+00    0.000000   0.000000\n1     -1.591444e-08                 1.009623e-07    0.000000   0.000000\n4     -1.304063e-01                 8.511667e-01    0.000000   0.000000\n5     -1.720703e-01                 1.370667e+00    0.000000   0.000000\n6     -1.575549e-08                 1.018524e-07    0.000000   0.000000\n...             ...                          ...         ...        ...\n43785 -2.281543e-01                 2.169461e+00    0.216825   0.477396\n43786 -1.734865e-01                -3.334302e-08    0.214300   0.197862\n43789 -3.471395e-01                 3.021500e+00    0.547100   0.275369\n43790 -5.187050e-01                 1.456333e+00    0.114963   0.646283\n43791 -1.185302e-01                -4.904763e-09    0.210063   0.108337\n\n[26276 rows x 4 columns]",
      "text/html": "<div>\n<style scoped>\n    .dataframe tbody tr th:only-of-type {\n        vertical-align: middle;\n    }\n\n    .dataframe tbody tr th {\n        vertical-align: top;\n    }\n\n    .dataframe thead th {\n        text-align: right;\n    }\n</style>\n<table border=\"1\" class=\"dataframe\">\n  <thead>\n    <tr style=\"text-align: right;\">\n      <th></th>\n      <th>label</th>\n      <th>net_electricity_consumption</th>\n      <th>slope_1_10</th>\n      <th>slope_1_4</th>\n    </tr>\n  </thead>\n  <tbody>\n    <tr>\n      <th>0</th>\n      <td>-2.141667e-01</td>\n      <td>2.188750e+00</td>\n      <td>0.000000</td>\n      <td>0.000000</td>\n    </tr>\n    <tr>\n      <th>1</th>\n      <td>-1.591444e-08</td>\n      <td>1.009623e-07</td>\n      <td>0.000000</td>\n      <td>0.000000</td>\n    </tr>\n    <tr>\n      <th>4</th>\n      <td>-1.304063e-01</td>\n      <td>8.511667e-01</td>\n      <td>0.000000</td>\n      <td>0.000000</td>\n    </tr>\n    <tr>\n      <th>5</th>\n      <td>-1.720703e-01</td>\n      <td>1.370667e+00</td>\n      <td>0.000000</td>\n      <td>0.000000</td>\n    </tr>\n    <tr>\n      <th>6</th>\n      <td>-1.575549e-08</td>\n      <td>1.018524e-07</td>\n      <td>0.000000</td>\n      <td>0.000000</td>\n    </tr>\n    <tr>\n      <th>...</th>\n      <td>...</td>\n      <td>...</td>\n      <td>...</td>\n      <td>...</td>\n    </tr>\n    <tr>\n      <th>43785</th>\n      <td>-2.281543e-01</td>\n      <td>2.169461e+00</td>\n      <td>0.216825</td>\n      <td>0.477396</td>\n    </tr>\n    <tr>\n      <th>43786</th>\n      <td>-1.734865e-01</td>\n      <td>-3.334302e-08</td>\n      <td>0.214300</td>\n      <td>0.197862</td>\n    </tr>\n    <tr>\n      <th>43789</th>\n      <td>-3.471395e-01</td>\n      <td>3.021500e+00</td>\n      <td>0.547100</td>\n      <td>0.275369</td>\n    </tr>\n    <tr>\n      <th>43790</th>\n      <td>-5.187050e-01</td>\n      <td>1.456333e+00</td>\n      <td>0.114963</td>\n      <td>0.646283</td>\n    </tr>\n    <tr>\n      <th>43791</th>\n      <td>-1.185302e-01</td>\n      <td>-4.904763e-09</td>\n      <td>0.210063</td>\n      <td>0.108337</td>\n    </tr>\n  </tbody>\n</table>\n<p>26276 rows × 4 columns</p>\n</div>"
     },
     "execution_count": 115,
     "metadata": {},
     "output_type": "execute_result"
    }
   ],
   "source": [
    "train_buildings = [0, 1, 2]\n",
    "validation_buildings = [3, 4]\n",
    "\n",
    "df_train_buildings = df_known.loc[df_known[\"agent_id\"].isin(train_buildings)]\n",
    "df_val_buildings = df_known.loc[df_known[\"agent_id\"].isin(validation_buildings)]\n",
    "\n",
    "historic_columns_cap = 2\n",
    "include_columns = [ \"label\", # action\n",
    "                    # \"electrical_storage_soc\",\n",
    "                    \"net_electricity_consumption\"]\n",
    "# include_columns += historic_col_names[:historic_columns_cap]\n",
    "include_columns += slope_names\n",
    "\n",
    "df_train_buildings = df_train_buildings[[x for x in df_train_buildings.columns if x in include_columns]]\n",
    "df_val_buildings = df_val_buildings[[x for x in df_val_buildings.columns if x in include_columns]]\n",
    "df_train_buildings"
   ],
   "metadata": {
    "collapsed": false
   }
  },
  {
   "cell_type": "code",
   "execution_count": 116,
   "outputs": [],
   "source": [
    "model = tf.keras.models.Sequential([\n",
    "  tf.keras.layers.Dense(32, activation='relu'),\n",
    "  # tf.keras.layers.Dropout(0.2),\n",
    "  tf.keras.layers.Dense(32, activation='relu'),\n",
    "  # tf.keras.layers.Dropout(0.2),\n",
    "  # tf.keras.layers.Dense(16, activation='relu'),\n",
    "  # tf.keras.layers.Dropout(0.2),\n",
    "  tf.keras.layers.Dense(1)\n",
    "])"
   ],
   "metadata": {
    "collapsed": false
   }
  },
  {
   "cell_type": "code",
   "execution_count": 117,
   "outputs": [
    {
     "name": "stdout",
     "output_type": "stream",
     "text": [
      "Epoch 1/100000\n",
      "103/103 [==============================] - 1s 3ms/step - loss: 0.0562 - mean_absolute_error: 0.1373 - val_loss: 0.0122 - val_mean_absolute_error: 0.0794\n",
      "Epoch 2/100000\n",
      "103/103 [==============================] - 0s 2ms/step - loss: 0.0147 - mean_absolute_error: 0.0826 - val_loss: 0.0118 - val_mean_absolute_error: 0.0771\n",
      "Epoch 3/100000\n",
      "103/103 [==============================] - 0s 2ms/step - loss: 0.0141 - mean_absolute_error: 0.0800 - val_loss: 0.0119 - val_mean_absolute_error: 0.0778\n",
      "Epoch 4/100000\n",
      "103/103 [==============================] - 0s 2ms/step - loss: 0.0139 - mean_absolute_error: 0.0790 - val_loss: 0.0117 - val_mean_absolute_error: 0.0769\n",
      "Epoch 5/100000\n",
      "103/103 [==============================] - 0s 2ms/step - loss: 0.0138 - mean_absolute_error: 0.0785 - val_loss: 0.0120 - val_mean_absolute_error: 0.0782\n",
      "Epoch 6/100000\n",
      "103/103 [==============================] - 0s 2ms/step - loss: 0.0138 - mean_absolute_error: 0.0783 - val_loss: 0.0118 - val_mean_absolute_error: 0.0777\n",
      "Epoch 7/100000\n",
      "103/103 [==============================] - 0s 2ms/step - loss: 0.0137 - mean_absolute_error: 0.0780 - val_loss: 0.0117 - val_mean_absolute_error: 0.0772\n",
      "Epoch 8/100000\n",
      "103/103 [==============================] - 0s 2ms/step - loss: 0.0137 - mean_absolute_error: 0.0779 - val_loss: 0.0117 - val_mean_absolute_error: 0.0772\n",
      "Epoch 9/100000\n",
      "103/103 [==============================] - 0s 2ms/step - loss: 0.0137 - mean_absolute_error: 0.0779 - val_loss: 0.0116 - val_mean_absolute_error: 0.0766\n",
      "Epoch 10/100000\n",
      "103/103 [==============================] - 0s 2ms/step - loss: 0.0136 - mean_absolute_error: 0.0776 - val_loss: 0.0117 - val_mean_absolute_error: 0.0769\n",
      "Epoch 11/100000\n",
      "103/103 [==============================] - 0s 2ms/step - loss: 0.0136 - mean_absolute_error: 0.0775 - val_loss: 0.0119 - val_mean_absolute_error: 0.0779\n",
      "Epoch 12/100000\n",
      "103/103 [==============================] - 0s 2ms/step - loss: 0.0136 - mean_absolute_error: 0.0776 - val_loss: 0.0117 - val_mean_absolute_error: 0.0767\n",
      "Epoch 13/100000\n",
      "103/103 [==============================] - 0s 2ms/step - loss: 0.0136 - mean_absolute_error: 0.0774 - val_loss: 0.0117 - val_mean_absolute_error: 0.0769\n",
      "Epoch 14/100000\n",
      "103/103 [==============================] - 0s 2ms/step - loss: 0.0136 - mean_absolute_error: 0.0774 - val_loss: 0.0117 - val_mean_absolute_error: 0.0770\n",
      "Epoch 15/100000\n",
      "103/103 [==============================] - 0s 2ms/step - loss: 0.0135 - mean_absolute_error: 0.0771 - val_loss: 0.0117 - val_mean_absolute_error: 0.0768\n",
      "Epoch 16/100000\n",
      "103/103 [==============================] - 0s 2ms/step - loss: 0.0135 - mean_absolute_error: 0.0772 - val_loss: 0.0117 - val_mean_absolute_error: 0.0774\n",
      "Epoch 17/100000\n",
      "103/103 [==============================] - 0s 2ms/step - loss: 0.0135 - mean_absolute_error: 0.0770 - val_loss: 0.0114 - val_mean_absolute_error: 0.0755\n",
      "Epoch 18/100000\n",
      "103/103 [==============================] - 0s 2ms/step - loss: 0.0135 - mean_absolute_error: 0.0773 - val_loss: 0.0115 - val_mean_absolute_error: 0.0759\n",
      "Epoch 19/100000\n",
      "103/103 [==============================] - 0s 2ms/step - loss: 0.0135 - mean_absolute_error: 0.0771 - val_loss: 0.0115 - val_mean_absolute_error: 0.0757\n",
      "Epoch 20/100000\n",
      "103/103 [==============================] - 0s 2ms/step - loss: 0.0135 - mean_absolute_error: 0.0770 - val_loss: 0.0117 - val_mean_absolute_error: 0.0768\n",
      "Epoch 21/100000\n",
      "103/103 [==============================] - 0s 2ms/step - loss: 0.0136 - mean_absolute_error: 0.0772 - val_loss: 0.0114 - val_mean_absolute_error: 0.0756\n",
      "Epoch 22/100000\n",
      "103/103 [==============================] - 0s 2ms/step - loss: 0.0135 - mean_absolute_error: 0.0771 - val_loss: 0.0116 - val_mean_absolute_error: 0.0763\n",
      "Epoch 23/100000\n",
      "103/103 [==============================] - 0s 2ms/step - loss: 0.0135 - mean_absolute_error: 0.0771 - val_loss: 0.0115 - val_mean_absolute_error: 0.0763\n",
      "Epoch 24/100000\n",
      "103/103 [==============================] - 0s 2ms/step - loss: 0.0135 - mean_absolute_error: 0.0770 - val_loss: 0.0119 - val_mean_absolute_error: 0.0776\n",
      "Epoch 25/100000\n",
      "103/103 [==============================] - 0s 2ms/step - loss: 0.0134 - mean_absolute_error: 0.0770 - val_loss: 0.0116 - val_mean_absolute_error: 0.0764\n",
      "Epoch 26/100000\n",
      "103/103 [==============================] - 0s 2ms/step - loss: 0.0134 - mean_absolute_error: 0.0769 - val_loss: 0.0117 - val_mean_absolute_error: 0.0771\n",
      "Epoch 27/100000\n",
      "103/103 [==============================] - 0s 2ms/step - loss: 0.0134 - mean_absolute_error: 0.0769 - val_loss: 0.0116 - val_mean_absolute_error: 0.0766\n",
      "Epoch 28/100000\n",
      "103/103 [==============================] - 0s 2ms/step - loss: 0.0134 - mean_absolute_error: 0.0771 - val_loss: 0.0117 - val_mean_absolute_error: 0.0773\n",
      "Epoch 29/100000\n",
      " 96/103 [==========================>...] - ETA: 0s - loss: 0.0133 - mean_absolute_error: 0.0768"
     ]
    },
    {
     "ename": "KeyboardInterrupt",
     "evalue": "",
     "output_type": "error",
     "traceback": [
      "\u001B[1;31m---------------------------------------------------------------------------\u001B[0m",
      "\u001B[1;31mKeyboardInterrupt\u001B[0m                         Traceback (most recent call last)",
      "Cell \u001B[1;32mIn [117], line 9\u001B[0m\n\u001B[0;32m      7\u001B[0m y_test \u001B[38;5;241m=\u001B[39m df_val_buildings[\u001B[38;5;124m\"\u001B[39m\u001B[38;5;124mlabel\u001B[39m\u001B[38;5;124m\"\u001B[39m]\n\u001B[0;32m      8\u001B[0m X_test \u001B[38;5;241m=\u001B[39m df_val_buildings\u001B[38;5;241m.\u001B[39mdrop([\u001B[38;5;124m\"\u001B[39m\u001B[38;5;124mlabel\u001B[39m\u001B[38;5;124m\"\u001B[39m], axis\u001B[38;5;241m=\u001B[39m\u001B[38;5;241m1\u001B[39m)\n\u001B[1;32m----> 9\u001B[0m history \u001B[38;5;241m=\u001B[39m model\u001B[38;5;241m.\u001B[39mfit(x\u001B[38;5;241m=\u001B[39mX_train, y\u001B[38;5;241m=\u001B[39my_train, batch_size\u001B[38;5;241m=\u001B[39m\u001B[38;5;241m256\u001B[39m, epochs\u001B[38;5;241m=\u001B[39m\u001B[38;5;241m100000\u001B[39m, validation_data\u001B[38;5;241m=\u001B[39m(X_test, y_test))\n",
      "File \u001B[1;32m~\\Documents\\Epoch III\\citylearn-2022-starter-kit\\venv\\lib\\site-packages\\keras\\utils\\traceback_utils.py:65\u001B[0m, in \u001B[0;36mfilter_traceback.<locals>.error_handler\u001B[1;34m(*args, **kwargs)\u001B[0m\n\u001B[0;32m     63\u001B[0m filtered_tb \u001B[38;5;241m=\u001B[39m \u001B[38;5;28;01mNone\u001B[39;00m\n\u001B[0;32m     64\u001B[0m \u001B[38;5;28;01mtry\u001B[39;00m:\n\u001B[1;32m---> 65\u001B[0m     \u001B[38;5;28;01mreturn\u001B[39;00m fn(\u001B[38;5;241m*\u001B[39margs, \u001B[38;5;241m*\u001B[39m\u001B[38;5;241m*\u001B[39mkwargs)\n\u001B[0;32m     66\u001B[0m \u001B[38;5;28;01mexcept\u001B[39;00m \u001B[38;5;167;01mException\u001B[39;00m \u001B[38;5;28;01mas\u001B[39;00m e:\n\u001B[0;32m     67\u001B[0m     filtered_tb \u001B[38;5;241m=\u001B[39m _process_traceback_frames(e\u001B[38;5;241m.\u001B[39m__traceback__)\n",
      "File \u001B[1;32m~\\Documents\\Epoch III\\citylearn-2022-starter-kit\\venv\\lib\\site-packages\\keras\\engine\\training.py:1606\u001B[0m, in \u001B[0;36mModel.fit\u001B[1;34m(self, x, y, batch_size, epochs, verbose, callbacks, validation_split, validation_data, shuffle, class_weight, sample_weight, initial_epoch, steps_per_epoch, validation_steps, validation_batch_size, validation_freq, max_queue_size, workers, use_multiprocessing)\u001B[0m\n\u001B[0;32m   1591\u001B[0m \u001B[38;5;28;01mif\u001B[39;00m \u001B[38;5;28mgetattr\u001B[39m(\u001B[38;5;28mself\u001B[39m, \u001B[38;5;124m\"\u001B[39m\u001B[38;5;124m_eval_data_handler\u001B[39m\u001B[38;5;124m\"\u001B[39m, \u001B[38;5;28;01mNone\u001B[39;00m) \u001B[38;5;129;01mis\u001B[39;00m \u001B[38;5;28;01mNone\u001B[39;00m:\n\u001B[0;32m   1592\u001B[0m     \u001B[38;5;28mself\u001B[39m\u001B[38;5;241m.\u001B[39m_eval_data_handler \u001B[38;5;241m=\u001B[39m data_adapter\u001B[38;5;241m.\u001B[39mget_data_handler(\n\u001B[0;32m   1593\u001B[0m         x\u001B[38;5;241m=\u001B[39mval_x,\n\u001B[0;32m   1594\u001B[0m         y\u001B[38;5;241m=\u001B[39mval_y,\n\u001B[1;32m   (...)\u001B[0m\n\u001B[0;32m   1604\u001B[0m         steps_per_execution\u001B[38;5;241m=\u001B[39m\u001B[38;5;28mself\u001B[39m\u001B[38;5;241m.\u001B[39m_steps_per_execution,\n\u001B[0;32m   1605\u001B[0m     )\n\u001B[1;32m-> 1606\u001B[0m val_logs \u001B[38;5;241m=\u001B[39m \u001B[38;5;28;43mself\u001B[39;49m\u001B[38;5;241;43m.\u001B[39;49m\u001B[43mevaluate\u001B[49m\u001B[43m(\u001B[49m\n\u001B[0;32m   1607\u001B[0m \u001B[43m    \u001B[49m\u001B[43mx\u001B[49m\u001B[38;5;241;43m=\u001B[39;49m\u001B[43mval_x\u001B[49m\u001B[43m,\u001B[49m\n\u001B[0;32m   1608\u001B[0m \u001B[43m    \u001B[49m\u001B[43my\u001B[49m\u001B[38;5;241;43m=\u001B[39;49m\u001B[43mval_y\u001B[49m\u001B[43m,\u001B[49m\n\u001B[0;32m   1609\u001B[0m \u001B[43m    \u001B[49m\u001B[43msample_weight\u001B[49m\u001B[38;5;241;43m=\u001B[39;49m\u001B[43mval_sample_weight\u001B[49m\u001B[43m,\u001B[49m\n\u001B[0;32m   1610\u001B[0m \u001B[43m    \u001B[49m\u001B[43mbatch_size\u001B[49m\u001B[38;5;241;43m=\u001B[39;49m\u001B[43mvalidation_batch_size\u001B[49m\u001B[43m \u001B[49m\u001B[38;5;129;43;01mor\u001B[39;49;00m\u001B[43m \u001B[49m\u001B[43mbatch_size\u001B[49m\u001B[43m,\u001B[49m\n\u001B[0;32m   1611\u001B[0m \u001B[43m    \u001B[49m\u001B[43msteps\u001B[49m\u001B[38;5;241;43m=\u001B[39;49m\u001B[43mvalidation_steps\u001B[49m\u001B[43m,\u001B[49m\n\u001B[0;32m   1612\u001B[0m \u001B[43m    \u001B[49m\u001B[43mcallbacks\u001B[49m\u001B[38;5;241;43m=\u001B[39;49m\u001B[43mcallbacks\u001B[49m\u001B[43m,\u001B[49m\n\u001B[0;32m   1613\u001B[0m \u001B[43m    \u001B[49m\u001B[43mmax_queue_size\u001B[49m\u001B[38;5;241;43m=\u001B[39;49m\u001B[43mmax_queue_size\u001B[49m\u001B[43m,\u001B[49m\n\u001B[0;32m   1614\u001B[0m \u001B[43m    \u001B[49m\u001B[43mworkers\u001B[49m\u001B[38;5;241;43m=\u001B[39;49m\u001B[43mworkers\u001B[49m\u001B[43m,\u001B[49m\n\u001B[0;32m   1615\u001B[0m \u001B[43m    \u001B[49m\u001B[43muse_multiprocessing\u001B[49m\u001B[38;5;241;43m=\u001B[39;49m\u001B[43muse_multiprocessing\u001B[49m\u001B[43m,\u001B[49m\n\u001B[0;32m   1616\u001B[0m \u001B[43m    \u001B[49m\u001B[43mreturn_dict\u001B[49m\u001B[38;5;241;43m=\u001B[39;49m\u001B[38;5;28;43;01mTrue\u001B[39;49;00m\u001B[43m,\u001B[49m\n\u001B[0;32m   1617\u001B[0m \u001B[43m    \u001B[49m\u001B[43m_use_cached_eval_dataset\u001B[49m\u001B[38;5;241;43m=\u001B[39;49m\u001B[38;5;28;43;01mTrue\u001B[39;49;00m\u001B[43m,\u001B[49m\n\u001B[0;32m   1618\u001B[0m \u001B[43m\u001B[49m\u001B[43m)\u001B[49m\n\u001B[0;32m   1619\u001B[0m val_logs \u001B[38;5;241m=\u001B[39m {\n\u001B[0;32m   1620\u001B[0m     \u001B[38;5;124m\"\u001B[39m\u001B[38;5;124mval_\u001B[39m\u001B[38;5;124m\"\u001B[39m \u001B[38;5;241m+\u001B[39m name: val \u001B[38;5;28;01mfor\u001B[39;00m name, val \u001B[38;5;129;01min\u001B[39;00m val_logs\u001B[38;5;241m.\u001B[39mitems()\n\u001B[0;32m   1621\u001B[0m }\n\u001B[0;32m   1622\u001B[0m epoch_logs\u001B[38;5;241m.\u001B[39mupdate(val_logs)\n",
      "File \u001B[1;32m~\\Documents\\Epoch III\\citylearn-2022-starter-kit\\venv\\lib\\site-packages\\keras\\utils\\traceback_utils.py:65\u001B[0m, in \u001B[0;36mfilter_traceback.<locals>.error_handler\u001B[1;34m(*args, **kwargs)\u001B[0m\n\u001B[0;32m     63\u001B[0m filtered_tb \u001B[38;5;241m=\u001B[39m \u001B[38;5;28;01mNone\u001B[39;00m\n\u001B[0;32m     64\u001B[0m \u001B[38;5;28;01mtry\u001B[39;00m:\n\u001B[1;32m---> 65\u001B[0m     \u001B[38;5;28;01mreturn\u001B[39;00m fn(\u001B[38;5;241m*\u001B[39margs, \u001B[38;5;241m*\u001B[39m\u001B[38;5;241m*\u001B[39mkwargs)\n\u001B[0;32m     66\u001B[0m \u001B[38;5;28;01mexcept\u001B[39;00m \u001B[38;5;167;01mException\u001B[39;00m \u001B[38;5;28;01mas\u001B[39;00m e:\n\u001B[0;32m     67\u001B[0m     filtered_tb \u001B[38;5;241m=\u001B[39m _process_traceback_frames(e\u001B[38;5;241m.\u001B[39m__traceback__)\n",
      "\u001B[1;31mKeyboardInterrupt\u001B[0m: "
     ]
    }
   ],
   "source": [
    "model.compile(optimizer='adam',\n",
    "              loss=tf.losses.MeanSquaredError(),\n",
    "              metrics=['mean_absolute_error'])\n",
    "y_train = df_train_buildings[\"label\"]\n",
    "X_train = df_train_buildings.drop([\"label\"], axis=1)\n",
    "\n",
    "y_test = df_val_buildings[\"label\"]\n",
    "X_test = df_val_buildings.drop([\"label\"], axis=1)\n",
    "history = model.fit(x=X_train, y=y_train, batch_size=256, epochs=100000, validation_data=(X_test, y_test))"
   ],
   "metadata": {
    "collapsed": false
   }
  },
  {
   "cell_type": "code",
   "execution_count": 23,
   "outputs": [
    {
     "data": {
      "text/plain": "       electrical_storage_soc  net_electricity_consumption\n0                    0.000000                 2.188750e+00\n1                    0.000000                 1.009623e-07\n4                    0.000000                 8.511667e-01\n5                    0.000000                 1.370667e+00\n6                    0.000000                 1.018524e-07\n...                       ...                          ...\n43785                0.000000                 2.169461e+00\n43786                0.196848                -3.334302e-08\n43789                0.000000                 3.021500e+00\n43790                0.000000                 1.456333e+00\n43791                0.006422                -4.904763e-09\n\n[26276 rows x 2 columns]",
      "text/html": "<div>\n<style scoped>\n    .dataframe tbody tr th:only-of-type {\n        vertical-align: middle;\n    }\n\n    .dataframe tbody tr th {\n        vertical-align: top;\n    }\n\n    .dataframe thead th {\n        text-align: right;\n    }\n</style>\n<table border=\"1\" class=\"dataframe\">\n  <thead>\n    <tr style=\"text-align: right;\">\n      <th></th>\n      <th>electrical_storage_soc</th>\n      <th>net_electricity_consumption</th>\n    </tr>\n  </thead>\n  <tbody>\n    <tr>\n      <th>0</th>\n      <td>0.000000</td>\n      <td>2.188750e+00</td>\n    </tr>\n    <tr>\n      <th>1</th>\n      <td>0.000000</td>\n      <td>1.009623e-07</td>\n    </tr>\n    <tr>\n      <th>4</th>\n      <td>0.000000</td>\n      <td>8.511667e-01</td>\n    </tr>\n    <tr>\n      <th>5</th>\n      <td>0.000000</td>\n      <td>1.370667e+00</td>\n    </tr>\n    <tr>\n      <th>6</th>\n      <td>0.000000</td>\n      <td>1.018524e-07</td>\n    </tr>\n    <tr>\n      <th>...</th>\n      <td>...</td>\n      <td>...</td>\n    </tr>\n    <tr>\n      <th>43785</th>\n      <td>0.000000</td>\n      <td>2.169461e+00</td>\n    </tr>\n    <tr>\n      <th>43786</th>\n      <td>0.196848</td>\n      <td>-3.334302e-08</td>\n    </tr>\n    <tr>\n      <th>43789</th>\n      <td>0.000000</td>\n      <td>3.021500e+00</td>\n    </tr>\n    <tr>\n      <th>43790</th>\n      <td>0.000000</td>\n      <td>1.456333e+00</td>\n    </tr>\n    <tr>\n      <th>43791</th>\n      <td>0.006422</td>\n      <td>-4.904763e-09</td>\n    </tr>\n  </tbody>\n</table>\n<p>26276 rows × 2 columns</p>\n</div>"
     },
     "execution_count": 23,
     "metadata": {},
     "output_type": "execute_result"
    }
   ],
   "source": [],
   "metadata": {
    "collapsed": false
   }
  },
  {
   "cell_type": "code",
   "execution_count": null,
   "outputs": [],
   "source": [],
   "metadata": {
    "collapsed": false
   }
  }
 ],
 "metadata": {
  "kernelspec": {
   "display_name": "Python 3",
   "language": "python",
   "name": "python3"
  },
  "language_info": {
   "codemirror_mode": {
    "name": "ipython",
    "version": 2
   },
   "file_extension": ".py",
   "mimetype": "text/x-python",
   "name": "python",
   "nbconvert_exporter": "python",
   "pygments_lexer": "ipython2",
   "version": "2.7.6"
  }
 },
 "nbformat": 4,
 "nbformat_minor": 0
}
