{
 "cells": [
  {
   "cell_type": "code",
   "execution_count": 1,
   "outputs": [
    {
     "name": "stdout",
     "output_type": "stream",
     "text": [
      "{'hour_0': range(1, 25), 'action_0': [-0.1, -0.08, -0.06, -0.04, -0.02, 0.0, 0.02, 0.04, 0.06, 0.08]}\n"
     ]
    }
   ],
   "source": [
    "search_space = {\n",
    "    \"hour_0\": range(1, 25),\n",
    "    # \"hour_1\": range(1, 25),\n",
    "    # \"hour_2\": range(1, 25),\n",
    "    # \"hour_3\": range(1, 25),\n",
    "    \"action_0\": [x / 50.0 for x in range(-20, 20, 1)[15:25]],\n",
    "    # \"action_1\": [x / 50.0 for x in range(-20, 20, 1)[15:25]],\n",
    "    # \"action_2\": [x / 50.0 for x in range(-20, 20, 1)[15:25]],\n",
    "    # \"action_3\": [x / 50.0 for x in range(-20, 20, 1)[15:25]],\n",
    "}\n",
    "print(search_space)"
   ],
   "metadata": {
    "collapsed": false
   }
  },
  {
   "cell_type": "code",
   "execution_count": 2,
   "outputs": [
    {
     "name": "stdout",
     "output_type": "stream",
     "text": [
      "{'hour_0': range(1, 25), 'action_0': [-0.1, -0.08, -0.06, -0.04, -0.02, 0.0, 0.02, 0.04, 0.06, 0.08]}\n"
     ]
    },
    {
     "name": "stderr",
     "output_type": "stream",
     "text": [
      "Warning: Gym version v0.24.1 has a number of critical issues with `gym.make` such that environment observation and action spaces are incorrectly evaluated, raising incorrect errors and warning . It is recommend to downgrading to v0.23.1 or upgrading to v0.25.1\n"
     ]
    },
    {
     "name": "stdout",
     "output_type": "stream",
     "text": [
      "{'hour_0': 0, 'action_0': -0.1}\n",
      "{'loss': 0.8327754494480865, 'status': 'ok'}\n",
      "{'hour_0': 0, 'action_0': -0.08}\n",
      "{'loss': 0.8327754494480865, 'status': 'ok'}\n",
      "{'hour_0': 0, 'action_0': -0.06}\n",
      "{'loss': 0.8327754494480865, 'status': 'ok'}\n",
      "{'hour_0': 0, 'action_0': -0.04}\n",
      "{'loss': 0.8327754494480865, 'status': 'ok'}\n",
      "{'hour_0': 0, 'action_0': -0.02}\n",
      "{'loss': 0.8327754494480865, 'status': 'ok'}\n",
      "{'hour_0': 0, 'action_0': 0.0}\n",
      "{'loss': 0.8327754494480865, 'status': 'ok'}\n",
      "{'hour_0': 0, 'action_0': 0.02}\n",
      "{'loss': 0.8327754494480865, 'status': 'ok'}\n",
      "{'hour_0': 0, 'action_0': 0.04}\n",
      "{'loss': 0.8327754494480865, 'status': 'ok'}\n"
     ]
    },
    {
     "name": "stderr",
     "output_type": "stream",
     "text": [
      "\n",
      "KeyboardInterrupt\n",
      "\n"
     ]
    }
   ],
   "source": [
    "print(search_space)\n",
    "from traineval.evaluation.tune_evaluation import evaluate\n",
    "\n",
    "hours = range(1, 25)\n",
    "actions = [x / 50.0 for x in range(-20, 20, 1)[15:25]]\n",
    "\n",
    "all_scores = {}\n",
    "\n",
    "for i in range(len(hours)):\n",
    "    for j in range(len(actions)):\n",
    "        params = {\"hour_0\": hours[i],\n",
    "                  \"action_0\": actions[j]}\n",
    "        loss = evaluate(params)\n",
    "        all_scores[str(params)] = loss\n",
    "        print(str(params))\n",
    "        print(loss)\n",
    "\n",
    "all_scores"
   ],
   "metadata": {
    "collapsed": false
   }
  },
  {
   "cell_type": "code",
   "execution_count": null,
   "outputs": [],
   "source": [],
   "metadata": {
    "collapsed": false,
    "pycharm": {
     "is_executing": true
    }
   }
  },
  {
   "cell_type": "code",
   "execution_count": null,
   "outputs": [],
   "source": [],
   "metadata": {
    "collapsed": false
   }
  }
 ],
 "metadata": {
  "kernelspec": {
   "display_name": "Python 3",
   "language": "python",
   "name": "python3"
  },
  "language_info": {
   "codemirror_mode": {
    "name": "ipython",
    "version": 2
   },
   "file_extension": ".py",
   "mimetype": "text/x-python",
   "name": "python",
   "nbconvert_exporter": "python",
   "pygments_lexer": "ipython2",
   "version": "2.7.6"
  }
 },
 "nbformat": 4,
 "nbformat_minor": 0
}
